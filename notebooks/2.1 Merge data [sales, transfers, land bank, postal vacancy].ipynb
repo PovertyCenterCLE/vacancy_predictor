{
 "cells": [
  {
   "cell_type": "markdown",
   "metadata": {},
   "source": [
    "# Combine Data (not from prop)\n",
    "\n",
    "Data has now been filtered for the parcel numbers in the existing dataset. The end goal is to have a dataset with one row for each parcel in which to build the model. **Imputation will occur in a separate notebook!**\n",
    "\n",
    "However, we can't forget to explore the existing data for trends or insight along the way, as well as engineer features as we see fit."
   ]
  },
  {
   "cell_type": "code",
   "execution_count": 40,
   "metadata": {
    "collapsed": false
   },
   "outputs": [
    {
     "name": "stdout",
     "output_type": "stream",
     "text": [
      "(113132, 2)\n"
     ]
    },
    {
     "name": "stderr",
     "output_type": "stream",
     "text": [
      "//anaconda/envs/vacancy/lib/python3.4/site-packages/IPython/core/interactiveshell.py:2902: DtypeWarning: Columns (0) have mixed types. Specify dtype option on import or set low_memory=False.\n",
      "  interactivity=interactivity, compiler=compiler, result=result)\n"
     ]
    }
   ],
   "source": [
    "import matplotlib.pyplot as plt\n",
    "import seaborn as sns\n",
    "import pandas as pd\n",
    "import numpy as np\n",
    "import os\n",
    "import datetime as dt\n",
    "\n",
    "%matplotlib inline\n",
    "\n",
    "path = '/'.join(os.getcwd().split('/')[:-1])\n",
    "\n",
    "tci = pd.read_csv(path+'/data/model_data/tci_1_0.csv',dtype={'Parcel ID':str}, parse_dates=['Date'])\n",
    "tci = tci[['parcel','Date']]\n",
    "\n",
    "ppns = set(tci['parcel'])\n",
    "dates = dict(zip(tci.parcel, tci.Date))\n",
    "\n",
    "print(tci.shape)"
   ]
  },
  {
   "cell_type": "markdown",
   "metadata": {},
   "source": [
    "## Arms length sales"
   ]
  },
  {
   "cell_type": "code",
   "execution_count": 42,
   "metadata": {
    "collapsed": false,
    "scrolled": true
   },
   "outputs": [],
   "source": [
    "al = pd.read_csv(path+'/data/clean_data/armslength.csv', dtype=str)\n",
    "al = al.drop_duplicates()"
   ]
  },
  {
   "cell_type": "code",
   "execution_count": 43,
   "metadata": {
    "collapsed": false
   },
   "outputs": [],
   "source": [
    "months = dict(zip(['JAN','FEB','MAR','APR','MAY','JUN','JUL','AUG','SEP','OCT','NOV','DEC'],range(1,13)))\n",
    "\n",
    "def parse_date(x):\n",
    "    day = int(x[0:2])\n",
    "    month = months[x[2:5]]\n",
    "    year = int(x[5:])\n",
    "    return dt.datetime(year,month,day)\n",
    "\n",
    "al['date'] = al.mdate.apply(parse_date)\n",
    "al = al.sort_values('date')\n",
    "# al = al[al.date < dt.date(2015,6,1)]\n",
    "\n",
    "al = al.loc[al.apply(lambda x: x.date < dates[x.PROPERTY_NUMBER], axis=1)]"
   ]
  },
  {
   "cell_type": "markdown",
   "metadata": {},
   "source": [
    "#### Grantor is mortgagee"
   ]
  },
  {
   "cell_type": "code",
   "execution_count": 44,
   "metadata": {
    "collapsed": false
   },
   "outputs": [],
   "source": [
    "# al.loc[al['GRANTOR_IS_MORTGAGEE'].notnull(),'GRANTOR_IS_MORTGAGEE'] = \\\n",
    "#     al.loc[al['GRANTOR_IS_MORTGAGEE'].notnull(),'GRANTOR_IS_MORTGAGEE'].apply(float)"
   ]
  },
  {
   "cell_type": "code",
   "execution_count": 45,
   "metadata": {
    "collapsed": false
   },
   "outputs": [],
   "source": [
    "# tem = pd.merge(tci, al.loc[al.date > dt.date(2014,6,1), ['GRANTOR_IS_MORTGAGEE','PROPERTY_NUMBER']].groupby('PROPERTY_NUMBER').count(), \\\n",
    "#                how='left', left_on='parcel', right_index=True)\n",
    "# tem.loc[tem['GRANTOR_IS_MORTGAGEE'].isnull(),'GRANTOR_IS_MORTGAGEE'] = 0\n",
    "\n",
    "# t = tem[['vacant','GRANTOR_IS_MORTGAGEE']].groupby('GRANTOR_IS_MORTGAGEE').agg([len,sum])\n",
    "# t.vacant['sum']/t.vacant['len']"
   ]
  },
  {
   "cell_type": "markdown",
   "metadata": {},
   "source": [
    "### Number of records for each parcel"
   ]
  },
  {
   "cell_type": "code",
   "execution_count": 46,
   "metadata": {
    "collapsed": false
   },
   "outputs": [],
   "source": [
    "# number of sales per year since 2006\n",
    "\n",
    "tci = pd.merge(tci, al.loc[al.date > dt.datetime(2006,1,1),['date','PROPERTY_NUMBER']]\\\n",
    "               .groupby('PROPERTY_NUMBER')\\\n",
    "               .agg(lambda x: len(x)\\\n",
    "                    /((dates[x.PROPERTY_NUMBER.iloc[0]] - dt.datetime(2006,1,1)).days/365.0))\\\n",
    "                    ,how='left', left_on='parcel', right_index=True)\n",
    "tci = tci.rename(columns = {'date':'al_num'})\n",
    "tci.loc[tci.al_num.isnull(),'al_num'] = 0"
   ]
  },
  {
   "cell_type": "code",
   "execution_count": 47,
   "metadata": {
    "collapsed": true
   },
   "outputs": [],
   "source": [
    "# days since most recent sale since 2006\n",
    "\n",
    "tci = pd.merge(tci, al.loc[al.date > dt.datetime(2006,1,1),['date','PROPERTY_NUMBER']]\\\n",
    "               .groupby('PROPERTY_NUMBER')\\\n",
    "               .last()\\\n",
    "                    ,how='left', left_on='parcel', right_index=True)\n",
    "tci = tci.rename(columns = {'date':'al_date'})\n",
    "\n",
    "tci.loc[tci.al_date.isnull(),'al_date'] = dt.datetime(2006,1,1)\n",
    "tci['al_days'] = tci.apply(lambda x: (x.Date-x.al_date).days, axis=1)\n"
   ]
  },
  {
   "cell_type": "markdown",
   "metadata": {},
   "source": [
    "### Flags for Deeds"
   ]
  },
  {
   "cell_type": "code",
   "execution_count": 48,
   "metadata": {
    "collapsed": false
   },
   "outputs": [],
   "source": [
    "# def add_deed_fields(field_names):\n",
    "#     for field_name in field_names:\n",
    "#         deed_ppns = set(al[al.DEED_TYPE==field_name].PROPERTY_NUMBER)                \n",
    "#         def get_deed_field(x):\n",
    "#             if x in deed_ppns:\n",
    "#                 return 1\n",
    "#             else:\n",
    "#                 return 0\n",
    "\n",
    "#         tci[field_name.lower().replace(' ','_')] = tci['ppn'].apply(get_deed_field)\n",
    "#     return tci\n",
    "# tci = add_deed_fields(['QUIT CLAIM DEED', 'WARRANTY DEED', 'LIMITED WARRANTY', 'SURVIVORSHIP DEED','FIDUCIARY DEED'])"
   ]
  },
  {
   "cell_type": "markdown",
   "metadata": {},
   "source": [
    "### Sale Valid {0, 1, 2}"
   ]
  },
  {
   "cell_type": "code",
   "execution_count": 49,
   "metadata": {
    "collapsed": false
   },
   "outputs": [],
   "source": [
    "# al = al.sort('YEAR_OF_SALE')\n",
    "# al[['SALE_VALID','AMOUNT_PAID','PROPERTY_NUMBER']].groupby('PROPERTY_NUMBER').last()"
   ]
  },
  {
   "cell_type": "code",
   "execution_count": 50,
   "metadata": {
    "collapsed": true
   },
   "outputs": [],
   "source": [
    "# tci = pd.merge(tci, al[['AMOUNT_PAID','PROPERTY_NUMBER']].groupby('PROPERTY_NUMBER').last(), \\\n",
    "#                how='left', left_on='ppn', right_index=True)\n",
    "# # tci.loc[tci.AMOUNT_PAID.notnull(),'SALE_VALID'] = 1\n",
    "# # tci.loc[tci.SALE_VALID.isnull(),'SALE_VALID'] = 0"
   ]
  },
  {
   "cell_type": "code",
   "execution_count": 51,
   "metadata": {
    "collapsed": false
   },
   "outputs": [],
   "source": [
    "# tci = pd.merge(tci, al[['SALE_VALID','PROPERTY_NUMBER']].groupby('PROPERTY_NUMBER').last(), \\\n",
    "#                how='left', left_on='ppn', right_index=True)\n",
    "# tci.loc[tci.SALE_VALID.notnull(),'SALE_VALID'] = 1\n",
    "# tci.loc[tci.SALE_VALID.isnull(),'SALE_VALID'] = 0"
   ]
  },
  {
   "cell_type": "code",
   "execution_count": 52,
   "metadata": {
    "collapsed": false
   },
   "outputs": [
    {
     "data": {
      "text/plain": [
       "Index(['parcel', 'Date', 'al_num', 'al_date', 'al_days'], dtype='object')"
      ]
     },
     "execution_count": 52,
     "metadata": {},
     "output_type": "execute_result"
    }
   ],
   "source": [
    "tci.columns"
   ]
  },
  {
   "cell_type": "markdown",
   "metadata": {},
   "source": [
    "## Transfers"
   ]
  },
  {
   "cell_type": "code",
   "execution_count": 53,
   "metadata": {
    "collapsed": false
   },
   "outputs": [],
   "source": [
    "t = pd.read_csv(path+'/data/clean_data/transfers.csv', parse_dates=['mdate'], dtype=str)\n",
    "t = t.sort_values('mdate', ascending=False)\n",
    "\n",
    "t = t.loc[t.apply(lambda x: x.mdate < dates[x.PROPERTY_NUMBER], axis=1)]\n",
    "# t.info()"
   ]
  },
  {
   "cell_type": "code",
   "execution_count": 54,
   "metadata": {
    "collapsed": false
   },
   "outputs": [],
   "source": [
    "# days since transfer\n",
    "\n",
    "days_since_transfer = t.groupby('PROPERTY_NUMBER').first()\n",
    "days_since_transfer = pd.merge(days_since_transfer[['mdate']], tci[['parcel','Date']], how='left', left_index=True, right_on='parcel')\n",
    "\n",
    "tci = pd.merge(tci, days_since_transfer[['mdate']], left_on='parcel', right_index=True,how='left')\n",
    "tci.loc[tci.mdate.isnull(),'mdate'] = dt.datetime(2006,1,1)\n",
    "tci['mdate'] = tci.apply(lambda x: (x.Date - x.mdate).days, axis=1)\n",
    "# days_since_transfer = days_since_transfer.set_index('parcel')\n",
    "tci = tci.rename(columns={'mdate':'t_days'})\n",
    "# tci.loc[tci.t_days.isnull(),'t_days'] = max(tci.t_days)"
   ]
  },
  {
   "cell_type": "code",
   "execution_count": 55,
   "metadata": {
    "collapsed": false
   },
   "outputs": [],
   "source": [
    "# days since sheriff's deed type\n",
    "\n",
    "recent_t = t[(t.mdate > dt.datetime(2006,1,1)) & (t.DEED_TYPE=='Sheriffs Deed')].groupby('PROPERTY_NUMBER').first()\n",
    "recent_t = pd.merge(recent_t, tci[['parcel','Date']], how='left', left_index=True, right_on='parcel')\n",
    "recent_t['t_shf_deed'] = recent_t.apply(lambda x: (x.Date-x.mdate).days, axis=1)\n",
    "recent_t = recent_t.set_index('parcel')\n",
    "\n",
    "tci = pd.merge(tci, recent_t[['t_shf_deed']], left_on='parcel',right_index=True, how='left')\n",
    "tci.loc[tci.t_shf_deed.isnull(),'t_shf_deed'] = max(tci[tci.t_shf_deed.notnull()].t_shf_deed)+1"
   ]
  },
  {
   "cell_type": "markdown",
   "metadata": {},
   "source": [
    "#### Amount paid"
   ]
  },
  {
   "cell_type": "code",
   "execution_count": 57,
   "metadata": {
    "collapsed": false
   },
   "outputs": [],
   "source": [
    "# amount_paid = t.groupby('PROPERTY_NUMBER').first()['AMOUNT_PAID']\n",
    "# amount_paid = pd.DataFrame(amount_paid)\n",
    "# amount_paid.columns = ['amount_paid']\n",
    "\n",
    "# tem = pd.merge(tci, amount_paid, left_on='ppn', right_index=True,how='left')\n",
    "# # tci[tci.days_since_transfer.isnull()] = max(tci.days_since_transfer)\n",
    "\n",
    "# plt.hist(tem[tem.vacant==1].amount_paid.values,bins=np.linspace(0,2000,10),alpha=0.5,normed=True)\n",
    "# plt.hist(tem[tem.vacant==0].amount_paid.values,bins=np.linspace(0,2000,10),alpha=0.5,normed=True);"
   ]
  },
  {
   "cell_type": "code",
   "execution_count": 58,
   "metadata": {
    "collapsed": false
   },
   "outputs": [],
   "source": [
    "deeds = list(t.groupby('DEED_TYPE').count().sort_values('mdate',ascending=False).index[0:5])"
   ]
  },
  {
   "cell_type": "markdown",
   "metadata": {},
   "source": [
    "#### Number of transfers (past 2 years)"
   ]
  },
  {
   "cell_type": "code",
   "execution_count": 59,
   "metadata": {
    "collapsed": false
   },
   "outputs": [
    {
     "data": {
      "text/plain": [
       "Index(['parcel', 'Date', 'al_num', 'al_date', 'al_days', 't_days',\n",
       "       't_shf_deed'],\n",
       "      dtype='object')"
      ]
     },
     "execution_count": 59,
     "metadata": {},
     "output_type": "execute_result"
    }
   ],
   "source": [
    "tci.columns"
   ]
  },
  {
   "cell_type": "code",
   "execution_count": 60,
   "metadata": {
    "collapsed": true
   },
   "outputs": [],
   "source": [
    "# number of transfers per year since 2006\n",
    "\n",
    "tci = pd.merge(tci, t.loc[t.mdate > dt.datetime(2006,1,1), ['PROPERTY_NUMBER','mdate']] \\\n",
    "               .groupby('PROPERTY_NUMBER').count(), how='left', left_on='parcel', right_index=True)\n",
    "tci['mdate'] = tci['mdate'].fillna(0)\n",
    "tci = tci.rename(columns = {'mdate':'t_num'})\n",
    "tci['t_num'] = tci.apply(lambda x: x.t_num/((x.Date - dt.datetime(2006,1,1)).days/365.0), axis = 1)\n",
    "\n",
    "# tci = pd.merge(tci, t[t.mdate > dt.datetime(2013, 6, 1)].groupby('PROPERTY_NUMBER').count()[['mdate']], how='left', left_on='ppn',right_index=True)\n",
    "# tci = tci.rename(columns={'mdate':'num_of_transfers'})"
   ]
  },
  {
   "cell_type": "markdown",
   "metadata": {},
   "source": [
    "#### Last deed type (overall)"
   ]
  },
  {
   "cell_type": "code",
   "execution_count": 61,
   "metadata": {
    "collapsed": false
   },
   "outputs": [],
   "source": [
    "# tci = pd.merge(tci, t[['DEED_TYPE', 'PROPERTY_NUMBER']].groupby('PROPERTY_NUMBER').first(), \\\n",
    "#          how='left', left_on='ppn',right_index=True)\n",
    "# tci.DEED_TYPE = tci.DEED_TYPE.apply(lambda x: x if x in deeds else 'Other')"
   ]
  },
  {
   "cell_type": "markdown",
   "metadata": {},
   "source": [
    "## County Land Bank"
   ]
  },
  {
   "cell_type": "code",
   "execution_count": 62,
   "metadata": {
    "collapsed": false
   },
   "outputs": [],
   "source": [
    "lb = pd.read_csv(path+'/data/clean_data/county_lb.csv')"
   ]
  },
  {
   "cell_type": "code",
   "execution_count": 63,
   "metadata": {
    "collapsed": false
   },
   "outputs": [
    {
     "name": "stdout",
     "output_type": "stream",
     "text": [
      "<class 'pandas.core.frame.DataFrame'>\n",
      "Int64Index: 1100 entries, 0 to 1099\n",
      "Data columns (total 16 columns):\n",
      "parcel            1100 non-null object\n",
      "disp_status       1100 non-null object\n",
      "p_source          1084 non-null object\n",
      "acq_dt            958 non-null object\n",
      "disp_dt           773 non-null object\n",
      "assessment        1043 non-null object\n",
      "demo_status       257 non-null object\n",
      "rehab_status      810 non-null object\n",
      "public_status     970 non-null object\n",
      "s_date            227 non-null object\n",
      "cclrc_dba_date    57 non-null object\n",
      "cclrc_dc_date     94 non-null object\n",
      "ab_proceed_dt     68 non-null object\n",
      "proceed_date      79 non-null object\n",
      "cclrc_dcp_date    53 non-null object\n",
      "out_type          835 non-null object\n",
      "dtypes: object(16)\n",
      "memory usage: 146.1+ KB\n"
     ]
    }
   ],
   "source": [
    "lb.info()"
   ]
  },
  {
   "cell_type": "code",
   "execution_count": 64,
   "metadata": {
    "collapsed": false
   },
   "outputs": [],
   "source": [
    "lb_ppns = set(lb[lb.disp_status=='Acquired'].parcel)\n",
    "\n",
    "def get_lb(x, lb_ppns):\n",
    "    if x in lb_ppns:\n",
    "        return 1\n",
    "    else:\n",
    "        return 0\n",
    "\n",
    "tci['lb_acquired'] = tci['parcel'].apply(lambda x: get_lb(x, lb_ppns))\n",
    "tci['lb_tax_fc'] = tci['parcel'].apply(lambda x: get_lb(x,set(lb[lb.p_source=='Tax Foreclosure'].parcel)))"
   ]
  },
  {
   "cell_type": "markdown",
   "metadata": {},
   "source": [
    "## Postal Vacancy"
   ]
  },
  {
   "cell_type": "code",
   "execution_count": 65,
   "metadata": {
    "collapsed": false
   },
   "outputs": [],
   "source": [
    "pv = pd.read_csv(path+'/data/clean_data/postal_vacancy.csv', parse_dates=3, index_col=0)\n",
    "pv.date = pv.date.apply(lambda x: dt.datetime(int(x[0:4]),int(x[5:7]),int(x[8:10])))\n",
    "pv = pv.sort_values('date',ascending=False)"
   ]
  },
  {
   "cell_type": "code",
   "execution_count": 66,
   "metadata": {
    "collapsed": true
   },
   "outputs": [],
   "source": [
    "pv = pv[pv.vindall=='Y']\n",
    "pv_copy = pv.copy().groupby('PARCEL').count().reset_index()\n",
    "\n",
    "pv_copy['pv_count'] = pv_copy.apply(lambda x: \\\n",
    "        len(pv[(pv.PARCEL == x.PARCEL) & (pv.date > dates[x.PARCEL]-pd.DateOffset(years=2))]), axis=1)"
   ]
  },
  {
   "cell_type": "code",
   "execution_count": 67,
   "metadata": {
    "collapsed": false
   },
   "outputs": [],
   "source": [
    "pv_copy = pv_copy.set_index('PARCEL')"
   ]
  },
  {
   "cell_type": "code",
   "execution_count": 68,
   "metadata": {
    "collapsed": false
   },
   "outputs": [],
   "source": [
    "tci = pd.merge(tci, pv_copy[['pv_count']], how='left', left_on='parcel',right_index=True)\n",
    "tci = tci.rename(columns={'pv_count':'pv_total'})\n",
    "tci['pv_total'] = tci['pv_total'].fillna(0)"
   ]
  },
  {
   "cell_type": "code",
   "execution_count": 69,
   "metadata": {
    "collapsed": false,
    "scrolled": true
   },
   "outputs": [],
   "source": [
    "# tci = pd.merge(tci, al[['SALE_VALID','PROPERTY_NUMBER']].groupby('PROPERTY_NUMBER').last(), \\\n",
    "#                how='left', left_on='parcel', right_index=True)\n",
    "\n",
    "vindall = pv[['PARCEL','vindall']].groupby('PARCEL').first()['vindall']"
   ]
  },
  {
   "cell_type": "code",
   "execution_count": 70,
   "metadata": {
    "collapsed": false
   },
   "outputs": [],
   "source": [
    "tci.to_csv(path+'/data/model_data/tci_2_1.csv', index=False)"
   ]
  },
  {
   "cell_type": "code",
   "execution_count": 71,
   "metadata": {
    "collapsed": false
   },
   "outputs": [
    {
     "data": {
      "text/plain": [
       "Index(['parcel', 'Date', 'al_num', 'al_date', 'al_days', 't_days',\n",
       "       't_shf_deed', 't_num', 'lb_acquired', 'lb_tax_fc', 'pv_total'],\n",
       "      dtype='object')"
      ]
     },
     "execution_count": 71,
     "metadata": {},
     "output_type": "execute_result"
    }
   ],
   "source": [
    "tci.columns"
   ]
  },
  {
   "cell_type": "code",
   "execution_count": 72,
   "metadata": {
    "collapsed": false
   },
   "outputs": [
    {
     "name": "stdout",
     "output_type": "stream",
     "text": [
      "<class 'pandas.core.frame.DataFrame'>\n",
      "Int64Index: 113132 entries, 0 to 113131\n",
      "Data columns (total 11 columns):\n",
      "parcel         113132 non-null object\n",
      "Date           113132 non-null datetime64[ns]\n",
      "al_num         113132 non-null float64\n",
      "al_date        113132 non-null datetime64[ns]\n",
      "al_days        113132 non-null int64\n",
      "t_days         113132 non-null int64\n",
      "t_shf_deed     113132 non-null float64\n",
      "t_num          113132 non-null float64\n",
      "lb_acquired    113132 non-null int64\n",
      "lb_tax_fc      113132 non-null int64\n",
      "pv_total       113132 non-null float64\n",
      "dtypes: datetime64[ns](2), float64(4), int64(4), object(1)\n",
      "memory usage: 10.4+ MB\n"
     ]
    }
   ],
   "source": [
    "tci.info()"
   ]
  }
 ],
 "metadata": {
  "kernelspec": {
   "display_name": "Python 3",
   "language": "python",
   "name": "python3"
  },
  "language_info": {
   "codemirror_mode": {
    "name": "ipython",
    "version": 3
   },
   "file_extension": ".py",
   "mimetype": "text/x-python",
   "name": "python",
   "nbconvert_exporter": "python",
   "pygments_lexer": "ipython3",
   "version": "3.4.3"
  }
 },
 "nbformat": 4,
 "nbformat_minor": 0
}
