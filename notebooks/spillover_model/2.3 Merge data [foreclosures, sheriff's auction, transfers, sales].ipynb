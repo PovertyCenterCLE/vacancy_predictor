{
 "cells": [
  {
   "cell_type": "code",
   "execution_count": 1,
   "metadata": {
    "collapsed": false
   },
   "outputs": [
    {
     "name": "stdout",
     "output_type": "stream",
     "text": [
      "/Volumes/Dropbox/largetransfer/luc/carter\n",
      "(113132, 6)\n"
     ]
    },
    {
     "name": "stderr",
     "output_type": "stream",
     "text": [
      "//anaconda/envs/data_sci/lib/python3.4/site-packages/matplotlib/__init__.py:872: UserWarning: axes.color_cycle is deprecated and replaced with axes.prop_cycle; please use the latter.\n",
      "  warnings.warn(self.msg_depr % (key, alt_key))\n"
     ]
    }
   ],
   "source": [
    "import matplotlib.pyplot as plt\n",
    "import seaborn as sns\n",
    "import pandas as pd\n",
    "import numpy as np\n",
    "import os\n",
    "import datetime as dt\n",
    "%matplotlib inline\n",
    "sns.set_context('notebook')\n",
    "\n",
    "path = '/'.join(os.getcwd().split('/')[:-2])\n",
    "print(path)\n",
    "\n",
    "tci = pd.read_csv(path+'/data/model_data/tci_1_0.csv', parse_dates=['Date'], dtype={'PIN': str})\n",
    "cols = ['parcel','vacant','Date','Survey Category','Survey Grade','SPA_NAME']\n",
    "tci = tci[cols]\n",
    "\n",
    "ppns = set(tci['parcel'])\n",
    "dates = dict(zip(tci.parcel, tci.Date))\n",
    "\n",
    "print(tci.shape)"
   ]
  },
  {
   "cell_type": "code",
   "execution_count": 2,
   "metadata": {
    "collapsed": false
   },
   "outputs": [],
   "source": [
    "# read data sets\n",
    "fc = pd.read_csv(path+'/data/clean_data/foreclosure_filings2.csv', parse_dates=[2])\n",
    "sa = pd.read_csv(path+'/data/clean_data/sheriff_auction.csv', parse_dates=[2], encoding=\"ISO-8859-1\")\n",
    "\n",
    "t = pd.read_csv(path+'/data/clean_data/transfers.csv', parse_dates=['mdate'], dtype=str)\n",
    "t = t.sort_values('mdate', ascending=False)\n",
    "\n",
    "al = pd.read_csv(path+'/data/clean_data/armslength.csv', dtype=str)\n",
    "al = al.drop_duplicates()\n",
    "\n",
    "# parse armslength dates\n",
    "months = dict(zip(['JAN','FEB','MAR','APR','MAY','JUN','JUL','AUG','SEP','OCT','NOV','DEC'],range(1,13)))\n",
    "def parse_date(x):\n",
    "    day = int(x[0:2])\n",
    "    month = months[x[2:5]]\n",
    "    year = int(x[5:])\n",
    "    return dt.datetime(year,month,day)\n",
    "\n",
    "al['date'] = al.mdate.apply(parse_date)\n",
    "al = al.sort_values('date')\n",
    "\n",
    "def parse_amount(x):\n",
    "    return float(str(x)[1:].replace(',',''))"
   ]
  },
  {
   "cell_type": "markdown",
   "metadata": {},
   "source": [
    "## Foreclosure data"
   ]
  },
  {
   "cell_type": "code",
   "execution_count": 3,
   "metadata": {
    "collapsed": false
   },
   "outputs": [],
   "source": [
    "df = tci.copy()\n",
    "\n",
    "# foreclosures\n",
    "fc_copy = fc.loc[fc.apply(lambda x: x.filedate < dates[x.parcel], axis=1)].sort_values('filedate')\n",
    "fc_copy = fc_copy.groupby('caseno').last()\n",
    "fc_copy = pd.merge(fc_copy, tci[['parcel','Date']].set_index('parcel'), how='left',left_on='parcel',right_index=True)\n",
    "\n",
    "# is it an active foreclosure\n",
    "df.loc[df.parcel.isin(fc_copy.loc[fc_copy.status=='Active','parcel']),'active_fc'] = 1\n",
    "df.loc[df.active_fc.isnull(),'active_fc'] = 0\n",
    "\n",
    "# has it had a foreclosure in the last year\n",
    "df.loc[df.parcel.isin(fc_copy[fc_copy.filedate > (fc_copy.Date-pd.DateOffset(years=1))].parcel),'fc_1yr'] = 1\n",
    "df.loc[df.fc_1yr.isnull(), 'fc_1yr'] = 0\n",
    "# has it had a foreclosure in the last 2 years\n",
    "df.loc[df.parcel.isin(fc_copy[fc_copy.filedate > (fc_copy.Date-pd.DateOffset(years=2))].parcel),'fc_2yr'] = 1\n",
    "df.loc[df.fc_2yr.isnull(), 'fc_2yr'] = 0\n",
    "\n",
    "# days since last foreclosure\n",
    "recent_fc = fc_copy.sort_values('filedate').groupby('parcel').last().reset_index()\n",
    "fc_days = pd.DataFrame(recent_fc[['parcel','filedate','Date']])\n",
    "\n",
    "fc_days['fc_days'] = (fc_days.Date-fc_days.filedate).astype(pd.Timedelta).apply(lambda x: x.days)\n",
    "fc_days = fc_days.set_index('parcel')\n",
    "df = pd.merge(df, fc_days[['fc_days']], left_on='parcel',right_index=True, how='left')\n",
    "df.loc[df.fc_days.isnull(),'fc_days'] = max(df[df.fc_days.notnull()].fc_days)+1"
   ]
  },
  {
   "cell_type": "code",
   "execution_count": 4,
   "metadata": {
    "collapsed": true
   },
   "outputs": [],
   "source": [
    "# sheriff's auction\n",
    "\n",
    "sa_copy = pd.merge(sa, tci[['parcel','Date']].set_index('parcel'), how='left',left_on='parcel',right_index=True)\n",
    "\n",
    "sa_copy = sa_copy.loc[sa_copy.salesdt < sa_copy.Date]\n",
    "# days since last sheriff's auction\n",
    "recent_sa = sa_copy.sort_values('salesdt').groupby('parcel').last().reset_index()\n",
    "sa_days = pd.DataFrame(recent_sa[['parcel','salesdt','Date']])\n",
    "sa_days['sa_days'] = (sa_days.Date-sa_days.salesdt).astype(pd.Timedelta).apply(lambda x: x.days)\n",
    "sa_days = sa_days.set_index('parcel')\n",
    "df = pd.merge(df, sa_days[['sa_days']], left_on='parcel',right_index=True, how='left')\n",
    "df.loc[df.sa_days.isnull(),'sa_days'] = max(df[df.sa_days.notnull()].sa_days)+1"
   ]
  },
  {
   "cell_type": "markdown",
   "metadata": {},
   "source": [
    "## Transfers"
   ]
  },
  {
   "cell_type": "code",
   "execution_count": 5,
   "metadata": {
    "collapsed": false
   },
   "outputs": [],
   "source": [
    "t_copy = pd.merge(t, tci[['parcel','Date']].set_index('parcel'), how='left',left_on='PROPERTY_NUMBER',right_index=True)\n",
    "t_copy = t_copy.loc[(t_copy.mdate < t_copy.Date) & (t_copy.mdate > dt.datetime(2006,1,1))]\n",
    "# days since transfer\n",
    "days_since_transfer = t_copy.groupby('PROPERTY_NUMBER').first()\n",
    "days_since_transfer['t_days'] = (days_since_transfer.Date - days_since_transfer.mdate).astype(pd.Timedelta).apply(lambda x: x.days)\n",
    "df = pd.merge(df, days_since_transfer[['t_days']], left_on='parcel', right_index=True,how='left')\n",
    "df.loc[df.t_days.isnull(),'t_days'] = max(df.loc[df.t_days.notnull(),'t_days'])+1\n"
   ]
  },
  {
   "cell_type": "code",
   "execution_count": 6,
   "metadata": {
    "collapsed": true
   },
   "outputs": [],
   "source": [
    "# days since transfer with sheriff's deed type\n",
    "recent_t = t_copy[(t_copy.DEED_TYPE=='Sheriffs Deed') & (t_copy.mdate > dt.datetime(2006,1,1))]\\\n",
    "                .groupby('PROPERTY_NUMBER').first()\n",
    "df = pd.merge(df, recent_t[['mdate']], how='left', left_on='parcel', right_index=True)\n",
    "df.loc[df.mdate.isnull(),'mdate'] = dt.datetime(2006,1,1)\n",
    "df['mdate'] = (df.Date-df.mdate).astype(pd.Timedelta).apply(lambda x: x.days)\n",
    "df = df.rename(columns={'mdate':'t_shf_deed'})"
   ]
  },
  {
   "cell_type": "code",
   "execution_count": 7,
   "metadata": {
    "collapsed": false
   },
   "outputs": [],
   "source": [
    "# average number of transfers per year since 2006\n",
    "df = pd.merge(df, t_copy[['PROPERTY_NUMBER','mdate']] \\\n",
    "               .groupby('PROPERTY_NUMBER').count(), how='left', left_on='parcel', right_index=True)\n",
    "df['mdate'] = df['mdate'].fillna(0)\n",
    "df = df.rename(columns = {'mdate':'t_num'})\n",
    "per = ((df.Date - dt.datetime(2006,1,1)).astype(pd.Timedelta).apply(lambda x: x.days)/365.0)\n",
    "df['t_num'] = df['t_num']/per"
   ]
  },
  {
   "cell_type": "markdown",
   "metadata": {},
   "source": [
    "## Armslength sales"
   ]
  },
  {
   "cell_type": "code",
   "execution_count": 8,
   "metadata": {
    "collapsed": false
   },
   "outputs": [],
   "source": [
    "al_copy = pd.merge(al, tci[['parcel','Date']].set_index('parcel'), how='left',left_on='PROPERTY_NUMBER',right_index=True)\n",
    "al_copy = al_copy.loc[(al_copy.date < al_copy.Date) & (al_copy.date > dt.datetime(2006,1,1))]\n",
    "al_copy = pd.merge(al_copy[['date','PROPERTY_NUMBER']].groupby('PROPERTY_NUMBER').count(), tci[['Date','parcel']],\\\n",
    "                   how='left',left_index=True, right_on='parcel')\n",
    "per = ((al_copy['Date'] - dt.datetime(2006,1,1)).astype(pd.Timedelta).apply(lambda x: x.days)/365.0)\n",
    "al_copy['al_num'] = al_copy['date']/per\n",
    "al_copy = al_copy.set_index('parcel')"
   ]
  },
  {
   "cell_type": "code",
   "execution_count": 9,
   "metadata": {
    "collapsed": false
   },
   "outputs": [],
   "source": [
    "df = pd.merge(df, al_copy[['al_num']], how='left', left_on='parcel', right_index=True)\n",
    "df.loc[df.al_num.isnull(),'al_num'] = 0\n",
    "# armslength\n",
    "# al_copy = pd.merge(al, tci[['parcel','Date']].set_index('parcel'), how='left',left_on='PROPERTY_NUMBER',right_index=True)\n",
    "\n",
    "# al_copy = al_copy.loc[al_copy.date < al_copy.Date]\n",
    "# number of armslength sales per year since 2006\n",
    "# df = df.rename(columns = {'date':'al_num'})\n"
   ]
  },
  {
   "cell_type": "code",
   "execution_count": 10,
   "metadata": {
    "collapsed": false
   },
   "outputs": [],
   "source": [
    "# days since most recent sale since 2006\n",
    "al_copy = pd.merge(al, tci[['parcel','Date']].set_index('parcel'), how='left',left_on='PROPERTY_NUMBER',right_index=True)\n",
    "\n",
    "df = pd.merge(df, al_copy[['date','PROPERTY_NUMBER']]\\\n",
    "               .groupby('PROPERTY_NUMBER')\\\n",
    "               .last()\\\n",
    "                    ,how='left', left_on='parcel', right_index=True)\n",
    "\n",
    "df.loc[df.date.isnull(),'date'] = dt.datetime(2006,1,1)\n",
    "df = df.rename(columns = {'date':'al_days'})\n",
    "df['al_days'] = (df.Date-df.al_days).astype(pd.Timedelta).apply(lambda x: x.days)"
   ]
  },
  {
   "cell_type": "code",
   "execution_count": 11,
   "metadata": {
    "collapsed": true
   },
   "outputs": [],
   "source": [
    "df.to_csv(path+'/data/model_data/tci_2_3_model.csv', index=False)"
   ]
  },
  {
   "cell_type": "code",
   "execution_count": 12,
   "metadata": {
    "collapsed": false
   },
   "outputs": [
    {
     "name": "stdout",
     "output_type": "stream",
     "text": [
      "<class 'pandas.core.frame.DataFrame'>\n",
      "Int64Index: 113132 entries, 0 to 113131\n",
      "Data columns (total 16 columns):\n",
      "parcel             113132 non-null object\n",
      "vacant             113132 non-null int64\n",
      "Date               113132 non-null datetime64[ns]\n",
      "Survey Category    113132 non-null object\n",
      "Survey Grade       113132 non-null object\n",
      "SPA_NAME           113132 non-null object\n",
      "active_fc          113132 non-null float64\n",
      "fc_1yr             113132 non-null float64\n",
      "fc_2yr             113132 non-null float64\n",
      "fc_days            113132 non-null float64\n",
      "sa_days            113132 non-null float64\n",
      "t_days             113132 non-null float64\n",
      "t_shf_deed         113132 non-null int64\n",
      "t_num              113132 non-null float64\n",
      "al_num             113132 non-null float64\n",
      "al_days            113132 non-null int64\n",
      "dtypes: datetime64[ns](1), float64(8), int64(3), object(4)\n",
      "memory usage: 14.7+ MB\n"
     ]
    }
   ],
   "source": [
    "df.info()"
   ]
  }
 ],
 "metadata": {
  "kernelspec": {
   "display_name": "Python 3",
   "language": "python",
   "name": "python3"
  },
  "language_info": {
   "codemirror_mode": {
    "name": "ipython",
    "version": 3
   },
   "file_extension": ".py",
   "mimetype": "text/x-python",
   "name": "python",
   "nbconvert_exporter": "python",
   "pygments_lexer": "ipython3",
   "version": "3.4.4"
  }
 },
 "nbformat": 4,
 "nbformat_minor": 0
}
