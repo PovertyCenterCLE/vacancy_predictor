{
 "cells": [
  {
   "cell_type": "markdown",
   "metadata": {},
   "source": [
    "# 3.1 Build models"
   ]
  },
  {
   "cell_type": "code",
   "execution_count": 51,
   "metadata": {
    "collapsed": false
   },
   "outputs": [
    {
     "name": "stdout",
     "output_type": "stream",
     "text": [
      "/Volumes/Dropbox/largetransfer/luc/carter\n"
     ]
    }
   ],
   "source": [
    "import pandas as pd\n",
    "from sklearn.ensemble import RandomForestClassifier\n",
    "import matplotlib.pyplot as plt\n",
    "import numpy as np\n",
    "# import seaborn as sns\n",
    "import math\n",
    "from sklearn.preprocessing import Imputer\n",
    "from sklearn.base import TransformerMixin\n",
    "from sklearn import cross_validation\n",
    "from sklearn.grid_search import GridSearchCV\n",
    "from sklearn.linear_model import LogisticRegression\n",
    "from sklearn import preprocessing\n",
    "from sklearn.cross_validation import cross_val_score\n",
    "import os\n",
    "\n",
    "def sound():\n",
    "    os.system('afplay /System/Library/Sounds/Sosumi.aiff')\n",
    "\n",
    "%matplotlib inline\n",
    "# sns.set_context('notebook')\n",
    "\n",
    "path = '/'.join(os.getcwd().split('/')[:-1])\n",
    "print(path)"
   ]
  },
  {
   "cell_type": "code",
   "execution_count": 52,
   "metadata": {
    "collapsed": false
   },
   "outputs": [],
   "source": [
    "df = pd.read_csv(path+'/data/model_data/tci_final.csv',index_col=0)"
   ]
  },
  {
   "cell_type": "code",
   "execution_count": 53,
   "metadata": {
    "collapsed": false
   },
   "outputs": [
    {
     "data": {
      "text/plain": [
       "Index(['vacant', 'cqual_num', 'occup', 'rnumstor', 'propsize', 'totusabl',\n",
       "       'tmktval', 'condition_value13', 'condition_value14', 'ownerocc_value',\n",
       "       'LATITUDE', 'LONGITUDE', 'totbldgs', 'yrbuilt_filtered', 'vacant_block',\n",
       "       'median_rent', 'property_crimes', 'burglaries', 'part_one_crimes',\n",
       "       'part_two_crimes', 'bachelors+', 'poverty_rate', 'median_hh_income',\n",
       "       'white', 'black', 'asian', 'other', 'hispanic', 'young', 'middle',\n",
       "       'old', 'lb_acquired', 'lb_tax_fc', 'TOTAL_NET_DELQ_BALANCE',\n",
       "       'TAX_ASSESSED_LAND', 'TAX_MARKET_LAND', 'GRAND_TOTAL_BALANCE',\n",
       "       'GRAND_TOTAL_PAID', 'delq_total_ratio', 'paid_percent',\n",
       "       'GRAND_TOTAL_BALANCE_14', 'pv_count', 'v_total_1yr', 'v_total_2yr',\n",
       "       'days_since_ovv_board_up', 'c_ovv_board_num', 'days_since_ovv',\n",
       "       'c_ovv_num', 'active_fc', 'fc_1yr', 'fc_2yr', 'fc_days', 'sa_days',\n",
       "       't_days', 't_shf_deed', 't_num', 'al_num', 'al_days', 'price_per_sqft'],\n",
       "      dtype='object')"
      ]
     },
     "execution_count": 53,
     "metadata": {},
     "output_type": "execute_result"
    }
   ],
   "source": [
    "df.columns"
   ]
  },
  {
   "cell_type": "code",
   "execution_count": 54,
   "metadata": {
    "collapsed": false
   },
   "outputs": [
    {
     "data": {
      "text/plain": [
       "(113132, 59)"
      ]
     },
     "execution_count": 54,
     "metadata": {},
     "output_type": "execute_result"
    }
   ],
   "source": [
    "df.shape"
   ]
  },
  {
   "cell_type": "code",
   "execution_count": 55,
   "metadata": {
    "collapsed": false
   },
   "outputs": [],
   "source": [
    "features = list(df.columns)\n",
    "features.remove('vacant')\n",
    "\n",
    "from sklearn.cross_validation import train_test_split\n",
    "X_train, X_test, y_train, y_test = train_test_split(df[features], df['vacant'], test_size=0.2, random_state=42)"
   ]
  },
  {
   "cell_type": "markdown",
   "metadata": {},
   "source": [
    "## Build the classifiers"
   ]
  },
  {
   "cell_type": "markdown",
   "metadata": {},
   "source": [
    "### Random Forest Classifier"
   ]
  },
  {
   "cell_type": "code",
   "execution_count": 56,
   "metadata": {
    "collapsed": false,
    "scrolled": true
   },
   "outputs": [],
   "source": [
    "rfc = RandomForestClassifier(n_estimators=50, min_samples_leaf=8, min_samples_split=3, \\\n",
    "                                 class_weight={0:1, 1:8}, \\\n",
    "                                 max_features=20, random_state=0, max_depth=40)\n",
    "rfc = rfc.fit(X_train, y_train)\n",
    "sound()"
   ]
  },
  {
   "cell_type": "code",
   "execution_count": 57,
   "metadata": {
    "collapsed": false
   },
   "outputs": [
    {
     "data": {
      "text/html": [
       "<div>\n",
       "<table border=\"1\" class=\"dataframe\">\n",
       "  <thead>\n",
       "    <tr style=\"text-align: right;\">\n",
       "      <th>predicted by RF</th>\n",
       "      <th>0</th>\n",
       "      <th>1</th>\n",
       "    </tr>\n",
       "    <tr>\n",
       "      <th>vacant</th>\n",
       "      <th></th>\n",
       "      <th></th>\n",
       "    </tr>\n",
       "  </thead>\n",
       "  <tbody>\n",
       "    <tr>\n",
       "      <th>0</th>\n",
       "      <td>19812</td>\n",
       "      <td>782</td>\n",
       "    </tr>\n",
       "    <tr>\n",
       "      <th>1</th>\n",
       "      <td>735</td>\n",
       "      <td>1298</td>\n",
       "    </tr>\n",
       "  </tbody>\n",
       "</table>\n",
       "</div>"
      ],
      "text/plain": [
       "predicted by RF      0     1\n",
       "vacant                      \n",
       "0                19812   782\n",
       "1                  735  1298"
      ]
     },
     "execution_count": 57,
     "metadata": {},
     "output_type": "execute_result"
    }
   ],
   "source": [
    "# pd.crosstab(y_test, rfc.predict(X_test),rownames=['From survey'],colnames=['From model'],margins=True)\n",
    "pd.crosstab(y_test,rfc.predict(X_test),colnames=['predicted by RF'])"
   ]
  },
  {
   "cell_type": "code",
   "execution_count": 58,
   "metadata": {
    "collapsed": false
   },
   "outputs": [
    {
     "name": "stdout",
     "output_type": "stream",
     "text": [
      "{'res': 0.7837227656298187} {'res': 0.6311694626793095} 0.6240384615384615 0.6384653221839646\n"
     ]
    }
   ],
   "source": [
    "dat = pd.DataFrame([rfc.predict_proba(X_test)[:,1], y_test, rfc.predict(X_test)]).T\n",
    "dat = dat.rename(columns={0:'prob',1:'act',2:'pred'})\n",
    "\n",
    "# sns.distplot(dat[(dat.act==1)&(dat.pred==1)].prob);\n",
    "# sns.distplot(dat[(dat.act==0)&(dat.pred==1)].prob);\n",
    "# sns.distplot(dat[(dat.act==1)&(dat.pred==0)].prob);\n",
    "# sns.distplot(dat[(dat.act==0)&(dat.pred==0)].prob);\n",
    "# plt.legend(['True vacant','False vacant','False Occupied','True Occupied'])\n",
    "\n",
    "acc_neg = len(dat[(dat.act==0) & (dat.pred==0)])/len(dat[dat.act==0])\n",
    "acc_pos = len(dat[(dat.act==1) & (dat.pred==1)])/len(dat[dat.act==1])\n",
    "G = {}\n",
    "F = {}\n",
    "G['res'] = (acc_neg*acc_pos)**0.5\n",
    "prec = len(dat[(dat.act==1) & (dat.pred==1)])/len(dat[dat.pred==1])\n",
    "F['res'] = 2*prec*acc_pos/(prec+acc_pos)\n",
    "print(G, F, prec, acc_pos)"
   ]
  },
  {
   "cell_type": "code",
   "execution_count": 59,
   "metadata": {
    "collapsed": false
   },
   "outputs": [],
   "source": [
    "# results = pd.DataFrame()\n",
    "# for j in range(2,6):\n",
    "#     rfc = RandomForestClassifier(n_estimators=50, min_samples_leaf=2*i, min_samples_split=3, \\\n",
    "#                                      class_weight={0:1, 1:8}, \\\n",
    "#                                      max_features=20, random_state=0, max_depth=40)\n",
    "#     rfc = rfc.fit(X_train, y_train)\n",
    "#     res = {}\n",
    "#     for i in range(0,21):\n",
    "#         # copy = y_test.copy()\n",
    "#         p = i/20\n",
    "#         copy = pd.Series(rfc.predict_proba(X_test)[:,1],index=y_test.index)\n",
    "#         res[p] = {('correct_'+str(2*j)): sum(y_test[copy.sort_values(ascending=False)[:int(len(X_test)*p)].index]), \\\n",
    "#                   ('searched_'+str(2*j)): len(y_test[copy.sort_values(ascending=False)[:int(len(X_test)*p)].index]), \\\n",
    "#                   ('percent_'+str(2*j)): sum(y_test[copy.sort_values(ascending=False)[:int(len(X_test)*p)].index])/sum(y_test) }\n",
    "#     #     sum(y_test[copy.sort_values(ascending=False)[:int(len(X_test)*p)].index]), len(y_test[copy.sort_values(ascending=False)[:int(len(X_test)*p)].index]), sum(y_test)\n",
    "#     res = pd.DataFrame(res).T\n",
    "#     results = pd.concat([results,res], axis=1)#, axis=1,keys=['a','b'])\n",
    "# #     plt.plot(res.index, res.percent)\n",
    "# sound()"
   ]
  },
  {
   "cell_type": "code",
   "execution_count": 60,
   "metadata": {
    "collapsed": false
   },
   "outputs": [],
   "source": [
    "res = {}\n",
    "for i in range(0,21):\n",
    "    # copy = y_test.copy()\n",
    "    p = i/20\n",
    "    copy = pd.Series(rfc.predict_proba(X_test)[:,1],index=y_test.index)\n",
    "    res[p] = {'correct': sum(y_test[copy.sort_values(ascending=False)[:int(len(X_test)*p)].index]), \\\n",
    "              'searched': len(y_test[copy.sort_values(ascending=False)[:int(len(X_test)*p)].index]), \\\n",
    "              'percent': sum(y_test[copy.sort_values(ascending=False)[:int(len(X_test)*p)].index])/sum(y_test) }\n",
    "#     sum(y_test[copy.sort_values(ascending=False)[:int(len(X_test)*p)].index]), len(y_test[copy.sort_values(ascending=False)[:int(len(X_test)*p)].index]), sum(y_test)\n",
    "res = pd.DataFrame(res).T\n",
    "\n",
    "# plt.plot(res.index, res.percent)"
   ]
  },
  {
   "cell_type": "code",
   "execution_count": 61,
   "metadata": {
    "collapsed": false
   },
   "outputs": [],
   "source": [
    "# from sklearn.grid_search import GridSearchCV,RandomizedSearchCV\n",
    "# from time import time\n",
    "# from operator import itemgetter\n",
    "# from scipy.stats import randint as sp_randint\n",
    "\n",
    "# param_dist = {\"max_depth\": sp_randint(10, 50),\n",
    "#               \"max_features\": sp_randint(5, 15),\n",
    "#               \"min_samples_split\": sp_randint(1, 11),\n",
    "#               \"min_samples_leaf\": sp_randint(1, 11),\n",
    "#               \"bootstrap\": [True, False],\n",
    "#               \"criterion\": [\"gini\", \"entropy\"]}\n",
    "\n",
    "# n_iter_search = 20\n",
    "# random_search = RandomizedSearchCV(rfc, param_distributions=param_dist,\n",
    "#                                    n_iter=n_iter_search)\n",
    "\n",
    "# start = time()\n",
    "# random_search.fit(train[features], y)\n",
    "# print(\"RandomizedSearchCV took %.2f seconds for %d candidates\"\n",
    "#       \" parameter settings.\" % ((time() - start), n_iter_search))\n"
   ]
  },
  {
   "cell_type": "code",
   "execution_count": 62,
   "metadata": {
    "collapsed": false
   },
   "outputs": [],
   "source": [
    "# # Utility function to report best scores\n",
    "# def report(grid_scores, n_top=3):\n",
    "#     top_scores = sorted(grid_scores, key=itemgetter(1), reverse=True)[:n_top]\n",
    "#     for i, score in enumerate(top_scores):\n",
    "#         print(\"Model with rank: {0}\".format(i + 1))\n",
    "#         print(\"Mean validation score: {0:.3f} (std: {1:.3f})\".format(\n",
    "#               score.mean_validation_score,\n",
    "#               np.std(score.cv_validation_scores)))\n",
    "#         print(\"Parameters: {0}\".format(score.parameters))\n",
    "#         print(\"\")\n",
    "# report(random_search.grid_scores_)"
   ]
  },
  {
   "cell_type": "code",
   "execution_count": 63,
   "metadata": {
    "collapsed": false
   },
   "outputs": [],
   "source": [
    "# tem = pd.DataFrame(rfc.predict_proba(test[features]))\n",
    "# tem['vacant'] = test['vacant'].values\n",
    "# tem = tem.sort_values(1, ascending=False)\n",
    "# test.loc[:,'pred'] = rfc.predict(test[features])"
   ]
  },
  {
   "cell_type": "code",
   "execution_count": 64,
   "metadata": {
    "collapsed": false
   },
   "outputs": [],
   "source": [
    "# def fun(x):\n",
    "#     if (x.pred == 1) & (x.vacant == 1):\n",
    "#         return 'TP'\n",
    "#     elif (x.pred == 1):\n",
    "#         return 'FP'\n",
    "#     elif (x.vacant == 1):\n",
    "#         return 'FN'\n",
    "#     else:\n",
    "#         return 'TN'\n",
    "# test.loc[:,'cat'] = test.apply(fun, axis=1)"
   ]
  },
  {
   "cell_type": "code",
   "execution_count": 65,
   "metadata": {
    "collapsed": false
   },
   "outputs": [],
   "source": [
    "# y2,_= pd.factorize(train.loc[train.index.isin(df[df.SPA_NAME.isin(west)].index)].vacant)\n",
    "\n",
    "# rfc = RandomForestClassifier(n_estimators=50, min_samples_leaf=10, min_samples_split=2, \\\n",
    "#                                  class_weight={0:1, 1:1}, \\\n",
    "#                                  max_features=10, random_state=0, max_depth=20)\n",
    "# rfc = rfc.fit(train.loc[train.index.isin(df[df.SPA_NAME.isin(west)].index),features], y2)\n",
    "# sound()\n",
    "# print(pd.crosstab(test[test.index.isin(df[df.SPA_NAME.isin(west)].index)].vacant, \\\n",
    "#                   rfc.predict(test.loc[test.index.isin(df[df.SPA_NAME.isin(west)].index),features])))"
   ]
  },
  {
   "cell_type": "code",
   "execution_count": 66,
   "metadata": {
    "collapsed": true
   },
   "outputs": [],
   "source": [
    "# west = ['Bellaire-Puritas','Brooklyn Centre','Clark-Fulton','Cudell','Detroit Shoreway','Edgewater'\\\n",
    "#        ,'Jefferson',\"Kamm's\",'Ohio City','Old Brooklyn','Stockyards','Tremont','West Boulevard']\n",
    "# cols = ['GRAND_TOTAL_BALANCE','TAX_MARKET_LAND','sa_days','fc_days','c_ovv_2yr','pv_total',\\\n",
    "#         'tmktval','propsize','condition_value14','median_rent']"
   ]
  },
  {
   "cell_type": "markdown",
   "metadata": {},
   "source": [
    "## Importances"
   ]
  },
  {
   "cell_type": "code",
   "execution_count": 67,
   "metadata": {
    "collapsed": false
   },
   "outputs": [
    {
     "name": "stdout",
     "output_type": "stream",
     "text": [
      "Feature ranking:\n",
      "1. feature 45, days_since_ovv (0.162351)\n",
      "2. feature 46, c_ovv_num (0.132187)\n",
      "3. feature 40, pv_count (0.089778)\n",
      "4. feature 38, paid_percent (0.065475)\n",
      "5. feature 36, GRAND_TOTAL_PAID (0.059641)\n",
      "6. feature 50, fc_days (0.040417)\n",
      "7. feature 51, sa_days (0.035180)\n",
      "8. feature 32, TOTAL_NET_DELQ_BALANCE (0.028211)\n",
      "9. feature 37, delq_total_ratio (0.022854)\n",
      "10. feature 57, price_per_sqft (0.018230)\n"
     ]
    },
    {
     "data": {
      "image/png": "[encoded data removed]",
      "text/plain": [
       "<matplotlib.figure.Figure at 0x108bfb630>"
      ]
     },
     "metadata": {},
     "output_type": "display_data"
    }
   ],
   "source": [
    "# plot the top ten features\n",
    "\n",
    "importances = rfc.feature_importances_\n",
    "std = np.std([tree.feature_importances_ for tree in rfc.estimators_],\n",
    "             axis=0)\n",
    "indices = np.argsort(importances)[::-1]\n",
    "\n",
    "# Print the feature ranking\n",
    "print(\"Feature ranking:\")\n",
    "\n",
    "for f in range(10):\n",
    "    print(\"%d. feature %d, %s (%f)\" % (f + 1, indices[f], features[indices[f]], importances[indices[f]]))\n",
    "    \n",
    "# Plot the feature importances of the forest\n",
    "plt.figure()\n",
    "plt.title(\"Feature importances\")\n",
    "plt.bar(range(10), importances[indices[0:10]], yerr=std[indices[0:10]], align=\"center\")\n",
    "plt.xticks(range(10), indices[0:10])\n",
    "plt.xlim([-1, 10])\n",
    "plt.show()"
   ]
  },
  {
   "cell_type": "code",
   "execution_count": null,
   "metadata": {
    "collapsed": true
   },
   "outputs": [],
   "source": [
    "df.describe()"
   ]
  },
  {
   "cell_type": "code",
   "execution_count": 68,
   "metadata": {
    "collapsed": false
   },
   "outputs": [
    {
     "name": "stdout",
     "output_type": "stream",
     "text": [
      "Feature ranking (least important):\n",
      "1. feature 31, lb_tax_fc (0.000001)\n",
      "2. feature 30, lb_acquired (0.000002)\n",
      "3. feature 44, c_ovv_board_num (0.000017)\n",
      "4. feature 47, active_fc (0.000273)\n",
      "5. feature 48, fc_1yr (0.000838)\n",
      "6. feature 11, totbldgs (0.001268)\n",
      "7. feature 1, occup (0.002121)\n",
      "8. feature 2, rnumstor (0.002808)\n",
      "9. feature 0, cqual_num (0.003060)\n",
      "10. feature 24, asian (0.003312)\n"
     ]
    },
    {
     "data": {
      "image/png": "[encoded data removed]",
      "text/plain": [
       "<matplotlib.figure.Figure at 0x112da60f0>"
      ]
     },
     "metadata": {},
     "output_type": "display_data"
    }
   ],
   "source": [
    "# Print the feature ranking\n",
    "features2 = pd.DataFrame(features).iloc[indices[0:10]][0].values\n",
    "\n",
    "print(\"Feature ranking (least important):\")\n",
    "\n",
    "for f in range(10):\n",
    "    print(\"%d. feature %d, %s (%f)\" % (f + 1, indices[-f-1], features[indices[-f-1]], importances[indices[-f-1]]))\n",
    "# Plot the feature importances of the forest\n",
    "plt.figure()\n",
    "plt.title(\"Feature importances\")\n",
    "plt.bar(range(10), importances[indices[-10:]], yerr=std[indices[-10:]], align=\"center\")\n",
    "plt.xticks(range(10), indices[-10:])\n",
    "plt.xlim([-1, 10])\n",
    "plt.show()"
   ]
  },
  {
   "cell_type": "markdown",
   "metadata": {},
   "source": [
    "### Logistic Regressor"
   ]
  },
  {
   "cell_type": "code",
   "execution_count": 69,
   "metadata": {
    "collapsed": true
   },
   "outputs": [],
   "source": [
    "# features2 = ['c_O.V.V._2yr', 'pv_total','GRAND_TOTAL_BALANCE','condition_value','vacant',\\\n",
    "#              'totusabl', 'tmktval', 'fc_days', 'days_since_transfer', 'propsize', 'yrbuilt_filtered', 'al_days']\n",
    "\n",
    "# # features2 = ['c_O.V.V._2yr', 'pv_total','GRAND_TOTAL_BALANCE','condition_value','vacant']"
   ]
  },
  {
   "cell_type": "code",
   "execution_count": 70,
   "metadata": {
    "collapsed": false
   },
   "outputs": [],
   "source": [
    "# train_lr = preprocessing.scale(X_train)\n",
    "# test_lr = preprocessing.scale(X_test)\n",
    "\n",
    "# lr = LogisticRegression(class_weight={0:1, 1:2}, random_state=1001)\n",
    "# lr.fit(pd.DataFrame(train_lr, columns = features), y_train)\n",
    "# pd.crosstab(y_test,lr.predict(test_lr))"
   ]
  },
  {
   "cell_type": "code",
   "execution_count": 71,
   "metadata": {
    "collapsed": false
   },
   "outputs": [
    {
     "data": {
      "text/html": [
       "<div>\n",
       "<table border=\"1\" class=\"dataframe\">\n",
       "  <thead>\n",
       "    <tr style=\"text-align: right;\">\n",
       "      <th>predicted by LR</th>\n",
       "      <th>0</th>\n",
       "      <th>1</th>\n",
       "    </tr>\n",
       "    <tr>\n",
       "      <th>vacant</th>\n",
       "      <th></th>\n",
       "      <th></th>\n",
       "    </tr>\n",
       "  </thead>\n",
       "  <tbody>\n",
       "    <tr>\n",
       "      <th>0</th>\n",
       "      <td>19822</td>\n",
       "      <td>772</td>\n",
       "    </tr>\n",
       "    <tr>\n",
       "      <th>1</th>\n",
       "      <td>787</td>\n",
       "      <td>1246</td>\n",
       "    </tr>\n",
       "  </tbody>\n",
       "</table>\n",
       "</div>"
      ],
      "text/plain": [
       "predicted by LR      0     1\n",
       "vacant                      \n",
       "0                19822   772\n",
       "1                  787  1246"
      ]
     },
     "execution_count": 71,
     "metadata": {},
     "output_type": "execute_result"
    }
   ],
   "source": [
    "lr = LogisticRegression(class_weight={0:1, 1:3}, random_state=1001)\n",
    "lr.fit(pd.DataFrame(X_train, columns = features), y_train)\n",
    "# pd.crosstab(y_test,lr.predict(X_test))\n",
    "\n",
    "pd.crosstab(y_test,lr.predict(X_test),colnames=['predicted by LR'])"
   ]
  },
  {
   "cell_type": "code",
   "execution_count": 72,
   "metadata": {
    "collapsed": false
   },
   "outputs": [
    {
     "name": "stdout",
     "output_type": "stream",
     "text": [
      "{'res': 0.7837227656298187, 'log_res': 0.7680574631946132} {'res': 0.6311694626793095, 'log_res': 0.6151567514194025} 0.6174430128840436 0.6128873585833743\n"
     ]
    }
   ],
   "source": [
    "dat = pd.DataFrame([lr.predict_proba(X_test)[:,1], y_test, lr.predict(X_test)]).T\n",
    "dat = dat.rename(columns={0:'prob',1:'act',2:'pred'})\n",
    "\n",
    "# sns.distplot(dat[(dat.act==1)&(dat.pred==1)].prob);\n",
    "# sns.distplot(dat[(dat.act==0)&(dat.pred==1)].prob);\n",
    "# sns.distplot(dat[(dat.act==1)&(dat.pred==0)].prob);\n",
    "# sns.distplot(dat[(dat.act==0)&(dat.pred==0)].prob);\n",
    "# plt.legend(['True vacant','False vacant','False Occupied','True Occupied'])\n",
    "\n",
    "acc_neg = len(dat[(dat.act==0) & (dat.pred==0)])/len(dat[dat.act==0])\n",
    "acc_pos = len(dat[(dat.act==1) & (dat.pred==1)])/len(dat[dat.act==1])\n",
    "G['log_res'] = (acc_neg*acc_pos)**0.5\n",
    "prec = len(dat[(dat.act==1) & (dat.pred==1)])/len(dat[dat.pred==1])\n",
    "F['log_res'] = 2*prec*acc_pos/(prec+acc_pos)\n",
    "print(G, F, prec, acc_pos)"
   ]
  },
  {
   "cell_type": "code",
   "execution_count": 73,
   "metadata": {
    "collapsed": false
   },
   "outputs": [
    {
     "data": {
      "text/plain": [
       "[<matplotlib.lines.Line2D at 0x108b68f98>]"
      ]
     },
     "execution_count": 73,
     "metadata": {},
     "output_type": "execute_result"
    },
    {
     "data": {
      "image/png": "[encoded data removed]",
      "text/plain": [
       "<matplotlib.figure.Figure at 0x114670080>"
      ]
     },
     "metadata": {},
     "output_type": "display_data"
    }
   ],
   "source": [
    "log_res = {}\n",
    "for i in range(0,21):\n",
    "    # copy = y_test.copy()\n",
    "    p = i/20\n",
    "    copy = pd.Series(lr.predict_proba(X_test)[:,1],index=y_test.index)\n",
    "    log_res[p] = {'correct': sum(y_test[copy.sort_values(ascending=False)[:int(len(X_test)*p)].index]), \\\n",
    "              'searched': len(y_test[copy.sort_values(ascending=False)[:int(len(X_test)*p)].index]), \\\n",
    "              'percent': sum(y_test[copy.sort_values(ascending=False)[:int(len(X_test)*p)].index])/sum(y_test) }\n",
    "#     sum(y_test[copy.sort_values(ascending=False)[:int(len(X_test)*p)].index]), len(y_test[copy.sort_values(ascending=False)[:int(len(X_test)*p)].index]), sum(y_test)\n",
    "log_res = pd.DataFrame(log_res).T\n",
    "\n",
    "plt.plot(res.index, res.percent)\n",
    "plt.plot(log_res.index, log_res.percent)"
   ]
  },
  {
   "cell_type": "code",
   "execution_count": 74,
   "metadata": {
    "collapsed": false
   },
   "outputs": [
    {
     "name": "stdout",
     "output_type": "stream",
     "text": [
      "Feature ranking:\n",
      "1. feature 40, pv_count (0.212214)\n",
      "2. feature 7, condition_value14 (-0.109732)\n",
      "3. feature 6, condition_value13 (-0.093558)\n",
      "4. feature 41, v_total_1yr (0.077533)\n",
      "5. feature 42, v_total_2yr (0.064058)\n",
      "6. feature 0, cqual_num (-0.039384)\n",
      "7. feature 8, ownerocc_value (-0.029104)\n",
      "8. feature 37, delq_total_ratio (0.021971)\n",
      "9. feature 26, hispanic (-0.017211)\n",
      "10. feature 38, paid_percent (-0.016745)\n",
      "11. feature 1, occup (0.014700)\n",
      "12. feature 20, poverty_rate (0.012817)\n",
      "13. feature 10, LONGITUDE (0.012147)\n",
      "14. feature 2, rnumstor (-0.010548)\n",
      "15. feature 24, asian (-0.010166)\n",
      "\n",
      "Feature ranking (least important):\n",
      "1. feature 18, part_two_crimes (-0.000000)\n",
      "2. feature 15, property_crimes (-0.000009)\n",
      "3. feature 5, tmktval (-0.000010)\n",
      "4. feature 21, median_hh_income (0.000012)\n",
      "5. feature 44, c_ovv_board_num (0.000013)\n",
      "6. feature 17, part_one_crimes (0.000022)\n",
      "7. feature 3, propsize (-0.000024)\n",
      "8. feature 39, GRAND_TOTAL_BALANCE_14 (0.000026)\n",
      "9. feature 16, burglaries (0.000036)\n",
      "10. feature 36, GRAND_TOTAL_PAID (-0.000050)\n"
     ]
    }
   ],
   "source": [
    "importances = lr.coef_[0]\n",
    "# std = np.std([tree.feature_importances_ for tree in lr.estimators_],\n",
    "#              axis=0)\n",
    "indices = np.argsort(abs(importances))[::-1]\n",
    "\n",
    "# Print the feature ranking\n",
    "print(\"Feature ranking:\")\n",
    "\n",
    "for f in range(15):\n",
    "    print(\"%d. feature %d, %s (%f)\" % (f + 1, indices[f], features[indices[f]], importances[indices[f]]))\n",
    "print(\"\\nFeature ranking (least important):\")\n",
    "for f in range(10):\n",
    "    print(\"%d. feature %d, %s (%f)\" % (f + 1, indices[-f-1], features[indices[-f-1]], importances[indices[-f-1]]))"
   ]
  },
  {
   "cell_type": "markdown",
   "metadata": {},
   "source": [
    "### Gradient boosted classifier"
   ]
  },
  {
   "cell_type": "code",
   "execution_count": 75,
   "metadata": {
    "collapsed": false
   },
   "outputs": [],
   "source": [
    "from sklearn.ensemble import AdaBoostClassifier\n",
    "from sklearn.ensemble import GradientBoostingClassifier\n",
    "\n",
    "# est = GradientBoostingClassifier(n_estimators=300, learning_rate=0.7,\n",
    "#     max_depth=1, random_state=0).fit(X_train, y_train)\n",
    "# clf.score(train[features], y)                 "
   ]
  },
  {
   "cell_type": "code",
   "execution_count": 76,
   "metadata": {
    "collapsed": false
   },
   "outputs": [],
   "source": [
    "# from sklearn.ensemble import GradientBoostingClassifier\n",
    "\n",
    "# est = GradientBoostingClassifier(n_estimators=500, learning_rate=0.7,\n",
    "#     max_depth=1, random_state=0).fit(X_train, y_train)\n",
    "# # clf.score(train[features], y)                 \n",
    "# pd.crosstab(y_test, est.predict(X_test))"
   ]
  },
  {
   "cell_type": "code",
   "execution_count": 77,
   "metadata": {
    "collapsed": false
   },
   "outputs": [],
   "source": [
    "# dat = pd.DataFrame([est.predict_proba(X_test)[:,1], y_test, est.predict(X_test)]).T\n",
    "# dat = dat.rename(columns={0:'prob',1:'act',2:'pred'})\n",
    "\n",
    "# sns.distplot(dat[(dat.act==1)&(dat.pred==1)].prob);\n",
    "# sns.distplot(dat[(dat.act==0)&(dat.pred==1)].prob);\n",
    "# sns.distplot(dat[(dat.act==1)&(dat.pred==0)].prob);\n",
    "# sns.distplot(dat[(dat.act==0)&(dat.pred==0)].prob);\n",
    "# plt.legend(['True vacant','False vacant','False Occupied','True Occupied'])"
   ]
  },
  {
   "cell_type": "code",
   "execution_count": 78,
   "metadata": {
    "collapsed": false
   },
   "outputs": [],
   "source": [
    "# gbm_res = {}\n",
    "# for i in range(0,21):\n",
    "#     # copy = y_test.copy()\n",
    "#     p = i/20\n",
    "#     copy = pd.Series(est.predict_proba(X_test)[:,1],index=y_test.index)\n",
    "#     gbm_res[p] = {'correct': sum(y_test[copy.sort_values(ascending=False)[:int(len(X_test)*p)].index]), \\\n",
    "#               'searched': len(y_test[copy.sort_values(ascending=False)[:int(len(X_test)*p)].index]), \\\n",
    "#               'percent': sum(y_test[copy.sort_values(ascending=False)[:int(len(X_test)*p)].index])/sum(y_test) }\n",
    "# #     sum(y_test[copy.sort_values(ascending=False)[:int(len(X_test)*p)].index]), len(y_test[copy.sort_values(ascending=False)[:int(len(X_test)*p)].index]), sum(y_test)\n",
    "# gbm_res = pd.DataFrame(gbm_res).T\n",
    "\n",
    "# plt.plot(res.index, res.percent)\n",
    "# plt.plot(log_res.index, log_res.percent)\n",
    "# plt.plot(gbm_res.index, gbm_res.percent)\n",
    "# plt.legend(['Random forest','Logistic regression','Gradient boosted trees'],loc='lower right');"
   ]
  },
  {
   "cell_type": "code",
   "execution_count": 79,
   "metadata": {
    "collapsed": false
   },
   "outputs": [],
   "source": [
    "# n_estimators = len(est.estimators_)\n",
    "\n",
    "# def deviance_plot(est, X_test, y_test, ax=None, label='', train_color='#2c7bb6',\n",
    "#                   test_color='#d7191c', alpha=1.0):\n",
    "#     \"\"\"Deviance plot for ``est``, use ``X_test`` and ``y_test`` for test error. \"\"\"\n",
    "#     test_dev = np.empty(n_estimators)\n",
    "\n",
    "#     for i, pred in enumerate(est.staged_predict(X_test)):\n",
    "#        test_dev[i] = est.loss_(y_test, pred)\n",
    "\n",
    "#     if ax is None:\n",
    "#         fig = plt.figure(figsize=(7, 5))\n",
    "#         ax = plt.gca()\n",
    "\n",
    "#     ax.plot(np.arange(n_estimators) + 1, test_dev, color=test_color, label='Test %s' % label,\n",
    "#              linewidth=2, alpha=alpha)\n",
    "#     ax.plot(np.arange(n_estimators) + 1, est.train_score_, color=train_color,\n",
    "#              label='Train %s' % label, linewidth=2, alpha=alpha)\n",
    "#     ax.set_ylabel('Error')\n",
    "#     ax.set_xlabel('n_estimators')\n",
    "# #     ax.set_ylim((0, 2))\n",
    "#     return test_dev, ax\n",
    "\n",
    "# test_dev, ax = deviance_plot(est, X_test, y_test)\n",
    "# ax.legend(loc=[0.8,0.8])\n",
    "\n",
    "# # add some annotations\n",
    "# # ax.annotate('Lowest test error', xy=(test_dev.argmin() + 1, test_dev.min() + 0.02), xycoords='data',\\\n",
    "# #             xytext=(50, 1.0), textcoords='data',\\\n",
    "# #             arrowprops=dict(arrowstyle=\"->\", connectionstyle=\"arc\"),\\\n",
    "# #             )\n",
    "\n",
    "# ann = ax.annotate('', xy=(150, test_dev[149]),  xycoords='data',\\\n",
    "#                   xytext=(150, est.train_score_[149]), textcoords='data',\\\n",
    "#                   arrowprops=dict(arrowstyle=\"<->\"))\n",
    "# ax.text(160, 0.85, 'train-test gap')"
   ]
  },
  {
   "cell_type": "code",
   "execution_count": 80,
   "metadata": {
    "collapsed": false
   },
   "outputs": [],
   "source": [
    "# fig = plt.figure(figsize=(8, 5))\n",
    "# ax = plt.gca()\n",
    "# for params, (test_color, train_color) in [({}, ('#d7191c', '#2c7bb6')),\n",
    "#                                           ({'learning_rate': 0.1},\n",
    "#                                            ('#fdae61', '#abd9e9'))]:\n",
    "#     est = GradientBoostingClassifier(n_estimators=n_estimators, max_depth=1, learning_rate=1.0)\n",
    "#     est.set_params(**params)\n",
    "#     est.fit(X_train, y_train)\n",
    "\n",
    "#     test_dev, ax = deviance_plot(est, X_test, y_test, ax=ax, label=fmt_params(params),\n",
    "#                                  train_color=train_color, test_color=test_color)\n",
    "\n",
    "# ax.annotate('Requires more trees', xy=(200, est.train_score_[199]), xycoords='data',\n",
    "#             xytext=(300, 1.0), textcoords='data',\n",
    "#             arrowprops=dict(arrowstyle=\"->\", connectionstyle=\"arc\"),\n",
    "#             )\n",
    "# ax.annotate('Lower test error', xy=(900, test_dev[899]), xycoords='data',\n",
    "#             xytext=(600, 0.5), textcoords='data',\n",
    "#             arrowprops=dict(arrowstyle=\"->\", connectionstyle=\"arc\"),\n",
    "#             )\n",
    "# plt.legend(loc='upper right')"
   ]
  },
  {
   "cell_type": "code",
   "execution_count": 81,
   "metadata": {
    "collapsed": false
   },
   "outputs": [],
   "source": [
    "# abc = AdaBoostClassifier(random_state=0)\n",
    "# abc.fit(X_train, y_train)\n",
    "# pd.crosstab(y_test, abc.predict(X_test), rownames=['actual'], colnames=['preds'])"
   ]
  },
  {
   "cell_type": "code",
   "execution_count": 82,
   "metadata": {
    "collapsed": true
   },
   "outputs": [],
   "source": [
    "# abc_res = {}\n",
    "# for i in range(0,21):\n",
    "#     # copy = y_test.copy()\n",
    "#     p = i/20\n",
    "#     copy = pd.Series(abc.predict_proba(X_test)[:,1],index=y_test.index)\n",
    "#     abc_res[p] = {'correct': sum(y_test[copy.sort_values(ascending=False)[:int(len(X_test)*p)].index]), \\\n",
    "#               'searched': len(y_test[copy.sort_values(ascending=False)[:int(len(X_test)*p)].index]), \\\n",
    "#               'percent': sum(y_test[copy.sort_values(ascending=False)[:int(len(X_test)*p)].index])/sum(y_test) }\n",
    "# #     sum(y_test[copy.sort_values(ascending=False)[:int(len(X_test)*p)].index]), len(y_test[copy.sort_values(ascending=False)[:int(len(X_test)*p)].index]), sum(y_test)\n",
    "# abc_res = pd.DataFrame(abc_res).T"
   ]
  },
  {
   "cell_type": "code",
   "execution_count": 83,
   "metadata": {
    "collapsed": false
   },
   "outputs": [],
   "source": [
    "# sns.set_context('notebook')\n",
    "# plt.plot(res.index, res.percent)\n",
    "# plt.plot(log_res.index, log_res.percent)\n",
    "# plt.plot(xgb_res.index, xgb_res.percent)\n",
    "# plt.plot(abc_res.index, abc_res.percent)\n",
    "# plt.plot([0,sum(y_test)/len(y_test)],[0,1],'k--',linewidth=1)\n",
    "# plt.xlabel('Fraction of homes inspected')\n",
    "# plt.ylabel('Fraction of vacant identified')\n",
    "# # plt.set_xticklabels(fontsize='small')\n",
    "# # plt.axis([-0.05,1.05,-0.05,1.05])\n",
    "# plt.legend(['Random forest','Logistic regression','Gradient boosted trees','Perfect classifier'],loc='lower right');\n",
    "# plt.savefig(path+'/outputs/model_inspection_comparison.ps')"
   ]
  },
  {
   "cell_type": "markdown",
   "metadata": {},
   "source": [
    "### Single decision tree"
   ]
  },
  {
   "cell_type": "code",
   "execution_count": 84,
   "metadata": {
    "collapsed": false
   },
   "outputs": [],
   "source": [
    "# from sklearn import tree"
   ]
  },
  {
   "cell_type": "code",
   "execution_count": 85,
   "metadata": {
    "collapsed": false
   },
   "outputs": [],
   "source": [
    "# leafs = range(1,20,1)\n",
    "# scores = []\n",
    "# for leaf in leafs:\n",
    "#     clf = tree.DecisionTreeClassifier(class_weight='auto', min_samples_leaf=leaf)\n",
    "#     scores.append(cross_val_score(clf, df[features], df.vacant, cv=10, scoring='accuracy').mean())\n",
    "# plt.plot(leafs, scores, '--');"
   ]
  },
  {
   "cell_type": "code",
   "execution_count": 86,
   "metadata": {
    "collapsed": false
   },
   "outputs": [],
   "source": [
    "# clf = tree.DecisionTreeClassifier(class_weight={0:1,1:2}, min_samples_leaf=12)\n",
    "# clf = clf.fit(X_train, y_train)"
   ]
  },
  {
   "cell_type": "code",
   "execution_count": 87,
   "metadata": {
    "collapsed": false
   },
   "outputs": [],
   "source": [
    "# pd.crosstab(y_test, clf.predict(X_test), rownames=['actual'], colnames=['preds'])"
   ]
  },
  {
   "cell_type": "markdown",
   "metadata": {},
   "source": [
    "## xgboost"
   ]
  },
  {
   "cell_type": "code",
   "execution_count": 88,
   "metadata": {
    "collapsed": false
   },
   "outputs": [
    {
     "data": {
      "text/html": [
       "<div>\n",
       "<table border=\"1\" class=\"dataframe\">\n",
       "  <thead>\n",
       "    <tr style=\"text-align: right;\">\n",
       "      <th>col_0</th>\n",
       "      <th>0</th>\n",
       "      <th>1</th>\n",
       "    </tr>\n",
       "    <tr>\n",
       "      <th>vacant</th>\n",
       "      <th></th>\n",
       "      <th></th>\n",
       "    </tr>\n",
       "  </thead>\n",
       "  <tbody>\n",
       "    <tr>\n",
       "      <th>0</th>\n",
       "      <td>20343</td>\n",
       "      <td>251</td>\n",
       "    </tr>\n",
       "    <tr>\n",
       "      <th>1</th>\n",
       "      <td>1021</td>\n",
       "      <td>1012</td>\n",
       "    </tr>\n",
       "  </tbody>\n",
       "</table>\n",
       "</div>"
      ],
      "text/plain": [
       "col_0       0     1\n",
       "vacant             \n",
       "0       20343   251\n",
       "1        1021  1012"
      ]
     },
     "execution_count": 88,
     "metadata": {},
     "output_type": "execute_result"
    }
   ],
   "source": [
    "import xgboost as xgb\n",
    "\n",
    "xgtest = X_test.as_matrix()\n",
    "#create train and validation dmatrices \n",
    "xgtrain = X_train.as_matrix()\n",
    "\n",
    "gbm = xgb.XGBClassifier(seed=0).fit(xgtrain, y_train)\n",
    "predictions = gbm.predict(xgtest)\n",
    "probs = gbm.predict_proba(xgtest)\n",
    "pd.crosstab(y_test,predictions)"
   ]
  },
  {
   "cell_type": "code",
   "execution_count": 89,
   "metadata": {
    "collapsed": true
   },
   "outputs": [],
   "source": [
    "t = X_test.copy()"
   ]
  },
  {
   "cell_type": "code",
   "execution_count": 90,
   "metadata": {
    "collapsed": false
   },
   "outputs": [
    {
     "data": {
      "text/plain": [
       "['/Volumes/Dropbox/largetransfer/luc/carter/data/models/gbm.pkl',\n",
       " '/Volumes/Dropbox/largetransfer/luc/carter/data/models/gbm.pkl_01.npy']"
      ]
     },
     "execution_count": 90,
     "metadata": {},
     "output_type": "execute_result"
    }
   ],
   "source": [
    "from sklearn.externals import joblib\n",
    "joblib.dump(gbm, path+'/data/models/gbm.pkl') "
   ]
  },
  {
   "cell_type": "code",
   "execution_count": 91,
   "metadata": {
    "collapsed": false
   },
   "outputs": [],
   "source": [
    "# gbm.save_model(path+'/data/models/')"
   ]
  },
  {
   "cell_type": "code",
   "execution_count": 92,
   "metadata": {
    "collapsed": false
   },
   "outputs": [],
   "source": [
    "t['preds'] = pd.Series(probs[:,1]+.23).apply(lambda x: int(round(x))).values"
   ]
  },
  {
   "cell_type": "code",
   "execution_count": 93,
   "metadata": {
    "collapsed": false
   },
   "outputs": [],
   "source": [
    "t[['preds']].to_csv(path+'/data/predictions/xgb.csv')"
   ]
  },
  {
   "cell_type": "code",
   "execution_count": 94,
   "metadata": {
    "collapsed": false
   },
   "outputs": [
    {
     "data": {
      "text/html": [
       "<div>\n",
       "<table border=\"1\" class=\"dataframe\">\n",
       "  <thead>\n",
       "    <tr style=\"text-align: right;\">\n",
       "      <th>predicted by GBM</th>\n",
       "      <th>0</th>\n",
       "      <th>1</th>\n",
       "    </tr>\n",
       "    <tr>\n",
       "      <th>actual</th>\n",
       "      <th></th>\n",
       "      <th></th>\n",
       "    </tr>\n",
       "  </thead>\n",
       "  <tbody>\n",
       "    <tr>\n",
       "      <th>0</th>\n",
       "      <td>79860</td>\n",
       "      <td>2640</td>\n",
       "    </tr>\n",
       "    <tr>\n",
       "      <th>1</th>\n",
       "      <td>2936</td>\n",
       "      <td>5069</td>\n",
       "    </tr>\n",
       "  </tbody>\n",
       "</table>\n",
       "</div>"
      ],
      "text/plain": [
       "predicted by GBM      0     1\n",
       "actual                       \n",
       "0                 79860  2640\n",
       "1                  2936  5069"
      ]
     },
     "execution_count": 94,
     "metadata": {},
     "output_type": "execute_result"
    }
   ],
   "source": [
    "probs_train = gbm.predict_proba(xgtrain)\n",
    "pd.crosstab(y_train,pd.Series(probs_train[:,1]+.23).apply(lambda x: int(round(x))).values,rownames=['actual'],colnames=['predicted by GBM'])"
   ]
  },
  {
   "cell_type": "code",
   "execution_count": 95,
   "metadata": {
    "collapsed": false
   },
   "outputs": [
    {
     "data": {
      "text/html": [
       "<div>\n",
       "<table border=\"1\" class=\"dataframe\">\n",
       "  <thead>\n",
       "    <tr style=\"text-align: right;\">\n",
       "      <th>predicted by GBM</th>\n",
       "      <th>0</th>\n",
       "      <th>1</th>\n",
       "    </tr>\n",
       "    <tr>\n",
       "      <th>actual</th>\n",
       "      <th></th>\n",
       "      <th></th>\n",
       "    </tr>\n",
       "  </thead>\n",
       "  <tbody>\n",
       "    <tr>\n",
       "      <th>0</th>\n",
       "      <td>19922</td>\n",
       "      <td>672</td>\n",
       "    </tr>\n",
       "    <tr>\n",
       "      <th>1</th>\n",
       "      <td>767</td>\n",
       "      <td>1266</td>\n",
       "    </tr>\n",
       "  </tbody>\n",
       "</table>\n",
       "</div>"
      ],
      "text/plain": [
       "predicted by GBM      0     1\n",
       "actual                       \n",
       "0                 19922   672\n",
       "1                   767  1266"
      ]
     },
     "execution_count": 95,
     "metadata": {},
     "output_type": "execute_result"
    }
   ],
   "source": [
    "pd.crosstab(y_test,pd.Series(probs[:,1]+.23).apply(lambda x: int(round(x))).values,rownames=['actual'],colnames=['predicted by GBM'])"
   ]
  },
  {
   "cell_type": "code",
   "execution_count": 96,
   "metadata": {
    "collapsed": false
   },
   "outputs": [],
   "source": [
    "xgb_res = {}\n",
    "for i in range(0,21):\n",
    "    # copy = y_test.copy()\n",
    "    p = i/20\n",
    "    copy = pd.Series(probs[:,1]+.22)\n",
    "#     copy = pd.Series(probs[:,1],index=y_test.index)\n",
    "    xgb_res[p] = {'correct': sum(y_test[copy.sort_values(ascending=False)[:int(len(X_test)*p)].index]), \\\n",
    "              'searched': len(y_test[copy.sort_values(ascending=False)[:int(len(X_test)*p)].index]), \\\n",
    "              'percent': sum(y_test[copy.sort_values(ascending=False)[:int(len(X_test)*p)].index])/sum(y_test) }\n",
    "#     sum(y_test[copy.sort_values(ascending=False)[:int(len(X_test)*p)].index]), len(y_test[copy.sort_values(ascending=False)[:int(len(X_test)*p)].index]), sum(y_test)\n",
    "xgb_res = pd.DataFrame(xgb_res).T"
   ]
  },
  {
   "cell_type": "code",
   "execution_count": 97,
   "metadata": {
    "collapsed": false
   },
   "outputs": [
    {
     "data": {
      "image/png": "[encoded data removed]",
      "text/plain": [
       "<matplotlib.figure.Figure at 0x1126f4710>"
      ]
     },
     "metadata": {},
     "output_type": "display_data"
    }
   ],
   "source": [
    "# sns.set_context('notebook')\n",
    "# sns.set_style(\"whitegrid\")\n",
    "fig = plt.figure()\n",
    "# fig, ax = plt.subplots()\n",
    "# ax.plot(t, s)\n",
    "\n",
    "plot = fig.add_subplot(111)\n",
    "# ax.grid(True)\n",
    "ax = fig.gca()\n",
    "ax.grid(True)\n",
    "plot.tick_params(axis='both', labelsize=12)\n",
    "plt.plot(log_res.index, log_res.percent,linewidth=1.5)\n",
    "plt.plot(res.index, res.percent,linewidth=1.5)\n",
    "plt.plot(xgb_res.index, xgb_res.percent,linewidth=1.5)\n",
    "plt.plot([0,sum(y_test)/len(y_test)],[0,1],'k--',linewidth=1)\n",
    "plt.xlabel('Fraction of homes inspected',fontsize=12)\n",
    "plt.ylabel('Fraction of vacancies identified',fontsize=12)\n",
    "# plt.set_xticklabels(fontsize='small')\n",
    "# plt.axis([-0.05,1.05,-0.05,1.05])\n",
    "plt.legend(['Logistic regression','Random forest','Gradient boosted model','Perfect classifier'],loc='lower right',fontsize=12);\n",
    "plt.savefig(path+'/outputs/model_inspection_comparison.pdf')"
   ]
  },
  {
   "cell_type": "code",
   "execution_count": 98,
   "metadata": {
    "collapsed": false
   },
   "outputs": [
    {
     "data": {
      "text/html": [
       "<div>\n",
       "<table border=\"1\" class=\"dataframe\">\n",
       "  <thead>\n",
       "    <tr style=\"text-align: right;\">\n",
       "      <th></th>\n",
       "      <th>Random forest</th>\n",
       "      <th>Logistic regression</th>\n",
       "      <th>Gradient boosted</th>\n",
       "    </tr>\n",
       "  </thead>\n",
       "  <tbody>\n",
       "    <tr>\n",
       "      <th>0.0</th>\n",
       "      <td>0</td>\n",
       "      <td>0</td>\n",
       "      <td>0</td>\n",
       "    </tr>\n",
       "    <tr>\n",
       "      <th>0.1</th>\n",
       "      <td>1339</td>\n",
       "      <td>1296</td>\n",
       "      <td>1351</td>\n",
       "    </tr>\n",
       "    <tr>\n",
       "      <th>0.2</th>\n",
       "      <td>1635</td>\n",
       "      <td>1603</td>\n",
       "      <td>1676</td>\n",
       "    </tr>\n",
       "    <tr>\n",
       "      <th>0.3</th>\n",
       "      <td>1779</td>\n",
       "      <td>1761</td>\n",
       "      <td>1796</td>\n",
       "    </tr>\n",
       "    <tr>\n",
       "      <th>0.4</th>\n",
       "      <td>1861</td>\n",
       "      <td>1839</td>\n",
       "      <td>1869</td>\n",
       "    </tr>\n",
       "    <tr>\n",
       "      <th>0.5</th>\n",
       "      <td>1910</td>\n",
       "      <td>1894</td>\n",
       "      <td>1923</td>\n",
       "    </tr>\n",
       "    <tr>\n",
       "      <th>0.6</th>\n",
       "      <td>1950</td>\n",
       "      <td>1938</td>\n",
       "      <td>1959</td>\n",
       "    </tr>\n",
       "    <tr>\n",
       "      <th>0.7</th>\n",
       "      <td>1988</td>\n",
       "      <td>1972</td>\n",
       "      <td>1983</td>\n",
       "    </tr>\n",
       "    <tr>\n",
       "      <th>0.8</th>\n",
       "      <td>2002</td>\n",
       "      <td>2000</td>\n",
       "      <td>2005</td>\n",
       "    </tr>\n",
       "    <tr>\n",
       "      <th>0.9</th>\n",
       "      <td>2023</td>\n",
       "      <td>2019</td>\n",
       "      <td>2017</td>\n",
       "    </tr>\n",
       "    <tr>\n",
       "      <th>1.0</th>\n",
       "      <td>2033</td>\n",
       "      <td>2033</td>\n",
       "      <td>2033</td>\n",
       "    </tr>\n",
       "  </tbody>\n",
       "</table>\n",
       "</div>"
      ],
      "text/plain": [
       "     Random forest  Logistic regression  Gradient boosted\n",
       "0.0              0                    0                 0\n",
       "0.1           1339                 1296              1351\n",
       "0.2           1635                 1603              1676\n",
       "0.3           1779                 1761              1796\n",
       "0.4           1861                 1839              1869\n",
       "0.5           1910                 1894              1923\n",
       "0.6           1950                 1938              1959\n",
       "0.7           1988                 1972              1983\n",
       "0.8           2002                 2000              2005\n",
       "0.9           2023                 2019              2017\n",
       "1.0           2033                 2033              2033"
      ]
     },
     "execution_count": 98,
     "metadata": {},
     "output_type": "execute_result"
    }
   ],
   "source": [
    "tem = pd.concat([res[['correct']].iloc[range(0,22,2)], \\\n",
    "           log_res[['correct']].iloc[range(0,22,2)],\\\n",
    "           xgb_res[['correct']].iloc[range(0,22,2)] ], axis=1)\n",
    "\n",
    "tem.columns = ['Random forest','Logistic regression','Gradient boosted']\n",
    "\n",
    "tem"
   ]
  },
  {
   "cell_type": "code",
   "execution_count": 99,
   "metadata": {
    "collapsed": false
   },
   "outputs": [
    {
     "name": "stdout",
     "output_type": "stream",
     "text": [
      "{'res': 0.7837227656298187, 'xgb_res': 0.7761475254761343, 'log_res': 0.7680574631946132} {'res': 0.6311694626793095, 'xgb_res': 0.6376227650465878, 'log_res': 0.6151567514194025} 0.653250773993808 0.6227250368912937\n"
     ]
    }
   ],
   "source": [
    "dat = pd.DataFrame([gbm.predict_proba(X_test)[:,1]+0.22, y_test, pd.Series(probs[:,1]+.23).apply(lambda x: int(round(x))).values]).T\n",
    "dat = dat.rename(columns={0:'prob',1:'act',2:'pred'})\n",
    "\n",
    "\n",
    "# sns.distplot(dat[(dat.act==1)&(dat.pred==1)].prob);\n",
    "# sns.distplot(dat[(dat.act==0)&(dat.pred==1)].prob);\n",
    "# sns.distplot(dat[(dat.act==1)&(dat.pred==0)].prob);\n",
    "# sns.distplot(dat[(dat.act==0)&(dat.pred==0)].prob);\n",
    "# plt.legend(['True vacant','False vacant','False Occupied','True Occupied'])\n",
    "\n",
    "acc_neg = len(dat[(dat.act==0) & (dat.pred==0)])/len(dat[dat.act==0])\n",
    "acc_pos = len(dat[(dat.act==1) & (dat.pred==1)])/len(dat[dat.act==1])\n",
    "G['xgb_res'] = (acc_neg*acc_pos)**0.5\n",
    "prec = len(dat[(dat.act==1) & (dat.pred==1)])/len(dat[dat.pred==1])\n",
    "F['xgb_res'] = 2*prec*acc_pos/(prec+acc_pos)\n",
    "print(G, F, prec, acc_pos)"
   ]
  },
  {
   "cell_type": "code",
   "execution_count": 100,
   "metadata": {
    "collapsed": false
   },
   "outputs": [
    {
     "data": {
      "image/png": "[encoded data removed]",
      "text/plain": [
       "<matplotlib.figure.Figure at 0x114061b38>"
      ]
     },
     "metadata": {},
     "output_type": "display_data"
    }
   ],
   "source": [
    "from sklearn.metrics import roc_curve\n",
    "\n",
    "fig = plt.figure(figsize=[5,5])\n",
    "plot = fig.add_subplot(111)\n",
    "\n",
    "ax = fig.gca()\n",
    "ax.grid(True)\n",
    "\n",
    "\n",
    "# The logistic regression\n",
    "y_pred_lr = lr.predict_proba(X_test)[:, 1]\n",
    "fpr_lr, tpr_lr, _ = roc_curve(y_test, y_pred_lr)\n",
    "\n",
    "# The random forest model by itself\n",
    "y_pred_rf = rfc.predict_proba(X_test)[:, 1]\n",
    "fpr_rf, tpr_rf, _ = roc_curve(y_test, y_pred_rf)\n",
    "\n",
    "# The random forest model by itself\n",
    "y_pred_gb = gbm.predict_proba(X_test)[:, 1]\n",
    "fpr_gb, tpr_gb, _ = roc_curve(y_test, y_pred_gb)\n",
    "\n",
    "plt.plot(fpr_lr, tpr_lr, label='Logistic regression')\n",
    "plt.plot(fpr_rf, tpr_rf, label='Random forest')\n",
    "plt.plot(fpr_gb, tpr_gb, label='Gradient boosted')\n",
    "plt.plot([0,1], [0,1],'k--')\n",
    "\n",
    "plt.legend(loc='lower right');\n",
    "plt.axis([0,1,0,1],'equal')\n",
    "plt.ylabel('True positive rate')\n",
    "plt.xlabel('False positive rate')\n",
    "\n",
    "plt.savefig(path+'/outputs/model_ROC.pdf')"
   ]
  },
  {
   "cell_type": "code",
   "execution_count": null,
   "metadata": {
    "collapsed": true
   },
   "outputs": [],
   "source": []
  }
 ],
 "metadata": {
  "kernelspec": {
   "display_name": "Python 3",
   "language": "python",
   "name": "python3"
  },
  "language_info": {
   "codemirror_mode": {
    "name": "ipython",
    "version": 3
   },
   "file_extension": ".py",
   "mimetype": "text/x-python",
   "name": "python",
   "nbconvert_exporter": "python",
   "pygments_lexer": "ipython3",
   "version": "3.4.4"
  }
 },
 "nbformat": 4,
 "nbformat_minor": 0
}
