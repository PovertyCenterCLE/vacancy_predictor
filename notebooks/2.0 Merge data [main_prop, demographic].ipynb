{
 "cells": [
  {
   "cell_type": "markdown",
   "metadata": {},
   "source": [
    "# 2.0 Combine Data from ```prop.csv```\n",
    "\n",
    "Data has now been filtered for the parcel numbers in the existing dataset. The end goal is to have a dataset with one row for each parcel in which to build the model. **Imputation will occur in a separate notebook!**\n",
    "\n",
    "However, we can't forget to explore the existing data for trends or insight along the way, as well as engineer features as we see fit."
   ]
  },
  {
   "cell_type": "code",
   "execution_count": 2,
   "metadata": {
    "collapsed": false
   },
   "outputs": [
    {
     "name": "stdout",
     "output_type": "stream",
     "text": [
      "/Volumes/Dropbox/largetransfer/luc/carter\n"
     ]
    }
   ],
   "source": [
    "import matplotlib.pyplot as plt\n",
    "import seaborn as sns\n",
    "import pandas as pd\n",
    "import numpy as np\n",
    "import os\n",
    "\n",
    "%matplotlib inline\n",
    "sns.set_context('notebook')\n",
    "\n",
    "path = '/'.join(os.getcwd().split('/')[:-1])\n",
    "print(path)"
   ]
  },
  {
   "cell_type": "code",
   "execution_count": 4,
   "metadata": {
    "collapsed": false
   },
   "outputs": [],
   "source": [
    "tci = pd.read_csv(path+'/data/model_data/tci_1_0.csv', parse_dates=['Date'], dtype={'PIN': str})\n",
    "cols = ['parcel','vacant','Date','Survey Category','Survey Grade','SPA_NAME']\n",
    "tci = tci[cols]\n",
    "tci.shape "
   ]
  },
  {
   "cell_type": "markdown",
   "metadata": {},
   "source": [
    "## Clean and merge data from property characteristics"
   ]
  },
  {
   "cell_type": "code",
   "execution_count": 143,
   "metadata": {
    "collapsed": false
   },
   "outputs": [],
   "source": [
    "# prop13 = pd.read_csv(path+'/data/clean_data/main_prop_filtered14.csv')\n",
    "# prop13 = prop13.drop_duplicates()\n",
    "# prop13 = prop13.set_index('parcel')"
   ]
  },
  {
   "cell_type": "code",
   "execution_count": 144,
   "metadata": {
    "collapsed": false
   },
   "outputs": [],
   "source": [
    "prop = pd.read_csv(path+'/data/clean_data/main_prop_filtered.csv')\n",
    "prop = prop.drop_duplicates()\n",
    "prop = prop.groupby('parcel').last()"
   ]
  },
  {
   "cell_type": "markdown",
   "metadata": {},
   "source": [
    "### Property size"
   ]
  },
  {
   "cell_type": "code",
   "execution_count": 145,
   "metadata": {
    "collapsed": false
   },
   "outputs": [
    {
     "name": "stdout",
     "output_type": "stream",
     "text": [
      "(113132, 6)\n"
     ]
    }
   ],
   "source": [
    "def parse_comma(x):\n",
    "    if type(x) == str:\n",
    "        x = int(x.replace(',',''))\n",
    "    elif type(x) == float:\n",
    "        if not np.isnan(x):\n",
    "            x = int(x)\n",
    "        else:\n",
    "            pass\n",
    "    else:\n",
    "        pass\n",
    "    return x\n",
    "\n",
    "prop['propsize'] = prop['propsize'].apply(parse_comma)\n",
    "\n",
    "tci = pd.merge(tci, prop[['propsize']], how='left', left_on='parcel', right_index=True)\n",
    "tci.loc[tci.propsize.isnull(),'propsize'] = np.median(tci.loc[tci.propsize.notnull(),'propsize'])\n",
    "print(tci.shape)"
   ]
  },
  {
   "cell_type": "code",
   "execution_count": 146,
   "metadata": {
    "collapsed": true
   },
   "outputs": [],
   "source": [
    "def reject_outliers(data, m=1):\n",
    "    return data[abs(data - np.mean(data)) < m * np.std(data)]"
   ]
  },
  {
   "cell_type": "markdown",
   "metadata": {},
   "source": [
    "### Total usable area"
   ]
  },
  {
   "cell_type": "code",
   "execution_count": 147,
   "metadata": {
    "collapsed": false
   },
   "outputs": [
    {
     "name": "stdout",
     "output_type": "stream",
     "text": [
      "(113132, 7)\n"
     ]
    }
   ],
   "source": [
    "prop['totusabl'] = prop['totusabl'].apply(parse_comma)\n",
    "usable_area = prop[['totusabl']]\n",
    "\n",
    "tci = pd.merge(tci, usable_area, how='left', left_on='parcel', right_index=True)\n",
    "\n",
    "tci.loc[tci.totusabl.isnull(),'totusabl'] = np.median(tci.loc[tci.totusabl.notnull(),'totusabl'])\n",
    "print(tci.shape)"
   ]
  },
  {
   "cell_type": "code",
   "execution_count": 148,
   "metadata": {
    "collapsed": false
   },
   "outputs": [
    {
     "data": {
      "image/png": "[encoded data removed]",
      "text/plain": [
       "<matplotlib.figure.Figure at 0x14c7e70b8>"
      ]
     },
     "metadata": {},
     "output_type": "display_data"
    }
   ],
   "source": [
    "plt.hist(tci[tci.vacant==1].totusabl.values,bins=np.linspace(0,5000),normed=True,alpha=0.5);\n",
    "plt.hist(tci[tci.vacant==0].totusabl.values,bins=np.linspace(0,5000),normed=True,alpha=0.5);"
   ]
  },
  {
   "cell_type": "markdown",
   "metadata": {},
   "source": [
    "### Total market value"
   ]
  },
  {
   "cell_type": "code",
   "execution_count": 149,
   "metadata": {
    "collapsed": false
   },
   "outputs": [
    {
     "name": "stdout",
     "output_type": "stream",
     "text": [
      "(113132, 8)\n"
     ]
    }
   ],
   "source": [
    "tci = pd.merge(tci, prop[['tmktval']], how='left', left_on='parcel', right_index=True)\n",
    "\n",
    "tci.loc[tci.tmktval.isnull(),'tmktval'] = np.median(tci.loc[tci.tmktval.notnull(),'tmktval'])\n",
    "print(tci.shape)"
   ]
  },
  {
   "cell_type": "code",
   "execution_count": 150,
   "metadata": {
    "collapsed": false
   },
   "outputs": [
    {
     "data": {
      "image/png": "[encoded data removed]",
      "text/plain": [
       "<matplotlib.figure.Figure at 0x14c703ac8>"
      ]
     },
     "metadata": {},
     "output_type": "display_data"
    }
   ],
   "source": [
    "plt.hist(tci[tci.vacant==1].tmktval.values,bins=np.linspace(0,150000),normed=True,alpha=0.5);\n",
    "plt.hist(tci[tci.vacant==0].tmktval.values,bins=np.linspace(0,150000),normed=True,alpha=0.5);"
   ]
  },
  {
   "cell_type": "markdown",
   "metadata": {},
   "source": [
    "### Condition"
   ]
  },
  {
   "cell_type": "code",
   "execution_count": 151,
   "metadata": {
    "collapsed": false
   },
   "outputs": [
    {
     "name": "stdout",
     "output_type": "stream",
     "text": [
      "(113132, 12)\n"
     ]
    }
   ],
   "source": [
    "# unsound\n",
    "# very poor\n",
    "# poor\n",
    "# fair\n",
    "# average\n",
    "# good\n",
    "# very good\n",
    "# excellent\n",
    "# sound\n",
    "\n",
    "tci = pd.merge(tci, prop[['condition13']], how='left', left_on='parcel', right_index=True)\n",
    "tci = pd.merge(tci, prop[['condition14']], how='left', left_on='parcel', right_index=True)\n",
    "\n",
    "condition_value = {'Unsound': 0, 'Sound value (c)': 1, 'Very poor': 2, 'Poor': 3, 'Fair': 4, 'Average': 5, \\\n",
    "                   'Good': 6, 'Very good': 7, 'Excellent': 8,}\n",
    "\n",
    "prop.loc[prop['condition13'].notnull(),'condition_value13'] = \\\n",
    "    prop.loc[prop['condition13'].notnull(),'condition13'].apply(lambda x: condition_value[x])\n",
    "    \n",
    "tci = pd.merge(tci, prop[['condition_value13']], how='left', left_on='parcel', right_index=True)\n",
    "tci.loc[tci.condition_value13.isnull(),'condition_value13'] = \\\n",
    "    np.median(tci.loc[tci.condition_value13.notnull(),'condition_value13'])\n",
    "\n",
    "\n",
    "prop.loc[prop['condition14'].notnull(),'condition_value14'] = \\\n",
    "    prop.loc[prop['condition14'].notnull(),'condition14'].apply(lambda x: condition_value[x])\n",
    "    \n",
    "tci = pd.merge(tci, prop[['condition_value14']], how='left', left_on='parcel', right_index=True)\n",
    "tci.loc[tci.condition_value14.isnull(),'condition_value14'] = \\\n",
    "    np.median(tci.loc[tci.condition_value14.notnull(),'condition_value14'])\n",
    "    \n",
    "print(tci.shape)"
   ]
  },
  {
   "cell_type": "markdown",
   "metadata": {},
   "source": [
    "### Housing style"
   ]
  },
  {
   "cell_type": "code",
   "execution_count": 152,
   "metadata": {
    "collapsed": false
   },
   "outputs": [
    {
     "data": {
      "text/html": [
       "<div>\n",
       "<table border=\"1\" class=\"dataframe\">\n",
       "  <thead>\n",
       "    <tr style=\"text-align: right;\">\n",
       "      <th></th>\n",
       "      <th>Unnamed: 0</th>\n",
       "      <th>taxyr</th>\n",
       "      <th>pclass</th>\n",
       "      <th>nluc</th>\n",
       "      <th>luc</th>\n",
       "      <th>zip</th>\n",
       "      <th>owner</th>\n",
       "      <th>propsize</th>\n",
       "      <th>front</th>\n",
       "      <th>depth</th>\n",
       "      <th>...</th>\n",
       "      <th>_TYPE_</th>\n",
       "      <th>_FREQ_</th>\n",
       "      <th>chg_tval</th>\n",
       "      <th>PROP</th>\n",
       "      <th>LATITUDE</th>\n",
       "      <th>LONGITUDE</th>\n",
       "      <th>yearkey</th>\n",
       "      <th>condition13</th>\n",
       "      <th>condition_value13</th>\n",
       "      <th>condition_value14</th>\n",
       "    </tr>\n",
       "    <tr>\n",
       "      <th>style</th>\n",
       "      <th></th>\n",
       "      <th></th>\n",
       "      <th></th>\n",
       "      <th></th>\n",
       "      <th></th>\n",
       "      <th></th>\n",
       "      <th></th>\n",
       "      <th></th>\n",
       "      <th></th>\n",
       "      <th></th>\n",
       "      <th></th>\n",
       "      <th></th>\n",
       "      <th></th>\n",
       "      <th></th>\n",
       "      <th></th>\n",
       "      <th></th>\n",
       "      <th></th>\n",
       "      <th></th>\n",
       "      <th></th>\n",
       "      <th></th>\n",
       "      <th></th>\n",
       "    </tr>\n",
       "  </thead>\n",
       "  <tbody>\n",
       "    <tr>\n",
       "      <th>Colonial</th>\n",
       "      <td>67227</td>\n",
       "      <td>67227</td>\n",
       "      <td>67227</td>\n",
       "      <td>66841</td>\n",
       "      <td>67227</td>\n",
       "      <td>67227</td>\n",
       "      <td>67227</td>\n",
       "      <td>66430</td>\n",
       "      <td>67057</td>\n",
       "      <td>66505</td>\n",
       "      <td>...</td>\n",
       "      <td>0</td>\n",
       "      <td>0</td>\n",
       "      <td>67227</td>\n",
       "      <td>67227</td>\n",
       "      <td>67208</td>\n",
       "      <td>67208</td>\n",
       "      <td>67227</td>\n",
       "      <td>67182</td>\n",
       "      <td>67182</td>\n",
       "      <td>67227</td>\n",
       "    </tr>\n",
       "    <tr>\n",
       "      <th>CAP</th>\n",
       "      <td>27169</td>\n",
       "      <td>27169</td>\n",
       "      <td>27169</td>\n",
       "      <td>27060</td>\n",
       "      <td>27169</td>\n",
       "      <td>27169</td>\n",
       "      <td>27166</td>\n",
       "      <td>27090</td>\n",
       "      <td>27129</td>\n",
       "      <td>27095</td>\n",
       "      <td>...</td>\n",
       "      <td>0</td>\n",
       "      <td>0</td>\n",
       "      <td>27169</td>\n",
       "      <td>27169</td>\n",
       "      <td>27164</td>\n",
       "      <td>27164</td>\n",
       "      <td>27169</td>\n",
       "      <td>27163</td>\n",
       "      <td>27163</td>\n",
       "      <td>27169</td>\n",
       "    </tr>\n",
       "    <tr>\n",
       "      <th>Ranch</th>\n",
       "      <td>10896</td>\n",
       "      <td>10896</td>\n",
       "      <td>10896</td>\n",
       "      <td>10801</td>\n",
       "      <td>10896</td>\n",
       "      <td>10896</td>\n",
       "      <td>10896</td>\n",
       "      <td>10807</td>\n",
       "      <td>10873</td>\n",
       "      <td>10823</td>\n",
       "      <td>...</td>\n",
       "      <td>0</td>\n",
       "      <td>0</td>\n",
       "      <td>10896</td>\n",
       "      <td>10896</td>\n",
       "      <td>10895</td>\n",
       "      <td>10895</td>\n",
       "      <td>10896</td>\n",
       "      <td>10890</td>\n",
       "      <td>10890</td>\n",
       "      <td>10896</td>\n",
       "    </tr>\n",
       "    <tr>\n",
       "      <th>Bungalow</th>\n",
       "      <td>4860</td>\n",
       "      <td>4860</td>\n",
       "      <td>4860</td>\n",
       "      <td>4837</td>\n",
       "      <td>4860</td>\n",
       "      <td>4860</td>\n",
       "      <td>4860</td>\n",
       "      <td>4832</td>\n",
       "      <td>4843</td>\n",
       "      <td>4827</td>\n",
       "      <td>...</td>\n",
       "      <td>0</td>\n",
       "      <td>0</td>\n",
       "      <td>4860</td>\n",
       "      <td>4860</td>\n",
       "      <td>4860</td>\n",
       "      <td>4860</td>\n",
       "      <td>4860</td>\n",
       "      <td>4859</td>\n",
       "      <td>4859</td>\n",
       "      <td>4860</td>\n",
       "    </tr>\n",
       "    <tr>\n",
       "      <th>Townhouse</th>\n",
       "      <td>817</td>\n",
       "      <td>817</td>\n",
       "      <td>817</td>\n",
       "      <td>816</td>\n",
       "      <td>817</td>\n",
       "      <td>817</td>\n",
       "      <td>817</td>\n",
       "      <td>747</td>\n",
       "      <td>799</td>\n",
       "      <td>788</td>\n",
       "      <td>...</td>\n",
       "      <td>0</td>\n",
       "      <td>0</td>\n",
       "      <td>817</td>\n",
       "      <td>817</td>\n",
       "      <td>619</td>\n",
       "      <td>619</td>\n",
       "      <td>817</td>\n",
       "      <td>783</td>\n",
       "      <td>783</td>\n",
       "      <td>817</td>\n",
       "    </tr>\n",
       "    <tr>\n",
       "      <th>Split level</th>\n",
       "      <td>561</td>\n",
       "      <td>561</td>\n",
       "      <td>561</td>\n",
       "      <td>561</td>\n",
       "      <td>561</td>\n",
       "      <td>561</td>\n",
       "      <td>561</td>\n",
       "      <td>561</td>\n",
       "      <td>559</td>\n",
       "      <td>561</td>\n",
       "      <td>...</td>\n",
       "      <td>0</td>\n",
       "      <td>0</td>\n",
       "      <td>561</td>\n",
       "      <td>561</td>\n",
       "      <td>561</td>\n",
       "      <td>561</td>\n",
       "      <td>561</td>\n",
       "      <td>561</td>\n",
       "      <td>561</td>\n",
       "      <td>561</td>\n",
       "    </tr>\n",
       "    <tr>\n",
       "      <th>Contemporary</th>\n",
       "      <td>128</td>\n",
       "      <td>128</td>\n",
       "      <td>128</td>\n",
       "      <td>128</td>\n",
       "      <td>128</td>\n",
       "      <td>128</td>\n",
       "      <td>128</td>\n",
       "      <td>122</td>\n",
       "      <td>128</td>\n",
       "      <td>125</td>\n",
       "      <td>...</td>\n",
       "      <td>0</td>\n",
       "      <td>0</td>\n",
       "      <td>128</td>\n",
       "      <td>128</td>\n",
       "      <td>128</td>\n",
       "      <td>128</td>\n",
       "      <td>128</td>\n",
       "      <td>128</td>\n",
       "      <td>128</td>\n",
       "      <td>128</td>\n",
       "    </tr>\n",
       "  </tbody>\n",
       "</table>\n",
       "<p>7 rows × 67 columns</p>\n",
       "</div>"
      ],
      "text/plain": [
       "              Unnamed: 0  taxyr  pclass   nluc    luc    zip  owner  propsize  \\\n",
       "style                                                                           \n",
       "Colonial           67227  67227   67227  66841  67227  67227  67227     66430   \n",
       "CAP                27169  27169   27169  27060  27169  27169  27166     27090   \n",
       "Ranch              10896  10896   10896  10801  10896  10896  10896     10807   \n",
       "Bungalow            4860   4860    4860   4837   4860   4860   4860      4832   \n",
       "Townhouse            817    817     817    816    817    817    817       747   \n",
       "Split level          561    561     561    561    561    561    561       561   \n",
       "Contemporary         128    128     128    128    128    128    128       122   \n",
       "\n",
       "              front  depth        ...          _TYPE_  _FREQ_  chg_tval  \\\n",
       "style                             ...                                     \n",
       "Colonial      67057  66505        ...               0       0     67227   \n",
       "CAP           27129  27095        ...               0       0     27169   \n",
       "Ranch         10873  10823        ...               0       0     10896   \n",
       "Bungalow       4843   4827        ...               0       0      4860   \n",
       "Townhouse       799    788        ...               0       0       817   \n",
       "Split level     559    561        ...               0       0       561   \n",
       "Contemporary    128    125        ...               0       0       128   \n",
       "\n",
       "               PROP  LATITUDE  LONGITUDE  yearkey  condition13  \\\n",
       "style                                                            \n",
       "Colonial      67227     67208      67208    67227        67182   \n",
       "CAP           27169     27164      27164    27169        27163   \n",
       "Ranch         10896     10895      10895    10896        10890   \n",
       "Bungalow       4860      4860       4860     4860         4859   \n",
       "Townhouse       817       619        619      817          783   \n",
       "Split level     561       561        561      561          561   \n",
       "Contemporary    128       128        128      128          128   \n",
       "\n",
       "              condition_value13  condition_value14  \n",
       "style                                               \n",
       "Colonial                  67182              67227  \n",
       "CAP                       27163              27169  \n",
       "Ranch                     10890              10896  \n",
       "Bungalow                   4859               4860  \n",
       "Townhouse                   783                817  \n",
       "Split level                 561                561  \n",
       "Contemporary                128                128  \n",
       "\n",
       "[7 rows x 67 columns]"
      ]
     },
     "execution_count": 152,
     "metadata": {},
     "output_type": "execute_result"
    }
   ],
   "source": [
    "prop.groupby('style').count().sort_values('zip', ascending=False).head(7)"
   ]
  },
  {
   "cell_type": "code",
   "execution_count": 153,
   "metadata": {
    "collapsed": false
   },
   "outputs": [],
   "source": [
    "styles = ['Bungalow','CAP','Colonial','Ranch']\n",
    "\n",
    "def get_style(x):\n",
    "    if x in styles:\n",
    "        return x\n",
    "    else:\n",
    "        return np.nan\n",
    "\n",
    "prop['style_filtered'] = prop['style'].apply(get_style)"
   ]
  },
  {
   "cell_type": "code",
   "execution_count": 154,
   "metadata": {
    "collapsed": false
   },
   "outputs": [
    {
     "name": "stdout",
     "output_type": "stream",
     "text": [
      "(113132, 13)\n"
     ]
    }
   ],
   "source": [
    "tci = pd.merge(tci, prop[['style_filtered']] \\\n",
    "               , how='left', left_on='parcel', right_index=True)\n",
    "tci.loc[tci.style_filtered.isnull(),'style_filtered'] = 'Other'\n",
    "\n",
    "print(tci.shape)"
   ]
  },
  {
   "cell_type": "code",
   "execution_count": 155,
   "metadata": {
    "collapsed": false
   },
   "outputs": [
    {
     "data": {
      "text/html": [
       "<div>\n",
       "<table border=\"1\" class=\"dataframe\">\n",
       "  <thead>\n",
       "    <tr>\n",
       "      <th></th>\n",
       "      <th colspan=\"2\" halign=\"left\">vacant</th>\n",
       "    </tr>\n",
       "    <tr>\n",
       "      <th></th>\n",
       "      <th>sum</th>\n",
       "      <th>len</th>\n",
       "    </tr>\n",
       "    <tr>\n",
       "      <th>style_filtered</th>\n",
       "      <th></th>\n",
       "      <th></th>\n",
       "    </tr>\n",
       "  </thead>\n",
       "  <tbody>\n",
       "    <tr>\n",
       "      <th>Bungalow</th>\n",
       "      <td>359</td>\n",
       "      <td>4860</td>\n",
       "    </tr>\n",
       "    <tr>\n",
       "      <th>CAP</th>\n",
       "      <td>1797</td>\n",
       "      <td>27169</td>\n",
       "    </tr>\n",
       "    <tr>\n",
       "      <th>Colonial</th>\n",
       "      <td>7044</td>\n",
       "      <td>67227</td>\n",
       "    </tr>\n",
       "    <tr>\n",
       "      <th>Other</th>\n",
       "      <td>319</td>\n",
       "      <td>2980</td>\n",
       "    </tr>\n",
       "    <tr>\n",
       "      <th>Ranch</th>\n",
       "      <td>519</td>\n",
       "      <td>10896</td>\n",
       "    </tr>\n",
       "  </tbody>\n",
       "</table>\n",
       "</div>"
      ],
      "text/plain": [
       "               vacant       \n",
       "                  sum    len\n",
       "style_filtered              \n",
       "Bungalow          359   4860\n",
       "CAP              1797  27169\n",
       "Colonial         7044  67227\n",
       "Other             319   2980\n",
       "Ranch             519  10896"
      ]
     },
     "execution_count": 155,
     "metadata": {},
     "output_type": "execute_result"
    }
   ],
   "source": [
    "tci[['vacant','style_filtered']].groupby('style_filtered').agg([sum,len])"
   ]
  },
  {
   "cell_type": "markdown",
   "metadata": {},
   "source": [
    "### Owner occupancy"
   ]
  },
  {
   "cell_type": "code",
   "execution_count": 156,
   "metadata": {
    "collapsed": false
   },
   "outputs": [],
   "source": [
    "def get_own(x):\n",
    "    if x == 'Yes':\n",
    "        return 1\n",
    "    elif x == 'No':\n",
    "        return 0\n",
    "    else:\n",
    "        return 1\n",
    "    \n",
    "prop['ownerocc_value'] = prop['ownerocc'].apply(get_own)"
   ]
  },
  {
   "cell_type": "code",
   "execution_count": 157,
   "metadata": {
    "collapsed": false
   },
   "outputs": [
    {
     "name": "stdout",
     "output_type": "stream",
     "text": [
      "(113132, 14)\n"
     ]
    }
   ],
   "source": [
    "tci = pd.merge(tci, prop[['ownerocc_value']], \\\n",
    "               how='left', left_on='parcel', right_index=True)\n",
    "tci.loc[tci['ownerocc_value'].isnull(),'ownerocc_value'] = 1\n",
    "print(tci.shape)"
   ]
  },
  {
   "cell_type": "code",
   "execution_count": 158,
   "metadata": {
    "collapsed": false
   },
   "outputs": [
    {
     "data": {
      "text/plain": [
       "ownerocc_value\n",
       "0    0.147240\n",
       "1    0.056973\n",
       "dtype: float64"
      ]
     },
     "execution_count": 158,
     "metadata": {},
     "output_type": "execute_result"
    }
   ],
   "source": [
    "t = tci[['ownerocc_value','vacant']].groupby('ownerocc_value').agg([len, sum])\n",
    "t.vacant['sum']/t.vacant['len']"
   ]
  },
  {
   "cell_type": "markdown",
   "metadata": {},
   "source": [
    "### Total buildings"
   ]
  },
  {
   "cell_type": "code",
   "execution_count": 159,
   "metadata": {
    "collapsed": false
   },
   "outputs": [
    {
     "name": "stdout",
     "output_type": "stream",
     "text": [
      "(113132, 15)\n"
     ]
    }
   ],
   "source": [
    "tci = pd.merge(tci, prop[['totbldgs']], \\\n",
    "               how='left', left_on='parcel', right_index=True)\n",
    "tci.loc[tci.totbldgs.isnull(),'totbldgs'] = np.median(tci.loc[tci.totbldgs.notnull(),'totbldgs'])\n",
    "print(tci.shape)"
   ]
  },
  {
   "cell_type": "markdown",
   "metadata": {},
   "source": [
    "### Year built"
   ]
  },
  {
   "cell_type": "code",
   "execution_count": 160,
   "metadata": {
    "collapsed": false
   },
   "outputs": [],
   "source": [
    "def get_year(x):\n",
    "    try:\n",
    "        x = int(x)\n",
    "    except ValueError:\n",
    "        x = np.nan\n",
    "    return x"
   ]
  },
  {
   "cell_type": "code",
   "execution_count": 161,
   "metadata": {
    "collapsed": false
   },
   "outputs": [
    {
     "name": "stdout",
     "output_type": "stream",
     "text": [
      "(113132, 16)\n"
     ]
    }
   ],
   "source": [
    "prop['yrbuilt_filtered'] = prop['yrbuilt'].apply(get_year)\n",
    "tci = pd.merge(tci, prop[['yrbuilt_filtered']], \\\n",
    "               how='left', left_on='parcel', right_index=True)\n",
    "tci.loc[tci.yrbuilt_filtered.isnull(),'yrbuilt_filtered'] = np.median(tci.loc[tci.yrbuilt_filtered.notnull(),'yrbuilt_filtered'])\n",
    "print(tci.shape)"
   ]
  },
  {
   "cell_type": "code",
   "execution_count": 162,
   "metadata": {
    "collapsed": false
   },
   "outputs": [
    {
     "data": {
      "image/png": "[encoded data removed]",
      "text/plain": [
       "<matplotlib.figure.Figure at 0x11af964e0>"
      ]
     },
     "metadata": {},
     "output_type": "display_data"
    }
   ],
   "source": [
    "plt.hist(tci[(tci.vacant==0) & (tci.yrbuilt_filtered.notnull())].yrbuilt_filtered.values, bins=np.linspace(1880,2000,20),normed=True,alpha=0.5);\n",
    "plt.hist(tci[(tci.vacant==1) & (tci.yrbuilt_filtered.notnull())].yrbuilt_filtered.values, bins=np.linspace(1880,2000,20),normed=True,alpha=0.5);"
   ]
  },
  {
   "cell_type": "markdown",
   "metadata": {},
   "source": [
    "### Exterior Wall"
   ]
  },
  {
   "cell_type": "code",
   "execution_count": 163,
   "metadata": {
    "collapsed": false
   },
   "outputs": [
    {
     "data": {
      "text/html": [
       "<div>\n",
       "<table border=\"1\" class=\"dataframe\">\n",
       "  <thead>\n",
       "    <tr style=\"text-align: right;\">\n",
       "      <th></th>\n",
       "      <th>Unnamed: 0</th>\n",
       "      <th>taxyr</th>\n",
       "      <th>pclass</th>\n",
       "      <th>nluc</th>\n",
       "      <th>luc</th>\n",
       "      <th>zip</th>\n",
       "      <th>owner</th>\n",
       "      <th>propsize</th>\n",
       "      <th>front</th>\n",
       "      <th>depth</th>\n",
       "      <th>...</th>\n",
       "      <th>PROP</th>\n",
       "      <th>LATITUDE</th>\n",
       "      <th>LONGITUDE</th>\n",
       "      <th>yearkey</th>\n",
       "      <th>condition13</th>\n",
       "      <th>condition_value13</th>\n",
       "      <th>condition_value14</th>\n",
       "      <th>style_filtered</th>\n",
       "      <th>ownerocc_value</th>\n",
       "      <th>yrbuilt_filtered</th>\n",
       "    </tr>\n",
       "    <tr>\n",
       "      <th>rextwall</th>\n",
       "      <th></th>\n",
       "      <th></th>\n",
       "      <th></th>\n",
       "      <th></th>\n",
       "      <th></th>\n",
       "      <th></th>\n",
       "      <th></th>\n",
       "      <th></th>\n",
       "      <th></th>\n",
       "      <th></th>\n",
       "      <th></th>\n",
       "      <th></th>\n",
       "      <th></th>\n",
       "      <th></th>\n",
       "      <th></th>\n",
       "      <th></th>\n",
       "      <th></th>\n",
       "      <th></th>\n",
       "      <th></th>\n",
       "      <th></th>\n",
       "      <th></th>\n",
       "    </tr>\n",
       "  </thead>\n",
       "  <tbody>\n",
       "    <tr>\n",
       "      <th>Aluminum/Vinyl (r)</th>\n",
       "      <td>70574</td>\n",
       "      <td>70574</td>\n",
       "      <td>70574</td>\n",
       "      <td>70209</td>\n",
       "      <td>70574</td>\n",
       "      <td>70574</td>\n",
       "      <td>70571</td>\n",
       "      <td>69826</td>\n",
       "      <td>70422</td>\n",
       "      <td>69997</td>\n",
       "      <td>...</td>\n",
       "      <td>70574</td>\n",
       "      <td>70394</td>\n",
       "      <td>70394</td>\n",
       "      <td>70574</td>\n",
       "      <td>70522</td>\n",
       "      <td>70522</td>\n",
       "      <td>70574</td>\n",
       "      <td>69428</td>\n",
       "      <td>70574</td>\n",
       "      <td>70574</td>\n",
       "    </tr>\n",
       "    <tr>\n",
       "      <th>Frame (r)</th>\n",
       "      <td>26214</td>\n",
       "      <td>26214</td>\n",
       "      <td>26214</td>\n",
       "      <td>26076</td>\n",
       "      <td>26214</td>\n",
       "      <td>26214</td>\n",
       "      <td>26214</td>\n",
       "      <td>26001</td>\n",
       "      <td>26132</td>\n",
       "      <td>25952</td>\n",
       "      <td>...</td>\n",
       "      <td>26214</td>\n",
       "      <td>26205</td>\n",
       "      <td>26205</td>\n",
       "      <td>26214</td>\n",
       "      <td>26202</td>\n",
       "      <td>26202</td>\n",
       "      <td>26214</td>\n",
       "      <td>26035</td>\n",
       "      <td>26214</td>\n",
       "      <td>26213</td>\n",
       "    </tr>\n",
       "    <tr>\n",
       "      <th>Brick</th>\n",
       "      <td>10532</td>\n",
       "      <td>10532</td>\n",
       "      <td>10532</td>\n",
       "      <td>10498</td>\n",
       "      <td>10532</td>\n",
       "      <td>10532</td>\n",
       "      <td>10532</td>\n",
       "      <td>10467</td>\n",
       "      <td>10506</td>\n",
       "      <td>10476</td>\n",
       "      <td>...</td>\n",
       "      <td>10532</td>\n",
       "      <td>10531</td>\n",
       "      <td>10531</td>\n",
       "      <td>10532</td>\n",
       "      <td>10531</td>\n",
       "      <td>10531</td>\n",
       "      <td>10532</td>\n",
       "      <td>10428</td>\n",
       "      <td>10532</td>\n",
       "      <td>10532</td>\n",
       "    </tr>\n",
       "    <tr>\n",
       "      <th>Asbestos Shingle (r)</th>\n",
       "      <td>2245</td>\n",
       "      <td>2245</td>\n",
       "      <td>2245</td>\n",
       "      <td>2236</td>\n",
       "      <td>2245</td>\n",
       "      <td>2245</td>\n",
       "      <td>2245</td>\n",
       "      <td>2240</td>\n",
       "      <td>2243</td>\n",
       "      <td>2234</td>\n",
       "      <td>...</td>\n",
       "      <td>2245</td>\n",
       "      <td>2245</td>\n",
       "      <td>2245</td>\n",
       "      <td>2245</td>\n",
       "      <td>2245</td>\n",
       "      <td>2245</td>\n",
       "      <td>2245</td>\n",
       "      <td>2244</td>\n",
       "      <td>2245</td>\n",
       "      <td>2245</td>\n",
       "    </tr>\n",
       "    <tr>\n",
       "      <th>Frame/Brick (r)</th>\n",
       "      <td>915</td>\n",
       "      <td>915</td>\n",
       "      <td>915</td>\n",
       "      <td>852</td>\n",
       "      <td>915</td>\n",
       "      <td>915</td>\n",
       "      <td>915</td>\n",
       "      <td>891</td>\n",
       "      <td>908</td>\n",
       "      <td>892</td>\n",
       "      <td>...</td>\n",
       "      <td>915</td>\n",
       "      <td>914</td>\n",
       "      <td>914</td>\n",
       "      <td>915</td>\n",
       "      <td>907</td>\n",
       "      <td>907</td>\n",
       "      <td>915</td>\n",
       "      <td>806</td>\n",
       "      <td>915</td>\n",
       "      <td>915</td>\n",
       "    </tr>\n",
       "  </tbody>\n",
       "</table>\n",
       "<p>5 rows × 70 columns</p>\n",
       "</div>"
      ],
      "text/plain": [
       "                      Unnamed: 0  taxyr  pclass   nluc    luc    zip  owner  \\\n",
       "rextwall                                                                      \n",
       "Aluminum/Vinyl (r)         70574  70574   70574  70209  70574  70574  70571   \n",
       "Frame (r)                  26214  26214   26214  26076  26214  26214  26214   \n",
       "Brick                      10532  10532   10532  10498  10532  10532  10532   \n",
       "Asbestos Shingle (r)        2245   2245    2245   2236   2245   2245   2245   \n",
       "Frame/Brick (r)              915    915     915    852    915    915    915   \n",
       "\n",
       "                      propsize  front  depth        ...          PROP  \\\n",
       "rextwall                                            ...                 \n",
       "Aluminum/Vinyl (r)       69826  70422  69997        ...         70574   \n",
       "Frame (r)                26001  26132  25952        ...         26214   \n",
       "Brick                    10467  10506  10476        ...         10532   \n",
       "Asbestos Shingle (r)      2240   2243   2234        ...          2245   \n",
       "Frame/Brick (r)            891    908    892        ...           915   \n",
       "\n",
       "                      LATITUDE  LONGITUDE  yearkey  condition13  \\\n",
       "rextwall                                                          \n",
       "Aluminum/Vinyl (r)       70394      70394    70574        70522   \n",
       "Frame (r)                26205      26205    26214        26202   \n",
       "Brick                    10531      10531    10532        10531   \n",
       "Asbestos Shingle (r)      2245       2245     2245         2245   \n",
       "Frame/Brick (r)            914        914      915          907   \n",
       "\n",
       "                      condition_value13  condition_value14  style_filtered  \\\n",
       "rextwall                                                                     \n",
       "Aluminum/Vinyl (r)                70522              70574           69428   \n",
       "Frame (r)                         26202              26214           26035   \n",
       "Brick                             10531              10532           10428   \n",
       "Asbestos Shingle (r)               2245               2245            2244   \n",
       "Frame/Brick (r)                     907                915             806   \n",
       "\n",
       "                      ownerocc_value  yrbuilt_filtered  \n",
       "rextwall                                                \n",
       "Aluminum/Vinyl (r)             70574             70574  \n",
       "Frame (r)                      26214             26213  \n",
       "Brick                          10532             10532  \n",
       "Asbestos Shingle (r)            2245              2245  \n",
       "Frame/Brick (r)                  915               915  \n",
       "\n",
       "[5 rows x 70 columns]"
      ]
     },
     "execution_count": 163,
     "metadata": {},
     "output_type": "execute_result"
    }
   ],
   "source": [
    "prop.groupby('rextwall').count().sort_values('zip', ascending=False).head()"
   ]
  },
  {
   "cell_type": "code",
   "execution_count": 164,
   "metadata": {
    "collapsed": false
   },
   "outputs": [
    {
     "name": "stdout",
     "output_type": "stream",
     "text": [
      "(113132, 17)\n"
     ]
    }
   ],
   "source": [
    "tci = pd.merge(tci, prop[['rextwall']], \\\n",
    "               how='left', left_on='parcel', right_index=True)\n",
    "tci.loc[tci.rextwall.isnull(),'rextwall'] = 'Aluminum/Vinyl (r)'\n",
    "tci['rextwall'] = tci.rextwall.apply(lambda x: x if x in ['Aluminum/Vinyl (r)','Brick','Frame (r)'] else 'Other')\n",
    "\n",
    "print(tci.shape)"
   ]
  },
  {
   "cell_type": "code",
   "execution_count": 165,
   "metadata": {
    "collapsed": false
   },
   "outputs": [
    {
     "data": {
      "text/html": [
       "<div>\n",
       "<table border=\"1\" class=\"dataframe\">\n",
       "  <thead>\n",
       "    <tr>\n",
       "      <th></th>\n",
       "      <th colspan=\"2\" halign=\"left\">vacant</th>\n",
       "    </tr>\n",
       "    <tr>\n",
       "      <th></th>\n",
       "      <th>len</th>\n",
       "      <th>sum</th>\n",
       "    </tr>\n",
       "    <tr>\n",
       "      <th>rextwall</th>\n",
       "      <th></th>\n",
       "      <th></th>\n",
       "    </tr>\n",
       "  </thead>\n",
       "  <tbody>\n",
       "    <tr>\n",
       "      <th>Aluminum/Vinyl (r)</th>\n",
       "      <td>71942</td>\n",
       "      <td>5574</td>\n",
       "    </tr>\n",
       "    <tr>\n",
       "      <th>Brick</th>\n",
       "      <td>10532</td>\n",
       "      <td>539</td>\n",
       "    </tr>\n",
       "    <tr>\n",
       "      <th>Frame (r)</th>\n",
       "      <td>26214</td>\n",
       "      <td>3453</td>\n",
       "    </tr>\n",
       "    <tr>\n",
       "      <th>Other</th>\n",
       "      <td>4444</td>\n",
       "      <td>472</td>\n",
       "    </tr>\n",
       "  </tbody>\n",
       "</table>\n",
       "</div>"
      ],
      "text/plain": [
       "                   vacant      \n",
       "                      len   sum\n",
       "rextwall                       \n",
       "Aluminum/Vinyl (r)  71942  5574\n",
       "Brick               10532   539\n",
       "Frame (r)           26214  3453\n",
       "Other                4444   472"
      ]
     },
     "execution_count": 165,
     "metadata": {},
     "output_type": "execute_result"
    }
   ],
   "source": [
    "tci[['rextwall','vacant']].groupby('rextwall').agg([len, sum])"
   ]
  },
  {
   "cell_type": "markdown",
   "metadata": {},
   "source": [
    "## Add demographic variables"
   ]
  },
  {
   "cell_type": "code",
   "execution_count": 166,
   "metadata": {
    "collapsed": false
   },
   "outputs": [
    {
     "name": "stderr",
     "output_type": "stream",
     "text": [
      "//anaconda/envs/vacancy/lib/python3.4/site-packages/IPython/core/interactiveshell.py:2902: DtypeWarning: Columns (1,4,10,11,12,13,14,15,16,17,18,19,20,21) have mixed types. Specify dtype option on import or set low_memory=False.\n",
      "  interactivity=interactivity, compiler=compiler, result=result)\n"
     ]
    }
   ],
   "source": [
    "dem = pd.read_csv(path+'/data/clean_data/demographic.csv')"
   ]
  },
  {
   "cell_type": "code",
   "execution_count": 167,
   "metadata": {
    "collapsed": false
   },
   "outputs": [],
   "source": [
    "new_cols = ['parcel','vacant_block','owner','renter', 'median_rent','property_crimes','burglaries','other_drug', 'part_one_crimes','part_two_crimes', \\\n",
    "'bachelors+','poverty_rate','median_hh_income', 'median_fam_income','white','black','asian','other','hispanic','young','middle','old']\n",
    "\n",
    "use_cols = ['vacant_block', 'median_rent','property_crimes','burglaries', 'part_one_crimes','part_two_crimes', \\\n",
    "'bachelors+','poverty_rate','median_hh_income','white','black','asian','other','hispanic','young','middle','old']\n",
    "\n",
    "dem.columns = new_cols"
   ]
  },
  {
   "cell_type": "code",
   "execution_count": 168,
   "metadata": {
    "collapsed": false
   },
   "outputs": [
    {
     "name": "stdout",
     "output_type": "stream",
     "text": [
      "vacant_block 487\n",
      "median_rent 487\n",
      "bachelors+ 487\n",
      "poverty_rate 487\n",
      "median_hh_income 487\n",
      "median_fam_income 487\n",
      "white 487\n",
      "black 487\n",
      "asian 487\n",
      "other 487\n",
      "hispanic 487\n",
      "young 487\n",
      "middle 487\n",
      "old 487\n"
     ]
    }
   ],
   "source": [
    "cols = dem.dtypes[dem.dtypes=='object'].index[1:]\n",
    "\n",
    "for col in cols:\n",
    "    print(col, len(dem.loc[dem[col]=='null', col]))\n",
    "    dem.loc[dem[col]=='null', col] = np.nan\n",
    "    dem.loc[dem[col].notnull(), col] = dem.loc[dem[col].notnull(), col].apply(float)"
   ]
  },
  {
   "cell_type": "code",
   "execution_count": 169,
   "metadata": {
    "collapsed": false
   },
   "outputs": [],
   "source": [
    "dem = dem.set_index('parcel')\n",
    "\n",
    "tci = pd.merge(tci, dem[use_cols], left_on='parcel',right_index=True, how='left')"
   ]
  },
  {
   "cell_type": "code",
   "execution_count": 170,
   "metadata": {
    "collapsed": false
   },
   "outputs": [
    {
     "data": {
      "text/plain": [
       "Index(['parcel', 'vacant', 'Date', 'Survey Category', 'Survey Grade',\n",
       "       'propsize', 'totusabl', 'tmktval', 'condition13', 'condition14',\n",
       "       'condition_value13', 'condition_value14', 'style_filtered',\n",
       "       'ownerocc_value', 'totbldgs', 'yrbuilt_filtered', 'rextwall',\n",
       "       'vacant_block', 'median_rent', 'property_crimes', 'burglaries',\n",
       "       'part_one_crimes', 'part_two_crimes', 'bachelors+', 'poverty_rate',\n",
       "       'median_hh_income', 'white', 'black', 'asian', 'other', 'hispanic',\n",
       "       'young', 'middle', 'old'],\n",
       "      dtype='object')"
      ]
     },
     "execution_count": 170,
     "metadata": {},
     "output_type": "execute_result"
    }
   ],
   "source": [
    "tci.columns"
   ]
  },
  {
   "cell_type": "code",
   "execution_count": 171,
   "metadata": {
    "collapsed": false
   },
   "outputs": [],
   "source": [
    "for col in use_cols:\n",
    "    tci.loc[tci[col].isnull(),col] = np.median(tci.loc[tci[col].notnull(),col])"
   ]
  },
  {
   "cell_type": "markdown",
   "metadata": {},
   "source": [
    "# Output"
   ]
  },
  {
   "cell_type": "code",
   "execution_count": 173,
   "metadata": {
    "collapsed": false
   },
   "outputs": [
    {
     "name": "stdout",
     "output_type": "stream",
     "text": [
      "(113132, 34)\n"
     ]
    }
   ],
   "source": [
    "print(tci.shape)\n",
    "tci.to_csv(path+'/data/model_data/tci_2_0.csv', index=False)"
   ]
  },
  {
   "cell_type": "code",
   "execution_count": 174,
   "metadata": {
    "collapsed": false
   },
   "outputs": [
    {
     "name": "stdout",
     "output_type": "stream",
     "text": [
      "<class 'pandas.core.frame.DataFrame'>\n",
      "Int64Index: 113132 entries, 0 to 113131\n",
      "Data columns (total 34 columns):\n",
      "parcel               113132 non-null object\n",
      "vacant               113132 non-null int64\n",
      "Date                 113132 non-null datetime64[ns]\n",
      "Survey Category      113132 non-null object\n",
      "Survey Grade         113132 non-null object\n",
      "propsize             113132 non-null float64\n",
      "totusabl             113132 non-null float64\n",
      "tmktval              113132 non-null float64\n",
      "condition13          112559 non-null object\n",
      "condition14          112595 non-null object\n",
      "condition_value13    113132 non-null float64\n",
      "condition_value14    113132 non-null float64\n",
      "style_filtered       113132 non-null object\n",
      "ownerocc_value       113132 non-null float64\n",
      "totbldgs             113132 non-null float64\n",
      "yrbuilt_filtered     113132 non-null float64\n",
      "rextwall             113132 non-null object\n",
      "vacant_block         113132 non-null object\n",
      "median_rent          113132 non-null object\n",
      "property_crimes      113132 non-null float64\n",
      "burglaries           113132 non-null float64\n",
      "part_one_crimes      113132 non-null float64\n",
      "part_two_crimes      113132 non-null float64\n",
      "bachelors+           113132 non-null object\n",
      "poverty_rate         113132 non-null object\n",
      "median_hh_income     113132 non-null object\n",
      "white                113132 non-null object\n",
      "black                113132 non-null object\n",
      "asian                113132 non-null object\n",
      "other                113132 non-null object\n",
      "hispanic             113132 non-null object\n",
      "young                113132 non-null object\n",
      "middle               113132 non-null object\n",
      "old                  113132 non-null object\n",
      "dtypes: datetime64[ns](1), float64(12), int64(1), object(20)\n",
      "memory usage: 30.2+ MB\n"
     ]
    }
   ],
   "source": [
    "tci.info()"
   ]
  },
  {
   "cell_type": "code",
   "execution_count": null,
   "metadata": {
    "collapsed": true
   },
   "outputs": [],
   "source": []
  }
 ],
 "metadata": {
  "kernelspec": {
   "display_name": "Python 3",
   "language": "python",
   "name": "python3"
  },
  "language_info": {
   "codemirror_mode": {
    "name": "ipython",
    "version": 3
   },
   "file_extension": ".py",
   "mimetype": "text/x-python",
   "name": "python",
   "nbconvert_exporter": "python",
   "pygments_lexer": "ipython3",
   "version": "3.4.3"
  }
 },
 "nbformat": 4,
 "nbformat_minor": 0
}
