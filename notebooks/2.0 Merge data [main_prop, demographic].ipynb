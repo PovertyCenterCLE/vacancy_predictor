{
 "cells": [
  {
   "cell_type": "markdown",
   "metadata": {},
   "source": [
    "# 2.0 Combine Data from ```prop.csv```\n",
    "\n",
    "Data has now been filtered for the parcel numbers in the existing dataset. The end goal is to have a dataset with one row for each parcel in which to build the model. **Imputation will occur in a separate notebook!**\n",
    "\n",
    "However, we can't forget to explore the existing data for trends or insight along the way, as well as engineer features as we see fit."
   ]
  },
  {
   "cell_type": "code",
   "execution_count": 72,
   "metadata": {
    "collapsed": false
   },
   "outputs": [],
   "source": [
    "import matplotlib.pyplot as plt\n",
    "import seaborn as sns\n",
    "import pandas as pd\n",
    "import numpy as np\n",
    "import os\n",
    "\n",
    "%matplotlib inline\n",
    "sns.set_context('notebook')"
   ]
  },
  {
   "cell_type": "code",
   "execution_count": 73,
   "metadata": {
    "collapsed": false
   },
   "outputs": [
    {
     "name": "stdout",
     "output_type": "stream",
     "text": [
      "/Volumes/Dropbox-1/largetransfer/luc/carter\n"
     ]
    }
   ],
   "source": [
    "path = '/'.join(os.getcwd().split('/')[:-1])\n",
    "print path"
   ]
  },
  {
   "cell_type": "code",
   "execution_count": 74,
   "metadata": {
    "collapsed": false
   },
   "outputs": [],
   "source": [
    "tci = pd.read_csv(path+'/data/inspection_data/full_tci_survey_prelim.csv')"
   ]
  },
  {
   "cell_type": "code",
   "execution_count": 75,
   "metadata": {
    "collapsed": false
   },
   "outputs": [
    {
     "data": {
      "text/plain": [
       "Index([u'Parcel ID', u'Date', u'USE_CLASS', u'Ward', u'Label', u'SPA_NAME',\n",
       "       u'Address', u'Survey Category', u'Survey Result', u'Open Vacant',\n",
       "       u'For Sale or Rent', u'Apparent Property Use',\n",
       "       u'Apparent Property Capacity', u'House Number Visible/Premises ID',\n",
       "       u'Boarded Windows or Doors', u'Broken Windows', u'Roof Damage',\n",
       "       u'Chimney Damage', u'Paint or Siding Damage',\n",
       "       u'Gutters or Downspout Damage', u'Porch Damage', u'Garage Damage',\n",
       "       u'Dumping (Trash/Debris)', u'Sidewalk Condition', u'Street Tree',\n",
       "       u'Notes', u'Image', u'ppn', u'vacant'],\n",
       "      dtype='object')"
      ]
     },
     "execution_count": 75,
     "metadata": {},
     "output_type": "execute_result"
    }
   ],
   "source": [
    "tci.columns "
   ]
  },
  {
   "cell_type": "code",
   "execution_count": 76,
   "metadata": {
    "collapsed": false
   },
   "outputs": [],
   "source": [
    "cols = ['Parcel ID','ppn','vacant','Date','Survey Category','Survey Result']\n",
    "tci = tci[cols]"
   ]
  },
  {
   "cell_type": "code",
   "execution_count": 77,
   "metadata": {
    "collapsed": false
   },
   "outputs": [
    {
     "data": {
      "text/html": [
       "<div>\n",
       "<table border=\"1\" class=\"dataframe\">\n",
       "  <thead>\n",
       "    <tr style=\"text-align: right;\">\n",
       "      <th></th>\n",
       "      <th>Parcel ID</th>\n",
       "      <th>ppn</th>\n",
       "      <th>vacant</th>\n",
       "      <th>Date</th>\n",
       "      <th>Survey Category</th>\n",
       "      <th>Survey Result</th>\n",
       "    </tr>\n",
       "  </thead>\n",
       "  <tbody>\n",
       "    <tr>\n",
       "      <th>0</th>\n",
       "      <td>00105901X</td>\n",
       "      <td>001-05-901X</td>\n",
       "      <td>-1</td>\n",
       "      <td>5/27/15</td>\n",
       "      <td>Not Surveyed</td>\n",
       "      <td>No Grade</td>\n",
       "    </tr>\n",
       "    <tr>\n",
       "      <th>1</th>\n",
       "      <td>00132003B</td>\n",
       "      <td>001-32-003B</td>\n",
       "      <td>-1</td>\n",
       "      <td>5/27/15</td>\n",
       "      <td>Not Surveyed</td>\n",
       "      <td>No Grade</td>\n",
       "    </tr>\n",
       "    <tr>\n",
       "      <th>2</th>\n",
       "      <td>00133014X</td>\n",
       "      <td>001-33-014X</td>\n",
       "      <td>-1</td>\n",
       "      <td>5/27/15</td>\n",
       "      <td>Not Surveyed</td>\n",
       "      <td>No Grade</td>\n",
       "    </tr>\n",
       "    <tr>\n",
       "      <th>3</th>\n",
       "      <td>00135901X</td>\n",
       "      <td>001-35-901X</td>\n",
       "      <td>1</td>\n",
       "      <td>10/2/15</td>\n",
       "      <td>Vacant Structure</td>\n",
       "      <td>C</td>\n",
       "    </tr>\n",
       "    <tr>\n",
       "      <th>4</th>\n",
       "      <td>00311043A</td>\n",
       "      <td>003-11-043A</td>\n",
       "      <td>-1</td>\n",
       "      <td>5/27/15</td>\n",
       "      <td>Not Surveyed</td>\n",
       "      <td>No Grade</td>\n",
       "    </tr>\n",
       "  </tbody>\n",
       "</table>\n",
       "</div>"
      ],
      "text/plain": [
       "   Parcel ID          ppn  vacant     Date   Survey Category Survey Result\n",
       "0  00105901X  001-05-901X      -1  5/27/15      Not Surveyed      No Grade\n",
       "1  00132003B  001-32-003B      -1  5/27/15      Not Surveyed      No Grade\n",
       "2  00133014X  001-33-014X      -1  5/27/15      Not Surveyed      No Grade\n",
       "3  00135901X  001-35-901X       1  10/2/15  Vacant Structure             C\n",
       "4  00311043A  003-11-043A      -1  5/27/15      Not Surveyed      No Grade"
      ]
     },
     "execution_count": 77,
     "metadata": {},
     "output_type": "execute_result"
    }
   ],
   "source": [
    "tci.head()"
   ]
  },
  {
   "cell_type": "markdown",
   "metadata": {},
   "source": [
    "## Clean and merge data from property characteristics"
   ]
  },
  {
   "cell_type": "code",
   "execution_count": 78,
   "metadata": {
    "collapsed": false
   },
   "outputs": [],
   "source": [
    "prop = pd.read_csv(path+'/data/clean_data/main_prop_filtered.csv')\n",
    "prop = prop.drop_duplicates()"
   ]
  },
  {
   "cell_type": "code",
   "execution_count": 79,
   "metadata": {
    "collapsed": false
   },
   "outputs": [
    {
     "data": {
      "text/plain": [
       "(158653, 65)"
      ]
     },
     "execution_count": 79,
     "metadata": {},
     "output_type": "execute_result"
    }
   ],
   "source": [
    "prop.shape"
   ]
  },
  {
   "cell_type": "markdown",
   "metadata": {},
   "source": [
    "### Zip code"
   ]
  },
  {
   "cell_type": "code",
   "execution_count": 80,
   "metadata": {
    "collapsed": true
   },
   "outputs": [],
   "source": [
    "def filter_zip(x):\n",
    "    try:\n",
    "        x = str(int(float(x)))\n",
    "    except ValueError:\n",
    "        pass\n",
    "    if len(x) == 5:\n",
    "        return x\n",
    "    else:\n",
    "        return np.nan"
   ]
  },
  {
   "cell_type": "code",
   "execution_count": 81,
   "metadata": {
    "collapsed": false
   },
   "outputs": [],
   "source": [
    "prop['zip'] = prop['zip'].dropna().apply(filter_zip)\n",
    "zips = set(prop['zip'].dropna())\n",
    "# zips.difference_update(['.','0','4','441041'])\n",
    "prop_zips = prop[['parcel','zip']][prop['zip'].isin(zips)].groupby('parcel').first()"
   ]
  },
  {
   "cell_type": "code",
   "execution_count": 82,
   "metadata": {
    "collapsed": false
   },
   "outputs": [
    {
     "name": "stdout",
     "output_type": "stream",
     "text": [
      "(158855, 7)\n"
     ]
    }
   ],
   "source": [
    "tci = pd.merge(tci, prop_zips, how='left', left_on='ppn', right_index=True)\n",
    "print tci.shape"
   ]
  },
  {
   "cell_type": "markdown",
   "metadata": {},
   "source": [
    "### Property size"
   ]
  },
  {
   "cell_type": "code",
   "execution_count": 83,
   "metadata": {
    "collapsed": false
   },
   "outputs": [
    {
     "data": {
      "text/plain": [
       "{float, str}"
      ]
     },
     "execution_count": 83,
     "metadata": {},
     "output_type": "execute_result"
    }
   ],
   "source": [
    "set(prop['propsize'].apply(type))"
   ]
  },
  {
   "cell_type": "code",
   "execution_count": 84,
   "metadata": {
    "collapsed": true
   },
   "outputs": [],
   "source": [
    "def parse_comma(x):\n",
    "    if type(x) == str:\n",
    "        x = int(x.replace(',',''))\n",
    "    elif type(x) == float:\n",
    "        if not np.isnan(x):\n",
    "            x = int(x)\n",
    "        else:\n",
    "            pass\n",
    "    else:\n",
    "        pass\n",
    "    return x\n",
    "\n",
    "prop['propsize'] = prop['propsize'].apply(parse_comma)\n",
    "parcel_size = prop[prop['propsize'].notnull()][['parcel','propsize']]\\\n",
    "                .sort('propsize', ascending=False).groupby('parcel').first()\n",
    "\n",
    "# tci = pd.merge(tci, parcel_size, how='left', left_on='ppn', right_index=True)"
   ]
  },
  {
   "cell_type": "code",
   "execution_count": 85,
   "metadata": {
    "collapsed": true
   },
   "outputs": [],
   "source": [
    "def reject_outliers(data, m=1):\n",
    "    return data[abs(data - np.mean(data)) < m * np.std(data)]"
   ]
  },
  {
   "cell_type": "code",
   "execution_count": 86,
   "metadata": {
    "collapsed": false
   },
   "outputs": [
    {
     "data": {
      "text/plain": [
       "170749.0"
      ]
     },
     "execution_count": 86,
     "metadata": {},
     "output_type": "execute_result"
    }
   ],
   "source": [
    "max(reject_outliers(parcel_size[parcel_size.notnull()].propsize))"
   ]
  },
  {
   "cell_type": "code",
   "execution_count": 87,
   "metadata": {
    "collapsed": false
   },
   "outputs": [
    {
     "data": {
      "text/plain": [
       "7600.3179712194915"
      ]
     },
     "execution_count": 87,
     "metadata": {},
     "output_type": "execute_result"
    }
   ],
   "source": [
    "np.mean(parcel_size[parcel_size.notnull()].propsize)"
   ]
  },
  {
   "cell_type": "code",
   "execution_count": 88,
   "metadata": {
    "collapsed": false
   },
   "outputs": [
    {
     "data": {
      "text/plain": [
       "array([   200.,    400.,    600.,    800.,   1000.,   1200.,   1400.,\n",
       "         1600.,   1800.,   2000.,   2200.,   2400.,   2600.,   2800.,\n",
       "         3000.,   3200.,   3400.,   3600.,   3800.,   4000.,   4200.,\n",
       "         4400.,   4600.,   4800.,   5000.,   5200.,   5400.,   5600.,\n",
       "         5800.,   6000.,   6200.,   6400.,   6600.,   6800.,   7000.,\n",
       "         7200.,   7400.,   7600.,   7800.,   8000.,   8200.,   8400.,\n",
       "         8600.,   8800.,   9000.,   9200.,   9400.,   9600.,   9800.,\n",
       "        10000.])"
      ]
     },
     "execution_count": 88,
     "metadata": {},
     "output_type": "execute_result"
    }
   ],
   "source": [
    "np.linspace(200,10000)"
   ]
  },
  {
   "cell_type": "code",
   "execution_count": 89,
   "metadata": {
    "collapsed": false
   },
   "outputs": [
    {
     "data": {
      "image/png": "[encoded data removed]",
      "text/plain": [
       "<matplotlib.figure.Figure at 0x1215f45d0>"
      ]
     },
     "metadata": {},
     "output_type": "display_data"
    }
   ],
   "source": [
    "plt.hist(parcel_size[parcel_size.notnull()].propsize, bins=np.linspace(200,20000));"
   ]
  },
  {
   "cell_type": "markdown",
   "metadata": {
    "collapsed": true
   },
   "source": [
    "### pclass\n",
    "\n",
    "We're only using residential parcels!"
   ]
  },
  {
   "cell_type": "code",
   "execution_count": 90,
   "metadata": {
    "collapsed": false
   },
   "outputs": [],
   "source": [
    "pclass = prop[prop['pclass'].notnull()][['parcel','pclass']].groupby('parcel').first()\n",
    "tci = pd.merge(tci, pclass, how='left', left_on='ppn', right_index=True)\n",
    "\n",
    "# filter non residential parcels\n",
    "tci = tci[tci.pclass==\"Residential\"]"
   ]
  },
  {
   "cell_type": "markdown",
   "metadata": {},
   "source": [
    "### Total usable area"
   ]
  },
  {
   "cell_type": "code",
   "execution_count": 91,
   "metadata": {
    "collapsed": false
   },
   "outputs": [],
   "source": [
    "prop['totusabl'] = prop['totusabl'].apply(parse_comma)\n",
    "usable_area = prop[prop['totusabl'].notnull()][['parcel','totusabl']].sort('totusabl', ascending=False).groupby('parcel').first()\n",
    "tci = pd.merge(tci, usable_area, how='left', left_on='ppn', right_index=True)"
   ]
  },
  {
   "cell_type": "markdown",
   "metadata": {},
   "source": [
    "### Total market value"
   ]
  },
  {
   "cell_type": "code",
   "execution_count": 92,
   "metadata": {
    "collapsed": false
   },
   "outputs": [
    {
     "name": "stdout",
     "output_type": "stream",
     "text": [
      "(122560, 10)\n"
     ]
    }
   ],
   "source": [
    "tmktval = prop[['tmktval','parcel']].groupby('parcel').median()\n",
    "tci = pd.merge(tci, tmktval, how='left', left_on='ppn', right_index=True)\n",
    "print tci.shape"
   ]
  },
  {
   "cell_type": "code",
   "execution_count": 93,
   "metadata": {
    "collapsed": false
   },
   "outputs": [
    {
     "data": {
      "text/plain": [
       "<matplotlib.axes._subplots.AxesSubplot at 0x1103655d0>"
      ]
     },
     "execution_count": 93,
     "metadata": {},
     "output_type": "execute_result"
    },
    {
     "data": {
      "image/png": "[encoded data removed]",
      "text/plain": [
       "<matplotlib.figure.Figure at 0x10e593d50>"
      ]
     },
     "metadata": {},
     "output_type": "display_data"
    }
   ],
   "source": [
    "sns.distplot(tci.tmktval.apply(np.log))"
   ]
  },
  {
   "cell_type": "markdown",
   "metadata": {},
   "source": [
    "### Condition"
   ]
  },
  {
   "cell_type": "code",
   "execution_count": 94,
   "metadata": {
    "collapsed": false
   },
   "outputs": [
    {
     "data": {
      "text/plain": [
       "{nan,\n",
       " 'Average',\n",
       " 'Excellent',\n",
       " 'Fair',\n",
       " 'Good',\n",
       " 'Poor',\n",
       " 'Sound value (c)',\n",
       " 'Unsound',\n",
       " 'Very good',\n",
       " 'Very poor'}"
      ]
     },
     "execution_count": 94,
     "metadata": {},
     "output_type": "execute_result"
    }
   ],
   "source": [
    "set(prop['condition'])"
   ]
  },
  {
   "cell_type": "code",
   "execution_count": 95,
   "metadata": {
    "collapsed": false
   },
   "outputs": [],
   "source": [
    "tci = pd.merge(tci, prop[['parcel','condition']].groupby('parcel').first(), how='left', left_on='ppn', right_index=True)"
   ]
  },
  {
   "cell_type": "code",
   "execution_count": 96,
   "metadata": {
    "collapsed": false
   },
   "outputs": [
    {
     "data": {
      "text/plain": [
       "(122560, 11)"
      ]
     },
     "execution_count": 96,
     "metadata": {},
     "output_type": "execute_result"
    }
   ],
   "source": [
    "tci.shape"
   ]
  },
  {
   "cell_type": "code",
   "execution_count": 97,
   "metadata": {
    "collapsed": false
   },
   "outputs": [
    {
     "name": "stdout",
     "output_type": "stream",
     "text": [
      "(122560, 13)\n"
     ]
    }
   ],
   "source": [
    "# unsound\n",
    "# very poor\n",
    "# poor\n",
    "# fair\n",
    "# average\n",
    "# good\n",
    "# very good\n",
    "# sound\n",
    "# excellent\n",
    "\n",
    "condition_value = {'Unsound': 0, 'Very poor': 1, 'Poor': 2, 'Fair': 3, 'Average': 4, \\\n",
    "                   'Good': 5, 'Very good': 6, 'Sound value (c)': 7, 'Excellent': 8}\n",
    "prop.loc[prop['condition'].notnull(),'condition_value'] = prop.loc[prop['condition'].notnull(),'condition'].apply(lambda x: condition_value[x])\n",
    "tci = pd.merge(tci, prop[['parcel','condition_value']] \\\n",
    "               , how='left', left_on='ppn', right_on='parcel')\n",
    "print tci.shape"
   ]
  },
  {
   "cell_type": "code",
   "execution_count": 98,
   "metadata": {
    "collapsed": false
   },
   "outputs": [
    {
     "data": {
      "text/plain": [
       "(9760, 111150)"
      ]
     },
     "execution_count": 98,
     "metadata": {},
     "output_type": "execute_result"
    }
   ],
   "source": [
    "sum(tci.loc[tci.vacant > -1,'vacant']), len(tci.loc[tci.vacant > -1,'vacant'])"
   ]
  },
  {
   "cell_type": "code",
   "execution_count": 99,
   "metadata": {
    "collapsed": false
   },
   "outputs": [
    {
     "data": {
      "text/plain": [
       "0.08780926675663518"
      ]
     },
     "execution_count": 99,
     "metadata": {},
     "output_type": "execute_result"
    }
   ],
   "source": [
    "9760.0/111150"
   ]
  },
  {
   "cell_type": "code",
   "execution_count": 100,
   "metadata": {
    "collapsed": false,
    "scrolled": true
   },
   "outputs": [
    {
     "data": {
      "text/plain": [
       "condition_value\n",
       "0    0.799632\n",
       "1    0.452974\n",
       "2    0.302351\n",
       "3    0.130505\n",
       "4    0.046860\n",
       "5    0.032554\n",
       "6    0.009238\n",
       "8    0.018519\n",
       "dtype: float64"
      ]
     },
     "execution_count": 100,
     "metadata": {},
     "output_type": "execute_result"
    }
   ],
   "source": [
    "t = tci.loc[tci.vacant > -1,['vacant','condition_value']].groupby('condition_value').agg([sum,len])\n",
    "t.vacant['sum']/t.vacant['len']"
   ]
  },
  {
   "cell_type": "markdown",
   "metadata": {},
   "source": [
    "### Housing style"
   ]
  },
  {
   "cell_type": "code",
   "execution_count": 101,
   "metadata": {
    "collapsed": false
   },
   "outputs": [
    {
     "data": {
      "text/html": [
       "<div>\n",
       "<table border=\"1\" class=\"dataframe\">\n",
       "  <thead>\n",
       "    <tr style=\"text-align: right;\">\n",
       "      <th></th>\n",
       "      <th>parcel</th>\n",
       "      <th>taxyr</th>\n",
       "      <th>pclass</th>\n",
       "      <th>nluc</th>\n",
       "      <th>luc</th>\n",
       "      <th>zip</th>\n",
       "      <th>owner</th>\n",
       "      <th>propsize</th>\n",
       "      <th>front</th>\n",
       "      <th>depth</th>\n",
       "      <th>...</th>\n",
       "      <th>inhis</th>\n",
       "      <th>diffval</th>\n",
       "      <th>_TYPE_</th>\n",
       "      <th>_FREQ_</th>\n",
       "      <th>chg_tval</th>\n",
       "      <th>PROP</th>\n",
       "      <th>LATITUDE</th>\n",
       "      <th>LONGITUDE</th>\n",
       "      <th>yearkey</th>\n",
       "      <th>condition_value</th>\n",
       "    </tr>\n",
       "    <tr>\n",
       "      <th>style</th>\n",
       "      <th></th>\n",
       "      <th></th>\n",
       "      <th></th>\n",
       "      <th></th>\n",
       "      <th></th>\n",
       "      <th></th>\n",
       "      <th></th>\n",
       "      <th></th>\n",
       "      <th></th>\n",
       "      <th></th>\n",
       "      <th></th>\n",
       "      <th></th>\n",
       "      <th></th>\n",
       "      <th></th>\n",
       "      <th></th>\n",
       "      <th></th>\n",
       "      <th></th>\n",
       "      <th></th>\n",
       "      <th></th>\n",
       "      <th></th>\n",
       "      <th></th>\n",
       "    </tr>\n",
       "  </thead>\n",
       "  <tbody>\n",
       "    <tr>\n",
       "      <th>3FM</th>\n",
       "      <td>1</td>\n",
       "      <td>1</td>\n",
       "      <td>1</td>\n",
       "      <td>1</td>\n",
       "      <td>1</td>\n",
       "      <td>1</td>\n",
       "      <td>1</td>\n",
       "      <td>1</td>\n",
       "      <td>1</td>\n",
       "      <td>0</td>\n",
       "      <td>...</td>\n",
       "      <td>1</td>\n",
       "      <td>0</td>\n",
       "      <td>0</td>\n",
       "      <td>0</td>\n",
       "      <td>1</td>\n",
       "      <td>1</td>\n",
       "      <td>1</td>\n",
       "      <td>1</td>\n",
       "      <td>1</td>\n",
       "      <td>1</td>\n",
       "    </tr>\n",
       "    <tr>\n",
       "      <th>Bi level</th>\n",
       "      <td>90</td>\n",
       "      <td>90</td>\n",
       "      <td>90</td>\n",
       "      <td>90</td>\n",
       "      <td>90</td>\n",
       "      <td>90</td>\n",
       "      <td>90</td>\n",
       "      <td>85</td>\n",
       "      <td>88</td>\n",
       "      <td>86</td>\n",
       "      <td>...</td>\n",
       "      <td>90</td>\n",
       "      <td>0</td>\n",
       "      <td>0</td>\n",
       "      <td>0</td>\n",
       "      <td>90</td>\n",
       "      <td>90</td>\n",
       "      <td>90</td>\n",
       "      <td>90</td>\n",
       "      <td>90</td>\n",
       "      <td>90</td>\n",
       "    </tr>\n",
       "    <tr>\n",
       "      <th>Bungalow</th>\n",
       "      <td>5078</td>\n",
       "      <td>5078</td>\n",
       "      <td>5078</td>\n",
       "      <td>5078</td>\n",
       "      <td>5078</td>\n",
       "      <td>5075</td>\n",
       "      <td>5078</td>\n",
       "      <td>5041</td>\n",
       "      <td>5058</td>\n",
       "      <td>5029</td>\n",
       "      <td>...</td>\n",
       "      <td>5078</td>\n",
       "      <td>4</td>\n",
       "      <td>0</td>\n",
       "      <td>0</td>\n",
       "      <td>5078</td>\n",
       "      <td>5078</td>\n",
       "      <td>5077</td>\n",
       "      <td>5077</td>\n",
       "      <td>5078</td>\n",
       "      <td>5078</td>\n",
       "    </tr>\n",
       "    <tr>\n",
       "      <th>Cape Cod</th>\n",
       "      <td>27699</td>\n",
       "      <td>27699</td>\n",
       "      <td>27699</td>\n",
       "      <td>27699</td>\n",
       "      <td>27699</td>\n",
       "      <td>27699</td>\n",
       "      <td>27698</td>\n",
       "      <td>27610</td>\n",
       "      <td>27657</td>\n",
       "      <td>27620</td>\n",
       "      <td>...</td>\n",
       "      <td>27699</td>\n",
       "      <td>49</td>\n",
       "      <td>0</td>\n",
       "      <td>0</td>\n",
       "      <td>27699</td>\n",
       "      <td>27699</td>\n",
       "      <td>27698</td>\n",
       "      <td>27698</td>\n",
       "      <td>27699</td>\n",
       "      <td>27699</td>\n",
       "    </tr>\n",
       "    <tr>\n",
       "      <th>Colonial</th>\n",
       "      <td>69498</td>\n",
       "      <td>69498</td>\n",
       "      <td>69498</td>\n",
       "      <td>69498</td>\n",
       "      <td>69498</td>\n",
       "      <td>69482</td>\n",
       "      <td>69498</td>\n",
       "      <td>68608</td>\n",
       "      <td>69306</td>\n",
       "      <td>68644</td>\n",
       "      <td>...</td>\n",
       "      <td>69498</td>\n",
       "      <td>151</td>\n",
       "      <td>0</td>\n",
       "      <td>0</td>\n",
       "      <td>69498</td>\n",
       "      <td>69498</td>\n",
       "      <td>69485</td>\n",
       "      <td>69485</td>\n",
       "      <td>69498</td>\n",
       "      <td>69498</td>\n",
       "    </tr>\n",
       "    <tr>\n",
       "      <th>Contemporary</th>\n",
       "      <td>130</td>\n",
       "      <td>130</td>\n",
       "      <td>130</td>\n",
       "      <td>130</td>\n",
       "      <td>130</td>\n",
       "      <td>130</td>\n",
       "      <td>130</td>\n",
       "      <td>122</td>\n",
       "      <td>130</td>\n",
       "      <td>126</td>\n",
       "      <td>...</td>\n",
       "      <td>130</td>\n",
       "      <td>0</td>\n",
       "      <td>0</td>\n",
       "      <td>0</td>\n",
       "      <td>130</td>\n",
       "      <td>130</td>\n",
       "      <td>130</td>\n",
       "      <td>130</td>\n",
       "      <td>130</td>\n",
       "      <td>130</td>\n",
       "    </tr>\n",
       "    <tr>\n",
       "      <th>DUP</th>\n",
       "      <td>7</td>\n",
       "      <td>7</td>\n",
       "      <td>7</td>\n",
       "      <td>7</td>\n",
       "      <td>7</td>\n",
       "      <td>7</td>\n",
       "      <td>7</td>\n",
       "      <td>6</td>\n",
       "      <td>7</td>\n",
       "      <td>7</td>\n",
       "      <td>...</td>\n",
       "      <td>7</td>\n",
       "      <td>1</td>\n",
       "      <td>0</td>\n",
       "      <td>0</td>\n",
       "      <td>7</td>\n",
       "      <td>7</td>\n",
       "      <td>7</td>\n",
       "      <td>7</td>\n",
       "      <td>7</td>\n",
       "      <td>7</td>\n",
       "    </tr>\n",
       "    <tr>\n",
       "      <th>Garden</th>\n",
       "      <td>1</td>\n",
       "      <td>1</td>\n",
       "      <td>1</td>\n",
       "      <td>1</td>\n",
       "      <td>1</td>\n",
       "      <td>1</td>\n",
       "      <td>1</td>\n",
       "      <td>1</td>\n",
       "      <td>1</td>\n",
       "      <td>1</td>\n",
       "      <td>...</td>\n",
       "      <td>1</td>\n",
       "      <td>0</td>\n",
       "      <td>0</td>\n",
       "      <td>0</td>\n",
       "      <td>1</td>\n",
       "      <td>1</td>\n",
       "      <td>1</td>\n",
       "      <td>1</td>\n",
       "      <td>1</td>\n",
       "      <td>1</td>\n",
       "    </tr>\n",
       "    <tr>\n",
       "      <th>Other</th>\n",
       "      <td>15</td>\n",
       "      <td>15</td>\n",
       "      <td>15</td>\n",
       "      <td>15</td>\n",
       "      <td>15</td>\n",
       "      <td>15</td>\n",
       "      <td>15</td>\n",
       "      <td>8</td>\n",
       "      <td>15</td>\n",
       "      <td>11</td>\n",
       "      <td>...</td>\n",
       "      <td>15</td>\n",
       "      <td>0</td>\n",
       "      <td>0</td>\n",
       "      <td>0</td>\n",
       "      <td>15</td>\n",
       "      <td>15</td>\n",
       "      <td>15</td>\n",
       "      <td>15</td>\n",
       "      <td>15</td>\n",
       "      <td>15</td>\n",
       "    </tr>\n",
       "    <tr>\n",
       "      <th>Ranch</th>\n",
       "      <td>11087</td>\n",
       "      <td>11087</td>\n",
       "      <td>11087</td>\n",
       "      <td>11087</td>\n",
       "      <td>11087</td>\n",
       "      <td>11086</td>\n",
       "      <td>11087</td>\n",
       "      <td>10995</td>\n",
       "      <td>11062</td>\n",
       "      <td>11004</td>\n",
       "      <td>...</td>\n",
       "      <td>11087</td>\n",
       "      <td>14</td>\n",
       "      <td>0</td>\n",
       "      <td>0</td>\n",
       "      <td>11087</td>\n",
       "      <td>11087</td>\n",
       "      <td>11086</td>\n",
       "      <td>11086</td>\n",
       "      <td>11087</td>\n",
       "      <td>11087</td>\n",
       "    </tr>\n",
       "    <tr>\n",
       "      <th>Split level</th>\n",
       "      <td>569</td>\n",
       "      <td>569</td>\n",
       "      <td>569</td>\n",
       "      <td>569</td>\n",
       "      <td>569</td>\n",
       "      <td>569</td>\n",
       "      <td>569</td>\n",
       "      <td>569</td>\n",
       "      <td>566</td>\n",
       "      <td>568</td>\n",
       "      <td>...</td>\n",
       "      <td>569</td>\n",
       "      <td>0</td>\n",
       "      <td>0</td>\n",
       "      <td>0</td>\n",
       "      <td>569</td>\n",
       "      <td>569</td>\n",
       "      <td>569</td>\n",
       "      <td>569</td>\n",
       "      <td>569</td>\n",
       "      <td>569</td>\n",
       "    </tr>\n",
       "    <tr>\n",
       "      <th>Townhouse</th>\n",
       "      <td>834</td>\n",
       "      <td>834</td>\n",
       "      <td>834</td>\n",
       "      <td>834</td>\n",
       "      <td>834</td>\n",
       "      <td>823</td>\n",
       "      <td>834</td>\n",
       "      <td>766</td>\n",
       "      <td>813</td>\n",
       "      <td>803</td>\n",
       "      <td>...</td>\n",
       "      <td>834</td>\n",
       "      <td>0</td>\n",
       "      <td>0</td>\n",
       "      <td>0</td>\n",
       "      <td>834</td>\n",
       "      <td>834</td>\n",
       "      <td>656</td>\n",
       "      <td>656</td>\n",
       "      <td>834</td>\n",
       "      <td>834</td>\n",
       "    </tr>\n",
       "  </tbody>\n",
       "</table>\n",
       "<p>12 rows × 65 columns</p>\n",
       "</div>"
      ],
      "text/plain": [
       "              parcel  taxyr  pclass   nluc    luc    zip  owner  propsize  \\\n",
       "style                                                                       \n",
       "3FM                1      1       1      1      1      1      1         1   \n",
       "Bi level          90     90      90     90     90     90     90        85   \n",
       "Bungalow        5078   5078    5078   5078   5078   5075   5078      5041   \n",
       "Cape Cod       27699  27699   27699  27699  27699  27699  27698     27610   \n",
       "Colonial       69498  69498   69498  69498  69498  69482  69498     68608   \n",
       "Contemporary     130    130     130    130    130    130    130       122   \n",
       "DUP                7      7       7      7      7      7      7         6   \n",
       "Garden             1      1       1      1      1      1      1         1   \n",
       "Other             15     15      15     15     15     15     15         8   \n",
       "Ranch          11087  11087   11087  11087  11087  11086  11087     10995   \n",
       "Split level      569    569     569    569    569    569    569       569   \n",
       "Townhouse        834    834     834    834    834    823    834       766   \n",
       "\n",
       "              front  depth       ...         inhis  diffval  _TYPE_  _FREQ_  \\\n",
       "style                            ...                                          \n",
       "3FM               1      0       ...             1        0       0       0   \n",
       "Bi level         88     86       ...            90        0       0       0   \n",
       "Bungalow       5058   5029       ...          5078        4       0       0   \n",
       "Cape Cod      27657  27620       ...         27699       49       0       0   \n",
       "Colonial      69306  68644       ...         69498      151       0       0   \n",
       "Contemporary    130    126       ...           130        0       0       0   \n",
       "DUP               7      7       ...             7        1       0       0   \n",
       "Garden            1      1       ...             1        0       0       0   \n",
       "Other            15     11       ...            15        0       0       0   \n",
       "Ranch         11062  11004       ...         11087       14       0       0   \n",
       "Split level     566    568       ...           569        0       0       0   \n",
       "Townhouse       813    803       ...           834        0       0       0   \n",
       "\n",
       "              chg_tval   PROP  LATITUDE  LONGITUDE  yearkey  condition_value  \n",
       "style                                                                         \n",
       "3FM                  1      1         1          1        1                1  \n",
       "Bi level            90     90        90         90       90               90  \n",
       "Bungalow          5078   5078      5077       5077     5078             5078  \n",
       "Cape Cod         27699  27699     27698      27698    27699            27699  \n",
       "Colonial         69498  69498     69485      69485    69498            69498  \n",
       "Contemporary       130    130       130        130      130              130  \n",
       "DUP                  7      7         7          7        7                7  \n",
       "Garden               1      1         1          1        1                1  \n",
       "Other               15     15        15         15       15               15  \n",
       "Ranch            11087  11087     11086      11086    11087            11087  \n",
       "Split level        569    569       569        569      569              569  \n",
       "Townhouse          834    834       656        656      834              834  \n",
       "\n",
       "[12 rows x 65 columns]"
      ]
     },
     "execution_count": 101,
     "metadata": {},
     "output_type": "execute_result"
    }
   ],
   "source": [
    "prop.groupby('style').count()"
   ]
  },
  {
   "cell_type": "code",
   "execution_count": 102,
   "metadata": {
    "collapsed": false
   },
   "outputs": [],
   "source": [
    "styles = ['Bungalow','Cape Cod','Colonial','Ranch','Townhouse']\n",
    "\n",
    "def get_style(x):\n",
    "    if x in styles:\n",
    "        return x\n",
    "    else:\n",
    "        return np.nan\n",
    "\n",
    "prop['style_filtered'] = prop['style'].apply(get_style)"
   ]
  },
  {
   "cell_type": "code",
   "execution_count": 103,
   "metadata": {
    "collapsed": false
   },
   "outputs": [
    {
     "name": "stdout",
     "output_type": "stream",
     "text": [
      "(122560, 15)\n"
     ]
    }
   ],
   "source": [
    "tci = pd.merge(tci, prop[['parcel','style_filtered']] \\\n",
    "               , how='left', left_on='ppn', right_on='parcel')\n",
    "print tci.shape"
   ]
  },
  {
   "cell_type": "code",
   "execution_count": 104,
   "metadata": {
    "collapsed": false
   },
   "outputs": [],
   "source": [
    "tci.loc[tci.style_filtered.isnull(),'style_filtered'] = 'Other'"
   ]
  },
  {
   "cell_type": "code",
   "execution_count": 105,
   "metadata": {
    "collapsed": false
   },
   "outputs": [
    {
     "data": {
      "text/html": [
       "<div>\n",
       "<table border=\"1\" class=\"dataframe\">\n",
       "  <thead>\n",
       "    <tr>\n",
       "      <th></th>\n",
       "      <th colspan=\"2\" halign=\"left\">vacant</th>\n",
       "    </tr>\n",
       "    <tr>\n",
       "      <th></th>\n",
       "      <th>sum</th>\n",
       "      <th>len</th>\n",
       "    </tr>\n",
       "    <tr>\n",
       "      <th>style_filtered</th>\n",
       "      <th></th>\n",
       "      <th></th>\n",
       "    </tr>\n",
       "  </thead>\n",
       "  <tbody>\n",
       "    <tr>\n",
       "      <th>Bungalow</th>\n",
       "      <td>360</td>\n",
       "      <td>4857</td>\n",
       "    </tr>\n",
       "    <tr>\n",
       "      <th>Cape Cod</th>\n",
       "      <td>1787</td>\n",
       "      <td>26986</td>\n",
       "    </tr>\n",
       "    <tr>\n",
       "      <th>Colonial</th>\n",
       "      <td>6983</td>\n",
       "      <td>66593</td>\n",
       "    </tr>\n",
       "    <tr>\n",
       "      <th>Other</th>\n",
       "      <td>98</td>\n",
       "      <td>1232</td>\n",
       "    </tr>\n",
       "    <tr>\n",
       "      <th>Ranch</th>\n",
       "      <td>511</td>\n",
       "      <td>10783</td>\n",
       "    </tr>\n",
       "    <tr>\n",
       "      <th>Townhouse</th>\n",
       "      <td>21</td>\n",
       "      <td>699</td>\n",
       "    </tr>\n",
       "  </tbody>\n",
       "</table>\n",
       "</div>"
      ],
      "text/plain": [
       "               vacant       \n",
       "                  sum    len\n",
       "style_filtered              \n",
       "Bungalow          360   4857\n",
       "Cape Cod         1787  26986\n",
       "Colonial         6983  66593\n",
       "Other              98   1232\n",
       "Ranch             511  10783\n",
       "Townhouse          21    699"
      ]
     },
     "execution_count": 105,
     "metadata": {},
     "output_type": "execute_result"
    }
   ],
   "source": [
    "tci.loc[tci.vacant>-1,['vacant','style_filtered']].groupby('style_filtered').agg([sum,len])"
   ]
  },
  {
   "cell_type": "markdown",
   "metadata": {},
   "source": [
    "### Owner occupancy"
   ]
  },
  {
   "cell_type": "code",
   "execution_count": 106,
   "metadata": {
    "collapsed": false
   },
   "outputs": [],
   "source": [
    "def get_own(x):\n",
    "    if x == 'Yes':\n",
    "        return 1\n",
    "    elif x == 'No':\n",
    "        return 0\n",
    "    else:\n",
    "        return np.nan\n",
    "    \n",
    "prop['ownerocc_value'] = prop['ownerocc'].apply(get_own)"
   ]
  },
  {
   "cell_type": "code",
   "execution_count": 107,
   "metadata": {
    "collapsed": false
   },
   "outputs": [],
   "source": [
    "tci = pd.merge(tci, prop[['parcel','ownerocc_value']], \\\n",
    "               how='left', left_on='ppn', right_on='parcel')"
   ]
  },
  {
   "cell_type": "code",
   "execution_count": 108,
   "metadata": {
    "collapsed": false
   },
   "outputs": [
    {
     "data": {
      "text/plain": [
       "(122560, 17)"
      ]
     },
     "execution_count": 108,
     "metadata": {},
     "output_type": "execute_result"
    }
   ],
   "source": [
    "tci.shape"
   ]
  },
  {
   "cell_type": "code",
   "execution_count": 109,
   "metadata": {
    "collapsed": false
   },
   "outputs": [
    {
     "data": {
      "text/plain": [
       "ownerocc_value\n",
       "0    0.142738\n",
       "1    0.060106\n",
       "dtype: float64"
      ]
     },
     "execution_count": 109,
     "metadata": {},
     "output_type": "execute_result"
    }
   ],
   "source": [
    "t = tci.loc[tci.vacant>-1,['ownerocc_value','vacant']].groupby('ownerocc_value').agg([len, sum])\n",
    "t.vacant['sum']/t.vacant['len']"
   ]
  },
  {
   "cell_type": "markdown",
   "metadata": {},
   "source": [
    "### Total buildings"
   ]
  },
  {
   "cell_type": "code",
   "execution_count": 110,
   "metadata": {
    "collapsed": false
   },
   "outputs": [
    {
     "name": "stdout",
     "output_type": "stream",
     "text": [
      "(122560, 19)\n"
     ]
    }
   ],
   "source": [
    "tci = pd.merge(tci, prop[['parcel','totbldgs']], \\\n",
    "               how='left', left_on='ppn', right_on='parcel')\n",
    "print tci.shape"
   ]
  },
  {
   "cell_type": "markdown",
   "metadata": {},
   "source": [
    "### Year built"
   ]
  },
  {
   "cell_type": "code",
   "execution_count": 111,
   "metadata": {
    "collapsed": false
   },
   "outputs": [],
   "source": [
    "def get_year(x):\n",
    "    try:\n",
    "        x = int(x)\n",
    "    except ValueError:\n",
    "        x = np.nan\n",
    "    return x"
   ]
  },
  {
   "cell_type": "code",
   "execution_count": 112,
   "metadata": {
    "collapsed": false
   },
   "outputs": [],
   "source": [
    "prop['yrbuilt_filtered'] = prop['yrbuilt'].apply(get_year)"
   ]
  },
  {
   "cell_type": "code",
   "execution_count": 113,
   "metadata": {
    "collapsed": false
   },
   "outputs": [
    {
     "data": {
      "text/plain": [
       "(122560, 21)"
      ]
     },
     "execution_count": 113,
     "metadata": {},
     "output_type": "execute_result"
    }
   ],
   "source": [
    "tci = pd.merge(tci, prop[['parcel','yrbuilt_filtered']], \\\n",
    "               how='left', left_on='ppn', right_on='parcel')\n",
    "tci.shape"
   ]
  },
  {
   "cell_type": "code",
   "execution_count": 114,
   "metadata": {
    "collapsed": false
   },
   "outputs": [
    {
     "data": {
      "image/png": "[encoded data removed]",
      "text/plain": [
       "<matplotlib.figure.Figure at 0x110a865d0>"
      ]
     },
     "metadata": {},
     "output_type": "display_data"
    }
   ],
   "source": [
    "plt.hist(tci[(tci.vacant==0) & (tci.yrbuilt_filtered.notnull())].yrbuilt_filtered.values, bins=np.linspace(1880,2000,20),normed=True,alpha=0.5);\n",
    "plt.hist(tci[(tci.vacant==1) & (tci.yrbuilt_filtered.notnull())].yrbuilt_filtered.values, bins=np.linspace(1880,2000,20),normed=True,alpha=0.5);"
   ]
  },
  {
   "cell_type": "markdown",
   "metadata": {},
   "source": [
    "### Exterior Wall"
   ]
  },
  {
   "cell_type": "code",
   "execution_count": 115,
   "metadata": {
    "collapsed": false
   },
   "outputs": [
    {
     "data": {
      "text/html": [
       "<div>\n",
       "<table border=\"1\" class=\"dataframe\">\n",
       "  <thead>\n",
       "    <tr style=\"text-align: right;\">\n",
       "      <th></th>\n",
       "      <th>parcel</th>\n",
       "      <th>taxyr</th>\n",
       "      <th>pclass</th>\n",
       "      <th>nluc</th>\n",
       "      <th>luc</th>\n",
       "      <th>zip</th>\n",
       "      <th>owner</th>\n",
       "      <th>propsize</th>\n",
       "      <th>front</th>\n",
       "      <th>depth</th>\n",
       "      <th>...</th>\n",
       "      <th>_FREQ_</th>\n",
       "      <th>chg_tval</th>\n",
       "      <th>PROP</th>\n",
       "      <th>LATITUDE</th>\n",
       "      <th>LONGITUDE</th>\n",
       "      <th>yearkey</th>\n",
       "      <th>condition_value</th>\n",
       "      <th>style_filtered</th>\n",
       "      <th>ownerocc_value</th>\n",
       "      <th>yrbuilt_filtered</th>\n",
       "    </tr>\n",
       "    <tr>\n",
       "      <th>rextwall</th>\n",
       "      <th></th>\n",
       "      <th></th>\n",
       "      <th></th>\n",
       "      <th></th>\n",
       "      <th></th>\n",
       "      <th></th>\n",
       "      <th></th>\n",
       "      <th></th>\n",
       "      <th></th>\n",
       "      <th></th>\n",
       "      <th></th>\n",
       "      <th></th>\n",
       "      <th></th>\n",
       "      <th></th>\n",
       "      <th></th>\n",
       "      <th></th>\n",
       "      <th></th>\n",
       "      <th></th>\n",
       "      <th></th>\n",
       "      <th></th>\n",
       "      <th></th>\n",
       "    </tr>\n",
       "  </thead>\n",
       "  <tbody>\n",
       "    <tr>\n",
       "      <th>Aluminum/Vinyl (r)</th>\n",
       "      <td>72099</td>\n",
       "      <td>72099</td>\n",
       "      <td>72099</td>\n",
       "      <td>72099</td>\n",
       "      <td>72099</td>\n",
       "      <td>72084</td>\n",
       "      <td>72098</td>\n",
       "      <td>71325</td>\n",
       "      <td>71935</td>\n",
       "      <td>71485</td>\n",
       "      <td>...</td>\n",
       "      <td>0</td>\n",
       "      <td>72099</td>\n",
       "      <td>72099</td>\n",
       "      <td>71933</td>\n",
       "      <td>71933</td>\n",
       "      <td>72099</td>\n",
       "      <td>72099</td>\n",
       "      <td>71502</td>\n",
       "      <td>72099</td>\n",
       "      <td>72099</td>\n",
       "    </tr>\n",
       "    <tr>\n",
       "      <th>Asbestos Shingle (r)</th>\n",
       "      <td>2350</td>\n",
       "      <td>2350</td>\n",
       "      <td>2350</td>\n",
       "      <td>2350</td>\n",
       "      <td>2350</td>\n",
       "      <td>2350</td>\n",
       "      <td>2350</td>\n",
       "      <td>2344</td>\n",
       "      <td>2347</td>\n",
       "      <td>2337</td>\n",
       "      <td>...</td>\n",
       "      <td>0</td>\n",
       "      <td>2350</td>\n",
       "      <td>2350</td>\n",
       "      <td>2350</td>\n",
       "      <td>2350</td>\n",
       "      <td>2350</td>\n",
       "      <td>2350</td>\n",
       "      <td>2349</td>\n",
       "      <td>2350</td>\n",
       "      <td>2350</td>\n",
       "    </tr>\n",
       "    <tr>\n",
       "      <th>Brick</th>\n",
       "      <td>10777</td>\n",
       "      <td>10777</td>\n",
       "      <td>10777</td>\n",
       "      <td>10777</td>\n",
       "      <td>10777</td>\n",
       "      <td>10776</td>\n",
       "      <td>10777</td>\n",
       "      <td>10672</td>\n",
       "      <td>10744</td>\n",
       "      <td>10665</td>\n",
       "      <td>...</td>\n",
       "      <td>0</td>\n",
       "      <td>10777</td>\n",
       "      <td>10777</td>\n",
       "      <td>10775</td>\n",
       "      <td>10775</td>\n",
       "      <td>10777</td>\n",
       "      <td>10777</td>\n",
       "      <td>10743</td>\n",
       "      <td>10777</td>\n",
       "      <td>10777</td>\n",
       "    </tr>\n",
       "    <tr>\n",
       "      <th>Brick/Stucco (r)</th>\n",
       "      <td>88</td>\n",
       "      <td>88</td>\n",
       "      <td>88</td>\n",
       "      <td>88</td>\n",
       "      <td>88</td>\n",
       "      <td>88</td>\n",
       "      <td>88</td>\n",
       "      <td>85</td>\n",
       "      <td>88</td>\n",
       "      <td>85</td>\n",
       "      <td>...</td>\n",
       "      <td>0</td>\n",
       "      <td>88</td>\n",
       "      <td>88</td>\n",
       "      <td>88</td>\n",
       "      <td>88</td>\n",
       "      <td>88</td>\n",
       "      <td>88</td>\n",
       "      <td>88</td>\n",
       "      <td>88</td>\n",
       "      <td>88</td>\n",
       "    </tr>\n",
       "    <tr>\n",
       "      <th>Composite siding (r)</th>\n",
       "      <td>564</td>\n",
       "      <td>564</td>\n",
       "      <td>564</td>\n",
       "      <td>564</td>\n",
       "      <td>564</td>\n",
       "      <td>561</td>\n",
       "      <td>564</td>\n",
       "      <td>550</td>\n",
       "      <td>561</td>\n",
       "      <td>559</td>\n",
       "      <td>...</td>\n",
       "      <td>0</td>\n",
       "      <td>564</td>\n",
       "      <td>564</td>\n",
       "      <td>552</td>\n",
       "      <td>552</td>\n",
       "      <td>564</td>\n",
       "      <td>564</td>\n",
       "      <td>560</td>\n",
       "      <td>564</td>\n",
       "      <td>564</td>\n",
       "    </tr>\n",
       "    <tr>\n",
       "      <th>Concrete block</th>\n",
       "      <td>98</td>\n",
       "      <td>98</td>\n",
       "      <td>98</td>\n",
       "      <td>98</td>\n",
       "      <td>98</td>\n",
       "      <td>98</td>\n",
       "      <td>98</td>\n",
       "      <td>97</td>\n",
       "      <td>98</td>\n",
       "      <td>97</td>\n",
       "      <td>...</td>\n",
       "      <td>0</td>\n",
       "      <td>98</td>\n",
       "      <td>98</td>\n",
       "      <td>98</td>\n",
       "      <td>98</td>\n",
       "      <td>98</td>\n",
       "      <td>98</td>\n",
       "      <td>97</td>\n",
       "      <td>98</td>\n",
       "      <td>98</td>\n",
       "    </tr>\n",
       "    <tr>\n",
       "      <th>Frame (r)</th>\n",
       "      <td>27523</td>\n",
       "      <td>27523</td>\n",
       "      <td>27523</td>\n",
       "      <td>27523</td>\n",
       "      <td>27523</td>\n",
       "      <td>27515</td>\n",
       "      <td>27523</td>\n",
       "      <td>27266</td>\n",
       "      <td>27431</td>\n",
       "      <td>27200</td>\n",
       "      <td>...</td>\n",
       "      <td>0</td>\n",
       "      <td>27523</td>\n",
       "      <td>27523</td>\n",
       "      <td>27514</td>\n",
       "      <td>27514</td>\n",
       "      <td>27523</td>\n",
       "      <td>27523</td>\n",
       "      <td>27373</td>\n",
       "      <td>27523</td>\n",
       "      <td>27522</td>\n",
       "    </tr>\n",
       "    <tr>\n",
       "      <th>Frame/Brick (r)</th>\n",
       "      <td>934</td>\n",
       "      <td>934</td>\n",
       "      <td>934</td>\n",
       "      <td>934</td>\n",
       "      <td>934</td>\n",
       "      <td>934</td>\n",
       "      <td>934</td>\n",
       "      <td>906</td>\n",
       "      <td>927</td>\n",
       "      <td>907</td>\n",
       "      <td>...</td>\n",
       "      <td>0</td>\n",
       "      <td>934</td>\n",
       "      <td>934</td>\n",
       "      <td>934</td>\n",
       "      <td>934</td>\n",
       "      <td>934</td>\n",
       "      <td>934</td>\n",
       "      <td>921</td>\n",
       "      <td>934</td>\n",
       "      <td>934</td>\n",
       "    </tr>\n",
       "    <tr>\n",
       "      <th>Other (r)</th>\n",
       "      <td>44</td>\n",
       "      <td>44</td>\n",
       "      <td>44</td>\n",
       "      <td>44</td>\n",
       "      <td>44</td>\n",
       "      <td>44</td>\n",
       "      <td>44</td>\n",
       "      <td>44</td>\n",
       "      <td>44</td>\n",
       "      <td>42</td>\n",
       "      <td>...</td>\n",
       "      <td>0</td>\n",
       "      <td>44</td>\n",
       "      <td>44</td>\n",
       "      <td>40</td>\n",
       "      <td>40</td>\n",
       "      <td>44</td>\n",
       "      <td>44</td>\n",
       "      <td>42</td>\n",
       "      <td>44</td>\n",
       "      <td>44</td>\n",
       "    </tr>\n",
       "    <tr>\n",
       "      <th>Stone</th>\n",
       "      <td>124</td>\n",
       "      <td>124</td>\n",
       "      <td>124</td>\n",
       "      <td>124</td>\n",
       "      <td>124</td>\n",
       "      <td>124</td>\n",
       "      <td>124</td>\n",
       "      <td>121</td>\n",
       "      <td>123</td>\n",
       "      <td>121</td>\n",
       "      <td>...</td>\n",
       "      <td>0</td>\n",
       "      <td>124</td>\n",
       "      <td>124</td>\n",
       "      <td>124</td>\n",
       "      <td>124</td>\n",
       "      <td>124</td>\n",
       "      <td>124</td>\n",
       "      <td>124</td>\n",
       "      <td>124</td>\n",
       "      <td>124</td>\n",
       "    </tr>\n",
       "    <tr>\n",
       "      <th>Stucco (r)</th>\n",
       "      <td>249</td>\n",
       "      <td>249</td>\n",
       "      <td>249</td>\n",
       "      <td>249</td>\n",
       "      <td>249</td>\n",
       "      <td>249</td>\n",
       "      <td>249</td>\n",
       "      <td>243</td>\n",
       "      <td>247</td>\n",
       "      <td>242</td>\n",
       "      <td>...</td>\n",
       "      <td>0</td>\n",
       "      <td>249</td>\n",
       "      <td>249</td>\n",
       "      <td>249</td>\n",
       "      <td>249</td>\n",
       "      <td>249</td>\n",
       "      <td>249</td>\n",
       "      <td>239</td>\n",
       "      <td>249</td>\n",
       "      <td>249</td>\n",
       "    </tr>\n",
       "    <tr>\n",
       "      <th>VBR</th>\n",
       "      <td>159</td>\n",
       "      <td>159</td>\n",
       "      <td>159</td>\n",
       "      <td>159</td>\n",
       "      <td>159</td>\n",
       "      <td>155</td>\n",
       "      <td>159</td>\n",
       "      <td>159</td>\n",
       "      <td>159</td>\n",
       "      <td>159</td>\n",
       "      <td>...</td>\n",
       "      <td>0</td>\n",
       "      <td>159</td>\n",
       "      <td>159</td>\n",
       "      <td>158</td>\n",
       "      <td>158</td>\n",
       "      <td>159</td>\n",
       "      <td>159</td>\n",
       "      <td>158</td>\n",
       "      <td>159</td>\n",
       "      <td>159</td>\n",
       "    </tr>\n",
       "  </tbody>\n",
       "</table>\n",
       "<p>12 rows × 68 columns</p>\n",
       "</div>"
      ],
      "text/plain": [
       "                      parcel  taxyr  pclass   nluc    luc    zip  owner  \\\n",
       "rextwall                                                                  \n",
       "Aluminum/Vinyl (r)     72099  72099   72099  72099  72099  72084  72098   \n",
       "Asbestos Shingle (r)    2350   2350    2350   2350   2350   2350   2350   \n",
       "Brick                  10777  10777   10777  10777  10777  10776  10777   \n",
       "Brick/Stucco (r)          88     88      88     88     88     88     88   \n",
       "Composite siding (r)     564    564     564    564    564    561    564   \n",
       "Concrete block            98     98      98     98     98     98     98   \n",
       "Frame (r)              27523  27523   27523  27523  27523  27515  27523   \n",
       "Frame/Brick (r)          934    934     934    934    934    934    934   \n",
       "Other (r)                 44     44      44     44     44     44     44   \n",
       "Stone                    124    124     124    124    124    124    124   \n",
       "Stucco (r)               249    249     249    249    249    249    249   \n",
       "VBR                      159    159     159    159    159    155    159   \n",
       "\n",
       "                      propsize  front  depth        ...         _FREQ_  \\\n",
       "rextwall                                            ...                  \n",
       "Aluminum/Vinyl (r)       71325  71935  71485        ...              0   \n",
       "Asbestos Shingle (r)      2344   2347   2337        ...              0   \n",
       "Brick                    10672  10744  10665        ...              0   \n",
       "Brick/Stucco (r)            85     88     85        ...              0   \n",
       "Composite siding (r)       550    561    559        ...              0   \n",
       "Concrete block              97     98     97        ...              0   \n",
       "Frame (r)                27266  27431  27200        ...              0   \n",
       "Frame/Brick (r)            906    927    907        ...              0   \n",
       "Other (r)                   44     44     42        ...              0   \n",
       "Stone                      121    123    121        ...              0   \n",
       "Stucco (r)                 243    247    242        ...              0   \n",
       "VBR                        159    159    159        ...              0   \n",
       "\n",
       "                      chg_tval   PROP  LATITUDE  LONGITUDE  yearkey  \\\n",
       "rextwall                                                              \n",
       "Aluminum/Vinyl (r)       72099  72099     71933      71933    72099   \n",
       "Asbestos Shingle (r)      2350   2350      2350       2350     2350   \n",
       "Brick                    10777  10777     10775      10775    10777   \n",
       "Brick/Stucco (r)            88     88        88         88       88   \n",
       "Composite siding (r)       564    564       552        552      564   \n",
       "Concrete block              98     98        98         98       98   \n",
       "Frame (r)                27523  27523     27514      27514    27523   \n",
       "Frame/Brick (r)            934    934       934        934      934   \n",
       "Other (r)                   44     44        40         40       44   \n",
       "Stone                      124    124       124        124      124   \n",
       "Stucco (r)                 249    249       249        249      249   \n",
       "VBR                        159    159       158        158      159   \n",
       "\n",
       "                      condition_value  style_filtered  ownerocc_value  \\\n",
       "rextwall                                                                \n",
       "Aluminum/Vinyl (r)              72099           71502           72099   \n",
       "Asbestos Shingle (r)             2350            2349            2350   \n",
       "Brick                           10777           10743           10777   \n",
       "Brick/Stucco (r)                   88              88              88   \n",
       "Composite siding (r)              564             560             564   \n",
       "Concrete block                     98              97              98   \n",
       "Frame (r)                       27523           27373           27523   \n",
       "Frame/Brick (r)                   934             921             934   \n",
       "Other (r)                          44              42              44   \n",
       "Stone                             124             124             124   \n",
       "Stucco (r)                        249             239             249   \n",
       "VBR                               159             158             159   \n",
       "\n",
       "                      yrbuilt_filtered  \n",
       "rextwall                                \n",
       "Aluminum/Vinyl (r)               72099  \n",
       "Asbestos Shingle (r)              2350  \n",
       "Brick                            10777  \n",
       "Brick/Stucco (r)                    88  \n",
       "Composite siding (r)               564  \n",
       "Concrete block                      98  \n",
       "Frame (r)                        27522  \n",
       "Frame/Brick (r)                    934  \n",
       "Other (r)                           44  \n",
       "Stone                              124  \n",
       "Stucco (r)                         249  \n",
       "VBR                                159  \n",
       "\n",
       "[12 rows x 68 columns]"
      ]
     },
     "execution_count": 115,
     "metadata": {},
     "output_type": "execute_result"
    }
   ],
   "source": [
    "prop.groupby('rextwall').count()"
   ]
  },
  {
   "cell_type": "code",
   "execution_count": 116,
   "metadata": {
    "collapsed": false
   },
   "outputs": [
    {
     "name": "stdout",
     "output_type": "stream",
     "text": [
      "(122560, 23)\n"
     ]
    }
   ],
   "source": [
    "tci = pd.merge(tci, prop[['parcel','rextwall']], \\\n",
    "               how='left', left_on='ppn', right_on='parcel')\n",
    "print tci.shape"
   ]
  },
  {
   "cell_type": "code",
   "execution_count": 117,
   "metadata": {
    "collapsed": false
   },
   "outputs": [],
   "source": [
    "tci.rextwall = tci.rextwall.apply(lambda x: x if x in ['Aluminum/Vinyl (r)','Brick','Frame (r)','Asbestos Shingle (r)'] else 'Other')"
   ]
  },
  {
   "cell_type": "markdown",
   "metadata": {},
   "source": [
    "## Add demographic variables"
   ]
  },
  {
   "cell_type": "code",
   "execution_count": 118,
   "metadata": {
    "collapsed": false
   },
   "outputs": [],
   "source": [
    "dem = pd.read_csv(path+'/data/clean_data/demographic.csv')"
   ]
  },
  {
   "cell_type": "code",
   "execution_count": 119,
   "metadata": {
    "collapsed": false
   },
   "outputs": [],
   "source": [
    "new_cols = ['parcel', 'vacant_block','owner','renter', 'median_rent','property_crimes','burglaries','other_drug', 'part_one_crimes','part_two_crimes', \\\n",
    "'bachelors+','poverty_rate','median_hh_income', 'median_fam_income','white','black','asian','other','hispanic','young','middle','old']"
   ]
  },
  {
   "cell_type": "code",
   "execution_count": 120,
   "metadata": {
    "collapsed": false
   },
   "outputs": [],
   "source": [
    "dem.columns = new_cols"
   ]
  },
  {
   "cell_type": "code",
   "execution_count": 121,
   "metadata": {
    "collapsed": false
   },
   "outputs": [],
   "source": [
    "use_cols = ['parcel', 'vacant_block', 'median_rent','property_crimes','burglaries', 'part_one_crimes','part_two_crimes', \\\n",
    "'bachelors+','poverty_rate','median_hh_income','white','black','asian','other','hispanic','young','middle','old']"
   ]
  },
  {
   "cell_type": "code",
   "execution_count": null,
   "metadata": {
    "collapsed": true
   },
   "outputs": [],
   "source": [
    "dem"
   ]
  },
  {
   "cell_type": "code",
   "execution_count": 137,
   "metadata": {
    "collapsed": false
   },
   "outputs": [
    {
     "data": {
      "text/plain": [
       "parcel               object\n",
       "vacant_block         object\n",
       "median_rent          object\n",
       "bachelors+           object\n",
       "poverty_rate         object\n",
       "median_hh_income     object\n",
       "median_fam_income    object\n",
       "white                object\n",
       "black                object\n",
       "asian                object\n",
       "other                object\n",
       "hispanic             object\n",
       "young                object\n",
       "middle               object\n",
       "old                  object\n",
       "dtype: object"
      ]
     },
     "execution_count": 137,
     "metadata": {},
     "output_type": "execute_result"
    }
   ],
   "source": [
    "dem.dtypes[dem.dtypes=='object']"
   ]
  },
  {
   "cell_type": "code",
   "execution_count": 138,
   "metadata": {
    "collapsed": false
   },
   "outputs": [
    {
     "name": "stdout",
     "output_type": "stream",
     "text": [
      "vacant_block 0\n",
      "median_rent 0\n",
      "bachelors+ 0\n",
      "poverty_rate 0\n",
      "median_hh_income 0\n",
      "median_fam_income 0\n",
      "white 0\n",
      "black 0\n",
      "asian 0\n",
      "other 0\n",
      "hispanic 0\n",
      "young 0\n",
      "middle 0\n",
      "old 0\n"
     ]
    }
   ],
   "source": [
    "for col in dem.dtypes[dem.dtypes=='object'].index[1:]:\n",
    "    print col, len(dem.loc[dem[col]=='null', col])\n",
    "    dem.loc[dem[col]=='null', col] = np.nan\n",
    "    dem.loc[dem[col].notnull(), col] = dem.loc[dem[col].notnull(), col].apply(float)"
   ]
  },
  {
   "cell_type": "code",
   "execution_count": 123,
   "metadata": {
    "collapsed": false
   },
   "outputs": [],
   "source": [
    "tci = pd.merge(tci, dem[new_cols], left_on='ppn',right_on='parcel', how='left')"
   ]
  },
  {
   "cell_type": "code",
   "execution_count": 124,
   "metadata": {
    "collapsed": false
   },
   "outputs": [
    {
     "data": {
      "text/plain": [
       "(216, 45)"
      ]
     },
     "execution_count": 124,
     "metadata": {},
     "output_type": "execute_result"
    }
   ],
   "source": [
    "tci[tci['median_rent'].isnull()].shape"
   ]
  },
  {
   "cell_type": "code",
   "execution_count": 125,
   "metadata": {
    "collapsed": false
   },
   "outputs": [],
   "source": [
    "tci.to_csv(path+'/data/model_data/tci_2_0.csv', index=False)"
   ]
  },
  {
   "cell_type": "code",
   "execution_count": 126,
   "metadata": {
    "collapsed": false
   },
   "outputs": [
    {
     "data": {
      "text/plain": [
       "(122560, 45)"
      ]
     },
     "execution_count": 126,
     "metadata": {},
     "output_type": "execute_result"
    }
   ],
   "source": [
    "tci.shape"
   ]
  },
  {
   "cell_type": "code",
   "execution_count": null,
   "metadata": {
    "collapsed": true
   },
   "outputs": [],
   "source": []
  }
 ],
 "metadata": {
  "kernelspec": {
   "display_name": "Python 2",
   "language": "python",
   "name": "python2"
  },
  "language_info": {
   "codemirror_mode": {
    "name": "ipython",
    "version": 2
   },
   "file_extension": ".py",
   "mimetype": "text/x-python",
   "name": "python",
   "nbconvert_exporter": "python",
   "pygments_lexer": "ipython2",
   "version": "2.7.10"
  }
 },
 "nbformat": 4,
 "nbformat_minor": 0
}
