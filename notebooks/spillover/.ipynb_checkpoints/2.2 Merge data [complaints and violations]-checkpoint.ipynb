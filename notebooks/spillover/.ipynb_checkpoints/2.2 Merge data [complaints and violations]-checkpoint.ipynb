{
 "cells": [
  {
   "cell_type": "code",
   "execution_count": 1,
   "metadata": {
    "collapsed": false
   },
   "outputs": [
    {
     "name": "stdout",
     "output_type": "stream",
     "text": [
      "/Volumes/Dropbox/largetransfer/luc/carter\n"
     ]
    },
    {
     "name": "stderr",
     "output_type": "stream",
     "text": [
      "//anaconda/envs/data_sci/lib/python3.4/site-packages/matplotlib/__init__.py:872: UserWarning: axes.color_cycle is deprecated and replaced with axes.prop_cycle; please use the latter.\n",
      "  warnings.warn(self.msg_depr % (key, alt_key))\n"
     ]
    },
    {
     "data": {
      "text/plain": [
       "(113132, 6)"
      ]
     },
     "execution_count": 1,
     "metadata": {},
     "output_type": "execute_result"
    }
   ],
   "source": [
    "import matplotlib.pyplot as plt\n",
    "import seaborn as sns\n",
    "import pandas as pd\n",
    "import numpy as np\n",
    "import os\n",
    "import datetime as dt\n",
    "%matplotlib inline\n",
    "sns.set_context('notebook')\n",
    "\n",
    "path = '/'.join(os.getcwd().split('/')[:-2])\n",
    "print(path)\n",
    "\n",
    "tci = pd.read_csv(path+'/data/model_data/tci_1_0.csv', parse_dates=['Date'], dtype={'PIN': str})\n",
    "cols = ['parcel','vacant','Date','Survey Category','Survey Grade','SPA_NAME']\n",
    "tci = tci[cols]\n",
    "tci.shape "
   ]
  },
  {
   "cell_type": "markdown",
   "metadata": {},
   "source": [
    "## Violations"
   ]
  },
  {
   "cell_type": "code",
   "execution_count": 2,
   "metadata": {
    "collapsed": false
   },
   "outputs": [
    {
     "ename": "NameError",
     "evalue": "(\"name 'dates' is not defined\", 'occurred at index 0')",
     "output_type": "error",
     "traceback": [
      "\u001b[0;31m---------------------------------------------------------------------------\u001b[0m",
      "\u001b[0;31mNameError\u001b[0m                                 Traceback (most recent call last)",
      "\u001b[0;32m<ipython-input-2-303876d30228>\u001b[0m in \u001b[0;36m<module>\u001b[0;34m()\u001b[0m\n\u001b[1;32m      1\u001b[0m \u001b[0mvs\u001b[0m \u001b[0;34m=\u001b[0m \u001b[0mpd\u001b[0m\u001b[0;34m.\u001b[0m\u001b[0mread_csv\u001b[0m\u001b[0;34m(\u001b[0m\u001b[0mpath\u001b[0m\u001b[0;34m+\u001b[0m\u001b[0;34m'/data/clean_data/violations.csv'\u001b[0m\u001b[0;34m,\u001b[0m \u001b[0mparse_dates\u001b[0m \u001b[0;34m=\u001b[0m \u001b[0;34m[\u001b[0m\u001b[0;36m1\u001b[0m\u001b[0;34m,\u001b[0m\u001b[0;36m4\u001b[0m\u001b[0;34m]\u001b[0m\u001b[0;34m)\u001b[0m\u001b[0;34m\u001b[0m\u001b[0m\n\u001b[0;32m----> 2\u001b[0;31m \u001b[0mvs\u001b[0m \u001b[0;34m=\u001b[0m \u001b[0mvs\u001b[0m\u001b[0;34m.\u001b[0m\u001b[0mloc\u001b[0m\u001b[0;34m[\u001b[0m\u001b[0mvs\u001b[0m\u001b[0;34m.\u001b[0m\u001b[0mapply\u001b[0m\u001b[0;34m(\u001b[0m\u001b[0;32mlambda\u001b[0m \u001b[0mx\u001b[0m\u001b[0;34m:\u001b[0m \u001b[0mx\u001b[0m\u001b[0;34m.\u001b[0m\u001b[0mv_file_date\u001b[0m \u001b[0;34m<\u001b[0m \u001b[0mdates\u001b[0m\u001b[0;34m[\u001b[0m\u001b[0mx\u001b[0m\u001b[0;34m.\u001b[0m\u001b[0mparcel\u001b[0m\u001b[0;34m]\u001b[0m\u001b[0;34m,\u001b[0m \u001b[0maxis\u001b[0m\u001b[0;34m=\u001b[0m\u001b[0;36m1\u001b[0m\u001b[0;34m)\u001b[0m\u001b[0;34m]\u001b[0m\u001b[0;34m\u001b[0m\u001b[0m\n\u001b[0m",
      "\u001b[0;32m//anaconda/envs/data_sci/lib/python3.4/site-packages/pandas/core/frame.py\u001b[0m in \u001b[0;36mapply\u001b[0;34m(self, func, axis, broadcast, raw, reduce, args, **kwds)\u001b[0m\n\u001b[1;32m   3970\u001b[0m                     \u001b[0;32mif\u001b[0m \u001b[0mreduce\u001b[0m \u001b[0;32mis\u001b[0m \u001b[0;32mNone\u001b[0m\u001b[0;34m:\u001b[0m\u001b[0;34m\u001b[0m\u001b[0m\n\u001b[1;32m   3971\u001b[0m                         \u001b[0mreduce\u001b[0m \u001b[0;34m=\u001b[0m \u001b[0;32mTrue\u001b[0m\u001b[0;34m\u001b[0m\u001b[0m\n\u001b[0;32m-> 3972\u001b[0;31m                     \u001b[0;32mreturn\u001b[0m \u001b[0mself\u001b[0m\u001b[0;34m.\u001b[0m\u001b[0m_apply_standard\u001b[0m\u001b[0;34m(\u001b[0m\u001b[0mf\u001b[0m\u001b[0;34m,\u001b[0m \u001b[0maxis\u001b[0m\u001b[0;34m,\u001b[0m \u001b[0mreduce\u001b[0m\u001b[0;34m=\u001b[0m\u001b[0mreduce\u001b[0m\u001b[0;34m)\u001b[0m\u001b[0;34m\u001b[0m\u001b[0m\n\u001b[0m\u001b[1;32m   3973\u001b[0m             \u001b[0;32melse\u001b[0m\u001b[0;34m:\u001b[0m\u001b[0;34m\u001b[0m\u001b[0m\n\u001b[1;32m   3974\u001b[0m                 \u001b[0;32mreturn\u001b[0m \u001b[0mself\u001b[0m\u001b[0;34m.\u001b[0m\u001b[0m_apply_broadcast\u001b[0m\u001b[0;34m(\u001b[0m\u001b[0mf\u001b[0m\u001b[0;34m,\u001b[0m \u001b[0maxis\u001b[0m\u001b[0;34m)\u001b[0m\u001b[0;34m\u001b[0m\u001b[0m\n",
      "\u001b[0;32m//anaconda/envs/data_sci/lib/python3.4/site-packages/pandas/core/frame.py\u001b[0m in \u001b[0;36m_apply_standard\u001b[0;34m(self, func, axis, ignore_failures, reduce)\u001b[0m\n\u001b[1;32m   4062\u001b[0m             \u001b[0;32mtry\u001b[0m\u001b[0;34m:\u001b[0m\u001b[0;34m\u001b[0m\u001b[0m\n\u001b[1;32m   4063\u001b[0m                 \u001b[0;32mfor\u001b[0m \u001b[0mi\u001b[0m\u001b[0;34m,\u001b[0m \u001b[0mv\u001b[0m \u001b[0;32min\u001b[0m \u001b[0menumerate\u001b[0m\u001b[0;34m(\u001b[0m\u001b[0mseries_gen\u001b[0m\u001b[0;34m)\u001b[0m\u001b[0;34m:\u001b[0m\u001b[0;34m\u001b[0m\u001b[0m\n\u001b[0;32m-> 4064\u001b[0;31m                     \u001b[0mresults\u001b[0m\u001b[0;34m[\u001b[0m\u001b[0mi\u001b[0m\u001b[0;34m]\u001b[0m \u001b[0;34m=\u001b[0m \u001b[0mfunc\u001b[0m\u001b[0;34m(\u001b[0m\u001b[0mv\u001b[0m\u001b[0;34m)\u001b[0m\u001b[0;34m\u001b[0m\u001b[0m\n\u001b[0m\u001b[1;32m   4065\u001b[0m                     \u001b[0mkeys\u001b[0m\u001b[0;34m.\u001b[0m\u001b[0mappend\u001b[0m\u001b[0;34m(\u001b[0m\u001b[0mv\u001b[0m\u001b[0;34m.\u001b[0m\u001b[0mname\u001b[0m\u001b[0;34m)\u001b[0m\u001b[0;34m\u001b[0m\u001b[0m\n\u001b[1;32m   4066\u001b[0m             \u001b[0;32mexcept\u001b[0m \u001b[0mException\u001b[0m \u001b[0;32mas\u001b[0m \u001b[0me\u001b[0m\u001b[0;34m:\u001b[0m\u001b[0;34m\u001b[0m\u001b[0m\n",
      "\u001b[0;32m<ipython-input-2-303876d30228>\u001b[0m in \u001b[0;36m<lambda>\u001b[0;34m(x)\u001b[0m\n\u001b[1;32m      1\u001b[0m \u001b[0mvs\u001b[0m \u001b[0;34m=\u001b[0m \u001b[0mpd\u001b[0m\u001b[0;34m.\u001b[0m\u001b[0mread_csv\u001b[0m\u001b[0;34m(\u001b[0m\u001b[0mpath\u001b[0m\u001b[0;34m+\u001b[0m\u001b[0;34m'/data/clean_data/violations.csv'\u001b[0m\u001b[0;34m,\u001b[0m \u001b[0mparse_dates\u001b[0m \u001b[0;34m=\u001b[0m \u001b[0;34m[\u001b[0m\u001b[0;36m1\u001b[0m\u001b[0;34m,\u001b[0m\u001b[0;36m4\u001b[0m\u001b[0;34m]\u001b[0m\u001b[0;34m)\u001b[0m\u001b[0;34m\u001b[0m\u001b[0m\n\u001b[0;32m----> 2\u001b[0;31m \u001b[0mvs\u001b[0m \u001b[0;34m=\u001b[0m \u001b[0mvs\u001b[0m\u001b[0;34m.\u001b[0m\u001b[0mloc\u001b[0m\u001b[0;34m[\u001b[0m\u001b[0mvs\u001b[0m\u001b[0;34m.\u001b[0m\u001b[0mapply\u001b[0m\u001b[0;34m(\u001b[0m\u001b[0;32mlambda\u001b[0m \u001b[0mx\u001b[0m\u001b[0;34m:\u001b[0m \u001b[0mx\u001b[0m\u001b[0;34m.\u001b[0m\u001b[0mv_file_date\u001b[0m \u001b[0;34m<\u001b[0m \u001b[0mdates\u001b[0m\u001b[0;34m[\u001b[0m\u001b[0mx\u001b[0m\u001b[0;34m.\u001b[0m\u001b[0mparcel\u001b[0m\u001b[0;34m]\u001b[0m\u001b[0;34m,\u001b[0m \u001b[0maxis\u001b[0m\u001b[0;34m=\u001b[0m\u001b[0;36m1\u001b[0m\u001b[0;34m)\u001b[0m\u001b[0;34m]\u001b[0m\u001b[0;34m\u001b[0m\u001b[0m\n\u001b[0m",
      "\u001b[0;31mNameError\u001b[0m: (\"name 'dates' is not defined\", 'occurred at index 0')"
     ]
    }
   ],
   "source": [
    "vs = pd.read_csv(path+'/data/clean_data/violations.csv', parse_dates = [1,4])\n",
    "vs = vs.loc[vs.apply(lambda x: x.v_file_date < dates[x.parcel], axis=1)]"
   ]
  },
  {
   "cell_type": "code",
   "execution_count": null,
   "metadata": {
    "collapsed": false
   },
   "outputs": [],
   "source": [
    "vs.info()"
   ]
  },
  {
   "cell_type": "markdown",
   "metadata": {},
   "source": [
    "### Violations count "
   ]
  },
  {
   "cell_type": "code",
   "execution_count": 261,
   "metadata": {
    "collapsed": false
   },
   "outputs": [],
   "source": [
    "vs_copy = vs.groupby('VIN').last().reset_index()\n",
    "\n",
    "vs_copy = vs_copy[['parcel','v_file_date']].groupby('parcel').count().reset_index()\n",
    "\n",
    "vs_copy['vs_count'] = vs_copy.apply(lambda x: \\\n",
    "        len(vs[(vs.parcel == x.parcel) & (vs.v_file_date > dates[x.parcel]-pd.DateOffset(years=1))]), axis=1)\n",
    "\n",
    "vs_copy = vs_copy.rename(columns={'vs_count':'v_total_1yr'})\n",
    "vs_copy = vs_copy.set_index('parcel')"
   ]
  },
  {
   "cell_type": "code",
   "execution_count": 262,
   "metadata": {
    "collapsed": false
   },
   "outputs": [],
   "source": [
    "tci = pd.merge(tci, vs_copy[['v_total_1yr']], \\\n",
    "               how='left', left_on='parcel', right_index=True)\n",
    "tci.loc[tci.v_total_1yr.isnull(), 'v_total_1yr'] = 0"
   ]
  },
  {
   "cell_type": "code",
   "execution_count": 263,
   "metadata": {
    "collapsed": true
   },
   "outputs": [],
   "source": [
    "vs_copy = vs.groupby('VIN').last().reset_index()\n",
    "\n",
    "vs_copy = vs_copy[['parcel','v_file_date']].groupby('parcel').count().reset_index()\n",
    "\n",
    "vs_copy['vs_count'] = vs_copy.apply(lambda x: \\\n",
    "        len(vs[(vs.parcel == x.parcel) & (vs.v_file_date > dates[x.parcel]-pd.DateOffset(years=2))]), axis=1)\n",
    "\n",
    "vs_copy = vs_copy.rename(columns={'vs_count':'v_total_2yr'})\n",
    "vs_copy = vs_copy.set_index('parcel')"
   ]
  },
  {
   "cell_type": "code",
   "execution_count": 264,
   "metadata": {
    "collapsed": false
   },
   "outputs": [],
   "source": [
    "tci = pd.merge(tci, vs_copy[['v_total_2yr']], \\\n",
    "               how='left', left_on='parcel', right_index=True)\n",
    "tci.loc[tci.v_total_2yr.isnull(), 'v_total_2yr'] = 0"
   ]
  },
  {
   "cell_type": "code",
   "execution_count": 265,
   "metadata": {
    "collapsed": false
   },
   "outputs": [],
   "source": [
    "# vs_count = pd.DataFrame(vs[vs['v_file_date']>dt.datetime(2013,6,1)].groupby('VIN').last().groupby('parcel').count()['v_file_date'])\n",
    "# vs_count = vs_count.rename(columns={'v_file_date':'violations_number_2_yr'})\n",
    "# tci = pd.merge(tci, vs_count[['violations_number_2_yr']], \\\n",
    "#                how='left', left_on='ppn', right_index=True)\n",
    "# tci.loc[tci.violations_number_2_yr.isnull(), 'violations_number_2_yr'] = 0"
   ]
  },
  {
   "cell_type": "markdown",
   "metadata": {},
   "source": [
    "### Violation types"
   ]
  },
  {
   "cell_type": "code",
   "execution_count": 266,
   "metadata": {
    "collapsed": true
   },
   "outputs": [],
   "source": [
    "# def fun(x):\n",
    "#     return (x.v_file_date < dates[x.parcel]) & (x.v_file_date > dates[x.parcel]-dt.timedelta(days=120))    "
   ]
  },
  {
   "cell_type": "code",
   "execution_count": 267,
   "metadata": {
    "collapsed": false
   },
   "outputs": [],
   "source": [
    "# vs_temp = vs.apply(fun, axis=1)"
   ]
  },
  {
   "cell_type": "code",
   "execution_count": 268,
   "metadata": {
    "collapsed": false
   },
   "outputs": [],
   "source": [
    "# violation_types = ['Condemnation - Main Structure','Fire Damage','Hazardous Conditions','Unauthorized/Illegal Use','Vacate']"
   ]
  },
  {
   "cell_type": "code",
   "execution_count": 269,
   "metadata": {
    "collapsed": false
   },
   "outputs": [],
   "source": [
    "# for vio in violation_types:\n",
    "#     tem = vs.loc[(vs_temp) & (vs.v_type_of_violation==vio),['v_type_of_violation','parcel','VIN']].groupby('VIN').last().groupby('parcel').count()\n",
    "#     tci = pd.merge(tci, tem, left_on='parcel', right_index=True, how='left')\n",
    "#     tci = tci.rename(columns={'v_type_of_violation': 'v_'+vio.lower()[0:6]})\n",
    "#     tci['v_'+vio.lower()[0:6]] = tci['v_'+vio.lower()[0:6]].fillna(0)"
   ]
  },
  {
   "cell_type": "code",
   "execution_count": 270,
   "metadata": {
    "collapsed": false
   },
   "outputs": [
    {
     "data": {
      "text/plain": [
       "Index([u'parcel', u'Date', u'vacant', u'v_total_1yr', u'v_total_2yr'], dtype='object')"
      ]
     },
     "execution_count": 270,
     "metadata": {},
     "output_type": "execute_result"
    }
   ],
   "source": [
    "tci.columns"
   ]
  },
  {
   "cell_type": "markdown",
   "metadata": {},
   "source": [
    "## Complaints"
   ]
  },
  {
   "cell_type": "code",
   "execution_count": 271,
   "metadata": {
    "collapsed": false
   },
   "outputs": [],
   "source": [
    "# cp = pd.read_csv(path+'/data/clean_data/complaints.csv', parse_dates = [2],index_col=[0], dtype=str)\n",
    "# cp = cp.loc[cp.apply(lambda x: x.c_file_date < dates[x.parcel], axis=1)]\n",
    "# cp = cp.sort_values('c_file_date')"
   ]
  },
  {
   "cell_type": "code",
   "execution_count": 272,
   "metadata": {
    "collapsed": false
   },
   "outputs": [],
   "source": [
    "# cp.info()"
   ]
  },
  {
   "cell_type": "code",
   "execution_count": 273,
   "metadata": {
    "collapsed": false
   },
   "outputs": [],
   "source": [
    "# cp.groupby('complaint_id').last().groupby(.agg(lambda x: len(set(x.parcel)))"
   ]
  },
  {
   "cell_type": "code",
   "execution_count": 274,
   "metadata": {
    "collapsed": false
   },
   "outputs": [],
   "source": [
    "# types = cp[cp.c_file_date > dt.datetime(2013,6,1)].groupby('complaint_id').last().groupby('c_type_of_complaint').count()['c_file_date'].sort_values(ascending=False).head(10)\n",
    "# types"
   ]
  },
  {
   "cell_type": "code",
   "execution_count": 275,
   "metadata": {
    "collapsed": true
   },
   "outputs": [],
   "source": [
    "# def fun(x):\n",
    "#     return (x.c_file_date < dates[x.parcel]) & (x.c_file_date > dates[x.parcel]-dt.timedelta(days=120))    \n",
    "# cp_temp = cp.apply(fun, axis=1)"
   ]
  },
  {
   "cell_type": "code",
   "execution_count": 276,
   "metadata": {
    "collapsed": true
   },
   "outputs": [],
   "source": [
    "# types = ['Collapsing Structure','Complete interior/exterior','Fire Damage', \\\n",
    "#          'General Exterior Maintenance','No Permit', 'Vacant Distressed']"
   ]
  },
  {
   "cell_type": "code",
   "execution_count": 277,
   "metadata": {
    "collapsed": false
   },
   "outputs": [],
   "source": [
    "# for complaint in types:\n",
    "#     tem = cp.loc[(cp_temp) & (cp.c_type_of_complaint==complaint),['c_type_of_complaint','parcel','complaint_id']].groupby('complaint_id').last().groupby('parcel').count()\n",
    "#     tci = pd.merge(tci, tem, left_on='parcel', right_index=True, how='left')\n",
    "#     tci = tci.rename(columns={'c_type_of_complaint': 'c_'+complaint.lower()[0:6]})\n",
    "#     tci['c_'+complaint.lower()[0:6]] = tci['c_'+complaint.lower()[0:6]].fillna(0)"
   ]
  },
  {
   "cell_type": "markdown",
   "metadata": {},
   "source": [
    "### Complaint type"
   ]
  },
  {
   "cell_type": "code",
   "execution_count": 278,
   "metadata": {
    "collapsed": false
   },
   "outputs": [],
   "source": [
    "cp = cp.loc[cp.apply(lambda x: x.c_file_date < dates[x.parcel], axis=1)]"
   ]
  },
  {
   "cell_type": "code",
   "execution_count": 279,
   "metadata": {
    "collapsed": true
   },
   "outputs": [],
   "source": [
    "cp_copy = cp[cp.c_type_of_complaint=='O.V.V.'].groupby('complaint_id').last().reset_index()\n",
    "# cp_copy2 = cp_copy[['parcel','c_file_date']].groupby('parcel').last().reset_index()"
   ]
  },
  {
   "cell_type": "code",
   "execution_count": 280,
   "metadata": {
    "collapsed": false
   },
   "outputs": [],
   "source": [
    "# cp_copy2 = cp_copy\n",
    "\n",
    "# cp_copy2['c_ovv_2yr'] = cp_copy2.apply(lambda x: \\\n",
    "#         len(cp[(cp.parcel == x.parcel) & (cp.c_file_date > dates[x.parcel]-pd.DateOffset(years=2))]), axis=1)\n",
    "\n",
    "# cp_copy2 = cp_copy2.set_index('parcel')\n",
    "\n",
    "# tci = pd.merge(tci, cp_copy2[['c_ovv_2yr']], \\\n",
    "#                how='left', left_on='parcel', right_index=True)\n",
    "# tci.loc[tci.c_ovv_2yr.isnull(), 'c_ovv_2yr'] = 0"
   ]
  },
  {
   "cell_type": "code",
   "execution_count": 281,
   "metadata": {
    "collapsed": false
   },
   "outputs": [],
   "source": [
    "# cp_copy2 = cp_copy\n",
    "\n",
    "# cp_copy2['c_ovv_1yr'] = cp_copy2.apply(lambda x: \\\n",
    "#         len(cp[(cp.parcel == x.parcel) & (cp.c_file_date > dates[x.parcel]-pd.DateOffset(years=1))]), axis=1)\n",
    "\n",
    "# cp_copy2 = cp_copy2.set_index('parcel')\n",
    "\n",
    "# tci = pd.merge(tci, cp_copy2[['c_ovv_1yr']], \\\n",
    "#                how='left', left_on='parcel', right_index=True)\n",
    "# tci.loc[tci.c_ovv_1yr.isnull(), 'c_ovv_1yr'] = 0"
   ]
  },
  {
   "cell_type": "code",
   "execution_count": 282,
   "metadata": {
    "collapsed": true
   },
   "outputs": [],
   "source": [
    "# cp_copy2 = cp_copy\n",
    "\n",
    "# cp_copy2['c_ovv_3mo'] = cp_copy2.apply(lambda x: \\\n",
    "#         len(cp[(cp.parcel == x.parcel) & (cp.c_file_date > dates[x.parcel]-pd.DateOffset(months=3))]), axis=1)\n",
    "\n",
    "# cp_copy2 = cp_copy2.set_index('parcel')\n",
    "\n",
    "# tci = pd.merge(tci, cp_copy2[['c_ovv_3mo']], \\\n",
    "#                how='left', left_on='parcel', right_index=True)\n",
    "# tci.loc[tci.c_ovv_3mo.isnull(), 'c_ovv_3mo'] = 0"
   ]
  },
  {
   "cell_type": "code",
   "execution_count": 283,
   "metadata": {
    "collapsed": false
   },
   "outputs": [],
   "source": [
    "(cp.c_wf_task_status=='Closed-Board Up Requested')"
   ]
  },
  {
   "cell_type": "code",
   "execution_count": 312,
   "metadata": {
    "collapsed": false
   },
   "outputs": [],
   "source": [
    "del tci['days_since_ovv_board_up']"
   ]
  },
  {
   "cell_type": "code",
   "execution_count": 314,
   "metadata": {
    "collapsed": false
   },
   "outputs": [],
   "source": [
    "tci = pd.merge(tci, cp_copy.loc[(cp_copy.c_file_date > dt.datetime(2006,1,1))\\\n",
    "                                &(cp.c_wf_task_status=='Closed-Board Up Requested'),['c_file_date','parcel']]\\\n",
    "               .groupby('parcel')\\\n",
    "               .last()\\\n",
    "                    ,how='left', left_on='parcel', right_index=True)\n",
    "tci = tci.rename(columns = {'c_file_date':'days_since_ovv_board_up'})\n",
    "tci.loc[tci.days_since_ovv_board_up.isnull(),'days_since_ovv_board_up'] = dt.datetime(2006,1,1)\n",
    "tci['days_since_ovv_board_up'] = tci.apply(lambda x: (x.Date-x.days_since_ovv_board_up).days, axis=1)\n",
    "\n",
    "tci = pd.merge(tci, cp_copy.loc[(cp_copy.c_file_date > dt.datetime(2006,1,1))\\\n",
    "                                &(cp.c_wf_task_status=='Closed-Board Up Requested'),['c_file_date','parcel']]\\\n",
    "               .groupby('parcel')\\\n",
    "               .agg(lambda x: len(x)\\\n",
    "                    /((dates[x.parcel.iloc[0]] - dt.datetime(2006,1,1)).days/365.0))\\\n",
    "                    ,how='left', left_on='parcel', right_index=True)\n",
    "tci = tci.rename(columns = {'c_file_date':'c_ovv_board_num'})\n",
    "tci.loc[tci.c_ovv_board_num.isnull(),'c_ovv_board_num'] = 0\n",
    "\n"
   ]
  },
  {
   "cell_type": "code",
   "execution_count": 285,
   "metadata": {
    "collapsed": false
   },
   "outputs": [],
   "source": [
    "tci = pd.merge(tci, cp_copy.loc[cp_copy.c_file_date > dt.datetime(2006,1,1),['c_file_date','parcel']]\\\n",
    "               .groupby('parcel')\\\n",
    "               .last()\\\n",
    "                    ,how='left', left_on='parcel', right_index=True)\n",
    "tci = tci.rename(columns = {'c_file_date':'days_since_ovv'})\n",
    "tci.loc[tci.days_since_ovv.isnull(),'days_since_ovv'] = dt.datetime(2006,1,1)\n",
    "tci['days_since_ovv'] = tci.apply(lambda x: (x.Date-x.days_since_ovv).days, axis=1)\n",
    "\n",
    "tci = pd.merge(tci, cp_copy.loc[cp_copy.c_file_date > dt.datetime(2006,1,1),['c_file_date','parcel']]\\\n",
    "               .groupby('parcel')\\\n",
    "               .agg(lambda x: len(x)\\\n",
    "                    /((dates[x.parcel.iloc[0]] - dt.datetime(2006,1,1)).days/365.0))\\\n",
    "                    ,how='left', left_on='parcel', right_index=True)\n",
    "tci = tci.rename(columns = {'c_file_date':'c_ovv_num'})\n",
    "tci.loc[tci.c_ovv_num.isnull(),'c_ovv_num'] = 0\n",
    "\n"
   ]
  },
  {
   "cell_type": "code",
   "execution_count": 286,
   "metadata": {
    "collapsed": false
   },
   "outputs": [],
   "source": [
    "# for complaint in ['O.V.V.']:\n",
    "#     t = cp.loc[(cp.c_file_date > dt.datetime(2015,1,1)) & (cp.c_type_of_complaint==complaint),['c_type_of_complaint','parcel','complaint_id']] \\\n",
    "#             .groupby('complaint_id').last().groupby('parcel').count()[['c_type_of_complaint']]\n",
    "#     t = t.rename(columns={'c_type_of_complaint': 'c_'+complaint+'_0yr'})\n",
    "#     tem = pd.merge(tci, t, left_on='ppn', right_index=True, how='left')\n",
    "#     tem['c_'+complaint+'_0yr'] = tem['c_'+complaint+'_0yr'].fillna(0)\n",
    "#     print pd.crosstab(tem['c_'+complaint+'_0yr'], tem.vacant)"
   ]
  },
  {
   "cell_type": "code",
   "execution_count": 287,
   "metadata": {
    "collapsed": false
   },
   "outputs": [],
   "source": [
    "# for complaint in types.index:\n",
    "#     t = cp.loc[(cp.c_file_date > dt.datetime(2014,6,1)) & (cp.c_type_of_complaint==complaint),['c_type_of_complaint','parcel','complaint_id']] \\\n",
    "#             .groupby('complaint_id').last().groupby('parcel').count()[['c_type_of_complaint']]\n",
    "#     t = t.rename(columns={'c_type_of_complaint': 'c_'+complaint+'_1yr'})\n",
    "#     tci = pd.merge(tci, t, left_on='ppn', right_index=True, how='left')\n",
    "#     tci['c_'+complaint+'_1yr'] = tci['c_'+complaint+'_1yr'].fillna(0)\n",
    "# #     print pd.crosstab(tem['c_'+complaint+'_1yr'], tem.vacant)"
   ]
  },
  {
   "cell_type": "code",
   "execution_count": 288,
   "metadata": {
    "collapsed": false
   },
   "outputs": [],
   "source": [
    "# for complaint in types.index:\n",
    "#     t = cp.loc[(cp.c_file_date > dt.datetime(2013,6,1)) & (cp.c_type_of_complaint==complaint),['c_type_of_complaint','parcel','complaint_id']] \\\n",
    "#             .groupby('complaint_id').last().groupby('parcel').count()[['c_type_of_complaint']]\n",
    "# #     t = cp.loc[cp.c_type_of_complaint==complaint,['c_type_of_complaint','parcel']].groupby('parcel').count()\n",
    "#     t = t.rename(columns={'c_type_of_complaint': 'c_'+complaint+'_2yr'})\n",
    "#     tci = pd.merge(tci, t, left_on='ppn', right_index=True, how='left')\n",
    "#     tci['c_'+complaint+'_2yr'] = tci['c_'+complaint+'_2yr'].fillna(0)\n",
    "# #     print pd.crosstab(tem['c_'+complaint+'_2yr'], tem.vacant)"
   ]
  },
  {
   "cell_type": "markdown",
   "metadata": {},
   "source": [
    "### Complaint count (2 yrs)"
   ]
  },
  {
   "cell_type": "code",
   "execution_count": 289,
   "metadata": {
    "collapsed": false,
    "scrolled": true
   },
   "outputs": [],
   "source": [
    "# cp_count = pd.DataFrame(cp[(cp.c_file_date > dt.datetime(2013,6,1))].groupby('parcel').count()['complaint_id'])\n",
    "# cp_count.columns = ['complaint_count_2yr']\n",
    "# tci = pd.merge(tci, cp_count, \\\n",
    "#                how='left', left_on='ppn', right_index=True)\n",
    "# tci.loc[tci.complaint_count_2yr.isnull(), 'complaint_count_2yr'] = 0"
   ]
  },
  {
   "cell_type": "code",
   "execution_count": 290,
   "metadata": {
    "collapsed": false
   },
   "outputs": [],
   "source": [
    "# sum(tci.loc[tci.complaint_count_2yr>5, 'vacant'])*1.0/len(tci.loc[tci.complaint_count_2yr>5, 'vacant'])"
   ]
  },
  {
   "cell_type": "markdown",
   "metadata": {},
   "source": [
    "### Complaint count (1 yr)"
   ]
  },
  {
   "cell_type": "code",
   "execution_count": 291,
   "metadata": {
    "collapsed": false
   },
   "outputs": [],
   "source": [
    "# cp_count = pd.DataFrame(cp[cp.c_file_date>dt.datetime(2014, 6, 1)].groupby('parcel').count()['complaint_id'])\n",
    "# cp_count.columns = ['complaint_count_1yr']\n",
    "# tci = pd.merge(tci, cp_count, \\\n",
    "#                how='left', left_on='ppn', right_index=True)\n",
    "# tci.loc[tci.complaint_count_1yr.isnull(), 'complaint_count_1yr'] = 0"
   ]
  },
  {
   "cell_type": "code",
   "execution_count": 292,
   "metadata": {
    "collapsed": false
   },
   "outputs": [],
   "source": [
    "# sum(tci.loc[tci.complaint_count_1yr>2, 'vacant'])*1.0/len(tci.loc[tci.complaint_count_1yr>2, 'vacant'])"
   ]
  },
  {
   "cell_type": "markdown",
   "metadata": {},
   "source": [
    "### Complain count (6 months)"
   ]
  },
  {
   "cell_type": "code",
   "execution_count": 293,
   "metadata": {
    "collapsed": false
   },
   "outputs": [],
   "source": [
    "# cp_count = pd.DataFrame(cp[cp.c_file_date>dt.datetime(2015, 1, 1)].groupby('parcel').count()['complaint_id'])\n",
    "# cp_count.columns = ['complaint_count_6_mon']\n",
    "# tci = pd.merge(tci, cp_count, \\\n",
    "#                how='left', left_on='ppn', right_index=True)\n",
    "# tci.loc[tci.complaint_count_6_mon.isnull(), 'complaint_count_6_mon'] = 0"
   ]
  },
  {
   "cell_type": "code",
   "execution_count": 294,
   "metadata": {
    "collapsed": false
   },
   "outputs": [],
   "source": [
    "# sum(tci.loc[tci.complaint_count_6_mon>0, 'vacant'])*1.0/len(tci.loc[tci.complaint_count_6_mon>0, 'vacant']) ,len(tci.loc[tci.complaint_count_6_mon>0, 'vacant'])"
   ]
  },
  {
   "cell_type": "code",
   "execution_count": 317,
   "metadata": {
    "collapsed": false
   },
   "outputs": [],
   "source": [
    "tci.to_csv(path+'/data/model_data/tci_2_2.csv', index=False)"
   ]
  },
  {
   "cell_type": "code",
   "execution_count": 315,
   "metadata": {
    "collapsed": false
   },
   "outputs": [
    {
     "data": {
      "text/plain": [
       "(113132, 9)"
      ]
     },
     "execution_count": 315,
     "metadata": {},
     "output_type": "execute_result"
    }
   ],
   "source": [
    "tci.shape"
   ]
  },
  {
   "cell_type": "code",
   "execution_count": 316,
   "metadata": {
    "collapsed": false
   },
   "outputs": [
    {
     "name": "stdout",
     "output_type": "stream",
     "text": [
      "<class 'pandas.core.frame.DataFrame'>\n",
      "Int64Index: 113132 entries, 0 to 113131\n",
      "Data columns (total 9 columns):\n",
      "parcel                     113132 non-null object\n",
      "Date                       113132 non-null datetime64[ns]\n",
      "vacant                     113132 non-null int64\n",
      "v_total_1yr                113132 non-null float64\n",
      "v_total_2yr                113132 non-null float64\n",
      "days_since_ovv             113132 non-null int64\n",
      "c_ovv_num                  113132 non-null float64\n",
      "days_since_ovv_board_up    113132 non-null int64\n",
      "c_ovv_board_num            113132 non-null float64\n",
      "dtypes: datetime64[ns](1), float64(4), int64(3), object(1)\n",
      "memory usage: 8.6+ MB\n"
     ]
    }
   ],
   "source": [
    "tci.info()"
   ]
  },
  {
   "cell_type": "code",
   "execution_count": 298,
   "metadata": {
    "collapsed": false
   },
   "outputs": [
    {
     "data": {
      "text/plain": [
       "Timestamp('2005-10-28 00:00:00')"
      ]
     },
     "execution_count": 298,
     "metadata": {},
     "output_type": "execute_result"
    }
   ],
   "source": [
    "min(cp.c_file_date)"
   ]
  },
  {
   "cell_type": "code",
   "execution_count": 299,
   "metadata": {
    "collapsed": false
   },
   "outputs": [
    {
     "data": {
      "text/plain": [
       "{'Closure',\n",
       " 'Complaint Acceptance',\n",
       " 'Complaint Chief Inspec',\n",
       " 'Complaint Chief Inspector',\n",
       " 'Complaint Inspector',\n",
       " 'Inspection'}"
      ]
     },
     "execution_count": 299,
     "metadata": {},
     "output_type": "execute_result"
    }
   ],
   "source": [
    "set(cp.c_wf_task)"
   ]
  },
  {
   "cell_type": "code",
   "execution_count": 318,
   "metadata": {
    "collapsed": false
   },
   "outputs": [
    {
     "data": {
      "text/plain": [
       "6107"
      ]
     },
     "execution_count": 318,
     "metadata": {},
     "output_type": "execute_result"
    }
   ],
   "source": [
    "len(tci[tci.parcel.isin(cp[(cp.c_wf_task_status=='Closed-Board Up Requested')].parcel)].vacant)"
   ]
  },
  {
   "cell_type": "code",
   "execution_count": 319,
   "metadata": {
    "collapsed": false
   },
   "outputs": [
    {
     "data": {
      "text/plain": [
       "6087"
      ]
     },
     "execution_count": 319,
     "metadata": {},
     "output_type": "execute_result"
    }
   ],
   "source": [
    "len(tci[tci.parcel.isin(cp[(cp.c_type_of_complaint=='O.V.V.')&(cp.c_wf_task_status=='Closed-Board Up Requested')].parcel)].vacant)"
   ]
  },
  {
   "cell_type": "code",
   "execution_count": 301,
   "metadata": {
    "collapsed": false
   },
   "outputs": [
    {
     "data": {
      "text/plain": [
       "4146"
      ]
     },
     "execution_count": 301,
     "metadata": {},
     "output_type": "execute_result"
    }
   ],
   "source": [
    "len(tci[tci.parcel.isin(cp[(cp.c_type_of_complaint=='O.V.V.') & (cp.c_file_date>dt.datetime(2014,1,1))].parcel)].vacant)"
   ]
  },
  {
   "cell_type": "code",
   "execution_count": 302,
   "metadata": {
    "collapsed": false
   },
   "outputs": [
    {
     "data": {
      "text/plain": [
       "2459"
      ]
     },
     "execution_count": 302,
     "metadata": {},
     "output_type": "execute_result"
    }
   ],
   "source": [
    "sum(tci[tci.parcel.isin(cp[(cp.c_type_of_complaint=='O.V.V.')&(cp.c_wf_task_status=='Closed-Board Up Requested') & (cp.c_file_date>dt.datetime(2014,1,1))].parcel)].vacant)"
   ]
  }
 ],
 "metadata": {
  "kernelspec": {
   "display_name": "Python 3",
   "language": "python",
   "name": "python3"
  },
  "language_info": {
   "codemirror_mode": {
    "name": "ipython",
    "version": 3
   },
   "file_extension": ".py",
   "mimetype": "text/x-python",
   "name": "python",
   "nbconvert_exporter": "python",
   "pygments_lexer": "ipython3",
   "version": "3.4.4"
  }
 },
 "nbformat": 4,
 "nbformat_minor": 0
}
