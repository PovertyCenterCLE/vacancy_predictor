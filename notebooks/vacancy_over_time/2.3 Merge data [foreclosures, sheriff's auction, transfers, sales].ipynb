{
 "cells": [
  {
   "cell_type": "code",
   "execution_count": 6,
   "metadata": {
    "collapsed": false
   },
   "outputs": [
    {
     "name": "stdout",
     "output_type": "stream",
     "text": [
      "/Volumes/Dropbox/largetransfer/luc/carter\n"
     ]
    }
   ],
   "source": [
    "import matplotlib.pyplot as plt\n",
    "import seaborn as sns\n",
    "import pandas as pd\n",
    "import numpy as np\n",
    "import os\n",
    "import datetime as dt\n",
    "%matplotlib inline\n",
    "sns.set_context('notebook')\n",
    "\n",
    "path = '/'.join(os.getcwd().split('/')[:-2])\n",
    "print(path)\n",
    "\n",
    "tci = pd.read_csv(path+'/data/model_data/tci_1_0.csv', parse_dates=['Date'], dtype={'PIN': str})\n",
    "cols = ['parcel','vacant','Date','Survey Category','Survey Grade','SPA_NAME']\n",
    "tci = tci[cols]"
   ]
  },
  {
   "cell_type": "code",
   "execution_count": 7,
   "metadata": {
    "collapsed": false
   },
   "outputs": [],
   "source": [
    "# read data sets\n",
    "fc = pd.read_csv(path+'/data/clean_data/foreclosure_filings2.csv', parse_dates=[2])\n",
    "sa = pd.read_csv(path+'/data/clean_data/sheriff_auction.csv', parse_dates=[2], encoding=\"ISO-8859-1\")\n",
    "\n",
    "t = pd.read_csv(path+'/data/clean_data/transfers.csv', parse_dates=['mdate'], dtype=str)\n",
    "t = t.sort_values('mdate', ascending=False)\n",
    "\n",
    "al = pd.read_csv(path+'/data/clean_data/armslength.csv', dtype=str)\n",
    "al = al.drop_duplicates()\n",
    "\n",
    "# parse armslength dates\n",
    "months = dict(zip(['JAN','FEB','MAR','APR','MAY','JUN','JUL','AUG','SEP','OCT','NOV','DEC'],range(1,13)))\n",
    "def parse_date(x):\n",
    "    day = int(x[0:2])\n",
    "    month = months[x[2:5]]\n",
    "    year = int(x[5:])\n",
    "    return dt.datetime(year,month,day)\n",
    "\n",
    "al['date'] = al.mdate.apply(parse_date)\n",
    "al = al.sort_values('date')"
   ]
  },
  {
   "cell_type": "code",
   "execution_count": 8,
   "metadata": {
    "collapsed": true
   },
   "outputs": [],
   "source": [
    "def parse_amount(x):\n",
    "    return float(str(x)[1:].replace(',',''))"
   ]
  },
  {
   "cell_type": "code",
   "execution_count": 9,
   "metadata": {
    "collapsed": false
   },
   "outputs": [],
   "source": [
    "rng = pd.date_range('10/1/2009', periods=23, freq='3MS')\n",
    "\n",
    "for date in rng:\n",
    "    df = tci.copy()\n",
    "    \n",
    "    # foreclosures\n",
    "    fc_copy = fc.loc[fc.filedate < date]\n",
    "    fc_copy = fc_copy.sort_values('filedate')\n",
    "    fc_copy = fc_copy.groupby('caseno').last()\n",
    "    \n",
    "    # is it an active foreclosure\n",
    "    df.loc[df.parcel.isin(fc_copy.loc[fc_copy.status=='Active','parcel']),'active_fc'] = 1\n",
    "    df.loc[df.active_fc.isnull(),'active_fc'] = 0\n",
    "    \n",
    "    # has it had a foreclosure in the last year\n",
    "    df.loc[df.parcel.isin(fc_copy[fc_copy.filedate > (date-pd.DateOffset(years=1))].parcel),'fc_1yr'] = 1\n",
    "    df.loc[df.fc_1yr.isnull(), 'fc_1yr'] = 0\n",
    "    # has it had a foreclosure in the last 2 years\n",
    "    df.loc[df.parcel.isin(fc_copy[fc_copy.filedate > (date-pd.DateOffset(years=2))].parcel),'fc_2yr'] = 1\n",
    "    df.loc[df.fc_2yr.isnull(), 'fc_2yr'] = 0\n",
    "    \n",
    "    # days since last foreclosure\n",
    "    recent_fc = fc_copy.sort_values('filedate').groupby('parcel').last().reset_index()\n",
    "    fc_days = pd.DataFrame(recent_fc[['parcel','filedate']])\n",
    "    fc_days['fc_days'] = (date-fc_days.filedate).astype(pd.Timedelta).apply(lambda x: x.days)\n",
    "    fc_days = fc_days.set_index('parcel')\n",
    "    df = pd.merge(df, fc_days[['fc_days']], left_on='parcel',right_index=True, how='left')\n",
    "    df.loc[df.fc_days.isnull(),'fc_days'] = max(df[df.fc_days.notnull()].fc_days)+1\n",
    "\n",
    "    # sheriff's auction\n",
    "    sa_copy = sa.loc[sa.salesdt < date]\n",
    "    # days since last sheriff's auction\n",
    "    recent_sa = sa.sort_values('salesdt').groupby('parcel').last().reset_index()\n",
    "    sa_days = pd.DataFrame(recent_sa[['parcel','salesdt']])\n",
    "    sa_days['sa_days'] = (date-sa_days.salesdt).astype(pd.Timedelta).apply(lambda x: x.days)\n",
    "    sa_days = sa_days.set_index('parcel')\n",
    "    df = pd.merge(df, sa_days[['sa_days']], left_on='parcel',right_index=True, how='left')\n",
    "    df.loc[df.sa_days.isnull(),'sa_days'] = max(df[df.sa_days.notnull()].sa_days)+1\n",
    "    \n",
    "    # transfers\n",
    "    t_copy = t.loc[t.mdate < date]\n",
    "    # days since transfer\n",
    "    days_since_transfer = t_copy.groupby('PROPERTY_NUMBER').first()\n",
    "    df = pd.merge(df, days_since_transfer[['mdate']], left_on='parcel', right_index=True,how='left')\n",
    "    df.loc[df.mdate.isnull(),'mdate'] = dt.datetime(2006,1,1)\n",
    "    df['mdate'] = (date-df.mdate).astype(pd.Timedelta).apply(lambda x: x.days)\n",
    "    df = df.rename(columns={'mdate':'t_days'})\n",
    "    \n",
    "    # days since transfer with sheriff's deed type\n",
    "    recent_t = t_copy[(t_copy.DEED_TYPE=='Sheriffs Deed') & (t_copy.mdate > dt.datetime(2006,1,1))]\\\n",
    "                    .groupby('PROPERTY_NUMBER').first()\n",
    "    df = pd.merge(df, recent_t[['mdate']], how='left', left_on='parcel', right_index=True)\n",
    "    df.loc[df.mdate.isnull(),'mdate'] = dt.datetime(2006,1,1)\n",
    "    df['mdate'] = (date-df.mdate).astype(pd.Timedelta).apply(lambda x: x.days)\n",
    "    df = df.rename(columns={'mdate':'t_shf_deed'})\n",
    "        \n",
    "    # average number of transfers per year since 2006\n",
    "    df = pd.merge(df, t_copy.loc[t_copy.mdate > dt.datetime(2006,1,1), ['PROPERTY_NUMBER','mdate']] \\\n",
    "                   .groupby('PROPERTY_NUMBER').count(), how='left', left_on='parcel', right_index=True)\n",
    "    df['mdate'] = df['mdate'].fillna(0)\n",
    "    df = df.rename(columns = {'mdate':'t_num'})\n",
    "    per = ((date - dt.datetime(2006,1,1)).days/365.0)\n",
    "    df['t_num'] = df.t_num/per\n",
    "    \n",
    "    # armslength\n",
    "    al_copy = al.loc[al.date < date]\n",
    "    # number of armslength sales per year since 2006\n",
    "    df = pd.merge(df, al_copy.loc[al_copy.date > dt.datetime(2006,1,1),['date','PROPERTY_NUMBER']]\\\n",
    "                   .groupby('PROPERTY_NUMBER')\\\n",
    "                   .count()/per\\\n",
    "                        ,how='left', left_on='parcel', right_index=True)\n",
    "    df = df.rename(columns = {'date':'al_num'})\n",
    "    df.loc[df.al_num.isnull(),'al_num'] = 0\n",
    "\n",
    "    # days since most recent sale since 2006\n",
    "    df = pd.merge(df, al_copy[['date','PROPERTY_NUMBER']]\\\n",
    "                   .groupby('PROPERTY_NUMBER')\\\n",
    "                   .last()\\\n",
    "                        ,how='left', left_on='parcel', right_index=True)\n",
    "    \n",
    "\n",
    "    df.loc[df.date.isnull(),'date'] = dt.datetime(2006,1,1)\n",
    "    df = df.rename(columns = {'date':'al_days'})\n",
    "    df['al_days'] = (date-df.al_days).astype(pd.Timedelta).apply(lambda x: x.days)\n",
    "#     break\n",
    "    df.to_csv(path+'/data/model_data/tci_2_3_'+str(date.year)+'_'+str(date.month)+'.csv', index=False)"
   ]
  },
  {
   "cell_type": "code",
   "execution_count": 11,
   "metadata": {
    "collapsed": false
   },
   "outputs": [
    {
     "name": "stdout",
     "output_type": "stream",
     "text": [
      "<class 'pandas.core.frame.DataFrame'>\n",
      "Int64Index: 113132 entries, 0 to 113131\n",
      "Data columns (total 16 columns):\n",
      "parcel             113132 non-null object\n",
      "vacant             113132 non-null int64\n",
      "Date               113132 non-null datetime64[ns]\n",
      "Survey Category    113132 non-null object\n",
      "Survey Grade       113132 non-null object\n",
      "SPA_NAME           113132 non-null object\n",
      "active_fc          113132 non-null float64\n",
      "fc_1yr             113132 non-null float64\n",
      "fc_2yr             113132 non-null float64\n",
      "fc_days            113132 non-null float64\n",
      "sa_days            113132 non-null float64\n",
      "t_days             113132 non-null int64\n",
      "t_shf_deed         113132 non-null int64\n",
      "t_num              113132 non-null float64\n",
      "al_num             113132 non-null float64\n",
      "al_days            113132 non-null int64\n",
      "dtypes: datetime64[ns](1), float64(7), int64(4), object(4)\n",
      "memory usage: 14.7+ MB\n"
     ]
    }
   ],
   "source": [
    "df.info()"
   ]
  },
  {
   "cell_type": "code",
   "execution_count": null,
   "metadata": {
    "collapsed": true
   },
   "outputs": [],
   "source": []
  }
 ],
 "metadata": {
  "kernelspec": {
   "display_name": "Python 3",
   "language": "python",
   "name": "python3"
  },
  "language_info": {
   "codemirror_mode": {
    "name": "ipython",
    "version": 3
   },
   "file_extension": ".py",
   "mimetype": "text/x-python",
   "name": "python",
   "nbconvert_exporter": "python",
   "pygments_lexer": "ipython3",
   "version": "3.4.4"
  }
 },
 "nbformat": 4,
 "nbformat_minor": 0
}
