{
 "cells": [
  {
   "cell_type": "markdown",
   "metadata": {},
   "source": [
    "# 3.1 Build models"
   ]
  },
  {
   "cell_type": "code",
   "execution_count": 4,
   "metadata": {
    "collapsed": false
   },
   "outputs": [
    {
     "name": "stdout",
     "output_type": "stream",
     "text": [
      "/Volumes/Dropbox/largetransfer/luc/carter\n"
     ]
    },
    {
     "name": "stderr",
     "output_type": "stream",
     "text": [
      "//anaconda/envs/data_sci/lib/python3.4/site-packages/matplotlib/__init__.py:872: UserWarning: axes.color_cycle is deprecated and replaced with axes.prop_cycle; please use the latter.\n",
      "  warnings.warn(self.msg_depr % (key, alt_key))\n"
     ]
    }
   ],
   "source": [
    "import pandas as pd\n",
    "from sklearn.ensemble import RandomForestClassifier\n",
    "import matplotlib.pyplot as plt\n",
    "import numpy as np\n",
    "import seaborn as sns\n",
    "import math\n",
    "from sklearn.preprocessing import Imputer\n",
    "from sklearn.base import TransformerMixin\n",
    "from sklearn import cross_validation\n",
    "from sklearn.grid_search import GridSearchCV\n",
    "from sklearn.linear_model import LogisticRegression\n",
    "from sklearn import preprocessing\n",
    "from sklearn.cross_validation import cross_val_score\n",
    "import os\n",
    "\n",
    "def sound():\n",
    "    os.system('afplay /System/Library/Sounds/Sosumi.aiff')\n",
    "\n",
    "%matplotlib inline\n",
    "sns.set_context('notebook')\n",
    "\n",
    "path = '/'.join(os.getcwd().split('/')[:-1])\n",
    "print(path)"
   ]
  },
  {
   "cell_type": "code",
   "execution_count": 2,
   "metadata": {
    "collapsed": false
   },
   "outputs": [],
   "source": [
    "df = pd.read_csv(path+'/data/model_data/tci_final.csv',index_col=0)"
   ]
  },
  {
   "cell_type": "code",
   "execution_count": 3,
   "metadata": {
    "collapsed": false
   },
   "outputs": [
    {
     "data": {
      "text/plain": [
       "(113132, 59)"
      ]
     },
     "execution_count": 3,
     "metadata": {},
     "output_type": "execute_result"
    }
   ],
   "source": [
    "df.shape"
   ]
  },
  {
   "cell_type": "code",
   "execution_count": 4,
   "metadata": {
    "collapsed": false
   },
   "outputs": [],
   "source": [
    "features = list(df.columns)\n",
    "features.remove('vacant')\n",
    "\n",
    "from sklearn.cross_validation import train_test_split\n",
    "X_train, X_test, y_train, y_test = train_test_split(df[features], df['vacant'], test_size=0.2, random_state=42)"
   ]
  },
  {
   "cell_type": "markdown",
   "metadata": {},
   "source": [
    "## Build the classifiers"
   ]
  },
  {
   "cell_type": "markdown",
   "metadata": {},
   "source": [
    "### Random Forest Classifier"
   ]
  },
  {
   "cell_type": "code",
   "execution_count": 7,
   "metadata": {
    "collapsed": false,
    "scrolled": true
   },
   "outputs": [],
   "source": [
    "rfc = RandomForestClassifier(n_estimators=50, min_samples_leaf=8, min_samples_split=3, \\\n",
    "                                 class_weight={0:1, 1:8}, \\\n",
    "                                 max_features=20, random_state=0, max_depth=40)\n",
    "rfc = rfc.fit(X_train, y_train)\n",
    "sound()"
   ]
  },
  {
   "cell_type": "code",
   "execution_count": 8,
   "metadata": {
    "collapsed": false
   },
   "outputs": [
    {
     "data": {
      "text/html": [
       "<div>\n",
       "<table border=\"1\" class=\"dataframe\">\n",
       "  <thead>\n",
       "    <tr style=\"text-align: right;\">\n",
       "      <th>From model</th>\n",
       "      <th>0</th>\n",
       "      <th>1</th>\n",
       "      <th>All</th>\n",
       "    </tr>\n",
       "    <tr>\n",
       "      <th>From survey</th>\n",
       "      <th></th>\n",
       "      <th></th>\n",
       "      <th></th>\n",
       "    </tr>\n",
       "  </thead>\n",
       "  <tbody>\n",
       "    <tr>\n",
       "      <th>0</th>\n",
       "      <td>19813</td>\n",
       "      <td>781</td>\n",
       "      <td>20594</td>\n",
       "    </tr>\n",
       "    <tr>\n",
       "      <th>1</th>\n",
       "      <td>767</td>\n",
       "      <td>1266</td>\n",
       "      <td>2033</td>\n",
       "    </tr>\n",
       "    <tr>\n",
       "      <th>All</th>\n",
       "      <td>20580</td>\n",
       "      <td>2047</td>\n",
       "      <td>22627</td>\n",
       "    </tr>\n",
       "  </tbody>\n",
       "</table>\n",
       "</div>"
      ],
      "text/plain": [
       "From model       0     1    All\n",
       "From survey                    \n",
       "0            19813   781  20594\n",
       "1              767  1266   2033\n",
       "All          20580  2047  22627"
      ]
     },
     "execution_count": 8,
     "metadata": {},
     "output_type": "execute_result"
    }
   ],
   "source": [
    "pd.crosstab(y_test, rfc.predict(X_test),rownames=['From survey'],colnames=['From model'],margins=True)"
   ]
  },
  {
   "cell_type": "code",
   "execution_count": 71,
   "metadata": {
    "collapsed": false
   },
   "outputs": [
    {
     "ename": "NameError",
     "evalue": "name 'G' is not defined",
     "output_type": "error",
     "traceback": [
      "\u001b[0;31m---------------------------------------------------------------------------\u001b[0m",
      "\u001b[0;31mNameError\u001b[0m                                 Traceback (most recent call last)",
      "\u001b[0;32m<ipython-input-71-4a9c489910d2>\u001b[0m in \u001b[0;36m<module>\u001b[0;34m()\u001b[0m\n\u001b[1;32m     10\u001b[0m \u001b[0macc_neg\u001b[0m \u001b[0;34m=\u001b[0m \u001b[0mlen\u001b[0m\u001b[0;34m(\u001b[0m\u001b[0mdat\u001b[0m\u001b[0;34m[\u001b[0m\u001b[0;34m(\u001b[0m\u001b[0mdat\u001b[0m\u001b[0;34m.\u001b[0m\u001b[0mact\u001b[0m\u001b[0;34m==\u001b[0m\u001b[0;36m0\u001b[0m\u001b[0;34m)\u001b[0m \u001b[0;34m&\u001b[0m \u001b[0;34m(\u001b[0m\u001b[0mdat\u001b[0m\u001b[0;34m.\u001b[0m\u001b[0mpred\u001b[0m\u001b[0;34m==\u001b[0m\u001b[0;36m0\u001b[0m\u001b[0;34m)\u001b[0m\u001b[0;34m]\u001b[0m\u001b[0;34m)\u001b[0m\u001b[0;34m/\u001b[0m\u001b[0mlen\u001b[0m\u001b[0;34m(\u001b[0m\u001b[0mdat\u001b[0m\u001b[0;34m[\u001b[0m\u001b[0mdat\u001b[0m\u001b[0;34m.\u001b[0m\u001b[0mact\u001b[0m\u001b[0;34m==\u001b[0m\u001b[0;36m0\u001b[0m\u001b[0;34m]\u001b[0m\u001b[0;34m)\u001b[0m\u001b[0;34m\u001b[0m\u001b[0m\n\u001b[1;32m     11\u001b[0m \u001b[0macc_pos\u001b[0m \u001b[0;34m=\u001b[0m \u001b[0mlen\u001b[0m\u001b[0;34m(\u001b[0m\u001b[0mdat\u001b[0m\u001b[0;34m[\u001b[0m\u001b[0;34m(\u001b[0m\u001b[0mdat\u001b[0m\u001b[0;34m.\u001b[0m\u001b[0mact\u001b[0m\u001b[0;34m==\u001b[0m\u001b[0;36m1\u001b[0m\u001b[0;34m)\u001b[0m \u001b[0;34m&\u001b[0m \u001b[0;34m(\u001b[0m\u001b[0mdat\u001b[0m\u001b[0;34m.\u001b[0m\u001b[0mpred\u001b[0m\u001b[0;34m==\u001b[0m\u001b[0;36m1\u001b[0m\u001b[0;34m)\u001b[0m\u001b[0;34m]\u001b[0m\u001b[0;34m)\u001b[0m\u001b[0;34m/\u001b[0m\u001b[0mlen\u001b[0m\u001b[0;34m(\u001b[0m\u001b[0mdat\u001b[0m\u001b[0;34m[\u001b[0m\u001b[0mdat\u001b[0m\u001b[0;34m.\u001b[0m\u001b[0mact\u001b[0m\u001b[0;34m==\u001b[0m\u001b[0;36m1\u001b[0m\u001b[0;34m]\u001b[0m\u001b[0;34m)\u001b[0m\u001b[0;34m\u001b[0m\u001b[0m\n\u001b[0;32m---> 12\u001b[0;31m \u001b[0mG\u001b[0m\u001b[0;34m[\u001b[0m\u001b[0;34m'res'\u001b[0m\u001b[0;34m]\u001b[0m \u001b[0;34m=\u001b[0m \u001b[0;34m(\u001b[0m\u001b[0macc_neg\u001b[0m\u001b[0;34m*\u001b[0m\u001b[0macc_pos\u001b[0m\u001b[0;34m)\u001b[0m\u001b[0;34m**\u001b[0m\u001b[0;36m0.5\u001b[0m\u001b[0;34m\u001b[0m\u001b[0m\n\u001b[0m\u001b[1;32m     13\u001b[0m \u001b[0mprec\u001b[0m \u001b[0;34m=\u001b[0m \u001b[0mlen\u001b[0m\u001b[0;34m(\u001b[0m\u001b[0mdat\u001b[0m\u001b[0;34m[\u001b[0m\u001b[0;34m(\u001b[0m\u001b[0mdat\u001b[0m\u001b[0;34m.\u001b[0m\u001b[0mact\u001b[0m\u001b[0;34m==\u001b[0m\u001b[0;36m1\u001b[0m\u001b[0;34m)\u001b[0m \u001b[0;34m&\u001b[0m \u001b[0;34m(\u001b[0m\u001b[0mdat\u001b[0m\u001b[0;34m.\u001b[0m\u001b[0mpred\u001b[0m\u001b[0;34m==\u001b[0m\u001b[0;36m1\u001b[0m\u001b[0;34m)\u001b[0m\u001b[0;34m]\u001b[0m\u001b[0;34m)\u001b[0m\u001b[0;34m/\u001b[0m\u001b[0mlen\u001b[0m\u001b[0;34m(\u001b[0m\u001b[0mdat\u001b[0m\u001b[0;34m[\u001b[0m\u001b[0mdat\u001b[0m\u001b[0;34m.\u001b[0m\u001b[0mpred\u001b[0m\u001b[0;34m==\u001b[0m\u001b[0;36m1\u001b[0m\u001b[0;34m]\u001b[0m\u001b[0;34m)\u001b[0m\u001b[0;34m\u001b[0m\u001b[0m\n\u001b[1;32m     14\u001b[0m \u001b[0mF\u001b[0m\u001b[0;34m[\u001b[0m\u001b[0;34m'res'\u001b[0m\u001b[0;34m]\u001b[0m \u001b[0;34m=\u001b[0m \u001b[0;36m2\u001b[0m\u001b[0;34m*\u001b[0m\u001b[0mprec\u001b[0m\u001b[0;34m*\u001b[0m\u001b[0macc_pos\u001b[0m\u001b[0;34m/\u001b[0m\u001b[0;34m(\u001b[0m\u001b[0mprec\u001b[0m\u001b[0;34m+\u001b[0m\u001b[0macc_pos\u001b[0m\u001b[0;34m)\u001b[0m\u001b[0;34m\u001b[0m\u001b[0m\n",
      "\u001b[0;31mNameError\u001b[0m: name 'G' is not defined"
     ]
    },
    {
     "data": {
      "image/png": "[encoded data removed]",
      "text/plain": [
       "<matplotlib.figure.Figure at 0x10f84b0b8>"
      ]
     },
     "metadata": {},
     "output_type": "display_data"
    }
   ],
   "source": [
    "dat = pd.DataFrame([rfc.predict_proba(X_test)[:,1], y_test, rfc.predict(X_test)]).T\n",
    "dat = dat.rename(columns={0:'prob',1:'act',2:'pred'})\n",
    "\n",
    "sns.distplot(dat[(dat.act==1)&(dat.pred==1)].prob);\n",
    "sns.distplot(dat[(dat.act==0)&(dat.pred==1)].prob);\n",
    "sns.distplot(dat[(dat.act==1)&(dat.pred==0)].prob);\n",
    "sns.distplot(dat[(dat.act==0)&(dat.pred==0)].prob);\n",
    "plt.legend(['True vacant','False vacant','False Occupied','True Occupied'])\n",
    "\n",
    "acc_neg = len(dat[(dat.act==0) & (dat.pred==0)])/len(dat[dat.act==0])\n",
    "acc_pos = len(dat[(dat.act==1) & (dat.pred==1)])/len(dat[dat.act==1])\n",
    "G['res'] = (acc_neg*acc_pos)**0.5\n",
    "prec = len(dat[(dat.act==1) & (dat.pred==1)])/len(dat[dat.pred==1])\n",
    "F['res'] = 2*prec*acc_pos/(prec+acc_pos)\n",
    "print(G, F, prec, acc_pos)"
   ]
  },
  {
   "cell_type": "code",
   "execution_count": 32,
   "metadata": {
    "collapsed": false
   },
   "outputs": [],
   "source": [
    "# results = pd.DataFrame()\n",
    "# for j in range(2,6):\n",
    "#     rfc = RandomForestClassifier(n_estimators=50, min_samples_leaf=2*i, min_samples_split=3, \\\n",
    "#                                      class_weight={0:1, 1:8}, \\\n",
    "#                                      max_features=20, random_state=0, max_depth=40)\n",
    "#     rfc = rfc.fit(X_train, y_train)\n",
    "#     res = {}\n",
    "#     for i in range(0,21):\n",
    "#         # copy = y_test.copy()\n",
    "#         p = i/20\n",
    "#         copy = pd.Series(rfc.predict_proba(X_test)[:,1],index=y_test.index)\n",
    "#         res[p] = {('correct_'+str(2*j)): sum(y_test[copy.sort_values(ascending=False)[:int(len(X_test)*p)].index]), \\\n",
    "#                   ('searched_'+str(2*j)): len(y_test[copy.sort_values(ascending=False)[:int(len(X_test)*p)].index]), \\\n",
    "#                   ('percent_'+str(2*j)): sum(y_test[copy.sort_values(ascending=False)[:int(len(X_test)*p)].index])/sum(y_test) }\n",
    "#     #     sum(y_test[copy.sort_values(ascending=False)[:int(len(X_test)*p)].index]), len(y_test[copy.sort_values(ascending=False)[:int(len(X_test)*p)].index]), sum(y_test)\n",
    "#     res = pd.DataFrame(res).T\n",
    "#     results = pd.concat([results,res], axis=1)#, axis=1,keys=['a','b'])\n",
    "# #     plt.plot(res.index, res.percent)\n",
    "# sound()"
   ]
  },
  {
   "cell_type": "code",
   "execution_count": 25,
   "metadata": {
    "collapsed": false
   },
   "outputs": [],
   "source": [
    "res = {}\n",
    "for i in range(0,21):\n",
    "    # copy = y_test.copy()\n",
    "    p = i/20\n",
    "    copy = pd.Series(rfc.predict_proba(X_test)[:,1],index=y_test.index)\n",
    "    res[p] = {'correct': sum(y_test[copy.sort_values(ascending=False)[:int(len(X_test)*p)].index]), \\\n",
    "              'searched': len(y_test[copy.sort_values(ascending=False)[:int(len(X_test)*p)].index]), \\\n",
    "              'percent': sum(y_test[copy.sort_values(ascending=False)[:int(len(X_test)*p)].index])/sum(y_test) }\n",
    "#     sum(y_test[copy.sort_values(ascending=False)[:int(len(X_test)*p)].index]), len(y_test[copy.sort_values(ascending=False)[:int(len(X_test)*p)].index]), sum(y_test)\n",
    "res = pd.DataFrame(res).T\n",
    "\n",
    "# plt.plot(res.index, res.percent)"
   ]
  },
  {
   "cell_type": "code",
   "execution_count": 34,
   "metadata": {
    "collapsed": false
   },
   "outputs": [],
   "source": [
    "# from sklearn.grid_search import GridSearchCV,RandomizedSearchCV\n",
    "# from time import time\n",
    "# from operator import itemgetter\n",
    "# from scipy.stats import randint as sp_randint\n",
    "\n",
    "# param_dist = {\"max_depth\": sp_randint(10, 50),\n",
    "#               \"max_features\": sp_randint(5, 15),\n",
    "#               \"min_samples_split\": sp_randint(1, 11),\n",
    "#               \"min_samples_leaf\": sp_randint(1, 11),\n",
    "#               \"bootstrap\": [True, False],\n",
    "#               \"criterion\": [\"gini\", \"entropy\"]}\n",
    "\n",
    "# n_iter_search = 20\n",
    "# random_search = RandomizedSearchCV(rfc, param_distributions=param_dist,\n",
    "#                                    n_iter=n_iter_search)\n",
    "\n",
    "# start = time()\n",
    "# random_search.fit(train[features], y)\n",
    "# print(\"RandomizedSearchCV took %.2f seconds for %d candidates\"\n",
    "#       \" parameter settings.\" % ((time() - start), n_iter_search))\n"
   ]
  },
  {
   "cell_type": "code",
   "execution_count": 35,
   "metadata": {
    "collapsed": false
   },
   "outputs": [],
   "source": [
    "# # Utility function to report best scores\n",
    "# def report(grid_scores, n_top=3):\n",
    "#     top_scores = sorted(grid_scores, key=itemgetter(1), reverse=True)[:n_top]\n",
    "#     for i, score in enumerate(top_scores):\n",
    "#         print(\"Model with rank: {0}\".format(i + 1))\n",
    "#         print(\"Mean validation score: {0:.3f} (std: {1:.3f})\".format(\n",
    "#               score.mean_validation_score,\n",
    "#               np.std(score.cv_validation_scores)))\n",
    "#         print(\"Parameters: {0}\".format(score.parameters))\n",
    "#         print(\"\")\n",
    "# report(random_search.grid_scores_)"
   ]
  },
  {
   "cell_type": "code",
   "execution_count": 95,
   "metadata": {
    "collapsed": false
   },
   "outputs": [],
   "source": [
    "# tem = pd.DataFrame(rfc.predict_proba(test[features]))\n",
    "# tem['vacant'] = test['vacant'].values\n",
    "# tem = tem.sort_values(1, ascending=False)\n",
    "# test.loc[:,'pred'] = rfc.predict(test[features])"
   ]
  },
  {
   "cell_type": "code",
   "execution_count": 7,
   "metadata": {
    "collapsed": false
   },
   "outputs": [],
   "source": [
    "# def fun(x):\n",
    "#     if (x.pred == 1) & (x.vacant == 1):\n",
    "#         return 'TP'\n",
    "#     elif (x.pred == 1):\n",
    "#         return 'FP'\n",
    "#     elif (x.vacant == 1):\n",
    "#         return 'FN'\n",
    "#     else:\n",
    "#         return 'TN'\n",
    "# test.loc[:,'cat'] = test.apply(fun, axis=1)"
   ]
  },
  {
   "cell_type": "code",
   "execution_count": 36,
   "metadata": {
    "collapsed": false
   },
   "outputs": [],
   "source": [
    "# y2,_= pd.factorize(train.loc[train.index.isin(df[df.SPA_NAME.isin(west)].index)].vacant)\n",
    "\n",
    "# rfc = RandomForestClassifier(n_estimators=50, min_samples_leaf=10, min_samples_split=2, \\\n",
    "#                                  class_weight={0:1, 1:1}, \\\n",
    "#                                  max_features=10, random_state=0, max_depth=20)\n",
    "# rfc = rfc.fit(train.loc[train.index.isin(df[df.SPA_NAME.isin(west)].index),features], y2)\n",
    "# sound()\n",
    "# print(pd.crosstab(test[test.index.isin(df[df.SPA_NAME.isin(west)].index)].vacant, \\\n",
    "#                   rfc.predict(test.loc[test.index.isin(df[df.SPA_NAME.isin(west)].index),features])))"
   ]
  },
  {
   "cell_type": "code",
   "execution_count": 37,
   "metadata": {
    "collapsed": true
   },
   "outputs": [],
   "source": [
    "# west = ['Bellaire-Puritas','Brooklyn Centre','Clark-Fulton','Cudell','Detroit Shoreway','Edgewater'\\\n",
    "#        ,'Jefferson',\"Kamm's\",'Ohio City','Old Brooklyn','Stockyards','Tremont','West Boulevard']\n",
    "# cols = ['GRAND_TOTAL_BALANCE','TAX_MARKET_LAND','sa_days','fc_days','c_ovv_2yr','pv_total',\\\n",
    "#         'tmktval','propsize','condition_value14','median_rent']"
   ]
  },
  {
   "cell_type": "markdown",
   "metadata": {},
   "source": [
    "## Importances"
   ]
  },
  {
   "cell_type": "code",
   "execution_count": 38,
   "metadata": {
    "collapsed": false
   },
   "outputs": [
    {
     "name": "stdout",
     "output_type": "stream",
     "text": [
      "Feature ranking:\n",
      "1. feature 43, days_since_ovv (0.210636)\n",
      "2. feature 44, c_ovv_num (0.130129)\n",
      "3. feature 40, pv_count (0.101723)\n",
      "4. feature 36, GRAND_TOTAL_PAID (0.092997)\n",
      "5. feature 38, paid_percent (0.075295)\n",
      "6. feature 50, fc_days (0.047463)\n",
      "7. feature 51, sa_days (0.040583)\n",
      "8. feature 37, delq_total_ratio (0.029486)\n",
      "9. feature 32, TOTAL_NET_DELQ_BALANCE (0.026975)\n",
      "10. feature 7, condition_value14 (0.014977)\n"
     ]
    },
    {
     "data": {
      "image/png": "[encoded data removed]",
      "text/plain": [
       "<matplotlib.figure.Figure at 0x11020f898>"
      ]
     },
     "metadata": {},
     "output_type": "display_data"
    }
   ],
   "source": [
    "# plot the top ten features\n",
    "\n",
    "importances = rfc.feature_importances_\n",
    "std = np.std([tree.feature_importances_ for tree in rfc.estimators_],\n",
    "             axis=0)\n",
    "indices = np.argsort(importances)[::-1]\n",
    "\n",
    "# Print the feature ranking\n",
    "print(\"Feature ranking:\")\n",
    "\n",
    "for f in range(10):\n",
    "    print(\"%d. feature %d, %s (%f)\" % (f + 1, indices[f], features[indices[f]], importances[indices[f]]))\n",
    "    \n",
    "# Plot the feature importances of the forest\n",
    "plt.figure()\n",
    "plt.title(\"Feature importances\")\n",
    "plt.bar(range(10), importances[indices[0:10]], yerr=std[indices[0:10]], align=\"center\")\n",
    "plt.xticks(range(10), indices[0:10])\n",
    "plt.xlim([-1, 10])\n",
    "plt.show()"
   ]
  },
  {
   "cell_type": "code",
   "execution_count": 39,
   "metadata": {
    "collapsed": false
   },
   "outputs": [
    {
     "name": "stdout",
     "output_type": "stream",
     "text": [
      "Feature ranking (least important):\n",
      "1. feature 46, c_ovv_board_num (0.000000)\n",
      "2. feature 31, lb_tax_fc (0.000000)\n",
      "3. feature 30, lb_acquired (0.000000)\n",
      "4. feature 47, active_fc (0.000132)\n",
      "5. feature 11, totbldgs (0.000463)\n",
      "6. feature 1, occup (0.001083)\n",
      "7. feature 48, fc_1yr (0.001100)\n",
      "8. feature 2, rnumstor (0.001406)\n",
      "9. feature 0, cqual_num (0.001880)\n",
      "10. feature 24, asian (0.001981)\n"
     ]
    },
    {
     "data": {
      "image/png": "[encoded data removed]",
      "text/plain": [
       "<matplotlib.figure.Figure at 0x11020fb00>"
      ]
     },
     "metadata": {},
     "output_type": "display_data"
    }
   ],
   "source": [
    "# Print the feature ranking\n",
    "features2 = pd.DataFrame(features).iloc[indices[0:10]][0].values\n",
    "\n",
    "print(\"Feature ranking (least important):\")\n",
    "\n",
    "for f in range(10):\n",
    "    print(\"%d. feature %d, %s (%f)\" % (f + 1, indices[-f-1], features[indices[-f-1]], importances[indices[-f-1]]))\n",
    "# Plot the feature importances of the forest\n",
    "plt.figure()\n",
    "plt.title(\"Feature importances\")\n",
    "plt.bar(range(10), importances[indices[-10:]], yerr=std[indices[-10:]], align=\"center\")\n",
    "plt.xticks(range(10), indices[-10:])\n",
    "plt.xlim([-1, 10])\n",
    "plt.show()"
   ]
  },
  {
   "cell_type": "markdown",
   "metadata": {},
   "source": [
    "### Logistic Regressor"
   ]
  },
  {
   "cell_type": "code",
   "execution_count": 32,
   "metadata": {
    "collapsed": true
   },
   "outputs": [],
   "source": [
    "# features2 = ['c_O.V.V._2yr', 'pv_total','GRAND_TOTAL_BALANCE','condition_value','vacant',\\\n",
    "#              'totusabl', 'tmktval', 'fc_days', 'days_since_transfer', 'propsize', 'yrbuilt_filtered', 'al_days']\n",
    "\n",
    "# # features2 = ['c_O.V.V._2yr', 'pv_total','GRAND_TOTAL_BALANCE','condition_value','vacant']"
   ]
  },
  {
   "cell_type": "code",
   "execution_count": 3,
   "metadata": {
    "collapsed": false
   },
   "outputs": [
    {
     "ename": "NameError",
     "evalue": "name 'preprocessing' is not defined",
     "output_type": "error",
     "traceback": [
      "\u001b[0;31m---------------------------------------------------------------------------\u001b[0m",
      "\u001b[0;31mNameError\u001b[0m                                 Traceback (most recent call last)",
      "\u001b[0;32m<ipython-input-3-b834d7645f46>\u001b[0m in \u001b[0;36m<module>\u001b[0;34m()\u001b[0m\n\u001b[0;32m----> 1\u001b[0;31m \u001b[0mtrain_lr\u001b[0m \u001b[0;34m=\u001b[0m \u001b[0mpreprocessing\u001b[0m\u001b[0;34m.\u001b[0m\u001b[0mscale\u001b[0m\u001b[0;34m(\u001b[0m\u001b[0mX_train\u001b[0m\u001b[0;34m)\u001b[0m\u001b[0;34m\u001b[0m\u001b[0m\n\u001b[0m\u001b[1;32m      2\u001b[0m \u001b[0mtest_lr\u001b[0m \u001b[0;34m=\u001b[0m \u001b[0mpreprocessing\u001b[0m\u001b[0;34m.\u001b[0m\u001b[0mscale\u001b[0m\u001b[0;34m(\u001b[0m\u001b[0mX_test\u001b[0m\u001b[0;34m)\u001b[0m\u001b[0;34m\u001b[0m\u001b[0m\n\u001b[1;32m      3\u001b[0m \u001b[0;34m\u001b[0m\u001b[0m\n\u001b[1;32m      4\u001b[0m \u001b[0mlr\u001b[0m \u001b[0;34m=\u001b[0m \u001b[0mLogisticRegression\u001b[0m\u001b[0;34m(\u001b[0m\u001b[0mclass_weight\u001b[0m\u001b[0;34m=\u001b[0m\u001b[0;34m{\u001b[0m\u001b[0;36m0\u001b[0m\u001b[0;34m:\u001b[0m\u001b[0;36m1\u001b[0m\u001b[0;34m,\u001b[0m \u001b[0;36m1\u001b[0m\u001b[0;34m:\u001b[0m\u001b[0;36m2\u001b[0m\u001b[0;34m}\u001b[0m\u001b[0;34m,\u001b[0m \u001b[0mrandom_state\u001b[0m\u001b[0;34m=\u001b[0m\u001b[0;36m1001\u001b[0m\u001b[0;34m)\u001b[0m\u001b[0;34m\u001b[0m\u001b[0m\n\u001b[1;32m      5\u001b[0m \u001b[0mlr\u001b[0m\u001b[0;34m.\u001b[0m\u001b[0mfit\u001b[0m\u001b[0;34m(\u001b[0m\u001b[0mpd\u001b[0m\u001b[0;34m.\u001b[0m\u001b[0mDataFrame\u001b[0m\u001b[0;34m(\u001b[0m\u001b[0mtrain_lr\u001b[0m\u001b[0;34m,\u001b[0m \u001b[0mcolumns\u001b[0m \u001b[0;34m=\u001b[0m \u001b[0mfeatures\u001b[0m\u001b[0;34m)\u001b[0m\u001b[0;34m,\u001b[0m \u001b[0my_train\u001b[0m\u001b[0;34m)\u001b[0m\u001b[0;34m\u001b[0m\u001b[0m\n",
      "\u001b[0;31mNameError\u001b[0m: name 'preprocessing' is not defined"
     ]
    }
   ],
   "source": [
    "train_lr = preprocessing.scale(X_train)\n",
    "test_lr = preprocessing.scale(X_test)\n",
    "\n",
    "lr = LogisticRegression(class_weight={0:1, 1:2}, random_state=1001)\n",
    "lr.fit(pd.DataFrame(train_lr, columns = features), y_train)\n",
    "pd.crosstab(y_test,lr.predict(test_lr))"
   ]
  },
  {
   "cell_type": "code",
   "execution_count": 27,
   "metadata": {
    "collapsed": false
   },
   "outputs": [
    {
     "data": {
      "text/html": [
       "<div>\n",
       "<table border=\"1\" class=\"dataframe\">\n",
       "  <thead>\n",
       "    <tr style=\"text-align: right;\">\n",
       "      <th>col_0</th>\n",
       "      <th>0</th>\n",
       "      <th>1</th>\n",
       "    </tr>\n",
       "    <tr>\n",
       "      <th>vacant</th>\n",
       "      <th></th>\n",
       "      <th></th>\n",
       "    </tr>\n",
       "  </thead>\n",
       "  <tbody>\n",
       "    <tr>\n",
       "      <th>0</th>\n",
       "      <td>19800</td>\n",
       "      <td>794</td>\n",
       "    </tr>\n",
       "    <tr>\n",
       "      <th>1</th>\n",
       "      <td>782</td>\n",
       "      <td>1251</td>\n",
       "    </tr>\n",
       "  </tbody>\n",
       "</table>\n",
       "</div>"
      ],
      "text/plain": [
       "col_0       0     1\n",
       "vacant             \n",
       "0       19800   794\n",
       "1         782  1251"
      ]
     },
     "execution_count": 27,
     "metadata": {},
     "output_type": "execute_result"
    }
   ],
   "source": [
    "lr = LogisticRegression(class_weight={0:1, 1:3}, random_state=1001)\n",
    "lr.fit(pd.DataFrame(X_train, columns = features), y_train)\n",
    "pd.crosstab(y_test,lr.predict(X_test))"
   ]
  },
  {
   "cell_type": "code",
   "execution_count": 72,
   "metadata": {
    "collapsed": false
   },
   "outputs": [
    {
     "ename": "NameError",
     "evalue": "name 'G' is not defined",
     "output_type": "error",
     "traceback": [
      "\u001b[0;31m---------------------------------------------------------------------------\u001b[0m",
      "\u001b[0;31mNameError\u001b[0m                                 Traceback (most recent call last)",
      "\u001b[0;32m<ipython-input-72-70657c6d3eaf>\u001b[0m in \u001b[0;36m<module>\u001b[0;34m()\u001b[0m\n\u001b[1;32m     10\u001b[0m \u001b[0macc_neg\u001b[0m \u001b[0;34m=\u001b[0m \u001b[0mlen\u001b[0m\u001b[0;34m(\u001b[0m\u001b[0mdat\u001b[0m\u001b[0;34m[\u001b[0m\u001b[0;34m(\u001b[0m\u001b[0mdat\u001b[0m\u001b[0;34m.\u001b[0m\u001b[0mact\u001b[0m\u001b[0;34m==\u001b[0m\u001b[0;36m0\u001b[0m\u001b[0;34m)\u001b[0m \u001b[0;34m&\u001b[0m \u001b[0;34m(\u001b[0m\u001b[0mdat\u001b[0m\u001b[0;34m.\u001b[0m\u001b[0mpred\u001b[0m\u001b[0;34m==\u001b[0m\u001b[0;36m0\u001b[0m\u001b[0;34m)\u001b[0m\u001b[0;34m]\u001b[0m\u001b[0;34m)\u001b[0m\u001b[0;34m/\u001b[0m\u001b[0mlen\u001b[0m\u001b[0;34m(\u001b[0m\u001b[0mdat\u001b[0m\u001b[0;34m[\u001b[0m\u001b[0mdat\u001b[0m\u001b[0;34m.\u001b[0m\u001b[0mact\u001b[0m\u001b[0;34m==\u001b[0m\u001b[0;36m0\u001b[0m\u001b[0;34m]\u001b[0m\u001b[0;34m)\u001b[0m\u001b[0;34m\u001b[0m\u001b[0m\n\u001b[1;32m     11\u001b[0m \u001b[0macc_pos\u001b[0m \u001b[0;34m=\u001b[0m \u001b[0mlen\u001b[0m\u001b[0;34m(\u001b[0m\u001b[0mdat\u001b[0m\u001b[0;34m[\u001b[0m\u001b[0;34m(\u001b[0m\u001b[0mdat\u001b[0m\u001b[0;34m.\u001b[0m\u001b[0mact\u001b[0m\u001b[0;34m==\u001b[0m\u001b[0;36m1\u001b[0m\u001b[0;34m)\u001b[0m \u001b[0;34m&\u001b[0m \u001b[0;34m(\u001b[0m\u001b[0mdat\u001b[0m\u001b[0;34m.\u001b[0m\u001b[0mpred\u001b[0m\u001b[0;34m==\u001b[0m\u001b[0;36m1\u001b[0m\u001b[0;34m)\u001b[0m\u001b[0;34m]\u001b[0m\u001b[0;34m)\u001b[0m\u001b[0;34m/\u001b[0m\u001b[0mlen\u001b[0m\u001b[0;34m(\u001b[0m\u001b[0mdat\u001b[0m\u001b[0;34m[\u001b[0m\u001b[0mdat\u001b[0m\u001b[0;34m.\u001b[0m\u001b[0mact\u001b[0m\u001b[0;34m==\u001b[0m\u001b[0;36m1\u001b[0m\u001b[0;34m]\u001b[0m\u001b[0;34m)\u001b[0m\u001b[0;34m\u001b[0m\u001b[0m\n\u001b[0;32m---> 12\u001b[0;31m \u001b[0mG\u001b[0m\u001b[0;34m[\u001b[0m\u001b[0;34m'log_res'\u001b[0m\u001b[0;34m]\u001b[0m \u001b[0;34m=\u001b[0m \u001b[0;34m(\u001b[0m\u001b[0macc_neg\u001b[0m\u001b[0;34m*\u001b[0m\u001b[0macc_pos\u001b[0m\u001b[0;34m)\u001b[0m\u001b[0;34m**\u001b[0m\u001b[0;36m0.5\u001b[0m\u001b[0;34m\u001b[0m\u001b[0m\n\u001b[0m\u001b[1;32m     13\u001b[0m \u001b[0mprec\u001b[0m \u001b[0;34m=\u001b[0m \u001b[0mlen\u001b[0m\u001b[0;34m(\u001b[0m\u001b[0mdat\u001b[0m\u001b[0;34m[\u001b[0m\u001b[0;34m(\u001b[0m\u001b[0mdat\u001b[0m\u001b[0;34m.\u001b[0m\u001b[0mact\u001b[0m\u001b[0;34m==\u001b[0m\u001b[0;36m1\u001b[0m\u001b[0;34m)\u001b[0m \u001b[0;34m&\u001b[0m \u001b[0;34m(\u001b[0m\u001b[0mdat\u001b[0m\u001b[0;34m.\u001b[0m\u001b[0mpred\u001b[0m\u001b[0;34m==\u001b[0m\u001b[0;36m1\u001b[0m\u001b[0;34m)\u001b[0m\u001b[0;34m]\u001b[0m\u001b[0;34m)\u001b[0m\u001b[0;34m/\u001b[0m\u001b[0mlen\u001b[0m\u001b[0;34m(\u001b[0m\u001b[0mdat\u001b[0m\u001b[0;34m[\u001b[0m\u001b[0mdat\u001b[0m\u001b[0;34m.\u001b[0m\u001b[0mpred\u001b[0m\u001b[0;34m==\u001b[0m\u001b[0;36m1\u001b[0m\u001b[0;34m]\u001b[0m\u001b[0;34m)\u001b[0m\u001b[0;34m\u001b[0m\u001b[0m\n\u001b[1;32m     14\u001b[0m \u001b[0mF\u001b[0m\u001b[0;34m[\u001b[0m\u001b[0;34m'log_res'\u001b[0m\u001b[0;34m]\u001b[0m \u001b[0;34m=\u001b[0m \u001b[0;36m2\u001b[0m\u001b[0;34m*\u001b[0m\u001b[0mprec\u001b[0m\u001b[0;34m*\u001b[0m\u001b[0macc_pos\u001b[0m\u001b[0;34m/\u001b[0m\u001b[0;34m(\u001b[0m\u001b[0mprec\u001b[0m\u001b[0;34m+\u001b[0m\u001b[0macc_pos\u001b[0m\u001b[0;34m)\u001b[0m\u001b[0;34m\u001b[0m\u001b[0m\n",
      "\u001b[0;31mNameError\u001b[0m: name 'G' is not defined"
     ]
    }
   ],
   "source": [
    "dat = pd.DataFrame([lr.predict_proba(X_test)[:,1], y_test, lr.predict(X_test)]).T\n",
    "dat = dat.rename(columns={0:'prob',1:'act',2:'pred'})\n",
    "\n",
    "# sns.distplot(dat[(dat.act==1)&(dat.pred==1)].prob);\n",
    "# sns.distplot(dat[(dat.act==0)&(dat.pred==1)].prob);\n",
    "# sns.distplot(dat[(dat.act==1)&(dat.pred==0)].prob);\n",
    "# sns.distplot(dat[(dat.act==0)&(dat.pred==0)].prob);\n",
    "# plt.legend(['True vacant','False vacant','False Occupied','True Occupied'])\n",
    "\n",
    "acc_neg = len(dat[(dat.act==0) & (dat.pred==0)])/len(dat[dat.act==0])\n",
    "acc_pos = len(dat[(dat.act==1) & (dat.pred==1)])/len(dat[dat.act==1])\n",
    "G['log_res'] = (acc_neg*acc_pos)**0.5\n",
    "prec = len(dat[(dat.act==1) & (dat.pred==1)])/len(dat[dat.pred==1])\n",
    "F['log_res'] = 2*prec*acc_pos/(prec+acc_pos)\n",
    "print(G, F, prec, acc_pos)"
   ]
  },
  {
   "cell_type": "code",
   "execution_count": 28,
   "metadata": {
    "collapsed": false
   },
   "outputs": [
    {
     "data": {
      "text/plain": [
       "[<matplotlib.lines.Line2D at 0x10f78dac8>]"
      ]
     },
     "execution_count": 28,
     "metadata": {},
     "output_type": "execute_result"
    },
    {
     "data": {
      "image/png": "[encoded data removed]",
      "text/plain": [
       "<matplotlib.figure.Figure at 0x10d67b7f0>"
      ]
     },
     "metadata": {},
     "output_type": "display_data"
    }
   ],
   "source": [
    "log_res = {}\n",
    "for i in range(0,21):\n",
    "    # copy = y_test.copy()\n",
    "    p = i/20\n",
    "    copy = pd.Series(lr.predict_proba(X_test)[:,1],index=y_test.index)\n",
    "    log_res[p] = {'correct': sum(y_test[copy.sort_values(ascending=False)[:int(len(X_test)*p)].index]), \\\n",
    "              'searched': len(y_test[copy.sort_values(ascending=False)[:int(len(X_test)*p)].index]), \\\n",
    "              'percent': sum(y_test[copy.sort_values(ascending=False)[:int(len(X_test)*p)].index])/sum(y_test) }\n",
    "#     sum(y_test[copy.sort_values(ascending=False)[:int(len(X_test)*p)].index]), len(y_test[copy.sort_values(ascending=False)[:int(len(X_test)*p)].index]), sum(y_test)\n",
    "log_res = pd.DataFrame(log_res).T\n",
    "\n",
    "plt.plot(res.index, res.percent)\n",
    "plt.plot(log_res.index, log_res.percent)"
   ]
  },
  {
   "cell_type": "code",
   "execution_count": 15,
   "metadata": {
    "collapsed": false
   },
   "outputs": [
    {
     "name": "stdout",
     "output_type": "stream",
     "text": [
      "Feature ranking:\n",
      "1. feature 40, pv_count (0.215181)\n",
      "2. feature 7, condition_value14 (-0.072614)\n",
      "3. feature 42, v_total_2yr (0.067235)\n",
      "4. feature 6, condition_value13 (-0.062168)\n",
      "5. feature 41, v_total_1yr (0.061220)\n",
      "6. feature 0, cqual_num (-0.024912)\n",
      "7. feature 8, ownerocc_value (-0.019763)\n",
      "8. feature 37, delq_total_ratio (0.013770)\n",
      "9. feature 10, LONGITUDE (0.011414)\n",
      "10. feature 38, paid_percent (-0.010501)\n",
      "\n",
      "Feature ranking (least important):\n",
      "1. feature 46, c_ovv_board_num (0.000000)\n",
      "2. feature 53, t_shf_deed (-0.000000)\n",
      "3. feature 18, part_two_crimes (0.000003)\n",
      "4. feature 15, property_crimes (-0.000003)\n",
      "5. feature 21, median_hh_income (0.000007)\n",
      "6. feature 5, tmktval (-0.000013)\n",
      "7. feature 17, part_one_crimes (0.000017)\n",
      "8. feature 39, GRAND_TOTAL_BALANCE_14 (0.000020)\n",
      "9. feature 3, propsize (-0.000025)\n",
      "10. feature 36, GRAND_TOTAL_PAID (-0.000042)\n"
     ]
    }
   ],
   "source": [
    "importances = lr.coef_[0]\n",
    "# std = np.std([tree.feature_importances_ for tree in lr.estimators_],\n",
    "#              axis=0)\n",
    "indices = np.argsort(abs(importances))[::-1]\n",
    "\n",
    "# Print the feature ranking\n",
    "print(\"Feature ranking:\")\n",
    "\n",
    "for f in range(10):\n",
    "    print(\"%d. feature %d, %s (%f)\" % (f + 1, indices[f], features[indices[f]], importances[indices[f]]))\n",
    "print(\"\\nFeature ranking (least important):\")\n",
    "for f in range(10):\n",
    "    print(\"%d. feature %d, %s (%f)\" % (f + 1, indices[-f-1], features[indices[-f-1]], importances[indices[-f-1]]))"
   ]
  },
  {
   "cell_type": "markdown",
   "metadata": {},
   "source": [
    "### Gradient boosted classifier"
   ]
  },
  {
   "cell_type": "code",
   "execution_count": 53,
   "metadata": {
    "collapsed": false
   },
   "outputs": [],
   "source": [
    "from sklearn.ensemble import AdaBoostClassifier\n",
    "from sklearn.ensemble import GradientBoostingClassifier\n",
    "\n",
    "est = GradientBoostingClassifier(n_estimators=300, learning_rate=0.7,\n",
    "    max_depth=1, random_state=0).fit(X_train, y_train)\n",
    "# clf.score(train[features], y)                 "
   ]
  },
  {
   "cell_type": "code",
   "execution_count": 54,
   "metadata": {
    "collapsed": false
   },
   "outputs": [
    {
     "data": {
      "text/html": [
       "<div>\n",
       "<table border=\"1\" class=\"dataframe\">\n",
       "  <thead>\n",
       "    <tr style=\"text-align: right;\">\n",
       "      <th>col_0</th>\n",
       "      <th>0</th>\n",
       "      <th>1</th>\n",
       "    </tr>\n",
       "    <tr>\n",
       "      <th>vacant</th>\n",
       "      <th></th>\n",
       "      <th></th>\n",
       "    </tr>\n",
       "  </thead>\n",
       "  <tbody>\n",
       "    <tr>\n",
       "      <th>0</th>\n",
       "      <td>20296</td>\n",
       "      <td>298</td>\n",
       "    </tr>\n",
       "    <tr>\n",
       "      <th>1</th>\n",
       "      <td>1019</td>\n",
       "      <td>1014</td>\n",
       "    </tr>\n",
       "  </tbody>\n",
       "</table>\n",
       "</div>"
      ],
      "text/plain": [
       "col_0       0     1\n",
       "vacant             \n",
       "0       20296   298\n",
       "1        1019  1014"
      ]
     },
     "execution_count": 54,
     "metadata": {},
     "output_type": "execute_result"
    }
   ],
   "source": [
    "pd.crosstab(y_test, est.predict(X_test))"
   ]
  },
  {
   "cell_type": "code",
   "execution_count": 51,
   "metadata": {
    "collapsed": false
   },
   "outputs": [
    {
     "data": {
      "text/html": [
       "<div>\n",
       "<table border=\"1\" class=\"dataframe\">\n",
       "  <thead>\n",
       "    <tr style=\"text-align: right;\">\n",
       "      <th>col_0</th>\n",
       "      <th>0</th>\n",
       "      <th>1</th>\n",
       "    </tr>\n",
       "    <tr>\n",
       "      <th>vacant</th>\n",
       "      <th></th>\n",
       "      <th></th>\n",
       "    </tr>\n",
       "  </thead>\n",
       "  <tbody>\n",
       "    <tr>\n",
       "      <th>0</th>\n",
       "      <td>20299</td>\n",
       "      <td>295</td>\n",
       "    </tr>\n",
       "    <tr>\n",
       "      <th>1</th>\n",
       "      <td>1031</td>\n",
       "      <td>1002</td>\n",
       "    </tr>\n",
       "  </tbody>\n",
       "</table>\n",
       "</div>"
      ],
      "text/plain": [
       "col_0       0     1\n",
       "vacant             \n",
       "0       20299   295\n",
       "1        1031  1002"
      ]
     },
     "execution_count": 51,
     "metadata": {},
     "output_type": "execute_result"
    }
   ],
   "source": [
    "from sklearn.ensemble import GradientBoostingClassifier\n",
    "\n",
    "est = GradientBoostingClassifier(n_estimators=500, learning_rate=0.7,\n",
    "    max_depth=1, random_state=0).fit(X_train, y_train)\n",
    "# clf.score(train[features], y)                 \n",
    "pd.crosstab(y_test, est.predict(X_test))"
   ]
  },
  {
   "cell_type": "code",
   "execution_count": 149,
   "metadata": {
    "collapsed": false
   },
   "outputs": [],
   "source": [
    "# dat = pd.DataFrame([est.predict_proba(X_test)[:,1], y_test, est.predict(X_test)]).T\n",
    "# dat = dat.rename(columns={0:'prob',1:'act',2:'pred'})\n",
    "\n",
    "# sns.distplot(dat[(dat.act==1)&(dat.pred==1)].prob);\n",
    "# sns.distplot(dat[(dat.act==0)&(dat.pred==1)].prob);\n",
    "# sns.distplot(dat[(dat.act==1)&(dat.pred==0)].prob);\n",
    "# sns.distplot(dat[(dat.act==0)&(dat.pred==0)].prob);\n",
    "# plt.legend(['True vacant','False vacant','False Occupied','True Occupied'])"
   ]
  },
  {
   "cell_type": "code",
   "execution_count": 33,
   "metadata": {
    "collapsed": false
   },
   "outputs": [
    {
     "data": {
      "text/plain": [
       "0.7968519429414658"
      ]
     },
     "execution_count": 33,
     "metadata": {},
     "output_type": "execute_result"
    }
   ],
   "source": [
    "16/2033"
   ]
  },
  {
   "cell_type": "code",
   "execution_count": 31,
   "metadata": {
    "collapsed": false
   },
   "outputs": [
    {
     "data": {
      "text/html": [
       "<div>\n",
       "<table border=\"1\" class=\"dataframe\">\n",
       "  <thead>\n",
       "    <tr style=\"text-align: right;\">\n",
       "      <th></th>\n",
       "      <th>correct</th>\n",
       "      <th>correct</th>\n",
       "      <th>correct</th>\n",
       "    </tr>\n",
       "  </thead>\n",
       "  <tbody>\n",
       "    <tr>\n",
       "      <th>0.0</th>\n",
       "      <td>0</td>\n",
       "      <td>0</td>\n",
       "      <td>0</td>\n",
       "    </tr>\n",
       "    <tr>\n",
       "      <th>0.1</th>\n",
       "      <td>1323</td>\n",
       "      <td>1297</td>\n",
       "      <td>1349</td>\n",
       "    </tr>\n",
       "    <tr>\n",
       "      <th>0.2</th>\n",
       "      <td>1637</td>\n",
       "      <td>1620</td>\n",
       "      <td>1671</td>\n",
       "    </tr>\n",
       "    <tr>\n",
       "      <th>0.3</th>\n",
       "      <td>1779</td>\n",
       "      <td>1760</td>\n",
       "      <td>1791</td>\n",
       "    </tr>\n",
       "    <tr>\n",
       "      <th>0.4</th>\n",
       "      <td>1860</td>\n",
       "      <td>1835</td>\n",
       "      <td>1865</td>\n",
       "    </tr>\n",
       "    <tr>\n",
       "      <th>0.5</th>\n",
       "      <td>1913</td>\n",
       "      <td>1897</td>\n",
       "      <td>1924</td>\n",
       "    </tr>\n",
       "    <tr>\n",
       "      <th>0.6</th>\n",
       "      <td>1948</td>\n",
       "      <td>1939</td>\n",
       "      <td>1959</td>\n",
       "    </tr>\n",
       "    <tr>\n",
       "      <th>0.7</th>\n",
       "      <td>1974</td>\n",
       "      <td>1972</td>\n",
       "      <td>1984</td>\n",
       "    </tr>\n",
       "    <tr>\n",
       "      <th>0.8</th>\n",
       "      <td>1996</td>\n",
       "      <td>1999</td>\n",
       "      <td>2003</td>\n",
       "    </tr>\n",
       "    <tr>\n",
       "      <th>0.9</th>\n",
       "      <td>2018</td>\n",
       "      <td>2020</td>\n",
       "      <td>2019</td>\n",
       "    </tr>\n",
       "    <tr>\n",
       "      <th>1.0</th>\n",
       "      <td>2033</td>\n",
       "      <td>2033</td>\n",
       "      <td>2033</td>\n",
       "    </tr>\n",
       "  </tbody>\n",
       "</table>\n",
       "</div>"
      ],
      "text/plain": [
       "     correct  correct  correct\n",
       "0.0        0        0        0\n",
       "0.1     1323     1297     1349\n",
       "0.2     1637     1620     1671\n",
       "0.3     1779     1760     1791\n",
       "0.4     1860     1835     1865\n",
       "0.5     1913     1897     1924\n",
       "0.6     1948     1939     1959\n",
       "0.7     1974     1972     1984\n",
       "0.8     1996     1999     2003\n",
       "0.9     2018     2020     2019\n",
       "1.0     2033     2033     2033"
      ]
     },
     "execution_count": 31,
     "metadata": {},
     "output_type": "execute_result"
    }
   ],
   "source": [
    "pd.concat([res[['correct']].iloc[range(0,22,2)], \\\n",
    "           log_res[['correct']].iloc[range(0,22,2)],\\\n",
    "           xgb_res[['correct']].iloc[range(0,22,2)] ], axis=1)"
   ]
  },
  {
   "cell_type": "code",
   "execution_count": 62,
   "metadata": {
    "collapsed": false
   },
   "outputs": [
    {
     "data": {
      "image/png": "[encoded data removed]",
      "text/plain": [
       "<matplotlib.figure.Figure at 0x10d71b4a8>"
      ]
     },
     "metadata": {},
     "output_type": "display_data"
    }
   ],
   "source": [
    "gbm_res = {}\n",
    "for i in range(0,21):\n",
    "    # copy = y_test.copy()\n",
    "    p = i/20\n",
    "    copy = pd.Series(est.predict_proba(X_test)[:,1],index=y_test.index)\n",
    "    gbm_res[p] = {'correct': sum(y_test[copy.sort_values(ascending=False)[:int(len(X_test)*p)].index]), \\\n",
    "              'searched': len(y_test[copy.sort_values(ascending=False)[:int(len(X_test)*p)].index]), \\\n",
    "              'percent': sum(y_test[copy.sort_values(ascending=False)[:int(len(X_test)*p)].index])/sum(y_test) }\n",
    "#     sum(y_test[copy.sort_values(ascending=False)[:int(len(X_test)*p)].index]), len(y_test[copy.sort_values(ascending=False)[:int(len(X_test)*p)].index]), sum(y_test)\n",
    "gbm_res = pd.DataFrame(gbm_res).T\n",
    "\n",
    "plt.plot(res.index, res.percent)\n",
    "plt.plot(log_res.index, log_res.percent)\n",
    "plt.plot(gbm_res.index, gbm_res.percent)\n",
    "plt.legend(['Random forest','Logistic regression','Gradient boosted trees'],loc='lower right');"
   ]
  },
  {
   "cell_type": "code",
   "execution_count": 2,
   "metadata": {
    "collapsed": false
   },
   "outputs": [
    {
     "ename": "NameError",
     "evalue": "name 'est' is not defined",
     "output_type": "error",
     "traceback": [
      "\u001b[0;31m---------------------------------------------------------------------------\u001b[0m",
      "\u001b[0;31mNameError\u001b[0m                                 Traceback (most recent call last)",
      "\u001b[0;32m<ipython-input-2-48148d969773>\u001b[0m in \u001b[0;36m<module>\u001b[0;34m()\u001b[0m\n\u001b[0;32m----> 1\u001b[0;31m \u001b[0mest\u001b[0m\u001b[0;34m.\u001b[0m\u001b[0mget_fscore\u001b[0m\u001b[0;34m(\u001b[0m\u001b[0;34m)\u001b[0m\u001b[0;34m\u001b[0m\u001b[0m\n\u001b[0m",
      "\u001b[0;31mNameError\u001b[0m: name 'est' is not defined"
     ]
    }
   ],
   "source": [
    "est.get_fscore()"
   ]
  },
  {
   "cell_type": "code",
   "execution_count": 140,
   "metadata": {
    "collapsed": false
   },
   "outputs": [
    {
     "data": {
      "text/plain": [
       "<matplotlib.text.Text at 0x116f40d68>"
      ]
     },
     "execution_count": 140,
     "metadata": {},
     "output_type": "execute_result"
    },
    {
     "data": {
      "image/png": "[encoded data removed]",
      "text/plain": [
       "<matplotlib.figure.Figure at 0x1139c2e48>"
      ]
     },
     "metadata": {},
     "output_type": "display_data"
    }
   ],
   "source": [
    "n_estimators = len(est.estimators_)\n",
    "\n",
    "def deviance_plot(est, X_test, y_test, ax=None, label='', train_color='#2c7bb6',\n",
    "                  test_color='#d7191c', alpha=1.0):\n",
    "    \"\"\"Deviance plot for ``est``, use ``X_test`` and ``y_test`` for test error. \"\"\"\n",
    "    test_dev = np.empty(n_estimators)\n",
    "\n",
    "    for i, pred in enumerate(est.staged_predict(X_test)):\n",
    "       test_dev[i] = est.loss_(y_test, pred)\n",
    "\n",
    "    if ax is None:\n",
    "        fig = plt.figure(figsize=(7, 5))\n",
    "        ax = plt.gca()\n",
    "\n",
    "    ax.plot(np.arange(n_estimators) + 1, test_dev, color=test_color, label='Test %s' % label,\n",
    "             linewidth=2, alpha=alpha)\n",
    "    ax.plot(np.arange(n_estimators) + 1, est.train_score_, color=train_color,\n",
    "             label='Train %s' % label, linewidth=2, alpha=alpha)\n",
    "    ax.set_ylabel('Error')\n",
    "    ax.set_xlabel('n_estimators')\n",
    "#     ax.set_ylim((0, 2))\n",
    "    return test_dev, ax\n",
    "\n",
    "test_dev, ax = deviance_plot(est, X_test, y_test)\n",
    "ax.legend(loc=[0.8,0.8])\n",
    "\n",
    "# add some annotations\n",
    "# ax.annotate('Lowest test error', xy=(test_dev.argmin() + 1, test_dev.min() + 0.02), xycoords='data',\\\n",
    "#             xytext=(50, 1.0), textcoords='data',\\\n",
    "#             arrowprops=dict(arrowstyle=\"->\", connectionstyle=\"arc\"),\\\n",
    "#             )\n",
    "\n",
    "ann = ax.annotate('', xy=(150, test_dev[149]),  xycoords='data',\\\n",
    "                  xytext=(150, est.train_score_[149]), textcoords='data',\\\n",
    "                  arrowprops=dict(arrowstyle=\"<->\"))\n",
    "ax.text(160, 0.85, 'train-test gap')"
   ]
  },
  {
   "cell_type": "code",
   "execution_count": 40,
   "metadata": {
    "collapsed": false
   },
   "outputs": [],
   "source": [
    "# fig = plt.figure(figsize=(8, 5))\n",
    "# ax = plt.gca()\n",
    "# for params, (test_color, train_color) in [({}, ('#d7191c', '#2c7bb6')),\n",
    "#                                           ({'learning_rate': 0.1},\n",
    "#                                            ('#fdae61', '#abd9e9'))]:\n",
    "#     est = GradientBoostingClassifier(n_estimators=n_estimators, max_depth=1, learning_rate=1.0)\n",
    "#     est.set_params(**params)\n",
    "#     est.fit(X_train, y_train)\n",
    "\n",
    "#     test_dev, ax = deviance_plot(est, X_test, y_test, ax=ax, label=fmt_params(params),\n",
    "#                                  train_color=train_color, test_color=test_color)\n",
    "\n",
    "# ax.annotate('Requires more trees', xy=(200, est.train_score_[199]), xycoords='data',\n",
    "#             xytext=(300, 1.0), textcoords='data',\n",
    "#             arrowprops=dict(arrowstyle=\"->\", connectionstyle=\"arc\"),\n",
    "#             )\n",
    "# ax.annotate('Lower test error', xy=(900, test_dev[899]), xycoords='data',\n",
    "#             xytext=(600, 0.5), textcoords='data',\n",
    "#             arrowprops=dict(arrowstyle=\"->\", connectionstyle=\"arc\"),\n",
    "#             )\n",
    "# plt.legend(loc='upper right')"
   ]
  },
  {
   "cell_type": "code",
   "execution_count": 194,
   "metadata": {
    "collapsed": false
   },
   "outputs": [
    {
     "data": {
      "text/html": [
       "<div>\n",
       "<table border=\"1\" class=\"dataframe\">\n",
       "  <thead>\n",
       "    <tr style=\"text-align: right;\">\n",
       "      <th>col_0</th>\n",
       "      <th>0</th>\n",
       "      <th>1</th>\n",
       "    </tr>\n",
       "    <tr>\n",
       "      <th>vacant</th>\n",
       "      <th></th>\n",
       "      <th></th>\n",
       "    </tr>\n",
       "  </thead>\n",
       "  <tbody>\n",
       "    <tr>\n",
       "      <th>0</th>\n",
       "      <td>19924</td>\n",
       "      <td>670</td>\n",
       "    </tr>\n",
       "    <tr>\n",
       "      <th>1</th>\n",
       "      <td>1250</td>\n",
       "      <td>783</td>\n",
       "    </tr>\n",
       "  </tbody>\n",
       "</table>\n",
       "</div>"
      ],
      "text/plain": [
       "col_0       0    1\n",
       "vacant            \n",
       "0       19924  670\n",
       "1        1250  783"
      ]
     },
     "execution_count": 194,
     "metadata": {},
     "output_type": "execute_result"
    }
   ],
   "source": [
    "pd.crosstab(y_test, clf.predict(X_test))"
   ]
  },
  {
   "cell_type": "code",
   "execution_count": 35,
   "metadata": {
    "collapsed": false
   },
   "outputs": [
    {
     "data": {
      "text/plain": [
       "AdaBoostClassifier(algorithm='SAMME.R', base_estimator=None,\n",
       "          learning_rate=1.0, n_estimators=50, random_state=0)"
      ]
     },
     "execution_count": 35,
     "metadata": {},
     "output_type": "execute_result"
    }
   ],
   "source": [
    "abc = AdaBoostClassifier(n_estimators=50, random_state=0)\n",
    "abc.fit(X_train, y_train)"
   ]
  },
  {
   "cell_type": "code",
   "execution_count": null,
   "metadata": {
    "collapsed": true
   },
   "outputs": [],
   "source": [
    "pd.crosstab(y_test, abc.predict(X_test), rownames=['actual'], colnames=['preds'])"
   ]
  },
  {
   "cell_type": "code",
   "execution_count": 190,
   "metadata": {
    "collapsed": false
   },
   "outputs": [
    {
     "data": {
      "text/plain": [
       "0.85570079795738163"
      ]
     },
     "execution_count": 190,
     "metadata": {},
     "output_type": "execute_result"
    }
   ],
   "source": [
    "cross_val_score(abc, df3[features], df3.vacant, cv=10, scoring='accuracy').mean()"
   ]
  },
  {
   "cell_type": "code",
   "execution_count": 50,
   "metadata": {
    "collapsed": true
   },
   "outputs": [],
   "source": [
    "sound()"
   ]
  },
  {
   "cell_type": "code",
   "execution_count": 51,
   "metadata": {
    "collapsed": false
   },
   "outputs": [],
   "source": [
    "abc_prob = abc.predict_proba(test[features])"
   ]
  },
  {
   "cell_type": "code",
   "execution_count": 36,
   "metadata": {
    "collapsed": false
   },
   "outputs": [
    {
     "data": {
      "text/html": [
       "<div>\n",
       "<table border=\"1\" class=\"dataframe\">\n",
       "  <thead>\n",
       "    <tr style=\"text-align: right;\">\n",
       "      <th>preds</th>\n",
       "      <th>0</th>\n",
       "      <th>1</th>\n",
       "    </tr>\n",
       "    <tr>\n",
       "      <th>actual</th>\n",
       "      <th></th>\n",
       "      <th></th>\n",
       "    </tr>\n",
       "  </thead>\n",
       "  <tbody>\n",
       "    <tr>\n",
       "      <th>0</th>\n",
       "      <td>20447</td>\n",
       "      <td>301</td>\n",
       "    </tr>\n",
       "    <tr>\n",
       "      <th>1</th>\n",
       "      <td>1095</td>\n",
       "      <td>870</td>\n",
       "    </tr>\n",
       "  </tbody>\n",
       "</table>\n",
       "</div>"
      ],
      "text/plain": [
       "preds       0    1\n",
       "actual            \n",
       "0       20447  301\n",
       "1        1095  870"
      ]
     },
     "execution_count": 36,
     "metadata": {},
     "output_type": "execute_result"
    }
   ],
   "source": [
    "pd.crosstab(test['vacant'], abc.predict(test[features]), rownames=['actual'], colnames=['preds'])"
   ]
  },
  {
   "cell_type": "markdown",
   "metadata": {},
   "source": [
    "### Single decision tree"
   ]
  },
  {
   "cell_type": "code",
   "execution_count": 53,
   "metadata": {
    "collapsed": false
   },
   "outputs": [],
   "source": [
    "from sklearn import tree"
   ]
  },
  {
   "cell_type": "code",
   "execution_count": 77,
   "metadata": {
    "collapsed": false
   },
   "outputs": [
    {
     "data": {
      "image/png": "[encoded data removed]",
      "text/plain": [
       "<matplotlib.figure.Figure at 0x10d9270d0>"
      ]
     },
     "metadata": {},
     "output_type": "display_data"
    }
   ],
   "source": [
    "leafs = range(1,20,1)\n",
    "scores = []\n",
    "for leaf in leafs:\n",
    "    clf = tree.DecisionTreeClassifier(class_weight='auto', min_samples_leaf=leaf)\n",
    "    scores.append(cross_val_score(clf, df3[features], df3.vacant, cv=10, scoring='accuracy').mean())\n",
    "plt.plot(leafs, scores, '--');"
   ]
  },
  {
   "cell_type": "code",
   "execution_count": 58,
   "metadata": {
    "collapsed": false
   },
   "outputs": [],
   "source": [
    "clf = tree.DecisionTreeClassifier(class_weight=None, min_samples_leaf=3)\n",
    "clf = clf.fit(train[features], y)"
   ]
  },
  {
   "cell_type": "code",
   "execution_count": 196,
   "metadata": {
    "collapsed": false
   },
   "outputs": [
    {
     "data": {
      "text/plain": [
       "0.76765186629132975"
      ]
     },
     "execution_count": 196,
     "metadata": {},
     "output_type": "execute_result"
    }
   ],
   "source": [
    "cross_val_score(clf, df3[features], df3.vacant, cv=10, scoring='accuracy').mean()"
   ]
  },
  {
   "cell_type": "code",
   "execution_count": 59,
   "metadata": {
    "collapsed": false
   },
   "outputs": [
    {
     "data": {
      "text/html": [
       "<div>\n",
       "<table border=\"1\" class=\"dataframe\">\n",
       "  <thead>\n",
       "    <tr style=\"text-align: right;\">\n",
       "      <th>preds</th>\n",
       "      <th>0</th>\n",
       "      <th>1</th>\n",
       "    </tr>\n",
       "    <tr>\n",
       "      <th>actual</th>\n",
       "      <th></th>\n",
       "      <th></th>\n",
       "    </tr>\n",
       "  </thead>\n",
       "  <tbody>\n",
       "    <tr>\n",
       "      <th>0</th>\n",
       "      <td>29478</td>\n",
       "      <td>1401</td>\n",
       "    </tr>\n",
       "    <tr>\n",
       "      <th>1</th>\n",
       "      <td>1546</td>\n",
       "      <td>1461</td>\n",
       "    </tr>\n",
       "  </tbody>\n",
       "</table>\n",
       "</div>"
      ],
      "text/plain": [
       "preds       0     1\n",
       "actual             \n",
       "0       29478  1401\n",
       "1        1546  1461"
      ]
     },
     "execution_count": 59,
     "metadata": {},
     "output_type": "execute_result"
    }
   ],
   "source": [
    "pd.crosstab(test['vacant'], clf.predict(test[features]), rownames=['actual'], colnames=['preds'])"
   ]
  },
  {
   "cell_type": "markdown",
   "metadata": {},
   "source": [
    "## xgboost"
   ]
  },
  {
   "cell_type": "code",
   "execution_count": 35,
   "metadata": {
    "collapsed": false
   },
   "outputs": [
    {
     "data": {
      "text/html": [
       "<div>\n",
       "<table border=\"1\" class=\"dataframe\">\n",
       "  <thead>\n",
       "    <tr style=\"text-align: right;\">\n",
       "      <th>col_0</th>\n",
       "      <th>0</th>\n",
       "      <th>1</th>\n",
       "    </tr>\n",
       "    <tr>\n",
       "      <th>vacant</th>\n",
       "      <th></th>\n",
       "      <th></th>\n",
       "    </tr>\n",
       "  </thead>\n",
       "  <tbody>\n",
       "    <tr>\n",
       "      <th>0</th>\n",
       "      <td>20351</td>\n",
       "      <td>243</td>\n",
       "    </tr>\n",
       "    <tr>\n",
       "      <th>1</th>\n",
       "      <td>1020</td>\n",
       "      <td>1013</td>\n",
       "    </tr>\n",
       "  </tbody>\n",
       "</table>\n",
       "</div>"
      ],
      "text/plain": [
       "col_0       0     1\n",
       "vacant             \n",
       "0       20351   243\n",
       "1        1020  1013"
      ]
     },
     "execution_count": 35,
     "metadata": {},
     "output_type": "execute_result"
    }
   ],
   "source": [
    "import xgboost as xgb\n",
    "\n",
    "xgtest = X_test.as_matrix()\n",
    "#create train and validation dmatrices \n",
    "xgtrain = X_train.as_matrix()\n",
    "\n",
    "gbm = xgb.XGBClassifier(seed=0).fit(xgtrain, y_train)\n",
    "predictions = gbm.predict(xgtest)\n",
    "probs = gbm.predict_proba(xgtest)\n",
    "pd.crosstab(y_test,predictions)"
   ]
  },
  {
   "cell_type": "code",
   "execution_count": 37,
   "metadata": {
    "collapsed": false
   },
   "outputs": [],
   "source": [
    "xgb_res = {}\n",
    "for i in range(0,21):\n",
    "    # copy = y_test.copy()\n",
    "    p = i/20\n",
    "    copy = pd.Series(probs[:,1],index=y_test.index)\n",
    "    xgb_res[p] = {'correct': sum(y_test[copy.sort_values(ascending=False)[:int(len(X_test)*p)].index]), \\\n",
    "              'searched': len(y_test[copy.sort_values(ascending=False)[:int(len(X_test)*p)].index]), \\\n",
    "              'percent': sum(y_test[copy.sort_values(ascending=False)[:int(len(X_test)*p)].index])/sum(y_test) }\n",
    "#     sum(y_test[copy.sort_values(ascending=False)[:int(len(X_test)*p)].index]), len(y_test[copy.sort_values(ascending=False)[:int(len(X_test)*p)].index]), sum(y_test)\n",
    "xgb_res = pd.DataFrame(xgb_res).T"
   ]
  },
  {
   "cell_type": "code",
   "execution_count": 70,
   "metadata": {
    "collapsed": false
   },
   "outputs": [
    {
     "data": {
      "image/png": "[encoded data removed]",
      "text/plain": [
       "<matplotlib.figure.Figure at 0x10f7f00b8>"
      ]
     },
     "metadata": {},
     "output_type": "display_data"
    }
   ],
   "source": [
    "sns.set_context('notebook')\n",
    "plt.plot(res.index, res.percent)\n",
    "plt.plot(log_res.index, log_res.percent)\n",
    "plt.plot(xgb_res.index, xgb_res.percent)\n",
    "plt.plot([0,sum(y_test)/len(y_test)],[0,1],'k--',linewidth=1)\n",
    "plt.xlabel('Fraction of homes inspected')\n",
    "plt.ylabel('Fraction of vacant identified')\n",
    "# plt.set_xticklabels(fontsize='small')\n",
    "# plt.axis([-0.05,1.05,-0.05,1.05])\n",
    "plt.legend(['Random forest','Logistic regression','Gradient boosted trees','Perfect classifier'],loc='lower right');\n",
    "plt.savefig(path+'/outputs/model_inspection_comparison.ps')"
   ]
  },
  {
   "cell_type": "code",
   "execution_count": 44,
   "metadata": {
    "collapsed": false
   },
   "outputs": [
    {
     "data": {
      "text/plain": [
       "0.089848411190171035"
      ]
     },
     "execution_count": 44,
     "metadata": {},
     "output_type": "execute_result"
    }
   ],
   "source": [
    "sum(y_test)/len(y_test)"
   ]
  },
  {
   "cell_type": "code",
   "execution_count": null,
   "metadata": {
    "collapsed": true
   },
   "outputs": [],
   "source": []
  }
 ],
 "metadata": {
  "kernelspec": {
   "display_name": "Python 3",
   "language": "python",
   "name": "python3"
  },
  "language_info": {
   "codemirror_mode": {
    "name": "ipython",
    "version": 3
   },
   "file_extension": ".py",
   "mimetype": "text/x-python",
   "name": "python",
   "nbconvert_exporter": "python",
   "pygments_lexer": "ipython3",
   "version": "3.4.4"
  }
 },
 "nbformat": 4,
 "nbformat_minor": 0
}
