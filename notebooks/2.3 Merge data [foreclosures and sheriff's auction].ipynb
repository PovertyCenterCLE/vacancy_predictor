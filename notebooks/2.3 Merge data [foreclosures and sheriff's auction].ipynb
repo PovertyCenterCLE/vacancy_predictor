{
 "cells": [
  {
   "cell_type": "code",
   "execution_count": 118,
   "metadata": {
    "collapsed": false
   },
   "outputs": [
    {
     "name": "stdout",
     "output_type": "stream",
     "text": [
      "/Volumes/Dropbox/largetransfer/luc/carter\n"
     ]
    }
   ],
   "source": [
    "import matplotlib.pyplot as plt\n",
    "import datetime as dt\n",
    "import seaborn as sns\n",
    "import pandas as pd\n",
    "import numpy as np\n",
    "import os\n",
    "\n",
    "%matplotlib inline\n",
    "\n",
    "path = '/'.join(os.getcwd().split('/')[:-1])\n",
    "print path"
   ]
  },
  {
   "cell_type": "code",
   "execution_count": 158,
   "metadata": {
    "collapsed": false
   },
   "outputs": [],
   "source": [
    "tci = pd.read_csv(path+'/data/model_data/tci_2_2.csv')\n",
    "ppns = set(tci['ppn'])\n",
    "ppns_num = set(tci['ppn'].apply(lambda x: x.replace('-','')))"
   ]
  },
  {
   "cell_type": "markdown",
   "metadata": {},
   "source": [
    "## Foreclosure data"
   ]
  },
  {
   "cell_type": "code",
   "execution_count": 120,
   "metadata": {
    "collapsed": false
   },
   "outputs": [],
   "source": [
    "fc = pd.read_csv(path+'/data/clean_data/foreclosure_filings.csv', parse_dates=[2])"
   ]
  },
  {
   "cell_type": "code",
   "execution_count": 121,
   "metadata": {
    "collapsed": false,
    "scrolled": true
   },
   "outputs": [
    {
     "name": "stdout",
     "output_type": "stream",
     "text": [
      "<class 'pandas.core.frame.DataFrame'>\n",
      "Int64Index: 45055 entries, 0 to 45054\n",
      "Data columns (total 26 columns):\n",
      "parcel            45055 non-null object\n",
      "status            45055 non-null object\n",
      "filedate          45055 non-null datetime64[ns]\n",
      "defendant         45055 non-null object\n",
      "caseno            45055 non-null object\n",
      "parcel_address    44986 non-null object\n",
      "dateid            45055 non-null object\n",
      "FORE              45055 non-null int64\n",
      "LATITUDE          45035 non-null float64\n",
      "LONGITUDE         45035 non-null float64\n",
      "zip_fore          43920 non-null float64\n",
      "case_number       45055 non-null object\n",
      "ctitle            45055 non-null object\n",
      "cdesig            45055 non-null object\n",
      "judge             45055 non-null object\n",
      "magistrate        41211 non-null object\n",
      "room              407 non-null object\n",
      "n_action          408 non-null object\n",
      "f_location        45053 non-null object\n",
      "lstatus           45055 non-null object\n",
      "lstatusdt         45055 non-null object\n",
      "ldispos           45055 non-null object\n",
      "ldisposdt         45055 non-null object\n",
      "pamount           45055 non-null object\n",
      "detaildt          45055 non-null object\n",
      "plaintiff         45055 non-null object\n",
      "dtypes: datetime64[ns](1), float64(3), int64(1), object(21)\n",
      "memory usage: 9.3+ MB\n"
     ]
    }
   ],
   "source": [
    "fc.info()"
   ]
  },
  {
   "cell_type": "code",
   "execution_count": 122,
   "metadata": {
    "collapsed": false
   },
   "outputs": [
    {
     "data": {
      "text/html": [
       "<div>\n",
       "<table border=\"1\" class=\"dataframe\">\n",
       "  <thead>\n",
       "    <tr style=\"text-align: right;\">\n",
       "      <th></th>\n",
       "      <th>parcel</th>\n",
       "      <th>status</th>\n",
       "      <th>filedate</th>\n",
       "      <th>defendant</th>\n",
       "      <th>caseno</th>\n",
       "      <th>parcel_address</th>\n",
       "      <th>dateid</th>\n",
       "      <th>FORE</th>\n",
       "      <th>LATITUDE</th>\n",
       "      <th>LONGITUDE</th>\n",
       "      <th>...</th>\n",
       "      <th>room</th>\n",
       "      <th>n_action</th>\n",
       "      <th>f_location</th>\n",
       "      <th>lstatus</th>\n",
       "      <th>lstatusdt</th>\n",
       "      <th>ldispos</th>\n",
       "      <th>ldisposdt</th>\n",
       "      <th>pamount</th>\n",
       "      <th>detaildt</th>\n",
       "      <th>plaintiff</th>\n",
       "    </tr>\n",
       "  </thead>\n",
       "  <tbody>\n",
       "    <tr>\n",
       "      <th>0</th>\n",
       "      <td>107-16-046</td>\n",
       "      <td>Inactive</td>\n",
       "      <td>2006-10-03</td>\n",
       "      <td>AHMAD HAKIM, ET AL</td>\n",
       "      <td>BR-06-000005</td>\n",
       "      <td>BLAINE AVENUE</td>\n",
       "      <td>03/21/2015</td>\n",
       "      <td>1</td>\n",
       "      <td>41.51486</td>\n",
       "      <td>-81.625548</td>\n",
       "      <td>...</td>\n",
       "      <td>NaN</td>\n",
       "      <td>NaN</td>\n",
       "      <td>DF-ROOM 45</td>\n",
       "      <td>INACTIVE</td>\n",
       "      <td>03/07/2007</td>\n",
       "      <td>DEFAULT</td>\n",
       "      <td>02/28/2007</td>\n",
       "      <td>$.00</td>\n",
       "      <td>12/24/2014</td>\n",
       "      <td>JAMES ROKAKIS, AS TREASURER</td>\n",
       "    </tr>\n",
       "    <tr>\n",
       "      <th>1</th>\n",
       "      <td>119-01-007</td>\n",
       "      <td>Inactive</td>\n",
       "      <td>2006-10-03</td>\n",
       "      <td>IDOLA SMITH AKA IDOLA BINION ET.AL.</td>\n",
       "      <td>BR-06-000018</td>\n",
       "      <td>1827 EAST 79TH STREET</td>\n",
       "      <td>03/21/2015</td>\n",
       "      <td>1</td>\n",
       "      <td>41.50848</td>\n",
       "      <td>-81.633084</td>\n",
       "      <td>...</td>\n",
       "      <td>NaN</td>\n",
       "      <td>NaN</td>\n",
       "      <td>DF-ROOM 45</td>\n",
       "      <td>INACTIVE</td>\n",
       "      <td>12/11/2007</td>\n",
       "      <td>DEFAULT</td>\n",
       "      <td>12/10/2007</td>\n",
       "      <td>$.00</td>\n",
       "      <td>03/21/2015</td>\n",
       "      <td>JAMES ROKAKIS, AS TREASURER</td>\n",
       "    </tr>\n",
       "  </tbody>\n",
       "</table>\n",
       "<p>2 rows × 26 columns</p>\n",
       "</div>"
      ],
      "text/plain": [
       "       parcel    status   filedate                            defendant  \\\n",
       "0  107-16-046  Inactive 2006-10-03                   AHMAD HAKIM, ET AL   \n",
       "1  119-01-007  Inactive 2006-10-03  IDOLA SMITH AKA IDOLA BINION ET.AL.   \n",
       "\n",
       "         caseno         parcel_address      dateid  FORE  LATITUDE  LONGITUDE  \\\n",
       "0  BR-06-000005          BLAINE AVENUE  03/21/2015     1  41.51486 -81.625548   \n",
       "1  BR-06-000018  1827 EAST 79TH STREET  03/21/2015     1  41.50848 -81.633084   \n",
       "\n",
       "              ...               room n_action  f_location   lstatus  \\\n",
       "0             ...                NaN      NaN  DF-ROOM 45  INACTIVE   \n",
       "1             ...                NaN      NaN  DF-ROOM 45  INACTIVE   \n",
       "\n",
       "    lstatusdt  ldispos   ldisposdt pamount    detaildt  \\\n",
       "0  03/07/2007  DEFAULT  02/28/2007    $.00  12/24/2014   \n",
       "1  12/11/2007  DEFAULT  12/10/2007    $.00  03/21/2015   \n",
       "\n",
       "                     plaintiff  \n",
       "0  JAMES ROKAKIS, AS TREASURER  \n",
       "1  JAMES ROKAKIS, AS TREASURER  \n",
       "\n",
       "[2 rows x 26 columns]"
      ]
     },
     "execution_count": 122,
     "metadata": {},
     "output_type": "execute_result"
    }
   ],
   "source": [
    "fc.head(2)"
   ]
  },
  {
   "cell_type": "code",
   "execution_count": 123,
   "metadata": {
    "collapsed": false
   },
   "outputs": [],
   "source": [
    "fc['pamount'] = fc['pamount'].apply(lambda x: float(x[1:].replace(',','')))"
   ]
  },
  {
   "cell_type": "code",
   "execution_count": 124,
   "metadata": {
    "collapsed": false
   },
   "outputs": [],
   "source": [
    "tem = fc.loc[fc.status=='Active',['parcel']]\n",
    "tem['active_fc'] = 1\n",
    "tem = tem.drop_duplicates()"
   ]
  },
  {
   "cell_type": "code",
   "execution_count": 125,
   "metadata": {
    "collapsed": false
   },
   "outputs": [],
   "source": [
    "tci = pd.merge(tci, tem, \\\n",
    "             how='left', left_on='ppn', right_on='parcel')"
   ]
  },
  {
   "cell_type": "code",
   "execution_count": 126,
   "metadata": {
    "collapsed": false
   },
   "outputs": [],
   "source": [
    "tem = fc.loc[fc.filedate>dt.datetime(2011, 3, 1),['parcel','pamount']].groupby('parcel').first()\n",
    "tem.columns = ['foreclosure_flag']\n",
    "\n",
    "tci = pd.merge(tci, tem, \\\n",
    "             how='left', left_on='ppn', right_index=True)"
   ]
  },
  {
   "cell_type": "code",
   "execution_count": 127,
   "metadata": {
    "collapsed": false
   },
   "outputs": [],
   "source": [
    "tci.loc[(tci.ppn.isin(set(fc[(fc.ldispos=='DIS. W/O PREJ')].parcel))),'fc_dis_w/o_prej'] = 1"
   ]
  },
  {
   "cell_type": "code",
   "execution_count": 128,
   "metadata": {
    "collapsed": true
   },
   "outputs": [],
   "source": [
    "tci.loc[(tci.ppn.isin(set(fc[(fc.ldispos=='NEWLY FILED')].parcel))),'fc_newly_filed'] = 1"
   ]
  },
  {
   "cell_type": "code",
   "execution_count": 129,
   "metadata": {
    "collapsed": false
   },
   "outputs": [
    {
     "data": {
      "text/plain": [
       "Index([], dtype='object')"
      ]
     },
     "execution_count": 129,
     "metadata": {},
     "output_type": "execute_result"
    }
   ],
   "source": [
    "tci.columns[100:]"
   ]
  },
  {
   "cell_type": "code",
   "execution_count": 130,
   "metadata": {
    "collapsed": false
   },
   "outputs": [],
   "source": [
    "for dis in ['DEFAULT']:\n",
    "    for i in xrange(2006,2016):\n",
    "        tci.loc[(tci.ppn.isin(set(fc[(fc.ldispos==dis) & (fc.filedate.apply(lambda x: x.year) ==i)].parcel))),'fc_default'] = i\n",
    "tci.loc[tci.fc_default.isnull(),'fc_default'] = 0"
   ]
  },
  {
   "cell_type": "code",
   "execution_count": 131,
   "metadata": {
    "collapsed": false
   },
   "outputs": [],
   "source": [
    "dis = 'DISP.OTHER'\n",
    "for year in xrange(2006,2015):\n",
    "    tci.loc[tci.ppn.isin(set(fc[(fc.ldispos==dis) & (fc.filedate.apply(lambda x: x.year) ==year)].parcel)),'fc_dispother'] = year\n",
    "tci.loc[tci.fc_dispother.isnull(),'fc_dispother']= 0"
   ]
  },
  {
   "cell_type": "code",
   "execution_count": 132,
   "metadata": {
    "collapsed": false
   },
   "outputs": [
    {
     "name": "stdout",
     "output_type": "stream",
     "text": [
      "('DIS. W/PREJ', 1, 0)\n",
      "('DISP. TRANSCT', 0, 0)\n",
      "('DISP.OTHER', 244, 144)\n",
      "('NEWLY FILED', 283, 214)\n",
      "('DEFAULT', 492, 174)\n",
      "('UNAVAILABLE', 0, 0)\n",
      "('DISPOSED', 0, 0)\n",
      "('BANKRPT/C.O.A. STAY', 48, 6)\n",
      "('DIS. W/O PREJ', 413, 62)\n",
      "('SATISFIED', 0, 0)\n",
      "('DISP.JURY TRIAL', 0, 0)\n",
      "('MAGISTRATE', 1353, 312)\n",
      "('ADR', 180, 8)\n",
      "('DISP.COURT TRIAL', 0, 0)\n",
      "('STAY', 1, 0)\n",
      "('RET. STAY', 0, 0)\n"
     ]
    }
   ],
   "source": [
    "for dis in set(fc.ldispos):\n",
    "    a = tci[(tci.ppn.isin(set(fc[(fc.ldispos==dis) & (fc.filedate > dt.datetime(2014,3,1))].parcel))) & (tci.vacant>-1)]\n",
    "    print(dis, len(a), sum(a.vacant))"
   ]
  },
  {
   "cell_type": "markdown",
   "metadata": {},
   "source": [
    "## Sheriff's auction"
   ]
  },
  {
   "cell_type": "code",
   "execution_count": 133,
   "metadata": {
    "collapsed": false
   },
   "outputs": [],
   "source": [
    "sa = pd.read_csv(path+'/data/clean_data/sheriff_auction.csv', parse_dates=[2], encoding=\"ISO-8859-1\")"
   ]
  },
  {
   "cell_type": "code",
   "execution_count": 134,
   "metadata": {
    "collapsed": false,
    "scrolled": true
   },
   "outputs": [
    {
     "name": "stdout",
     "output_type": "stream",
     "text": [
      "<class 'pandas.core.frame.DataFrame'>\n",
      "Int64Index: 45843 entries, 0 to 45842\n",
      "Data columns (total 25 columns):\n",
      "parcel        45843 non-null object\n",
      "address       45700 non-null object\n",
      "salesdt       45843 non-null datetime64[ns]\n",
      "saleno        45842 non-null float64\n",
      "sold_amt      28609 non-null object\n",
      "appraisal     37038 non-null object\n",
      "minbid        37050 non-null object\n",
      "scaseno       45843 non-null object\n",
      "withdrawn     17813 non-null object\n",
      "plaintiff     45831 non-null object\n",
      "sdefend       45840 non-null object\n",
      "purchaser     31260 non-null object\n",
      "paddress      42891 non-null object\n",
      "rparty        35478 non-null object\n",
      "raddress      35478 non-null object\n",
      "attorney      44680 non-null object\n",
      "descript      40222 non-null object\n",
      "location      23362 non-null object\n",
      "defend_att    5857 non-null object\n",
      "with          17813 non-null object\n",
      "status        4508 non-null object\n",
      "ssold         31381 non-null object\n",
      "SHF           45843 non-null int64\n",
      "LATITUDE      45831 non-null float64\n",
      "LONGITUDE     45831 non-null float64\n",
      "dtypes: datetime64[ns](1), float64(3), int64(1), object(20)\n",
      "memory usage: 9.1+ MB\n"
     ]
    }
   ],
   "source": [
    "sa.info()"
   ]
  },
  {
   "cell_type": "code",
   "execution_count": 135,
   "metadata": {
    "collapsed": false
   },
   "outputs": [],
   "source": [
    "sa['year'] = sa.salesdt.apply(lambda x: x.year)"
   ]
  },
  {
   "cell_type": "code",
   "execution_count": 136,
   "metadata": {
    "collapsed": false
   },
   "outputs": [
    {
     "name": "stdout",
     "output_type": "stream",
     "text": [
      "2000 149 922.0 0.161605206074\n",
      "2001 155 1009.0 0.153617443013\n",
      "2002 199 1307.0 0.152257077276\n",
      "2003 290 1834.0 0.15812431843\n",
      "2004 379 2105.0 0.180047505938\n",
      "2005 585 3270.0 0.178899082569\n",
      "2006 696 4373.0 0.159158472445\n",
      "2007 952 5858.0 0.162512803004\n",
      "2008 859 4603.0 0.18661742342\n",
      "2009 468 3250.0 0.144\n",
      "2010 304 2672.0 0.11377245509\n",
      "2011 211 1837.0 0.114861186717\n",
      "2012 278 2279.0 0.12198332602\n",
      "2013 445 2486.0 0.179002413516\n",
      "2014 674 2276.0 0.296133567663\n",
      "2015 271 719.0 0.376912378303\n"
     ]
    }
   ],
   "source": [
    "for y in xrange(2000,2016):\n",
    "    tem = pd.merge(tci, sa.loc[sa.year==y,['year','parcel']].groupby('parcel').count(), left_on='ppn',right_index=True,how='left')\n",
    "    tem[tem.year>0].year = 1\n",
    "    tem[tem.year<1].year = 0\n",
    "    tem.year = tem.year.fillna(0)\n",
    "    print y, sum(tem[(tem.vacant>-1) & (tem.year > 0)].vacant), sum(tem[tem.vacant>-1].year), sum(tem[(tem.vacant>-1) & (tem.year > 0)].vacant)/ sum(tem[tem.vacant>-1].year)"
   ]
  },
  {
   "cell_type": "code",
   "execution_count": 137,
   "metadata": {
    "collapsed": false,
    "scrolled": true
   },
   "outputs": [
    {
     "data": {
      "image/png": "[encoded data removed]",
      "text/plain": [
       "<matplotlib.figure.Figure at 0x108323550>"
      ]
     },
     "metadata": {},
     "output_type": "display_data"
    }
   ],
   "source": [
    "plt.plot(sa[['parcel','year']].groupby('year').count().index, sa[['parcel','year']].groupby('year').count().values);"
   ]
  },
  {
   "cell_type": "code",
   "execution_count": 138,
   "metadata": {
    "collapsed": true
   },
   "outputs": [],
   "source": [
    "def parse_amount(x):\n",
    "    return float(str(x)[1:].replace(',',''))"
   ]
  },
  {
   "cell_type": "code",
   "execution_count": 139,
   "metadata": {
    "collapsed": false
   },
   "outputs": [],
   "source": [
    "sa.loc[sa.appraisal.notnull(), 'appraisal'] = sa.loc[sa.appraisal.notnull(), 'appraisal'].apply(parse_amount)"
   ]
  },
  {
   "cell_type": "code",
   "execution_count": 140,
   "metadata": {
    "collapsed": false
   },
   "outputs": [],
   "source": [
    "sa['ssold'] = sa.ssold.apply(lambda x: 1 if x=='Yes' else 0)"
   ]
  },
  {
   "cell_type": "code",
   "execution_count": 141,
   "metadata": {
    "collapsed": false
   },
   "outputs": [
    {
     "data": {
      "text/html": [
       "<div>\n",
       "<table border=\"1\" class=\"dataframe\">\n",
       "  <thead>\n",
       "    <tr>\n",
       "      <th></th>\n",
       "      <th colspan=\"2\" halign=\"left\">vacant</th>\n",
       "    </tr>\n",
       "    <tr>\n",
       "      <th></th>\n",
       "      <th>sum</th>\n",
       "      <th>len</th>\n",
       "    </tr>\n",
       "    <tr>\n",
       "      <th>auction_13</th>\n",
       "      <th></th>\n",
       "      <th></th>\n",
       "    </tr>\n",
       "  </thead>\n",
       "  <tbody>\n",
       "    <tr>\n",
       "      <th>0</th>\n",
       "      <td>8798</td>\n",
       "      <td>107559</td>\n",
       "    </tr>\n",
       "    <tr>\n",
       "      <th>1</th>\n",
       "      <td>882</td>\n",
       "      <td>3251</td>\n",
       "    </tr>\n",
       "    <tr>\n",
       "      <th>2</th>\n",
       "      <td>62</td>\n",
       "      <td>288</td>\n",
       "    </tr>\n",
       "    <tr>\n",
       "      <th>3</th>\n",
       "      <td>17</td>\n",
       "      <td>48</td>\n",
       "    </tr>\n",
       "    <tr>\n",
       "      <th>4</th>\n",
       "      <td>1</td>\n",
       "      <td>4</td>\n",
       "    </tr>\n",
       "  </tbody>\n",
       "</table>\n",
       "</div>"
      ],
      "text/plain": [
       "           vacant        \n",
       "              sum     len\n",
       "auction_13               \n",
       "0            8798  107559\n",
       "1             882    3251\n",
       "2              62     288\n",
       "3              17      48\n",
       "4               1       4"
      ]
     },
     "execution_count": 141,
     "metadata": {},
     "output_type": "execute_result"
    }
   ],
   "source": [
    "tem = sa.loc[sa.salesdt>dt.datetime(2013, 1, 1),['parcel','ssold']].groupby('parcel').sum()\n",
    "tem.columns = ['auction_13']\n",
    "tem.loc[tem['auction_13'].isnull(),'auction_13'] = 0\n",
    "tci = pd.merge(tci, tem, \\\n",
    "              how='left', left_on='ppn', right_index=True)\n",
    "tci.loc[tci['auction_13'].isnull(),'auction_13'] = 0\n",
    "tci.loc[(tci.vacant>-1),['auction_13','vacant']].groupby('auction_13').agg([sum,len])"
   ]
  },
  {
   "cell_type": "code",
   "execution_count": 142,
   "metadata": {
    "collapsed": false
   },
   "outputs": [
    {
     "data": {
      "text/plain": [
       "4419.0"
      ]
     },
     "execution_count": 142,
     "metadata": {},
     "output_type": "execute_result"
    }
   ],
   "source": [
    "sum(tci.auction_13)"
   ]
  },
  {
   "cell_type": "code",
   "execution_count": 143,
   "metadata": {
    "collapsed": false
   },
   "outputs": [
    {
     "data": {
      "text/html": [
       "<div>\n",
       "<table border=\"1\" class=\"dataframe\">\n",
       "  <thead>\n",
       "    <tr>\n",
       "      <th></th>\n",
       "      <th colspan=\"2\" halign=\"left\">vacant</th>\n",
       "    </tr>\n",
       "    <tr>\n",
       "      <th></th>\n",
       "      <th>sum</th>\n",
       "      <th>len</th>\n",
       "    </tr>\n",
       "    <tr>\n",
       "      <th>auction_all</th>\n",
       "      <th></th>\n",
       "      <th></th>\n",
       "    </tr>\n",
       "  </thead>\n",
       "  <tbody>\n",
       "    <tr>\n",
       "      <th>0</th>\n",
       "      <td>5855</td>\n",
       "      <td>87980</td>\n",
       "    </tr>\n",
       "    <tr>\n",
       "      <th>1</th>\n",
       "      <td>3067</td>\n",
       "      <td>18863</td>\n",
       "    </tr>\n",
       "    <tr>\n",
       "      <th>2</th>\n",
       "      <td>703</td>\n",
       "      <td>3700</td>\n",
       "    </tr>\n",
       "    <tr>\n",
       "      <th>3</th>\n",
       "      <td>108</td>\n",
       "      <td>466</td>\n",
       "    </tr>\n",
       "    <tr>\n",
       "      <th>4</th>\n",
       "      <td>20</td>\n",
       "      <td>100</td>\n",
       "    </tr>\n",
       "    <tr>\n",
       "      <th>5</th>\n",
       "      <td>3</td>\n",
       "      <td>22</td>\n",
       "    </tr>\n",
       "    <tr>\n",
       "      <th>6</th>\n",
       "      <td>4</td>\n",
       "      <td>14</td>\n",
       "    </tr>\n",
       "    <tr>\n",
       "      <th>7</th>\n",
       "      <td>0</td>\n",
       "      <td>4</td>\n",
       "    </tr>\n",
       "    <tr>\n",
       "      <th>8</th>\n",
       "      <td>0</td>\n",
       "      <td>1</td>\n",
       "    </tr>\n",
       "  </tbody>\n",
       "</table>\n",
       "</div>"
      ],
      "text/plain": [
       "            vacant       \n",
       "               sum    len\n",
       "auction_all              \n",
       "0             5855  87980\n",
       "1             3067  18863\n",
       "2              703   3700\n",
       "3              108    466\n",
       "4               20    100\n",
       "5                3     22\n",
       "6                4     14\n",
       "7                0      4\n",
       "8                0      1"
      ]
     },
     "execution_count": 143,
     "metadata": {},
     "output_type": "execute_result"
    }
   ],
   "source": [
    "tem = sa[['parcel','ssold']].groupby('parcel').sum()\n",
    "tem.columns = ['auction_all']\n",
    "tem.loc[tem['auction_all'].isnull(),'auction_all'] = 0\n",
    "tci = pd.merge(tci, tem, \\\n",
    "              how='left', left_on='ppn', right_index=True)\n",
    "tci.loc[tci['auction_all'].isnull(),'auction_all'] = 0\n",
    "\n",
    "tci.loc[(tci.vacant>-1),['auction_all','vacant']].groupby('auction_all').agg([sum,len])"
   ]
  },
  {
   "cell_type": "code",
   "execution_count": 144,
   "metadata": {
    "collapsed": false
   },
   "outputs": [],
   "source": [
    "# tci[tci.auction_13.isnull()] = 0\n",
    "# tci[tci.auction_13 > 0] = 1\n",
    "# tci[tci.auction_all.isnull()] = 0\n",
    "# tci[tci.auction_all > 0] = 1"
   ]
  },
  {
   "cell_type": "markdown",
   "metadata": {},
   "source": [
    "## Tax bill"
   ]
  },
  {
   "cell_type": "code",
   "execution_count": 145,
   "metadata": {
    "collapsed": false
   },
   "outputs": [],
   "source": [
    "tb = pd.read_csv(path+'/data/clean_data/taxbill_dec14.csv', dtype=object)"
   ]
  },
  {
   "cell_type": "code",
   "execution_count": 146,
   "metadata": {
    "collapsed": false
   },
   "outputs": [
    {
     "data": {
      "text/html": [
       "<div>\n",
       "<table border=\"1\" class=\"dataframe\">\n",
       "  <thead>\n",
       "    <tr style=\"text-align: right;\">\n",
       "      <th></th>\n",
       "      <th>TAX_BILL_ID</th>\n",
       "      <th>TAX_YEAR</th>\n",
       "      <th>WHS_ID</th>\n",
       "      <th>PROPERTY_ID</th>\n",
       "      <th>PPN</th>\n",
       "      <th>PROPERTY_NUMBER</th>\n",
       "      <th>MACHINE_ID</th>\n",
       "      <th>EFFECTIVE_STATUS</th>\n",
       "      <th>VALUE_CHANGE_TIMESTAMP</th>\n",
       "      <th>PROPERTY_TYPE</th>\n",
       "      <th>...</th>\n",
       "      <th>LOCATION_UNIT_NUMBER</th>\n",
       "      <th>HOMESTEAD_ASSESSED_VALUE</th>\n",
       "      <th>SURPLUS_PAYMENT</th>\n",
       "      <th>OMITTED_TAX_PENALTY_1ST</th>\n",
       "      <th>OMITTED_TAX_PENALTY_2ND</th>\n",
       "      <th>AUDITOR_REFUND</th>\n",
       "      <th>TRASURER_REFUND</th>\n",
       "      <th>TIF_AMOUNT_1ST</th>\n",
       "      <th>TIF_AMOUNT_2ND</th>\n",
       "      <th>UPDATE_DATE</th>\n",
       "    </tr>\n",
       "  </thead>\n",
       "  <tbody>\n",
       "    <tr>\n",
       "      <th>0</th>\n",
       "      <td>284393728</td>\n",
       "      <td>2014</td>\n",
       "      <td>4287556</td>\n",
       "      <td>603364178</td>\n",
       "      <td>00707138</td>\n",
       "      <td>007-07-138</td>\n",
       "      <td>NaN</td>\n",
       "      <td>NaN</td>\n",
       "      <td>NaN</td>\n",
       "      <td>800</td>\n",
       "      <td>...</td>\n",
       "      <td>NaN</td>\n",
       "      <td>NaN</td>\n",
       "      <td>NaN</td>\n",
       "      <td>NaN</td>\n",
       "      <td>NaN</td>\n",
       "      <td>NaN</td>\n",
       "      <td>NaN</td>\n",
       "      <td>0</td>\n",
       "      <td>0</td>\n",
       "      <td>12/09/2014</td>\n",
       "    </tr>\n",
       "    <tr>\n",
       "      <th>1</th>\n",
       "      <td>284393729</td>\n",
       "      <td>2014</td>\n",
       "      <td>4287558</td>\n",
       "      <td>103364182</td>\n",
       "      <td>00707140</td>\n",
       "      <td>007-07-140</td>\n",
       "      <td>NaN</td>\n",
       "      <td>NaN</td>\n",
       "      <td>NaN</td>\n",
       "      <td>800</td>\n",
       "      <td>...</td>\n",
       "      <td>NaN</td>\n",
       "      <td>NaN</td>\n",
       "      <td>NaN</td>\n",
       "      <td>NaN</td>\n",
       "      <td>NaN</td>\n",
       "      <td>NaN</td>\n",
       "      <td>NaN</td>\n",
       "      <td>0</td>\n",
       "      <td>0</td>\n",
       "      <td>12/09/2014</td>\n",
       "    </tr>\n",
       "    <tr>\n",
       "      <th>2</th>\n",
       "      <td>284393730</td>\n",
       "      <td>2014</td>\n",
       "      <td>4287559</td>\n",
       "      <td>403364185</td>\n",
       "      <td>00707141</td>\n",
       "      <td>007-07-141</td>\n",
       "      <td>NaN</td>\n",
       "      <td>NaN</td>\n",
       "      <td>NaN</td>\n",
       "      <td>800</td>\n",
       "      <td>...</td>\n",
       "      <td>NaN</td>\n",
       "      <td>NaN</td>\n",
       "      <td>NaN</td>\n",
       "      <td>NaN</td>\n",
       "      <td>NaN</td>\n",
       "      <td>NaN</td>\n",
       "      <td>NaN</td>\n",
       "      <td>0</td>\n",
       "      <td>0</td>\n",
       "      <td>12/09/2014</td>\n",
       "    </tr>\n",
       "    <tr>\n",
       "      <th>3</th>\n",
       "      <td>284393731</td>\n",
       "      <td>2014</td>\n",
       "      <td>4287560</td>\n",
       "      <td>703364188</td>\n",
       "      <td>00707142</td>\n",
       "      <td>007-07-142</td>\n",
       "      <td>NaN</td>\n",
       "      <td>NaN</td>\n",
       "      <td>NaN</td>\n",
       "      <td>800</td>\n",
       "      <td>...</td>\n",
       "      <td>NaN</td>\n",
       "      <td>NaN</td>\n",
       "      <td>5.23</td>\n",
       "      <td>NaN</td>\n",
       "      <td>NaN</td>\n",
       "      <td>NaN</td>\n",
       "      <td>NaN</td>\n",
       "      <td>0</td>\n",
       "      <td>0</td>\n",
       "      <td>12/09/2014</td>\n",
       "    </tr>\n",
       "    <tr>\n",
       "      <th>4</th>\n",
       "      <td>284393733</td>\n",
       "      <td>2014</td>\n",
       "      <td>4287562</td>\n",
       "      <td>403364194</td>\n",
       "      <td>00707144</td>\n",
       "      <td>007-07-144</td>\n",
       "      <td>NaN</td>\n",
       "      <td>NaN</td>\n",
       "      <td>NaN</td>\n",
       "      <td>800</td>\n",
       "      <td>...</td>\n",
       "      <td>NaN</td>\n",
       "      <td>8750</td>\n",
       "      <td>NaN</td>\n",
       "      <td>NaN</td>\n",
       "      <td>NaN</td>\n",
       "      <td>NaN</td>\n",
       "      <td>NaN</td>\n",
       "      <td>0</td>\n",
       "      <td>0</td>\n",
       "      <td>12/09/2014</td>\n",
       "    </tr>\n",
       "  </tbody>\n",
       "</table>\n",
       "<p>5 rows × 147 columns</p>\n",
       "</div>"
      ],
      "text/plain": [
       "  TAX_BILL_ID TAX_YEAR   WHS_ID PROPERTY_ID       PPN PROPERTY_NUMBER  \\\n",
       "0   284393728     2014  4287556   603364178  00707138      007-07-138   \n",
       "1   284393729     2014  4287558   103364182  00707140      007-07-140   \n",
       "2   284393730     2014  4287559   403364185  00707141      007-07-141   \n",
       "3   284393731     2014  4287560   703364188  00707142      007-07-142   \n",
       "4   284393733     2014  4287562   403364194  00707144      007-07-144   \n",
       "\n",
       "  MACHINE_ID EFFECTIVE_STATUS VALUE_CHANGE_TIMESTAMP PROPERTY_TYPE  \\\n",
       "0        NaN              NaN                    NaN           800   \n",
       "1        NaN              NaN                    NaN           800   \n",
       "2        NaN              NaN                    NaN           800   \n",
       "3        NaN              NaN                    NaN           800   \n",
       "4        NaN              NaN                    NaN           800   \n",
       "\n",
       "      ...     LOCATION_UNIT_NUMBER HOMESTEAD_ASSESSED_VALUE SURPLUS_PAYMENT  \\\n",
       "0     ...                      NaN                      NaN             NaN   \n",
       "1     ...                      NaN                      NaN             NaN   \n",
       "2     ...                      NaN                      NaN             NaN   \n",
       "3     ...                      NaN                      NaN            5.23   \n",
       "4     ...                      NaN                     8750             NaN   \n",
       "\n",
       "  OMITTED_TAX_PENALTY_1ST OMITTED_TAX_PENALTY_2ND AUDITOR_REFUND  \\\n",
       "0                     NaN                     NaN            NaN   \n",
       "1                     NaN                     NaN            NaN   \n",
       "2                     NaN                     NaN            NaN   \n",
       "3                     NaN                     NaN            NaN   \n",
       "4                     NaN                     NaN            NaN   \n",
       "\n",
       "  TRASURER_REFUND TIF_AMOUNT_1ST TIF_AMOUNT_2ND UPDATE_DATE  \n",
       "0             NaN              0              0  12/09/2014  \n",
       "1             NaN              0              0  12/09/2014  \n",
       "2             NaN              0              0  12/09/2014  \n",
       "3             NaN              0              0  12/09/2014  \n",
       "4             NaN              0              0  12/09/2014  \n",
       "\n",
       "[5 rows x 147 columns]"
      ]
     },
     "execution_count": 146,
     "metadata": {},
     "output_type": "execute_result"
    }
   ],
   "source": [
    "tb.head()"
   ]
  },
  {
   "cell_type": "code",
   "execution_count": 147,
   "metadata": {
    "collapsed": true
   },
   "outputs": [],
   "source": [
    "tb = tb.fillna(0)"
   ]
  },
  {
   "cell_type": "code",
   "execution_count": 148,
   "metadata": {
    "collapsed": false
   },
   "outputs": [],
   "source": [
    "# plt.hist(t.loc[(t.vacant==0),'GRAND_TOTAL_BALANCE'].apply(float).values, bins = np.linspace(0,20000),alpha=0.5,normed=True);\n",
    "# plt.hist(t.loc[(t.vacant==1),'GRAND_TOTAL_BALANCE'].apply(float).values, bins = np.linspace(0,20000),alpha=0.5,normed=True);"
   ]
  },
  {
   "cell_type": "code",
   "execution_count": 149,
   "metadata": {
    "collapsed": false
   },
   "outputs": [],
   "source": [
    "# t.loc[(t.vacant>-1), ['LENDER_PROCESS_TYPE','vacant']].groupby('LENDER_PROCESS_TYPE').agg([sum,len])"
   ]
  },
  {
   "cell_type": "code",
   "execution_count": 150,
   "metadata": {
    "collapsed": false
   },
   "outputs": [],
   "source": [
    "# t.loc[t.LENDER_PROCESS_TYPE==0,'LENDER_PROCESS_TYPE'] = 'None'"
   ]
  },
  {
   "cell_type": "code",
   "execution_count": 151,
   "metadata": {
    "collapsed": false
   },
   "outputs": [],
   "source": [
    "tci = pd.merge(tci, tb[['PROPERTY_NUMBER','LENDER_PROCESS_TYPE','GRAND_TOTAL_BALANCE']], left_on='ppn', right_on='PROPERTY_NUMBER',how='left')"
   ]
  },
  {
   "cell_type": "code",
   "execution_count": 152,
   "metadata": {
    "collapsed": true
   },
   "outputs": [],
   "source": [
    "tci.loc[tci.LENDER_PROCESS_TYPE==0,'LENDER_PROCESS_TYPE'] = 'None'"
   ]
  },
  {
   "cell_type": "code",
   "execution_count": 153,
   "metadata": {
    "collapsed": false
   },
   "outputs": [
    {
     "data": {
      "text/plain": [
       "(122560, 85)"
      ]
     },
     "execution_count": 153,
     "metadata": {},
     "output_type": "execute_result"
    }
   ],
   "source": [
    "tci.shape"
   ]
  },
  {
   "cell_type": "code",
   "execution_count": 154,
   "metadata": {
    "collapsed": true
   },
   "outputs": [],
   "source": [
    "tci.to_csv(path+'/data/model_data/tci_2_3.csv',index=False)"
   ]
  },
  {
   "cell_type": "code",
   "execution_count": 155,
   "metadata": {
    "collapsed": false
   },
   "outputs": [
    {
     "data": {
      "text/plain": [
       "(122560, 85)"
      ]
     },
     "execution_count": 155,
     "metadata": {},
     "output_type": "execute_result"
    }
   ],
   "source": [
    "tci.shape"
   ]
  },
  {
   "cell_type": "code",
   "execution_count": null,
   "metadata": {
    "collapsed": true
   },
   "outputs": [],
   "source": []
  }
 ],
 "metadata": {
  "kernelspec": {
   "display_name": "Python 2",
   "language": "python",
   "name": "python2"
  },
  "language_info": {
   "codemirror_mode": {
    "name": "ipython",
    "version": 2
   },
   "file_extension": ".py",
   "mimetype": "text/x-python",
   "name": "python",
   "nbconvert_exporter": "python",
   "pygments_lexer": "ipython2",
   "version": "2.7.10"
  }
 },
 "nbformat": 4,
 "nbformat_minor": 0
}
