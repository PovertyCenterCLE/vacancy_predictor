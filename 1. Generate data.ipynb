{
 "cells": [
  {
   "cell_type": "markdown",
   "metadata": {},
   "source": [
    "# Generate data on TCI Parcels\n",
    "\n",
    "Parcels surveyed in March, 2014 so all data pulled should come from before that."
   ]
  },
  {
   "cell_type": "code",
   "execution_count": 2,
   "metadata": {
    "collapsed": true
   },
   "outputs": [],
   "source": [
    "import pandas as pd\n",
    "import csv\n",
    "import numpy as np"
   ]
  },
  {
   "cell_type": "markdown",
   "metadata": {},
   "source": [
    "## TCI survyed parcels\n",
    "* PPN\n",
    "* Vacant or not"
   ]
  },
  {
   "cell_type": "code",
   "execution_count": 2,
   "metadata": {
    "collapsed": false
   },
   "outputs": [],
   "source": [
    "tci = pd.read_csv('original_data/tci.csv')\n",
    "ppns = set(tci['Parcel Number'])\n",
    "\n",
    "def vacant(x):\n",
    "    if x in ['Vacant Structure Open', 'Vacant Structure Secure']:\n",
    "        return 1\n",
    "    else:\n",
    "        return 0\n",
    "    \n",
    "tci['vacant'] = tci.Category.apply(vacant)\n",
    "tci.to_csv('clean_data/tci.csv', index=False)"
   ]
  },
  {
   "cell_type": "code",
   "execution_count": 4,
   "metadata": {
    "collapsed": false
   },
   "outputs": [
    {
     "data": {
      "text/plain": [
       "(1555, 13500)"
      ]
     },
     "execution_count": 4,
     "metadata": {},
     "output_type": "execute_result"
    }
   ],
   "source": [
    "sum(tci.vacant), len(tci)"
   ]
  },
  {
   "cell_type": "markdown",
   "metadata": {},
   "source": [
    "## Residential characteristics \n",
    "Filename: ```res2013.csv```"
   ]
  },
  {
   "cell_type": "code",
   "execution_count": 4,
   "metadata": {
    "collapsed": true
   },
   "outputs": [],
   "source": [
    "res = pd.read_csv('original_data/res2013.csv')"
   ]
  },
  {
   "cell_type": "code",
   "execution_count": 3,
   "metadata": {
    "collapsed": false
   },
   "outputs": [
    {
     "ename": "KeyboardInterrupt",
     "evalue": "",
     "output_type": "error",
     "traceback": [
      "\u001b[0;31m---------------------------------------------------------------------------\u001b[0m",
      "\u001b[0;31mKeyboardInterrupt\u001b[0m                         Traceback (most recent call last)",
      "\u001b[0;32m<ipython-input-3-ae6bfa10a2f2>\u001b[0m in \u001b[0;36m<module>\u001b[0;34m()\u001b[0m\n\u001b[0;32m----> 1\u001b[0;31m \u001b[0mres\u001b[0m \u001b[0;34m=\u001b[0m \u001b[0mpd\u001b[0m\u001b[0;34m.\u001b[0m\u001b[0mread_csv\u001b[0m\u001b[0;34m(\u001b[0m\u001b[0;34m'original_data/res2013.csv'\u001b[0m\u001b[0;34m)\u001b[0m\u001b[0;34m\u001b[0m\u001b[0m\n\u001b[0m\u001b[1;32m      2\u001b[0m \u001b[0mres\u001b[0m \u001b[0;34m=\u001b[0m \u001b[0mres\u001b[0m\u001b[0;34m[\u001b[0m\u001b[0mres\u001b[0m\u001b[0;34m.\u001b[0m\u001b[0mparcel\u001b[0m\u001b[0;34m.\u001b[0m\u001b[0misin\u001b[0m\u001b[0;34m(\u001b[0m\u001b[0mppns\u001b[0m\u001b[0;34m)\u001b[0m\u001b[0;34m]\u001b[0m\u001b[0;34m\u001b[0m\u001b[0m\n\u001b[1;32m      3\u001b[0m \u001b[0;34m\u001b[0m\u001b[0m\n\u001b[1;32m      4\u001b[0m \u001b[0mres\u001b[0m\u001b[0;34m.\u001b[0m\u001b[0minfo\u001b[0m\u001b[0;34m(\u001b[0m\u001b[0;34m)\u001b[0m\u001b[0;34m\u001b[0m\u001b[0m\n",
      "\u001b[0;32m//anaconda/lib/python2.7/site-packages/pandas/io/parsers.pyc\u001b[0m in \u001b[0;36mparser_f\u001b[0;34m(filepath_or_buffer, sep, dialect, compression, doublequote, escapechar, quotechar, quoting, skipinitialspace, lineterminator, header, index_col, names, prefix, skiprows, skipfooter, skip_footer, na_values, na_fvalues, true_values, false_values, delimiter, converters, dtype, usecols, engine, delim_whitespace, as_recarray, na_filter, compact_ints, use_unsigned, low_memory, buffer_lines, warn_bad_lines, error_bad_lines, keep_default_na, thousands, comment, decimal, parse_dates, keep_date_col, dayfirst, date_parser, memory_map, float_precision, nrows, iterator, chunksize, verbose, encoding, squeeze, mangle_dupe_cols, tupleize_cols, infer_datetime_format, skip_blank_lines)\u001b[0m\n\u001b[1;32m    463\u001b[0m                     skip_blank_lines=skip_blank_lines)\n\u001b[1;32m    464\u001b[0m \u001b[0;34m\u001b[0m\u001b[0m\n\u001b[0;32m--> 465\u001b[0;31m         \u001b[0;32mreturn\u001b[0m \u001b[0m_read\u001b[0m\u001b[0;34m(\u001b[0m\u001b[0mfilepath_or_buffer\u001b[0m\u001b[0;34m,\u001b[0m \u001b[0mkwds\u001b[0m\u001b[0;34m)\u001b[0m\u001b[0;34m\u001b[0m\u001b[0m\n\u001b[0m\u001b[1;32m    466\u001b[0m \u001b[0;34m\u001b[0m\u001b[0m\n\u001b[1;32m    467\u001b[0m     \u001b[0mparser_f\u001b[0m\u001b[0;34m.\u001b[0m\u001b[0m__name__\u001b[0m \u001b[0;34m=\u001b[0m \u001b[0mname\u001b[0m\u001b[0;34m\u001b[0m\u001b[0m\n",
      "\u001b[0;32m//anaconda/lib/python2.7/site-packages/pandas/io/parsers.pyc\u001b[0m in \u001b[0;36m_read\u001b[0;34m(filepath_or_buffer, kwds)\u001b[0m\n\u001b[1;32m    249\u001b[0m         \u001b[0;32mreturn\u001b[0m \u001b[0mparser\u001b[0m\u001b[0;34m\u001b[0m\u001b[0m\n\u001b[1;32m    250\u001b[0m \u001b[0;34m\u001b[0m\u001b[0m\n\u001b[0;32m--> 251\u001b[0;31m     \u001b[0;32mreturn\u001b[0m \u001b[0mparser\u001b[0m\u001b[0;34m.\u001b[0m\u001b[0mread\u001b[0m\u001b[0;34m(\u001b[0m\u001b[0;34m)\u001b[0m\u001b[0;34m\u001b[0m\u001b[0m\n\u001b[0m\u001b[1;32m    252\u001b[0m \u001b[0;34m\u001b[0m\u001b[0m\n\u001b[1;32m    253\u001b[0m _parser_defaults = {\n",
      "\u001b[0;32m//anaconda/lib/python2.7/site-packages/pandas/io/parsers.pyc\u001b[0m in \u001b[0;36mread\u001b[0;34m(self, nrows)\u001b[0m\n\u001b[1;32m    708\u001b[0m                 \u001b[0;32mraise\u001b[0m \u001b[0mValueError\u001b[0m\u001b[0;34m(\u001b[0m\u001b[0;34m'skip_footer not supported for iteration'\u001b[0m\u001b[0;34m)\u001b[0m\u001b[0;34m\u001b[0m\u001b[0m\n\u001b[1;32m    709\u001b[0m \u001b[0;34m\u001b[0m\u001b[0m\n\u001b[0;32m--> 710\u001b[0;31m         \u001b[0mret\u001b[0m \u001b[0;34m=\u001b[0m \u001b[0mself\u001b[0m\u001b[0;34m.\u001b[0m\u001b[0m_engine\u001b[0m\u001b[0;34m.\u001b[0m\u001b[0mread\u001b[0m\u001b[0;34m(\u001b[0m\u001b[0mnrows\u001b[0m\u001b[0;34m)\u001b[0m\u001b[0;34m\u001b[0m\u001b[0m\n\u001b[0m\u001b[1;32m    711\u001b[0m \u001b[0;34m\u001b[0m\u001b[0m\n\u001b[1;32m    712\u001b[0m         \u001b[0;32mif\u001b[0m \u001b[0mself\u001b[0m\u001b[0;34m.\u001b[0m\u001b[0moptions\u001b[0m\u001b[0;34m.\u001b[0m\u001b[0mget\u001b[0m\u001b[0;34m(\u001b[0m\u001b[0;34m'as_recarray'\u001b[0m\u001b[0;34m)\u001b[0m\u001b[0;34m:\u001b[0m\u001b[0;34m\u001b[0m\u001b[0m\n",
      "\u001b[0;32m//anaconda/lib/python2.7/site-packages/pandas/io/parsers.pyc\u001b[0m in \u001b[0;36mread\u001b[0;34m(self, nrows)\u001b[0m\n\u001b[1;32m   1152\u001b[0m \u001b[0;34m\u001b[0m\u001b[0m\n\u001b[1;32m   1153\u001b[0m         \u001b[0;32mtry\u001b[0m\u001b[0;34m:\u001b[0m\u001b[0;34m\u001b[0m\u001b[0m\n\u001b[0;32m-> 1154\u001b[0;31m             \u001b[0mdata\u001b[0m \u001b[0;34m=\u001b[0m \u001b[0mself\u001b[0m\u001b[0;34m.\u001b[0m\u001b[0m_reader\u001b[0m\u001b[0;34m.\u001b[0m\u001b[0mread\u001b[0m\u001b[0;34m(\u001b[0m\u001b[0mnrows\u001b[0m\u001b[0;34m)\u001b[0m\u001b[0;34m\u001b[0m\u001b[0m\n\u001b[0m\u001b[1;32m   1155\u001b[0m         \u001b[0;32mexcept\u001b[0m \u001b[0mStopIteration\u001b[0m\u001b[0;34m:\u001b[0m\u001b[0;34m\u001b[0m\u001b[0m\n\u001b[1;32m   1156\u001b[0m             \u001b[0;32mif\u001b[0m \u001b[0mnrows\u001b[0m \u001b[0;32mis\u001b[0m \u001b[0mNone\u001b[0m\u001b[0;34m:\u001b[0m\u001b[0;34m\u001b[0m\u001b[0m\n",
      "\u001b[0;32mpandas/parser.pyx\u001b[0m in \u001b[0;36mpandas.parser.TextReader.read (pandas/parser.c:7391)\u001b[0;34m()\u001b[0m\n",
      "\u001b[0;32mpandas/parser.pyx\u001b[0m in \u001b[0;36mpandas.parser.TextReader._read_low_memory (pandas/parser.c:7989)\u001b[0;34m()\u001b[0m\n",
      "\u001b[0;32mpandas/parser.pyx\u001b[0m in \u001b[0;36mpandas.parser._concatenate_chunks (pandas/parser.c:21982)\u001b[0;34m()\u001b[0m\n",
      "\u001b[0;32m//anaconda/lib/python2.7/site-packages/numpy/core/numerictypes.pyc\u001b[0m in \u001b[0;36mfind_common_type\u001b[0;34m(array_types, scalar_types)\u001b[0m\n\u001b[1;32m    968\u001b[0m \u001b[0m_register_types\u001b[0m\u001b[0;34m(\u001b[0m\u001b[0;34m)\u001b[0m\u001b[0;34m\u001b[0m\u001b[0m\n\u001b[1;32m    969\u001b[0m \u001b[0;34m\u001b[0m\u001b[0m\n\u001b[0;32m--> 970\u001b[0;31m \u001b[0;32mdef\u001b[0m \u001b[0mfind_common_type\u001b[0m\u001b[0;34m(\u001b[0m\u001b[0marray_types\u001b[0m\u001b[0;34m,\u001b[0m \u001b[0mscalar_types\u001b[0m\u001b[0;34m)\u001b[0m\u001b[0;34m:\u001b[0m\u001b[0;34m\u001b[0m\u001b[0m\n\u001b[0m\u001b[1;32m    971\u001b[0m     \"\"\"\n\u001b[1;32m    972\u001b[0m     \u001b[0mDetermine\u001b[0m \u001b[0mcommon\u001b[0m \u001b[0mtype\u001b[0m \u001b[0mfollowing\u001b[0m \u001b[0mstandard\u001b[0m \u001b[0mcoercion\u001b[0m \u001b[0mrules\u001b[0m\u001b[0;34m.\u001b[0m\u001b[0;34m\u001b[0m\u001b[0m\n",
      "\u001b[0;31mKeyboardInterrupt\u001b[0m: "
     ]
    }
   ],
   "source": [
    "res = res[res.parcel.isin(ppns)]\n",
    "\n",
    "res.info()"
   ]
  },
  {
   "cell_type": "markdown",
   "metadata": {},
   "source": [
    "We'll take these attributes into our dataset."
   ]
  },
  {
   "cell_type": "code",
   "execution_count": 9,
   "metadata": {
    "collapsed": false
   },
   "outputs": [],
   "source": [
    "cols = ['STYLE','parcel','ryrbuilt','eyrbuilt','occup','condtion','rextwall','heat','air','plumbfix','livatot']"
   ]
  },
  {
   "cell_type": "code",
   "execution_count": 10,
   "metadata": {
    "collapsed": false
   },
   "outputs": [
    {
     "data": {
      "text/html": [
       "<div style=\"max-height:1000px;max-width:1500px;overflow:auto;\">\n",
       "<table border=\"1\" class=\"dataframe\">\n",
       "  <thead>\n",
       "    <tr style=\"text-align: right;\">\n",
       "      <th></th>\n",
       "      <th>STYLE</th>\n",
       "      <th>parcel</th>\n",
       "      <th>ryrbuilt</th>\n",
       "      <th>eyrbuilt</th>\n",
       "      <th>occup</th>\n",
       "      <th>condtion</th>\n",
       "      <th>rextwall</th>\n",
       "      <th>heat</th>\n",
       "      <th>air</th>\n",
       "      <th>plumbfix</th>\n",
       "      <th>livatot</th>\n",
       "    </tr>\n",
       "  </thead>\n",
       "  <tbody>\n",
       "    <tr>\n",
       "      <th>83077</th>\n",
       "      <td> Colonial</td>\n",
       "      <td> 121-31-015</td>\n",
       "      <td> 1897</td>\n",
       "      <td> 1956</td>\n",
       "      <td> 1 family</td>\n",
       "      <td>   Average</td>\n",
       "      <td> Aluminum/Vinyl (r)</td>\n",
       "      <td> Forced air</td>\n",
       "      <td> None</td>\n",
       "      <td>  5</td>\n",
       "      <td> 1344</td>\n",
       "    </tr>\n",
       "    <tr>\n",
       "      <th>83079</th>\n",
       "      <td> Colonial</td>\n",
       "      <td> 121-31-019</td>\n",
       "      <td> 1913</td>\n",
       "      <td> 1966</td>\n",
       "      <td> 2 family</td>\n",
       "      <td>      Good</td>\n",
       "      <td>          Frame (r)</td>\n",
       "      <td> Forced air</td>\n",
       "      <td> None</td>\n",
       "      <td> 10</td>\n",
       "      <td> 1826</td>\n",
       "    </tr>\n",
       "    <tr>\n",
       "      <th>83080</th>\n",
       "      <td> Colonial</td>\n",
       "      <td> 121-31-020</td>\n",
       "      <td> 1910</td>\n",
       "      <td> 1956</td>\n",
       "      <td> 2 family</td>\n",
       "      <td>   Average</td>\n",
       "      <td>          Frame (r)</td>\n",
       "      <td> Forced air</td>\n",
       "      <td> None</td>\n",
       "      <td> 10</td>\n",
       "      <td> 2112</td>\n",
       "    </tr>\n",
       "    <tr>\n",
       "      <th>83081</th>\n",
       "      <td> Bungalow</td>\n",
       "      <td> 121-32-005</td>\n",
       "      <td> 1900</td>\n",
       "      <td> 1956</td>\n",
       "      <td> 1 family</td>\n",
       "      <td>   Average</td>\n",
       "      <td>          Frame (r)</td>\n",
       "      <td> Forced air</td>\n",
       "      <td> None</td>\n",
       "      <td>  5</td>\n",
       "      <td> 1256</td>\n",
       "    </tr>\n",
       "    <tr>\n",
       "      <th>83082</th>\n",
       "      <td>    Ranch</td>\n",
       "      <td> 121-32-008</td>\n",
       "      <td> 1954</td>\n",
       "      <td> 1926</td>\n",
       "      <td> 1 family</td>\n",
       "      <td> Very poor</td>\n",
       "      <td>     Concrete block</td>\n",
       "      <td> Forced air</td>\n",
       "      <td> None</td>\n",
       "      <td>  5</td>\n",
       "      <td>  832</td>\n",
       "    </tr>\n",
       "  </tbody>\n",
       "</table>\n",
       "</div>"
      ],
      "text/plain": [
       "          STYLE      parcel  ryrbuilt  eyrbuilt     occup   condtion  \\\n",
       "83077  Colonial  121-31-015      1897      1956  1 family    Average   \n",
       "83079  Colonial  121-31-019      1913      1966  2 family       Good   \n",
       "83080  Colonial  121-31-020      1910      1956  2 family    Average   \n",
       "83081  Bungalow  121-32-005      1900      1956  1 family    Average   \n",
       "83082     Ranch  121-32-008      1954      1926  1 family  Very poor   \n",
       "\n",
       "                 rextwall        heat   air  plumbfix  livatot  \n",
       "83077  Aluminum/Vinyl (r)  Forced air  None         5     1344  \n",
       "83079           Frame (r)  Forced air  None        10     1826  \n",
       "83080           Frame (r)  Forced air  None        10     2112  \n",
       "83081           Frame (r)  Forced air  None         5     1256  \n",
       "83082      Concrete block  Forced air  None         5      832  "
      ]
     },
     "execution_count": 10,
     "metadata": {},
     "output_type": "execute_result"
    }
   ],
   "source": [
    "res[cols].head()"
   ]
  },
  {
   "cell_type": "code",
   "execution_count": 11,
   "metadata": {
    "collapsed": false
   },
   "outputs": [],
   "source": [
    "res[cols].to_csv('clean_data/res_tci.csv',index=False)"
   ]
  },
  {
   "cell_type": "markdown",
   "metadata": {},
   "source": [
    "##Tax bill\n",
    "Filename: ```feb14_tci.csv```"
   ]
  },
  {
   "cell_type": "code",
   "execution_count": 72,
   "metadata": {
    "collapsed": false
   },
   "outputs": [],
   "source": [
    "infile = 'original_data/aug13.csv'\n",
    "outfile = 'clean_data/aug13_tci.csv'\n",
    "\n",
    "with open(infile, 'r') as fin, open(outfile, 'w') as fout:\n",
    "    write_to = csv.writer(fout, lineterminator='\\n')\n",
    "    header = next(csv.reader(fin))\n",
    "    write_to.writerow(header)\n",
    "    for row in csv.reader(fin):\n",
    "#         row\n",
    "        if len(row) > 91:\n",
    "            if row[91] in ppns:\n",
    "                write_to.writerow(row)"
   ]
  },
  {
   "cell_type": "code",
   "execution_count": 74,
   "metadata": {
    "collapsed": false
   },
   "outputs": [],
   "source": [
    "temp = pd.read_csv('clean_data/aug13_tci.csv')"
   ]
  },
  {
   "cell_type": "code",
   "execution_count": 76,
   "metadata": {
    "collapsed": false
   },
   "outputs": [
    {
     "data": {
      "text/plain": [
       "(13333, 149)"
      ]
     },
     "execution_count": 76,
     "metadata": {},
     "output_type": "execute_result"
    }
   ],
   "source": [
    "temp.shape"
   ]
  },
  {
   "cell_type": "code",
   "execution_count": 58,
   "metadata": {
    "collapsed": false
   },
   "outputs": [],
   "source": [
    "# tb = pd.read_csv('original_data/feb14.csv')"
   ]
  },
  {
   "cell_type": "code",
   "execution_count": 16,
   "metadata": {
    "collapsed": false
   },
   "outputs": [
    {
     "data": {
      "text/plain": [
       "(6075, 147)"
      ]
     },
     "execution_count": 16,
     "metadata": {},
     "output_type": "execute_result"
    }
   ],
   "source": [
    "tb = pd.read_csv('clean_data/feb14_tci.csv')\n",
    "tb.shape"
   ]
  },
  {
   "cell_type": "code",
   "execution_count": 18,
   "metadata": {
    "collapsed": false,
    "scrolled": true
   },
   "outputs": [
    {
     "name": "stdout",
     "output_type": "stream",
     "text": [
      "['TAX_BILL_ID' 'TAX_YEAR' 'WHS_ID' 'PROPERTY_ID' 'PPN' 'PROPERTY_NUMBER'\n",
      " 'MACHINE_ID' 'EFFECTIVE_STATUS' 'VALUE_CHANGE_TIMESTAMP' 'PROPERTY_TYPE'\n",
      " 'TAX_DETAIL_ID' 'TAX_DETAIL_CHARGE_ID' 'TAXSET_ID' 'TAXSET_CODE'\n",
      " 'TAXSET_DESCR' 'CLASSIFICATION_ID' 'CLASSIFICATION_DESCR' 'TREASURER_CODE'\n",
      " 'DEEDED_OWNER_ID' 'PRIMARY_OWNER_NAME' 'SECONDARY_OWNER_NAME'\n",
      " 'LOCATION_STREET_DIR' 'LOCATION_STREET_NO' 'LOCATION_STREET_NAME'\n",
      " 'LOCATION_STREET_SUFFIX' 'LOCATION_CITY' 'LOCATION_STATE'\n",
      " 'LOCATION_ZIPCODE' 'MAILNAME' 'MAIL_STREET_NUMBER' 'MAIL_STREET_DIRECTION'\n",
      " 'MAIL_STREET_NAME' 'MAIL_STREET_SUFFIX' 'MAIL_ATTENTION_LINE'\n",
      " 'MAIL_SECONDARY_ADDRESS' 'MAIL_CITY' 'MAIL_STATE' 'MAIL_COUNTRY'\n",
      " 'MAIL_ZIPCODE' 'BANK_ID' 'LENDER_CODE' 'LENDER' 'LENDER_PROCESS_TYPE'\n",
      " 'TAX_ASSESSED_LAND' 'TAX_ASSESSED_IMPROVEMENT' 'TAX_ASSESSED_TOTAL'\n",
      " 'TAX_MARKET_LAND' 'TAX_MARKET_IMPROVEMENT' 'TAX_MARKET_TOTAL'\n",
      " 'TIF_ASSESSED_LAND' 'TIF_ASSESSED_IMPROVEMENT' 'TIF_ASSESSED_TOTAL'\n",
      " 'TIF_MARKET_LAND' 'TIF_MARKET_IMPROVEMENT' 'TIF_MARKET_TOTAL'\n",
      " 'HOMESTEAD_MARKET_VALUE' 'BILL_NUMBER' 'FULL_RATE' 'REDUCTION_FACTOR'\n",
      " 'EFFECTIVE_RATE' 'INSTALLMENT_DUE_DATE_1ST' 'GROSS_TAX_AMOUNT_1ST'\n",
      " 'REDUCTION_CREDIT_1ST' 'SUBTOTAL_1ST' 'ROLLBACK_CREDIT_1ST'\n",
      " 'TWOANDONEHALF_CREDIT_1ST' 'HOMESTEAD_CREDIT_1ST' 'OMITTED_TAX_1ST'\n",
      " 'OCR_1ST' 'CONTRACT_AMOUNT_1ST' 'ESCROW_ACCOUNT_NUMBER'\n",
      " 'ESCROW_PAYMENTS_1ST' 'INSTALLMENT_DUE_DATE_2ND' 'GROSS_TAX_AMOUNT_2ND'\n",
      " 'REDUCTION_CREDIT_2ND' 'SUBTOTAL_2ND' 'ROLLBACK_CREDIT_2ND'\n",
      " 'TWOANDONEHALF_CREDIT_2ND' 'HOMESTEAD_CREDIT_2ND' 'OMITTED_TAX_2ND'\n",
      " 'OCR_2ND' 'CONTRACT_AMOUNT_2ND' 'ESCROW_PAYMENTS_2ND' 'NET_TAX_1ST'\n",
      " 'NET_TAX_2ND' 'TAX_FEE_1ST' 'TAX_FEE_2ND' 'TAX_PENALTY_1ST'\n",
      " 'TAX_PENALTY_2ND' 'NET_SPA_CHARGE_1ST' 'NET_SPA_CHARGE_2ND' 'SPA_FEE_1ST'\n",
      " 'SPA_FEE_2ND' 'SPA_TOTAL_PENALTY_1ST' 'SPA_TOTAL_PENALTY_2ND'\n",
      " 'NET_TAX_DELQ_OWED' 'NET_TAX_DELQ_PAID' 'NET_TAX_DELQ_DUE'\n",
      " 'NET_TAX_OWED_1ST' 'NET_TAX_PAID_1ST' 'NET_TAX_DUE_1ST' 'NET_TAX_OWED_2ND'\n",
      " 'NET_TAX_PAID_2ND' 'NET_TAX_DUE_2ND' 'NET_SPA_DELQ_OWED'\n",
      " 'NET_SPA_DELQ_PAID' 'NET_SPA_DELQ_DUE' 'NET_SPA_OWED_1ST'\n",
      " 'NET_SPA_PAID_1ST' 'NET_SPA_DUE_1ST' 'NET_SPA_OWED_2ND' 'NET_SPA_PAID_2ND'\n",
      " 'NET_SPA_DUE_2ND' 'TOTAL_NET_DELQ_OWED' 'TOTAL_NET_DELQ_PAID'\n",
      " 'TOTAL_NET_DELQ_BALANCE' 'TOTAL_NET_OWED_1ST' 'TOTAL_NET_PAID_1ST'\n",
      " 'TOTAL_NET_BALANCE_OWED_1ST' 'TOTAL_NET_OWED_2ND' 'TOTAL_NET_PAID_2ND'\n",
      " 'TOTAL_NET_BALANCE_OWED_2ND' 'GRAND_TOTAL_OWED' 'GRAND_TOTAL_PAID'\n",
      " 'GRAND_TOTAL_BALANCE' 'CONTRACT_FLAG' 'ESCROW_FLAG' 'ROLLBACK_FLAG'\n",
      " 'HOMESTEAD_FLAG' 'FORECLOSURE_FLAG' 'PAYMENT_PLAN_FLAG' 'CERT_PEND_FLAG'\n",
      " 'CERT_SOLD_FLAG' 'BILL_TYPE' 'BOR_STATUS' 'NOT_CREATE_FLAG' 'PRINT_ORDER'\n",
      " 'LOCATION_UNIT_NUMBER' 'HOMESTEAD_ASSESSED_VALUE' 'SURPLUS_PAYMENT'\n",
      " 'OMITTED_TAX_PENALTY_1ST' 'OMITTED_TAX_PENALTY_2ND' 'AUDITOR_REFUND'\n",
      " 'TRASURER_REFUND' 'TIF_AMOUNT_1ST' 'TIF_AMOUNT_2ND' 'UPDATE_DATE']\n"
     ]
    }
   ],
   "source": [
    "print tb.columns.values"
   ]
  },
  {
   "cell_type": "markdown",
   "metadata": {},
   "source": [
    "Notes:\n",
    "* Property type is 800 for all entries\n",
    "* Homestead/check mailing addresses for owner occupancy\n",
    "* TOTAL_NET_DELQ_BALANCE := certified deliquent taxes\n",
    "* Grand total balance?"
   ]
  },
  {
   "cell_type": "code",
   "execution_count": 19,
   "metadata": {
    "collapsed": false,
    "scrolled": true
   },
   "outputs": [
    {
     "data": {
      "text/html": [
       "<div style=\"max-height:1000px;max-width:1500px;overflow:auto;\">\n",
       "<table border=\"1\" class=\"dataframe\">\n",
       "  <thead>\n",
       "    <tr style=\"text-align: right;\">\n",
       "      <th></th>\n",
       "      <th>TOTAL_NET_DELQ_BALANCE</th>\n",
       "      <th>TOTAL_NET_BALANCE_OWED_1ST</th>\n",
       "      <th>TOTAL_NET_BALANCE_OWED_2ND</th>\n",
       "      <th>GRAND_TOTAL_BALANCE</th>\n",
       "    </tr>\n",
       "  </thead>\n",
       "  <tbody>\n",
       "    <tr>\n",
       "      <th>0   </th>\n",
       "      <td>     0.00</td>\n",
       "      <td>    0.00</td>\n",
       "      <td>  113.04</td>\n",
       "      <td>   113.04</td>\n",
       "    </tr>\n",
       "    <tr>\n",
       "      <th>1   </th>\n",
       "      <td>     0.00</td>\n",
       "      <td>    0.00</td>\n",
       "      <td>  655.43</td>\n",
       "      <td>   655.43</td>\n",
       "    </tr>\n",
       "    <tr>\n",
       "      <th>2   </th>\n",
       "      <td>     0.00</td>\n",
       "      <td>    0.00</td>\n",
       "      <td>   28.99</td>\n",
       "      <td>    28.99</td>\n",
       "    </tr>\n",
       "    <tr>\n",
       "      <th>3   </th>\n",
       "      <td>  5169.85</td>\n",
       "      <td>  577.85</td>\n",
       "      <td>  550.32</td>\n",
       "      <td>  6298.02</td>\n",
       "    </tr>\n",
       "    <tr>\n",
       "      <th>4   </th>\n",
       "      <td>     0.00</td>\n",
       "      <td>    0.00</td>\n",
       "      <td>  308.39</td>\n",
       "      <td>   308.39</td>\n",
       "    </tr>\n",
       "    <tr>\n",
       "      <th>5   </th>\n",
       "      <td>     0.00</td>\n",
       "      <td>    0.00</td>\n",
       "      <td>    0.00</td>\n",
       "      <td>     0.00</td>\n",
       "    </tr>\n",
       "    <tr>\n",
       "      <th>6   </th>\n",
       "      <td>     0.00</td>\n",
       "      <td>    0.00</td>\n",
       "      <td>    0.00</td>\n",
       "      <td>     0.00</td>\n",
       "    </tr>\n",
       "    <tr>\n",
       "      <th>7   </th>\n",
       "      <td>     0.00</td>\n",
       "      <td>    0.00</td>\n",
       "      <td>  610.44</td>\n",
       "      <td>   610.44</td>\n",
       "    </tr>\n",
       "    <tr>\n",
       "      <th>8   </th>\n",
       "      <td>   484.90</td>\n",
       "      <td>  466.91</td>\n",
       "      <td>  444.67</td>\n",
       "      <td>  1396.48</td>\n",
       "    </tr>\n",
       "    <tr>\n",
       "      <th>9   </th>\n",
       "      <td>     0.00</td>\n",
       "      <td>    0.00</td>\n",
       "      <td>  526.58</td>\n",
       "      <td>   526.58</td>\n",
       "    </tr>\n",
       "    <tr>\n",
       "      <th>10  </th>\n",
       "      <td>     0.00</td>\n",
       "      <td>    0.00</td>\n",
       "      <td>    0.00</td>\n",
       "      <td>     0.00</td>\n",
       "    </tr>\n",
       "    <tr>\n",
       "      <th>11  </th>\n",
       "      <td>   558.99</td>\n",
       "      <td>  214.75</td>\n",
       "      <td>  404.52</td>\n",
       "      <td>  1178.26</td>\n",
       "    </tr>\n",
       "    <tr>\n",
       "      <th>12  </th>\n",
       "      <td>   345.21</td>\n",
       "      <td>  101.96</td>\n",
       "      <td>  147.10</td>\n",
       "      <td>   594.27</td>\n",
       "    </tr>\n",
       "    <tr>\n",
       "      <th>13  </th>\n",
       "      <td>     0.00</td>\n",
       "      <td>    0.00</td>\n",
       "      <td>    0.00</td>\n",
       "      <td>     0.00</td>\n",
       "    </tr>\n",
       "    <tr>\n",
       "      <th>14  </th>\n",
       "      <td>  5894.31</td>\n",
       "      <td> 1335.64</td>\n",
       "      <td> 1272.03</td>\n",
       "      <td>  8501.98</td>\n",
       "    </tr>\n",
       "    <tr>\n",
       "      <th>15  </th>\n",
       "      <td>     0.00</td>\n",
       "      <td>    0.00</td>\n",
       "      <td>  581.30</td>\n",
       "      <td>   581.30</td>\n",
       "    </tr>\n",
       "    <tr>\n",
       "      <th>16  </th>\n",
       "      <td>     0.00</td>\n",
       "      <td>    0.00</td>\n",
       "      <td>    0.00</td>\n",
       "      <td>     0.00</td>\n",
       "    </tr>\n",
       "    <tr>\n",
       "      <th>17  </th>\n",
       "      <td>     0.00</td>\n",
       "      <td>    0.00</td>\n",
       "      <td>    0.00</td>\n",
       "      <td>     0.00</td>\n",
       "    </tr>\n",
       "    <tr>\n",
       "      <th>18  </th>\n",
       "      <td>  3489.22</td>\n",
       "      <td>  493.76</td>\n",
       "      <td>  470.25</td>\n",
       "      <td>  4453.23</td>\n",
       "    </tr>\n",
       "    <tr>\n",
       "      <th>19  </th>\n",
       "      <td>   772.70</td>\n",
       "      <td>   26.08</td>\n",
       "      <td>   24.84</td>\n",
       "      <td>   823.62</td>\n",
       "    </tr>\n",
       "    <tr>\n",
       "      <th>20  </th>\n",
       "      <td>     0.00</td>\n",
       "      <td>    0.00</td>\n",
       "      <td>    0.00</td>\n",
       "      <td>     0.00</td>\n",
       "    </tr>\n",
       "    <tr>\n",
       "      <th>21  </th>\n",
       "      <td>     0.00</td>\n",
       "      <td>    0.00</td>\n",
       "      <td>    0.00</td>\n",
       "      <td>     0.00</td>\n",
       "    </tr>\n",
       "    <tr>\n",
       "      <th>22  </th>\n",
       "      <td>     0.00</td>\n",
       "      <td>    0.00</td>\n",
       "      <td>   42.33</td>\n",
       "      <td>    42.33</td>\n",
       "    </tr>\n",
       "    <tr>\n",
       "      <th>23  </th>\n",
       "      <td>     0.00</td>\n",
       "      <td>    0.00</td>\n",
       "      <td>  565.86</td>\n",
       "      <td>   565.86</td>\n",
       "    </tr>\n",
       "    <tr>\n",
       "      <th>24  </th>\n",
       "      <td>     0.00</td>\n",
       "      <td>    0.00</td>\n",
       "      <td>  424.05</td>\n",
       "      <td>   424.05</td>\n",
       "    </tr>\n",
       "    <tr>\n",
       "      <th>25  </th>\n",
       "      <td>  2765.10</td>\n",
       "      <td>  447.36</td>\n",
       "      <td>  426.05</td>\n",
       "      <td>  3638.51</td>\n",
       "    </tr>\n",
       "    <tr>\n",
       "      <th>26  </th>\n",
       "      <td>     0.00</td>\n",
       "      <td>    0.00</td>\n",
       "      <td>  568.92</td>\n",
       "      <td>   568.92</td>\n",
       "    </tr>\n",
       "    <tr>\n",
       "      <th>27  </th>\n",
       "      <td>     0.00</td>\n",
       "      <td>    0.00</td>\n",
       "      <td>  392.86</td>\n",
       "      <td>   392.86</td>\n",
       "    </tr>\n",
       "    <tr>\n",
       "      <th>28  </th>\n",
       "      <td>     0.00</td>\n",
       "      <td>    0.00</td>\n",
       "      <td>   70.96</td>\n",
       "      <td>    70.96</td>\n",
       "    </tr>\n",
       "    <tr>\n",
       "      <th>29  </th>\n",
       "      <td>     0.00</td>\n",
       "      <td>    0.00</td>\n",
       "      <td>    0.00</td>\n",
       "      <td>     0.00</td>\n",
       "    </tr>\n",
       "    <tr>\n",
       "      <th>...</th>\n",
       "      <td>...</td>\n",
       "      <td>...</td>\n",
       "      <td>...</td>\n",
       "      <td>...</td>\n",
       "    </tr>\n",
       "    <tr>\n",
       "      <th>6045</th>\n",
       "      <td>     0.00</td>\n",
       "      <td>  319.94</td>\n",
       "      <td>  304.70</td>\n",
       "      <td>   624.64</td>\n",
       "    </tr>\n",
       "    <tr>\n",
       "      <th>6046</th>\n",
       "      <td>     0.00</td>\n",
       "      <td>    0.00</td>\n",
       "      <td> 1303.29</td>\n",
       "      <td>  1303.29</td>\n",
       "    </tr>\n",
       "    <tr>\n",
       "      <th>6047</th>\n",
       "      <td>     0.00</td>\n",
       "      <td>    0.00</td>\n",
       "      <td> 1006.71</td>\n",
       "      <td>  1006.71</td>\n",
       "    </tr>\n",
       "    <tr>\n",
       "      <th>6048</th>\n",
       "      <td>     0.00</td>\n",
       "      <td>    0.00</td>\n",
       "      <td> 1520.79</td>\n",
       "      <td>  1520.79</td>\n",
       "    </tr>\n",
       "    <tr>\n",
       "      <th>6049</th>\n",
       "      <td>     0.00</td>\n",
       "      <td>    0.00</td>\n",
       "      <td> 1350.76</td>\n",
       "      <td>  1350.76</td>\n",
       "    </tr>\n",
       "    <tr>\n",
       "      <th>6050</th>\n",
       "      <td>     0.00</td>\n",
       "      <td>    0.00</td>\n",
       "      <td>   20.32</td>\n",
       "      <td>    20.32</td>\n",
       "    </tr>\n",
       "    <tr>\n",
       "      <th>6051</th>\n",
       "      <td>     0.00</td>\n",
       "      <td>    0.00</td>\n",
       "      <td> 1564.30</td>\n",
       "      <td>  1564.30</td>\n",
       "    </tr>\n",
       "    <tr>\n",
       "      <th>6052</th>\n",
       "      <td>     0.00</td>\n",
       "      <td>    0.00</td>\n",
       "      <td> 1558.64</td>\n",
       "      <td>  1558.64</td>\n",
       "    </tr>\n",
       "    <tr>\n",
       "      <th>6053</th>\n",
       "      <td>     0.00</td>\n",
       "      <td>    0.00</td>\n",
       "      <td> 1469.38</td>\n",
       "      <td>  1469.38</td>\n",
       "    </tr>\n",
       "    <tr>\n",
       "      <th>6054</th>\n",
       "      <td> 29104.61</td>\n",
       "      <td> 1794.36</td>\n",
       "      <td> 1708.91</td>\n",
       "      <td> 32607.88</td>\n",
       "    </tr>\n",
       "    <tr>\n",
       "      <th>6055</th>\n",
       "      <td>     0.00</td>\n",
       "      <td>    0.00</td>\n",
       "      <td> 1232.11</td>\n",
       "      <td>  1232.11</td>\n",
       "    </tr>\n",
       "    <tr>\n",
       "      <th>6056</th>\n",
       "      <td>     0.00</td>\n",
       "      <td>    0.00</td>\n",
       "      <td> 1125.34</td>\n",
       "      <td>  1125.34</td>\n",
       "    </tr>\n",
       "    <tr>\n",
       "      <th>6057</th>\n",
       "      <td>     0.00</td>\n",
       "      <td>    0.00</td>\n",
       "      <td> 1046.26</td>\n",
       "      <td>  1046.26</td>\n",
       "    </tr>\n",
       "    <tr>\n",
       "      <th>6058</th>\n",
       "      <td>     0.00</td>\n",
       "      <td>    0.00</td>\n",
       "      <td> 2437.62</td>\n",
       "      <td>  2437.62</td>\n",
       "    </tr>\n",
       "    <tr>\n",
       "      <th>6059</th>\n",
       "      <td>     0.00</td>\n",
       "      <td>    0.00</td>\n",
       "      <td>    0.00</td>\n",
       "      <td>     0.00</td>\n",
       "    </tr>\n",
       "    <tr>\n",
       "      <th>6060</th>\n",
       "      <td>     0.00</td>\n",
       "      <td>    0.00</td>\n",
       "      <td> 1192.57</td>\n",
       "      <td>  1192.57</td>\n",
       "    </tr>\n",
       "    <tr>\n",
       "      <th>6061</th>\n",
       "      <td> 27446.88</td>\n",
       "      <td>    0.00</td>\n",
       "      <td> 2303.79</td>\n",
       "      <td> 29750.67</td>\n",
       "    </tr>\n",
       "    <tr>\n",
       "      <th>6062</th>\n",
       "      <td>     0.00</td>\n",
       "      <td>    0.00</td>\n",
       "      <td> 1722.48</td>\n",
       "      <td>  1722.48</td>\n",
       "    </tr>\n",
       "    <tr>\n",
       "      <th>6063</th>\n",
       "      <td>     0.00</td>\n",
       "      <td>    0.00</td>\n",
       "      <td> 1052.48</td>\n",
       "      <td>  1052.48</td>\n",
       "    </tr>\n",
       "    <tr>\n",
       "      <th>6064</th>\n",
       "      <td>     0.00</td>\n",
       "      <td>  598.50</td>\n",
       "      <td> 1140.10</td>\n",
       "      <td>  1738.60</td>\n",
       "    </tr>\n",
       "    <tr>\n",
       "      <th>6065</th>\n",
       "      <td>     0.00</td>\n",
       "      <td>    0.00</td>\n",
       "      <td> 1495.37</td>\n",
       "      <td>  1495.37</td>\n",
       "    </tr>\n",
       "    <tr>\n",
       "      <th>6066</th>\n",
       "      <td>     0.00</td>\n",
       "      <td>    0.00</td>\n",
       "      <td> 1732.64</td>\n",
       "      <td>  1732.64</td>\n",
       "    </tr>\n",
       "    <tr>\n",
       "      <th>6067</th>\n",
       "      <td>     0.00</td>\n",
       "      <td>    0.00</td>\n",
       "      <td>    0.00</td>\n",
       "      <td>     0.00</td>\n",
       "    </tr>\n",
       "    <tr>\n",
       "      <th>6068</th>\n",
       "      <td>     0.00</td>\n",
       "      <td>    0.00</td>\n",
       "      <td> 1588.02</td>\n",
       "      <td>  1588.02</td>\n",
       "    </tr>\n",
       "    <tr>\n",
       "      <th>6069</th>\n",
       "      <td>  1955.48</td>\n",
       "      <td> 1838.92</td>\n",
       "      <td> 1751.35</td>\n",
       "      <td>  5545.75</td>\n",
       "    </tr>\n",
       "    <tr>\n",
       "      <th>6070</th>\n",
       "      <td>     0.00</td>\n",
       "      <td>    0.00</td>\n",
       "      <td> 1728.12</td>\n",
       "      <td>  1728.12</td>\n",
       "    </tr>\n",
       "    <tr>\n",
       "      <th>6071</th>\n",
       "      <td>  2816.75</td>\n",
       "      <td>  518.61</td>\n",
       "      <td>  493.91</td>\n",
       "      <td>  3829.27</td>\n",
       "    </tr>\n",
       "    <tr>\n",
       "      <th>6072</th>\n",
       "      <td>     0.00</td>\n",
       "      <td>    0.00</td>\n",
       "      <td>  536.28</td>\n",
       "      <td>   536.28</td>\n",
       "    </tr>\n",
       "    <tr>\n",
       "      <th>6073</th>\n",
       "      <td>     0.00</td>\n",
       "      <td>    0.00</td>\n",
       "      <td> 2392.48</td>\n",
       "      <td>  2392.48</td>\n",
       "    </tr>\n",
       "    <tr>\n",
       "      <th>6074</th>\n",
       "      <td>     0.00</td>\n",
       "      <td>    0.00</td>\n",
       "      <td> 2117.92</td>\n",
       "      <td>  2117.92</td>\n",
       "    </tr>\n",
       "  </tbody>\n",
       "</table>\n",
       "<p>6075 rows × 4 columns</p>\n",
       "</div>"
      ],
      "text/plain": [
       "      TOTAL_NET_DELQ_BALANCE  TOTAL_NET_BALANCE_OWED_1ST  \\\n",
       "0                       0.00                        0.00   \n",
       "1                       0.00                        0.00   \n",
       "2                       0.00                        0.00   \n",
       "3                    5169.85                      577.85   \n",
       "4                       0.00                        0.00   \n",
       "5                       0.00                        0.00   \n",
       "6                       0.00                        0.00   \n",
       "7                       0.00                        0.00   \n",
       "8                     484.90                      466.91   \n",
       "9                       0.00                        0.00   \n",
       "10                      0.00                        0.00   \n",
       "11                    558.99                      214.75   \n",
       "12                    345.21                      101.96   \n",
       "13                      0.00                        0.00   \n",
       "14                   5894.31                     1335.64   \n",
       "15                      0.00                        0.00   \n",
       "16                      0.00                        0.00   \n",
       "17                      0.00                        0.00   \n",
       "18                   3489.22                      493.76   \n",
       "19                    772.70                       26.08   \n",
       "20                      0.00                        0.00   \n",
       "21                      0.00                        0.00   \n",
       "22                      0.00                        0.00   \n",
       "23                      0.00                        0.00   \n",
       "24                      0.00                        0.00   \n",
       "25                   2765.10                      447.36   \n",
       "26                      0.00                        0.00   \n",
       "27                      0.00                        0.00   \n",
       "28                      0.00                        0.00   \n",
       "29                      0.00                        0.00   \n",
       "...                      ...                         ...   \n",
       "6045                    0.00                      319.94   \n",
       "6046                    0.00                        0.00   \n",
       "6047                    0.00                        0.00   \n",
       "6048                    0.00                        0.00   \n",
       "6049                    0.00                        0.00   \n",
       "6050                    0.00                        0.00   \n",
       "6051                    0.00                        0.00   \n",
       "6052                    0.00                        0.00   \n",
       "6053                    0.00                        0.00   \n",
       "6054                29104.61                     1794.36   \n",
       "6055                    0.00                        0.00   \n",
       "6056                    0.00                        0.00   \n",
       "6057                    0.00                        0.00   \n",
       "6058                    0.00                        0.00   \n",
       "6059                    0.00                        0.00   \n",
       "6060                    0.00                        0.00   \n",
       "6061                27446.88                        0.00   \n",
       "6062                    0.00                        0.00   \n",
       "6063                    0.00                        0.00   \n",
       "6064                    0.00                      598.50   \n",
       "6065                    0.00                        0.00   \n",
       "6066                    0.00                        0.00   \n",
       "6067                    0.00                        0.00   \n",
       "6068                    0.00                        0.00   \n",
       "6069                 1955.48                     1838.92   \n",
       "6070                    0.00                        0.00   \n",
       "6071                 2816.75                      518.61   \n",
       "6072                    0.00                        0.00   \n",
       "6073                    0.00                        0.00   \n",
       "6074                    0.00                        0.00   \n",
       "\n",
       "      TOTAL_NET_BALANCE_OWED_2ND  GRAND_TOTAL_BALANCE  \n",
       "0                         113.04               113.04  \n",
       "1                         655.43               655.43  \n",
       "2                          28.99                28.99  \n",
       "3                         550.32              6298.02  \n",
       "4                         308.39               308.39  \n",
       "5                           0.00                 0.00  \n",
       "6                           0.00                 0.00  \n",
       "7                         610.44               610.44  \n",
       "8                         444.67              1396.48  \n",
       "9                         526.58               526.58  \n",
       "10                          0.00                 0.00  \n",
       "11                        404.52              1178.26  \n",
       "12                        147.10               594.27  \n",
       "13                          0.00                 0.00  \n",
       "14                       1272.03              8501.98  \n",
       "15                        581.30               581.30  \n",
       "16                          0.00                 0.00  \n",
       "17                          0.00                 0.00  \n",
       "18                        470.25              4453.23  \n",
       "19                         24.84               823.62  \n",
       "20                          0.00                 0.00  \n",
       "21                          0.00                 0.00  \n",
       "22                         42.33                42.33  \n",
       "23                        565.86               565.86  \n",
       "24                        424.05               424.05  \n",
       "25                        426.05              3638.51  \n",
       "26                        568.92               568.92  \n",
       "27                        392.86               392.86  \n",
       "28                         70.96                70.96  \n",
       "29                          0.00                 0.00  \n",
       "...                          ...                  ...  \n",
       "6045                      304.70               624.64  \n",
       "6046                     1303.29              1303.29  \n",
       "6047                     1006.71              1006.71  \n",
       "6048                     1520.79              1520.79  \n",
       "6049                     1350.76              1350.76  \n",
       "6050                       20.32                20.32  \n",
       "6051                     1564.30              1564.30  \n",
       "6052                     1558.64              1558.64  \n",
       "6053                     1469.38              1469.38  \n",
       "6054                     1708.91             32607.88  \n",
       "6055                     1232.11              1232.11  \n",
       "6056                     1125.34              1125.34  \n",
       "6057                     1046.26              1046.26  \n",
       "6058                     2437.62              2437.62  \n",
       "6059                        0.00                 0.00  \n",
       "6060                     1192.57              1192.57  \n",
       "6061                     2303.79             29750.67  \n",
       "6062                     1722.48              1722.48  \n",
       "6063                     1052.48              1052.48  \n",
       "6064                     1140.10              1738.60  \n",
       "6065                     1495.37              1495.37  \n",
       "6066                     1732.64              1732.64  \n",
       "6067                        0.00                 0.00  \n",
       "6068                     1588.02              1588.02  \n",
       "6069                     1751.35              5545.75  \n",
       "6070                     1728.12              1728.12  \n",
       "6071                      493.91              3829.27  \n",
       "6072                      536.28               536.28  \n",
       "6073                     2392.48              2392.48  \n",
       "6074                     2117.92              2117.92  \n",
       "\n",
       "[6075 rows x 4 columns]"
      ]
     },
     "execution_count": 19,
     "metadata": {},
     "output_type": "execute_result"
    }
   ],
   "source": [
    "tb[['TOTAL_NET_DELQ_BALANCE','TOTAL_NET_BALANCE_OWED_1ST','TOTAL_NET_BALANCE_OWED_2ND','GRAND_TOTAL_BALANCE']]"
   ]
  },
  {
   "cell_type": "code",
   "execution_count": 20,
   "metadata": {
    "collapsed": false
   },
   "outputs": [
    {
     "data": {
      "text/html": [
       "<div style=\"max-height:1000px;max-width:1500px;overflow:auto;\">\n",
       "<table border=\"1\" class=\"dataframe\">\n",
       "  <thead>\n",
       "    <tr style=\"text-align: right;\">\n",
       "      <th></th>\n",
       "      <th>PPN</th>\n",
       "    </tr>\n",
       "    <tr>\n",
       "      <th>CERT_PEND_FLAG</th>\n",
       "      <th></th>\n",
       "    </tr>\n",
       "  </thead>\n",
       "  <tbody>\n",
       "  </tbody>\n",
       "</table>\n",
       "</div>"
      ],
      "text/plain": [
       "Empty DataFrame\n",
       "Columns: [PPN]\n",
       "Index: []"
      ]
     },
     "execution_count": 20,
     "metadata": {},
     "output_type": "execute_result"
    }
   ],
   "source": [
    "tb[['CERT_PEND_FLAG','PPN']].groupby('CERT_PEND_FLAG').count()"
   ]
  },
  {
   "cell_type": "code",
   "execution_count": 21,
   "metadata": {
    "collapsed": false
   },
   "outputs": [
    {
     "data": {
      "text/plain": [
       "(1128, 2)"
      ]
     },
     "execution_count": 21,
     "metadata": {},
     "output_type": "execute_result"
    }
   ],
   "source": [
    "tb[tb['TOTAL_NET_DELQ_BALANCE']>0][['TOTAL_NET_DELQ_BALANCE','PROPERTY_NUMBER']].shape"
   ]
  },
  {
   "cell_type": "code",
   "execution_count": 22,
   "metadata": {
    "collapsed": true
   },
   "outputs": [],
   "source": [
    "cols = ['PROPERTY_NUMBER','LENDER_PROCESS_TYPE','GRAND_TOTAL_BALANCE','TOTAL_NET_DELQ_BALANCE','TOTAL_NET_BALANCE_OWED_1ST',\\\n",
    "        'TOTAL_NET_BALANCE_OWED_2ND','GRAND_TOTAL_BALANCE','FORECLOSURE_FLAG','MAIL_STREET_NUMBER',\\\n",
    "        'MAIL_STREET_NAME','LOCATION_STREET_NO',\\\n",
    "        'LOCATION_STREET_NAME','HOMESTEAD_FLAG']"
   ]
  },
  {
   "cell_type": "code",
   "execution_count": 23,
   "metadata": {
    "collapsed": false
   },
   "outputs": [
    {
     "data": {
      "text/html": [
       "<div style=\"max-height:1000px;max-width:1500px;overflow:auto;\">\n",
       "<table border=\"1\" class=\"dataframe\">\n",
       "  <thead>\n",
       "    <tr style=\"text-align: right;\">\n",
       "      <th></th>\n",
       "      <th>PROPERTY_NUMBER</th>\n",
       "      <th>LENDER_PROCESS_TYPE</th>\n",
       "      <th>GRAND_TOTAL_BALANCE</th>\n",
       "      <th>TOTAL_NET_DELQ_BALANCE</th>\n",
       "      <th>TOTAL_NET_BALANCE_OWED_1ST</th>\n",
       "      <th>TOTAL_NET_BALANCE_OWED_2ND</th>\n",
       "      <th>GRAND_TOTAL_BALANCE</th>\n",
       "      <th>FORECLOSURE_FLAG</th>\n",
       "      <th>MAIL_STREET_NUMBER</th>\n",
       "      <th>MAIL_STREET_NAME</th>\n",
       "      <th>LOCATION_STREET_NO</th>\n",
       "      <th>LOCATION_STREET_NAME</th>\n",
       "      <th>HOMESTEAD_FLAG</th>\n",
       "    </tr>\n",
       "  </thead>\n",
       "  <tbody>\n",
       "    <tr>\n",
       "      <th>0</th>\n",
       "      <td> 129-23-013</td>\n",
       "      <td>    0</td>\n",
       "      <td>  113.04</td>\n",
       "      <td>    0.00</td>\n",
       "      <td>   0.00</td>\n",
       "      <td> 113.04</td>\n",
       "      <td>  113.04</td>\n",
       "      <td>NaN</td>\n",
       "      <td> 2999</td>\n",
       "      <td>     PAYNE</td>\n",
       "      <td> 12008</td>\n",
       "      <td>     Forest</td>\n",
       "      <td>NaN</td>\n",
       "    </tr>\n",
       "    <tr>\n",
       "      <th>1</th>\n",
       "      <td> 126-16-034</td>\n",
       "      <td> 2500</td>\n",
       "      <td>  655.43</td>\n",
       "      <td>    0.00</td>\n",
       "      <td>   0.00</td>\n",
       "      <td> 655.43</td>\n",
       "      <td>  655.43</td>\n",
       "      <td>NaN</td>\n",
       "      <td> 2999</td>\n",
       "      <td>     PAYNE</td>\n",
       "      <td> 10005</td>\n",
       "      <td> Cumberland</td>\n",
       "      <td>NaN</td>\n",
       "    </tr>\n",
       "    <tr>\n",
       "      <th>2</th>\n",
       "      <td> 121-31-003</td>\n",
       "      <td>  NaN</td>\n",
       "      <td>   28.99</td>\n",
       "      <td>    0.00</td>\n",
       "      <td>   0.00</td>\n",
       "      <td>  28.99</td>\n",
       "      <td>   28.99</td>\n",
       "      <td>NaN</td>\n",
       "      <td> 2417</td>\n",
       "      <td>  Woodhill</td>\n",
       "      <td>  2427</td>\n",
       "      <td>   Woodhill</td>\n",
       "      <td>NaN</td>\n",
       "    </tr>\n",
       "    <tr>\n",
       "      <th>3</th>\n",
       "      <td> 121-31-008</td>\n",
       "      <td>    0</td>\n",
       "      <td> 6298.02</td>\n",
       "      <td> 5169.85</td>\n",
       "      <td> 577.85</td>\n",
       "      <td> 550.32</td>\n",
       "      <td> 6298.02</td>\n",
       "      <td>  1</td>\n",
       "      <td>  NaN</td>\n",
       "      <td> Ingersoll</td>\n",
       "      <td>   NaN</td>\n",
       "      <td>  Ingersoll</td>\n",
       "      <td>NaN</td>\n",
       "    </tr>\n",
       "    <tr>\n",
       "      <th>4</th>\n",
       "      <td> 121-32-124</td>\n",
       "      <td> 1501</td>\n",
       "      <td>  308.39</td>\n",
       "      <td>    0.00</td>\n",
       "      <td>   0.00</td>\n",
       "      <td> 308.39</td>\n",
       "      <td>  308.39</td>\n",
       "      <td>NaN</td>\n",
       "      <td> 2399</td>\n",
       "      <td> Mapleside</td>\n",
       "      <td>  2399</td>\n",
       "      <td>  Mapleside</td>\n",
       "      <td>NaN</td>\n",
       "    </tr>\n",
       "  </tbody>\n",
       "</table>\n",
       "</div>"
      ],
      "text/plain": [
       "  PROPERTY_NUMBER  LENDER_PROCESS_TYPE  GRAND_TOTAL_BALANCE  \\\n",
       "0      129-23-013                    0               113.04   \n",
       "1      126-16-034                 2500               655.43   \n",
       "2      121-31-003                  NaN                28.99   \n",
       "3      121-31-008                    0              6298.02   \n",
       "4      121-32-124                 1501               308.39   \n",
       "\n",
       "   TOTAL_NET_DELQ_BALANCE  TOTAL_NET_BALANCE_OWED_1ST  \\\n",
       "0                    0.00                        0.00   \n",
       "1                    0.00                        0.00   \n",
       "2                    0.00                        0.00   \n",
       "3                 5169.85                      577.85   \n",
       "4                    0.00                        0.00   \n",
       "\n",
       "   TOTAL_NET_BALANCE_OWED_2ND  GRAND_TOTAL_BALANCE  FORECLOSURE_FLAG  \\\n",
       "0                      113.04               113.04               NaN   \n",
       "1                      655.43               655.43               NaN   \n",
       "2                       28.99                28.99               NaN   \n",
       "3                      550.32              6298.02                 1   \n",
       "4                      308.39               308.39               NaN   \n",
       "\n",
       "  MAIL_STREET_NUMBER MAIL_STREET_NAME LOCATION_STREET_NO LOCATION_STREET_NAME  \\\n",
       "0               2999            PAYNE              12008               Forest   \n",
       "1               2999            PAYNE              10005           Cumberland   \n",
       "2               2417         Woodhill               2427             Woodhill   \n",
       "3                NaN        Ingersoll                NaN            Ingersoll   \n",
       "4               2399        Mapleside               2399            Mapleside   \n",
       "\n",
       "   HOMESTEAD_FLAG  \n",
       "0             NaN  \n",
       "1             NaN  \n",
       "2             NaN  \n",
       "3             NaN  \n",
       "4             NaN  "
      ]
     },
     "execution_count": 23,
     "metadata": {},
     "output_type": "execute_result"
    }
   ],
   "source": [
    "tb[cols].head()"
   ]
  },
  {
   "cell_type": "code",
   "execution_count": 24,
   "metadata": {
    "collapsed": true
   },
   "outputs": [],
   "source": [
    "tb[cols].to_csv('clean_data/taxbill_tci.csv', index=False)"
   ]
  },
  {
   "cell_type": "markdown",
   "metadata": {},
   "source": [
    "## County land bank\n",
    "Filename: ```count_land_bank.csv```"
   ]
  },
  {
   "cell_type": "code",
   "execution_count": 25,
   "metadata": {
    "collapsed": false
   },
   "outputs": [
    {
     "data": {
      "text/plain": [
       "Index([u'parcel', u'disp_status', u'p_source', u'acq_dt', u'disp_dt', u'assessment', u'demo_status', u'rehab_status', u'public_status', u's_date', u'cclrc_dba_date', u'cclrc_dc_date', u'ab_proceed_dt', u'proceed_date', u'cclrc_dcp_date', u'out_type'], dtype='object')"
      ]
     },
     "execution_count": 25,
     "metadata": {},
     "output_type": "execute_result"
    }
   ],
   "source": [
    "lb = pd.read_csv('original_data/count_land_bank.csv', parse_dates=[3,4])\n",
    "lb.columns"
   ]
  },
  {
   "cell_type": "code",
   "execution_count": 26,
   "metadata": {
    "collapsed": false
   },
   "outputs": [],
   "source": [
    "lb = lb[lb['parcel'].isin(ppns)]\n",
    "lb[lb['acq_dt']<np.datetime64('2014-03-01')].to_csv('clean_data/count_land_bank_tci.csv', index=False)"
   ]
  },
  {
   "cell_type": "markdown",
   "metadata": {},
   "source": [
    "## Foreclosure filings"
   ]
  },
  {
   "cell_type": "code",
   "execution_count": 53,
   "metadata": {
    "collapsed": false
   },
   "outputs": [],
   "source": [
    "fc = pd.read_csv('original_data/foreclosure_filings2006_dec2014.csv', parse_dates = [2])"
   ]
  },
  {
   "cell_type": "code",
   "execution_count": 54,
   "metadata": {
    "collapsed": false
   },
   "outputs": [],
   "source": [
    "fc = fc[fc['parcel'].isin(ppns)]\n",
    "fc = fc[fc['filedate']<np.datetime64('2014-03-01')]"
   ]
  },
  {
   "cell_type": "code",
   "execution_count": 55,
   "metadata": {
    "collapsed": false
   },
   "outputs": [
    {
     "data": {
      "text/plain": [
       "4426"
      ]
     },
     "execution_count": 55,
     "metadata": {},
     "output_type": "execute_result"
    }
   ],
   "source": [
    "len(set(fc.parcel))"
   ]
  },
  {
   "cell_type": "code",
   "execution_count": 56,
   "metadata": {
    "collapsed": false,
    "scrolled": true
   },
   "outputs": [
    {
     "name": "stdout",
     "output_type": "stream",
     "text": [
      "<class 'pandas.core.frame.DataFrame'>\n",
      "Int64Index: 5843 entries, 21 to 115643\n",
      "Data columns (total 26 columns):\n",
      "parcel            5843 non-null object\n",
      "status            5843 non-null object\n",
      "filedate          5843 non-null datetime64[ns]\n",
      "defendant         5843 non-null object\n",
      "caseno            5843 non-null object\n",
      "parcel_address    5823 non-null object\n",
      "dateid            5843 non-null object\n",
      "FORE              5843 non-null int64\n",
      "LATITUDE          5821 non-null float64\n",
      "LONGITUDE         5821 non-null float64\n",
      "zip_fore          5676 non-null float64\n",
      "case_number       5843 non-null object\n",
      "ctitle            5843 non-null object\n",
      "cdesig            5843 non-null object\n",
      "judge             5843 non-null object\n",
      "magistrate        5143 non-null object\n",
      "room              17 non-null object\n",
      "n_action          17 non-null object\n",
      "f_location        5843 non-null object\n",
      "lstatus           5843 non-null object\n",
      "lstatusdt         5843 non-null object\n",
      "ldispos           5843 non-null object\n",
      "ldisposdt         5843 non-null object\n",
      "pamount           5843 non-null object\n",
      "detaildt          5843 non-null object\n",
      "plaintiff         5843 non-null object\n",
      "dtypes: datetime64[ns](1), float64(3), int64(1), object(21)\n",
      "memory usage: 1.2+ MB\n"
     ]
    }
   ],
   "source": [
    "fc.info()"
   ]
  },
  {
   "cell_type": "code",
   "execution_count": 31,
   "metadata": {
    "collapsed": false
   },
   "outputs": [],
   "source": [
    "fc.to_csv('clean_data/foreclosure_filings_tci.csv',index=False)"
   ]
  },
  {
   "cell_type": "markdown",
   "metadata": {},
   "source": [
    "## Sheriff auction\n",
    "Filename: ```shf_aution_mar2000_dec2014.csv```"
   ]
  },
  {
   "cell_type": "code",
   "execution_count": 32,
   "metadata": {
    "collapsed": false
   },
   "outputs": [
    {
     "data": {
      "text/plain": [
       "(113807, 25)"
      ]
     },
     "execution_count": 32,
     "metadata": {},
     "output_type": "execute_result"
    }
   ],
   "source": [
    "sa = pd.read_csv('original_data/shf_aution_mar2000_dec2014.csv', parse_dates=[2])\n",
    "sa.shape"
   ]
  },
  {
   "cell_type": "code",
   "execution_count": 33,
   "metadata": {
    "collapsed": false
   },
   "outputs": [
    {
     "data": {
      "text/plain": [
       "(5994, 25)"
      ]
     },
     "execution_count": 33,
     "metadata": {},
     "output_type": "execute_result"
    }
   ],
   "source": [
    "sa = sa[sa.parcel.isin(ppns)]\n",
    "sa = sa[sa.salesdt<np.datetime64('2014-03-01')]\n",
    "sa.shape"
   ]
  },
  {
   "cell_type": "code",
   "execution_count": 34,
   "metadata": {
    "collapsed": false
   },
   "outputs": [
    {
     "data": {
      "text/plain": [
       "array(['parcel', 'address', 'salesdt', 'saleno', 'sold_amt', 'appraisal',\n",
       "       'minbid', 'scaseno', 'withdrawn', 'plaintiff', 'sdefend',\n",
       "       'purchaser', 'paddress', 'rparty', 'raddress', 'attorney',\n",
       "       'descript', 'location', 'defend_att', 'with', 'status', 'ssold',\n",
       "       'SHF', 'LATITUDE', 'LONGITUDE'], dtype=object)"
      ]
     },
     "execution_count": 34,
     "metadata": {},
     "output_type": "execute_result"
    }
   ],
   "source": [
    "sa.columns.values"
   ]
  },
  {
   "cell_type": "code",
   "execution_count": 35,
   "metadata": {
    "collapsed": false
   },
   "outputs": [],
   "source": [
    "sa.loc[sa['ssold'].isnull(),'ssold'] = 'No'"
   ]
  },
  {
   "cell_type": "code",
   "execution_count": 36,
   "metadata": {
    "collapsed": false
   },
   "outputs": [],
   "source": [
    "def convert(x):\n",
    "    if x == 'No':\n",
    "        return 0\n",
    "    else:\n",
    "        return 1\n",
    "sa['ssold'] = sa['ssold'].apply(convert)"
   ]
  },
  {
   "cell_type": "code",
   "execution_count": 37,
   "metadata": {
    "collapsed": true
   },
   "outputs": [],
   "source": [
    "sa.to_csv('clean_data/shr_auction_tci.csv', index=False)"
   ]
  },
  {
   "cell_type": "markdown",
   "metadata": {},
   "source": [
    "## Transfers\n",
    "Filename: ```transfers2000_2014.csv```"
   ]
  },
  {
   "cell_type": "code",
   "execution_count": 39,
   "metadata": {
    "collapsed": false
   },
   "outputs": [],
   "source": [
    "# infile = 'original_data/transfers2000_2014.csv'\n",
    "# outfile = 'clean_data/transfers_tci.csv'\n",
    "\n",
    "# with open(infile, 'r') as fin, open(outfile, 'w') as fout:\n",
    "#     write_to = csv.writer(fout, lineterminator='\\n')\n",
    "#     header = next(csv.reader(fin))\n",
    "#     write_to.writerow(header)\n",
    "#     for row in csv.reader(fin):\n",
    "#         if row[5] in ppns:\n",
    "#             write_to.writerow(row)"
   ]
  },
  {
   "cell_type": "code",
   "execution_count": 40,
   "metadata": {
    "collapsed": false
   },
   "outputs": [],
   "source": [
    "tf = pd.read_csv('clean_data/transfers_tci.csv',parse_dates=[8])"
   ]
  },
  {
   "cell_type": "code",
   "execution_count": 41,
   "metadata": {
    "collapsed": false
   },
   "outputs": [],
   "source": [
    "tf = tf[tf.mdate<np.datetime64('2014-03-01')]"
   ]
  },
  {
   "cell_type": "code",
   "execution_count": 42,
   "metadata": {
    "collapsed": false,
    "scrolled": true
   },
   "outputs": [
    {
     "name": "stdout",
     "output_type": "stream",
     "text": [
      "<class 'pandas.core.frame.DataFrame'>\n",
      "Int64Index: 25092 entries, 0 to 26570\n",
      "Data columns (total 60 columns):\n",
      "TRANSFER_TO_ID                  25092 non-null int64\n",
      "WHS_ID                          25092 non-null int64\n",
      "TRANSFER_HISTORY_ID             25092 non-null int64\n",
      "TRANSFER_ORDER                  25092 non-null int64\n",
      "PARCEL_ID                       25092 non-null int64\n",
      "PROPERTY_NUMBER                 25092 non-null object\n",
      "GRANTEE1                        25092 non-null object\n",
      "GRANTOR1                        25059 non-null object\n",
      "mdate                           25092 non-null datetime64[ns]\n",
      "SALES_AMOUNT                    25092 non-null int64\n",
      "DEED_TYPE                       25092 non-null object\n",
      "instrument_number               20174 non-null float64\n",
      "RECORDED_BOOK                   4939 non-null float64\n",
      "RECORDED_PAGE                   4939 non-null object\n",
      "INSTRUMENT_TYPE                 25092 non-null int64\n",
      "SALE_VALID                      25092 non-null int64\n",
      "multiproperty_sale              25092 non-null int64\n",
      "NUMBER_OF_PROPERTIES_IN_SALE    25092 non-null int64\n",
      "conveyance_number               11397 non-null object\n",
      "CONVEYANCE_FEE                  25092 non-null float64\n",
      "USER_ID                         25092 non-null object\n",
      "RECEIPT_NUMBER                  4898 non-null object\n",
      "AUTO_FILE_NUMBER                16763 non-null object\n",
      "CHANGE_TIMESTAMP                25092 non-null object\n",
      "TRANSFER_NUMBER                 25092 non-null int64\n",
      "TRANSFER_STATUS                 25092 non-null object\n",
      "MONTH_OF_SALE                   25092 non-null int64\n",
      "YEAR_OF_SALE                    25092 non-null int64\n",
      "CAMA_SALE_FILE                  25092 non-null object\n",
      "CAMA_INV_FILE                   25092 non-null object\n",
      "TRANSFER_TYPE                   25092 non-null int64\n",
      "INSTRUMENT_DATE                 25092 non-null object\n",
      "RECORDED_DATE                   25092 non-null object\n",
      "TRANSFER_FEE                    25092 non-null float64\n",
      "PERMISSIVE_FEE                  25092 non-null float64\n",
      "AMOUNT_PAID                     25092 non-null float64\n",
      "FEE_PAID_BY                     18934 non-null object\n",
      "FEE_CHECK_NUM                   4031 non-null object\n",
      "SALES_SOURCE                    25092 non-null int64\n",
      "deed_number                     11035 non-null float64\n",
      "EXEMPTCODE                      25092 non-null int64\n",
      "ASSUMED_LOAN_AMOUNT             25092 non-null int64\n",
      "PERSONAL_PROPERTY_AMOUNT        25092 non-null int64\n",
      "BUILDINGS_ON_LAND               25092 non-null int64\n",
      "GIFT                            25092 non-null int64\n",
      "LAND_CONTRACT                   25092 non-null int64\n",
      "LEASE_HOLD                      25092 non-null int64\n",
      "LEASED_FEE                      25092 non-null int64\n",
      "LIFE_ESTATE                     25092 non-null int64\n",
      "MINERAL_RIGHTS_RESERVED         25092 non-null int64\n",
      "MOTHER                          25092 non-null int64\n",
      "PARTINTER_EST_TRANSFERRED       25092 non-null int64\n",
      "GRANTOR_IS_MORTGAGEE            25092 non-null int64\n",
      "GRANTOR_IS_RELATIVE             25092 non-null int64\n",
      "TRADE                           25092 non-null int64\n",
      "TRANSFER_TYPE_DESCR             25072 non-null object\n",
      "SALES_SOURCE_DESCR              1058 non-null object\n",
      "EXEMPTCODE_DESCR                5603 non-null object\n",
      "TRANSFER_FROM_PARCEL            0 non-null float64\n",
      "UPDATE_DATE                     25092 non-null object\n",
      "dtypes: datetime64[ns](1), float64(8), int64(30), object(21)\n",
      "memory usage: 11.7+ MB\n"
     ]
    }
   ],
   "source": [
    "tf.info()"
   ]
  },
  {
   "cell_type": "code",
   "execution_count": 149,
   "metadata": {
    "collapsed": false
   },
   "outputs": [],
   "source": [
    "tf.to_csv('clean_data/transfers_tci.csv',index=False)"
   ]
  },
  {
   "cell_type": "markdown",
   "metadata": {},
   "source": [
    "## Armslength sales\n",
    "Filename: ```armslengthsales2006_2014.csv```"
   ]
  },
  {
   "cell_type": "code",
   "execution_count": 3,
   "metadata": {
    "collapsed": false
   },
   "outputs": [
    {
     "name": "stderr",
     "output_type": "stream",
     "text": [
      "//anaconda/lib/python2.7/site-packages/pandas/io/parsers.py:1154: DtypeWarning: Columns (10,32,33,35,79) have mixed types. Specify dtype option on import or set low_memory=False.\n",
      "  data = self._reader.read(nrows)\n"
     ]
    }
   ],
   "source": [
    "al = pd.read_csv('original_data/armslengthsales2006_2014.csv')"
   ]
  },
  {
   "cell_type": "code",
   "execution_count": 4,
   "metadata": {
    "collapsed": false
   },
   "outputs": [
    {
     "data": {
      "text/plain": [
       "Index([u'AMOUNT_PAID', u'ASSUMED_LOAN_AMOUNT', u'AUTO_FILE_NUMBER', u'BUILDINGS_ON_LAND', u'CAMA_INV_FILE', u'CAMA_SALE_FILE', u'CHANGE_TIMESTAMP', u'CONVEYANCE_FEE', u'DEED_TYPE', u'EXEMPTCODE', u'EXEMPTCODE_DESCR', u'FEE_CHECK_NUM', u'FEE_PAID_BY', u'GIFT', u'GRANTEE1', u'GRANTOR1', u'GRANTOR_IS_MORTGAGEE', u'GRANTOR_IS_RELATIVE', u'INSTRUMENT_DATE', u'INSTRUMENT_TYPE', u'LAND_CONTRACT', u'LEASED_FEE', u'LEASE_HOLD', u'LIFE_ESTATE', u'MINERAL_RIGHTS_RESERVED', u'MONTH_OF_SALE', u'MOTHER', u'NUMBER_OF_PROPERTIES_IN_SALE', u'PARTINTER_EST_TRANSFERRED', u'PERMISSIVE_FEE', u'PERSONAL_PROPERTY_AMOUNT', u'PROPERTY_NUMBER', u'RECEIPT_NUMBER', u'RECORDED_BOOK', u'RECORDED_DATE', u'RECORDED_PAGE', u'SALES_AMOUNT', u'SALES_SOURCE', u'SALES_SOURCE_DESCR', u'SALE_VALID', u'TRADE', u'mdate', u'TRANSFER_FEE', u'TRANSFER_FROM_PARCEL', u'TRANSFER_HISTORY_ID', u'TRANSFER_NUMBER', u'TRANSFER_ORDER', u'TRANSFER_STATUS', u'TRANSFER_TO_ID', u'TRANSFER_TYPE', u'TRANSFER_TYPE_DESCR', u'UPDATE_DATE', u'USER_ID', u'WHS_ID', u'YEAR_OF_SALE', u'DOWNLOAD_DATE', u'instrument_number', u'deed_number', u'multiproperty_sale', u'ppn', u'conveyance_number', u'PARCEL_ID', u'td', u'ct', u'id', u'rd', u'par', u'yr', u'seqno', u'buyer', u'nbuy', u'ngrantee1', u'nsell', u'ngrantor1', u'bk56', u'trustee', u'shf_sales', u'final_cat', u'stdname', u'cons_name', u'armslength', u'std_ngrantee1', u'std_ngrantor1', u'count', u'self_sales', u'bulk_sales'], dtype='object')"
      ]
     },
     "execution_count": 4,
     "metadata": {},
     "output_type": "execute_result"
    }
   ],
   "source": [
    "al.columns"
   ]
  },
  {
   "cell_type": "code",
   "execution_count": 5,
   "metadata": {
    "collapsed": false
   },
   "outputs": [
    {
     "data": {
      "text/plain": [
       "(5497, 86)"
      ]
     },
     "execution_count": 5,
     "metadata": {},
     "output_type": "execute_result"
    }
   ],
   "source": [
    "al = al[al.PROPERTY_NUMBER.isin(ppns)]\n",
    "al.shape"
   ]
  },
  {
   "cell_type": "code",
   "execution_count": 6,
   "metadata": {
    "collapsed": false
   },
   "outputs": [
    {
     "data": {
      "text/html": [
       "<div style=\"max-height:1000px;max-width:1500px;overflow:auto;\">\n",
       "<table border=\"1\" class=\"dataframe\">\n",
       "  <thead>\n",
       "    <tr style=\"text-align: right;\">\n",
       "      <th></th>\n",
       "      <th>AMOUNT_PAID</th>\n",
       "      <th>ASSUMED_LOAN_AMOUNT</th>\n",
       "      <th>BUILDINGS_ON_LAND</th>\n",
       "      <th>DEED_TYPE</th>\n",
       "      <th>GIFT</th>\n",
       "      <th>MONTH_OF_SALE</th>\n",
       "      <th>NUMBER_OF_PROPERTIES_IN_SALE</th>\n",
       "      <th>PROPERTY_NUMBER</th>\n",
       "      <th>SALES_AMOUNT</th>\n",
       "      <th>SALE_VALID</th>\n",
       "      <th>TRANSFER_FEE</th>\n",
       "      <th>YEAR_OF_SALE</th>\n",
       "    </tr>\n",
       "  </thead>\n",
       "  <tbody>\n",
       "    <tr>\n",
       "      <th>302</th>\n",
       "      <td>   4.5</td>\n",
       "      <td> 0</td>\n",
       "      <td> 1</td>\n",
       "      <td> QUIT CLAIM DEED</td>\n",
       "      <td> 0</td>\n",
       "      <td> 11</td>\n",
       "      <td> 1</td>\n",
       "      <td> 129-26-066</td>\n",
       "      <td>  1000</td>\n",
       "      <td> 2</td>\n",
       "      <td> 0.5</td>\n",
       "      <td> 2008</td>\n",
       "    </tr>\n",
       "    <tr>\n",
       "      <th>441</th>\n",
       "      <td>   4.5</td>\n",
       "      <td> 0</td>\n",
       "      <td> 1</td>\n",
       "      <td>   WARRANTY DEED</td>\n",
       "      <td> 0</td>\n",
       "      <td>  8</td>\n",
       "      <td> 1</td>\n",
       "      <td> 129-16-081</td>\n",
       "      <td>   600</td>\n",
       "      <td> 2</td>\n",
       "      <td> 0.5</td>\n",
       "      <td> 2012</td>\n",
       "    </tr>\n",
       "    <tr>\n",
       "      <th>554</th>\n",
       "      <td>  58.5</td>\n",
       "      <td> 0</td>\n",
       "      <td> 1</td>\n",
       "      <td>   WARRANTY DEED</td>\n",
       "      <td> 0</td>\n",
       "      <td> 10</td>\n",
       "      <td> 1</td>\n",
       "      <td> 129-23-164</td>\n",
       "      <td> 14500</td>\n",
       "      <td> 2</td>\n",
       "      <td> 0.5</td>\n",
       "      <td> 2012</td>\n",
       "    </tr>\n",
       "    <tr>\n",
       "      <th>696</th>\n",
       "      <td>  40.5</td>\n",
       "      <td> 0</td>\n",
       "      <td> 1</td>\n",
       "      <td>   WARRANTY DEED</td>\n",
       "      <td> 0</td>\n",
       "      <td> 10</td>\n",
       "      <td> 1</td>\n",
       "      <td> 128-13-046</td>\n",
       "      <td> 10000</td>\n",
       "      <td> 0</td>\n",
       "      <td> 0.5</td>\n",
       "      <td> 2004</td>\n",
       "    </tr>\n",
       "    <tr>\n",
       "      <th>697</th>\n",
       "      <td> 100.5</td>\n",
       "      <td> 0</td>\n",
       "      <td> 1</td>\n",
       "      <td>   WARRANTY DEED</td>\n",
       "      <td> 0</td>\n",
       "      <td>  9</td>\n",
       "      <td> 1</td>\n",
       "      <td> 129-26-039</td>\n",
       "      <td> 25000</td>\n",
       "      <td> 0</td>\n",
       "      <td> 0.5</td>\n",
       "      <td> 2005</td>\n",
       "    </tr>\n",
       "  </tbody>\n",
       "</table>\n",
       "</div>"
      ],
      "text/plain": [
       "     AMOUNT_PAID  ASSUMED_LOAN_AMOUNT  BUILDINGS_ON_LAND        DEED_TYPE  \\\n",
       "302          4.5                    0                  1  QUIT CLAIM DEED   \n",
       "441          4.5                    0                  1    WARRANTY DEED   \n",
       "554         58.5                    0                  1    WARRANTY DEED   \n",
       "696         40.5                    0                  1    WARRANTY DEED   \n",
       "697        100.5                    0                  1    WARRANTY DEED   \n",
       "\n",
       "     GIFT  MONTH_OF_SALE  NUMBER_OF_PROPERTIES_IN_SALE PROPERTY_NUMBER  \\\n",
       "302     0             11                             1      129-26-066   \n",
       "441     0              8                             1      129-16-081   \n",
       "554     0             10                             1      129-23-164   \n",
       "696     0             10                             1      128-13-046   \n",
       "697     0              9                             1      129-26-039   \n",
       "\n",
       "     SALES_AMOUNT  SALE_VALID  TRANSFER_FEE  YEAR_OF_SALE  \n",
       "302          1000           2           0.5          2008  \n",
       "441           600           2           0.5          2012  \n",
       "554         14500           2           0.5          2012  \n",
       "696         10000           0           0.5          2004  \n",
       "697         25000           0           0.5          2005  "
      ]
     },
     "execution_count": 6,
     "metadata": {},
     "output_type": "execute_result"
    }
   ],
   "source": [
    "cols = ['AMOUNT_PAID','ASSUMED_LOAN_AMOUNT','BUILDINGS_ON_LAND','DEED_TYPE','GIFT','MONTH_OF_SALE','NUMBER_OF_PROPERTIES_IN_SALE', \\\n",
    "        'PROPERTY_NUMBER','SALES_AMOUNT','SALE_VALID','TRANSFER_FEE','YEAR_OF_SALE']\n",
    "al[cols].head()"
   ]
  },
  {
   "cell_type": "code",
   "execution_count": 8,
   "metadata": {
    "collapsed": false
   },
   "outputs": [],
   "source": [
    "al.to_csv('clean_data/armslength_tci.csv',index=False)"
   ]
  },
  {
   "cell_type": "markdown",
   "metadata": {},
   "source": [
    "## Violations\n",
    "Filename: ```violate_cle.csv```\n"
   ]
  },
  {
   "cell_type": "code",
   "execution_count": 43,
   "metadata": {
    "collapsed": false
   },
   "outputs": [],
   "source": [
    "v = pd.read_csv('original_data/violate_cle.csv',parse_dates=[1,4])"
   ]
  },
  {
   "cell_type": "code",
   "execution_count": 15,
   "metadata": {
    "collapsed": false
   },
   "outputs": [
    {
     "data": {
      "text/html": [
       "<div style=\"max-height:1000px;max-width:1500px;overflow:auto;\">\n",
       "<table border=\"1\" class=\"dataframe\">\n",
       "  <thead>\n",
       "    <tr style=\"text-align: right;\">\n",
       "      <th></th>\n",
       "      <th>VIN</th>\n",
       "      <th>v_file_date</th>\n",
       "      <th>v_wf_task</th>\n",
       "      <th>v_wf_task_status</th>\n",
       "      <th>v_wf_task_date</th>\n",
       "      <th>v_type_of_violation</th>\n",
       "      <th>parcel1</th>\n",
       "      <th>parcel</th>\n",
       "      <th>cond_gar</th>\n",
       "      <th>cond</th>\n",
       "      <th>other</th>\n",
       "      <th>maint</th>\n",
       "      <th>fire</th>\n",
       "      <th>int_ext</th>\n",
       "      <th>vin_id</th>\n",
       "      <th>violation_issue_date</th>\n",
       "      <th>vn_created</th>\n",
       "      <th>vn_source</th>\n",
       "    </tr>\n",
       "  </thead>\n",
       "  <tbody>\n",
       "    <tr>\n",
       "      <th>0</th>\n",
       "      <td> $$10BCE-0</td>\n",
       "      <td> 10/19/2010</td>\n",
       "      <td> Application Acceptance</td>\n",
       "      <td> Violation Notice Rvw Approved</td>\n",
       "      <td> 10/19/2010</td>\n",
       "      <td>  NaN</td>\n",
       "      <td> NaN</td>\n",
       "      <td>        NaN</td>\n",
       "      <td>NaN</td>\n",
       "      <td>NaN</td>\n",
       "      <td>NaN</td>\n",
       "      <td>NaN</td>\n",
       "      <td>NaN</td>\n",
       "      <td>NaN</td>\n",
       "      <td>       NaN</td>\n",
       "      <td>        NaN</td>\n",
       "      <td>NaN</td>\n",
       "      <td>NaN</td>\n",
       "    </tr>\n",
       "    <tr>\n",
       "      <th>1</th>\n",
       "      <td> $$10BCE-0</td>\n",
       "      <td> 10/19/2010</td>\n",
       "      <td>             Inspection</td>\n",
       "      <td>            Violation Resolved</td>\n",
       "      <td> 10/19/2010</td>\n",
       "      <td>  NaN</td>\n",
       "      <td> NaN</td>\n",
       "      <td>        NaN</td>\n",
       "      <td>NaN</td>\n",
       "      <td>NaN</td>\n",
       "      <td>NaN</td>\n",
       "      <td>NaN</td>\n",
       "      <td>NaN</td>\n",
       "      <td>NaN</td>\n",
       "      <td>       NaN</td>\n",
       "      <td>        NaN</td>\n",
       "      <td>NaN</td>\n",
       "      <td>NaN</td>\n",
       "    </tr>\n",
       "    <tr>\n",
       "      <th>2</th>\n",
       "      <td> $$10BCE-0</td>\n",
       "      <td> 10/19/2010</td>\n",
       "      <td>                Closure</td>\n",
       "      <td>                   Case Closed</td>\n",
       "      <td> 10/19/2010</td>\n",
       "      <td>  NaN</td>\n",
       "      <td> NaN</td>\n",
       "      <td>        NaN</td>\n",
       "      <td>NaN</td>\n",
       "      <td>NaN</td>\n",
       "      <td>NaN</td>\n",
       "      <td>NaN</td>\n",
       "      <td>NaN</td>\n",
       "      <td>NaN</td>\n",
       "      <td>       NaN</td>\n",
       "      <td>        NaN</td>\n",
       "      <td>NaN</td>\n",
       "      <td>NaN</td>\n",
       "    </tr>\n",
       "    <tr>\n",
       "      <th>3</th>\n",
       "      <td> $$12BCE-0</td>\n",
       "      <td> 02/03/2012</td>\n",
       "      <td>             Inspection</td>\n",
       "      <td>         Awaiting Reinspection</td>\n",
       "      <td> 02/02/2012</td>\n",
       "      <td> HVAC</td>\n",
       "      <td> NaN</td>\n",
       "      <td> 112-19-032</td>\n",
       "      <td>NaN</td>\n",
       "      <td>NaN</td>\n",
       "      <td>  1</td>\n",
       "      <td>NaN</td>\n",
       "      <td>NaN</td>\n",
       "      <td>NaN</td>\n",
       "      <td> $$12BCE-0</td>\n",
       "      <td> 02/02/2012</td>\n",
       "      <td>  1</td>\n",
       "      <td>  2</td>\n",
       "    </tr>\n",
       "    <tr>\n",
       "      <th>4</th>\n",
       "      <td> $$12BCE-0</td>\n",
       "      <td> 02/03/2012</td>\n",
       "      <td> Application Acceptance</td>\n",
       "      <td> Violation Notice Rvw Approved</td>\n",
       "      <td> 02/02/2012</td>\n",
       "      <td> HVAC</td>\n",
       "      <td> NaN</td>\n",
       "      <td> 112-19-032</td>\n",
       "      <td>NaN</td>\n",
       "      <td>NaN</td>\n",
       "      <td>  1</td>\n",
       "      <td>NaN</td>\n",
       "      <td>NaN</td>\n",
       "      <td>NaN</td>\n",
       "      <td> $$12BCE-0</td>\n",
       "      <td> 02/02/2012</td>\n",
       "      <td>  1</td>\n",
       "      <td>  2</td>\n",
       "    </tr>\n",
       "  </tbody>\n",
       "</table>\n",
       "</div>"
      ],
      "text/plain": [
       "         VIN v_file_date               v_wf_task  \\\n",
       "0  $$10BCE-0  10/19/2010  Application Acceptance   \n",
       "1  $$10BCE-0  10/19/2010              Inspection   \n",
       "2  $$10BCE-0  10/19/2010                 Closure   \n",
       "3  $$12BCE-0  02/03/2012              Inspection   \n",
       "4  $$12BCE-0  02/03/2012  Application Acceptance   \n",
       "\n",
       "                v_wf_task_status v_wf_task_date v_type_of_violation parcel1  \\\n",
       "0  Violation Notice Rvw Approved     10/19/2010                 NaN     NaN   \n",
       "1             Violation Resolved     10/19/2010                 NaN     NaN   \n",
       "2                    Case Closed     10/19/2010                 NaN     NaN   \n",
       "3          Awaiting Reinspection     02/02/2012                HVAC     NaN   \n",
       "4  Violation Notice Rvw Approved     02/02/2012                HVAC     NaN   \n",
       "\n",
       "       parcel  cond_gar  cond  other  maint  fire  int_ext     vin_id  \\\n",
       "0         NaN       NaN   NaN    NaN    NaN   NaN      NaN        NaN   \n",
       "1         NaN       NaN   NaN    NaN    NaN   NaN      NaN        NaN   \n",
       "2         NaN       NaN   NaN    NaN    NaN   NaN      NaN        NaN   \n",
       "3  112-19-032       NaN   NaN      1    NaN   NaN      NaN  $$12BCE-0   \n",
       "4  112-19-032       NaN   NaN      1    NaN   NaN      NaN  $$12BCE-0   \n",
       "\n",
       "  violation_issue_date  vn_created  vn_source  \n",
       "0                  NaN         NaN        NaN  \n",
       "1                  NaN         NaN        NaN  \n",
       "2                  NaN         NaN        NaN  \n",
       "3           02/02/2012           1          2  \n",
       "4           02/02/2012           1          2  "
      ]
     },
     "execution_count": 15,
     "metadata": {},
     "output_type": "execute_result"
    }
   ],
   "source": [
    "v.head()"
   ]
  },
  {
   "cell_type": "code",
   "execution_count": 44,
   "metadata": {
    "collapsed": false
   },
   "outputs": [],
   "source": [
    "v = v[v.parcel.isin(ppns)]\n",
    "v = v[(v.v_file_date < np.datetime64('2014-03-01')) & (v.v_file_date > np.datetime64('2006-03-01'))]"
   ]
  },
  {
   "cell_type": "code",
   "execution_count": 45,
   "metadata": {
    "collapsed": false
   },
   "outputs": [
    {
     "name": "stdout",
     "output_type": "stream",
     "text": [
      "(17801, 18)\n",
      "Index([u'VIN', u'v_file_date', u'v_wf_task', u'v_wf_task_status', u'v_wf_task_date', u'v_type_of_violation', u'parcel1', u'parcel', u'cond_gar', u'cond', u'other', u'maint', u'fire', u'int_ext', u'vin_id', u'violation_issue_date', u'vn_created', u'vn_source'], dtype='object')\n"
     ]
    }
   ],
   "source": [
    "print v.shape\n",
    "print v.columns"
   ]
  },
  {
   "cell_type": "code",
   "execution_count": 46,
   "metadata": {
    "collapsed": false
   },
   "outputs": [],
   "source": [
    "# v['total'] = v.groupby('parcel').count()\n",
    "v.to_csv('clean_data/violations_tci.csv',index=False)"
   ]
  },
  {
   "cell_type": "markdown",
   "metadata": {},
   "source": [
    "## Complaints\n",
    "Filename: ```complaint_cle.csv```"
   ]
  },
  {
   "cell_type": "code",
   "execution_count": 48,
   "metadata": {
    "collapsed": false
   },
   "outputs": [
    {
     "name": "stderr",
     "output_type": "stream",
     "text": [
      "//anaconda/lib/python2.7/site-packages/pandas/io/parsers.py:1154: DtypeWarning: Columns (11) have mixed types. Specify dtype option on import or set low_memory=False.\n",
      "  data = self._reader.read(nrows)\n"
     ]
    }
   ],
   "source": [
    "c = pd.read_csv('original_data/complaint_cle.csv', parse_dates=[1])"
   ]
  },
  {
   "cell_type": "code",
   "execution_count": 49,
   "metadata": {
    "collapsed": false
   },
   "outputs": [
    {
     "name": "stdout",
     "output_type": "stream",
     "text": [
      "<class 'pandas.core.frame.DataFrame'>\n",
      "Int64Index: 456231 entries, 0 to 456230\n",
      "Data columns (total 19 columns):\n",
      "complaint_id           456231 non-null object\n",
      "c_file_date            456231 non-null datetime64[ns]\n",
      "c_wf_task              456231 non-null object\n",
      "c_wf_task_status       423294 non-null object\n",
      "c_wf_task_date         456230 non-null object\n",
      "c_type_of_complaint    415198 non-null object\n",
      "cdc_ri                 98 non-null float64\n",
      "cdc_corrected          205 non-null float64\n",
      "cdc_referred           599 non-null float64\n",
      "othercomp              316292 non-null float64\n",
      "parcel                 408386 non-null object\n",
      "parcel1                108389 non-null object\n",
      "cdc_comp               0 non-null float64\n",
      "cdccia_comp            0 non-null float64\n",
      "council_comp           0 non-null float64\n",
      "mac_comp               0 non-null float64\n",
      "public_comp            0 non-null float64\n",
      "other_comp             0 non-null float64\n",
      "comp_source            368599 non-null object\n",
      "dtypes: datetime64[ns](1), float64(10), object(8)\n",
      "memory usage: 69.6+ MB\n"
     ]
    }
   ],
   "source": [
    "c.info()"
   ]
  },
  {
   "cell_type": "code",
   "execution_count": 50,
   "metadata": {
    "collapsed": false
   },
   "outputs": [],
   "source": [
    "c = c[c.parcel.isin(ppns)]\n",
    "c = c[(c.c_file_date < np.datetime64('2014-03-01')) & (c.c_file_date > np.datetime64('2006-03-01'))]"
   ]
  },
  {
   "cell_type": "code",
   "execution_count": 51,
   "metadata": {
    "collapsed": false
   },
   "outputs": [],
   "source": [
    "c.to_csv('clean_data/complaints_tci.csv')"
   ]
  },
  {
   "cell_type": "markdown",
   "metadata": {},
   "source": [
    "## Postal data\n",
    "Filenames: ```pv201302.csv, pv201304.csv, pv201308.csv, pv201312.csv, pv201402.csv```"
   ]
  },
  {
   "cell_type": "code",
   "execution_count": 69,
   "metadata": {
    "collapsed": false
   },
   "outputs": [],
   "source": [
    "pos1 = pd.read_csv('original_data/pv201302.csv')\n",
    "pos1['date'] = np.datetime64('2013-02-01')\n",
    "pos2 = pd.read_csv('original_data/pv201304.csv')\n",
    "pos2['date'] = np.datetime64('2013-04-01')\n",
    "pos3 = pd.read_csv('original_data/pv201308.csv')\n",
    "pos3['date'] = np.datetime64('2013-08-01')\n",
    "pos4 = pd.read_csv('original_data/pv201312.csv')\n",
    "pos4['date'] = np.datetime64('2013-12-01')\n",
    "pos5 = pd.read_csv('original_data/pv201402.csv')\n",
    "pos5['date'] = np.datetime64('2014-02-01')"
   ]
  },
  {
   "cell_type": "code",
   "execution_count": 70,
   "metadata": {
    "collapsed": false
   },
   "outputs": [],
   "source": [
    "p = pos1.append(pos2).append(pos3).append(pos4).append(pos5)\n",
    "p = p[p.PARCEL.isin(ppns)]\n",
    "p.to_csv('clean_data/postal_vacancy_tci.csv')"
   ]
  }
 ],
 "metadata": {
  "kernelspec": {
   "display_name": "Python 2",
   "language": "python",
   "name": "python2"
  },
  "language_info": {
   "codemirror_mode": {
    "name": "ipython",
    "version": 2
   },
   "file_extension": ".py",
   "mimetype": "text/x-python",
   "name": "python",
   "nbconvert_exporter": "python",
   "pygments_lexer": "ipython2",
   "version": "2.7.10"
  }
 },
 "nbformat": 4,
 "nbformat_minor": 0
}
