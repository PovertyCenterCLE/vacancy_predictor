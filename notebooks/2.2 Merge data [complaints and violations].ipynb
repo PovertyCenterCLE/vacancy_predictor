{
 "cells": [
  {
   "cell_type": "code",
   "execution_count": 69,
   "metadata": {
    "collapsed": false
   },
   "outputs": [
    {
     "name": "stdout",
     "output_type": "stream",
     "text": [
      "/Volumes/Dropbox-1/largetransfer/luc/carter\n"
     ]
    }
   ],
   "source": [
    "import matplotlib.pyplot as plt\n",
    "import seaborn as sns\n",
    "import pandas as pd\n",
    "import numpy as np\n",
    "import datetime as dt\n",
    "import os\n",
    "\n",
    "%matplotlib inline\n",
    "\n",
    "path = '/'.join(os.getcwd().split('/')[:-1])\n",
    "print path"
   ]
  },
  {
   "cell_type": "code",
   "execution_count": 70,
   "metadata": {
    "collapsed": false
   },
   "outputs": [],
   "source": [
    "tci = pd.read_csv(path+'/data/model_data/tci_2_1.csv')\n",
    "ppns = set(tci['ppn'])\n",
    "ppns_num = set(tci['ppn'].apply(lambda x: x.replace('-','')))"
   ]
  },
  {
   "cell_type": "markdown",
   "metadata": {},
   "source": [
    "## Violations"
   ]
  },
  {
   "cell_type": "code",
   "execution_count": 71,
   "metadata": {
    "collapsed": false
   },
   "outputs": [],
   "source": [
    "vs = pd.read_csv(path+'/data/clean_data/violations.csv', parse_dates = [1,4])"
   ]
  },
  {
   "cell_type": "code",
   "execution_count": 72,
   "metadata": {
    "collapsed": false
   },
   "outputs": [
    {
     "name": "stdout",
     "output_type": "stream",
     "text": [
      "<class 'pandas.core.frame.DataFrame'>\n",
      "Int64Index: 129318 entries, 0 to 129317\n",
      "Data columns (total 18 columns):\n",
      "VIN                     129318 non-null object\n",
      "v_file_date             129318 non-null datetime64[ns]\n",
      "v_wf_task               129318 non-null object\n",
      "v_wf_task_status        128371 non-null object\n",
      "v_wf_task_date          129318 non-null datetime64[ns]\n",
      "v_type_of_violation     123474 non-null object\n",
      "parcel1                 56581 non-null object\n",
      "parcel                  129318 non-null object\n",
      "cond_gar                14422 non-null float64\n",
      "cond                    32184 non-null float64\n",
      "other                   22020 non-null float64\n",
      "maint                   50331 non-null float64\n",
      "fire                    3371 non-null float64\n",
      "int_ext                 1123 non-null float64\n",
      "vin_id                  96775 non-null object\n",
      "violation_issue_date    96775 non-null object\n",
      "vn_created              96775 non-null float64\n",
      "vn_source               96775 non-null float64\n",
      "dtypes: datetime64[ns](2), float64(8), object(8)\n",
      "memory usage: 18.7+ MB\n"
     ]
    }
   ],
   "source": [
    "vs.info()"
   ]
  },
  {
   "cell_type": "code",
   "execution_count": null,
   "metadata": {
    "collapsed": true
   },
   "outputs": [],
   "source": []
  },
  {
   "cell_type": "code",
   "execution_count": 73,
   "metadata": {
    "collapsed": false,
    "scrolled": true
   },
   "outputs": [
    {
     "data": {
      "text/plain": [
       "{nan,\n",
       " '14 Day Condemnation Garage',\n",
       " '14 Day Condemnation MS',\n",
       " '14 Day Vacate',\n",
       " '24 Hour Vacate',\n",
       " '30 Day Condemnation',\n",
       " '30 Day Condemnation Garage',\n",
       " '30 Day Condemnation MS',\n",
       " '30 Day Damage Repair Shed',\n",
       " '30 Day Det. Cond. Garage',\n",
       " '30 Day Det. Cond. MS',\n",
       " '30 Day Deteriorated Garage',\n",
       " '30 Day Fire Condemnation Gara',\n",
       " '30 Day Fire Condemnation MS',\n",
       " '30 Day Fire Condemnation Shed',\n",
       " '30 Day Fire Damage Repair Gar',\n",
       " '30 Day Fire Damage Repair MS',\n",
       " '30 Day Vacate',\n",
       " '7 Day Condemnation Garage',\n",
       " '7 Day Condemnation MS',\n",
       " '7 Day Vacate',\n",
       " '72 HR Emergency Cond. Garage',\n",
       " '72 HR Emergency Cond. MS',\n",
       " '72 HR Emergency Fire Cond. Ga',\n",
       " '72 HR Emergency Fire Cond. MS',\n",
       " 'Appurtenant Structure',\n",
       " 'Auto Repairing',\n",
       " 'C of O Inspection',\n",
       " 'Change of Use',\n",
       " 'Commercial Maintenance',\n",
       " 'Condemnation',\n",
       " 'Condemnation - Garage',\n",
       " 'Condemnation - Main Structure',\n",
       " 'Condemnation - Shed',\n",
       " 'Display Signs',\n",
       " 'Electrical',\n",
       " 'Elevator',\n",
       " 'Erect Without a Permit',\n",
       " 'Exit Traffic',\n",
       " 'Exterior Maintenance',\n",
       " 'Fence',\n",
       " 'Fire',\n",
       " 'Fire Damage',\n",
       " 'Forthwith Condemnation Garage',\n",
       " 'Forthwith Condemnation MS',\n",
       " 'Forthwith Fire Cond. Garage',\n",
       " 'Forthwith Fire Cond. MS',\n",
       " 'Garage Condemnation',\n",
       " 'General Maintenance',\n",
       " 'HVAC',\n",
       " 'Hazard Other',\n",
       " 'Hazardous Conditions',\n",
       " 'Hazardous Structure',\n",
       " 'High Grass and Weeds',\n",
       " 'High Hedges and Grass',\n",
       " 'High Weeds and Debris',\n",
       " 'Illegal Auto Repair',\n",
       " 'Illegal Conversion',\n",
       " 'Illegal Material Storage',\n",
       " 'Illegal Parking',\n",
       " 'Illegal Sign',\n",
       " 'Illegal Truck Storage',\n",
       " 'Illegal Use',\n",
       " 'Int/Ext Maintenance',\n",
       " 'Interior Maintenance',\n",
       " 'Interior/Exterior Maintenance',\n",
       " 'Junk Cars',\n",
       " 'Junk Cars and Debris',\n",
       " 'Junk and Debris',\n",
       " 'Mixed Use Maintenance',\n",
       " 'No Electricity',\n",
       " 'No Heat',\n",
       " 'No Permit',\n",
       " 'No Permit/No Inspection',\n",
       " 'No Water',\n",
       " 'Nuisance Abate',\n",
       " 'O.V. & V',\n",
       " 'Parking',\n",
       " 'Peeling Paint',\n",
       " 'Plumbing',\n",
       " 'Poor Workmanship',\n",
       " 'Rental Registration',\n",
       " 'Repairs-No Permit',\n",
       " 'Residential Maintenance',\n",
       " 'Smoke Detectors',\n",
       " 'Stop Work Order',\n",
       " 'Survey',\n",
       " 'Team Inspection',\n",
       " 'Unauthorized Storage',\n",
       " 'Unauthorized Use',\n",
       " 'Unauthorized/Illegal Use',\n",
       " 'Vacate',\n",
       " 'Zoning'}"
      ]
     },
     "execution_count": 73,
     "metadata": {},
     "output_type": "execute_result"
    }
   ],
   "source": [
    "set(vs.v_type_of_violation)"
   ]
  },
  {
   "cell_type": "markdown",
   "metadata": {},
   "source": [
    "### Violation Task"
   ]
  },
  {
   "cell_type": "code",
   "execution_count": 74,
   "metadata": {
    "collapsed": false
   },
   "outputs": [
    {
     "data": {
      "text/html": [
       "<div>\n",
       "<table border=\"1\" class=\"dataframe\">\n",
       "  <thead>\n",
       "    <tr style=\"text-align: right;\">\n",
       "      <th></th>\n",
       "      <th>violations_tasks</th>\n",
       "    </tr>\n",
       "    <tr>\n",
       "      <th>v_wf_task</th>\n",
       "      <th></th>\n",
       "    </tr>\n",
       "  </thead>\n",
       "  <tbody>\n",
       "    <tr>\n",
       "      <th>Application Acceptance</th>\n",
       "      <td>36923</td>\n",
       "    </tr>\n",
       "    <tr>\n",
       "      <th>Closure</th>\n",
       "      <td>24403</td>\n",
       "    </tr>\n",
       "    <tr>\n",
       "      <th>Condemnation</th>\n",
       "      <td>2225</td>\n",
       "    </tr>\n",
       "    <tr>\n",
       "      <th>Demolition Approval</th>\n",
       "      <td>211</td>\n",
       "    </tr>\n",
       "    <tr>\n",
       "      <th>Inspection</th>\n",
       "      <td>56556</td>\n",
       "    </tr>\n",
       "    <tr>\n",
       "      <th>Non-Condemnation</th>\n",
       "      <td>4347</td>\n",
       "    </tr>\n",
       "    <tr>\n",
       "      <th>Prosecution</th>\n",
       "      <td>758</td>\n",
       "    </tr>\n",
       "    <tr>\n",
       "      <th>Search Warrant</th>\n",
       "      <td>3895</td>\n",
       "    </tr>\n",
       "  </tbody>\n",
       "</table>\n",
       "</div>"
      ],
      "text/plain": [
       "                        violations_tasks\n",
       "v_wf_task                               \n",
       "Application Acceptance             36923\n",
       "Closure                            24403\n",
       "Condemnation                        2225\n",
       "Demolition Approval                  211\n",
       "Inspection                         56556\n",
       "Non-Condemnation                    4347\n",
       "Prosecution                          758\n",
       "Search Warrant                      3895"
      ]
     },
     "execution_count": 74,
     "metadata": {},
     "output_type": "execute_result"
    }
   ],
   "source": [
    "vs_task = pd.DataFrame(vs.groupby('v_wf_task').count()['VIN'])\n",
    "vs_task.columns = ['violations_tasks']\n",
    "vs_task[vs_task.violations_tasks > 1]"
   ]
  },
  {
   "cell_type": "code",
   "execution_count": 75,
   "metadata": {
    "collapsed": false
   },
   "outputs": [],
   "source": [
    "for task in set(vs.v_wf_task):\n",
    "    tci = pd.merge(tci, vs.loc[vs.v_wf_task==task,['parcel','v_wf_task']].groupby('parcel').count(), how='left', left_on = 'ppn', right_index=True)\n",
    "    tci = tci.rename(columns={'v_wf_task': task.lower()+' count'})\n",
    "    tci[task.lower()+' count'] = tci[task.lower()+' count'].fillna(0)\n",
    "#     print task, len(a), sum(a.vacant)*1.0/len(a.vacant)"
   ]
  },
  {
   "cell_type": "code",
   "execution_count": 76,
   "metadata": {
    "collapsed": true
   },
   "outputs": [],
   "source": [
    "# def check_task(x):\n",
    "#     if x in parcel_set:\n",
    "#         return 1\n",
    "#     else:\n",
    "#         return 0\n",
    "    \n",
    "# for task in vs_task.index:\n",
    "#     parcel_set = set(vs.loc[vs.v_wf_task==task,'parcel'])\n",
    "#     tci['task_'+task[0:3].lower()] = tci['ppn'].apply(check_task)"
   ]
  },
  {
   "cell_type": "markdown",
   "metadata": {},
   "source": [
    "### Violations count "
   ]
  },
  {
   "cell_type": "code",
   "execution_count": 77,
   "metadata": {
    "collapsed": false
   },
   "outputs": [
    {
     "data": {
      "text/plain": [
       "Index([u'Parcel ID', u'ppn', u'vacant', u'Date', u'Survey Category',\n",
       "       u'Survey Result', u'zip', u'pclass', u'totusabl', u'tmktval',\n",
       "       u'condition', u'parcel_x', u'condition_value', u'parcel_y',\n",
       "       u'style_filtered', u'parcel_x.1', u'ownerocc_value', u'parcel_y.1',\n",
       "       u'totbldgs', u'parcel_x.2', u'yrbuilt_filtered', u'parcel_y.2',\n",
       "       u'rextwall', u'parcel', u'vacant_block', u'owner', u'renter',\n",
       "       u'median_rent', u'property_crimes', u'burglaries', u'other_drug',\n",
       "       u'part_one_crimes', u'part_two_crimes', u'bachelors+', u'poverty_rate',\n",
       "       u'median_hh_income', u'median_fam_income', u'white', u'black', u'asian',\n",
       "       u'other', u'hispanic', u'young', u'middle', u'old', u'num_of_sales',\n",
       "       u'quit_claim_deed', u'warranty_deed', u'limited_warranty',\n",
       "       u'survivorship_deed', u'fiduciary_deed', u'AMOUNT_PAID', u'SALE_VALID',\n",
       "       u'num_of_transfers', u'DEED_TYPE', u'county_land_bank', u'vindall_Y',\n",
       "       u'vindall_P', u'closure count', u'application acceptance count',\n",
       "       u'condemnation count', u'demolition approval count',\n",
       "       u'prosecution count', u'search warrant count', u'inspection count',\n",
       "       u'non-condemnation count'],\n",
       "      dtype='object')"
      ]
     },
     "execution_count": 77,
     "metadata": {},
     "output_type": "execute_result"
    }
   ],
   "source": [
    "tci.columns"
   ]
  },
  {
   "cell_type": "code",
   "execution_count": 78,
   "metadata": {
    "collapsed": false
   },
   "outputs": [],
   "source": [
    "vs_count = vs.groupby('parcel').count()\n",
    "vs_count = vs_count.rename(columns={'VIN':'violations_number'})\n",
    "tci = pd.merge(tci, vs_count[['violations_number']], \\\n",
    "               how='left', left_on='ppn', right_index=True)\n",
    "tci.loc[tci.violations_number.isnull(), 'violations_number'] = 0"
   ]
  },
  {
   "cell_type": "code",
   "execution_count": 79,
   "metadata": {
    "collapsed": false
   },
   "outputs": [],
   "source": [
    "vs_count = vs[vs['v_file_date']>dt.datetime(2014,3,1)].groupby('parcel').count()\n",
    "vs_count = vs_count.rename(columns={'VIN':'violations_number_1_yr'})\n",
    "tci = pd.merge(tci, vs_count[['violations_number_1_yr']], \\\n",
    "               how='left', left_on='ppn', right_index=True)\n",
    "tci.loc[tci.violations_number.isnull(), 'violations_number_1_yr'] = 0"
   ]
  },
  {
   "cell_type": "markdown",
   "metadata": {},
   "source": [
    "### Violation types"
   ]
  },
  {
   "cell_type": "code",
   "execution_count": 80,
   "metadata": {
    "collapsed": false
   },
   "outputs": [],
   "source": [
    "vs_type = vs[['v_type_of_violation','parcel']].groupby('v_type_of_violation').count()\n",
    "vs_type = vs_type.rename(columns={'parcel':'violations_type'})"
   ]
  },
  {
   "cell_type": "code",
   "execution_count": 81,
   "metadata": {
    "collapsed": false
   },
   "outputs": [],
   "source": [
    "violation_types = vs_type[vs_type['violations_type']>500]"
   ]
  },
  {
   "cell_type": "code",
   "execution_count": 82,
   "metadata": {
    "collapsed": false
   },
   "outputs": [
    {
     "data": {
      "text/html": [
       "<div>\n",
       "<table border=\"1\" class=\"dataframe\">\n",
       "  <thead>\n",
       "    <tr style=\"text-align: right;\">\n",
       "      <th></th>\n",
       "      <th>violations_type</th>\n",
       "    </tr>\n",
       "    <tr>\n",
       "      <th>v_type_of_violation</th>\n",
       "      <th></th>\n",
       "    </tr>\n",
       "  </thead>\n",
       "  <tbody>\n",
       "    <tr>\n",
       "      <th>30 Day Condemnation</th>\n",
       "      <td>852</td>\n",
       "    </tr>\n",
       "    <tr>\n",
       "      <th>30 Day Condemnation Garage</th>\n",
       "      <td>993</td>\n",
       "    </tr>\n",
       "    <tr>\n",
       "      <th>30 Day Condemnation MS</th>\n",
       "      <td>1170</td>\n",
       "    </tr>\n",
       "    <tr>\n",
       "      <th>30 Day Fire Damage Repair MS</th>\n",
       "      <td>728</td>\n",
       "    </tr>\n",
       "    <tr>\n",
       "      <th>Condemnation - Garage</th>\n",
       "      <td>11885</td>\n",
       "    </tr>\n",
       "    <tr>\n",
       "      <th>Condemnation - Main Structure</th>\n",
       "      <td>27971</td>\n",
       "    </tr>\n",
       "    <tr>\n",
       "      <th>Condemnation - Shed</th>\n",
       "      <td>755</td>\n",
       "    </tr>\n",
       "    <tr>\n",
       "      <th>Exterior Maintenance</th>\n",
       "      <td>44273</td>\n",
       "    </tr>\n",
       "    <tr>\n",
       "      <th>Fire Damage</th>\n",
       "      <td>3293</td>\n",
       "    </tr>\n",
       "    <tr>\n",
       "      <th>General Maintenance</th>\n",
       "      <td>1161</td>\n",
       "    </tr>\n",
       "    <tr>\n",
       "      <th>HVAC</th>\n",
       "      <td>919</td>\n",
       "    </tr>\n",
       "    <tr>\n",
       "      <th>Interior Maintenance</th>\n",
       "      <td>692</td>\n",
       "    </tr>\n",
       "    <tr>\n",
       "      <th>Interior/Exterior Maintenance</th>\n",
       "      <td>4402</td>\n",
       "    </tr>\n",
       "    <tr>\n",
       "      <th>No Permit</th>\n",
       "      <td>2818</td>\n",
       "    </tr>\n",
       "    <tr>\n",
       "      <th>Survey</th>\n",
       "      <td>12869</td>\n",
       "    </tr>\n",
       "    <tr>\n",
       "      <th>Unauthorized/Illegal Use</th>\n",
       "      <td>577</td>\n",
       "    </tr>\n",
       "    <tr>\n",
       "      <th>Vacate</th>\n",
       "      <td>553</td>\n",
       "    </tr>\n",
       "  </tbody>\n",
       "</table>\n",
       "</div>"
      ],
      "text/plain": [
       "                               violations_type\n",
       "v_type_of_violation                           \n",
       "30 Day Condemnation                        852\n",
       "30 Day Condemnation Garage                 993\n",
       "30 Day Condemnation MS                    1170\n",
       "30 Day Fire Damage Repair MS               728\n",
       "Condemnation - Garage                    11885\n",
       "Condemnation - Main Structure            27971\n",
       "Condemnation - Shed                        755\n",
       "Exterior Maintenance                     44273\n",
       "Fire Damage                               3293\n",
       "General Maintenance                       1161\n",
       "HVAC                                       919\n",
       "Interior Maintenance                       692\n",
       "Interior/Exterior Maintenance             4402\n",
       "No Permit                                 2818\n",
       "Survey                                   12869\n",
       "Unauthorized/Illegal Use                   577\n",
       "Vacate                                     553"
      ]
     },
     "execution_count": 82,
     "metadata": {},
     "output_type": "execute_result"
    }
   ],
   "source": [
    "violation_types"
   ]
  },
  {
   "cell_type": "code",
   "execution_count": 83,
   "metadata": {
    "collapsed": true
   },
   "outputs": [],
   "source": [
    "for vio in violation_types.index:\n",
    "    tci = pd.merge(tci, vs.loc[vs.v_type_of_violation==vio, ['v_type_of_violation','parcel']].groupby('parcel').count(), left_on='ppn', right_index=True, how='left')\n",
    "    tci = tci.rename(columns={'v_type_of_violation': 'v_'+vio.lower()+'_count'})\n",
    "    tci['v_'+vio.lower()+'_count'] = tci['v_'+vio.lower()+'_count'].fillna(0)"
   ]
  },
  {
   "cell_type": "markdown",
   "metadata": {},
   "source": [
    "## Complaints"
   ]
  },
  {
   "cell_type": "code",
   "execution_count": 84,
   "metadata": {
    "collapsed": false
   },
   "outputs": [],
   "source": [
    "cp = pd.read_csv(path+'/data/clean_data/complaints.csv', parse_dates = [2],index_col=[0])"
   ]
  },
  {
   "cell_type": "code",
   "execution_count": 85,
   "metadata": {
    "collapsed": false
   },
   "outputs": [
    {
     "name": "stdout",
     "output_type": "stream",
     "text": [
      "<class 'pandas.core.frame.DataFrame'>\n",
      "Int64Index: 232110 entries, 30389 to 370166\n",
      "Data columns (total 19 columns):\n",
      "complaint_id           232110 non-null object\n",
      "c_file_date            232110 non-null datetime64[ns]\n",
      "c_wf_task              232110 non-null object\n",
      "c_wf_task_status       224628 non-null object\n",
      "c_wf_task_date         232109 non-null object\n",
      "c_type_of_complaint    226786 non-null object\n",
      "cdc_ri                 65 non-null float64\n",
      "cdc_corrected          180 non-null float64\n",
      "cdc_referred           504 non-null float64\n",
      "othercomp              190166 non-null float64\n",
      "parcel                 232110 non-null object\n",
      "parcel1                16837 non-null float64\n",
      "cdc_comp               0 non-null float64\n",
      "cdccia_comp            0 non-null float64\n",
      "council_comp           0 non-null float64\n",
      "mac_comp               0 non-null float64\n",
      "public_comp            0 non-null float64\n",
      "other_comp             0 non-null float64\n",
      "comp_source            224147 non-null object\n",
      "dtypes: datetime64[ns](1), float64(11), object(7)\n",
      "memory usage: 35.4+ MB\n"
     ]
    }
   ],
   "source": [
    "cp.info()"
   ]
  },
  {
   "cell_type": "code",
   "execution_count": 86,
   "metadata": {
    "collapsed": false
   },
   "outputs": [
    {
     "data": {
      "text/html": [
       "<div>\n",
       "<table border=\"1\" class=\"dataframe\">\n",
       "  <thead>\n",
       "    <tr style=\"text-align: right;\">\n",
       "      <th></th>\n",
       "      <th>complaint_id</th>\n",
       "      <th>c_file_date</th>\n",
       "      <th>c_wf_task</th>\n",
       "      <th>c_wf_task_status</th>\n",
       "      <th>c_wf_task_date</th>\n",
       "      <th>c_type_of_complaint</th>\n",
       "      <th>cdc_ri</th>\n",
       "      <th>cdc_corrected</th>\n",
       "      <th>cdc_referred</th>\n",
       "      <th>othercomp</th>\n",
       "      <th>parcel</th>\n",
       "      <th>parcel1</th>\n",
       "      <th>cdc_comp</th>\n",
       "      <th>cdccia_comp</th>\n",
       "      <th>council_comp</th>\n",
       "      <th>mac_comp</th>\n",
       "      <th>public_comp</th>\n",
       "      <th>other_comp</th>\n",
       "      <th>comp_source</th>\n",
       "    </tr>\n",
       "  </thead>\n",
       "  <tbody>\n",
       "    <tr>\n",
       "      <th>30389</th>\n",
       "      <td>CMP06037794</td>\n",
       "      <td>2006-03-06</td>\n",
       "      <td>Closure</td>\n",
       "      <td>Closed-ADMIN</td>\n",
       "      <td>05/28/2009</td>\n",
       "      <td>NaN</td>\n",
       "      <td>NaN</td>\n",
       "      <td>NaN</td>\n",
       "      <td>NaN</td>\n",
       "      <td>1</td>\n",
       "      <td>002-23-031</td>\n",
       "      <td>NaN</td>\n",
       "      <td>NaN</td>\n",
       "      <td>NaN</td>\n",
       "      <td>NaN</td>\n",
       "      <td>NaN</td>\n",
       "      <td>NaN</td>\n",
       "      <td>NaN</td>\n",
       "      <td>NaN</td>\n",
       "    </tr>\n",
       "    <tr>\n",
       "      <th>30390</th>\n",
       "      <td>CMP06037794</td>\n",
       "      <td>2006-03-06</td>\n",
       "      <td>Inspection</td>\n",
       "      <td>Inspection Denied</td>\n",
       "      <td>05/28/2009</td>\n",
       "      <td>NaN</td>\n",
       "      <td>NaN</td>\n",
       "      <td>NaN</td>\n",
       "      <td>NaN</td>\n",
       "      <td>1</td>\n",
       "      <td>002-23-031</td>\n",
       "      <td>NaN</td>\n",
       "      <td>NaN</td>\n",
       "      <td>NaN</td>\n",
       "      <td>NaN</td>\n",
       "      <td>NaN</td>\n",
       "      <td>NaN</td>\n",
       "      <td>NaN</td>\n",
       "      <td>NaN</td>\n",
       "    </tr>\n",
       "  </tbody>\n",
       "</table>\n",
       "</div>"
      ],
      "text/plain": [
       "      complaint_id c_file_date   c_wf_task   c_wf_task_status c_wf_task_date  \\\n",
       "30389  CMP06037794  2006-03-06     Closure       Closed-ADMIN     05/28/2009   \n",
       "30390  CMP06037794  2006-03-06  Inspection  Inspection Denied     05/28/2009   \n",
       "\n",
       "      c_type_of_complaint  cdc_ri  cdc_corrected  cdc_referred  othercomp  \\\n",
       "30389                 NaN     NaN            NaN           NaN          1   \n",
       "30390                 NaN     NaN            NaN           NaN          1   \n",
       "\n",
       "           parcel  parcel1  cdc_comp  cdccia_comp  council_comp  mac_comp  \\\n",
       "30389  002-23-031      NaN       NaN          NaN           NaN       NaN   \n",
       "30390  002-23-031      NaN       NaN          NaN           NaN       NaN   \n",
       "\n",
       "       public_comp  other_comp comp_source  \n",
       "30389          NaN         NaN         NaN  \n",
       "30390          NaN         NaN         NaN  "
      ]
     },
     "execution_count": 86,
     "metadata": {},
     "output_type": "execute_result"
    }
   ],
   "source": [
    "cp.head(2)"
   ]
  },
  {
   "cell_type": "code",
   "execution_count": 87,
   "metadata": {
    "collapsed": false
   },
   "outputs": [
    {
     "data": {
      "text/plain": [
       "c_type_of_complaint\n",
       "Black Mold                                  233\n",
       "Collapsing Structure                       4275\n",
       "Complete interior/exterior                24196\n",
       "Court Ordered Inspection                     92\n",
       "Daycare                                      12\n",
       "Debris/Garbage/Junk                         381\n",
       "Debris/Garbage/Junk (Occupied)             1725\n",
       "Debris/Garbage/Junk (Vacant)                886\n",
       "Doors/Gate/Locks                            497\n",
       "Driveway                                    358\n",
       "Dumping                                       8\n",
       "Dumping Private (Vacant)                    175\n",
       "Dumping Public                               35\n",
       "Electrical                                 6380\n",
       "Elevator                                     24\n",
       "Fence                                      1426\n",
       "Fire Damage                               14394\n",
       "Foundation issues (animals entering)         27\n",
       "Garage/Shed/Outbuildings                   3953\n",
       "General Exterior Maintenance              22916\n",
       "Graffiti                                    100\n",
       "Grass/Weeds/Bushes                          111\n",
       "Grass/Weeds/bushes                           53\n",
       "Grass/Weeds/bushes (Occupied)              2151\n",
       "Grass/Weeds/bushes (Vacant)                1162\n",
       "Gutters/Chimney/Downspouts/Shin              26\n",
       "Gutters/Chimney/Downspouts/Shingles        2201\n",
       "HVAC                                       2849\n",
       "Illegal Operation                           140\n",
       "Illegal Operation/Illegal Auto                2\n",
       "Illegal Operation/Illegal Auto Repair      2234\n",
       "Infestation                                  25\n",
       "Infestation/Animals/Rodents                 449\n",
       "Interior                                    210\n",
       "Interior Flooding                           435\n",
       "Interior-Mechanical Systems                 149\n",
       "Lead/Peeling Paint                          535\n",
       "No Heat                                    1636\n",
       "No Permit                                  6917\n",
       "No Water                                   1108\n",
       "No heat                                     102\n",
       "No water                                     75\n",
       "O.V.V.                                   101862\n",
       "OTHER (Please describe below)              3465\n",
       "Paint/Lead/Peeling                          221\n",
       "Plumbing                                   5370\n",
       "Porch                                      1946\n",
       "Rental Registration                         893\n",
       "Roof                                       2621\n",
       "Siding                                      251\n",
       "Smoke Detectors                             195\n",
       "Tires (Occupied)                             12\n",
       "Tires (Vacant)                               38\n",
       "Trees                                        66\n",
       "Trees (Occupied)                            246\n",
       "Trees (Vacant)                               71\n",
       "Unlicensed Vehicles                        3039\n",
       "Unlicensed Vehicles/Tires                   287\n",
       "Windows                                     975\n",
       "Zoning Violations                           565\n",
       "Name: complaint_id, dtype: int64"
      ]
     },
     "execution_count": 87,
     "metadata": {},
     "output_type": "execute_result"
    }
   ],
   "source": [
    "cp.groupby('c_type_of_complaint').count()['complaint_id']"
   ]
  },
  {
   "cell_type": "code",
   "execution_count": 88,
   "metadata": {
    "collapsed": true
   },
   "outputs": [],
   "source": [
    "types = ['Black Mold','Collapsing Structure','Complete interior/exterior', \\\n",
    "         'Debris/Garbage/Junk (Occupied)','Electrical','Fire Damage', \\\n",
    "         'General Exterior Maintenance','No Permit','O.V.V.', 'Plumbing']"
   ]
  },
  {
   "cell_type": "markdown",
   "metadata": {},
   "source": [
    "### Complaint type"
   ]
  },
  {
   "cell_type": "code",
   "execution_count": 89,
   "metadata": {
    "collapsed": false
   },
   "outputs": [],
   "source": [
    "cp_type = pd.DataFrame(cp.groupby('c_type_of_complaint').count()['complaint_id'])\n",
    "cp_type.columns = ['complaint_type']"
   ]
  },
  {
   "cell_type": "code",
   "execution_count": 90,
   "metadata": {
    "collapsed": false
   },
   "outputs": [
    {
     "data": {
      "text/plain": [
       "c_type_of_complaint\n",
       "Complete interior/exterior       24196\n",
       "Electrical                        6380\n",
       "Fire Damage                      14394\n",
       "General Exterior Maintenance     22916\n",
       "No Permit                         6917\n",
       "O.V.V.                          101862\n",
       "Name: complaint_type, dtype: int64"
      ]
     },
     "execution_count": 90,
     "metadata": {},
     "output_type": "execute_result"
    }
   ],
   "source": [
    "cp_type[cp_type['complaint_type']/len(ppns)>0.05].complaint_type"
   ]
  },
  {
   "cell_type": "code",
   "execution_count": 91,
   "metadata": {
    "collapsed": false
   },
   "outputs": [],
   "source": [
    "for complaint in types:\n",
    "    t = cp.loc[cp.c_type_of_complaint==complaint,['c_type_of_complaint','parcel']].groupby('parcel').count()\n",
    "    t = t.rename(columns={'c_type_of_complaint': 'c_'+complaint})\n",
    "    tci = pd.merge(tci, t, left_on='ppn', right_index=True, how='left')\n",
    "    tci['c_'+complaint] = tci['c_'+complaint].fillna(0)"
   ]
  },
  {
   "cell_type": "markdown",
   "metadata": {},
   "source": [
    "### Complaint count (all)"
   ]
  },
  {
   "cell_type": "code",
   "execution_count": 92,
   "metadata": {
    "collapsed": false,
    "scrolled": true
   },
   "outputs": [],
   "source": [
    "cp_count = pd.DataFrame(cp.groupby('parcel').count()['complaint_id'])\n",
    "cp_count.columns = ['complaint_count']\n",
    "tci = pd.merge(tci, cp_count, \\\n",
    "               how='left', left_on='ppn', right_index=True)\n",
    "tci.loc[tci.complaint_count.isnull(), 'complaint_count'] = 0"
   ]
  },
  {
   "cell_type": "code",
   "execution_count": 93,
   "metadata": {
    "collapsed": false
   },
   "outputs": [
    {
     "data": {
      "text/plain": [
       "0.10043602465794617"
      ]
     },
     "execution_count": 93,
     "metadata": {},
     "output_type": "execute_result"
    }
   ],
   "source": [
    "sum(tci.loc[tci.complaint_count>5, 'vacant'])*1.0/len(tci.loc[tci.complaint_count>5, 'vacant'])"
   ]
  },
  {
   "cell_type": "markdown",
   "metadata": {},
   "source": [
    "### Complaint count (6 months)"
   ]
  },
  {
   "cell_type": "code",
   "execution_count": 94,
   "metadata": {
    "collapsed": false
   },
   "outputs": [],
   "source": [
    "cp_count = pd.DataFrame(cp[cp.c_file_date>dt.datetime(2013, 9, 1)].groupby('parcel').count()['complaint_id'])\n",
    "cp_count.columns = ['complaint_count_6_mon']\n",
    "tci = pd.merge(tci, cp_count, \\\n",
    "               how='left', left_on='ppn', right_index=True)\n",
    "tci.loc[tci.complaint_count_6_mon.isnull(), 'complaint_count_6_mon'] = 0"
   ]
  },
  {
   "cell_type": "code",
   "execution_count": 95,
   "metadata": {
    "collapsed": false
   },
   "outputs": [
    {
     "data": {
      "text/plain": [
       "0.29947460595446584"
      ]
     },
     "execution_count": 95,
     "metadata": {},
     "output_type": "execute_result"
    }
   ],
   "source": [
    "sum(tci.loc[tci.complaint_count_6_mon>2, 'vacant'])*1.0/len(tci.loc[tci.complaint_count_6_mon>2, 'vacant'])"
   ]
  },
  {
   "cell_type": "markdown",
   "metadata": {},
   "source": [
    "### Complain count (3 months)"
   ]
  },
  {
   "cell_type": "code",
   "execution_count": 96,
   "metadata": {
    "collapsed": false
   },
   "outputs": [],
   "source": [
    "cp_count = pd.DataFrame(cp[cp.c_file_date>dt.datetime(2013, 12, 1)].groupby('parcel').count()['complaint_id'])\n",
    "cp_count.columns = ['complaint_count_3_mon']\n",
    "tci = pd.merge(tci, cp_count, \\\n",
    "               how='left', left_on='ppn', right_index=True)\n",
    "tci.loc[tci.complaint_count_3_mon.isnull(), 'complaint_count_3_mon'] = 0"
   ]
  },
  {
   "cell_type": "code",
   "execution_count": 97,
   "metadata": {
    "collapsed": false
   },
   "outputs": [
    {
     "data": {
      "text/plain": [
       "(0.31665363565285382, 1279)"
      ]
     },
     "execution_count": 97,
     "metadata": {},
     "output_type": "execute_result"
    }
   ],
   "source": [
    "sum(tci.loc[tci.complaint_count_3_mon>0, 'vacant'])*1.0/len(tci.loc[tci.complaint_count_3_mon>0, 'vacant']) ,len(tci.loc[tci.complaint_count_3_mon>0, 'vacant'])"
   ]
  },
  {
   "cell_type": "code",
   "execution_count": 98,
   "metadata": {
    "collapsed": false
   },
   "outputs": [],
   "source": [
    "tci.to_csv(path+'/data/model_data/tci_2_2.csv', index=False)"
   ]
  },
  {
   "cell_type": "code",
   "execution_count": 99,
   "metadata": {
    "collapsed": false
   },
   "outputs": [
    {
     "data": {
      "text/plain": [
       "(122560, 98)"
      ]
     },
     "execution_count": 99,
     "metadata": {},
     "output_type": "execute_result"
    }
   ],
   "source": [
    "tci.shape"
   ]
  }
 ],
 "metadata": {
  "kernelspec": {
   "display_name": "Python 2",
   "language": "python",
   "name": "python2"
  },
  "language_info": {
   "codemirror_mode": {
    "name": "ipython",
    "version": 2
   },
   "file_extension": ".py",
   "mimetype": "text/x-python",
   "name": "python",
   "nbconvert_exporter": "python",
   "pygments_lexer": "ipython2",
   "version": "2.7.10"
  }
 },
 "nbformat": 4,
 "nbformat_minor": 0
}
