{
 "cells": [
  {
   "cell_type": "code",
   "execution_count": 1,
   "metadata": {
    "collapsed": true
   },
   "outputs": [],
   "source": [
    "import matplotlib.pyplot as plt\n",
    "import seaborn as sns\n",
    "%matplotlib inline\n",
    "import pandas as pd\n",
    "import numpy as np\n",
    "import datetime as dt"
   ]
  },
  {
   "cell_type": "code",
   "execution_count": 2,
   "metadata": {
    "collapsed": false
   },
   "outputs": [],
   "source": [
    "tci = pd.read_csv('model_data/tci_2_1.csv')\n",
    "ppns = set(tci['parcel'])\n",
    "ppns_num = set(tci['parcel'].apply(lambda x: x.replace('-','')))"
   ]
  },
  {
   "cell_type": "markdown",
   "metadata": {},
   "source": [
    "## Violations"
   ]
  },
  {
   "cell_type": "code",
   "execution_count": 3,
   "metadata": {
    "collapsed": true
   },
   "outputs": [],
   "source": [
    "vs = pd.read_csv('clean_data/violations_tci.csv', parse_dates = [1,4])"
   ]
  },
  {
   "cell_type": "code",
   "execution_count": 4,
   "metadata": {
    "collapsed": false
   },
   "outputs": [
    {
     "name": "stdout",
     "output_type": "stream",
     "text": [
      "<class 'pandas.core.frame.DataFrame'>\n",
      "Int64Index: 17801 entries, 0 to 17800\n",
      "Data columns (total 18 columns):\n",
      "VIN                     17801 non-null object\n",
      "v_file_date             17801 non-null datetime64[ns]\n",
      "v_wf_task               17801 non-null object\n",
      "v_wf_task_status        17773 non-null object\n",
      "v_wf_task_date          17801 non-null datetime64[ns]\n",
      "v_type_of_violation     16642 non-null object\n",
      "parcel1                 6211 non-null float64\n",
      "parcel                  17801 non-null object\n",
      "cond_gar                2524 non-null float64\n",
      "cond                    5750 non-null float64\n",
      "other                   2769 non-null float64\n",
      "maint                   5112 non-null float64\n",
      "fire                    286 non-null float64\n",
      "int_ext                 201 non-null float64\n",
      "vin_id                  13682 non-null object\n",
      "violation_issue_date    13682 non-null object\n",
      "vn_created              13682 non-null float64\n",
      "vn_source               13682 non-null float64\n",
      "dtypes: datetime64[ns](2), float64(9), object(7)\n",
      "memory usage: 2.6+ MB\n"
     ]
    }
   ],
   "source": [
    "vs.info()"
   ]
  },
  {
   "cell_type": "code",
   "execution_count": 5,
   "metadata": {
    "collapsed": false
   },
   "outputs": [
    {
     "data": {
      "text/html": [
       "<div style=\"max-height:1000px;max-width:1500px;overflow:auto;\">\n",
       "<table border=\"1\" class=\"dataframe\">\n",
       "  <thead>\n",
       "    <tr style=\"text-align: right;\">\n",
       "      <th></th>\n",
       "      <th>VIN</th>\n",
       "      <th>v_file_date</th>\n",
       "      <th>v_wf_task</th>\n",
       "      <th>v_wf_task_status</th>\n",
       "      <th>v_wf_task_date</th>\n",
       "      <th>v_type_of_violation</th>\n",
       "      <th>parcel1</th>\n",
       "      <th>parcel</th>\n",
       "      <th>cond_gar</th>\n",
       "      <th>cond</th>\n",
       "      <th>other</th>\n",
       "      <th>maint</th>\n",
       "      <th>fire</th>\n",
       "      <th>int_ext</th>\n",
       "      <th>vin_id</th>\n",
       "      <th>violation_issue_date</th>\n",
       "      <th>vn_created</th>\n",
       "      <th>vn_source</th>\n",
       "    </tr>\n",
       "  </thead>\n",
       "  <tbody>\n",
       "    <tr>\n",
       "      <th>0</th>\n",
       "      <td> V06037579</td>\n",
       "      <td>2006-03-02</td>\n",
       "      <td>    Closure</td>\n",
       "      <td>        Case Closed</td>\n",
       "      <td>2009-10-21</td>\n",
       "      <td> Exterior Maintenance</td>\n",
       "      <td>NaN</td>\n",
       "      <td> 128-25-049</td>\n",
       "      <td>NaN</td>\n",
       "      <td>NaN</td>\n",
       "      <td>NaN</td>\n",
       "      <td> 1</td>\n",
       "      <td>NaN</td>\n",
       "      <td>NaN</td>\n",
       "      <td> V06037579</td>\n",
       "      <td> 03/01/2006</td>\n",
       "      <td> 1</td>\n",
       "      <td> 2</td>\n",
       "    </tr>\n",
       "    <tr>\n",
       "      <th>1</th>\n",
       "      <td> V06037579</td>\n",
       "      <td>2006-03-02</td>\n",
       "      <td> Inspection</td>\n",
       "      <td> Violation Resolved</td>\n",
       "      <td>2009-10-21</td>\n",
       "      <td> Exterior Maintenance</td>\n",
       "      <td>NaN</td>\n",
       "      <td> 128-25-049</td>\n",
       "      <td>NaN</td>\n",
       "      <td>NaN</td>\n",
       "      <td>NaN</td>\n",
       "      <td> 1</td>\n",
       "      <td>NaN</td>\n",
       "      <td>NaN</td>\n",
       "      <td> V06037579</td>\n",
       "      <td> 03/01/2006</td>\n",
       "      <td> 1</td>\n",
       "      <td> 2</td>\n",
       "    </tr>\n",
       "    <tr>\n",
       "      <th>2</th>\n",
       "      <td> V06037586</td>\n",
       "      <td>2006-03-02</td>\n",
       "      <td>    Closure</td>\n",
       "      <td>        Case Closed</td>\n",
       "      <td>2009-10-21</td>\n",
       "      <td> Exterior Maintenance</td>\n",
       "      <td>NaN</td>\n",
       "      <td> 128-25-089</td>\n",
       "      <td>NaN</td>\n",
       "      <td>NaN</td>\n",
       "      <td>NaN</td>\n",
       "      <td> 1</td>\n",
       "      <td>NaN</td>\n",
       "      <td>NaN</td>\n",
       "      <td> V06037586</td>\n",
       "      <td> 03/01/2006</td>\n",
       "      <td> 1</td>\n",
       "      <td> 2</td>\n",
       "    </tr>\n",
       "    <tr>\n",
       "      <th>3</th>\n",
       "      <td> V06037586</td>\n",
       "      <td>2006-03-02</td>\n",
       "      <td> Inspection</td>\n",
       "      <td> Violation Resolved</td>\n",
       "      <td>2009-10-21</td>\n",
       "      <td> Exterior Maintenance</td>\n",
       "      <td>NaN</td>\n",
       "      <td> 128-25-089</td>\n",
       "      <td>NaN</td>\n",
       "      <td>NaN</td>\n",
       "      <td>NaN</td>\n",
       "      <td> 1</td>\n",
       "      <td>NaN</td>\n",
       "      <td>NaN</td>\n",
       "      <td> V06037586</td>\n",
       "      <td> 03/01/2006</td>\n",
       "      <td> 1</td>\n",
       "      <td> 2</td>\n",
       "    </tr>\n",
       "    <tr>\n",
       "      <th>4</th>\n",
       "      <td> V06037588</td>\n",
       "      <td>2006-03-02</td>\n",
       "      <td> Inspection</td>\n",
       "      <td> Violation Resolved</td>\n",
       "      <td>2009-10-21</td>\n",
       "      <td> Exterior Maintenance</td>\n",
       "      <td>NaN</td>\n",
       "      <td> 128-25-054</td>\n",
       "      <td>NaN</td>\n",
       "      <td>NaN</td>\n",
       "      <td>NaN</td>\n",
       "      <td> 1</td>\n",
       "      <td>NaN</td>\n",
       "      <td>NaN</td>\n",
       "      <td> V06037588</td>\n",
       "      <td> 03/01/2006</td>\n",
       "      <td> 1</td>\n",
       "      <td> 2</td>\n",
       "    </tr>\n",
       "  </tbody>\n",
       "</table>\n",
       "</div>"
      ],
      "text/plain": [
       "         VIN v_file_date   v_wf_task    v_wf_task_status v_wf_task_date  \\\n",
       "0  V06037579  2006-03-02     Closure         Case Closed     2009-10-21   \n",
       "1  V06037579  2006-03-02  Inspection  Violation Resolved     2009-10-21   \n",
       "2  V06037586  2006-03-02     Closure         Case Closed     2009-10-21   \n",
       "3  V06037586  2006-03-02  Inspection  Violation Resolved     2009-10-21   \n",
       "4  V06037588  2006-03-02  Inspection  Violation Resolved     2009-10-21   \n",
       "\n",
       "    v_type_of_violation  parcel1      parcel  cond_gar  cond  other  maint  \\\n",
       "0  Exterior Maintenance      NaN  128-25-049       NaN   NaN    NaN      1   \n",
       "1  Exterior Maintenance      NaN  128-25-049       NaN   NaN    NaN      1   \n",
       "2  Exterior Maintenance      NaN  128-25-089       NaN   NaN    NaN      1   \n",
       "3  Exterior Maintenance      NaN  128-25-089       NaN   NaN    NaN      1   \n",
       "4  Exterior Maintenance      NaN  128-25-054       NaN   NaN    NaN      1   \n",
       "\n",
       "   fire  int_ext     vin_id violation_issue_date  vn_created  vn_source  \n",
       "0   NaN      NaN  V06037579           03/01/2006           1          2  \n",
       "1   NaN      NaN  V06037579           03/01/2006           1          2  \n",
       "2   NaN      NaN  V06037586           03/01/2006           1          2  \n",
       "3   NaN      NaN  V06037586           03/01/2006           1          2  \n",
       "4   NaN      NaN  V06037588           03/01/2006           1          2  "
      ]
     },
     "execution_count": 5,
     "metadata": {},
     "output_type": "execute_result"
    }
   ],
   "source": [
    "vs.head()"
   ]
  },
  {
   "cell_type": "markdown",
   "metadata": {},
   "source": [
    "### Violation Task"
   ]
  },
  {
   "cell_type": "code",
   "execution_count": 6,
   "metadata": {
    "collapsed": false
   },
   "outputs": [
    {
     "data": {
      "text/html": [
       "<div style=\"max-height:1000px;max-width:1500px;overflow:auto;\">\n",
       "<table border=\"1\" class=\"dataframe\">\n",
       "  <thead>\n",
       "    <tr style=\"text-align: right;\">\n",
       "      <th></th>\n",
       "      <th>violations_tasks</th>\n",
       "    </tr>\n",
       "    <tr>\n",
       "      <th>v_wf_task</th>\n",
       "      <th></th>\n",
       "    </tr>\n",
       "  </thead>\n",
       "  <tbody>\n",
       "    <tr>\n",
       "      <th>Application Acceptance</th>\n",
       "      <td> 5074</td>\n",
       "    </tr>\n",
       "    <tr>\n",
       "      <th>Closure</th>\n",
       "      <td> 3870</td>\n",
       "    </tr>\n",
       "    <tr>\n",
       "      <th>Condemnation</th>\n",
       "      <td>  194</td>\n",
       "    </tr>\n",
       "    <tr>\n",
       "      <th>Inspection</th>\n",
       "      <td> 8268</td>\n",
       "    </tr>\n",
       "    <tr>\n",
       "      <th>Non-Condemnation</th>\n",
       "      <td>  214</td>\n",
       "    </tr>\n",
       "    <tr>\n",
       "      <th>Prosecution</th>\n",
       "      <td>   42</td>\n",
       "    </tr>\n",
       "    <tr>\n",
       "      <th>Search Warrant</th>\n",
       "      <td>  138</td>\n",
       "    </tr>\n",
       "  </tbody>\n",
       "</table>\n",
       "</div>"
      ],
      "text/plain": [
       "                        violations_tasks\n",
       "v_wf_task                               \n",
       "Application Acceptance              5074\n",
       "Closure                             3870\n",
       "Condemnation                         194\n",
       "Inspection                          8268\n",
       "Non-Condemnation                     214\n",
       "Prosecution                           42\n",
       "Search Warrant                       138"
      ]
     },
     "execution_count": 6,
     "metadata": {},
     "output_type": "execute_result"
    }
   ],
   "source": [
    "vs_task = pd.DataFrame(vs.groupby('v_wf_task').count()['VIN'])\n",
    "vs_task.columns = ['violations_tasks']\n",
    "vs_task[vs_task.violations_tasks > 1]"
   ]
  },
  {
   "cell_type": "code",
   "execution_count": 7,
   "metadata": {
    "collapsed": false
   },
   "outputs": [
    {
     "name": "stdout",
     "output_type": "stream",
     "text": [
      "Closure 2227 0.197126178716\n",
      "Demolition Approval 1 1.0\n",
      "Application Acceptance 2805 0.28734402852\n",
      "Condemnation 148 0.540540540541\n",
      "Prosecution 28 0.5\n",
      "Search Warrant 120 0.416666666667\n",
      "Inspection 2745 0.289981785064\n",
      "Non-Condemnation 158 0.196202531646\n"
     ]
    }
   ],
   "source": [
    "for task in set(vs.v_wf_task):\n",
    "    a = pd.merge(tci, vs.loc[vs.v_wf_task==task,['parcel']].groupby('parcel').first(), how='inner', left_on = 'parcel', right_index=True)\n",
    "    print task, len(a), sum(a.vacant)*1.0/len(a.vacant)"
   ]
  },
  {
   "cell_type": "code",
   "execution_count": 8,
   "metadata": {
    "collapsed": true
   },
   "outputs": [],
   "source": [
    "def check_task(x):\n",
    "    if x in parcel_set:\n",
    "        return 1\n",
    "    else:\n",
    "        return 0\n",
    "    \n",
    "for task in vs_task.index:\n",
    "    parcel_set = set(vs.loc[vs.v_wf_task==task,'parcel'])\n",
    "    tci['task_'+task[0:3].lower()] = tci['parcel'].apply(check_task)"
   ]
  },
  {
   "cell_type": "markdown",
   "metadata": {},
   "source": [
    "### Violations count "
   ]
  },
  {
   "cell_type": "code",
   "execution_count": 9,
   "metadata": {
    "collapsed": false
   },
   "outputs": [
    {
     "data": {
      "text/plain": [
       "Index([u'parcel', u'House Number', u'Street Name', u'Category', u'Survey Date', u'vacant', u'zip', u'propsize', u'pclass', u'totusabl', u'tmktval', u'condition', u'condition_value', u'style_filtered', u'ownerocc_value', u'totbldgs', u'yrbuilt_filtered', u'rextwall', u'num_of_sales', u'quit_claim_deed', u'warranty_deed', u'limited_warranty', u'survivorship_deed', u'fiduciary_deed', u'mult_name_flag', u'SALE_VALID', u'county_land_bank', u'vindall_Y', u'vindall_P', u'task_app', u'task_clo', u'task_con', u'task_dem', u'task_ins', u'task_non', u'task_pro', u'task_sea'], dtype='object')"
      ]
     },
     "execution_count": 9,
     "metadata": {},
     "output_type": "execute_result"
    }
   ],
   "source": [
    "tci.columns"
   ]
  },
  {
   "cell_type": "code",
   "execution_count": 10,
   "metadata": {
    "collapsed": false
   },
   "outputs": [],
   "source": [
    "vs_count = pd.DataFrame(vs.groupby('parcel').count()['VIN'])\n",
    "vs_count.columns = ['violations_number']\n",
    "tci = pd.merge(tci, vs_count, \\\n",
    "               how='left', left_on='parcel', right_index=True)\n",
    "tci.loc[tci.violations_number.isnull(), 'violations_number'] = 0"
   ]
  },
  {
   "cell_type": "code",
   "execution_count": 11,
   "metadata": {
    "collapsed": false,
    "scrolled": true
   },
   "outputs": [
    {
     "data": {
      "text/html": [
       "<div style=\"max-height:1000px;max-width:1500px;overflow:auto;\">\n",
       "<table border=\"1\" class=\"dataframe\">\n",
       "  <thead>\n",
       "    <tr>\n",
       "      <th></th>\n",
       "      <th colspan=\"2\" halign=\"left\">vacant</th>\n",
       "    </tr>\n",
       "    <tr>\n",
       "      <th></th>\n",
       "      <th>sum</th>\n",
       "      <th>len</th>\n",
       "    </tr>\n",
       "    <tr>\n",
       "      <th>violations_number</th>\n",
       "      <th></th>\n",
       "      <th></th>\n",
       "    </tr>\n",
       "  </thead>\n",
       "  <tbody>\n",
       "    <tr>\n",
       "      <th>0 </th>\n",
       "      <td> 720</td>\n",
       "      <td> 10459</td>\n",
       "    </tr>\n",
       "    <tr>\n",
       "      <th>1 </th>\n",
       "      <td>  19</td>\n",
       "      <td>   147</td>\n",
       "    </tr>\n",
       "    <tr>\n",
       "      <th>2 </th>\n",
       "      <td> 117</td>\n",
       "      <td>   520</td>\n",
       "    </tr>\n",
       "    <tr>\n",
       "      <th>3 </th>\n",
       "      <td> 122</td>\n",
       "      <td>   696</td>\n",
       "    </tr>\n",
       "    <tr>\n",
       "      <th>4 </th>\n",
       "      <td>  70</td>\n",
       "      <td>   295</td>\n",
       "    </tr>\n",
       "    <tr>\n",
       "      <th>5 </th>\n",
       "      <td>  74</td>\n",
       "      <td>   215</td>\n",
       "    </tr>\n",
       "    <tr>\n",
       "      <th>6 </th>\n",
       "      <td>  73</td>\n",
       "      <td>   269</td>\n",
       "    </tr>\n",
       "    <tr>\n",
       "      <th>7 </th>\n",
       "      <td>  71</td>\n",
       "      <td>   136</td>\n",
       "    </tr>\n",
       "    <tr>\n",
       "      <th>8 </th>\n",
       "      <td>  50</td>\n",
       "      <td>   124</td>\n",
       "    </tr>\n",
       "    <tr>\n",
       "      <th>9 </th>\n",
       "      <td>  35</td>\n",
       "      <td>   105</td>\n",
       "    </tr>\n",
       "    <tr>\n",
       "      <th>10</th>\n",
       "      <td>  47</td>\n",
       "      <td>    99</td>\n",
       "    </tr>\n",
       "    <tr>\n",
       "      <th>11</th>\n",
       "      <td>  37</td>\n",
       "      <td>    82</td>\n",
       "    </tr>\n",
       "    <tr>\n",
       "      <th>12</th>\n",
       "      <td>  15</td>\n",
       "      <td>    68</td>\n",
       "    </tr>\n",
       "    <tr>\n",
       "      <th>13</th>\n",
       "      <td>  25</td>\n",
       "      <td>    51</td>\n",
       "    </tr>\n",
       "    <tr>\n",
       "      <th>14</th>\n",
       "      <td>  14</td>\n",
       "      <td>    47</td>\n",
       "    </tr>\n",
       "    <tr>\n",
       "      <th>15</th>\n",
       "      <td>  10</td>\n",
       "      <td>    29</td>\n",
       "    </tr>\n",
       "    <tr>\n",
       "      <th>16</th>\n",
       "      <td>   7</td>\n",
       "      <td>    20</td>\n",
       "    </tr>\n",
       "    <tr>\n",
       "      <th>17</th>\n",
       "      <td>  10</td>\n",
       "      <td>    22</td>\n",
       "    </tr>\n",
       "    <tr>\n",
       "      <th>18</th>\n",
       "      <td>   7</td>\n",
       "      <td>    16</td>\n",
       "    </tr>\n",
       "    <tr>\n",
       "      <th>19</th>\n",
       "      <td>  10</td>\n",
       "      <td>    24</td>\n",
       "    </tr>\n",
       "    <tr>\n",
       "      <th>20</th>\n",
       "      <td>   3</td>\n",
       "      <td>    11</td>\n",
       "    </tr>\n",
       "    <tr>\n",
       "      <th>21</th>\n",
       "      <td>   7</td>\n",
       "      <td>    17</td>\n",
       "    </tr>\n",
       "    <tr>\n",
       "      <th>22</th>\n",
       "      <td>   2</td>\n",
       "      <td>     7</td>\n",
       "    </tr>\n",
       "    <tr>\n",
       "      <th>23</th>\n",
       "      <td>   0</td>\n",
       "      <td>     7</td>\n",
       "    </tr>\n",
       "    <tr>\n",
       "      <th>24</th>\n",
       "      <td>   0</td>\n",
       "      <td>     5</td>\n",
       "    </tr>\n",
       "    <tr>\n",
       "      <th>25</th>\n",
       "      <td>   0</td>\n",
       "      <td>     5</td>\n",
       "    </tr>\n",
       "    <tr>\n",
       "      <th>26</th>\n",
       "      <td>   4</td>\n",
       "      <td>     5</td>\n",
       "    </tr>\n",
       "    <tr>\n",
       "      <th>27</th>\n",
       "      <td>   2</td>\n",
       "      <td>     3</td>\n",
       "    </tr>\n",
       "    <tr>\n",
       "      <th>28</th>\n",
       "      <td>   0</td>\n",
       "      <td>     4</td>\n",
       "    </tr>\n",
       "    <tr>\n",
       "      <th>29</th>\n",
       "      <td>   1</td>\n",
       "      <td>     3</td>\n",
       "    </tr>\n",
       "    <tr>\n",
       "      <th>30</th>\n",
       "      <td>   1</td>\n",
       "      <td>     2</td>\n",
       "    </tr>\n",
       "    <tr>\n",
       "      <th>32</th>\n",
       "      <td>   0</td>\n",
       "      <td>     2</td>\n",
       "    </tr>\n",
       "    <tr>\n",
       "      <th>33</th>\n",
       "      <td>   1</td>\n",
       "      <td>     1</td>\n",
       "    </tr>\n",
       "    <tr>\n",
       "      <th>34</th>\n",
       "      <td>   0</td>\n",
       "      <td>     1</td>\n",
       "    </tr>\n",
       "    <tr>\n",
       "      <th>36</th>\n",
       "      <td>   0</td>\n",
       "      <td>     1</td>\n",
       "    </tr>\n",
       "    <tr>\n",
       "      <th>38</th>\n",
       "      <td>   1</td>\n",
       "      <td>     1</td>\n",
       "    </tr>\n",
       "    <tr>\n",
       "      <th>54</th>\n",
       "      <td>   0</td>\n",
       "      <td>     1</td>\n",
       "    </tr>\n",
       "  </tbody>\n",
       "</table>\n",
       "</div>"
      ],
      "text/plain": [
       "                  vacant       \n",
       "                     sum    len\n",
       "violations_number              \n",
       "0                    720  10459\n",
       "1                     19    147\n",
       "2                    117    520\n",
       "3                    122    696\n",
       "4                     70    295\n",
       "5                     74    215\n",
       "6                     73    269\n",
       "7                     71    136\n",
       "8                     50    124\n",
       "9                     35    105\n",
       "10                    47     99\n",
       "11                    37     82\n",
       "12                    15     68\n",
       "13                    25     51\n",
       "14                    14     47\n",
       "15                    10     29\n",
       "16                     7     20\n",
       "17                    10     22\n",
       "18                     7     16\n",
       "19                    10     24\n",
       "20                     3     11\n",
       "21                     7     17\n",
       "22                     2      7\n",
       "23                     0      7\n",
       "24                     0      5\n",
       "25                     0      5\n",
       "26                     4      5\n",
       "27                     2      3\n",
       "28                     0      4\n",
       "29                     1      3\n",
       "30                     1      2\n",
       "32                     0      2\n",
       "33                     1      1\n",
       "34                     0      1\n",
       "36                     0      1\n",
       "38                     1      1\n",
       "54                     0      1"
      ]
     },
     "execution_count": 11,
     "metadata": {},
     "output_type": "execute_result"
    }
   ],
   "source": [
    "tci[['violations_number','vacant']].groupby('violations_number').agg([sum, len])"
   ]
  },
  {
   "cell_type": "code",
   "execution_count": 12,
   "metadata": {
    "collapsed": false
   },
   "outputs": [
    {
     "data": {
      "text/plain": [
       "0.36091954022988504"
      ]
     },
     "execution_count": 12,
     "metadata": {},
     "output_type": "execute_result"
    }
   ],
   "source": [
    "sum(tci.loc[tci['violations_number']>10,'vacant'])*1.0/len(tci.loc[tci['violations_number']>10,'vacant'])"
   ]
  },
  {
   "cell_type": "markdown",
   "metadata": {},
   "source": [
    "### Violation types"
   ]
  },
  {
   "cell_type": "code",
   "execution_count": 13,
   "metadata": {
    "collapsed": true
   },
   "outputs": [],
   "source": [
    "vs_type = pd.DataFrame(vs.groupby('v_type_of_violation').count()['VIN'])\n",
    "vs_type.columns = ['violations_type']"
   ]
  },
  {
   "cell_type": "code",
   "execution_count": 14,
   "metadata": {
    "collapsed": false
   },
   "outputs": [
    {
     "data": {
      "text/html": [
       "<div style=\"max-height:1000px;max-width:1500px;overflow:auto;\">\n",
       "<table border=\"1\" class=\"dataframe\">\n",
       "  <thead>\n",
       "    <tr style=\"text-align: right;\">\n",
       "      <th></th>\n",
       "      <th>violations_type</th>\n",
       "    </tr>\n",
       "    <tr>\n",
       "      <th>v_type_of_violation</th>\n",
       "      <th></th>\n",
       "    </tr>\n",
       "  </thead>\n",
       "  <tbody>\n",
       "    <tr>\n",
       "      <th>Condemnation - Main Structure</th>\n",
       "      <td> 4858</td>\n",
       "    </tr>\n",
       "    <tr>\n",
       "      <th>Exterior Maintenance</th>\n",
       "      <td> 4490</td>\n",
       "    </tr>\n",
       "    <tr>\n",
       "      <th>Condemnation - Garage</th>\n",
       "      <td> 2143</td>\n",
       "    </tr>\n",
       "    <tr>\n",
       "      <th>Survey</th>\n",
       "      <td> 1793</td>\n",
       "    </tr>\n",
       "    <tr>\n",
       "      <th>Interior/Exterior Maintenance</th>\n",
       "      <td>  488</td>\n",
       "    </tr>\n",
       "    <tr>\n",
       "      <th>30 Day Condemnation</th>\n",
       "      <td>  293</td>\n",
       "    </tr>\n",
       "    <tr>\n",
       "      <th>Fire Damage</th>\n",
       "      <td>  271</td>\n",
       "    </tr>\n",
       "    <tr>\n",
       "      <th>30 Day Condemnation MS</th>\n",
       "      <td>  267</td>\n",
       "    </tr>\n",
       "    <tr>\n",
       "      <th>30 Day Condemnation Garage</th>\n",
       "      <td>  225</td>\n",
       "    </tr>\n",
       "    <tr>\n",
       "      <th>No Permit</th>\n",
       "      <td>  166</td>\n",
       "    </tr>\n",
       "    <tr>\n",
       "      <th>General Maintenance</th>\n",
       "      <td>  130</td>\n",
       "    </tr>\n",
       "    <tr>\n",
       "      <th>Elevator</th>\n",
       "      <td>  128</td>\n",
       "    </tr>\n",
       "    <tr>\n",
       "      <th>Plumbing</th>\n",
       "      <td>  117</td>\n",
       "    </tr>\n",
       "    <tr>\n",
       "      <th>Interior Maintenance</th>\n",
       "      <td>  115</td>\n",
       "    </tr>\n",
       "    <tr>\n",
       "      <th>30 Day Fire Damage Repair MS</th>\n",
       "      <td>   98</td>\n",
       "    </tr>\n",
       "    <tr>\n",
       "      <th>Int/Ext Maintenance</th>\n",
       "      <td>   86</td>\n",
       "    </tr>\n",
       "    <tr>\n",
       "      <th>Zoning</th>\n",
       "      <td>   68</td>\n",
       "    </tr>\n",
       "    <tr>\n",
       "      <th>Electrical</th>\n",
       "      <td>   61</td>\n",
       "    </tr>\n",
       "    <tr>\n",
       "      <th>Forthwith Condemnation MS</th>\n",
       "      <td>   61</td>\n",
       "    </tr>\n",
       "    <tr>\n",
       "      <th>30 Day Det. Cond. Garage</th>\n",
       "      <td>   59</td>\n",
       "    </tr>\n",
       "    <tr>\n",
       "      <th>HVAC</th>\n",
       "      <td>   58</td>\n",
       "    </tr>\n",
       "    <tr>\n",
       "      <th>Vacate</th>\n",
       "      <td>   56</td>\n",
       "    </tr>\n",
       "    <tr>\n",
       "      <th>Condemnation</th>\n",
       "      <td>   54</td>\n",
       "    </tr>\n",
       "    <tr>\n",
       "      <th>Poor Workmanship</th>\n",
       "      <td>   53</td>\n",
       "    </tr>\n",
       "    <tr>\n",
       "      <th>Unauthorized/Illegal Use</th>\n",
       "      <td>   49</td>\n",
       "    </tr>\n",
       "    <tr>\n",
       "      <th>14 Day Condemnation MS</th>\n",
       "      <td>   47</td>\n",
       "    </tr>\n",
       "    <tr>\n",
       "      <th>Condemnation - Shed</th>\n",
       "      <td>   39</td>\n",
       "    </tr>\n",
       "    <tr>\n",
       "      <th>Rental Registration</th>\n",
       "      <td>   32</td>\n",
       "    </tr>\n",
       "    <tr>\n",
       "      <th>Hazardous Conditions</th>\n",
       "      <td>   31</td>\n",
       "    </tr>\n",
       "    <tr>\n",
       "      <th>Nuisance Abate</th>\n",
       "      <td>   23</td>\n",
       "    </tr>\n",
       "    <tr>\n",
       "      <th>...</th>\n",
       "      <td>...</td>\n",
       "    </tr>\n",
       "    <tr>\n",
       "      <th>Fire</th>\n",
       "      <td>   15</td>\n",
       "    </tr>\n",
       "    <tr>\n",
       "      <th>30 Day Det. Cond. MS</th>\n",
       "      <td>   12</td>\n",
       "    </tr>\n",
       "    <tr>\n",
       "      <th>14 Day Condemnation Garage</th>\n",
       "      <td>   11</td>\n",
       "    </tr>\n",
       "    <tr>\n",
       "      <th>Stop Work Order</th>\n",
       "      <td>    9</td>\n",
       "    </tr>\n",
       "    <tr>\n",
       "      <th>Illegal Auto Repair</th>\n",
       "      <td>    9</td>\n",
       "    </tr>\n",
       "    <tr>\n",
       "      <th>Illegal Conversion</th>\n",
       "      <td>    9</td>\n",
       "    </tr>\n",
       "    <tr>\n",
       "      <th>Fence</th>\n",
       "      <td>    8</td>\n",
       "    </tr>\n",
       "    <tr>\n",
       "      <th>No Heat</th>\n",
       "      <td>    8</td>\n",
       "    </tr>\n",
       "    <tr>\n",
       "      <th>Garage Condemnation</th>\n",
       "      <td>    7</td>\n",
       "    </tr>\n",
       "    <tr>\n",
       "      <th>Hazardous Structure</th>\n",
       "      <td>    7</td>\n",
       "    </tr>\n",
       "    <tr>\n",
       "      <th>Auto Repairing</th>\n",
       "      <td>    6</td>\n",
       "    </tr>\n",
       "    <tr>\n",
       "      <th>No Permit/No Inspection</th>\n",
       "      <td>    6</td>\n",
       "    </tr>\n",
       "    <tr>\n",
       "      <th>30 Day Fire Damage Repair Gar</th>\n",
       "      <td>    6</td>\n",
       "    </tr>\n",
       "    <tr>\n",
       "      <th>Peeling Paint</th>\n",
       "      <td>    6</td>\n",
       "    </tr>\n",
       "    <tr>\n",
       "      <th>Repairs-No Permit</th>\n",
       "      <td>    5</td>\n",
       "    </tr>\n",
       "    <tr>\n",
       "      <th>Display Signs</th>\n",
       "      <td>    5</td>\n",
       "    </tr>\n",
       "    <tr>\n",
       "      <th>72 HR Emergency Cond. Garage</th>\n",
       "      <td>    4</td>\n",
       "    </tr>\n",
       "    <tr>\n",
       "      <th>Residential Maintenance</th>\n",
       "      <td>    4</td>\n",
       "    </tr>\n",
       "    <tr>\n",
       "      <th>14 Day Vacate</th>\n",
       "      <td>    4</td>\n",
       "    </tr>\n",
       "    <tr>\n",
       "      <th>Forthwith Fire Cond. Garage</th>\n",
       "      <td>    3</td>\n",
       "    </tr>\n",
       "    <tr>\n",
       "      <th>High Weeds and Debris</th>\n",
       "      <td>    3</td>\n",
       "    </tr>\n",
       "    <tr>\n",
       "      <th>7 Day Condemnation Garage</th>\n",
       "      <td>    3</td>\n",
       "    </tr>\n",
       "    <tr>\n",
       "      <th>Junk and Debris</th>\n",
       "      <td>    3</td>\n",
       "    </tr>\n",
       "    <tr>\n",
       "      <th>24 Hour Vacate</th>\n",
       "      <td>    3</td>\n",
       "    </tr>\n",
       "    <tr>\n",
       "      <th>72 HR Emergency Fire Cond. MS</th>\n",
       "      <td>    3</td>\n",
       "    </tr>\n",
       "    <tr>\n",
       "      <th>Erect Without a Permit</th>\n",
       "      <td>    2</td>\n",
       "    </tr>\n",
       "    <tr>\n",
       "      <th>No Water</th>\n",
       "      <td>    2</td>\n",
       "    </tr>\n",
       "    <tr>\n",
       "      <th>Junk Cars</th>\n",
       "      <td>    2</td>\n",
       "    </tr>\n",
       "    <tr>\n",
       "      <th>High Grass and Weeds</th>\n",
       "      <td>    2</td>\n",
       "    </tr>\n",
       "    <tr>\n",
       "      <th>30 Day Deteriorated Garage</th>\n",
       "      <td>    1</td>\n",
       "    </tr>\n",
       "  </tbody>\n",
       "</table>\n",
       "<p>66 rows × 1 columns</p>\n",
       "</div>"
      ],
      "text/plain": [
       "                               violations_type\n",
       "v_type_of_violation                           \n",
       "Condemnation - Main Structure             4858\n",
       "Exterior Maintenance                      4490\n",
       "Condemnation - Garage                     2143\n",
       "Survey                                    1793\n",
       "Interior/Exterior Maintenance              488\n",
       "30 Day Condemnation                        293\n",
       "Fire Damage                                271\n",
       "30 Day Condemnation MS                     267\n",
       "30 Day Condemnation Garage                 225\n",
       "No Permit                                  166\n",
       "General Maintenance                        130\n",
       "Elevator                                   128\n",
       "Plumbing                                   117\n",
       "Interior Maintenance                       115\n",
       "30 Day Fire Damage Repair MS                98\n",
       "Int/Ext Maintenance                         86\n",
       "Zoning                                      68\n",
       "Electrical                                  61\n",
       "Forthwith Condemnation MS                   61\n",
       "30 Day Det. Cond. Garage                    59\n",
       "HVAC                                        58\n",
       "Vacate                                      56\n",
       "Condemnation                                54\n",
       "Poor Workmanship                            53\n",
       "Unauthorized/Illegal Use                    49\n",
       "14 Day Condemnation MS                      47\n",
       "Condemnation - Shed                         39\n",
       "Rental Registration                         32\n",
       "Hazardous Conditions                        31\n",
       "Nuisance Abate                              23\n",
       "...                                        ...\n",
       "Fire                                        15\n",
       "30 Day Det. Cond. MS                        12\n",
       "14 Day Condemnation Garage                  11\n",
       "Stop Work Order                              9\n",
       "Illegal Auto Repair                          9\n",
       "Illegal Conversion                           9\n",
       "Fence                                        8\n",
       "No Heat                                      8\n",
       "Garage Condemnation                          7\n",
       "Hazardous Structure                          7\n",
       "Auto Repairing                               6\n",
       "No Permit/No Inspection                      6\n",
       "30 Day Fire Damage Repair Gar                6\n",
       "Peeling Paint                                6\n",
       "Repairs-No Permit                            5\n",
       "Display Signs                                5\n",
       "72 HR Emergency Cond. Garage                 4\n",
       "Residential Maintenance                      4\n",
       "14 Day Vacate                                4\n",
       "Forthwith Fire Cond. Garage                  3\n",
       "High Weeds and Debris                        3\n",
       "7 Day Condemnation Garage                    3\n",
       "Junk and Debris                              3\n",
       "24 Hour Vacate                               3\n",
       "72 HR Emergency Fire Cond. MS                3\n",
       "Erect Without a Permit                       2\n",
       "No Water                                     2\n",
       "Junk Cars                                    2\n",
       "High Grass and Weeds                         2\n",
       "30 Day Deteriorated Garage                   1\n",
       "\n",
       "[66 rows x 1 columns]"
      ]
     },
     "execution_count": 14,
     "metadata": {},
     "output_type": "execute_result"
    }
   ],
   "source": [
    "vs_type.sort(columns='violations_type', ascending=False)"
   ]
  },
  {
   "cell_type": "code",
   "execution_count": 15,
   "metadata": {
    "collapsed": false
   },
   "outputs": [],
   "source": [
    "vs_types = vs_type[vs_type['violations_type']>200].index"
   ]
  },
  {
   "cell_type": "code",
   "execution_count": 16,
   "metadata": {
    "collapsed": false
   },
   "outputs": [
    {
     "data": {
      "text/plain": [
       "Index([u'30 Day Condemnation', u'30 Day Condemnation Garage', u'30 Day Condemnation MS', u'Condemnation - Garage', u'Condemnation - Main Structure', u'Exterior Maintenance', u'Fire Damage', u'Interior/Exterior Maintenance', u'Survey'], dtype='object')"
      ]
     },
     "execution_count": 16,
     "metadata": {},
     "output_type": "execute_result"
    }
   ],
   "source": [
    "vs_types"
   ]
  },
  {
   "cell_type": "code",
   "execution_count": 17,
   "metadata": {
    "collapsed": true
   },
   "outputs": [],
   "source": [
    "def check_vio(x):\n",
    "    if x in parcel_set:\n",
    "        return 1\n",
    "    else:\n",
    "        return 0"
   ]
  },
  {
   "cell_type": "code",
   "execution_count": 18,
   "metadata": {
    "collapsed": false
   },
   "outputs": [
    {
     "name": "stdout",
     "output_type": "stream",
     "text": [
      "violation_30 day condemnation 112 0.0714285714286\n",
      "violation_30 day condemnation garage 87 0.103448275862\n",
      "violation_30 day condemnation ms 98 0.0408163265306\n",
      "violation_condemnation - garage 556 0.435251798561\n",
      "violation_condemnation - main structure 1256 0.438694267516\n",
      "violation_exterior maintenance 1087 0.199632014719\n",
      "violation_fire damage 75 0.16\n",
      "violation_interior/exterior maintenance 135 0.177777777778\n",
      "violation_survey 472 0.39406779661\n"
     ]
    }
   ],
   "source": [
    "for vio in vs_types:\n",
    "    parcel_set = set(vs.loc[vs.v_type_of_violation==vio,'parcel'])\n",
    "    tci['violation_'+vio.lower()] = tci['parcel'].apply(check_vio)\n",
    "    a = tci.loc[tci['violation_'+vio.lower()]==1, 'vacant']\n",
    "    print 'violation_'+vio.lower(), len(a), sum(a)*1.0/len(a)"
   ]
  },
  {
   "cell_type": "markdown",
   "metadata": {},
   "source": [
    "## Complaints"
   ]
  },
  {
   "cell_type": "code",
   "execution_count": 19,
   "metadata": {
    "collapsed": true
   },
   "outputs": [],
   "source": [
    "cp = pd.read_csv('clean_data/complaints_tci.csv', parse_dates = [2])"
   ]
  },
  {
   "cell_type": "code",
   "execution_count": 20,
   "metadata": {
    "collapsed": false
   },
   "outputs": [
    {
     "name": "stdout",
     "output_type": "stream",
     "text": [
      "<class 'pandas.core.frame.DataFrame'>\n",
      "Int64Index: 35114 entries, 0 to 35113\n",
      "Data columns (total 20 columns):\n",
      "Unnamed: 0             35114 non-null int64\n",
      "complaint_id           35114 non-null object\n",
      "c_file_date            35114 non-null datetime64[ns]\n",
      "c_wf_task              35114 non-null object\n",
      "c_wf_task_status       34177 non-null object\n",
      "c_wf_task_date         35114 non-null object\n",
      "c_type_of_complaint    34488 non-null object\n",
      "cdc_ri                 0 non-null float64\n",
      "cdc_corrected          0 non-null float64\n",
      "cdc_referred           34 non-null float64\n",
      "othercomp              28782 non-null float64\n",
      "parcel                 35114 non-null object\n",
      "parcel1                2268 non-null float64\n",
      "cdc_comp               0 non-null float64\n",
      "cdccia_comp            0 non-null float64\n",
      "council_comp           0 non-null float64\n",
      "mac_comp               0 non-null float64\n",
      "public_comp            0 non-null float64\n",
      "other_comp             0 non-null float64\n",
      "comp_source            34177 non-null object\n",
      "dtypes: datetime64[ns](1), float64(11), int64(1), object(7)\n",
      "memory usage: 5.6+ MB\n"
     ]
    }
   ],
   "source": [
    "cp.info()"
   ]
  },
  {
   "cell_type": "code",
   "execution_count": 21,
   "metadata": {
    "collapsed": false
   },
   "outputs": [
    {
     "data": {
      "text/html": [
       "<div style=\"max-height:1000px;max-width:1500px;overflow:auto;\">\n",
       "<table border=\"1\" class=\"dataframe\">\n",
       "  <thead>\n",
       "    <tr style=\"text-align: right;\">\n",
       "      <th></th>\n",
       "      <th>Unnamed: 0</th>\n",
       "      <th>complaint_id</th>\n",
       "      <th>c_file_date</th>\n",
       "      <th>c_wf_task</th>\n",
       "      <th>c_wf_task_status</th>\n",
       "      <th>c_wf_task_date</th>\n",
       "      <th>c_type_of_complaint</th>\n",
       "      <th>cdc_ri</th>\n",
       "      <th>cdc_corrected</th>\n",
       "      <th>cdc_referred</th>\n",
       "      <th>othercomp</th>\n",
       "      <th>parcel</th>\n",
       "      <th>parcel1</th>\n",
       "      <th>cdc_comp</th>\n",
       "      <th>cdccia_comp</th>\n",
       "      <th>council_comp</th>\n",
       "      <th>mac_comp</th>\n",
       "      <th>public_comp</th>\n",
       "      <th>other_comp</th>\n",
       "      <th>comp_source</th>\n",
       "    </tr>\n",
       "  </thead>\n",
       "  <tbody>\n",
       "    <tr>\n",
       "      <th>0</th>\n",
       "      <td> 30411</td>\n",
       "      <td> CMP06037851</td>\n",
       "      <td>2006-03-06</td>\n",
       "      <td> Complaint Acceptance</td>\n",
       "      <td> Complaint Application Accepted</td>\n",
       "      <td> 03/29/2007</td>\n",
       "      <td> NaN</td>\n",
       "      <td>NaN</td>\n",
       "      <td>NaN</td>\n",
       "      <td>NaN</td>\n",
       "      <td> 1</td>\n",
       "      <td> 137-01-026</td>\n",
       "      <td>NaN</td>\n",
       "      <td>NaN</td>\n",
       "      <td>NaN</td>\n",
       "      <td>NaN</td>\n",
       "      <td>NaN</td>\n",
       "      <td>NaN</td>\n",
       "      <td>NaN</td>\n",
       "      <td> Public</td>\n",
       "    </tr>\n",
       "    <tr>\n",
       "      <th>1</th>\n",
       "      <td> 30412</td>\n",
       "      <td> CMP06037851</td>\n",
       "      <td>2006-03-06</td>\n",
       "      <td>           Inspection</td>\n",
       "      <td>            Inspection Approved</td>\n",
       "      <td> 03/29/2007</td>\n",
       "      <td> NaN</td>\n",
       "      <td>NaN</td>\n",
       "      <td>NaN</td>\n",
       "      <td>NaN</td>\n",
       "      <td> 1</td>\n",
       "      <td> 137-01-026</td>\n",
       "      <td>NaN</td>\n",
       "      <td>NaN</td>\n",
       "      <td>NaN</td>\n",
       "      <td>NaN</td>\n",
       "      <td>NaN</td>\n",
       "      <td>NaN</td>\n",
       "      <td>NaN</td>\n",
       "      <td> Public</td>\n",
       "    </tr>\n",
       "  </tbody>\n",
       "</table>\n",
       "</div>"
      ],
      "text/plain": [
       "   Unnamed: 0 complaint_id c_file_date             c_wf_task  \\\n",
       "0       30411  CMP06037851  2006-03-06  Complaint Acceptance   \n",
       "1       30412  CMP06037851  2006-03-06            Inspection   \n",
       "\n",
       "                 c_wf_task_status c_wf_task_date c_type_of_complaint  cdc_ri  \\\n",
       "0  Complaint Application Accepted     03/29/2007                 NaN     NaN   \n",
       "1             Inspection Approved     03/29/2007                 NaN     NaN   \n",
       "\n",
       "   cdc_corrected  cdc_referred  othercomp      parcel  parcel1  cdc_comp  \\\n",
       "0            NaN           NaN          1  137-01-026      NaN       NaN   \n",
       "1            NaN           NaN          1  137-01-026      NaN       NaN   \n",
       "\n",
       "   cdccia_comp  council_comp  mac_comp  public_comp  other_comp comp_source  \n",
       "0          NaN           NaN       NaN          NaN         NaN      Public  \n",
       "1          NaN           NaN       NaN          NaN         NaN      Public  "
      ]
     },
     "execution_count": 21,
     "metadata": {},
     "output_type": "execute_result"
    }
   ],
   "source": [
    "cp.head(2)"
   ]
  },
  {
   "cell_type": "code",
   "execution_count": 22,
   "metadata": {
    "collapsed": false
   },
   "outputs": [
    {
     "data": {
      "text/plain": [
       "c_type_of_complaint\n",
       "Black Mold                                  45\n",
       "Collapsing Structure                       678\n",
       "Complete interior/exterior                4208\n",
       "Court Ordered Inspection                    12\n",
       "Daycare                                     12\n",
       "Debris/Garbage/Junk                         39\n",
       "Debris/Garbage/Junk (Occupied)             216\n",
       "Debris/Garbage/Junk (Vacant)               113\n",
       "Doors/Gate/Locks                           107\n",
       "Driveway                                    28\n",
       "Dumping                                      2\n",
       "Dumping Private (Vacant)                    48\n",
       "Dumping Public                               4\n",
       "Electrical                                 891\n",
       "Elevator                                    19\n",
       "Fence                                      123\n",
       "Fire Damage                               1952\n",
       "Foundation issues (animals entering)        11\n",
       "Garage/Shed/Outbuildings                   359\n",
       "General Exterior Maintenance              2279\n",
       "Graffiti                                    21\n",
       "Grass/Weeds/Bushes                           9\n",
       "Grass/Weeds/bushes                          11\n",
       "Grass/Weeds/bushes (Occupied)              234\n",
       "Grass/Weeds/bushes (Vacant)                158\n",
       "Gutters/Chimney/Downspouts/Shin              4\n",
       "Gutters/Chimney/Downspouts/Shingles        186\n",
       "HVAC                                       403\n",
       "Illegal Operation                            9\n",
       "Illegal Operation/Illegal Auto Repair      218\n",
       "Infestation                                  3\n",
       "Infestation/Animals/Rodents                 44\n",
       "Interior                                    35\n",
       "Interior Flooding                           59\n",
       "Interior-Mechanical Systems                 25\n",
       "Lead/Peeling Paint                          17\n",
       "No Heat                                    154\n",
       "No Permit                                  494\n",
       "No Water                                   166\n",
       "No heat                                     23\n",
       "No water                                     7\n",
       "O.V.V.                                   18819\n",
       "OTHER (Please describe below)              409\n",
       "Paint/Lead/Peeling                           1\n",
       "Plumbing                                   827\n",
       "Porch                                      171\n",
       "Rental Registration                        117\n",
       "Roof                                       221\n",
       "Siding                                      17\n",
       "Smoke Detectors                             21\n",
       "Tires (Vacant)                               2\n",
       "Trees                                        2\n",
       "Trees (Occupied)                            28\n",
       "Trees (Vacant)                              13\n",
       "Unlicensed Vehicles                        211\n",
       "Unlicensed Vehicles/Tires                   14\n",
       "Windows                                    135\n",
       "Zoning Violations                           54\n",
       "Name: complaint_id, Length: 58, dtype: int64"
      ]
     },
     "execution_count": 22,
     "metadata": {},
     "output_type": "execute_result"
    }
   ],
   "source": [
    "cp.groupby('c_type_of_complaint').count()['complaint_id']"
   ]
  },
  {
   "cell_type": "markdown",
   "metadata": {},
   "source": [
    "### Complaint type"
   ]
  },
  {
   "cell_type": "code",
   "execution_count": 23,
   "metadata": {
    "collapsed": false
   },
   "outputs": [],
   "source": [
    "cp_type = pd.DataFrame(cp.groupby('c_type_of_complaint').count()['complaint_id'])\n",
    "cp_type.columns = ['complaint_type']"
   ]
  },
  {
   "cell_type": "code",
   "execution_count": 25,
   "metadata": {
    "collapsed": false
   },
   "outputs": [
    {
     "data": {
      "text/html": [
       "<div style=\"max-height:1000px;max-width:1500px;overflow:auto;\">\n",
       "<table border=\"1\" class=\"dataframe\">\n",
       "  <thead>\n",
       "    <tr style=\"text-align: right;\">\n",
       "      <th></th>\n",
       "      <th>complaint_type</th>\n",
       "    </tr>\n",
       "    <tr>\n",
       "      <th>c_type_of_complaint</th>\n",
       "      <th></th>\n",
       "    </tr>\n",
       "  </thead>\n",
       "  <tbody>\n",
       "    <tr>\n",
       "      <th>Collapsing Structure</th>\n",
       "      <td>   678</td>\n",
       "    </tr>\n",
       "    <tr>\n",
       "      <th>Complete interior/exterior</th>\n",
       "      <td>  4208</td>\n",
       "    </tr>\n",
       "    <tr>\n",
       "      <th>Electrical</th>\n",
       "      <td>   891</td>\n",
       "    </tr>\n",
       "    <tr>\n",
       "      <th>Fire Damage</th>\n",
       "      <td>  1952</td>\n",
       "    </tr>\n",
       "    <tr>\n",
       "      <th>General Exterior Maintenance</th>\n",
       "      <td>  2279</td>\n",
       "    </tr>\n",
       "    <tr>\n",
       "      <th>O.V.V.</th>\n",
       "      <td> 18819</td>\n",
       "    </tr>\n",
       "    <tr>\n",
       "      <th>Plumbing</th>\n",
       "      <td>   827</td>\n",
       "    </tr>\n",
       "  </tbody>\n",
       "</table>\n",
       "</div>"
      ],
      "text/plain": [
       "                              complaint_type\n",
       "c_type_of_complaint                         \n",
       "Collapsing Structure                     678\n",
       "Complete interior/exterior              4208\n",
       "Electrical                               891\n",
       "Fire Damage                             1952\n",
       "General Exterior Maintenance            2279\n",
       "O.V.V.                                 18819\n",
       "Plumbing                                 827"
      ]
     },
     "execution_count": 25,
     "metadata": {},
     "output_type": "execute_result"
    }
   ],
   "source": [
    "cp_type[cp_type['complaint_type']>500]"
   ]
  },
  {
   "cell_type": "code",
   "execution_count": 27,
   "metadata": {
    "collapsed": false
   },
   "outputs": [
    {
     "name": "stdout",
     "output_type": "stream",
     "text": [
      "complaint_collapsing structure 142 0.267605633803\n",
      "complaint_complete interior/exterior 862 0.359628770302\n",
      "complaint_electrical 182 0.214285714286\n",
      "complaint_fire damage 464 0.185344827586\n",
      "complaint_general exterior maintenance 487 0.221765913758\n",
      "complaint_o.v.v. 2393 0.374843292938\n",
      "complaint_plumbing 173 0.196531791908\n"
     ]
    }
   ],
   "source": [
    "def check_complaint(x):\n",
    "    if x in parcel_set:\n",
    "        return 1\n",
    "    else:\n",
    "        return 0\n",
    "    \n",
    "for complaint in cp_type[cp_type['complaint_type']>500].index:\n",
    "    parcel_set = set(cp.loc[cp.c_type_of_complaint==complaint,'parcel'])\n",
    "    tci['complaint_'+complaint.lower()] = tci['parcel'].apply(check_complaint)\n",
    "    a = tci.loc[tci['complaint_'+complaint.lower()]==1, 'vacant']\n",
    "    print 'complaint_'+complaint.lower(), len(a), sum(a)*1.0/len(a)"
   ]
  },
  {
   "cell_type": "markdown",
   "metadata": {},
   "source": [
    "### Complaint count (all)"
   ]
  },
  {
   "cell_type": "code",
   "execution_count": 28,
   "metadata": {
    "collapsed": false,
    "scrolled": true
   },
   "outputs": [],
   "source": [
    "cp_count = pd.DataFrame(cp.groupby('parcel').count()['complaint_id'])\n",
    "cp_count.columns = ['complaint_count']\n",
    "tci = pd.merge(tci, cp_count, \\\n",
    "               how='left', left_on='parcel', right_index=True)\n",
    "tci.loc[tci.complaint_count.isnull(), 'complaint_count'] = 0"
   ]
  },
  {
   "cell_type": "code",
   "execution_count": 30,
   "metadata": {
    "collapsed": false
   },
   "outputs": [
    {
     "data": {
      "text/plain": [
       "0.44293478260869568"
      ]
     },
     "execution_count": 30,
     "metadata": {},
     "output_type": "execute_result"
    }
   ],
   "source": [
    "sum(tci.loc[tci.complaint_count>10, 'vacant'])*1.0/len(tci.loc[tci.complaint_count>10, 'vacant'])"
   ]
  },
  {
   "cell_type": "markdown",
   "metadata": {},
   "source": [
    "### Complaint count (6 months)"
   ]
  },
  {
   "cell_type": "code",
   "execution_count": 31,
   "metadata": {
    "collapsed": false
   },
   "outputs": [],
   "source": [
    "cp_count = pd.DataFrame(cp[cp.c_file_date>dt.datetime(2013, 9, 1)].groupby('parcel').count()['complaint_id'])\n",
    "cp_count.columns = ['complaint_count_6_mon']\n",
    "tci = pd.merge(tci, cp_count, \\\n",
    "               how='left', left_on='parcel', right_index=True)\n",
    "tci.loc[tci.complaint_count_6_mon.isnull(), 'complaint_count_6_mon'] = 0"
   ]
  },
  {
   "cell_type": "code",
   "execution_count": 32,
   "metadata": {
    "collapsed": false
   },
   "outputs": [
    {
     "data": {
      "text/plain": [
       "0.53640776699029125"
      ]
     },
     "execution_count": 32,
     "metadata": {},
     "output_type": "execute_result"
    }
   ],
   "source": [
    "sum(tci.loc[tci.complaint_count_6_mon>2, 'vacant'])*1.0/len(tci.loc[tci.complaint_count_6_mon>2, 'vacant'])"
   ]
  },
  {
   "cell_type": "markdown",
   "metadata": {},
   "source": [
    "### Complain count (3 months)"
   ]
  },
  {
   "cell_type": "code",
   "execution_count": 33,
   "metadata": {
    "collapsed": false
   },
   "outputs": [],
   "source": [
    "cp_count = pd.DataFrame(cp[cp.c_file_date>dt.datetime(2013, 12, 1)].groupby('parcel').count()['complaint_id'])\n",
    "cp_count.columns = ['complaint_count_3_mon']\n",
    "tci = pd.merge(tci, cp_count, \\\n",
    "               how='left', left_on='parcel', right_index=True)\n",
    "tci.loc[tci.complaint_count_3_mon.isnull(), 'complaint_count_3_mon'] = 0"
   ]
  },
  {
   "cell_type": "code",
   "execution_count": 34,
   "metadata": {
    "collapsed": false
   },
   "outputs": [
    {
     "data": {
      "text/plain": [
       "(0.58585858585858586, 198)"
      ]
     },
     "execution_count": 34,
     "metadata": {},
     "output_type": "execute_result"
    }
   ],
   "source": [
    "sum(tci.loc[tci.complaint_count_3_mon>0, 'vacant'])*1.0/len(tci.loc[tci.complaint_count_3_mon>0, 'vacant']) ,len(tci.loc[tci.complaint_count_3_mon>0, 'vacant'])"
   ]
  },
  {
   "cell_type": "code",
   "execution_count": 98,
   "metadata": {
    "collapsed": true
   },
   "outputs": [],
   "source": [
    "tci.to_csv('model_data/tci_2_2.csv', index=False)"
   ]
  },
  {
   "cell_type": "code",
   "execution_count": 99,
   "metadata": {
    "collapsed": false
   },
   "outputs": [
    {
     "data": {
      "text/plain": [
       "1555"
      ]
     },
     "execution_count": 99,
     "metadata": {},
     "output_type": "execute_result"
    }
   ],
   "source": [
    "sum(tci.vacant)"
   ]
  },
  {
   "cell_type": "code",
   "execution_count": null,
   "metadata": {
    "collapsed": true
   },
   "outputs": [],
   "source": []
  }
 ],
 "metadata": {
  "kernelspec": {
   "display_name": "Python 2",
   "language": "python",
   "name": "python2"
  },
  "language_info": {
   "codemirror_mode": {
    "name": "ipython",
    "version": 2
   },
   "file_extension": ".py",
   "mimetype": "text/x-python",
   "name": "python",
   "nbconvert_exporter": "python",
   "pygments_lexer": "ipython2",
   "version": "2.7.9"
  }
 },
 "nbformat": 4,
 "nbformat_minor": 0
}
