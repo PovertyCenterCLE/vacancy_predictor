{
 "cells": [
  {
   "cell_type": "markdown",
   "metadata": {},
   "source": [
    "# Filter data used in vacancy model based on TCI parcel numbers\n",
    "\n",
    "Parcels surveyed in Summer 2015 so all data pulled should come from before that. Goal of script/notebook is to filter datasets by the parcel numbers in the TCI survey, although we will filter again based on existence of structure."
   ]
  },
  {
   "cell_type": "code",
   "execution_count": 1,
   "metadata": {
    "collapsed": true
   },
   "outputs": [],
   "source": [
    "import pandas as pd\n",
    "import csv\n",
    "import numpy as np\n",
    "import matplotlib.pyplot as plt\n",
    "import seaborn as sns\n",
    "import os\n",
    "%matplotlib inline"
   ]
  },
  {
   "cell_type": "code",
   "execution_count": 2,
   "metadata": {
    "collapsed": false
   },
   "outputs": [
    {
     "name": "stdout",
     "output_type": "stream",
     "text": [
      "/Volumes/Dropbox-1/largetransfer/luc/carter\n"
     ]
    }
   ],
   "source": [
    "path = '/'.join(os.getcwd().split('/')[:-1])\n",
    "print path"
   ]
  },
  {
   "cell_type": "code",
   "execution_count": 3,
   "metadata": {
    "collapsed": false
   },
   "outputs": [
    {
     "name": "stderr",
     "output_type": "stream",
     "text": [
      "//anaconda/lib/python2.7/site-packages/pandas/io/parsers.py:1170: DtypeWarning: Columns (3) have mixed types. Specify dtype option on import or set low_memory=False.\n",
      "  data = self._reader.read(nrows)\n"
     ]
    }
   ],
   "source": [
    "# get survey data\n",
    "\n",
    "tci = pd.read_csv(path+'/data/inspection_data/full_tci_survey_prelim.csv')\n",
    "\n",
    "ppns = set(tci['ppn'])\n",
    "ppns_nodash = set(tci['ppn'].apply(lambda x: str(x).replace('-','')))\n",
    "\n",
    "# tci[['ppn']].to_csv(path+'/data/original_data/ppns.csv',index=False, encoding='utf-8')"
   ]
  },
  {
   "cell_type": "markdown",
   "metadata": {},
   "source": [
    "### Demographic data"
   ]
  },
  {
   "cell_type": "code",
   "execution_count": 4,
   "metadata": {
    "collapsed": false
   },
   "outputs": [],
   "source": [
    "tracts = pd.read_csv(path+'/data/original_data/clv_par_census.csv')\n",
    "demo = pd.read_csv(path+'/data/original_data/sociodemographic_Data.csv')"
   ]
  },
  {
   "cell_type": "code",
   "execution_count": 5,
   "metadata": {
    "collapsed": false
   },
   "outputs": [],
   "source": [
    "tracts = pd.merge(tracts, demo, left_on='NAME10', right_on='Census Tract', how='left')"
   ]
  },
  {
   "cell_type": "code",
   "execution_count": 17,
   "metadata": {
    "collapsed": false
   },
   "outputs": [
    {
     "data": {
      "text/plain": [
       "Index([u'parcel', u'NAME10', u'NAMELSAD10', u'County', u'Census Tract',\n",
       "       u'Vacant housing units, percent, 2012 5-yr est (ACS 2012 5-year)',\n",
       "       u'Vacant housing units, percent, 2012 5-yr est (ACS 2012 5-year), Margin of Error',\n",
       "       u'Owner occupied housing units, number, 2012 5-yr est (ACS 2012 5-year)',\n",
       "       u'Owner occupied housing units, number, 2012 5-yr est (ACS 2012 5-year), Margin of Error',\n",
       "       u'Renter occupied housing units, number, 2012 5-yr est (ACS 2012 5-year)',\n",
       "       u'Renter occupied housing units, number, 2012 5-yr est (ACS 2012 5-year), Margin of Error',\n",
       "       u'Median gross rent, number, 2012 5-yr est (ACS 2012 5-year)',\n",
       "       u'Median gross rent, number, 2012 5-yr est (ACS 2012 5-year), Margin of Error',\n",
       "       u'Property crimes, rate per 100,000 population, 2014 (Crime)',\n",
       "       u'Burglaries, rate per 100,000 population, 2014 (Crime)',\n",
       "       u'Other illicit drug violations, rate per 100,000 population, 2014 (Crime)',\n",
       "       u'Part I crimes, rate per 100,000 population, 2014 (Crime)',\n",
       "       u'Part II crimes, rate per 100,000 population, 2014 (Crime)',\n",
       "       u'Persons with bachelors degree or more, percent, 2012 5-yr est (ACS 2012 5-year)',\n",
       "       u'Persons with bachelors degree or more, percent, 2012 5-yr est (ACS 2012 5-year), Margin of Error',\n",
       "       u'Poverty rate, 2012 5-yr est (ACS 2012 5-year)',\n",
       "       u'Poverty rate, 2012 5-yr est (ACS 2012 5-year), Margin of Error',\n",
       "       u'Median household income, 2012 5-yr est (ACS 2012 5-year)',\n",
       "       u'Median household income, 2012 5-yr est (ACS 2012 5-year), Margin of Error',\n",
       "       u'Median family income, 2012 5-yr est (ACS 2012 5-year)',\n",
       "       u'Median family income, 2012 5-yr est (ACS 2012 5-year), Margin of Error',\n",
       "       u'White, percent, 2012 5-yr est (ACS 2012 5-year)',\n",
       "       u'White, percent, 2012 5-yr est (ACS 2012 5-year), Margin of Error',\n",
       "       u'Black, percent, 2012 5-yr est (ACS 2012 5-year)',\n",
       "       u'Black, percent, 2012 5-yr est (ACS 2012 5-year), Margin of Error',\n",
       "       u'Asian/Pac Islander, percent, 2012 5-yr est (ACS 2012 5-year)',\n",
       "       u'Asian/Pac Islander, percent, 2012 5-yr est (ACS 2012 5-year), Margin of Error',\n",
       "       u'Other race, percent, 2012 5-yr est (ACS 2012 5-year)',\n",
       "       u'Other race, percent, 2012 5-yr est (ACS 2012 5-year), Margin of Error',\n",
       "       u'Hispanic, percent, 2012 5-yr est (ACS 2012 5-year)',\n",
       "       u'Hispanic, percent, 2012 5-yr est (ACS 2012 5-year), Margin of Error',\n",
       "       u'Population aged 0-17, percent, 2012 5-yr est (ACS 2012 5-year)',\n",
       "       u'Population aged 0-17, percent, 2012 5-yr est (ACS 2012 5-year), Margin of Error',\n",
       "       u'Population aged 18-64, percent, 2012 5-yr est (ACS 2012 5-year)',\n",
       "       u'Population aged 18-64, percent, 2012 5-yr est (ACS 2012 5-year), Margin of Error',\n",
       "       u'Population aged 65+, percent, 2012 5-yr est (ACS 2012 5-year)',\n",
       "       u'Population aged 65+, percent, 2012 5-yr est (ACS 2012 5-year), Margin of Error',\n",
       "       u'Unnamed: 39'],\n",
       "      dtype='object')"
      ]
     },
     "execution_count": 17,
     "metadata": {},
     "output_type": "execute_result"
    }
   ],
   "source": [
    "tracts.columns"
   ]
  },
  {
   "cell_type": "code",
   "execution_count": 15,
   "metadata": {
    "collapsed": false
   },
   "outputs": [
    {
     "data": {
      "text/html": [
       "<div>\n",
       "<table border=\"1\" class=\"dataframe\">\n",
       "  <thead>\n",
       "    <tr style=\"text-align: right;\">\n",
       "      <th></th>\n",
       "      <th>parcel</th>\n",
       "      <th>NAME10</th>\n",
       "      <th>NAMELSAD10</th>\n",
       "      <th>County</th>\n",
       "      <th>Census Tract</th>\n",
       "      <th>Vacant housing units, percent, 2012 5-yr est (ACS 2012 5-year)</th>\n",
       "      <th>Vacant housing units, percent, 2012 5-yr est (ACS 2012 5-year), Margin of Error</th>\n",
       "      <th>Owner occupied housing units, number, 2012 5-yr est (ACS 2012 5-year)</th>\n",
       "      <th>Owner occupied housing units, number, 2012 5-yr est (ACS 2012 5-year), Margin of Error</th>\n",
       "      <th>Renter occupied housing units, number, 2012 5-yr est (ACS 2012 5-year)</th>\n",
       "      <th>...</th>\n",
       "      <th>Other race, percent, 2012 5-yr est (ACS 2012 5-year), Margin of Error</th>\n",
       "      <th>Hispanic, percent, 2012 5-yr est (ACS 2012 5-year)</th>\n",
       "      <th>Hispanic, percent, 2012 5-yr est (ACS 2012 5-year), Margin of Error</th>\n",
       "      <th>Population aged 0-17, percent, 2012 5-yr est (ACS 2012 5-year)</th>\n",
       "      <th>Population aged 0-17, percent, 2012 5-yr est (ACS 2012 5-year), Margin of Error</th>\n",
       "      <th>Population aged 18-64, percent, 2012 5-yr est (ACS 2012 5-year)</th>\n",
       "      <th>Population aged 18-64, percent, 2012 5-yr est (ACS 2012 5-year), Margin of Error</th>\n",
       "      <th>Population aged 65+, percent, 2012 5-yr est (ACS 2012 5-year)</th>\n",
       "      <th>Population aged 65+, percent, 2012 5-yr est (ACS 2012 5-year), Margin of Error</th>\n",
       "      <th>Unnamed: 39</th>\n",
       "    </tr>\n",
       "  </thead>\n",
       "  <tbody>\n",
       "  </tbody>\n",
       "</table>\n",
       "<p>0 rows × 43 columns</p>\n",
       "</div>"
      ],
      "text/plain": [
       "Empty DataFrame\n",
       "Columns: [parcel, NAME10, NAMELSAD10, County, Census Tract, Vacant housing units, percent, 2012 5-yr est (ACS 2012 5-year), Vacant housing units, percent, 2012 5-yr est (ACS 2012 5-year), Margin of Error, Owner occupied housing units, number, 2012 5-yr est (ACS 2012 5-year), Owner occupied housing units, number, 2012 5-yr est (ACS 2012 5-year), Margin of Error, Renter occupied housing units, number, 2012 5-yr est (ACS 2012 5-year), Renter occupied housing units, number, 2012 5-yr est (ACS 2012 5-year), Margin of Error, Median gross rent, number, 2012 5-yr est (ACS 2012 5-year), Median gross rent, number, 2012 5-yr est (ACS 2012 5-year), Margin of Error, Property crimes, rate per 100,000 population, 2014 (Crime), Burglaries, rate per 100,000 population, 2014 (Crime), Other illicit drug violations, rate per 100,000 population, 2014 (Crime), Part I crimes, rate per 100,000 population, 2014 (Crime), Part II crimes, rate per 100,000 population, 2014 (Crime), Persons with bachelors degree or more, percent, 2012 5-yr est (ACS 2012 5-year), Persons with bachelors degree or more, percent, 2012 5-yr est (ACS 2012 5-year), Margin of Error, Poverty rate, 2012 5-yr est (ACS 2012 5-year), Poverty rate, 2012 5-yr est (ACS 2012 5-year), Margin of Error, Median household income, 2012 5-yr est (ACS 2012 5-year), Median household income, 2012 5-yr est (ACS 2012 5-year), Margin of Error, Median family income, 2012 5-yr est (ACS 2012 5-year), Median family income, 2012 5-yr est (ACS 2012 5-year), Margin of Error, White, percent, 2012 5-yr est (ACS 2012 5-year), White, percent, 2012 5-yr est (ACS 2012 5-year), Margin of Error, Black, percent, 2012 5-yr est (ACS 2012 5-year), Black, percent, 2012 5-yr est (ACS 2012 5-year), Margin of Error, Asian/Pac Islander, percent, 2012 5-yr est (ACS 2012 5-year), Asian/Pac Islander, percent, 2012 5-yr est (ACS 2012 5-year), Margin of Error, Other race, percent, 2012 5-yr est (ACS 2012 5-year), Other race, percent, 2012 5-yr est (ACS 2012 5-year), Margin of Error, Hispanic, percent, 2012 5-yr est (ACS 2012 5-year), Hispanic, percent, 2012 5-yr est (ACS 2012 5-year), Margin of Error, Population aged 0-17, percent, 2012 5-yr est (ACS 2012 5-year), Population aged 0-17, percent, 2012 5-yr est (ACS 2012 5-year), Margin of Error, Population aged 18-64, percent, 2012 5-yr est (ACS 2012 5-year), Population aged 18-64, percent, 2012 5-yr est (ACS 2012 5-year), Margin of Error, Population aged 65+, percent, 2012 5-yr est (ACS 2012 5-year), Population aged 65+, percent, 2012 5-yr est (ACS 2012 5-year), Margin of Error, Unnamed: 39]\n",
       "Index: []\n",
       "\n",
       "[0 rows x 43 columns]"
      ]
     },
     "execution_count": 15,
     "metadata": {},
     "output_type": "execute_result"
    }
   ],
   "source": [
    "tracts[tracts.iloc[:,10].isnull()]"
   ]
  },
  {
   "cell_type": "code",
   "execution_count": 9,
   "metadata": {
    "collapsed": false
   },
   "outputs": [
    {
     "data": {
      "text/plain": [
       "(177527, 43)"
      ]
     },
     "execution_count": 9,
     "metadata": {},
     "output_type": "execute_result"
    }
   ],
   "source": [
    "tracts.shape"
   ]
  },
  {
   "cell_type": "code",
   "execution_count": 76,
   "metadata": {
    "collapsed": false
   },
   "outputs": [],
   "source": [
    "tracts.iloc[:,[0,5,7,9,11,13,14,15,16,17,18,20,22,24,26,28,30,32,34,36,38,40]].to_csv(path+'/data/clean_data/demographic.csv',index=False)"
   ]
  },
  {
   "cell_type": "code",
   "execution_count": null,
   "metadata": {
    "collapsed": false
   },
   "outputs": [],
   "source": [
    "# def get_vacant(x):\n",
    "#     if x == 'Occupied Structure':\n",
    "#         return 0\n",
    "#     elif x == 'Vacant Structure':\n",
    "#         return 1\n",
    "#     else: \n",
    "#         return -1\n",
    "    \n",
    "# tci['vacant'] = tci['Survey Category'].apply(get_vacant)\n",
    "# tci.to_csv(path+'/data/inspection_data/full_tci_survey_prelim.csv', index=False)"
   ]
  },
  {
   "cell_type": "code",
   "execution_count": null,
   "metadata": {
    "collapsed": true
   },
   "outputs": [],
   "source": [
    "# infile = path+'/data/original_data/main_prop.csv'\n",
    "# outfile = path+'/data/clean_data/main_prop.csv'\n",
    "\n",
    "# with open(infile, 'r') as fin, open(outfile, 'w') as fout:\n",
    "#     write_to = csv.writer(fout, lineterminator='\\n')\n",
    "#     header = next(csv.reader(fin))\n",
    "#     write_to.writerow(header)\n",
    "#     for row in csv.reader(fin):\n",
    "#         if row[0] in ppns:\n",
    "#             write_to.writerow(row)"
   ]
  },
  {
   "cell_type": "code",
   "execution_count": 4,
   "metadata": {
    "collapsed": false
   },
   "outputs": [],
   "source": [
    "# commented code only needs to be run once\n",
    "\n",
    "main = pd.read_csv(path+'/data/clean_data/main_prop3.csv', dtype=object)"
   ]
  },
  {
   "cell_type": "code",
   "execution_count": 6,
   "metadata": {
    "collapsed": false,
    "scrolled": true
   },
   "outputs": [
    {
     "data": {
      "text/plain": [
       "Index([u'Parcel ID', u'Date', u'USE_CLASS', u'Ward', u'Label', u'SPA_NAME',\n",
       "       u'Address', u'Survey Category', u'Survey Result', u'Open Vacant',\n",
       "       u'For Sale or Rent', u'Apparent Property Use',\n",
       "       u'Apparent Property Capacity', u'House Number Visible/Premises ID',\n",
       "       u'Boarded Windows or Doors', u'Broken Windows', u'Roof Damage',\n",
       "       u'Chimney Damage', u'Paint or Siding Damage',\n",
       "       u'Gutters or Downspout Damage', u'Porch Damage', u'Garage Damage',\n",
       "       u'Dumping (Trash/Debris)', u'Sidewalk Condition', u'Street Tree',\n",
       "       u'Notes', u'Image', u'ppn', u'vacant'],\n",
       "      dtype='object')"
      ]
     },
     "execution_count": 6,
     "metadata": {},
     "output_type": "execute_result"
    }
   ],
   "source": [
    "tci.columns"
   ]
  },
  {
   "cell_type": "code",
   "execution_count": 14,
   "metadata": {
    "collapsed": true
   },
   "outputs": [],
   "source": [
    "main = main.groupby('parcel').first().reset_index()\n",
    "main = main[main.parcel.isin(ppns)]"
   ]
  },
  {
   "cell_type": "code",
   "execution_count": 68,
   "metadata": {
    "collapsed": false
   },
   "outputs": [],
   "source": [
    "# main = main.sort('taxyr', ascending=False)\n",
    "main = main.groupby('parcel').first().reset_index()\n",
    "main = main[main.parcel.isin(ppns)]\n",
    "main.to_csv(path+'/data/clean_data/main_prop_filtered.csv', index=False)\n",
    "\n",
    "# main = pd.read_csv(path+'/data/clean_data/main_prop_filtered.csv')"
   ]
  },
  {
   "cell_type": "code",
   "execution_count": 69,
   "metadata": {
    "collapsed": false
   },
   "outputs": [],
   "source": [
    "tci_merged = pd.merge(tci[['ppn','Parcel ID','vacant','Survey Category']], \\\n",
    "                      main[['condition','pclass','luc','propsize','totbldgs','ownerocc','intax','incom','taxabate','parcel']], how=\"left\", left_on='ppn', right_on='parcel')\n",
    "\n",
    "tci_merged.propsize = tci_merged.propsize.apply(lambda x: float(str(x).replace(',','')))"
   ]
  },
  {
   "cell_type": "code",
   "execution_count": 70,
   "metadata": {
    "collapsed": false
   },
   "outputs": [],
   "source": [
    "tci_merged = tci_merged[tci_merged.pclass=='Residential']"
   ]
  },
  {
   "cell_type": "code",
   "execution_count": null,
   "metadata": {
    "collapsed": false
   },
   "outputs": [],
   "source": [
    "ppns = set(tci_merged['ppn'])\n",
    "ppns_nodash = set(tci_merged['Parcel ID'])"
   ]
  },
  {
   "cell_type": "markdown",
   "metadata": {},
   "source": [
    "## Residential characteristics \n",
    "Filename: ```res2013.csv```"
   ]
  },
  {
   "cell_type": "code",
   "execution_count": 16,
   "metadata": {
    "collapsed": false
   },
   "outputs": [],
   "source": [
    "# first part only needs to be run once\n",
    "\n",
    "# res = pd.read_csv(path+'/data/original_data/res2013.csv')\n",
    "# res = res[res.parcel.isin(ppns)]\n",
    "# res.to_csv(path+'/data/clean_data/res.csv', index=False)\n",
    "\n",
    "res = pd.read_csv(path+'/data/clean_data/res.csv')"
   ]
  },
  {
   "cell_type": "markdown",
   "metadata": {},
   "source": [
    "We'll take these attributes into our dataset."
   ]
  },
  {
   "cell_type": "code",
   "execution_count": null,
   "metadata": {
    "collapsed": false
   },
   "outputs": [],
   "source": [
    "cols = ['STYLE','parcel','ryrbuilt','eyrbuilt','occup','condtion','rextwall','heat','air','plumbfix','livatot']\n",
    "res[cols].to_csv('clean_data/res_tci_collinwood.csv',index=False)"
   ]
  },
  {
   "cell_type": "code",
   "execution_count": null,
   "metadata": {
    "collapsed": true
   },
   "outputs": [],
   "source": [
    "tci_merged2 = pd.merge(tci_merged, res[cols], how='left', left_on='ppn', right_on='parcel', copy=False)"
   ]
  },
  {
   "cell_type": "markdown",
   "metadata": {},
   "source": [
    "## Tax bill\n",
    "Filename: ```dec14_tci.csv```"
   ]
  },
  {
   "cell_type": "code",
   "execution_count": null,
   "metadata": {
    "collapsed": false
   },
   "outputs": [],
   "source": [
    "# only needs to be run once to clean taxbill data\n",
    "\n",
    "# infile = path+'/data/original_data/dec14.csv'\n",
    "# outfile = path+'/data/clean_data/taxbill_dec14.csv'\n",
    "\n",
    "# with open(infile, 'r') as fin, open(outfile, 'w') as fout:\n",
    "#     write_to = csv.writer(fout, lineterminator='\\n')\n",
    "#     header = next(csv.reader(fin))\n",
    "#     write_to.writerow(header)\n",
    "#     for row in csv.reader(fin):\n",
    "#         if row[5] in ppns:\n",
    "#             write_to.writerow(row)"
   ]
  },
  {
   "cell_type": "code",
   "execution_count": null,
   "metadata": {
    "collapsed": false
   },
   "outputs": [],
   "source": [
    "tb = pd.read_csv(path+'/data/clean_data/taxbill_dec14.csv')"
   ]
  },
  {
   "cell_type": "code",
   "execution_count": null,
   "metadata": {
    "collapsed": false
   },
   "outputs": [],
   "source": [
    "print tb.columns.values"
   ]
  },
  {
   "cell_type": "code",
   "execution_count": null,
   "metadata": {
    "collapsed": false
   },
   "outputs": [],
   "source": [
    "tb.LOCATION_CITY = tb.LOCATION_CITY.apply(lambda x: x.lower())\n",
    "tb.MAIL_CITY = tb.MAIL_CITY.apply(lambda x: x.lower())\n",
    "\n",
    "tb.LOCATION_STATE = tb.LOCATION_STATE.apply(lambda x: x.lower() if isinstance(x,str) else 'l' )\n",
    "tb.MAIL_STATE = tb.MAIL_STATE.apply(lambda x: x.lower() if isinstance(x,str) else 'm')"
   ]
  },
  {
   "cell_type": "code",
   "execution_count": null,
   "metadata": {
    "collapsed": false
   },
   "outputs": [],
   "source": [
    "def cities(x):\n",
    "    if x.LOCATION_CITY != x.MAIL_CITY:\n",
    "        return 0\n",
    "    else:\n",
    "        return 1\n",
    "    \n",
    "def states(x):\n",
    "    if x.LOCATION_STATE != x.MAIL_STATE:\n",
    "        return 0\n",
    "    else:\n",
    "        return 1\n",
    "\n",
    "tb['same_states'] = tb.apply(states, axis=1)\n",
    "tb['same_cities'] = tb.apply(cities, axis=1)"
   ]
  },
  {
   "cell_type": "code",
   "execution_count": null,
   "metadata": {
    "collapsed": false
   },
   "outputs": [],
   "source": [
    "cols = ['PROPERTY_NUMBER','LENDER_PROCESS_TYPE','TOTAL_NET_DELQ_BALANCE',\\\n",
    "        'GRAND_TOTAL_BALANCE','FORECLOSURE_FLAG','HOMESTEAD_FLAG','PAYMENT_PLAN_FLAG','same_states','same_cities']"
   ]
  },
  {
   "cell_type": "code",
   "execution_count": null,
   "metadata": {
    "collapsed": false
   },
   "outputs": [],
   "source": [
    "tci_merged3 = pd.merge(tci_merged2, tb[cols], how=\"left\", left_on='ppn', right_on=\"PROPERTY_NUMBER\")\n",
    "\n",
    "tci_merged3.loc[tci_merged3.LENDER_PROCESS_TYPE.isnull(),'LENDER_PROCESS_TYPE'] = -1\n",
    "tci_merged3.loc[tci_merged3.FORECLOSURE_FLAG.isnull(),'FORECLOSURE_FLAG'] = 0\n",
    "tci_merged3.loc[tci_merged3.HOMESTEAD_FLAG.isnull(),'HOMESTEAD_FLAG'] = 0"
   ]
  },
  {
   "cell_type": "code",
   "execution_count": null,
   "metadata": {
    "collapsed": false
   },
   "outputs": [],
   "source": [
    "tci_merged3.columns"
   ]
  },
  {
   "cell_type": "markdown",
   "metadata": {},
   "source": [
    "Notes:\n",
    "* Property type is 800 for all entries\n",
    "* Homestead/check mailing addresses for owner occupancy\n",
    "* TOTAL_NET_DELQ_BALANCE := certified deliquent taxes\n",
    "* Grand total balance?"
   ]
  },
  {
   "cell_type": "code",
   "execution_count": null,
   "metadata": {
    "collapsed": true
   },
   "outputs": [],
   "source": [
    "tb[cols].to_csv('clean_data/taxbill_collinwood.csv', index=False)"
   ]
  },
  {
   "cell_type": "markdown",
   "metadata": {},
   "source": [
    "## County land bank\n",
    "Filename: ```count_land_bank.csv```"
   ]
  },
  {
   "cell_type": "code",
   "execution_count": null,
   "metadata": {
    "collapsed": false
   },
   "outputs": [],
   "source": [
    "lb = pd.read_csv(path+'/data/original_data/count_land_bank.csv', parse_dates=[3,4])\n",
    "lb.columns"
   ]
  },
  {
   "cell_type": "code",
   "execution_count": null,
   "metadata": {
    "collapsed": false
   },
   "outputs": [],
   "source": [
    "lb = lb[lb['parcel'].isin(ppns)]\n",
    "lb[lb['acq_dt']<np.datetime64('2015-06-01')].to_csv(path+'/data/clean_data/county_lb.csv', index=False)"
   ]
  },
  {
   "cell_type": "code",
   "execution_count": null,
   "metadata": {
    "collapsed": true
   },
   "outputs": [],
   "source": [
    "tci_merged4 = pd.merge(tci_merged3, lb[['parcel','assessment','demo_status','public_status']], how=\"left\", left_on='ppn', right_on=\"parcel\")"
   ]
  },
  {
   "cell_type": "markdown",
   "metadata": {},
   "source": [
    "## Foreclosure filings"
   ]
  },
  {
   "cell_type": "code",
   "execution_count": null,
   "metadata": {
    "collapsed": false
   },
   "outputs": [],
   "source": [
    "fc = pd.read_csv(path+'/data/original_data/foreclosure_filings2006_dec2014.csv', parse_dates = [2])"
   ]
  },
  {
   "cell_type": "code",
   "execution_count": null,
   "metadata": {
    "collapsed": false
   },
   "outputs": [],
   "source": [
    "fc = fc[fc['parcel'].isin(ppns)]\n",
    "fc = fc[fc['filedate']<np.datetime64('2015-06-01')]\n",
    "# fc = fc.sort('filedate', ascending=False)\n",
    "# count = fc[['parcel','status']].groupby('parcel').count()\n",
    "# count.columns = ['fc_count']\n",
    "# fc = fc.groupby('parcel').first()\n",
    "\n",
    "fc.to_csv(path+'/data/clean_data/foreclosure_filings.csv',index=False)"
   ]
  },
  {
   "cell_type": "code",
   "execution_count": null,
   "metadata": {
    "collapsed": false,
    "scrolled": true
   },
   "outputs": [],
   "source": [
    "fc = pd.merge(fc, count, left_index=True, right_index=True, how='inner')\n",
    "fc = fc.reset_index()"
   ]
  },
  {
   "cell_type": "code",
   "execution_count": null,
   "metadata": {
    "collapsed": false
   },
   "outputs": [],
   "source": [
    "fc.pamount = fc.pamount.apply(lambda x: float(x.strip('$').replace(',','')))"
   ]
  },
  {
   "cell_type": "code",
   "execution_count": null,
   "metadata": {
    "collapsed": false
   },
   "outputs": [],
   "source": [
    "tci_merged5 = pd.merge(tci_merged4, fc[['parcel','status','filedate','fc_count','pamount']], how=\"left\", left_on='ppn', right_on=\"parcel\")"
   ]
  },
  {
   "cell_type": "markdown",
   "metadata": {},
   "source": [
    "## Sheriff auction\n",
    "Filename: ```shf_aution_mar2000_dec2014.csv```"
   ]
  },
  {
   "cell_type": "code",
   "execution_count": null,
   "metadata": {
    "collapsed": false
   },
   "outputs": [],
   "source": [
    "sa = pd.read_csv(path+'/data/original_data/shf_aution_mar2000_dec2014.csv', parse_dates=[2])\n",
    "\n",
    "sa = sa[sa.parcel.isin(ppns)]\n",
    "sa = sa[sa.salesdt<np.datetime64('2015-06-01')]\n",
    "\n",
    "# sa.loc[sa['ssold'].isnull(),'ssold'] = 'No'\n",
    "# sa.sold_amt = sa.sold_amt.apply(lambda x: float(x.strip('$').replace(',','') if isinstance(x,str) else np.nan))\n",
    "\n",
    "# def convert(x):\n",
    "#     if x == 'No':\n",
    "#         return 0\n",
    "#     else:\n",
    "#         return 1\n",
    "    \n",
    "# sa['ssold'] = sa['ssold'].apply(convert)\n",
    "\n",
    "sa.to_csv(path+'/data/clean_data/sheriff_auction.csv', index=False)\n",
    "\n",
    "# sa = pd.read_csv('clean_data/sa_tci.csv')"
   ]
  },
  {
   "cell_type": "code",
   "execution_count": null,
   "metadata": {
    "collapsed": false
   },
   "outputs": [],
   "source": [
    "sa.columns.values"
   ]
  },
  {
   "cell_type": "code",
   "execution_count": null,
   "metadata": {
    "collapsed": true
   },
   "outputs": [],
   "source": [
    "tci_merged6 = pd.merge(tci_merged5, sa[['parcel','sold_amt']], how=\"left\", left_on='ppn', right_on=\"parcel\")"
   ]
  },
  {
   "cell_type": "markdown",
   "metadata": {},
   "source": [
    "## Transfers\n",
    "Filename: ```transfers2000_2014.csv```"
   ]
  },
  {
   "cell_type": "code",
   "execution_count": null,
   "metadata": {
    "collapsed": false
   },
   "outputs": [],
   "source": [
    "infile = path+'/data/original_data/transfers2000_2014.csv'\n",
    "outfile = path+'/data/clean_data/transfers.csv'\n",
    "\n",
    "with open(infile, 'r') as fin, open(outfile, 'w') as fout:\n",
    "    write_to = csv.writer(fout, lineterminator='\\n')\n",
    "    header = next(csv.reader(fin))\n",
    "    write_to.writerow(header)\n",
    "    for row in csv.reader(fin):\n",
    "        if row[5] in ppns:\n",
    "            write_to.writerow(row)"
   ]
  },
  {
   "cell_type": "code",
   "execution_count": null,
   "metadata": {
    "collapsed": false
   },
   "outputs": [],
   "source": [
    "tf = pd.read_csv(path+'/data/clean_data/transfers.csv',parse_dates=[8])\n",
    "tf = tf[tf.mdate<np.datetime64('2015-06-01')]\n",
    "\n",
    "tf.to_csv(path+'/data/clean_data/transfers.csv',index=False)\n",
    "\n",
    "# tf_count = tf[['PROPERTY_NUMBER','WHS_ID']].groupby('PROPERTY_NUMBER').count()\n",
    "# tf_count.columns = ['tf_count']\n",
    "# tf = tf.sort('mdate', ascending=False).groupby('PROPERTY_NUMBER').first().reset_index()\n"
   ]
  },
  {
   "cell_type": "code",
   "execution_count": null,
   "metadata": {
    "collapsed": true
   },
   "outputs": [],
   "source": [
    "tci_merged7 = pd.merge(tci_merged6, tf[['PROPERTY_NUMBER','DEED_TYPE','mdate']], how=\"left\", left_on='ppn', right_on=\"PROPERTY_NUMBER\")"
   ]
  },
  {
   "cell_type": "code",
   "execution_count": null,
   "metadata": {
    "collapsed": true
   },
   "outputs": [],
   "source": [
    "tci_merged7['temp'] = tci_merged7[tci_merged7.mdate.notnull()].mdate.apply(lambda x: (np.datetime64('2015-06-01')-np.datetime64(x))/ np.timedelta64(1, 'D'))"
   ]
  },
  {
   "cell_type": "code",
   "execution_count": null,
   "metadata": {
    "collapsed": false
   },
   "outputs": [],
   "source": [
    "sns.distplot(tci_merged7[(tci_merged7.vacant==0) & (tci_merged7.temp.notnull())].temp.values,20)\n",
    "sns.distplot(tci_merged7[(tci_merged7.vacant==1) & (tci_merged7.temp.notnull())].temp.values,20)"
   ]
  },
  {
   "cell_type": "markdown",
   "metadata": {},
   "source": [
    "## Armslength sales\n",
    "Filename: ```armslengthsales2006_2014.csv```"
   ]
  },
  {
   "cell_type": "code",
   "execution_count": 20,
   "metadata": {
    "collapsed": false
   },
   "outputs": [
    {
     "name": "stderr",
     "output_type": "stream",
     "text": [
      "//anaconda/lib/python2.7/site-packages/pandas/io/parsers.py:1170: DtypeWarning: Columns (10,32,33,35,79) have mixed types. Specify dtype option on import or set low_memory=False.\n",
      "  data = self._reader.read(nrows)\n"
     ]
    }
   ],
   "source": [
    "al = pd.read_csv(path+'/data/original_data/armslengthsales2006_2014.csv')\n",
    "al = al[al.PROPERTY_NUMBER.isin(ppns)]\n",
    "al.to_csv(path+'/data/clean_data/armslength.csv',index=False)"
   ]
  },
  {
   "cell_type": "code",
   "execution_count": null,
   "metadata": {
    "collapsed": true
   },
   "outputs": [],
   "source": [
    "al = pd.read_csv(path+'/data/clean_data/armslength.csv', parse_dates=['mdate'])"
   ]
  },
  {
   "cell_type": "code",
   "execution_count": null,
   "metadata": {
    "collapsed": false
   },
   "outputs": [],
   "source": [
    "al.columns"
   ]
  },
  {
   "cell_type": "code",
   "execution_count": null,
   "metadata": {
    "collapsed": false
   },
   "outputs": [],
   "source": [
    "cols = ['AMOUNT_PAID','ASSUMED_LOAN_AMOUNT','BUILDINGS_ON_LAND','DEED_TYPE','GIFT','MONTH_OF_SALE','NUMBER_OF_PROPERTIES_IN_SALE', \\\n",
    "        'PROPERTY_NUMBER','SALES_AMOUNT','SALE_VALID','TRANSFER_FEE','YEAR_OF_SALE']\n",
    "al[cols].head()"
   ]
  },
  {
   "cell_type": "markdown",
   "metadata": {},
   "source": [
    "## Violations\n",
    "Filename: ```violate_cle.csv```\n"
   ]
  },
  {
   "cell_type": "code",
   "execution_count": null,
   "metadata": {
    "collapsed": false
   },
   "outputs": [],
   "source": [
    "infile = path+'/data/original_data/violate_cle.csv'\n",
    "outfile = path+'/data/clean_data/violations.csv'\n",
    "\n",
    "v = pd.read_csv(infile, parse_dates=[1,4])\n",
    "v = v[v.parcel.isin(ppns)]\n",
    "v = v[(v.v_file_date < np.datetime64('2015-06-01')) & (v.v_file_date > np.datetime64('2006-06-01'))]\n",
    "\n",
    "v.to_csv(path+'/data/clean_data/violations.csv',index=False)"
   ]
  },
  {
   "cell_type": "code",
   "execution_count": null,
   "metadata": {
    "collapsed": false
   },
   "outputs": [],
   "source": [
    "print v.shape\n",
    "print v.columns"
   ]
  },
  {
   "cell_type": "code",
   "execution_count": null,
   "metadata": {
    "collapsed": false
   },
   "outputs": [],
   "source": [
    "v_count = pd.DataFrame(v[v.v_file_date > np.datetime64('2014-06-01')].groupby('parcel').count()['VIN'])\n",
    "v_count.columns = ['violations_number']\n",
    "tci_merged8 = pd.merge(tci_merged7, v_count, \\\n",
    "               how='left', left_on='ppn', right_index=True)\n",
    "tci_merged8.loc[tci_merged8.violations_number.isnull(), 'violations_number'] = 0"
   ]
  },
  {
   "cell_type": "code",
   "execution_count": null,
   "metadata": {
    "collapsed": false
   },
   "outputs": [],
   "source": [
    "v.groupby('v_type_of_violation').count()['VIN']"
   ]
  },
  {
   "cell_type": "code",
   "execution_count": null,
   "metadata": {
    "collapsed": false
   },
   "outputs": [],
   "source": [
    "plt.hist(tci_merged8[tci_merged8.vacant==0].violations_number.values,bins=20,normed=True,alpha=0.5);\n",
    "plt.hist(tci_merged8[tci_merged8.vacant==1].violations_number.values,bins=20,normed=True,alpha=0.5);"
   ]
  },
  {
   "cell_type": "code",
   "execution_count": null,
   "metadata": {
    "collapsed": false
   },
   "outputs": [],
   "source": [
    "v['total'] = v.groupby('parcel').count()['VIN']\n",
    "# v.to_csv('clean_data/violations_tci.csv',index=False)"
   ]
  },
  {
   "cell_type": "markdown",
   "metadata": {},
   "source": [
    "## Complaints\n",
    "Filename: ```complaint_cle.csv```"
   ]
  },
  {
   "cell_type": "code",
   "execution_count": null,
   "metadata": {
    "collapsed": false
   },
   "outputs": [],
   "source": [
    "c = pd.read_csv(path+'/data/original_data/complaint_cle.csv', parse_dates=[1])\n",
    "\n",
    "c = c[c.parcel.isin(ppns)]\n",
    "c = c[(c.c_file_date < np.datetime64('2014-03-01')) & (c.c_file_date > np.datetime64('2006-03-01'))]\n",
    "\n",
    "c.to_csv(path+'/data/clean_data/complaints.csv')"
   ]
  },
  {
   "cell_type": "markdown",
   "metadata": {},
   "source": [
    "## Postal data\n",
    "Filenames: ```pv201302.csv, pv201304.csv, pv201308.csv, pv201312.csv, pv201402.csv```"
   ]
  },
  {
   "cell_type": "code",
   "execution_count": null,
   "metadata": {
    "collapsed": false
   },
   "outputs": [],
   "source": [
    "pos1 = pd.read_csv(path+'/data/original_data/pv201302.csv')\n",
    "pos1['date'] = np.datetime64('2013-02-01')\n",
    "pos2 = pd.read_csv(path+'/data/original_data/pv201304.csv')\n",
    "pos2['date'] = np.datetime64('2013-04-01')\n",
    "pos3 = pd.read_csv(path+'/data/original_data/pv201308.csv')\n",
    "pos3['date'] = np.datetime64('2013-08-01')\n",
    "pos4 = pd.read_csv(path+'/data/original_data/pv201312.csv')\n",
    "pos4['date'] = np.datetime64('2013-12-01')\n",
    "pos5 = pd.read_csv(path+'/data/original_data/pv201402.csv')\n",
    "pos5['date'] = np.datetime64('2014-02-01')"
   ]
  },
  {
   "cell_type": "code",
   "execution_count": null,
   "metadata": {
    "collapsed": false
   },
   "outputs": [],
   "source": [
    "p = pos1.append(pos2).append(pos3).append(pos4).append(pos5)\n",
    "p = p[p.PARCEL.isin(ppns)]\n",
    "p.to_csv(path+'/data/clean_data/postal_vacancy.csv')"
   ]
  },
  {
   "cell_type": "code",
   "execution_count": null,
   "metadata": {
    "collapsed": true
   },
   "outputs": [],
   "source": []
  }
 ],
 "metadata": {
  "kernelspec": {
   "display_name": "Python 2",
   "language": "python",
   "name": "python2"
  },
  "language_info": {
   "codemirror_mode": {
    "name": "ipython",
    "version": 2
   },
   "file_extension": ".py",
   "mimetype": "text/x-python",
   "name": "python",
   "nbconvert_exporter": "python",
   "pygments_lexer": "ipython2",
   "version": "2.7.10"
  }
 },
 "nbformat": 4,
 "nbformat_minor": 0
}
