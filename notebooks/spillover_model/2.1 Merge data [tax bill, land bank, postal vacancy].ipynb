{
 "cells": [
  {
   "cell_type": "markdown",
   "metadata": {},
   "source": [
    "# Combine Data (not from prop)\n",
    "\n",
    "Data has now been filtered for the parcel numbers in the existing dataset. The end goal is to have a dataset with one row for each parcel in which to build the model. **Imputation will occur in a separate notebook!**\n",
    "\n",
    "However, we can't forget to explore the existing data for trends or insight along the way, as well as engineer features as we see fit."
   ]
  },
  {
   "cell_type": "code",
   "execution_count": 41,
   "metadata": {
    "collapsed": false
   },
   "outputs": [
    {
     "name": "stdout",
     "output_type": "stream",
     "text": [
      "/Volumes/Dropbox/largetransfer/luc/carter\n"
     ]
    }
   ],
   "source": [
    "import matplotlib.pyplot as plt\n",
    "import seaborn as sns\n",
    "import pandas as pd\n",
    "import numpy as np\n",
    "import os\n",
    "import datetime as dt\n",
    "\n",
    "%matplotlib inline\n",
    "sns.set_context('notebook')\n",
    "\n",
    "\n",
    "path = '/'.join(os.getcwd().split('/')[:-2])\n",
    "print(path)\n",
    "\n",
    "tci = pd.read_csv(path+'/data/model_data/tci_1_0.csv', parse_dates=['Date'], dtype={'PIN': str})\n",
    "cols = ['parcel','vacant','Date','Survey Category','Survey Grade','SPA_NAME']\n",
    "tci = tci[cols]\n",
    "\n",
    "dates = dict(zip(tci.parcel, tci.Date))\n",
    "ppns = set(tci['parcel'])"
   ]
  },
  {
   "cell_type": "markdown",
   "metadata": {},
   "source": [
    "## County Land Bank"
   ]
  },
  {
   "cell_type": "code",
   "execution_count": 56,
   "metadata": {
    "collapsed": false
   },
   "outputs": [],
   "source": [
    "lb = pd.read_csv(path+'/data/clean_data/county_lb.csv',parse_dates=['acq_dt'])\n",
    "df = tci.copy()\n",
    "# filter land bank data by date\n",
    "lb2 = lb.loc[lb.apply(lambda x: x.acq_dt < dates[x.parcel], axis=1)]\n",
    "# has it been acquired by a land bank\n",
    "df.loc[df.parcel.isin(lb2[lb2.disp_status=='Acquired'].parcel), 'lb_acquired'] = 1\n",
    "df.loc[df.lb_acquired.isnull(),'lb_acquired'] = 0\n",
    "# source of acquisition\n",
    "df.loc[df.parcel.isin(lb2[lb2.p_source=='Tax Foreclosure'].parcel), 'lb_tax_fc'] = 1\n",
    "df.loc[df.lb_tax_fc.isnull(),'lb_tax_fc'] = 0"
   ]
  },
  {
   "cell_type": "markdown",
   "metadata": {},
   "source": [
    "## Tax bill"
   ]
  },
  {
   "cell_type": "code",
   "execution_count": 57,
   "metadata": {
    "collapsed": false
   },
   "outputs": [],
   "source": [
    "# tb2 = pd.read_csv(path+'/data/clean_data/taxbill_sep14.csv', dtype=object)\n",
    "tb = pd.read_csv(path+'/data/clean_data/taxbill_may15.csv', dtype=object)\n",
    "\n",
    "tb['TOTAL_NET_DELQ_BALANCE'] = tb['TOTAL_NET_DELQ_BALANCE'].apply(float)\n",
    "tb['GRAND_TOTAL_BALANCE'] = tb['GRAND_TOTAL_BALANCE'].apply(float)\n",
    "tb['GRAND_TOTAL_OWED'] = tb['GRAND_TOTAL_OWED'].apply(float)\n",
    "tb['TAX_ASSESSED_LAND'] = tb['TAX_ASSESSED_LAND'].apply(float)\n",
    "tb['TAX_MARKET_LAND'] = tb['TAX_MARKET_LAND'].apply(float)\n",
    "tb['GRAND_TOTAL_PAID'] = tb['GRAND_TOTAL_PAID'].apply(float)\n",
    "\n",
    "\n",
    "# create new variables, delinquent tax ratio and paid percent, fill with medians (0 and 1)\n",
    "tb['delq_total_ratio'] = tb['TOTAL_NET_DELQ_BALANCE']/tb['GRAND_TOTAL_OWED']\n",
    "tb['delq_total_ratio'] = tb['delq_total_ratio'].fillna(0)\n",
    "\n",
    "tb['paid_percent'] = tb.GRAND_TOTAL_PAID.apply(float)/tb.GRAND_TOTAL_OWED.apply(float)\n",
    "tb['paid_percent'] = tb['paid_percent'].fillna(1)\n",
    "\n",
    "tb = tb.fillna(0)\n",
    "# tb = tb.set_index('PROPERTY_NUMBER')\n",
    "cols = ['TOTAL_NET_DELQ_BALANCE','TAX_ASSESSED_LAND','TAX_MARKET_LAND',\\\n",
    "        'LENDER_PROCESS_TYPE','GRAND_TOTAL_BALANCE','GRAND_TOTAL_PAID',\\\n",
    "        'GRAND_TOTAL_OWED','delq_total_ratio','paid_percent','PROPERTY_NUMBER']\n",
    "\n",
    "cols2 = ['TOTAL_NET_DELQ_BALANCE','TAX_ASSESSED_LAND','TAX_MARKET_LAND',\\\n",
    "         'GRAND_TOTAL_BALANCE','GRAND_TOTAL_PAID',\\\n",
    "         'GRAND_TOTAL_OWED','delq_total_ratio','paid_percent']\n",
    "\n",
    "# tb = tb.sort_values('date')\n",
    "\n",
    "df = pd.merge(df, tb[cols].groupby('PROPERTY_NUMBER').last(),\\\n",
    "              left_on='parcel', right_index=True,how='left')\n",
    "# fill medians by neighborhood if possible, else by entire dataset\n",
    "for var in cols2:\n",
    "    median_val = dict(df.loc[df[var].notnull(),[var,'SPA_NAME']].groupby('SPA_NAME').agg(np.median)[var])\n",
    "    df.loc[df[var].isnull(), var] = df.loc[df[var].isnull()]\\\n",
    "        .apply(lambda x: median_val[x.SPA_NAME] if x.SPA_NAME in median_val else np.median(df.loc[df[var].notnull()]), axis=1)\n",
    "# fill lender process type\n",
    "df.loc[df.LENDER_PROCESS_TYPE.isnull(),'LENDER_PROCESS_TYPE'] = 'None'"
   ]
  },
  {
   "cell_type": "markdown",
   "metadata": {},
   "source": [
    "## Postal vacancy"
   ]
  },
  {
   "cell_type": "code",
   "execution_count": 58,
   "metadata": {
    "collapsed": false
   },
   "outputs": [],
   "source": [
    "pv = pd.read_csv(path+'/data/clean_data/postal_vacancy.csv', parse_dates=3, index_col=0)\n",
    "pv.date = pv.date.apply(lambda x: dt.datetime(int(x[0:4]),int(x[5:7]),int(x[8:10])))\n",
    "pv = pv.sort_values('date',ascending=False)"
   ]
  },
  {
   "cell_type": "code",
   "execution_count": 59,
   "metadata": {
    "collapsed": false
   },
   "outputs": [],
   "source": [
    "## Postal vacancy\n",
    "pv = pd.read_csv(path+'/data/clean_data/postal_vacancy.csv', parse_dates=3, index_col=0)\n",
    "# parse dates\n",
    "pv.date = pv.date.apply(lambda x: dt.datetime(int(x[0:4]),int(x[5:7]),int(x[8:10])))\n",
    "# pv = pv.loc[pv.apply(lambda x: x.date < dates[x.PARCEL], axis=1)]\n",
    "# reshape\n",
    "pv = pv.sort_values('date',ascending=False)\n",
    "pv_dates = pv.groupby('date').last().index\n",
    "pv2 = pv.pivot(index='PARCEL',columns='date').fillna('N').reset_index()\n",
    "pv2.columns = pv2.columns.droplevel()\n",
    "pv2.columns.values[0] = 'parcel'"
   ]
  },
  {
   "cell_type": "code",
   "execution_count": 60,
   "metadata": {
    "collapsed": true
   },
   "outputs": [],
   "source": [
    "# get the number of postal vacancies in a row \n",
    "def fun(x):\n",
    "    total = 0\n",
    "    recent = pv_dates[pv_dates<=dates[x.parcel]]\n",
    "    for i,j in enumerate(x[recent]):\n",
    "        if x[recent][-i-1] == 'Y':\n",
    "            total += 1\n",
    "        else:\n",
    "            return total\n",
    "    return total\n",
    "pv2['pv_count'] = pv2.apply(fun, axis=1)\n",
    "pv3 = pv2.set_index('parcel')\n",
    "# merge postal vacancies\n",
    "df = pd.merge(df, pv3[['pv_count']], how='left', left_on='parcel',right_index=True)\n",
    "# fill null values\n",
    "df['pv_count'] = df['pv_count'].fillna(0)\n",
    "#     break\n",
    "df.to_csv(path+'/data/model_data/tci_2_1_model.csv', index=False)"
   ]
  },
  {
   "cell_type": "code",
   "execution_count": 61,
   "metadata": {
    "collapsed": false
   },
   "outputs": [
    {
     "name": "stdout",
     "output_type": "stream",
     "text": [
      "<class 'pandas.core.frame.DataFrame'>\n",
      "Int64Index: 113132 entries, 0 to 113131\n",
      "Data columns (total 18 columns):\n",
      "parcel                    113132 non-null object\n",
      "vacant                    113132 non-null int64\n",
      "Date                      113132 non-null datetime64[ns]\n",
      "Survey Category           113132 non-null object\n",
      "Survey Grade              113132 non-null object\n",
      "SPA_NAME                  113132 non-null object\n",
      "lb_acquired               113132 non-null float64\n",
      "lb_tax_fc                 113132 non-null float64\n",
      "TOTAL_NET_DELQ_BALANCE    113132 non-null float64\n",
      "TAX_ASSESSED_LAND         113132 non-null float64\n",
      "TAX_MARKET_LAND           113132 non-null float64\n",
      "LENDER_PROCESS_TYPE       113132 non-null object\n",
      "GRAND_TOTAL_BALANCE       113132 non-null float64\n",
      "GRAND_TOTAL_PAID          113132 non-null float64\n",
      "GRAND_TOTAL_OWED          113132 non-null float64\n",
      "delq_total_ratio          113132 non-null float64\n",
      "paid_percent              113132 non-null float64\n",
      "pv_count                  113132 non-null float64\n",
      "dtypes: datetime64[ns](1), float64(11), int64(1), object(5)\n",
      "memory usage: 16.4+ MB\n"
     ]
    }
   ],
   "source": [
    "df.info()"
   ]
  },
  {
   "cell_type": "code",
   "execution_count": null,
   "metadata": {
    "collapsed": true
   },
   "outputs": [],
   "source": []
  }
 ],
 "metadata": {
  "kernelspec": {
   "display_name": "Python 3",
   "language": "python",
   "name": "python3"
  },
  "language_info": {
   "codemirror_mode": {
    "name": "ipython",
    "version": 3
   },
   "file_extension": ".py",
   "mimetype": "text/x-python",
   "name": "python",
   "nbconvert_exporter": "python",
   "pygments_lexer": "ipython3",
   "version": "3.4.4"
  }
 },
 "nbformat": 4,
 "nbformat_minor": 0
}
