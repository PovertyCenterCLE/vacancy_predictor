{
 "cells": [
  {
   "cell_type": "code",
   "execution_count": 63,
   "metadata": {
    "collapsed": false
   },
   "outputs": [
    {
     "name": "stdout",
     "output_type": "stream",
     "text": [
      "/Volumes/Dropbox-1/largetransfer/luc/carter\n"
     ]
    }
   ],
   "source": [
    "import matplotlib.pyplot as plt\n",
    "import datetime as dt\n",
    "import seaborn as sns\n",
    "import pandas as pd\n",
    "import numpy as np\n",
    "import os\n",
    "\n",
    "%matplotlib inline\n",
    "\n",
    "path = '/'.join(os.getcwd().split('/')[:-1])\n",
    "print path"
   ]
  },
  {
   "cell_type": "code",
   "execution_count": 64,
   "metadata": {
    "collapsed": false
   },
   "outputs": [],
   "source": [
    "tci = pd.read_csv(path+'/data/model_data/tci_2_2.csv')\n",
    "ppns = set(tci['ppn'])\n",
    "ppns_num = set(tci['ppn'].apply(lambda x: x.replace('-','')))"
   ]
  },
  {
   "cell_type": "markdown",
   "metadata": {},
   "source": [
    "## Foreclosure data"
   ]
  },
  {
   "cell_type": "code",
   "execution_count": 65,
   "metadata": {
    "collapsed": false
   },
   "outputs": [],
   "source": [
    "fc = pd.read_csv(path+'/data/clean_data/foreclosure_filings.csv', parse_dates=[2])"
   ]
  },
  {
   "cell_type": "code",
   "execution_count": 66,
   "metadata": {
    "collapsed": false,
    "scrolled": true
   },
   "outputs": [
    {
     "name": "stdout",
     "output_type": "stream",
     "text": [
      "<class 'pandas.core.frame.DataFrame'>\n",
      "Int64Index: 45055 entries, 0 to 45054\n",
      "Data columns (total 26 columns):\n",
      "parcel            45055 non-null object\n",
      "status            45055 non-null object\n",
      "filedate          45055 non-null datetime64[ns]\n",
      "defendant         45055 non-null object\n",
      "caseno            45055 non-null object\n",
      "parcel_address    44986 non-null object\n",
      "dateid            45055 non-null object\n",
      "FORE              45055 non-null int64\n",
      "LATITUDE          45035 non-null float64\n",
      "LONGITUDE         45035 non-null float64\n",
      "zip_fore          43920 non-null float64\n",
      "case_number       45055 non-null object\n",
      "ctitle            45055 non-null object\n",
      "cdesig            45055 non-null object\n",
      "judge             45055 non-null object\n",
      "magistrate        41211 non-null object\n",
      "room              407 non-null object\n",
      "n_action          408 non-null object\n",
      "f_location        45053 non-null object\n",
      "lstatus           45055 non-null object\n",
      "lstatusdt         45055 non-null object\n",
      "ldispos           45055 non-null object\n",
      "ldisposdt         45055 non-null object\n",
      "pamount           45055 non-null object\n",
      "detaildt          45055 non-null object\n",
      "plaintiff         45055 non-null object\n",
      "dtypes: datetime64[ns](1), float64(3), int64(1), object(21)\n",
      "memory usage: 9.3+ MB\n"
     ]
    }
   ],
   "source": [
    "fc.info()"
   ]
  },
  {
   "cell_type": "code",
   "execution_count": 67,
   "metadata": {
    "collapsed": false
   },
   "outputs": [
    {
     "data": {
      "text/html": [
       "<div>\n",
       "<table border=\"1\" class=\"dataframe\">\n",
       "  <thead>\n",
       "    <tr style=\"text-align: right;\">\n",
       "      <th></th>\n",
       "      <th>parcel</th>\n",
       "      <th>status</th>\n",
       "      <th>filedate</th>\n",
       "      <th>defendant</th>\n",
       "      <th>caseno</th>\n",
       "      <th>parcel_address</th>\n",
       "      <th>dateid</th>\n",
       "      <th>FORE</th>\n",
       "      <th>LATITUDE</th>\n",
       "      <th>LONGITUDE</th>\n",
       "      <th>...</th>\n",
       "      <th>room</th>\n",
       "      <th>n_action</th>\n",
       "      <th>f_location</th>\n",
       "      <th>lstatus</th>\n",
       "      <th>lstatusdt</th>\n",
       "      <th>ldispos</th>\n",
       "      <th>ldisposdt</th>\n",
       "      <th>pamount</th>\n",
       "      <th>detaildt</th>\n",
       "      <th>plaintiff</th>\n",
       "    </tr>\n",
       "  </thead>\n",
       "  <tbody>\n",
       "    <tr>\n",
       "      <th>0</th>\n",
       "      <td>107-16-046</td>\n",
       "      <td>Inactive</td>\n",
       "      <td>2006-10-03</td>\n",
       "      <td>AHMAD HAKIM, ET AL</td>\n",
       "      <td>BR-06-000005</td>\n",
       "      <td>BLAINE AVENUE</td>\n",
       "      <td>03/21/2015</td>\n",
       "      <td>1</td>\n",
       "      <td>41.51486</td>\n",
       "      <td>-81.625548</td>\n",
       "      <td>...</td>\n",
       "      <td>NaN</td>\n",
       "      <td>NaN</td>\n",
       "      <td>DF-ROOM 45</td>\n",
       "      <td>INACTIVE</td>\n",
       "      <td>03/07/2007</td>\n",
       "      <td>DEFAULT</td>\n",
       "      <td>02/28/2007</td>\n",
       "      <td>$.00</td>\n",
       "      <td>12/24/2014</td>\n",
       "      <td>JAMES ROKAKIS, AS TREASURER</td>\n",
       "    </tr>\n",
       "    <tr>\n",
       "      <th>1</th>\n",
       "      <td>119-01-007</td>\n",
       "      <td>Inactive</td>\n",
       "      <td>2006-10-03</td>\n",
       "      <td>IDOLA SMITH AKA IDOLA BINION ET.AL.</td>\n",
       "      <td>BR-06-000018</td>\n",
       "      <td>1827 EAST 79TH STREET</td>\n",
       "      <td>03/21/2015</td>\n",
       "      <td>1</td>\n",
       "      <td>41.50848</td>\n",
       "      <td>-81.633084</td>\n",
       "      <td>...</td>\n",
       "      <td>NaN</td>\n",
       "      <td>NaN</td>\n",
       "      <td>DF-ROOM 45</td>\n",
       "      <td>INACTIVE</td>\n",
       "      <td>12/11/2007</td>\n",
       "      <td>DEFAULT</td>\n",
       "      <td>12/10/2007</td>\n",
       "      <td>$.00</td>\n",
       "      <td>03/21/2015</td>\n",
       "      <td>JAMES ROKAKIS, AS TREASURER</td>\n",
       "    </tr>\n",
       "  </tbody>\n",
       "</table>\n",
       "<p>2 rows × 26 columns</p>\n",
       "</div>"
      ],
      "text/plain": [
       "       parcel    status   filedate                            defendant  \\\n",
       "0  107-16-046  Inactive 2006-10-03                   AHMAD HAKIM, ET AL   \n",
       "1  119-01-007  Inactive 2006-10-03  IDOLA SMITH AKA IDOLA BINION ET.AL.   \n",
       "\n",
       "         caseno         parcel_address      dateid  FORE  LATITUDE  LONGITUDE  \\\n",
       "0  BR-06-000005          BLAINE AVENUE  03/21/2015     1  41.51486 -81.625548   \n",
       "1  BR-06-000018  1827 EAST 79TH STREET  03/21/2015     1  41.50848 -81.633084   \n",
       "\n",
       "              ...               room n_action  f_location   lstatus  \\\n",
       "0             ...                NaN      NaN  DF-ROOM 45  INACTIVE   \n",
       "1             ...                NaN      NaN  DF-ROOM 45  INACTIVE   \n",
       "\n",
       "    lstatusdt  ldispos   ldisposdt pamount    detaildt  \\\n",
       "0  03/07/2007  DEFAULT  02/28/2007    $.00  12/24/2014   \n",
       "1  12/11/2007  DEFAULT  12/10/2007    $.00  03/21/2015   \n",
       "\n",
       "                     plaintiff  \n",
       "0  JAMES ROKAKIS, AS TREASURER  \n",
       "1  JAMES ROKAKIS, AS TREASURER  \n",
       "\n",
       "[2 rows x 26 columns]"
      ]
     },
     "execution_count": 67,
     "metadata": {},
     "output_type": "execute_result"
    }
   ],
   "source": [
    "fc.head(2)"
   ]
  },
  {
   "cell_type": "code",
   "execution_count": 68,
   "metadata": {
    "collapsed": false
   },
   "outputs": [],
   "source": [
    "fc['pamount'] = fc['pamount'].apply(lambda x: float(x[1:].replace(',','')))"
   ]
  },
  {
   "cell_type": "code",
   "execution_count": 69,
   "metadata": {
    "collapsed": false
   },
   "outputs": [],
   "source": [
    "tem = fc.loc[fc.status=='Active',['parcel']]\n",
    "tem['active_fc'] = 1\n",
    "tem = tem.drop_duplicates()"
   ]
  },
  {
   "cell_type": "code",
   "execution_count": 70,
   "metadata": {
    "collapsed": false
   },
   "outputs": [],
   "source": [
    "tci = pd.merge(tci, tem, \\\n",
    "             how='left', left_on='ppn', right_on='parcel')"
   ]
  },
  {
   "cell_type": "code",
   "execution_count": 71,
   "metadata": {
    "collapsed": false
   },
   "outputs": [],
   "source": [
    "tem = fc.loc[fc.filedate>dt.datetime(2011, 3, 1),['parcel','pamount']].groupby('parcel').first()\n",
    "tem.columns = ['foreclosure_flag']\n",
    "\n",
    "tci = pd.merge(tci, tem, \\\n",
    "             how='left', left_on='ppn', right_index=True)"
   ]
  },
  {
   "cell_type": "code",
   "execution_count": 72,
   "metadata": {
    "collapsed": false
   },
   "outputs": [],
   "source": [
    "tci.loc[(tci.ppn.isin(set(fc[(fc.ldispos=='DIS. W/O PREJ')].parcel))),'fc_dis_w/o_prej'] = 1"
   ]
  },
  {
   "cell_type": "code",
   "execution_count": 73,
   "metadata": {
    "collapsed": true
   },
   "outputs": [],
   "source": [
    "tci.loc[(tci.ppn.isin(set(fc[(fc.ldispos=='NEWLY FILED')].parcel))),'fc_newly_filed'] = 1"
   ]
  },
  {
   "cell_type": "code",
   "execution_count": 74,
   "metadata": {
    "collapsed": false
   },
   "outputs": [],
   "source": [
    "for dis in ['DEFAULT']:\n",
    "    for i in xrange(2006,2016):\n",
    "        tci.loc[(tci.ppn.isin(set(fc[(fc.ldispos==dis) & (fc.filedate.apply(lambda x: x.year) ==i)].parcel))),'fc_default'] = i\n",
    "tci.loc[tci.fc_default.isnull(),'fc_default'] = 0"
   ]
  },
  {
   "cell_type": "code",
   "execution_count": 75,
   "metadata": {
    "collapsed": false
   },
   "outputs": [],
   "source": [
    "dis = 'DISP.OTHER'\n",
    "for year in xrange(2006,2015):\n",
    "    tci.loc[tci.ppn.isin(set(fc[(fc.ldispos==dis) & (fc.filedate.apply(lambda x: x.year) ==year)].parcel)),'fc_dispother'] = year\n",
    "tci.loc[tci.fc_dispother.isnull(),'fc_dispother']= 0"
   ]
  },
  {
   "cell_type": "code",
   "execution_count": 76,
   "metadata": {
    "collapsed": false
   },
   "outputs": [
    {
     "name": "stdout",
     "output_type": "stream",
     "text": [
      "('DIS. W/PREJ', 1, 0)\n",
      "('DISP. TRANSCT', 0, 0)\n",
      "('DISP.OTHER', 217, 129)\n",
      "('NEWLY FILED', 255, 197)\n",
      "('DEFAULT', 443, 154)\n",
      "('UNAVAILABLE', 0, 0)\n",
      "('DISPOSED', 0, 0)\n",
      "('BANKRPT/C.O.A. STAY', 45, 6)\n",
      "('DIS. W/O PREJ', 372, 53)\n",
      "('SATISFIED', 0, 0)\n",
      "('DISP.JURY TRIAL', 0, 0)\n",
      "('MAGISTRATE', 1226, 284)\n",
      "('ADR', 167, 7)\n",
      "('DISP.COURT TRIAL', 0, 0)\n",
      "('STAY', 0, 0)\n",
      "('RET. STAY', 0, 0)\n"
     ]
    }
   ],
   "source": [
    "for dis in set(fc.ldispos):\n",
    "    a = tci[(tci.ppn.isin(set(fc[(fc.ldispos==dis) & (fc.filedate > dt.datetime(2014,3,1))].parcel))) & (tci.vacant>-1)]\n",
    "    print(dis, len(a), sum(a.vacant))"
   ]
  },
  {
   "cell_type": "markdown",
   "metadata": {},
   "source": [
    "## Sheriff's auction"
   ]
  },
  {
   "cell_type": "code",
   "execution_count": 77,
   "metadata": {
    "collapsed": false
   },
   "outputs": [],
   "source": [
    "sa = pd.read_csv(path+'/data/clean_data/sheriff_auction.csv', parse_dates=[2], encoding=\"ISO-8859-1\")"
   ]
  },
  {
   "cell_type": "code",
   "execution_count": 78,
   "metadata": {
    "collapsed": false,
    "scrolled": true
   },
   "outputs": [
    {
     "name": "stdout",
     "output_type": "stream",
     "text": [
      "<class 'pandas.core.frame.DataFrame'>\n",
      "Int64Index: 45843 entries, 0 to 45842\n",
      "Data columns (total 25 columns):\n",
      "parcel        45843 non-null object\n",
      "address       45700 non-null object\n",
      "salesdt       45843 non-null datetime64[ns]\n",
      "saleno        45842 non-null float64\n",
      "sold_amt      28609 non-null object\n",
      "appraisal     37038 non-null object\n",
      "minbid        37050 non-null object\n",
      "scaseno       45843 non-null object\n",
      "withdrawn     17813 non-null object\n",
      "plaintiff     45831 non-null object\n",
      "sdefend       45840 non-null object\n",
      "purchaser     31260 non-null object\n",
      "paddress      42891 non-null object\n",
      "rparty        35478 non-null object\n",
      "raddress      35478 non-null object\n",
      "attorney      44680 non-null object\n",
      "descript      40222 non-null object\n",
      "location      23362 non-null object\n",
      "defend_att    5857 non-null object\n",
      "with          17813 non-null object\n",
      "status        4508 non-null object\n",
      "ssold         31381 non-null object\n",
      "SHF           45843 non-null int64\n",
      "LATITUDE      45831 non-null float64\n",
      "LONGITUDE     45831 non-null float64\n",
      "dtypes: datetime64[ns](1), float64(3), int64(1), object(20)\n",
      "memory usage: 9.1+ MB\n"
     ]
    }
   ],
   "source": [
    "sa.info()"
   ]
  },
  {
   "cell_type": "code",
   "execution_count": 79,
   "metadata": {
    "collapsed": false
   },
   "outputs": [
    {
     "data": {
      "text/html": [
       "<div>\n",
       "<table border=\"1\" class=\"dataframe\">\n",
       "  <thead>\n",
       "    <tr style=\"text-align: right;\">\n",
       "      <th></th>\n",
       "      <th>parcel</th>\n",
       "      <th>address</th>\n",
       "      <th>salesdt</th>\n",
       "      <th>saleno</th>\n",
       "      <th>sold_amt</th>\n",
       "      <th>appraisal</th>\n",
       "      <th>minbid</th>\n",
       "      <th>scaseno</th>\n",
       "      <th>withdrawn</th>\n",
       "      <th>plaintiff</th>\n",
       "      <th>...</th>\n",
       "      <th>attorney</th>\n",
       "      <th>descript</th>\n",
       "      <th>location</th>\n",
       "      <th>defend_att</th>\n",
       "      <th>with</th>\n",
       "      <th>status</th>\n",
       "      <th>ssold</th>\n",
       "      <th>SHF</th>\n",
       "      <th>LATITUDE</th>\n",
       "      <th>LONGITUDE</th>\n",
       "    </tr>\n",
       "  </thead>\n",
       "  <tbody>\n",
       "    <tr>\n",
       "      <th>0</th>\n",
       "      <td>001-02-016</td>\n",
       "      <td>11436 EDGEWATER DRIVE</td>\n",
       "      <td>2009-08-24</td>\n",
       "      <td>46</td>\n",
       "      <td>NaN</td>\n",
       "      <td>$225,000</td>\n",
       "      <td>$150,000</td>\n",
       "      <td>CV08664602</td>\n",
       "      <td>Withdrawn - Order of</td>\n",
       "      <td>INDYMAC BANK FSB C/O INDYMAC BANK FSB</td>\n",
       "      <td>...</td>\n",
       "      <td>REIMER/DENNIS/</td>\n",
       "      <td>A SINGLE BRICK DWELLING WITH ATTACHED TWO CAR ...</td>\n",
       "      <td>NaN</td>\n",
       "      <td>NaN</td>\n",
       "      <td>WITHD</td>\n",
       "      <td>NaN</td>\n",
       "      <td>NaN</td>\n",
       "      <td>1</td>\n",
       "      <td>41.489578</td>\n",
       "      <td>-81.764549</td>\n",
       "    </tr>\n",
       "    <tr>\n",
       "      <th>1</th>\n",
       "      <td>001-02-016</td>\n",
       "      <td>11436 EDGEWATER DRIVE</td>\n",
       "      <td>2009-11-23</td>\n",
       "      <td>78</td>\n",
       "      <td>NaN</td>\n",
       "      <td>$225,000</td>\n",
       "      <td>$150,000</td>\n",
       "      <td>CV08664602</td>\n",
       "      <td>Withdrawn - Order of</td>\n",
       "      <td>INDYMAC BANK FSB C/O INDYMAC BANK FSB</td>\n",
       "      <td>...</td>\n",
       "      <td>REIMER/DENNIS/</td>\n",
       "      <td>A SINGLE BRICK DWELLING WITH ATTACHED TWO CAR ...</td>\n",
       "      <td>NaN</td>\n",
       "      <td>NaN</td>\n",
       "      <td>WITHD</td>\n",
       "      <td>NaN</td>\n",
       "      <td>NaN</td>\n",
       "      <td>1</td>\n",
       "      <td>41.489578</td>\n",
       "      <td>-81.764549</td>\n",
       "    </tr>\n",
       "  </tbody>\n",
       "</table>\n",
       "<p>2 rows × 25 columns</p>\n",
       "</div>"
      ],
      "text/plain": [
       "       parcel                address    salesdt  saleno sold_amt appraisal  \\\n",
       "0  001-02-016  11436 EDGEWATER DRIVE 2009-08-24      46      NaN  $225,000   \n",
       "1  001-02-016  11436 EDGEWATER DRIVE 2009-11-23      78      NaN  $225,000   \n",
       "\n",
       "     minbid     scaseno             withdrawn  \\\n",
       "0  $150,000  CV08664602  Withdrawn - Order of   \n",
       "1  $150,000  CV08664602  Withdrawn - Order of   \n",
       "\n",
       "                               plaintiff    ...            attorney  \\\n",
       "0  INDYMAC BANK FSB C/O INDYMAC BANK FSB    ...      REIMER/DENNIS/   \n",
       "1  INDYMAC BANK FSB C/O INDYMAC BANK FSB    ...      REIMER/DENNIS/   \n",
       "\n",
       "                                            descript location defend_att  \\\n",
       "0  A SINGLE BRICK DWELLING WITH ATTACHED TWO CAR ...      NaN        NaN   \n",
       "1  A SINGLE BRICK DWELLING WITH ATTACHED TWO CAR ...      NaN        NaN   \n",
       "\n",
       "    with status ssold SHF   LATITUDE  LONGITUDE  \n",
       "0  WITHD    NaN   NaN   1  41.489578 -81.764549  \n",
       "1  WITHD    NaN   NaN   1  41.489578 -81.764549  \n",
       "\n",
       "[2 rows x 25 columns]"
      ]
     },
     "execution_count": 79,
     "metadata": {},
     "output_type": "execute_result"
    }
   ],
   "source": [
    "sa.head(2)"
   ]
  },
  {
   "cell_type": "code",
   "execution_count": 80,
   "metadata": {
    "collapsed": true
   },
   "outputs": [],
   "source": [
    "def parse_amount(x):\n",
    "    return float(str(x)[1:].replace(',',''))"
   ]
  },
  {
   "cell_type": "code",
   "execution_count": 81,
   "metadata": {
    "collapsed": false
   },
   "outputs": [],
   "source": [
    "sa.loc[sa.appraisal.notnull(), 'appraisal'] = sa.loc[sa.appraisal.notnull(), 'appraisal'].apply(parse_amount)"
   ]
  },
  {
   "cell_type": "code",
   "execution_count": 82,
   "metadata": {
    "collapsed": false
   },
   "outputs": [],
   "source": [
    "sa['ssold'] = sa.ssold.apply(lambda x: 1 if x=='Yes' else 0)"
   ]
  },
  {
   "cell_type": "code",
   "execution_count": 83,
   "metadata": {
    "collapsed": false
   },
   "outputs": [
    {
     "data": {
      "text/html": [
       "<div>\n",
       "<table border=\"1\" class=\"dataframe\">\n",
       "  <thead>\n",
       "    <tr>\n",
       "      <th></th>\n",
       "      <th colspan=\"2\" halign=\"left\">vacant</th>\n",
       "    </tr>\n",
       "    <tr>\n",
       "      <th></th>\n",
       "      <th>sum</th>\n",
       "      <th>len</th>\n",
       "    </tr>\n",
       "    <tr>\n",
       "      <th>auction</th>\n",
       "      <th></th>\n",
       "      <th></th>\n",
       "    </tr>\n",
       "  </thead>\n",
       "  <tbody>\n",
       "    <tr>\n",
       "      <th>0</th>\n",
       "      <td>8556</td>\n",
       "      <td>98711</td>\n",
       "    </tr>\n",
       "    <tr>\n",
       "      <th>1</th>\n",
       "      <td>577</td>\n",
       "      <td>1695</td>\n",
       "    </tr>\n",
       "    <tr>\n",
       "      <th>2</th>\n",
       "      <td>2</td>\n",
       "      <td>3</td>\n",
       "    </tr>\n",
       "  </tbody>\n",
       "</table>\n",
       "</div>"
      ],
      "text/plain": [
       "        vacant       \n",
       "           sum    len\n",
       "auction              \n",
       "0         8556  98711\n",
       "1          577   1695\n",
       "2            2      3"
      ]
     },
     "execution_count": 83,
     "metadata": {},
     "output_type": "execute_result"
    }
   ],
   "source": [
    "tem = sa.loc[sa.salesdt>dt.datetime(2014, 1, 1),['parcel','ssold']].groupby('parcel').sum()\n",
    "tem.columns = ['auction']\n",
    "tem.loc[tem['auction'].isnull(),'auction'] = 0\n",
    "tci = pd.merge(tci, tem, \\\n",
    "              how='left', left_on='ppn', right_index=True)\n",
    "tci.loc[tci['auction'].isnull(),'auction'] = 0\n",
    "tci.loc[(tci.vacant>-1),['auction','vacant']].groupby('auction').agg([sum,len])"
   ]
  },
  {
   "cell_type": "code",
   "execution_count": 84,
   "metadata": {
    "collapsed": false
   },
   "outputs": [],
   "source": [
    "tci[tci.auction.isnull()] = 0\n",
    "tci[tci.auction > 0] = 1"
   ]
  },
  {
   "cell_type": "markdown",
   "metadata": {},
   "source": [
    "## Tax bill"
   ]
  },
  {
   "cell_type": "code",
   "execution_count": 85,
   "metadata": {
    "collapsed": false
   },
   "outputs": [],
   "source": [
    "tb = pd.read_csv(path+'/data/clean_data/taxbill_dec14.csv', dtype=object)"
   ]
  },
  {
   "cell_type": "code",
   "execution_count": 86,
   "metadata": {
    "collapsed": false
   },
   "outputs": [
    {
     "data": {
      "text/html": [
       "<div>\n",
       "<table border=\"1\" class=\"dataframe\">\n",
       "  <thead>\n",
       "    <tr style=\"text-align: right;\">\n",
       "      <th></th>\n",
       "      <th>TAX_BILL_ID</th>\n",
       "      <th>TAX_YEAR</th>\n",
       "      <th>WHS_ID</th>\n",
       "      <th>PROPERTY_ID</th>\n",
       "      <th>PPN</th>\n",
       "      <th>PROPERTY_NUMBER</th>\n",
       "      <th>MACHINE_ID</th>\n",
       "      <th>EFFECTIVE_STATUS</th>\n",
       "      <th>VALUE_CHANGE_TIMESTAMP</th>\n",
       "      <th>PROPERTY_TYPE</th>\n",
       "      <th>...</th>\n",
       "      <th>LOCATION_UNIT_NUMBER</th>\n",
       "      <th>HOMESTEAD_ASSESSED_VALUE</th>\n",
       "      <th>SURPLUS_PAYMENT</th>\n",
       "      <th>OMITTED_TAX_PENALTY_1ST</th>\n",
       "      <th>OMITTED_TAX_PENALTY_2ND</th>\n",
       "      <th>AUDITOR_REFUND</th>\n",
       "      <th>TRASURER_REFUND</th>\n",
       "      <th>TIF_AMOUNT_1ST</th>\n",
       "      <th>TIF_AMOUNT_2ND</th>\n",
       "      <th>UPDATE_DATE</th>\n",
       "    </tr>\n",
       "  </thead>\n",
       "  <tbody>\n",
       "    <tr>\n",
       "      <th>0</th>\n",
       "      <td>284393728</td>\n",
       "      <td>2014</td>\n",
       "      <td>4287556</td>\n",
       "      <td>603364178</td>\n",
       "      <td>00707138</td>\n",
       "      <td>007-07-138</td>\n",
       "      <td>NaN</td>\n",
       "      <td>NaN</td>\n",
       "      <td>NaN</td>\n",
       "      <td>800</td>\n",
       "      <td>...</td>\n",
       "      <td>NaN</td>\n",
       "      <td>NaN</td>\n",
       "      <td>NaN</td>\n",
       "      <td>NaN</td>\n",
       "      <td>NaN</td>\n",
       "      <td>NaN</td>\n",
       "      <td>NaN</td>\n",
       "      <td>0</td>\n",
       "      <td>0</td>\n",
       "      <td>12/09/2014</td>\n",
       "    </tr>\n",
       "    <tr>\n",
       "      <th>1</th>\n",
       "      <td>284393729</td>\n",
       "      <td>2014</td>\n",
       "      <td>4287558</td>\n",
       "      <td>103364182</td>\n",
       "      <td>00707140</td>\n",
       "      <td>007-07-140</td>\n",
       "      <td>NaN</td>\n",
       "      <td>NaN</td>\n",
       "      <td>NaN</td>\n",
       "      <td>800</td>\n",
       "      <td>...</td>\n",
       "      <td>NaN</td>\n",
       "      <td>NaN</td>\n",
       "      <td>NaN</td>\n",
       "      <td>NaN</td>\n",
       "      <td>NaN</td>\n",
       "      <td>NaN</td>\n",
       "      <td>NaN</td>\n",
       "      <td>0</td>\n",
       "      <td>0</td>\n",
       "      <td>12/09/2014</td>\n",
       "    </tr>\n",
       "    <tr>\n",
       "      <th>2</th>\n",
       "      <td>284393730</td>\n",
       "      <td>2014</td>\n",
       "      <td>4287559</td>\n",
       "      <td>403364185</td>\n",
       "      <td>00707141</td>\n",
       "      <td>007-07-141</td>\n",
       "      <td>NaN</td>\n",
       "      <td>NaN</td>\n",
       "      <td>NaN</td>\n",
       "      <td>800</td>\n",
       "      <td>...</td>\n",
       "      <td>NaN</td>\n",
       "      <td>NaN</td>\n",
       "      <td>NaN</td>\n",
       "      <td>NaN</td>\n",
       "      <td>NaN</td>\n",
       "      <td>NaN</td>\n",
       "      <td>NaN</td>\n",
       "      <td>0</td>\n",
       "      <td>0</td>\n",
       "      <td>12/09/2014</td>\n",
       "    </tr>\n",
       "    <tr>\n",
       "      <th>3</th>\n",
       "      <td>284393731</td>\n",
       "      <td>2014</td>\n",
       "      <td>4287560</td>\n",
       "      <td>703364188</td>\n",
       "      <td>00707142</td>\n",
       "      <td>007-07-142</td>\n",
       "      <td>NaN</td>\n",
       "      <td>NaN</td>\n",
       "      <td>NaN</td>\n",
       "      <td>800</td>\n",
       "      <td>...</td>\n",
       "      <td>NaN</td>\n",
       "      <td>NaN</td>\n",
       "      <td>5.23</td>\n",
       "      <td>NaN</td>\n",
       "      <td>NaN</td>\n",
       "      <td>NaN</td>\n",
       "      <td>NaN</td>\n",
       "      <td>0</td>\n",
       "      <td>0</td>\n",
       "      <td>12/09/2014</td>\n",
       "    </tr>\n",
       "    <tr>\n",
       "      <th>4</th>\n",
       "      <td>284393733</td>\n",
       "      <td>2014</td>\n",
       "      <td>4287562</td>\n",
       "      <td>403364194</td>\n",
       "      <td>00707144</td>\n",
       "      <td>007-07-144</td>\n",
       "      <td>NaN</td>\n",
       "      <td>NaN</td>\n",
       "      <td>NaN</td>\n",
       "      <td>800</td>\n",
       "      <td>...</td>\n",
       "      <td>NaN</td>\n",
       "      <td>8750</td>\n",
       "      <td>NaN</td>\n",
       "      <td>NaN</td>\n",
       "      <td>NaN</td>\n",
       "      <td>NaN</td>\n",
       "      <td>NaN</td>\n",
       "      <td>0</td>\n",
       "      <td>0</td>\n",
       "      <td>12/09/2014</td>\n",
       "    </tr>\n",
       "  </tbody>\n",
       "</table>\n",
       "<p>5 rows × 147 columns</p>\n",
       "</div>"
      ],
      "text/plain": [
       "  TAX_BILL_ID TAX_YEAR   WHS_ID PROPERTY_ID       PPN PROPERTY_NUMBER  \\\n",
       "0   284393728     2014  4287556   603364178  00707138      007-07-138   \n",
       "1   284393729     2014  4287558   103364182  00707140      007-07-140   \n",
       "2   284393730     2014  4287559   403364185  00707141      007-07-141   \n",
       "3   284393731     2014  4287560   703364188  00707142      007-07-142   \n",
       "4   284393733     2014  4287562   403364194  00707144      007-07-144   \n",
       "\n",
       "  MACHINE_ID EFFECTIVE_STATUS VALUE_CHANGE_TIMESTAMP PROPERTY_TYPE  \\\n",
       "0        NaN              NaN                    NaN           800   \n",
       "1        NaN              NaN                    NaN           800   \n",
       "2        NaN              NaN                    NaN           800   \n",
       "3        NaN              NaN                    NaN           800   \n",
       "4        NaN              NaN                    NaN           800   \n",
       "\n",
       "      ...     LOCATION_UNIT_NUMBER HOMESTEAD_ASSESSED_VALUE SURPLUS_PAYMENT  \\\n",
       "0     ...                      NaN                      NaN             NaN   \n",
       "1     ...                      NaN                      NaN             NaN   \n",
       "2     ...                      NaN                      NaN             NaN   \n",
       "3     ...                      NaN                      NaN            5.23   \n",
       "4     ...                      NaN                     8750             NaN   \n",
       "\n",
       "  OMITTED_TAX_PENALTY_1ST OMITTED_TAX_PENALTY_2ND AUDITOR_REFUND  \\\n",
       "0                     NaN                     NaN            NaN   \n",
       "1                     NaN                     NaN            NaN   \n",
       "2                     NaN                     NaN            NaN   \n",
       "3                     NaN                     NaN            NaN   \n",
       "4                     NaN                     NaN            NaN   \n",
       "\n",
       "  TRASURER_REFUND TIF_AMOUNT_1ST TIF_AMOUNT_2ND UPDATE_DATE  \n",
       "0             NaN              0              0  12/09/2014  \n",
       "1             NaN              0              0  12/09/2014  \n",
       "2             NaN              0              0  12/09/2014  \n",
       "3             NaN              0              0  12/09/2014  \n",
       "4             NaN              0              0  12/09/2014  \n",
       "\n",
       "[5 rows x 147 columns]"
      ]
     },
     "execution_count": 86,
     "metadata": {},
     "output_type": "execute_result"
    }
   ],
   "source": [
    "tb.head()"
   ]
  },
  {
   "cell_type": "code",
   "execution_count": 87,
   "metadata": {
    "collapsed": true
   },
   "outputs": [],
   "source": [
    "tb = tb.fillna(0)"
   ]
  },
  {
   "cell_type": "code",
   "execution_count": 88,
   "metadata": {
    "collapsed": false
   },
   "outputs": [],
   "source": [
    "# plt.hist(t.loc[(t.vacant==0),'GRAND_TOTAL_BALANCE'].apply(float).values, bins = np.linspace(0,20000),alpha=0.5,normed=True);\n",
    "# plt.hist(t.loc[(t.vacant==1),'GRAND_TOTAL_BALANCE'].apply(float).values, bins = np.linspace(0,20000),alpha=0.5,normed=True);"
   ]
  },
  {
   "cell_type": "code",
   "execution_count": 89,
   "metadata": {
    "collapsed": false
   },
   "outputs": [],
   "source": [
    "# t.loc[(t.vacant>-1), ['LENDER_PROCESS_TYPE','vacant']].groupby('LENDER_PROCESS_TYPE').agg([sum,len])"
   ]
  },
  {
   "cell_type": "code",
   "execution_count": 90,
   "metadata": {
    "collapsed": false
   },
   "outputs": [],
   "source": [
    "# t.loc[t.LENDER_PROCESS_TYPE==0,'LENDER_PROCESS_TYPE'] = 'None'"
   ]
  },
  {
   "cell_type": "code",
   "execution_count": 91,
   "metadata": {
    "collapsed": false
   },
   "outputs": [],
   "source": [
    "tci = pd.merge(tci, tb[['PROPERTY_NUMBER','LENDER_PROCESS_TYPE','GRAND_TOTAL_BALANCE']], left_on='ppn', right_on='PROPERTY_NUMBER',how='left')"
   ]
  },
  {
   "cell_type": "code",
   "execution_count": 92,
   "metadata": {
    "collapsed": true
   },
   "outputs": [],
   "source": [
    "tci.loc[tci.LENDER_PROCESS_TYPE==0,'LENDER_PROCESS_TYPE'] = 'None'"
   ]
  },
  {
   "cell_type": "code",
   "execution_count": 93,
   "metadata": {
    "collapsed": false
   },
   "outputs": [
    {
     "data": {
      "text/plain": [
       "(110154, 109)"
      ]
     },
     "execution_count": 93,
     "metadata": {},
     "output_type": "execute_result"
    }
   ],
   "source": [
    "tci.shape"
   ]
  },
  {
   "cell_type": "code",
   "execution_count": 94,
   "metadata": {
    "collapsed": true
   },
   "outputs": [],
   "source": [
    "tci.to_csv(path+'/data/model_data/tci_2_3.csv',index=False)"
   ]
  },
  {
   "cell_type": "code",
   "execution_count": 95,
   "metadata": {
    "collapsed": false
   },
   "outputs": [
    {
     "data": {
      "text/plain": [
       "(110154, 109)"
      ]
     },
     "execution_count": 95,
     "metadata": {},
     "output_type": "execute_result"
    }
   ],
   "source": [
    "tci.shape"
   ]
  },
  {
   "cell_type": "code",
   "execution_count": null,
   "metadata": {
    "collapsed": true
   },
   "outputs": [],
   "source": []
  }
 ],
 "metadata": {
  "kernelspec": {
   "display_name": "Python 2",
   "language": "python",
   "name": "python2"
  },
  "language_info": {
   "codemirror_mode": {
    "name": "ipython",
    "version": 2
   },
   "file_extension": ".py",
   "mimetype": "text/x-python",
   "name": "python",
   "nbconvert_exporter": "python",
   "pygments_lexer": "ipython2",
   "version": "2.7.10"
  }
 },
 "nbformat": 4,
 "nbformat_minor": 0
}
