{
 "cells": [
  {
   "cell_type": "markdown",
   "metadata": {},
   "source": [
    "# Analysis of vacancy and foreclosures, transactions, sheriff's auctions, and armslength sales"
   ]
  },
  {
   "cell_type": "code",
   "execution_count": 171,
   "metadata": {
    "collapsed": false
   },
   "outputs": [
    {
     "name": "stdout",
     "output_type": "stream",
     "text": [
      "/Volumes/Dropbox/largetransfer/luc/carter\n"
     ]
    }
   ],
   "source": [
    "import matplotlib.pyplot as plt\n",
    "import datetime as dt\n",
    "import seaborn as sns\n",
    "import pandas as pd\n",
    "import numpy as np\n",
    "import os\n",
    "import re\n",
    "\n",
    "%matplotlib inline\n",
    "\n",
    "path = '/'.join(os.getcwd().split('/')[:-1])\n",
    "print(path)"
   ]
  },
  {
   "cell_type": "code",
   "execution_count": 175,
   "metadata": {
    "collapsed": false
   },
   "outputs": [
    {
     "name": "stdout",
     "output_type": "stream",
     "text": [
      "(113132, 4)\n"
     ]
    },
    {
     "name": "stderr",
     "output_type": "stream",
     "text": [
      "//anaconda/envs/data_sci/lib/python3.4/site-packages/IPython/core/interactiveshell.py:2902: DtypeWarning: Columns (0) have mixed types. Specify dtype option on import or set low_memory=False.\n",
      "  interactivity=interactivity, compiler=compiler, result=result)\n"
     ]
    }
   ],
   "source": [
    "# import data\n",
    "\n",
    "tci = pd.read_csv(path+'/data/model_data/tci_1_0.csv', parse_dates=['Date'])\n",
    "tci = tci[['parcel','vacant','SPA_NAME','Date']]\n",
    "\n",
    "dates = dict(zip(tci.parcel, tci.Date))\n",
    "print(tci.shape)"
   ]
  },
  {
   "cell_type": "markdown",
   "metadata": {},
   "source": [
    "## Foreclosures"
   ]
  },
  {
   "cell_type": "code",
   "execution_count": 125,
   "metadata": {
    "collapsed": false
   },
   "outputs": [
    {
     "name": "stdout",
     "output_type": "stream",
     "text": [
      "Index(['caseno', 'parcel', 'status', 'date', 'defendant', 'parcel_address',\n",
      "       'dateid', 'case_title', 'plaintiff', 'FORE', 'LATITUDE', 'LONGITUDE',\n",
      "       'zip_fore'],\n",
      "      dtype='object')\n"
     ]
    }
   ],
   "source": [
    "# import all foreclosures\n",
    "\n",
    "fc = pd.read_csv(path+'/data/clean_data/foreclosure_filings2.csv', parse_dates=[2])\n",
    "fc = fc.sort_values('filedate').groupby('caseno').last()\n",
    "fc = fc.rename(columns={'filedate':'date'}).reset_index()\n",
    "\n",
    "print(fc.columns)"
   ]
  },
  {
   "cell_type": "code",
   "execution_count": 126,
   "metadata": {
    "collapsed": false
   },
   "outputs": [
    {
     "data": {
      "text/html": [
       "<div>\n",
       "<table border=\"1\" class=\"dataframe\">\n",
       "  <thead>\n",
       "    <tr style=\"text-align: right;\">\n",
       "      <th>vacant</th>\n",
       "      <th>0</th>\n",
       "      <th>1</th>\n",
       "    </tr>\n",
       "    <tr>\n",
       "      <th>fc</th>\n",
       "      <th></th>\n",
       "      <th></th>\n",
       "    </tr>\n",
       "  </thead>\n",
       "  <tbody>\n",
       "    <tr>\n",
       "      <th>False</th>\n",
       "      <td>79154</td>\n",
       "      <td>3836</td>\n",
       "    </tr>\n",
       "    <tr>\n",
       "      <th>True</th>\n",
       "      <td>23940</td>\n",
       "      <td>6202</td>\n",
       "    </tr>\n",
       "  </tbody>\n",
       "</table>\n",
       "</div>"
      ],
      "text/plain": [
       "vacant      0     1\n",
       "fc                 \n",
       "False   79154  3836\n",
       "True    23940  6202"
      ]
     },
     "execution_count": 126,
     "metadata": {},
     "output_type": "execute_result"
    }
   ],
   "source": [
    "# crosstabulation looking at whether or not vacancies have ever been foreclosed\n",
    "\n",
    "fc_parcel = set(fc.parcel)\n",
    "tci['fc'] = tci.apply(lambda x: x.parcel in fc_parcel, axis=1)\n",
    "pd.crosstab(tci.fc, tci.vacant)"
   ]
  },
  {
   "cell_type": "markdown",
   "metadata": {},
   "source": [
    "#### Has it been foreclosed before?\n",
    "\n",
    "So of the 30,142 parcels that have been foreclosed between 1/3/2006 and 11/6/2015, 6,202 are currently vacant, of the 10,038 total residential vacancies as measured by TCI. This means that 3,836 parcels were determined to be vacant but never have been foreclosed. \n",
    "\n",
    "#### Active vs. inactive foreclosures"
   ]
  },
  {
   "cell_type": "code",
   "execution_count": 127,
   "metadata": {
    "collapsed": false
   },
   "outputs": [
    {
     "data": {
      "text/html": [
       "<div>\n",
       "<table border=\"1\" class=\"dataframe\">\n",
       "  <thead>\n",
       "    <tr style=\"text-align: right;\">\n",
       "      <th>vacant</th>\n",
       "      <th>0</th>\n",
       "      <th>1</th>\n",
       "    </tr>\n",
       "    <tr>\n",
       "      <th>fc</th>\n",
       "      <th></th>\n",
       "      <th></th>\n",
       "    </tr>\n",
       "  </thead>\n",
       "  <tbody>\n",
       "    <tr>\n",
       "      <th>False</th>\n",
       "      <td>79967</td>\n",
       "      <td>4135</td>\n",
       "    </tr>\n",
       "    <tr>\n",
       "      <th>True</th>\n",
       "      <td>23127</td>\n",
       "      <td>5903</td>\n",
       "    </tr>\n",
       "  </tbody>\n",
       "</table>\n",
       "</div>"
      ],
      "text/plain": [
       "vacant      0     1\n",
       "fc                 \n",
       "False   79967  4135\n",
       "True    23127  5903"
      ]
     },
     "execution_count": 127,
     "metadata": {},
     "output_type": "execute_result"
    }
   ],
   "source": [
    "fc_parcel = set(fc[fc.status=='Inactive'].parcel)\n",
    "tci['fc'] = tci.apply(lambda x: x.parcel in fc_parcel, axis=1)\n",
    "pd.crosstab(tci.fc, tci.vacant)"
   ]
  },
  {
   "cell_type": "code",
   "execution_count": 128,
   "metadata": {
    "collapsed": false
   },
   "outputs": [
    {
     "data": {
      "text/html": [
       "<div>\n",
       "<table border=\"1\" class=\"dataframe\">\n",
       "  <thead>\n",
       "    <tr style=\"text-align: right;\">\n",
       "      <th>vacant</th>\n",
       "      <th>0</th>\n",
       "      <th>1</th>\n",
       "    </tr>\n",
       "    <tr>\n",
       "      <th>fc</th>\n",
       "      <th></th>\n",
       "      <th></th>\n",
       "    </tr>\n",
       "  </thead>\n",
       "  <tbody>\n",
       "    <tr>\n",
       "      <th>False</th>\n",
       "      <td>101689</td>\n",
       "      <td>9455</td>\n",
       "    </tr>\n",
       "    <tr>\n",
       "      <th>True</th>\n",
       "      <td>1405</td>\n",
       "      <td>583</td>\n",
       "    </tr>\n",
       "  </tbody>\n",
       "</table>\n",
       "</div>"
      ],
      "text/plain": [
       "vacant       0     1\n",
       "fc                  \n",
       "False   101689  9455\n",
       "True      1405   583"
      ]
     },
     "execution_count": 128,
     "metadata": {},
     "output_type": "execute_result"
    }
   ],
   "source": [
    "fc_parcel = set(fc[fc.status=='Active'].parcel)\n",
    "tci['fc'] = tci.apply(lambda x: x.parcel in fc_parcel, axis=1)\n",
    "pd.crosstab(tci.fc, tci.vacant)"
   ]
  },
  {
   "cell_type": "markdown",
   "metadata": {},
   "source": [
    "#### Number of times foreclosed vs. vacant"
   ]
  },
  {
   "cell_type": "code",
   "execution_count": 129,
   "metadata": {
    "collapsed": false
   },
   "outputs": [
    {
     "data": {
      "text/html": [
       "<div>\n",
       "<table border=\"1\" class=\"dataframe\">\n",
       "  <thead>\n",
       "    <tr>\n",
       "      <th></th>\n",
       "      <th colspan=\"2\" halign=\"left\">vacant</th>\n",
       "      <th>percent</th>\n",
       "    </tr>\n",
       "    <tr>\n",
       "      <th></th>\n",
       "      <th>sum</th>\n",
       "      <th>len</th>\n",
       "      <th></th>\n",
       "    </tr>\n",
       "    <tr>\n",
       "      <th>status</th>\n",
       "      <th></th>\n",
       "      <th></th>\n",
       "      <th></th>\n",
       "    </tr>\n",
       "  </thead>\n",
       "  <tbody>\n",
       "    <tr>\n",
       "      <th>0</th>\n",
       "      <td>3836</td>\n",
       "      <td>82990</td>\n",
       "      <td>0.046222</td>\n",
       "    </tr>\n",
       "    <tr>\n",
       "      <th>1</th>\n",
       "      <td>4193</td>\n",
       "      <td>22045</td>\n",
       "      <td>0.190202</td>\n",
       "    </tr>\n",
       "    <tr>\n",
       "      <th>2</th>\n",
       "      <td>1579</td>\n",
       "      <td>6255</td>\n",
       "      <td>0.252438</td>\n",
       "    </tr>\n",
       "    <tr>\n",
       "      <th>3</th>\n",
       "      <td>330</td>\n",
       "      <td>1422</td>\n",
       "      <td>0.232068</td>\n",
       "    </tr>\n",
       "    <tr>\n",
       "      <th>4</th>\n",
       "      <td>81</td>\n",
       "      <td>326</td>\n",
       "      <td>0.248466</td>\n",
       "    </tr>\n",
       "    <tr>\n",
       "      <th>5</th>\n",
       "      <td>14</td>\n",
       "      <td>71</td>\n",
       "      <td>0.197183</td>\n",
       "    </tr>\n",
       "    <tr>\n",
       "      <th>6</th>\n",
       "      <td>4</td>\n",
       "      <td>15</td>\n",
       "      <td>0.266667</td>\n",
       "    </tr>\n",
       "    <tr>\n",
       "      <th>7</th>\n",
       "      <td>1</td>\n",
       "      <td>8</td>\n",
       "      <td>0.125000</td>\n",
       "    </tr>\n",
       "  </tbody>\n",
       "</table>\n",
       "</div>"
      ],
      "text/plain": [
       "       vacant          percent\n",
       "          sum    len          \n",
       "status                        \n",
       "0        3836  82990  0.046222\n",
       "1        4193  22045  0.190202\n",
       "2        1579   6255  0.252438\n",
       "3         330   1422  0.232068\n",
       "4          81    326  0.248466\n",
       "5          14     71  0.197183\n",
       "6           4     15  0.266667\n",
       "7           1      8  0.125000"
      ]
     },
     "execution_count": 129,
     "metadata": {},
     "output_type": "execute_result"
    }
   ],
   "source": [
    "tem = pd.merge(fc[['parcel','status']].groupby('parcel').count(), tci[['parcel','vacant']], how='right', left_index=True, right_on='parcel').fillna(0)\n",
    "tem = tem[['status','vacant']].groupby('status').agg([sum,len])\n",
    "tem['percent'] = tem.vacant['sum']/tem.vacant['len']\n",
    "tem"
   ]
  },
  {
   "cell_type": "markdown",
   "metadata": {},
   "source": [
    "## Sheriff's Auctions\n",
    "\n",
    "Merging sheriff's auctions, transfers, and foreclosures to see order of events for each parcel."
   ]
  },
  {
   "cell_type": "code",
   "execution_count": 130,
   "metadata": {
    "collapsed": false
   },
   "outputs": [],
   "source": [
    "sa = pd.read_csv(path+'/data/clean_data/sheriff_auction.csv', parse_dates=[2])#, encoding=\"ISO-8859-1\")\n",
    "sa = sa.rename(columns={'salesdt':'date'})"
   ]
  },
  {
   "cell_type": "code",
   "execution_count": 131,
   "metadata": {
    "collapsed": true
   },
   "outputs": [],
   "source": [
    "sa = sa.loc[:,['date','parcel','sold_amt','purchaser']]\n",
    "sa['REO'] = 0\n",
    "sa['type'] = 'sa'"
   ]
  },
  {
   "cell_type": "code",
   "execution_count": 132,
   "metadata": {
    "collapsed": true
   },
   "outputs": [],
   "source": [
    "t = pd.read_csv(path+'/data/clean_data/transfers.csv', parse_dates=['mdate'], dtype=str)\n",
    "t = t.rename(columns={'PROPERTY_NUMBER':'parcel','mdate':'date'})\n",
    "t['type'] = 't'\n",
    "t['REO'] = 0\n",
    "\n",
    "t.loc[(t.DEED_TYPE.isin(['Sheriffs Deed',\n",
    " 'Sheriffs Deed Ex'])),'shf'] = 1"
   ]
  },
  {
   "cell_type": "code",
   "execution_count": 133,
   "metadata": {
    "collapsed": true
   },
   "outputs": [],
   "source": [
    "fc = fc.loc[:,['date','parcel']]\n",
    "fc['type'] = 'fc'\n",
    "fc['REO'] = 0"
   ]
  },
  {
   "cell_type": "code",
   "execution_count": 189,
   "metadata": {
    "collapsed": true
   },
   "outputs": [],
   "source": [
    "# assume real estate owned (by companies or banks) are organizations that have these series of letters in their name.\n",
    "\n",
    "def find_REO(s):\n",
    "    if isinstance(s,str):\n",
    "        s = s.lower()\n",
    "        if re.search(\"llc\", s):\n",
    "            return True\n",
    "        if re.search(\"bank\", s):\n",
    "            return True\n",
    "        if re.search(\"mortg\", s):\n",
    "            return True\n",
    "        if re.search(\"mort.\", s):\n",
    "            return True\n",
    "        if re.search(\"comp\", s):\n",
    "            return True\n",
    "        if re.search(\"corp\", s):\n",
    "            return True\n",
    "        if re.search(\"fannie\", s):\n",
    "            return True\n",
    "        if re.search(\"housing\", s):\n",
    "            return True\n",
    "        if re.search(\"sec.\", s):\n",
    "            return True\n",
    "        if re.search(\"loan\", s):\n",
    "            return True\n",
    "        if re.search(\"inc.\", s):\n",
    "            return True\n",
    "        return False\n",
    "    else:\n",
    "        return False"
   ]
  },
  {
   "cell_type": "code",
   "execution_count": 190,
   "metadata": {
    "collapsed": false
   },
   "outputs": [],
   "source": [
    "sa['REO'] = sa.purchaser.apply(find_REO)\n",
    "sa['GRANTEE1'] = sa.purchaser\n",
    "t['REO'] = t.GRANTEE1.apply(find_REO)"
   ]
  },
  {
   "cell_type": "code",
   "execution_count": 212,
   "metadata": {
    "collapsed": true
   },
   "outputs": [],
   "source": [
    "# append the datasets and eliminate dates from before they were searched, then sort by date\n",
    "df = fc.append(sa.loc[sa.sold_amt.notnull(),['date','REO','parcel','type','GRANTEE1']]).append(t[['date','parcel','type','REO','DEED_TYPE','GRANTEE1']])\n",
    "df = df.loc[df.apply(lambda x: x.date < dates[x.parcel], axis=1)]\n",
    "df = df.sort_values('date')"
   ]
  },
  {
   "cell_type": "code",
   "execution_count": 217,
   "metadata": {
    "collapsed": false
   },
   "outputs": [],
   "source": [
    "# get the last transaction\n",
    "last = df.groupby('parcel').nth(-1)"
   ]
  },
  {
   "cell_type": "code",
   "execution_count": 218,
   "metadata": {
    "collapsed": false
   },
   "outputs": [],
   "source": [
    "# merge with the vacancy status\n",
    "tem = pd.merge(last, tci[['parcel','vacant']], how='left', left_index=True, right_on='parcel')"
   ]
  },
  {
   "cell_type": "code",
   "execution_count": 220,
   "metadata": {
    "collapsed": false,
    "scrolled": true
   },
   "outputs": [
    {
     "data": {
      "text/html": [
       "<div>\n",
       "<table border=\"1\" class=\"dataframe\">\n",
       "  <thead>\n",
       "    <tr style=\"text-align: right;\">\n",
       "      <th></th>\n",
       "      <th>DEED_TYPE</th>\n",
       "      <th>GRANTEE1</th>\n",
       "      <th>REO</th>\n",
       "      <th>date</th>\n",
       "      <th>type</th>\n",
       "      <th>parcel</th>\n",
       "      <th>vacant</th>\n",
       "    </tr>\n",
       "  </thead>\n",
       "  <tbody>\n",
       "    <tr>\n",
       "      <th>102604</th>\n",
       "      <td>Quit Claim Deed Ex</td>\n",
       "      <td>WHITE, DOUGLAS LAVON</td>\n",
       "      <td>0</td>\n",
       "      <td>2014-08-04</td>\n",
       "      <td>t</td>\n",
       "      <td>138-12-073</td>\n",
       "      <td>1</td>\n",
       "    </tr>\n",
       "    <tr>\n",
       "      <th>101511</th>\n",
       "      <td>Quit Claim Deed</td>\n",
       "      <td>Millhouse, Edith A.</td>\n",
       "      <td>0</td>\n",
       "      <td>2001-01-17</td>\n",
       "      <td>t</td>\n",
       "      <td>138-01-040</td>\n",
       "      <td>1</td>\n",
       "    </tr>\n",
       "    <tr>\n",
       "      <th>68717</th>\n",
       "      <td>Forfeiture Ex</td>\n",
       "      <td>STATE OF OHIO (FORF) CASE NO. CV 800207</td>\n",
       "      <td>0</td>\n",
       "      <td>2014-09-16</td>\n",
       "      <td>t</td>\n",
       "      <td>112-24-182</td>\n",
       "      <td>1</td>\n",
       "    </tr>\n",
       "    <tr>\n",
       "      <th>67090</th>\n",
       "      <td>Quit Claim Deed</td>\n",
       "      <td>GARRETT BILLY</td>\n",
       "      <td>0</td>\n",
       "      <td>2012-12-18</td>\n",
       "      <td>t</td>\n",
       "      <td>111-26-012</td>\n",
       "      <td>1</td>\n",
       "    </tr>\n",
       "    <tr>\n",
       "      <th>53067</th>\n",
       "      <td>NaN</td>\n",
       "      <td>NaN</td>\n",
       "      <td>0</td>\n",
       "      <td>2015-01-08</td>\n",
       "      <td>fc</td>\n",
       "      <td>028-26-012</td>\n",
       "      <td>1</td>\n",
       "    </tr>\n",
       "    <tr>\n",
       "      <th>74236</th>\n",
       "      <td>Sheriffs Deed Ex</td>\n",
       "      <td>LAKESIDE REO VENTURES LLC</td>\n",
       "      <td>1</td>\n",
       "      <td>2014-06-26</td>\n",
       "      <td>t</td>\n",
       "      <td>116-20-071</td>\n",
       "      <td>1</td>\n",
       "    </tr>\n",
       "    <tr>\n",
       "      <th>67425</th>\n",
       "      <td>NaN</td>\n",
       "      <td>NaN</td>\n",
       "      <td>0</td>\n",
       "      <td>2012-08-23</td>\n",
       "      <td>fc</td>\n",
       "      <td>112-02-051</td>\n",
       "      <td>1</td>\n",
       "    </tr>\n",
       "    <tr>\n",
       "      <th>37126</th>\n",
       "      <td>Quit Claim Deed Ex</td>\n",
       "      <td>ANDERSON, DEVAN G.</td>\n",
       "      <td>0</td>\n",
       "      <td>2014-10-14</td>\n",
       "      <td>t</td>\n",
       "      <td>020-12-087</td>\n",
       "      <td>1</td>\n",
       "    </tr>\n",
       "    <tr>\n",
       "      <th>60134</th>\n",
       "      <td>Fiscal Officer Ex</td>\n",
       "      <td>ELLIS, LAMONT</td>\n",
       "      <td>0</td>\n",
       "      <td>2009-04-29</td>\n",
       "      <td>t</td>\n",
       "      <td>108-18-017</td>\n",
       "      <td>1</td>\n",
       "    </tr>\n",
       "    <tr>\n",
       "      <th>88906</th>\n",
       "      <td>Quit Claim Deed Ex</td>\n",
       "      <td>WILLIAMS, ROBBIE L</td>\n",
       "      <td>0</td>\n",
       "      <td>2005-07-27</td>\n",
       "      <td>t</td>\n",
       "      <td>130-09-013</td>\n",
       "      <td>1</td>\n",
       "    </tr>\n",
       "    <tr>\n",
       "      <th>93857</th>\n",
       "      <td>Quit Claim Deed</td>\n",
       "      <td>ALEXANDER, ANDREA</td>\n",
       "      <td>0</td>\n",
       "      <td>2008-05-02</td>\n",
       "      <td>t</td>\n",
       "      <td>133-28-088</td>\n",
       "      <td>1</td>\n",
       "    </tr>\n",
       "    <tr>\n",
       "      <th>83024</th>\n",
       "      <td>Sheriffs Deed Ex</td>\n",
       "      <td>FEDERAL NATIONAL MORTGAGE ASSOCIATION</td>\n",
       "      <td>1</td>\n",
       "      <td>2015-02-26</td>\n",
       "      <td>t</td>\n",
       "      <td>127-17-083</td>\n",
       "      <td>1</td>\n",
       "    </tr>\n",
       "    <tr>\n",
       "      <th>98898</th>\n",
       "      <td>Limited Warranty</td>\n",
       "      <td>IIP OHIO LLC</td>\n",
       "      <td>1</td>\n",
       "      <td>2014-04-04</td>\n",
       "      <td>t</td>\n",
       "      <td>136-19-060</td>\n",
       "      <td>1</td>\n",
       "    </tr>\n",
       "    <tr>\n",
       "      <th>65451</th>\n",
       "      <td>NaN</td>\n",
       "      <td>NaN</td>\n",
       "      <td>0</td>\n",
       "      <td>2006-12-27</td>\n",
       "      <td>fc</td>\n",
       "      <td>110-29-021</td>\n",
       "      <td>1</td>\n",
       "    </tr>\n",
       "    <tr>\n",
       "      <th>11052</th>\n",
       "      <td>Warranty Deed</td>\n",
       "      <td>PEREZ, FRANCO</td>\n",
       "      <td>0</td>\n",
       "      <td>2005-10-18</td>\n",
       "      <td>t</td>\n",
       "      <td>007-33-075</td>\n",
       "      <td>1</td>\n",
       "    </tr>\n",
       "    <tr>\n",
       "      <th>69494</th>\n",
       "      <td>Warranty Deed</td>\n",
       "      <td>JUDGE, TREVOR ALLAN</td>\n",
       "      <td>0</td>\n",
       "      <td>2010-03-10</td>\n",
       "      <td>t</td>\n",
       "      <td>113-19-040</td>\n",
       "      <td>1</td>\n",
       "    </tr>\n",
       "    <tr>\n",
       "      <th>49416</th>\n",
       "      <td>Sheriffs Deed</td>\n",
       "      <td>JPMORGAN CHASE BANK NATIONAL ASSOCIATION</td>\n",
       "      <td>1</td>\n",
       "      <td>2013-12-10</td>\n",
       "      <td>t</td>\n",
       "      <td>026-21-031</td>\n",
       "      <td>1</td>\n",
       "    </tr>\n",
       "    <tr>\n",
       "      <th>77108</th>\n",
       "      <td>Sheriffs Deed Ex</td>\n",
       "      <td>FEDERAL NATIONAL MORTGAGE ASSOCIATION</td>\n",
       "      <td>1</td>\n",
       "      <td>2015-02-02</td>\n",
       "      <td>t</td>\n",
       "      <td>118-29-019</td>\n",
       "      <td>1</td>\n",
       "    </tr>\n",
       "    <tr>\n",
       "      <th>12135</th>\n",
       "      <td>Warranty Deed Ex</td>\n",
       "      <td>HEART AND SOUL HOMES, LLC</td>\n",
       "      <td>1</td>\n",
       "      <td>2011-11-02</td>\n",
       "      <td>t</td>\n",
       "      <td>009-02-010</td>\n",
       "      <td>1</td>\n",
       "    </tr>\n",
       "    <tr>\n",
       "      <th>56604</th>\n",
       "      <td>Warranty Deed</td>\n",
       "      <td>WRIGHT, JOHN A</td>\n",
       "      <td>0</td>\n",
       "      <td>2014-04-09</td>\n",
       "      <td>t</td>\n",
       "      <td>105-30-144</td>\n",
       "      <td>1</td>\n",
       "    </tr>\n",
       "    <tr>\n",
       "      <th>41453</th>\n",
       "      <td>Survivorship Deed</td>\n",
       "      <td>CRUZ, JAIME A. &amp; MARY E.</td>\n",
       "      <td>0</td>\n",
       "      <td>2003-12-12</td>\n",
       "      <td>t</td>\n",
       "      <td>022-21-004</td>\n",
       "      <td>1</td>\n",
       "    </tr>\n",
       "    <tr>\n",
       "      <th>94649</th>\n",
       "      <td>Quit Claim Deed</td>\n",
       "      <td>HOMESOLVE OHIO, LLC</td>\n",
       "      <td>1</td>\n",
       "      <td>2010-04-12</td>\n",
       "      <td>t</td>\n",
       "      <td>134-15-021</td>\n",
       "      <td>1</td>\n",
       "    </tr>\n",
       "    <tr>\n",
       "      <th>57471</th>\n",
       "      <td>Refile Deed</td>\n",
       "      <td>J. S. SOLON LLC</td>\n",
       "      <td>1</td>\n",
       "      <td>2005-10-24</td>\n",
       "      <td>t</td>\n",
       "      <td>106-12-002</td>\n",
       "      <td>1</td>\n",
       "    </tr>\n",
       "    <tr>\n",
       "      <th>60900</th>\n",
       "      <td>Limited Warranty</td>\n",
       "      <td>JOHNSON, MACK J. JR.</td>\n",
       "      <td>0</td>\n",
       "      <td>2008-03-18</td>\n",
       "      <td>t</td>\n",
       "      <td>108-28-024</td>\n",
       "      <td>1</td>\n",
       "    </tr>\n",
       "    <tr>\n",
       "      <th>78369</th>\n",
       "      <td>NaN</td>\n",
       "      <td>NaN</td>\n",
       "      <td>0</td>\n",
       "      <td>2014-02-04</td>\n",
       "      <td>fc</td>\n",
       "      <td>120-03-122</td>\n",
       "      <td>1</td>\n",
       "    </tr>\n",
       "    <tr>\n",
       "      <th>110031</th>\n",
       "      <td>Transfer on Death Ex</td>\n",
       "      <td>Martin, Barbara</td>\n",
       "      <td>0</td>\n",
       "      <td>2009-11-30</td>\n",
       "      <td>t</td>\n",
       "      <td>142-02-007</td>\n",
       "      <td>1</td>\n",
       "    </tr>\n",
       "    <tr>\n",
       "      <th>98444</th>\n",
       "      <td>Quit Claim Deed</td>\n",
       "      <td>AFFORDABLE LABOR INC.</td>\n",
       "      <td>1</td>\n",
       "      <td>2012-08-09</td>\n",
       "      <td>t</td>\n",
       "      <td>136-13-038</td>\n",
       "      <td>1</td>\n",
       "    </tr>\n",
       "    <tr>\n",
       "      <th>29187</th>\n",
       "      <td>NaN</td>\n",
       "      <td>NaN</td>\n",
       "      <td>0</td>\n",
       "      <td>2008-12-18</td>\n",
       "      <td>fc</td>\n",
       "      <td>017-03-104</td>\n",
       "      <td>1</td>\n",
       "    </tr>\n",
       "    <tr>\n",
       "      <th>55734</th>\n",
       "      <td>Fiscal Officer Ex</td>\n",
       "      <td>JEWELL, MARISSA</td>\n",
       "      <td>0</td>\n",
       "      <td>2013-05-23</td>\n",
       "      <td>t</td>\n",
       "      <td>105-12-050</td>\n",
       "      <td>1</td>\n",
       "    </tr>\n",
       "    <tr>\n",
       "      <th>58023</th>\n",
       "      <td>Fiscal Officer Ex</td>\n",
       "      <td>MEANS JR., ANTHONY S.</td>\n",
       "      <td>0</td>\n",
       "      <td>2014-06-26</td>\n",
       "      <td>t</td>\n",
       "      <td>107-03-041</td>\n",
       "      <td>1</td>\n",
       "    </tr>\n",
       "  </tbody>\n",
       "</table>\n",
       "</div>"
      ],
      "text/plain": [
       "                   DEED_TYPE                                  GRANTEE1  REO  \\\n",
       "102604    Quit Claim Deed Ex                      WHITE, DOUGLAS LAVON    0   \n",
       "101511       Quit Claim Deed                       Millhouse, Edith A.    0   \n",
       "68717          Forfeiture Ex   STATE OF OHIO (FORF) CASE NO. CV 800207    0   \n",
       "67090        Quit Claim Deed                             GARRETT BILLY    0   \n",
       "53067                    NaN                                       NaN    0   \n",
       "74236       Sheriffs Deed Ex                 LAKESIDE REO VENTURES LLC    1   \n",
       "67425                    NaN                                       NaN    0   \n",
       "37126     Quit Claim Deed Ex                        ANDERSON, DEVAN G.    0   \n",
       "60134      Fiscal Officer Ex                             ELLIS, LAMONT    0   \n",
       "88906     Quit Claim Deed Ex                        WILLIAMS, ROBBIE L    0   \n",
       "93857        Quit Claim Deed                         ALEXANDER, ANDREA    0   \n",
       "83024       Sheriffs Deed Ex     FEDERAL NATIONAL MORTGAGE ASSOCIATION    1   \n",
       "98898       Limited Warranty                              IIP OHIO LLC    1   \n",
       "65451                    NaN                                       NaN    0   \n",
       "11052          Warranty Deed                             PEREZ, FRANCO    0   \n",
       "69494          Warranty Deed                       JUDGE, TREVOR ALLAN    0   \n",
       "49416          Sheriffs Deed  JPMORGAN CHASE BANK NATIONAL ASSOCIATION    1   \n",
       "77108       Sheriffs Deed Ex     FEDERAL NATIONAL MORTGAGE ASSOCIATION    1   \n",
       "12135       Warranty Deed Ex                 HEART AND SOUL HOMES, LLC    1   \n",
       "56604          Warranty Deed                            WRIGHT, JOHN A    0   \n",
       "41453      Survivorship Deed                  CRUZ, JAIME A. & MARY E.    0   \n",
       "94649        Quit Claim Deed                       HOMESOLVE OHIO, LLC    1   \n",
       "57471            Refile Deed                           J. S. SOLON LLC    1   \n",
       "60900       Limited Warranty                      JOHNSON, MACK J. JR.    0   \n",
       "78369                    NaN                                       NaN    0   \n",
       "110031  Transfer on Death Ex                           Martin, Barbara    0   \n",
       "98444        Quit Claim Deed                     AFFORDABLE LABOR INC.    1   \n",
       "29187                    NaN                                       NaN    0   \n",
       "55734      Fiscal Officer Ex                           JEWELL, MARISSA    0   \n",
       "58023      Fiscal Officer Ex                     MEANS JR., ANTHONY S.    0   \n",
       "\n",
       "             date type      parcel  vacant  \n",
       "102604 2014-08-04    t  138-12-073       1  \n",
       "101511 2001-01-17    t  138-01-040       1  \n",
       "68717  2014-09-16    t  112-24-182       1  \n",
       "67090  2012-12-18    t  111-26-012       1  \n",
       "53067  2015-01-08   fc  028-26-012       1  \n",
       "74236  2014-06-26    t  116-20-071       1  \n",
       "67425  2012-08-23   fc  112-02-051       1  \n",
       "37126  2014-10-14    t  020-12-087       1  \n",
       "60134  2009-04-29    t  108-18-017       1  \n",
       "88906  2005-07-27    t  130-09-013       1  \n",
       "93857  2008-05-02    t  133-28-088       1  \n",
       "83024  2015-02-26    t  127-17-083       1  \n",
       "98898  2014-04-04    t  136-19-060       1  \n",
       "65451  2006-12-27   fc  110-29-021       1  \n",
       "11052  2005-10-18    t  007-33-075       1  \n",
       "69494  2010-03-10    t  113-19-040       1  \n",
       "49416  2013-12-10    t  026-21-031       1  \n",
       "77108  2015-02-02    t  118-29-019       1  \n",
       "12135  2011-11-02    t  009-02-010       1  \n",
       "56604  2014-04-09    t  105-30-144       1  \n",
       "41453  2003-12-12    t  022-21-004       1  \n",
       "94649  2010-04-12    t  134-15-021       1  \n",
       "57471  2005-10-24    t  106-12-002       1  \n",
       "60900  2008-03-18    t  108-28-024       1  \n",
       "78369  2014-02-04   fc  120-03-122       1  \n",
       "110031 2009-11-30    t  142-02-007       1  \n",
       "98444  2012-08-09    t  136-13-038       1  \n",
       "29187  2008-12-18   fc  017-03-104       1  \n",
       "55734  2013-05-23    t  105-12-050       1  \n",
       "58023  2014-06-26    t  107-03-041       1  "
      ]
     },
     "execution_count": 220,
     "metadata": {},
     "output_type": "execute_result"
    }
   ],
   "source": [
    "tem[tem.vacant==1].sample(30)"
   ]
  },
  {
   "cell_type": "code",
   "execution_count": 221,
   "metadata": {
    "collapsed": false
   },
   "outputs": [
    {
     "data": {
      "text/plain": [
       "(2037, 9336)"
      ]
     },
     "execution_count": 221,
     "metadata": {},
     "output_type": "execute_result"
    }
   ],
   "source": [
    "# look at the number of vacant, 'real estate owned' parcels vs the total REO\n",
    "sum(tci[(tci.parcel.isin(last[(last.REO==1)].index))].vacant), len(tci[(tci.parcel.isin(last[(last.REO==1)].index))].vacant)"
   ]
  },
  {
   "cell_type": "markdown",
   "metadata": {},
   "source": [
    "Compare with Pittsburgh's measure, which is a house that has been foreclosed and not yet sold in sheriff's auction or transferred."
   ]
  },
  {
   "cell_type": "code",
   "execution_count": 226,
   "metadata": {
    "collapsed": false
   },
   "outputs": [
    {
     "data": {
      "text/plain": [
       "(2665, 11337)"
      ]
     },
     "execution_count": 226,
     "metadata": {},
     "output_type": "execute_result"
    }
   ],
   "source": [
    "sub = set(last[last['type'] == 'fc'].index)\n",
    "sum(tci[tci.parcel.isin(sub)].vacant), len(tci[tci.parcel.isin(sub)].vacant)\n",
    "# second_last = df.groupby('parcel').nth(-2)\n",
    "# sub2 = set(second_last[second_last['type']=='fc'].index)"
   ]
  },
  {
   "cell_type": "markdown",
   "metadata": {},
   "source": [
    "So only 2665 out of 11337 parcels that meet this criteria are actually vacant, which is not a very good percentage."
   ]
  },
  {
   "cell_type": "markdown",
   "metadata": {},
   "source": [
    "## Postal vacancies"
   ]
  },
  {
   "cell_type": "code",
   "execution_count": 227,
   "metadata": {
    "collapsed": false
   },
   "outputs": [],
   "source": [
    "pv = pd.read_csv(path+'/data/clean_data/postal_vacancy.csv', parse_dates=3, index_col=0)\n",
    "pv.date = pv.date.apply(lambda x: dt.datetime(int(x[0:4]),int(x[5:7]),int(x[8:10])))\n",
    "pv = pv.sort_values('date',ascending=False)\n",
    "pv = pv.loc[pv.apply(lambda x: x.date < dates[x.PARCEL], axis=1)]"
   ]
  },
  {
   "cell_type": "code",
   "execution_count": 228,
   "metadata": {
    "collapsed": true
   },
   "outputs": [],
   "source": [
    "# count the number of consecutive times a parcel is postal vacant, working backwards\n",
    "def fun(x):\n",
    "    total = 0\n",
    "    recent = pv_dates[pv_dates<dates[x.parcel]]\n",
    "\n",
    "    for i,j in enumerate(x[recent]):\n",
    "        if x[recent][-i-1] == 'Y':\n",
    "            total += 1\n",
    "        else:\n",
    "            return total\n",
    "    return total\n",
    "\n",
    "pv_dates = pv.groupby('date').last().index\n",
    "pv2 = pv.pivot(index='PARCEL',columns='date').fillna('N').reset_index()\n",
    "pv2.columns = pv2.columns.droplevel()\n",
    "pv2.columns.values[0] = 'parcel'\n",
    "pv2['pv_count'] = pv2.apply(fun, axis=1)\n",
    "pv2 = pv2.set_index('parcel')"
   ]
  },
  {
   "cell_type": "markdown",
   "metadata": {},
   "source": [
    "Compare the number of postal vacant homes (at least 1 term in a row) to the actually vacant homes."
   ]
  },
  {
   "cell_type": "code",
   "execution_count": 230,
   "metadata": {
    "collapsed": false
   },
   "outputs": [
    {
     "data": {
      "text/plain": [
       "(4426, 8904)"
      ]
     },
     "execution_count": 230,
     "metadata": {},
     "output_type": "execute_result"
    }
   ],
   "source": [
    "sum(tci[tci.parcel.isin(pv2[pv2.pv_count>0].index)].vacant),len(tci[tci.parcel.isin(pv2[pv2.pv_count>0].index)].vacant)"
   ]
  },
  {
   "cell_type": "markdown",
   "metadata": {},
   "source": [
    "About half of the postal vacant homes are actually vacant right now. That's a lot better than the other measures, but still far away from being as accurate as we'd like."
   ]
  }
 ],
 "metadata": {
  "kernelspec": {
   "display_name": "Python 3",
   "language": "python",
   "name": "python3"
  },
  "language_info": {
   "codemirror_mode": {
    "name": "ipython",
    "version": 3
   },
   "file_extension": ".py",
   "mimetype": "text/x-python",
   "name": "python",
   "nbconvert_exporter": "python",
   "pygments_lexer": "ipython3",
   "version": "3.4.4"
  }
 },
 "nbformat": 4,
 "nbformat_minor": 0
}
