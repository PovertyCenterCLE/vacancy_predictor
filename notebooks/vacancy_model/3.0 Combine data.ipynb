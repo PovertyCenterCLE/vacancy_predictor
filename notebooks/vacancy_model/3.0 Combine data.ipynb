{
 "cells": [
  {
   "cell_type": "markdown",
   "metadata": {},
   "source": [
    "# 3.0 Combine data"
   ]
  },
  {
   "cell_type": "code",
   "execution_count": 1,
   "metadata": {
    "collapsed": false
   },
   "outputs": [
    {
     "name": "stdout",
     "output_type": "stream",
     "text": [
      "/Volumes/Dropbox/largetransfer/luc/carter\n"
     ]
    },
    {
     "name": "stderr",
     "output_type": "stream",
     "text": [
      "//anaconda/envs/data_sci/lib/python3.4/site-packages/matplotlib/__init__.py:872: UserWarning: axes.color_cycle is deprecated and replaced with axes.prop_cycle; please use the latter.\n",
      "  warnings.warn(self.msg_depr % (key, alt_key))\n"
     ]
    }
   ],
   "source": [
    "import pandas as pd\n",
    "from sklearn.ensemble import RandomForestClassifier\n",
    "import matplotlib.pyplot as plt\n",
    "import numpy as np\n",
    "import seaborn as sns\n",
    "import math\n",
    "from sklearn.preprocessing import Imputer\n",
    "from sklearn.base import TransformerMixin\n",
    "from sklearn import cross_validation\n",
    "from sklearn.grid_search import GridSearchCV\n",
    "from sklearn.linear_model import LogisticRegression\n",
    "from sklearn import preprocessing\n",
    "from sklearn.cross_validation import cross_val_score\n",
    "import os\n",
    "\n",
    "def sound():\n",
    "    os.system('afplay /System/Library/Sounds/Sosumi.aiff')\n",
    "\n",
    "%matplotlib inline\n",
    "sns.set_context('notebook')\n",
    "\n",
    "path = '/'.join(os.getcwd().split('/')[:-2])\n",
    "print(path)"
   ]
  },
  {
   "cell_type": "code",
   "execution_count": 2,
   "metadata": {
    "collapsed": false
   },
   "outputs": [
    {
     "name": "stderr",
     "output_type": "stream",
     "text": [
      "//anaconda/envs/data_sci/lib/python3.4/site-packages/IPython/core/interactiveshell.py:2902: DtypeWarning: Columns (11) have mixed types. Specify dtype option on import or set low_memory=False.\n",
      "  interactivity=interactivity, compiler=compiler, result=result)\n"
     ]
    }
   ],
   "source": [
    "df0 = pd.read_csv(path+'/data/model_data/tci_2_0_model.csv', dtype={'Parcel ID':str}, index_col='parcel')\n",
    "df1 = pd.read_csv(path+'/data/model_data/tci_2_1_model.csv', dtype={'Parcel ID':str}, index_col='parcel')\n",
    "df2 = pd.read_csv(path+'/data/model_data/tci_2_2_model.csv', dtype={'Parcel ID':str}, index_col='parcel')\n",
    "df3 = pd.read_csv(path+'/data/model_data/tci_2_3_model.csv', dtype={'Parcel ID':str}, index_col='parcel')"
   ]
  },
  {
   "cell_type": "code",
   "execution_count": 4,
   "metadata": {
    "collapsed": true
   },
   "outputs": [],
   "source": [
    "cols = ['Date','vacant','Survey Category','SPA_NAME','Survey Grade']"
   ]
  },
  {
   "cell_type": "code",
   "execution_count": 5,
   "metadata": {
    "collapsed": false
   },
   "outputs": [],
   "source": [
    "df = pd.merge(df0, df1[[col for col in df1.columns if col not in cols]], how='inner', left_index=True, right_index=True)\n",
    "df = pd.merge(df, df2[[col for col in df2.columns if col not in cols]], how='inner', left_index=True, right_index=True)\n",
    "df = pd.merge(df, df3[[col for col in df3.columns if col not in cols]], how='inner', left_index=True, right_index=True)"
   ]
  },
  {
   "cell_type": "code",
   "execution_count": 6,
   "metadata": {
    "collapsed": false
   },
   "outputs": [
    {
     "name": "stdout",
     "output_type": "stream",
     "text": [
      "<class 'pandas.core.frame.DataFrame'>\n",
      "Index: 113132 entries, 001-01-001 to 735-22-011\n",
      "Data columns (total 45 columns):\n",
      "vacant                    113132 non-null int64\n",
      "Date                      113132 non-null object\n",
      "Survey Category           113132 non-null object\n",
      "Survey Grade              113132 non-null object\n",
      "SPA_NAME                  113132 non-null object\n",
      "cqual_num                 113132 non-null float64\n",
      "occup                     113132 non-null float64\n",
      "rnumstor                  113132 non-null float64\n",
      "propsize                  113132 non-null float64\n",
      "totusabl                  113132 non-null float64\n",
      "tmktval                   113132 non-null float64\n",
      "mktbldg                   113132 non-null float64\n",
      "mktland                   113132 non-null float64\n",
      "cond_val                  113132 non-null float64\n",
      "style_filtered            113132 non-null object\n",
      "ownerocc_value            113132 non-null float64\n",
      "totbldgs                  113132 non-null float64\n",
      "yrbuilt_filtered          113132 non-null float64\n",
      "lb_acquired               113132 non-null float64\n",
      "lb_tax_fc                 113132 non-null float64\n",
      "TOTAL_NET_DELQ_BALANCE    113132 non-null float64\n",
      "TAX_ASSESSED_LAND         113132 non-null float64\n",
      "TAX_MARKET_LAND           113132 non-null float64\n",
      "LENDER_PROCESS_TYPE       113132 non-null object\n",
      "GRAND_TOTAL_BALANCE       113132 non-null float64\n",
      "GRAND_TOTAL_PAID          113132 non-null float64\n",
      "GRAND_TOTAL_OWED          113132 non-null float64\n",
      "delq_total_ratio          113132 non-null float64\n",
      "paid_percent              113132 non-null float64\n",
      "pv_count                  113132 non-null float64\n",
      "v_total_1yr               113132 non-null float64\n",
      "v_total_2yr               113132 non-null float64\n",
      "boarded                   113132 non-null float64\n",
      "days_since_ovv            113132 non-null int64\n",
      "c_ovv_num                 113132 non-null float64\n",
      "active_fc                 113132 non-null float64\n",
      "fc_1yr                    113132 non-null float64\n",
      "fc_2yr                    113132 non-null float64\n",
      "fc_days                   113132 non-null float64\n",
      "sa_days                   113132 non-null float64\n",
      "t_days                    113132 non-null float64\n",
      "t_shf_deed                113132 non-null int64\n",
      "t_num                     113132 non-null float64\n",
      "al_num                    113132 non-null float64\n",
      "al_days                   113132 non-null int64\n",
      "dtypes: float64(35), int64(4), object(6)\n",
      "memory usage: 39.7+ MB\n"
     ]
    }
   ],
   "source": [
    "df.info()"
   ]
  },
  {
   "cell_type": "code",
   "execution_count": 7,
   "metadata": {
    "collapsed": false
   },
   "outputs": [],
   "source": [
    "df['price_per_sqft'] = df['tmktval']/df['totusabl']"
   ]
  },
  {
   "cell_type": "code",
   "execution_count": 8,
   "metadata": {
    "collapsed": true
   },
   "outputs": [],
   "source": [
    "# for var in cols2:\n",
    "#     median_val = dict(df.loc[df[var].notnull(),[var,'SPA_NAME']].groupby('SPA_NAME').agg(np.median)[var])\n",
    "#     df.loc[df[var].isnull(), var] = df.loc[df[var].isnull()]\\\n",
    "#         .apply(lambda x: median_val[x.SPA_NAME] if x.SPA_NAME in median_val else np.median(df.loc[df[var].notnull()]), axis=1)"
   ]
  },
  {
   "cell_type": "code",
   "execution_count": 9,
   "metadata": {
    "collapsed": false
   },
   "outputs": [],
   "source": [
    "# # df['missing_values'] = df.apply(lambda x: len(x[x.isnull()]),axis=1)\n",
    "# to_remove = ['Parcel ID','parcel','Date','Survey Category','Survey Grade',\\\n",
    "#              'condition13', 'condition14', 'al_date','SPA_NAME','NAME10','style_filtered','rextwall','LENDER_PROCESS_TYPE']"
   ]
  },
  {
   "cell_type": "code",
   "execution_count": 10,
   "metadata": {
    "collapsed": false
   },
   "outputs": [],
   "source": [
    "# features = list(df.columns.values)\n",
    "# for i in to_remove:\n",
    "#     if i in features:\n",
    "#         features.remove(i)"
   ]
  },
  {
   "cell_type": "code",
   "execution_count": 11,
   "metadata": {
    "collapsed": false
   },
   "outputs": [],
   "source": [
    "# from sklearn import tree\n",
    "\n",
    "# clf = tree.DecisionTreeClassifier(max_depth=2,min_samples_leaf=5)\n",
    "# # iris = load_iris()\n",
    "# clf = clf.fit(df3[features], df3.vacant)\n",
    "# tree.export_graphviz(clf, out_file=path+'/tree.dot',feature_names=features, impurity=False, label=None,filled=True,class_names=['Not vacant','Vacant']) "
   ]
  },
  {
   "cell_type": "code",
   "execution_count": 12,
   "metadata": {
    "collapsed": true
   },
   "outputs": [],
   "source": [
    "df.to_csv(path+'/data/model_data/tci_final_model.csv')"
   ]
  },
  {
   "cell_type": "code",
   "execution_count": 13,
   "metadata": {
    "collapsed": false
   },
   "outputs": [
    {
     "data": {
      "text/plain": [
       "(113132, 46)"
      ]
     },
     "execution_count": 13,
     "metadata": {},
     "output_type": "execute_result"
    }
   ],
   "source": [
    "df.shape"
   ]
  },
  {
   "cell_type": "code",
   "execution_count": null,
   "metadata": {
    "collapsed": true
   },
   "outputs": [],
   "source": []
  }
 ],
 "metadata": {
  "kernelspec": {
   "display_name": "Python 3",
   "language": "python",
   "name": "python3"
  },
  "language_info": {
   "codemirror_mode": {
    "name": "ipython",
    "version": 3
   },
   "file_extension": ".py",
   "mimetype": "text/x-python",
   "name": "python",
   "nbconvert_exporter": "python",
   "pygments_lexer": "ipython3",
   "version": "3.4.4"
  }
 },
 "nbformat": 4,
 "nbformat_minor": 0
}
