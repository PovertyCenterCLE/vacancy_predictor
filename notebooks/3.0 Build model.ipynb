{
 "cells": [
  {
   "cell_type": "markdown",
   "metadata": {},
   "source": [
    "# 3.0 Build predictive model"
   ]
  },
  {
   "cell_type": "code",
   "execution_count": 2,
   "metadata": {
    "collapsed": false
   },
   "outputs": [
    {
     "name": "stdout",
     "output_type": "stream",
     "text": [
      "/Volumes/Dropbox/largetransfer/luc/carter\n"
     ]
    }
   ],
   "source": [
    "import pandas as pd\n",
    "from sklearn.ensemble import RandomForestClassifier\n",
    "import matplotlib.pyplot as plt\n",
    "import numpy as np\n",
    "import seaborn as sns\n",
    "import math\n",
    "from sklearn.preprocessing import Imputer\n",
    "from sklearn.base import TransformerMixin\n",
    "from sklearn import cross_validation\n",
    "from sklearn.grid_search import GridSearchCV\n",
    "from sklearn.linear_model import LogisticRegression\n",
    "from sklearn import preprocessing\n",
    "from sklearn.cross_validation import cross_val_score\n",
    "import os\n",
    "\n",
    "def sound():\n",
    "    os.system('afplay /System/Library/Sounds/Sosumi.aiff')\n",
    "\n",
    "%matplotlib inline\n",
    "sns.set_context('notebook')\n",
    "\n",
    "path = '/'.join(os.getcwd().split('/')[:-1])\n",
    "print(path)"
   ]
  },
  {
   "cell_type": "code",
   "execution_count": 3,
   "metadata": {
    "collapsed": false
   },
   "outputs": [
    {
     "name": "stderr",
     "output_type": "stream",
     "text": [
      "//anaconda/lib/python2.7/site-packages/IPython/core/interactiveshell.py:2902: DtypeWarning: Columns (0) have mixed types. Specify dtype option on import or set low_memory=False.\n",
      "  interactivity=interactivity, compiler=compiler, result=result)\n"
     ]
    }
   ],
   "source": [
    "df0 = pd.read_csv(path+'/data/model_data/tci_2_0.csv', dtype={'Parcel ID':str}, index_col='parcel')\n",
    "df1 = pd.read_csv(path+'/data/model_data/tci_2_1.csv', dtype={'Parcel ID':str}, index_col='parcel')\n",
    "df2 = pd.read_csv(path+'/data/model_data/tci_2_2.csv', dtype={'Parcel ID':str}, index_col='parcel')\n",
    "df3 = pd.read_csv(path+'/data/model_data/tci_2_3.csv', dtype={'Parcel ID':str}, index_col='parcel')"
   ]
  },
  {
   "cell_type": "code",
   "execution_count": 16,
   "metadata": {
    "collapsed": false
   },
   "outputs": [],
   "source": [
    "df = pd.merge(df0, df1[[col for col in df1.columns if col != 'Date']], how='inner', left_index=True, right_index=True)\n",
    "df = pd.merge(df, df2[[col for col in df2.columns if col != 'Date']], how='inner', left_index=True, right_index=True)\n",
    "df = pd.merge(df, df3[[col for col in df3.columns if col != 'Date']], how='inner', left_index=True, right_index=True)\n"
   ]
  },
  {
   "cell_type": "code",
   "execution_count": 20,
   "metadata": {
    "collapsed": false
   },
   "outputs": [
    {
     "data": {
      "text/plain": [
       "(Index([u'Date', u'al_num', u'al_date', u'al_days', u't_days', u't_shf_deed',\n",
       "        u't_num', u'lb_acquired', u'lb_tax_fc', u'pv_total'],\n",
       "       dtype='object'),\n",
       " Index([u'PIN', u'Date', u'USE_CLASS', u'USE_DESC', u'LUC', u'LUC_Description',\n",
       "        u'Generalized Land Use', u'Ward', u'Label', u'SPA_NAME', u'Address',\n",
       "        u'Survey Category', u'Survey Grade', u'Open Vacant',\n",
       "        u'For Sale or Rent', u'Apparent Property Use',\n",
       "        u'Apparent Property Capacity', u'House Number Visible/Premises ID',\n",
       "        u'Boarded Windows or Doors', u'Broken Windows', u'Roof Damage',\n",
       "        u'Chimney Damage', u'Paint or Siding Damage',\n",
       "        u'Gutters or Downspout Damage', u'Porch Damage', u'Garage Damage',\n",
       "        u'Dumping (Trash/Debris)', u'Sidewalk Condition', u'Street Tree',\n",
       "        u'Notes', u'Image', u'vacant', u'v_total_1yr', u'v_total_2yr',\n",
       "        u'c_ovv_2yr', u'c_ovv_1yr'],\n",
       "       dtype='object'))"
      ]
     },
     "execution_count": 20,
     "metadata": {},
     "output_type": "execute_result"
    }
   ],
   "source": [
    "df1.columns,df2.columns"
   ]
  },
  {
   "cell_type": "code",
   "execution_count": 18,
   "metadata": {
    "collapsed": false
   },
   "outputs": [
    {
     "data": {
      "text/plain": [
       "Index([u'vacant_x', u'Date', u'Survey Category_x', u'Survey Grade_x',\n",
       "       u'SPA_NAME_x', u'propsize_x', u'totusabl_x', u'tmktval_x',\n",
       "       u'condition13_x', u'condition14_x',\n",
       "       ...\n",
       "       u'fc_2yr', u'fc_days', u'sa_days', u'TOTAL_NET_DELQ_BALANCE',\n",
       "       u'TAX_ASSESSED_LAND', u'TAX_MARKET_LAND', u'LENDER_PROCESS_TYPE',\n",
       "       u'GRAND_TOTAL_BALANCE', u'GRAND_TOTAL_PAID', u'GRAND_TOTAL_BALANCE_14'],\n",
       "      dtype='object', length=138)"
      ]
     },
     "execution_count": 18,
     "metadata": {},
     "output_type": "execute_result"
    }
   ],
   "source": [
    "df.columns"
   ]
  },
  {
   "cell_type": "code",
   "execution_count": null,
   "metadata": {
    "collapsed": true
   },
   "outputs": [],
   "source": [
    "df = pd.read_csv(path+'/data/model_data/tci_2_3.csv', dtype={'Parcel ID':str}, index_col='parcel')\n",
    "\n",
    "print(df.shape)"
   ]
  },
  {
   "cell_type": "code",
   "execution_count": 3,
   "metadata": {
    "collapsed": false
   },
   "outputs": [],
   "source": [
    "tci = pd.read_csv(path+'/data/model_data/tci_2_0.csv', index_col = 0)"
   ]
  },
  {
   "cell_type": "code",
   "execution_count": 4,
   "metadata": {
    "collapsed": false,
    "scrolled": true
   },
   "outputs": [],
   "source": [
    "df = pd.merge(df, tci[['NAME10','SPA_NAME']], how='left', right_index=True, left_index=True)"
   ]
  },
  {
   "cell_type": "code",
   "execution_count": 5,
   "metadata": {
    "collapsed": false
   },
   "outputs": [],
   "source": [
    "tem = df[['SPA_NAME','totusabl']].groupby('SPA_NAME').agg(np.median)\n",
    "tem = dict(tem['totusabl'])\n",
    "df.loc[df.totusabl==0, 'totusabl'] = df[df.totusabl==0].apply(lambda x: tem[x.SPA_NAME], axis=1)"
   ]
  },
  {
   "cell_type": "code",
   "execution_count": 6,
   "metadata": {
    "collapsed": false
   },
   "outputs": [],
   "source": [
    "df['sqft'] = df['tmktval']/df['totusabl']"
   ]
  },
  {
   "cell_type": "code",
   "execution_count": 7,
   "metadata": {
    "collapsed": false,
    "scrolled": true
   },
   "outputs": [],
   "source": [
    "tem = df[['SPA_NAME','tmktval','condition_value14','GRAND_TOTAL_BALANCE','sqft']].groupby('SPA_NAME').agg([np.median,np.mean])"
   ]
  },
  {
   "cell_type": "code",
   "execution_count": 9,
   "metadata": {
    "collapsed": false
   },
   "outputs": [
    {
     "data": {
      "text/plain": [
       "Index(['vacant', 'Date', 'Survey Category', 'Survey Grade', 'propsize',\n",
       "       'totusabl', 'tmktval', 'condition13', 'condition14',\n",
       "       'condition_value13', 'condition_value14', 'style_filtered',\n",
       "       'ownerocc_value', 'totbldgs', 'yrbuilt_filtered', 'rextwall',\n",
       "       'vacant_block', 'median_rent', 'property_crimes', 'burglaries',\n",
       "       'part_one_crimes', 'part_two_crimes', 'bachelors+', 'poverty_rate',\n",
       "       'median_hh_income', 'white', 'black', 'asian', 'other', 'hispanic',\n",
       "       'young', 'middle', 'old', 'al_num', 'al_date', 'al_days', 't_days',\n",
       "       't_shf_deed', 't_num', 'lb_acquired', 'lb_tax_fc', 'pv_total',\n",
       "       'v_total_1yr', 'v_total_2yr', 'c_ovv_2yr', 'c_ovv_1yr', 'active_fc',\n",
       "       'fc_1yr', 'fc_2yr', 'fc_days', 'sa_days', 'TOTAL_NET_DELQ_BALANCE',\n",
       "       'TAX_ASSESSED_LAND', 'TAX_MARKET_LAND', 'LENDER_PROCESS_TYPE',\n",
       "       'GRAND_TOTAL_BALANCE', 'GRAND_TOTAL_PAID', 'GRAND_TOTAL_BALANCE_14',\n",
       "       'NAME10', 'SPA_NAME', 'sqft'],\n",
       "      dtype='object')"
      ]
     },
     "execution_count": 9,
     "metadata": {},
     "output_type": "execute_result"
    }
   ],
   "source": [
    "df.columns"
   ]
  },
  {
   "cell_type": "code",
   "execution_count": 10,
   "metadata": {
    "collapsed": false
   },
   "outputs": [],
   "source": [
    "val = dict(tem['condition_value14']['mean'])\n",
    "df['cond_diff'] = df.apply(lambda x: x.condition_value14 - val[x.SPA_NAME], axis=1)"
   ]
  },
  {
   "cell_type": "code",
   "execution_count": 11,
   "metadata": {
    "collapsed": true
   },
   "outputs": [],
   "source": [
    "val = dict(tem['condition_value14']['median'])\n",
    "df['balance_diff'] = df.apply(lambda x: x.GRAND_TOTAL_BALANCE - val[x.SPA_NAME], axis=1)"
   ]
  },
  {
   "cell_type": "code",
   "execution_count": 12,
   "metadata": {
    "collapsed": false
   },
   "outputs": [
    {
     "data": {
      "text/plain": [
       "Index(['vacant', 'Date', 'Survey Category', 'Survey Grade', 'propsize',\n",
       "       'totusabl', 'tmktval', 'condition13', 'condition14',\n",
       "       'condition_value13', 'condition_value14', 'style_filtered',\n",
       "       'ownerocc_value', 'totbldgs', 'yrbuilt_filtered', 'rextwall',\n",
       "       'vacant_block', 'median_rent', 'property_crimes', 'burglaries',\n",
       "       'part_one_crimes', 'part_two_crimes', 'bachelors+', 'poverty_rate',\n",
       "       'median_hh_income', 'white', 'black', 'asian', 'other', 'hispanic',\n",
       "       'young', 'middle', 'old', 'al_num', 'al_date', 'al_days', 't_days',\n",
       "       't_shf_deed', 't_num', 'lb_acquired', 'lb_tax_fc', 'pv_total',\n",
       "       'v_total_1yr', 'v_total_2yr', 'c_ovv_2yr', 'c_ovv_1yr', 'active_fc',\n",
       "       'fc_1yr', 'fc_2yr', 'fc_days', 'sa_days', 'TOTAL_NET_DELQ_BALANCE',\n",
       "       'TAX_ASSESSED_LAND', 'TAX_MARKET_LAND', 'LENDER_PROCESS_TYPE',\n",
       "       'GRAND_TOTAL_BALANCE', 'GRAND_TOTAL_PAID', 'GRAND_TOTAL_BALANCE_14',\n",
       "       'NAME10', 'SPA_NAME', 'sqft', 'cond_diff', 'balance_diff'],\n",
       "      dtype='object')"
      ]
     },
     "execution_count": 12,
     "metadata": {},
     "output_type": "execute_result"
    }
   ],
   "source": [
    "df.columns"
   ]
  },
  {
   "cell_type": "code",
   "execution_count": 11,
   "metadata": {
    "collapsed": false
   },
   "outputs": [
    {
     "data": {
      "image/png": "[encoded data removed]",
      "text/plain": [
       "<matplotlib.figure.Figure at 0x10c12bf98>"
      ]
     },
     "metadata": {},
     "output_type": "display_data"
    }
   ],
   "source": [
    "k = 0.00005\n",
    "b = np.linspace(0,20000,20)\n",
    "sns.distplot(df.loc[df.vacant==1,'GRAND_TOTAL_BALANCE'], bins=b,kde_kws={'bw':k})\n",
    "sns.distplot(df.loc[df.vacant==0,'GRAND_TOTAL_BALANCE'], bins=b,kde_kws={'bw':k})\n",
    "plt.axis([min(b),max(b),0,.0009]);"
   ]
  },
  {
   "cell_type": "code",
   "execution_count": 12,
   "metadata": {
    "collapsed": false
   },
   "outputs": [
    {
     "data": {
      "image/png": "[encoded data removed]",
      "text/plain": [
       "<matplotlib.figure.Figure at 0x10c12b5f8>"
      ]
     },
     "metadata": {},
     "output_type": "display_data"
    }
   ],
   "source": [
    "k = 0.00005\n",
    "b = np.linspace(-500,20000,20)\n",
    "sns.distplot(df.loc[df.vacant==1,'balance_diff'], bins=b,kde_kws={'bw':k})\n",
    "sns.distplot(df.loc[df.vacant==0,'balance_diff'], bins=b,kde_kws={'bw':k})\n",
    "plt.axis([min(b),max(b),0,.0009]);"
   ]
  },
  {
   "cell_type": "code",
   "execution_count": 13,
   "metadata": {
    "collapsed": false
   },
   "outputs": [
    {
     "data": {
      "image/png": "[encoded data removed]",
      "text/plain": [
       "<matplotlib.figure.Figure at 0x120dcc0b8>"
      ]
     },
     "metadata": {},
     "output_type": "display_data"
    }
   ],
   "source": [
    "b = np.linspace(0,150000,40)\n",
    "sns.distplot(df.loc[df.vacant==1,'tmktval'], bins=b)\n",
    "sns.distplot(df.loc[df.vacant==0,'tmktval'], bins=b)\n",
    "plt.axis([0,max(b),0,0.000025]);"
   ]
  },
  {
   "cell_type": "code",
   "execution_count": 14,
   "metadata": {
    "collapsed": false
   },
   "outputs": [
    {
     "data": {
      "image/png": "[encoded data removed]",
      "text/plain": [
       "<matplotlib.figure.Figure at 0x120dcc080>"
      ]
     },
     "metadata": {},
     "output_type": "display_data"
    }
   ],
   "source": [
    "sns.distplot(df.loc[df.vacant==1,'sqft'], bins=np.linspace(0,160,40))\n",
    "sns.distplot(df.loc[df.vacant==0,'sqft'], bins=np.linspace(0,160,40))\n",
    "plt.axis([0,150,0,0.035]);"
   ]
  },
  {
   "cell_type": "code",
   "execution_count": 15,
   "metadata": {
    "collapsed": false
   },
   "outputs": [
    {
     "data": {
      "image/png": "[encoded data removed]",
      "text/plain": [
       "<matplotlib.figure.Figure at 0x109252400>"
      ]
     },
     "metadata": {},
     "output_type": "display_data"
    }
   ],
   "source": [
    "k = 0.5\n",
    "b = np.linspace(0,10,11)\n",
    "sns.distplot(df.loc[df.vacant==1,'condition_value14'], bins=b,kde_kws={'bw':k})\n",
    "sns.distplot(df.loc[df.vacant==0,'condition_value14'], bins=b,kde_kws={'bw':k})\n",
    "plt.axis([0,10,0,.9]);"
   ]
  },
  {
   "cell_type": "code",
   "execution_count": 16,
   "metadata": {
    "collapsed": false
   },
   "outputs": [
    {
     "data": {
      "image/png": "[encoded data removed]",
      "text/plain": [
       "<matplotlib.figure.Figure at 0x108df72e8>"
      ]
     },
     "metadata": {},
     "output_type": "display_data"
    }
   ],
   "source": [
    "k = .3\n",
    "b = np.linspace(-5,5,20)\n",
    "sns.distplot(df.loc[df.vacant==1,'cond_diff'], bins=b,kde_kws={'bw':k})\n",
    "sns.distplot(df.loc[df.vacant==0,'cond_diff'], bins=b,kde_kws={'bw':k})\n",
    "plt.axis([-5,5,0,.9]);"
   ]
  },
  {
   "cell_type": "code",
   "execution_count": 13,
   "metadata": {
    "collapsed": false
   },
   "outputs": [],
   "source": [
    "val = dict(tem['tmktval']['median'])\n",
    "df['mktval_diff'] = df.apply(lambda x: x.tmktval - val[x.SPA_NAME], axis=1)"
   ]
  },
  {
   "cell_type": "code",
   "execution_count": 18,
   "metadata": {
    "collapsed": false
   },
   "outputs": [
    {
     "data": {
      "image/png": "[encoded data removed]",
      "text/plain": [
       "<matplotlib.figure.Figure at 0x108e06240>"
      ]
     },
     "metadata": {},
     "output_type": "display_data"
    }
   ],
   "source": [
    "sns.distplot(df.loc[df.vacant==1,'mktval_diff'], bins=np.linspace(-75000,75000,40))\n",
    "sns.distplot(df.loc[df.vacant==0,'mktval_diff'], bins=np.linspace(-75000,75000,40))\n",
    "plt.axis([-75000,75000,0,0.000035]);"
   ]
  },
  {
   "cell_type": "code",
   "execution_count": 14,
   "metadata": {
    "collapsed": false
   },
   "outputs": [],
   "source": [
    "# df['missing_values'] = df.apply(lambda x: len(x[x.isnull()]),axis=1)\n",
    "to_remove = ['Parcel ID','parcel','Date','Survey Category','Survey Grade',\\\n",
    "             'condition13', 'condition14', 'al_date','SPA_NAME','NAME10']"
   ]
  },
  {
   "cell_type": "code",
   "execution_count": 15,
   "metadata": {
    "collapsed": false
   },
   "outputs": [],
   "source": [
    "features = list(df.columns.values)\n",
    "for i in to_remove:\n",
    "    if i in features:\n",
    "        features.remove(i)"
   ]
  },
  {
   "cell_type": "code",
   "execution_count": 16,
   "metadata": {
    "collapsed": false,
    "scrolled": true
   },
   "outputs": [
    {
     "name": "stdout",
     "output_type": "stream",
     "text": [
      "0 vacant\n",
      "1 propsize\n",
      "2 totusabl\n",
      "3 tmktval\n",
      "4 condition_value13\n",
      "5 condition_value14\n",
      "6 style_filtered\n",
      "7 ownerocc_value\n",
      "8 totbldgs\n",
      "9 yrbuilt_filtered\n",
      "10 rextwall\n",
      "11 vacant_block\n",
      "12 median_rent\n",
      "13 property_crimes\n",
      "14 burglaries\n",
      "15 part_one_crimes\n",
      "16 part_two_crimes\n",
      "17 bachelors+\n",
      "18 poverty_rate\n",
      "19 median_hh_income\n",
      "20 white\n",
      "21 black\n",
      "22 asian\n",
      "23 other\n",
      "24 hispanic\n",
      "25 young\n",
      "26 middle\n",
      "27 old\n",
      "28 al_num\n",
      "29 al_days\n",
      "30 t_days\n",
      "31 t_shf_deed\n",
      "32 t_num\n",
      "33 lb_acquired\n",
      "34 lb_tax_fc\n",
      "35 pv_total\n",
      "36 v_total_1yr\n",
      "37 v_total_2yr\n",
      "38 c_ovv_2yr\n",
      "39 c_ovv_1yr\n",
      "40 active_fc\n",
      "41 fc_1yr\n",
      "42 fc_2yr\n",
      "43 fc_days\n",
      "44 sa_days\n",
      "45 TOTAL_NET_DELQ_BALANCE\n",
      "46 TAX_ASSESSED_LAND\n",
      "47 TAX_MARKET_LAND\n",
      "48 LENDER_PROCESS_TYPE\n",
      "49 GRAND_TOTAL_BALANCE\n",
      "50 GRAND_TOTAL_PAID\n",
      "51 GRAND_TOTAL_BALANCE_14\n",
      "52 sqft\n",
      "53 cond_diff\n",
      "54 balance_diff\n",
      "55 mktval_diff\n"
     ]
    }
   ],
   "source": [
    "for i,j in enumerate(features):\n",
    "    print(i,j)"
   ]
  },
  {
   "cell_type": "code",
   "execution_count": 17,
   "metadata": {
    "collapsed": false
   },
   "outputs": [
    {
     "name": "stdout",
     "output_type": "stream",
     "text": [
      "Index(['style_filtered', 'rextwall', 'LENDER_PROCESS_TYPE'], dtype='object')\n"
     ]
    }
   ],
   "source": [
    "print(df[features].columns[df[features].dtypes == 'object'])"
   ]
  },
  {
   "cell_type": "code",
   "execution_count": 18,
   "metadata": {
    "collapsed": false
   },
   "outputs": [
    {
     "name": "stdout",
     "output_type": "stream",
     "text": [
      "(113132, 66)\n"
     ]
    }
   ],
   "source": [
    "# transform categorical variables (including NaN's)\n",
    "objs = df[features].columns[df[features].dtypes == 'object']\n",
    "prefixes = ['style','ext','lender']\n",
    "\n",
    "df2 = df[objs]\n",
    "df3 = pd.concat([pd.get_dummies(df2[col], prefix=prefixes[index]) for index, col in enumerate(df2)], axis=1)\n",
    "\n",
    "for i in objs:\n",
    "    features.remove(i)\n",
    "    \n",
    "df3[features] = df[features]\n",
    "df3 = df3.fillna(0)\n",
    "\n",
    "print(df3.shape)"
   ]
  },
  {
   "cell_type": "markdown",
   "metadata": {},
   "source": [
    "## Build the classifiers"
   ]
  },
  {
   "cell_type": "code",
   "execution_count": 39,
   "metadata": {
    "collapsed": false
   },
   "outputs": [],
   "source": [
    "# train and test the classifier, look at results in a cross tabulation\n",
    "# take out some of the data for the test set\n",
    "\n",
    "df3['is_train'] = np.random.uniform(0, 1, len(df3)) <= .8\n",
    "train, test = df3[df3['is_train']==True], df3[df3['is_train']==False]\n",
    " \n",
    "features = list(df3.columns)\n",
    "features.remove('vacant')\n",
    "\n",
    "y, _ = pd.factorize(train['vacant'])\n",
    "test_label = test.vacant"
   ]
  },
  {
   "cell_type": "markdown",
   "metadata": {},
   "source": [
    "### Random Forest Classifier"
   ]
  },
  {
   "cell_type": "code",
   "execution_count": 40,
   "metadata": {
    "collapsed": false
   },
   "outputs": [
    {
     "name": "stdout",
     "output_type": "stream",
     "text": [
      "col_0       0    1\n",
      "vacant            \n",
      "0       20460  264\n",
      "1        1059  980\n"
     ]
    }
   ],
   "source": [
    "rfc = RandomForestClassifier(n_estimators=50, min_samples_leaf=10, min_samples_split=2, \\\n",
    "                                 class_weight={0:1, 1:1}, \\\n",
    "                                 max_features=10, random_state=0, max_depth=20)\n",
    "rfc = rfc.fit(train[features], y)\n",
    "sound()\n",
    "print(pd.crosstab(test.vacant, rfc.predict(test[features])))"
   ]
  },
  {
   "cell_type": "code",
   "execution_count": 54,
   "metadata": {
    "collapsed": false
   },
   "outputs": [
    {
     "data": {
      "text/plain": [
       "(array([0, 0, 0, ..., 0, 0, 0]), Int64Index([0, 1], dtype='int64'))"
      ]
     },
     "execution_count": 54,
     "metadata": {},
     "output_type": "execute_result"
    }
   ],
   "source": []
  },
  {
   "cell_type": "code",
   "execution_count": 55,
   "metadata": {
    "collapsed": false
   },
   "outputs": [
    {
     "name": "stdout",
     "output_type": "stream",
     "text": [
      "col_0       0   1\n",
      "vacant           \n",
      "0       10376  21\n",
      "1         339  66\n"
     ]
    }
   ],
   "source": [
    "y2,_= pd.factorize(train.loc[train.index.isin(df[df.SPA_NAME.isin(west)].index)].vacant)\n",
    "\n",
    "rfc = RandomForestClassifier(n_estimators=50, min_samples_leaf=10, min_samples_split=2, \\\n",
    "                                 class_weight={0:1, 1:1}, \\\n",
    "                                 max_features=10, random_state=0, max_depth=20)\n",
    "rfc = rfc.fit(train.loc[train.index.isin(df[df.SPA_NAME.isin(west)].index),features], y2)\n",
    "sound()\n",
    "print(pd.crosstab(test[test.index.isin(df[df.SPA_NAME.isin(west)].index)].vacant, \\\n",
    "                  rfc.predict(test.loc[test.index.isin(df[df.SPA_NAME.isin(west)].index),features])))"
   ]
  },
  {
   "cell_type": "code",
   "execution_count": 56,
   "metadata": {
    "collapsed": false
   },
   "outputs": [
    {
     "name": "stdout",
     "output_type": "stream",
     "text": [
      "col_0       0    1\n",
      "vacant            \n",
      "0       10084  243\n",
      "1         736  898\n"
     ]
    }
   ],
   "source": [
    "y2,_= pd.factorize(train.loc[~train.index.isin(df[df.SPA_NAME.isin(west)].index)].vacant)\n",
    "\n",
    "rfc = RandomForestClassifier(n_estimators=50, min_samples_leaf=10, min_samples_split=2, \\\n",
    "                                 class_weight={0:1, 1:1}, \\\n",
    "                                 max_features=10, random_state=0, max_depth=20)\n",
    "rfc = rfc.fit(train.loc[~train.index.isin(df[df.SPA_NAME.isin(west)].index),features], y2)\n",
    "sound()\n",
    "print(pd.crosstab(test[~test.index.isin(df[df.SPA_NAME.isin(west)].index)].vacant, \\\n",
    "                  rfc.predict(test.loc[~test.index.isin(df[df.SPA_NAME.isin(west)].index),features])))"
   ]
  },
  {
   "cell_type": "code",
   "execution_count": 48,
   "metadata": {
    "collapsed": false
   },
   "outputs": [
    {
     "name": "stdout",
     "output_type": "stream",
     "text": [
      "col_0       0    1\n",
      "vacant            \n",
      "0       10096  231\n",
      "1         747  887\n"
     ]
    }
   ],
   "source": [
    "print(pd.crosstab(test[~test.index.isin(df[df.SPA_NAME.isin(west)].index)].vacant, \\\n",
    "                  rfc.predict(test.loc[~test.index.isin(df[df.SPA_NAME.isin(west)].index),features])))"
   ]
  },
  {
   "cell_type": "code",
   "execution_count": 47,
   "metadata": {
    "collapsed": false
   },
   "outputs": [
    {
     "name": "stdout",
     "output_type": "stream",
     "text": [
      "col_0       0   1\n",
      "vacant           \n",
      "0       10364  33\n",
      "1         312  93\n"
     ]
    }
   ],
   "source": [
    "print(pd.crosstab(test[test.index.isin(df[df.SPA_NAME.isin(west)].index)].vacant, \\\n",
    "                  rfc.predict(test.loc[test.index.isin(df[df.SPA_NAME.isin(west)].index),features])))"
   ]
  },
  {
   "cell_type": "code",
   "execution_count": 61,
   "metadata": {
    "collapsed": false
   },
   "outputs": [
    {
     "name": "stdout",
     "output_type": "stream",
     "text": [
      "col_0       0     1\n",
      "vacant             \n",
      "0       81817   544\n",
      "1        3707  4307\n"
     ]
    }
   ],
   "source": [
    "print(pd.crosstab(train.vacant, rfc.predict(train[features])))"
   ]
  },
  {
   "cell_type": "code",
   "execution_count": 21,
   "metadata": {
    "collapsed": false
   },
   "outputs": [
    {
     "name": "stderr",
     "output_type": "stream",
     "text": [
      "//anaconda/envs/vacancy/lib/python3.4/site-packages/ipykernel/__main__.py:1: SettingWithCopyWarning: \n",
      "A value is trying to be set on a copy of a slice from a DataFrame.\n",
      "Try using .loc[row_indexer,col_indexer] = value instead\n",
      "\n",
      "See the caveats in the documentation: http://pandas.pydata.org/pandas-docs/stable/indexing.html#indexing-view-versus-copy\n",
      "  if __name__ == '__main__':\n",
      "//anaconda/envs/vacancy/lib/python3.4/site-packages/ipykernel/__main__.py:2: SettingWithCopyWarning: \n",
      "A value is trying to be set on a copy of a slice from a DataFrame.\n",
      "Try using .loc[row_indexer,col_indexer] = value instead\n",
      "\n",
      "See the caveats in the documentation: http://pandas.pydata.org/pandas-docs/stable/indexing.html#indexing-view-versus-copy\n",
      "  from ipykernel import kernelapp as app\n"
     ]
    }
   ],
   "source": [
    "test['prob'] = rfc.predict_proba(test[features])[:,1]\n",
    "test['preds'] = rfc.predict(test[features])\n",
    "\n",
    "true_pos = test[(test.preds==1) & (test.vacant==1)].index\n",
    "false_neg = test[(test.preds==0) & (test.vacant==1)].index"
   ]
  },
  {
   "cell_type": "code",
   "execution_count": 22,
   "metadata": {
    "collapsed": false
   },
   "outputs": [],
   "source": [
    "tci = pd.read_csv(path+'/data/model_data/tci_1_0.csv', parse_dates=['Date'], dtype={'PIN': str})\n",
    "test = pd.merge(test, tci[['parcel','SPA_NAME']].set_index('parcel'), how='left', left_index=True, right_index=True)"
   ]
  },
  {
   "cell_type": "code",
   "execution_count": 23,
   "metadata": {
    "collapsed": false
   },
   "outputs": [],
   "source": [
    "counts = test.loc[(test.preds==0) & (test.vacant==1),['SPA_NAME','is_train']].groupby('SPA_NAME').count()\n",
    "counts = counts.rename(columns={'is_train':'false_negative'})\n",
    "counts['true_positive']=test.loc[(test.preds==1) & (test.vacant==1),['SPA_NAME','is_train']].groupby('SPA_NAME').count()\n",
    "counts['false_positive']=test.loc[(test.preds==1) & (test.vacant==0),['SPA_NAME','is_train']].groupby('SPA_NAME').count()\n",
    "counts['number']=test[['SPA_NAME','is_train']].groupby('SPA_NAME').count()\n",
    "counts = counts.fillna(0)\n",
    "counts['ratio'] = counts['true_positive']/counts['false_negative']"
   ]
  },
  {
   "cell_type": "code",
   "execution_count": 24,
   "metadata": {
    "collapsed": true
   },
   "outputs": [],
   "source": [
    "pd.set_option('precision',3)"
   ]
  },
  {
   "cell_type": "code",
   "execution_count": 26,
   "metadata": {
    "collapsed": true
   },
   "outputs": [],
   "source": [
    "ddf = df[df.SPA_NAME.isin(['Brooklyn Centre','Old Brooklyn','Bellaire-Puritas','West Boulevard'])]"
   ]
  },
  {
   "cell_type": "code",
   "execution_count": 37,
   "metadata": {
    "collapsed": false,
    "scrolled": true
   },
   "outputs": [
    {
     "name": "stdout",
     "output_type": "stream",
     "text": [
      "col_0      0   1\n",
      "vacant          \n",
      "0       4625  38\n",
      "1        109  45\n"
     ]
    },
    {
     "name": "stderr",
     "output_type": "stream",
     "text": [
      "//anaconda/envs/vacancy/lib/python3.4/site-packages/ipykernel/__main__.py:6: SettingWithCopyWarning: \n",
      "A value is trying to be set on a copy of a slice from a DataFrame.\n",
      "Try using .loc[row_indexer,col_indexer] = value instead\n",
      "\n",
      "See the caveats in the documentation: http://pandas.pydata.org/pandas-docs/stable/indexing.html#indexing-view-versus-copy\n"
     ]
    }
   ],
   "source": [
    "df4 = df3[df3.index.isin(ddf.index)]\n",
    "\n",
    "# train and test the classifier, look at results in a cross tabulation\n",
    "# take out some of the data for the test set\n",
    "\n",
    "df4['is_train'] = np.random.uniform(0, 1, len(df4)) <= .8\n",
    "train, test = df4[df4['is_train']==True], df4[df4['is_train']==False]\n",
    " \n",
    "features = list(df4.columns)\n",
    "features.remove('vacant')\n",
    "\n",
    "y, _ = pd.factorize(train['vacant'])\n",
    "test_label = test.vacant\n",
    "\n",
    "rfc = RandomForestClassifier(n_estimators=50, min_samples_leaf=5, min_samples_split=2, \\\n",
    "                                 class_weight={0:1, 1:5}, \\\n",
    "                                 max_features=10, random_state=0, max_depth=25)\n",
    "rfc = rfc.fit(train[features], y)\n",
    "sound()\n",
    "print(pd.crosstab(test.vacant, rfc.predict(test[features])))\n"
   ]
  },
  {
   "cell_type": "code",
   "execution_count": 25,
   "metadata": {
    "collapsed": false
   },
   "outputs": [
    {
     "data": {
      "text/html": [
       "<div>\n",
       "<table border=\"1\" class=\"dataframe\">\n",
       "  <thead>\n",
       "    <tr style=\"text-align: right;\">\n",
       "      <th></th>\n",
       "      <th>false_negative</th>\n",
       "      <th>true_positive</th>\n",
       "      <th>false_positive</th>\n",
       "      <th>number</th>\n",
       "      <th>ratio</th>\n",
       "    </tr>\n",
       "    <tr>\n",
       "      <th>SPA_NAME</th>\n",
       "      <th></th>\n",
       "      <th></th>\n",
       "      <th></th>\n",
       "      <th></th>\n",
       "      <th></th>\n",
       "    </tr>\n",
       "  </thead>\n",
       "  <tbody>\n",
       "    <tr>\n",
       "      <th>Bellaire-Puritas</th>\n",
       "      <td>23</td>\n",
       "      <td>2</td>\n",
       "      <td>3</td>\n",
       "      <td>1054</td>\n",
       "      <td>0.087</td>\n",
       "    </tr>\n",
       "    <tr>\n",
       "      <th>Broadway-Slavic Village</th>\n",
       "      <td>118</td>\n",
       "      <td>135</td>\n",
       "      <td>19</td>\n",
       "      <td>1466</td>\n",
       "      <td>1.144</td>\n",
       "    </tr>\n",
       "    <tr>\n",
       "      <th>Brooklyn Centre</th>\n",
       "      <td>20</td>\n",
       "      <td>8</td>\n",
       "      <td>1</td>\n",
       "      <td>438</td>\n",
       "      <td>0.400</td>\n",
       "    </tr>\n",
       "    <tr>\n",
       "      <th>Buckeye-Shaker Square</th>\n",
       "      <td>32</td>\n",
       "      <td>27</td>\n",
       "      <td>4</td>\n",
       "      <td>566</td>\n",
       "      <td>0.844</td>\n",
       "    </tr>\n",
       "    <tr>\n",
       "      <th>Buckeye-Woodhill</th>\n",
       "      <td>23</td>\n",
       "      <td>33</td>\n",
       "      <td>7</td>\n",
       "      <td>274</td>\n",
       "      <td>1.435</td>\n",
       "    </tr>\n",
       "    <tr>\n",
       "      <th>Central</th>\n",
       "      <td>8</td>\n",
       "      <td>5</td>\n",
       "      <td>1</td>\n",
       "      <td>144</td>\n",
       "      <td>0.625</td>\n",
       "    </tr>\n",
       "    <tr>\n",
       "      <th>Clark-Fulton</th>\n",
       "      <td>23</td>\n",
       "      <td>10</td>\n",
       "      <td>6</td>\n",
       "      <td>442</td>\n",
       "      <td>0.435</td>\n",
       "    </tr>\n",
       "    <tr>\n",
       "      <th>Collinwood-Nottingham</th>\n",
       "      <td>37</td>\n",
       "      <td>47</td>\n",
       "      <td>8</td>\n",
       "      <td>726</td>\n",
       "      <td>1.270</td>\n",
       "    </tr>\n",
       "    <tr>\n",
       "      <th>Cudell</th>\n",
       "      <td>24</td>\n",
       "      <td>8</td>\n",
       "      <td>4</td>\n",
       "      <td>427</td>\n",
       "      <td>0.333</td>\n",
       "    </tr>\n",
       "    <tr>\n",
       "      <th>Detroit Shoreway</th>\n",
       "      <td>30</td>\n",
       "      <td>14</td>\n",
       "      <td>4</td>\n",
       "      <td>549</td>\n",
       "      <td>0.467</td>\n",
       "    </tr>\n",
       "    <tr>\n",
       "      <th>Edgewater</th>\n",
       "      <td>4</td>\n",
       "      <td>1</td>\n",
       "      <td>0</td>\n",
       "      <td>225</td>\n",
       "      <td>0.250</td>\n",
       "    </tr>\n",
       "    <tr>\n",
       "      <th>Euclid-Green</th>\n",
       "      <td>13</td>\n",
       "      <td>14</td>\n",
       "      <td>3</td>\n",
       "      <td>326</td>\n",
       "      <td>1.077</td>\n",
       "    </tr>\n",
       "    <tr>\n",
       "      <th>Fairfax</th>\n",
       "      <td>18</td>\n",
       "      <td>20</td>\n",
       "      <td>7</td>\n",
       "      <td>323</td>\n",
       "      <td>1.111</td>\n",
       "    </tr>\n",
       "    <tr>\n",
       "      <th>Glenville</th>\n",
       "      <td>135</td>\n",
       "      <td>189</td>\n",
       "      <td>56</td>\n",
       "      <td>1743</td>\n",
       "      <td>1.400</td>\n",
       "    </tr>\n",
       "    <tr>\n",
       "      <th>Goodrich-Kirtland Pk</th>\n",
       "      <td>9</td>\n",
       "      <td>5</td>\n",
       "      <td>0</td>\n",
       "      <td>188</td>\n",
       "      <td>0.556</td>\n",
       "    </tr>\n",
       "    <tr>\n",
       "      <th>Hough</th>\n",
       "      <td>28</td>\n",
       "      <td>41</td>\n",
       "      <td>10</td>\n",
       "      <td>438</td>\n",
       "      <td>1.464</td>\n",
       "    </tr>\n",
       "    <tr>\n",
       "      <th>Jefferson</th>\n",
       "      <td>22</td>\n",
       "      <td>5</td>\n",
       "      <td>1</td>\n",
       "      <td>1243</td>\n",
       "      <td>0.227</td>\n",
       "    </tr>\n",
       "    <tr>\n",
       "      <th>Kamm's</th>\n",
       "      <td>44</td>\n",
       "      <td>0</td>\n",
       "      <td>0</td>\n",
       "      <td>1848</td>\n",
       "      <td>0.000</td>\n",
       "    </tr>\n",
       "    <tr>\n",
       "      <th>Kinsman</th>\n",
       "      <td>29</td>\n",
       "      <td>30</td>\n",
       "      <td>4</td>\n",
       "      <td>294</td>\n",
       "      <td>1.034</td>\n",
       "    </tr>\n",
       "    <tr>\n",
       "      <th>Lee-Harvard</th>\n",
       "      <td>42</td>\n",
       "      <td>6</td>\n",
       "      <td>4</td>\n",
       "      <td>904</td>\n",
       "      <td>0.143</td>\n",
       "    </tr>\n",
       "    <tr>\n",
       "      <th>Lee-Seville</th>\n",
       "      <td>17</td>\n",
       "      <td>7</td>\n",
       "      <td>4</td>\n",
       "      <td>384</td>\n",
       "      <td>0.412</td>\n",
       "    </tr>\n",
       "    <tr>\n",
       "      <th>Mount Pleasant</th>\n",
       "      <td>78</td>\n",
       "      <td>93</td>\n",
       "      <td>23</td>\n",
       "      <td>1072</td>\n",
       "      <td>1.192</td>\n",
       "    </tr>\n",
       "    <tr>\n",
       "      <th>North Shore Collinwood</th>\n",
       "      <td>36</td>\n",
       "      <td>19</td>\n",
       "      <td>2</td>\n",
       "      <td>909</td>\n",
       "      <td>0.528</td>\n",
       "    </tr>\n",
       "    <tr>\n",
       "      <th>Ohio City</th>\n",
       "      <td>18</td>\n",
       "      <td>1</td>\n",
       "      <td>0</td>\n",
       "      <td>302</td>\n",
       "      <td>0.056</td>\n",
       "    </tr>\n",
       "    <tr>\n",
       "      <th>Old Brooklyn</th>\n",
       "      <td>48</td>\n",
       "      <td>6</td>\n",
       "      <td>4</td>\n",
       "      <td>2239</td>\n",
       "      <td>0.125</td>\n",
       "    </tr>\n",
       "    <tr>\n",
       "      <th>St.Clair-Superior</th>\n",
       "      <td>39</td>\n",
       "      <td>56</td>\n",
       "      <td>12</td>\n",
       "      <td>396</td>\n",
       "      <td>1.436</td>\n",
       "    </tr>\n",
       "    <tr>\n",
       "      <th>Stockyards</th>\n",
       "      <td>26</td>\n",
       "      <td>9</td>\n",
       "      <td>4</td>\n",
       "      <td>554</td>\n",
       "      <td>0.346</td>\n",
       "    </tr>\n",
       "    <tr>\n",
       "      <th>Tremont</th>\n",
       "      <td>18</td>\n",
       "      <td>1</td>\n",
       "      <td>0</td>\n",
       "      <td>402</td>\n",
       "      <td>0.056</td>\n",
       "    </tr>\n",
       "    <tr>\n",
       "      <th>Union-Miles</th>\n",
       "      <td>106</td>\n",
       "      <td>101</td>\n",
       "      <td>32</td>\n",
       "      <td>1406</td>\n",
       "      <td>0.953</td>\n",
       "    </tr>\n",
       "    <tr>\n",
       "      <th>University</th>\n",
       "      <td>5</td>\n",
       "      <td>3</td>\n",
       "      <td>0</td>\n",
       "      <td>118</td>\n",
       "      <td>0.600</td>\n",
       "    </tr>\n",
       "    <tr>\n",
       "      <th>West Boulevard</th>\n",
       "      <td>26</td>\n",
       "      <td>13</td>\n",
       "      <td>5</td>\n",
       "      <td>1059</td>\n",
       "      <td>0.500</td>\n",
       "    </tr>\n",
       "  </tbody>\n",
       "</table>\n",
       "</div>"
      ],
      "text/plain": [
       "                         false_negative  true_positive  false_positive  \\\n",
       "SPA_NAME                                                                 \n",
       "Bellaire-Puritas                     23              2               3   \n",
       "Broadway-Slavic Village             118            135              19   \n",
       "Brooklyn Centre                      20              8               1   \n",
       "Buckeye-Shaker Square                32             27               4   \n",
       "Buckeye-Woodhill                     23             33               7   \n",
       "Central                               8              5               1   \n",
       "Clark-Fulton                         23             10               6   \n",
       "Collinwood-Nottingham                37             47               8   \n",
       "Cudell                               24              8               4   \n",
       "Detroit Shoreway                     30             14               4   \n",
       "Edgewater                             4              1               0   \n",
       "Euclid-Green                         13             14               3   \n",
       "Fairfax                              18             20               7   \n",
       "Glenville                           135            189              56   \n",
       "Goodrich-Kirtland Pk                  9              5               0   \n",
       "Hough                                28             41              10   \n",
       "Jefferson                            22              5               1   \n",
       "Kamm's                               44              0               0   \n",
       "Kinsman                              29             30               4   \n",
       "Lee-Harvard                          42              6               4   \n",
       "Lee-Seville                          17              7               4   \n",
       "Mount Pleasant                       78             93              23   \n",
       "North Shore Collinwood               36             19               2   \n",
       "Ohio City                            18              1               0   \n",
       "Old Brooklyn                         48              6               4   \n",
       "St.Clair-Superior                    39             56              12   \n",
       "Stockyards                           26              9               4   \n",
       "Tremont                              18              1               0   \n",
       "Union-Miles                         106            101              32   \n",
       "University                            5              3               0   \n",
       "West Boulevard                       26             13               5   \n",
       "\n",
       "                         number  ratio  \n",
       "SPA_NAME                                \n",
       "Bellaire-Puritas           1054  0.087  \n",
       "Broadway-Slavic Village    1466  1.144  \n",
       "Brooklyn Centre             438  0.400  \n",
       "Buckeye-Shaker Square       566  0.844  \n",
       "Buckeye-Woodhill            274  1.435  \n",
       "Central                     144  0.625  \n",
       "Clark-Fulton                442  0.435  \n",
       "Collinwood-Nottingham       726  1.270  \n",
       "Cudell                      427  0.333  \n",
       "Detroit Shoreway            549  0.467  \n",
       "Edgewater                   225  0.250  \n",
       "Euclid-Green                326  1.077  \n",
       "Fairfax                     323  1.111  \n",
       "Glenville                  1743  1.400  \n",
       "Goodrich-Kirtland Pk        188  0.556  \n",
       "Hough                       438  1.464  \n",
       "Jefferson                  1243  0.227  \n",
       "Kamm's                     1848  0.000  \n",
       "Kinsman                     294  1.034  \n",
       "Lee-Harvard                 904  0.143  \n",
       "Lee-Seville                 384  0.412  \n",
       "Mount Pleasant             1072  1.192  \n",
       "North Shore Collinwood      909  0.528  \n",
       "Ohio City                   302  0.056  \n",
       "Old Brooklyn               2239  0.125  \n",
       "St.Clair-Superior           396  1.436  \n",
       "Stockyards                  554  0.346  \n",
       "Tremont                     402  0.056  \n",
       "Union-Miles                1406  0.953  \n",
       "University                  118  0.600  \n",
       "West Boulevard             1059  0.500  "
      ]
     },
     "execution_count": 25,
     "metadata": {},
     "output_type": "execute_result"
    }
   ],
   "source": []
  },
  {
   "cell_type": "code",
   "execution_count": 43,
   "metadata": {
    "collapsed": true
   },
   "outputs": [],
   "source": [
    "west = ['Bellaire-Puritas','Brooklyn Centre','Clark-Fulton','Cudell','Detroit Shoreway','Edgewater'\\\n",
    "       ,'Jefferson',\"Kamm's\",'Ohio City','Old Brooklyn','Stockyards','Tremont','West Boulevard']"
   ]
  },
  {
   "cell_type": "code",
   "execution_count": 70,
   "metadata": {
    "collapsed": false
   },
   "outputs": [
    {
     "name": "stdout",
     "output_type": "stream",
     "text": [
      "386 124 10812\n",
      "1638 1067 11945\n"
     ]
    }
   ],
   "source": [
    "t = test[test.SPA_NAME.isin(west)]\n",
    "print(sum(t.vacant), sum(t.preds), len(t))\n",
    "\n",
    "t = test[~test.SPA_NAME.isin(west)]\n",
    "print(sum(t.vacant), sum(t.preds), len(t))"
   ]
  },
  {
   "cell_type": "code",
   "execution_count": null,
   "metadata": {
    "collapsed": true
   },
   "outputs": [],
   "source": [
    "cols = ['GRAND_TOTAL_BALANCE','TAX_MARKET_LAND','sa_days','fc_days','c_ovv_2yr','pv_total',\\\n",
    "        'tmktval','propsize','condition_value14','median_rent']"
   ]
  },
  {
   "cell_type": "code",
   "execution_count": 28,
   "metadata": {
    "collapsed": false
   },
   "outputs": [
    {
     "data": {
      "text/html": [
       "<div>\n",
       "<table border=\"1\" class=\"dataframe\">\n",
       "  <thead>\n",
       "    <tr style=\"text-align: right;\">\n",
       "      <th></th>\n",
       "      <th>GRAND_TOTAL_BALANCE</th>\n",
       "      <th>TAX_MARKET_LAND</th>\n",
       "      <th>sa_days</th>\n",
       "      <th>fc_days</th>\n",
       "      <th>c_ovv_2yr</th>\n",
       "      <th>pv_total</th>\n",
       "      <th>tmktval</th>\n",
       "      <th>propsize</th>\n",
       "      <th>condition_value14</th>\n",
       "      <th>median_rent</th>\n",
       "    </tr>\n",
       "  </thead>\n",
       "  <tbody>\n",
       "    <tr>\n",
       "      <th>count</th>\n",
       "      <td>2151.000</td>\n",
       "      <td>2151.000</td>\n",
       "      <td>2151.000</td>\n",
       "      <td>2151.000</td>\n",
       "      <td>2151.000</td>\n",
       "      <td>2151.000</td>\n",
       "      <td>2151.000</td>\n",
       "      <td>2151.000</td>\n",
       "      <td>2151.000</td>\n",
       "      <td>2151.000</td>\n",
       "    </tr>\n",
       "    <tr>\n",
       "      <th>mean</th>\n",
       "      <td>1029.692</td>\n",
       "      <td>13590.563</td>\n",
       "      <td>3314.414</td>\n",
       "      <td>3208.607</td>\n",
       "      <td>0.083</td>\n",
       "      <td>0.360</td>\n",
       "      <td>70773.780</td>\n",
       "      <td>5567.497</td>\n",
       "      <td>5.059</td>\n",
       "      <td>686.732</td>\n",
       "    </tr>\n",
       "    <tr>\n",
       "      <th>std</th>\n",
       "      <td>880.554</td>\n",
       "      <td>3847.108</td>\n",
       "      <td>778.223</td>\n",
       "      <td>844.527</td>\n",
       "      <td>1.132</td>\n",
       "      <td>1.499</td>\n",
       "      <td>19968.689</td>\n",
       "      <td>2080.691</td>\n",
       "      <td>0.489</td>\n",
       "      <td>128.736</td>\n",
       "    </tr>\n",
       "    <tr>\n",
       "      <th>min</th>\n",
       "      <td>0.000</td>\n",
       "      <td>0.000</td>\n",
       "      <td>11.000</td>\n",
       "      <td>1.000</td>\n",
       "      <td>0.000</td>\n",
       "      <td>0.000</td>\n",
       "      <td>0.000</td>\n",
       "      <td>1015.000</td>\n",
       "      <td>2.000</td>\n",
       "      <td>484.000</td>\n",
       "    </tr>\n",
       "    <tr>\n",
       "      <th>25%</th>\n",
       "      <td>737.995</td>\n",
       "      <td>11200.000</td>\n",
       "      <td>3561.000</td>\n",
       "      <td>3560.000</td>\n",
       "      <td>0.000</td>\n",
       "      <td>0.000</td>\n",
       "      <td>59200.000</td>\n",
       "      <td>4480.000</td>\n",
       "      <td>5.000</td>\n",
       "      <td>611.000</td>\n",
       "    </tr>\n",
       "    <tr>\n",
       "      <th>50%</th>\n",
       "      <td>962.490</td>\n",
       "      <td>12800.000</td>\n",
       "      <td>3561.000</td>\n",
       "      <td>3560.000</td>\n",
       "      <td>0.000</td>\n",
       "      <td>0.000</td>\n",
       "      <td>70100.000</td>\n",
       "      <td>5000.000</td>\n",
       "      <td>5.000</td>\n",
       "      <td>640.000</td>\n",
       "    </tr>\n",
       "    <tr>\n",
       "      <th>75%</th>\n",
       "      <td>1165.180</td>\n",
       "      <td>14900.000</td>\n",
       "      <td>3561.000</td>\n",
       "      <td>3560.000</td>\n",
       "      <td>0.000</td>\n",
       "      <td>0.000</td>\n",
       "      <td>81450.000</td>\n",
       "      <td>6000.000</td>\n",
       "      <td>5.000</td>\n",
       "      <td>746.000</td>\n",
       "    </tr>\n",
       "    <tr>\n",
       "      <th>max</th>\n",
       "      <td>16603.340</td>\n",
       "      <td>40000.000</td>\n",
       "      <td>5593.000</td>\n",
       "      <td>3560.000</td>\n",
       "      <td>28.000</td>\n",
       "      <td>10.000</td>\n",
       "      <td>201700.000</td>\n",
       "      <td>35327.000</td>\n",
       "      <td>7.000</td>\n",
       "      <td>1065.000</td>\n",
       "    </tr>\n",
       "  </tbody>\n",
       "</table>\n",
       "</div>"
      ],
      "text/plain": [
       "       GRAND_TOTAL_BALANCE  TAX_MARKET_LAND   sa_days   fc_days  c_ovv_2yr  \\\n",
       "count             2151.000         2151.000  2151.000  2151.000   2151.000   \n",
       "mean              1029.692        13590.563  3314.414  3208.607      0.083   \n",
       "std                880.554         3847.108   778.223   844.527      1.132   \n",
       "min                  0.000            0.000    11.000     1.000      0.000   \n",
       "25%                737.995        11200.000  3561.000  3560.000      0.000   \n",
       "50%                962.490        12800.000  3561.000  3560.000      0.000   \n",
       "75%               1165.180        14900.000  3561.000  3560.000      0.000   \n",
       "max              16603.340        40000.000  5593.000  3560.000     28.000   \n",
       "\n",
       "       pv_total     tmktval   propsize  condition_value14  median_rent  \n",
       "count  2151.000    2151.000   2151.000           2151.000     2151.000  \n",
       "mean      0.360   70773.780   5567.497              5.059      686.732  \n",
       "std       1.499   19968.689   2080.691              0.489      128.736  \n",
       "min       0.000       0.000   1015.000              2.000      484.000  \n",
       "25%       0.000   59200.000   4480.000              5.000      611.000  \n",
       "50%       0.000   70100.000   5000.000              5.000      640.000  \n",
       "75%       0.000   81450.000   6000.000              5.000      746.000  \n",
       "max      10.000  201700.000  35327.000              7.000     1065.000  "
      ]
     },
     "execution_count": 28,
     "metadata": {},
     "output_type": "execute_result"
    }
   ],
   "source": [
    "test.loc[(test.SPA_NAME=='Old Brooklyn') & (test.vacant==0),cols].describe()"
   ]
  },
  {
   "cell_type": "code",
   "execution_count": 29,
   "metadata": {
    "collapsed": false
   },
   "outputs": [
    {
     "data": {
      "text/html": [
       "<div>\n",
       "<table border=\"1\" class=\"dataframe\">\n",
       "  <thead>\n",
       "    <tr style=\"text-align: right;\">\n",
       "      <th></th>\n",
       "      <th>GRAND_TOTAL_BALANCE</th>\n",
       "      <th>TAX_MARKET_LAND</th>\n",
       "      <th>sa_days</th>\n",
       "      <th>fc_days</th>\n",
       "      <th>c_ovv_2yr</th>\n",
       "      <th>pv_total</th>\n",
       "      <th>tmktval</th>\n",
       "      <th>propsize</th>\n",
       "      <th>condition_value14</th>\n",
       "      <th>median_rent</th>\n",
       "    </tr>\n",
       "  </thead>\n",
       "  <tbody>\n",
       "    <tr>\n",
       "      <th>count</th>\n",
       "      <td>57.000</td>\n",
       "      <td>57.000</td>\n",
       "      <td>57.000</td>\n",
       "      <td>57.000</td>\n",
       "      <td>57.000</td>\n",
       "      <td>57.000</td>\n",
       "      <td>57.000</td>\n",
       "      <td>57.000</td>\n",
       "      <td>57.000</td>\n",
       "      <td>57.000</td>\n",
       "    </tr>\n",
       "    <tr>\n",
       "      <th>mean</th>\n",
       "      <td>3169.459</td>\n",
       "      <td>12577.193</td>\n",
       "      <td>2498.842</td>\n",
       "      <td>2095.018</td>\n",
       "      <td>0.895</td>\n",
       "      <td>2.351</td>\n",
       "      <td>65861.404</td>\n",
       "      <td>5273.825</td>\n",
       "      <td>4.965</td>\n",
       "      <td>648.228</td>\n",
       "    </tr>\n",
       "    <tr>\n",
       "      <th>std</th>\n",
       "      <td>6222.202</td>\n",
       "      <td>3382.149</td>\n",
       "      <td>1537.435</td>\n",
       "      <td>1418.245</td>\n",
       "      <td>3.544</td>\n",
       "      <td>3.642</td>\n",
       "      <td>15265.060</td>\n",
       "      <td>2511.371</td>\n",
       "      <td>0.533</td>\n",
       "      <td>119.501</td>\n",
       "    </tr>\n",
       "    <tr>\n",
       "      <th>min</th>\n",
       "      <td>0.000</td>\n",
       "      <td>7300.000</td>\n",
       "      <td>55.000</td>\n",
       "      <td>133.000</td>\n",
       "      <td>0.000</td>\n",
       "      <td>0.000</td>\n",
       "      <td>26000.000</td>\n",
       "      <td>1742.000</td>\n",
       "      <td>3.000</td>\n",
       "      <td>484.000</td>\n",
       "    </tr>\n",
       "    <tr>\n",
       "      <th>25%</th>\n",
       "      <td>686.210</td>\n",
       "      <td>10700.000</td>\n",
       "      <td>728.000</td>\n",
       "      <td>717.000</td>\n",
       "      <td>0.000</td>\n",
       "      <td>0.000</td>\n",
       "      <td>57400.000</td>\n",
       "      <td>4200.000</td>\n",
       "      <td>5.000</td>\n",
       "      <td>593.000</td>\n",
       "    </tr>\n",
       "    <tr>\n",
       "      <th>50%</th>\n",
       "      <td>1045.740</td>\n",
       "      <td>12200.000</td>\n",
       "      <td>3561.000</td>\n",
       "      <td>2199.000</td>\n",
       "      <td>0.000</td>\n",
       "      <td>0.000</td>\n",
       "      <td>67000.000</td>\n",
       "      <td>4998.000</td>\n",
       "      <td>5.000</td>\n",
       "      <td>640.000</td>\n",
       "    </tr>\n",
       "    <tr>\n",
       "      <th>75%</th>\n",
       "      <td>2748.170</td>\n",
       "      <td>13600.000</td>\n",
       "      <td>3561.000</td>\n",
       "      <td>3560.000</td>\n",
       "      <td>0.000</td>\n",
       "      <td>5.000</td>\n",
       "      <td>76500.000</td>\n",
       "      <td>5400.000</td>\n",
       "      <td>5.000</td>\n",
       "      <td>733.000</td>\n",
       "    </tr>\n",
       "    <tr>\n",
       "      <th>max</th>\n",
       "      <td>40604.300</td>\n",
       "      <td>27500.000</td>\n",
       "      <td>5456.000</td>\n",
       "      <td>3560.000</td>\n",
       "      <td>18.000</td>\n",
       "      <td>10.000</td>\n",
       "      <td>99900.000</td>\n",
       "      <td>20900.000</td>\n",
       "      <td>7.000</td>\n",
       "      <td>1065.000</td>\n",
       "    </tr>\n",
       "  </tbody>\n",
       "</table>\n",
       "</div>"
      ],
      "text/plain": [
       "       GRAND_TOTAL_BALANCE  TAX_MARKET_LAND   sa_days   fc_days  c_ovv_2yr  \\\n",
       "count               57.000           57.000    57.000    57.000     57.000   \n",
       "mean              3169.459        12577.193  2498.842  2095.018      0.895   \n",
       "std               6222.202         3382.149  1537.435  1418.245      3.544   \n",
       "min                  0.000         7300.000    55.000   133.000      0.000   \n",
       "25%                686.210        10700.000   728.000   717.000      0.000   \n",
       "50%               1045.740        12200.000  3561.000  2199.000      0.000   \n",
       "75%               2748.170        13600.000  3561.000  3560.000      0.000   \n",
       "max              40604.300        27500.000  5456.000  3560.000     18.000   \n",
       "\n",
       "       pv_total    tmktval   propsize  condition_value14  median_rent  \n",
       "count    57.000     57.000     57.000             57.000       57.000  \n",
       "mean      2.351  65861.404   5273.825              4.965      648.228  \n",
       "std       3.642  15265.060   2511.371              0.533      119.501  \n",
       "min       0.000  26000.000   1742.000              3.000      484.000  \n",
       "25%       0.000  57400.000   4200.000              5.000      593.000  \n",
       "50%       0.000  67000.000   4998.000              5.000      640.000  \n",
       "75%       5.000  76500.000   5400.000              5.000      733.000  \n",
       "max      10.000  99900.000  20900.000              7.000     1065.000  "
      ]
     },
     "execution_count": 29,
     "metadata": {},
     "output_type": "execute_result"
    }
   ],
   "source": [
    "test.loc[(test.SPA_NAME=='Old Brooklyn') & (test.vacant==1),cols].describe()"
   ]
  },
  {
   "cell_type": "code",
   "execution_count": 24,
   "metadata": {
    "collapsed": false
   },
   "outputs": [
    {
     "data": {
      "text/html": [
       "<div>\n",
       "<table border=\"1\" class=\"dataframe\">\n",
       "  <thead>\n",
       "    <tr style=\"text-align: right;\">\n",
       "      <th></th>\n",
       "      <th>GRAND_TOTAL_BALANCE</th>\n",
       "      <th>TAX_MARKET_LAND</th>\n",
       "      <th>sa_days</th>\n",
       "      <th>fc_days</th>\n",
       "      <th>c_ovv_2yr</th>\n",
       "      <th>pv_total</th>\n",
       "      <th>tmktval</th>\n",
       "      <th>propsize</th>\n",
       "      <th>condition_value14</th>\n",
       "      <th>median_rent</th>\n",
       "    </tr>\n",
       "  </thead>\n",
       "  <tbody>\n",
       "    <tr>\n",
       "      <th>count</th>\n",
       "      <td>1447.000</td>\n",
       "      <td>1447.000</td>\n",
       "      <td>1447.000</td>\n",
       "      <td>1447.000</td>\n",
       "      <td>1447.000</td>\n",
       "      <td>1447.000</td>\n",
       "      <td>1447.000</td>\n",
       "      <td>1447.000</td>\n",
       "      <td>1447.000</td>\n",
       "      <td>1447.000</td>\n",
       "    </tr>\n",
       "    <tr>\n",
       "      <th>mean</th>\n",
       "      <td>1434.977</td>\n",
       "      <td>5266.897</td>\n",
       "      <td>3354.021</td>\n",
       "      <td>3115.096</td>\n",
       "      <td>0.250</td>\n",
       "      <td>0.829</td>\n",
       "      <td>28914.651</td>\n",
       "      <td>4564.758</td>\n",
       "      <td>4.357</td>\n",
       "      <td>696.119</td>\n",
       "    </tr>\n",
       "    <tr>\n",
       "      <th>std</th>\n",
       "      <td>2977.661</td>\n",
       "      <td>5436.362</td>\n",
       "      <td>728.108</td>\n",
       "      <td>899.371</td>\n",
       "      <td>1.536</td>\n",
       "      <td>2.359</td>\n",
       "      <td>15793.979</td>\n",
       "      <td>1779.150</td>\n",
       "      <td>0.907</td>\n",
       "      <td>95.284</td>\n",
       "    </tr>\n",
       "    <tr>\n",
       "      <th>min</th>\n",
       "      <td>0.000</td>\n",
       "      <td>0.000</td>\n",
       "      <td>20.000</td>\n",
       "      <td>6.000</td>\n",
       "      <td>0.000</td>\n",
       "      <td>0.000</td>\n",
       "      <td>0.000</td>\n",
       "      <td>1404.000</td>\n",
       "      <td>0.000</td>\n",
       "      <td>467.000</td>\n",
       "    </tr>\n",
       "    <tr>\n",
       "      <th>25%</th>\n",
       "      <td>121.190</td>\n",
       "      <td>2400.000</td>\n",
       "      <td>3561.000</td>\n",
       "      <td>3282.000</td>\n",
       "      <td>0.000</td>\n",
       "      <td>0.000</td>\n",
       "      <td>19900.000</td>\n",
       "      <td>3675.000</td>\n",
       "      <td>4.000</td>\n",
       "      <td>642.000</td>\n",
       "    </tr>\n",
       "    <tr>\n",
       "      <th>50%</th>\n",
       "      <td>401.670</td>\n",
       "      <td>3200.000</td>\n",
       "      <td>3561.000</td>\n",
       "      <td>3560.000</td>\n",
       "      <td>0.000</td>\n",
       "      <td>0.000</td>\n",
       "      <td>26000.000</td>\n",
       "      <td>4200.000</td>\n",
       "      <td>4.000</td>\n",
       "      <td>689.000</td>\n",
       "    </tr>\n",
       "    <tr>\n",
       "      <th>75%</th>\n",
       "      <td>1101.105</td>\n",
       "      <td>7400.000</td>\n",
       "      <td>3561.000</td>\n",
       "      <td>3560.000</td>\n",
       "      <td>0.000</td>\n",
       "      <td>0.000</td>\n",
       "      <td>35750.000</td>\n",
       "      <td>4980.500</td>\n",
       "      <td>5.000</td>\n",
       "      <td>760.000</td>\n",
       "    </tr>\n",
       "    <tr>\n",
       "      <th>max</th>\n",
       "      <td>31939.270</td>\n",
       "      <td>48100.000</td>\n",
       "      <td>5554.000</td>\n",
       "      <td>3560.000</td>\n",
       "      <td>17.000</td>\n",
       "      <td>10.000</td>\n",
       "      <td>178100.000</td>\n",
       "      <td>23828.000</td>\n",
       "      <td>7.000</td>\n",
       "      <td>842.000</td>\n",
       "    </tr>\n",
       "  </tbody>\n",
       "</table>\n",
       "</div>"
      ],
      "text/plain": [
       "       GRAND_TOTAL_BALANCE  TAX_MARKET_LAND   sa_days   fc_days  c_ovv_2yr  \\\n",
       "count             1447.000         1447.000  1447.000  1447.000   1447.000   \n",
       "mean              1434.977         5266.897  3354.021  3115.096      0.250   \n",
       "std               2977.661         5436.362   728.108   899.371      1.536   \n",
       "min                  0.000            0.000    20.000     6.000      0.000   \n",
       "25%                121.190         2400.000  3561.000  3282.000      0.000   \n",
       "50%                401.670         3200.000  3561.000  3560.000      0.000   \n",
       "75%               1101.105         7400.000  3561.000  3560.000      0.000   \n",
       "max              31939.270        48100.000  5554.000  3560.000     17.000   \n",
       "\n",
       "       pv_total     tmktval   propsize  condition_value14  median_rent  \n",
       "count  1447.000    1447.000   1447.000           1447.000     1447.000  \n",
       "mean      0.829   28914.651   4564.758              4.357      696.119  \n",
       "std       2.359   15793.979   1779.150              0.907       95.284  \n",
       "min       0.000       0.000   1404.000              0.000      467.000  \n",
       "25%       0.000   19900.000   3675.000              4.000      642.000  \n",
       "50%       0.000   26000.000   4200.000              4.000      689.000  \n",
       "75%       0.000   35750.000   4980.500              5.000      760.000  \n",
       "max      10.000  178100.000  23828.000              7.000      842.000  "
      ]
     },
     "execution_count": 24,
     "metadata": {},
     "output_type": "execute_result"
    }
   ],
   "source": [
    "test.loc[(test.SPA_NAME=='Glenville') & (test.vacant==0),cols].describe()"
   ]
  },
  {
   "cell_type": "code",
   "execution_count": 25,
   "metadata": {
    "collapsed": false
   },
   "outputs": [
    {
     "data": {
      "text/html": [
       "<div>\n",
       "<table border=\"1\" class=\"dataframe\">\n",
       "  <thead>\n",
       "    <tr style=\"text-align: right;\">\n",
       "      <th></th>\n",
       "      <th>GRAND_TOTAL_BALANCE</th>\n",
       "      <th>TAX_MARKET_LAND</th>\n",
       "      <th>sa_days</th>\n",
       "      <th>fc_days</th>\n",
       "      <th>c_ovv_2yr</th>\n",
       "      <th>pv_total</th>\n",
       "      <th>tmktval</th>\n",
       "      <th>propsize</th>\n",
       "      <th>condition_value14</th>\n",
       "      <th>median_rent</th>\n",
       "    </tr>\n",
       "  </thead>\n",
       "  <tbody>\n",
       "    <tr>\n",
       "      <th>count</th>\n",
       "      <td>331.000</td>\n",
       "      <td>331.000</td>\n",
       "      <td>331.000</td>\n",
       "      <td>331.000</td>\n",
       "      <td>331.000</td>\n",
       "      <td>331.000</td>\n",
       "      <td>331.000</td>\n",
       "      <td>331.000</td>\n",
       "      <td>331.000</td>\n",
       "      <td>331.000</td>\n",
       "    </tr>\n",
       "    <tr>\n",
       "      <th>mean</th>\n",
       "      <td>5958.032</td>\n",
       "      <td>4189.728</td>\n",
       "      <td>2905.752</td>\n",
       "      <td>2471.272</td>\n",
       "      <td>4.094</td>\n",
       "      <td>6.202</td>\n",
       "      <td>22650.151</td>\n",
       "      <td>4404.069</td>\n",
       "      <td>3.257</td>\n",
       "      <td>703.154</td>\n",
       "    </tr>\n",
       "    <tr>\n",
       "      <th>std</th>\n",
       "      <td>6516.697</td>\n",
       "      <td>3313.208</td>\n",
       "      <td>1054.537</td>\n",
       "      <td>1067.387</td>\n",
       "      <td>5.767</td>\n",
       "      <td>4.443</td>\n",
       "      <td>13195.197</td>\n",
       "      <td>1681.097</td>\n",
       "      <td>1.323</td>\n",
       "      <td>91.947</td>\n",
       "    </tr>\n",
       "    <tr>\n",
       "      <th>min</th>\n",
       "      <td>0.000</td>\n",
       "      <td>0.000</td>\n",
       "      <td>114.000</td>\n",
       "      <td>5.000</td>\n",
       "      <td>0.000</td>\n",
       "      <td>0.000</td>\n",
       "      <td>0.000</td>\n",
       "      <td>1360.000</td>\n",
       "      <td>0.000</td>\n",
       "      <td>467.000</td>\n",
       "    </tr>\n",
       "    <tr>\n",
       "      <th>25%</th>\n",
       "      <td>505.685</td>\n",
       "      <td>2350.000</td>\n",
       "      <td>2448.000</td>\n",
       "      <td>1621.500</td>\n",
       "      <td>0.000</td>\n",
       "      <td>0.000</td>\n",
       "      <td>14500.000</td>\n",
       "      <td>3500.000</td>\n",
       "      <td>2.000</td>\n",
       "      <td>642.000</td>\n",
       "    </tr>\n",
       "    <tr>\n",
       "      <th>50%</th>\n",
       "      <td>3316.470</td>\n",
       "      <td>3100.000</td>\n",
       "      <td>3561.000</td>\n",
       "      <td>2623.000</td>\n",
       "      <td>0.000</td>\n",
       "      <td>10.000</td>\n",
       "      <td>21000.000</td>\n",
       "      <td>4200.000</td>\n",
       "      <td>3.000</td>\n",
       "      <td>713.000</td>\n",
       "    </tr>\n",
       "    <tr>\n",
       "      <th>75%</th>\n",
       "      <td>9823.395</td>\n",
       "      <td>6300.000</td>\n",
       "      <td>3561.000</td>\n",
       "      <td>3560.000</td>\n",
       "      <td>6.000</td>\n",
       "      <td>10.000</td>\n",
       "      <td>28550.000</td>\n",
       "      <td>4880.000</td>\n",
       "      <td>4.000</td>\n",
       "      <td>760.000</td>\n",
       "    </tr>\n",
       "    <tr>\n",
       "      <th>max</th>\n",
       "      <td>32855.070</td>\n",
       "      <td>44900.000</td>\n",
       "      <td>5539.000</td>\n",
       "      <td>3560.000</td>\n",
       "      <td>38.000</td>\n",
       "      <td>10.000</td>\n",
       "      <td>85800.000</td>\n",
       "      <td>19380.000</td>\n",
       "      <td>6.000</td>\n",
       "      <td>842.000</td>\n",
       "    </tr>\n",
       "  </tbody>\n",
       "</table>\n",
       "</div>"
      ],
      "text/plain": [
       "       GRAND_TOTAL_BALANCE  TAX_MARKET_LAND   sa_days   fc_days  c_ovv_2yr  \\\n",
       "count              331.000          331.000   331.000   331.000    331.000   \n",
       "mean              5958.032         4189.728  2905.752  2471.272      4.094   \n",
       "std               6516.697         3313.208  1054.537  1067.387      5.767   \n",
       "min                  0.000            0.000   114.000     5.000      0.000   \n",
       "25%                505.685         2350.000  2448.000  1621.500      0.000   \n",
       "50%               3316.470         3100.000  3561.000  2623.000      0.000   \n",
       "75%               9823.395         6300.000  3561.000  3560.000      6.000   \n",
       "max              32855.070        44900.000  5539.000  3560.000     38.000   \n",
       "\n",
       "       pv_total    tmktval   propsize  condition_value14  median_rent  \n",
       "count   331.000    331.000    331.000            331.000      331.000  \n",
       "mean      6.202  22650.151   4404.069              3.257      703.154  \n",
       "std       4.443  13195.197   1681.097              1.323       91.947  \n",
       "min       0.000      0.000   1360.000              0.000      467.000  \n",
       "25%       0.000  14500.000   3500.000              2.000      642.000  \n",
       "50%      10.000  21000.000   4200.000              3.000      713.000  \n",
       "75%      10.000  28550.000   4880.000              4.000      760.000  \n",
       "max      10.000  85800.000  19380.000              6.000      842.000  "
      ]
     },
     "execution_count": 25,
     "metadata": {},
     "output_type": "execute_result"
    }
   ],
   "source": [
    "test.loc[(test.SPA_NAME=='Glenville')  & (test.vacant==1),cols].describe()"
   ]
  },
  {
   "cell_type": "code",
   "execution_count": 63,
   "metadata": {
    "collapsed": false
   },
   "outputs": [
    {
     "data": {
      "text/html": [
       "<div>\n",
       "<table border=\"1\" class=\"dataframe\">\n",
       "  <thead>\n",
       "    <tr style=\"text-align: right;\">\n",
       "      <th></th>\n",
       "      <th>GRAND_TOTAL_BALANCE</th>\n",
       "      <th>TAX_MARKET_LAND</th>\n",
       "      <th>sa_days</th>\n",
       "      <th>fc_days</th>\n",
       "      <th>c_ovv_2yr</th>\n",
       "      <th>pv_total</th>\n",
       "      <th>tmktval</th>\n",
       "      <th>propsize</th>\n",
       "      <th>condition_value14</th>\n",
       "      <th>median_rent</th>\n",
       "    </tr>\n",
       "  </thead>\n",
       "  <tbody>\n",
       "    <tr>\n",
       "      <th>count</th>\n",
       "      <td>82.000</td>\n",
       "      <td>82.000</td>\n",
       "      <td>82.000</td>\n",
       "      <td>82.000</td>\n",
       "      <td>82.000</td>\n",
       "      <td>82.00</td>\n",
       "      <td>82.000</td>\n",
       "      <td>82.000</td>\n",
       "      <td>82.000</td>\n",
       "      <td>82.000</td>\n",
       "    </tr>\n",
       "    <tr>\n",
       "      <th>mean</th>\n",
       "      <td>1692.079</td>\n",
       "      <td>4371.951</td>\n",
       "      <td>3172.427</td>\n",
       "      <td>2716.427</td>\n",
       "      <td>0.341</td>\n",
       "      <td>1.89</td>\n",
       "      <td>25024.390</td>\n",
       "      <td>4336.537</td>\n",
       "      <td>4.061</td>\n",
       "      <td>685.000</td>\n",
       "    </tr>\n",
       "    <tr>\n",
       "      <th>std</th>\n",
       "      <td>2468.612</td>\n",
       "      <td>2588.735</td>\n",
       "      <td>845.052</td>\n",
       "      <td>1167.445</td>\n",
       "      <td>1.619</td>\n",
       "      <td>3.33</td>\n",
       "      <td>14115.621</td>\n",
       "      <td>1262.745</td>\n",
       "      <td>0.986</td>\n",
       "      <td>104.163</td>\n",
       "    </tr>\n",
       "    <tr>\n",
       "      <th>min</th>\n",
       "      <td>0.000</td>\n",
       "      <td>0.000</td>\n",
       "      <td>240.000</td>\n",
       "      <td>13.000</td>\n",
       "      <td>0.000</td>\n",
       "      <td>0.00</td>\n",
       "      <td>400.000</td>\n",
       "      <td>1404.000</td>\n",
       "      <td>0.000</td>\n",
       "      <td>467.000</td>\n",
       "    </tr>\n",
       "    <tr>\n",
       "      <th>25%</th>\n",
       "      <td>276.000</td>\n",
       "      <td>2425.000</td>\n",
       "      <td>3013.750</td>\n",
       "      <td>1941.000</td>\n",
       "      <td>0.000</td>\n",
       "      <td>0.00</td>\n",
       "      <td>16075.000</td>\n",
       "      <td>3515.000</td>\n",
       "      <td>4.000</td>\n",
       "      <td>641.000</td>\n",
       "    </tr>\n",
       "    <tr>\n",
       "      <th>50%</th>\n",
       "      <td>582.730</td>\n",
       "      <td>3200.000</td>\n",
       "      <td>3561.000</td>\n",
       "      <td>3560.000</td>\n",
       "      <td>0.000</td>\n",
       "      <td>0.00</td>\n",
       "      <td>23750.000</td>\n",
       "      <td>4075.000</td>\n",
       "      <td>4.000</td>\n",
       "      <td>713.000</td>\n",
       "    </tr>\n",
       "    <tr>\n",
       "      <th>75%</th>\n",
       "      <td>1969.517</td>\n",
       "      <td>6300.000</td>\n",
       "      <td>3561.000</td>\n",
       "      <td>3560.000</td>\n",
       "      <td>0.000</td>\n",
       "      <td>2.00</td>\n",
       "      <td>31975.000</td>\n",
       "      <td>4860.000</td>\n",
       "      <td>5.000</td>\n",
       "      <td>760.000</td>\n",
       "    </tr>\n",
       "    <tr>\n",
       "      <th>max</th>\n",
       "      <td>11660.470</td>\n",
       "      <td>10600.000</td>\n",
       "      <td>5152.000</td>\n",
       "      <td>3560.000</td>\n",
       "      <td>10.000</td>\n",
       "      <td>10.00</td>\n",
       "      <td>82500.000</td>\n",
       "      <td>8450.000</td>\n",
       "      <td>6.000</td>\n",
       "      <td>842.000</td>\n",
       "    </tr>\n",
       "  </tbody>\n",
       "</table>\n",
       "</div>"
      ],
      "text/plain": [
       "       GRAND_TOTAL_BALANCE  TAX_MARKET_LAND   sa_days   fc_days  c_ovv_2yr  \\\n",
       "count               82.000           82.000    82.000    82.000     82.000   \n",
       "mean              1692.079         4371.951  3172.427  2716.427      0.341   \n",
       "std               2468.612         2588.735   845.052  1167.445      1.619   \n",
       "min                  0.000            0.000   240.000    13.000      0.000   \n",
       "25%                276.000         2425.000  3013.750  1941.000      0.000   \n",
       "50%                582.730         3200.000  3561.000  3560.000      0.000   \n",
       "75%               1969.517         6300.000  3561.000  3560.000      0.000   \n",
       "max              11660.470        10600.000  5152.000  3560.000     10.000   \n",
       "\n",
       "       pv_total    tmktval  propsize  condition_value14  median_rent  \n",
       "count     82.00     82.000    82.000             82.000       82.000  \n",
       "mean       1.89  25024.390  4336.537              4.061      685.000  \n",
       "std        3.33  14115.621  1262.745              0.986      104.163  \n",
       "min        0.00    400.000  1404.000              0.000      467.000  \n",
       "25%        0.00  16075.000  3515.000              4.000      641.000  \n",
       "50%        0.00  23750.000  4075.000              4.000      713.000  \n",
       "75%        2.00  31975.000  4860.000              5.000      760.000  \n",
       "max       10.00  82500.000  8450.000              6.000      842.000  "
      ]
     },
     "execution_count": 63,
     "metadata": {},
     "output_type": "execute_result"
    }
   ],
   "source": [
    "test.loc[(test.SPA_NAME=='Glenville')  & (test.vacant==1) & (test.preds==0),cols].describe()"
   ]
  },
  {
   "cell_type": "code",
   "execution_count": 64,
   "metadata": {
    "collapsed": false
   },
   "outputs": [
    {
     "data": {
      "text/html": [
       "<div>\n",
       "<table border=\"1\" class=\"dataframe\">\n",
       "  <thead>\n",
       "    <tr style=\"text-align: right;\">\n",
       "      <th></th>\n",
       "      <th>GRAND_TOTAL_BALANCE</th>\n",
       "      <th>TAX_MARKET_LAND</th>\n",
       "      <th>sa_days</th>\n",
       "      <th>fc_days</th>\n",
       "      <th>c_ovv_2yr</th>\n",
       "      <th>pv_total</th>\n",
       "      <th>tmktval</th>\n",
       "      <th>propsize</th>\n",
       "      <th>condition_value14</th>\n",
       "      <th>median_rent</th>\n",
       "    </tr>\n",
       "  </thead>\n",
       "  <tbody>\n",
       "    <tr>\n",
       "      <th>count</th>\n",
       "      <td>33.000</td>\n",
       "      <td>33.000</td>\n",
       "      <td>33.000</td>\n",
       "      <td>33.000</td>\n",
       "      <td>33.000</td>\n",
       "      <td>33.000</td>\n",
       "      <td>33.000</td>\n",
       "      <td>33.000</td>\n",
       "      <td>33.000</td>\n",
       "      <td>33.000</td>\n",
       "    </tr>\n",
       "    <tr>\n",
       "      <th>mean</th>\n",
       "      <td>7579.583</td>\n",
       "      <td>5696.970</td>\n",
       "      <td>2949.091</td>\n",
       "      <td>2699.485</td>\n",
       "      <td>6.061</td>\n",
       "      <td>7.788</td>\n",
       "      <td>28812.121</td>\n",
       "      <td>4696.848</td>\n",
       "      <td>3.576</td>\n",
       "      <td>706.727</td>\n",
       "    </tr>\n",
       "    <tr>\n",
       "      <th>std</th>\n",
       "      <td>5714.740</td>\n",
       "      <td>6199.571</td>\n",
       "      <td>922.573</td>\n",
       "      <td>1115.695</td>\n",
       "      <td>5.477</td>\n",
       "      <td>3.830</td>\n",
       "      <td>15588.553</td>\n",
       "      <td>1226.140</td>\n",
       "      <td>1.370</td>\n",
       "      <td>79.687</td>\n",
       "    </tr>\n",
       "    <tr>\n",
       "      <th>min</th>\n",
       "      <td>0.000</td>\n",
       "      <td>1900.000</td>\n",
       "      <td>253.000</td>\n",
       "      <td>55.000</td>\n",
       "      <td>0.000</td>\n",
       "      <td>0.000</td>\n",
       "      <td>2900.000</td>\n",
       "      <td>2800.000</td>\n",
       "      <td>0.000</td>\n",
       "      <td>467.000</td>\n",
       "    </tr>\n",
       "    <tr>\n",
       "      <th>25%</th>\n",
       "      <td>3178.760</td>\n",
       "      <td>2500.000</td>\n",
       "      <td>2614.000</td>\n",
       "      <td>2039.000</td>\n",
       "      <td>0.000</td>\n",
       "      <td>6.000</td>\n",
       "      <td>18800.000</td>\n",
       "      <td>4000.000</td>\n",
       "      <td>3.000</td>\n",
       "      <td>673.000</td>\n",
       "    </tr>\n",
       "    <tr>\n",
       "      <th>50%</th>\n",
       "      <td>6709.850</td>\n",
       "      <td>3100.000</td>\n",
       "      <td>3561.000</td>\n",
       "      <td>3449.000</td>\n",
       "      <td>5.000</td>\n",
       "      <td>10.000</td>\n",
       "      <td>26100.000</td>\n",
       "      <td>4400.000</td>\n",
       "      <td>4.000</td>\n",
       "      <td>713.000</td>\n",
       "    </tr>\n",
       "    <tr>\n",
       "      <th>75%</th>\n",
       "      <td>12203.820</td>\n",
       "      <td>7000.000</td>\n",
       "      <td>3561.000</td>\n",
       "      <td>3560.000</td>\n",
       "      <td>9.000</td>\n",
       "      <td>10.000</td>\n",
       "      <td>37900.000</td>\n",
       "      <td>5000.000</td>\n",
       "      <td>5.000</td>\n",
       "      <td>760.000</td>\n",
       "    </tr>\n",
       "    <tr>\n",
       "      <th>max</th>\n",
       "      <td>22566.770</td>\n",
       "      <td>36800.000</td>\n",
       "      <td>3561.000</td>\n",
       "      <td>3560.000</td>\n",
       "      <td>19.000</td>\n",
       "      <td>10.000</td>\n",
       "      <td>68400.000</td>\n",
       "      <td>7560.000</td>\n",
       "      <td>5.000</td>\n",
       "      <td>842.000</td>\n",
       "    </tr>\n",
       "  </tbody>\n",
       "</table>\n",
       "</div>"
      ],
      "text/plain": [
       "       GRAND_TOTAL_BALANCE  TAX_MARKET_LAND   sa_days   fc_days  c_ovv_2yr  \\\n",
       "count               33.000           33.000    33.000    33.000     33.000   \n",
       "mean              7579.583         5696.970  2949.091  2699.485      6.061   \n",
       "std               5714.740         6199.571   922.573  1115.695      5.477   \n",
       "min                  0.000         1900.000   253.000    55.000      0.000   \n",
       "25%               3178.760         2500.000  2614.000  2039.000      0.000   \n",
       "50%               6709.850         3100.000  3561.000  3449.000      5.000   \n",
       "75%              12203.820         7000.000  3561.000  3560.000      9.000   \n",
       "max              22566.770        36800.000  3561.000  3560.000     19.000   \n",
       "\n",
       "       pv_total    tmktval  propsize  condition_value14  median_rent  \n",
       "count    33.000     33.000    33.000             33.000       33.000  \n",
       "mean      7.788  28812.121  4696.848              3.576      706.727  \n",
       "std       3.830  15588.553  1226.140              1.370       79.687  \n",
       "min       0.000   2900.000  2800.000              0.000      467.000  \n",
       "25%       6.000  18800.000  4000.000              3.000      673.000  \n",
       "50%      10.000  26100.000  4400.000              4.000      713.000  \n",
       "75%      10.000  37900.000  5000.000              5.000      760.000  \n",
       "max      10.000  68400.000  7560.000              5.000      842.000  "
      ]
     },
     "execution_count": 64,
     "metadata": {},
     "output_type": "execute_result"
    }
   ],
   "source": [
    "test.loc[(test.SPA_NAME=='Glenville')  & (test.vacant==0) & (test.preds==1),cols].describe()"
   ]
  },
  {
   "cell_type": "code",
   "execution_count": 27,
   "metadata": {
    "collapsed": true
   },
   "outputs": [],
   "source": [
    "counts['missing_pct'] = counts['false_negative']/(counts['false_negative']+counts['true_positive'])"
   ]
  },
  {
   "cell_type": "code",
   "execution_count": 30,
   "metadata": {
    "collapsed": false
   },
   "outputs": [
    {
     "data": {
      "image/png": "[encoded data removed]",
      "text/plain": [
       "<matplotlib.figure.Figure at 0x11b2ae9e8>"
      ]
     },
     "metadata": {},
     "output_type": "display_data"
    }
   ],
   "source": [
    "# old brooklyn\n",
    "sns_plot = plt.figure()\n",
    "sns.distplot(test.loc[(test.SPA_NAME=='Old Brooklyn') & (test.vacant==1),'prob'], \\\n",
    "             bins=np.linspace(0,1,20), kde_kws={'bw':.02})\n",
    "sns.distplot(test[(test.SPA_NAME=='Old Brooklyn') & (test.vacant==0)]['prob'], \\\n",
    "             bins=np.linspace(0,1,20), kde_kws={'bw':.02})\n",
    "sns.distplot(test[(test.SPA_NAME=='Glenville') & (test.vacant==1)]['prob'], \\\n",
    "             bins=np.linspace(0,1,20), kde_kws={'bw':.02})\n",
    "sns.distplot(test[(test.SPA_NAME=='Glenville') & (test.vacant==0)]['prob'], \\\n",
    "             bins=np.linspace(0,1,20), kde_kws={'bw':.02})\n",
    "\n",
    "plt.axis([0,1,0,20])\n",
    "plt.legend(['Old Brooklyn (v)','Old Brooklyn (o)','Glenville (v)','Glenville (o)'])\n",
    "plt.title('Risk score');\n",
    "sns_plot.savefig(path+\"/outputs/vacant/prob_comp.png\")"
   ]
  },
  {
   "cell_type": "code",
   "execution_count": 31,
   "metadata": {
    "collapsed": false
   },
   "outputs": [
    {
     "data": {
      "image/png": "[encoded data removed]",
      "text/plain": [
       "<matplotlib.figure.Figure at 0x109edf588>"
      ]
     },
     "metadata": {},
     "output_type": "display_data"
    }
   ],
   "source": [
    "# old brooklyn\n",
    "sns_plot = plt.figure()\n",
    "sns.distplot(test[(test.SPA_NAME=='Old Brooklyn') & (test.vacant==1)].c_ovv_2yr, \\\n",
    "             bins=np.linspace(0,30,15), kde_kws={'bw':1.6}, norm_hist=True)\n",
    "sns.distplot(test[(test.SPA_NAME=='Old Brooklyn') & (test.vacant==0)].c_ovv_2yr, \\\n",
    "             bins=np.linspace(0,30,15), kde_kws={'bw':1.6}, norm_hist=True)\n",
    "sns.distplot(test[(test.SPA_NAME=='Glenville') & (test.vacant==1)].c_ovv_2yr, \\\n",
    "             bins=np.linspace(0,30,15), kde_kws={'bw':1.6}, norm_hist=True)\n",
    "sns.distplot(test[(test.SPA_NAME=='Glenville') & (test.vacant==0)].c_ovv_2yr, \\\n",
    "             bins=np.linspace(0,30,15), kde_kws={'bw':1.6}, norm_hist=True)\n",
    "\n",
    "plt.axis([0,30,0,0.5])\n",
    "plt.legend(['Old Brooklyn (v)','Old Brooklyn (o)','Glenville (v)','Glenville (o)'])\n",
    "plt.title('c_ovv_2yr');\n",
    "sns_plot.savefig(path+\"/outputs/vacant/c_ovv_2yr_comp.png\")"
   ]
  },
  {
   "cell_type": "code",
   "execution_count": 32,
   "metadata": {
    "collapsed": false
   },
   "outputs": [
    {
     "data": {
      "image/png": "[encoded data removed]",
      "text/plain": [
       "<matplotlib.figure.Figure at 0x10b41fcf8>"
      ]
     },
     "metadata": {},
     "output_type": "display_data"
    }
   ],
   "source": [
    "sns_plot = plt.figure()\n",
    "sns.distplot(test[(test.SPA_NAME=='Old Brooklyn') & (test.vacant==1)].tmktval, \\\n",
    "             bins=np.linspace(0,130000,40), kde_kws={'bw':2500}, norm_hist=True)\n",
    "sns.distplot(test[(test.SPA_NAME=='Old Brooklyn') & (test.vacant==0)].tmktval, \\\n",
    "             bins=np.linspace(0,130000,40), kde_kws={'bw':2500}, norm_hist=True)\n",
    "sns.distplot(test[(test.SPA_NAME=='Glenville') & (test.vacant==1)].tmktval, \\\n",
    "             bins=np.linspace(0,130000,40), kde_kws={'bw':2500}, norm_hist=True)\n",
    "sns.distplot(test[(test.SPA_NAME=='Glenville') & (test.vacant==0)].tmktval, \\\n",
    "             bins=np.linspace(0,130000,40), kde_kws={'bw':2500}, norm_hist=True)\n",
    "\n",
    "plt.axis([0,130000,0,0.00005])\n",
    "plt.legend(['Old Brooklyn (v)','Old Brooklyn (o)','Glenville (v)','Glenville (o)'])\n",
    "plt.title('tmktval');\n",
    "sns_plot.savefig(path+\"/outputs/vacant/tmktval_comp.png\")"
   ]
  },
  {
   "cell_type": "code",
   "execution_count": 33,
   "metadata": {
    "collapsed": false
   },
   "outputs": [
    {
     "data": {
      "image/png": "[encoded data removed]",
      "text/plain": [
       "<matplotlib.figure.Figure at 0x10cabfa90>"
      ]
     },
     "metadata": {},
     "output_type": "display_data"
    }
   ],
   "source": [
    "sns_plot = plt.figure()\n",
    "\n",
    "sns.distplot(test[(test.SPA_NAME=='Old Brooklyn') & (test.vacant==1)].condition_value14, \\\n",
    "             bins=np.linspace(0,10,11), kde_kws={'bw':0.5}, norm_hist=True)\n",
    "sns.distplot(test[(test.SPA_NAME=='Old Brooklyn') & (test.vacant==0)].condition_value14, \\\n",
    "             bins=np.linspace(0,10,11), kde_kws={'bw':0.5}, norm_hist=True)\n",
    "sns.distplot(test[(test.SPA_NAME=='Glenville') & (test.vacant==1)].condition_value14, \\\n",
    "             bins=np.linspace(0,10,11), kde_kws={'bw':0.5}, norm_hist=True)\n",
    "sns.distplot(test[(test.SPA_NAME=='Glenville') & (test.vacant==0)].condition_value14, \\\n",
    "             bins=np.linspace(0,10,11), kde_kws={'bw':0.5}, norm_hist=True)\n",
    "\n",
    "plt.axis([0,9,0,0.85])\n",
    "plt.legend(['Old Brooklyn (v)','Old Brooklyn (o)','Glenville (v)','Glenville (o)'])\n",
    "plt.title('condition_value14');\n",
    "\n",
    "sns_plot.savefig(path+\"/outputs/vacant/condition_value14_comp.png\")"
   ]
  },
  {
   "cell_type": "code",
   "execution_count": 34,
   "metadata": {
    "collapsed": false
   },
   "outputs": [
    {
     "data": {
      "image/png": "[encoded data removed]",
      "text/plain": [
       "<matplotlib.figure.Figure at 0x10d54cbe0>"
      ]
     },
     "metadata": {},
     "output_type": "display_data"
    }
   ],
   "source": [
    "sns_plot = plt.figure()\n",
    "\n",
    "sns.distplot(test[(test.SPA_NAME=='Old Brooklyn') & (test.vacant==1)].pv_total, \\\n",
    "             bins=np.linspace(0,30,15), kde_kws={'bw':1}, norm_hist=True)\n",
    "sns.distplot(test[(test.SPA_NAME=='Old Brooklyn') & (test.vacant==0)].pv_total, \\\n",
    "             bins=np.linspace(0,30,15), kde_kws={'bw':1}, norm_hist=True)\n",
    "sns.distplot(test[(test.SPA_NAME=='Glenville') & (test.vacant==1)].pv_total, \\\n",
    "             bins=np.linspace(0,30,15), kde_kws={'bw':1}, norm_hist=True)\n",
    "sns.distplot(test[(test.SPA_NAME=='Glenville') & (test.vacant==0)].pv_total, \\\n",
    "             bins=np.linspace(0,30,15), kde_kws={'bw':1}, norm_hist=True)\n",
    "\n",
    "plt.axis([0,12,0,0.5])\n",
    "plt.legend(['Old Brooklyn (v)','Old Brooklyn (o)','Glenville (v)','Glenville (o)'])\n",
    "plt.title('pv_total');\n",
    "\n",
    "sns_plot.savefig(path+\"/outputs/vacant/pv_total_comp.png\")"
   ]
  },
  {
   "cell_type": "code",
   "execution_count": 35,
   "metadata": {
    "collapsed": false
   },
   "outputs": [
    {
     "data": {
      "image/png": "[encoded data removed]",
      "text/plain": [
       "<matplotlib.figure.Figure at 0x11a81f710>"
      ]
     },
     "metadata": {},
     "output_type": "display_data"
    }
   ],
   "source": [
    "sns_plot = plt.figure()\n",
    "sns.distplot(test[(test.SPA_NAME=='Old Brooklyn') & (test.vacant==1)].GRAND_TOTAL_BALANCE, \\\n",
    "             bins=np.linspace(0,50000,40), kde_kws={'bw':550}, norm_hist=True)\n",
    "sns.distplot(test[(test.SPA_NAME=='Old Brooklyn') & (test.vacant==0)].GRAND_TOTAL_BALANCE, \\\n",
    "             bins=np.linspace(0,50000,40), kde_kws={'bw':550}, norm_hist=True)\n",
    "sns.distplot(test[(test.SPA_NAME=='Glenville') & (test.vacant==1)].GRAND_TOTAL_BALANCE, \\\n",
    "             bins=np.linspace(0,50000,40), kde_kws={'bw':550}, norm_hist=True)\n",
    "sns.distplot(test[(test.SPA_NAME=='Glenville') & (test.vacant==0)].GRAND_TOTAL_BALANCE, \\\n",
    "             bins=np.linspace(0,50000,40), kde_kws={'bw':550}, norm_hist=True)\n",
    "\n",
    "plt.axis([0,50000,0,0.0007])\n",
    "plt.legend(['Old Brooklyn (v)','Old Brooklyn (o)','Glenville (v)','Glenville (o)'])\n",
    "plt.title('GRAND_TOTAL_BALANCE');\n",
    "sns_plot.savefig(path+\"/outputs/vacant/grand_comp.png\")"
   ]
  },
  {
   "cell_type": "code",
   "execution_count": 36,
   "metadata": {
    "collapsed": false
   },
   "outputs": [
    {
     "data": {
      "text/html": [
       "<div>\n",
       "<table border=\"1\" class=\"dataframe\">\n",
       "  <thead>\n",
       "    <tr style=\"text-align: right;\">\n",
       "      <th></th>\n",
       "      <th>false_negative</th>\n",
       "      <th>true_positive</th>\n",
       "      <th>false_positive</th>\n",
       "      <th>number</th>\n",
       "      <th>ratio</th>\n",
       "      <th>missing_pct</th>\n",
       "    </tr>\n",
       "    <tr>\n",
       "      <th>SPA_NAME</th>\n",
       "      <th></th>\n",
       "      <th></th>\n",
       "      <th></th>\n",
       "      <th></th>\n",
       "      <th></th>\n",
       "      <th></th>\n",
       "    </tr>\n",
       "  </thead>\n",
       "  <tbody>\n",
       "    <tr>\n",
       "      <th>University</th>\n",
       "      <td>5</td>\n",
       "      <td>0</td>\n",
       "      <td>1</td>\n",
       "      <td>107</td>\n",
       "      <td>0.000</td>\n",
       "      <td>1.000</td>\n",
       "    </tr>\n",
       "    <tr>\n",
       "      <th>Ohio City</th>\n",
       "      <td>17</td>\n",
       "      <td>2</td>\n",
       "      <td>1</td>\n",
       "      <td>349</td>\n",
       "      <td>0.118</td>\n",
       "      <td>0.895</td>\n",
       "    </tr>\n",
       "    <tr>\n",
       "      <th>Edgewater</th>\n",
       "      <td>8</td>\n",
       "      <td>1</td>\n",
       "      <td>0</td>\n",
       "      <td>235</td>\n",
       "      <td>0.125</td>\n",
       "      <td>0.889</td>\n",
       "    </tr>\n",
       "    <tr>\n",
       "      <th>Kamm's</th>\n",
       "      <td>32</td>\n",
       "      <td>4</td>\n",
       "      <td>1</td>\n",
       "      <td>1877</td>\n",
       "      <td>0.125</td>\n",
       "      <td>0.889</td>\n",
       "    </tr>\n",
       "    <tr>\n",
       "      <th>Jefferson</th>\n",
       "      <td>34</td>\n",
       "      <td>5</td>\n",
       "      <td>4</td>\n",
       "      <td>1294</td>\n",
       "      <td>0.147</td>\n",
       "      <td>0.872</td>\n",
       "    </tr>\n",
       "    <tr>\n",
       "      <th>Old Brooklyn</th>\n",
       "      <td>48</td>\n",
       "      <td>9</td>\n",
       "      <td>9</td>\n",
       "      <td>2208</td>\n",
       "      <td>0.188</td>\n",
       "      <td>0.842</td>\n",
       "    </tr>\n",
       "    <tr>\n",
       "      <th>Clark-Fulton</th>\n",
       "      <td>25</td>\n",
       "      <td>5</td>\n",
       "      <td>5</td>\n",
       "      <td>416</td>\n",
       "      <td>0.200</td>\n",
       "      <td>0.833</td>\n",
       "    </tr>\n",
       "    <tr>\n",
       "      <th>Goodrich-Kirtland Pk</th>\n",
       "      <td>5</td>\n",
       "      <td>1</td>\n",
       "      <td>0</td>\n",
       "      <td>160</td>\n",
       "      <td>0.200</td>\n",
       "      <td>0.833</td>\n",
       "    </tr>\n",
       "    <tr>\n",
       "      <th>Lee-Harvard</th>\n",
       "      <td>34</td>\n",
       "      <td>7</td>\n",
       "      <td>10</td>\n",
       "      <td>914</td>\n",
       "      <td>0.206</td>\n",
       "      <td>0.829</td>\n",
       "    </tr>\n",
       "    <tr>\n",
       "      <th>Tremont</th>\n",
       "      <td>12</td>\n",
       "      <td>3</td>\n",
       "      <td>2</td>\n",
       "      <td>374</td>\n",
       "      <td>0.250</td>\n",
       "      <td>0.800</td>\n",
       "    </tr>\n",
       "    <tr>\n",
       "      <th>Central</th>\n",
       "      <td>7</td>\n",
       "      <td>2</td>\n",
       "      <td>1</td>\n",
       "      <td>127</td>\n",
       "      <td>0.286</td>\n",
       "      <td>0.778</td>\n",
       "    </tr>\n",
       "    <tr>\n",
       "      <th>Bellaire-Puritas</th>\n",
       "      <td>24</td>\n",
       "      <td>7</td>\n",
       "      <td>5</td>\n",
       "      <td>1032</td>\n",
       "      <td>0.292</td>\n",
       "      <td>0.774</td>\n",
       "    </tr>\n",
       "    <tr>\n",
       "      <th>Brooklyn Centre</th>\n",
       "      <td>19</td>\n",
       "      <td>7</td>\n",
       "      <td>4</td>\n",
       "      <td>468</td>\n",
       "      <td>0.368</td>\n",
       "      <td>0.731</td>\n",
       "    </tr>\n",
       "    <tr>\n",
       "      <th>Detroit Shoreway</th>\n",
       "      <td>32</td>\n",
       "      <td>12</td>\n",
       "      <td>3</td>\n",
       "      <td>543</td>\n",
       "      <td>0.375</td>\n",
       "      <td>0.727</td>\n",
       "    </tr>\n",
       "    <tr>\n",
       "      <th>Lee-Seville</th>\n",
       "      <td>20</td>\n",
       "      <td>9</td>\n",
       "      <td>4</td>\n",
       "      <td>406</td>\n",
       "      <td>0.450</td>\n",
       "      <td>0.690</td>\n",
       "    </tr>\n",
       "    <tr>\n",
       "      <th>Cudell</th>\n",
       "      <td>27</td>\n",
       "      <td>13</td>\n",
       "      <td>3</td>\n",
       "      <td>444</td>\n",
       "      <td>0.481</td>\n",
       "      <td>0.675</td>\n",
       "    </tr>\n",
       "    <tr>\n",
       "      <th>West Boulevard</th>\n",
       "      <td>32</td>\n",
       "      <td>16</td>\n",
       "      <td>4</td>\n",
       "      <td>1075</td>\n",
       "      <td>0.500</td>\n",
       "      <td>0.667</td>\n",
       "    </tr>\n",
       "    <tr>\n",
       "      <th>North Shore Collinwood</th>\n",
       "      <td>31</td>\n",
       "      <td>16</td>\n",
       "      <td>10</td>\n",
       "      <td>864</td>\n",
       "      <td>0.516</td>\n",
       "      <td>0.660</td>\n",
       "    </tr>\n",
       "    <tr>\n",
       "      <th>Stockyards</th>\n",
       "      <td>16</td>\n",
       "      <td>10</td>\n",
       "      <td>5</td>\n",
       "      <td>537</td>\n",
       "      <td>0.625</td>\n",
       "      <td>0.615</td>\n",
       "    </tr>\n",
       "    <tr>\n",
       "      <th>Union-Miles</th>\n",
       "      <td>109</td>\n",
       "      <td>105</td>\n",
       "      <td>29</td>\n",
       "      <td>1416</td>\n",
       "      <td>0.963</td>\n",
       "      <td>0.509</td>\n",
       "    </tr>\n",
       "    <tr>\n",
       "      <th>Broadway-Slavic Village</th>\n",
       "      <td>125</td>\n",
       "      <td>127</td>\n",
       "      <td>32</td>\n",
       "      <td>1469</td>\n",
       "      <td>1.016</td>\n",
       "      <td>0.496</td>\n",
       "    </tr>\n",
       "    <tr>\n",
       "      <th>Buckeye-Shaker Square</th>\n",
       "      <td>23</td>\n",
       "      <td>24</td>\n",
       "      <td>5</td>\n",
       "      <td>544</td>\n",
       "      <td>1.043</td>\n",
       "      <td>0.489</td>\n",
       "    </tr>\n",
       "    <tr>\n",
       "      <th>Fairfax</th>\n",
       "      <td>20</td>\n",
       "      <td>22</td>\n",
       "      <td>5</td>\n",
       "      <td>316</td>\n",
       "      <td>1.100</td>\n",
       "      <td>0.476</td>\n",
       "    </tr>\n",
       "    <tr>\n",
       "      <th>Mount Pleasant</th>\n",
       "      <td>81</td>\n",
       "      <td>90</td>\n",
       "      <td>32</td>\n",
       "      <td>1166</td>\n",
       "      <td>1.111</td>\n",
       "      <td>0.474</td>\n",
       "    </tr>\n",
       "    <tr>\n",
       "      <th>Kinsman</th>\n",
       "      <td>31</td>\n",
       "      <td>37</td>\n",
       "      <td>7</td>\n",
       "      <td>348</td>\n",
       "      <td>1.194</td>\n",
       "      <td>0.456</td>\n",
       "    </tr>\n",
       "    <tr>\n",
       "      <th>Collinwood-Nottingham</th>\n",
       "      <td>41</td>\n",
       "      <td>51</td>\n",
       "      <td>13</td>\n",
       "      <td>703</td>\n",
       "      <td>1.244</td>\n",
       "      <td>0.446</td>\n",
       "    </tr>\n",
       "    <tr>\n",
       "      <th>St.Clair-Superior</th>\n",
       "      <td>32</td>\n",
       "      <td>54</td>\n",
       "      <td>9</td>\n",
       "      <td>395</td>\n",
       "      <td>1.688</td>\n",
       "      <td>0.372</td>\n",
       "    </tr>\n",
       "    <tr>\n",
       "      <th>Glenville</th>\n",
       "      <td>123</td>\n",
       "      <td>208</td>\n",
       "      <td>51</td>\n",
       "      <td>1778</td>\n",
       "      <td>1.691</td>\n",
       "      <td>0.372</td>\n",
       "    </tr>\n",
       "    <tr>\n",
       "      <th>Hough</th>\n",
       "      <td>30</td>\n",
       "      <td>52</td>\n",
       "      <td>14</td>\n",
       "      <td>477</td>\n",
       "      <td>1.733</td>\n",
       "      <td>0.366</td>\n",
       "    </tr>\n",
       "    <tr>\n",
       "      <th>Euclid-Green</th>\n",
       "      <td>12</td>\n",
       "      <td>22</td>\n",
       "      <td>4</td>\n",
       "      <td>316</td>\n",
       "      <td>1.833</td>\n",
       "      <td>0.353</td>\n",
       "    </tr>\n",
       "    <tr>\n",
       "      <th>Buckeye-Woodhill</th>\n",
       "      <td>17</td>\n",
       "      <td>36</td>\n",
       "      <td>7</td>\n",
       "      <td>288</td>\n",
       "      <td>2.118</td>\n",
       "      <td>0.321</td>\n",
       "    </tr>\n",
       "  </tbody>\n",
       "</table>\n",
       "</div>"
      ],
      "text/plain": [
       "                         false_negative  true_positive  false_positive  \\\n",
       "SPA_NAME                                                                 \n",
       "University                            5              0               1   \n",
       "Ohio City                            17              2               1   \n",
       "Edgewater                             8              1               0   \n",
       "Kamm's                               32              4               1   \n",
       "Jefferson                            34              5               4   \n",
       "Old Brooklyn                         48              9               9   \n",
       "Clark-Fulton                         25              5               5   \n",
       "Goodrich-Kirtland Pk                  5              1               0   \n",
       "Lee-Harvard                          34              7              10   \n",
       "Tremont                              12              3               2   \n",
       "Central                               7              2               1   \n",
       "Bellaire-Puritas                     24              7               5   \n",
       "Brooklyn Centre                      19              7               4   \n",
       "Detroit Shoreway                     32             12               3   \n",
       "Lee-Seville                          20              9               4   \n",
       "Cudell                               27             13               3   \n",
       "West Boulevard                       32             16               4   \n",
       "North Shore Collinwood               31             16              10   \n",
       "Stockyards                           16             10               5   \n",
       "Union-Miles                         109            105              29   \n",
       "Broadway-Slavic Village             125            127              32   \n",
       "Buckeye-Shaker Square                23             24               5   \n",
       "Fairfax                              20             22               5   \n",
       "Mount Pleasant                       81             90              32   \n",
       "Kinsman                              31             37               7   \n",
       "Collinwood-Nottingham                41             51              13   \n",
       "St.Clair-Superior                    32             54               9   \n",
       "Glenville                           123            208              51   \n",
       "Hough                                30             52              14   \n",
       "Euclid-Green                         12             22               4   \n",
       "Buckeye-Woodhill                     17             36               7   \n",
       "\n",
       "                         number  ratio  missing_pct  \n",
       "SPA_NAME                                             \n",
       "University                  107  0.000        1.000  \n",
       "Ohio City                   349  0.118        0.895  \n",
       "Edgewater                   235  0.125        0.889  \n",
       "Kamm's                     1877  0.125        0.889  \n",
       "Jefferson                  1294  0.147        0.872  \n",
       "Old Brooklyn               2208  0.188        0.842  \n",
       "Clark-Fulton                416  0.200        0.833  \n",
       "Goodrich-Kirtland Pk        160  0.200        0.833  \n",
       "Lee-Harvard                 914  0.206        0.829  \n",
       "Tremont                     374  0.250        0.800  \n",
       "Central                     127  0.286        0.778  \n",
       "Bellaire-Puritas           1032  0.292        0.774  \n",
       "Brooklyn Centre             468  0.368        0.731  \n",
       "Detroit Shoreway            543  0.375        0.727  \n",
       "Lee-Seville                 406  0.450        0.690  \n",
       "Cudell                      444  0.481        0.675  \n",
       "West Boulevard             1075  0.500        0.667  \n",
       "North Shore Collinwood      864  0.516        0.660  \n",
       "Stockyards                  537  0.625        0.615  \n",
       "Union-Miles                1416  0.963        0.509  \n",
       "Broadway-Slavic Village    1469  1.016        0.496  \n",
       "Buckeye-Shaker Square       544  1.043        0.489  \n",
       "Fairfax                     316  1.100        0.476  \n",
       "Mount Pleasant             1166  1.111        0.474  \n",
       "Kinsman                     348  1.194        0.456  \n",
       "Collinwood-Nottingham       703  1.244        0.446  \n",
       "St.Clair-Superior           395  1.688        0.372  \n",
       "Glenville                  1778  1.691        0.372  \n",
       "Hough                       477  1.733        0.366  \n",
       "Euclid-Green                316  1.833        0.353  \n",
       "Buckeye-Woodhill            288  2.118        0.321  "
      ]
     },
     "execution_count": 36,
     "metadata": {},
     "output_type": "execute_result"
    }
   ],
   "source": [
    "counts.sort_values('missing_pct', ascending=False)"
   ]
  },
  {
   "cell_type": "code",
   "execution_count": 37,
   "metadata": {
    "collapsed": true
   },
   "outputs": [],
   "source": [
    "# 1. feature 48, c_ovv_2yr (0.291295)\n",
    "# 2. feature 45, pv_total (0.123032)\n",
    "# 3. feature 57, GRAND_TOTAL_BALANCE (0.076631)\n",
    "# 4. feature 17, condition_value14 (0.043401)\n",
    "# 5. feature 15, tmktval (0.030920)\n",
    "# 6. feature 54, sa_days (0.030771)\n",
    "# 7. feature 14, totusabl (0.029601)\n",
    "# 8. feature 39, al_days (0.027017)\n",
    "# 9. feature 58, GRAND_TOTAL_BALANCE_14 (0.026274)\n",
    "# 10. feature 53, fc_days (0.023580)"
   ]
  },
  {
   "cell_type": "code",
   "execution_count": 38,
   "metadata": {
    "collapsed": false
   },
   "outputs": [
    {
     "data": {
      "image/png": "[encoded data removed]",
      "text/plain": [
       "<matplotlib.figure.Figure at 0x11c8bef98>"
      ]
     },
     "metadata": {},
     "output_type": "display_data"
    }
   ],
   "source": [
    "sns_plot = plt.figure()\n",
    "sns.distplot(test[(test.vacant==1) & (test.preds==0)].tmktval.values, bins = np.linspace(0,120000,20), norm_hist=True);\n",
    "sns.distplot(test[(test.vacant==1) & (test.preds==1)].tmktval.values, bins = np.linspace(0,120000,20), norm_hist=True);\n",
    "sns.distplot(test[(test.vacant==0) & (test.preds==0)].tmktval.values, bins = np.linspace(0,120000,20), norm_hist=True);\n",
    "sns.distplot(test[(test.vacant==0) & (test.preds==1)].tmktval.values, bins = np.linspace(0,120000,20), norm_hist=True);\n",
    "plt.axis([0,120000,0,0.00003])\n",
    "plt.legend(['False negative','True positive','True negative','False positive'])\n",
    "plt.title('Frequency of tmktval');\n",
    "sns_plot.savefig(path+\"/outputs/vacant/tmktval.png\")"
   ]
  },
  {
   "cell_type": "code",
   "execution_count": 39,
   "metadata": {
    "collapsed": false
   },
   "outputs": [
    {
     "data": {
      "image/png": "[encoded data removed]",
      "text/plain": [
       "<matplotlib.figure.Figure at 0x10ca65710>"
      ]
     },
     "metadata": {},
     "output_type": "display_data"
    }
   ],
   "source": [
    "sns_plot = plt.figure()\n",
    "sns.distplot(test[(test.vacant==1) & (test.preds==0)].condition_value14.values, bins = np.linspace(0,8,9), kde_kws={'bw':.6}, norm_hist=True);\n",
    "sns.distplot(test[(test.vacant==1) & (test.preds==1)].condition_value14.values, bins = np.linspace(0,8,9), kde_kws={'bw':.6}, norm_hist=True);\n",
    "sns.distplot(test[(test.vacant==0) & (test.preds==0)].condition_value14.values, bins = np.linspace(0,8,9), kde_kws={'bw':.6}, norm_hist=True);\n",
    "sns.distplot(test[(test.vacant==0) & (test.preds==1)].condition_value14.values, bins = np.linspace(0,8,9), kde_kws={'bw':.6}, norm_hist=True);\n",
    "plt.axis([0,9,0,0.7]);\n",
    "plt.legend(['False negative','True positive','True negative','False positive'],loc='upper left');\n",
    "plt.title('Frequency of condition_value14');\n",
    "sns_plot.savefig(path+\"/outputs/vacant/condition_value14.png\")"
   ]
  },
  {
   "cell_type": "code",
   "execution_count": 40,
   "metadata": {
    "collapsed": false
   },
   "outputs": [
    {
     "data": {
      "image/png": "[encoded data removed]",
      "text/plain": [
       "<matplotlib.figure.Figure at 0x10b8810f0>"
      ]
     },
     "metadata": {},
     "output_type": "display_data"
    }
   ],
   "source": [
    "sns_plot = plt.figure()\n",
    "sns.distplot(test[(test.vacant==1) & (test.preds==0)].propsize.values, kde_kws={'bw':200}, bins = np.linspace(0,15000,25), norm_hist=True);\n",
    "sns.distplot(test[(test.vacant==1) & (test.preds==1)].propsize.values, kde_kws={'bw':200}, bins = np.linspace(0,15000,25), norm_hist=True);\n",
    "sns.distplot(test[(test.vacant==0) & (test.preds==0)].propsize.values, kde_kws={'bw':200},bins = np.linspace(0,15000,25), norm_hist=True);\n",
    "sns.distplot(test[(test.vacant==0) & (test.preds==1)].propsize.values, kde_kws={'bw':200},bins = np.linspace(0,15000,25), norm_hist=True);\n",
    "\n",
    "plt.legend(['False negative','True positive','True negative','False positive'],loc='upper right');\n",
    "plt.axis([0,15000,0,0.00055])\n",
    "plt.title('Frequency of propsize');\n",
    "sns_plot.savefig(path+\"/outputs/vacant/propsize.png\")"
   ]
  },
  {
   "cell_type": "code",
   "execution_count": 41,
   "metadata": {
    "collapsed": false
   },
   "outputs": [
    {
     "data": {
      "image/png": "[encoded data removed]",
      "text/plain": [
       "<matplotlib.figure.Figure at 0x117df1b38>"
      ]
     },
     "metadata": {},
     "output_type": "display_data"
    }
   ],
   "source": [
    "sns_plot = plt.figure()\n",
    "sns.distplot(test[(test.vacant==1) & (test.preds==0)].GRAND_TOTAL_BALANCE.values, kde_kws={'bw':800}, bins = np.linspace(0,40000,25), norm_hist=True);\n",
    "sns.distplot(test[(test.vacant==1) & (test.preds==1)].GRAND_TOTAL_BALANCE.values, kde_kws={'bw':800}, bins = np.linspace(0,40000,25), norm_hist=True);\n",
    "sns.distplot(test[(test.vacant==0) & (test.preds==0)].GRAND_TOTAL_BALANCE.values, kde_kws={'bw':800},bins = np.linspace(0,40000,25), norm_hist=True);\n",
    "sns.distplot(test[(test.vacant==0) & (test.preds==1)].GRAND_TOTAL_BALANCE.values, kde_kws={'bw':800},bins = np.linspace(0,40000,25), norm_hist=True);\n",
    "\n",
    "plt.legend(['False negative','True positive','True negative','False positive'],loc='upper right');\n",
    "plt.axis([0,30000,0,0.00055])\n",
    "plt.title('Frequency of GRAND_TOTAL_BALANCE');\n",
    "sns_plot.savefig(path+\"/outputs/vacant/grand_total_balance.png\")"
   ]
  },
  {
   "cell_type": "code",
   "execution_count": 42,
   "metadata": {
    "collapsed": false
   },
   "outputs": [
    {
     "data": {
      "image/png": "[encoded data removed]",
      "text/plain": [
       "<matplotlib.figure.Figure at 0x10adc4a58>"
      ]
     },
     "metadata": {},
     "output_type": "display_data"
    }
   ],
   "source": [
    "sns_plot = plt.figure()\n",
    "sns.distplot(test[(test.vacant==1) & (test.preds==0)].pv_total.values, bins = np.linspace(0,10,11), kde_kws={'bw':0.5}, norm_hist=True);\n",
    "sns.distplot(test[(test.vacant==1) & (test.preds==1)].pv_total.values, bins = np.linspace(0,10,11), kde_kws={'bw':0.5}, norm_hist=True);\n",
    "sns.distplot(test[(test.vacant==0) & (test.preds==0)].pv_total.values, bins = np.linspace(0,10,11), kde_kws={'bw':0.5}, norm_hist=True);\n",
    "sns.distplot(test[(test.vacant==0) & (test.preds==1)].pv_total.values, bins = np.linspace(0,10,11), kde_kws={'bw':0.5}, norm_hist=True);\n",
    "\n",
    "plt.legend(['False negative','True positive','True negative','False positive'],loc='upper right');\n",
    "plt.axis([0,10,0,1])\n",
    "\n",
    "plt.title('Frequency of pv_total');\n",
    "sns_plot.savefig(path+\"/outputs/vacant/pv.png\")"
   ]
  },
  {
   "cell_type": "code",
   "execution_count": 43,
   "metadata": {
    "collapsed": false
   },
   "outputs": [
    {
     "data": {
      "image/png": "[encoded data removed]",
      "text/plain": [
       "<matplotlib.figure.Figure at 0x10d5220b8>"
      ]
     },
     "metadata": {},
     "output_type": "display_data"
    }
   ],
   "source": [
    "sns_plot = plt.figure()\n",
    "sns.distplot(test[(test.vacant==1) & (test.preds==0)].c_ovv_2yr.values, bins = np.linspace(0,40,20), kde_kws={'bw':1.1}, norm_hist=True);\n",
    "sns.distplot(test[(test.vacant==1) & (test.preds==1)].c_ovv_2yr.values, bins = np.linspace(0,40,20), kde_kws={'bw':1.1}, norm_hist=True);\n",
    "sns.distplot(test[(test.vacant==0) & (test.preds==0)].c_ovv_2yr.values, bins = np.linspace(0,40,20), kde_kws={'bw':1.1}, norm_hist=True);\n",
    "sns.distplot(test[(test.vacant==0) & (test.preds==1)].c_ovv_2yr.values, bins = np.linspace(0,40,20), kde_kws={'bw':1.1}, norm_hist=True);\n",
    "plt.legend(['False negative','True positive','True negative','False positive'],loc='upper right');\n",
    "plt.title('Frequency of c_ovv_2yr');\n",
    "plt.axis([0,30,0,0.5])\n",
    "\n",
    "sns_plot.savefig(path+\"/outputs/vacant/ovv.png\")"
   ]
  },
  {
   "cell_type": "code",
   "execution_count": 18,
   "metadata": {
    "collapsed": false
   },
   "outputs": [
    {
     "name": "stdout",
     "output_type": "stream",
     "text": [
      "col_0       0     1\n",
      "vacant             \n",
      "0       20110   547\n",
      "1         896  1134\n"
     ]
    }
   ],
   "source": [
    "rfc = RandomForestClassifier(n_estimators=50, min_samples_leaf=9, min_samples_split=2, \\\n",
    "                                 class_weight={0:1, 1:3}, \\\n",
    "                                 max_features=None, random_state=0, max_depth=40)\n",
    "rfc = rfc.fit(train[features2], y)\n",
    "sound()\n",
    "print(pd.crosstab(test.vacant, rfc.predict(test[features2])))"
   ]
  },
  {
   "cell_type": "code",
   "execution_count": 19,
   "metadata": {
    "collapsed": false
   },
   "outputs": [
    {
     "name": "stdout",
     "output_type": "stream",
     "text": [
      "col_0       0     1\n",
      "vacant             \n",
      "0       20110   547\n",
      "1         894  1136\n"
     ]
    }
   ],
   "source": [
    "rfc = RandomForestClassifier(n_estimators=50, min_samples_leaf=9, min_samples_split=2, \\\n",
    "                                 class_weight={0:1, 1:3}, \\\n",
    "                                 max_features=None, random_state=0, max_depth=40)\n",
    "rfc = rfc.fit(train[features], y)\n",
    "sound()\n",
    "print(pd.crosstab(test.vacant, rfc.predict(test[features])))"
   ]
  },
  {
   "cell_type": "code",
   "execution_count": 68,
   "metadata": {
    "collapsed": false
   },
   "outputs": [],
   "source": [
    "from sklearn.metrics import roc_auc_score\n",
    "from sklearn.metrics import roc_curve\n",
    "\n",
    "rf_fpr, rf_tpr, thresholds = roc_curve(test.vacant, rfc.predict_proba(test[features])[:,1])\n",
    "lr_fpr, lr_tpr, thresholds = roc_curve(test.vacant, lr.predict_proba(test_lr)[:,1])"
   ]
  },
  {
   "cell_type": "code",
   "execution_count": 73,
   "metadata": {
    "collapsed": false
   },
   "outputs": [
    {
     "data": {
      "image/png": "[encoded data removed]",
      "text/plain": [
       "<matplotlib.figure.Figure at 0x10c9e7b70>"
      ]
     },
     "metadata": {},
     "output_type": "display_data"
    }
   ],
   "source": [
    "plt.plot(rf_fpr,rf_tpr);\n",
    "plt.plot(lr_fpr,lr_tpr);\n",
    "plt.axis('equal');\n",
    "plt.axis([0,1,0,1]);\n",
    "plt.legend(['Random forest','Logistic regression'],loc='lower right');"
   ]
  },
  {
   "cell_type": "code",
   "execution_count": 144,
   "metadata": {
    "collapsed": false
   },
   "outputs": [
    {
     "name": "stdout",
     "output_type": "stream",
     "text": [
      "col_0       0     1\n",
      "vacant             \n",
      "0       19604   808\n",
      "1         782  1214\n"
     ]
    }
   ],
   "source": [
    "rfc = RandomForestClassifier(n_estimators=50, min_samples_leaf=5, min_samples_split=2, \\\n",
    "                                 class_weight={0:1, 1:25}, \\\n",
    "                                 max_features=None, random_state=0, max_depth=40)\n",
    "rfc = rfc.fit(train[features2], y)\n",
    "sound()\n",
    "print(pd.crosstab(test.vacant, rfc.predict(test[features2])))"
   ]
  },
  {
   "cell_type": "code",
   "execution_count": 91,
   "metadata": {
    "collapsed": false
   },
   "outputs": [
    {
     "name": "stdout",
     "output_type": "stream",
     "text": [
      "col_0       0     1\n",
      "vacant             \n",
      "0       30308   436\n",
      "1        1608  1443\n"
     ]
    }
   ],
   "source": [
    "print(pd.crosstab(test.vacant, rfc.predict(test[features])))\n",
    "# print(pd.crosstab(tem.vacant, (tem['prob']+0.15).apply(round)))"
   ]
  },
  {
   "cell_type": "code",
   "execution_count": 157,
   "metadata": {
    "collapsed": true
   },
   "outputs": [
    {
     "name": "stdout",
     "output_type": "stream",
     "text": [
      "Traceback (most recent call last):\n",
      "  File \"//anaconda/envs/vacancy/lib/python3.4/site-packages/IPython/core/interactiveshell.py\", line 3066, in run_code\n",
      "    exec(code_obj, self.user_global_ns, self.user_ns)\n",
      "  File \"<ipython-input-158-1d7b65407729>\", line 1, in <module>\n",
      "    rfc_prob = rfc.predict_proba(test[features])\n",
      "  File \"//anaconda/envs/vacancy/lib/python3.4/site-packages/sklearn/ensemble/forest.py\", line 513, in predict_proba\n",
      "    for e in self.estimators_)\n",
      "  File \"//anaconda/envs/vacancy/lib/python3.4/site-packages/sklearn/externals/joblib/parallel.py\", line 659, in __call__\n",
      "    self.dispatch(function, args, kwargs)\n",
      "  File \"//anaconda/envs/vacancy/lib/python3.4/site-packages/sklearn/externals/joblib/parallel.py\", line 406, in dispatch\n",
      "    job = ImmediateApply(func, args, kwargs)\n",
      "  File \"//anaconda/envs/vacancy/lib/python3.4/site-packages/sklearn/externals/joblib/parallel.py\", line 140, in __init__\n",
      "    self.results = func(*args, **kwargs)\n",
      "  File \"//anaconda/envs/vacancy/lib/python3.4/site-packages/sklearn/ensemble/forest.py\", line 106, in _parallel_helper\n",
      "    return getattr(obj, methodname)(*args, **kwargs)\n",
      "  File \"//anaconda/envs/vacancy/lib/python3.4/site-packages/sklearn/tree/tree.py\", line 590, in predict_proba\n",
      "    % (self.n_features_, n_features))\n",
      "ValueError: Number of features of the model must  match the input. Model n_features is 20 and  input n_features is 60 \n",
      "\n",
      "During handling of the above exception, another exception occurred:\n",
      "\n",
      "Traceback (most recent call last):\n",
      "  File \"//anaconda/envs/vacancy/lib/python3.4/site-packages/IPython/core/interactiveshell.py\", line 1877, in showtraceback\n",
      "    stb = value._render_traceback_()\n",
      "AttributeError: 'ValueError' object has no attribute '_render_traceback_'\n",
      "\n",
      "During handling of the above exception, another exception occurred:\n",
      "\n",
      "Traceback (most recent call last):\n",
      "  File \"//anaconda/envs/vacancy/lib/python3.4/site-packages/IPython/core/ultratb.py\", line 970, in get_records\n",
      "    return _fixed_getinnerframes(etb, number_of_lines_of_context, tb_offset)\n",
      "  File \"//anaconda/envs/vacancy/lib/python3.4/site-packages/IPython/core/ultratb.py\", line 233, in wrapped\n",
      "    return f(*args, **kwargs)\n",
      "  File \"//anaconda/envs/vacancy/lib/python3.4/site-packages/IPython/core/ultratb.py\", line 267, in _fixed_getinnerframes\n",
      "    records = fix_frame_records_filenames(inspect.getinnerframes(etb, context))\n",
      "  File \"//anaconda/envs/vacancy/lib/python3.4/inspect.py\", line 1338, in getinnerframes\n",
      "    framelist.append((tb.tb_frame,) + getframeinfo(tb, context))\n",
      "  File \"//anaconda/envs/vacancy/lib/python3.4/inspect.py\", line 1298, in getframeinfo\n",
      "    filename = getsourcefile(frame) or getfile(frame)\n",
      "  File \"//anaconda/envs/vacancy/lib/python3.4/inspect.py\", line 583, in getsourcefile\n",
      "    if getattr(getmodule(object, filename), '__loader__', None) is not None:\n",
      "  File \"//anaconda/envs/vacancy/lib/python3.4/inspect.py\", line 612, in getmodule\n",
      "    file = getabsfile(object, _filename)\n",
      "  File \"//anaconda/envs/vacancy/lib/python3.4/inspect.py\", line 596, in getabsfile\n",
      "    return os.path.normcase(os.path.abspath(_filename))\n",
      "  File \"//anaconda/envs/vacancy/lib/python3.4/posixpath.py\", line 361, in abspath\n",
      "    cwd = os.getcwd()\n",
      "FileNotFoundError: [Errno 2] No such file or directory\n",
      "Traceback (most recent call last):\n",
      "  File \"//anaconda/envs/vacancy/lib/python3.4/site-packages/IPython/core/interactiveshell.py\", line 3066, in run_code\n",
      "    exec(code_obj, self.user_global_ns, self.user_ns)\n",
      "  File \"<ipython-input-158-1d7b65407729>\", line 1, in <module>\n",
      "    rfc_prob = rfc.predict_proba(test[features])\n",
      "  File \"//anaconda/envs/vacancy/lib/python3.4/site-packages/sklearn/ensemble/forest.py\", line 513, in predict_proba\n",
      "    for e in self.estimators_)\n",
      "  File \"//anaconda/envs/vacancy/lib/python3.4/site-packages/sklearn/externals/joblib/parallel.py\", line 659, in __call__\n",
      "    self.dispatch(function, args, kwargs)\n",
      "  File \"//anaconda/envs/vacancy/lib/python3.4/site-packages/sklearn/externals/joblib/parallel.py\", line 406, in dispatch\n",
      "    job = ImmediateApply(func, args, kwargs)\n",
      "  File \"//anaconda/envs/vacancy/lib/python3.4/site-packages/sklearn/externals/joblib/parallel.py\", line 140, in __init__\n",
      "    self.results = func(*args, **kwargs)\n",
      "  File \"//anaconda/envs/vacancy/lib/python3.4/site-packages/sklearn/ensemble/forest.py\", line 106, in _parallel_helper\n",
      "    return getattr(obj, methodname)(*args, **kwargs)\n",
      "  File \"//anaconda/envs/vacancy/lib/python3.4/site-packages/sklearn/tree/tree.py\", line 590, in predict_proba\n",
      "    % (self.n_features_, n_features))\n",
      "ValueError: Number of features of the model must  match the input. Model n_features is 20 and  input n_features is 60 \n",
      "\n",
      "During handling of the above exception, another exception occurred:\n",
      "\n",
      "Traceback (most recent call last):\n",
      "  File \"//anaconda/envs/vacancy/lib/python3.4/site-packages/IPython/core/interactiveshell.py\", line 1877, in showtraceback\n",
      "    stb = value._render_traceback_()\n",
      "AttributeError: 'ValueError' object has no attribute '_render_traceback_'\n",
      "\n",
      "During handling of the above exception, another exception occurred:\n",
      "\n",
      "Traceback (most recent call last):\n",
      "  File \"//anaconda/envs/vacancy/lib/python3.4/site-packages/IPython/core/interactiveshell.py\", line 3006, in run_ast_nodes\n",
      "    if self.run_code(code, result):\n",
      "  File \"//anaconda/envs/vacancy/lib/python3.4/site-packages/IPython/core/interactiveshell.py\", line 3083, in run_code\n",
      "    self.showtraceback()\n",
      "  File \"//anaconda/envs/vacancy/lib/python3.4/site-packages/IPython/core/interactiveshell.py\", line 1880, in showtraceback\n",
      "    value, tb, tb_offset=tb_offset)\n",
      "  File \"//anaconda/envs/vacancy/lib/python3.4/site-packages/IPython/core/ultratb.py\", line 1242, in structured_traceback\n",
      "    self, etype, value, tb, tb_offset, number_of_lines_of_context)\n",
      "  File \"//anaconda/envs/vacancy/lib/python3.4/site-packages/IPython/core/ultratb.py\", line 1150, in structured_traceback\n",
      "    self, etype, value, tb, tb_offset, number_of_lines_of_context\n",
      "  File \"//anaconda/envs/vacancy/lib/python3.4/site-packages/IPython/core/ultratb.py\", line 1002, in structured_traceback\n",
      "    tb_offset)\n",
      "  File \"//anaconda/envs/vacancy/lib/python3.4/site-packages/IPython/core/ultratb.py\", line 951, in format_exception_as_a_whole\n",
      "    frames = self.format_records(records)\n",
      "  File \"//anaconda/envs/vacancy/lib/python3.4/site-packages/IPython/core/ultratb.py\", line 724, in format_records\n",
      "    for frame, file, lnum, func, lines, index in records:\n",
      "TypeError: 'NoneType' object is not iterable\n",
      "\n",
      "During handling of the above exception, another exception occurred:\n",
      "\n",
      "Traceback (most recent call last):\n",
      "  File \"//anaconda/envs/vacancy/lib/python3.4/site-packages/IPython/core/interactiveshell.py\", line 1877, in showtraceback\n",
      "    stb = value._render_traceback_()\n",
      "AttributeError: 'TypeError' object has no attribute '_render_traceback_'\n",
      "\n",
      "During handling of the above exception, another exception occurred:\n",
      "\n",
      "Traceback (most recent call last):\n",
      "  File \"//anaconda/envs/vacancy/lib/python3.4/site-packages/IPython/core/ultratb.py\", line 970, in get_records\n",
      "    return _fixed_getinnerframes(etb, number_of_lines_of_context, tb_offset)\n",
      "  File \"//anaconda/envs/vacancy/lib/python3.4/site-packages/IPython/core/ultratb.py\", line 233, in wrapped\n",
      "    return f(*args, **kwargs)\n",
      "  File \"//anaconda/envs/vacancy/lib/python3.4/site-packages/IPython/core/ultratb.py\", line 267, in _fixed_getinnerframes\n",
      "    records = fix_frame_records_filenames(inspect.getinnerframes(etb, context))\n",
      "  File \"//anaconda/envs/vacancy/lib/python3.4/inspect.py\", line 1338, in getinnerframes\n",
      "    framelist.append((tb.tb_frame,) + getframeinfo(tb, context))\n",
      "  File \"//anaconda/envs/vacancy/lib/python3.4/inspect.py\", line 1298, in getframeinfo\n",
      "    filename = getsourcefile(frame) or getfile(frame)\n",
      "  File \"//anaconda/envs/vacancy/lib/python3.4/inspect.py\", line 583, in getsourcefile\n",
      "    if getattr(getmodule(object, filename), '__loader__', None) is not None:\n",
      "  File \"//anaconda/envs/vacancy/lib/python3.4/inspect.py\", line 612, in getmodule\n",
      "    file = getabsfile(object, _filename)\n",
      "  File \"//anaconda/envs/vacancy/lib/python3.4/inspect.py\", line 596, in getabsfile\n",
      "    return os.path.normcase(os.path.abspath(_filename))\n",
      "  File \"//anaconda/envs/vacancy/lib/python3.4/posixpath.py\", line 361, in abspath\n",
      "    cwd = os.getcwd()\n",
      "FileNotFoundError: [Errno 2] No such file or directory\n"
     ]
    },
    {
     "name": "stderr",
     "output_type": "stream",
     "text": [
      "ERROR: Internal Python error in the inspect module.\n",
      "Below is the traceback from this internal error.\n",
      "\n",
      "\n",
      "Unfortunately, your original traceback can not be constructed.\n",
      "\n",
      "ERROR: Internal Python error in the inspect module.\n",
      "Below is the traceback from this internal error.\n",
      "\n",
      "\n",
      "Unfortunately, your original traceback can not be constructed.\n",
      "\n"
     ]
    },
    {
     "ename": "TypeError",
     "evalue": "'NoneType' object is not iterable",
     "output_type": "error",
     "traceback": [
      "Traceback (most recent call last):\n",
      "  File \"//anaconda/envs/vacancy/lib/python3.4/site-packages/IPython/core/interactiveshell.py\", line 3066, in run_code\n    exec(code_obj, self.user_global_ns, self.user_ns)\n",
      "  File \"<ipython-input-158-1d7b65407729>\", line 1, in <module>\n    rfc_prob = rfc.predict_proba(test[features])\n",
      "  File \"//anaconda/envs/vacancy/lib/python3.4/site-packages/sklearn/ensemble/forest.py\", line 513, in predict_proba\n    for e in self.estimators_)\n",
      "  File \"//anaconda/envs/vacancy/lib/python3.4/site-packages/sklearn/externals/joblib/parallel.py\", line 659, in __call__\n    self.dispatch(function, args, kwargs)\n",
      "  File \"//anaconda/envs/vacancy/lib/python3.4/site-packages/sklearn/externals/joblib/parallel.py\", line 406, in dispatch\n    job = ImmediateApply(func, args, kwargs)\n",
      "  File \"//anaconda/envs/vacancy/lib/python3.4/site-packages/sklearn/externals/joblib/parallel.py\", line 140, in __init__\n    self.results = func(*args, **kwargs)\n",
      "  File \"//anaconda/envs/vacancy/lib/python3.4/site-packages/sklearn/ensemble/forest.py\", line 106, in _parallel_helper\n    return getattr(obj, methodname)(*args, **kwargs)\n",
      "  File \"//anaconda/envs/vacancy/lib/python3.4/site-packages/sklearn/tree/tree.py\", line 590, in predict_proba\n    % (self.n_features_, n_features))\n",
      "ValueError: Number of features of the model must  match the input. Model n_features is 20 and  input n_features is 60 \n",
      "\nDuring handling of the above exception, another exception occurred:\n\n",
      "Traceback (most recent call last):\n",
      "  File \"//anaconda/envs/vacancy/lib/python3.4/site-packages/IPython/core/interactiveshell.py\", line 1877, in showtraceback\n    stb = value._render_traceback_()\n",
      "AttributeError: 'ValueError' object has no attribute '_render_traceback_'\n",
      "\nDuring handling of the above exception, another exception occurred:\n\n",
      "Traceback (most recent call last):\n",
      "  File \"//anaconda/envs/vacancy/lib/python3.4/site-packages/IPython/core/interactiveshell.py\", line 3006, in run_ast_nodes\n    if self.run_code(code, result):\n",
      "  File \"//anaconda/envs/vacancy/lib/python3.4/site-packages/IPython/core/interactiveshell.py\", line 3083, in run_code\n    self.showtraceback()\n",
      "  File \"//anaconda/envs/vacancy/lib/python3.4/site-packages/IPython/core/interactiveshell.py\", line 1880, in showtraceback\n    value, tb, tb_offset=tb_offset)\n",
      "  File \"//anaconda/envs/vacancy/lib/python3.4/site-packages/IPython/core/ultratb.py\", line 1242, in structured_traceback\n    self, etype, value, tb, tb_offset, number_of_lines_of_context)\n",
      "  File \"//anaconda/envs/vacancy/lib/python3.4/site-packages/IPython/core/ultratb.py\", line 1150, in structured_traceback\n    self, etype, value, tb, tb_offset, number_of_lines_of_context\n",
      "  File \"//anaconda/envs/vacancy/lib/python3.4/site-packages/IPython/core/ultratb.py\", line 1002, in structured_traceback\n    tb_offset)\n",
      "  File \"//anaconda/envs/vacancy/lib/python3.4/site-packages/IPython/core/ultratb.py\", line 951, in format_exception_as_a_whole\n    frames = self.format_records(records)\n",
      "  File \"//anaconda/envs/vacancy/lib/python3.4/site-packages/IPython/core/ultratb.py\", line 724, in format_records\n    for frame, file, lnum, func, lines, index in records:\n",
      "TypeError: 'NoneType' object is not iterable\n",
      "\nDuring handling of the above exception, another exception occurred:\n\n",
      "Traceback (most recent call last):\n",
      "  File \"//anaconda/envs/vacancy/lib/python3.4/site-packages/IPython/core/interactiveshell.py\", line 1877, in showtraceback\n    stb = value._render_traceback_()\n",
      "AttributeError: 'TypeError' object has no attribute '_render_traceback_'\n",
      "\nDuring handling of the above exception, another exception occurred:\n\n",
      "Traceback (most recent call last):\n",
      "  File \"//anaconda/envs/vacancy/lib/python3.4/site-packages/ipykernel/ipkernel.py\", line 175, in do_execute\n    shell.run_cell(code, store_history=store_history, silent=silent)\n",
      "  File \"//anaconda/envs/vacancy/lib/python3.4/site-packages/IPython/core/interactiveshell.py\", line 2902, in run_cell\n    interactivity=interactivity, compiler=compiler, result=result)\n",
      "  File \"//anaconda/envs/vacancy/lib/python3.4/site-packages/IPython/core/interactiveshell.py\", line 3031, in run_ast_nodes\n    self.showtraceback()\n",
      "  File \"//anaconda/envs/vacancy/lib/python3.4/site-packages/IPython/core/interactiveshell.py\", line 1880, in showtraceback\n    value, tb, tb_offset=tb_offset)\n",
      "  File \"//anaconda/envs/vacancy/lib/python3.4/site-packages/IPython/core/ultratb.py\", line 1242, in structured_traceback\n    self, etype, value, tb, tb_offset, number_of_lines_of_context)\n",
      "  File \"//anaconda/envs/vacancy/lib/python3.4/site-packages/IPython/core/ultratb.py\", line 1150, in structured_traceback\n    self, etype, value, tb, tb_offset, number_of_lines_of_context\n",
      "  File \"//anaconda/envs/vacancy/lib/python3.4/site-packages/IPython/core/ultratb.py\", line 1020, in structured_traceback\n    chained_exceptions_tb_offset)\n",
      "  File \"//anaconda/envs/vacancy/lib/python3.4/site-packages/IPython/core/ultratb.py\", line 951, in format_exception_as_a_whole\n    frames = self.format_records(records)\n",
      "  File \"//anaconda/envs/vacancy/lib/python3.4/site-packages/IPython/core/ultratb.py\", line 724, in format_records\n    for frame, file, lnum, func, lines, index in records:\n",
      "TypeError: 'NoneType' object is not iterable\n"
     ]
    }
   ],
   "source": [
    "rfc_prob = rfc.predict_proba(test[features])\n",
    "\n",
    "tem = test.copy()\n",
    "tem['prob'] = rfc_prob[:,1]\n",
    "tem['pred'] = tem.prob.apply(round)\n",
    "plt.hist(tem[tem.vacant==1].prob.values,alpha=0.5,normed=True, bins=20);\n",
    "plt.hist(tem[tem.vacant==0].prob.values,alpha=0.5,normed=True, bins=20);\n",
    "print(sum(tem.sort_values('prob', ascending=False).iloc[0:5000].vacant)*1.0/sum(tem.vacant))\n",
    "pd.crosstab(tem.sort_values('prob', ascending=False).iloc[0:5000].vacant,tem.sort_values('prob', ascending=False).iloc[0:5000].pred)"
   ]
  },
  {
   "cell_type": "code",
   "execution_count": 98,
   "metadata": {
    "collapsed": false
   },
   "outputs": [
    {
     "name": "stdout",
     "output_type": "stream",
     "text": [
      "0.735496558505\n"
     ]
    },
    {
     "data": {
      "text/html": [
       "<div>\n",
       "<table border=\"1\" class=\"dataframe\">\n",
       "  <thead>\n",
       "    <tr style=\"text-align: right;\">\n",
       "      <th>pred</th>\n",
       "      <th>0.0</th>\n",
       "      <th>1.0</th>\n",
       "    </tr>\n",
       "    <tr>\n",
       "      <th>vacant</th>\n",
       "      <th></th>\n",
       "      <th></th>\n",
       "    </tr>\n",
       "  </thead>\n",
       "  <tbody>\n",
       "    <tr>\n",
       "      <th>0</th>\n",
       "      <td>2321</td>\n",
       "      <td>435</td>\n",
       "    </tr>\n",
       "    <tr>\n",
       "      <th>1</th>\n",
       "      <td>829</td>\n",
       "      <td>1415</td>\n",
       "    </tr>\n",
       "  </tbody>\n",
       "</table>\n",
       "</div>"
      ],
      "text/plain": [
       "pred       0     1\n",
       "vacant            \n",
       "0       2321   435\n",
       "1        829  1415"
      ]
     },
     "execution_count": 98,
     "metadata": {},
     "output_type": "execute_result"
    },
    {
     "data": {
      "image/png": "[encoded data removed]",
      "text/plain": [
       "<matplotlib.figure.Figure at 0x10498a1d0>"
      ]
     },
     "metadata": {},
     "output_type": "display_data"
    }
   ],
   "source": [
    "rfc_prob = rfc.predict_proba(test[features2])\n",
    "\n",
    "tem = test.copy()\n",
    "tem['prob'] = rfc_prob[:,1]\n",
    "tem['pred'] = tem.prob.apply(round)\n",
    "plt.hist(tem[tem.vacant==1].prob.values,alpha=0.5,normed=True, bins=20);\n",
    "plt.hist(tem[tem.vacant==0].prob.values,alpha=0.5,normed=True, bins=20);\n",
    "print(sum(tem.sort_values('prob', ascending=False).iloc[0:5000].vacant)*1.0/sum(tem.vacant))\n",
    "pd.crosstab(tem.sort_values('prob', ascending=False).iloc[0:5000].vacant,tem.sort_values('prob', ascending=False).iloc[0:5000].pred)"
   ]
  },
  {
   "cell_type": "markdown",
   "metadata": {},
   "source": [
    "#### Parameter search"
   ]
  },
  {
   "cell_type": "code",
   "execution_count": 29,
   "metadata": {
    "collapsed": false
   },
   "outputs": [],
   "source": [
    "# depth_range = range(10,40,2)\n",
    "# scores = []\n",
    "# for depth in depth_range:\n",
    "#     rfc = RandomForestClassifier(n_estimators=50, min_samples_leaf=1, min_samples_split=2, \\\n",
    "#                                  class_weight='auto', \\\n",
    "#                                  max_features=None, random_state=0, max_depth=depth)\n",
    "#     scores.append(cross_val_score(rfc, df3[features], df3.vacant, cv=10, scoring='accuracy').mean())\n",
    "# plt.plot(depth_range, scores, '--');\n",
    "# # plt.ylim(0,1);\n",
    "# plt.title('Accuracy by max depth range');"
   ]
  },
  {
   "cell_type": "code",
   "execution_count": 17,
   "metadata": {
    "collapsed": false
   },
   "outputs": [
    {
     "name": "stdout",
     "output_type": "stream",
     "text": [
      "Feature ranking:\n",
      "1. feature 48, c_ovv_2yr (0.291295)\n",
      "2. feature 45, pv_total (0.123032)\n",
      "3. feature 57, GRAND_TOTAL_BALANCE (0.076631)\n",
      "4. feature 17, condition_value14 (0.043401)\n",
      "5. feature 15, tmktval (0.030920)\n",
      "6. feature 54, sa_days (0.030771)\n",
      "7. feature 14, totusabl (0.029601)\n",
      "8. feature 39, al_days (0.027017)\n",
      "9. feature 58, GRAND_TOTAL_BALANCE_14 (0.026274)\n",
      "10. feature 53, fc_days (0.023580)\n",
      "11. feature 13, propsize (0.023026)\n",
      "12. feature 20, yrbuilt_filtered (0.016491)\n",
      "13. feature 42, t_num (0.015791)\n",
      "14. feature 40, t_days (0.011725)\n",
      "15. feature 56, TAX_MARKET_LAND (0.011364)\n",
      "16. feature 21, vacant_block (0.011012)\n",
      "17. feature 22, median_rent (0.010609)\n",
      "18. feature 55, TAX_ASSESSED_LAND (0.010597)\n",
      "19. feature 27, bachelors+ (0.010532)\n",
      "20. feature 24, burglaries (0.009841)\n"
     ]
    },
    {
     "name": "stderr",
     "output_type": "stream",
     "text": [
      "//anaconda/envs/vacancy/lib/python3.4/site-packages/matplotlib/collections.py:590: FutureWarning: elementwise comparison failed; returning scalar instead, but in the future will perform elementwise comparison\n",
      "  if self._edgecolors == str('face'):\n"
     ]
    },
    {
     "data": {
      "image/png": "[encoded data removed]",
      "text/plain": [
       "<matplotlib.figure.Figure at 0x10e1b8160>"
      ]
     },
     "metadata": {},
     "output_type": "display_data"
    }
   ],
   "source": [
    "# plot the top ten features\n",
    "\n",
    "importances = rfc.feature_importances_\n",
    "std = np.std([tree.feature_importances_ for tree in rfc.estimators_],\n",
    "             axis=0)\n",
    "indices = np.argsort(importances)[::-1]\n",
    "\n",
    "# Print the feature ranking\n",
    "print(\"Feature ranking:\")\n",
    "\n",
    "for f in range(20):\n",
    "    print(\"%d. feature %d, %s (%f)\" % (f + 1, indices[f], features[indices[f]], importances[indices[f]]))\n",
    "    \n",
    "# Plot the feature importances of the forest\n",
    "plt.figure()\n",
    "plt.title(\"Feature importances\")\n",
    "plt.bar(range(10), importances[indices[0:10]], yerr=std[indices[0:10]], align=\"center\")\n",
    "plt.xticks(range(10), indices[0:10])\n",
    "plt.xlim([-1, 10])\n",
    "plt.show()"
   ]
  },
  {
   "cell_type": "code",
   "execution_count": 16,
   "metadata": {
    "collapsed": true
   },
   "outputs": [],
   "source": [
    "features2 = pd.DataFrame(features).iloc[indices[0:20]][0].values"
   ]
  },
  {
   "cell_type": "code",
   "execution_count": 34,
   "metadata": {
    "collapsed": false
   },
   "outputs": [
    {
     "name": "stdout",
     "output_type": "stream",
     "text": [
      "Feature ranking (least important):\n",
      "1. feature 59, is_train (0.000000)\n",
      "2. feature 43, lb_acquired (0.000000)\n",
      "3. feature 44, lb_tax_fc (0.000060)\n",
      "4. feature 51, fc_1yr (0.000098)\n",
      "5. feature 52, fc_2yr (0.000136)\n",
      "6. feature 0, style__Bungalow (0.000374)\n",
      "7. feature 50, active_fc (0.000428)\n",
      "8. feature 8, ext__Other (0.000474)\n",
      "9. feature 4, style__Ranch (0.000628)\n",
      "10. feature 11, lender__2500 (0.000747)\n",
      "11. feature 6, ext__Brick (0.000880)\n",
      "12. feature 49, c_ovv_1yr (0.000959)\n",
      "13. feature 3, style__Other (0.001061)\n",
      "14. feature 2, style__Colonial (0.001430)\n",
      "15. feature 1, style__CAP (0.001576)\n",
      "16. feature 9, lender__0 (0.001831)\n",
      "17. feature 7, ext__Frame (r) (0.001991)\n",
      "18. feature 10, lender__1501 (0.002010)\n",
      "19. feature 5, ext__Aluminum/Vinyl (r) (0.002152)\n",
      "20. feature 12, lender__None (0.002754)\n"
     ]
    },
    {
     "name": "stderr",
     "output_type": "stream",
     "text": [
      "//anaconda/envs/vacancy/lib/python3.4/site-packages/matplotlib/collections.py:590: FutureWarning: elementwise comparison failed; returning scalar instead, but in the future will perform elementwise comparison\n",
      "  if self._edgecolors == str('face'):\n"
     ]
    },
    {
     "data": {
      "image/png": "[encoded data removed]",
      "text/plain": [
       "<matplotlib.figure.Figure at 0x11cc35cf8>"
      ]
     },
     "metadata": {},
     "output_type": "display_data"
    }
   ],
   "source": [
    "# Print the feature ranking\n",
    "print(\"Feature ranking (least important):\")\n",
    "\n",
    "for f in range(20):\n",
    "    print(\"%d. feature %d, %s (%f)\" % (f + 1, indices[-f-1], features[indices[-f-1]], importances[indices[-f-1]]))\n",
    "# Plot the feature importances of the forest\n",
    "plt.figure()\n",
    "plt.title(\"Feature importances\")\n",
    "plt.bar(range(10), importances[indices[-10:]], yerr=std[indices[-10:]], align=\"center\")\n",
    "plt.xticks(range(10), indices[-10:])\n",
    "plt.xlim([-1, 10])\n",
    "plt.show()"
   ]
  },
  {
   "cell_type": "markdown",
   "metadata": {},
   "source": [
    "### Logistic Regressor"
   ]
  },
  {
   "cell_type": "code",
   "execution_count": 214,
   "metadata": {
    "collapsed": true
   },
   "outputs": [],
   "source": [
    "# features2 = ['c_O.V.V._2yr', 'pv_total','GRAND_TOTAL_BALANCE','condition_value','vacant',\\\n",
    "#              'totusabl', 'tmktval', 'fc_days', 'days_since_transfer', 'propsize', 'yrbuilt_filtered', 'al_days']\n",
    "\n",
    "# features2 = ['c_O.V.V._2yr', 'pv_total','GRAND_TOTAL_BALANCE','condition_value','vacant']"
   ]
  },
  {
   "cell_type": "code",
   "execution_count": 67,
   "metadata": {
    "collapsed": false
   },
   "outputs": [],
   "source": [
    "train_lr = preprocessing.scale(train[features2])\n",
    "test_lr = preprocessing.scale(test[features2])"
   ]
  },
  {
   "cell_type": "code",
   "execution_count": 56,
   "metadata": {
    "collapsed": false
   },
   "outputs": [
    {
     "data": {
      "text/html": [
       "<div>\n",
       "<table border=\"1\" class=\"dataframe\">\n",
       "  <thead>\n",
       "    <tr style=\"text-align: right;\">\n",
       "      <th>col_0</th>\n",
       "      <th>0</th>\n",
       "      <th>1</th>\n",
       "    </tr>\n",
       "    <tr>\n",
       "      <th>vacant</th>\n",
       "      <th></th>\n",
       "      <th></th>\n",
       "    </tr>\n",
       "  </thead>\n",
       "  <tbody>\n",
       "    <tr>\n",
       "      <th>0</th>\n",
       "      <td>20368</td>\n",
       "      <td>405</td>\n",
       "    </tr>\n",
       "    <tr>\n",
       "      <th>1</th>\n",
       "      <td>1114</td>\n",
       "      <td>922</td>\n",
       "    </tr>\n",
       "  </tbody>\n",
       "</table>\n",
       "</div>"
      ],
      "text/plain": [
       "col_0       0    1\n",
       "vacant            \n",
       "0       20368  405\n",
       "1        1114  922"
      ]
     },
     "execution_count": 56,
     "metadata": {},
     "output_type": "execute_result"
    }
   ],
   "source": [
    "lr = LogisticRegression(class_weight={0:1, 1:1}, random_state=1001)\n",
    "lr.fit(pd.DataFrame(train_lr, columns = features2), y)\n",
    "pd.crosstab(test.vacant,lr.predict(test_lr))"
   ]
  },
  {
   "cell_type": "code",
   "execution_count": 60,
   "metadata": {
    "collapsed": false
   },
   "outputs": [
    {
     "data": {
      "text/plain": [
       "array([[ 1.,  0.],\n",
       "       [ 1.,  0.],\n",
       "       [ 1.,  0.],\n",
       "       ..., \n",
       "       [ 1.,  0.],\n",
       "       [ 1.,  0.],\n",
       "       [ 1.,  0.]])"
      ]
     },
     "execution_count": 60,
     "metadata": {},
     "output_type": "execute_result"
    }
   ],
   "source": [
    "lr.predict_proba(train[features2])"
   ]
  },
  {
   "cell_type": "code",
   "execution_count": 49,
   "metadata": {
    "collapsed": false
   },
   "outputs": [
    {
     "data": {
      "text/plain": [
       "0.91166148157169269"
      ]
     },
     "execution_count": 49,
     "metadata": {},
     "output_type": "execute_result"
    }
   ],
   "source": [
    "lr.score(train[features2], train.vacant)"
   ]
  },
  {
   "cell_type": "code",
   "execution_count": 134,
   "metadata": {
    "collapsed": false
   },
   "outputs": [
    {
     "data": {
      "text/plain": [
       "0.91119243127454486"
      ]
     },
     "execution_count": 134,
     "metadata": {},
     "output_type": "execute_result"
    }
   ],
   "source": [
    "lr.score(test[features2], test.vacant)"
   ]
  },
  {
   "cell_type": "code",
   "execution_count": 132,
   "metadata": {
    "collapsed": false
   },
   "outputs": [
    {
     "name": "stdout",
     "output_type": "stream",
     "text": [
      "0.795090180361\n"
     ]
    },
    {
     "data": {
      "text/html": [
       "<div>\n",
       "<table border=\"1\" class=\"dataframe\">\n",
       "  <thead>\n",
       "    <tr style=\"text-align: right;\">\n",
       "      <th>pred</th>\n",
       "      <th>0.0</th>\n",
       "      <th>1.0</th>\n",
       "    </tr>\n",
       "    <tr>\n",
       "      <th>vacant</th>\n",
       "      <th></th>\n",
       "      <th></th>\n",
       "    </tr>\n",
       "  </thead>\n",
       "  <tbody>\n",
       "    <tr>\n",
       "      <th>0</th>\n",
       "      <td>2429</td>\n",
       "      <td>984</td>\n",
       "    </tr>\n",
       "    <tr>\n",
       "      <th>1</th>\n",
       "      <td>361</td>\n",
       "      <td>1226</td>\n",
       "    </tr>\n",
       "  </tbody>\n",
       "</table>\n",
       "</div>"
      ],
      "text/plain": [
       "pred       0     1\n",
       "vacant            \n",
       "0       2429   984\n",
       "1        361  1226"
      ]
     },
     "execution_count": 132,
     "metadata": {},
     "output_type": "execute_result"
    },
    {
     "data": {
      "image/png": "[encoded data removed]",
      "text/plain": [
       "<matplotlib.figure.Figure at 0x11adcf8d0>"
      ]
     },
     "metadata": {},
     "output_type": "display_data"
    }
   ],
   "source": [
    "lr_prob = lr.predict_proba(test_lr)\n",
    "\n",
    "tem = test.copy()\n",
    "tem['prob'] = lr_prob[:,1]\n",
    "tem['pred'] = tem.prob.apply(round)\n",
    "plt.hist(tem[tem.vacant==1].prob.values,alpha=0.5,normed=True, bins=20);\n",
    "plt.hist(tem[tem.vacant==0].prob.values,alpha=0.5,normed=True, bins=20);\n",
    "print(sum(tem.sort_values('prob', ascending=False).iloc[0:5000].vacant)*1.0/sum(tem.vacant))\n",
    "pd.crosstab(tem.sort_values('prob', ascending=False).iloc[0:5000].vacant,tem.sort_values('prob', ascending=False).iloc[0:5000].pred)"
   ]
  },
  {
   "cell_type": "code",
   "execution_count": 209,
   "metadata": {
    "collapsed": false
   },
   "outputs": [
    {
     "data": {
      "text/html": [
       "<div>\n",
       "<table border=\"1\" class=\"dataframe\">\n",
       "  <thead>\n",
       "    <tr style=\"text-align: right;\">\n",
       "      <th>preds</th>\n",
       "      <th>0</th>\n",
       "      <th>1</th>\n",
       "    </tr>\n",
       "    <tr>\n",
       "      <th>actual</th>\n",
       "      <th></th>\n",
       "      <th></th>\n",
       "    </tr>\n",
       "  </thead>\n",
       "  <tbody>\n",
       "    <tr>\n",
       "      <th>0</th>\n",
       "      <td>30081</td>\n",
       "      <td>870</td>\n",
       "    </tr>\n",
       "    <tr>\n",
       "      <th>1</th>\n",
       "      <td>1477</td>\n",
       "      <td>1541</td>\n",
       "    </tr>\n",
       "  </tbody>\n",
       "</table>\n",
       "</div>"
      ],
      "text/plain": [
       "preds       0     1\n",
       "actual             \n",
       "0       30081   870\n",
       "1        1477  1541"
      ]
     },
     "execution_count": 209,
     "metadata": {},
     "output_type": "execute_result"
    }
   ],
   "source": [
    "pd.crosstab(test['vacant'], lr.predict(pd.DataFrame(test_lr, columns = features2)), rownames=['actual'], colnames=['preds'])"
   ]
  },
  {
   "cell_type": "code",
   "execution_count": 126,
   "metadata": {
    "collapsed": false
   },
   "outputs": [
    {
     "data": {
      "text/html": [
       "<div>\n",
       "<table border=\"1\" class=\"dataframe\">\n",
       "  <thead>\n",
       "    <tr style=\"text-align: right;\">\n",
       "      <th>preds</th>\n",
       "      <th>0</th>\n",
       "      <th>1</th>\n",
       "    </tr>\n",
       "    <tr>\n",
       "      <th>actual</th>\n",
       "      <th></th>\n",
       "      <th></th>\n",
       "    </tr>\n",
       "  </thead>\n",
       "  <tbody>\n",
       "    <tr>\n",
       "      <th>0</th>\n",
       "      <td>29883</td>\n",
       "      <td>1031</td>\n",
       "    </tr>\n",
       "    <tr>\n",
       "      <th>1</th>\n",
       "      <td>1424</td>\n",
       "      <td>1653</td>\n",
       "    </tr>\n",
       "  </tbody>\n",
       "</table>\n",
       "</div>"
      ],
      "text/plain": [
       "preds       0     1\n",
       "actual             \n",
       "0       29883  1031\n",
       "1        1424  1653"
      ]
     },
     "execution_count": 126,
     "metadata": {},
     "output_type": "execute_result"
    }
   ],
   "source": [
    "pd.crosstab(test['vacant'], lr.predict(pd.DataFrame(test_lr, columns = features2)), rownames=['actual'], colnames=['preds'])"
   ]
  },
  {
   "cell_type": "code",
   "execution_count": 56,
   "metadata": {
    "collapsed": false
   },
   "outputs": [
    {
     "data": {
      "text/html": [
       "<div>\n",
       "<table border=\"1\" class=\"dataframe\">\n",
       "  <thead>\n",
       "    <tr style=\"text-align: right;\">\n",
       "      <th>preds</th>\n",
       "      <th>0</th>\n",
       "      <th>1</th>\n",
       "    </tr>\n",
       "    <tr>\n",
       "      <th>actual</th>\n",
       "      <th></th>\n",
       "      <th></th>\n",
       "    </tr>\n",
       "  </thead>\n",
       "  <tbody>\n",
       "    <tr>\n",
       "      <th>0</th>\n",
       "      <td>30714</td>\n",
       "      <td>336</td>\n",
       "    </tr>\n",
       "    <tr>\n",
       "      <th>1</th>\n",
       "      <td>1877</td>\n",
       "      <td>1192</td>\n",
       "    </tr>\n",
       "  </tbody>\n",
       "</table>\n",
       "</div>"
      ],
      "text/plain": [
       "preds       0     1\n",
       "actual             \n",
       "0       30714   336\n",
       "1        1877  1192"
      ]
     },
     "execution_count": 56,
     "metadata": {},
     "output_type": "execute_result"
    }
   ],
   "source": [
    "pd.crosstab(test['vacant'], lr.predict(pd.DataFrame(test_lr, columns = features)), rownames=['actual'], colnames=['preds'])"
   ]
  },
  {
   "cell_type": "code",
   "execution_count": 139,
   "metadata": {
    "collapsed": false
   },
   "outputs": [
    {
     "name": "stdout",
     "output_type": "stream",
     "text": [
      "Feature ranking:\n",
      "1. feature 10, propsize (-1.093358)\n",
      "2. feature 1, pv_total (0.495365)\n",
      "3. feature 0, c_ovv_2yr (0.480271)\n",
      "4. feature 5, condition_value14 (-0.437575)\n",
      "5. feature 3, GRAND_TOTAL_BALANCE (0.403404)\n",
      "6. feature 6, tmktval (-0.401223)\n",
      "7. feature 2, fc_days (-0.352014)\n",
      "8. feature 7, sa_days (-0.166370)\n",
      "9. feature 15, vacant_block (0.164420)\n",
      "10. feature 9, al_days (0.118188)\n",
      "11. feature 16, t_days (0.108253)\n",
      "12. feature 8, totusabl (0.061968)\n",
      "13. feature 18, median_hh_income (-0.059149)\n",
      "14. feature 4, GRAND_TOTAL_BALANCE_14 (-0.049359)\n",
      "15. feature 12, t_num (0.048948)\n",
      "16. feature 17, median_rent (-0.032740)\n",
      "17. feature 19, bachelors+ (0.027363)\n",
      "18. feature 11, yrbuilt_filtered (-0.024315)\n",
      "19. feature 14, TAX_MARKET_LAND (0.006594)\n",
      "20. feature 13, TAX_ASSESSED_LAND (0.006268)\n",
      "\n",
      "Feature ranking (least important):\n",
      "1. feature 13, TAX_ASSESSED_LAND (0.006268)\n",
      "2. feature 14, TAX_MARKET_LAND (0.006594)\n",
      "3. feature 11, yrbuilt_filtered (-0.024315)\n",
      "4. feature 19, bachelors+ (0.027363)\n",
      "5. feature 17, median_rent (-0.032740)\n",
      "6. feature 12, t_num (0.048948)\n",
      "7. feature 4, GRAND_TOTAL_BALANCE_14 (-0.049359)\n",
      "8. feature 18, median_hh_income (-0.059149)\n",
      "9. feature 8, totusabl (0.061968)\n",
      "10. feature 16, t_days (0.108253)\n",
      "11. feature 9, al_days (0.118188)\n",
      "12. feature 15, vacant_block (0.164420)\n",
      "13. feature 7, sa_days (-0.166370)\n",
      "14. feature 2, fc_days (-0.352014)\n",
      "15. feature 6, tmktval (-0.401223)\n",
      "16. feature 3, GRAND_TOTAL_BALANCE (0.403404)\n",
      "17. feature 5, condition_value14 (-0.437575)\n",
      "18. feature 0, c_ovv_2yr (0.480271)\n",
      "19. feature 1, pv_total (0.495365)\n",
      "20. feature 10, propsize (-1.093358)\n"
     ]
    }
   ],
   "source": [
    "importances = lr.coef_[0]\n",
    "# std = np.std([tree.feature_importances_ for tree in lr.estimators_],\n",
    "#              axis=0)\n",
    "indices = np.argsort(abs(importances))[::-1]\n",
    "\n",
    "# Print the feature ranking\n",
    "print(\"Feature ranking:\")\n",
    "\n",
    "for f in range(len(features2)):\n",
    "    print(\"%d. feature %d, %s (%f)\" % (f + 1, indices[f], features2[indices[f]], importances[indices[f]]))\n",
    "print(\"\\nFeature ranking (least important):\")\n",
    "for f in range(len(features2)):\n",
    "    print(\"%d. feature %d, %s (%f)\" % (f + 1, indices[-f-1], features2[indices[-f-1]], importances[indices[-f-1]]))"
   ]
  },
  {
   "cell_type": "markdown",
   "metadata": {},
   "source": [
    "### Adaboost Classifier"
   ]
  },
  {
   "cell_type": "code",
   "execution_count": 235,
   "metadata": {
    "collapsed": true
   },
   "outputs": [],
   "source": [
    "from sklearn.ensemble import AdaBoostClassifier"
   ]
  },
  {
   "cell_type": "code",
   "execution_count": 236,
   "metadata": {
    "collapsed": false
   },
   "outputs": [
    {
     "ename": "KeyError",
     "evalue": "\"['deed__Other' 'deed__Quit Claim Deed' 'deed__Quit Claim Deed Ex'\\n 'deed__Sheriffs Deed' 'deed__Survivorship Deed' 'deed__Warranty Deed'\\n 'lender__0.0' 'lender__1501.0' 'lender__2500.0' 'lender__None'\\n 'ext__Aluminum/Vinyl (r)' 'ext__Brick' 'ext__Frame (r)' 'ext__Other'\\n 'style__Bungalow' 'style__Colonial' 'style__Other' 'style__Ranch'\\n 'style__Split level' 'style__Townhouse' 'condition_value13'\\n 'ownerocc_value' 'totbldgs' 'vacant_block' 'median_rent' 'property_crimes'\\n 'burglaries' 'part_one_crimes' 'part_two_crimes' 'bachelors+'\\n 'poverty_rate' 'median_hh_income' 'white' 'black' 'asian' 'other'\\n 'hispanic' 'young' 'middle' 'old' 'num_of_sales' 'num_of_transfers'\\n 'lb_acquired' 'lb_tax_fc' 'vindall_Y' 'vindall_P' 'violations_number_1_yr'\\n 'violations_number_2_yr' 'v_condem_count' 'v_condem_count.1'\\n 'v_exteri_count' 'v_survey_count' 'c_O.V.V._1yr'\\n 'c_Complete interior/exterior_1yr' 'c_General Exterior Maintenance_1yr'\\n 'c_Fire Damage_1yr' 'c_Vacant Distressed_1yr'\\n 'c_Complete interior/exterior_2yr' 'c_General Exterior Maintenance_2yr'\\n 'c_Fire Damage_2yr' 'c_Vacant Distressed_2yr' 'complaint_count_2yr'\\n 'complaint_count_1yr' 'complaint_count_6_mon' 'active_fc' 'fc_2yr'\\n 'sa_no_bid_lb' 'sa_no_bid_state' 'sa_active' 'sa_sold' 'TAX_ASSESSED_LAND'\\n 'TAX_MARKET_LAND'] not in index\"",
     "output_type": "error",
     "traceback": [
      "\u001b[0;31m---------------------------------------------------------------------------\u001b[0m",
      "\u001b[0;31mKeyError\u001b[0m                                  Traceback (most recent call last)",
      "\u001b[0;32m<ipython-input-236-1788792cbef1>\u001b[0m in \u001b[0;36m<module>\u001b[0;34m()\u001b[0m\n\u001b[1;32m      1\u001b[0m \u001b[0mabc\u001b[0m \u001b[0;34m=\u001b[0m \u001b[0mAdaBoostClassifier\u001b[0m\u001b[0;34m(\u001b[0m\u001b[0mn_estimators\u001b[0m\u001b[0;34m=\u001b[0m\u001b[0;36m50\u001b[0m\u001b[0;34m,\u001b[0m \u001b[0mrandom_state\u001b[0m\u001b[0;34m=\u001b[0m\u001b[0;36m0\u001b[0m\u001b[0;34m)\u001b[0m\u001b[0;34m\u001b[0m\u001b[0m\n\u001b[0;32m----> 2\u001b[0;31m \u001b[0mabc\u001b[0m\u001b[0;34m.\u001b[0m\u001b[0mfit\u001b[0m\u001b[0;34m(\u001b[0m\u001b[0mtrain\u001b[0m\u001b[0;34m[\u001b[0m\u001b[0mfeatures\u001b[0m\u001b[0;34m]\u001b[0m\u001b[0;34m,\u001b[0m \u001b[0my\u001b[0m\u001b[0;34m)\u001b[0m\u001b[0;34m\u001b[0m\u001b[0m\n\u001b[0m",
      "\u001b[0;32m//anaconda/envs/vacancy/lib/python3.4/site-packages/pandas/core/frame.py\u001b[0m in \u001b[0;36m__getitem__\u001b[0;34m(self, key)\u001b[0m\n\u001b[1;32m   1906\u001b[0m         \u001b[0;32mif\u001b[0m \u001b[0misinstance\u001b[0m\u001b[0;34m(\u001b[0m\u001b[0mkey\u001b[0m\u001b[0;34m,\u001b[0m \u001b[0;34m(\u001b[0m\u001b[0mSeries\u001b[0m\u001b[0;34m,\u001b[0m \u001b[0mnp\u001b[0m\u001b[0;34m.\u001b[0m\u001b[0mndarray\u001b[0m\u001b[0;34m,\u001b[0m \u001b[0mIndex\u001b[0m\u001b[0;34m,\u001b[0m \u001b[0mlist\u001b[0m\u001b[0;34m)\u001b[0m\u001b[0;34m)\u001b[0m\u001b[0;34m:\u001b[0m\u001b[0;34m\u001b[0m\u001b[0m\n\u001b[1;32m   1907\u001b[0m             \u001b[0;31m# either boolean or fancy integer index\u001b[0m\u001b[0;34m\u001b[0m\u001b[0;34m\u001b[0m\u001b[0m\n\u001b[0;32m-> 1908\u001b[0;31m             \u001b[0;32mreturn\u001b[0m \u001b[0mself\u001b[0m\u001b[0;34m.\u001b[0m\u001b[0m_getitem_array\u001b[0m\u001b[0;34m(\u001b[0m\u001b[0mkey\u001b[0m\u001b[0;34m)\u001b[0m\u001b[0;34m\u001b[0m\u001b[0m\n\u001b[0m\u001b[1;32m   1909\u001b[0m         \u001b[0;32melif\u001b[0m \u001b[0misinstance\u001b[0m\u001b[0;34m(\u001b[0m\u001b[0mkey\u001b[0m\u001b[0;34m,\u001b[0m \u001b[0mDataFrame\u001b[0m\u001b[0;34m)\u001b[0m\u001b[0;34m:\u001b[0m\u001b[0;34m\u001b[0m\u001b[0m\n\u001b[1;32m   1910\u001b[0m             \u001b[0;32mreturn\u001b[0m \u001b[0mself\u001b[0m\u001b[0;34m.\u001b[0m\u001b[0m_getitem_frame\u001b[0m\u001b[0;34m(\u001b[0m\u001b[0mkey\u001b[0m\u001b[0;34m)\u001b[0m\u001b[0;34m\u001b[0m\u001b[0m\n",
      "\u001b[0;32m//anaconda/envs/vacancy/lib/python3.4/site-packages/pandas/core/frame.py\u001b[0m in \u001b[0;36m_getitem_array\u001b[0;34m(self, key)\u001b[0m\n\u001b[1;32m   1950\u001b[0m             \u001b[0;32mreturn\u001b[0m \u001b[0mself\u001b[0m\u001b[0;34m.\u001b[0m\u001b[0mtake\u001b[0m\u001b[0;34m(\u001b[0m\u001b[0mindexer\u001b[0m\u001b[0;34m,\u001b[0m \u001b[0maxis\u001b[0m\u001b[0;34m=\u001b[0m\u001b[0;36m0\u001b[0m\u001b[0;34m,\u001b[0m \u001b[0mconvert\u001b[0m\u001b[0;34m=\u001b[0m\u001b[0;32mFalse\u001b[0m\u001b[0;34m)\u001b[0m\u001b[0;34m\u001b[0m\u001b[0m\n\u001b[1;32m   1951\u001b[0m         \u001b[0;32melse\u001b[0m\u001b[0;34m:\u001b[0m\u001b[0;34m\u001b[0m\u001b[0m\n\u001b[0;32m-> 1952\u001b[0;31m             \u001b[0mindexer\u001b[0m \u001b[0;34m=\u001b[0m \u001b[0mself\u001b[0m\u001b[0;34m.\u001b[0m\u001b[0mix\u001b[0m\u001b[0;34m.\u001b[0m\u001b[0m_convert_to_indexer\u001b[0m\u001b[0;34m(\u001b[0m\u001b[0mkey\u001b[0m\u001b[0;34m,\u001b[0m \u001b[0maxis\u001b[0m\u001b[0;34m=\u001b[0m\u001b[0;36m1\u001b[0m\u001b[0;34m)\u001b[0m\u001b[0;34m\u001b[0m\u001b[0m\n\u001b[0m\u001b[1;32m   1953\u001b[0m             \u001b[0;32mreturn\u001b[0m \u001b[0mself\u001b[0m\u001b[0;34m.\u001b[0m\u001b[0mtake\u001b[0m\u001b[0;34m(\u001b[0m\u001b[0mindexer\u001b[0m\u001b[0;34m,\u001b[0m \u001b[0maxis\u001b[0m\u001b[0;34m=\u001b[0m\u001b[0;36m1\u001b[0m\u001b[0;34m,\u001b[0m \u001b[0mconvert\u001b[0m\u001b[0;34m=\u001b[0m\u001b[0;32mTrue\u001b[0m\u001b[0;34m)\u001b[0m\u001b[0;34m\u001b[0m\u001b[0m\n\u001b[1;32m   1954\u001b[0m \u001b[0;34m\u001b[0m\u001b[0m\n",
      "\u001b[0;32m//anaconda/envs/vacancy/lib/python3.4/site-packages/pandas/core/indexing.py\u001b[0m in \u001b[0;36m_convert_to_indexer\u001b[0;34m(self, obj, axis, is_setter)\u001b[0m\n\u001b[1;32m   1119\u001b[0m                 \u001b[0mmask\u001b[0m \u001b[0;34m=\u001b[0m \u001b[0mcheck\u001b[0m \u001b[0;34m==\u001b[0m \u001b[0;34m-\u001b[0m\u001b[0;36m1\u001b[0m\u001b[0;34m\u001b[0m\u001b[0m\n\u001b[1;32m   1120\u001b[0m                 \u001b[0;32mif\u001b[0m \u001b[0mmask\u001b[0m\u001b[0;34m.\u001b[0m\u001b[0many\u001b[0m\u001b[0;34m(\u001b[0m\u001b[0;34m)\u001b[0m\u001b[0;34m:\u001b[0m\u001b[0;34m\u001b[0m\u001b[0m\n\u001b[0;32m-> 1121\u001b[0;31m                     \u001b[0;32mraise\u001b[0m \u001b[0mKeyError\u001b[0m\u001b[0;34m(\u001b[0m\u001b[0;34m'%s not in index'\u001b[0m \u001b[0;34m%\u001b[0m \u001b[0mobjarr\u001b[0m\u001b[0;34m[\u001b[0m\u001b[0mmask\u001b[0m\u001b[0;34m]\u001b[0m\u001b[0;34m)\u001b[0m\u001b[0;34m\u001b[0m\u001b[0m\n\u001b[0m\u001b[1;32m   1122\u001b[0m \u001b[0;34m\u001b[0m\u001b[0m\n\u001b[1;32m   1123\u001b[0m                 \u001b[0;32mreturn\u001b[0m \u001b[0m_values_from_object\u001b[0m\u001b[0;34m(\u001b[0m\u001b[0mindexer\u001b[0m\u001b[0;34m)\u001b[0m\u001b[0;34m\u001b[0m\u001b[0m\n",
      "\u001b[0;31mKeyError\u001b[0m: \"['deed__Other' 'deed__Quit Claim Deed' 'deed__Quit Claim Deed Ex'\\n 'deed__Sheriffs Deed' 'deed__Survivorship Deed' 'deed__Warranty Deed'\\n 'lender__0.0' 'lender__1501.0' 'lender__2500.0' 'lender__None'\\n 'ext__Aluminum/Vinyl (r)' 'ext__Brick' 'ext__Frame (r)' 'ext__Other'\\n 'style__Bungalow' 'style__Colonial' 'style__Other' 'style__Ranch'\\n 'style__Split level' 'style__Townhouse' 'condition_value13'\\n 'ownerocc_value' 'totbldgs' 'vacant_block' 'median_rent' 'property_crimes'\\n 'burglaries' 'part_one_crimes' 'part_two_crimes' 'bachelors+'\\n 'poverty_rate' 'median_hh_income' 'white' 'black' 'asian' 'other'\\n 'hispanic' 'young' 'middle' 'old' 'num_of_sales' 'num_of_transfers'\\n 'lb_acquired' 'lb_tax_fc' 'vindall_Y' 'vindall_P' 'violations_number_1_yr'\\n 'violations_number_2_yr' 'v_condem_count' 'v_condem_count.1'\\n 'v_exteri_count' 'v_survey_count' 'c_O.V.V._1yr'\\n 'c_Complete interior/exterior_1yr' 'c_General Exterior Maintenance_1yr'\\n 'c_Fire Damage_1yr' 'c_Vacant Distressed_1yr'\\n 'c_Complete interior/exterior_2yr' 'c_General Exterior Maintenance_2yr'\\n 'c_Fire Damage_2yr' 'c_Vacant Distressed_2yr' 'complaint_count_2yr'\\n 'complaint_count_1yr' 'complaint_count_6_mon' 'active_fc' 'fc_2yr'\\n 'sa_no_bid_lb' 'sa_no_bid_state' 'sa_active' 'sa_sold' 'TAX_ASSESSED_LAND'\\n 'TAX_MARKET_LAND'] not in index\""
     ]
    }
   ],
   "source": [
    "abc = AdaBoostClassifier(n_estimators=50, random_state=0)\n",
    "abc.fit(train[features], y)"
   ]
  },
  {
   "cell_type": "code",
   "execution_count": 190,
   "metadata": {
    "collapsed": false
   },
   "outputs": [
    {
     "data": {
      "text/plain": [
       "0.85570079795738163"
      ]
     },
     "execution_count": 190,
     "metadata": {},
     "output_type": "execute_result"
    }
   ],
   "source": [
    "cross_val_score(abc, df3[features], df3.vacant, cv=10, scoring='accuracy').mean()"
   ]
  },
  {
   "cell_type": "code",
   "execution_count": 50,
   "metadata": {
    "collapsed": true
   },
   "outputs": [],
   "source": [
    "sound()"
   ]
  },
  {
   "cell_type": "code",
   "execution_count": 51,
   "metadata": {
    "collapsed": false
   },
   "outputs": [],
   "source": [
    "abc_prob = abc.predict_proba(test[features])"
   ]
  },
  {
   "cell_type": "code",
   "execution_count": 52,
   "metadata": {
    "collapsed": false
   },
   "outputs": [
    {
     "data": {
      "text/html": [
       "<div>\n",
       "<table border=\"1\" class=\"dataframe\">\n",
       "  <thead>\n",
       "    <tr style=\"text-align: right;\">\n",
       "      <th>preds</th>\n",
       "      <th>0</th>\n",
       "      <th>1</th>\n",
       "    </tr>\n",
       "    <tr>\n",
       "      <th>actual</th>\n",
       "      <th></th>\n",
       "      <th></th>\n",
       "    </tr>\n",
       "  </thead>\n",
       "  <tbody>\n",
       "    <tr>\n",
       "      <th>0</th>\n",
       "      <td>30436</td>\n",
       "      <td>443</td>\n",
       "    </tr>\n",
       "    <tr>\n",
       "      <th>1</th>\n",
       "      <td>1642</td>\n",
       "      <td>1365</td>\n",
       "    </tr>\n",
       "  </tbody>\n",
       "</table>\n",
       "</div>"
      ],
      "text/plain": [
       "preds       0     1\n",
       "actual             \n",
       "0       30436   443\n",
       "1        1642  1365"
      ]
     },
     "execution_count": 52,
     "metadata": {},
     "output_type": "execute_result"
    }
   ],
   "source": [
    "pd.crosstab(test['vacant'], abc.predict(test[features]), rownames=['actual'], colnames=['preds'])"
   ]
  },
  {
   "cell_type": "markdown",
   "metadata": {},
   "source": [
    "### Single decision tree"
   ]
  },
  {
   "cell_type": "code",
   "execution_count": 53,
   "metadata": {
    "collapsed": false
   },
   "outputs": [],
   "source": [
    "from sklearn import tree"
   ]
  },
  {
   "cell_type": "code",
   "execution_count": 77,
   "metadata": {
    "collapsed": false
   },
   "outputs": [
    {
     "data": {
      "image/png": "[encoded data removed]",
      "text/plain": [
       "<matplotlib.figure.Figure at 0x10d9270d0>"
      ]
     },
     "metadata": {},
     "output_type": "display_data"
    }
   ],
   "source": [
    "leafs = range(1,20,1)\n",
    "scores = []\n",
    "for leaf in leafs:\n",
    "    clf = tree.DecisionTreeClassifier(class_weight='auto', min_samples_leaf=leaf)\n",
    "    scores.append(cross_val_score(clf, df3[features], df3.vacant, cv=10, scoring='accuracy').mean())\n",
    "plt.plot(leafs, scores, '--');"
   ]
  },
  {
   "cell_type": "code",
   "execution_count": 58,
   "metadata": {
    "collapsed": false
   },
   "outputs": [],
   "source": [
    "clf = tree.DecisionTreeClassifier(class_weight=None, min_samples_leaf=3)\n",
    "clf = clf.fit(train[features], y)"
   ]
  },
  {
   "cell_type": "code",
   "execution_count": 196,
   "metadata": {
    "collapsed": false
   },
   "outputs": [
    {
     "data": {
      "text/plain": [
       "0.76765186629132975"
      ]
     },
     "execution_count": 196,
     "metadata": {},
     "output_type": "execute_result"
    }
   ],
   "source": [
    "cross_val_score(clf, df3[features], df3.vacant, cv=10, scoring='accuracy').mean()"
   ]
  },
  {
   "cell_type": "code",
   "execution_count": 59,
   "metadata": {
    "collapsed": false
   },
   "outputs": [
    {
     "data": {
      "text/html": [
       "<div>\n",
       "<table border=\"1\" class=\"dataframe\">\n",
       "  <thead>\n",
       "    <tr style=\"text-align: right;\">\n",
       "      <th>preds</th>\n",
       "      <th>0</th>\n",
       "      <th>1</th>\n",
       "    </tr>\n",
       "    <tr>\n",
       "      <th>actual</th>\n",
       "      <th></th>\n",
       "      <th></th>\n",
       "    </tr>\n",
       "  </thead>\n",
       "  <tbody>\n",
       "    <tr>\n",
       "      <th>0</th>\n",
       "      <td>29478</td>\n",
       "      <td>1401</td>\n",
       "    </tr>\n",
       "    <tr>\n",
       "      <th>1</th>\n",
       "      <td>1546</td>\n",
       "      <td>1461</td>\n",
       "    </tr>\n",
       "  </tbody>\n",
       "</table>\n",
       "</div>"
      ],
      "text/plain": [
       "preds       0     1\n",
       "actual             \n",
       "0       29478  1401\n",
       "1        1546  1461"
      ]
     },
     "execution_count": 59,
     "metadata": {},
     "output_type": "execute_result"
    }
   ],
   "source": [
    "pd.crosstab(test['vacant'], clf.predict(test[features]), rownames=['actual'], colnames=['preds'])"
   ]
  },
  {
   "cell_type": "markdown",
   "metadata": {},
   "source": [
    "## xgboost"
   ]
  },
  {
   "cell_type": "code",
   "execution_count": 60,
   "metadata": {
    "collapsed": false
   },
   "outputs": [
    {
     "ename": "ImportError",
     "evalue": "No module named 'xgboost'",
     "output_type": "error",
     "traceback": [
      "\u001b[0;31m---------------------------------------------------------------------------\u001b[0m",
      "\u001b[0;31mImportError\u001b[0m                               Traceback (most recent call last)",
      "\u001b[0;32m<ipython-input-60-745aa3a2d734>\u001b[0m in \u001b[0;36m<module>\u001b[0;34m()\u001b[0m\n\u001b[0;32m----> 1\u001b[0;31m \u001b[0;32mimport\u001b[0m \u001b[0mxgboost\u001b[0m \u001b[0;32mas\u001b[0m \u001b[0mxgb\u001b[0m\u001b[0;34m\u001b[0m\u001b[0m\n\u001b[0m",
      "\u001b[0;31mImportError\u001b[0m: No module named 'xgboost'"
     ]
    }
   ],
   "source": [
    "import xgboost as xgb"
   ]
  },
  {
   "cell_type": "code",
   "execution_count": 74,
   "metadata": {
    "collapsed": false
   },
   "outputs": [],
   "source": [
    "xgtest = test[features].as_matrix()\n",
    "#create train and validation dmatrices \n",
    "xgtrain = train[features].as_matrix()"
   ]
  },
  {
   "cell_type": "code",
   "execution_count": 75,
   "metadata": {
    "collapsed": false
   },
   "outputs": [],
   "source": [
    "gbm = xgb.XGBClassifier(max_depth=50, n_estimators=100, learning_rate=0.1).fit(xgtrain, y)\n",
    "predictions = gbm.predict(xgtest)\n",
    "probs = gbm.predict_proba(xgtest)"
   ]
  },
  {
   "cell_type": "code",
   "execution_count": 76,
   "metadata": {
    "collapsed": false
   },
   "outputs": [
    {
     "data": {
      "text/html": [
       "<div>\n",
       "<table border=\"1\" class=\"dataframe\">\n",
       "  <thead>\n",
       "    <tr style=\"text-align: right;\">\n",
       "      <th>col_0</th>\n",
       "      <th>0</th>\n",
       "      <th>1</th>\n",
       "    </tr>\n",
       "    <tr>\n",
       "      <th>vacant</th>\n",
       "      <th></th>\n",
       "      <th></th>\n",
       "    </tr>\n",
       "  </thead>\n",
       "  <tbody>\n",
       "    <tr>\n",
       "      <th>0</th>\n",
       "      <td>30723</td>\n",
       "      <td>438</td>\n",
       "    </tr>\n",
       "    <tr>\n",
       "      <th>1</th>\n",
       "      <td>1585</td>\n",
       "      <td>1354</td>\n",
       "    </tr>\n",
       "  </tbody>\n",
       "</table>\n",
       "</div>"
      ],
      "text/plain": [
       "col_0       0     1\n",
       "vacant             \n",
       "0       30723   438\n",
       "1        1585  1354"
      ]
     },
     "execution_count": 76,
     "metadata": {},
     "output_type": "execute_result"
    }
   ],
   "source": [
    "pd.crosstab(test['vacant'],predictions)"
   ]
  },
  {
   "cell_type": "code",
   "execution_count": 365,
   "metadata": {
    "collapsed": true
   },
   "outputs": [],
   "source": [
    "sound()"
   ]
  },
  {
   "cell_type": "code",
   "execution_count": 80,
   "metadata": {
    "collapsed": false
   },
   "outputs": [
    {
     "name": "stdout",
     "output_type": "stream",
     "text": [
      "0.725076556652\n"
     ]
    },
    {
     "data": {
      "text/html": [
       "<div>\n",
       "<table border=\"1\" class=\"dataframe\">\n",
       "  <thead>\n",
       "    <tr style=\"text-align: right;\">\n",
       "      <th>pred</th>\n",
       "      <th>0.0</th>\n",
       "      <th>1.0</th>\n",
       "    </tr>\n",
       "    <tr>\n",
       "      <th>vacant</th>\n",
       "      <th></th>\n",
       "      <th></th>\n",
       "    </tr>\n",
       "  </thead>\n",
       "  <tbody>\n",
       "    <tr>\n",
       "      <th>0</th>\n",
       "      <td>2431</td>\n",
       "      <td>438</td>\n",
       "    </tr>\n",
       "    <tr>\n",
       "      <th>1</th>\n",
       "      <td>777</td>\n",
       "      <td>1354</td>\n",
       "    </tr>\n",
       "  </tbody>\n",
       "</table>\n",
       "</div>"
      ],
      "text/plain": [
       "pred       0     1\n",
       "vacant            \n",
       "0       2431   438\n",
       "1        777  1354"
      ]
     },
     "execution_count": 80,
     "metadata": {},
     "output_type": "execute_result"
    },
    {
     "data": {
      "image/png": "[encoded data removed]",
      "text/plain": [
       "<matplotlib.figure.Figure at 0x10f086dd0>"
      ]
     },
     "metadata": {},
     "output_type": "display_data"
    }
   ],
   "source": [
    "tem = test.copy()\n",
    "tem['prob'] = probs[:,1]\n",
    "tem['pred'] = tem.prob.apply(round)\n",
    "plt.hist(tem[tem.vacant==1].prob.values,alpha=0.5,normed=True, bins=20);\n",
    "plt.hist(tem[tem.vacant==0].prob.values,alpha=0.5,normed=True, bins=20);\n",
    "print)sum(tem.sort_values('prob', ascending=False).iloc[0:5000].vacant)*1.0/sum(tem.vacant))\n",
    "pd.crosstab(tem.sort_values('prob', ascending=False).iloc[0:5000].vacant,tem.sort_values('prob', ascending=False).iloc[0:5000].pred)"
   ]
  },
  {
   "cell_type": "code",
   "execution_count": 82,
   "metadata": {
    "collapsed": false
   },
   "outputs": [
    {
     "data": {
      "text/html": [
       "<div>\n",
       "<table border=\"1\" class=\"dataframe\">\n",
       "  <thead>\n",
       "    <tr style=\"text-align: right;\">\n",
       "      <th>pred</th>\n",
       "      <th>0.0</th>\n",
       "      <th>1.0</th>\n",
       "    </tr>\n",
       "    <tr>\n",
       "      <th>vacant</th>\n",
       "      <th></th>\n",
       "      <th></th>\n",
       "    </tr>\n",
       "  </thead>\n",
       "  <tbody>\n",
       "    <tr>\n",
       "      <th>0</th>\n",
       "      <td>2431</td>\n",
       "      <td>438</td>\n",
       "    </tr>\n",
       "    <tr>\n",
       "      <th>1</th>\n",
       "      <td>777</td>\n",
       "      <td>1354</td>\n",
       "    </tr>\n",
       "  </tbody>\n",
       "</table>\n",
       "</div>"
      ],
      "text/plain": [
       "pred       0     1\n",
       "vacant            \n",
       "0       2431   438\n",
       "1        777  1354"
      ]
     },
     "execution_count": 82,
     "metadata": {},
     "output_type": "execute_result"
    }
   ],
   "source": [
    "pd.crosstab(tem.sort_values('prob', ascending=False).iloc[0:5000].vacant,tem.sort_values('prob', ascending=False).iloc[0:5000].pred)"
   ]
  },
  {
   "cell_type": "code",
   "execution_count": 81,
   "metadata": {
    "collapsed": false
   },
   "outputs": [
    {
     "data": {
      "text/html": [
       "<div>\n",
       "<table border=\"1\" class=\"dataframe\">\n",
       "  <thead>\n",
       "    <tr style=\"text-align: right;\">\n",
       "      <th>pred</th>\n",
       "      <th>0.0</th>\n",
       "      <th>1.0</th>\n",
       "    </tr>\n",
       "    <tr>\n",
       "      <th>vacant</th>\n",
       "      <th></th>\n",
       "      <th></th>\n",
       "    </tr>\n",
       "  </thead>\n",
       "  <tbody>\n",
       "    <tr>\n",
       "      <th>0</th>\n",
       "      <td>2431</td>\n",
       "      <td>438</td>\n",
       "    </tr>\n",
       "    <tr>\n",
       "      <th>1</th>\n",
       "      <td>777</td>\n",
       "      <td>1354</td>\n",
       "    </tr>\n",
       "  </tbody>\n",
       "</table>\n",
       "</div>"
      ],
      "text/plain": [
       "pred       0     1\n",
       "vacant            \n",
       "0       2431   438\n",
       "1        777  1354"
      ]
     },
     "execution_count": 81,
     "metadata": {},
     "output_type": "execute_result"
    }
   ],
   "source": [
    "pd.crosstab(tem.sort_values('prob', ascending=False).iloc[0:5000].vacant,tem.sort_values('prob', ascending=False).iloc[0:5000].pred)"
   ]
  },
  {
   "cell_type": "code",
   "execution_count": 107,
   "metadata": {
    "collapsed": false
   },
   "outputs": [
    {
     "data": {
      "text/plain": [
       "['style__Bungalow',\n",
       " 'style__CAP',\n",
       " 'style__Colonial',\n",
       " 'style__Other',\n",
       " 'style__Ranch',\n",
       " 'ext__Aluminum/Vinyl (r)',\n",
       " 'ext__Brick',\n",
       " 'ext__Frame (r)',\n",
       " 'ext__Other',\n",
       " 'lender__0',\n",
       " 'lender__1501',\n",
       " 'lender__2500',\n",
       " 'lender__None',\n",
       " 'propsize',\n",
       " 'totusabl',\n",
       " 'tmktval',\n",
       " 'condition_value13',\n",
       " 'condition_value14',\n",
       " 'ownerocc_value',\n",
       " 'totbldgs',\n",
       " 'yrbuilt_filtered',\n",
       " 'vacant_block',\n",
       " 'median_rent',\n",
       " 'property_crimes',\n",
       " 'burglaries',\n",
       " 'part_one_crimes',\n",
       " 'part_two_crimes',\n",
       " 'bachelors+',\n",
       " 'poverty_rate',\n",
       " 'median_hh_income',\n",
       " 'white',\n",
       " 'black',\n",
       " 'asian',\n",
       " 'other',\n",
       " 'hispanic',\n",
       " 'young',\n",
       " 'middle',\n",
       " 'old',\n",
       " 'al_num',\n",
       " 'al_days',\n",
       " 't_days',\n",
       " 't_shf_deed',\n",
       " 't_num',\n",
       " 'lb_acquired',\n",
       " 'lb_tax_fc',\n",
       " 'pv_total',\n",
       " 'v_total_1yr',\n",
       " 'v_total_2yr',\n",
       " 'c_ovv_2yr',\n",
       " 'c_ovv_1yr',\n",
       " 'active_fc',\n",
       " 'fc_1yr',\n",
       " 'fc_2yr',\n",
       " 'fc_days',\n",
       " 'sa_days',\n",
       " 'TAX_ASSESSED_LAND',\n",
       " 'TAX_MARKET_LAND',\n",
       " 'GRAND_TOTAL_BALANCE',\n",
       " 'GRAND_TOTAL_BALANCE_14',\n",
       " 'is_train']"
      ]
     },
     "execution_count": 107,
     "metadata": {},
     "output_type": "execute_result"
    }
   ],
   "source": [
    "features"
   ]
  },
  {
   "cell_type": "code",
   "execution_count": null,
   "metadata": {
    "collapsed": true
   },
   "outputs": [],
   "source": []
  }
 ],
 "metadata": {
  "kernelspec": {
   "display_name": "Python 2",
   "language": "python",
   "name": "python2"
  },
  "language_info": {
   "codemirror_mode": {
    "name": "ipython",
    "version": 2
   },
   "file_extension": ".py",
   "mimetype": "text/x-python",
   "name": "python",
   "nbconvert_exporter": "python",
   "pygments_lexer": "ipython2",
   "version": "2.7.10"
  }
 },
 "nbformat": 4,
 "nbformat_minor": 0
}
