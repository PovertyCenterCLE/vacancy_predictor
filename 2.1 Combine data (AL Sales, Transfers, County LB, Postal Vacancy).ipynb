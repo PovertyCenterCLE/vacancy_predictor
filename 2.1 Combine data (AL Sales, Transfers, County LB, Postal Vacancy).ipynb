{
 "cells": [
  {
   "cell_type": "markdown",
   "metadata": {},
   "source": [
    "# Combine Data (not from prop)\n",
    "\n",
    "Data has now been filtered for the parcel numbers in the existing dataset. The end goal is to have a dataset with one row for each parcel in which to build the model. **Imputation will occur in a separate notebook!**\n",
    "\n",
    "However, we can't forget to explore the existing data for trends or insight along the way, as well as engineer features as we see fit."
   ]
  },
  {
   "cell_type": "code",
   "execution_count": 1,
   "metadata": {
    "collapsed": false
   },
   "outputs": [],
   "source": [
    "import matplotlib.pyplot as plt\n",
    "import seaborn as sns\n",
    "%matplotlib inline\n",
    "import pandas as pd\n",
    "import numpy as np\n",
    "\n",
    "tci = pd.read_csv('model_data/tci_with_prop.csv')\n",
    "ppns = set(tci['parcel'])\n",
    "ppns_num = set(tci['parcel'].apply(lambda x: x.replace('-','')))"
   ]
  },
  {
   "cell_type": "markdown",
   "metadata": {},
   "source": [
    "## Arms length sales"
   ]
  },
  {
   "cell_type": "code",
   "execution_count": 3,
   "metadata": {
    "collapsed": false
   },
   "outputs": [],
   "source": [
    "al = pd.read_csv('clean_data/armslength_tci.csv')\n",
    "al = al.drop_duplicates()"
   ]
  },
  {
   "cell_type": "code",
   "execution_count": 4,
   "metadata": {
    "collapsed": false
   },
   "outputs": [
    {
     "data": {
      "text/plain": [
       "(5497, 86)"
      ]
     },
     "execution_count": 4,
     "metadata": {},
     "output_type": "execute_result"
    }
   ],
   "source": [
    "al.shape"
   ]
  },
  {
   "cell_type": "code",
   "execution_count": 6,
   "metadata": {
    "collapsed": false,
    "scrolled": true
   },
   "outputs": [
    {
     "name": "stdout",
     "output_type": "stream",
     "text": [
      "<class 'pandas.core.frame.DataFrame'>\n",
      "Int64Index: 5497 entries, 0 to 5496\n",
      "Data columns (total 86 columns):\n",
      "AMOUNT_PAID                     5497 non-null float64\n",
      "ASSUMED_LOAN_AMOUNT             5497 non-null int64\n",
      "AUTO_FILE_NUMBER                3696 non-null object\n",
      "BUILDINGS_ON_LAND               5497 non-null int64\n",
      "CAMA_INV_FILE                   5497 non-null object\n",
      "CAMA_SALE_FILE                  5497 non-null object\n",
      "CHANGE_TIMESTAMP                5077 non-null object\n",
      "CONVEYANCE_FEE                  5497 non-null float64\n",
      "DEED_TYPE                       5475 non-null object\n",
      "EXEMPTCODE                      5497 non-null int64\n",
      "EXEMPTCODE_DESCR                1 non-null object\n",
      "FEE_CHECK_NUM                   1067 non-null object\n",
      "FEE_PAID_BY                     4011 non-null object\n",
      "GIFT                            5497 non-null int64\n",
      "GRANTEE1                        5497 non-null object\n",
      "GRANTOR1                        5497 non-null object\n",
      "GRANTOR_IS_MORTGAGEE            5497 non-null int64\n",
      "GRANTOR_IS_RELATIVE             5497 non-null int64\n",
      "INSTRUMENT_DATE                 5077 non-null object\n",
      "INSTRUMENT_TYPE                 5497 non-null int64\n",
      "LAND_CONTRACT                   5497 non-null int64\n",
      "LEASED_FEE                      5497 non-null int64\n",
      "LEASE_HOLD                      5497 non-null int64\n",
      "LIFE_ESTATE                     5497 non-null int64\n",
      "MINERAL_RIGHTS_RESERVED         5497 non-null int64\n",
      "MONTH_OF_SALE                   5497 non-null int64\n",
      "MOTHER                          5497 non-null int64\n",
      "NUMBER_OF_PROPERTIES_IN_SALE    5497 non-null int64\n",
      "PARTINTER_EST_TRANSFERRED       5497 non-null int64\n",
      "PERMISSIVE_FEE                  5497 non-null float64\n",
      "PERSONAL_PROPERTY_AMOUNT        5497 non-null int64\n",
      "PROPERTY_NUMBER                 5497 non-null object\n",
      "RECEIPT_NUMBER                  1175 non-null float64\n",
      "RECORDED_BOOK                   1175 non-null float64\n",
      "RECORDED_DATE                   5077 non-null object\n",
      "RECORDED_PAGE                   1175 non-null float64\n",
      "SALES_AMOUNT                    5497 non-null int64\n",
      "SALES_SOURCE                    5497 non-null int64\n",
      "SALES_SOURCE_DESCR              302 non-null object\n",
      "SALE_VALID                      5497 non-null int64\n",
      "TRADE                           5497 non-null int64\n",
      "mdate                           5497 non-null object\n",
      "TRANSFER_FEE                    5497 non-null float64\n",
      "TRANSFER_FROM_PARCEL            0 non-null float64\n",
      "TRANSFER_HISTORY_ID             5497 non-null int64\n",
      "TRANSFER_NUMBER                 5497 non-null int64\n",
      "TRANSFER_ORDER                  5497 non-null int64\n",
      "TRANSFER_STATUS                 5497 non-null object\n",
      "TRANSFER_TO_ID                  5497 non-null int64\n",
      "TRANSFER_TYPE                   5497 non-null int64\n",
      "TRANSFER_TYPE_DESCR             5497 non-null object\n",
      "UPDATE_DATE                     5077 non-null object\n",
      "USER_ID                         5497 non-null object\n",
      "WHS_ID                          5497 non-null int64\n",
      "YEAR_OF_SALE                    5497 non-null int64\n",
      "DOWNLOAD_DATE                   5053 non-null object\n",
      "instrument_number               4322 non-null float64\n",
      "deed_number                     1312 non-null object\n",
      "multiproperty_sale              5497 non-null int64\n",
      "ppn                             5037 non-null float64\n",
      "conveyance_number               4251 non-null object\n",
      "PARCEL_ID                       356 non-null float64\n",
      "td                              5 non-null object\n",
      "ct                              0 non-null float64\n",
      "id                              0 non-null float64\n",
      "rd                              0 non-null float64\n",
      "par                             0 non-null float64\n",
      "yr                              5497 non-null int64\n",
      "seqno                           5497 non-null int64\n",
      "buyer                           5497 non-null object\n",
      "nbuy                            5497 non-null object\n",
      "ngrantee1                       5497 non-null object\n",
      "nsell                           5497 non-null object\n",
      "ngrantor1                       5497 non-null object\n",
      "bk56                            5497 non-null int64\n",
      "trustee                         5497 non-null int64\n",
      "shf_sales                       5497 non-null int64\n",
      "final_cat                       5497 non-null object\n",
      "stdname                         5497 non-null object\n",
      "cons_name                       319 non-null object\n",
      "armslength                      5497 non-null float64\n",
      "std_ngrantee1                   5497 non-null object\n",
      "std_ngrantor1                   5497 non-null object\n",
      "count                           5497 non-null float64\n",
      "self_sales                      5497 non-null float64\n",
      "bulk_sales                      5497 non-null float64\n",
      "dtypes: float64(19), int64(34), object(33)\n",
      "memory usage: 3.6+ MB\n"
     ]
    }
   ],
   "source": [
    "al.info()"
   ]
  },
  {
   "cell_type": "code",
   "execution_count": 36,
   "metadata": {
    "collapsed": false,
    "scrolled": true
   },
   "outputs": [
    {
     "data": {
      "text/html": [
       "<div style=\"max-height:1000px;max-width:1500px;overflow:auto;\">\n",
       "<table border=\"1\" class=\"dataframe\">\n",
       "  <thead>\n",
       "    <tr style=\"text-align: right;\">\n",
       "      <th></th>\n",
       "      <th>GRANTOR_IS_MORTGAGEE</th>\n",
       "      <th>PROPERTY_NUMBER</th>\n",
       "    </tr>\n",
       "  </thead>\n",
       "  <tbody>\n",
       "    <tr>\n",
       "      <th>0   </th>\n",
       "      <td> 0</td>\n",
       "      <td> 129-26-066</td>\n",
       "    </tr>\n",
       "    <tr>\n",
       "      <th>1   </th>\n",
       "      <td> 0</td>\n",
       "      <td> 129-16-081</td>\n",
       "    </tr>\n",
       "    <tr>\n",
       "      <th>2   </th>\n",
       "      <td> 0</td>\n",
       "      <td> 129-23-164</td>\n",
       "    </tr>\n",
       "    <tr>\n",
       "      <th>3   </th>\n",
       "      <td> 0</td>\n",
       "      <td> 128-13-046</td>\n",
       "    </tr>\n",
       "    <tr>\n",
       "      <th>4   </th>\n",
       "      <td> 0</td>\n",
       "      <td> 129-26-039</td>\n",
       "    </tr>\n",
       "    <tr>\n",
       "      <th>5   </th>\n",
       "      <td> 0</td>\n",
       "      <td> 128-24-082</td>\n",
       "    </tr>\n",
       "    <tr>\n",
       "      <th>6   </th>\n",
       "      <td> 0</td>\n",
       "      <td> 139-13-001</td>\n",
       "    </tr>\n",
       "    <tr>\n",
       "      <th>7   </th>\n",
       "      <td> 0</td>\n",
       "      <td> 129-19-081</td>\n",
       "    </tr>\n",
       "    <tr>\n",
       "      <th>8   </th>\n",
       "      <td> 0</td>\n",
       "      <td> 137-04-049</td>\n",
       "    </tr>\n",
       "    <tr>\n",
       "      <th>9   </th>\n",
       "      <td> 0</td>\n",
       "      <td> 137-05-019</td>\n",
       "    </tr>\n",
       "    <tr>\n",
       "      <th>10  </th>\n",
       "      <td> 0</td>\n",
       "      <td> 127-19-025</td>\n",
       "    </tr>\n",
       "    <tr>\n",
       "      <th>11  </th>\n",
       "      <td> 0</td>\n",
       "      <td> 128-28-066</td>\n",
       "    </tr>\n",
       "    <tr>\n",
       "      <th>12  </th>\n",
       "      <td> 0</td>\n",
       "      <td> 129-19-017</td>\n",
       "    </tr>\n",
       "    <tr>\n",
       "      <th>13  </th>\n",
       "      <td> 0</td>\n",
       "      <td> 129-24-134</td>\n",
       "    </tr>\n",
       "    <tr>\n",
       "      <th>14  </th>\n",
       "      <td> 0</td>\n",
       "      <td> 139-20-109</td>\n",
       "    </tr>\n",
       "    <tr>\n",
       "      <th>15  </th>\n",
       "      <td> 0</td>\n",
       "      <td> 130-15-081</td>\n",
       "    </tr>\n",
       "    <tr>\n",
       "      <th>16  </th>\n",
       "      <td> 0</td>\n",
       "      <td> 130-21-113</td>\n",
       "    </tr>\n",
       "    <tr>\n",
       "      <th>17  </th>\n",
       "      <td> 0</td>\n",
       "      <td> 137-18-144</td>\n",
       "    </tr>\n",
       "    <tr>\n",
       "      <th>18  </th>\n",
       "      <td> 0</td>\n",
       "      <td> 126-18-047</td>\n",
       "    </tr>\n",
       "    <tr>\n",
       "      <th>19  </th>\n",
       "      <td> 0</td>\n",
       "      <td> 128-18-009</td>\n",
       "    </tr>\n",
       "    <tr>\n",
       "      <th>20  </th>\n",
       "      <td> 0</td>\n",
       "      <td> 129-25-132</td>\n",
       "    </tr>\n",
       "    <tr>\n",
       "      <th>21  </th>\n",
       "      <td> 0</td>\n",
       "      <td> 129-29-153</td>\n",
       "    </tr>\n",
       "    <tr>\n",
       "      <th>22  </th>\n",
       "      <td> 0</td>\n",
       "      <td> 129-11-088</td>\n",
       "    </tr>\n",
       "    <tr>\n",
       "      <th>23  </th>\n",
       "      <td> 0</td>\n",
       "      <td> 130-23-064</td>\n",
       "    </tr>\n",
       "    <tr>\n",
       "      <th>24  </th>\n",
       "      <td> 0</td>\n",
       "      <td> 139-02-179</td>\n",
       "    </tr>\n",
       "    <tr>\n",
       "      <th>25  </th>\n",
       "      <td> 0</td>\n",
       "      <td> 126-16-072</td>\n",
       "    </tr>\n",
       "    <tr>\n",
       "      <th>26  </th>\n",
       "      <td> 0</td>\n",
       "      <td> 137-07-054</td>\n",
       "    </tr>\n",
       "    <tr>\n",
       "      <th>27  </th>\n",
       "      <td> 0</td>\n",
       "      <td> 129-22-060</td>\n",
       "    </tr>\n",
       "    <tr>\n",
       "      <th>28  </th>\n",
       "      <td> 0</td>\n",
       "      <td> 130-17-076</td>\n",
       "    </tr>\n",
       "    <tr>\n",
       "      <th>29  </th>\n",
       "      <td> 0</td>\n",
       "      <td> 127-27-053</td>\n",
       "    </tr>\n",
       "    <tr>\n",
       "      <th>...</th>\n",
       "      <td>...</td>\n",
       "      <td>...</td>\n",
       "    </tr>\n",
       "    <tr>\n",
       "      <th>5467</th>\n",
       "      <td> 0</td>\n",
       "      <td> 128-12-122</td>\n",
       "    </tr>\n",
       "    <tr>\n",
       "      <th>5468</th>\n",
       "      <td> 0</td>\n",
       "      <td> 129-27-012</td>\n",
       "    </tr>\n",
       "    <tr>\n",
       "      <th>5469</th>\n",
       "      <td> 0</td>\n",
       "      <td> 129-07-045</td>\n",
       "    </tr>\n",
       "    <tr>\n",
       "      <th>5470</th>\n",
       "      <td> 0</td>\n",
       "      <td> 128-19-050</td>\n",
       "    </tr>\n",
       "    <tr>\n",
       "      <th>5471</th>\n",
       "      <td> 0</td>\n",
       "      <td> 137-06-032</td>\n",
       "    </tr>\n",
       "    <tr>\n",
       "      <th>5472</th>\n",
       "      <td> 0</td>\n",
       "      <td> 137-02-105</td>\n",
       "    </tr>\n",
       "    <tr>\n",
       "      <th>5473</th>\n",
       "      <td> 0</td>\n",
       "      <td> 126-20-033</td>\n",
       "    </tr>\n",
       "    <tr>\n",
       "      <th>5474</th>\n",
       "      <td> 0</td>\n",
       "      <td> 128-02-178</td>\n",
       "    </tr>\n",
       "    <tr>\n",
       "      <th>5475</th>\n",
       "      <td> 0</td>\n",
       "      <td> 129-04-017</td>\n",
       "    </tr>\n",
       "    <tr>\n",
       "      <th>5476</th>\n",
       "      <td> 0</td>\n",
       "      <td> 128-02-126</td>\n",
       "    </tr>\n",
       "    <tr>\n",
       "      <th>5477</th>\n",
       "      <td> 0</td>\n",
       "      <td> 126-18-047</td>\n",
       "    </tr>\n",
       "    <tr>\n",
       "      <th>5478</th>\n",
       "      <td> 0</td>\n",
       "      <td> 128-18-031</td>\n",
       "    </tr>\n",
       "    <tr>\n",
       "      <th>5479</th>\n",
       "      <td> 0</td>\n",
       "      <td> 139-07-096</td>\n",
       "    </tr>\n",
       "    <tr>\n",
       "      <th>5480</th>\n",
       "      <td> 0</td>\n",
       "      <td> 130-09-018</td>\n",
       "    </tr>\n",
       "    <tr>\n",
       "      <th>5481</th>\n",
       "      <td> 0</td>\n",
       "      <td> 129-20-029</td>\n",
       "    </tr>\n",
       "    <tr>\n",
       "      <th>5482</th>\n",
       "      <td> 0</td>\n",
       "      <td> 130-13-071</td>\n",
       "    </tr>\n",
       "    <tr>\n",
       "      <th>5483</th>\n",
       "      <td> 0</td>\n",
       "      <td> 130-23-043</td>\n",
       "    </tr>\n",
       "    <tr>\n",
       "      <th>5484</th>\n",
       "      <td> 0</td>\n",
       "      <td> 139-01-021</td>\n",
       "    </tr>\n",
       "    <tr>\n",
       "      <th>5485</th>\n",
       "      <td> 0</td>\n",
       "      <td> 130-10-014</td>\n",
       "    </tr>\n",
       "    <tr>\n",
       "      <th>5486</th>\n",
       "      <td> 0</td>\n",
       "      <td> 128-11-032</td>\n",
       "    </tr>\n",
       "    <tr>\n",
       "      <th>5487</th>\n",
       "      <td> 0</td>\n",
       "      <td> 128-04-058</td>\n",
       "    </tr>\n",
       "    <tr>\n",
       "      <th>5488</th>\n",
       "      <td> 0</td>\n",
       "      <td> 137-13-059</td>\n",
       "    </tr>\n",
       "    <tr>\n",
       "      <th>5489</th>\n",
       "      <td> 0</td>\n",
       "      <td> 127-27-099</td>\n",
       "    </tr>\n",
       "    <tr>\n",
       "      <th>5490</th>\n",
       "      <td> 0</td>\n",
       "      <td> 129-24-039</td>\n",
       "    </tr>\n",
       "    <tr>\n",
       "      <th>5491</th>\n",
       "      <td> 0</td>\n",
       "      <td> 137-07-098</td>\n",
       "    </tr>\n",
       "    <tr>\n",
       "      <th>5492</th>\n",
       "      <td> 0</td>\n",
       "      <td> 130-01-179</td>\n",
       "    </tr>\n",
       "    <tr>\n",
       "      <th>5493</th>\n",
       "      <td> 0</td>\n",
       "      <td> 129-29-042</td>\n",
       "    </tr>\n",
       "    <tr>\n",
       "      <th>5494</th>\n",
       "      <td> 0</td>\n",
       "      <td> 137-07-046</td>\n",
       "    </tr>\n",
       "    <tr>\n",
       "      <th>5495</th>\n",
       "      <td> 0</td>\n",
       "      <td> 130-08-006</td>\n",
       "    </tr>\n",
       "    <tr>\n",
       "      <th>5496</th>\n",
       "      <td> 0</td>\n",
       "      <td> 139-08-070</td>\n",
       "    </tr>\n",
       "  </tbody>\n",
       "</table>\n",
       "<p>5497 rows × 2 columns</p>\n",
       "</div>"
      ],
      "text/plain": [
       "      GRANTOR_IS_MORTGAGEE PROPERTY_NUMBER\n",
       "0                        0      129-26-066\n",
       "1                        0      129-16-081\n",
       "2                        0      129-23-164\n",
       "3                        0      128-13-046\n",
       "4                        0      129-26-039\n",
       "5                        0      128-24-082\n",
       "6                        0      139-13-001\n",
       "7                        0      129-19-081\n",
       "8                        0      137-04-049\n",
       "9                        0      137-05-019\n",
       "10                       0      127-19-025\n",
       "11                       0      128-28-066\n",
       "12                       0      129-19-017\n",
       "13                       0      129-24-134\n",
       "14                       0      139-20-109\n",
       "15                       0      130-15-081\n",
       "16                       0      130-21-113\n",
       "17                       0      137-18-144\n",
       "18                       0      126-18-047\n",
       "19                       0      128-18-009\n",
       "20                       0      129-25-132\n",
       "21                       0      129-29-153\n",
       "22                       0      129-11-088\n",
       "23                       0      130-23-064\n",
       "24                       0      139-02-179\n",
       "25                       0      126-16-072\n",
       "26                       0      137-07-054\n",
       "27                       0      129-22-060\n",
       "28                       0      130-17-076\n",
       "29                       0      127-27-053\n",
       "...                    ...             ...\n",
       "5467                     0      128-12-122\n",
       "5468                     0      129-27-012\n",
       "5469                     0      129-07-045\n",
       "5470                     0      128-19-050\n",
       "5471                     0      137-06-032\n",
       "5472                     0      137-02-105\n",
       "5473                     0      126-20-033\n",
       "5474                     0      128-02-178\n",
       "5475                     0      129-04-017\n",
       "5476                     0      128-02-126\n",
       "5477                     0      126-18-047\n",
       "5478                     0      128-18-031\n",
       "5479                     0      139-07-096\n",
       "5480                     0      130-09-018\n",
       "5481                     0      129-20-029\n",
       "5482                     0      130-13-071\n",
       "5483                     0      130-23-043\n",
       "5484                     0      139-01-021\n",
       "5485                     0      130-10-014\n",
       "5486                     0      128-11-032\n",
       "5487                     0      128-04-058\n",
       "5488                     0      137-13-059\n",
       "5489                     0      127-27-099\n",
       "5490                     0      129-24-039\n",
       "5491                     0      137-07-098\n",
       "5492                     0      130-01-179\n",
       "5493                     0      129-29-042\n",
       "5494                     0      137-07-046\n",
       "5495                     0      130-08-006\n",
       "5496                     0      139-08-070\n",
       "\n",
       "[5497 rows x 2 columns]"
      ]
     },
     "execution_count": 36,
     "metadata": {},
     "output_type": "execute_result"
    }
   ],
   "source": [
    "al[['GRANTOR_IS_MORTGAGEE','PROPERTY_NUMBER']].groupby"
   ]
  },
  {
   "cell_type": "code",
   "execution_count": 44,
   "metadata": {
    "collapsed": true
   },
   "outputs": [],
   "source": []
  },
  {
   "cell_type": "code",
   "execution_count": 45,
   "metadata": {
    "collapsed": true
   },
   "outputs": [],
   "source": [
    "tem = pd.merge(tci, al[['GRANTOR_IS_MORTGAGEE','PROPERTY_NUMBER']].groupby('PROPERTY_NUMBER').sum(), \\\n",
    "               how='left', left_on='parcel', right_index=True)"
   ]
  },
  {
   "cell_type": "code",
   "execution_count": 50,
   "metadata": {
    "collapsed": false
   },
   "outputs": [],
   "source": [
    "tem.loc[tem['GRANTOR_IS_MORTGAGEE'].isnull(),'GRANTOR_IS_MORTGAGEE'] = 0"
   ]
  },
  {
   "cell_type": "code",
   "execution_count": 55,
   "metadata": {
    "collapsed": false
   },
   "outputs": [
    {
     "data": {
      "text/plain": [
       "GRANTOR_IS_MORTGAGEE\n",
       "0                       0.114733\n",
       "1                       0.294118\n",
       "dtype: float64"
      ]
     },
     "execution_count": 55,
     "metadata": {},
     "output_type": "execute_result"
    }
   ],
   "source": [
    "t = tem[['vacant','GRANTOR_IS_MORTGAGEE']].groupby('GRANTOR_IS_MORTGAGEE').agg([len,sum])\n",
    "t.vacant['sum']/t.vacant['len']"
   ]
  },
  {
   "cell_type": "code",
   "execution_count": 66,
   "metadata": {
    "collapsed": false
   },
   "outputs": [
    {
     "data": {
      "text/plain": [
       "339921"
      ]
     },
     "execution_count": 66,
     "metadata": {},
     "output_type": "execute_result"
    }
   ],
   "source": [
    "sum(al.ASSUMED_LOAN_AMOUNT)"
   ]
  },
  {
   "cell_type": "markdown",
   "metadata": {},
   "source": [
    "ASSUMED_LOAN_AMOUNT not work investigating -- only 7 properties with entries and non became vacant."
   ]
  },
  {
   "cell_type": "markdown",
   "metadata": {},
   "source": [
    "### Number of records for each parcel"
   ]
  },
  {
   "cell_type": "code",
   "execution_count": 7,
   "metadata": {
    "collapsed": false
   },
   "outputs": [
    {
     "data": {
      "text/plain": [
       "(13500, 19)"
      ]
     },
     "execution_count": 7,
     "metadata": {},
     "output_type": "execute_result"
    }
   ],
   "source": [
    "tci = pd.merge(tci, al[['PROPERTY_NUMBER','YEAR_OF_SALE']].groupby('PROPERTY_NUMBER').count(), \\\n",
    "               how='left', left_on='parcel', right_index=True)\n",
    "tci.shape"
   ]
  },
  {
   "cell_type": "code",
   "execution_count": 8,
   "metadata": {
    "collapsed": false
   },
   "outputs": [],
   "source": [
    "tci.loc[tci.YEAR_OF_SALE.isnull(),'YEAR_OF_SALE'] = 0\n",
    "tci.rename(columns={'YEAR_OF_SALE':'num_of_sales'}, inplace=True)"
   ]
  },
  {
   "cell_type": "code",
   "execution_count": 9,
   "metadata": {
    "collapsed": false
   },
   "outputs": [
    {
     "data": {
      "text/plain": [
       "num_of_sales\n",
       "0               0.092249\n",
       "1               0.158765\n",
       "2               0.196778\n",
       "3               0.221053\n",
       "4               0.257426\n",
       "5               0.379310\n",
       "6               0.428571\n",
       "7               1.000000\n",
       "dtype: float64"
      ]
     },
     "execution_count": 9,
     "metadata": {},
     "output_type": "execute_result"
    }
   ],
   "source": [
    "t = tci[['vacant','num_of_sales']].groupby('num_of_sales').agg([len,sum])\n",
    "t.vacant['sum']/t.vacant['len']"
   ]
  },
  {
   "cell_type": "code",
   "execution_count": 10,
   "metadata": {
    "collapsed": false
   },
   "outputs": [
    {
     "data": {
      "text/html": [
       "<div style=\"max-height:1000px;max-width:1500px;overflow:auto;\">\n",
       "<table border=\"1\" class=\"dataframe\">\n",
       "  <thead>\n",
       "    <tr>\n",
       "      <th></th>\n",
       "      <th colspan=\"2\" halign=\"left\">vacant</th>\n",
       "    </tr>\n",
       "    <tr>\n",
       "      <th></th>\n",
       "      <th>len</th>\n",
       "      <th>sum</th>\n",
       "    </tr>\n",
       "    <tr>\n",
       "      <th>num_of_sales</th>\n",
       "      <th></th>\n",
       "      <th></th>\n",
       "    </tr>\n",
       "  </thead>\n",
       "  <tbody>\n",
       "    <tr>\n",
       "      <th>0</th>\n",
       "      <td> 9908</td>\n",
       "      <td> 914</td>\n",
       "    </tr>\n",
       "    <tr>\n",
       "      <th>1</th>\n",
       "      <td> 2299</td>\n",
       "      <td> 365</td>\n",
       "    </tr>\n",
       "    <tr>\n",
       "      <th>2</th>\n",
       "      <td>  869</td>\n",
       "      <td> 171</td>\n",
       "    </tr>\n",
       "    <tr>\n",
       "      <th>3</th>\n",
       "      <td>  285</td>\n",
       "      <td>  63</td>\n",
       "    </tr>\n",
       "    <tr>\n",
       "      <th>4</th>\n",
       "      <td>  101</td>\n",
       "      <td>  26</td>\n",
       "    </tr>\n",
       "    <tr>\n",
       "      <th>5</th>\n",
       "      <td>   29</td>\n",
       "      <td>  11</td>\n",
       "    </tr>\n",
       "    <tr>\n",
       "      <th>6</th>\n",
       "      <td>    7</td>\n",
       "      <td>   3</td>\n",
       "    </tr>\n",
       "    <tr>\n",
       "      <th>7</th>\n",
       "      <td>    2</td>\n",
       "      <td>   2</td>\n",
       "    </tr>\n",
       "  </tbody>\n",
       "</table>\n",
       "</div>"
      ],
      "text/plain": [
       "             vacant     \n",
       "                len  sum\n",
       "num_of_sales            \n",
       "0              9908  914\n",
       "1              2299  365\n",
       "2               869  171\n",
       "3               285   63\n",
       "4               101   26\n",
       "5                29   11\n",
       "6                 7    3\n",
       "7                 2    2"
      ]
     },
     "execution_count": 10,
     "metadata": {},
     "output_type": "execute_result"
    }
   ],
   "source": [
    "t"
   ]
  },
  {
   "cell_type": "markdown",
   "metadata": {},
   "source": [
    "### Flags for Deeds"
   ]
  },
  {
   "cell_type": "code",
   "execution_count": 17,
   "metadata": {
    "collapsed": false
   },
   "outputs": [],
   "source": [
    "def add_deed_fields(field_names):\n",
    "    for field_name in field_names:\n",
    "        deed_ppns = set(al[al.DEED_TYPE==field_name].PROPERTY_NUMBER)                \n",
    "        def get_deed_field(x):\n",
    "            if x in deed_ppns:\n",
    "                return 1\n",
    "            else:\n",
    "                return 0\n",
    "\n",
    "        tci[field_name.lower().replace(' ','_')] = tci['parcel'].apply(get_deed_field)\n",
    "    return tci"
   ]
  },
  {
   "cell_type": "code",
   "execution_count": 18,
   "metadata": {
    "collapsed": false
   },
   "outputs": [],
   "source": [
    "tci = add_deed_fields(['QUIT CLAIM DEED', 'WARRANTY DEED', 'LIMITED WARRANTY', 'SURVIVORSHIP DEED','FIDUCIARY DEED'])"
   ]
  },
  {
   "cell_type": "code",
   "execution_count": 23,
   "metadata": {
    "collapsed": false
   },
   "outputs": [
    {
     "data": {
      "text/html": [
       "<div style=\"max-height:1000px;max-width:1500px;overflow:auto;\">\n",
       "<table border=\"1\" class=\"dataframe\">\n",
       "  <thead>\n",
       "    <tr>\n",
       "      <th></th>\n",
       "      <th colspan=\"2\" halign=\"left\">vacant</th>\n",
       "    </tr>\n",
       "    <tr>\n",
       "      <th></th>\n",
       "      <th>sum</th>\n",
       "      <th>len</th>\n",
       "    </tr>\n",
       "    <tr>\n",
       "      <th>fiduciary_deed</th>\n",
       "      <th></th>\n",
       "      <th></th>\n",
       "    </tr>\n",
       "  </thead>\n",
       "  <tbody>\n",
       "    <tr>\n",
       "      <th>0</th>\n",
       "      <td> 1539</td>\n",
       "      <td> 13376</td>\n",
       "    </tr>\n",
       "    <tr>\n",
       "      <th>1</th>\n",
       "      <td>   16</td>\n",
       "      <td>   124</td>\n",
       "    </tr>\n",
       "  </tbody>\n",
       "</table>\n",
       "</div>"
      ],
      "text/plain": [
       "               vacant       \n",
       "                  sum    len\n",
       "fiduciary_deed              \n",
       "0                1539  13376\n",
       "1                  16    124"
      ]
     },
     "execution_count": 23,
     "metadata": {},
     "output_type": "execute_result"
    }
   ],
   "source": [
    "tci[['fiduciary_deed','vacant']].groupby('fiduciary_deed').agg([sum,len])"
   ]
  },
  {
   "cell_type": "markdown",
   "metadata": {},
   "source": [
    "### STD Name -- flag if has name appears more than 3 times"
   ]
  },
  {
   "cell_type": "code",
   "execution_count": 11,
   "metadata": {
    "collapsed": false
   },
   "outputs": [],
   "source": [
    "names = al[['stdname','PROPERTY_NUMBER']].groupby('stdname').count()"
   ]
  },
  {
   "cell_type": "code",
   "execution_count": 12,
   "metadata": {
    "collapsed": false
   },
   "outputs": [],
   "source": [
    "multiple_names = set(names[names['PROPERTY_NUMBER']>3].sort('PROPERTY_NUMBER',ascending=False).index)"
   ]
  },
  {
   "cell_type": "code",
   "execution_count": 13,
   "metadata": {
    "collapsed": false
   },
   "outputs": [],
   "source": [
    "def get_stdname(x):\n",
    "    if x['stdname'] in multiple_names:\n",
    "        return 1\n",
    "    else:\n",
    "        return 0\n",
    "\n",
    "# tci['multiple_names'] = tci['parcel'].apply(get_stdname)"
   ]
  },
  {
   "cell_type": "code",
   "execution_count": 14,
   "metadata": {
    "collapsed": false
   },
   "outputs": [],
   "source": [
    "al['mult_name_flag'] = al[['stdname','PROPERTY_NUMBER']].apply(get_stdname, axis=1)"
   ]
  },
  {
   "cell_type": "code",
   "execution_count": 15,
   "metadata": {
    "collapsed": true
   },
   "outputs": [],
   "source": [
    "tci = pd.merge(tci, al[['mult_name_flag','PROPERTY_NUMBER']].groupby('PROPERTY_NUMBER').last(), \\\n",
    "               how='left', left_on='parcel', right_index=True)"
   ]
  },
  {
   "cell_type": "code",
   "execution_count": 16,
   "metadata": {
    "collapsed": false
   },
   "outputs": [
    {
     "name": "stdout",
     "output_type": "stream",
     "text": [
      "               vacant      \n",
      "                  sum   len\n",
      "mult_name_flag             \n",
      "0                 544  3076\n",
      "1                  97   516\n",
      "mult_name_flag\n",
      "0                 0.176853\n",
      "1                 0.187984\n",
      "dtype: float64\n"
     ]
    }
   ],
   "source": [
    "t = tci[['mult_name_flag','vacant']].groupby('mult_name_flag').agg([sum,len])\n",
    "print t\n",
    "print t.vacant['sum']/t.vacant['len']"
   ]
  },
  {
   "cell_type": "markdown",
   "metadata": {},
   "source": [
    "### Sale Valid {0, 1, 2}"
   ]
  },
  {
   "cell_type": "code",
   "execution_count": 17,
   "metadata": {
    "collapsed": false
   },
   "outputs": [],
   "source": [
    "tci = pd.merge(tci, al[['SALE_VALID','PROPERTY_NUMBER']].groupby('PROPERTY_NUMBER').last(), \\\n",
    "               how='left', left_on='parcel', right_index=True)"
   ]
  },
  {
   "cell_type": "code",
   "execution_count": 18,
   "metadata": {
    "collapsed": false
   },
   "outputs": [
    {
     "name": "stdout",
     "output_type": "stream",
     "text": [
      "           vacant      \n",
      "              sum   len\n",
      "SALE_VALID             \n",
      "0             385  1937\n",
      "1               6    29\n",
      "2             250  1626\n",
      "SALE_VALID\n",
      "0             0.198761\n",
      "1             0.206897\n",
      "2             0.153752\n",
      "dtype: float64\n"
     ]
    }
   ],
   "source": [
    "t = tci[['SALE_VALID','vacant']].groupby('SALE_VALID').agg([sum,len])\n",
    "print t\n",
    "print t.vacant['sum']/t.vacant['len']"
   ]
  },
  {
   "cell_type": "markdown",
   "metadata": {},
   "source": [
    "## Transfers"
   ]
  },
  {
   "cell_type": "code",
   "execution_count": 2,
   "metadata": {
    "collapsed": false
   },
   "outputs": [],
   "source": [
    "t = pd.read_csv('clean_data/transfers_tci.csv')"
   ]
  },
  {
   "cell_type": "code",
   "execution_count": 3,
   "metadata": {
    "collapsed": false,
    "scrolled": true
   },
   "outputs": [
    {
     "name": "stdout",
     "output_type": "stream",
     "text": [
      "<class 'pandas.core.frame.DataFrame'>\n",
      "Int64Index: 24943 entries, 0 to 24942\n",
      "Data columns (total 60 columns):\n",
      "TRANSFER_TO_ID                  24943 non-null int64\n",
      "WHS_ID                          24943 non-null int64\n",
      "TRANSFER_HISTORY_ID             24943 non-null int64\n",
      "TRANSFER_ORDER                  24943 non-null int64\n",
      "PARCEL_ID                       24943 non-null int64\n",
      "PROPERTY_NUMBER                 24943 non-null object\n",
      "GRANTEE1                        24943 non-null object\n",
      "GRANTOR1                        24910 non-null object\n",
      "mdate                           24943 non-null object\n",
      "SALES_AMOUNT                    24943 non-null int64\n",
      "DEED_TYPE                       24943 non-null object\n",
      "instrument_number               20025 non-null float64\n",
      "RECORDED_BOOK                   4939 non-null float64\n",
      "RECORDED_PAGE                   4939 non-null object\n",
      "INSTRUMENT_TYPE                 24943 non-null int64\n",
      "SALE_VALID                      24943 non-null int64\n",
      "multiproperty_sale              24943 non-null int64\n",
      "NUMBER_OF_PROPERTIES_IN_SALE    24943 non-null int64\n",
      "conveyance_number               11327 non-null object\n",
      "CONVEYANCE_FEE                  24943 non-null float64\n",
      "USER_ID                         24943 non-null object\n",
      "RECEIPT_NUMBER                  4898 non-null object\n",
      "AUTO_FILE_NUMBER                16762 non-null object\n",
      "CHANGE_TIMESTAMP                24943 non-null object\n",
      "TRANSFER_NUMBER                 24943 non-null int64\n",
      "TRANSFER_STATUS                 24943 non-null object\n",
      "MONTH_OF_SALE                   24943 non-null int64\n",
      "YEAR_OF_SALE                    24943 non-null int64\n",
      "CAMA_SALE_FILE                  24943 non-null object\n",
      "CAMA_INV_FILE                   24943 non-null object\n",
      "TRANSFER_TYPE                   24943 non-null int64\n",
      "INSTRUMENT_DATE                 24943 non-null object\n",
      "RECORDED_DATE                   24943 non-null object\n",
      "TRANSFER_FEE                    24943 non-null float64\n",
      "PERMISSIVE_FEE                  24943 non-null float64\n",
      "AMOUNT_PAID                     24943 non-null float64\n",
      "FEE_PAID_BY                     18785 non-null object\n",
      "FEE_CHECK_NUM                   3935 non-null object\n",
      "SALES_SOURCE                    24943 non-null int64\n",
      "deed_number                     10970 non-null float64\n",
      "EXEMPTCODE                      24943 non-null int64\n",
      "ASSUMED_LOAN_AMOUNT             24943 non-null int64\n",
      "PERSONAL_PROPERTY_AMOUNT        24943 non-null int64\n",
      "BUILDINGS_ON_LAND               24943 non-null int64\n",
      "GIFT                            24943 non-null int64\n",
      "LAND_CONTRACT                   24943 non-null int64\n",
      "LEASE_HOLD                      24943 non-null int64\n",
      "LEASED_FEE                      24943 non-null int64\n",
      "LIFE_ESTATE                     24943 non-null int64\n",
      "MINERAL_RIGHTS_RESERVED         24943 non-null int64\n",
      "MOTHER                          24943 non-null int64\n",
      "PARTINTER_EST_TRANSFERRED       24943 non-null int64\n",
      "GRANTOR_IS_MORTGAGEE            24943 non-null int64\n",
      "GRANTOR_IS_RELATIVE             24943 non-null int64\n",
      "TRADE                           24943 non-null int64\n",
      "TRANSFER_TYPE_DESCR             24923 non-null object\n",
      "SALES_SOURCE_DESCR              1058 non-null object\n",
      "EXEMPTCODE_DESCR                5538 non-null object\n",
      "TRANSFER_FROM_PARCEL            0 non-null float64\n",
      "UPDATE_DATE                     24943 non-null object\n",
      "dtypes: float64(8), int64(30), object(22)\n",
      "memory usage: 11.6+ MB\n"
     ]
    }
   ],
   "source": [
    "t.info()"
   ]
  },
  {
   "cell_type": "code",
   "execution_count": 142,
   "metadata": {
    "collapsed": false
   },
   "outputs": [
    {
     "data": {
      "text/plain": [
       "(12, 60)"
      ]
     },
     "execution_count": 142,
     "metadata": {},
     "output_type": "execute_result"
    }
   ],
   "source": [
    "t[t.ASSUMED_LOAN_AMOUNT>0].shape"
   ]
  },
  {
   "cell_type": "code",
   "execution_count": 80,
   "metadata": {
    "collapsed": false
   },
   "outputs": [
    {
     "data": {
      "text/plain": [
       "Index([u'TRANSFER_TO_ID', u'WHS_ID', u'TRANSFER_HISTORY_ID', u'TRANSFER_ORDER', u'PARCEL_ID', u'PROPERTY_NUMBER', u'GRANTEE1', u'GRANTOR1', u'mdate', u'SALES_AMOUNT', u'DEED_TYPE', u'instrument_number', u'RECORDED_BOOK', u'RECORDED_PAGE', u'INSTRUMENT_TYPE', u'SALE_VALID', u'multiproperty_sale', u'NUMBER_OF_PROPERTIES_IN_SALE', u'conveyance_number', u'CONVEYANCE_FEE', u'USER_ID', u'RECEIPT_NUMBER', u'AUTO_FILE_NUMBER', u'CHANGE_TIMESTAMP', u'TRANSFER_NUMBER', u'TRANSFER_STATUS', u'MONTH_OF_SALE', u'YEAR_OF_SALE', u'CAMA_SALE_FILE', u'CAMA_INV_FILE', u'TRANSFER_TYPE', u'INSTRUMENT_DATE', u'RECORDED_DATE', u'TRANSFER_FEE', u'PERMISSIVE_FEE', u'AMOUNT_PAID', u'FEE_PAID_BY', u'FEE_CHECK_NUM', u'SALES_SOURCE', u'deed_number', u'EXEMPTCODE', u'ASSUMED_LOAN_AMOUNT', u'PERSONAL_PROPERTY_AMOUNT', u'BUILDINGS_ON_LAND', u'GIFT', u'LAND_CONTRACT', u'LEASE_HOLD', u'LEASED_FEE', u'LIFE_ESTATE', u'MINERAL_RIGHTS_RESERVED', u'MOTHER', u'PARTINTER_EST_TRANSFERRED', u'GRANTOR_IS_MORTGAGEE', u'GRANTOR_IS_RELATIVE', u'TRADE', u'TRANSFER_TYPE_DESCR', u'SALES_SOURCE_DESCR', u'EXEMPTCODE_DESCR', u'TRANSFER_FROM_PARCEL', u'UPDATE_DATE'], dtype='object')"
      ]
     },
     "execution_count": 80,
     "metadata": {},
     "output_type": "execute_result"
    }
   ],
   "source": [
    "t.columns"
   ]
  },
  {
   "cell_type": "code",
   "execution_count": 84,
   "metadata": {
    "collapsed": false,
    "scrolled": true
   },
   "outputs": [
    {
     "data": {
      "text/html": [
       "<div style=\"max-height:1000px;max-width:1500px;overflow:auto;\">\n",
       "<table border=\"1\" class=\"dataframe\">\n",
       "  <thead>\n",
       "    <tr style=\"text-align: right;\">\n",
       "      <th></th>\n",
       "      <th>PROPERTY_NUMBER</th>\n",
       "    </tr>\n",
       "    <tr>\n",
       "      <th>DEED_TYPE</th>\n",
       "      <th></th>\n",
       "    </tr>\n",
       "  </thead>\n",
       "  <tbody>\n",
       "    <tr>\n",
       "      <th>Warranty Deed</th>\n",
       "      <td> 6365</td>\n",
       "    </tr>\n",
       "    <tr>\n",
       "      <th>Sheriffs Deed</th>\n",
       "      <td> 3411</td>\n",
       "    </tr>\n",
       "    <tr>\n",
       "      <th>Quit Claim Deed Ex</th>\n",
       "      <td> 2975</td>\n",
       "    </tr>\n",
       "    <tr>\n",
       "      <th>Quit Claim Deed</th>\n",
       "      <td> 2838</td>\n",
       "    </tr>\n",
       "    <tr>\n",
       "      <th>Probate Court</th>\n",
       "      <td> 1145</td>\n",
       "    </tr>\n",
       "    <tr>\n",
       "      <th>Sheriffs Deed Ex</th>\n",
       "      <td> 1061</td>\n",
       "    </tr>\n",
       "    <tr>\n",
       "      <th>Affidavit</th>\n",
       "      <td>  965</td>\n",
       "    </tr>\n",
       "    <tr>\n",
       "      <th>Limited Warranty</th>\n",
       "      <td>  944</td>\n",
       "    </tr>\n",
       "    <tr>\n",
       "      <th>Warranty Deed Ex</th>\n",
       "      <td>  712</td>\n",
       "    </tr>\n",
       "    <tr>\n",
       "      <th>Survivorship Deed</th>\n",
       "      <td>  698</td>\n",
       "    </tr>\n",
       "    <tr>\n",
       "      <th>Rental Disclosure</th>\n",
       "      <td>  482</td>\n",
       "    </tr>\n",
       "    <tr>\n",
       "      <th>Survivorship Ex</th>\n",
       "      <td>  436</td>\n",
       "    </tr>\n",
       "    <tr>\n",
       "      <th>Limited Warranty Ex</th>\n",
       "      <td>  367</td>\n",
       "    </tr>\n",
       "    <tr>\n",
       "      <th>Fiscal Officer Ex</th>\n",
       "      <td>  363</td>\n",
       "    </tr>\n",
       "    <tr>\n",
       "      <th>Transfer on Death Ex</th>\n",
       "      <td>  336</td>\n",
       "    </tr>\n",
       "    <tr>\n",
       "      <th>Forfeiture Ex</th>\n",
       "      <td>  282</td>\n",
       "    </tr>\n",
       "    <tr>\n",
       "      <th>Fiduciary Deed</th>\n",
       "      <td>  259</td>\n",
       "    </tr>\n",
       "    <tr>\n",
       "      <th>Refile Deed</th>\n",
       "      <td>  227</td>\n",
       "    </tr>\n",
       "    <tr>\n",
       "      <th>Transfer on Death</th>\n",
       "      <td>  165</td>\n",
       "    </tr>\n",
       "    <tr>\n",
       "      <th>Corrective Deed - Ex</th>\n",
       "      <td>  103</td>\n",
       "    </tr>\n",
       "    <tr>\n",
       "      <th>Quit Claim Deed - Gift</th>\n",
       "      <td>   99</td>\n",
       "    </tr>\n",
       "    <tr>\n",
       "      <th>Forfeiture</th>\n",
       "      <td>   86</td>\n",
       "    </tr>\n",
       "    <tr>\n",
       "      <th>Judgement Entry</th>\n",
       "      <td>   63</td>\n",
       "    </tr>\n",
       "    <tr>\n",
       "      <th>Land Contract</th>\n",
       "      <td>   58</td>\n",
       "    </tr>\n",
       "    <tr>\n",
       "      <th>Trustee Ex</th>\n",
       "      <td>   56</td>\n",
       "    </tr>\n",
       "    <tr>\n",
       "      <th>Lis Pendens</th>\n",
       "      <td>   45</td>\n",
       "    </tr>\n",
       "    <tr>\n",
       "      <th>Fiduciary Ex</th>\n",
       "      <td>   35</td>\n",
       "    </tr>\n",
       "    <tr>\n",
       "      <th>Divorce Journal</th>\n",
       "      <td>   35</td>\n",
       "    </tr>\n",
       "    <tr>\n",
       "      <th>Plat</th>\n",
       "      <td>   31</td>\n",
       "    </tr>\n",
       "    <tr>\n",
       "      <th>Commissioners</th>\n",
       "      <td>   30</td>\n",
       "    </tr>\n",
       "    <tr>\n",
       "      <th>...</th>\n",
       "      <td>...</td>\n",
       "    </tr>\n",
       "    <tr>\n",
       "      <th>Not Entered</th>\n",
       "      <td>   20</td>\n",
       "    </tr>\n",
       "    <tr>\n",
       "      <th>Trustee</th>\n",
       "      <td>   17</td>\n",
       "    </tr>\n",
       "    <tr>\n",
       "      <th>Deed</th>\n",
       "      <td>   15</td>\n",
       "    </tr>\n",
       "    <tr>\n",
       "      <th>Cancel Life Estate</th>\n",
       "      <td>   15</td>\n",
       "    </tr>\n",
       "    <tr>\n",
       "      <th>Executors</th>\n",
       "      <td>   13</td>\n",
       "    </tr>\n",
       "    <tr>\n",
       "      <th>Executors Ex</th>\n",
       "      <td>    9</td>\n",
       "    </tr>\n",
       "    <tr>\n",
       "      <th>ERRONEOUS TRANSFER</th>\n",
       "      <td>    7</td>\n",
       "    </tr>\n",
       "    <tr>\n",
       "      <th>Guardian</th>\n",
       "      <td>    6</td>\n",
       "    </tr>\n",
       "    <tr>\n",
       "      <th>Affidavit, P.O.</th>\n",
       "      <td>    6</td>\n",
       "    </tr>\n",
       "    <tr>\n",
       "      <th>Administrative</th>\n",
       "      <td>    6</td>\n",
       "    </tr>\n",
       "    <tr>\n",
       "      <th>Marshall</th>\n",
       "      <td>    4</td>\n",
       "    </tr>\n",
       "    <tr>\n",
       "      <th>Commissioners Ex</th>\n",
       "      <td>    4</td>\n",
       "    </tr>\n",
       "    <tr>\n",
       "      <th>Common Pleas</th>\n",
       "      <td>    3</td>\n",
       "    </tr>\n",
       "    <tr>\n",
       "      <th>Quit Claim Ex - Part Int</th>\n",
       "      <td>    3</td>\n",
       "    </tr>\n",
       "    <tr>\n",
       "      <th>Refiled Deed Fee</th>\n",
       "      <td>    3</td>\n",
       "    </tr>\n",
       "    <tr>\n",
       "      <th>Vacate Sheriff Deed</th>\n",
       "      <td>    2</td>\n",
       "    </tr>\n",
       "    <tr>\n",
       "      <th>99 Year Lease</th>\n",
       "      <td>    2</td>\n",
       "    </tr>\n",
       "    <tr>\n",
       "      <th>Corporation</th>\n",
       "      <td>    2</td>\n",
       "    </tr>\n",
       "    <tr>\n",
       "      <th>Cancel Land Contract NF</th>\n",
       "      <td>    2</td>\n",
       "    </tr>\n",
       "    <tr>\n",
       "      <th>Marshal's Ex</th>\n",
       "      <td>    1</td>\n",
       "    </tr>\n",
       "    <tr>\n",
       "      <th>Lis Pendens - Release</th>\n",
       "      <td>    1</td>\n",
       "    </tr>\n",
       "    <tr>\n",
       "      <th>Life Estate</th>\n",
       "      <td>    1</td>\n",
       "    </tr>\n",
       "    <tr>\n",
       "      <th>99 Year Lease Ex</th>\n",
       "      <td>    1</td>\n",
       "    </tr>\n",
       "    <tr>\n",
       "      <th>Fiscal Officer</th>\n",
       "      <td>    1</td>\n",
       "    </tr>\n",
       "    <tr>\n",
       "      <th>Federal Deed - ex</th>\n",
       "      <td>    1</td>\n",
       "    </tr>\n",
       "    <tr>\n",
       "      <th>Federal Deed</th>\n",
       "      <td>    1</td>\n",
       "    </tr>\n",
       "    <tr>\n",
       "      <th>Vacate Fiscal Officer Deed</th>\n",
       "      <td>    1</td>\n",
       "    </tr>\n",
       "    <tr>\n",
       "      <th>Warranty Deed - Gift</th>\n",
       "      <td>    1</td>\n",
       "    </tr>\n",
       "    <tr>\n",
       "      <th>Cancel Land Contract</th>\n",
       "      <td>    1</td>\n",
       "    </tr>\n",
       "    <tr>\n",
       "      <th>Warranty-Part Int.</th>\n",
       "      <td>    1</td>\n",
       "    </tr>\n",
       "  </tbody>\n",
       "</table>\n",
       "<p>65 rows × 1 columns</p>\n",
       "</div>"
      ],
      "text/plain": [
       "                            PROPERTY_NUMBER\n",
       "DEED_TYPE                                  \n",
       "Warranty Deed                          6365\n",
       "Sheriffs Deed                          3411\n",
       "Quit Claim Deed Ex                     2975\n",
       "Quit Claim Deed                        2838\n",
       "Probate Court                          1145\n",
       "Sheriffs Deed Ex                       1061\n",
       "Affidavit                               965\n",
       "Limited Warranty                        944\n",
       "Warranty Deed Ex                        712\n",
       "Survivorship Deed                       698\n",
       "Rental Disclosure                       482\n",
       "Survivorship Ex                         436\n",
       "Limited Warranty Ex                     367\n",
       "Fiscal Officer Ex                       363\n",
       "Transfer on Death Ex                    336\n",
       "Forfeiture Ex                           282\n",
       "Fiduciary Deed                          259\n",
       "Refile Deed                             227\n",
       "Transfer on Death                       165\n",
       "Corrective Deed - Ex                    103\n",
       "Quit Claim Deed - Gift                   99\n",
       "Forfeiture                               86\n",
       "Judgement Entry                          63\n",
       "Land Contract                            58\n",
       "Trustee Ex                               56\n",
       "Lis Pendens                              45\n",
       "Fiduciary Ex                             35\n",
       "Divorce Journal                          35\n",
       "Plat                                     31\n",
       "Commissioners                            30\n",
       "...                                     ...\n",
       "Not Entered                              20\n",
       "Trustee                                  17\n",
       "Deed                                     15\n",
       "Cancel Life Estate                       15\n",
       "Executors                                13\n",
       "Executors Ex                              9\n",
       "ERRONEOUS TRANSFER                        7\n",
       "Guardian                                  6\n",
       "Affidavit, P.O.                           6\n",
       "Administrative                            6\n",
       "Marshall                                  4\n",
       "Commissioners Ex                          4\n",
       "Common Pleas                              3\n",
       "Quit Claim Ex - Part Int                  3\n",
       "Refiled Deed Fee                          3\n",
       "Vacate Sheriff Deed                       2\n",
       "99 Year Lease                             2\n",
       "Corporation                               2\n",
       "Cancel Land Contract NF                   2\n",
       "Marshal's Ex                              1\n",
       "Lis Pendens - Release                     1\n",
       "Life Estate                               1\n",
       "99 Year Lease Ex                          1\n",
       "Fiscal Officer                            1\n",
       "Federal Deed - ex                         1\n",
       "Federal Deed                              1\n",
       "Vacate Fiscal Officer Deed                1\n",
       "Warranty Deed - Gift                      1\n",
       "Cancel Land Contract                      1\n",
       "Warranty-Part Int.                        1\n",
       "\n",
       "[65 rows x 1 columns]"
      ]
     },
     "execution_count": 84,
     "metadata": {},
     "output_type": "execute_result"
    }
   ],
   "source": [
    "t[['PROPERTY_NUMBER','DEED_TYPE']].groupby('DEED_TYPE').count().sort(columns='PROPERTY_NUMBER', ascending=False)"
   ]
  },
  {
   "cell_type": "code",
   "execution_count": 13,
   "metadata": {
    "collapsed": true
   },
   "outputs": [],
   "source": [
    "deeds = ['Warranty Deed','Sheriffs Deed',' Q']'Transfer on Death'"
   ]
  },
  {
   "cell_type": "code",
   "execution_count": 14,
   "metadata": {
    "collapsed": false
   },
   "outputs": [],
   "source": [
    "a = pd.merge(tci, t.loc[t.DEED_TYPE==deed, ['DEED_TYPE', 'PROPERTY_NUMBER']].groupby('PROPERTY_NUMBER').count(), \\\n",
    "         how='left', left_on='parcel',right_index=True)"
   ]
  },
  {
   "cell_type": "code",
   "execution_count": 15,
   "metadata": {
    "collapsed": false
   },
   "outputs": [
    {
     "data": {
      "text/plain": [
       "(21, 161, 0.13043478260869565)"
      ]
     },
     "execution_count": 15,
     "metadata": {},
     "output_type": "execute_result"
    }
   ],
   "source": [
    "sum(a[a.DEED_TYPE.notnull()].vacant), len(a[a.DEED_TYPE.notnull()].vacant),sum(a[a.DEED_TYPE.notnull()].vacant)*1.0/len(a[a.DEED_TYPE.notnull()].vacant)"
   ]
  },
  {
   "cell_type": "markdown",
   "metadata": {},
   "source": [
    "## County Land Bank"
   ]
  },
  {
   "cell_type": "code",
   "execution_count": 23,
   "metadata": {
    "collapsed": false
   },
   "outputs": [],
   "source": [
    "lb = pd.read_csv('clean_data/count_land_bank_tci.csv')"
   ]
  },
  {
   "cell_type": "code",
   "execution_count": 24,
   "metadata": {
    "collapsed": false
   },
   "outputs": [
    {
     "name": "stdout",
     "output_type": "stream",
     "text": [
      "<class 'pandas.core.frame.DataFrame'>\n",
      "Int64Index: 385 entries, 0 to 384\n",
      "Data columns (total 16 columns):\n",
      "parcel            385 non-null object\n",
      "disp_status       385 non-null object\n",
      "p_source          385 non-null object\n",
      "acq_dt            385 non-null object\n",
      "disp_dt           332 non-null object\n",
      "assessment        385 non-null object\n",
      "demo_status       325 non-null object\n",
      "rehab_status      55 non-null object\n",
      "public_status     385 non-null object\n",
      "s_date            305 non-null object\n",
      "cclrc_dba_date    187 non-null object\n",
      "cclrc_dc_date     305 non-null object\n",
      "ab_proceed_dt     241 non-null object\n",
      "proceed_date      277 non-null object\n",
      "cclrc_dcp_date    303 non-null object\n",
      "out_type          336 non-null object\n",
      "dtypes: object(16)\n",
      "memory usage: 51.1+ KB\n"
     ]
    }
   ],
   "source": [
    "lb.info()"
   ]
  },
  {
   "cell_type": "code",
   "execution_count": 25,
   "metadata": {
    "collapsed": false
   },
   "outputs": [
    {
     "data": {
      "text/html": [
       "<div style=\"max-height:1000px;max-width:1500px;overflow:auto;\">\n",
       "<table border=\"1\" class=\"dataframe\">\n",
       "  <thead>\n",
       "    <tr style=\"text-align: right;\">\n",
       "      <th></th>\n",
       "      <th>parcel</th>\n",
       "      <th>disp_status</th>\n",
       "      <th>p_source</th>\n",
       "      <th>acq_dt</th>\n",
       "      <th>disp_dt</th>\n",
       "      <th>assessment</th>\n",
       "      <th>demo_status</th>\n",
       "      <th>rehab_status</th>\n",
       "      <th>public_status</th>\n",
       "      <th>s_date</th>\n",
       "      <th>cclrc_dba_date</th>\n",
       "      <th>cclrc_dc_date</th>\n",
       "      <th>ab_proceed_dt</th>\n",
       "      <th>proceed_date</th>\n",
       "      <th>cclrc_dcp_date</th>\n",
       "      <th>out_type</th>\n",
       "    </tr>\n",
       "  </thead>\n",
       "  <tbody>\n",
       "    <tr>\n",
       "      <th>0</th>\n",
       "      <td> 121-32-003</td>\n",
       "      <td> Disposed</td>\n",
       "      <td> Tax Foreclosure</td>\n",
       "      <td> 2012-05-21 00:00:00</td>\n",
       "      <td> 2013-01-08 00:00:00</td>\n",
       "      <td> Demolition</td>\n",
       "      <td> Demo - Complete</td>\n",
       "      <td> NaN</td>\n",
       "      <td> Disposition</td>\n",
       "      <td> 06/01/2012</td>\n",
       "      <td>        NaN</td>\n",
       "      <td> 08/16/2012</td>\n",
       "      <td> 07/07/2012</td>\n",
       "      <td> 08/02/2012</td>\n",
       "      <td> 08/10/2012</td>\n",
       "      <td> Municipality</td>\n",
       "    </tr>\n",
       "    <tr>\n",
       "      <th>1</th>\n",
       "      <td> 121-32-038</td>\n",
       "      <td> Disposed</td>\n",
       "      <td> Tax Foreclosure</td>\n",
       "      <td> 2012-08-28 00:00:00</td>\n",
       "      <td> 2013-08-08 00:00:00</td>\n",
       "      <td> Demolition</td>\n",
       "      <td> Demo - Complete</td>\n",
       "      <td> NaN</td>\n",
       "      <td> Disposition</td>\n",
       "      <td> 10/12/2012</td>\n",
       "      <td> 11/07/2012</td>\n",
       "      <td> 11/16/2012</td>\n",
       "      <td> 11/29/2012</td>\n",
       "      <td> 12/10/2012</td>\n",
       "      <td> 04/05/2013</td>\n",
       "      <td> Municipality</td>\n",
       "    </tr>\n",
       "    <tr>\n",
       "      <th>2</th>\n",
       "      <td> 121-32-048</td>\n",
       "      <td> Disposed</td>\n",
       "      <td> Tax Foreclosure</td>\n",
       "      <td> 2013-02-11 00:00:00</td>\n",
       "      <td> 2015-03-10 00:00:00</td>\n",
       "      <td> Demolition</td>\n",
       "      <td> Demo - Complete</td>\n",
       "      <td> NaN</td>\n",
       "      <td> Disposition</td>\n",
       "      <td> 05/14/2013</td>\n",
       "      <td> 10/28/2013</td>\n",
       "      <td> 11/04/2013</td>\n",
       "      <td> 11/01/2013</td>\n",
       "      <td> 11/18/2013</td>\n",
       "      <td> 12/09/2013</td>\n",
       "      <td> Municipality</td>\n",
       "    </tr>\n",
       "    <tr>\n",
       "      <th>3</th>\n",
       "      <td> 121-32-049</td>\n",
       "      <td> Disposed</td>\n",
       "      <td> Tax Foreclosure</td>\n",
       "      <td> 2012-05-30 00:00:00</td>\n",
       "      <td> 2013-01-31 00:00:00</td>\n",
       "      <td> Demolition</td>\n",
       "      <td> Demo - Complete</td>\n",
       "      <td> NaN</td>\n",
       "      <td> Disposition</td>\n",
       "      <td> 06/15/2012</td>\n",
       "      <td>        NaN</td>\n",
       "      <td> 09/05/2012</td>\n",
       "      <td> 10/12/2012</td>\n",
       "      <td> 10/24/2012</td>\n",
       "      <td> 12/06/2012</td>\n",
       "      <td> Municipality</td>\n",
       "    </tr>\n",
       "    <tr>\n",
       "      <th>4</th>\n",
       "      <td> 121-32-050</td>\n",
       "      <td> Disposed</td>\n",
       "      <td> Tax Foreclosure</td>\n",
       "      <td> 2012-12-07 00:00:00</td>\n",
       "      <td> 2013-01-31 00:00:00</td>\n",
       "      <td> Vacant lot</td>\n",
       "      <td>             NaN</td>\n",
       "      <td> NaN</td>\n",
       "      <td> Disposition</td>\n",
       "      <td>        NaN</td>\n",
       "      <td>        NaN</td>\n",
       "      <td>        NaN</td>\n",
       "      <td>        NaN</td>\n",
       "      <td>        NaN</td>\n",
       "      <td>        NaN</td>\n",
       "      <td> Municipality</td>\n",
       "    </tr>\n",
       "  </tbody>\n",
       "</table>\n",
       "</div>"
      ],
      "text/plain": [
       "       parcel disp_status         p_source               acq_dt  \\\n",
       "0  121-32-003    Disposed  Tax Foreclosure  2012-05-21 00:00:00   \n",
       "1  121-32-038    Disposed  Tax Foreclosure  2012-08-28 00:00:00   \n",
       "2  121-32-048    Disposed  Tax Foreclosure  2013-02-11 00:00:00   \n",
       "3  121-32-049    Disposed  Tax Foreclosure  2012-05-30 00:00:00   \n",
       "4  121-32-050    Disposed  Tax Foreclosure  2012-12-07 00:00:00   \n",
       "\n",
       "               disp_dt  assessment      demo_status rehab_status  \\\n",
       "0  2013-01-08 00:00:00  Demolition  Demo - Complete          NaN   \n",
       "1  2013-08-08 00:00:00  Demolition  Demo - Complete          NaN   \n",
       "2  2015-03-10 00:00:00  Demolition  Demo - Complete          NaN   \n",
       "3  2013-01-31 00:00:00  Demolition  Demo - Complete          NaN   \n",
       "4  2013-01-31 00:00:00  Vacant lot              NaN          NaN   \n",
       "\n",
       "  public_status      s_date cclrc_dba_date cclrc_dc_date ab_proceed_dt  \\\n",
       "0   Disposition  06/01/2012            NaN    08/16/2012    07/07/2012   \n",
       "1   Disposition  10/12/2012     11/07/2012    11/16/2012    11/29/2012   \n",
       "2   Disposition  05/14/2013     10/28/2013    11/04/2013    11/01/2013   \n",
       "3   Disposition  06/15/2012            NaN    09/05/2012    10/12/2012   \n",
       "4   Disposition         NaN            NaN           NaN           NaN   \n",
       "\n",
       "  proceed_date cclrc_dcp_date      out_type  \n",
       "0   08/02/2012     08/10/2012  Municipality  \n",
       "1   12/10/2012     04/05/2013  Municipality  \n",
       "2   11/18/2013     12/09/2013  Municipality  \n",
       "3   10/24/2012     12/06/2012  Municipality  \n",
       "4          NaN            NaN  Municipality  "
      ]
     },
     "execution_count": 25,
     "metadata": {},
     "output_type": "execute_result"
    }
   ],
   "source": [
    "lb.head()"
   ]
  },
  {
   "cell_type": "code",
   "execution_count": 26,
   "metadata": {
    "collapsed": false
   },
   "outputs": [
    {
     "data": {
      "text/html": [
       "<div style=\"max-height:1000px;max-width:1500px;overflow:auto;\">\n",
       "<table border=\"1\" class=\"dataframe\">\n",
       "  <thead>\n",
       "    <tr style=\"text-align: right;\">\n",
       "      <th></th>\n",
       "      <th>parcel</th>\n",
       "    </tr>\n",
       "    <tr>\n",
       "      <th>assessment</th>\n",
       "      <th></th>\n",
       "    </tr>\n",
       "  </thead>\n",
       "  <tbody>\n",
       "    <tr>\n",
       "      <th>Demolition</th>\n",
       "      <td> 317</td>\n",
       "    </tr>\n",
       "    <tr>\n",
       "      <th>Pass Through</th>\n",
       "      <td>   6</td>\n",
       "    </tr>\n",
       "    <tr>\n",
       "      <th>Renovate</th>\n",
       "      <td>  35</td>\n",
       "    </tr>\n",
       "    <tr>\n",
       "      <th>Vacant lot</th>\n",
       "      <td>  27</td>\n",
       "    </tr>\n",
       "  </tbody>\n",
       "</table>\n",
       "</div>"
      ],
      "text/plain": [
       "              parcel\n",
       "assessment          \n",
       "Demolition       317\n",
       "Pass Through       6\n",
       "Renovate          35\n",
       "Vacant lot        27"
      ]
     },
     "execution_count": 26,
     "metadata": {},
     "output_type": "execute_result"
    }
   ],
   "source": [
    "lb[['assessment','parcel']].groupby('assessment').count()"
   ]
  },
  {
   "cell_type": "code",
   "execution_count": 27,
   "metadata": {
    "collapsed": false
   },
   "outputs": [],
   "source": [
    "lb_ppns = set(lb.parcel)"
   ]
  },
  {
   "cell_type": "code",
   "execution_count": 28,
   "metadata": {
    "collapsed": false
   },
   "outputs": [],
   "source": [
    "def get_lb(x):\n",
    "    if x in lb_ppns:\n",
    "        return 1\n",
    "    else:\n",
    "        return 0\n",
    "\n",
    "tci['county_land_bank'] = tci['parcel'].apply(get_lb)"
   ]
  },
  {
   "cell_type": "code",
   "execution_count": 29,
   "metadata": {
    "collapsed": false
   },
   "outputs": [
    {
     "data": {
      "text/plain": [
       "385"
      ]
     },
     "execution_count": 29,
     "metadata": {},
     "output_type": "execute_result"
    }
   ],
   "source": [
    "sum(tci.county_land_bank)"
   ]
  },
  {
   "cell_type": "code",
   "execution_count": 30,
   "metadata": {
    "collapsed": false
   },
   "outputs": [
    {
     "data": {
      "text/html": [
       "<div style=\"max-height:1000px;max-width:1500px;overflow:auto;\">\n",
       "<table border=\"1\" class=\"dataframe\">\n",
       "  <thead>\n",
       "    <tr>\n",
       "      <th></th>\n",
       "      <th colspan=\"2\" halign=\"left\">vacant</th>\n",
       "    </tr>\n",
       "    <tr>\n",
       "      <th></th>\n",
       "      <th>len</th>\n",
       "      <th>sum</th>\n",
       "    </tr>\n",
       "    <tr>\n",
       "      <th>county_land_bank</th>\n",
       "      <th></th>\n",
       "      <th></th>\n",
       "    </tr>\n",
       "  </thead>\n",
       "  <tbody>\n",
       "    <tr>\n",
       "      <th>0</th>\n",
       "      <td> 13115</td>\n",
       "      <td> 1503</td>\n",
       "    </tr>\n",
       "    <tr>\n",
       "      <th>1</th>\n",
       "      <td>   385</td>\n",
       "      <td>   52</td>\n",
       "    </tr>\n",
       "  </tbody>\n",
       "</table>\n",
       "</div>"
      ],
      "text/plain": [
       "                 vacant      \n",
       "                    len   sum\n",
       "county_land_bank             \n",
       "0                 13115  1503\n",
       "1                   385    52"
      ]
     },
     "execution_count": 30,
     "metadata": {},
     "output_type": "execute_result"
    }
   ],
   "source": [
    "tci[['county_land_bank','vacant']].groupby('county_land_bank').agg([len, sum])"
   ]
  },
  {
   "cell_type": "markdown",
   "metadata": {},
   "source": [
    "## Postal Vacancy"
   ]
  },
  {
   "cell_type": "code",
   "execution_count": 31,
   "metadata": {
    "collapsed": false
   },
   "outputs": [],
   "source": [
    "pv = pd.read_csv('clean_data/postal_vacancy_tci.csv', parse_dates=3)"
   ]
  },
  {
   "cell_type": "code",
   "execution_count": 32,
   "metadata": {
    "collapsed": false
   },
   "outputs": [
    {
     "data": {
      "text/html": [
       "<div style=\"max-height:1000px;max-width:1500px;overflow:auto;\">\n",
       "<table border=\"1\" class=\"dataframe\">\n",
       "  <thead>\n",
       "    <tr style=\"text-align: right;\">\n",
       "      <th></th>\n",
       "      <th>Unnamed: 0</th>\n",
       "      <th>PARCEL</th>\n",
       "      <th>vindall</th>\n",
       "      <th>date</th>\n",
       "    </tr>\n",
       "  </thead>\n",
       "  <tbody>\n",
       "    <tr>\n",
       "      <th>0</th>\n",
       "      <td> 10537</td>\n",
       "      <td> 121-31-003</td>\n",
       "      <td> Y</td>\n",
       "      <td> 2013-02-01 00:00:00</td>\n",
       "    </tr>\n",
       "    <tr>\n",
       "      <th>1</th>\n",
       "      <td> 10540</td>\n",
       "      <td> 121-32-003</td>\n",
       "      <td> Y</td>\n",
       "      <td> 2013-02-01 00:00:00</td>\n",
       "    </tr>\n",
       "    <tr>\n",
       "      <th>2</th>\n",
       "      <td> 10542</td>\n",
       "      <td> 121-32-008</td>\n",
       "      <td> Y</td>\n",
       "      <td> 2013-02-01 00:00:00</td>\n",
       "    </tr>\n",
       "    <tr>\n",
       "      <th>3</th>\n",
       "      <td> 10543</td>\n",
       "      <td> 121-32-012</td>\n",
       "      <td> Y</td>\n",
       "      <td> 2013-02-01 00:00:00</td>\n",
       "    </tr>\n",
       "    <tr>\n",
       "      <th>4</th>\n",
       "      <td> 10544</td>\n",
       "      <td> 121-32-028</td>\n",
       "      <td> Y</td>\n",
       "      <td> 2013-02-01 00:00:00</td>\n",
       "    </tr>\n",
       "  </tbody>\n",
       "</table>\n",
       "</div>"
      ],
      "text/plain": [
       "   Unnamed: 0      PARCEL vindall                 date\n",
       "0       10537  121-31-003       Y  2013-02-01 00:00:00\n",
       "1       10540  121-32-003       Y  2013-02-01 00:00:00\n",
       "2       10542  121-32-008       Y  2013-02-01 00:00:00\n",
       "3       10543  121-32-012       Y  2013-02-01 00:00:00\n",
       "4       10544  121-32-028       Y  2013-02-01 00:00:00"
      ]
     },
     "execution_count": 32,
     "metadata": {},
     "output_type": "execute_result"
    }
   ],
   "source": [
    "pv.head()"
   ]
  },
  {
   "cell_type": "code",
   "execution_count": 33,
   "metadata": {
    "collapsed": false
   },
   "outputs": [],
   "source": [
    "pv = pv.sort('date',ascending=False)"
   ]
  },
  {
   "cell_type": "code",
   "execution_count": 34,
   "metadata": {
    "collapsed": false,
    "scrolled": true
   },
   "outputs": [],
   "source": [
    "# tci = pd.merge(tci, al[['SALE_VALID','PROPERTY_NUMBER']].groupby('PROPERTY_NUMBER').last(), \\\n",
    "#                how='left', left_on='parcel', right_index=True)\n",
    "\n",
    "vindall = pv[['PARCEL','vindall']].groupby('PARCEL').first()['vindall']"
   ]
  },
  {
   "cell_type": "code",
   "execution_count": 35,
   "metadata": {
    "collapsed": false
   },
   "outputs": [],
   "source": [
    "v_Y = set(vindall[vindall=='Y'].index)\n",
    "\n",
    "def get_vindall_Y(x):\n",
    "    if x in v_Y:\n",
    "        return 1\n",
    "    else:\n",
    "        return 0\n",
    "\n",
    "tci['vindall_Y'] = tci['parcel'].apply(get_vindall_Y)"
   ]
  },
  {
   "cell_type": "code",
   "execution_count": 36,
   "metadata": {
    "collapsed": false
   },
   "outputs": [],
   "source": [
    "v_P = set(vindall[vindall=='P'].index)\n",
    "\n",
    "def get_vindall_P(x):\n",
    "    if x in v_P:\n",
    "        return 1\n",
    "    else:\n",
    "        return 0\n",
    "\n",
    "tci['vindall_P'] = tci['parcel'].apply(get_vindall_P)"
   ]
  },
  {
   "cell_type": "code",
   "execution_count": 37,
   "metadata": {
    "collapsed": false
   },
   "outputs": [
    {
     "data": {
      "text/plain": [
       "(13500, 29)"
      ]
     },
     "execution_count": 37,
     "metadata": {},
     "output_type": "execute_result"
    }
   ],
   "source": [
    "tci.shape"
   ]
  },
  {
   "cell_type": "code",
   "execution_count": 38,
   "metadata": {
    "collapsed": false
   },
   "outputs": [
    {
     "data": {
      "text/html": [
       "<div style=\"max-height:1000px;max-width:1500px;overflow:auto;\">\n",
       "<table border=\"1\" class=\"dataframe\">\n",
       "  <thead>\n",
       "    <tr>\n",
       "      <th></th>\n",
       "      <th colspan=\"2\" halign=\"left\">vacant</th>\n",
       "    </tr>\n",
       "    <tr>\n",
       "      <th></th>\n",
       "      <th>sum</th>\n",
       "      <th>len</th>\n",
       "    </tr>\n",
       "    <tr>\n",
       "      <th>vindall_Y</th>\n",
       "      <th></th>\n",
       "      <th></th>\n",
       "    </tr>\n",
       "  </thead>\n",
       "  <tbody>\n",
       "    <tr>\n",
       "      <th>0</th>\n",
       "      <td> 977</td>\n",
       "      <td> 12049</td>\n",
       "    </tr>\n",
       "    <tr>\n",
       "      <th>1</th>\n",
       "      <td> 578</td>\n",
       "      <td>  1451</td>\n",
       "    </tr>\n",
       "  </tbody>\n",
       "</table>\n",
       "</div>"
      ],
      "text/plain": [
       "          vacant       \n",
       "             sum    len\n",
       "vindall_Y              \n",
       "0            977  12049\n",
       "1            578   1451"
      ]
     },
     "execution_count": 38,
     "metadata": {},
     "output_type": "execute_result"
    }
   ],
   "source": [
    "tci[['vindall_Y','vacant']].groupby('vindall_Y').agg([sum, len])"
   ]
  },
  {
   "cell_type": "code",
   "execution_count": 39,
   "metadata": {
    "collapsed": false
   },
   "outputs": [
    {
     "data": {
      "text/html": [
       "<div style=\"max-height:1000px;max-width:1500px;overflow:auto;\">\n",
       "<table border=\"1\" class=\"dataframe\">\n",
       "  <thead>\n",
       "    <tr>\n",
       "      <th></th>\n",
       "      <th colspan=\"2\" halign=\"left\">vacant</th>\n",
       "    </tr>\n",
       "    <tr>\n",
       "      <th></th>\n",
       "      <th>sum</th>\n",
       "      <th>len</th>\n",
       "    </tr>\n",
       "    <tr>\n",
       "      <th>vindall_P</th>\n",
       "      <th></th>\n",
       "      <th></th>\n",
       "    </tr>\n",
       "  </thead>\n",
       "  <tbody>\n",
       "    <tr>\n",
       "      <th>0</th>\n",
       "      <td> 1550</td>\n",
       "      <td> 13448</td>\n",
       "    </tr>\n",
       "    <tr>\n",
       "      <th>1</th>\n",
       "      <td>    5</td>\n",
       "      <td>    52</td>\n",
       "    </tr>\n",
       "  </tbody>\n",
       "</table>\n",
       "</div>"
      ],
      "text/plain": [
       "          vacant       \n",
       "             sum    len\n",
       "vindall_P              \n",
       "0           1550  13448\n",
       "1              5     52"
      ]
     },
     "execution_count": 39,
     "metadata": {},
     "output_type": "execute_result"
    }
   ],
   "source": [
    "tci[['vindall_P','vacant']].groupby('vindall_P').agg([sum, len])"
   ]
  },
  {
   "cell_type": "code",
   "execution_count": 40,
   "metadata": {
    "collapsed": false
   },
   "outputs": [
    {
     "data": {
      "text/plain": [
       "1503"
      ]
     },
     "execution_count": 40,
     "metadata": {},
     "output_type": "execute_result"
    }
   ],
   "source": [
    "len(vindall)"
   ]
  },
  {
   "cell_type": "code",
   "execution_count": 41,
   "metadata": {
    "collapsed": false
   },
   "outputs": [],
   "source": [
    "tci.to_csv('model_data/tci_2_1.csv', index=False)"
   ]
  },
  {
   "cell_type": "code",
   "execution_count": null,
   "metadata": {
    "collapsed": true
   },
   "outputs": [],
   "source": []
  }
 ],
 "metadata": {
  "kernelspec": {
   "display_name": "Python 2",
   "language": "python",
   "name": "python2"
  },
  "language_info": {
   "codemirror_mode": {
    "name": "ipython",
    "version": 2
   },
   "file_extension": ".py",
   "mimetype": "text/x-python",
   "name": "python",
   "nbconvert_exporter": "python",
   "pygments_lexer": "ipython2",
   "version": "2.7.9"
  }
 },
 "nbformat": 4,
 "nbformat_minor": 0
}
