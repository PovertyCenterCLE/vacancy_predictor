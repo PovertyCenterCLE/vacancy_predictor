{
 "cells": [
  {
   "cell_type": "markdown",
   "metadata": {},
   "source": [
    "# 3.1 Join to foreclosure status"
   ]
  },
  {
   "cell_type": "code",
   "execution_count": 2,
   "metadata": {
    "collapsed": false
   },
   "outputs": [
    {
     "name": "stdout",
     "output_type": "stream",
     "text": [
      "/Volumes/Dropbox/largetransfer/luc/carter\n"
     ]
    }
   ],
   "source": [
    "import pandas as pd\n",
    "import matplotlib.pyplot as plt\n",
    "import numpy as np\n",
    "import seaborn as sns\n",
    "import math\n",
    "import os\n",
    "%matplotlib inline\n",
    "\n",
    "def sound():\n",
    "    os.system('afplay /System/Library/Sounds/Sosumi.aiff')\n",
    "\n",
    "path = '/'.join(os.getcwd().split('/')[:-2])\n",
    "print(path)"
   ]
  },
  {
   "cell_type": "code",
   "execution_count": 3,
   "metadata": {
    "collapsed": false
   },
   "outputs": [],
   "source": [
    "all_preds = pd.read_csv(path+'/outputs/all_predictions.csv', index_col=0, parse_dates=['date'])"
   ]
  },
  {
   "cell_type": "code",
   "execution_count": 4,
   "metadata": {
    "collapsed": true
   },
   "outputs": [],
   "source": [
    "# merge foreclosure status onto the predictions\n",
    "fc_status = pd.read_csv(path+'/data/clean_data/parcel_status.csv')"
   ]
  },
  {
   "cell_type": "code",
   "execution_count": 5,
   "metadata": {
    "collapsed": false,
    "scrolled": true
   },
   "outputs": [],
   "source": [
    "fc_pivoted = fc_status.set_index(['parcel']).stack().reset_index().rename(columns={'level_1':'date',0:'fc_status'})\n",
    "fc_pivoted['fc_status_mod'] = fc_pivoted['fc_status'] % 3\n",
    "fc_pivoted = fc_pivoted.sort_values(by=['date','parcel'])\n",
    "fc_pivoted = fc_pivoted.reset_index()\n",
    "fc_pivoted = fc_pivoted.drop(fc_pivoted.columns[0],axis=1)"
   ]
  },
  {
   "cell_type": "code",
   "execution_count": 16,
   "metadata": {
    "collapsed": false
   },
   "outputs": [],
   "source": [
    "all_preds = all_preds.reset_index()\n",
    "all_preds = all_preds.drop(all_preds.columns[0],axis=1)"
   ]
  },
  {
   "cell_type": "code",
   "execution_count": 18,
   "metadata": {
    "collapsed": false
   },
   "outputs": [],
   "source": [
    "all_preds[['fc_status','fc_status_mod']] = fc_pivoted[['fc_status','fc_status_mod']]"
   ]
  },
  {
   "cell_type": "code",
   "execution_count": 23,
   "metadata": {
    "collapsed": true
   },
   "outputs": [],
   "source": [
    "all_preds[['parcel','date','rf','lr','gbm','pv_count','fc_status','fc_status_mod']]\\\n",
    "    .to_csv(path+'/outputs/all_predictions_with_fc.csv')"
   ]
  }
 ],
 "metadata": {
  "kernelspec": {
   "display_name": "Python 2",
   "language": "python",
   "name": "python2"
  },
  "language_info": {
   "codemirror_mode": {
    "name": "ipython",
    "version": 2
   },
   "file_extension": ".py",
   "mimetype": "text/x-python",
   "name": "python",
   "nbconvert_exporter": "python",
   "pygments_lexer": "ipython2",
   "version": "2.7.11"
  }
 },
 "nbformat": 4,
 "nbformat_minor": 0
}
