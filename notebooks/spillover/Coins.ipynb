{
 "cells": [
  {
   "cell_type": "code",
   "execution_count": 2,
   "metadata": {
    "collapsed": false
   },
   "outputs": [
    {
     "name": "stderr",
     "output_type": "stream",
     "text": [
      "//anaconda/envs/data_sci/lib/python3.4/site-packages/matplotlib/__init__.py:872: UserWarning: axes.color_cycle is deprecated and replaced with axes.prop_cycle; please use the latter.\n",
      "  warnings.warn(self.msg_depr % (key, alt_key))\n"
     ]
    },
    {
     "data": {
      "image/png": "[encoded data removed]",
      "text/plain": [
       "<matplotlib.figure.Figure at 0x103336a58>"
      ]
     },
     "metadata": {},
     "output_type": "display_data"
    }
   ],
   "source": [
    "import numpy as np\n",
    "import matplotlib.pyplot as plt\n",
    "import seaborn\n",
    "%matplotlib inline\n",
    "\n",
    "head_head = []\n",
    "head_tails = []\n",
    "for x in range(0,100000):\n",
    "    # 0 is heads, 1, is tails\n",
    "    cond1 = False\n",
    "    count1 = 1\n",
    "    count2 = 1\n",
    "    cond2 = False\n",
    "    count = 0\n",
    "\n",
    "    last_flip = round(np.random.rand())\n",
    "#     print(last_flip)\n",
    "    while (cond1==False) or (cond2==False):\n",
    "        flip = round(np.random.rand())\n",
    "#         print(flip)\n",
    "        if (last_flip == 0) and (flip == 0) and (cond1==False):\n",
    "            count1 += 1\n",
    "            cond1 = True\n",
    "        if cond1==False:\n",
    "            count1 += 1\n",
    "        if (last_flip == 0) and (flip == 1) and (cond2==False):\n",
    "            count2 += 1\n",
    "            cond2 = True\n",
    "        if cond2==False:\n",
    "            count2 += 1\n",
    "        if (count >55):\n",
    "            break\n",
    "        count+=1\n",
    "        last_flip = flip\n",
    "    head_head.append(count1)\n",
    "    head_tails.append(count2)\n",
    "#     print(count1, count2, cond1, cond2)          \n",
    "\n",
    "plt.hist(head_head, alpha=0.5, bins=np.linspace(0,50,50))\n",
    "plt.hist(head_tails, alpha =0.5,bins=np.linspace(0,50,50));\n",
    "plt.legend(['Head-Head', 'Head-Tails']);"
   ]
  },
  {
   "cell_type": "code",
   "execution_count": null,
   "metadata": {
    "collapsed": true
   },
   "outputs": [],
   "source": []
  }
 ],
 "metadata": {
  "kernelspec": {
   "display_name": "Python 3",
   "language": "python",
   "name": "python3"
  },
  "language_info": {
   "codemirror_mode": {
    "name": "ipython",
    "version": 3
   },
   "file_extension": ".py",
   "mimetype": "text/x-python",
   "name": "python",
   "nbconvert_exporter": "python",
   "pygments_lexer": "ipython3",
   "version": "3.4.4"
  }
 },
 "nbformat": 4,
 "nbformat_minor": 0
}
