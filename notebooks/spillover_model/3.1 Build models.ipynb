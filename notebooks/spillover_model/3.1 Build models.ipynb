{
 "cells": [
  {
   "cell_type": "markdown",
   "metadata": {},
   "source": [
    "# 3.1 Build models"
   ]
  },
  {
   "cell_type": "code",
   "execution_count": 1,
   "metadata": {
    "collapsed": false
   },
   "outputs": [
    {
     "name": "stdout",
     "output_type": "stream",
     "text": [
      "/Volumes/Dropbox/largetransfer/luc/carter\n"
     ]
    }
   ],
   "source": [
    "import pandas as pd\n",
    "from sklearn.ensemble import RandomForestClassifier\n",
    "import matplotlib.pyplot as plt\n",
    "import numpy as np\n",
    "# import seaborn as sns\n",
    "import math\n",
    "from sklearn.preprocessing import Imputer\n",
    "from sklearn.base import TransformerMixin\n",
    "from sklearn import cross_validation\n",
    "from sklearn.grid_search import GridSearchCV\n",
    "from sklearn.linear_model import LogisticRegression\n",
    "from sklearn import preprocessing\n",
    "from sklearn.cross_validation import cross_val_score\n",
    "from sklearn.externals import joblib\n",
    "import os\n",
    "\n",
    "def sound():\n",
    "    os.system('afplay /System/Library/Sounds/Sosumi.aiff')\n",
    "\n",
    "%matplotlib inline\n",
    "# sns.set_context('notebook')\n",
    "\n",
    "path = '/'.join(os.getcwd().split('/')[:-2])\n",
    "print(path)"
   ]
  },
  {
   "cell_type": "code",
   "execution_count": 2,
   "metadata": {
    "collapsed": false
   },
   "outputs": [
    {
     "name": "stderr",
     "output_type": "stream",
     "text": [
      "//anaconda/envs/data_sci/lib/python3.4/site-packages/IPython/core/interactiveshell.py:2902: DtypeWarning: Columns (24) have mixed types. Specify dtype option on import or set low_memory=False.\n",
      "  interactivity=interactivity, compiler=compiler, result=result)\n"
     ]
    }
   ],
   "source": [
    "df = pd.read_csv(path+'/data/model_data/tci_final_model.csv',index_col=0)"
   ]
  },
  {
   "cell_type": "code",
   "execution_count": 3,
   "metadata": {
    "collapsed": false
   },
   "outputs": [],
   "source": [
    "features = list(df.columns)\n",
    "features.remove('vacant')\n",
    "features.remove('Date')\n",
    "features.remove('Survey Category')\n",
    "features.remove('Survey Grade')\n",
    "features.remove('SPA_NAME')\n",
    "features.remove('style_filtered')\n",
    "features.remove('LENDER_PROCESS_TYPE')\n",
    "\n",
    "from sklearn.cross_validation import train_test_split\n",
    "X_train, X_test, y_train, y_test = train_test_split(df[features], df['vacant'], test_size=0.2, random_state=42)"
   ]
  },
  {
   "cell_type": "markdown",
   "metadata": {},
   "source": [
    "## Build the classifiers"
   ]
  },
  {
   "cell_type": "markdown",
   "metadata": {},
   "source": [
    "### Random Forest Classifier"
   ]
  },
  {
   "cell_type": "code",
   "execution_count": 4,
   "metadata": {
    "collapsed": false,
    "scrolled": true
   },
   "outputs": [],
   "source": [
    "rfc = RandomForestClassifier(n_estimators=50, min_samples_leaf=8, min_samples_split=3, \\\n",
    "                                 class_weight={0:1, 1:8}, \\\n",
    "                                 max_features=20, random_state=0, max_depth=40)\n",
    "rfc = rfc.fit(X_train, y_train)\n",
    "sound()"
   ]
  },
  {
   "cell_type": "code",
   "execution_count": 5,
   "metadata": {
    "collapsed": false
   },
   "outputs": [
    {
     "data": {
      "text/html": [
       "<div>\n",
       "<table border=\"1\" class=\"dataframe\">\n",
       "  <thead>\n",
       "    <tr style=\"text-align: right;\">\n",
       "      <th>predicted by RF</th>\n",
       "      <th>0</th>\n",
       "      <th>1</th>\n",
       "    </tr>\n",
       "    <tr>\n",
       "      <th>vacant</th>\n",
       "      <th></th>\n",
       "      <th></th>\n",
       "    </tr>\n",
       "  </thead>\n",
       "  <tbody>\n",
       "    <tr>\n",
       "      <th>0</th>\n",
       "      <td>19804</td>\n",
       "      <td>790</td>\n",
       "    </tr>\n",
       "    <tr>\n",
       "      <th>1</th>\n",
       "      <td>733</td>\n",
       "      <td>1300</td>\n",
       "    </tr>\n",
       "  </tbody>\n",
       "</table>\n",
       "</div>"
      ],
      "text/plain": [
       "predicted by RF      0     1\n",
       "vacant                      \n",
       "0                19804   790\n",
       "1                  733  1300"
      ]
     },
     "execution_count": 5,
     "metadata": {},
     "output_type": "execute_result"
    }
   ],
   "source": [
    "# pd.crosstab(y_test, rfc.predict(X_test),rownames=['From survey'],colnames=['From model'],margins=True)\n",
    "pd.crosstab(y_test,rfc.predict(X_test),colnames=['predicted by RF'])"
   ]
  },
  {
   "cell_type": "code",
   "execution_count": 39,
   "metadata": {
    "collapsed": false
   },
   "outputs": [
    {
     "data": {
      "text/html": [
       "<div>\n",
       "<table border=\"1\" class=\"dataframe\">\n",
       "  <thead>\n",
       "    <tr style=\"text-align: right;\">\n",
       "      <th>predicted by RF</th>\n",
       "      <th>0</th>\n",
       "      <th>1</th>\n",
       "    </tr>\n",
       "    <tr>\n",
       "      <th>vacant</th>\n",
       "      <th></th>\n",
       "      <th></th>\n",
       "    </tr>\n",
       "  </thead>\n",
       "  <tbody>\n",
       "    <tr>\n",
       "      <th>0</th>\n",
       "      <td>19802</td>\n",
       "      <td>792</td>\n",
       "    </tr>\n",
       "    <tr>\n",
       "      <th>1</th>\n",
       "      <td>733</td>\n",
       "      <td>1300</td>\n",
       "    </tr>\n",
       "  </tbody>\n",
       "</table>\n",
       "</div>"
      ],
      "text/plain": [
       "predicted by RF      0     1\n",
       "vacant                      \n",
       "0                19802   792\n",
       "1                  733  1300"
      ]
     },
     "execution_count": 39,
     "metadata": {},
     "output_type": "execute_result"
    }
   ],
   "source": [
    "# pd.crosstab(y_test, rfc.predict(X_test),rownames=['From survey'],colnames=['From model'],margins=True)\n",
    "pd.crosstab(y_test,rfc.predict(X_test),colnames=['predicted by RF'])"
   ]
  },
  {
   "cell_type": "code",
   "execution_count": 6,
   "metadata": {
    "collapsed": false
   },
   "outputs": [
    {
     "data": {
      "text/html": [
       "<div>\n",
       "<table border=\"1\" class=\"dataframe\">\n",
       "  <thead>\n",
       "    <tr style=\"text-align: right;\">\n",
       "      <th>col_0</th>\n",
       "      <th>0</th>\n",
       "      <th>1</th>\n",
       "    </tr>\n",
       "    <tr>\n",
       "      <th>row_0</th>\n",
       "      <th></th>\n",
       "      <th></th>\n",
       "    </tr>\n",
       "  </thead>\n",
       "  <tbody>\n",
       "    <tr>\n",
       "      <th>0</th>\n",
       "      <td>19949</td>\n",
       "      <td>645</td>\n",
       "    </tr>\n",
       "    <tr>\n",
       "      <th>1</th>\n",
       "      <td>792</td>\n",
       "      <td>1241</td>\n",
       "    </tr>\n",
       "  </tbody>\n",
       "</table>\n",
       "</div>"
      ],
      "text/plain": [
       "col_0      0     1\n",
       "row_0             \n",
       "0      19949   645\n",
       "1        792  1241"
      ]
     },
     "execution_count": 6,
     "metadata": {},
     "output_type": "execute_result"
    }
   ],
   "source": [
    "pd.crosstab( y_test.values,pd.Series(rfc.predict_proba(X_test)[:,1]-.05).apply(lambda x: int(round(x))))"
   ]
  },
  {
   "cell_type": "code",
   "execution_count": 7,
   "metadata": {
    "collapsed": false
   },
   "outputs": [
    {
     "data": {
      "text/plain": [
       "['/Volumes/Dropbox/largetransfer/luc/carter/data/models/rfc2.pkl',\n",
       " '/Volumes/Dropbox/largetransfer/luc/carter/data/models/rfc2.pkl_01.npy',\n",
       " '/Volumes/Dropbox/largetransfer/luc/carter/data/models/rfc2.pkl_02.npy',\n",
       " '/Volumes/Dropbox/largetransfer/luc/carter/data/models/rfc2.pkl_03.npy',\n",
       " '/Volumes/Dropbox/largetransfer/luc/carter/data/models/rfc2.pkl_04.npy',\n",
       " '/Volumes/Dropbox/largetransfer/luc/carter/data/models/rfc2.pkl_05.npy',\n",
       " '/Volumes/Dropbox/largetransfer/luc/carter/data/models/rfc2.pkl_06.npy',\n",
       " '/Volumes/Dropbox/largetransfer/luc/carter/data/models/rfc2.pkl_07.npy',\n",
       " '/Volumes/Dropbox/largetransfer/luc/carter/data/models/rfc2.pkl_08.npy',\n",
       " '/Volumes/Dropbox/largetransfer/luc/carter/data/models/rfc2.pkl_09.npy',\n",
       " '/Volumes/Dropbox/largetransfer/luc/carter/data/models/rfc2.pkl_10.npy',\n",
       " '/Volumes/Dropbox/largetransfer/luc/carter/data/models/rfc2.pkl_11.npy',\n",
       " '/Volumes/Dropbox/largetransfer/luc/carter/data/models/rfc2.pkl_12.npy',\n",
       " '/Volumes/Dropbox/largetransfer/luc/carter/data/models/rfc2.pkl_13.npy',\n",
       " '/Volumes/Dropbox/largetransfer/luc/carter/data/models/rfc2.pkl_14.npy',\n",
       " '/Volumes/Dropbox/largetransfer/luc/carter/data/models/rfc2.pkl_15.npy',\n",
       " '/Volumes/Dropbox/largetransfer/luc/carter/data/models/rfc2.pkl_16.npy',\n",
       " '/Volumes/Dropbox/largetransfer/luc/carter/data/models/rfc2.pkl_17.npy',\n",
       " '/Volumes/Dropbox/largetransfer/luc/carter/data/models/rfc2.pkl_18.npy',\n",
       " '/Volumes/Dropbox/largetransfer/luc/carter/data/models/rfc2.pkl_19.npy',\n",
       " '/Volumes/Dropbox/largetransfer/luc/carter/data/models/rfc2.pkl_20.npy',\n",
       " '/Volumes/Dropbox/largetransfer/luc/carter/data/models/rfc2.pkl_21.npy',\n",
       " '/Volumes/Dropbox/largetransfer/luc/carter/data/models/rfc2.pkl_22.npy',\n",
       " '/Volumes/Dropbox/largetransfer/luc/carter/data/models/rfc2.pkl_23.npy',\n",
       " '/Volumes/Dropbox/largetransfer/luc/carter/data/models/rfc2.pkl_24.npy',\n",
       " '/Volumes/Dropbox/largetransfer/luc/carter/data/models/rfc2.pkl_25.npy',\n",
       " '/Volumes/Dropbox/largetransfer/luc/carter/data/models/rfc2.pkl_26.npy',\n",
       " '/Volumes/Dropbox/largetransfer/luc/carter/data/models/rfc2.pkl_27.npy',\n",
       " '/Volumes/Dropbox/largetransfer/luc/carter/data/models/rfc2.pkl_28.npy',\n",
       " '/Volumes/Dropbox/largetransfer/luc/carter/data/models/rfc2.pkl_29.npy',\n",
       " '/Volumes/Dropbox/largetransfer/luc/carter/data/models/rfc2.pkl_30.npy',\n",
       " '/Volumes/Dropbox/largetransfer/luc/carter/data/models/rfc2.pkl_31.npy',\n",
       " '/Volumes/Dropbox/largetransfer/luc/carter/data/models/rfc2.pkl_32.npy',\n",
       " '/Volumes/Dropbox/largetransfer/luc/carter/data/models/rfc2.pkl_33.npy',\n",
       " '/Volumes/Dropbox/largetransfer/luc/carter/data/models/rfc2.pkl_34.npy',\n",
       " '/Volumes/Dropbox/largetransfer/luc/carter/data/models/rfc2.pkl_35.npy',\n",
       " '/Volumes/Dropbox/largetransfer/luc/carter/data/models/rfc2.pkl_36.npy',\n",
       " '/Volumes/Dropbox/largetransfer/luc/carter/data/models/rfc2.pkl_37.npy',\n",
       " '/Volumes/Dropbox/largetransfer/luc/carter/data/models/rfc2.pkl_38.npy',\n",
       " '/Volumes/Dropbox/largetransfer/luc/carter/data/models/rfc2.pkl_39.npy',\n",
       " '/Volumes/Dropbox/largetransfer/luc/carter/data/models/rfc2.pkl_40.npy',\n",
       " '/Volumes/Dropbox/largetransfer/luc/carter/data/models/rfc2.pkl_41.npy',\n",
       " '/Volumes/Dropbox/largetransfer/luc/carter/data/models/rfc2.pkl_42.npy',\n",
       " '/Volumes/Dropbox/largetransfer/luc/carter/data/models/rfc2.pkl_43.npy',\n",
       " '/Volumes/Dropbox/largetransfer/luc/carter/data/models/rfc2.pkl_44.npy',\n",
       " '/Volumes/Dropbox/largetransfer/luc/carter/data/models/rfc2.pkl_45.npy',\n",
       " '/Volumes/Dropbox/largetransfer/luc/carter/data/models/rfc2.pkl_46.npy',\n",
       " '/Volumes/Dropbox/largetransfer/luc/carter/data/models/rfc2.pkl_47.npy',\n",
       " '/Volumes/Dropbox/largetransfer/luc/carter/data/models/rfc2.pkl_48.npy',\n",
       " '/Volumes/Dropbox/largetransfer/luc/carter/data/models/rfc2.pkl_49.npy',\n",
       " '/Volumes/Dropbox/largetransfer/luc/carter/data/models/rfc2.pkl_50.npy',\n",
       " '/Volumes/Dropbox/largetransfer/luc/carter/data/models/rfc2.pkl_51.npy',\n",
       " '/Volumes/Dropbox/largetransfer/luc/carter/data/models/rfc2.pkl_52.npy',\n",
       " '/Volumes/Dropbox/largetransfer/luc/carter/data/models/rfc2.pkl_53.npy',\n",
       " '/Volumes/Dropbox/largetransfer/luc/carter/data/models/rfc2.pkl_54.npy',\n",
       " '/Volumes/Dropbox/largetransfer/luc/carter/data/models/rfc2.pkl_55.npy',\n",
       " '/Volumes/Dropbox/largetransfer/luc/carter/data/models/rfc2.pkl_56.npy',\n",
       " '/Volumes/Dropbox/largetransfer/luc/carter/data/models/rfc2.pkl_57.npy',\n",
       " '/Volumes/Dropbox/largetransfer/luc/carter/data/models/rfc2.pkl_58.npy',\n",
       " '/Volumes/Dropbox/largetransfer/luc/carter/data/models/rfc2.pkl_59.npy',\n",
       " '/Volumes/Dropbox/largetransfer/luc/carter/data/models/rfc2.pkl_60.npy',\n",
       " '/Volumes/Dropbox/largetransfer/luc/carter/data/models/rfc2.pkl_61.npy',\n",
       " '/Volumes/Dropbox/largetransfer/luc/carter/data/models/rfc2.pkl_62.npy',\n",
       " '/Volumes/Dropbox/largetransfer/luc/carter/data/models/rfc2.pkl_63.npy',\n",
       " '/Volumes/Dropbox/largetransfer/luc/carter/data/models/rfc2.pkl_64.npy',\n",
       " '/Volumes/Dropbox/largetransfer/luc/carter/data/models/rfc2.pkl_65.npy',\n",
       " '/Volumes/Dropbox/largetransfer/luc/carter/data/models/rfc2.pkl_66.npy',\n",
       " '/Volumes/Dropbox/largetransfer/luc/carter/data/models/rfc2.pkl_67.npy',\n",
       " '/Volumes/Dropbox/largetransfer/luc/carter/data/models/rfc2.pkl_68.npy',\n",
       " '/Volumes/Dropbox/largetransfer/luc/carter/data/models/rfc2.pkl_69.npy',\n",
       " '/Volumes/Dropbox/largetransfer/luc/carter/data/models/rfc2.pkl_70.npy',\n",
       " '/Volumes/Dropbox/largetransfer/luc/carter/data/models/rfc2.pkl_71.npy',\n",
       " '/Volumes/Dropbox/largetransfer/luc/carter/data/models/rfc2.pkl_72.npy',\n",
       " '/Volumes/Dropbox/largetransfer/luc/carter/data/models/rfc2.pkl_73.npy',\n",
       " '/Volumes/Dropbox/largetransfer/luc/carter/data/models/rfc2.pkl_74.npy',\n",
       " '/Volumes/Dropbox/largetransfer/luc/carter/data/models/rfc2.pkl_75.npy',\n",
       " '/Volumes/Dropbox/largetransfer/luc/carter/data/models/rfc2.pkl_76.npy',\n",
       " '/Volumes/Dropbox/largetransfer/luc/carter/data/models/rfc2.pkl_77.npy',\n",
       " '/Volumes/Dropbox/largetransfer/luc/carter/data/models/rfc2.pkl_78.npy',\n",
       " '/Volumes/Dropbox/largetransfer/luc/carter/data/models/rfc2.pkl_79.npy',\n",
       " '/Volumes/Dropbox/largetransfer/luc/carter/data/models/rfc2.pkl_80.npy',\n",
       " '/Volumes/Dropbox/largetransfer/luc/carter/data/models/rfc2.pkl_81.npy',\n",
       " '/Volumes/Dropbox/largetransfer/luc/carter/data/models/rfc2.pkl_82.npy',\n",
       " '/Volumes/Dropbox/largetransfer/luc/carter/data/models/rfc2.pkl_83.npy',\n",
       " '/Volumes/Dropbox/largetransfer/luc/carter/data/models/rfc2.pkl_84.npy',\n",
       " '/Volumes/Dropbox/largetransfer/luc/carter/data/models/rfc2.pkl_85.npy',\n",
       " '/Volumes/Dropbox/largetransfer/luc/carter/data/models/rfc2.pkl_86.npy',\n",
       " '/Volumes/Dropbox/largetransfer/luc/carter/data/models/rfc2.pkl_87.npy',\n",
       " '/Volumes/Dropbox/largetransfer/luc/carter/data/models/rfc2.pkl_88.npy',\n",
       " '/Volumes/Dropbox/largetransfer/luc/carter/data/models/rfc2.pkl_89.npy',\n",
       " '/Volumes/Dropbox/largetransfer/luc/carter/data/models/rfc2.pkl_90.npy',\n",
       " '/Volumes/Dropbox/largetransfer/luc/carter/data/models/rfc2.pkl_91.npy',\n",
       " '/Volumes/Dropbox/largetransfer/luc/carter/data/models/rfc2.pkl_92.npy',\n",
       " '/Volumes/Dropbox/largetransfer/luc/carter/data/models/rfc2.pkl_93.npy',\n",
       " '/Volumes/Dropbox/largetransfer/luc/carter/data/models/rfc2.pkl_94.npy',\n",
       " '/Volumes/Dropbox/largetransfer/luc/carter/data/models/rfc2.pkl_95.npy',\n",
       " '/Volumes/Dropbox/largetransfer/luc/carter/data/models/rfc2.pkl_96.npy',\n",
       " '/Volumes/Dropbox/largetransfer/luc/carter/data/models/rfc2.pkl_97.npy',\n",
       " '/Volumes/Dropbox/largetransfer/luc/carter/data/models/rfc2.pkl_98.npy',\n",
       " '/Volumes/Dropbox/largetransfer/luc/carter/data/models/rfc2.pkl_99.npy',\n",
       " '/Volumes/Dropbox/largetransfer/luc/carter/data/models/rfc2.pkl_100.npy',\n",
       " '/Volumes/Dropbox/largetransfer/luc/carter/data/models/rfc2.pkl_101.npy',\n",
       " '/Volumes/Dropbox/largetransfer/luc/carter/data/models/rfc2.pkl_102.npy',\n",
       " '/Volumes/Dropbox/largetransfer/luc/carter/data/models/rfc2.pkl_103.npy',\n",
       " '/Volumes/Dropbox/largetransfer/luc/carter/data/models/rfc2.pkl_104.npy',\n",
       " '/Volumes/Dropbox/largetransfer/luc/carter/data/models/rfc2.pkl_105.npy',\n",
       " '/Volumes/Dropbox/largetransfer/luc/carter/data/models/rfc2.pkl_106.npy',\n",
       " '/Volumes/Dropbox/largetransfer/luc/carter/data/models/rfc2.pkl_107.npy',\n",
       " '/Volumes/Dropbox/largetransfer/luc/carter/data/models/rfc2.pkl_108.npy',\n",
       " '/Volumes/Dropbox/largetransfer/luc/carter/data/models/rfc2.pkl_109.npy',\n",
       " '/Volumes/Dropbox/largetransfer/luc/carter/data/models/rfc2.pkl_110.npy',\n",
       " '/Volumes/Dropbox/largetransfer/luc/carter/data/models/rfc2.pkl_111.npy',\n",
       " '/Volumes/Dropbox/largetransfer/luc/carter/data/models/rfc2.pkl_112.npy',\n",
       " '/Volumes/Dropbox/largetransfer/luc/carter/data/models/rfc2.pkl_113.npy',\n",
       " '/Volumes/Dropbox/largetransfer/luc/carter/data/models/rfc2.pkl_114.npy',\n",
       " '/Volumes/Dropbox/largetransfer/luc/carter/data/models/rfc2.pkl_115.npy',\n",
       " '/Volumes/Dropbox/largetransfer/luc/carter/data/models/rfc2.pkl_116.npy',\n",
       " '/Volumes/Dropbox/largetransfer/luc/carter/data/models/rfc2.pkl_117.npy',\n",
       " '/Volumes/Dropbox/largetransfer/luc/carter/data/models/rfc2.pkl_118.npy',\n",
       " '/Volumes/Dropbox/largetransfer/luc/carter/data/models/rfc2.pkl_119.npy',\n",
       " '/Volumes/Dropbox/largetransfer/luc/carter/data/models/rfc2.pkl_120.npy',\n",
       " '/Volumes/Dropbox/largetransfer/luc/carter/data/models/rfc2.pkl_121.npy',\n",
       " '/Volumes/Dropbox/largetransfer/luc/carter/data/models/rfc2.pkl_122.npy',\n",
       " '/Volumes/Dropbox/largetransfer/luc/carter/data/models/rfc2.pkl_123.npy',\n",
       " '/Volumes/Dropbox/largetransfer/luc/carter/data/models/rfc2.pkl_124.npy',\n",
       " '/Volumes/Dropbox/largetransfer/luc/carter/data/models/rfc2.pkl_125.npy',\n",
       " '/Volumes/Dropbox/largetransfer/luc/carter/data/models/rfc2.pkl_126.npy',\n",
       " '/Volumes/Dropbox/largetransfer/luc/carter/data/models/rfc2.pkl_127.npy',\n",
       " '/Volumes/Dropbox/largetransfer/luc/carter/data/models/rfc2.pkl_128.npy',\n",
       " '/Volumes/Dropbox/largetransfer/luc/carter/data/models/rfc2.pkl_129.npy',\n",
       " '/Volumes/Dropbox/largetransfer/luc/carter/data/models/rfc2.pkl_130.npy',\n",
       " '/Volumes/Dropbox/largetransfer/luc/carter/data/models/rfc2.pkl_131.npy',\n",
       " '/Volumes/Dropbox/largetransfer/luc/carter/data/models/rfc2.pkl_132.npy',\n",
       " '/Volumes/Dropbox/largetransfer/luc/carter/data/models/rfc2.pkl_133.npy',\n",
       " '/Volumes/Dropbox/largetransfer/luc/carter/data/models/rfc2.pkl_134.npy',\n",
       " '/Volumes/Dropbox/largetransfer/luc/carter/data/models/rfc2.pkl_135.npy',\n",
       " '/Volumes/Dropbox/largetransfer/luc/carter/data/models/rfc2.pkl_136.npy',\n",
       " '/Volumes/Dropbox/largetransfer/luc/carter/data/models/rfc2.pkl_137.npy',\n",
       " '/Volumes/Dropbox/largetransfer/luc/carter/data/models/rfc2.pkl_138.npy',\n",
       " '/Volumes/Dropbox/largetransfer/luc/carter/data/models/rfc2.pkl_139.npy',\n",
       " '/Volumes/Dropbox/largetransfer/luc/carter/data/models/rfc2.pkl_140.npy',\n",
       " '/Volumes/Dropbox/largetransfer/luc/carter/data/models/rfc2.pkl_141.npy',\n",
       " '/Volumes/Dropbox/largetransfer/luc/carter/data/models/rfc2.pkl_142.npy',\n",
       " '/Volumes/Dropbox/largetransfer/luc/carter/data/models/rfc2.pkl_143.npy',\n",
       " '/Volumes/Dropbox/largetransfer/luc/carter/data/models/rfc2.pkl_144.npy',\n",
       " '/Volumes/Dropbox/largetransfer/luc/carter/data/models/rfc2.pkl_145.npy',\n",
       " '/Volumes/Dropbox/largetransfer/luc/carter/data/models/rfc2.pkl_146.npy',\n",
       " '/Volumes/Dropbox/largetransfer/luc/carter/data/models/rfc2.pkl_147.npy',\n",
       " '/Volumes/Dropbox/largetransfer/luc/carter/data/models/rfc2.pkl_148.npy',\n",
       " '/Volumes/Dropbox/largetransfer/luc/carter/data/models/rfc2.pkl_149.npy',\n",
       " '/Volumes/Dropbox/largetransfer/luc/carter/data/models/rfc2.pkl_150.npy',\n",
       " '/Volumes/Dropbox/largetransfer/luc/carter/data/models/rfc2.pkl_151.npy',\n",
       " '/Volumes/Dropbox/largetransfer/luc/carter/data/models/rfc2.pkl_152.npy',\n",
       " '/Volumes/Dropbox/largetransfer/luc/carter/data/models/rfc2.pkl_153.npy',\n",
       " '/Volumes/Dropbox/largetransfer/luc/carter/data/models/rfc2.pkl_154.npy',\n",
       " '/Volumes/Dropbox/largetransfer/luc/carter/data/models/rfc2.pkl_155.npy',\n",
       " '/Volumes/Dropbox/largetransfer/luc/carter/data/models/rfc2.pkl_156.npy',\n",
       " '/Volumes/Dropbox/largetransfer/luc/carter/data/models/rfc2.pkl_157.npy',\n",
       " '/Volumes/Dropbox/largetransfer/luc/carter/data/models/rfc2.pkl_158.npy',\n",
       " '/Volumes/Dropbox/largetransfer/luc/carter/data/models/rfc2.pkl_159.npy',\n",
       " '/Volumes/Dropbox/largetransfer/luc/carter/data/models/rfc2.pkl_160.npy',\n",
       " '/Volumes/Dropbox/largetransfer/luc/carter/data/models/rfc2.pkl_161.npy',\n",
       " '/Volumes/Dropbox/largetransfer/luc/carter/data/models/rfc2.pkl_162.npy',\n",
       " '/Volumes/Dropbox/largetransfer/luc/carter/data/models/rfc2.pkl_163.npy',\n",
       " '/Volumes/Dropbox/largetransfer/luc/carter/data/models/rfc2.pkl_164.npy',\n",
       " '/Volumes/Dropbox/largetransfer/luc/carter/data/models/rfc2.pkl_165.npy',\n",
       " '/Volumes/Dropbox/largetransfer/luc/carter/data/models/rfc2.pkl_166.npy',\n",
       " '/Volumes/Dropbox/largetransfer/luc/carter/data/models/rfc2.pkl_167.npy',\n",
       " '/Volumes/Dropbox/largetransfer/luc/carter/data/models/rfc2.pkl_168.npy',\n",
       " '/Volumes/Dropbox/largetransfer/luc/carter/data/models/rfc2.pkl_169.npy',\n",
       " '/Volumes/Dropbox/largetransfer/luc/carter/data/models/rfc2.pkl_170.npy',\n",
       " '/Volumes/Dropbox/largetransfer/luc/carter/data/models/rfc2.pkl_171.npy',\n",
       " '/Volumes/Dropbox/largetransfer/luc/carter/data/models/rfc2.pkl_172.npy',\n",
       " '/Volumes/Dropbox/largetransfer/luc/carter/data/models/rfc2.pkl_173.npy',\n",
       " '/Volumes/Dropbox/largetransfer/luc/carter/data/models/rfc2.pkl_174.npy',\n",
       " '/Volumes/Dropbox/largetransfer/luc/carter/data/models/rfc2.pkl_175.npy',\n",
       " '/Volumes/Dropbox/largetransfer/luc/carter/data/models/rfc2.pkl_176.npy',\n",
       " '/Volumes/Dropbox/largetransfer/luc/carter/data/models/rfc2.pkl_177.npy',\n",
       " '/Volumes/Dropbox/largetransfer/luc/carter/data/models/rfc2.pkl_178.npy',\n",
       " '/Volumes/Dropbox/largetransfer/luc/carter/data/models/rfc2.pkl_179.npy',\n",
       " '/Volumes/Dropbox/largetransfer/luc/carter/data/models/rfc2.pkl_180.npy',\n",
       " '/Volumes/Dropbox/largetransfer/luc/carter/data/models/rfc2.pkl_181.npy',\n",
       " '/Volumes/Dropbox/largetransfer/luc/carter/data/models/rfc2.pkl_182.npy',\n",
       " '/Volumes/Dropbox/largetransfer/luc/carter/data/models/rfc2.pkl_183.npy',\n",
       " '/Volumes/Dropbox/largetransfer/luc/carter/data/models/rfc2.pkl_184.npy',\n",
       " '/Volumes/Dropbox/largetransfer/luc/carter/data/models/rfc2.pkl_185.npy',\n",
       " '/Volumes/Dropbox/largetransfer/luc/carter/data/models/rfc2.pkl_186.npy',\n",
       " '/Volumes/Dropbox/largetransfer/luc/carter/data/models/rfc2.pkl_187.npy',\n",
       " '/Volumes/Dropbox/largetransfer/luc/carter/data/models/rfc2.pkl_188.npy',\n",
       " '/Volumes/Dropbox/largetransfer/luc/carter/data/models/rfc2.pkl_189.npy',\n",
       " '/Volumes/Dropbox/largetransfer/luc/carter/data/models/rfc2.pkl_190.npy',\n",
       " '/Volumes/Dropbox/largetransfer/luc/carter/data/models/rfc2.pkl_191.npy',\n",
       " '/Volumes/Dropbox/largetransfer/luc/carter/data/models/rfc2.pkl_192.npy',\n",
       " '/Volumes/Dropbox/largetransfer/luc/carter/data/models/rfc2.pkl_193.npy',\n",
       " '/Volumes/Dropbox/largetransfer/luc/carter/data/models/rfc2.pkl_194.npy',\n",
       " '/Volumes/Dropbox/largetransfer/luc/carter/data/models/rfc2.pkl_195.npy',\n",
       " '/Volumes/Dropbox/largetransfer/luc/carter/data/models/rfc2.pkl_196.npy',\n",
       " '/Volumes/Dropbox/largetransfer/luc/carter/data/models/rfc2.pkl_197.npy',\n",
       " '/Volumes/Dropbox/largetransfer/luc/carter/data/models/rfc2.pkl_198.npy',\n",
       " '/Volumes/Dropbox/largetransfer/luc/carter/data/models/rfc2.pkl_199.npy',\n",
       " '/Volumes/Dropbox/largetransfer/luc/carter/data/models/rfc2.pkl_200.npy',\n",
       " '/Volumes/Dropbox/largetransfer/luc/carter/data/models/rfc2.pkl_201.npy',\n",
       " '/Volumes/Dropbox/largetransfer/luc/carter/data/models/rfc2.pkl_202.npy',\n",
       " '/Volumes/Dropbox/largetransfer/luc/carter/data/models/rfc2.pkl_203.npy',\n",
       " '/Volumes/Dropbox/largetransfer/luc/carter/data/models/rfc2.pkl_204.npy',\n",
       " '/Volumes/Dropbox/largetransfer/luc/carter/data/models/rfc2.pkl_205.npy',\n",
       " '/Volumes/Dropbox/largetransfer/luc/carter/data/models/rfc2.pkl_206.npy',\n",
       " '/Volumes/Dropbox/largetransfer/luc/carter/data/models/rfc2.pkl_207.npy',\n",
       " '/Volumes/Dropbox/largetransfer/luc/carter/data/models/rfc2.pkl_208.npy',\n",
       " '/Volumes/Dropbox/largetransfer/luc/carter/data/models/rfc2.pkl_209.npy',\n",
       " '/Volumes/Dropbox/largetransfer/luc/carter/data/models/rfc2.pkl_210.npy',\n",
       " '/Volumes/Dropbox/largetransfer/luc/carter/data/models/rfc2.pkl_211.npy',\n",
       " '/Volumes/Dropbox/largetransfer/luc/carter/data/models/rfc2.pkl_212.npy',\n",
       " '/Volumes/Dropbox/largetransfer/luc/carter/data/models/rfc2.pkl_213.npy',\n",
       " '/Volumes/Dropbox/largetransfer/luc/carter/data/models/rfc2.pkl_214.npy',\n",
       " '/Volumes/Dropbox/largetransfer/luc/carter/data/models/rfc2.pkl_215.npy',\n",
       " '/Volumes/Dropbox/largetransfer/luc/carter/data/models/rfc2.pkl_216.npy',\n",
       " '/Volumes/Dropbox/largetransfer/luc/carter/data/models/rfc2.pkl_217.npy',\n",
       " '/Volumes/Dropbox/largetransfer/luc/carter/data/models/rfc2.pkl_218.npy',\n",
       " '/Volumes/Dropbox/largetransfer/luc/carter/data/models/rfc2.pkl_219.npy',\n",
       " '/Volumes/Dropbox/largetransfer/luc/carter/data/models/rfc2.pkl_220.npy',\n",
       " '/Volumes/Dropbox/largetransfer/luc/carter/data/models/rfc2.pkl_221.npy',\n",
       " '/Volumes/Dropbox/largetransfer/luc/carter/data/models/rfc2.pkl_222.npy',\n",
       " '/Volumes/Dropbox/largetransfer/luc/carter/data/models/rfc2.pkl_223.npy',\n",
       " '/Volumes/Dropbox/largetransfer/luc/carter/data/models/rfc2.pkl_224.npy',\n",
       " '/Volumes/Dropbox/largetransfer/luc/carter/data/models/rfc2.pkl_225.npy',\n",
       " '/Volumes/Dropbox/largetransfer/luc/carter/data/models/rfc2.pkl_226.npy',\n",
       " '/Volumes/Dropbox/largetransfer/luc/carter/data/models/rfc2.pkl_227.npy',\n",
       " '/Volumes/Dropbox/largetransfer/luc/carter/data/models/rfc2.pkl_228.npy',\n",
       " '/Volumes/Dropbox/largetransfer/luc/carter/data/models/rfc2.pkl_229.npy',\n",
       " '/Volumes/Dropbox/largetransfer/luc/carter/data/models/rfc2.pkl_230.npy',\n",
       " '/Volumes/Dropbox/largetransfer/luc/carter/data/models/rfc2.pkl_231.npy',\n",
       " '/Volumes/Dropbox/largetransfer/luc/carter/data/models/rfc2.pkl_232.npy',\n",
       " '/Volumes/Dropbox/largetransfer/luc/carter/data/models/rfc2.pkl_233.npy',\n",
       " '/Volumes/Dropbox/largetransfer/luc/carter/data/models/rfc2.pkl_234.npy',\n",
       " '/Volumes/Dropbox/largetransfer/luc/carter/data/models/rfc2.pkl_235.npy',\n",
       " '/Volumes/Dropbox/largetransfer/luc/carter/data/models/rfc2.pkl_236.npy',\n",
       " '/Volumes/Dropbox/largetransfer/luc/carter/data/models/rfc2.pkl_237.npy',\n",
       " '/Volumes/Dropbox/largetransfer/luc/carter/data/models/rfc2.pkl_238.npy',\n",
       " '/Volumes/Dropbox/largetransfer/luc/carter/data/models/rfc2.pkl_239.npy',\n",
       " '/Volumes/Dropbox/largetransfer/luc/carter/data/models/rfc2.pkl_240.npy',\n",
       " '/Volumes/Dropbox/largetransfer/luc/carter/data/models/rfc2.pkl_241.npy',\n",
       " '/Volumes/Dropbox/largetransfer/luc/carter/data/models/rfc2.pkl_242.npy',\n",
       " '/Volumes/Dropbox/largetransfer/luc/carter/data/models/rfc2.pkl_243.npy',\n",
       " '/Volumes/Dropbox/largetransfer/luc/carter/data/models/rfc2.pkl_244.npy',\n",
       " '/Volumes/Dropbox/largetransfer/luc/carter/data/models/rfc2.pkl_245.npy',\n",
       " '/Volumes/Dropbox/largetransfer/luc/carter/data/models/rfc2.pkl_246.npy',\n",
       " '/Volumes/Dropbox/largetransfer/luc/carter/data/models/rfc2.pkl_247.npy',\n",
       " '/Volumes/Dropbox/largetransfer/luc/carter/data/models/rfc2.pkl_248.npy',\n",
       " '/Volumes/Dropbox/largetransfer/luc/carter/data/models/rfc2.pkl_249.npy',\n",
       " '/Volumes/Dropbox/largetransfer/luc/carter/data/models/rfc2.pkl_250.npy',\n",
       " '/Volumes/Dropbox/largetransfer/luc/carter/data/models/rfc2.pkl_251.npy']"
      ]
     },
     "execution_count": 7,
     "metadata": {},
     "output_type": "execute_result"
    }
   ],
   "source": [
    "joblib.dump(rfc, path+'/data/models/rfc2.pkl') "
   ]
  },
  {
   "cell_type": "code",
   "execution_count": 8,
   "metadata": {
    "collapsed": false
   },
   "outputs": [
    {
     "name": "stdout",
     "output_type": "stream",
     "text": [
      "{'res': 0.7841679560209562} {'res': 0.6306087800145526} 0.6220095693779905 0.6394490900147565\n"
     ]
    }
   ],
   "source": [
    "dat = pd.DataFrame([rfc.predict_proba(X_test)[:,1], y_test, rfc.predict(X_test)]).T\n",
    "dat = dat.rename(columns={0:'prob',1:'act',2:'pred'})\n",
    "\n",
    "# sns.distplot(dat[(dat.act==1)&(dat.pred==1)].prob);\n",
    "# sns.distplot(dat[(dat.act==0)&(dat.pred==1)].prob);\n",
    "# sns.distplot(dat[(dat.act==1)&(dat.pred==0)].prob);\n",
    "# sns.distplot(dat[(dat.act==0)&(dat.pred==0)].prob);\n",
    "# plt.legend(['True vacant','False vacant','False Occupied','True Occupied'])\n",
    "\n",
    "acc_neg = len(dat[(dat.act==0) & (dat.pred==0)])/len(dat[dat.act==0])\n",
    "acc_pos = len(dat[(dat.act==1) & (dat.pred==1)])/len(dat[dat.act==1])\n",
    "G = {}\n",
    "F = {}\n",
    "G['res'] = (acc_neg*acc_pos)**0.5\n",
    "prec = len(dat[(dat.act==1) & (dat.pred==1)])/len(dat[dat.pred==1])\n",
    "F['res'] = 2*prec*acc_pos/(prec+acc_pos)\n",
    "print(G, F, prec, acc_pos)"
   ]
  },
  {
   "cell_type": "code",
   "execution_count": 9,
   "metadata": {
    "collapsed": false
   },
   "outputs": [],
   "source": [
    "res = {}\n",
    "for i in range(0,21):\n",
    "    # copy = y_test.copy()\n",
    "    p = i/20\n",
    "    copy = pd.Series(rfc.predict_proba(X_test)[:,1],index=y_test.index)\n",
    "    res[p] = {'correct': sum(y_test[copy.sort_values(ascending=False)[:int(len(X_test)*p)].index]), \\\n",
    "              'searched': len(y_test[copy.sort_values(ascending=False)[:int(len(X_test)*p)].index]), \\\n",
    "              'percent': sum(y_test[copy.sort_values(ascending=False)[:int(len(X_test)*p)].index])/sum(y_test) }\n",
    "#     sum(y_test[copy.sort_values(ascending=False)[:int(len(X_test)*p)].index]), len(y_test[copy.sort_values(ascending=False)[:int(len(X_test)*p)].index]), sum(y_test)\n",
    "res = pd.DataFrame(res).T\n",
    "\n",
    "# plt.plot(res.index, res.percent)"
   ]
  },
  {
   "cell_type": "markdown",
   "metadata": {},
   "source": [
    "## Importances"
   ]
  },
  {
   "cell_type": "code",
   "execution_count": 10,
   "metadata": {
    "collapsed": false
   },
   "outputs": [
    {
     "name": "stdout",
     "output_type": "stream",
     "text": [
      "Feature ranking:\n",
      "1. feature 26, days_since_ovv (0.192174)\n",
      "2. feature 22, pv_count (0.094176)\n",
      "3. feature 27, c_ovv_num (0.084636)\n",
      "4. feature 25, boarded (0.080863)\n",
      "5. feature 18, GRAND_TOTAL_PAID (0.064651)\n",
      "6. feature 21, paid_percent (0.054621)\n",
      "7. feature 31, fc_days (0.040226)\n",
      "8. feature 32, sa_days (0.035636)\n",
      "9. feature 37, al_days (0.030372)\n",
      "10. feature 38, price_per_sqft (0.026358)\n"
     ]
    },
    {
     "data": {
      "image/png": "[encoded data removed]",
      "text/plain": [
       "<matplotlib.figure.Figure at 0x112794278>"
      ]
     },
     "metadata": {},
     "output_type": "display_data"
    }
   ],
   "source": [
    "# plot the top ten features\n",
    "\n",
    "importances = rfc.feature_importances_\n",
    "std = np.std([tree.feature_importances_ for tree in rfc.estimators_],\n",
    "             axis=0)\n",
    "indices = np.argsort(importances)[::-1]\n",
    "\n",
    "# Print the feature ranking\n",
    "print(\"Feature ranking:\")\n",
    "\n",
    "for f in range(10):\n",
    "    print(\"%d. feature %d, %s (%f)\" % (f + 1, indices[f], features[indices[f]], importances[indices[f]]))\n",
    "    \n",
    "# Plot the feature importances of the forest\n",
    "plt.figure()\n",
    "plt.title(\"Feature importances\")\n",
    "plt.bar(range(10), importances[indices[0:10]], yerr=std[indices[0:10]], align=\"center\")\n",
    "plt.xticks(range(10), indices[0:10])\n",
    "plt.xlim([-1, 10])\n",
    "plt.show()"
   ]
  },
  {
   "cell_type": "code",
   "execution_count": 11,
   "metadata": {
    "collapsed": false
   },
   "outputs": [
    {
     "name": "stdout",
     "output_type": "stream",
     "text": [
      "Feature ranking (least important):\n",
      "1. feature 13, lb_tax_fc (0.000005)\n",
      "2. feature 12, lb_acquired (0.000012)\n",
      "3. feature 28, active_fc (0.000162)\n",
      "4. feature 29, fc_1yr (0.000471)\n",
      "5. feature 1, occup (0.002302)\n",
      "6. feature 10, totbldgs (0.002492)\n",
      "7. feature 30, fc_2yr (0.002961)\n",
      "8. feature 2, rnumstor (0.003234)\n",
      "9. feature 0, cqual_num (0.003465)\n",
      "10. feature 23, v_total_1yr (0.003894)\n"
     ]
    },
    {
     "data": {
      "image/png": "[encoded data removed]",
      "text/plain": [
       "<matplotlib.figure.Figure at 0x112794208>"
      ]
     },
     "metadata": {},
     "output_type": "display_data"
    }
   ],
   "source": [
    "# Print the feature ranking\n",
    "features2 = pd.DataFrame(features).iloc[indices[0:10]][0].values\n",
    "\n",
    "print(\"Feature ranking (least important):\")\n",
    "\n",
    "for f in range(10):\n",
    "    print(\"%d. feature %d, %s (%f)\" % (f + 1, indices[-f-1], features[indices[-f-1]], importances[indices[-f-1]]))\n",
    "# Plot the feature importances of the forest\n",
    "plt.figure()\n",
    "plt.title(\"Feature importances\")\n",
    "plt.bar(range(10), importances[indices[-10:]], yerr=std[indices[-10:]], align=\"center\")\n",
    "plt.xticks(range(10), indices[-10:])\n",
    "plt.xlim([-1, 10])\n",
    "plt.show()"
   ]
  },
  {
   "cell_type": "markdown",
   "metadata": {},
   "source": [
    "### Logistic Regressor"
   ]
  },
  {
   "cell_type": "code",
   "execution_count": 20,
   "metadata": {
    "collapsed": true
   },
   "outputs": [],
   "source": [
    "# features2 = ['c_O.V.V._2yr', 'pv_total','GRAND_TOTAL_BALANCE','condition_value','vacant',\\\n",
    "#              'totusabl', 'tmktval', 'fc_days', 'days_since_transfer', 'propsize', 'yrbuilt_filtered', 'al_days']\n",
    "\n",
    "# # features2 = ['c_O.V.V._2yr', 'pv_total','GRAND_TOTAL_BALANCE','condition_value','vacant']"
   ]
  },
  {
   "cell_type": "code",
   "execution_count": 21,
   "metadata": {
    "collapsed": false
   },
   "outputs": [],
   "source": [
    "# train_lr = preprocessing.scale(X_train)\n",
    "# test_lr = preprocessing.scale(X_test)\n",
    "\n",
    "# lr = LogisticRegression(class_weight={0:1, 1:2}, random_state=1001)\n",
    "# lr.fit(pd.DataFrame(train_lr, columns = features), y_train)\n",
    "# pd.crosstab(y_test,lr.predict(test_lr))"
   ]
  },
  {
   "cell_type": "code",
   "execution_count": 12,
   "metadata": {
    "collapsed": false
   },
   "outputs": [
    {
     "data": {
      "text/html": [
       "<div>\n",
       "<table border=\"1\" class=\"dataframe\">\n",
       "  <thead>\n",
       "    <tr style=\"text-align: right;\">\n",
       "      <th>predicted by LR</th>\n",
       "      <th>0</th>\n",
       "      <th>1</th>\n",
       "    </tr>\n",
       "    <tr>\n",
       "      <th>vacant</th>\n",
       "      <th></th>\n",
       "      <th></th>\n",
       "    </tr>\n",
       "  </thead>\n",
       "  <tbody>\n",
       "    <tr>\n",
       "      <th>0</th>\n",
       "      <td>19802</td>\n",
       "      <td>792</td>\n",
       "    </tr>\n",
       "    <tr>\n",
       "      <th>1</th>\n",
       "      <td>808</td>\n",
       "      <td>1225</td>\n",
       "    </tr>\n",
       "  </tbody>\n",
       "</table>\n",
       "</div>"
      ],
      "text/plain": [
       "predicted by LR      0     1\n",
       "vacant                      \n",
       "0                19802   792\n",
       "1                  808  1225"
      ]
     },
     "execution_count": 12,
     "metadata": {},
     "output_type": "execute_result"
    }
   ],
   "source": [
    "lr = LogisticRegression(class_weight={0:1, 1:3}, random_state=1001)\n",
    "lr.fit(pd.DataFrame(X_train, columns = features), y_train)\n",
    "# pd.crosstab(y_test,lr.predict(X_test))\n",
    "\n",
    "pd.crosstab(y_test,lr.predict(X_test),colnames=['predicted by LR'])"
   ]
  },
  {
   "cell_type": "code",
   "execution_count": 14,
   "metadata": {
    "collapsed": false
   },
   "outputs": [
    {
     "data": {
      "text/html": [
       "<div>\n",
       "<table border=\"1\" class=\"dataframe\">\n",
       "  <thead>\n",
       "    <tr style=\"text-align: right;\">\n",
       "      <th>col_0</th>\n",
       "      <th>0</th>\n",
       "      <th>1</th>\n",
       "    </tr>\n",
       "    <tr>\n",
       "      <th>row_0</th>\n",
       "      <th></th>\n",
       "      <th></th>\n",
       "    </tr>\n",
       "  </thead>\n",
       "  <tbody>\n",
       "    <tr>\n",
       "      <th>0</th>\n",
       "      <td>20068</td>\n",
       "      <td>526</td>\n",
       "    </tr>\n",
       "    <tr>\n",
       "      <th>1</th>\n",
       "      <td>897</td>\n",
       "      <td>1136</td>\n",
       "    </tr>\n",
       "  </tbody>\n",
       "</table>\n",
       "</div>"
      ],
      "text/plain": [
       "col_0      0     1\n",
       "row_0             \n",
       "0      20068   526\n",
       "1        897  1136"
      ]
     },
     "execution_count": 14,
     "metadata": {},
     "output_type": "execute_result"
    }
   ],
   "source": [
    "pd.crosstab( y_test.values,pd.Series(lr.predict_proba(X_test)[:,1]-.1).apply(lambda x: int(round(x))))"
   ]
  },
  {
   "cell_type": "code",
   "execution_count": 15,
   "metadata": {
    "collapsed": false
   },
   "outputs": [
    {
     "name": "stdout",
     "output_type": "stream",
     "text": [
      "{'log_res': 0.7611732701459691, 'res': 0.7841679560209562} {'log_res': 0.6049382716049383, 'res': 0.6306087800145526} 0.6073376301437778 0.602557796360059\n"
     ]
    }
   ],
   "source": [
    "dat = pd.DataFrame([lr.predict_proba(X_test)[:,1], y_test, lr.predict(X_test)]).T\n",
    "dat = dat.rename(columns={0:'prob',1:'act',2:'pred'})\n",
    "\n",
    "# sns.distplot(dat[(dat.act==1)&(dat.pred==1)].prob);\n",
    "# sns.distplot(dat[(dat.act==0)&(dat.pred==1)].prob);\n",
    "# sns.distplot(dat[(dat.act==1)&(dat.pred==0)].prob);\n",
    "# sns.distplot(dat[(dat.act==0)&(dat.pred==0)].prob);\n",
    "# plt.legend(['True vacant','False vacant','False Occupied','True Occupied'])\n",
    "\n",
    "acc_neg = len(dat[(dat.act==0) & (dat.pred==0)])/len(dat[dat.act==0])\n",
    "acc_pos = len(dat[(dat.act==1) & (dat.pred==1)])/len(dat[dat.act==1])\n",
    "G['log_res'] = (acc_neg*acc_pos)**0.5\n",
    "prec = len(dat[(dat.act==1) & (dat.pred==1)])/len(dat[dat.pred==1])\n",
    "F['log_res'] = 2*prec*acc_pos/(prec+acc_pos)\n",
    "print(G, F, prec, acc_pos)"
   ]
  },
  {
   "cell_type": "code",
   "execution_count": 16,
   "metadata": {
    "collapsed": false
   },
   "outputs": [
    {
     "data": {
      "text/plain": [
       "[<matplotlib.lines.Line2D at 0x1146040f0>]"
      ]
     },
     "execution_count": 16,
     "metadata": {},
     "output_type": "execute_result"
    },
    {
     "data": {
      "image/png": "[encoded data removed]",
      "text/plain": [
       "<matplotlib.figure.Figure at 0x113e45940>"
      ]
     },
     "metadata": {},
     "output_type": "display_data"
    }
   ],
   "source": [
    "log_res = {}\n",
    "for i in range(0,21):\n",
    "    # copy = y_test.copy()\n",
    "    p = i/20\n",
    "    copy = pd.Series(lr.predict_proba(X_test)[:,1],index=y_test.index)\n",
    "    log_res[p] = {'correct': sum(y_test[copy.sort_values(ascending=False)[:int(len(X_test)*p)].index]), \\\n",
    "              'searched': len(y_test[copy.sort_values(ascending=False)[:int(len(X_test)*p)].index]), \\\n",
    "              'percent': sum(y_test[copy.sort_values(ascending=False)[:int(len(X_test)*p)].index])/sum(y_test) }\n",
    "#     sum(y_test[copy.sort_values(ascending=False)[:int(len(X_test)*p)].index]), len(y_test[copy.sort_values(ascending=False)[:int(len(X_test)*p)].index]), sum(y_test)\n",
    "log_res = pd.DataFrame(log_res).T\n",
    "\n",
    "plt.plot(res.index, res.percent)\n",
    "plt.plot(log_res.index, log_res.percent)"
   ]
  },
  {
   "cell_type": "code",
   "execution_count": 17,
   "metadata": {
    "collapsed": false
   },
   "outputs": [
    {
     "name": "stdout",
     "output_type": "stream",
     "text": [
      "Feature ranking:\n",
      "1. feature 22, pv_count (0.191113)\n",
      "2. feature 8, cond_val (-0.144116)\n",
      "3. feature 24, v_total_2yr (0.058445)\n",
      "4. feature 23, v_total_1yr (0.044094)\n",
      "5. feature 20, delq_total_ratio (0.028879)\n",
      "6. feature 25, boarded (0.027112)\n",
      "7. feature 21, paid_percent (-0.021705)\n",
      "8. feature 1, occup (0.019688)\n",
      "9. feature 9, ownerocc_value (-0.018903)\n",
      "10. feature 30, fc_2yr (0.011447)\n",
      "11. feature 10, totbldgs (-0.007405)\n",
      "12. feature 35, t_num (-0.007263)\n",
      "13. feature 0, cqual_num (-0.006964)\n",
      "14. feature 38, price_per_sqft (-0.006346)\n",
      "15. feature 15, TAX_ASSESSED_LAND (0.005144)\n",
      "\n",
      "Feature ranking (least important):\n",
      "1. feature 34, t_shf_deed (0.000001)\n",
      "2. feature 5, tmktval (0.000005)\n",
      "3. feature 3, propsize (-0.000022)\n",
      "4. feature 6, mktbldg (-0.000023)\n",
      "5. feature 37, al_days (0.000048)\n",
      "6. feature 7, mktland (0.000051)\n",
      "7. feature 19, GRAND_TOTAL_OWED (0.000071)\n",
      "8. feature 32, sa_days (-0.000083)\n",
      "9. feature 18, GRAND_TOTAL_PAID (-0.000096)\n",
      "10. feature 33, t_days (-0.000097)\n"
     ]
    }
   ],
   "source": [
    "importances = lr.coef_[0]\n",
    "# std = np.std([tree.feature_importances_ for tree in lr.estimators_],\n",
    "#              axis=0)\n",
    "indices = np.argsort(abs(importances))[::-1]\n",
    "\n",
    "# Print the feature ranking\n",
    "print(\"Feature ranking:\")\n",
    "\n",
    "for f in range(15):\n",
    "    print(\"%d. feature %d, %s (%f)\" % (f + 1, indices[f], features[indices[f]], importances[indices[f]]))\n",
    "print(\"\\nFeature ranking (least important):\")\n",
    "for f in range(10):\n",
    "    print(\"%d. feature %d, %s (%f)\" % (f + 1, indices[-f-1], features[indices[-f-1]], importances[indices[-f-1]]))"
   ]
  },
  {
   "cell_type": "code",
   "execution_count": 18,
   "metadata": {
    "collapsed": false
   },
   "outputs": [
    {
     "data": {
      "text/plain": [
       "['/Volumes/Dropbox/largetransfer/luc/carter/data/models/lr2.pkl',\n",
       " '/Volumes/Dropbox/largetransfer/luc/carter/data/models/lr2.pkl_01.npy',\n",
       " '/Volumes/Dropbox/largetransfer/luc/carter/data/models/lr2.pkl_02.npy',\n",
       " '/Volumes/Dropbox/largetransfer/luc/carter/data/models/lr2.pkl_03.npy']"
      ]
     },
     "execution_count": 18,
     "metadata": {},
     "output_type": "execute_result"
    }
   ],
   "source": [
    "joblib.dump(lr, path+'/data/models/lr2.pkl') "
   ]
  },
  {
   "cell_type": "markdown",
   "metadata": {},
   "source": [
    "## xgboost"
   ]
  },
  {
   "cell_type": "code",
   "execution_count": 19,
   "metadata": {
    "collapsed": false
   },
   "outputs": [],
   "source": [
    "import xgboost as xgb\n",
    "\n",
    "dtrain = xgb.DMatrix(X_train, label=y_train)\n",
    "dtest = xgb.DMatrix(X_test, label=y_test)\n",
    "\n",
    "params = {\"objective\": \"binary:logistic\"}\n",
    "gbm = xgb.train(params, dtrain, 20)"
   ]
  },
  {
   "cell_type": "code",
   "execution_count": 20,
   "metadata": {
    "collapsed": false
   },
   "outputs": [],
   "source": [
    "# gbm.save_model(path+'/data/models/gbm2.pkl')\n",
    "# bst = xgb.Booster() #init model\n",
    "# bst.load_model(path+'/data/models/gbm2.pkl')"
   ]
  },
  {
   "cell_type": "code",
   "execution_count": 21,
   "metadata": {
    "collapsed": true
   },
   "outputs": [],
   "source": [
    "probs = gbm.predict(dtest)"
   ]
  },
  {
   "cell_type": "code",
   "execution_count": 22,
   "metadata": {
    "collapsed": false
   },
   "outputs": [
    {
     "data": {
      "text/plain": [
       "(22627,)"
      ]
     },
     "execution_count": 22,
     "metadata": {},
     "output_type": "execute_result"
    }
   ],
   "source": [
    "y_test.shape"
   ]
  },
  {
   "cell_type": "code",
   "execution_count": 27,
   "metadata": {
    "collapsed": false
   },
   "outputs": [
    {
     "data": {
      "text/html": [
       "<div>\n",
       "<table border=\"1\" class=\"dataframe\">\n",
       "  <thead>\n",
       "    <tr style=\"text-align: right;\">\n",
       "      <th>col_0</th>\n",
       "      <th>0</th>\n",
       "      <th>1</th>\n",
       "    </tr>\n",
       "    <tr>\n",
       "      <th>row_0</th>\n",
       "      <th></th>\n",
       "      <th></th>\n",
       "    </tr>\n",
       "  </thead>\n",
       "  <tbody>\n",
       "    <tr>\n",
       "      <th>0</th>\n",
       "      <td>19980</td>\n",
       "      <td>614</td>\n",
       "    </tr>\n",
       "    <tr>\n",
       "      <th>1</th>\n",
       "      <td>789</td>\n",
       "      <td>1244</td>\n",
       "    </tr>\n",
       "  </tbody>\n",
       "</table>\n",
       "</div>"
      ],
      "text/plain": [
       "col_0      0     1\n",
       "row_0             \n",
       "0      19980   614\n",
       "1        789  1244"
      ]
     },
     "execution_count": 27,
     "metadata": {},
     "output_type": "execute_result"
    }
   ],
   "source": [
    "pd.crosstab( y_test.values,pd.Series(probs+.19).apply(lambda x: int(round(x))))"
   ]
  },
  {
   "cell_type": "code",
   "execution_count": 9,
   "metadata": {
    "collapsed": false
   },
   "outputs": [
    {
     "ename": "IndexError",
     "evalue": "too many indices for array",
     "output_type": "error",
     "traceback": [
      "\u001b[0;31m---------------------------------------------------------------------------\u001b[0m",
      "\u001b[0;31mIndexError\u001b[0m                                Traceback (most recent call last)",
      "\u001b[0;32m<ipython-input-9-045aa3a2ee78>\u001b[0m in \u001b[0;36m<module>\u001b[0;34m()\u001b[0m\n\u001b[0;32m----> 1\u001b[0;31m \u001b[0mt\u001b[0m\u001b[0;34m[\u001b[0m\u001b[0;34m'preds'\u001b[0m\u001b[0;34m]\u001b[0m \u001b[0;34m=\u001b[0m \u001b[0mpd\u001b[0m\u001b[0;34m.\u001b[0m\u001b[0mSeries\u001b[0m\u001b[0;34m(\u001b[0m\u001b[0mprobs\u001b[0m\u001b[0;34m[\u001b[0m\u001b[0;34m:\u001b[0m\u001b[0;34m,\u001b[0m\u001b[0;36m1\u001b[0m\u001b[0;34m]\u001b[0m\u001b[0;34m+\u001b[0m\u001b[0;36m.23\u001b[0m\u001b[0;34m)\u001b[0m\u001b[0;34m.\u001b[0m\u001b[0mapply\u001b[0m\u001b[0;34m(\u001b[0m\u001b[0;32mlambda\u001b[0m \u001b[0mx\u001b[0m\u001b[0;34m:\u001b[0m \u001b[0mint\u001b[0m\u001b[0;34m(\u001b[0m\u001b[0mround\u001b[0m\u001b[0;34m(\u001b[0m\u001b[0mx\u001b[0m\u001b[0;34m)\u001b[0m\u001b[0;34m)\u001b[0m\u001b[0;34m)\u001b[0m\u001b[0;34m.\u001b[0m\u001b[0mvalues\u001b[0m\u001b[0;34m\u001b[0m\u001b[0m\n\u001b[0m",
      "\u001b[0;31mIndexError\u001b[0m: too many indices for array"
     ]
    }
   ],
   "source": [
    "# t['preds'] = pd.Series(probs[:,1]+.23).apply(lambda x: int(round(x))).values"
   ]
  },
  {
   "cell_type": "code",
   "execution_count": 46,
   "metadata": {
    "collapsed": false
   },
   "outputs": [],
   "source": [
    "# t[['preds']].to_csv(path+'/data/predictions/xgb.csv')"
   ]
  },
  {
   "cell_type": "code",
   "execution_count": 47,
   "metadata": {
    "collapsed": false
   },
   "outputs": [],
   "source": [
    "# probs_train = gbm.predict_proba(xgtrain)\n",
    "# pd.crosstab(y_train,pd.Series(probs_train[:,1]+.23).apply(lambda x: int(round(x))).values,rownames=['actual'],colnames=['predicted by GBM'])"
   ]
  },
  {
   "cell_type": "code",
   "execution_count": 48,
   "metadata": {
    "collapsed": false
   },
   "outputs": [],
   "source": [
    "# pd.crosstab(y_test,pd.Series(probs[:,1]+.23).apply(lambda x: int(round(x))).values,rownames=['actual'],colnames=['predicted by GBM'])"
   ]
  },
  {
   "cell_type": "code",
   "execution_count": 28,
   "metadata": {
    "collapsed": false
   },
   "outputs": [],
   "source": [
    "xgb_res = {}\n",
    "for i in range(0,21):\n",
    "    # copy = y_test.copy()\n",
    "    p = i/20\n",
    "    copy = pd.Series(probs+.22)\n",
    "#     copy = pd.Series(probs[:,1],index=y_test.index)\n",
    "    xgb_res[p] = {'correct': sum(y_test[copy.sort_values(ascending=False)[:int(len(X_test)*p)].index]), \\\n",
    "              'searched': len(y_test[copy.sort_values(ascending=False)[:int(len(X_test)*p)].index]), \\\n",
    "              'percent': sum(y_test[copy.sort_values(ascending=False)[:int(len(X_test)*p)].index])/sum(y_test) }\n",
    "#     sum(y_test[copy.sort_values(ascending=False)[:int(len(X_test)*p)].index]), len(y_test[copy.sort_values(ascending=False)[:int(len(X_test)*p)].index]), sum(y_test)\n",
    "xgb_res = pd.DataFrame(xgb_res).T"
   ]
  },
  {
   "cell_type": "code",
   "execution_count": 29,
   "metadata": {
    "collapsed": false
   },
   "outputs": [
    {
     "data": {
      "text/plain": [
       "<matplotlib.legend.Legend at 0x1127a4b70>"
      ]
     },
     "execution_count": 29,
     "metadata": {},
     "output_type": "execute_result"
    },
    {
     "data": {
      "image/png": "[encoded data removed]",
      "text/plain": [
       "<matplotlib.figure.Figure at 0x1102bc668>"
      ]
     },
     "metadata": {},
     "output_type": "display_data"
    }
   ],
   "source": [
    "# sns.set_context('notebook')\n",
    "# sns.set_style(\"whitegrid\")\n",
    "fig = plt.figure()\n",
    "# fig, ax = plt.subplots()\n",
    "# ax.plot(t, s)\n",
    "\n",
    "plot = fig.add_subplot(111)\n",
    "# ax.grid(True)\n",
    "ax = fig.gca()\n",
    "ax.grid(True)\n",
    "plot.tick_params(axis='both', labelsize=12)\n",
    "plt.plot(log_res.index, log_res.percent,linewidth=1.5)\n",
    "plt.plot(res.index, res.percent,linewidth=1.5)\n",
    "plt.plot(xgb_res.index, xgb_res.percent,linewidth=1.5)\n",
    "plt.plot([0,sum(y_test)/len(y_test)],[0,1],'k--',linewidth=1)\n",
    "plt.xlabel('Fraction of homes inspected',fontsize=12)\n",
    "plt.ylabel('Fraction of vacancies identified',fontsize=12)\n",
    "# plt.set_xticklabels(fontsize='small')\n",
    "# plt.axis([-0.05,1.05,-0.05,1.05])\n",
    "plt.legend(['Logistic regression','Random forest','Gradient boosted model','Perfect classifier'],loc='lower right',fontsize=12);\n",
    "# plt.savefig(path+'/outputs/model_inspection_comparison.pdf')"
   ]
  },
  {
   "cell_type": "code",
   "execution_count": 30,
   "metadata": {
    "collapsed": false
   },
   "outputs": [
    {
     "data": {
      "text/html": [
       "<div>\n",
       "<table border=\"1\" class=\"dataframe\">\n",
       "  <thead>\n",
       "    <tr style=\"text-align: right;\">\n",
       "      <th></th>\n",
       "      <th>Random forest</th>\n",
       "      <th>Logistic regression</th>\n",
       "      <th>Gradient boosted</th>\n",
       "    </tr>\n",
       "  </thead>\n",
       "  <tbody>\n",
       "    <tr>\n",
       "      <th>0.0</th>\n",
       "      <td>0</td>\n",
       "      <td>0</td>\n",
       "      <td>0</td>\n",
       "    </tr>\n",
       "    <tr>\n",
       "      <th>0.1</th>\n",
       "      <td>1331</td>\n",
       "      <td>1282</td>\n",
       "      <td>1354</td>\n",
       "    </tr>\n",
       "    <tr>\n",
       "      <th>0.2</th>\n",
       "      <td>1648</td>\n",
       "      <td>1583</td>\n",
       "      <td>1671</td>\n",
       "    </tr>\n",
       "    <tr>\n",
       "      <th>0.3</th>\n",
       "      <td>1786</td>\n",
       "      <td>1735</td>\n",
       "      <td>1798</td>\n",
       "    </tr>\n",
       "    <tr>\n",
       "      <th>0.4</th>\n",
       "      <td>1857</td>\n",
       "      <td>1829</td>\n",
       "      <td>1875</td>\n",
       "    </tr>\n",
       "    <tr>\n",
       "      <th>0.5</th>\n",
       "      <td>1917</td>\n",
       "      <td>1901</td>\n",
       "      <td>1937</td>\n",
       "    </tr>\n",
       "    <tr>\n",
       "      <th>0.6</th>\n",
       "      <td>1957</td>\n",
       "      <td>1944</td>\n",
       "      <td>1967</td>\n",
       "    </tr>\n",
       "    <tr>\n",
       "      <th>0.7</th>\n",
       "      <td>1981</td>\n",
       "      <td>1978</td>\n",
       "      <td>1991</td>\n",
       "    </tr>\n",
       "    <tr>\n",
       "      <th>0.8</th>\n",
       "      <td>2001</td>\n",
       "      <td>1994</td>\n",
       "      <td>2002</td>\n",
       "    </tr>\n",
       "    <tr>\n",
       "      <th>0.9</th>\n",
       "      <td>2021</td>\n",
       "      <td>2017</td>\n",
       "      <td>2020</td>\n",
       "    </tr>\n",
       "    <tr>\n",
       "      <th>1.0</th>\n",
       "      <td>2033</td>\n",
       "      <td>2033</td>\n",
       "      <td>2033</td>\n",
       "    </tr>\n",
       "  </tbody>\n",
       "</table>\n",
       "</div>"
      ],
      "text/plain": [
       "     Random forest  Logistic regression  Gradient boosted\n",
       "0.0              0                    0                 0\n",
       "0.1           1331                 1282              1354\n",
       "0.2           1648                 1583              1671\n",
       "0.3           1786                 1735              1798\n",
       "0.4           1857                 1829              1875\n",
       "0.5           1917                 1901              1937\n",
       "0.6           1957                 1944              1967\n",
       "0.7           1981                 1978              1991\n",
       "0.8           2001                 1994              2002\n",
       "0.9           2021                 2017              2020\n",
       "1.0           2033                 2033              2033"
      ]
     },
     "execution_count": 30,
     "metadata": {},
     "output_type": "execute_result"
    }
   ],
   "source": [
    "tem = pd.concat([res[['correct']].iloc[range(0,22,2)], \\\n",
    "           log_res[['correct']].iloc[range(0,22,2)],\\\n",
    "           xgb_res[['correct']].iloc[range(0,22,2)] ], axis=1)\n",
    "\n",
    "tem.columns = ['Random forest','Logistic regression','Gradient boosted']\n",
    "\n",
    "tem"
   ]
  },
  {
   "cell_type": "code",
   "execution_count": 31,
   "metadata": {
    "collapsed": false
   },
   "outputs": [
    {
     "name": "stdout",
     "output_type": "stream",
     "text": [
      "{'xgb_res': 0.7824466674752601, 'log_res': 0.7611732701459691, 'res': 0.7841679560209562} {'xgb_res': 0.6375092661230541, 'log_res': 0.6049382716049383, 'res': 0.6306087800145526} 0.6405163853028798 0.6345302508607968\n"
     ]
    }
   ],
   "source": [
    "dat = pd.DataFrame([gbm.predict(dtest)+0.22, y_test, pd.Series(probs+.23).apply(lambda x: int(round(x))).values]).T\n",
    "dat = dat.rename(columns={0:'prob',1:'act',2:'pred'})\n",
    "\n",
    "\n",
    "# sns.distplot(dat[(dat.act==1)&(dat.pred==1)].prob);\n",
    "# sns.distplot(dat[(dat.act==0)&(dat.pred==1)].prob);\n",
    "# sns.distplot(dat[(dat.act==1)&(dat.pred==0)].prob);\n",
    "# sns.distplot(dat[(dat.act==0)&(dat.pred==0)].prob);\n",
    "# plt.legend(['True vacant','False vacant','False Occupied','True Occupied'])\n",
    "\n",
    "acc_neg = len(dat[(dat.act==0) & (dat.pred==0)])/len(dat[dat.act==0])\n",
    "acc_pos = len(dat[(dat.act==1) & (dat.pred==1)])/len(dat[dat.act==1])\n",
    "G['xgb_res'] = (acc_neg*acc_pos)**0.5\n",
    "prec = len(dat[(dat.act==1) & (dat.pred==1)])/len(dat[dat.pred==1])\n",
    "F['xgb_res'] = 2*prec*acc_pos/(prec+acc_pos)\n",
    "print(G, F, prec, acc_pos)"
   ]
  },
  {
   "cell_type": "code",
   "execution_count": 32,
   "metadata": {
    "collapsed": false
   },
   "outputs": [
    {
     "data": {
      "text/plain": [
       "<matplotlib.text.Text at 0x10fea27b8>"
      ]
     },
     "execution_count": 32,
     "metadata": {},
     "output_type": "execute_result"
    },
    {
     "data": {
      "image/png": "[encoded data removed]",
      "text/plain": [
       "<matplotlib.figure.Figure at 0x1136f94e0>"
      ]
     },
     "metadata": {},
     "output_type": "display_data"
    }
   ],
   "source": [
    "from sklearn.metrics import roc_curve\n",
    "\n",
    "fig = plt.figure(figsize=[5,5])\n",
    "plot = fig.add_subplot(111)\n",
    "\n",
    "ax = fig.gca()\n",
    "ax.grid(True)\n",
    "\n",
    "\n",
    "# The logistic regression\n",
    "y_pred_lr = lr.predict_proba(X_test)[:, 1]\n",
    "fpr_lr, tpr_lr, _ = roc_curve(y_test, y_pred_lr)\n",
    "\n",
    "# The random forest model by itself\n",
    "y_pred_rf = rfc.predict_proba(X_test)[:, 1]\n",
    "fpr_rf, tpr_rf, _ = roc_curve(y_test, y_pred_rf)\n",
    "\n",
    "# The random forest model by itself\n",
    "y_pred_gb = gbm.predict(dtest)\n",
    "fpr_gb, tpr_gb, _ = roc_curve(y_test, y_pred_gb)\n",
    "\n",
    "plt.plot(fpr_lr, tpr_lr, label='Logistic regression')\n",
    "plt.plot(fpr_rf, tpr_rf, label='Random forest')\n",
    "plt.plot(fpr_gb, tpr_gb, label='Gradient boosted')\n",
    "plt.plot([0,1], [0,1],'k--')\n",
    "\n",
    "plt.legend(loc='lower right');\n",
    "plt.axis([0,1,0,1],'equal')\n",
    "plt.ylabel('True positive rate')\n",
    "plt.xlabel('False positive rate')\n",
    "\n",
    "# plt.savefig(path+'/outputs/model_ROC.pdf')."
   ]
  },
  {
   "cell_type": "code",
   "execution_count": 68,
   "metadata": {
    "collapsed": false
   },
   "outputs": [],
   "source": [
    "r = pd.Series(gbm.predict(dtest)).apply(lambda x: 0 if x < 0.3 else 1)"
   ]
  },
  {
   "cell_type": "code",
   "execution_count": 74,
   "metadata": {
    "collapsed": false
   },
   "outputs": [
    {
     "data": {
      "text/plain": [
       "array([0, 1, 0, ..., 0, 0, 0])"
      ]
     },
     "execution_count": 74,
     "metadata": {},
     "output_type": "execute_result"
    }
   ],
   "source": [
    "r.values"
   ]
  },
  {
   "cell_type": "code",
   "execution_count": 50,
   "metadata": {
    "collapsed": false
   },
   "outputs": [],
   "source": [
    "pred_r = rfc.predict_proba(X_test)\n",
    "pred_g = gbm.predict(dtest)\n",
    "pred_l = lr.predict_proba(X_test)\n",
    "preds = pd.concat([pd.DataFrame(pred_r[:,1], index=y_test.index).rename(columns={0:'rf'}),\\\n",
    "       pd.DataFrame(pred_l[:,1], index=y_test.index).rename(columns={0:'lr'}),\\\n",
    "       pd.DataFrame(pred_g, index=y_test.index).rename(columns={0:'gbm'}),\\\n",
    "      y_test], axis=1).reset_index()"
   ]
  },
  {
   "cell_type": "code",
   "execution_count": 76,
   "metadata": {
    "collapsed": false
   },
   "outputs": [],
   "source": [
    "preds['avg'] = (preds['rf']+preds['lr']+preds['gbm'])/3.0"
   ]
  },
  {
   "cell_type": "code",
   "execution_count": 81,
   "metadata": {
    "collapsed": false
   },
   "outputs": [
    {
     "data": {
      "text/html": [
       "<div>\n",
       "<table border=\"1\" class=\"dataframe\">\n",
       "  <thead>\n",
       "    <tr style=\"text-align: right;\">\n",
       "      <th>gbm</th>\n",
       "      <th>0</th>\n",
       "      <th>1</th>\n",
       "    </tr>\n",
       "    <tr>\n",
       "      <th>row_0</th>\n",
       "      <th></th>\n",
       "      <th></th>\n",
       "    </tr>\n",
       "  </thead>\n",
       "  <tbody>\n",
       "    <tr>\n",
       "      <th>0</th>\n",
       "      <td>19980</td>\n",
       "      <td>614</td>\n",
       "    </tr>\n",
       "    <tr>\n",
       "      <th>1</th>\n",
       "      <td>788</td>\n",
       "      <td>1245</td>\n",
       "    </tr>\n",
       "  </tbody>\n",
       "</table>\n",
       "</div>"
      ],
      "text/plain": [
       "gbm        0     1\n",
       "row_0             \n",
       "0      19980   614\n",
       "1        788  1245"
      ]
     },
     "execution_count": 81,
     "metadata": {},
     "output_type": "execute_result"
    }
   ],
   "source": [
    "pd.crosstab(y_test.values,preds['gbm'].apply(lambda x: 1 if x>.3 else 0))"
   ]
  },
  {
   "cell_type": "code",
   "execution_count": 103,
   "metadata": {
    "collapsed": false
   },
   "outputs": [],
   "source": [
    "preds = pd.merge(preds, X_test[['pv_count']], how='left',left_on='parcel',right_index=True)\n",
    "preds['pv_count'] = preds['pv_count'].apply(lambda x: 0 if x < 1 else 1)"
   ]
  },
  {
   "cell_type": "code",
   "execution_count": 104,
   "metadata": {
    "collapsed": false
   },
   "outputs": [
    {
     "data": {
      "text/html": [
       "<div>\n",
       "<table border=\"1\" class=\"dataframe\">\n",
       "  <thead>\n",
       "    <tr style=\"text-align: right;\">\n",
       "      <th>pv_count</th>\n",
       "      <th>0</th>\n",
       "      <th>1</th>\n",
       "    </tr>\n",
       "    <tr>\n",
       "      <th>row_0</th>\n",
       "      <th></th>\n",
       "      <th></th>\n",
       "    </tr>\n",
       "  </thead>\n",
       "  <tbody>\n",
       "    <tr>\n",
       "      <th>0</th>\n",
       "      <td>19682</td>\n",
       "      <td>912</td>\n",
       "    </tr>\n",
       "    <tr>\n",
       "      <th>1</th>\n",
       "      <td>1131</td>\n",
       "      <td>902</td>\n",
       "    </tr>\n",
       "  </tbody>\n",
       "</table>\n",
       "</div>"
      ],
      "text/plain": [
       "pv_count      0    1\n",
       "row_0               \n",
       "0         19682  912\n",
       "1          1131  902"
      ]
     },
     "execution_count": 104,
     "metadata": {},
     "output_type": "execute_result"
    }
   ],
   "source": [
    "pd.crosstab(y_test.values,preds.pv_count)"
   ]
  },
  {
   "cell_type": "code",
   "execution_count": 93,
   "metadata": {
    "collapsed": false
   },
   "outputs": [
    {
     "data": {
      "text/plain": [
       "(1141, 1558)"
      ]
     },
     "execution_count": 93,
     "metadata": {},
     "output_type": "execute_result"
    }
   ],
   "source": [
    "sum(preds[(preds.gbm>0.3) & (preds.rf>0.4) & (preds.lr>0.5)].vacant),len(preds[(preds.gbm>0.3) & (preds.rf>0.4) & (preds.lr>0.5)].vacant)"
   ]
  },
  {
   "cell_type": "code",
   "execution_count": 77,
   "metadata": {
    "collapsed": false
   },
   "outputs": [
    {
     "data": {
      "text/html": [
       "<div>\n",
       "<table border=\"1\" class=\"dataframe\">\n",
       "  <thead>\n",
       "    <tr style=\"text-align: right;\">\n",
       "      <th>avg</th>\n",
       "      <th>0</th>\n",
       "      <th>1</th>\n",
       "    </tr>\n",
       "    <tr>\n",
       "      <th>row_0</th>\n",
       "      <th></th>\n",
       "      <th></th>\n",
       "    </tr>\n",
       "  </thead>\n",
       "  <tbody>\n",
       "    <tr>\n",
       "      <th>0</th>\n",
       "      <td>19978</td>\n",
       "      <td>616</td>\n",
       "    </tr>\n",
       "    <tr>\n",
       "      <th>1</th>\n",
       "      <td>779</td>\n",
       "      <td>1254</td>\n",
       "    </tr>\n",
       "  </tbody>\n",
       "</table>\n",
       "</div>"
      ],
      "text/plain": [
       "avg        0     1\n",
       "row_0             \n",
       "0      19978   616\n",
       "1        779  1254"
      ]
     },
     "execution_count": 77,
     "metadata": {},
     "output_type": "execute_result"
    }
   ],
   "source": [
    "pd.crosstab(y_test.values,preds['avg'].apply(lambda x: 1 if x>.45 else 0))"
   ]
  },
  {
   "cell_type": "code",
   "execution_count": null,
   "metadata": {
    "collapsed": true
   },
   "outputs": [],
   "source": []
  }
 ],
 "metadata": {
  "kernelspec": {
   "display_name": "Python 3",
   "language": "python",
   "name": "python3"
  },
  "language_info": {
   "codemirror_mode": {
    "name": "ipython",
    "version": 3
   },
   "file_extension": ".py",
   "mimetype": "text/x-python",
   "name": "python",
   "nbconvert_exporter": "python",
   "pygments_lexer": "ipython3",
   "version": "3.4.4"
  }
 },
 "nbformat": 4,
 "nbformat_minor": 0
}
