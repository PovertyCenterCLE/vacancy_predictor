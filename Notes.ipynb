{
 "cells": [
  {
   "cell_type": "markdown",
   "metadata": {},
   "source": [
    "# Vacancy Prediction Notes"
   ]
  },
  {
   "cell_type": "markdown",
   "metadata": {},
   "source": [
    "## 1.0: Data generation\n",
    "\n",
    "Data sets:\n",
    "* Residential characteristics (res2013.csv)\n",
    "* Tax information (feb14_tci.csv)\n",
    "* County Land Bank information (count_land_bank.csv)\n",
    "* Foreclosure filings (foreclosure_filings2006_dec2014.csv)\n",
    "* Sheriff's auction (shf_aution_mar2000_dec2014.csv)\n",
    "* Transfers (transfers2000_2014.csv)\n",
    "* Armslength sales (armslengthsales2006_2014.csv)\n",
    "* Violations (violate_cle.csv)\n",
    "* Complaints (complaint_cle.csv)\n",
    "* Postal data (pv201302.csv, pv201304.csv, pv201308.csv, pv201312.csv, pv201402.csv)\n",
    "\n",
    "Overall vacancy rate ~ 11%. \n",
    "\n",
    "#### Foreclosure\n",
    "* 5843 entries for Mt. Pleasant neighborhood dating back to 2006. \n",
    "* Minimal differences among variable 'ldispos' for vacancy\n",
    "* Existence of parcel in foreclosure dataset correlates with a ~20% vacancy rate\n",
    "* Using data going back different amount of years may be helpful!\n"
   ]
  },
  {
   "cell_type": "code",
   "execution_count": null,
   "metadata": {
    "collapsed": true
   },
   "outputs": [],
   "source": []
  }
 ],
 "metadata": {
  "kernelspec": {
   "display_name": "Python 2",
   "language": "python",
   "name": "python2"
  },
  "language_info": {
   "codemirror_mode": {
    "name": "ipython",
    "version": 2
   },
   "file_extension": ".py",
   "mimetype": "text/x-python",
   "name": "python",
   "nbconvert_exporter": "python",
   "pygments_lexer": "ipython2",
   "version": "2.7.9"
  }
 },
 "nbformat": 4,
 "nbformat_minor": 0
}
