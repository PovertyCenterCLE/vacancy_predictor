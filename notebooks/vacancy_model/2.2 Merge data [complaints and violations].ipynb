{
 "cells": [
  {
   "cell_type": "code",
   "execution_count": 1,
   "metadata": {
    "collapsed": false
   },
   "outputs": [
    {
     "name": "stdout",
     "output_type": "stream",
     "text": [
      "/Volumes/Dropbox/largetransfer/luc/carter\n",
      "(113132, 6)\n"
     ]
    }
   ],
   "source": [
    "import matplotlib.pyplot as plt\n",
    "import seaborn as sns\n",
    "import pandas as pd\n",
    "import numpy as np\n",
    "import os\n",
    "import datetime as dt\n",
    "%matplotlib inline\n",
    "sns.set_context('notebook')\n",
    "\n",
    "path = '/'.join(os.getcwd().split('/')[:-2])\n",
    "print(path)\n",
    "\n",
    "tci = pd.read_csv(path+'/data/model_data/tci_1_0.csv', parse_dates=['Date'], dtype={'PIN': str})\n",
    "cols = ['parcel','vacant','Date','Survey Category','Survey Grade','SPA_NAME']\n",
    "tci = tci[cols]\n",
    "ppns = set(tci['parcel'])\n",
    "dates = dict(zip(tci.parcel, tci.Date))\n",
    "\n",
    "print(tci.shape)"
   ]
  },
  {
   "cell_type": "markdown",
   "metadata": {},
   "source": [
    "## Violations"
   ]
  },
  {
   "cell_type": "code",
   "execution_count": 2,
   "metadata": {
    "collapsed": false
   },
   "outputs": [],
   "source": [
    "vs = pd.read_csv(path+'/data/clean_data/violations.csv', parse_dates = [1,4])\n",
    "vs = vs.loc[vs.apply(lambda x: x.v_file_date < dates[x.parcel], axis=1)]"
   ]
  },
  {
   "cell_type": "code",
   "execution_count": 3,
   "metadata": {
    "collapsed": false
   },
   "outputs": [],
   "source": [
    "vs_copy = vs.groupby('VIN').last().reset_index()\n",
    "# vs_copy = vs_copy[['parcel','v_file_date']].groupby('parcel').count().reset_index()\n",
    "vs_copy['vs_count'] = vs_copy.apply(lambda x: \\\n",
    "        len(vs_copy[(vs_copy.parcel == x.parcel) & (vs_copy.v_file_date > dates[x.parcel]-pd.DateOffset(years=1))]), axis=1)\n",
    "vs_copy = vs_copy.groupby('parcel').last()\n",
    "vs_copy = vs_copy.rename(columns={'vs_count':'v_total_1yr'})\n",
    "df = pd.merge(tci, vs_copy[['v_total_1yr']], \\\n",
    "           how='left', left_on='parcel', right_index=True)\n"
   ]
  },
  {
   "cell_type": "code",
   "execution_count": 5,
   "metadata": {
    "collapsed": false
   },
   "outputs": [],
   "source": [
    "vs_copy = vs.groupby('VIN').last().reset_index()\n",
    "# vs_copy = vs_copy[['parcel','v_file_date']].groupby('parcel').count().reset_index()\n",
    "vs_copy['vs_count'] = vs_copy.apply(lambda x: \\\n",
    "        len(vs_copy[(vs_copy.parcel == x.parcel) & (vs_copy.v_file_date > dates[x.parcel]-pd.DateOffset(years=1))]), axis=1)\n",
    "vs_copy = vs_copy.groupby('parcel').last()\n",
    "vs_copy = vs_copy.rename(columns={'vs_count':'v_total_1yr'})\n",
    "df = pd.merge(tci, vs_copy[['v_total_1yr']], \\\n",
    "           how='left', left_on='parcel', right_index=True)\n",
    "\n",
    "vs_copy = vs.groupby('VIN').last().reset_index()\n",
    "# vs_copy = vs_copy[['parcel','v_file_date']].groupby('parcel').count().reset_index()\n",
    "vs_copy['vs_count'] = vs_copy.apply(lambda x: \\\n",
    "        len(vs_copy[(vs_copy.parcel == x.parcel) & (vs_copy.v_file_date > dates[x.parcel]-pd.DateOffset(years=2))]), axis=1)\n",
    "vs_copy = vs_copy.groupby('parcel').last()\n",
    "vs_copy = vs_copy.rename(columns={'vs_count':'v_total_2yr'})\n",
    "df = pd.merge(df, vs_copy[['v_total_2yr']], \\\n",
    "           how='left', left_on='parcel', right_index=True)\n",
    "\n",
    "df.loc[df.v_total_1yr.isnull(), 'v_total_1yr'] = 0\n",
    "df.loc[df.v_total_2yr.isnull(), 'v_total_2yr'] = 0"
   ]
  },
  {
   "cell_type": "markdown",
   "metadata": {},
   "source": [
    "## Complaints"
   ]
  },
  {
   "cell_type": "code",
   "execution_count": 6,
   "metadata": {
    "collapsed": false
   },
   "outputs": [],
   "source": [
    "cp = pd.read_csv(path+'/data/clean_data/complaints.csv', parse_dates = [2],index_col=[0], dtype=str)\n",
    "cp = cp.loc[cp.apply(lambda x: x.c_file_date < dates[x.parcel], axis=1)]\n",
    "cp = cp.sort_values('c_file_date')"
   ]
  },
  {
   "cell_type": "code",
   "execution_count": 7,
   "metadata": {
    "collapsed": false
   },
   "outputs": [],
   "source": [
    "cp_copy = cp[(cp.c_file_date > dt.datetime(2006,1,1))]\n",
    "\n",
    "# get parcels that have had a closed-board up request during the time period\n",
    "df.loc[df.parcel.isin(cp_copy.loc[(cp_copy.c_wf_task_status=='Closed-Board Up Requested'),'parcel']),'boarded'] = 1\n",
    "df.loc[df.boarded.isnull(),'boarded'] = 0"
   ]
  },
  {
   "cell_type": "code",
   "execution_count": 8,
   "metadata": {
    "collapsed": false
   },
   "outputs": [],
   "source": [
    "cp_copy = cp_copy.groupby('complaint_id').last().reset_index()\n",
    "\n",
    "df = pd.merge(df, cp_copy.loc[(cp_copy.c_type_of_complaint=='O.V.V.')\\\n",
    "                ,['c_file_date','parcel']]\\\n",
    "               .groupby('parcel')\\\n",
    "               .last(), how='left', left_on='parcel', right_index=True)\n",
    "df = df.rename(columns = {'c_file_date':'days_since_ovv'})\n",
    "df.loc[df.days_since_ovv.isnull(),'days_since_ovv'] = dt.datetime(2006,1,1)\n",
    "df['days_since_ovv'] = df.apply(lambda x: (dates[x.parcel]-x.days_since_ovv).days, axis=1)\n",
    "\n",
    "# c2 = pd.merge(cp_copy.loc[(cp_copy.c_type_of_complaint=='O.V.V.'),\\\n",
    "#                               ['c_file_date','parcel']].groupby('parcel').last(), tci[['parcel','Date']], how='left',\\\n",
    "#         left_index=True, right_on='parcel').set_index('parcel')\n",
    "# c2['days_since_ovv'] = c2.Date.apply(lambda x: (x-dt.datetime(2006,1,1)))\n",
    "\n",
    "\n",
    "c2 = pd.merge(cp_copy.loc[(cp_copy.c_type_of_complaint=='O.V.V.'),\\\n",
    "                              ['c_file_date','parcel']].groupby('parcel').count(), tci[['parcel','Date']], how='left',\\\n",
    "        left_index=True, right_on='parcel').set_index('parcel')\n",
    "c2['days'] = c2.Date.apply(lambda x: (x-dt.datetime(2006,1,1)).days/365.0)\n",
    "c2['c_ovv_num'] = c2['c_file_date']/c2['days']\n",
    "\n",
    "# average number of OVV complaints per year since 2006\n",
    "df = pd.merge(df, c2[['c_ovv_num']]\n",
    "                    ,how='left', left_on='parcel', right_index=True)\n",
    "df.loc[df.c_ovv_num.isnull(),'c_ovv_num'] = 0\n"
   ]
  },
  {
   "cell_type": "code",
   "execution_count": 9,
   "metadata": {
    "collapsed": false,
    "scrolled": true
   },
   "outputs": [
    {
     "name": "stdout",
     "output_type": "stream",
     "text": [
      "<class 'pandas.core.frame.DataFrame'>\n",
      "Int64Index: 113132 entries, 0 to 113131\n",
      "Data columns (total 11 columns):\n",
      "parcel             113132 non-null object\n",
      "vacant             113132 non-null int64\n",
      "Date               113132 non-null datetime64[ns]\n",
      "Survey Category    113132 non-null object\n",
      "Survey Grade       113132 non-null object\n",
      "SPA_NAME           113132 non-null object\n",
      "v_total_1yr        113132 non-null float64\n",
      "v_total_2yr        113132 non-null float64\n",
      "boarded            113132 non-null float64\n",
      "days_since_ovv     113132 non-null int64\n",
      "c_ovv_num          113132 non-null float64\n",
      "dtypes: datetime64[ns](1), float64(4), int64(2), object(4)\n",
      "memory usage: 10.4+ MB\n"
     ]
    }
   ],
   "source": [
    "df.info()"
   ]
  },
  {
   "cell_type": "code",
   "execution_count": 10,
   "metadata": {
    "collapsed": true
   },
   "outputs": [],
   "source": [
    "df.to_csv(path+'/data/model_data/tci_2_2_model.csv', index=False)"
   ]
  },
  {
   "cell_type": "code",
   "execution_count": null,
   "metadata": {
    "collapsed": true
   },
   "outputs": [],
   "source": []
  }
 ],
 "metadata": {
  "kernelspec": {
   "display_name": "Python 2",
   "language": "python",
   "name": "python2"
  },
  "language_info": {
   "codemirror_mode": {
    "name": "ipython",
    "version": 2
   },
   "file_extension": ".py",
   "mimetype": "text/x-python",
   "name": "python",
   "nbconvert_exporter": "python",
   "pygments_lexer": "ipython2",
   "version": "2.7.11"
  }
 },
 "nbformat": 4,
 "nbformat_minor": 0
}
