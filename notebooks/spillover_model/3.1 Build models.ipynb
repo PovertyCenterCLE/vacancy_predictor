{
 "cells": [
  {
   "cell_type": "markdown",
   "metadata": {},
   "source": [
    "# 3.1 Build models"
   ]
  },
  {
   "cell_type": "code",
   "execution_count": 1,
   "metadata": {
    "collapsed": false
   },
   "outputs": [
    {
     "name": "stdout",
     "output_type": "stream",
     "text": [
      "/Volumes/Dropbox/largetransfer/luc/carter\n"
     ]
    }
   ],
   "source": [
    "import pandas as pd\n",
    "from sklearn.ensemble import RandomForestClassifier\n",
    "import matplotlib.pyplot as plt\n",
    "import numpy as np\n",
    "# import seaborn as sns\n",
    "import math\n",
    "from sklearn.preprocessing import Imputer\n",
    "from sklearn.base import TransformerMixin\n",
    "from sklearn import cross_validation\n",
    "from sklearn.grid_search import GridSearchCV\n",
    "from sklearn.linear_model import LogisticRegression\n",
    "from sklearn import preprocessing\n",
    "from sklearn.cross_validation import cross_val_score\n",
    "import os\n",
    "\n",
    "def sound():\n",
    "    os.system('afplay /System/Library/Sounds/Sosumi.aiff')\n",
    "\n",
    "%matplotlib inline\n",
    "# sns.set_context('notebook')\n",
    "\n",
    "path = '/'.join(os.getcwd().split('/')[:-1])\n",
    "print(path)"
   ]
  },
  {
   "cell_type": "code",
   "execution_count": 2,
   "metadata": {
    "collapsed": false
   },
   "outputs": [],
   "source": [
    "df = pd.read_csv(path+'/data/model_data/tci_final.csv',index_col=0)"
   ]
  },
  {
   "cell_type": "code",
   "execution_count": 3,
   "metadata": {
    "collapsed": false
   },
   "outputs": [
    {
     "data": {
      "text/plain": [
       "Index(['vacant', 'cqual_num', 'occup', 'rnumstor', 'propsize', 'totusabl',\n",
       "       'tmktval', 'condition_value13', 'condition_value14', 'ownerocc_value',\n",
       "       'LATITUDE', 'LONGITUDE', 'totbldgs', 'yrbuilt_filtered', 'vacant_block',\n",
       "       'median_rent', 'property_crimes', 'burglaries', 'part_one_crimes',\n",
       "       'part_two_crimes', 'bachelors+', 'poverty_rate', 'median_hh_income',\n",
       "       'white', 'black', 'asian', 'other', 'hispanic', 'young', 'middle',\n",
       "       'old', 'lb_acquired', 'lb_tax_fc', 'TOTAL_NET_DELQ_BALANCE',\n",
       "       'TAX_ASSESSED_LAND', 'TAX_MARKET_LAND', 'GRAND_TOTAL_BALANCE',\n",
       "       'GRAND_TOTAL_PAID', 'delq_total_ratio', 'paid_percent',\n",
       "       'GRAND_TOTAL_BALANCE_14', 'pv_count', 'v_total_1yr', 'v_total_2yr',\n",
       "       'days_since_ovv', 'c_ovv_num', 'days_since_ovv_board_up',\n",
       "       'c_ovv_board_num', 'active_fc', 'fc_1yr', 'fc_2yr', 'fc_days',\n",
       "       'sa_days', 't_days', 't_shf_deed', 't_num', 'al_num', 'al_days',\n",
       "       'price_per_sqft'],\n",
       "      dtype='object')"
      ]
     },
     "execution_count": 3,
     "metadata": {},
     "output_type": "execute_result"
    }
   ],
   "source": [
    "df.columns"
   ]
  },
  {
   "cell_type": "code",
   "execution_count": 3,
   "metadata": {
    "collapsed": false
   },
   "outputs": [
    {
     "data": {
      "text/plain": [
       "(113132, 59)"
      ]
     },
     "execution_count": 3,
     "metadata": {},
     "output_type": "execute_result"
    }
   ],
   "source": [
    "df.shape"
   ]
  },
  {
   "cell_type": "code",
   "execution_count": 4,
   "metadata": {
    "collapsed": false
   },
   "outputs": [],
   "source": [
    "features = list(df.columns)\n",
    "features.remove('vacant')\n",
    "\n",
    "from sklearn.cross_validation import train_test_split\n",
    "X_train, X_test, y_train, y_test = train_test_split(df[features], df['vacant'], test_size=0.2, random_state=42)"
   ]
  },
  {
   "cell_type": "markdown",
   "metadata": {},
   "source": [
    "## Build the classifiers"
   ]
  },
  {
   "cell_type": "markdown",
   "metadata": {},
   "source": [
    "### Random Forest Classifier"
   ]
  },
  {
   "cell_type": "code",
   "execution_count": 5,
   "metadata": {
    "collapsed": false,
    "scrolled": true
   },
   "outputs": [],
   "source": [
    "rfc = RandomForestClassifier(n_estimators=50, min_samples_leaf=8, min_samples_split=3, \\\n",
    "                                 class_weight={0:1, 1:8}, \\\n",
    "                                 max_features=20, random_state=0, max_depth=40)\n",
    "rfc = rfc.fit(X_train, y_train)\n",
    "sound()"
   ]
  },
  {
   "cell_type": "code",
   "execution_count": 6,
   "metadata": {
    "collapsed": false
   },
   "outputs": [
    {
     "data": {
      "text/html": [
       "<div>\n",
       "<table border=\"1\" class=\"dataframe\">\n",
       "  <thead>\n",
       "    <tr style=\"text-align: right;\">\n",
       "      <th>predicted by RF</th>\n",
       "      <th>0</th>\n",
       "      <th>1</th>\n",
       "    </tr>\n",
       "    <tr>\n",
       "      <th>vacant</th>\n",
       "      <th></th>\n",
       "      <th></th>\n",
       "    </tr>\n",
       "  </thead>\n",
       "  <tbody>\n",
       "    <tr>\n",
       "      <th>0</th>\n",
       "      <td>19813</td>\n",
       "      <td>781</td>\n",
       "    </tr>\n",
       "    <tr>\n",
       "      <th>1</th>\n",
       "      <td>767</td>\n",
       "      <td>1266</td>\n",
       "    </tr>\n",
       "  </tbody>\n",
       "</table>\n",
       "</div>"
      ],
      "text/plain": [
       "predicted by RF      0     1\n",
       "vacant                      \n",
       "0                19813   781\n",
       "1                  767  1266"
      ]
     },
     "execution_count": 6,
     "metadata": {},
     "output_type": "execute_result"
    }
   ],
   "source": [
    "# pd.crosstab(y_test, rfc.predict(X_test),rownames=['From survey'],colnames=['From model'],margins=True)\n",
    "pd.crosstab(y_test,rfc.predict(X_test),colnames=['predicted by RF'])"
   ]
  },
  {
   "cell_type": "code",
   "execution_count": 7,
   "metadata": {
    "collapsed": false
   },
   "outputs": [
    {
     "name": "stdout",
     "output_type": "stream",
     "text": [
      "{'res': 0.77402133039418} {'res': 0.6205882352941177} 0.618466047874939 0.6227250368912937\n"
     ]
    }
   ],
   "source": [
    "dat = pd.DataFrame([rfc.predict_proba(X_test)[:,1], y_test, rfc.predict(X_test)]).T\n",
    "dat = dat.rename(columns={0:'prob',1:'act',2:'pred'})\n",
    "\n",
    "# sns.distplot(dat[(dat.act==1)&(dat.pred==1)].prob);\n",
    "# sns.distplot(dat[(dat.act==0)&(dat.pred==1)].prob);\n",
    "# sns.distplot(dat[(dat.act==1)&(dat.pred==0)].prob);\n",
    "# sns.distplot(dat[(dat.act==0)&(dat.pred==0)].prob);\n",
    "# plt.legend(['True vacant','False vacant','False Occupied','True Occupied'])\n",
    "\n",
    "acc_neg = len(dat[(dat.act==0) & (dat.pred==0)])/len(dat[dat.act==0])\n",
    "acc_pos = len(dat[(dat.act==1) & (dat.pred==1)])/len(dat[dat.act==1])\n",
    "G = {}\n",
    "F = {}\n",
    "G['res'] = (acc_neg*acc_pos)**0.5\n",
    "prec = len(dat[(dat.act==1) & (dat.pred==1)])/len(dat[dat.pred==1])\n",
    "F['res'] = 2*prec*acc_pos/(prec+acc_pos)\n",
    "print(G, F, prec, acc_pos)"
   ]
  },
  {
   "cell_type": "code",
   "execution_count": 8,
   "metadata": {
    "collapsed": false
   },
   "outputs": [],
   "source": [
    "# results = pd.DataFrame()\n",
    "# for j in range(2,6):\n",
    "#     rfc = RandomForestClassifier(n_estimators=50, min_samples_leaf=2*i, min_samples_split=3, \\\n",
    "#                                      class_weight={0:1, 1:8}, \\\n",
    "#                                      max_features=20, random_state=0, max_depth=40)\n",
    "#     rfc = rfc.fit(X_train, y_train)\n",
    "#     res = {}\n",
    "#     for i in range(0,21):\n",
    "#         # copy = y_test.copy()\n",
    "#         p = i/20\n",
    "#         copy = pd.Series(rfc.predict_proba(X_test)[:,1],index=y_test.index)\n",
    "#         res[p] = {('correct_'+str(2*j)): sum(y_test[copy.sort_values(ascending=False)[:int(len(X_test)*p)].index]), \\\n",
    "#                   ('searched_'+str(2*j)): len(y_test[copy.sort_values(ascending=False)[:int(len(X_test)*p)].index]), \\\n",
    "#                   ('percent_'+str(2*j)): sum(y_test[copy.sort_values(ascending=False)[:int(len(X_test)*p)].index])/sum(y_test) }\n",
    "#     #     sum(y_test[copy.sort_values(ascending=False)[:int(len(X_test)*p)].index]), len(y_test[copy.sort_values(ascending=False)[:int(len(X_test)*p)].index]), sum(y_test)\n",
    "#     res = pd.DataFrame(res).T\n",
    "#     results = pd.concat([results,res], axis=1)#, axis=1,keys=['a','b'])\n",
    "# #     plt.plot(res.index, res.percent)\n",
    "# sound()"
   ]
  },
  {
   "cell_type": "code",
   "execution_count": 9,
   "metadata": {
    "collapsed": false
   },
   "outputs": [],
   "source": [
    "res = {}\n",
    "for i in range(0,21):\n",
    "    # copy = y_test.copy()\n",
    "    p = i/20\n",
    "    copy = pd.Series(rfc.predict_proba(X_test)[:,1],index=y_test.index)\n",
    "    res[p] = {'correct': sum(y_test[copy.sort_values(ascending=False)[:int(len(X_test)*p)].index]), \\\n",
    "              'searched': len(y_test[copy.sort_values(ascending=False)[:int(len(X_test)*p)].index]), \\\n",
    "              'percent': sum(y_test[copy.sort_values(ascending=False)[:int(len(X_test)*p)].index])/sum(y_test) }\n",
    "#     sum(y_test[copy.sort_values(ascending=False)[:int(len(X_test)*p)].index]), len(y_test[copy.sort_values(ascending=False)[:int(len(X_test)*p)].index]), sum(y_test)\n",
    "res = pd.DataFrame(res).T\n",
    "\n",
    "# plt.plot(res.index, res.percent)"
   ]
  },
  {
   "cell_type": "code",
   "execution_count": 10,
   "metadata": {
    "collapsed": false
   },
   "outputs": [],
   "source": [
    "# from sklearn.grid_search import GridSearchCV,RandomizedSearchCV\n",
    "# from time import time\n",
    "# from operator import itemgetter\n",
    "# from scipy.stats import randint as sp_randint\n",
    "\n",
    "# param_dist = {\"max_depth\": sp_randint(10, 50),\n",
    "#               \"max_features\": sp_randint(5, 15),\n",
    "#               \"min_samples_split\": sp_randint(1, 11),\n",
    "#               \"min_samples_leaf\": sp_randint(1, 11),\n",
    "#               \"bootstrap\": [True, False],\n",
    "#               \"criterion\": [\"gini\", \"entropy\"]}\n",
    "\n",
    "# n_iter_search = 20\n",
    "# random_search = RandomizedSearchCV(rfc, param_distributions=param_dist,\n",
    "#                                    n_iter=n_iter_search)\n",
    "\n",
    "# start = time()\n",
    "# random_search.fit(train[features], y)\n",
    "# print(\"RandomizedSearchCV took %.2f seconds for %d candidates\"\n",
    "#       \" parameter settings.\" % ((time() - start), n_iter_search))\n"
   ]
  },
  {
   "cell_type": "code",
   "execution_count": 11,
   "metadata": {
    "collapsed": false
   },
   "outputs": [],
   "source": [
    "# # Utility function to report best scores\n",
    "# def report(grid_scores, n_top=3):\n",
    "#     top_scores = sorted(grid_scores, key=itemgetter(1), reverse=True)[:n_top]\n",
    "#     for i, score in enumerate(top_scores):\n",
    "#         print(\"Model with rank: {0}\".format(i + 1))\n",
    "#         print(\"Mean validation score: {0:.3f} (std: {1:.3f})\".format(\n",
    "#               score.mean_validation_score,\n",
    "#               np.std(score.cv_validation_scores)))\n",
    "#         print(\"Parameters: {0}\".format(score.parameters))\n",
    "#         print(\"\")\n",
    "# report(random_search.grid_scores_)"
   ]
  },
  {
   "cell_type": "code",
   "execution_count": 12,
   "metadata": {
    "collapsed": false
   },
   "outputs": [],
   "source": [
    "# tem = pd.DataFrame(rfc.predict_proba(test[features]))\n",
    "# tem['vacant'] = test['vacant'].values\n",
    "# tem = tem.sort_values(1, ascending=False)\n",
    "# test.loc[:,'pred'] = rfc.predict(test[features])"
   ]
  },
  {
   "cell_type": "code",
   "execution_count": 13,
   "metadata": {
    "collapsed": false
   },
   "outputs": [],
   "source": [
    "# def fun(x):\n",
    "#     if (x.pred == 1) & (x.vacant == 1):\n",
    "#         return 'TP'\n",
    "#     elif (x.pred == 1):\n",
    "#         return 'FP'\n",
    "#     elif (x.vacant == 1):\n",
    "#         return 'FN'\n",
    "#     else:\n",
    "#         return 'TN'\n",
    "# test.loc[:,'cat'] = test.apply(fun, axis=1)"
   ]
  },
  {
   "cell_type": "code",
   "execution_count": 14,
   "metadata": {
    "collapsed": false
   },
   "outputs": [],
   "source": [
    "# y2,_= pd.factorize(train.loc[train.index.isin(df[df.SPA_NAME.isin(west)].index)].vacant)\n",
    "\n",
    "# rfc = RandomForestClassifier(n_estimators=50, min_samples_leaf=10, min_samples_split=2, \\\n",
    "#                                  class_weight={0:1, 1:1}, \\\n",
    "#                                  max_features=10, random_state=0, max_depth=20)\n",
    "# rfc = rfc.fit(train.loc[train.index.isin(df[df.SPA_NAME.isin(west)].index),features], y2)\n",
    "# sound()\n",
    "# print(pd.crosstab(test[test.index.isin(df[df.SPA_NAME.isin(west)].index)].vacant, \\\n",
    "#                   rfc.predict(test.loc[test.index.isin(df[df.SPA_NAME.isin(west)].index),features])))"
   ]
  },
  {
   "cell_type": "code",
   "execution_count": 15,
   "metadata": {
    "collapsed": true
   },
   "outputs": [],
   "source": [
    "# west = ['Bellaire-Puritas','Brooklyn Centre','Clark-Fulton','Cudell','Detroit Shoreway','Edgewater'\\\n",
    "#        ,'Jefferson',\"Kamm's\",'Ohio City','Old Brooklyn','Stockyards','Tremont','West Boulevard']\n",
    "# cols = ['GRAND_TOTAL_BALANCE','TAX_MARKET_LAND','sa_days','fc_days','c_ovv_2yr','pv_total',\\\n",
    "#         'tmktval','propsize','condition_value14','median_rent']"
   ]
  },
  {
   "cell_type": "markdown",
   "metadata": {},
   "source": [
    "## Importances"
   ]
  },
  {
   "cell_type": "code",
   "execution_count": 16,
   "metadata": {
    "collapsed": false
   },
   "outputs": [
    {
     "name": "stdout",
     "output_type": "stream",
     "text": [
      "Feature ranking:\n",
      "1. feature 43, days_since_ovv (0.184009)\n",
      "2. feature 44, c_ovv_num (0.092568)\n",
      "3. feature 40, pv_count (0.087375)\n",
      "4. feature 36, GRAND_TOTAL_PAID (0.078943)\n",
      "5. feature 38, paid_percent (0.061390)\n",
      "6. feature 50, fc_days (0.046402)\n",
      "7. feature 51, sa_days (0.032933)\n",
      "8. feature 37, delq_total_ratio (0.027937)\n",
      "9. feature 32, TOTAL_NET_DELQ_BALANCE (0.025386)\n",
      "10. feature 5, tmktval (0.018829)\n"
     ]
    },
    {
     "data": {
      "image/png": "[encoded data removed]",
      "text/plain": [
       "<matplotlib.figure.Figure at 0x10331d518>"
      ]
     },
     "metadata": {},
     "output_type": "display_data"
    }
   ],
   "source": [
    "# plot the top ten features\n",
    "\n",
    "importances = rfc.feature_importances_\n",
    "std = np.std([tree.feature_importances_ for tree in rfc.estimators_],\n",
    "             axis=0)\n",
    "indices = np.argsort(importances)[::-1]\n",
    "\n",
    "# Print the feature ranking\n",
    "print(\"Feature ranking:\")\n",
    "\n",
    "for f in range(10):\n",
    "    print(\"%d. feature %d, %s (%f)\" % (f + 1, indices[f], features[indices[f]], importances[indices[f]]))\n",
    "    \n",
    "# Plot the feature importances of the forest\n",
    "plt.figure()\n",
    "plt.title(\"Feature importances\")\n",
    "plt.bar(range(10), importances[indices[0:10]], yerr=std[indices[0:10]], align=\"center\")\n",
    "plt.xticks(range(10), indices[0:10])\n",
    "plt.xlim([-1, 10])\n",
    "plt.show()"
   ]
  },
  {
   "cell_type": "code",
   "execution_count": 17,
   "metadata": {
    "collapsed": false
   },
   "outputs": [
    {
     "name": "stdout",
     "output_type": "stream",
     "text": [
      "Feature ranking (least important):\n",
      "1. feature 46, c_ovv_board_num (0.000000)\n",
      "2. feature 30, lb_acquired (0.000012)\n",
      "3. feature 31, lb_tax_fc (0.000022)\n",
      "4. feature 47, active_fc (0.000170)\n",
      "5. feature 48, fc_1yr (0.000993)\n",
      "6. feature 11, totbldgs (0.001008)\n",
      "7. feature 1, occup (0.001721)\n",
      "8. feature 0, cqual_num (0.002851)\n",
      "9. feature 2, rnumstor (0.002881)\n",
      "10. feature 24, asian (0.003369)\n"
     ]
    },
    {
     "data": {
      "image/png": "[encoded data removed]",
      "text/plain": [
       "<matplotlib.figure.Figure at 0x111ab6208>"
      ]
     },
     "metadata": {},
     "output_type": "display_data"
    }
   ],
   "source": [
    "# Print the feature ranking\n",
    "features2 = pd.DataFrame(features).iloc[indices[0:10]][0].values\n",
    "\n",
    "print(\"Feature ranking (least important):\")\n",
    "\n",
    "for f in range(10):\n",
    "    print(\"%d. feature %d, %s (%f)\" % (f + 1, indices[-f-1], features[indices[-f-1]], importances[indices[-f-1]]))\n",
    "# Plot the feature importances of the forest\n",
    "plt.figure()\n",
    "plt.title(\"Feature importances\")\n",
    "plt.bar(range(10), importances[indices[-10:]], yerr=std[indices[-10:]], align=\"center\")\n",
    "plt.xticks(range(10), indices[-10:])\n",
    "plt.xlim([-1, 10])\n",
    "plt.show()"
   ]
  },
  {
   "cell_type": "markdown",
   "metadata": {},
   "source": [
    "### Logistic Regressor"
   ]
  },
  {
   "cell_type": "code",
   "execution_count": 18,
   "metadata": {
    "collapsed": true
   },
   "outputs": [],
   "source": [
    "# features2 = ['c_O.V.V._2yr', 'pv_total','GRAND_TOTAL_BALANCE','condition_value','vacant',\\\n",
    "#              'totusabl', 'tmktval', 'fc_days', 'days_since_transfer', 'propsize', 'yrbuilt_filtered', 'al_days']\n",
    "\n",
    "# # features2 = ['c_O.V.V._2yr', 'pv_total','GRAND_TOTAL_BALANCE','condition_value','vacant']"
   ]
  },
  {
   "cell_type": "code",
   "execution_count": 19,
   "metadata": {
    "collapsed": false
   },
   "outputs": [],
   "source": [
    "# train_lr = preprocessing.scale(X_train)\n",
    "# test_lr = preprocessing.scale(X_test)\n",
    "\n",
    "# lr = LogisticRegression(class_weight={0:1, 1:2}, random_state=1001)\n",
    "# lr.fit(pd.DataFrame(train_lr, columns = features), y_train)\n",
    "# pd.crosstab(y_test,lr.predict(test_lr))"
   ]
  },
  {
   "cell_type": "code",
   "execution_count": 20,
   "metadata": {
    "collapsed": false
   },
   "outputs": [
    {
     "data": {
      "text/html": [
       "<div>\n",
       "<table border=\"1\" class=\"dataframe\">\n",
       "  <thead>\n",
       "    <tr style=\"text-align: right;\">\n",
       "      <th>predicted by LR</th>\n",
       "      <th>0</th>\n",
       "      <th>1</th>\n",
       "    </tr>\n",
       "    <tr>\n",
       "      <th>vacant</th>\n",
       "      <th></th>\n",
       "      <th></th>\n",
       "    </tr>\n",
       "  </thead>\n",
       "  <tbody>\n",
       "    <tr>\n",
       "      <th>0</th>\n",
       "      <td>19808</td>\n",
       "      <td>786</td>\n",
       "    </tr>\n",
       "    <tr>\n",
       "      <th>1</th>\n",
       "      <td>793</td>\n",
       "      <td>1240</td>\n",
       "    </tr>\n",
       "  </tbody>\n",
       "</table>\n",
       "</div>"
      ],
      "text/plain": [
       "predicted by LR      0     1\n",
       "vacant                      \n",
       "0                19808   786\n",
       "1                  793  1240"
      ]
     },
     "execution_count": 20,
     "metadata": {},
     "output_type": "execute_result"
    }
   ],
   "source": [
    "lr = LogisticRegression(class_weight={0:1, 1:3}, random_state=1001)\n",
    "lr.fit(pd.DataFrame(X_train, columns = features), y_train)\n",
    "# pd.crosstab(y_test,lr.predict(X_test))\n",
    "\n",
    "pd.crosstab(y_test,lr.predict(X_test),colnames=['predicted by LR'])"
   ]
  },
  {
   "cell_type": "code",
   "execution_count": 21,
   "metadata": {
    "collapsed": false
   },
   "outputs": [
    {
     "name": "stdout",
     "output_type": "stream",
     "text": [
      "{'res': 0.77402133039418, 'log_res': 0.7659353480088515} {'res': 0.6205882352941177, 'log_res': 0.6109879280610989} 0.6120434353405726 0.6099360550909986\n"
     ]
    }
   ],
   "source": [
    "dat = pd.DataFrame([lr.predict_proba(X_test)[:,1], y_test, lr.predict(X_test)]).T\n",
    "dat = dat.rename(columns={0:'prob',1:'act',2:'pred'})\n",
    "\n",
    "# sns.distplot(dat[(dat.act==1)&(dat.pred==1)].prob);\n",
    "# sns.distplot(dat[(dat.act==0)&(dat.pred==1)].prob);\n",
    "# sns.distplot(dat[(dat.act==1)&(dat.pred==0)].prob);\n",
    "# sns.distplot(dat[(dat.act==0)&(dat.pred==0)].prob);\n",
    "# plt.legend(['True vacant','False vacant','False Occupied','True Occupied'])\n",
    "\n",
    "acc_neg = len(dat[(dat.act==0) & (dat.pred==0)])/len(dat[dat.act==0])\n",
    "acc_pos = len(dat[(dat.act==1) & (dat.pred==1)])/len(dat[dat.act==1])\n",
    "G['log_res'] = (acc_neg*acc_pos)**0.5\n",
    "prec = len(dat[(dat.act==1) & (dat.pred==1)])/len(dat[dat.pred==1])\n",
    "F['log_res'] = 2*prec*acc_pos/(prec+acc_pos)\n",
    "print(G, F, prec, acc_pos)"
   ]
  },
  {
   "cell_type": "code",
   "execution_count": 22,
   "metadata": {
    "collapsed": false
   },
   "outputs": [
    {
     "data": {
      "text/plain": [
       "[<matplotlib.lines.Line2D at 0x111149d68>]"
      ]
     },
     "execution_count": 22,
     "metadata": {},
     "output_type": "execute_result"
    },
    {
     "data": {
      "image/png": "[encoded data removed]",
      "text/plain": [
       "<matplotlib.figure.Figure at 0x11409b208>"
      ]
     },
     "metadata": {},
     "output_type": "display_data"
    }
   ],
   "source": [
    "log_res = {}\n",
    "for i in range(0,21):\n",
    "    # copy = y_test.copy()\n",
    "    p = i/20\n",
    "    copy = pd.Series(lr.predict_proba(X_test)[:,1],index=y_test.index)\n",
    "    log_res[p] = {'correct': sum(y_test[copy.sort_values(ascending=False)[:int(len(X_test)*p)].index]), \\\n",
    "              'searched': len(y_test[copy.sort_values(ascending=False)[:int(len(X_test)*p)].index]), \\\n",
    "              'percent': sum(y_test[copy.sort_values(ascending=False)[:int(len(X_test)*p)].index])/sum(y_test) }\n",
    "#     sum(y_test[copy.sort_values(ascending=False)[:int(len(X_test)*p)].index]), len(y_test[copy.sort_values(ascending=False)[:int(len(X_test)*p)].index]), sum(y_test)\n",
    "log_res = pd.DataFrame(log_res).T\n",
    "\n",
    "plt.plot(res.index, res.percent)\n",
    "plt.plot(log_res.index, log_res.percent)"
   ]
  },
  {
   "cell_type": "code",
   "execution_count": 23,
   "metadata": {
    "collapsed": false
   },
   "outputs": [
    {
     "name": "stdout",
     "output_type": "stream",
     "text": [
      "Feature ranking:\n",
      "1. feature 40, pv_count (0.209782)\n",
      "2. feature 7, condition_value14 (-0.086160)\n",
      "3. feature 6, condition_value13 (-0.073361)\n",
      "4. feature 41, v_total_1yr (0.066180)\n",
      "5. feature 42, v_total_2yr (0.063939)\n",
      "6. feature 0, cqual_num (-0.030162)\n",
      "7. feature 8, ownerocc_value (-0.023959)\n",
      "8. feature 37, delq_total_ratio (0.016904)\n",
      "9. feature 38, paid_percent (-0.012926)\n",
      "10. feature 26, hispanic (-0.011622)\n",
      "11. feature 10, LONGITUDE (0.011205)\n",
      "12. feature 1, occup (0.010583)\n",
      "13. feature 24, asian (-0.009646)\n",
      "14. feature 2, rnumstor (-0.008049)\n",
      "15. feature 49, fc_2yr (0.006728)\n",
      "\n",
      "Feature ranking (least important):\n",
      "1. feature 46, c_ovv_board_num (0.000000)\n",
      "2. feature 53, t_shf_deed (-0.000002)\n",
      "3. feature 15, property_crimes (-0.000002)\n",
      "4. feature 18, part_two_crimes (0.000003)\n",
      "5. feature 21, median_hh_income (0.000004)\n",
      "6. feature 5, tmktval (-0.000012)\n",
      "7. feature 17, part_one_crimes (0.000015)\n",
      "8. feature 39, GRAND_TOTAL_BALANCE_14 (0.000020)\n",
      "9. feature 3, propsize (-0.000025)\n",
      "10. feature 36, GRAND_TOTAL_PAID (-0.000042)\n"
     ]
    }
   ],
   "source": [
    "importances = lr.coef_[0]\n",
    "# std = np.std([tree.feature_importances_ for tree in lr.estimators_],\n",
    "#              axis=0)\n",
    "indices = np.argsort(abs(importances))[::-1]\n",
    "\n",
    "# Print the feature ranking\n",
    "print(\"Feature ranking:\")\n",
    "\n",
    "for f in range(15):\n",
    "    print(\"%d. feature %d, %s (%f)\" % (f + 1, indices[f], features[indices[f]], importances[indices[f]]))\n",
    "print(\"\\nFeature ranking (least important):\")\n",
    "for f in range(10):\n",
    "    print(\"%d. feature %d, %s (%f)\" % (f + 1, indices[-f-1], features[indices[-f-1]], importances[indices[-f-1]]))"
   ]
  },
  {
   "cell_type": "markdown",
   "metadata": {},
   "source": [
    "### Gradient boosted classifier"
   ]
  },
  {
   "cell_type": "code",
   "execution_count": 24,
   "metadata": {
    "collapsed": false
   },
   "outputs": [],
   "source": [
    "from sklearn.ensemble import AdaBoostClassifier\n",
    "from sklearn.ensemble import GradientBoostingClassifier\n",
    "\n",
    "# est = GradientBoostingClassifier(n_estimators=300, learning_rate=0.7,\n",
    "#     max_depth=1, random_state=0).fit(X_train, y_train)\n",
    "# clf.score(train[features], y)                 "
   ]
  },
  {
   "cell_type": "code",
   "execution_count": 25,
   "metadata": {
    "collapsed": false
   },
   "outputs": [],
   "source": [
    "# from sklearn.ensemble import GradientBoostingClassifier\n",
    "\n",
    "# est = GradientBoostingClassifier(n_estimators=500, learning_rate=0.7,\n",
    "#     max_depth=1, random_state=0).fit(X_train, y_train)\n",
    "# # clf.score(train[features], y)                 \n",
    "# pd.crosstab(y_test, est.predict(X_test))"
   ]
  },
  {
   "cell_type": "code",
   "execution_count": 26,
   "metadata": {
    "collapsed": false
   },
   "outputs": [],
   "source": [
    "# dat = pd.DataFrame([est.predict_proba(X_test)[:,1], y_test, est.predict(X_test)]).T\n",
    "# dat = dat.rename(columns={0:'prob',1:'act',2:'pred'})\n",
    "\n",
    "# sns.distplot(dat[(dat.act==1)&(dat.pred==1)].prob);\n",
    "# sns.distplot(dat[(dat.act==0)&(dat.pred==1)].prob);\n",
    "# sns.distplot(dat[(dat.act==1)&(dat.pred==0)].prob);\n",
    "# sns.distplot(dat[(dat.act==0)&(dat.pred==0)].prob);\n",
    "# plt.legend(['True vacant','False vacant','False Occupied','True Occupied'])"
   ]
  },
  {
   "cell_type": "code",
   "execution_count": 27,
   "metadata": {
    "collapsed": false
   },
   "outputs": [],
   "source": [
    "# gbm_res = {}\n",
    "# for i in range(0,21):\n",
    "#     # copy = y_test.copy()\n",
    "#     p = i/20\n",
    "#     copy = pd.Series(est.predict_proba(X_test)[:,1],index=y_test.index)\n",
    "#     gbm_res[p] = {'correct': sum(y_test[copy.sort_values(ascending=False)[:int(len(X_test)*p)].index]), \\\n",
    "#               'searched': len(y_test[copy.sort_values(ascending=False)[:int(len(X_test)*p)].index]), \\\n",
    "#               'percent': sum(y_test[copy.sort_values(ascending=False)[:int(len(X_test)*p)].index])/sum(y_test) }\n",
    "# #     sum(y_test[copy.sort_values(ascending=False)[:int(len(X_test)*p)].index]), len(y_test[copy.sort_values(ascending=False)[:int(len(X_test)*p)].index]), sum(y_test)\n",
    "# gbm_res = pd.DataFrame(gbm_res).T\n",
    "\n",
    "# plt.plot(res.index, res.percent)\n",
    "# plt.plot(log_res.index, log_res.percent)\n",
    "# plt.plot(gbm_res.index, gbm_res.percent)\n",
    "# plt.legend(['Random forest','Logistic regression','Gradient boosted trees'],loc='lower right');"
   ]
  },
  {
   "cell_type": "code",
   "execution_count": 28,
   "metadata": {
    "collapsed": false
   },
   "outputs": [],
   "source": [
    "# n_estimators = len(est.estimators_)\n",
    "\n",
    "# def deviance_plot(est, X_test, y_test, ax=None, label='', train_color='#2c7bb6',\n",
    "#                   test_color='#d7191c', alpha=1.0):\n",
    "#     \"\"\"Deviance plot for ``est``, use ``X_test`` and ``y_test`` for test error. \"\"\"\n",
    "#     test_dev = np.empty(n_estimators)\n",
    "\n",
    "#     for i, pred in enumerate(est.staged_predict(X_test)):\n",
    "#        test_dev[i] = est.loss_(y_test, pred)\n",
    "\n",
    "#     if ax is None:\n",
    "#         fig = plt.figure(figsize=(7, 5))\n",
    "#         ax = plt.gca()\n",
    "\n",
    "#     ax.plot(np.arange(n_estimators) + 1, test_dev, color=test_color, label='Test %s' % label,\n",
    "#              linewidth=2, alpha=alpha)\n",
    "#     ax.plot(np.arange(n_estimators) + 1, est.train_score_, color=train_color,\n",
    "#              label='Train %s' % label, linewidth=2, alpha=alpha)\n",
    "#     ax.set_ylabel('Error')\n",
    "#     ax.set_xlabel('n_estimators')\n",
    "# #     ax.set_ylim((0, 2))\n",
    "#     return test_dev, ax\n",
    "\n",
    "# test_dev, ax = deviance_plot(est, X_test, y_test)\n",
    "# ax.legend(loc=[0.8,0.8])\n",
    "\n",
    "# # add some annotations\n",
    "# # ax.annotate('Lowest test error', xy=(test_dev.argmin() + 1, test_dev.min() + 0.02), xycoords='data',\\\n",
    "# #             xytext=(50, 1.0), textcoords='data',\\\n",
    "# #             arrowprops=dict(arrowstyle=\"->\", connectionstyle=\"arc\"),\\\n",
    "# #             )\n",
    "\n",
    "# ann = ax.annotate('', xy=(150, test_dev[149]),  xycoords='data',\\\n",
    "#                   xytext=(150, est.train_score_[149]), textcoords='data',\\\n",
    "#                   arrowprops=dict(arrowstyle=\"<->\"))\n",
    "# ax.text(160, 0.85, 'train-test gap')"
   ]
  },
  {
   "cell_type": "code",
   "execution_count": 29,
   "metadata": {
    "collapsed": false
   },
   "outputs": [],
   "source": [
    "# fig = plt.figure(figsize=(8, 5))\n",
    "# ax = plt.gca()\n",
    "# for params, (test_color, train_color) in [({}, ('#d7191c', '#2c7bb6')),\n",
    "#                                           ({'learning_rate': 0.1},\n",
    "#                                            ('#fdae61', '#abd9e9'))]:\n",
    "#     est = GradientBoostingClassifier(n_estimators=n_estimators, max_depth=1, learning_rate=1.0)\n",
    "#     est.set_params(**params)\n",
    "#     est.fit(X_train, y_train)\n",
    "\n",
    "#     test_dev, ax = deviance_plot(est, X_test, y_test, ax=ax, label=fmt_params(params),\n",
    "#                                  train_color=train_color, test_color=test_color)\n",
    "\n",
    "# ax.annotate('Requires more trees', xy=(200, est.train_score_[199]), xycoords='data',\n",
    "#             xytext=(300, 1.0), textcoords='data',\n",
    "#             arrowprops=dict(arrowstyle=\"->\", connectionstyle=\"arc\"),\n",
    "#             )\n",
    "# ax.annotate('Lower test error', xy=(900, test_dev[899]), xycoords='data',\n",
    "#             xytext=(600, 0.5), textcoords='data',\n",
    "#             arrowprops=dict(arrowstyle=\"->\", connectionstyle=\"arc\"),\n",
    "#             )\n",
    "# plt.legend(loc='upper right')"
   ]
  },
  {
   "cell_type": "code",
   "execution_count": 30,
   "metadata": {
    "collapsed": false
   },
   "outputs": [],
   "source": [
    "# abc = AdaBoostClassifier(random_state=0)\n",
    "# abc.fit(X_train, y_train)\n",
    "# pd.crosstab(y_test, abc.predict(X_test), rownames=['actual'], colnames=['preds'])"
   ]
  },
  {
   "cell_type": "code",
   "execution_count": 31,
   "metadata": {
    "collapsed": true
   },
   "outputs": [],
   "source": [
    "# abc_res = {}\n",
    "# for i in range(0,21):\n",
    "#     # copy = y_test.copy()\n",
    "#     p = i/20\n",
    "#     copy = pd.Series(abc.predict_proba(X_test)[:,1],index=y_test.index)\n",
    "#     abc_res[p] = {'correct': sum(y_test[copy.sort_values(ascending=False)[:int(len(X_test)*p)].index]), \\\n",
    "#               'searched': len(y_test[copy.sort_values(ascending=False)[:int(len(X_test)*p)].index]), \\\n",
    "#               'percent': sum(y_test[copy.sort_values(ascending=False)[:int(len(X_test)*p)].index])/sum(y_test) }\n",
    "# #     sum(y_test[copy.sort_values(ascending=False)[:int(len(X_test)*p)].index]), len(y_test[copy.sort_values(ascending=False)[:int(len(X_test)*p)].index]), sum(y_test)\n",
    "# abc_res = pd.DataFrame(abc_res).T"
   ]
  },
  {
   "cell_type": "code",
   "execution_count": 32,
   "metadata": {
    "collapsed": false
   },
   "outputs": [],
   "source": [
    "# sns.set_context('notebook')\n",
    "# plt.plot(res.index, res.percent)\n",
    "# plt.plot(log_res.index, log_res.percent)\n",
    "# plt.plot(xgb_res.index, xgb_res.percent)\n",
    "# plt.plot(abc_res.index, abc_res.percent)\n",
    "# plt.plot([0,sum(y_test)/len(y_test)],[0,1],'k--',linewidth=1)\n",
    "# plt.xlabel('Fraction of homes inspected')\n",
    "# plt.ylabel('Fraction of vacant identified')\n",
    "# # plt.set_xticklabels(fontsize='small')\n",
    "# # plt.axis([-0.05,1.05,-0.05,1.05])\n",
    "# plt.legend(['Random forest','Logistic regression','Gradient boosted trees','Perfect classifier'],loc='lower right');\n",
    "# plt.savefig(path+'/outputs/model_inspection_comparison.ps')"
   ]
  },
  {
   "cell_type": "markdown",
   "metadata": {},
   "source": [
    "### Single decision tree"
   ]
  },
  {
   "cell_type": "code",
   "execution_count": 33,
   "metadata": {
    "collapsed": false
   },
   "outputs": [],
   "source": [
    "# from sklearn import tree"
   ]
  },
  {
   "cell_type": "code",
   "execution_count": 34,
   "metadata": {
    "collapsed": false
   },
   "outputs": [],
   "source": [
    "# leafs = range(1,20,1)\n",
    "# scores = []\n",
    "# for leaf in leafs:\n",
    "#     clf = tree.DecisionTreeClassifier(class_weight='auto', min_samples_leaf=leaf)\n",
    "#     scores.append(cross_val_score(clf, df[features], df.vacant, cv=10, scoring='accuracy').mean())\n",
    "# plt.plot(leafs, scores, '--');"
   ]
  },
  {
   "cell_type": "code",
   "execution_count": 35,
   "metadata": {
    "collapsed": false
   },
   "outputs": [],
   "source": [
    "# clf = tree.DecisionTreeClassifier(class_weight={0:1,1:2}, min_samples_leaf=12)\n",
    "# clf = clf.fit(X_train, y_train)"
   ]
  },
  {
   "cell_type": "code",
   "execution_count": 36,
   "metadata": {
    "collapsed": false
   },
   "outputs": [],
   "source": [
    "# pd.crosstab(y_test, clf.predict(X_test), rownames=['actual'], colnames=['preds'])"
   ]
  },
  {
   "cell_type": "markdown",
   "metadata": {},
   "source": [
    "## xgboost"
   ]
  },
  {
   "cell_type": "code",
   "execution_count": 51,
   "metadata": {
    "collapsed": false
   },
   "outputs": [
    {
     "data": {
      "text/html": [
       "<div>\n",
       "<table border=\"1\" class=\"dataframe\">\n",
       "  <thead>\n",
       "    <tr style=\"text-align: right;\">\n",
       "      <th>col_0</th>\n",
       "      <th>0</th>\n",
       "      <th>1</th>\n",
       "    </tr>\n",
       "    <tr>\n",
       "      <th>vacant</th>\n",
       "      <th></th>\n",
       "      <th></th>\n",
       "    </tr>\n",
       "  </thead>\n",
       "  <tbody>\n",
       "    <tr>\n",
       "      <th>0</th>\n",
       "      <td>20351</td>\n",
       "      <td>243</td>\n",
       "    </tr>\n",
       "    <tr>\n",
       "      <th>1</th>\n",
       "      <td>1020</td>\n",
       "      <td>1013</td>\n",
       "    </tr>\n",
       "  </tbody>\n",
       "</table>\n",
       "</div>"
      ],
      "text/plain": [
       "col_0       0     1\n",
       "vacant             \n",
       "0       20351   243\n",
       "1        1020  1013"
      ]
     },
     "execution_count": 51,
     "metadata": {},
     "output_type": "execute_result"
    }
   ],
   "source": [
    "import xgboost as xgb\n",
    "\n",
    "xgtest = X_test.as_matrix()\n",
    "#create train and validation dmatrices \n",
    "xgtrain = X_train.as_matrix()\n",
    "\n",
    "gbm = xgb.XGBClassifier(seed=0).fit(xgtrain, y_train)\n",
    "predictions = gbm.predict(xgtest)\n",
    "probs = gbm.predict_proba(xgtest)\n",
    "pd.crosstab(y_test,predictions)"
   ]
  },
  {
   "cell_type": "code",
   "execution_count": 55,
   "metadata": {
    "collapsed": true
   },
   "outputs": [],
   "source": [
    "t = X_test.copy()"
   ]
  },
  {
   "cell_type": "code",
   "execution_count": 69,
   "metadata": {
    "collapsed": true
   },
   "outputs": [],
   "source": [
    "from sklearn.externals import joblib\n",
    "joblib.dump(gbm, path+'/data/models/gbm.pkl') "
   ]
  },
  {
   "cell_type": "code",
   "execution_count": 68,
   "metadata": {
    "collapsed": false
   },
   "outputs": [
    {
     "data": {
      "text/plain": [
       "1256"
      ]
     },
     "execution_count": 68,
     "metadata": {},
     "output_type": "execute_result"
    }
   ],
   "source": [
    "sum(clf123.predict(xgtest))"
   ]
  },
  {
   "cell_type": "code",
   "execution_count": 62,
   "metadata": {
    "collapsed": false
   },
   "outputs": [
    {
     "data": {
      "text/plain": [
       "array([0, 0, 0, ..., 0, 0, 0])"
      ]
     },
     "execution_count": 62,
     "metadata": {},
     "output_type": "execute_result"
    }
   ],
   "source": [
    "import pickle\n",
    "s = pickle.dumps(gbm)\n",
    "clf2 = pickle.loads(s)\n",
    "clf2.predict(xgtrain)\n"
   ]
  },
  {
   "cell_type": "code",
   "execution_count": 61,
   "metadata": {
    "collapsed": false
   },
   "outputs": [
    {
     "ename": "AttributeError",
     "evalue": "'XGBClassifier' object has no attribute 'save_model'",
     "output_type": "error",
     "traceback": [
      "\u001b[0;31m---------------------------------------------------------------------------\u001b[0m",
      "\u001b[0;31mAttributeError\u001b[0m                            Traceback (most recent call last)",
      "\u001b[0;32m<ipython-input-61-d352b83cd121>\u001b[0m in \u001b[0;36m<module>\u001b[0;34m()\u001b[0m\n\u001b[0;32m----> 1\u001b[0;31m \u001b[0mgbm\u001b[0m\u001b[0;34m.\u001b[0m\u001b[0msave_model\u001b[0m\u001b[0;34m(\u001b[0m\u001b[0mpath\u001b[0m\u001b[0;34m+\u001b[0m\u001b[0;34m'/data/models/'\u001b[0m\u001b[0;34m)\u001b[0m\u001b[0;34m\u001b[0m\u001b[0m\n\u001b[0m",
      "\u001b[0;31mAttributeError\u001b[0m: 'XGBClassifier' object has no attribute 'save_model'"
     ]
    }
   ],
   "source": [
    "gbm.save_model(path+'/data/models/')"
   ]
  },
  {
   "cell_type": "code",
   "execution_count": 56,
   "metadata": {
    "collapsed": false
   },
   "outputs": [],
   "source": [
    "t['preds'] = pd.Series(probs[:,1]+.23).apply(lambda x: int(round(x))).values"
   ]
  },
  {
   "cell_type": "code",
   "execution_count": 59,
   "metadata": {
    "collapsed": false
   },
   "outputs": [],
   "source": [
    "t[['preds']].to_csv(path+'/data/predictions/xgb.csv')"
   ]
  },
  {
   "cell_type": "code",
   "execution_count": 53,
   "metadata": {
    "collapsed": false
   },
   "outputs": [
    {
     "data": {
      "text/html": [
       "<div>\n",
       "<table border=\"1\" class=\"dataframe\">\n",
       "  <thead>\n",
       "    <tr style=\"text-align: right;\">\n",
       "      <th>predicted by GBM</th>\n",
       "      <th>0</th>\n",
       "      <th>1</th>\n",
       "    </tr>\n",
       "    <tr>\n",
       "      <th>actual</th>\n",
       "      <th></th>\n",
       "      <th></th>\n",
       "    </tr>\n",
       "  </thead>\n",
       "  <tbody>\n",
       "    <tr>\n",
       "      <th>0</th>\n",
       "      <td>79857</td>\n",
       "      <td>2643</td>\n",
       "    </tr>\n",
       "    <tr>\n",
       "      <th>1</th>\n",
       "      <td>2922</td>\n",
       "      <td>5083</td>\n",
       "    </tr>\n",
       "  </tbody>\n",
       "</table>\n",
       "</div>"
      ],
      "text/plain": [
       "predicted by GBM      0     1\n",
       "actual                       \n",
       "0                 79857  2643\n",
       "1                  2922  5083"
      ]
     },
     "execution_count": 53,
     "metadata": {},
     "output_type": "execute_result"
    }
   ],
   "source": [
    "probs_train = gbm.predict_proba(xgtrain)\n",
    "pd.crosstab(y_train,pd.Series(probs_train[:,1]+.23).apply(lambda x: int(round(x))).values,rownames=['actual'],colnames=['predicted by GBM'])"
   ]
  },
  {
   "cell_type": "code",
   "execution_count": 38,
   "metadata": {
    "collapsed": false
   },
   "outputs": [
    {
     "data": {
      "text/html": [
       "<div>\n",
       "<table border=\"1\" class=\"dataframe\">\n",
       "  <thead>\n",
       "    <tr style=\"text-align: right;\">\n",
       "      <th>predicted by GBM</th>\n",
       "      <th>0</th>\n",
       "      <th>1</th>\n",
       "    </tr>\n",
       "    <tr>\n",
       "      <th>actual</th>\n",
       "      <th></th>\n",
       "      <th></th>\n",
       "    </tr>\n",
       "  </thead>\n",
       "  <tbody>\n",
       "    <tr>\n",
       "      <th>0</th>\n",
       "      <td>19930</td>\n",
       "      <td>664</td>\n",
       "    </tr>\n",
       "    <tr>\n",
       "      <th>1</th>\n",
       "      <td>766</td>\n",
       "      <td>1267</td>\n",
       "    </tr>\n",
       "  </tbody>\n",
       "</table>\n",
       "</div>"
      ],
      "text/plain": [
       "predicted by GBM      0     1\n",
       "actual                       \n",
       "0                 19930   664\n",
       "1                   766  1267"
      ]
     },
     "execution_count": 38,
     "metadata": {},
     "output_type": "execute_result"
    }
   ],
   "source": [
    "pd.crosstab(y_test,pd.Series(probs[:,1]+.23).apply(lambda x: int(round(x))).values,rownames=['actual'],colnames=['predicted by GBM'])"
   ]
  },
  {
   "cell_type": "code",
   "execution_count": 39,
   "metadata": {
    "collapsed": false
   },
   "outputs": [],
   "source": [
    "xgb_res = {}\n",
    "for i in range(0,21):\n",
    "    # copy = y_test.copy()\n",
    "    p = i/20\n",
    "    copy = pd.Series(probs[:,1]+.22)\n",
    "#     copy = pd.Series(probs[:,1],index=y_test.index)\n",
    "    xgb_res[p] = {'correct': sum(y_test[copy.sort_values(ascending=False)[:int(len(X_test)*p)].index]), \\\n",
    "              'searched': len(y_test[copy.sort_values(ascending=False)[:int(len(X_test)*p)].index]), \\\n",
    "              'percent': sum(y_test[copy.sort_values(ascending=False)[:int(len(X_test)*p)].index])/sum(y_test) }\n",
    "#     sum(y_test[copy.sort_values(ascending=False)[:int(len(X_test)*p)].index]), len(y_test[copy.sort_values(ascending=False)[:int(len(X_test)*p)].index]), sum(y_test)\n",
    "xgb_res = pd.DataFrame(xgb_res).T"
   ]
  },
  {
   "cell_type": "code",
   "execution_count": 40,
   "metadata": {
    "collapsed": false
   },
   "outputs": [
    {
     "data": {
      "image/png": "[encoded data removed]",
      "text/plain": [
       "<matplotlib.figure.Figure at 0x113f82a58>"
      ]
     },
     "metadata": {},
     "output_type": "display_data"
    }
   ],
   "source": [
    "# sns.set_context('notebook')\n",
    "# sns.set_style(\"whitegrid\")\n",
    "fig = plt.figure()\n",
    "# fig, ax = plt.subplots()\n",
    "# ax.plot(t, s)\n",
    "\n",
    "plot = fig.add_subplot(111)\n",
    "# ax.grid(True)\n",
    "ax = fig.gca()\n",
    "ax.grid(True)\n",
    "plot.tick_params(axis='both', labelsize=12)\n",
    "plt.plot(log_res.index, log_res.percent,linewidth=1.5)\n",
    "plt.plot(res.index, res.percent,linewidth=1.5)\n",
    "plt.plot(xgb_res.index, xgb_res.percent,linewidth=1.5)\n",
    "plt.plot([0,sum(y_test)/len(y_test)],[0,1],'k--',linewidth=1)\n",
    "plt.xlabel('Fraction of homes inspected',fontsize=12)\n",
    "plt.ylabel('Fraction of vacancies identified',fontsize=12)\n",
    "# plt.set_xticklabels(fontsize='small')\n",
    "# plt.axis([-0.05,1.05,-0.05,1.05])\n",
    "plt.legend(['Logistic regression','Random forest','Gradient boosted model','Perfect classifier'],loc='lower right',fontsize=12);\n",
    "plt.savefig(path+'/outputs/model_inspection_comparison.pdf')"
   ]
  },
  {
   "cell_type": "code",
   "execution_count": 41,
   "metadata": {
    "collapsed": false
   },
   "outputs": [
    {
     "data": {
      "text/html": [
       "<div>\n",
       "<table border=\"1\" class=\"dataframe\">\n",
       "  <thead>\n",
       "    <tr style=\"text-align: right;\">\n",
       "      <th></th>\n",
       "      <th>Random forest</th>\n",
       "      <th>Logistic regression</th>\n",
       "      <th>Gradient boosted</th>\n",
       "    </tr>\n",
       "  </thead>\n",
       "  <tbody>\n",
       "    <tr>\n",
       "      <th>0.0</th>\n",
       "      <td>0</td>\n",
       "      <td>0</td>\n",
       "      <td>0</td>\n",
       "    </tr>\n",
       "    <tr>\n",
       "      <th>0.1</th>\n",
       "      <td>1323</td>\n",
       "      <td>1295</td>\n",
       "      <td>1349</td>\n",
       "    </tr>\n",
       "    <tr>\n",
       "      <th>0.2</th>\n",
       "      <td>1637</td>\n",
       "      <td>1605</td>\n",
       "      <td>1671</td>\n",
       "    </tr>\n",
       "    <tr>\n",
       "      <th>0.3</th>\n",
       "      <td>1779</td>\n",
       "      <td>1759</td>\n",
       "      <td>1791</td>\n",
       "    </tr>\n",
       "    <tr>\n",
       "      <th>0.4</th>\n",
       "      <td>1860</td>\n",
       "      <td>1837</td>\n",
       "      <td>1865</td>\n",
       "    </tr>\n",
       "    <tr>\n",
       "      <th>0.5</th>\n",
       "      <td>1913</td>\n",
       "      <td>1893</td>\n",
       "      <td>1924</td>\n",
       "    </tr>\n",
       "    <tr>\n",
       "      <th>0.6</th>\n",
       "      <td>1948</td>\n",
       "      <td>1938</td>\n",
       "      <td>1959</td>\n",
       "    </tr>\n",
       "    <tr>\n",
       "      <th>0.7</th>\n",
       "      <td>1974</td>\n",
       "      <td>1975</td>\n",
       "      <td>1984</td>\n",
       "    </tr>\n",
       "    <tr>\n",
       "      <th>0.8</th>\n",
       "      <td>1996</td>\n",
       "      <td>1995</td>\n",
       "      <td>2003</td>\n",
       "    </tr>\n",
       "    <tr>\n",
       "      <th>0.9</th>\n",
       "      <td>2018</td>\n",
       "      <td>2019</td>\n",
       "      <td>2019</td>\n",
       "    </tr>\n",
       "    <tr>\n",
       "      <th>1.0</th>\n",
       "      <td>2033</td>\n",
       "      <td>2033</td>\n",
       "      <td>2033</td>\n",
       "    </tr>\n",
       "  </tbody>\n",
       "</table>\n",
       "</div>"
      ],
      "text/plain": [
       "     Random forest  Logistic regression  Gradient boosted\n",
       "0.0              0                    0                 0\n",
       "0.1           1323                 1295              1349\n",
       "0.2           1637                 1605              1671\n",
       "0.3           1779                 1759              1791\n",
       "0.4           1860                 1837              1865\n",
       "0.5           1913                 1893              1924\n",
       "0.6           1948                 1938              1959\n",
       "0.7           1974                 1975              1984\n",
       "0.8           1996                 1995              2003\n",
       "0.9           2018                 2019              2019\n",
       "1.0           2033                 2033              2033"
      ]
     },
     "execution_count": 41,
     "metadata": {},
     "output_type": "execute_result"
    }
   ],
   "source": [
    "tem = pd.concat([res[['correct']].iloc[range(0,22,2)], \\\n",
    "           log_res[['correct']].iloc[range(0,22,2)],\\\n",
    "           xgb_res[['correct']].iloc[range(0,22,2)] ], axis=1)\n",
    "\n",
    "tem.columns = ['Random forest','Logistic regression','Gradient boosted']\n",
    "\n",
    "tem"
   ]
  },
  {
   "cell_type": "code",
   "execution_count": 42,
   "metadata": {
    "collapsed": false
   },
   "outputs": [
    {
     "name": "stdout",
     "output_type": "stream",
     "text": [
      "{'xgb_res': 0.7766098834830125, 'res': 0.77402133039418, 'log_res': 0.7659353480088515} {'xgb_res': 0.6392532795156407, 'res': 0.6205882352941177, 'log_res': 0.6109879280610989} 0.6561367167270844 0.6232169208066897\n"
     ]
    }
   ],
   "source": [
    "dat = pd.DataFrame([gbm.predict_proba(X_test)[:,1]+0.22, y_test, pd.Series(probs[:,1]+.23).apply(lambda x: int(round(x))).values]).T\n",
    "dat = dat.rename(columns={0:'prob',1:'act',2:'pred'})\n",
    "\n",
    "\n",
    "# sns.distplot(dat[(dat.act==1)&(dat.pred==1)].prob);\n",
    "# sns.distplot(dat[(dat.act==0)&(dat.pred==1)].prob);\n",
    "# sns.distplot(dat[(dat.act==1)&(dat.pred==0)].prob);\n",
    "# sns.distplot(dat[(dat.act==0)&(dat.pred==0)].prob);\n",
    "# plt.legend(['True vacant','False vacant','False Occupied','True Occupied'])\n",
    "\n",
    "acc_neg = len(dat[(dat.act==0) & (dat.pred==0)])/len(dat[dat.act==0])\n",
    "acc_pos = len(dat[(dat.act==1) & (dat.pred==1)])/len(dat[dat.act==1])\n",
    "G['xgb_res'] = (acc_neg*acc_pos)**0.5\n",
    "prec = len(dat[(dat.act==1) & (dat.pred==1)])/len(dat[dat.pred==1])\n",
    "F['xgb_res'] = 2*prec*acc_pos/(prec+acc_pos)\n",
    "print(G, F, prec, acc_pos)"
   ]
  },
  {
   "cell_type": "code",
   "execution_count": 43,
   "metadata": {
    "collapsed": false
   },
   "outputs": [
    {
     "data": {
      "image/png": "[encoded data removed]",
      "text/plain": [
       "<matplotlib.figure.Figure at 0x1118d1f60>"
      ]
     },
     "metadata": {},
     "output_type": "display_data"
    }
   ],
   "source": [
    "from sklearn.metrics import roc_curve\n",
    "\n",
    "fig = plt.figure(figsize=[5,5])\n",
    "plot = fig.add_subplot(111)\n",
    "\n",
    "ax = fig.gca()\n",
    "ax.grid(True)\n",
    "\n",
    "\n",
    "# The logistic regression\n",
    "y_pred_lr = lr.predict_proba(X_test)[:, 1]\n",
    "fpr_lr, tpr_lr, _ = roc_curve(y_test, y_pred_lr)\n",
    "\n",
    "# The random forest model by itself\n",
    "y_pred_rf = rfc.predict_proba(X_test)[:, 1]\n",
    "fpr_rf, tpr_rf, _ = roc_curve(y_test, y_pred_rf)\n",
    "\n",
    "# The random forest model by itself\n",
    "y_pred_gb = gbm.predict_proba(X_test)[:, 1]\n",
    "fpr_gb, tpr_gb, _ = roc_curve(y_test, y_pred_gb)\n",
    "\n",
    "plt.plot(fpr_lr, tpr_lr, label='Logistic regression')\n",
    "plt.plot(fpr_rf, tpr_rf, label='Random forest')\n",
    "plt.plot(fpr_gb, tpr_gb, label='Gradient boosted')\n",
    "plt.plot([0,1], [0,1],'k--')\n",
    "\n",
    "plt.legend(loc='lower right');\n",
    "plt.axis([0,1,0,1],'equal')\n",
    "plt.ylabel('True positive rate')\n",
    "plt.xlabel('False positive rate')\n",
    "\n",
    "plt.savefig(path+'/outputs/model_ROC.pdf')"
   ]
  },
  {
   "cell_type": "code",
   "execution_count": null,
   "metadata": {
    "collapsed": true
   },
   "outputs": [],
   "source": []
  }
 ],
 "metadata": {
  "kernelspec": {
   "display_name": "Python 3",
   "language": "python",
   "name": "python3"
  },
  "language_info": {
   "codemirror_mode": {
    "name": "ipython",
    "version": 3
   },
   "file_extension": ".py",
   "mimetype": "text/x-python",
   "name": "python",
   "nbconvert_exporter": "python",
   "pygments_lexer": "ipython3",
   "version": "3.4.4"
  }
 },
 "nbformat": 4,
 "nbformat_minor": 0
}
