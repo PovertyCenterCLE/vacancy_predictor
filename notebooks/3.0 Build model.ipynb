{
 "cells": [
  {
   "cell_type": "markdown",
   "metadata": {},
   "source": [
    "# 3.0 Build predictive model"
   ]
  },
  {
   "cell_type": "code",
   "execution_count": 171,
   "metadata": {
    "collapsed": false
   },
   "outputs": [
    {
     "name": "stdout",
     "output_type": "stream",
     "text": [
      "/Volumes/Dropbox/largetransfer/luc/carter\n"
     ]
    }
   ],
   "source": [
    "import pandas as pd\n",
    "from sklearn.ensemble import RandomForestClassifier\n",
    "import matplotlib.pyplot as plt\n",
    "import numpy as np\n",
    "import seaborn as sns\n",
    "import math\n",
    "from sklearn.preprocessing import Imputer\n",
    "from sklearn.base import TransformerMixin\n",
    "from sklearn import cross_validation\n",
    "from sklearn.grid_search import GridSearchCV\n",
    "from sklearn.linear_model import LogisticRegression\n",
    "from sklearn import preprocessing\n",
    "import os\n",
    "\n",
    "%matplotlib inline\n",
    "\n",
    "path = '/'.join(os.getcwd().split('/')[:-1])\n",
    "print path"
   ]
  },
  {
   "cell_type": "code",
   "execution_count": 172,
   "metadata": {
    "collapsed": true
   },
   "outputs": [],
   "source": [
    "def sound():\n",
    "    os.system('afplay /System/Library/Sounds/Sosumi.aiff')"
   ]
  },
  {
   "cell_type": "code",
   "execution_count": 217,
   "metadata": {
    "collapsed": false
   },
   "outputs": [
    {
     "data": {
      "text/plain": [
       "(122560, 85)"
      ]
     },
     "execution_count": 217,
     "metadata": {},
     "output_type": "execute_result"
    }
   ],
   "source": [
    "df = pd.read_csv(path+'/data/model_data/tci_2_3.csv')\n",
    "df.shape"
   ]
  },
  {
   "cell_type": "code",
   "execution_count": 174,
   "metadata": {
    "collapsed": false
   },
   "outputs": [
    {
     "data": {
      "text/plain": [
       "Index([u'Parcel ID', u'ppn', u'vacant', u'Date', u'Survey Category',\n",
       "       u'Survey Result', u'zip', u'pclass', u'totusabl', u'tmktval',\n",
       "       u'condition', u'parcel_x', u'condition_value', u'parcel_y',\n",
       "       u'style_filtered', u'parcel_x.1', u'ownerocc_value', u'parcel_y.1',\n",
       "       u'totbldgs', u'parcel_x.2', u'yrbuilt_filtered', u'parcel_y.2',\n",
       "       u'rextwall', u'parcel_x.1', u'vacant_block', u'owner', u'renter',\n",
       "       u'median_rent', u'property_crimes', u'burglaries', u'other_drug',\n",
       "       u'part_one_crimes', u'part_two_crimes', u'bachelors+', u'poverty_rate',\n",
       "       u'median_hh_income', u'median_fam_income', u'white', u'black', u'asian',\n",
       "       u'other', u'hispanic', u'young', u'middle', u'old', u'num_of_sales',\n",
       "       u'quit_claim_deed', u'warranty_deed', u'limited_warranty',\n",
       "       u'survivorship_deed', u'fiduciary_deed', u'AMOUNT_PAID', u'SALE_VALID',\n",
       "       u'num_of_transfers', u'DEED_TYPE', u'county_land_bank', u'vindall_Y',\n",
       "       u'vindall_P', u'violations_number', u'violations_number_1_yr',\n",
       "       u'c_Black Mold', u'c_Collapsing Structure',\n",
       "       u'c_Complete interior/exterior', u'c_Debris/Garbage/Junk (Occupied)',\n",
       "       u'c_Electrical', u'c_Fire Damage', u'c_General Exterior Maintenance',\n",
       "       u'c_No Permit', u'c_O.V.V.', u'c_Plumbing', u'complaint_count',\n",
       "       u'complaint_count_6_mon', u'complaint_count_3_mon', u'parcel_y.1',\n",
       "       u'active_fc', u'foreclosure_flag', u'fc_dis_w/o_prej',\n",
       "       u'fc_newly_filed', u'fc_default', u'fc_dispother', u'auction_13',\n",
       "       u'auction_all', u'PROPERTY_NUMBER', u'LENDER_PROCESS_TYPE',\n",
       "       u'GRAND_TOTAL_BALANCE'],\n",
       "      dtype='object')"
      ]
     },
     "execution_count": 174,
     "metadata": {},
     "output_type": "execute_result"
    }
   ],
   "source": [
    "df.columns"
   ]
  },
  {
   "cell_type": "markdown",
   "metadata": {},
   "source": [
    "#### Change 'pclass' into residential/non-residential\n",
    "\n",
    "Only use data from residential parcels in the model.\n"
   ]
  },
  {
   "cell_type": "code",
   "execution_count": 175,
   "metadata": {
    "collapsed": false
   },
   "outputs": [
    {
     "data": {
      "text/plain": [
       "(122560, 85)"
      ]
     },
     "execution_count": 175,
     "metadata": {},
     "output_type": "execute_result"
    }
   ],
   "source": [
    "df = df[df.pclass=='Residential']\n",
    "df.shape"
   ]
  },
  {
   "cell_type": "markdown",
   "metadata": {},
   "source": [
    "#### Count missing values as a variable"
   ]
  },
  {
   "cell_type": "code",
   "execution_count": 176,
   "metadata": {
    "collapsed": false
   },
   "outputs": [],
   "source": [
    "df['missing_values'] = df.apply(lambda x: len(x[x.isnull()]),axis=1)"
   ]
  },
  {
   "cell_type": "markdown",
   "metadata": {},
   "source": [
    "#### Let's look at total market value, property size, etc."
   ]
  },
  {
   "cell_type": "code",
   "execution_count": 179,
   "metadata": {
    "collapsed": true
   },
   "outputs": [],
   "source": [
    "def is_outlier(points, thresh=3.5):\n",
    "    if len(points.shape) == 1:\n",
    "        points = points[:,None]\n",
    "    median = np.median(points, axis=0)\n",
    "    diff = np.sum((points - median)**2, axis=-1)\n",
    "    diff = np.sqrt(diff)\n",
    "    med_abs_deviation = np.median(diff)\n",
    "\n",
    "    modified_z_score = 0.6745 * diff / med_abs_deviation\n",
    "\n",
    "    return modified_z_score > thresh"
   ]
  },
  {
   "cell_type": "code",
   "execution_count": 180,
   "metadata": {
    "collapsed": false,
    "scrolled": true
   },
   "outputs": [
    {
     "data": {
      "image/png": "[encoded data removed]",
      "text/plain": [
       "<matplotlib.figure.Figure at 0x1185ccbd0>"
      ]
     },
     "metadata": {},
     "output_type": "display_data"
    }
   ],
   "source": [
    "b = np.linspace(0, 120000, 40)\n",
    "plt.hist(df.loc[(~is_outlier(df.tmktval)) & (df.vacant==1),'tmktval'].values,bins=b,alpha=0.5,normed=True,label='Vacant');\n",
    "plt.hist(df.loc[(~is_outlier(df.tmktval)) & (df.vacant==0),'tmktval'].values,bins=b,color='r',alpha=0.5,normed=True,label='Occupied');\n",
    "plt.legend();\n",
    "plt.title('Normed histogram of total market value');"
   ]
  },
  {
   "cell_type": "code",
   "execution_count": 161,
   "metadata": {
    "collapsed": false
   },
   "outputs": [],
   "source": [
    "# b = np.linspace(0, 10000, 40)\n",
    "# plt.hist(df.loc[(~is_outlier(df.propsize)) & (df.vacant==1),'propsize'].values,bins=b,alpha=0.5,normed=True,label='Vacant');\n",
    "# plt.hist(df.loc[(~is_outlier(df.propsize)) & (df.vacant==0),'propsize'].values,bins=b,color='r',alpha=0.5,normed=True,label='Occupied');\n",
    "# plt.legend();\n",
    "# plt.title('Normed histogram of property size');"
   ]
  },
  {
   "cell_type": "code",
   "execution_count": 162,
   "metadata": {
    "collapsed": false
   },
   "outputs": [
    {
     "data": {
      "image/png": "[encoded data removed]",
      "text/plain": [
       "<matplotlib.figure.Figure at 0x10403b210>"
      ]
     },
     "metadata": {},
     "output_type": "display_data"
    }
   ],
   "source": [
    "b = np.linspace(0, 8, 9)\n",
    "plt.hist(df.loc[((df.condition_value.notnull())) & (df.vacant==1),'condition_value'].values,bins=b,alpha=0.5,normed=True,label='Vacant');\n",
    "plt.hist(df.loc[((df.condition_value.notnull())) & (df.vacant==0),'condition_value'].values,bins=b,color='r',alpha=0.5,normed=True,label='Occupied');\n",
    "plt.legend();\n",
    "plt.title('Normed histogram of condition value');"
   ]
  },
  {
   "cell_type": "code",
   "execution_count": 163,
   "metadata": {
    "collapsed": false
   },
   "outputs": [
    {
     "data": {
      "image/png": "[encoded data removed]",
      "text/plain": [
       "<matplotlib.figure.Figure at 0x10ee13b50>"
      ]
     },
     "metadata": {},
     "output_type": "display_data"
    }
   ],
   "source": [
    "b = np.linspace(1900, 1950, 10)\n",
    "plt.hist(df.loc[(~is_outlier(df.yrbuilt_filtered)) & (df.vacant==1),'yrbuilt_filtered'].values,bins=b,alpha=0.5,normed=True,label='Vacant');\n",
    "plt.hist(df.loc[(~is_outlier(df.yrbuilt_filtered)) & (df.vacant==0),'yrbuilt_filtered'].values,bins=b,color='r',alpha=0.5,normed=True,label='Occupied');\n",
    "plt.legend();\n",
    "plt.title('Normed histogram of year built');"
   ]
  },
  {
   "cell_type": "code",
   "execution_count": 184,
   "metadata": {
    "collapsed": true
   },
   "outputs": [],
   "source": [
    "to_remove = ['Parcel ID','ppn','Date','Survey Category','Survey Result','pclass','parcel_x','parcel_y','parcel_x.1', \\\n",
    "             'parcel_x.1','parcel_y.1','parcel_y.1','parcel_x.2','parcel_y.2','PROPERTY_NUMBER','condition','missing_values', \\\n",
    "             'zip']"
   ]
  },
  {
   "cell_type": "code",
   "execution_count": 185,
   "metadata": {
    "collapsed": false
   },
   "outputs": [
    {
     "data": {
      "text/plain": [
       "array(['Parcel ID', 'ppn', 'vacant', 'Date', 'Survey Category',\n",
       "       'Survey Result', 'zip', 'pclass', 'totusabl', 'tmktval',\n",
       "       'condition', 'parcel_x', 'condition_value', 'parcel_y',\n",
       "       'style_filtered', 'parcel_x.1', 'ownerocc_value', 'parcel_y.1',\n",
       "       'totbldgs', 'parcel_x.2', 'yrbuilt_filtered', 'parcel_y.2',\n",
       "       'rextwall', 'parcel_x.1', 'vacant_block', 'owner', 'renter',\n",
       "       'median_rent', 'property_crimes', 'burglaries', 'other_drug',\n",
       "       'part_one_crimes', 'part_two_crimes', 'bachelors+', 'poverty_rate',\n",
       "       'median_hh_income', 'median_fam_income', 'white', 'black', 'asian',\n",
       "       'other', 'hispanic', 'young', 'middle', 'old', 'num_of_sales',\n",
       "       'quit_claim_deed', 'warranty_deed', 'limited_warranty',\n",
       "       'survivorship_deed', 'fiduciary_deed', 'AMOUNT_PAID', 'SALE_VALID',\n",
       "       'num_of_transfers', 'DEED_TYPE', 'county_land_bank', 'vindall_Y',\n",
       "       'vindall_P', 'violations_number', 'violations_number_1_yr',\n",
       "       'c_Black Mold', 'c_Collapsing Structure',\n",
       "       'c_Complete interior/exterior', 'c_Debris/Garbage/Junk (Occupied)',\n",
       "       'c_Electrical', 'c_Fire Damage', 'c_General Exterior Maintenance',\n",
       "       'c_No Permit', 'c_O.V.V.', 'c_Plumbing', 'complaint_count',\n",
       "       'complaint_count_6_mon', 'complaint_count_3_mon', 'parcel_y.1',\n",
       "       'active_fc', 'foreclosure_flag', 'fc_dis_w/o_prej',\n",
       "       'fc_newly_filed', 'fc_default', 'fc_dispother', 'auction_13',\n",
       "       'auction_all', 'PROPERTY_NUMBER', 'LENDER_PROCESS_TYPE',\n",
       "       'GRAND_TOTAL_BALANCE', 'missing_values'], dtype=object)"
      ]
     },
     "execution_count": 185,
     "metadata": {},
     "output_type": "execute_result"
    }
   ],
   "source": [
    "df.columns.values"
   ]
  },
  {
   "cell_type": "code",
   "execution_count": 186,
   "metadata": {
    "collapsed": false
   },
   "outputs": [
    {
     "name": "stdout",
     "output_type": "stream",
     "text": [
      "Parcel ID\n",
      "ppn\n",
      "Date\n",
      "Survey Category\n",
      "Survey Result\n",
      "pclass\n",
      "parcel_x\n",
      "parcel_y\n",
      "parcel_x.1\n",
      "parcel_x.1\n",
      "parcel_y.1\n",
      "parcel_y.1\n",
      "parcel_x.2\n",
      "parcel_y.2\n",
      "PROPERTY_NUMBER\n",
      "condition\n",
      "missing_values\n",
      "zip\n"
     ]
    }
   ],
   "source": [
    "features = list(df.columns.values)\n",
    "for i in to_remove:\n",
    "    print i\n",
    "    features.remove(i)"
   ]
  },
  {
   "cell_type": "code",
   "execution_count": 187,
   "metadata": {
    "collapsed": false,
    "scrolled": true
   },
   "outputs": [
    {
     "name": "stdout",
     "output_type": "stream",
     "text": [
      "0 vacant\n",
      "1 totusabl\n",
      "2 tmktval\n",
      "3 condition_value\n",
      "4 style_filtered\n",
      "5 ownerocc_value\n",
      "6 totbldgs\n",
      "7 yrbuilt_filtered\n",
      "8 rextwall\n",
      "9 vacant_block\n",
      "10 owner\n",
      "11 renter\n",
      "12 median_rent\n",
      "13 property_crimes\n",
      "14 burglaries\n",
      "15 other_drug\n",
      "16 part_one_crimes\n",
      "17 part_two_crimes\n",
      "18 bachelors+\n",
      "19 poverty_rate\n",
      "20 median_hh_income\n",
      "21 median_fam_income\n",
      "22 white\n",
      "23 black\n",
      "24 asian\n",
      "25 other\n",
      "26 hispanic\n",
      "27 young\n",
      "28 middle\n",
      "29 old\n",
      "30 num_of_sales\n",
      "31 quit_claim_deed\n",
      "32 warranty_deed\n",
      "33 limited_warranty\n",
      "34 survivorship_deed\n",
      "35 fiduciary_deed\n",
      "36 AMOUNT_PAID\n",
      "37 SALE_VALID\n",
      "38 num_of_transfers\n",
      "39 DEED_TYPE\n",
      "40 county_land_bank\n",
      "41 vindall_Y\n",
      "42 vindall_P\n",
      "43 violations_number\n",
      "44 violations_number_1_yr\n",
      "45 c_Black Mold\n",
      "46 c_Collapsing Structure\n",
      "47 c_Complete interior/exterior\n",
      "48 c_Debris/Garbage/Junk (Occupied)\n",
      "49 c_Electrical\n",
      "50 c_Fire Damage\n",
      "51 c_General Exterior Maintenance\n",
      "52 c_No Permit\n",
      "53 c_O.V.V.\n",
      "54 c_Plumbing\n",
      "55 complaint_count\n",
      "56 complaint_count_6_mon\n",
      "57 complaint_count_3_mon\n",
      "58 active_fc\n",
      "59 foreclosure_flag\n",
      "60 fc_dis_w/o_prej\n",
      "61 fc_newly_filed\n",
      "62 fc_default\n",
      "63 fc_dispother\n",
      "64 auction_13\n",
      "65 auction_all\n",
      "66 LENDER_PROCESS_TYPE\n",
      "67 GRAND_TOTAL_BALANCE\n"
     ]
    }
   ],
   "source": [
    "for i,j in enumerate(features):\n",
    "    print i,j"
   ]
  },
  {
   "cell_type": "code",
   "execution_count": 188,
   "metadata": {
    "collapsed": false
   },
   "outputs": [],
   "source": [
    "# 'propsize','totusabl','tmktval',\n",
    "\n",
    "# cols = ['propsize','tmktval','condition_value','totbldgs','yrbuilt_filtered','vacant', \\\n",
    "#         'num_of_sales','quit_claim_deed','warranty_deed',\n",
    "#         'violations_number', 'missing_values', 'ownerocc_value',\\\n",
    "#         'vindall_Y', 'complaint_count','complaint_count_6_mon', 'complaint_count_3_mon']"
   ]
  },
  {
   "cell_type": "markdown",
   "metadata": {},
   "source": [
    "### Impute with median values"
   ]
  },
  {
   "cell_type": "code",
   "execution_count": 189,
   "metadata": {
    "collapsed": true
   },
   "outputs": [],
   "source": [
    "for i in features[9:30]:\n",
    "    df.loc[df[i].isnull(),i] = np.median(df.loc[df[i].notnull(),i])"
   ]
  },
  {
   "cell_type": "code",
   "execution_count": 190,
   "metadata": {
    "collapsed": false
   },
   "outputs": [],
   "source": [
    "# df.loc[df.propsize.isnull(),'propsize'] = np.median(df[df.propsize.notnull()].propsize)\n",
    "df.loc[df.totusabl.isnull(),'totusabl'] = np.median(df[df.totusabl.notnull()].totusabl)\n",
    "df.loc[df.tmktval.isnull(),'tmktval'] = np.median(df[df.tmktval.notnull()].tmktval)\n",
    "df.loc[df.condition_value.isnull(),'condition_value'] = np.median(df[df.condition_value.notnull()].condition_value)\n",
    "df.loc[df.totbldgs.isnull(),'totbldgs'] = np.median(df[df.totbldgs.notnull()].totbldgs)\n",
    "df.loc[df.yrbuilt_filtered.isnull(),'yrbuilt_filtered'] = np.median(df[df.yrbuilt_filtered.notnull()].yrbuilt_filtered)\n",
    "df.loc[df.ownerocc_value.isnull(),'ownerocc_value'] = np.median(df[df.ownerocc_value.notnull()].ownerocc_value)"
   ]
  },
  {
   "cell_type": "code",
   "execution_count": 191,
   "metadata": {
    "collapsed": false
   },
   "outputs": [
    {
     "name": "stdout",
     "output_type": "stream",
     "text": [
      "Index([u'Parcel ID', u'ppn', u'Date', u'Survey Category', u'Survey Result',\n",
      "       u'pclass', u'condition', u'parcel_x', u'parcel_y', u'style_filtered',\n",
      "       u'parcel_x.1', u'parcel_y.1', u'parcel_x.2', u'parcel_y.2', u'rextwall',\n",
      "       u'parcel_x.1', u'DEED_TYPE', u'parcel_y.1', u'PROPERTY_NUMBER',\n",
      "       u'LENDER_PROCESS_TYPE'],\n",
      "      dtype='object')\n"
     ]
    }
   ],
   "source": [
    "print df.columns[df.dtypes == 'object']"
   ]
  },
  {
   "cell_type": "code",
   "execution_count": 192,
   "metadata": {
    "collapsed": true
   },
   "outputs": [],
   "source": [
    "objs = ['DEED_TYPE','LENDER_PROCESS_TYPE','rextwall','style_filtered']\n",
    "prefixes = ['deed_','lender_','ext_','style_']"
   ]
  },
  {
   "cell_type": "code",
   "execution_count": 193,
   "metadata": {
    "collapsed": false
   },
   "outputs": [
    {
     "data": {
      "text/html": [
       "<div>\n",
       "<table border=\"1\" class=\"dataframe\">\n",
       "  <thead>\n",
       "    <tr>\n",
       "      <th></th>\n",
       "      <th colspan=\"2\" halign=\"left\">vacant</th>\n",
       "    </tr>\n",
       "    <tr>\n",
       "      <th></th>\n",
       "      <th>sum</th>\n",
       "      <th>len</th>\n",
       "    </tr>\n",
       "    <tr>\n",
       "      <th>rextwall</th>\n",
       "      <th></th>\n",
       "      <th></th>\n",
       "    </tr>\n",
       "  </thead>\n",
       "  <tbody>\n",
       "    <tr>\n",
       "      <th>Aluminum/Vinyl (r)</th>\n",
       "      <td>3873</td>\n",
       "      <td>71201</td>\n",
       "    </tr>\n",
       "    <tr>\n",
       "      <th>Asbestos Shingle (r)</th>\n",
       "      <td>209</td>\n",
       "      <td>2313</td>\n",
       "    </tr>\n",
       "    <tr>\n",
       "      <th>Brick</th>\n",
       "      <td>400</td>\n",
       "      <td>10628</td>\n",
       "    </tr>\n",
       "    <tr>\n",
       "      <th>Frame (r)</th>\n",
       "      <td>2576</td>\n",
       "      <td>26891</td>\n",
       "    </tr>\n",
       "    <tr>\n",
       "      <th>Other</th>\n",
       "      <td>-8708</td>\n",
       "      <td>11527</td>\n",
       "    </tr>\n",
       "  </tbody>\n",
       "</table>\n",
       "</div>"
      ],
      "text/plain": [
       "                     vacant       \n",
       "                        sum    len\n",
       "rextwall                          \n",
       "Aluminum/Vinyl (r)     3873  71201\n",
       "Asbestos Shingle (r)    209   2313\n",
       "Brick                   400  10628\n",
       "Frame (r)              2576  26891\n",
       "Other                 -8708  11527"
      ]
     },
     "execution_count": 193,
     "metadata": {},
     "output_type": "execute_result"
    }
   ],
   "source": [
    "df.loc[df.rextwall.notnull(),['rextwall','vacant']].groupby('rextwall').agg([sum,len])"
   ]
  },
  {
   "cell_type": "code",
   "execution_count": 194,
   "metadata": {
    "collapsed": false
   },
   "outputs": [
    {
     "data": {
      "text/plain": [
       "['DEED_TYPE', 'LENDER_PROCESS_TYPE', 'rextwall', 'style_filtered']"
      ]
     },
     "execution_count": 194,
     "metadata": {},
     "output_type": "execute_result"
    }
   ],
   "source": [
    "objs"
   ]
  },
  {
   "cell_type": "code",
   "execution_count": 195,
   "metadata": {
    "collapsed": false
   },
   "outputs": [],
   "source": [
    "# transform categorical variables (including NaN's)\n",
    "df2 = df[objs]#,'mult_name_flag','SALE_VALID']]\n",
    "# prefixes = ['style','extwall']#,'mult_name','sale_valid']#,'LUC']\n",
    "df3 = pd.concat([pd.get_dummies(df2[col], prefix=prefixes[index]) for index, col in enumerate(df2)], axis=1)"
   ]
  },
  {
   "cell_type": "code",
   "execution_count": 196,
   "metadata": {
    "collapsed": true
   },
   "outputs": [],
   "source": [
    "for i in objs:\n",
    "    features.remove(i)"
   ]
  },
  {
   "cell_type": "code",
   "execution_count": 197,
   "metadata": {
    "collapsed": false
   },
   "outputs": [],
   "source": [
    "df3[features] = df[features]"
   ]
  },
  {
   "cell_type": "code",
   "execution_count": 202,
   "metadata": {
    "collapsed": false
   },
   "outputs": [],
   "source": [
    "df3 = df3[df3.vacant > -1]\n",
    "df3 = df3.fillna(0)"
   ]
  },
  {
   "cell_type": "code",
   "execution_count": 203,
   "metadata": {
    "collapsed": false
   },
   "outputs": [
    {
     "data": {
      "text/plain": [
       "(111150, 89)"
      ]
     },
     "execution_count": 203,
     "metadata": {},
     "output_type": "execute_result"
    }
   ],
   "source": [
    "df3.shape"
   ]
  },
  {
   "cell_type": "code",
   "execution_count": 207,
   "metadata": {
    "collapsed": false
   },
   "outputs": [
    {
     "data": {
      "text/plain": [
       "3987.0"
      ]
     },
     "execution_count": 207,
     "metadata": {},
     "output_type": "execute_result"
    }
   ],
   "source": [
    "sum(df3[features].auction_13)"
   ]
  },
  {
   "cell_type": "code",
   "execution_count": 208,
   "metadata": {
    "collapsed": false,
    "scrolled": true
   },
   "outputs": [
    {
     "data": {
      "text/plain": [
       "28291.0"
      ]
     },
     "execution_count": 208,
     "metadata": {},
     "output_type": "execute_result"
    }
   ],
   "source": [
    "sum(df3.auction_all)"
   ]
  },
  {
   "cell_type": "code",
   "execution_count": 209,
   "metadata": {
    "collapsed": false
   },
   "outputs": [
    {
     "data": {
      "text/plain": [
       "(122560, 86)"
      ]
     },
     "execution_count": 209,
     "metadata": {},
     "output_type": "execute_result"
    }
   ],
   "source": [
    "df.shape"
   ]
  },
  {
   "cell_type": "markdown",
   "metadata": {},
   "source": [
    "## Build the classifiers"
   ]
  },
  {
   "cell_type": "code",
   "execution_count": 210,
   "metadata": {
    "collapsed": true
   },
   "outputs": [],
   "source": [
    "from sklearn.cross_validation import cross_val_score"
   ]
  },
  {
   "cell_type": "code",
   "execution_count": 211,
   "metadata": {
    "collapsed": false
   },
   "outputs": [],
   "source": [
    "# train and test the classifier, look at results in a cross tabulation\n",
    "# NOTE: we can get probabilities instead of a prediction!\n",
    "\n",
    "# take out half the data for the test set\n",
    "df3['is_train'] = np.random.uniform(0, 1, len(df3)) <= .7\n",
    "train, test = df3[df3['is_train']==True], df3[df3['is_train']==False]\n",
    " \n",
    "features = list(df3.columns)\n",
    "features.remove('vacant')\n",
    "\n",
    "y, _ = pd.factorize(train['vacant'])"
   ]
  },
  {
   "cell_type": "code",
   "execution_count": 212,
   "metadata": {
    "collapsed": true
   },
   "outputs": [],
   "source": [
    "test_label = test.vacant"
   ]
  },
  {
   "cell_type": "markdown",
   "metadata": {},
   "source": [
    "### Random Forest Classifier"
   ]
  },
  {
   "cell_type": "markdown",
   "metadata": {},
   "source": [
    "#### Parameter search"
   ]
  },
  {
   "cell_type": "code",
   "execution_count": 57,
   "metadata": {
    "collapsed": true
   },
   "outputs": [
    {
     "data": {
      "image/png": "[encoded data removed]",
      "text/plain": [
       "<matplotlib.figure.Figure at 0x10c6dc790>"
      ]
     },
     "metadata": {},
     "output_type": "display_data"
    }
   ],
   "source": [
    "depth_range = range(10,40,2)\n",
    "scores = []\n",
    "for depth in depth_range:\n",
    "    rfc = RandomForestClassifier(n_estimators=50, min_samples_leaf=1, min_samples_split=2, \\\n",
    "                                 class_weight='auto', \\\n",
    "                                 max_features=None, random_state=0, max_depth=depth)\n",
    "    scores.append(cross_val_score(rfc, df3[features], df3.vacant, cv=10, scoring='accuracy').mean())\n",
    "plt.plot(depth_range, scores, '--');\n",
    "# plt.ylim(0,1);\n",
    "plt.title('Accuracy by max depth range');"
   ]
  },
  {
   "cell_type": "code",
   "execution_count": 58,
   "metadata": {
    "collapsed": true
   },
   "outputs": [
    {
     "data": {
      "image/png": "[encoded data removed]",
      "text/plain": [
       "<matplotlib.figure.Figure at 0x10c893090>"
      ]
     },
     "metadata": {},
     "output_type": "display_data"
    }
   ],
   "source": [
    "leafs = range(1,10,1)\n",
    "scores = []\n",
    "for leaf in leafs:\n",
    "    rfc = RandomForestClassifier(n_estimators=50, min_samples_leaf=leaf, min_samples_split=2, \\\n",
    "                                 class_weight='auto', \\\n",
    "                                 max_features=None, random_state=0, max_depth=20)\n",
    "    scores.append(cross_val_score(rfc, df3[features], df3.vacant, cv=10, scoring='accuracy').mean())\n",
    "plt.plot(leafs, scores, '--');\n",
    "# plt.ylim(0,1);\n",
    "plt.title('Accuracy by min leaf size');"
   ]
  },
  {
   "cell_type": "code",
   "execution_count": 59,
   "metadata": {
    "collapsed": true
   },
   "outputs": [
    {
     "data": {
      "image/png": "[encoded data removed]",
      "text/plain": [
       "<matplotlib.figure.Figure at 0x10d93de90>"
      ]
     },
     "metadata": {},
     "output_type": "display_data"
    }
   ],
   "source": [
    "ests = range(5,60,3)\n",
    "scores = []\n",
    "for e in ests:\n",
    "    rfc = RandomForestClassifier(n_estimators=e, min_samples_leaf=1, min_samples_split=2, \\\n",
    "                                 class_weight='auto', \\\n",
    "                                 max_features=None, random_state=0, max_depth=22)\n",
    "    scores.append(cross_val_score(rfc, df3[features], df3.vacant, cv=10, scoring='accuracy').mean())\n",
    "plt.plot(ests, scores, '--');\n",
    "# plt.ylim(0,1);\n",
    "plt.title('Accuracy by number of estimators');"
   ]
  },
  {
   "cell_type": "code",
   "execution_count": 142,
   "metadata": {
    "collapsed": false
   },
   "outputs": [],
   "source": [
    "# param_grid = { \n",
    "# #     'n_estimators': [100, 700],\n",
    "# #     'class_weight': ['auto',None],\n",
    "#     'min_samples_leaf': [2,4,6],\n",
    "#     'max_depth': [9,12,16]\n",
    "# }\n",
    "# CV_rfc = GridSearchCV(estimator=rfc, param_grid=param_grid, cv=5)\n",
    "# CV_rfc.fit(train[features], y)\n",
    "# print CV_rfc.best_params_"
   ]
  },
  {
   "cell_type": "markdown",
   "metadata": {},
   "source": [
    "#### Evaluation of model"
   ]
  },
  {
   "cell_type": "code",
   "execution_count": 213,
   "metadata": {
    "collapsed": false
   },
   "outputs": [],
   "source": [
    "rfc = RandomForestClassifier(n_estimators=50, min_samples_leaf=2, min_samples_split=2, \\\n",
    "                                 class_weight={0:1, 1:2}, \\\n",
    "                                 max_features=None, random_state=0, max_depth=30)\n",
    "rfc = rfc.fit(train[features], y)\n",
    "sound()"
   ]
  },
  {
   "cell_type": "code",
   "execution_count": 214,
   "metadata": {
    "collapsed": false
   },
   "outputs": [
    {
     "data": {
      "text/html": [
       "<div>\n",
       "<table border=\"1\" class=\"dataframe\">\n",
       "  <thead>\n",
       "    <tr style=\"text-align: right;\">\n",
       "      <th>col_0</th>\n",
       "      <th>0</th>\n",
       "      <th>1</th>\n",
       "    </tr>\n",
       "    <tr>\n",
       "      <th>vacant</th>\n",
       "      <th></th>\n",
       "      <th></th>\n",
       "    </tr>\n",
       "  </thead>\n",
       "  <tbody>\n",
       "    <tr>\n",
       "      <th>0</th>\n",
       "      <td>30016</td>\n",
       "      <td>445</td>\n",
       "    </tr>\n",
       "    <tr>\n",
       "      <th>1</th>\n",
       "      <td>1829</td>\n",
       "      <td>1164</td>\n",
       "    </tr>\n",
       "  </tbody>\n",
       "</table>\n",
       "</div>"
      ],
      "text/plain": [
       "col_0       0     1\n",
       "vacant             \n",
       "0       30016   445\n",
       "1        1829  1164"
      ]
     },
     "execution_count": 214,
     "metadata": {},
     "output_type": "execute_result"
    }
   ],
   "source": [
    "pd.crosstab(test.vacant, rfc.predict(test[features]))"
   ]
  },
  {
   "cell_type": "code",
   "execution_count": 215,
   "metadata": {
    "collapsed": false
   },
   "outputs": [],
   "source": [
    "rfc_prob = rfc.predict_proba(test[features])"
   ]
  },
  {
   "cell_type": "code",
   "execution_count": 216,
   "metadata": {
    "collapsed": false
   },
   "outputs": [
    {
     "name": "stdout",
     "output_type": "stream",
     "text": [
      "0.673237554293\n"
     ]
    },
    {
     "data": {
      "text/html": [
       "<div>\n",
       "<table border=\"1\" class=\"dataframe\">\n",
       "  <thead>\n",
       "    <tr style=\"text-align: right;\">\n",
       "      <th>pred</th>\n",
       "      <th>0.0</th>\n",
       "      <th>1.0</th>\n",
       "    </tr>\n",
       "    <tr>\n",
       "      <th>vacant</th>\n",
       "      <th></th>\n",
       "      <th></th>\n",
       "    </tr>\n",
       "  </thead>\n",
       "  <tbody>\n",
       "    <tr>\n",
       "      <th>0</th>\n",
       "      <td>2539</td>\n",
       "      <td>446</td>\n",
       "    </tr>\n",
       "    <tr>\n",
       "      <th>1</th>\n",
       "      <td>851</td>\n",
       "      <td>1164</td>\n",
       "    </tr>\n",
       "  </tbody>\n",
       "</table>\n",
       "</div>"
      ],
      "text/plain": [
       "pred       0     1\n",
       "vacant            \n",
       "0       2539   446\n",
       "1        851  1164"
      ]
     },
     "execution_count": 216,
     "metadata": {},
     "output_type": "execute_result"
    },
    {
     "data": {
      "image/png": "[encoded data removed]",
      "text/plain": [
       "<matplotlib.figure.Figure at 0x109358690>"
      ]
     },
     "metadata": {},
     "output_type": "display_data"
    }
   ],
   "source": [
    "tem = test.copy()\n",
    "tem['prob'] = rfc_prob[:,1]\n",
    "tem['pred'] = tem.prob.apply(round)\n",
    "plt.hist(tem[tem.vacant==1].prob.values,alpha=0.5,normed=True, bins=20);\n",
    "plt.hist(tem[tem.vacant==0].prob.values,alpha=0.5,normed=True, bins=20);\n",
    "print sum(tem.sort('prob', ascending=False).iloc[0:5000].vacant)*1.0/sum(tem.vacant)\n",
    "pd.crosstab(tem.sort('prob', ascending=False).iloc[0:5000].vacant,tem.sort('prob', ascending=False).iloc[0:5000].pred)"
   ]
  },
  {
   "cell_type": "code",
   "execution_count": 95,
   "metadata": {
    "collapsed": false
   },
   "outputs": [
    {
     "data": {
      "text/html": [
       "<div>\n",
       "<table border=\"1\" class=\"dataframe\">\n",
       "  <thead>\n",
       "    <tr style=\"text-align: right;\">\n",
       "      <th>prob</th>\n",
       "      <th>0.0</th>\n",
       "      <th>1.0</th>\n",
       "    </tr>\n",
       "    <tr>\n",
       "      <th>vacant</th>\n",
       "      <th></th>\n",
       "      <th></th>\n",
       "    </tr>\n",
       "  </thead>\n",
       "  <tbody>\n",
       "    <tr>\n",
       "      <th>0</th>\n",
       "      <td>23014</td>\n",
       "      <td>1628</td>\n",
       "    </tr>\n",
       "    <tr>\n",
       "      <th>1</th>\n",
       "      <td>665</td>\n",
       "      <td>1066</td>\n",
       "    </tr>\n",
       "  </tbody>\n",
       "</table>\n",
       "</div>"
      ],
      "text/plain": [
       "prob        0     1\n",
       "vacant             \n",
       "0       23014  1628\n",
       "1         665  1066"
      ]
     },
     "execution_count": 95,
     "metadata": {},
     "output_type": "execute_result"
    }
   ],
   "source": [
    "pd.crosstab(tem.vacant, (tem.prob+0.3).apply(round))"
   ]
  },
  {
   "cell_type": "code",
   "execution_count": 46,
   "metadata": {
    "collapsed": false
   },
   "outputs": [
    {
     "data": {
      "text/html": [
       "<div>\n",
       "<table border=\"1\" class=\"dataframe\">\n",
       "  <thead>\n",
       "    <tr style=\"text-align: right;\">\n",
       "      <th>vindall_Y</th>\n",
       "      <th>0.0</th>\n",
       "      <th>1.0</th>\n",
       "    </tr>\n",
       "    <tr>\n",
       "      <th>vacant</th>\n",
       "      <th></th>\n",
       "      <th></th>\n",
       "    </tr>\n",
       "  </thead>\n",
       "  <tbody>\n",
       "    <tr>\n",
       "      <th>0</th>\n",
       "      <td>25174</td>\n",
       "      <td>1673</td>\n",
       "    </tr>\n",
       "    <tr>\n",
       "      <th>1</th>\n",
       "      <td>1479</td>\n",
       "      <td>1092</td>\n",
       "    </tr>\n",
       "  </tbody>\n",
       "</table>\n",
       "</div>"
      ],
      "text/plain": [
       "vindall_Y      0     1\n",
       "vacant                \n",
       "0          25174  1673\n",
       "1           1479  1092"
      ]
     },
     "execution_count": 46,
     "metadata": {},
     "output_type": "execute_result"
    }
   ],
   "source": [
    "pd.crosstab(test.vacant,test.vindall_Y)"
   ]
  },
  {
   "cell_type": "code",
   "execution_count": 47,
   "metadata": {
    "collapsed": false
   },
   "outputs": [
    {
     "data": {
      "text/html": [
       "<div>\n",
       "<table border=\"1\" class=\"dataframe\">\n",
       "  <thead>\n",
       "    <tr style=\"text-align: right;\">\n",
       "      <th>prob</th>\n",
       "      <th>0.0</th>\n",
       "      <th>1.0</th>\n",
       "    </tr>\n",
       "    <tr>\n",
       "      <th>vacant</th>\n",
       "      <th></th>\n",
       "      <th></th>\n",
       "    </tr>\n",
       "  </thead>\n",
       "  <tbody>\n",
       "    <tr>\n",
       "      <th>0</th>\n",
       "      <td>26266</td>\n",
       "      <td>581</td>\n",
       "    </tr>\n",
       "    <tr>\n",
       "      <th>1</th>\n",
       "      <td>1246</td>\n",
       "      <td>1325</td>\n",
       "    </tr>\n",
       "  </tbody>\n",
       "</table>\n",
       "</div>"
      ],
      "text/plain": [
       "prob        0     1\n",
       "vacant             \n",
       "0       26266   581\n",
       "1        1246  1325"
      ]
     },
     "execution_count": 47,
     "metadata": {},
     "output_type": "execute_result"
    }
   ],
   "source": [
    "pd.crosstab(tem.vacant, (tem.prob+0.1).apply(round))"
   ]
  },
  {
   "cell_type": "code",
   "execution_count": 286,
   "metadata": {
    "collapsed": false
   },
   "outputs": [
    {
     "data": {
      "text/plain": [
       "(2578, 29578)"
      ]
     },
     "execution_count": 286,
     "metadata": {},
     "output_type": "execute_result"
    }
   ],
   "source": [
    "sum(tem.vacant), len(tem)"
   ]
  },
  {
   "cell_type": "code",
   "execution_count": 322,
   "metadata": {
    "collapsed": false
   },
   "outputs": [
    {
     "data": {
      "text/plain": [
       "0.0023567439"
      ]
     },
     "execution_count": 322,
     "metadata": {},
     "output_type": "execute_result"
    }
   ],
   "source": [
    "tem.iloc[5000].prob"
   ]
  },
  {
   "cell_type": "code",
   "execution_count": 142,
   "metadata": {
    "collapsed": false
   },
   "outputs": [
    {
     "data": {
      "text/plain": [
       "1636.0"
      ]
     },
     "execution_count": 142,
     "metadata": {},
     "output_type": "execute_result"
    }
   ],
   "source": [
    "round(len(tem)*0.05)"
   ]
  },
  {
   "cell_type": "code",
   "execution_count": 143,
   "metadata": {
    "collapsed": false
   },
   "outputs": [
    {
     "data": {
      "text/plain": [
       "(1572, 134)"
      ]
     },
     "execution_count": 143,
     "metadata": {},
     "output_type": "execute_result"
    }
   ],
   "source": [
    "tem[(tem.vacant==1)&(tem.pred==0)].shape"
   ]
  },
  {
   "cell_type": "code",
   "execution_count": 323,
   "metadata": {
    "collapsed": false
   },
   "outputs": [
    {
     "data": {
      "image/png": "[encoded data removed]",
      "text/plain": [
       "<matplotlib.figure.Figure at 0x10c79a410>"
      ]
     },
     "metadata": {},
     "output_type": "display_data"
    }
   ],
   "source": [
    "plt.hist(tem[(tem.vacant==1)&(tem.pred==0)].prob.values);"
   ]
  },
  {
   "cell_type": "code",
   "execution_count": 324,
   "metadata": {
    "collapsed": false
   },
   "outputs": [
    {
     "data": {
      "image/png": "[encoded data removed]",
      "text/plain": [
       "<matplotlib.figure.Figure at 0x122fb53d0>"
      ]
     },
     "metadata": {},
     "output_type": "display_data"
    }
   ],
   "source": [
    "plt.hist(tem[(tem.vacant==0)&(tem.pred==1)].prob.values);"
   ]
  },
  {
   "cell_type": "code",
   "execution_count": 325,
   "metadata": {
    "collapsed": false
   },
   "outputs": [
    {
     "data": {
      "text/html": [
       "<div>\n",
       "<table border=\"1\" class=\"dataframe\">\n",
       "  <thead>\n",
       "    <tr style=\"text-align: right;\">\n",
       "      <th>pred</th>\n",
       "      <th>0.0</th>\n",
       "      <th>1.0</th>\n",
       "    </tr>\n",
       "    <tr>\n",
       "      <th>vacant</th>\n",
       "      <th></th>\n",
       "      <th></th>\n",
       "    </tr>\n",
       "  </thead>\n",
       "  <tbody>\n",
       "    <tr>\n",
       "      <th>0</th>\n",
       "      <td>1000</td>\n",
       "      <td>380</td>\n",
       "    </tr>\n",
       "    <tr>\n",
       "      <th>1</th>\n",
       "      <td>410</td>\n",
       "      <td>1168</td>\n",
       "    </tr>\n",
       "  </tbody>\n",
       "</table>\n",
       "</div>"
      ],
      "text/plain": [
       "pred       0     1\n",
       "vacant            \n",
       "0       1000   380\n",
       "1        410  1168"
      ]
     },
     "execution_count": 325,
     "metadata": {},
     "output_type": "execute_result"
    }
   ],
   "source": [
    "fil = tem.sort('prob',ascending=False)\n",
    "fil['pred'] = fil['prob'].apply(round)\n",
    "fil = fil.iloc[0:int(round(len(tem)*0.1))]\n",
    "pd.crosstab(fil['vacant'], fil['pred'])"
   ]
  },
  {
   "cell_type": "code",
   "execution_count": 96,
   "metadata": {
    "collapsed": false
   },
   "outputs": [
    {
     "name": "stdout",
     "output_type": "stream",
     "text": [
      "Feature ranking:\n",
      "1. feature 74, c_O.V.V. (0.239472)\n",
      "2. feature 87, GRAND_TOTAL_BALANCE (0.133909)\n",
      "3. feature 26, tmktval (0.062929)\n",
      "4. feature 62, vindall_Y (0.051582)\n",
      "5. feature 25, totusabl (0.051414)\n",
      "6. feature 30, yrbuilt_filtered (0.030463)\n",
      "7. feature 64, violations_number (0.026351)\n",
      "8. feature 27, condition_value (0.024652)\n",
      "9. feature 60, num_of_transfers (0.017927)\n",
      "10. feature 80, foreclosure_flag (0.015730)\n",
      "11. feature 65, violations_number_1_yr (0.013812)\n",
      "12. feature 31, vacant_block (0.013056)\n",
      "13. feature 32, owner (0.012433)\n",
      "14. feature 40, bachelors+ (0.012421)\n",
      "15. feature 47, other (0.011932)\n",
      "16. feature 33, renter (0.011583)\n",
      "17. feature 51, old (0.011462)\n",
      "18. feature 36, burglaries (0.011019)\n",
      "19. feature 42, median_hh_income (0.010924)\n",
      "20. feature 34, median_rent (0.010709)\n"
     ]
    },
    {
     "data": {
      "image/png": "[encoded data removed]",
      "text/plain": [
       "<matplotlib.figure.Figure at 0x109dbd590>"
      ]
     },
     "metadata": {},
     "output_type": "display_data"
    }
   ],
   "source": [
    "# plot the top ten features\n",
    "\n",
    "importances = rfc.feature_importances_\n",
    "std = np.std([tree.feature_importances_ for tree in rfc.estimators_],\n",
    "             axis=0)\n",
    "indices = np.argsort(importances)[::-1]\n",
    "\n",
    "# Print the feature ranking\n",
    "print(\"Feature ranking:\")\n",
    "\n",
    "for f in range(20):\n",
    "    print(\"%d. feature %d, %s (%f)\" % (f + 1, indices[f], features[indices[f]], importances[indices[f]]))\n",
    "# Plot the feature importances of the forest\n",
    "plt.figure()\n",
    "plt.title(\"Feature importances\")\n",
    "plt.bar(range(10), importances[indices[0:10]], yerr=std[indices[0:10]], align=\"center\")\n",
    "plt.xticks(range(10), indices[0:10])\n",
    "plt.xlim([-1, 10])\n",
    "plt.show()"
   ]
  },
  {
   "cell_type": "code",
   "execution_count": 99,
   "metadata": {
    "collapsed": false
   },
   "outputs": [
    {
     "data": {
      "text/plain": [
       "0.0"
      ]
     },
     "execution_count": 99,
     "metadata": {},
     "output_type": "execute_result"
    }
   ],
   "source": [
    "sum(df3.auction_13)"
   ]
  },
  {
   "cell_type": "code",
   "execution_count": 97,
   "metadata": {
    "collapsed": false
   },
   "outputs": [
    {
     "name": "stdout",
     "output_type": "stream",
     "text": [
      "Feature ranking (least important):\n",
      "1. feature 88, is_train (0.000000)\n",
      "2. feature 86, auction_all (0.000000)\n",
      "3. feature 85, auction_13 (0.000000)\n",
      "4. feature 24, style__Townhouse (0.000125)\n",
      "5. feature 66, c_Black Mold (0.000143)\n",
      "6. feature 82, fc_newly_filed (0.000162)\n",
      "7. feature 6, deed__Sheriffs Deed (0.000197)\n",
      "8. feature 61, county_land_bank (0.000272)\n",
      "9. feature 1, deed__Limited Warranty (0.000286)\n",
      "10. feature 55, limited_warranty (0.000315)\n",
      "11. feature 22, style__Other (0.000398)\n",
      "12. feature 70, c_Electrical (0.000515)\n",
      "13. feature 57, fiduciary_deed (0.000600)\n",
      "14. feature 69, c_Debris/Garbage/Junk (Occupied) (0.000613)\n",
      "15. feature 67, c_Collapsing Structure (0.000659)\n",
      "16. feature 78, complaint_count_3_mon (0.000684)\n",
      "17. feature 63, vindall_P (0.000714)\n",
      "18. feature 73, c_No Permit (0.000755)\n",
      "19. feature 19, style__Bungalow (0.000830)\n",
      "20. feature 9, deed__Warranty Deed Ex (0.000854)\n"
     ]
    },
    {
     "data": {
      "image/png": "[encoded data removed]",
      "text/plain": [
       "<matplotlib.figure.Figure at 0x109dbc210>"
      ]
     },
     "metadata": {},
     "output_type": "display_data"
    }
   ],
   "source": [
    "# Print the feature ranking\n",
    "print(\"Feature ranking (least important):\")\n",
    "\n",
    "for f in range(20):\n",
    "    print(\"%d. feature %d, %s (%f)\" % (f + 1, indices[-f-1], features[indices[-f-1]], importances[indices[-f-1]]))\n",
    "# Plot the feature importances of the forest\n",
    "plt.figure()\n",
    "plt.title(\"Feature importances\")\n",
    "plt.bar(range(10), importances[indices[-10:]], yerr=std[indices[-10:]], align=\"center\")\n",
    "plt.xticks(range(10), indices[-10:])\n",
    "plt.xlim([-1, 10])\n",
    "plt.show()"
   ]
  },
  {
   "cell_type": "markdown",
   "metadata": {},
   "source": [
    "### Logistic Regressor"
   ]
  },
  {
   "cell_type": "code",
   "execution_count": 334,
   "metadata": {
    "collapsed": false
   },
   "outputs": [],
   "source": [
    "train_lr = preprocessing.scale(train[features])\n",
    "test_lr = preprocessing.scale(test[features])"
   ]
  },
  {
   "cell_type": "code",
   "execution_count": 382,
   "metadata": {
    "collapsed": false
   },
   "outputs": [
    {
     "data": {
      "text/plain": [
       "LogisticRegression(C=1.0, class_weight={0: 1, 1: 2}, dual=False,\n",
       "          fit_intercept=True, intercept_scaling=1, max_iter=100,\n",
       "          multi_class='ovr', penalty='l2', random_state=None,\n",
       "          solver='liblinear', tol=0.0001, verbose=0)"
      ]
     },
     "execution_count": 382,
     "metadata": {},
     "output_type": "execute_result"
    }
   ],
   "source": [
    "lr = LogisticRegression(class_weight={0:1, 1:2})\n",
    "lr.fit(pd.DataFrame(train_lr, columns = features), y)"
   ]
  },
  {
   "cell_type": "code",
   "execution_count": 381,
   "metadata": {
    "collapsed": false
   },
   "outputs": [
    {
     "data": {
      "text/html": [
       "<div>\n",
       "<table border=\"1\" class=\"dataframe\">\n",
       "  <thead>\n",
       "    <tr style=\"text-align: right;\">\n",
       "      <th>preds</th>\n",
       "      <th>0</th>\n",
       "      <th>1</th>\n",
       "    </tr>\n",
       "    <tr>\n",
       "      <th>actual</th>\n",
       "      <th></th>\n",
       "      <th></th>\n",
       "    </tr>\n",
       "  </thead>\n",
       "  <tbody>\n",
       "    <tr>\n",
       "      <th>0</th>\n",
       "      <td>26689</td>\n",
       "      <td>311</td>\n",
       "    </tr>\n",
       "    <tr>\n",
       "      <th>1</th>\n",
       "      <td>1550</td>\n",
       "      <td>1028</td>\n",
       "    </tr>\n",
       "  </tbody>\n",
       "</table>\n",
       "</div>"
      ],
      "text/plain": [
       "preds       0     1\n",
       "actual             \n",
       "0       26689   311\n",
       "1        1550  1028"
      ]
     },
     "execution_count": 381,
     "metadata": {},
     "output_type": "execute_result"
    }
   ],
   "source": [
    "pd.crosstab(test['vacant'], lr.predict(pd.DataFrame(test_lr, columns = features)), rownames=['actual'], colnames=['preds'])"
   ]
  },
  {
   "cell_type": "code",
   "execution_count": 343,
   "metadata": {
    "collapsed": false
   },
   "outputs": [
    {
     "data": {
      "text/html": [
       "<div>\n",
       "<table border=\"1\" class=\"dataframe\">\n",
       "  <thead>\n",
       "    <tr style=\"text-align: right;\">\n",
       "      <th>preds</th>\n",
       "      <th>0</th>\n",
       "      <th>1</th>\n",
       "    </tr>\n",
       "    <tr>\n",
       "      <th>actual</th>\n",
       "      <th></th>\n",
       "      <th></th>\n",
       "    </tr>\n",
       "  </thead>\n",
       "  <tbody>\n",
       "    <tr>\n",
       "      <th>0</th>\n",
       "      <td>26689</td>\n",
       "      <td>311</td>\n",
       "    </tr>\n",
       "    <tr>\n",
       "      <th>1</th>\n",
       "      <td>1550</td>\n",
       "      <td>1028</td>\n",
       "    </tr>\n",
       "  </tbody>\n",
       "</table>\n",
       "</div>"
      ],
      "text/plain": [
       "preds       0     1\n",
       "actual             \n",
       "0       26689   311\n",
       "1        1550  1028"
      ]
     },
     "execution_count": 343,
     "metadata": {},
     "output_type": "execute_result"
    }
   ],
   "source": [
    "pd.crosstab(test['vacant'], lr.predict(pd.DataFrame(test_lr, columns = features)), rownames=['actual'], colnames=['preds'])"
   ]
  },
  {
   "cell_type": "code",
   "execution_count": 346,
   "metadata": {
    "collapsed": false
   },
   "outputs": [
    {
     "data": {
      "text/plain": [
       "array([[  1.57375639e-02,   4.37676849e-02,   1.00628089e-02,\n",
       "          1.13201435e-02,   2.09715741e-02,   1.16242473e-02,\n",
       "          1.23275749e-01,   2.20340565e-02,   2.08475174e-02,\n",
       "          8.66040975e-03,   4.68127860e-02,   4.50823906e-02,\n",
       "          4.45265557e-02,   1.28707941e-02,   3.66715958e-02,\n",
       "          9.48174585e-03,   5.04114534e-02,   2.87617108e-03,\n",
       "          3.52261501e-02,   1.52302445e-02,   3.95509299e-03,\n",
       "          7.94405119e-03,   2.38944448e-02,   1.23326079e-02,\n",
       "          5.50237643e-02,   2.33603937e-02,   3.24453308e-01,\n",
       "          3.14600191e-01,   1.45127972e-01,   6.75484639e-05,\n",
       "          1.20134504e-01,   1.08188638e-01,   6.09684198e-02,\n",
       "          4.83039116e-02,   2.66717793e-02,   9.87187809e-02,\n",
       "          6.43297738e-02,   1.08532744e-02,   4.80049365e-02,\n",
       "          4.76435356e-02,   4.57238319e-02,   7.57005820e-02,\n",
       "          4.21688320e-02,   8.42267080e-02,   2.13027519e-02,\n",
       "          4.48471573e-02,   5.60638491e-02,   2.65106657e-02,\n",
       "          1.57887168e-01,   3.72945708e-02,   5.89722546e-02,\n",
       "          4.91079488e-02,   7.62385681e-02,   6.90941767e-03,\n",
       "          8.01651821e-04,   2.37894926e-03,   9.57721288e-04,\n",
       "          1.43218489e-02,   1.22504935e-01,   5.90109298e-02,\n",
       "          1.29114938e-01,   7.09048502e-02,   3.41890698e-01,\n",
       "          2.65944983e-02,   2.91209516e-01,   3.60882376e-01,\n",
       "          8.43497988e-02,   1.97969919e-02,   1.13877203e-02,\n",
       "          5.68606821e-02,   3.79022163e-02,   5.25007837e-02,\n",
       "          5.54043952e-02,   9.13204084e-02,   6.91484275e-03,\n",
       "          1.31177651e-02,   1.98104159e-02,   3.06183304e-03,\n",
       "          9.49702396e-02,   1.16467123e-01,   3.47597379e-03,\n",
       "          4.63873323e-02,   1.08375847e-02,   4.54863546e-04,\n",
       "          3.82969268e-03,   1.45441178e-02,   5.38455537e-02,\n",
       "          3.54170948e-02,   3.11580327e-02,   1.48636351e-02,\n",
       "          4.08529150e-03,   1.88751315e-02,   3.16475549e-03,\n",
       "          1.01587945e-02,   2.07859506e-02,   2.48512650e-02,\n",
       "          9.07780537e-03,   5.94798486e-03,   3.52515990e-02,\n",
       "          2.49976893e-01,   3.54764956e-02,   5.25885708e-02,\n",
       "          7.46573076e-02,   9.57591191e-03,   1.75521828e-01,\n",
       "          2.40686654e-02,   1.00024393e-01,   9.76059146e-03,\n",
       "          1.21149620e-01,   6.04295569e-02,   0.00000000e+00,\n",
       "          3.54598293e-01,   0.00000000e+00,   0.00000000e+00]])"
      ]
     },
     "execution_count": 346,
     "metadata": {},
     "output_type": "execute_result"
    }
   ],
   "source": [
    "abs(lr.coef_)"
   ]
  },
  {
   "cell_type": "code",
   "execution_count": 360,
   "metadata": {
    "collapsed": false
   },
   "outputs": [
    {
     "name": "stdout",
     "output_type": "stream",
     "text": [
      "Feature ranking:\n",
      "1. feature 65, application acceptance count (0.360882)\n",
      "2. feature 111, GRAND_TOTAL_BALANCE (0.354598)\n",
      "3. feature 62, vindall_Y (0.341891)\n",
      "4. feature 26, tmktval (-0.324453)\n",
      "5. feature 27, condition_value (-0.314600)\n",
      "6. feature 64, closure count (-0.291210)\n",
      "7. feature 99, c_O.V.V. (0.249977)\n",
      "8. feature 104, active_fc (0.175522)\n",
      "9. feature 48, hispanic (-0.157887)\n",
      "10. feature 28, ownerocc_value (-0.145128)\n",
      "11. feature 60, num_of_transfers (-0.129115)\n",
      "12. feature 6, deed__Sheriffs Deed (0.123276)\n",
      "13. feature 58, AMOUNT_PAID (0.122505)\n",
      "14. feature 108, fc_default (0.121150)\n",
      "15. feature 30, yrbuilt_filtered (-0.120135)\n",
      "16. feature 79, v_condemnation - main structure_count (0.116467)\n",
      "17. feature 31, vacant_block (0.108189)\n",
      "18. feature 106, fc_dis_w/o_prej (0.100024)\n",
      "19. feature 35, property_crimes (0.098719)\n",
      "20. feature 78, v_condemnation - garage_count (-0.094970)\n",
      "\n",
      "Feature ranking (least important):\n",
      "1. feature 113, is_train (0.000000)\n",
      "2. feature 110, auction (0.000000)\n",
      "3. feature 112, pclass_filtered (0.000000)\n",
      "4. feature 29, totbldgs (0.000068)\n",
      "5. feature 83, v_general maintenance_count (0.000455)\n",
      "6. feature 54, warranty_deed (0.000802)\n",
      "7. feature 56, survivorship_deed (0.000958)\n",
      "8. feature 55, limited_warranty (-0.002379)\n",
      "9. feature 17, ext__Frame (r) (-0.002876)\n",
      "10. feature 77, v_30 day fire damage repair ms_count (-0.003062)\n",
      "11. feature 92, c_Collapsing Structure (-0.003165)\n",
      "12. feature 80, v_condemnation - shed_count (0.003476)\n",
      "13. feature 84, v_hvac_count (0.003830)\n",
      "14. feature 20, style__Cape Cod (-0.003955)\n",
      "15. feature 90, v_vacate_count (-0.004085)\n",
      "16. feature 97, c_General Exterior Maintenance (0.005948)\n",
      "17. feature 53, quit_claim_deed (0.006909)\n",
      "18. feature 74, v_30 day condemnation_count (0.006915)\n",
      "19. feature 21, style__Colonial (0.007944)\n",
      "20. feature 9, deed__Warranty Deed Ex (0.008660)\n"
     ]
    }
   ],
   "source": [
    "importances = lr.coef_[0]\n",
    "# std = np.std([tree.feature_importances_ for tree in lr.estimators_],\n",
    "#              axis=0)\n",
    "indices = np.argsort(abs(importances))[::-1]\n",
    "\n",
    "# Print the feature ranking\n",
    "print(\"Feature ranking:\")\n",
    "\n",
    "for f in range(20):\n",
    "    print(\"%d. feature %d, %s (%f)\" % (f + 1, indices[f], features[indices[f]], importances[indices[f]]))\n",
    "print(\"\\nFeature ranking (least important):\")\n",
    "for f in range(20):\n",
    "    print(\"%d. feature %d, %s (%f)\" % (f + 1, indices[-f-1], features[indices[-f-1]], importances[indices[-f-1]]))"
   ]
  },
  {
   "cell_type": "markdown",
   "metadata": {},
   "source": [
    "### Adaboost Classifier"
   ]
  },
  {
   "cell_type": "code",
   "execution_count": 188,
   "metadata": {
    "collapsed": true
   },
   "outputs": [],
   "source": [
    "from sklearn.ensemble import AdaBoostClassifier"
   ]
  },
  {
   "cell_type": "code",
   "execution_count": 189,
   "metadata": {
    "collapsed": false
   },
   "outputs": [
    {
     "data": {
      "text/plain": [
       "AdaBoostClassifier(algorithm='SAMME.R', base_estimator=None,\n",
       "          learning_rate=1.0, n_estimators=50, random_state=0)"
      ]
     },
     "execution_count": 189,
     "metadata": {},
     "output_type": "execute_result"
    }
   ],
   "source": [
    "abc = AdaBoostClassifier(n_estimators=50, random_state=0)\n",
    "abc.fit(train[features], y)"
   ]
  },
  {
   "cell_type": "code",
   "execution_count": 190,
   "metadata": {
    "collapsed": false
   },
   "outputs": [
    {
     "data": {
      "text/plain": [
       "0.85570079795738163"
      ]
     },
     "execution_count": 190,
     "metadata": {},
     "output_type": "execute_result"
    }
   ],
   "source": [
    "cross_val_score(abc, df3[features], df3.vacant, cv=10, scoring='accuracy').mean()"
   ]
  },
  {
   "cell_type": "code",
   "execution_count": 192,
   "metadata": {
    "collapsed": true
   },
   "outputs": [],
   "source": [
    "sound()"
   ]
  },
  {
   "cell_type": "code",
   "execution_count": 74,
   "metadata": {
    "collapsed": false
   },
   "outputs": [],
   "source": [
    "abc_prob = abc.predict_proba(test[features])"
   ]
  },
  {
   "cell_type": "code",
   "execution_count": 193,
   "metadata": {
    "collapsed": false
   },
   "outputs": [
    {
     "data": {
      "text/html": [
       "<div>\n",
       "<table border=\"1\" class=\"dataframe\">\n",
       "  <thead>\n",
       "    <tr style=\"text-align: right;\">\n",
       "      <th>preds</th>\n",
       "      <th>0</th>\n",
       "      <th>1</th>\n",
       "    </tr>\n",
       "    <tr>\n",
       "      <th>actual</th>\n",
       "      <th></th>\n",
       "      <th></th>\n",
       "    </tr>\n",
       "  </thead>\n",
       "  <tbody>\n",
       "    <tr>\n",
       "      <th>0</th>\n",
       "      <td>32801</td>\n",
       "      <td>556</td>\n",
       "    </tr>\n",
       "    <tr>\n",
       "      <th>1</th>\n",
       "      <td>2078</td>\n",
       "      <td>1614</td>\n",
       "    </tr>\n",
       "  </tbody>\n",
       "</table>\n",
       "</div>"
      ],
      "text/plain": [
       "preds       0     1\n",
       "actual             \n",
       "0       32801   556\n",
       "1        2078  1614"
      ]
     },
     "execution_count": 193,
     "metadata": {},
     "output_type": "execute_result"
    }
   ],
   "source": [
    "pd.crosstab(test['vacant'], abc.predict(test[features]), rownames=['actual'], colnames=['preds'])"
   ]
  },
  {
   "cell_type": "markdown",
   "metadata": {},
   "source": [
    "### Single decision tree"
   ]
  },
  {
   "cell_type": "code",
   "execution_count": 194,
   "metadata": {
    "collapsed": false
   },
   "outputs": [],
   "source": [
    "from sklearn import tree"
   ]
  },
  {
   "cell_type": "code",
   "execution_count": 77,
   "metadata": {
    "collapsed": false
   },
   "outputs": [
    {
     "data": {
      "image/png": "[encoded data removed]",
      "text/plain": [
       "<matplotlib.figure.Figure at 0x10d9270d0>"
      ]
     },
     "metadata": {},
     "output_type": "display_data"
    }
   ],
   "source": [
    "leafs = range(1,20,1)\n",
    "scores = []\n",
    "for leaf in leafs:\n",
    "    clf = tree.DecisionTreeClassifier(class_weight='auto', min_samples_leaf=leaf)\n",
    "    scores.append(cross_val_score(clf, df3[features], df3.vacant, cv=10, scoring='accuracy').mean())\n",
    "plt.plot(leafs, scores, '--');"
   ]
  },
  {
   "cell_type": "code",
   "execution_count": 195,
   "metadata": {
    "collapsed": false
   },
   "outputs": [],
   "source": [
    "clf = tree.DecisionTreeClassifier(class_weight='auto', min_samples_leaf=2)\n",
    "clf = clf.fit(train[features], y)"
   ]
  },
  {
   "cell_type": "code",
   "execution_count": 196,
   "metadata": {
    "collapsed": false
   },
   "outputs": [
    {
     "data": {
      "text/plain": [
       "0.76765186629132975"
      ]
     },
     "execution_count": 196,
     "metadata": {},
     "output_type": "execute_result"
    }
   ],
   "source": [
    "cross_val_score(clf, df3[features], df3.vacant, cv=10, scoring='accuracy').mean()"
   ]
  },
  {
   "cell_type": "code",
   "execution_count": 197,
   "metadata": {
    "collapsed": false
   },
   "outputs": [
    {
     "data": {
      "text/html": [
       "<div>\n",
       "<table border=\"1\" class=\"dataframe\">\n",
       "  <thead>\n",
       "    <tr style=\"text-align: right;\">\n",
       "      <th>preds</th>\n",
       "      <th>0</th>\n",
       "      <th>1</th>\n",
       "    </tr>\n",
       "    <tr>\n",
       "      <th>actual</th>\n",
       "      <th></th>\n",
       "      <th></th>\n",
       "    </tr>\n",
       "  </thead>\n",
       "  <tbody>\n",
       "    <tr>\n",
       "      <th>0</th>\n",
       "      <td>31251</td>\n",
       "      <td>2106</td>\n",
       "    </tr>\n",
       "    <tr>\n",
       "      <th>1</th>\n",
       "      <td>1478</td>\n",
       "      <td>2214</td>\n",
       "    </tr>\n",
       "  </tbody>\n",
       "</table>\n",
       "</div>"
      ],
      "text/plain": [
       "preds       0     1\n",
       "actual             \n",
       "0       31251  2106\n",
       "1        1478  2214"
      ]
     },
     "execution_count": 197,
     "metadata": {},
     "output_type": "execute_result"
    }
   ],
   "source": [
    "pd.crosstab(test['vacant'], clf.predict(test[features]), rownames=['actual'], colnames=['preds'])"
   ]
  },
  {
   "cell_type": "markdown",
   "metadata": {},
   "source": [
    "## xgboost"
   ]
  },
  {
   "cell_type": "code",
   "execution_count": 227,
   "metadata": {
    "collapsed": false
   },
   "outputs": [
    {
     "data": {
      "text/plain": [
       "array([[0.0, 0.0, 1.0, ..., 2503.22, 1, True],\n",
       "       [0.0, 0.0, 0.0, ..., 2367.62, 1, True],\n",
       "       [0.0, 0.0, 0.0, ..., 2486.62, 1, True],\n",
       "       ..., \n",
       "       [0.0, 0.0, 0.0, ..., 3185.46, 1, True],\n",
       "       [1.0, 0.0, 0.0, ..., 2158.96, 1, True],\n",
       "       [0.0, 0.0, 0.0, ..., 2825.78, 1, True]], dtype=object)"
      ]
     },
     "execution_count": 227,
     "metadata": {},
     "output_type": "execute_result"
    }
   ],
   "source": [
    "train.as_matrix()"
   ]
  },
  {
   "cell_type": "code",
   "execution_count": 312,
   "metadata": {
    "collapsed": false
   },
   "outputs": [],
   "source": [
    "xgtest = test[features].as_matrix()\n",
    "#create train and validation dmatrices \n",
    "xgtrain = train[features].as_matrix()"
   ]
  },
  {
   "cell_type": "code",
   "execution_count": 363,
   "metadata": {
    "collapsed": false
   },
   "outputs": [],
   "source": [
    "gbm = xgb.XGBClassifier(max_depth=50, n_estimators=100, learning_rate=0.1).fit(xgtrain, y)\n",
    "predictions = gbm.predict(xgtest)\n",
    "probs = gbm.predict_proba(xgtest)"
   ]
  },
  {
   "cell_type": "code",
   "execution_count": 364,
   "metadata": {
    "collapsed": false
   },
   "outputs": [
    {
     "data": {
      "text/html": [
       "<div>\n",
       "<table border=\"1\" class=\"dataframe\">\n",
       "  <thead>\n",
       "    <tr style=\"text-align: right;\">\n",
       "      <th>col_0</th>\n",
       "      <th>0</th>\n",
       "      <th>1</th>\n",
       "    </tr>\n",
       "    <tr>\n",
       "      <th>vacant</th>\n",
       "      <th></th>\n",
       "      <th></th>\n",
       "    </tr>\n",
       "  </thead>\n",
       "  <tbody>\n",
       "    <tr>\n",
       "      <th>0</th>\n",
       "      <td>26627</td>\n",
       "      <td>373</td>\n",
       "    </tr>\n",
       "    <tr>\n",
       "      <th>1</th>\n",
       "      <td>1415</td>\n",
       "      <td>1163</td>\n",
       "    </tr>\n",
       "  </tbody>\n",
       "</table>\n",
       "</div>"
      ],
      "text/plain": [
       "col_0       0     1\n",
       "vacant             \n",
       "0       26627   373\n",
       "1        1415  1163"
      ]
     },
     "execution_count": 364,
     "metadata": {},
     "output_type": "execute_result"
    }
   ],
   "source": [
    "pd.crosstab(test['vacant'],predictions)"
   ]
  },
  {
   "cell_type": "code",
   "execution_count": 365,
   "metadata": {
    "collapsed": true
   },
   "outputs": [],
   "source": [
    "sound()"
   ]
  },
  {
   "cell_type": "code",
   "execution_count": 366,
   "metadata": {
    "collapsed": false
   },
   "outputs": [
    {
     "name": "stdout",
     "output_type": "stream",
     "text": [
      "0.723041117145\n"
     ]
    },
    {
     "data": {
      "text/html": [
       "<div>\n",
       "<table border=\"1\" class=\"dataframe\">\n",
       "  <thead>\n",
       "    <tr style=\"text-align: right;\">\n",
       "      <th>pred</th>\n",
       "      <th>0.0</th>\n",
       "      <th>1.0</th>\n",
       "    </tr>\n",
       "    <tr>\n",
       "      <th>vacant</th>\n",
       "      <th></th>\n",
       "      <th></th>\n",
       "    </tr>\n",
       "  </thead>\n",
       "  <tbody>\n",
       "    <tr>\n",
       "      <th>0</th>\n",
       "      <td>2763</td>\n",
       "      <td>373</td>\n",
       "    </tr>\n",
       "    <tr>\n",
       "      <th>1</th>\n",
       "      <td>701</td>\n",
       "      <td>1163</td>\n",
       "    </tr>\n",
       "  </tbody>\n",
       "</table>\n",
       "</div>"
      ],
      "text/plain": [
       "pred       0     1\n",
       "vacant            \n",
       "0       2763   373\n",
       "1        701  1163"
      ]
     },
     "execution_count": 366,
     "metadata": {},
     "output_type": "execute_result"
    },
    {
     "data": {
      "image/png": "[encoded data removed]",
      "text/plain": [
       "<matplotlib.figure.Figure at 0x10f980110>"
      ]
     },
     "metadata": {},
     "output_type": "display_data"
    }
   ],
   "source": [
    "tem = test.copy()\n",
    "tem['prob'] = probs[:,1]\n",
    "tem['pred'] = tem.prob.apply(round)\n",
    "plt.hist(tem[tem.vacant==1].prob.values,alpha=0.5,normed=True, bins=20);\n",
    "plt.hist(tem[tem.vacant==0].prob.values,alpha=0.5,normed=True, bins=20);\n",
    "print sum(tem.sort('prob', ascending=False).iloc[0:5000].vacant)*1.0/sum(tem.vacant)\n",
    "pd.crosstab(tem.sort('prob', ascending=False).iloc[0:5000].vacant,tem.sort('prob', ascending=False).iloc[0:5000].pred)"
   ]
  },
  {
   "cell_type": "code",
   "execution_count": 262,
   "metadata": {
    "collapsed": false
   },
   "outputs": [
    {
     "data": {
      "text/html": [
       "<div>\n",
       "<table border=\"1\" class=\"dataframe\">\n",
       "  <thead>\n",
       "    <tr style=\"text-align: right;\">\n",
       "      <th>pred</th>\n",
       "      <th>0.0</th>\n",
       "      <th>1.0</th>\n",
       "    </tr>\n",
       "    <tr>\n",
       "      <th>vacant</th>\n",
       "      <th></th>\n",
       "      <th></th>\n",
       "    </tr>\n",
       "  </thead>\n",
       "  <tbody>\n",
       "    <tr>\n",
       "      <th>0</th>\n",
       "      <td>1748</td>\n",
       "      <td>303</td>\n",
       "    </tr>\n",
       "    <tr>\n",
       "      <th>1</th>\n",
       "      <td>342</td>\n",
       "      <td>2607</td>\n",
       "    </tr>\n",
       "  </tbody>\n",
       "</table>\n",
       "</div>"
      ],
      "text/plain": [
       "pred       0     1\n",
       "vacant            \n",
       "0       1748   303\n",
       "1        342  2607"
      ]
     },
     "execution_count": 262,
     "metadata": {},
     "output_type": "execute_result"
    }
   ],
   "source": [
    "pd.crosstab(tem.sort('prob', ascending=False).iloc[0:5000].vacant,tem.sort('prob', ascending=False).iloc[0:5000].pred)"
   ]
  },
  {
   "cell_type": "code",
   "execution_count": 253,
   "metadata": {
    "collapsed": false
   },
   "outputs": [
    {
     "data": {
      "text/html": [
       "<div>\n",
       "<table border=\"1\" class=\"dataframe\">\n",
       "  <thead>\n",
       "    <tr style=\"text-align: right;\">\n",
       "      <th>pred</th>\n",
       "      <th>0.0</th>\n",
       "      <th>1.0</th>\n",
       "    </tr>\n",
       "    <tr>\n",
       "      <th>vacant</th>\n",
       "      <th></th>\n",
       "      <th></th>\n",
       "    </tr>\n",
       "  </thead>\n",
       "  <tbody>\n",
       "    <tr>\n",
       "      <th>0</th>\n",
       "      <td>2247</td>\n",
       "      <td>479</td>\n",
       "    </tr>\n",
       "    <tr>\n",
       "      <th>1</th>\n",
       "      <td>751</td>\n",
       "      <td>1523</td>\n",
       "    </tr>\n",
       "  </tbody>\n",
       "</table>\n",
       "</div>"
      ],
      "text/plain": [
       "pred       0     1\n",
       "vacant            \n",
       "0       2247   479\n",
       "1        751  1523"
      ]
     },
     "execution_count": 253,
     "metadata": {},
     "output_type": "execute_result"
    }
   ],
   "source": [
    "pd.crosstab(tem.sort('prob', ascending=False).iloc[0:5000].vacant,tem.sort('prob', ascending=False).iloc[0:5000].pred)"
   ]
  }
 ],
 "metadata": {
  "kernelspec": {
   "display_name": "Python 2",
   "language": "python",
   "name": "python2"
  },
  "language_info": {
   "codemirror_mode": {
    "name": "ipython",
    "version": 2
   },
   "file_extension": ".py",
   "mimetype": "text/x-python",
   "name": "python",
   "nbconvert_exporter": "python",
   "pygments_lexer": "ipython2",
   "version": "2.7.10"
  }
 },
 "nbformat": 4,
 "nbformat_minor": 0
}
