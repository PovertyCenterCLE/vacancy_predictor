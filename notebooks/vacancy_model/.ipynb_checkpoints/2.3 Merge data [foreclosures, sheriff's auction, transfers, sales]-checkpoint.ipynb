{
 "cells": [
  {
   "cell_type": "code",
   "execution_count": 1,
   "metadata": {
    "collapsed": false
   },
   "outputs": [
    {
     "name": "stdout",
     "output_type": "stream",
     "text": [
      "/Volumes/Dropbox/largetransfer/luc/carter\n",
      "(113132, 6)\n"
     ]
    }
   ],
   "source": [
    "import matplotlib.pyplot as plt\n",
    "import seaborn as sns\n",
    "import pandas as pd\n",
    "import numpy as np\n",
    "import os\n",
    "import datetime as dt\n",
    "%matplotlib inline\n",
    "sns.set_context('notebook')\n",
    "\n",
    "path = '/'.join(os.getcwd().split('/')[:-2])\n",
    "print(path)\n",
    "\n",
    "tci = pd.read_csv(path+'/data/model_data/tci_1_0.csv', parse_dates=['Date'], dtype={'PIN': str})\n",
    "cols = ['parcel','vacant','Date','Survey Category','Survey Grade','SPA_NAME']\n",
    "tci = tci[cols]\n",
    "\n",
    "ppns = set(tci['parcel'])\n",
    "dates = dict(zip(tci.parcel, tci.Date))\n",
    "\n",
    "print(tci.shape)"
   ]
  },
  {
   "cell_type": "code",
   "execution_count": 2,
   "metadata": {
    "collapsed": false
   },
   "outputs": [],
   "source": [
    "# read data sets\n",
    "fc = pd.read_csv(path+'/data/clean_data/foreclosure_filings2.csv', parse_dates=[2])\n",
    "sa = pd.read_csv(path+'/data/clean_data/sheriff_auction.csv', parse_dates=[2], encoding=\"ISO-8859-1\")\n",
    "\n",
    "t = pd.read_csv(path+'/data/clean_data/transfers.csv', parse_dates=['mdate'], dtype=str)\n",
    "t = t.sort_values('mdate', ascending=False)\n",
    "\n",
    "al = pd.read_csv(path+'/data/clean_data/armslength.csv', dtype=str)\n",
    "al = al.drop_duplicates()\n",
    "\n",
    "# parse armslength dates\n",
    "months = dict(zip(['JAN','FEB','MAR','APR','MAY','JUN','JUL','AUG','SEP','OCT','NOV','DEC'],range(1,13)))\n",
    "def parse_date(x):\n",
    "    day = int(x[0:2])\n",
    "    month = months[x[2:5]]\n",
    "    year = int(x[5:])\n",
    "    return dt.datetime(year,month,day)\n",
    "\n",
    "al['date'] = al.mdate.apply(parse_date)\n",
    "al = al.sort_values('date')\n",
    "\n",
    "def parse_amount(x):\n",
    "    return float(str(x)[1:].replace(',',''))"
   ]
  },
  {
   "cell_type": "markdown",
   "metadata": {},
   "source": [
    "## Foreclosure data"
   ]
  },
  {
   "cell_type": "code",
   "execution_count": 3,
   "metadata": {
    "collapsed": false
   },
   "outputs": [],
   "source": [
    "df = tci.copy()\n",
    "\n",
    "# foreclosures\n",
    "fc_copy = fc.loc[fc.apply(lambda x: x.filedate < dates[x.parcel], axis=1)].sort_values('filedate')\n",
    "fc_copy = fc_copy.groupby('caseno').last()\n",
    "fc_copy = pd.merge(fc_copy, tci[['parcel','Date']].set_index('parcel'), how='left',left_on='parcel',right_index=True)\n",
    "\n",
    "# is it an active foreclosure\n",
    "df.loc[df.parcel.isin(fc_copy.loc[fc_copy.status=='Active','parcel']),'active_fc'] = 1\n",
    "df.loc[df.active_fc.isnull(),'active_fc'] = 0\n",
    "\n",
    "# has it had a foreclosure in the last year\n",
    "df.loc[df.parcel.isin(fc_copy[fc_copy.filedate > (fc_copy.Date-pd.DateOffset(years=1))].parcel),'fc_1yr'] = 1\n",
    "df.loc[df.fc_1yr.isnull(), 'fc_1yr'] = 0\n",
    "# has it had a foreclosure in the last 2 years\n",
    "df.loc[df.parcel.isin(fc_copy[fc_copy.filedate > (fc_copy.Date-pd.DateOffset(years=2))].parcel),'fc_2yr'] = 1\n",
    "df.loc[df.fc_2yr.isnull(), 'fc_2yr'] = 0\n",
    "\n",
    "# days since last foreclosure\n",
    "recent_fc = fc_copy.sort_values('filedate').groupby('parcel').last().reset_index()\n",
    "fc_days = pd.DataFrame(recent_fc[['parcel','filedate','Date']])\n",
    "\n",
    "fc_days['fc_days'] = (fc_days.Date-fc_days.filedate).astype(pd.Timedelta).apply(lambda x: x.days)\n",
    "fc_days = fc_days.set_index('parcel')\n",
    "df = pd.merge(df, fc_days[['fc_days']], left_on='parcel',right_index=True, how='left')\n",
    "df.loc[df.fc_days.isnull(),'fc_days'] = max(df[df.fc_days.notnull()].fc_days)+1"
   ]
  },
  {
   "cell_type": "code",
   "execution_count": 4,
   "metadata": {
    "collapsed": true
   },
   "outputs": [],
   "source": [
    "# sheriff's auction\n",
    "\n",
    "sa_copy = pd.merge(sa, tci[['parcel','Date']].set_index('parcel'), how='left',left_on='parcel',right_index=True)\n",
    "\n",
    "sa_copy = sa_copy.loc[sa_copy.salesdt < sa_copy.Date]\n",
    "# days since last sheriff's auction\n",
    "recent_sa = sa_copy.sort_values('salesdt').groupby('parcel').last().reset_index()\n",
    "sa_days = pd.DataFrame(recent_sa[['parcel','salesdt','Date']])\n",
    "sa_days['sa_days'] = (sa_days.Date-sa_days.salesdt).astype(pd.Timedelta).apply(lambda x: x.days)\n",
    "sa_days = sa_days.set_index('parcel')\n",
    "df = pd.merge(df, sa_days[['sa_days']], left_on='parcel',right_index=True, how='left')\n",
    "df.loc[df.sa_days.isnull(),'sa_days'] = max(df[df.sa_days.notnull()].sa_days)+1"
   ]
  },
  {
   "cell_type": "markdown",
   "metadata": {},
   "source": [
    "## Transfers"
   ]
  },
  {
   "cell_type": "code",
   "execution_count": 5,
   "metadata": {
    "collapsed": false
   },
   "outputs": [],
   "source": [
    "t_copy = pd.merge(t, tci[['parcel','Date']].set_index('parcel'), how='left',left_on='PROPERTY_NUMBER',right_index=True)\n",
    "t_copy = t_copy.loc[(t_copy.mdate < t_copy.Date) & (t_copy.mdate > dt.datetime(2000,1,1))]\n",
    "# days since transfer\n",
    "days_since_transfer = t_copy.groupby('PROPERTY_NUMBER').first()\n",
    "days_since_transfer['t_days'] = (days_since_transfer.Date - days_since_transfer.mdate).astype(pd.Timedelta).apply(lambda x: x.days)\n",
    "df = pd.merge(df, days_since_transfer[['t_days']], left_on='parcel', right_index=True,how='left')\n",
    "df.loc[df.t_days.isnull(),'t_days'] = max(df.loc[df.t_days.notnull(),'t_days'])+1\n"
   ]
  },
  {
   "cell_type": "code",
   "execution_count": 6,
   "metadata": {
    "collapsed": true
   },
   "outputs": [],
   "source": [
    "# days since transfer with sheriff's deed type\n",
    "recent_t = t_copy[(t_copy.DEED_TYPE=='Sheriffs Deed') & (t_copy.mdate > dt.datetime(2006,1,1))]\\\n",
    "                .groupby('PROPERTY_NUMBER').first()\n",
    "df = pd.merge(df, recent_t[['mdate']], how='left', left_on='parcel', right_index=True)\n",
    "df.loc[df.mdate.isnull(),'mdate'] = dt.datetime(2006,1,1)\n",
    "df['mdate'] = (df.Date-df.mdate).astype(pd.Timedelta).apply(lambda x: x.days)\n",
    "df = df.rename(columns={'mdate':'t_shf_deed'})"
   ]
  },
  {
   "cell_type": "code",
   "execution_count": 7,
   "metadata": {
    "collapsed": false
   },
   "outputs": [],
   "source": [
    "# average number of transfers per year since 2006\n",
    "df = pd.merge(df, t_copy[['PROPERTY_NUMBER','mdate']] \\\n",
    "               .groupby('PROPERTY_NUMBER').count(), how='left', left_on='parcel', right_index=True)\n",
    "df['mdate'] = df['mdate'].fillna(0)\n",
    "df = df.rename(columns = {'mdate':'t_num'})\n",
    "per = ((df.Date - dt.datetime(2006,1,1)).astype(pd.Timedelta).apply(lambda x: x.days)/365.0)\n",
    "df['t_num'] = df['t_num']/per"
   ]
  },
  {
   "cell_type": "markdown",
   "metadata": {},
   "source": [
    "## Armslength sales"
   ]
  },
  {
   "cell_type": "code",
   "execution_count": 8,
   "metadata": {
    "collapsed": true
   },
   "outputs": [],
   "source": [
    "al_copy = pd.merge(al, tci[['parcel','Date']].set_index('parcel'), how='left',left_on='PROPERTY_NUMBER',right_index=True)"
   ]
  },
  {
   "cell_type": "code",
   "execution_count": 9,
   "metadata": {
    "collapsed": true
   },
   "outputs": [],
   "source": [
    "al_copy = al_copy.loc[al_copy.date < al_copy.Date]"
   ]
  },
  {
   "cell_type": "code",
   "execution_count": 10,
   "metadata": {
    "collapsed": false
   },
   "outputs": [
    {
     "ename": "KeyboardInterrupt",
     "evalue": "",
     "output_type": "error",
     "traceback": [
      "\u001b[0;31m---------------------------------------------------------------------------\u001b[0m",
      "\u001b[0;31mKeyboardInterrupt\u001b[0m                         Traceback (most recent call last)",
      "\u001b[0;32m<ipython-input-10-f5219980d592>\u001b[0m in \u001b[0;36m<module>\u001b[0;34m()\u001b[0m\n\u001b[1;32m      3\u001b[0m \u001b[0;34m\u001b[0m\u001b[0m\n\u001b[1;32m      4\u001b[0m \u001b[0;31m# al_copy = al_copy.loc[al_copy.date < al_copy.Date]\u001b[0m\u001b[0;34m\u001b[0m\u001b[0;34m\u001b[0m\u001b[0m\n\u001b[0;32m----> 5\u001b[0;31m \u001b[0mal_copy\u001b[0m \u001b[0;34m=\u001b[0m \u001b[0mal_copy\u001b[0m\u001b[0;34m.\u001b[0m\u001b[0mloc\u001b[0m\u001b[0;34m[\u001b[0m\u001b[0mal_copy\u001b[0m\u001b[0;34m.\u001b[0m\u001b[0mdate\u001b[0m \u001b[0;34m>\u001b[0m \u001b[0mdt\u001b[0m\u001b[0;34m.\u001b[0m\u001b[0mdatetime\u001b[0m\u001b[0;34m(\u001b[0m\u001b[0;36m2006\u001b[0m\u001b[0;34m,\u001b[0m\u001b[0;36m1\u001b[0m\u001b[0;34m,\u001b[0m\u001b[0;36m1\u001b[0m\u001b[0;34m)\u001b[0m\u001b[0;34m,\u001b[0m\u001b[0;34m[\u001b[0m\u001b[0;34m'date'\u001b[0m\u001b[0;34m,\u001b[0m\u001b[0;34m'PROPERTY_NUMBER'\u001b[0m\u001b[0;34m]\u001b[0m\u001b[0;34m]\u001b[0m               \u001b[0;34m.\u001b[0m\u001b[0mgroupby\u001b[0m\u001b[0;34m(\u001b[0m\u001b[0;34m'PROPERTY_NUMBER'\u001b[0m\u001b[0;34m)\u001b[0m               \u001b[0;34m.\u001b[0m\u001b[0mcount\u001b[0m\u001b[0;34m(\u001b[0m\u001b[0;34m)\u001b[0m\u001b[0;34m/\u001b[0m\u001b[0mper\u001b[0m\u001b[0;34m\u001b[0m\u001b[0m\n\u001b[0m\u001b[1;32m      6\u001b[0m \u001b[0;31m# number of armslength sales per year since 2006\u001b[0m\u001b[0;34m\u001b[0m\u001b[0;34m\u001b[0m\u001b[0m\n\u001b[1;32m      7\u001b[0m \u001b[0;31m# df = pd.merge(df, al_copy, how='left', left_on='parcel', right_index=True)\u001b[0m\u001b[0;34m\u001b[0m\u001b[0;34m\u001b[0m\u001b[0m\n",
      "\u001b[0;32m//anaconda/lib/python2.7/site-packages/pandas/core/ops.pyc\u001b[0m in \u001b[0;36mf\u001b[0;34m(self, other, axis, level, fill_value)\u001b[0m\n\u001b[1;32m    993\u001b[0m             \u001b[0;32mreturn\u001b[0m \u001b[0mself\u001b[0m\u001b[0;34m.\u001b[0m\u001b[0m_combine_frame\u001b[0m\u001b[0;34m(\u001b[0m\u001b[0mother\u001b[0m\u001b[0;34m,\u001b[0m \u001b[0mna_op\u001b[0m\u001b[0;34m,\u001b[0m \u001b[0mfill_value\u001b[0m\u001b[0;34m,\u001b[0m \u001b[0mlevel\u001b[0m\u001b[0;34m)\u001b[0m\u001b[0;34m\u001b[0m\u001b[0m\n\u001b[1;32m    994\u001b[0m         \u001b[0;32melif\u001b[0m \u001b[0misinstance\u001b[0m\u001b[0;34m(\u001b[0m\u001b[0mother\u001b[0m\u001b[0;34m,\u001b[0m \u001b[0mpd\u001b[0m\u001b[0;34m.\u001b[0m\u001b[0mSeries\u001b[0m\u001b[0;34m)\u001b[0m\u001b[0;34m:\u001b[0m\u001b[0;34m\u001b[0m\u001b[0m\n\u001b[0;32m--> 995\u001b[0;31m             \u001b[0;32mreturn\u001b[0m \u001b[0mself\u001b[0m\u001b[0;34m.\u001b[0m\u001b[0m_combine_series\u001b[0m\u001b[0;34m(\u001b[0m\u001b[0mother\u001b[0m\u001b[0;34m,\u001b[0m \u001b[0mna_op\u001b[0m\u001b[0;34m,\u001b[0m \u001b[0mfill_value\u001b[0m\u001b[0;34m,\u001b[0m \u001b[0maxis\u001b[0m\u001b[0;34m,\u001b[0m \u001b[0mlevel\u001b[0m\u001b[0;34m)\u001b[0m\u001b[0;34m\u001b[0m\u001b[0m\n\u001b[0m\u001b[1;32m    996\u001b[0m         \u001b[0;32melif\u001b[0m \u001b[0misinstance\u001b[0m\u001b[0;34m(\u001b[0m\u001b[0mother\u001b[0m\u001b[0;34m,\u001b[0m \u001b[0;34m(\u001b[0m\u001b[0mlist\u001b[0m\u001b[0;34m,\u001b[0m \u001b[0mtuple\u001b[0m\u001b[0;34m)\u001b[0m\u001b[0;34m)\u001b[0m\u001b[0;34m:\u001b[0m\u001b[0;34m\u001b[0m\u001b[0m\n\u001b[1;32m    997\u001b[0m             \u001b[0;32mif\u001b[0m \u001b[0maxis\u001b[0m \u001b[0;32mis\u001b[0m \u001b[0;32mnot\u001b[0m \u001b[0mNone\u001b[0m \u001b[0;32mand\u001b[0m \u001b[0mself\u001b[0m\u001b[0;34m.\u001b[0m\u001b[0m_get_axis_name\u001b[0m\u001b[0;34m(\u001b[0m\u001b[0maxis\u001b[0m\u001b[0;34m)\u001b[0m \u001b[0;34m==\u001b[0m \u001b[0;34m'index'\u001b[0m\u001b[0;34m:\u001b[0m\u001b[0;34m\u001b[0m\u001b[0m\n",
      "\u001b[0;32m//anaconda/lib/python2.7/site-packages/pandas/core/frame.pyc\u001b[0m in \u001b[0;36m_combine_series\u001b[0;34m(self, other, func, fill_value, axis, level)\u001b[0m\n\u001b[1;32m   3386\u001b[0m             \u001b[0;32melse\u001b[0m\u001b[0;34m:\u001b[0m\u001b[0;34m\u001b[0m\u001b[0m\n\u001b[1;32m   3387\u001b[0m                 \u001b[0;32mreturn\u001b[0m \u001b[0mself\u001b[0m\u001b[0;34m.\u001b[0m\u001b[0m_combine_match_columns\u001b[0m\u001b[0;34m(\u001b[0m\u001b[0mother\u001b[0m\u001b[0;34m,\u001b[0m \u001b[0mfunc\u001b[0m\u001b[0;34m,\u001b[0m \u001b[0mlevel\u001b[0m\u001b[0;34m=\u001b[0m\u001b[0mlevel\u001b[0m\u001b[0;34m,\u001b[0m \u001b[0mfill_value\u001b[0m\u001b[0;34m=\u001b[0m\u001b[0mfill_value\u001b[0m\u001b[0;34m)\u001b[0m\u001b[0;34m\u001b[0m\u001b[0m\n\u001b[0;32m-> 3388\u001b[0;31m         \u001b[0;32mreturn\u001b[0m \u001b[0mself\u001b[0m\u001b[0;34m.\u001b[0m\u001b[0m_combine_series_infer\u001b[0m\u001b[0;34m(\u001b[0m\u001b[0mother\u001b[0m\u001b[0;34m,\u001b[0m \u001b[0mfunc\u001b[0m\u001b[0;34m,\u001b[0m \u001b[0mlevel\u001b[0m\u001b[0;34m=\u001b[0m\u001b[0mlevel\u001b[0m\u001b[0;34m,\u001b[0m \u001b[0mfill_value\u001b[0m\u001b[0;34m=\u001b[0m\u001b[0mfill_value\u001b[0m\u001b[0;34m)\u001b[0m\u001b[0;34m\u001b[0m\u001b[0m\n\u001b[0m\u001b[1;32m   3389\u001b[0m \u001b[0;34m\u001b[0m\u001b[0m\n\u001b[1;32m   3390\u001b[0m     \u001b[0;32mdef\u001b[0m \u001b[0m_combine_series_infer\u001b[0m\u001b[0;34m(\u001b[0m\u001b[0mself\u001b[0m\u001b[0;34m,\u001b[0m \u001b[0mother\u001b[0m\u001b[0;34m,\u001b[0m \u001b[0mfunc\u001b[0m\u001b[0;34m,\u001b[0m \u001b[0mlevel\u001b[0m\u001b[0;34m=\u001b[0m\u001b[0mNone\u001b[0m\u001b[0;34m,\u001b[0m \u001b[0mfill_value\u001b[0m\u001b[0;34m=\u001b[0m\u001b[0mNone\u001b[0m\u001b[0;34m)\u001b[0m\u001b[0;34m:\u001b[0m\u001b[0;34m\u001b[0m\u001b[0m\n",
      "\u001b[0;32m//anaconda/lib/python2.7/site-packages/pandas/core/frame.pyc\u001b[0m in \u001b[0;36m_combine_series_infer\u001b[0;34m(self, other, func, level, fill_value)\u001b[0m\n\u001b[1;32m   3397\u001b[0m                                      columns=self.columns)\n\u001b[1;32m   3398\u001b[0m \u001b[0;34m\u001b[0m\u001b[0m\n\u001b[0;32m-> 3399\u001b[0;31m         \u001b[0;32mreturn\u001b[0m \u001b[0mself\u001b[0m\u001b[0;34m.\u001b[0m\u001b[0m_combine_match_columns\u001b[0m\u001b[0;34m(\u001b[0m\u001b[0mother\u001b[0m\u001b[0;34m,\u001b[0m \u001b[0mfunc\u001b[0m\u001b[0;34m,\u001b[0m \u001b[0mlevel\u001b[0m\u001b[0;34m=\u001b[0m\u001b[0mlevel\u001b[0m\u001b[0;34m,\u001b[0m \u001b[0mfill_value\u001b[0m\u001b[0;34m=\u001b[0m\u001b[0mfill_value\u001b[0m\u001b[0;34m)\u001b[0m\u001b[0;34m\u001b[0m\u001b[0m\n\u001b[0m\u001b[1;32m   3400\u001b[0m \u001b[0;34m\u001b[0m\u001b[0m\n\u001b[1;32m   3401\u001b[0m     \u001b[0;32mdef\u001b[0m \u001b[0m_combine_match_index\u001b[0m\u001b[0;34m(\u001b[0m\u001b[0mself\u001b[0m\u001b[0;34m,\u001b[0m \u001b[0mother\u001b[0m\u001b[0;34m,\u001b[0m \u001b[0mfunc\u001b[0m\u001b[0;34m,\u001b[0m \u001b[0mlevel\u001b[0m\u001b[0;34m=\u001b[0m\u001b[0mNone\u001b[0m\u001b[0;34m,\u001b[0m \u001b[0mfill_value\u001b[0m\u001b[0;34m=\u001b[0m\u001b[0mNone\u001b[0m\u001b[0;34m)\u001b[0m\u001b[0;34m:\u001b[0m\u001b[0;34m\u001b[0m\u001b[0m\n",
      "\u001b[0;32m//anaconda/lib/python2.7/site-packages/pandas/core/frame.pyc\u001b[0m in \u001b[0;36m_combine_match_columns\u001b[0;34m(self, other, func, level, fill_value)\u001b[0m\n\u001b[1;32m   3409\u001b[0m \u001b[0;34m\u001b[0m\u001b[0m\n\u001b[1;32m   3410\u001b[0m     \u001b[0;32mdef\u001b[0m \u001b[0m_combine_match_columns\u001b[0m\u001b[0;34m(\u001b[0m\u001b[0mself\u001b[0m\u001b[0;34m,\u001b[0m \u001b[0mother\u001b[0m\u001b[0;34m,\u001b[0m \u001b[0mfunc\u001b[0m\u001b[0;34m,\u001b[0m \u001b[0mlevel\u001b[0m\u001b[0;34m=\u001b[0m\u001b[0mNone\u001b[0m\u001b[0;34m,\u001b[0m \u001b[0mfill_value\u001b[0m\u001b[0;34m=\u001b[0m\u001b[0mNone\u001b[0m\u001b[0;34m)\u001b[0m\u001b[0;34m:\u001b[0m\u001b[0;34m\u001b[0m\u001b[0m\n\u001b[0;32m-> 3411\u001b[0;31m         \u001b[0mleft\u001b[0m\u001b[0;34m,\u001b[0m \u001b[0mright\u001b[0m \u001b[0;34m=\u001b[0m \u001b[0mself\u001b[0m\u001b[0;34m.\u001b[0m\u001b[0malign\u001b[0m\u001b[0;34m(\u001b[0m\u001b[0mother\u001b[0m\u001b[0;34m,\u001b[0m \u001b[0mjoin\u001b[0m\u001b[0;34m=\u001b[0m\u001b[0;34m'outer'\u001b[0m\u001b[0;34m,\u001b[0m \u001b[0maxis\u001b[0m\u001b[0;34m=\u001b[0m\u001b[0;36m1\u001b[0m\u001b[0;34m,\u001b[0m \u001b[0mlevel\u001b[0m\u001b[0;34m=\u001b[0m\u001b[0mlevel\u001b[0m\u001b[0;34m,\u001b[0m \u001b[0mcopy\u001b[0m\u001b[0;34m=\u001b[0m\u001b[0mFalse\u001b[0m\u001b[0;34m)\u001b[0m\u001b[0;34m\u001b[0m\u001b[0m\n\u001b[0m\u001b[1;32m   3412\u001b[0m         \u001b[0;32mif\u001b[0m \u001b[0mfill_value\u001b[0m \u001b[0;32mis\u001b[0m \u001b[0;32mnot\u001b[0m \u001b[0mNone\u001b[0m\u001b[0;34m:\u001b[0m\u001b[0;34m\u001b[0m\u001b[0m\n\u001b[1;32m   3413\u001b[0m             raise NotImplementedError(\"fill_value %r not supported\" %\n",
      "\u001b[0;32m//anaconda/lib/python2.7/site-packages/pandas/core/frame.pyc\u001b[0m in \u001b[0;36malign\u001b[0;34m(self, other, join, axis, level, copy, fill_value, method, limit, fill_axis, broadcast_axis)\u001b[0m\n\u001b[1;32m   2622\u001b[0m         return super(DataFrame, self).align(other, join=join, axis=axis, level=level, copy=copy,\n\u001b[1;32m   2623\u001b[0m                                             \u001b[0mfill_value\u001b[0m\u001b[0;34m=\u001b[0m\u001b[0mfill_value\u001b[0m\u001b[0;34m,\u001b[0m \u001b[0mmethod\u001b[0m\u001b[0;34m=\u001b[0m\u001b[0mmethod\u001b[0m\u001b[0;34m,\u001b[0m \u001b[0mlimit\u001b[0m\u001b[0;34m=\u001b[0m\u001b[0mlimit\u001b[0m\u001b[0;34m,\u001b[0m\u001b[0;34m\u001b[0m\u001b[0m\n\u001b[0;32m-> 2624\u001b[0;31m                                             fill_axis=fill_axis, broadcast_axis=broadcast_axis)\n\u001b[0m\u001b[1;32m   2625\u001b[0m \u001b[0;34m\u001b[0m\u001b[0m\n\u001b[1;32m   2626\u001b[0m     \u001b[0;34m@\u001b[0m\u001b[0mAppender\u001b[0m\u001b[0;34m(\u001b[0m\u001b[0m_shared_docs\u001b[0m\u001b[0;34m[\u001b[0m\u001b[0;34m'reindex'\u001b[0m\u001b[0;34m]\u001b[0m \u001b[0;34m%\u001b[0m \u001b[0m_shared_doc_kwargs\u001b[0m\u001b[0;34m)\u001b[0m\u001b[0;34m\u001b[0m\u001b[0m\n",
      "\u001b[0;32m//anaconda/lib/python2.7/site-packages/pandas/core/generic.pyc\u001b[0m in \u001b[0;36malign\u001b[0;34m(self, other, join, axis, level, copy, fill_value, method, limit, fill_axis, broadcast_axis)\u001b[0m\n\u001b[1;32m   3670\u001b[0m                                       \u001b[0mcopy\u001b[0m\u001b[0;34m=\u001b[0m\u001b[0mcopy\u001b[0m\u001b[0;34m,\u001b[0m \u001b[0mfill_value\u001b[0m\u001b[0;34m=\u001b[0m\u001b[0mfill_value\u001b[0m\u001b[0;34m,\u001b[0m\u001b[0;34m\u001b[0m\u001b[0m\n\u001b[1;32m   3671\u001b[0m                                       \u001b[0mmethod\u001b[0m\u001b[0;34m=\u001b[0m\u001b[0mmethod\u001b[0m\u001b[0;34m,\u001b[0m \u001b[0mlimit\u001b[0m\u001b[0;34m=\u001b[0m\u001b[0mlimit\u001b[0m\u001b[0;34m,\u001b[0m\u001b[0;34m\u001b[0m\u001b[0m\n\u001b[0;32m-> 3672\u001b[0;31m                                       fill_axis=fill_axis)\n\u001b[0m\u001b[1;32m   3673\u001b[0m         \u001b[0;32melse\u001b[0m\u001b[0;34m:\u001b[0m  \u001b[0;31m# pragma: no cover\u001b[0m\u001b[0;34m\u001b[0m\u001b[0m\n\u001b[1;32m   3674\u001b[0m             \u001b[0;32mraise\u001b[0m \u001b[0mTypeError\u001b[0m\u001b[0;34m(\u001b[0m\u001b[0;34m'unsupported type: %s'\u001b[0m \u001b[0;34m%\u001b[0m \u001b[0mtype\u001b[0m\u001b[0;34m(\u001b[0m\u001b[0mother\u001b[0m\u001b[0;34m)\u001b[0m\u001b[0;34m)\u001b[0m\u001b[0;34m\u001b[0m\u001b[0m\n",
      "\u001b[0;32m//anaconda/lib/python2.7/site-packages/pandas/core/generic.pyc\u001b[0m in \u001b[0;36m_align_series\u001b[0;34m(self, other, join, axis, level, copy, fill_value, method, limit, fill_axis)\u001b[0m\n\u001b[1;32m   3754\u001b[0m \u001b[0;34m\u001b[0m\u001b[0m\n\u001b[1;32m   3755\u001b[0m                 \u001b[0;32mif\u001b[0m \u001b[0mlidx\u001b[0m \u001b[0;32mis\u001b[0m \u001b[0;32mnot\u001b[0m \u001b[0mNone\u001b[0m\u001b[0;34m:\u001b[0m\u001b[0;34m\u001b[0m\u001b[0m\n\u001b[0;32m-> 3756\u001b[0;31m                     \u001b[0mfdata\u001b[0m \u001b[0;34m=\u001b[0m \u001b[0mfdata\u001b[0m\u001b[0;34m.\u001b[0m\u001b[0mreindex_indexer\u001b[0m\u001b[0;34m(\u001b[0m\u001b[0mjoin_index\u001b[0m\u001b[0;34m,\u001b[0m \u001b[0mlidx\u001b[0m\u001b[0;34m,\u001b[0m \u001b[0maxis\u001b[0m\u001b[0;34m=\u001b[0m\u001b[0;36m0\u001b[0m\u001b[0;34m)\u001b[0m\u001b[0;34m\u001b[0m\u001b[0m\n\u001b[0m\u001b[1;32m   3757\u001b[0m             \u001b[0;32melse\u001b[0m\u001b[0;34m:\u001b[0m\u001b[0;34m\u001b[0m\u001b[0m\n\u001b[1;32m   3758\u001b[0m                 \u001b[0;32mraise\u001b[0m \u001b[0mValueError\u001b[0m\u001b[0;34m(\u001b[0m\u001b[0;34m'Must specify axis=0 or 1'\u001b[0m\u001b[0;34m)\u001b[0m\u001b[0;34m\u001b[0m\u001b[0m\n",
      "\u001b[0;32m//anaconda/lib/python2.7/site-packages/pandas/core/internals.pyc\u001b[0m in \u001b[0;36mreindex_indexer\u001b[0;34m(self, new_axis, indexer, axis, fill_value, allow_dups, copy)\u001b[0m\n\u001b[1;32m   3397\u001b[0m         \u001b[0;32mif\u001b[0m \u001b[0maxis\u001b[0m \u001b[0;34m==\u001b[0m \u001b[0;36m0\u001b[0m\u001b[0;34m:\u001b[0m\u001b[0;34m\u001b[0m\u001b[0m\n\u001b[1;32m   3398\u001b[0m             new_blocks = self._slice_take_blocks_ax0(\n\u001b[0;32m-> 3399\u001b[0;31m                 indexer, fill_tuple=(fill_value,))\n\u001b[0m\u001b[1;32m   3400\u001b[0m         \u001b[0;32melse\u001b[0m\u001b[0;34m:\u001b[0m\u001b[0;34m\u001b[0m\u001b[0m\n\u001b[1;32m   3401\u001b[0m             new_blocks = [blk.take_nd(indexer, axis=axis,\n",
      "\u001b[0;32m//anaconda/lib/python2.7/site-packages/pandas/core/internals.pyc\u001b[0m in \u001b[0;36m_slice_take_blocks_ax0\u001b[0;34m(self, slice_or_indexer, fill_tuple)\u001b[0m\n\u001b[1;32m   3462\u001b[0m \u001b[0;34m\u001b[0m\u001b[0m\n\u001b[1;32m   3463\u001b[0m                 blocks.append(self._make_na_block(\n\u001b[0;32m-> 3464\u001b[0;31m                     placement=mgr_locs, fill_value=fill_value))\n\u001b[0m\u001b[1;32m   3465\u001b[0m             \u001b[0;32melse\u001b[0m\u001b[0;34m:\u001b[0m\u001b[0;34m\u001b[0m\u001b[0m\n\u001b[1;32m   3466\u001b[0m                 \u001b[0mblk\u001b[0m \u001b[0;34m=\u001b[0m \u001b[0mself\u001b[0m\u001b[0;34m.\u001b[0m\u001b[0mblocks\u001b[0m\u001b[0;34m[\u001b[0m\u001b[0mblkno\u001b[0m\u001b[0;34m]\u001b[0m\u001b[0;34m\u001b[0m\u001b[0m\n",
      "\u001b[0;32m//anaconda/lib/python2.7/site-packages/pandas/core/internals.pyc\u001b[0m in \u001b[0;36m_make_na_block\u001b[0;34m(self, placement, fill_value)\u001b[0m\n\u001b[1;32m   3492\u001b[0m         \u001b[0mdtype\u001b[0m\u001b[0;34m,\u001b[0m \u001b[0mfill_value\u001b[0m \u001b[0;34m=\u001b[0m \u001b[0mcom\u001b[0m\u001b[0;34m.\u001b[0m\u001b[0m_infer_dtype_from_scalar\u001b[0m\u001b[0;34m(\u001b[0m\u001b[0mfill_value\u001b[0m\u001b[0;34m)\u001b[0m\u001b[0;34m\u001b[0m\u001b[0m\n\u001b[1;32m   3493\u001b[0m         \u001b[0mblock_values\u001b[0m \u001b[0;34m=\u001b[0m \u001b[0mnp\u001b[0m\u001b[0;34m.\u001b[0m\u001b[0mempty\u001b[0m\u001b[0;34m(\u001b[0m\u001b[0mblock_shape\u001b[0m\u001b[0;34m,\u001b[0m \u001b[0mdtype\u001b[0m\u001b[0;34m=\u001b[0m\u001b[0mdtype\u001b[0m\u001b[0;34m)\u001b[0m\u001b[0;34m\u001b[0m\u001b[0m\n\u001b[0;32m-> 3494\u001b[0;31m         \u001b[0mblock_values\u001b[0m\u001b[0;34m.\u001b[0m\u001b[0mfill\u001b[0m\u001b[0;34m(\u001b[0m\u001b[0mfill_value\u001b[0m\u001b[0;34m)\u001b[0m\u001b[0;34m\u001b[0m\u001b[0m\n\u001b[0m\u001b[1;32m   3495\u001b[0m         \u001b[0;32mreturn\u001b[0m \u001b[0mmake_block\u001b[0m\u001b[0;34m(\u001b[0m\u001b[0mblock_values\u001b[0m\u001b[0;34m,\u001b[0m \u001b[0mplacement\u001b[0m\u001b[0;34m=\u001b[0m\u001b[0mplacement\u001b[0m\u001b[0;34m)\u001b[0m\u001b[0;34m\u001b[0m\u001b[0m\n\u001b[1;32m   3496\u001b[0m \u001b[0;34m\u001b[0m\u001b[0m\n",
      "\u001b[0;31mKeyboardInterrupt\u001b[0m: "
     ]
    }
   ],
   "source": [
    "# armslength\n",
    "# al_copy = pd.merge(al, tci[['parcel','Date']].set_index('parcel'), how='left',left_on='PROPERTY_NUMBER',right_index=True)\n",
    "\n",
    "# al_copy = al_copy.loc[al_copy.date < al_copy.Date]\n",
    "al_copy = al_copy.loc[al_copy.date > dt.datetime(2006,1,1),['date','PROPERTY_NUMBER']]\\\n",
    "               .groupby('PROPERTY_NUMBER')\\\n",
    "               .count()/per\n",
    "# number of armslength sales per year since 2006\n",
    "# df = pd.merge(df, al_copy, how='left', left_on='parcel', right_index=True)\n",
    "# df = df.rename(columns = {'date':'al_num'})\n",
    "# df.loc[df.al_num.isnull(),'al_num'] = 0"
   ]
  },
  {
   "cell_type": "code",
   "execution_count": null,
   "metadata": {
    "collapsed": false
   },
   "outputs": [],
   "source": [
    "\n",
    "\n",
    "# days since most recent sale since 2006\n",
    "df = pd.merge(df, al_copy[['date','PROPERTY_NUMBER']]\\\n",
    "               .groupby('PROPERTY_NUMBER')\\\n",
    "               .last()\\\n",
    "                    ,how='left', left_on='parcel', right_index=True)"
   ]
  },
  {
   "cell_type": "code",
   "execution_count": null,
   "metadata": {
    "collapsed": true
   },
   "outputs": [],
   "source": [
    "# al = pd.read_csv(path+'/data/clean_data/armslength.csv', dtype=str)\n",
    "# al = al.drop_duplicates()\n",
    "\n",
    "months = dict(zip(['JAN','FEB','MAR','APR','MAY','JUN','JUL','AUG','SEP','OCT','NOV','DEC'],range(1,13)))\n",
    "\n",
    "def parse_date(x):\n",
    "    day = int(x[0:2])\n",
    "    month = months[x[2:5]]\n",
    "    year = int(x[5:])\n",
    "    return dt.datetime(year,month,day)\n",
    "\n",
    "al['date'] = al.mdate.apply(parse_date)\n",
    "al = al.sort_values('date')\n",
    "# al = al[al.date < dt.date(2015,6,1)]\n",
    "\n",
    "al = al.loc[al.apply(lambda x: x.date < dates[x.PROPERTY_NUMBER], axis=1)]\n",
    "\n",
    "# number of sales per year since 2006\n",
    "\n",
    "tci = pd.merge(tci, al.loc[al.date > dt.datetime(2006,1,1),['date','PROPERTY_NUMBER']]\\\n",
    "               .groupby('PROPERTY_NUMBER')\\\n",
    "               .agg(lambda x: len(x)\\\n",
    "                    /((dates[x.PROPERTY_NUMBER.iloc[0]] - dt.datetime(2006,1,1)).days/365.0))\\\n",
    "                    ,how='left', left_on='parcel', right_index=True)\n",
    "tci = tci.rename(columns = {'date':'al_num'})\n",
    "tci.loc[tci.al_num.isnull(),'al_num'] = 0\n",
    "\n",
    "# days since most recent sale since 2006\n",
    "\n",
    "tci = pd.merge(tci, al.loc[al.date > dt.datetime(2006,1,1),['date','PROPERTY_NUMBER']]\\\n",
    "               .groupby('PROPERTY_NUMBER')\\\n",
    "               .last()\\\n",
    "                    ,how='left', left_on='parcel', right_index=True)\n",
    "tci = tci.rename(columns = {'date':'al_date'})\n",
    "\n",
    "tci.loc[tci.al_date.isnull(),'al_date'] = dt.datetime(2006,1,1)\n",
    "tci['al_days'] = tci.apply(lambda x: (x.Date-x.al_date).days, axis=1)\n"
   ]
  },
  {
   "cell_type": "code",
   "execution_count": null,
   "metadata": {
    "collapsed": false
   },
   "outputs": [],
   "source": [
    "tci.shape"
   ]
  },
  {
   "cell_type": "code",
   "execution_count": 55,
   "metadata": {
    "collapsed": false
   },
   "outputs": [
    {
     "name": "stdout",
     "output_type": "stream",
     "text": [
      "['parcel', 'active_fc', 'fc_1yr', 'fc_2yr', 'fc_days', 'sa_days', 't_days', 't_shf_deed', 't_num', 'al_num', 'al_date', 'al_days']\n"
     ]
    }
   ],
   "source": [
    "cols = list(tci.columns)\n",
    "cols.remove('vacant')\n",
    "cols.remove('Date')\n",
    "print(cols)"
   ]
  },
  {
   "cell_type": "code",
   "execution_count": 50,
   "metadata": {
    "collapsed": true
   },
   "outputs": [],
   "source": [
    "tci = tci.fillna(0)"
   ]
  },
  {
   "cell_type": "code",
   "execution_count": 58,
   "metadata": {
    "collapsed": true
   },
   "outputs": [],
   "source": [
    "tci[cols].to_csv(path+'/data/model_data/tci_2_3.csv',index=False)"
   ]
  },
  {
   "cell_type": "code",
   "execution_count": 57,
   "metadata": {
    "collapsed": false
   },
   "outputs": [
    {
     "name": "stdout",
     "output_type": "stream",
     "text": [
      "<class 'pandas.core.frame.DataFrame'>\n",
      "Int64Index: 113132 entries, 0 to 113131\n",
      "Data columns (total 12 columns):\n",
      "parcel        113132 non-null object\n",
      "active_fc     113132 non-null float64\n",
      "fc_1yr        113132 non-null float64\n",
      "fc_2yr        113132 non-null float64\n",
      "fc_days       113132 non-null float64\n",
      "sa_days       113132 non-null float64\n",
      "t_days        113132 non-null int64\n",
      "t_shf_deed    113132 non-null float64\n",
      "t_num         113132 non-null float64\n",
      "al_num        113132 non-null float64\n",
      "al_date       113132 non-null datetime64[ns]\n",
      "al_days       113132 non-null int64\n",
      "dtypes: datetime64[ns](1), float64(8), int64(2), object(1)\n",
      "memory usage: 11.2+ MB\n"
     ]
    }
   ],
   "source": [
    "tci[cols].info()"
   ]
  },
  {
   "cell_type": "code",
   "execution_count": null,
   "metadata": {
    "collapsed": true
   },
   "outputs": [],
   "source": []
  }
 ],
 "metadata": {
  "kernelspec": {
   "display_name": "Python 2",
   "language": "python",
   "name": "python2"
  },
  "language_info": {
   "codemirror_mode": {
    "name": "ipython",
    "version": 2
   },
   "file_extension": ".py",
   "mimetype": "text/x-python",
   "name": "python",
   "nbconvert_exporter": "python",
   "pygments_lexer": "ipython2",
   "version": "2.7.11"
  }
 },
 "nbformat": 4,
 "nbformat_minor": 0
}
