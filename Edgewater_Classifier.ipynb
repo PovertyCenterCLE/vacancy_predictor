{
 "cells": [
  {
   "cell_type": "code",
   "execution_count": 2,
   "metadata": {
    "collapsed": false
   },
   "outputs": [],
   "source": [
    "import pandas as pd\n",
    "from sklearn.ensemble import RandomForestClassifier\n",
    "import matplotlib.pyplot as plt\n",
    "import numpy as np\n",
    "import math\n",
    "from sklearn.preprocessing import Imputer\n",
    "from sklearn.base import TransformerMixin\n",
    "%matplotlib inline"
   ]
  },
  {
   "cell_type": "code",
   "execution_count": 3,
   "metadata": {
    "collapsed": false
   },
   "outputs": [
    {
     "ename": "IOError",
     "evalue": "File edgewater.csv does not exist",
     "output_type": "error",
     "traceback": [
      "\u001b[0;31m---------------------------------------------------------------------------\u001b[0m",
      "\u001b[0;31mIOError\u001b[0m                                   Traceback (most recent call last)",
      "\u001b[0;32m<ipython-input-3-f7560fded7bc>\u001b[0m in \u001b[0;36m<module>\u001b[0;34m()\u001b[0m\n\u001b[1;32m      1\u001b[0m \u001b[0;31m# read the csv\u001b[0m\u001b[0;34m\u001b[0m\u001b[0;34m\u001b[0m\u001b[0m\n\u001b[0;32m----> 2\u001b[0;31m \u001b[0mdf\u001b[0m \u001b[0;34m=\u001b[0m \u001b[0mpd\u001b[0m\u001b[0;34m.\u001b[0m\u001b[0mread_csv\u001b[0m\u001b[0;34m(\u001b[0m\u001b[0;34m'edgewater.csv'\u001b[0m\u001b[0;34m,\u001b[0m \u001b[0mindex_col\u001b[0m\u001b[0;34m=\u001b[0m\u001b[0;34m[\u001b[0m\u001b[0;36m0\u001b[0m\u001b[0;34m]\u001b[0m\u001b[0;34m,\u001b[0m \u001b[0mparse_dates\u001b[0m\u001b[0;34m=\u001b[0m\u001b[0;34m[\u001b[0m\u001b[0;36m5\u001b[0m\u001b[0;34m,\u001b[0m\u001b[0;36m22\u001b[0m\u001b[0;34m]\u001b[0m\u001b[0;34m)\u001b[0m\u001b[0;34m\u001b[0m\u001b[0m\n\u001b[0m",
      "\u001b[0;32m//anaconda/lib/python2.7/site-packages/pandas/io/parsers.pyc\u001b[0m in \u001b[0;36mparser_f\u001b[0;34m(filepath_or_buffer, sep, dialect, compression, doublequote, escapechar, quotechar, quoting, skipinitialspace, lineterminator, header, index_col, names, prefix, skiprows, skipfooter, skip_footer, na_values, na_fvalues, true_values, false_values, delimiter, converters, dtype, usecols, engine, delim_whitespace, as_recarray, na_filter, compact_ints, use_unsigned, low_memory, buffer_lines, warn_bad_lines, error_bad_lines, keep_default_na, thousands, comment, decimal, parse_dates, keep_date_col, dayfirst, date_parser, memory_map, float_precision, nrows, iterator, chunksize, verbose, encoding, squeeze, mangle_dupe_cols, tupleize_cols, infer_datetime_format, skip_blank_lines)\u001b[0m\n\u001b[1;32m    463\u001b[0m                     skip_blank_lines=skip_blank_lines)\n\u001b[1;32m    464\u001b[0m \u001b[0;34m\u001b[0m\u001b[0m\n\u001b[0;32m--> 465\u001b[0;31m         \u001b[0;32mreturn\u001b[0m \u001b[0m_read\u001b[0m\u001b[0;34m(\u001b[0m\u001b[0mfilepath_or_buffer\u001b[0m\u001b[0;34m,\u001b[0m \u001b[0mkwds\u001b[0m\u001b[0;34m)\u001b[0m\u001b[0;34m\u001b[0m\u001b[0m\n\u001b[0m\u001b[1;32m    466\u001b[0m \u001b[0;34m\u001b[0m\u001b[0m\n\u001b[1;32m    467\u001b[0m     \u001b[0mparser_f\u001b[0m\u001b[0;34m.\u001b[0m\u001b[0m__name__\u001b[0m \u001b[0;34m=\u001b[0m \u001b[0mname\u001b[0m\u001b[0;34m\u001b[0m\u001b[0m\n",
      "\u001b[0;32m//anaconda/lib/python2.7/site-packages/pandas/io/parsers.pyc\u001b[0m in \u001b[0;36m_read\u001b[0;34m(filepath_or_buffer, kwds)\u001b[0m\n\u001b[1;32m    239\u001b[0m \u001b[0;34m\u001b[0m\u001b[0m\n\u001b[1;32m    240\u001b[0m     \u001b[0;31m# Create the parser.\u001b[0m\u001b[0;34m\u001b[0m\u001b[0;34m\u001b[0m\u001b[0m\n\u001b[0;32m--> 241\u001b[0;31m     \u001b[0mparser\u001b[0m \u001b[0;34m=\u001b[0m \u001b[0mTextFileReader\u001b[0m\u001b[0;34m(\u001b[0m\u001b[0mfilepath_or_buffer\u001b[0m\u001b[0;34m,\u001b[0m \u001b[0;34m**\u001b[0m\u001b[0mkwds\u001b[0m\u001b[0;34m)\u001b[0m\u001b[0;34m\u001b[0m\u001b[0m\n\u001b[0m\u001b[1;32m    242\u001b[0m \u001b[0;34m\u001b[0m\u001b[0m\n\u001b[1;32m    243\u001b[0m     \u001b[0;32mif\u001b[0m \u001b[0;34m(\u001b[0m\u001b[0mnrows\u001b[0m \u001b[0;32mis\u001b[0m \u001b[0;32mnot\u001b[0m \u001b[0mNone\u001b[0m\u001b[0;34m)\u001b[0m \u001b[0;32mand\u001b[0m \u001b[0;34m(\u001b[0m\u001b[0mchunksize\u001b[0m \u001b[0;32mis\u001b[0m \u001b[0;32mnot\u001b[0m \u001b[0mNone\u001b[0m\u001b[0;34m)\u001b[0m\u001b[0;34m:\u001b[0m\u001b[0;34m\u001b[0m\u001b[0m\n",
      "\u001b[0;32m//anaconda/lib/python2.7/site-packages/pandas/io/parsers.pyc\u001b[0m in \u001b[0;36m__init__\u001b[0;34m(self, f, engine, **kwds)\u001b[0m\n\u001b[1;32m    555\u001b[0m             \u001b[0mself\u001b[0m\u001b[0;34m.\u001b[0m\u001b[0moptions\u001b[0m\u001b[0;34m[\u001b[0m\u001b[0;34m'has_index_names'\u001b[0m\u001b[0;34m]\u001b[0m \u001b[0;34m=\u001b[0m \u001b[0mkwds\u001b[0m\u001b[0;34m[\u001b[0m\u001b[0;34m'has_index_names'\u001b[0m\u001b[0;34m]\u001b[0m\u001b[0;34m\u001b[0m\u001b[0m\n\u001b[1;32m    556\u001b[0m \u001b[0;34m\u001b[0m\u001b[0m\n\u001b[0;32m--> 557\u001b[0;31m         \u001b[0mself\u001b[0m\u001b[0;34m.\u001b[0m\u001b[0m_make_engine\u001b[0m\u001b[0;34m(\u001b[0m\u001b[0mself\u001b[0m\u001b[0;34m.\u001b[0m\u001b[0mengine\u001b[0m\u001b[0;34m)\u001b[0m\u001b[0;34m\u001b[0m\u001b[0m\n\u001b[0m\u001b[1;32m    558\u001b[0m \u001b[0;34m\u001b[0m\u001b[0m\n\u001b[1;32m    559\u001b[0m     \u001b[0;32mdef\u001b[0m \u001b[0m_get_options_with_defaults\u001b[0m\u001b[0;34m(\u001b[0m\u001b[0mself\u001b[0m\u001b[0;34m,\u001b[0m \u001b[0mengine\u001b[0m\u001b[0;34m)\u001b[0m\u001b[0;34m:\u001b[0m\u001b[0;34m\u001b[0m\u001b[0m\n",
      "\u001b[0;32m//anaconda/lib/python2.7/site-packages/pandas/io/parsers.pyc\u001b[0m in \u001b[0;36m_make_engine\u001b[0;34m(self, engine)\u001b[0m\n\u001b[1;32m    692\u001b[0m     \u001b[0;32mdef\u001b[0m \u001b[0m_make_engine\u001b[0m\u001b[0;34m(\u001b[0m\u001b[0mself\u001b[0m\u001b[0;34m,\u001b[0m \u001b[0mengine\u001b[0m\u001b[0;34m=\u001b[0m\u001b[0;34m'c'\u001b[0m\u001b[0;34m)\u001b[0m\u001b[0;34m:\u001b[0m\u001b[0;34m\u001b[0m\u001b[0m\n\u001b[1;32m    693\u001b[0m         \u001b[0;32mif\u001b[0m \u001b[0mengine\u001b[0m \u001b[0;34m==\u001b[0m \u001b[0;34m'c'\u001b[0m\u001b[0;34m:\u001b[0m\u001b[0;34m\u001b[0m\u001b[0m\n\u001b[0;32m--> 694\u001b[0;31m             \u001b[0mself\u001b[0m\u001b[0;34m.\u001b[0m\u001b[0m_engine\u001b[0m \u001b[0;34m=\u001b[0m \u001b[0mCParserWrapper\u001b[0m\u001b[0;34m(\u001b[0m\u001b[0mself\u001b[0m\u001b[0;34m.\u001b[0m\u001b[0mf\u001b[0m\u001b[0;34m,\u001b[0m \u001b[0;34m**\u001b[0m\u001b[0mself\u001b[0m\u001b[0;34m.\u001b[0m\u001b[0moptions\u001b[0m\u001b[0;34m)\u001b[0m\u001b[0;34m\u001b[0m\u001b[0m\n\u001b[0m\u001b[1;32m    695\u001b[0m         \u001b[0;32melse\u001b[0m\u001b[0;34m:\u001b[0m\u001b[0;34m\u001b[0m\u001b[0m\n\u001b[1;32m    696\u001b[0m             \u001b[0;32mif\u001b[0m \u001b[0mengine\u001b[0m \u001b[0;34m==\u001b[0m \u001b[0;34m'python'\u001b[0m\u001b[0;34m:\u001b[0m\u001b[0;34m\u001b[0m\u001b[0m\n",
      "\u001b[0;32m//anaconda/lib/python2.7/site-packages/pandas/io/parsers.pyc\u001b[0m in \u001b[0;36m__init__\u001b[0;34m(self, src, **kwds)\u001b[0m\n\u001b[1;32m   1054\u001b[0m         \u001b[0mkwds\u001b[0m\u001b[0;34m[\u001b[0m\u001b[0;34m'allow_leading_cols'\u001b[0m\u001b[0;34m]\u001b[0m \u001b[0;34m=\u001b[0m \u001b[0mself\u001b[0m\u001b[0;34m.\u001b[0m\u001b[0mindex_col\u001b[0m \u001b[0;32mis\u001b[0m \u001b[0;32mnot\u001b[0m \u001b[0mFalse\u001b[0m\u001b[0;34m\u001b[0m\u001b[0m\n\u001b[1;32m   1055\u001b[0m \u001b[0;34m\u001b[0m\u001b[0m\n\u001b[0;32m-> 1056\u001b[0;31m         \u001b[0mself\u001b[0m\u001b[0;34m.\u001b[0m\u001b[0m_reader\u001b[0m \u001b[0;34m=\u001b[0m \u001b[0m_parser\u001b[0m\u001b[0;34m.\u001b[0m\u001b[0mTextReader\u001b[0m\u001b[0;34m(\u001b[0m\u001b[0msrc\u001b[0m\u001b[0;34m,\u001b[0m \u001b[0;34m**\u001b[0m\u001b[0mkwds\u001b[0m\u001b[0;34m)\u001b[0m\u001b[0;34m\u001b[0m\u001b[0m\n\u001b[0m\u001b[1;32m   1057\u001b[0m \u001b[0;34m\u001b[0m\u001b[0m\n\u001b[1;32m   1058\u001b[0m         \u001b[0;31m# XXX\u001b[0m\u001b[0;34m\u001b[0m\u001b[0;34m\u001b[0m\u001b[0m\n",
      "\u001b[0;32mpandas/parser.pyx\u001b[0m in \u001b[0;36mpandas.parser.TextReader.__cinit__ (pandas/parser.c:3136)\u001b[0;34m()\u001b[0m\n",
      "\u001b[0;32mpandas/parser.pyx\u001b[0m in \u001b[0;36mpandas.parser.TextReader._setup_parser_source (pandas/parser.c:5767)\u001b[0;34m()\u001b[0m\n",
      "\u001b[0;31mIOError\u001b[0m: File edgewater.csv does not exist"
     ]
    }
   ],
   "source": [
    "# read the csv\n",
    "df = pd.read_csv('edgewater.csv', index_col=[0], parse_dates=[5,22])"
   ]
  },
  {
   "cell_type": "code",
   "execution_count": 26,
   "metadata": {
    "collapsed": false
   },
   "outputs": [
    {
     "name": "stdout",
     "output_type": "stream",
     "text": [
      "House Number                                   object\n",
      "Street Name                                    object\n",
      "Destabilization Indicator                      object\n",
      "Cert. Delinquent Tax Balance 8/2014           float64\n",
      "Date Acquired                          datetime64[ns]\n",
      "Last Sale Amount                              float64\n",
      "Deed Type                                      object\n",
      "For Sale?                                      object\n",
      "Probable Vacant Lot                             int64\n",
      "Property Class                                 object\n",
      "Land Use Code                                  object\n",
      "Parcel Size (sq ft)                           float64\n",
      "Frontage (sq ft)                              float64\n",
      "Depth (sq ft)                                 float64\n",
      "# of Units                                    float64\n",
      "Total Usable Area (sq ft)                     float64\n",
      "Year Built                                    float64\n",
      "# of Bedrooms                                 float64\n",
      "# of Bathrooms                                float64\n",
      "Estimated Building Value                      float64\n",
      "Neighborhood (imp. 2012)                       object\n",
      "Date of Inspection                     datetime64[ns]\n",
      "Currently Active Condemnations                  int64\n",
      "dtype: object\n",
      "(1944, 23)\n"
     ]
    }
   ],
   "source": [
    "# look at variables and variable types\n",
    "print df.dtypes\n",
    "print df.shape"
   ]
  },
  {
   "cell_type": "code",
   "execution_count": 27,
   "metadata": {
    "collapsed": false
   },
   "outputs": [],
   "source": [
    "# random forest doesn't consider dates, use year instead!\n",
    "df['Acquired Year'] = df['Date Acquired'].apply(lambda x: x.year)\n",
    "df['Inspection Year'] = df['Date of Inspection'].apply(lambda x: x.year)"
   ]
  },
  {
   "cell_type": "code",
   "execution_count": 28,
   "metadata": {
    "collapsed": false
   },
   "outputs": [],
   "source": [
    "# cols = ['Cert. Delinquent Tax Balance 8/2014','Last Sale Amount','Deed Type','Land Use Code','Property Class','Parcel Size (sq ft)','# of Units',\\\n",
    "#         'Year Built','# of Bedrooms','# of Bathrooms','Currently Active Condemnations','Acquired Year','Inspection Year']\n",
    "# transform categorical variables (including NaN's)\n",
    "df2 = df[['Destabilization Indicator','Deed Type','For Sale?','Property Class']]#,'Land Use Code']]\n",
    "prefixes = ['DI','DT','FS','PC']#,'LUC']\n",
    "df3 = pd.concat([pd.get_dummies(df2[col], prefix=prefixes[index]) for index, col in enumerate(df2)], axis=1)"
   ]
  },
  {
   "cell_type": "code",
   "execution_count": 29,
   "metadata": {
    "collapsed": false
   },
   "outputs": [],
   "source": [
    "# concat non-categorical variables\n",
    "df3[['Probable Vacant Lot','Cert. Delinquent Tax Balance 8/2014','Last Sale Amount','Parcel Size (sq ft)','# of Units','Year Built','# of Bedrooms','# of Bathrooms','Estimated Building Value','Currently Active Condemnations','Acquired Year','Inspection Year']] =\\\n",
    "    df[['Probable Vacant Lot','Cert. Delinquent Tax Balance 8/2014','Last Sale Amount','Parcel Size (sq ft)','# of Units','Year Built','# of Bedrooms','# of Bathrooms','Estimated Building Value','Currently Active Condemnations','Acquired Year','Inspection Year']]\n"
   ]
  },
  {
   "cell_type": "code",
   "execution_count": 40,
   "metadata": {
    "collapsed": false
   },
   "outputs": [],
   "source": [
    "# # impute the non-categorical variables using the median/mean or mode \n",
    "# class DataFrameImputer(TransformerMixin):\n",
    "#     def __init__(self):\n",
    "#         \"\"\"Impute missing values.\n",
    "#         Columns of dtype object are imputed with the most frequent value \n",
    "#         in column.\n",
    "#         Columns of other types are imputed with mean of column.\n",
    "#         \"\"\"\n",
    "#     def fit(self, X, y=None):\n",
    "#         self.fill = pd.Series([X[c].value_counts().index[0]\n",
    "#             if X[c].dtype == np.dtype('O') else X[c].median() for c in X],\n",
    "#             index=X.columns)\n",
    "#         return self\n",
    "#     def transform(self, X, y=None):\n",
    "#         return X.fillna(self.fill)\n",
    "\n",
    "# for feature in df3:\n",
    "#     print feature, np.median(df3.loc[df3[feature].notnull(),feature]), len( df3[np.isnan(df3[feature])])\n",
    "#     X = pd.Series(df3[feature])\n",
    "#     df3.loc[np.isnan(df3[feature]), feature] = np.median(df3.loc[df3[feature].notnull(),feature])\n",
    "# #     df3[feature] = DataFrameImputer().fit_transform(X)"
   ]
  },
  {
   "cell_type": "code",
   "execution_count": 31,
   "metadata": {
    "collapsed": false
   },
   "outputs": [],
   "source": [
    "# # impute the non-categorical variables using the median/mean or mode \n",
    "# class DataFrameImputer(TransformerMixin):\n",
    "#     def __init__(self):\n",
    "#         \"\"\"Impute missing values.\n",
    "#         Columns of dtype object are imputed with the most frequent value \n",
    "#         in column.\n",
    "#         Columns of other types are imputed with mean of column.\n",
    "#         \"\"\"\n",
    "#     def fit(self, X, y=None):\n",
    "#         self.fill = pd.Series([X[c].value_counts().index[0]\n",
    "#             if X[c].dtype == np.dtype('O') else X[c].median() for c in X],\n",
    "#             index=X.columns)\n",
    "#         return self\n",
    "#     def transform(self, X, y=None):\n",
    "#         return X.fillna(self.fill)\n",
    "\n",
    "# X = pd.DataFrame(df[cols])\n",
    "# df3[cols] = DataFrameImputer().fit_transform(X)"
   ]
  },
  {
   "cell_type": "code",
   "execution_count": 33,
   "metadata": {
    "collapsed": false
   },
   "outputs": [
    {
     "data": {
      "text/plain": [
       "DI_At Risk                            float64\n",
       "DI_Fore - Awaiting Judgment           float64\n",
       "DI_Fore - Dismiss                     float64\n",
       "DI_Fore - Quasi Active                float64\n",
       "DI_Fore - With Judgment               float64\n",
       "DI_Out of REO                         float64\n",
       "DI_REO - Shf deed not recorded        float64\n",
       "DI_REO - Shf deed recorded            float64\n",
       "DI_Shf sale scheduled                 float64\n",
       "DI_Shf sale withdrawn/sale vacated    float64\n",
       "DT_ADM                                float64\n",
       "DT_AFF                                float64\n",
       "DT_AUD                                float64\n",
       "DT_Admin                              float64\n",
       "DT_Affid                              float64\n",
       "...\n",
       "PC_Land bank                           float64\n",
       "PC_Public utilities                    float64\n",
       "PC_Residential                         float64\n",
       "Probable Vacant Lot                    float64\n",
       "Cert. Delinquent Tax Balance 8/2014    float64\n",
       "Last Sale Amount                       float64\n",
       "Parcel Size (sq ft)                    float64\n",
       "# of Units                             float64\n",
       "Year Built                             float64\n",
       "# of Bedrooms                          float64\n",
       "# of Bathrooms                         float64\n",
       "Estimated Building Value               float64\n",
       "Currently Active Condemnations         float64\n",
       "Acquired Year                          float64\n",
       "Inspection Year                        float64\n",
       "Length: 70, dtype: object"
      ]
     },
     "execution_count": 33,
     "metadata": {},
     "output_type": "execute_result"
    }
   ],
   "source": [
    "# look at variable names and types for transformed data\n",
    "df3.dtypes"
   ]
  },
  {
   "cell_type": "code",
   "execution_count": 38,
   "metadata": {
    "collapsed": false
   },
   "outputs": [
    {
     "data": {
      "text/html": [
       "<div style=\"max-height:1000px;max-width:1500px;overflow:auto;\">\n",
       "<table border=\"1\" class=\"dataframe\">\n",
       "  <thead>\n",
       "    <tr style=\"text-align: right;\">\n",
       "      <th>preds</th>\n",
       "      <th>0</th>\n",
       "      <th>1</th>\n",
       "    </tr>\n",
       "    <tr>\n",
       "      <th>actual</th>\n",
       "      <th></th>\n",
       "      <th></th>\n",
       "    </tr>\n",
       "  </thead>\n",
       "  <tbody>\n",
       "    <tr>\n",
       "      <th>0</th>\n",
       "      <td> 944</td>\n",
       "      <td>  6</td>\n",
       "    </tr>\n",
       "    <tr>\n",
       "      <th>1</th>\n",
       "      <td>   9</td>\n",
       "      <td> 33</td>\n",
       "    </tr>\n",
       "  </tbody>\n",
       "</table>\n",
       "</div>"
      ],
      "text/plain": [
       "preds     0   1\n",
       "actual         \n",
       "0       944   6\n",
       "1         9  33"
      ]
     },
     "execution_count": 38,
     "metadata": {},
     "output_type": "execute_result"
    }
   ],
   "source": [
    "# train and test the classifier, look at results in a cross tabulation\n",
    "# NOTE: we can get probabilities instead of a prediction!\n",
    "\n",
    "# take out half the data for the test set\n",
    "df3['is_train'] = np.random.uniform(0, 1, len(df3)) <= .5\n",
    "train, test = df3[df3['is_train']==True], df3[df3['is_train']==False]\n",
    " \n",
    "features = list(df3.columns)\n",
    "features.remove('Probable Vacant Lot')\n",
    "\n",
    "rf = RandomForestClassifier(n_estimators=1000, min_samples_leaf=1, random_state=0)\n",
    "# rf = RandomForestClassifier(n_estimators=10, criterion='gini', \\\n",
    "#                                    max_depth=None, min_samples_split=2, min_samples_leaf=1,\\\n",
    "#                                    max_features='auto', max_leaf_nodes=None, bootstrap=True,\\\n",
    "#                                    oob_score=False, n_jobs=1, random_state=None, verbose=0,\\\n",
    "#                                    min_density=None, compute_importances=None)\n",
    "y, _ = pd.factorize(train['Probable Vacant Lot'])\n",
    "rf.fit(train[features], y)\n",
    " \n",
    "preds = rf.predict(test[features])\n",
    "pd.crosstab(test['Probable Vacant Lot'], preds, rownames=['actual'], colnames=['preds'])"
   ]
  },
  {
   "cell_type": "code",
   "execution_count": 41,
   "metadata": {
    "collapsed": false
   },
   "outputs": [
    {
     "data": {
      "text/html": [
       "<div style=\"max-height:1000px;max-width:1500px;overflow:auto;\">\n",
       "<table border=\"1\" class=\"dataframe\">\n",
       "  <thead>\n",
       "    <tr style=\"text-align: right;\">\n",
       "      <th>preds</th>\n",
       "      <th>0</th>\n",
       "      <th>1</th>\n",
       "    </tr>\n",
       "    <tr>\n",
       "      <th>actual</th>\n",
       "      <th></th>\n",
       "      <th></th>\n",
       "    </tr>\n",
       "  </thead>\n",
       "  <tbody>\n",
       "    <tr>\n",
       "      <th>0</th>\n",
       "      <td> 906</td>\n",
       "      <td>  1</td>\n",
       "    </tr>\n",
       "    <tr>\n",
       "      <th>1</th>\n",
       "      <td>   0</td>\n",
       "      <td> 45</td>\n",
       "    </tr>\n",
       "  </tbody>\n",
       "</table>\n",
       "</div>"
      ],
      "text/plain": [
       "preds     0   1\n",
       "actual         \n",
       "0       906   1\n",
       "1         0  45"
      ]
     },
     "execution_count": 41,
     "metadata": {},
     "output_type": "execute_result"
    }
   ],
   "source": [
    "preds = rf.predict(train[features])\n",
    "pd.crosstab(train['Probable Vacant Lot'], preds, rownames=['actual'], colnames=['preds'])"
   ]
  },
  {
   "cell_type": "code",
   "execution_count": 39,
   "metadata": {
    "collapsed": false
   },
   "outputs": [
    {
     "name": "stdout",
     "output_type": "stream",
     "text": [
      "Feature ranking:\n",
      "1. feature 65, Estimated Building Value (0.277093)\n",
      "2. feature 52, PC_Commercial (0.085930)\n",
      "3. feature 59, Last Sale Amount (0.085884)\n",
      "4. feature 67, Acquired Year (0.084291)\n",
      "5. feature 60, Parcel Size (sq ft) (0.082949)\n",
      "6. feature 54, PC_Industrial (0.046237)\n",
      "7. feature 62, Year Built (0.041094)\n",
      "8. feature 57, PC_Residential (0.038881)\n",
      "9. feature 68, Inspection Year (0.038238)\n",
      "10. feature 61, # of Units (0.035575)\n"
     ]
    },
    {
     "data": {
      "image/png": "[encoded data removed]",
      "text/plain": [
       "<matplotlib.figure.Figure at 0xe769d70>"
      ]
     },
     "metadata": {},
     "output_type": "display_data"
    }
   ],
   "source": [
    "# plot the top ten features\n",
    "\n",
    "importances = rf.feature_importances_\n",
    "std = np.std([tree.feature_importances_ for tree in rf.estimators_],\n",
    "             axis=0)\n",
    "indices = np.argsort(importances)[::-1]\n",
    "\n",
    "# Print the feature ranking\n",
    "print(\"Feature ranking:\")\n",
    "\n",
    "for f in range(10):\n",
    "    print(\"%d. feature %d, %s (%f)\" % (f + 1, indices[f], features[indices[f]], importances[indices[f]]))\n",
    "# Plot the feature importances of the forest\n",
    "plt.figure()\n",
    "plt.title(\"Feature importances\")\n",
    "plt.bar(range(10), importances[indices[0:10]], color=\"r\", yerr=std[indices[0:10]], align=\"center\")\n",
    "plt.xticks(range(10), indices[0:10])\n",
    "plt.xlim([-1, 10])\n",
    "plt.show()"
   ]
  },
  {
   "cell_type": "code",
   "execution_count": null,
   "metadata": {
    "collapsed": false
   },
   "outputs": [],
   "source": []
  }
 ],
 "metadata": {
  "kernelspec": {
   "display_name": "Python 2",
   "language": "python",
   "name": "python2"
  },
  "language_info": {
   "codemirror_mode": {
    "name": "ipython",
    "version": 2
   },
   "file_extension": ".py",
   "mimetype": "text/x-python",
   "name": "python",
   "nbconvert_exporter": "python",
   "pygments_lexer": "ipython2",
   "version": "2.7.9"
  }
 },
 "nbformat": 4,
 "nbformat_minor": 0
}
