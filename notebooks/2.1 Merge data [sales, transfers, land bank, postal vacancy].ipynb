{
 "cells": [
  {
   "cell_type": "markdown",
   "metadata": {},
   "source": [
    "# Combine Data (not from prop)\n",
    "\n",
    "Data has now been filtered for the parcel numbers in the existing dataset. The end goal is to have a dataset with one row for each parcel in which to build the model. **Imputation will occur in a separate notebook!**\n",
    "\n",
    "However, we can't forget to explore the existing data for trends or insight along the way, as well as engineer features as we see fit."
   ]
  },
  {
   "cell_type": "code",
   "execution_count": 133,
   "metadata": {
    "collapsed": false
   },
   "outputs": [
    {
     "name": "stdout",
     "output_type": "stream",
     "text": [
      "/Volumes/Dropbox-1/largetransfer/luc/carter\n"
     ]
    }
   ],
   "source": [
    "import matplotlib.pyplot as plt\n",
    "import seaborn as sns\n",
    "import pandas as pd\n",
    "import numpy as np\n",
    "import os\n",
    "\n",
    "%matplotlib inline\n",
    "\n",
    "path = '/'.join(os.getcwd().split('/')[:-1])\n",
    "print path"
   ]
  },
  {
   "cell_type": "code",
   "execution_count": 134,
   "metadata": {
    "collapsed": false,
    "scrolled": true
   },
   "outputs": [
    {
     "name": "stderr",
     "output_type": "stream",
     "text": [
      "//anaconda/lib/python2.7/site-packages/pandas/io/parsers.py:1170: DtypeWarning: Columns (0) have mixed types. Specify dtype option on import or set low_memory=False.\n",
      "  data = self._reader.read(nrows)\n"
     ]
    }
   ],
   "source": [
    "tci = pd.read_csv(path+'/data/model_data/tci_2_0.csv')\n",
    "ppns = set(tci['ppn'])"
   ]
  },
  {
   "cell_type": "code",
   "execution_count": 135,
   "metadata": {
    "collapsed": false
   },
   "outputs": [
    {
     "data": {
      "text/plain": [
       "(122560, 45)"
      ]
     },
     "execution_count": 135,
     "metadata": {},
     "output_type": "execute_result"
    }
   ],
   "source": [
    "tci.shape"
   ]
  },
  {
   "cell_type": "markdown",
   "metadata": {},
   "source": [
    "## Arms length sales"
   ]
  },
  {
   "cell_type": "code",
   "execution_count": 136,
   "metadata": {
    "collapsed": false,
    "scrolled": true
   },
   "outputs": [],
   "source": [
    "al = pd.read_csv(path+'/data/clean_data/armslength.csv')\n",
    "al = al.drop_duplicates()"
   ]
  },
  {
   "cell_type": "code",
   "execution_count": 137,
   "metadata": {
    "collapsed": false
   },
   "outputs": [
    {
     "data": {
      "text/plain": [
       "(58932, 86)"
      ]
     },
     "execution_count": 137,
     "metadata": {},
     "output_type": "execute_result"
    }
   ],
   "source": [
    "al.shape"
   ]
  },
  {
   "cell_type": "code",
   "execution_count": 138,
   "metadata": {
    "collapsed": false
   },
   "outputs": [
    {
     "data": {
      "text/plain": [
       "GRANTOR_IS_MORTGAGEE\n",
       "0    0.087703\n",
       "1    0.153005\n",
       "2    0.000000\n",
       "dtype: float64"
      ]
     },
     "execution_count": 138,
     "metadata": {},
     "output_type": "execute_result"
    }
   ],
   "source": [
    "tem = pd.merge(tci, al[['GRANTOR_IS_MORTGAGEE','PROPERTY_NUMBER']].groupby('PROPERTY_NUMBER').sum(), \\\n",
    "               how='left', left_on='ppn', right_index=True)\n",
    "tem.loc[tem['GRANTOR_IS_MORTGAGEE'].isnull(),'GRANTOR_IS_MORTGAGEE'] = 0\n",
    "\n",
    "t = tem.loc[tem.vacant>-1,['vacant','GRANTOR_IS_MORTGAGEE']].groupby('GRANTOR_IS_MORTGAGEE').agg([len,sum])\n",
    "t.vacant['sum']/t.vacant['len']"
   ]
  },
  {
   "cell_type": "code",
   "execution_count": 139,
   "metadata": {
    "collapsed": false
   },
   "outputs": [
    {
     "data": {
      "text/html": [
       "<div>\n",
       "<table border=\"1\" class=\"dataframe\">\n",
       "  <thead>\n",
       "    <tr>\n",
       "      <th></th>\n",
       "      <th colspan=\"2\" halign=\"left\">vacant</th>\n",
       "    </tr>\n",
       "    <tr>\n",
       "      <th></th>\n",
       "      <th>len</th>\n",
       "      <th>sum</th>\n",
       "    </tr>\n",
       "    <tr>\n",
       "      <th>GRANTOR_IS_MORTGAGEE</th>\n",
       "      <th></th>\n",
       "      <th></th>\n",
       "    </tr>\n",
       "  </thead>\n",
       "  <tbody>\n",
       "    <tr>\n",
       "      <th>0</th>\n",
       "      <td>110966</td>\n",
       "      <td>9732</td>\n",
       "    </tr>\n",
       "    <tr>\n",
       "      <th>1</th>\n",
       "      <td>183</td>\n",
       "      <td>28</td>\n",
       "    </tr>\n",
       "    <tr>\n",
       "      <th>2</th>\n",
       "      <td>1</td>\n",
       "      <td>0</td>\n",
       "    </tr>\n",
       "  </tbody>\n",
       "</table>\n",
       "</div>"
      ],
      "text/plain": [
       "                      vacant      \n",
       "                         len   sum\n",
       "GRANTOR_IS_MORTGAGEE              \n",
       "0                     110966  9732\n",
       "1                        183    28\n",
       "2                          1     0"
      ]
     },
     "execution_count": 139,
     "metadata": {},
     "output_type": "execute_result"
    }
   ],
   "source": [
    "t"
   ]
  },
  {
   "cell_type": "markdown",
   "metadata": {},
   "source": [
    "### Number of records for each parcel"
   ]
  },
  {
   "cell_type": "code",
   "execution_count": 140,
   "metadata": {
    "collapsed": false
   },
   "outputs": [],
   "source": [
    "tci = pd.merge(tci, al[['PROPERTY_NUMBER','YEAR_OF_SALE']].groupby('PROPERTY_NUMBER').count(), \\\n",
    "               how='left', left_on='ppn', right_index=True)\n",
    "tci['YEAR_OF_SALE'] = tci['YEAR_OF_SALE'].fillna(0)\n",
    "tci = tci.rename(columns = {'YEAR_OF_SALE':'num_of_sales'})"
   ]
  },
  {
   "cell_type": "code",
   "execution_count": 141,
   "metadata": {
    "collapsed": false
   },
   "outputs": [
    {
     "data": {
      "text/plain": [
       "num_of_sales\n",
       "0    0.074225\n",
       "1    0.100127\n",
       "2    0.147637\n",
       "3    0.199564\n",
       "4    0.310621\n",
       "5    0.316667\n",
       "6    0.407407\n",
       "7    0.571429\n",
       "dtype: float64"
      ]
     },
     "execution_count": 141,
     "metadata": {},
     "output_type": "execute_result"
    }
   ],
   "source": [
    "t = tci.loc[tci.vacant>-1,['vacant','num_of_sales']].groupby('num_of_sales').agg([len,sum])\n",
    "t.vacant['sum']/t.vacant['len']"
   ]
  },
  {
   "cell_type": "code",
   "execution_count": 142,
   "metadata": {
    "collapsed": false
   },
   "outputs": [
    {
     "data": {
      "text/html": [
       "<div>\n",
       "<table border=\"1\" class=\"dataframe\">\n",
       "  <thead>\n",
       "    <tr>\n",
       "      <th></th>\n",
       "      <th colspan=\"2\" halign=\"left\">vacant</th>\n",
       "    </tr>\n",
       "    <tr>\n",
       "      <th></th>\n",
       "      <th>len</th>\n",
       "      <th>sum</th>\n",
       "    </tr>\n",
       "    <tr>\n",
       "      <th>num_of_sales</th>\n",
       "      <th></th>\n",
       "      <th></th>\n",
       "    </tr>\n",
       "  </thead>\n",
       "  <tbody>\n",
       "    <tr>\n",
       "      <th>0</th>\n",
       "      <td>77629</td>\n",
       "      <td>5762</td>\n",
       "    </tr>\n",
       "    <tr>\n",
       "      <th>1</th>\n",
       "      <td>24369</td>\n",
       "      <td>2440</td>\n",
       "    </tr>\n",
       "    <tr>\n",
       "      <th>2</th>\n",
       "      <td>6665</td>\n",
       "      <td>984</td>\n",
       "    </tr>\n",
       "    <tr>\n",
       "      <th>3</th>\n",
       "      <td>1834</td>\n",
       "      <td>366</td>\n",
       "    </tr>\n",
       "    <tr>\n",
       "      <th>4</th>\n",
       "      <td>499</td>\n",
       "      <td>155</td>\n",
       "    </tr>\n",
       "    <tr>\n",
       "      <th>5</th>\n",
       "      <td>120</td>\n",
       "      <td>38</td>\n",
       "    </tr>\n",
       "    <tr>\n",
       "      <th>6</th>\n",
       "      <td>27</td>\n",
       "      <td>11</td>\n",
       "    </tr>\n",
       "    <tr>\n",
       "      <th>7</th>\n",
       "      <td>7</td>\n",
       "      <td>4</td>\n",
       "    </tr>\n",
       "  </tbody>\n",
       "</table>\n",
       "</div>"
      ],
      "text/plain": [
       "             vacant      \n",
       "                len   sum\n",
       "num_of_sales             \n",
       "0             77629  5762\n",
       "1             24369  2440\n",
       "2              6665   984\n",
       "3              1834   366\n",
       "4               499   155\n",
       "5               120    38\n",
       "6                27    11\n",
       "7                 7     4"
      ]
     },
     "execution_count": 142,
     "metadata": {},
     "output_type": "execute_result"
    }
   ],
   "source": [
    "t"
   ]
  },
  {
   "cell_type": "markdown",
   "metadata": {},
   "source": [
    "### Flags for Deeds"
   ]
  },
  {
   "cell_type": "code",
   "execution_count": 143,
   "metadata": {
    "collapsed": false
   },
   "outputs": [],
   "source": [
    "def add_deed_fields(field_names):\n",
    "    for field_name in field_names:\n",
    "        deed_ppns = set(al[al.DEED_TYPE==field_name].PROPERTY_NUMBER)                \n",
    "        def get_deed_field(x):\n",
    "            if x in deed_ppns:\n",
    "                return 1\n",
    "            else:\n",
    "                return 0\n",
    "\n",
    "        tci[field_name.lower().replace(' ','_')] = tci['ppn'].apply(get_deed_field)\n",
    "    return tci"
   ]
  },
  {
   "cell_type": "code",
   "execution_count": 144,
   "metadata": {
    "collapsed": false
   },
   "outputs": [],
   "source": [
    "tci = add_deed_fields(['QUIT CLAIM DEED', 'WARRANTY DEED', 'LIMITED WARRANTY', 'SURVIVORSHIP DEED','FIDUCIARY DEED'])"
   ]
  },
  {
   "cell_type": "code",
   "execution_count": 145,
   "metadata": {
    "collapsed": false
   },
   "outputs": [
    {
     "data": {
      "text/plain": [
       "(122560, 51)"
      ]
     },
     "execution_count": 145,
     "metadata": {},
     "output_type": "execute_result"
    }
   ],
   "source": [
    "tci.shape"
   ]
  },
  {
   "cell_type": "code",
   "execution_count": 146,
   "metadata": {
    "collapsed": false
   },
   "outputs": [
    {
     "data": {
      "text/html": [
       "<div>\n",
       "<table border=\"1\" class=\"dataframe\">\n",
       "  <thead>\n",
       "    <tr>\n",
       "      <th></th>\n",
       "      <th colspan=\"2\" halign=\"left\">vacant</th>\n",
       "    </tr>\n",
       "    <tr>\n",
       "      <th></th>\n",
       "      <th>sum</th>\n",
       "      <th>len</th>\n",
       "    </tr>\n",
       "    <tr>\n",
       "      <th>quit_claim_deed</th>\n",
       "      <th></th>\n",
       "      <th></th>\n",
       "    </tr>\n",
       "  </thead>\n",
       "  <tbody>\n",
       "    <tr>\n",
       "      <th>0</th>\n",
       "      <td>8890</td>\n",
       "      <td>107327</td>\n",
       "    </tr>\n",
       "    <tr>\n",
       "      <th>1</th>\n",
       "      <td>870</td>\n",
       "      <td>3823</td>\n",
       "    </tr>\n",
       "  </tbody>\n",
       "</table>\n",
       "</div>"
      ],
      "text/plain": [
       "                vacant        \n",
       "                   sum     len\n",
       "quit_claim_deed               \n",
       "0                 8890  107327\n",
       "1                  870    3823"
      ]
     },
     "execution_count": 146,
     "metadata": {},
     "output_type": "execute_result"
    }
   ],
   "source": [
    "tci.loc[tci.vacant>-1,['quit_claim_deed','vacant']].groupby('quit_claim_deed').agg([sum,len])"
   ]
  },
  {
   "cell_type": "markdown",
   "metadata": {},
   "source": [
    "### Sale Valid {0, 1, 2}"
   ]
  },
  {
   "cell_type": "code",
   "execution_count": 147,
   "metadata": {
    "collapsed": false
   },
   "outputs": [],
   "source": [
    "al = al.sort('YEAR_OF_SALE')"
   ]
  },
  {
   "cell_type": "code",
   "execution_count": 148,
   "metadata": {
    "collapsed": false
   },
   "outputs": [
    {
     "data": {
      "text/plain": [
       "Index([u'AMOUNT_PAID', u'ASSUMED_LOAN_AMOUNT', u'AUTO_FILE_NUMBER',\n",
       "       u'BUILDINGS_ON_LAND', u'CAMA_INV_FILE', u'CAMA_SALE_FILE',\n",
       "       u'CHANGE_TIMESTAMP', u'CONVEYANCE_FEE', u'DEED_TYPE', u'EXEMPTCODE',\n",
       "       u'EXEMPTCODE_DESCR', u'FEE_CHECK_NUM', u'FEE_PAID_BY', u'GIFT',\n",
       "       u'GRANTEE1', u'GRANTOR1', u'GRANTOR_IS_MORTGAGEE',\n",
       "       u'GRANTOR_IS_RELATIVE', u'INSTRUMENT_DATE', u'INSTRUMENT_TYPE',\n",
       "       u'LAND_CONTRACT', u'LEASED_FEE', u'LEASE_HOLD', u'LIFE_ESTATE',\n",
       "       u'MINERAL_RIGHTS_RESERVED', u'MONTH_OF_SALE', u'MOTHER',\n",
       "       u'NUMBER_OF_PROPERTIES_IN_SALE', u'PARTINTER_EST_TRANSFERRED',\n",
       "       u'PERMISSIVE_FEE', u'PERSONAL_PROPERTY_AMOUNT', u'PROPERTY_NUMBER',\n",
       "       u'RECEIPT_NUMBER', u'RECORDED_BOOK', u'RECORDED_DATE', u'RECORDED_PAGE',\n",
       "       u'SALES_AMOUNT', u'SALES_SOURCE', u'SALES_SOURCE_DESCR', u'SALE_VALID',\n",
       "       u'TRADE', u'mdate', u'TRANSFER_FEE', u'TRANSFER_FROM_PARCEL',\n",
       "       u'TRANSFER_HISTORY_ID', u'TRANSFER_NUMBER', u'TRANSFER_ORDER',\n",
       "       u'TRANSFER_STATUS', u'TRANSFER_TO_ID', u'TRANSFER_TYPE',\n",
       "       u'TRANSFER_TYPE_DESCR', u'UPDATE_DATE', u'USER_ID', u'WHS_ID',\n",
       "       u'YEAR_OF_SALE', u'DOWNLOAD_DATE', u'instrument_number', u'deed_number',\n",
       "       u'multiproperty_sale', u'ppn', u'conveyance_number', u'PARCEL_ID',\n",
       "       u'td', u'ct', u'id', u'rd', u'par', u'yr', u'seqno', u'buyer', u'nbuy',\n",
       "       u'ngrantee1', u'nsell', u'ngrantor1', u'bk56', u'trustee', u'shf_sales',\n",
       "       u'final_cat', u'stdname', u'cons_name', u'armslength', u'std_ngrantee1',\n",
       "       u'std_ngrantor1', u'count', u'self_sales', u'bulk_sales'],\n",
       "      dtype='object')"
      ]
     },
     "execution_count": 148,
     "metadata": {},
     "output_type": "execute_result"
    }
   ],
   "source": [
    "al.columns"
   ]
  },
  {
   "cell_type": "code",
   "execution_count": 149,
   "metadata": {
    "collapsed": false
   },
   "outputs": [
    {
     "data": {
      "image/png": "[encoded data removed]",
      "text/plain": [
       "<matplotlib.figure.Figure at 0x15202af90>"
      ]
     },
     "metadata": {},
     "output_type": "display_data"
    }
   ],
   "source": [
    "plt.hist(al[al.AMOUNT_PAID<2000].AMOUNT_PAID,20);"
   ]
  },
  {
   "cell_type": "code",
   "execution_count": 150,
   "metadata": {
    "collapsed": false,
    "scrolled": true
   },
   "outputs": [
    {
     "data": {
      "text/html": [
       "<div>\n",
       "<table border=\"1\" class=\"dataframe\">\n",
       "  <thead>\n",
       "    <tr style=\"text-align: right;\">\n",
       "      <th></th>\n",
       "      <th>SALE_VALID</th>\n",
       "      <th>AMOUNT_PAID</th>\n",
       "    </tr>\n",
       "    <tr>\n",
       "      <th>PROPERTY_NUMBER</th>\n",
       "      <th></th>\n",
       "      <th></th>\n",
       "    </tr>\n",
       "  </thead>\n",
       "  <tbody>\n",
       "    <tr>\n",
       "      <th>001-01-003</th>\n",
       "      <td>0</td>\n",
       "      <td>6400.5</td>\n",
       "    </tr>\n",
       "    <tr>\n",
       "      <th>001-01-004</th>\n",
       "      <td>0</td>\n",
       "      <td>1168.5</td>\n",
       "    </tr>\n",
       "    <tr>\n",
       "      <th>001-01-008</th>\n",
       "      <td>0</td>\n",
       "      <td>2000.5</td>\n",
       "    </tr>\n",
       "    <tr>\n",
       "      <th>001-01-009</th>\n",
       "      <td>2</td>\n",
       "      <td>0.0</td>\n",
       "    </tr>\n",
       "    <tr>\n",
       "      <th>001-01-011</th>\n",
       "      <td>2</td>\n",
       "      <td>706.1</td>\n",
       "    </tr>\n",
       "    <tr>\n",
       "      <th>001-01-015</th>\n",
       "      <td>0</td>\n",
       "      <td>1170.5</td>\n",
       "    </tr>\n",
       "    <tr>\n",
       "      <th>001-01-018</th>\n",
       "      <td>2</td>\n",
       "      <td>0.0</td>\n",
       "    </tr>\n",
       "    <tr>\n",
       "      <th>001-01-024</th>\n",
       "      <td>2</td>\n",
       "      <td>660.5</td>\n",
       "    </tr>\n",
       "    <tr>\n",
       "      <th>001-01-027</th>\n",
       "      <td>2</td>\n",
       "      <td>942.5</td>\n",
       "    </tr>\n",
       "    <tr>\n",
       "      <th>001-01-028</th>\n",
       "      <td>2</td>\n",
       "      <td>800.5</td>\n",
       "    </tr>\n",
       "    <tr>\n",
       "      <th>001-01-029</th>\n",
       "      <td>0</td>\n",
       "      <td>1090.5</td>\n",
       "    </tr>\n",
       "    <tr>\n",
       "      <th>001-01-031</th>\n",
       "      <td>2</td>\n",
       "      <td>780.5</td>\n",
       "    </tr>\n",
       "    <tr>\n",
       "      <th>001-01-032</th>\n",
       "      <td>2</td>\n",
       "      <td>0.0</td>\n",
       "    </tr>\n",
       "    <tr>\n",
       "      <th>001-01-034</th>\n",
       "      <td>0</td>\n",
       "      <td>4900.5</td>\n",
       "    </tr>\n",
       "    <tr>\n",
       "      <th>001-01-043</th>\n",
       "      <td>0</td>\n",
       "      <td>1020.5</td>\n",
       "    </tr>\n",
       "    <tr>\n",
       "      <th>001-02-004</th>\n",
       "      <td>2</td>\n",
       "      <td>2800.5</td>\n",
       "    </tr>\n",
       "    <tr>\n",
       "      <th>001-02-005</th>\n",
       "      <td>2</td>\n",
       "      <td>0.0</td>\n",
       "    </tr>\n",
       "    <tr>\n",
       "      <th>001-02-007</th>\n",
       "      <td>2</td>\n",
       "      <td>2200.1</td>\n",
       "    </tr>\n",
       "    <tr>\n",
       "      <th>001-02-009</th>\n",
       "      <td>0</td>\n",
       "      <td>2148.5</td>\n",
       "    </tr>\n",
       "    <tr>\n",
       "      <th>001-02-013</th>\n",
       "      <td>0</td>\n",
       "      <td>1300.5</td>\n",
       "    </tr>\n",
       "    <tr>\n",
       "      <th>001-02-015</th>\n",
       "      <td>2</td>\n",
       "      <td>1970.5</td>\n",
       "    </tr>\n",
       "    <tr>\n",
       "      <th>001-02-020</th>\n",
       "      <td>0</td>\n",
       "      <td>1356.5</td>\n",
       "    </tr>\n",
       "    <tr>\n",
       "      <th>001-02-021</th>\n",
       "      <td>2</td>\n",
       "      <td>934.1</td>\n",
       "    </tr>\n",
       "    <tr>\n",
       "      <th>001-02-023</th>\n",
       "      <td>2</td>\n",
       "      <td>1800.5</td>\n",
       "    </tr>\n",
       "    <tr>\n",
       "      <th>001-02-029</th>\n",
       "      <td>0</td>\n",
       "      <td>626.5</td>\n",
       "    </tr>\n",
       "    <tr>\n",
       "      <th>001-02-030</th>\n",
       "      <td>0</td>\n",
       "      <td>980.5</td>\n",
       "    </tr>\n",
       "    <tr>\n",
       "      <th>001-02-035</th>\n",
       "      <td>2</td>\n",
       "      <td>0.0</td>\n",
       "    </tr>\n",
       "    <tr>\n",
       "      <th>001-03-010</th>\n",
       "      <td>0</td>\n",
       "      <td>809.3</td>\n",
       "    </tr>\n",
       "    <tr>\n",
       "      <th>001-03-015</th>\n",
       "      <td>0</td>\n",
       "      <td>1460.5</td>\n",
       "    </tr>\n",
       "    <tr>\n",
       "      <th>001-03-016</th>\n",
       "      <td>0</td>\n",
       "      <td>1420.5</td>\n",
       "    </tr>\n",
       "    <tr>\n",
       "      <th>...</th>\n",
       "      <td>...</td>\n",
       "      <td>...</td>\n",
       "    </tr>\n",
       "    <tr>\n",
       "      <th>546-19-069</th>\n",
       "      <td>0</td>\n",
       "      <td>80.1</td>\n",
       "    </tr>\n",
       "    <tr>\n",
       "      <th>631-14-039</th>\n",
       "      <td>2</td>\n",
       "      <td>160.5</td>\n",
       "    </tr>\n",
       "    <tr>\n",
       "      <th>631-14-040</th>\n",
       "      <td>0</td>\n",
       "      <td>284.5</td>\n",
       "    </tr>\n",
       "    <tr>\n",
       "      <th>646-20-007</th>\n",
       "      <td>0</td>\n",
       "      <td>0.0</td>\n",
       "    </tr>\n",
       "    <tr>\n",
       "      <th>672-02-125</th>\n",
       "      <td>0</td>\n",
       "      <td>220.5</td>\n",
       "    </tr>\n",
       "    <tr>\n",
       "      <th>672-13-022</th>\n",
       "      <td>2</td>\n",
       "      <td>0.0</td>\n",
       "    </tr>\n",
       "    <tr>\n",
       "      <th>672-14-132</th>\n",
       "      <td>2</td>\n",
       "      <td>4.5</td>\n",
       "    </tr>\n",
       "    <tr>\n",
       "      <th>673-14-003</th>\n",
       "      <td>0</td>\n",
       "      <td>501.5</td>\n",
       "    </tr>\n",
       "    <tr>\n",
       "      <th>673-16-002</th>\n",
       "      <td>0</td>\n",
       "      <td>36.5</td>\n",
       "    </tr>\n",
       "    <tr>\n",
       "      <th>673-16-025</th>\n",
       "      <td>2</td>\n",
       "      <td>90.9</td>\n",
       "    </tr>\n",
       "    <tr>\n",
       "      <th>673-16-070</th>\n",
       "      <td>0</td>\n",
       "      <td>40.5</td>\n",
       "    </tr>\n",
       "    <tr>\n",
       "      <th>731-12-031</th>\n",
       "      <td>2</td>\n",
       "      <td>12.5</td>\n",
       "    </tr>\n",
       "    <tr>\n",
       "      <th>731-15-052</th>\n",
       "      <td>2</td>\n",
       "      <td>0.0</td>\n",
       "    </tr>\n",
       "    <tr>\n",
       "      <th>735-15-074</th>\n",
       "      <td>2</td>\n",
       "      <td>0.0</td>\n",
       "    </tr>\n",
       "    <tr>\n",
       "      <th>735-20-001</th>\n",
       "      <td>2</td>\n",
       "      <td>0.0</td>\n",
       "    </tr>\n",
       "    <tr>\n",
       "      <th>735-20-159</th>\n",
       "      <td>0</td>\n",
       "      <td>248.5</td>\n",
       "    </tr>\n",
       "    <tr>\n",
       "      <th>735-20-161</th>\n",
       "      <td>0</td>\n",
       "      <td>600.5</td>\n",
       "    </tr>\n",
       "    <tr>\n",
       "      <th>735-21-008</th>\n",
       "      <td>0</td>\n",
       "      <td>386.5</td>\n",
       "    </tr>\n",
       "    <tr>\n",
       "      <th>735-21-009</th>\n",
       "      <td>0</td>\n",
       "      <td>242.5</td>\n",
       "    </tr>\n",
       "    <tr>\n",
       "      <th>735-21-011</th>\n",
       "      <td>0</td>\n",
       "      <td>40.5</td>\n",
       "    </tr>\n",
       "    <tr>\n",
       "      <th>735-21-012</th>\n",
       "      <td>0</td>\n",
       "      <td>616.5</td>\n",
       "    </tr>\n",
       "    <tr>\n",
       "      <th>735-21-016</th>\n",
       "      <td>2</td>\n",
       "      <td>216.1</td>\n",
       "    </tr>\n",
       "    <tr>\n",
       "      <th>735-21-017</th>\n",
       "      <td>0</td>\n",
       "      <td>472.5</td>\n",
       "    </tr>\n",
       "    <tr>\n",
       "      <th>735-21-022</th>\n",
       "      <td>0</td>\n",
       "      <td>46.9</td>\n",
       "    </tr>\n",
       "    <tr>\n",
       "      <th>761-01-019</th>\n",
       "      <td>2</td>\n",
       "      <td>0.0</td>\n",
       "    </tr>\n",
       "    <tr>\n",
       "      <th>761-11-024</th>\n",
       "      <td>0</td>\n",
       "      <td>272.5</td>\n",
       "    </tr>\n",
       "    <tr>\n",
       "      <th>761-11-033</th>\n",
       "      <td>0</td>\n",
       "      <td>360.5</td>\n",
       "    </tr>\n",
       "    <tr>\n",
       "      <th>761-13-043</th>\n",
       "      <td>0</td>\n",
       "      <td>384.5</td>\n",
       "    </tr>\n",
       "    <tr>\n",
       "      <th>761-13-045</th>\n",
       "      <td>2</td>\n",
       "      <td>0.0</td>\n",
       "    </tr>\n",
       "    <tr>\n",
       "      <th>761-15-151</th>\n",
       "      <td>2</td>\n",
       "      <td>0.0</td>\n",
       "    </tr>\n",
       "  </tbody>\n",
       "</table>\n",
       "<p>42634 rows × 2 columns</p>\n",
       "</div>"
      ],
      "text/plain": [
       "                 SALE_VALID  AMOUNT_PAID\n",
       "PROPERTY_NUMBER                         \n",
       "001-01-003                0       6400.5\n",
       "001-01-004                0       1168.5\n",
       "001-01-008                0       2000.5\n",
       "001-01-009                2          0.0\n",
       "001-01-011                2        706.1\n",
       "001-01-015                0       1170.5\n",
       "001-01-018                2          0.0\n",
       "001-01-024                2        660.5\n",
       "001-01-027                2        942.5\n",
       "001-01-028                2        800.5\n",
       "001-01-029                0       1090.5\n",
       "001-01-031                2        780.5\n",
       "001-01-032                2          0.0\n",
       "001-01-034                0       4900.5\n",
       "001-01-043                0       1020.5\n",
       "001-02-004                2       2800.5\n",
       "001-02-005                2          0.0\n",
       "001-02-007                2       2200.1\n",
       "001-02-009                0       2148.5\n",
       "001-02-013                0       1300.5\n",
       "001-02-015                2       1970.5\n",
       "001-02-020                0       1356.5\n",
       "001-02-021                2        934.1\n",
       "001-02-023                2       1800.5\n",
       "001-02-029                0        626.5\n",
       "001-02-030                0        980.5\n",
       "001-02-035                2          0.0\n",
       "001-03-010                0        809.3\n",
       "001-03-015                0       1460.5\n",
       "001-03-016                0       1420.5\n",
       "...                     ...          ...\n",
       "546-19-069                0         80.1\n",
       "631-14-039                2        160.5\n",
       "631-14-040                0        284.5\n",
       "646-20-007                0          0.0\n",
       "672-02-125                0        220.5\n",
       "672-13-022                2          0.0\n",
       "672-14-132                2          4.5\n",
       "673-14-003                0        501.5\n",
       "673-16-002                0         36.5\n",
       "673-16-025                2         90.9\n",
       "673-16-070                0         40.5\n",
       "731-12-031                2         12.5\n",
       "731-15-052                2          0.0\n",
       "735-15-074                2          0.0\n",
       "735-20-001                2          0.0\n",
       "735-20-159                0        248.5\n",
       "735-20-161                0        600.5\n",
       "735-21-008                0        386.5\n",
       "735-21-009                0        242.5\n",
       "735-21-011                0         40.5\n",
       "735-21-012                0        616.5\n",
       "735-21-016                2        216.1\n",
       "735-21-017                0        472.5\n",
       "735-21-022                0         46.9\n",
       "761-01-019                2          0.0\n",
       "761-11-024                0        272.5\n",
       "761-11-033                0        360.5\n",
       "761-13-043                0        384.5\n",
       "761-13-045                2          0.0\n",
       "761-15-151                2          0.0\n",
       "\n",
       "[42634 rows x 2 columns]"
      ]
     },
     "execution_count": 150,
     "metadata": {},
     "output_type": "execute_result"
    }
   ],
   "source": [
    "al[['SALE_VALID','AMOUNT_PAID','PROPERTY_NUMBER']].groupby('PROPERTY_NUMBER').last()"
   ]
  },
  {
   "cell_type": "code",
   "execution_count": 151,
   "metadata": {
    "collapsed": true
   },
   "outputs": [],
   "source": [
    "tci = pd.merge(tci, al[['AMOUNT_PAID','PROPERTY_NUMBER']].groupby('PROPERTY_NUMBER').last(), \\\n",
    "               how='left', left_on='ppn', right_index=True)\n",
    "# tci.loc[tci.AMOUNT_PAID.notnull(),'SALE_VALID'] = 1\n",
    "# tci.loc[tci.SALE_VALID.isnull(),'SALE_VALID'] = 0"
   ]
  },
  {
   "cell_type": "code",
   "execution_count": 152,
   "metadata": {
    "collapsed": false
   },
   "outputs": [],
   "source": [
    "tci = pd.merge(tci, al[['SALE_VALID','PROPERTY_NUMBER']].groupby('PROPERTY_NUMBER').last(), \\\n",
    "               how='left', left_on='ppn', right_index=True)\n",
    "tci.loc[tci.SALE_VALID.notnull(),'SALE_VALID'] = 1\n",
    "tci.loc[tci.SALE_VALID.isnull(),'SALE_VALID'] = 0"
   ]
  },
  {
   "cell_type": "code",
   "execution_count": 153,
   "metadata": {
    "collapsed": false
   },
   "outputs": [
    {
     "name": "stdout",
     "output_type": "stream",
     "text": [
      "           vacant       \n",
      "              sum    len\n",
      "SALE_VALID              \n",
      "0            5762  77629\n",
      "1            3998  33521\n",
      "SALE_VALID\n",
      "0    0.074225\n",
      "1    0.119269\n",
      "dtype: float64\n"
     ]
    }
   ],
   "source": [
    "t = tci.loc[tci.vacant>-1,['SALE_VALID','vacant']].groupby('SALE_VALID').agg([sum,len])\n",
    "print t\n",
    "print t.vacant['sum']/t.vacant['len']"
   ]
  },
  {
   "cell_type": "markdown",
   "metadata": {},
   "source": [
    "## Transfers"
   ]
  },
  {
   "cell_type": "code",
   "execution_count": 154,
   "metadata": {
    "collapsed": false,
    "scrolled": true
   },
   "outputs": [
    {
     "name": "stdout",
     "output_type": "stream",
     "text": [
      "<class 'pandas.core.frame.DataFrame'>\n",
      "Int64Index: 230894 entries, 0 to 230893\n",
      "Data columns (total 60 columns):\n",
      "TRANSFER_TO_ID                  230894 non-null int64\n",
      "WHS_ID                          230894 non-null int64\n",
      "TRANSFER_HISTORY_ID             230894 non-null int64\n",
      "TRANSFER_ORDER                  230894 non-null int64\n",
      "PARCEL_ID                       230894 non-null object\n",
      "PROPERTY_NUMBER                 230894 non-null object\n",
      "GRANTEE1                        230891 non-null object\n",
      "GRANTOR1                        229754 non-null object\n",
      "mdate                           230894 non-null object\n",
      "SALES_AMOUNT                    230894 non-null float64\n",
      "DEED_TYPE                       230890 non-null object\n",
      "instrument_number               186056 non-null float64\n",
      "RECORDED_BOOK                   45243 non-null object\n",
      "RECORDED_PAGE                   45246 non-null object\n",
      "INSTRUMENT_TYPE                 230894 non-null float64\n",
      "SALE_VALID                      230894 non-null float64\n",
      "multiproperty_sale              230894 non-null float64\n",
      "NUMBER_OF_PROPERTIES_IN_SALE    230894 non-null float64\n",
      "conveyance_number               106306 non-null object\n",
      "CONVEYANCE_FEE                  230894 non-null float64\n",
      "USER_ID                         230894 non-null object\n",
      "RECEIPT_NUMBER                  44353 non-null object\n",
      "AUTO_FILE_NUMBER                145322 non-null object\n",
      "CHANGE_TIMESTAMP                230894 non-null object\n",
      "TRANSFER_NUMBER                 230894 non-null float64\n",
      "TRANSFER_STATUS                 230894 non-null object\n",
      "MONTH_OF_SALE                   230894 non-null float64\n",
      "YEAR_OF_SALE                    230894 non-null float64\n",
      "CAMA_SALE_FILE                  230894 non-null object\n",
      "CAMA_INV_FILE                   230894 non-null object\n",
      "TRANSFER_TYPE                   230894 non-null float64\n",
      "INSTRUMENT_DATE                 230894 non-null object\n",
      "RECORDED_DATE                   230894 non-null object\n",
      "TRANSFER_FEE                    230894 non-null float64\n",
      "PERMISSIVE_FEE                  230894 non-null float64\n",
      "AMOUNT_PAID                     230894 non-null float64\n",
      "FEE_PAID_BY                     173437 non-null object\n",
      "FEE_CHECK_NUM                   47028 non-null object\n",
      "SALES_SOURCE                    230894 non-null float64\n",
      "deed_number                     101415 non-null float64\n",
      "EXEMPTCODE                      230894 non-null float64\n",
      "ASSUMED_LOAN_AMOUNT             230894 non-null float64\n",
      "PERSONAL_PROPERTY_AMOUNT        230894 non-null float64\n",
      "BUILDINGS_ON_LAND               230894 non-null float64\n",
      "GIFT                            230894 non-null float64\n",
      "LAND_CONTRACT                   230894 non-null float64\n",
      "LEASE_HOLD                      230894 non-null float64\n",
      "LEASED_FEE                      230894 non-null float64\n",
      "LIFE_ESTATE                     230894 non-null float64\n",
      "MINERAL_RIGHTS_RESERVED         230894 non-null float64\n",
      "MOTHER                          230894 non-null float64\n",
      "PARTINTER_EST_TRANSFERRED       230894 non-null float64\n",
      "GRANTOR_IS_MORTGAGEE            230894 non-null float64\n",
      "GRANTOR_IS_RELATIVE             230894 non-null float64\n",
      "TRADE                           230894 non-null float64\n",
      "TRANSFER_TYPE_DESCR             230416 non-null object\n",
      "SALES_SOURCE_DESCR              10701 non-null object\n",
      "EXEMPTCODE_DESCR                50398 non-null object\n",
      "TRANSFER_FROM_PARCEL            0 non-null float64\n",
      "UPDATE_DATE                     230894 non-null object\n",
      "dtypes: float64(32), int64(4), object(24)\n",
      "memory usage: 107.5+ MB\n"
     ]
    }
   ],
   "source": [
    "t = pd.read_csv(path+'/data/clean_data/transfers.csv')\n",
    "t.info()"
   ]
  },
  {
   "cell_type": "code",
   "execution_count": 155,
   "metadata": {
    "collapsed": false
   },
   "outputs": [],
   "source": [
    "t = t.sort('mdate', ascending=False)"
   ]
  },
  {
   "cell_type": "code",
   "execution_count": 156,
   "metadata": {
    "collapsed": false
   },
   "outputs": [],
   "source": [
    "deeds = list(t.groupby('DEED_TYPE').count().sort('mdate',ascending=False).index[0:9])"
   ]
  },
  {
   "cell_type": "code",
   "execution_count": 157,
   "metadata": {
    "collapsed": false
   },
   "outputs": [],
   "source": [
    "a = pd.merge(tci, t[t.DEED_TYPE=='Quit Claim Deed'].groupby('PROPERTY_NUMBER').count()[['mdate']], how='left', left_on='ppn',right_index=True)"
   ]
  },
  {
   "cell_type": "code",
   "execution_count": 158,
   "metadata": {
    "collapsed": true
   },
   "outputs": [],
   "source": [
    "tci = pd.merge(tci, t.groupby('PROPERTY_NUMBER').count()[['mdate']], how='left', left_on='ppn',right_index=True)\n",
    "tci = tci.rename(columns={'mdate':'num_of_transfers'})"
   ]
  },
  {
   "cell_type": "code",
   "execution_count": 159,
   "metadata": {
    "collapsed": false
   },
   "outputs": [],
   "source": [
    "b = a.loc[a.vacant>-1,['vacant','mdate']].groupby('mdate').agg([sum,len])"
   ]
  },
  {
   "cell_type": "code",
   "execution_count": 160,
   "metadata": {
    "collapsed": false,
    "scrolled": true
   },
   "outputs": [
    {
     "data": {
      "text/plain": [
       "mdate\n",
       "1     0.135138\n",
       "2     0.190476\n",
       "3     0.264179\n",
       "4     0.339286\n",
       "5     0.373134\n",
       "6     0.233333\n",
       "7     0.375000\n",
       "8     0.166667\n",
       "9     0.000000\n",
       "10    0.000000\n",
       "12    0.000000\n",
       "13    0.000000\n",
       "dtype: float64"
      ]
     },
     "execution_count": 160,
     "metadata": {},
     "output_type": "execute_result"
    }
   ],
   "source": [
    "b.vacant['sum']*1.0/b.vacant['len']"
   ]
  },
  {
   "cell_type": "code",
   "execution_count": 161,
   "metadata": {
    "collapsed": false
   },
   "outputs": [],
   "source": [
    "tci = pd.merge(tci, t[['DEED_TYPE', 'PROPERTY_NUMBER']].groupby('PROPERTY_NUMBER').first(), \\\n",
    "         how='left', left_on='ppn',right_index=True)"
   ]
  },
  {
   "cell_type": "code",
   "execution_count": 162,
   "metadata": {
    "collapsed": false
   },
   "outputs": [],
   "source": [
    "tci.DEED_TYPE = tci.DEED_TYPE.apply(lambda x: x if x in deeds else 'Other')"
   ]
  },
  {
   "cell_type": "markdown",
   "metadata": {},
   "source": [
    "## County Land Bank"
   ]
  },
  {
   "cell_type": "code",
   "execution_count": 163,
   "metadata": {
    "collapsed": false
   },
   "outputs": [],
   "source": [
    "lb = pd.read_csv(path+'/data/clean_data/county_lb.csv')"
   ]
  },
  {
   "cell_type": "code",
   "execution_count": 164,
   "metadata": {
    "collapsed": false
   },
   "outputs": [
    {
     "name": "stdout",
     "output_type": "stream",
     "text": [
      "<class 'pandas.core.frame.DataFrame'>\n",
      "Int64Index: 1660 entries, 0 to 1659\n",
      "Data columns (total 16 columns):\n",
      "parcel            1660 non-null object\n",
      "disp_status       1660 non-null object\n",
      "p_source          1660 non-null object\n",
      "acq_dt            1660 non-null object\n",
      "disp_dt           783 non-null object\n",
      "assessment        1656 non-null object\n",
      "demo_status       1032 non-null object\n",
      "rehab_status      655 non-null object\n",
      "public_status     1656 non-null object\n",
      "s_date            1013 non-null object\n",
      "cclrc_dba_date    787 non-null object\n",
      "cclrc_dc_date     847 non-null object\n",
      "ab_proceed_dt     761 non-null object\n",
      "proceed_date      806 non-null object\n",
      "cclrc_dcp_date    762 non-null object\n",
      "out_type          892 non-null object\n",
      "dtypes: object(16)\n",
      "memory usage: 220.5+ KB\n"
     ]
    }
   ],
   "source": [
    "lb.info()"
   ]
  },
  {
   "cell_type": "code",
   "execution_count": 165,
   "metadata": {
    "collapsed": false
   },
   "outputs": [
    {
     "data": {
      "text/html": [
       "<div>\n",
       "<table border=\"1\" class=\"dataframe\">\n",
       "  <thead>\n",
       "    <tr style=\"text-align: right;\">\n",
       "      <th></th>\n",
       "      <th>parcel</th>\n",
       "      <th>disp_status</th>\n",
       "      <th>p_source</th>\n",
       "      <th>acq_dt</th>\n",
       "      <th>disp_dt</th>\n",
       "      <th>assessment</th>\n",
       "      <th>demo_status</th>\n",
       "      <th>rehab_status</th>\n",
       "      <th>public_status</th>\n",
       "      <th>s_date</th>\n",
       "      <th>cclrc_dba_date</th>\n",
       "      <th>cclrc_dc_date</th>\n",
       "      <th>ab_proceed_dt</th>\n",
       "      <th>proceed_date</th>\n",
       "      <th>cclrc_dcp_date</th>\n",
       "      <th>out_type</th>\n",
       "    </tr>\n",
       "  </thead>\n",
       "  <tbody>\n",
       "    <tr>\n",
       "      <th>0</th>\n",
       "      <td>001-07-034</td>\n",
       "      <td>Acquired</td>\n",
       "      <td>Tax Foreclosure</td>\n",
       "      <td>2014-09-30</td>\n",
       "      <td>NaN</td>\n",
       "      <td>Demolition</td>\n",
       "      <td>Demo - Complete</td>\n",
       "      <td>Changed to Demo</td>\n",
       "      <td>Vacant lot</td>\n",
       "      <td>10/03/2014</td>\n",
       "      <td>02/09/2015</td>\n",
       "      <td>02/12/2015</td>\n",
       "      <td>02/11/2015</td>\n",
       "      <td>02/12/2015</td>\n",
       "      <td>03/11/2015</td>\n",
       "      <td>NaN</td>\n",
       "    </tr>\n",
       "    <tr>\n",
       "      <th>1</th>\n",
       "      <td>001-07-045</td>\n",
       "      <td>Disposed</td>\n",
       "      <td>REO</td>\n",
       "      <td>2011-11-29</td>\n",
       "      <td>2012-11-30</td>\n",
       "      <td>Renovate</td>\n",
       "      <td>Changed to Renovate</td>\n",
       "      <td>Rehab - For sale - As Is/Escrow</td>\n",
       "      <td>Disposition</td>\n",
       "      <td>12/06/2011</td>\n",
       "      <td>NaN</td>\n",
       "      <td>06/06/2012</td>\n",
       "      <td>NaN</td>\n",
       "      <td>06/28/2012</td>\n",
       "      <td>NaN</td>\n",
       "      <td>Nonprofit</td>\n",
       "    </tr>\n",
       "    <tr>\n",
       "      <th>2</th>\n",
       "      <td>001-08-069</td>\n",
       "      <td>Disposed</td>\n",
       "      <td>Tax Foreclosure</td>\n",
       "      <td>2014-05-19</td>\n",
       "      <td>2015-02-17</td>\n",
       "      <td>Renovate</td>\n",
       "      <td>NaN</td>\n",
       "      <td>Rehab - For sale - As Is/Escrow</td>\n",
       "      <td>Disposition</td>\n",
       "      <td>NaN</td>\n",
       "      <td>NaN</td>\n",
       "      <td>NaN</td>\n",
       "      <td>NaN</td>\n",
       "      <td>NaN</td>\n",
       "      <td>NaN</td>\n",
       "      <td>Private</td>\n",
       "    </tr>\n",
       "    <tr>\n",
       "      <th>3</th>\n",
       "      <td>001-08-089</td>\n",
       "      <td>Disposed</td>\n",
       "      <td>Fannie Mae</td>\n",
       "      <td>2011-03-17</td>\n",
       "      <td>2011-08-26</td>\n",
       "      <td>Renovate</td>\n",
       "      <td>NaN</td>\n",
       "      <td>Rehab - NSP2 partner</td>\n",
       "      <td>Disposition</td>\n",
       "      <td>NaN</td>\n",
       "      <td>NaN</td>\n",
       "      <td>NaN</td>\n",
       "      <td>NaN</td>\n",
       "      <td>NaN</td>\n",
       "      <td>NaN</td>\n",
       "      <td>Nonprofit</td>\n",
       "    </tr>\n",
       "    <tr>\n",
       "      <th>4</th>\n",
       "      <td>001-08-141</td>\n",
       "      <td>Acquired</td>\n",
       "      <td>Tax Foreclosure</td>\n",
       "      <td>2014-11-18</td>\n",
       "      <td>NaN</td>\n",
       "      <td>Renovate</td>\n",
       "      <td>NaN</td>\n",
       "      <td>Rehab - For sale - As Is/Escrow</td>\n",
       "      <td>For sale</td>\n",
       "      <td>NaN</td>\n",
       "      <td>NaN</td>\n",
       "      <td>NaN</td>\n",
       "      <td>NaN</td>\n",
       "      <td>NaN</td>\n",
       "      <td>NaN</td>\n",
       "      <td>NaN</td>\n",
       "    </tr>\n",
       "  </tbody>\n",
       "</table>\n",
       "</div>"
      ],
      "text/plain": [
       "       parcel disp_status         p_source      acq_dt     disp_dt  \\\n",
       "0  001-07-034    Acquired  Tax Foreclosure  2014-09-30         NaN   \n",
       "1  001-07-045    Disposed              REO  2011-11-29  2012-11-30   \n",
       "2  001-08-069    Disposed  Tax Foreclosure  2014-05-19  2015-02-17   \n",
       "3  001-08-089    Disposed       Fannie Mae  2011-03-17  2011-08-26   \n",
       "4  001-08-141    Acquired  Tax Foreclosure  2014-11-18         NaN   \n",
       "\n",
       "   assessment          demo_status                     rehab_status  \\\n",
       "0  Demolition      Demo - Complete                  Changed to Demo   \n",
       "1    Renovate  Changed to Renovate  Rehab - For sale - As Is/Escrow   \n",
       "2    Renovate                  NaN  Rehab - For sale - As Is/Escrow   \n",
       "3    Renovate                  NaN             Rehab - NSP2 partner   \n",
       "4    Renovate                  NaN  Rehab - For sale - As Is/Escrow   \n",
       "\n",
       "  public_status      s_date cclrc_dba_date cclrc_dc_date ab_proceed_dt  \\\n",
       "0    Vacant lot  10/03/2014     02/09/2015    02/12/2015    02/11/2015   \n",
       "1   Disposition  12/06/2011            NaN    06/06/2012           NaN   \n",
       "2   Disposition         NaN            NaN           NaN           NaN   \n",
       "3   Disposition         NaN            NaN           NaN           NaN   \n",
       "4      For sale         NaN            NaN           NaN           NaN   \n",
       "\n",
       "  proceed_date cclrc_dcp_date   out_type  \n",
       "0   02/12/2015     03/11/2015        NaN  \n",
       "1   06/28/2012            NaN  Nonprofit  \n",
       "2          NaN            NaN    Private  \n",
       "3          NaN            NaN  Nonprofit  \n",
       "4          NaN            NaN        NaN  "
      ]
     },
     "execution_count": 165,
     "metadata": {},
     "output_type": "execute_result"
    }
   ],
   "source": [
    "lb.head()"
   ]
  },
  {
   "cell_type": "code",
   "execution_count": 166,
   "metadata": {
    "collapsed": false
   },
   "outputs": [
    {
     "data": {
      "text/html": [
       "<div>\n",
       "<table border=\"1\" class=\"dataframe\">\n",
       "  <thead>\n",
       "    <tr style=\"text-align: right;\">\n",
       "      <th></th>\n",
       "      <th>parcel</th>\n",
       "    </tr>\n",
       "    <tr>\n",
       "      <th>assessment</th>\n",
       "      <th></th>\n",
       "    </tr>\n",
       "  </thead>\n",
       "  <tbody>\n",
       "    <tr>\n",
       "      <th>Demolition</th>\n",
       "      <td>962</td>\n",
       "    </tr>\n",
       "    <tr>\n",
       "      <th>Pass Through</th>\n",
       "      <td>76</td>\n",
       "    </tr>\n",
       "    <tr>\n",
       "      <th>Renovate</th>\n",
       "      <td>532</td>\n",
       "    </tr>\n",
       "    <tr>\n",
       "      <th>Vacant lot</th>\n",
       "      <td>86</td>\n",
       "    </tr>\n",
       "  </tbody>\n",
       "</table>\n",
       "</div>"
      ],
      "text/plain": [
       "              parcel\n",
       "assessment          \n",
       "Demolition       962\n",
       "Pass Through      76\n",
       "Renovate         532\n",
       "Vacant lot        86"
      ]
     },
     "execution_count": 166,
     "metadata": {},
     "output_type": "execute_result"
    }
   ],
   "source": [
    "lb[['assessment','parcel']].groupby('assessment').count()"
   ]
  },
  {
   "cell_type": "code",
   "execution_count": 167,
   "metadata": {
    "collapsed": false
   },
   "outputs": [
    {
     "data": {
      "text/html": [
       "<div>\n",
       "<table border=\"1\" class=\"dataframe\">\n",
       "  <thead>\n",
       "    <tr>\n",
       "      <th></th>\n",
       "      <th colspan=\"2\" halign=\"left\">vacant</th>\n",
       "    </tr>\n",
       "    <tr>\n",
       "      <th></th>\n",
       "      <th>sum</th>\n",
       "      <th>len</th>\n",
       "    </tr>\n",
       "    <tr>\n",
       "      <th>county_land_bank</th>\n",
       "      <th></th>\n",
       "      <th></th>\n",
       "    </tr>\n",
       "  </thead>\n",
       "  <tbody>\n",
       "  </tbody>\n",
       "</table>\n",
       "</div>"
      ],
      "text/plain": [
       "Empty DataFrame\n",
       "Columns: [(vacant, sum), (vacant, len)]\n",
       "Index: []"
      ]
     },
     "execution_count": 167,
     "metadata": {},
     "output_type": "execute_result"
    }
   ],
   "source": [
    "tci.loc[tci.vacant>-1,['vacant','county_land_bank']].groupby('county_land_bank').agg([sum,len])"
   ]
  },
  {
   "cell_type": "code",
   "execution_count": 168,
   "metadata": {
    "collapsed": false
   },
   "outputs": [],
   "source": [
    "lb_ppns = set(lb[lb.disp_dt.isnull()].parcel)\n",
    "\n",
    "def get_lb(x):\n",
    "    if x in lb_ppns:\n",
    "        return 1\n",
    "    else:\n",
    "        return 0\n",
    "\n",
    "tci['county_land_bank'] = tci['ppn'].apply(get_lb)"
   ]
  },
  {
   "cell_type": "markdown",
   "metadata": {},
   "source": [
    "## Postal Vacancy"
   ]
  },
  {
   "cell_type": "code",
   "execution_count": 169,
   "metadata": {
    "collapsed": false
   },
   "outputs": [],
   "source": [
    "pv = pd.read_csv(path+'/data/clean_data/postal_vacancy.csv', parse_dates=3, index_col=[0])"
   ]
  },
  {
   "cell_type": "code",
   "execution_count": 170,
   "metadata": {
    "collapsed": false
   },
   "outputs": [
    {
     "data": {
      "text/html": [
       "<div>\n",
       "<table border=\"1\" class=\"dataframe\">\n",
       "  <thead>\n",
       "    <tr style=\"text-align: right;\">\n",
       "      <th></th>\n",
       "      <th>PARCEL</th>\n",
       "      <th>vindall</th>\n",
       "      <th>date</th>\n",
       "    </tr>\n",
       "  </thead>\n",
       "  <tbody>\n",
       "    <tr>\n",
       "      <th>0</th>\n",
       "      <td>001-02-020</td>\n",
       "      <td>Y</td>\n",
       "      <td>2013-02-01</td>\n",
       "    </tr>\n",
       "    <tr>\n",
       "      <th>1</th>\n",
       "      <td>001-02-032</td>\n",
       "      <td>Y</td>\n",
       "      <td>2013-02-01</td>\n",
       "    </tr>\n",
       "    <tr>\n",
       "      <th>2</th>\n",
       "      <td>001-03-001</td>\n",
       "      <td>Y</td>\n",
       "      <td>2013-02-01</td>\n",
       "    </tr>\n",
       "    <tr>\n",
       "      <th>3</th>\n",
       "      <td>001-04-012</td>\n",
       "      <td>Y</td>\n",
       "      <td>2013-02-01</td>\n",
       "    </tr>\n",
       "    <tr>\n",
       "      <th>4</th>\n",
       "      <td>001-04-013</td>\n",
       "      <td>Y</td>\n",
       "      <td>2013-02-01</td>\n",
       "    </tr>\n",
       "  </tbody>\n",
       "</table>\n",
       "</div>"
      ],
      "text/plain": [
       "       PARCEL vindall        date\n",
       "0  001-02-020       Y  2013-02-01\n",
       "1  001-02-032       Y  2013-02-01\n",
       "2  001-03-001       Y  2013-02-01\n",
       "3  001-04-012       Y  2013-02-01\n",
       "4  001-04-013       Y  2013-02-01"
      ]
     },
     "execution_count": 170,
     "metadata": {},
     "output_type": "execute_result"
    }
   ],
   "source": [
    "pv.head()"
   ]
  },
  {
   "cell_type": "code",
   "execution_count": 171,
   "metadata": {
    "collapsed": false
   },
   "outputs": [],
   "source": [
    "pv = pv.sort('date',ascending=False)"
   ]
  },
  {
   "cell_type": "code",
   "execution_count": 172,
   "metadata": {
    "collapsed": false,
    "scrolled": true
   },
   "outputs": [],
   "source": [
    "# tci = pd.merge(tci, al[['SALE_VALID','PROPERTY_NUMBER']].groupby('PROPERTY_NUMBER').last(), \\\n",
    "#                how='left', left_on='parcel', right_index=True)\n",
    "\n",
    "vindall = pv[['PARCEL','vindall']].groupby('PARCEL').first()['vindall']"
   ]
  },
  {
   "cell_type": "code",
   "execution_count": 173,
   "metadata": {
    "collapsed": false
   },
   "outputs": [],
   "source": [
    "v_Y = set(vindall[vindall=='Y'].index)\n",
    "\n",
    "def get_vindall_Y(x):\n",
    "    if x in v_Y:\n",
    "        return 1\n",
    "    else:\n",
    "        return 0\n",
    "\n",
    "tci['vindall_Y'] = tci['ppn'].apply(get_vindall_Y)"
   ]
  },
  {
   "cell_type": "code",
   "execution_count": 174,
   "metadata": {
    "collapsed": false
   },
   "outputs": [],
   "source": [
    "v_P = set(vindall[vindall=='P'].index)\n",
    "\n",
    "def get_vindall_P(x):\n",
    "    if x in v_P:\n",
    "        return 1\n",
    "    else:\n",
    "        return 0\n",
    "\n",
    "tci['vindall_P'] = tci['ppn'].apply(get_vindall_P)"
   ]
  },
  {
   "cell_type": "code",
   "execution_count": 175,
   "metadata": {
    "collapsed": false
   },
   "outputs": [
    {
     "data": {
      "text/html": [
       "<div>\n",
       "<table border=\"1\" class=\"dataframe\">\n",
       "  <thead>\n",
       "    <tr>\n",
       "      <th></th>\n",
       "      <th colspan=\"2\" halign=\"left\">vacant</th>\n",
       "    </tr>\n",
       "    <tr>\n",
       "      <th></th>\n",
       "      <th>sum</th>\n",
       "      <th>len</th>\n",
       "    </tr>\n",
       "    <tr>\n",
       "      <th>vindall_Y</th>\n",
       "      <th></th>\n",
       "      <th></th>\n",
       "    </tr>\n",
       "  </thead>\n",
       "  <tbody>\n",
       "    <tr>\n",
       "      <th>0</th>\n",
       "      <td>5891</td>\n",
       "      <td>100989</td>\n",
       "    </tr>\n",
       "    <tr>\n",
       "      <th>1</th>\n",
       "      <td>3869</td>\n",
       "      <td>10161</td>\n",
       "    </tr>\n",
       "  </tbody>\n",
       "</table>\n",
       "</div>"
      ],
      "text/plain": [
       "          vacant        \n",
       "             sum     len\n",
       "vindall_Y               \n",
       "0           5891  100989\n",
       "1           3869   10161"
      ]
     },
     "execution_count": 175,
     "metadata": {},
     "output_type": "execute_result"
    }
   ],
   "source": [
    "tci.loc[tci.vacant>-1,['vindall_Y','vacant']].groupby('vindall_Y').agg([sum, len])"
   ]
  },
  {
   "cell_type": "code",
   "execution_count": 176,
   "metadata": {
    "collapsed": false
   },
   "outputs": [
    {
     "data": {
      "text/html": [
       "<div>\n",
       "<table border=\"1\" class=\"dataframe\">\n",
       "  <thead>\n",
       "    <tr>\n",
       "      <th></th>\n",
       "      <th colspan=\"2\" halign=\"left\">vacant</th>\n",
       "    </tr>\n",
       "    <tr>\n",
       "      <th></th>\n",
       "      <th>sum</th>\n",
       "      <th>len</th>\n",
       "    </tr>\n",
       "    <tr>\n",
       "      <th>vindall_P</th>\n",
       "      <th></th>\n",
       "      <th></th>\n",
       "    </tr>\n",
       "  </thead>\n",
       "  <tbody>\n",
       "    <tr>\n",
       "      <th>0</th>\n",
       "      <td>9674</td>\n",
       "      <td>110567</td>\n",
       "    </tr>\n",
       "    <tr>\n",
       "      <th>1</th>\n",
       "      <td>86</td>\n",
       "      <td>583</td>\n",
       "    </tr>\n",
       "  </tbody>\n",
       "</table>\n",
       "</div>"
      ],
      "text/plain": [
       "          vacant        \n",
       "             sum     len\n",
       "vindall_P               \n",
       "0           9674  110567\n",
       "1             86     583"
      ]
     },
     "execution_count": 176,
     "metadata": {},
     "output_type": "execute_result"
    }
   ],
   "source": [
    "tci.loc[tci.vacant>-1,['vindall_P','vacant']].groupby('vindall_P').agg([sum, len])"
   ]
  },
  {
   "cell_type": "code",
   "execution_count": 177,
   "metadata": {
    "collapsed": false
   },
   "outputs": [],
   "source": [
    "tci.to_csv(path+'/data/model_data/tci_2_1.csv', index=False)"
   ]
  },
  {
   "cell_type": "code",
   "execution_count": 178,
   "metadata": {
    "collapsed": false
   },
   "outputs": [
    {
     "data": {
      "text/plain": [
       "(216, 58)"
      ]
     },
     "execution_count": 178,
     "metadata": {},
     "output_type": "execute_result"
    }
   ],
   "source": [
    "tci[tci.median_rent.isnull()].shape"
   ]
  },
  {
   "cell_type": "code",
   "execution_count": 180,
   "metadata": {
    "collapsed": false
   },
   "outputs": [
    {
     "data": {
      "text/plain": [
       "(122560, 58)"
      ]
     },
     "execution_count": 180,
     "metadata": {},
     "output_type": "execute_result"
    }
   ],
   "source": [
    "tci.shape"
   ]
  },
  {
   "cell_type": "code",
   "execution_count": null,
   "metadata": {
    "collapsed": true
   },
   "outputs": [],
   "source": []
  }
 ],
 "metadata": {
  "kernelspec": {
   "display_name": "Python 2",
   "language": "python",
   "name": "python2"
  },
  "language_info": {
   "codemirror_mode": {
    "name": "ipython",
    "version": 2
   },
   "file_extension": ".py",
   "mimetype": "text/x-python",
   "name": "python",
   "nbconvert_exporter": "python",
   "pygments_lexer": "ipython2",
   "version": "2.7.10"
  }
 },
 "nbformat": 4,
 "nbformat_minor": 0
}
