{
 "cells": [
  {
   "cell_type": "code",
   "execution_count": 1,
   "metadata": {
    "collapsed": false
   },
   "outputs": [
    {
     "name": "stdout",
     "output_type": "stream",
     "text": [
      "/Volumes/Dropbox/largetransfer/luc/carter\n",
      "(113132, 33)\n"
     ]
    },
    {
     "name": "stderr",
     "output_type": "stream",
     "text": [
      "//anaconda/envs/vacancy/lib/python3.4/site-packages/IPython/core/interactiveshell.py:2902: DtypeWarning: Columns (0) have mixed types. Specify dtype option on import or set low_memory=False.\n",
      "  interactivity=interactivity, compiler=compiler, result=result)\n"
     ]
    }
   ],
   "source": [
    "import matplotlib.pyplot as plt\n",
    "import datetime as dt\n",
    "import seaborn as sns\n",
    "import pandas as pd\n",
    "import numpy as np\n",
    "import os\n",
    "\n",
    "%matplotlib inline\n",
    "\n",
    "path = '/'.join(os.getcwd().split('/')[:-1])\n",
    "print(path)\n",
    "\n",
    "tci = pd.read_csv(path+'/data/model_data/tci_1_0.csv', parse_dates=['Date'], dtype={'Parcel ID':str})\n",
    "\n",
    "ppns = set(tci['parcel'])\n",
    "dates = dict(zip(tci.parcel, tci.Date))\n",
    "\n",
    "print(tci.shape)"
   ]
  },
  {
   "cell_type": "markdown",
   "metadata": {},
   "source": [
    "## Foreclosure data"
   ]
  },
  {
   "cell_type": "code",
   "execution_count": 2,
   "metadata": {
    "collapsed": false
   },
   "outputs": [],
   "source": [
    "fc = pd.read_csv(path+'/data/clean_data/foreclosure_filings2.csv', parse_dates=[2])\n",
    "fc = fc.loc[fc.apply(lambda x: x.filedate < dates[x.parcel], axis=1)]"
   ]
  },
  {
   "cell_type": "code",
   "execution_count": 3,
   "metadata": {
    "collapsed": false
   },
   "outputs": [
    {
     "data": {
      "text/html": [
       "<div>\n",
       "<table border=\"1\" class=\"dataframe\">\n",
       "  <thead>\n",
       "    <tr style=\"text-align: right;\">\n",
       "      <th></th>\n",
       "      <th>parcel</th>\n",
       "      <th>status</th>\n",
       "      <th>filedate</th>\n",
       "      <th>defendant</th>\n",
       "      <th>caseno</th>\n",
       "      <th>parcel_address</th>\n",
       "      <th>dateid</th>\n",
       "      <th>case_title</th>\n",
       "      <th>plaintiff</th>\n",
       "      <th>FORE</th>\n",
       "      <th>LATITUDE</th>\n",
       "      <th>LONGITUDE</th>\n",
       "      <th>zip_fore</th>\n",
       "    </tr>\n",
       "  </thead>\n",
       "  <tbody>\n",
       "    <tr>\n",
       "      <th>0</th>\n",
       "      <td>001-01-011</td>\n",
       "      <td>Inactive</td>\n",
       "      <td>2011-11-02</td>\n",
       "      <td>KEVIN KEITH KEATING, ET AL</td>\n",
       "      <td>CV-11-768190</td>\n",
       "      <td>11516 EDGEWATER DRIVE</td>\n",
       "      <td>11/06/2015</td>\n",
       "      <td>NaN</td>\n",
       "      <td>.</td>\n",
       "      <td>1</td>\n",
       "      <td>41.489896</td>\n",
       "      <td>-81.766465</td>\n",
       "      <td>44102</td>\n",
       "    </tr>\n",
       "    <tr>\n",
       "      <th>1</th>\n",
       "      <td>001-02-016</td>\n",
       "      <td>Inactive</td>\n",
       "      <td>2008-07-11</td>\n",
       "      <td>ANTHONY J. INA, ET AL</td>\n",
       "      <td>CV-08-664602</td>\n",
       "      <td>11436 EDGEWATER DRIVE</td>\n",
       "      <td>11/06/2015</td>\n",
       "      <td>NaN</td>\n",
       "      <td>.</td>\n",
       "      <td>1</td>\n",
       "      <td>41.489578</td>\n",
       "      <td>-81.764549</td>\n",
       "      <td>44102</td>\n",
       "    </tr>\n",
       "    <tr>\n",
       "      <th>2</th>\n",
       "      <td>001-02-020</td>\n",
       "      <td>Inactive</td>\n",
       "      <td>2009-02-13</td>\n",
       "      <td>LISA BENNETT, ET AL</td>\n",
       "      <td>CV-09-684820</td>\n",
       "      <td>11315 EDGEWATER DRIVE</td>\n",
       "      <td>11/06/2015</td>\n",
       "      <td>NaN</td>\n",
       "      <td>.</td>\n",
       "      <td>1</td>\n",
       "      <td>41.488793</td>\n",
       "      <td>-81.763866</td>\n",
       "      <td>44102</td>\n",
       "    </tr>\n",
       "    <tr>\n",
       "      <th>3</th>\n",
       "      <td>001-02-022</td>\n",
       "      <td>Active</td>\n",
       "      <td>2014-07-24</td>\n",
       "      <td>EDWARD G. KRAMER, ET AL</td>\n",
       "      <td>CV-14-830279</td>\n",
       "      <td>11425 EDGEWATER DRIVE</td>\n",
       "      <td>11/06/2015</td>\n",
       "      <td>NaN</td>\n",
       "      <td>.</td>\n",
       "      <td>1</td>\n",
       "      <td>41.488893</td>\n",
       "      <td>-81.764434</td>\n",
       "      <td>44102</td>\n",
       "    </tr>\n",
       "    <tr>\n",
       "      <th>4</th>\n",
       "      <td>001-02-024</td>\n",
       "      <td>Inactive</td>\n",
       "      <td>2013-07-17</td>\n",
       "      <td>JANET KING, AS POSSIBLE HEIR, ETC., ET AL</td>\n",
       "      <td>CV-13-810747</td>\n",
       "      <td>11439 EDGEWATER DRIVE</td>\n",
       "      <td>11/06/2015</td>\n",
       "      <td>NaN</td>\n",
       "      <td>.</td>\n",
       "      <td>1</td>\n",
       "      <td>41.489000</td>\n",
       "      <td>-81.765022</td>\n",
       "      <td>44102</td>\n",
       "    </tr>\n",
       "  </tbody>\n",
       "</table>\n",
       "</div>"
      ],
      "text/plain": [
       "       parcel    status   filedate                                  defendant  \\\n",
       "0  001-01-011  Inactive 2011-11-02                 KEVIN KEITH KEATING, ET AL   \n",
       "1  001-02-016  Inactive 2008-07-11                      ANTHONY J. INA, ET AL   \n",
       "2  001-02-020  Inactive 2009-02-13                        LISA BENNETT, ET AL   \n",
       "3  001-02-022    Active 2014-07-24                    EDWARD G. KRAMER, ET AL   \n",
       "4  001-02-024  Inactive 2013-07-17  JANET KING, AS POSSIBLE HEIR, ETC., ET AL   \n",
       "\n",
       "         caseno         parcel_address      dateid  case_title plaintiff  \\\n",
       "0  CV-11-768190  11516 EDGEWATER DRIVE  11/06/2015         NaN         .   \n",
       "1  CV-08-664602  11436 EDGEWATER DRIVE  11/06/2015         NaN         .   \n",
       "2  CV-09-684820  11315 EDGEWATER DRIVE  11/06/2015         NaN         .   \n",
       "3  CV-14-830279  11425 EDGEWATER DRIVE  11/06/2015         NaN         .   \n",
       "4  CV-13-810747  11439 EDGEWATER DRIVE  11/06/2015         NaN         .   \n",
       "\n",
       "   FORE   LATITUDE  LONGITUDE  zip_fore  \n",
       "0     1  41.489896 -81.766465     44102  \n",
       "1     1  41.489578 -81.764549     44102  \n",
       "2     1  41.488793 -81.763866     44102  \n",
       "3     1  41.488893 -81.764434     44102  \n",
       "4     1  41.489000 -81.765022     44102  "
      ]
     },
     "execution_count": 3,
     "metadata": {},
     "output_type": "execute_result"
    }
   ],
   "source": [
    "fc.head()"
   ]
  },
  {
   "cell_type": "code",
   "execution_count": 39,
   "metadata": {
    "collapsed": false
   },
   "outputs": [
    {
     "data": {
      "text/plain": [
       "Timestamp('2015-09-23 00:00:00')"
      ]
     },
     "execution_count": 39,
     "metadata": {},
     "output_type": "execute_result"
    }
   ],
   "source": [
    "max(fc.filedate)"
   ]
  },
  {
   "cell_type": "code",
   "execution_count": 40,
   "metadata": {
    "collapsed": false,
    "scrolled": true
   },
   "outputs": [
    {
     "name": "stdout",
     "output_type": "stream",
     "text": [
      "<class 'pandas.core.frame.DataFrame'>\n",
      "Int64Index: 40102 entries, 0 to 40879\n",
      "Data columns (total 13 columns):\n",
      "parcel            40102 non-null object\n",
      "status            40102 non-null object\n",
      "filedate          40102 non-null datetime64[ns]\n",
      "defendant         40102 non-null object\n",
      "caseno            40102 non-null object\n",
      "parcel_address    40065 non-null object\n",
      "dateid            40102 non-null object\n",
      "case_title        0 non-null float64\n",
      "plaintiff         40102 non-null object\n",
      "FORE              40102 non-null int64\n",
      "LATITUDE          40082 non-null float64\n",
      "LONGITUDE         40082 non-null float64\n",
      "zip_fore          39141 non-null float64\n",
      "dtypes: datetime64[ns](1), float64(4), int64(1), object(7)\n",
      "memory usage: 4.3+ MB\n"
     ]
    }
   ],
   "source": [
    "fc.info()"
   ]
  },
  {
   "cell_type": "code",
   "execution_count": 41,
   "metadata": {
    "collapsed": false
   },
   "outputs": [],
   "source": [
    "fc.head(1)\n",
    "fc = fc.sort_values('filedate')\n",
    "fc = fc.groupby('caseno').last()"
   ]
  },
  {
   "cell_type": "code",
   "execution_count": 42,
   "metadata": {
    "collapsed": false
   },
   "outputs": [],
   "source": [
    "# fc['pamount'] = fc['pamount'].apply(lambda x: float(x[1:].replace(',','')))"
   ]
  },
  {
   "cell_type": "markdown",
   "metadata": {},
   "source": [
    "#### Active foreclosure"
   ]
  },
  {
   "cell_type": "code",
   "execution_count": 43,
   "metadata": {
    "collapsed": false
   },
   "outputs": [
    {
     "name": "stdout",
     "output_type": "stream",
     "text": [
      "(113132, 48)\n"
     ]
    }
   ],
   "source": [
    "tem = fc.loc[fc.status=='Active',['parcel']]\n",
    "tem['active_fc'] = 1\n",
    "tem = tem.drop_duplicates()\n",
    "tem = tem.set_index('parcel')\n",
    "\n",
    "tci = pd.merge(tci, tem, \\\n",
    "             how='left', left_on='parcel', right_index=True)\n",
    "print(tci.shape)"
   ]
  },
  {
   "cell_type": "code",
   "execution_count": 44,
   "metadata": {
    "collapsed": false
   },
   "outputs": [],
   "source": [
    "# tem = fc[['parcel','pamount']].groupby('parcel').last()\n",
    "# tem.columns = ['foreclosure_flag']\n",
    "\n",
    "# # tci = pd.merge(tci, tem, \\\n",
    "# #              how='left', left_on='ppn', right_index=True)"
   ]
  },
  {
   "cell_type": "code",
   "execution_count": 45,
   "metadata": {
    "collapsed": false
   },
   "outputs": [],
   "source": [
    "fc_copy = fc.reset_index()\n",
    "\n",
    "fc_copy = fc_copy[['parcel','filedate']].groupby('parcel').count().reset_index()\n",
    "\n",
    "fc_copy['fc_1yr'] = fc_copy.apply(lambda x: \\\n",
    "        len(fc[(fc.parcel == x.parcel) & (fc.filedate > dates[x.parcel]-pd.DateOffset(years=1))]), axis=1)\n",
    "\n",
    "fc_copy = fc_copy.set_index('parcel')\n",
    "\n",
    "tci = pd.merge(tci, fc_copy[['fc_1yr']], \\\n",
    "               how='left', left_on='parcel', right_index=True)\n",
    "tci.loc[tci.fc_1yr.isnull(), 'fc_1yr'] = 0"
   ]
  },
  {
   "cell_type": "code",
   "execution_count": 46,
   "metadata": {
    "collapsed": true
   },
   "outputs": [],
   "source": [
    "fc_copy = fc.reset_index()\n",
    "\n",
    "fc_copy = fc_copy[['parcel','filedate']].groupby('parcel').count().reset_index()\n",
    "\n",
    "fc_copy['fc_2yr'] = fc_copy.apply(lambda x: \\\n",
    "        len(fc[(fc.parcel == x.parcel) & (fc.filedate > dates[x.parcel]-pd.DateOffset(years=2))]), axis=1)\n",
    "\n",
    "fc_copy = fc_copy.set_index('parcel')\n",
    "\n",
    "tci = pd.merge(tci, fc_copy[['fc_2yr']], \\\n",
    "               how='left', left_on='parcel', right_index=True)\n",
    "tci.loc[tci.fc_2yr.isnull(), 'fc_2yr'] = 0"
   ]
  },
  {
   "cell_type": "code",
   "execution_count": 47,
   "metadata": {
    "collapsed": false
   },
   "outputs": [],
   "source": [
    "# fc_count = fc[fc.filedate > dt.datetime(2013,6,1)].groupby('parcel').count()[['status']]\n",
    "# fc_count = fc_count.rename(columns={'status':'fc_2yr'})\n",
    "# tci = pd.merge(tci, fc_count, left_on='ppn',right_index=True, how='left')\n",
    "# tci.loc[tci.fc_2yr.isnull(),'fc_2yr'] = 0"
   ]
  },
  {
   "cell_type": "code",
   "execution_count": 48,
   "metadata": {
    "collapsed": false
   },
   "outputs": [
    {
     "data": {
      "text/html": [
       "<div>\n",
       "<table border=\"1\" class=\"dataframe\">\n",
       "  <thead>\n",
       "    <tr>\n",
       "      <th></th>\n",
       "      <th colspan=\"2\" halign=\"left\">vacant</th>\n",
       "    </tr>\n",
       "    <tr>\n",
       "      <th></th>\n",
       "      <th>sum</th>\n",
       "      <th>len</th>\n",
       "    </tr>\n",
       "    <tr>\n",
       "      <th>fc_2yr</th>\n",
       "      <th></th>\n",
       "      <th></th>\n",
       "    </tr>\n",
       "  </thead>\n",
       "  <tbody>\n",
       "    <tr>\n",
       "      <th>0</th>\n",
       "      <td>8416</td>\n",
       "      <td>107505</td>\n",
       "    </tr>\n",
       "    <tr>\n",
       "      <th>1</th>\n",
       "      <td>1560</td>\n",
       "      <td>5414</td>\n",
       "    </tr>\n",
       "    <tr>\n",
       "      <th>2</th>\n",
       "      <td>61</td>\n",
       "      <td>208</td>\n",
       "    </tr>\n",
       "    <tr>\n",
       "      <th>3</th>\n",
       "      <td>1</td>\n",
       "      <td>5</td>\n",
       "    </tr>\n",
       "  </tbody>\n",
       "</table>\n",
       "</div>"
      ],
      "text/plain": [
       "       vacant        \n",
       "          sum     len\n",
       "fc_2yr               \n",
       "0        8416  107505\n",
       "1        1560    5414\n",
       "2          61     208\n",
       "3           1       5"
      ]
     },
     "execution_count": 48,
     "metadata": {},
     "output_type": "execute_result"
    }
   ],
   "source": [
    "tci[['fc_2yr','vacant']].groupby('fc_2yr').agg([sum,len])"
   ]
  },
  {
   "cell_type": "code",
   "execution_count": 49,
   "metadata": {
    "collapsed": false
   },
   "outputs": [],
   "source": [
    "recent_fc = fc.sort_values('filedate').groupby('parcel').last().reset_index()\n",
    "fc_days = pd.DataFrame(recent_fc[['parcel','filedate']])\n",
    "fc_days['fc_days'] = fc_days.apply(lambda x: (dates[x.parcel]-x.filedate).days,axis=1)\n",
    "fc_days = fc_days.set_index('parcel')\n",
    "tci = pd.merge(tci, fc_days[['fc_days']], left_on='parcel',right_index=True, how='left')\n",
    "tci.loc[tci.fc_days.isnull(),'fc_days'] = max(tci[tci.fc_days.notnull()].fc_days)+1"
   ]
  },
  {
   "cell_type": "code",
   "execution_count": 50,
   "metadata": {
    "collapsed": false
   },
   "outputs": [
    {
     "data": {
      "image/png": "[encoded data removed]",
      "text/plain": [
       "<matplotlib.figure.Figure at 0x11e3869b0>"
      ]
     },
     "metadata": {},
     "output_type": "display_data"
    }
   ],
   "source": [
    "plt.hist(tci[tci.vacant==1].fc_days.values,normed=True,alpha=0.5)\n",
    "plt.hist(tci[tci.vacant==0].fc_days.values,normed=True,alpha=0.5);"
   ]
  },
  {
   "cell_type": "code",
   "execution_count": 51,
   "metadata": {
    "collapsed": false
   },
   "outputs": [],
   "source": [
    "# tci.loc[(tci.ppn.isin(set(fc[(fc.filedate < dt.datetime(2007,6,1)) & ((fc.ldispos=='DIS. W/O PREJ'))].parcel))),'fc_dis_w/o_prej'] = 1\n",
    "# tci.loc[~(tci.ppn.isin(set(fc[(fc.filedate < dt.datetime(2007,6,1)) & ((fc.ldispos=='DIS. W/O PREJ'))].parcel))),'fc_dis_w/o_prej'] = 0\n",
    "# pd.crosstab(tci['fc_dis_w/o_prej'], tci.vacant)"
   ]
  },
  {
   "cell_type": "code",
   "execution_count": 52,
   "metadata": {
    "collapsed": false
   },
   "outputs": [],
   "source": [
    "# tci.loc[(tci.ppn.isin(set(fc[(fc.ldispos=='DIS. W/O PREJ')].parcel))),'fc_dis_w/o_prej'] = 1\n",
    "# tci.loc[(~tci.ppn.isin(set(fc[(fc.ldispos=='DIS. W/O PREJ')].parcel))),'fc_dis_w/o_prej'] = 0\n",
    "# pd.crosstab(tci['fc_dis_w/o_prej'], tci.vacant)"
   ]
  },
  {
   "cell_type": "code",
   "execution_count": 53,
   "metadata": {
    "collapsed": false
   },
   "outputs": [],
   "source": [
    "# tci.loc[(tci.ppn.isin(set(fc[(fc.filedate > dt.datetime(2014,6,1)) & (fc.ldispos=='NEWLY FILED')].parcel))),'fc_newly_filed'] = 1\n",
    "# tci.loc[~(tci.ppn.isin(set(fc[(fc.filedate > dt.datetime(2014,6,1)) & (fc.ldispos=='NEWLY FILED')].parcel))),'fc_newly_filed'] = 0\n",
    "# pd.crosstab(tci['fc_newly_filed'], tci.vacant)"
   ]
  },
  {
   "cell_type": "code",
   "execution_count": 54,
   "metadata": {
    "collapsed": false
   },
   "outputs": [
    {
     "data": {
      "text/plain": [
       "Index(['parcel', 'status', 'filedate', 'defendant', 'parcel_address', 'dateid',\n",
       "       'case_title', 'plaintiff', 'FORE', 'LATITUDE', 'LONGITUDE', 'zip_fore'],\n",
       "      dtype='object')"
      ]
     },
     "execution_count": 54,
     "metadata": {},
     "output_type": "execute_result"
    }
   ],
   "source": [
    "fc.columns"
   ]
  },
  {
   "cell_type": "code",
   "execution_count": 55,
   "metadata": {
    "collapsed": false
   },
   "outputs": [],
   "source": [
    "# for dis1,dis2 in [['NEWLY FILED','fc_newly_filed'], ['DEFAULT','fc_default'], ['DISP.OTHER','fc_disp_other'], ['DIS. W/O PREJ','fc_dis_wo_prej']]:\n",
    "#     recent_fc = fc[(fc.ldispos==dis1)].sort_values('filedate').groupby('parcel').last()\n",
    "#     fc_days = pd.DataFrame(recent_fc.apply(lambda x: (dt.datetime(2015,6,1)-x.filedate).days,axis=1),columns=[dis2])\n",
    "#     tci = pd.merge(tci, fc_days, left_on='ppn',right_index=True, how='left')\n",
    "#     tci.loc[tci[dis2].isnull(),dis2] = max(tci[dis2])\n",
    "# print tci.shape"
   ]
  },
  {
   "cell_type": "markdown",
   "metadata": {},
   "source": [
    "## Sheriff's auction"
   ]
  },
  {
   "cell_type": "code",
   "execution_count": 56,
   "metadata": {
    "collapsed": false
   },
   "outputs": [],
   "source": [
    "sa = pd.read_csv(path+'/data/clean_data/sheriff_auction.csv', parse_dates=[2], encoding=\"ISO-8859-1\")\n",
    "sa = sa.loc[sa.apply(lambda x: x.salesdt < dates[x.parcel], axis=1)]"
   ]
  },
  {
   "cell_type": "code",
   "execution_count": 57,
   "metadata": {
    "collapsed": false
   },
   "outputs": [],
   "source": [
    "recent_sa = sa.sort_values('salesdt').groupby('parcel').last().reset_index()\n",
    "sa_days = pd.DataFrame(recent_sa[['parcel','salesdt']])\n",
    "sa_days['sa_days'] = sa_days.apply(lambda x: (dates[x.parcel]-x.salesdt).days,axis=1)\n",
    "sa_days = sa_days.set_index('parcel')\n",
    "tci = pd.merge(tci, sa_days[['sa_days']], left_on='parcel',right_index=True, how='left')\n",
    "tci.loc[tci.sa_days.isnull(),'sa_days'] = max(tci[tci.sa_days.notnull()].fc_days)+1"
   ]
  },
  {
   "cell_type": "code",
   "execution_count": 58,
   "metadata": {
    "collapsed": true
   },
   "outputs": [],
   "source": [
    "# sa = sa.set_index('parcel')"
   ]
  },
  {
   "cell_type": "code",
   "execution_count": 59,
   "metadata": {
    "collapsed": false
   },
   "outputs": [],
   "source": [
    "sa['days'] = pd.DataFrame(sa.apply(lambda x: (dt.datetime(2015,6,1)-x.salesdt).days,axis=1),columns=['sa_days'])"
   ]
  },
  {
   "cell_type": "code",
   "execution_count": 60,
   "metadata": {
    "collapsed": false
   },
   "outputs": [],
   "source": [
    "sa.loc[sa.minbid.notnull(),'minbid'] = sa[sa.minbid.notnull()].minbid.apply(lambda x: float(x[1:].replace(',','')))"
   ]
  },
  {
   "cell_type": "code",
   "execution_count": 61,
   "metadata": {
    "collapsed": false
   },
   "outputs": [],
   "source": [
    "# for status,name in [['NO BID SOLD TO LAND BANK','sa_no_bid_lb'],['NO BID FORFEIT TO STATE','sa_no_bid_state'] \\\n",
    "#                     ,['ACTIVE','sa_active'],['SOLD','sa_sold']]:\n",
    "#     tci = pd.merge(tci, sa.loc[sa.status == status,['days']], left_on='ppn', right_index=True, how='left')\n",
    "#     tci = tci.rename(columns={'days':name})\n",
    "# print(tci.shape)"
   ]
  },
  {
   "cell_type": "code",
   "execution_count": 62,
   "metadata": {
    "collapsed": false
   },
   "outputs": [],
   "source": [
    "sa['year'] = sa.salesdt.apply(lambda x: x.year)"
   ]
  },
  {
   "cell_type": "code",
   "execution_count": 63,
   "metadata": {
    "collapsed": true
   },
   "outputs": [],
   "source": [
    "def parse_amount(x):\n",
    "    return float(str(x)[1:].replace(',',''))"
   ]
  },
  {
   "cell_type": "code",
   "execution_count": 64,
   "metadata": {
    "collapsed": false
   },
   "outputs": [],
   "source": [
    "# sa.loc[sa.appraisal.notnull(), 'appraisal'] = sa.loc[sa.appraisal.notnull(), 'appraisal'].apply(parse_amount)"
   ]
  },
  {
   "cell_type": "code",
   "execution_count": 65,
   "metadata": {
    "collapsed": false
   },
   "outputs": [],
   "source": [
    "# sa['ssold'] = sa.ssold.apply(lambda x: 1 if x=='Yes' else 0)"
   ]
  },
  {
   "cell_type": "code",
   "execution_count": 66,
   "metadata": {
    "collapsed": false
   },
   "outputs": [],
   "source": [
    "# tem = sa.loc[sa.salesdt>dt.datetime(2013, 1, 1),['parcel','ssold']].groupby('parcel').sum()\n",
    "# tem.columns = ['auction_13']\n",
    "# tem.loc[tem['auction_13'].isnull(),'auction_13'] = 0\n",
    "# tci = pd.merge(tci, tem, \\\n",
    "#               how='left', left_on='ppn', right_index=True)\n",
    "# tci.loc[tci['auction_13'].isnull(),'auction_13'] = 0\n",
    "# tci.loc[(tci.vacant>-1),['auction_13','vacant']].groupby('auction_13').agg([sum,len])"
   ]
  },
  {
   "cell_type": "code",
   "execution_count": 67,
   "metadata": {
    "collapsed": false
   },
   "outputs": [],
   "source": [
    "# sum(tci.auction_13)"
   ]
  },
  {
   "cell_type": "code",
   "execution_count": 68,
   "metadata": {
    "collapsed": false
   },
   "outputs": [],
   "source": [
    "# tem = sa[['parcel','ssold']].groupby('parcel').sum()\n",
    "# tem.columns = ['auction_all']\n",
    "# tem.loc[tem['auction_all'].isnull(),'auction_all'] = 0\n",
    "# tci = pd.merge(tci, tem, \\\n",
    "#               how='left', left_on='ppn', right_index=True)\n",
    "# tci.loc[tci['auction_all'].isnull(),'auction_all'] = 0\n",
    "\n",
    "# tci.loc[(tci.vacant>-1),['auction_all','vacant']].groupby('auction_all').agg([sum,len])"
   ]
  },
  {
   "cell_type": "code",
   "execution_count": 69,
   "metadata": {
    "collapsed": false
   },
   "outputs": [],
   "source": [
    "# tci[tci.auction_13.isnull()] = 0\n",
    "# tci[tci.auction_13 > 0] = 1\n",
    "# tci[tci.auction_all.isnull()] = 0\n",
    "# tci[tci.auction_all > 0] = 1"
   ]
  },
  {
   "cell_type": "code",
   "execution_count": 70,
   "metadata": {
    "collapsed": true
   },
   "outputs": [],
   "source": [
    "del sa\n",
    "del fc"
   ]
  },
  {
   "cell_type": "markdown",
   "metadata": {},
   "source": [
    "## Tax bill"
   ]
  },
  {
   "cell_type": "code",
   "execution_count": 2,
   "metadata": {
    "collapsed": false
   },
   "outputs": [],
   "source": [
    "tb2 = pd.read_csv(path+'/data/clean_data/taxbill_sep14.csv', dtype=object)"
   ]
  },
  {
   "cell_type": "code",
   "execution_count": 3,
   "metadata": {
    "collapsed": false
   },
   "outputs": [],
   "source": [
    "tb = pd.read_csv(path+'/data/clean_data/taxbill_may15.csv', dtype=object)"
   ]
  },
  {
   "cell_type": "code",
   "execution_count": 6,
   "metadata": {
    "collapsed": false
   },
   "outputs": [],
   "source": [
    "tb['TOTAL_NET_DELQ_BALANCE']=tb['TOTAL_NET_DELQ_BALANCE'].apply(float)\n",
    "tb2['TOTAL_NET_DELQ_BALANCE']=tb2['TOTAL_NET_DELQ_BALANCE'].apply(float)\n",
    "\n",
    "tb['GRAND_TOTAL_BALANCE']=tb['GRAND_TOTAL_BALANCE'].apply(float)\n",
    "tb2['GRAND_TOTAL_BALANCE']=tb2['GRAND_TOTAL_BALANCE'].apply(float)"
   ]
  },
  {
   "cell_type": "code",
   "execution_count": 71,
   "metadata": {
    "collapsed": false
   },
   "outputs": [
    {
     "data": {
      "text/plain": [
       "(6744, 47)"
      ]
     },
     "execution_count": 71,
     "metadata": {},
     "output_type": "execute_result"
    }
   ],
   "source": [
    "b[b.parcel.isin(a.parcel)].shape"
   ]
  },
  {
   "cell_type": "code",
   "execution_count": 72,
   "metadata": {
    "collapsed": false
   },
   "outputs": [
    {
     "data": {
      "text/plain": [
       "(3584, 7515)"
      ]
     },
     "execution_count": 72,
     "metadata": {},
     "output_type": "execute_result"
    }
   ],
   "source": [
    "b =tci[tci.parcel.isin(tb[tb['GRAND_TOTAL_BALANCE']>5000].PROPERTY_NUMBER)]\n",
    "\n",
    "sum(b.vacant), len(b)"
   ]
  },
  {
   "cell_type": "code",
   "execution_count": 73,
   "metadata": {
    "collapsed": false
   },
   "outputs": [
    {
     "data": {
      "text/plain": [
       "2741"
      ]
     },
     "execution_count": 73,
     "metadata": {},
     "output_type": "execute_result"
    }
   ],
   "source": [
    "sum(b[b.parcel.isin(c.parcel)].vacant)"
   ]
  },
  {
   "cell_type": "code",
   "execution_count": 32,
   "metadata": {
    "collapsed": false
   },
   "outputs": [
    {
     "data": {
      "text/plain": [
       "(5135, 47)"
      ]
     },
     "execution_count": 32,
     "metadata": {},
     "output_type": "execute_result"
    }
   ],
   "source": [
    "c[c.parcel.isin(b.parcel)].shape"
   ]
  },
  {
   "cell_type": "code",
   "execution_count": 30,
   "metadata": {
    "collapsed": false
   },
   "outputs": [
    {
     "data": {
      "text/plain": [
       "(2911, 5647)"
      ]
     },
     "execution_count": 30,
     "metadata": {},
     "output_type": "execute_result"
    }
   ],
   "source": [
    "c =tci[tci.parcel.isin(tb2[tb2['TOTAL_NET_DELQ_BALANCE']>4000].PROPERTY_NUMBER)]\n",
    "\n",
    "sum(c.vacant), len(c)"
   ]
  },
  {
   "cell_type": "code",
   "execution_count": 24,
   "metadata": {
    "collapsed": false
   },
   "outputs": [
    {
     "data": {
      "text/plain": [
       "(3495, 6973)"
      ]
     },
     "execution_count": 24,
     "metadata": {},
     "output_type": "execute_result"
    }
   ],
   "source": [
    "b =tci[tci.parcel.isin(tb[tb['TOTAL_NET_DELQ_BALANCE']>4000].PROPERTY_NUMBER)]\n",
    "\n",
    "sum(b.vacant), len(b)"
   ]
  },
  {
   "cell_type": "code",
   "execution_count": 17,
   "metadata": {
    "collapsed": false
   },
   "outputs": [
    {
     "data": {
      "text/plain": [
       "(3413, 7166)"
      ]
     },
     "execution_count": 17,
     "metadata": {},
     "output_type": "execute_result"
    }
   ],
   "source": [
    "a =tci[tci.parcel.isin(tb[tb['TOTAL_NET_DELQ_BALANCE']/tb['GRAND_TOTAL_BALANCE']>0.8].PROPERTY_NUMBER)]\n",
    "\n",
    "sum(a.vacant), len(a)"
   ]
  },
  {
   "cell_type": "code",
   "execution_count": 5,
   "metadata": {
    "collapsed": false
   },
   "outputs": [
    {
     "data": {
      "text/plain": [
       "array(['TAX_BILL_ID', 'TAX_YEAR', 'WHS_ID', 'PROPERTY_ID', 'PPN',\n",
       "       'PROPERTY_NUMBER', 'MACHINE_ID', 'EFFECTIVE_STATUS',\n",
       "       'VALUE_CHANGE_TIMESTAMP', 'PROPERTY_TYPE', 'TAX_DETAIL_ID',\n",
       "       'TAX_DETAIL_CHARGE_ID', 'TAXSET_ID', 'TAXSET_CODE', 'TAXSET_DESCR',\n",
       "       'CLASSIFICATION_ID', 'CLASSIFICATION_DESCR', 'TREASURER_CODE',\n",
       "       'DEEDED_OWNER_ID', 'PRIMARY_OWNER_NAME', 'SECONDARY_OWNER_NAME',\n",
       "       'LOCATION_STREET_DIR', 'LOCATION_STREET_NO', 'LOCATION_STREET_NAME',\n",
       "       'LOCATION_STREET_SUFFIX', 'LOCATION_CITY', 'LOCATION_STATE',\n",
       "       'LOCATION_ZIPCODE', 'MAILNAME', 'MAIL_STREET_NUMBER',\n",
       "       'MAIL_STREET_DIRECTION', 'MAIL_STREET_NAME', 'MAIL_STREET_SUFFIX',\n",
       "       'MAIL_ATTENTION_LINE', 'MAIL_SECONDARY_ADDRESS', 'MAIL_CITY',\n",
       "       'MAIL_STATE', 'MAIL_COUNTRY', 'MAIL_ZIPCODE', 'BANK_ID',\n",
       "       'LENDER_CODE', 'LENDER', 'LENDER_PROCESS_TYPE', 'TAX_ASSESSED_LAND',\n",
       "       'TAX_ASSESSED_IMPROVEMENT', 'TAX_ASSESSED_TOTAL', 'TAX_MARKET_LAND',\n",
       "       'TAX_MARKET_IMPROVEMENT', 'TAX_MARKET_TOTAL', 'TIF_ASSESSED_LAND',\n",
       "       'TIF_ASSESSED_IMPROVEMENT', 'TIF_ASSESSED_TOTAL', 'TIF_MARKET_LAND',\n",
       "       'TIF_MARKET_IMPROVEMENT', 'TIF_MARKET_TOTAL',\n",
       "       'HOMESTEAD_MARKET_VALUE', 'BILL_NUMBER', 'FULL_RATE',\n",
       "       'REDUCTION_FACTOR', 'EFFECTIVE_RATE', 'INSTALLMENT_DUE_DATE_1ST',\n",
       "       'GROSS_TAX_AMOUNT_1ST', 'REDUCTION_CREDIT_1ST', 'SUBTOTAL_1ST',\n",
       "       'ROLLBACK_CREDIT_1ST', 'TWOANDONEHALF_CREDIT_1ST',\n",
       "       'HOMESTEAD_CREDIT_1ST', 'OMITTED_TAX_1ST', 'OCR_1ST',\n",
       "       'CONTRACT_AMOUNT_1ST', 'ESCROW_ACCOUNT_NUMBER',\n",
       "       'ESCROW_PAYMENTS_1ST', 'INSTALLMENT_DUE_DATE_2ND',\n",
       "       'GROSS_TAX_AMOUNT_2ND', 'REDUCTION_CREDIT_2ND', 'SUBTOTAL_2ND',\n",
       "       'ROLLBACK_CREDIT_2ND', 'TWOANDONEHALF_CREDIT_2ND',\n",
       "       'HOMESTEAD_CREDIT_2ND', 'OMITTED_TAX_2ND', 'OCR_2ND',\n",
       "       'CONTRACT_AMOUNT_2ND', 'ESCROW_PAYMENTS_2ND', 'NET_TAX_1ST',\n",
       "       'NET_TAX_2ND', 'TAX_FEE_1ST', 'TAX_FEE_2ND', 'TAX_PENALTY_1ST',\n",
       "       'TAX_PENALTY_2ND', 'NET_SPA_CHARGE_1ST', 'NET_SPA_CHARGE_2ND',\n",
       "       'SPA_FEE_1ST', 'SPA_FEE_2ND', 'SPA_TOTAL_PENALTY_1ST',\n",
       "       'SPA_TOTAL_PENALTY_2ND', 'NET_TAX_DELQ_OWED', 'NET_TAX_DELQ_PAID',\n",
       "       'NET_TAX_DELQ_DUE', 'NET_TAX_OWED_1ST', 'NET_TAX_PAID_1ST',\n",
       "       'NET_TAX_DUE_1ST', 'NET_TAX_OWED_2ND', 'NET_TAX_PAID_2ND',\n",
       "       'NET_TAX_DUE_2ND', 'NET_SPA_DELQ_OWED', 'NET_SPA_DELQ_PAID',\n",
       "       'NET_SPA_DELQ_DUE', 'NET_SPA_OWED_1ST', 'NET_SPA_PAID_1ST',\n",
       "       'NET_SPA_DUE_1ST', 'NET_SPA_OWED_2ND', 'NET_SPA_PAID_2ND',\n",
       "       'NET_SPA_DUE_2ND', 'TOTAL_NET_DELQ_OWED', 'TOTAL_NET_DELQ_PAID',\n",
       "       'TOTAL_NET_DELQ_BALANCE', 'TOTAL_NET_OWED_1ST',\n",
       "       'TOTAL_NET_PAID_1ST', 'TOTAL_NET_BALANCE_OWED_1ST',\n",
       "       'TOTAL_NET_OWED_2ND', 'TOTAL_NET_PAID_2ND',\n",
       "       'TOTAL_NET_BALANCE_OWED_2ND', 'GRAND_TOTAL_OWED',\n",
       "       'GRAND_TOTAL_PAID', 'GRAND_TOTAL_BALANCE', 'CONTRACT_FLAG',\n",
       "       'ESCROW_FLAG', 'ROLLBACK_FLAG', 'HOMESTEAD_FLAG',\n",
       "       'FORECLOSURE_FLAG', 'PAYMENT_PLAN_FLAG', 'CERT_PEND_FLAG',\n",
       "       'CERT_SOLD_FLAG', 'BILL_TYPE', 'BOR_STATUS', 'NOT_CREATE_FLAG',\n",
       "       'PRINT_ORDER', 'LOCATION_UNIT_NUMBER', 'HOMESTEAD_ASSESSED_VALUE',\n",
       "       'SURPLUS_PAYMENT', 'OMITTED_TAX_PENALTY_1ST',\n",
       "       'OMITTED_TAX_PENALTY_2ND', 'AUDITOR_REFUND', 'TRASURER_REFUND',\n",
       "       'TIF_AMOUNT_1ST', 'TIF_AMOUNT_2ND', 'UPDATE_DATE'], dtype=object)"
      ]
     },
     "execution_count": 5,
     "metadata": {},
     "output_type": "execute_result"
    }
   ],
   "source": [
    "tb.columns.values"
   ]
  },
  {
   "cell_type": "code",
   "execution_count": 74,
   "metadata": {
    "collapsed": false
   },
   "outputs": [
    {
     "data": {
      "text/plain": [
       "(1, 37)"
      ]
     },
     "execution_count": 74,
     "metadata": {},
     "output_type": "execute_result"
    }
   ],
   "source": [
    "b = tci[tci.parcel.isin(tb[tb['SURPLUS_PAYMENT']=='1'].PROPERTY_NUMBER)].vacant\n",
    "sum(b), len(b)"
   ]
  },
  {
   "cell_type": "code",
   "execution_count": 75,
   "metadata": {
    "collapsed": false
   },
   "outputs": [
    {
     "data": {
      "text/plain": [
       "(2034, 3393)"
      ]
     },
     "execution_count": 75,
     "metadata": {},
     "output_type": "execute_result"
    }
   ],
   "source": [
    "b = tci[tci.parcel.isin(tb[tb['FORECLOSURE_FLAG']=='1'].PROPERTY_NUMBER)].vacant\n",
    "sum(b), len(b)"
   ]
  },
  {
   "cell_type": "code",
   "execution_count": 31,
   "metadata": {
    "collapsed": true
   },
   "outputs": [],
   "source": [
    "cols = ['TOTAL_NET_DELQ_BALANCE','TAX_ASSESSED_LAND','TAX_MARKET_LAND',\\\n",
    "        'LENDER_PROCESS_TYPE','GRAND_TOTAL_BALANCE','GRAND_TOTAL_PAID']"
   ]
  },
  {
   "cell_type": "code",
   "execution_count": 6,
   "metadata": {
    "collapsed": false
   },
   "outputs": [],
   "source": [
    "tb.GRAND_TOTAL_BALANCE = tb.GRAND_TOTAL_BALANCE.apply(float)\n",
    "tb2.GRAND_TOTAL_BALANCE = tb2.GRAND_TOTAL_BALANCE.apply(float)\n",
    "\n",
    "tb.TOTAL_NET_DELQ_BALANCE = tb.TOTAL_NET_DELQ_BALANCE.apply(float)\n",
    "tb2.TOTAL_NET_DELQ_BALANCE = tb2.TOTAL_NET_DELQ_BALANCE.apply(float)"
   ]
  },
  {
   "cell_type": "code",
   "execution_count": 7,
   "metadata": {
    "collapsed": false,
    "scrolled": true
   },
   "outputs": [],
   "source": [
    "a = pd.merge(tb, tb2, how='left', left_on='PROPERTY_NUMBER', right_on='PROPERTY_NUMBER')"
   ]
  },
  {
   "cell_type": "code",
   "execution_count": 30,
   "metadata": {
    "collapsed": false
   },
   "outputs": [
    {
     "data": {
      "text/plain": [
       "(354, 866)"
      ]
     },
     "execution_count": 30,
     "metadata": {},
     "output_type": "execute_result"
    }
   ],
   "source": [
    "s = tci[tci.parcel.isin(a[a['diff']>4000].PROPERTY_NUMBER)].vacant\n",
    "sum(s), len(s)"
   ]
  },
  {
   "cell_type": "code",
   "execution_count": 26,
   "metadata": {
    "collapsed": false
   },
   "outputs": [
    {
     "data": {
      "image/png": "[encoded data removed]",
      "text/plain": [
       "<matplotlib.figure.Figure at 0x128162b00>"
      ]
     },
     "metadata": {},
     "output_type": "display_data"
    }
   ],
   "source": [
    "b = np.linspace(-10000,10000,20)\n",
    "a['diff'] = a['GRAND_TOTAL_BALANCE_x']-a['GRAND_TOTAL_BALANCE_y']\n",
    "sns.distplot(a.loc[a['diff'].notnull(),'diff'], bins=b)\n",
    "plt.axis([-10000,10000,0,0.0012]);"
   ]
  },
  {
   "cell_type": "code",
   "execution_count": null,
   "metadata": {
    "collapsed": false
   },
   "outputs": [],
   "source": [
    "tb2.describe()"
   ]
  },
  {
   "cell_type": "code",
   "execution_count": null,
   "metadata": {
    "collapsed": false
   },
   "outputs": [],
   "source": [
    "t = tci[tci.parcel.isin(tb[(tb.GRAND_TOTAL_PAID==0)].PROPERTY_NUMBER)]\n",
    "print(sum(t.vacant), len(t.vacant))\n",
    "\n",
    "t = tci[tci.parcel.isin(tb[(tb.TOTAL_NET_DELQ_BALANCE>3000)].PROPERTY_NUMBER)]\n",
    "print(sum(t.vacant), len(t.vacant))\n",
    "\n",
    "t = tci[tci.parcel.isin(tb[(tb.GRAND_TOTAL_PAID==0) & (tb.TOTAL_NET_DELQ_BALANCE>3000)].PROPERTY_NUMBER)]\n",
    "print(sum(t.vacant), len(t.vacant))"
   ]
  },
  {
   "cell_type": "code",
   "execution_count": null,
   "metadata": {
    "collapsed": false
   },
   "outputs": [],
   "source": [
    "b = np.linspace(0,10000,40)\n",
    "sns.distplot(tb[tb.GRAND_TOTAL_PAID.notnull()].GRAND_TOTAL_PAID, bins=b)\n",
    "sns.distplot(tb2[tb2.GRAND_TOTAL_PAID.notnull()].GRAND_TOTAL_PAID, bins=b)\n",
    "plt.axis([0,10000,0,0.001])"
   ]
  },
  {
   "cell_type": "code",
   "execution_count": null,
   "metadata": {
    "collapsed": false
   },
   "outputs": [],
   "source": [
    "plt.hist(tb.TAX_MARKET_LAND.apply(float),np.linspace(0,50000));"
   ]
  },
  {
   "cell_type": "code",
   "execution_count": null,
   "metadata": {
    "collapsed": false
   },
   "outputs": [],
   "source": [
    "plt.hist(tb.TAX_ASSESSED_LAND.apply(float),np.linspace(0,50000));"
   ]
  },
  {
   "cell_type": "code",
   "execution_count": 76,
   "metadata": {
    "collapsed": true
   },
   "outputs": [],
   "source": [
    "tb = tb.fillna(0)\n",
    "tb2 = tb2.fillna(0)"
   ]
  },
  {
   "cell_type": "code",
   "execution_count": 77,
   "metadata": {
    "collapsed": false
   },
   "outputs": [],
   "source": [
    "tb = tb.set_index('PROPERTY_NUMBER')\n",
    "tb2 = tb2.set_index('PROPERTY_NUMBER')"
   ]
  },
  {
   "cell_type": "code",
   "execution_count": 78,
   "metadata": {
    "collapsed": false
   },
   "outputs": [],
   "source": [
    "cols = ['TOTAL_NET_DELQ_BALANCE','TAX_ASSESSED_LAND','TAX_MARKET_LAND',\\\n",
    "        'LENDER_PROCESS_TYPE','GRAND_TOTAL_BALANCE','GRAND_TOTAL_PAID']\n",
    "tci = pd.merge(tci, tb[cols], left_on='parcel', right_index=True,how='left')"
   ]
  },
  {
   "cell_type": "code",
   "execution_count": 79,
   "metadata": {
    "collapsed": true
   },
   "outputs": [],
   "source": [
    "tci.loc[tci.LENDER_PROCESS_TYPE==0,'LENDER_PROCESS_TYPE'] = 'None'"
   ]
  },
  {
   "cell_type": "code",
   "execution_count": 80,
   "metadata": {
    "collapsed": false
   },
   "outputs": [],
   "source": [
    "tb2 = tb2.rename(columns={'GRAND_TOTAL_BALANCE':'GRAND_TOTAL_BALANCE_14'})\n",
    "tci = pd.merge(tci, tb2[['GRAND_TOTAL_BALANCE_14']], left_on='parcel', right_index=True,how='left')"
   ]
  },
  {
   "cell_type": "code",
   "execution_count": 81,
   "metadata": {
    "collapsed": false
   },
   "outputs": [
    {
     "data": {
      "text/plain": [
       "(113132, 59)"
      ]
     },
     "execution_count": 81,
     "metadata": {},
     "output_type": "execute_result"
    }
   ],
   "source": [
    "tci.shape"
   ]
  },
  {
   "cell_type": "code",
   "execution_count": 83,
   "metadata": {
    "collapsed": true
   },
   "outputs": [],
   "source": [
    "tci = tci.fillna(0)"
   ]
  },
  {
   "cell_type": "code",
   "execution_count": 84,
   "metadata": {
    "collapsed": true
   },
   "outputs": [],
   "source": [
    "tci.to_csv(path+'/data/model_data/tci_2_3.csv',index=False)"
   ]
  },
  {
   "cell_type": "code",
   "execution_count": 82,
   "metadata": {
    "collapsed": false
   },
   "outputs": [
    {
     "name": "stdout",
     "output_type": "stream",
     "text": [
      "<class 'pandas.core.frame.DataFrame'>\n",
      "Int64Index: 113132 entries, 0 to 113131\n",
      "Data columns (total 59 columns):\n",
      "parcel                    113132 non-null object\n",
      "vacant                    113132 non-null int64\n",
      "Date                      113132 non-null datetime64[ns]\n",
      "Survey Category           113132 non-null object\n",
      "Survey Grade              113132 non-null object\n",
      "propsize                  113132 non-null float64\n",
      "totusabl                  113132 non-null float64\n",
      "tmktval                   113132 non-null float64\n",
      "condition13               112559 non-null object\n",
      "condition14               112595 non-null object\n",
      "condition_value13         113132 non-null float64\n",
      "condition_value14         113132 non-null float64\n",
      "style_filtered            113132 non-null object\n",
      "ownerocc_value            113132 non-null float64\n",
      "totbldgs                  113132 non-null float64\n",
      "yrbuilt_filtered          113132 non-null float64\n",
      "rextwall                  113132 non-null object\n",
      "vacant_block              113132 non-null float64\n",
      "median_rent               113132 non-null float64\n",
      "property_crimes           113132 non-null float64\n",
      "burglaries                113132 non-null float64\n",
      "part_one_crimes           113132 non-null float64\n",
      "part_two_crimes           113132 non-null float64\n",
      "bachelors+                113132 non-null float64\n",
      "poverty_rate              113132 non-null float64\n",
      "median_hh_income          113132 non-null float64\n",
      "white                     113132 non-null float64\n",
      "black                     113132 non-null float64\n",
      "asian                     113132 non-null float64\n",
      "other                     113132 non-null float64\n",
      "hispanic                  113132 non-null float64\n",
      "young                     113132 non-null float64\n",
      "middle                    113132 non-null float64\n",
      "old                       113132 non-null float64\n",
      "al_num                    113132 non-null float64\n",
      "al_date                   113132 non-null object\n",
      "al_days                   113132 non-null int64\n",
      "t_days                    113132 non-null int64\n",
      "t_shf_deed                113132 non-null float64\n",
      "t_num                     113132 non-null float64\n",
      "lb_acquired               113132 non-null int64\n",
      "lb_tax_fc                 113132 non-null int64\n",
      "pv_total                  113132 non-null float64\n",
      "v_total_1yr               113132 non-null float64\n",
      "v_total_2yr               113132 non-null float64\n",
      "c_ovv_2yr                 113132 non-null float64\n",
      "c_ovv_1yr                 113132 non-null float64\n",
      "active_fc                 1250 non-null float64\n",
      "fc_1yr                    113132 non-null float64\n",
      "fc_2yr                    113132 non-null float64\n",
      "fc_days                   113132 non-null float64\n",
      "sa_days                   113132 non-null float64\n",
      "TOTAL_NET_DELQ_BALANCE    113129 non-null float64\n",
      "TAX_ASSESSED_LAND         113129 non-null object\n",
      "TAX_MARKET_LAND           113129 non-null object\n",
      "LENDER_PROCESS_TYPE       113129 non-null object\n",
      "GRAND_TOTAL_BALANCE       113129 non-null float64\n",
      "GRAND_TOTAL_PAID          113129 non-null object\n",
      "GRAND_TOTAL_BALANCE_14    113107 non-null float64\n",
      "dtypes: datetime64[ns](1), float64(41), int64(5), object(12)\n",
      "memory usage: 51.8+ MB\n"
     ]
    }
   ],
   "source": [
    "tci.info()"
   ]
  },
  {
   "cell_type": "code",
   "execution_count": null,
   "metadata": {
    "collapsed": true
   },
   "outputs": [],
   "source": []
  }
 ],
 "metadata": {
  "kernelspec": {
   "display_name": "Python 3",
   "language": "python",
   "name": "python3"
  },
  "language_info": {
   "codemirror_mode": {
    "name": "ipython",
    "version": 3
   },
   "file_extension": ".py",
   "mimetype": "text/x-python",
   "name": "python",
   "nbconvert_exporter": "python",
   "pygments_lexer": "ipython3",
   "version": "3.4.3"
  }
 },
 "nbformat": 4,
 "nbformat_minor": 0
}
