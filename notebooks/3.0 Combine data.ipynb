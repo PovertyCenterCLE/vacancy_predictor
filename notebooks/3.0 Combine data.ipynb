{
 "cells": [
  {
   "cell_type": "markdown",
   "metadata": {},
   "source": [
    "# 3.0 Combine data"
   ]
  },
  {
   "cell_type": "code",
   "execution_count": 18,
   "metadata": {
    "collapsed": false
   },
   "outputs": [
    {
     "name": "stdout",
     "output_type": "stream",
     "text": [
      "/Volumes/Dropbox/largetransfer/luc/carter\n"
     ]
    }
   ],
   "source": [
    "import pandas as pd\n",
    "from sklearn.ensemble import RandomForestClassifier\n",
    "import matplotlib.pyplot as plt\n",
    "import numpy as np\n",
    "import seaborn as sns\n",
    "import math\n",
    "from sklearn.preprocessing import Imputer\n",
    "from sklearn.base import TransformerMixin\n",
    "from sklearn import cross_validation\n",
    "from sklearn.grid_search import GridSearchCV\n",
    "from sklearn.linear_model import LogisticRegression\n",
    "from sklearn import preprocessing\n",
    "from sklearn.cross_validation import cross_val_score\n",
    "import os\n",
    "\n",
    "def sound():\n",
    "    os.system('afplay /System/Library/Sounds/Sosumi.aiff')\n",
    "\n",
    "%matplotlib inline\n",
    "sns.set_context('notebook')\n",
    "\n",
    "path = '/'.join(os.getcwd().split('/')[:-1])\n",
    "print(path)"
   ]
  },
  {
   "cell_type": "code",
   "execution_count": 19,
   "metadata": {
    "collapsed": false
   },
   "outputs": [],
   "source": [
    "df0 = pd.read_csv(path+'/data/model_data/tci_2_0.csv', dtype={'Parcel ID':str}, index_col='parcel')\n",
    "df1 = pd.read_csv(path+'/data/model_data/tci_2_1.csv', dtype={'Parcel ID':str}, index_col='parcel')\n",
    "df2 = pd.read_csv(path+'/data/model_data/tci_2_2.csv', dtype={'Parcel ID':str}, index_col='parcel')\n",
    "df3 = pd.read_csv(path+'/data/model_data/tci_2_3.csv', dtype={'Parcel ID':str}, index_col='parcel')"
   ]
  },
  {
   "cell_type": "code",
   "execution_count": 20,
   "metadata": {
    "collapsed": false
   },
   "outputs": [],
   "source": [
    "df = pd.merge(df0, df1[[col for col in df1.columns if col not in ['Date','vacant']]], how='inner', left_index=True, right_index=True)\n",
    "df = pd.merge(df, df2[[col for col in df2.columns if col not in ['Date','vacant']]], how='inner', left_index=True, right_index=True)\n",
    "df = pd.merge(df, df3[[col for col in df3.columns if col != 'Date']], how='inner', left_index=True, right_index=True)"
   ]
  },
  {
   "cell_type": "code",
   "execution_count": 21,
   "metadata": {
    "collapsed": false
   },
   "outputs": [
    {
     "data": {
      "text/plain": [
       "Index(['vacant', 'Date', 'Survey Category', 'Survey Grade', 'SPA_NAME',\n",
       "       'cqual_num', 'occup', 'rnumstor', 'propsize', 'totusabl', 'tmktval',\n",
       "       'condition13', 'condition14', 'condition_value13', 'condition_value14',\n",
       "       'style_filtered', 'ownerocc_value', 'LATITUDE', 'LONGITUDE', 'totbldgs',\n",
       "       'yrbuilt_filtered', 'rextwall', 'vacant_block', 'NAME10', 'median_rent',\n",
       "       'property_crimes', 'burglaries', 'part_one_crimes', 'part_two_crimes',\n",
       "       'bachelors+', 'poverty_rate', 'median_hh_income', 'white', 'black',\n",
       "       'asian', 'other', 'hispanic', 'young', 'middle', 'old', 'lb_acquired',\n",
       "       'lb_tax_fc', 'TOTAL_NET_DELQ_BALANCE', 'TAX_ASSESSED_LAND',\n",
       "       'TAX_MARKET_LAND', 'LENDER_PROCESS_TYPE', 'GRAND_TOTAL_BALANCE',\n",
       "       'GRAND_TOTAL_PAID', 'delq_total_ratio', 'paid_percent',\n",
       "       'GRAND_TOTAL_BALANCE_14', 'pv_count', 'v_total_1yr', 'v_total_2yr',\n",
       "       'days_since_ovv', 'c_ovv_num', 'days_since_ovv_board_up',\n",
       "       'c_ovv_board_num', 'active_fc', 'fc_1yr', 'fc_2yr', 'fc_days',\n",
       "       'sa_days', 't_days', 't_shf_deed', 't_num', 'al_num', 'al_date',\n",
       "       'al_days'],\n",
       "      dtype='object')"
      ]
     },
     "execution_count": 21,
     "metadata": {},
     "output_type": "execute_result"
    }
   ],
   "source": [
    "df.columns"
   ]
  },
  {
   "cell_type": "code",
   "execution_count": 22,
   "metadata": {
    "collapsed": false
   },
   "outputs": [],
   "source": [
    "df.loc[df.occup.notnull(),'occup'] = df[df.occup.notnull()].occup.apply(lambda x: int(x[0]))"
   ]
  },
  {
   "cell_type": "code",
   "execution_count": 23,
   "metadata": {
    "collapsed": false
   },
   "outputs": [],
   "source": [
    "df.loc[df.occup.isnull(),'occup'] = 1"
   ]
  },
  {
   "cell_type": "code",
   "execution_count": 24,
   "metadata": {
    "collapsed": false
   },
   "outputs": [],
   "source": [
    "tem = df[['SPA_NAME','totusabl']].groupby('SPA_NAME').agg(np.median)\n",
    "tem = dict(tem['totusabl'])\n",
    "df.loc[df.totusabl==0, 'totusabl'] = df[df.totusabl==0].apply(lambda x: tem[x.SPA_NAME], axis=1)"
   ]
  },
  {
   "cell_type": "code",
   "execution_count": 25,
   "metadata": {
    "collapsed": false
   },
   "outputs": [],
   "source": [
    "df['price_per_sqft'] = df['tmktval']/df['totusabl']"
   ]
  },
  {
   "cell_type": "code",
   "execution_count": 26,
   "metadata": {
    "collapsed": true
   },
   "outputs": [],
   "source": [
    "# tem = df[['SPA_NAME','tmktval','condition_value14','GRAND_TOTAL_BALANCE','sqft']].groupby('SPA_NAME').agg([np.median,np.mean])\n",
    "# tem"
   ]
  },
  {
   "cell_type": "code",
   "execution_count": 27,
   "metadata": {
    "collapsed": false
   },
   "outputs": [],
   "source": [
    "# val = dict(tem['condition_value14']['mean'])\n",
    "# df['cond_diff'] = df.apply(lambda x: x.condition_value14 - val[x.SPA_NAME], axis=1)"
   ]
  },
  {
   "cell_type": "code",
   "execution_count": 28,
   "metadata": {
    "collapsed": false
   },
   "outputs": [],
   "source": [
    "# val = dict(tem['tmktval']['median'])\n",
    "# df['tmktval_diff'] = df.apply(lambda x: x.tmktval - val[x.SPA_NAME], axis=1)"
   ]
  },
  {
   "cell_type": "code",
   "execution_count": 29,
   "metadata": {
    "collapsed": false
   },
   "outputs": [],
   "source": [
    "# val = dict(tem['GRAND_TOTAL_BALANCE']['median'])\n",
    "# df['balance_diff'] = df.apply(lambda x: x.GRAND_TOTAL_BALANCE - val[x.SPA_NAME], axis=1)"
   ]
  },
  {
   "cell_type": "code",
   "execution_count": 30,
   "metadata": {
    "collapsed": false
   },
   "outputs": [],
   "source": [
    "# k = 0.00005\n",
    "# b = np.linspace(0,20000,20)\n",
    "# sns.distplot(df.loc[df.vacant==1,'GRAND_TOTAL_BALANCE'], bins=b,kde_kws={'bw':k})\n",
    "# sns.distplot(df.loc[df.vacant==0,'GRAND_TOTAL_BALANCE'], bins=b,kde_kws={'bw':k})\n",
    "# plt.axis([min(b),max(b),0,.0009]);"
   ]
  },
  {
   "cell_type": "code",
   "execution_count": 31,
   "metadata": {
    "collapsed": false
   },
   "outputs": [],
   "source": [
    "# k = 0.00005\n",
    "# b = np.linspace(-500,20000,20)\n",
    "# sns.distplot(df.loc[df.vacant==1,'balance_diff'], bins=b,kde_kws={'bw':k})\n",
    "# sns.distplot(df.loc[df.vacant==0,'balance_diff'], bins=b,kde_kws={'bw':k})\n",
    "# plt.axis([min(b),max(b),0,.0009]);"
   ]
  },
  {
   "cell_type": "code",
   "execution_count": 32,
   "metadata": {
    "collapsed": false
   },
   "outputs": [],
   "source": [
    "# b = np.linspace(0,150000,40)\n",
    "# sns.distplot(df.loc[df.vacant==1,'tmktval'], bins=b)\n",
    "# sns.distplot(df.loc[df.vacant==0,'tmktval'], bins=b)\n",
    "# plt.axis([0,max(b),0,0.000025]);"
   ]
  },
  {
   "cell_type": "code",
   "execution_count": 33,
   "metadata": {
    "collapsed": false
   },
   "outputs": [],
   "source": [
    "# sns.distplot(df.loc[df.vacant==1,'sqft'], bins=np.linspace(0,160,40))\n",
    "# sns.distplot(df.loc[df.vacant==0,'sqft'], bins=np.linspace(0,160,40))\n",
    "# plt.axis([0,150,0,0.035]);"
   ]
  },
  {
   "cell_type": "code",
   "execution_count": 34,
   "metadata": {
    "collapsed": false
   },
   "outputs": [],
   "source": [
    "# k = 0.5\n",
    "# b = np.linspace(0,10,11)\n",
    "# sns.distplot(df.loc[df.vacant==1,'condition_value14'], bins=b,kde_kws={'bw':k})\n",
    "# sns.distplot(df.loc[df.vacant==0,'condition_value14'], bins=b,kde_kws={'bw':k})\n",
    "# plt.axis([0,10,0,.9]);"
   ]
  },
  {
   "cell_type": "code",
   "execution_count": 35,
   "metadata": {
    "collapsed": false
   },
   "outputs": [],
   "source": [
    "# k = 3000\n",
    "# b = np.linspace(-50000,50000,50)\n",
    "# sns.distplot(df.loc[df.vacant==1,'tmktval_diff'], bins=b,kde_kws={'bw':k})\n",
    "# sns.distplot(df.loc[df.vacant==0,'tmktval_diff'], bins=b,kde_kws={'bw':k})\n",
    "# plt.axis([-50000,50000,0,.00005]);"
   ]
  },
  {
   "cell_type": "code",
   "execution_count": 36,
   "metadata": {
    "collapsed": false
   },
   "outputs": [],
   "source": [
    "# k = .3\n",
    "# b = np.linspace(-5,5,20)\n",
    "# sns.distplot(df.loc[df.vacant==1,'cond_diff'], bins=b,kde_kws={'bw':k})\n",
    "# sns.distplot(df.loc[df.vacant==0,'cond_diff'], bins=b,kde_kws={'bw':k})\n",
    "# plt.axis([-5,5,0,.9]);"
   ]
  },
  {
   "cell_type": "code",
   "execution_count": 37,
   "metadata": {
    "collapsed": false
   },
   "outputs": [],
   "source": [
    "# val = dict(tem['tmktval']['median'])\n",
    "# df['mktval_diff'] = df.apply(lambda x: x.tmktval - val[x.SPA_NAME], axis=1)"
   ]
  },
  {
   "cell_type": "code",
   "execution_count": 38,
   "metadata": {
    "collapsed": false
   },
   "outputs": [],
   "source": [
    "# cols_temp = df.columns[:-4]"
   ]
  },
  {
   "cell_type": "code",
   "execution_count": 39,
   "metadata": {
    "collapsed": false
   },
   "outputs": [],
   "source": [
    "# df['missing_values'] = df.apply(lambda x: len(x[x.isnull()]),axis=1)\n",
    "to_remove = ['Parcel ID','parcel','Date','Survey Category','Survey Grade',\\\n",
    "             'condition13', 'condition14', 'al_date','SPA_NAME','NAME10','style_filtered','rextwall','LENDER_PROCESS_TYPE']"
   ]
  },
  {
   "cell_type": "code",
   "execution_count": 40,
   "metadata": {
    "collapsed": false
   },
   "outputs": [],
   "source": [
    "features = list(df.columns.values)\n",
    "for i in to_remove:\n",
    "    if i in features:\n",
    "        features.remove(i)"
   ]
  },
  {
   "cell_type": "code",
   "execution_count": 41,
   "metadata": {
    "collapsed": false,
    "scrolled": true
   },
   "outputs": [
    {
     "name": "stdout",
     "output_type": "stream",
     "text": [
      "0 vacant\n",
      "1 cqual_num\n",
      "2 occup\n",
      "3 rnumstor\n",
      "4 propsize\n",
      "5 totusabl\n",
      "6 tmktval\n",
      "7 condition_value13\n",
      "8 condition_value14\n",
      "9 ownerocc_value\n",
      "10 LATITUDE\n",
      "11 LONGITUDE\n",
      "12 totbldgs\n",
      "13 yrbuilt_filtered\n",
      "14 vacant_block\n",
      "15 median_rent\n",
      "16 property_crimes\n",
      "17 burglaries\n",
      "18 part_one_crimes\n",
      "19 part_two_crimes\n",
      "20 bachelors+\n",
      "21 poverty_rate\n",
      "22 median_hh_income\n",
      "23 white\n",
      "24 black\n",
      "25 asian\n",
      "26 other\n",
      "27 hispanic\n",
      "28 young\n",
      "29 middle\n",
      "30 old\n",
      "31 lb_acquired\n",
      "32 lb_tax_fc\n",
      "33 TOTAL_NET_DELQ_BALANCE\n",
      "34 TAX_ASSESSED_LAND\n",
      "35 TAX_MARKET_LAND\n",
      "36 GRAND_TOTAL_BALANCE\n",
      "37 GRAND_TOTAL_PAID\n",
      "38 delq_total_ratio\n",
      "39 paid_percent\n",
      "40 GRAND_TOTAL_BALANCE_14\n",
      "41 pv_count\n",
      "42 v_total_1yr\n",
      "43 v_total_2yr\n",
      "44 days_since_ovv\n",
      "45 c_ovv_num\n",
      "46 days_since_ovv_board_up\n",
      "47 c_ovv_board_num\n",
      "48 active_fc\n",
      "49 fc_1yr\n",
      "50 fc_2yr\n",
      "51 fc_days\n",
      "52 sa_days\n",
      "53 t_days\n",
      "54 t_shf_deed\n",
      "55 t_num\n",
      "56 al_num\n",
      "57 al_days\n",
      "58 price_per_sqft\n"
     ]
    }
   ],
   "source": [
    "for i,j in enumerate(features):\n",
    "    print(i,j)"
   ]
  },
  {
   "cell_type": "code",
   "execution_count": 42,
   "metadata": {
    "collapsed": false
   },
   "outputs": [],
   "source": [
    "# from sklearn import tree\n",
    "\n",
    "# clf = tree.DecisionTreeClassifier(max_depth=2,min_samples_leaf=5)\n",
    "# # iris = load_iris()\n",
    "# clf = clf.fit(df3[features], df3.vacant)\n",
    "# tree.export_graphviz(clf, out_file=path+'/tree.dot',feature_names=features, impurity=False, label=None,filled=True,class_names=['Not vacant','Vacant']) "
   ]
  },
  {
   "cell_type": "code",
   "execution_count": 43,
   "metadata": {
    "collapsed": false
   },
   "outputs": [
    {
     "name": "stdout",
     "output_type": "stream",
     "text": [
      "Index(['occup'], dtype='object')\n"
     ]
    }
   ],
   "source": [
    "print(df[features].columns[df[features].dtypes == 'object'])"
   ]
  },
  {
   "cell_type": "code",
   "execution_count": 44,
   "metadata": {
    "collapsed": false
   },
   "outputs": [
    {
     "name": "stdout",
     "output_type": "stream",
     "text": [
      "(113132, 59)\n"
     ]
    }
   ],
   "source": [
    "# transform categorical variables (including NaN's)\n",
    "# objs = df[features].columns[df[features].dtypes == 'object']\n",
    "# prefixes = ['style','ext','lender']\n",
    "\n",
    "# objs = ['LENDER_PROCESS_TYPE']\n",
    "# prefixes = ['lender']\n",
    "\n",
    "# df2 = df[objs]\n",
    "# df3 = pd.concat([pd.get_dummies(df2[col], prefix=prefixes[index]) for index, col in enumerate(df2)], axis=1)\n",
    "\n",
    "# for i in objs:\n",
    "#     if i in features:\n",
    "#         features.remove(i)\n",
    "df3 = pd.DataFrame()\n",
    "df3[features] = df[features]\n",
    "df3 = df3.fillna(0)\n",
    "\n",
    "print(df3.shape)"
   ]
  },
  {
   "cell_type": "code",
   "execution_count": 48,
   "metadata": {
    "collapsed": true
   },
   "outputs": [],
   "source": [
    "df3.to_csv(path+'/data/model_data/tci_final.csv')"
   ]
  }
 ],
 "metadata": {
  "kernelspec": {
   "display_name": "Python 3",
   "language": "python",
   "name": "python3"
  },
  "language_info": {
   "codemirror_mode": {
    "name": "ipython",
    "version": 3
   },
   "file_extension": ".py",
   "mimetype": "text/x-python",
   "name": "python",
   "nbconvert_exporter": "python",
   "pygments_lexer": "ipython3",
   "version": "3.4.4"
  }
 },
 "nbformat": 4,
 "nbformat_minor": 0
}
