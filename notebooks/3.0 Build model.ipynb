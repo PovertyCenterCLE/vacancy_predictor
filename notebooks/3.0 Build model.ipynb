{
 "cells": [
  {
   "cell_type": "markdown",
   "metadata": {},
   "source": [
    "# 3.0 Build predictive model"
   ]
  },
  {
   "cell_type": "code",
   "execution_count": 330,
   "metadata": {
    "collapsed": false
   },
   "outputs": [
    {
     "name": "stdout",
     "output_type": "stream",
     "text": [
      "/Volumes/Dropbox-1/largetransfer/luc/carter\n"
     ]
    }
   ],
   "source": [
    "import pandas as pd\n",
    "from sklearn.ensemble import RandomForestClassifier\n",
    "import matplotlib.pyplot as plt\n",
    "import numpy as np\n",
    "import seaborn as sns\n",
    "import math\n",
    "from sklearn.preprocessing import Imputer\n",
    "from sklearn.base import TransformerMixin\n",
    "from sklearn import cross_validation\n",
    "from sklearn.grid_search import GridSearchCV\n",
    "from sklearn.linear_model import LogisticRegression\n",
    "from sklearn import preprocessing\n",
    "import os\n",
    "\n",
    "%matplotlib inline\n",
    "\n",
    "path = '/'.join(os.getcwd().split('/')[:-1])\n",
    "print path"
   ]
  },
  {
   "cell_type": "code",
   "execution_count": 159,
   "metadata": {
    "collapsed": true
   },
   "outputs": [],
   "source": [
    "def sound():\n",
    "    os.system('afplay /System/Library/Sounds/Sosumi.aiff')"
   ]
  },
  {
   "cell_type": "code",
   "execution_count": 160,
   "metadata": {
    "collapsed": false
   },
   "outputs": [
    {
     "data": {
      "text/plain": [
       "(110154, 109)"
      ]
     },
     "execution_count": 160,
     "metadata": {},
     "output_type": "execute_result"
    }
   ],
   "source": [
    "df = pd.read_csv(path+'/data/model_data/tci_2_3.csv')\n",
    "df.shape"
   ]
  },
  {
   "cell_type": "code",
   "execution_count": 161,
   "metadata": {
    "collapsed": false
   },
   "outputs": [
    {
     "name": "stdout",
     "output_type": "stream",
     "text": [
      "<class 'pandas.core.frame.DataFrame'>\n",
      "Int64Index: 110154 entries, 0 to 110153\n",
      "Columns: 109 entries, Parcel ID to GRAND_TOTAL_BALANCE\n",
      "dtypes: float64(86), int64(3), object(20)\n",
      "memory usage: 92.4+ MB\n"
     ]
    }
   ],
   "source": [
    "df.info()"
   ]
  },
  {
   "cell_type": "code",
   "execution_count": 162,
   "metadata": {
    "collapsed": false
   },
   "outputs": [
    {
     "data": {
      "text/plain": [
       "Index([u'Parcel ID', u'ppn', u'vacant', u'Date', u'Survey Category',\n",
       "       u'Survey Result', u'zip', u'pclass', u'totusabl', u'tmktval', \n",
       "       ...\n",
       "       u'active_fc', u'foreclosure_flag', u'fc_dis_w/o_prej',\n",
       "       u'fc_newly_filed', u'fc_default', u'fc_dispother', u'auction',\n",
       "       u'PROPERTY_NUMBER', u'LENDER_PROCESS_TYPE', u'GRAND_TOTAL_BALANCE'],\n",
       "      dtype='object', length=109)"
      ]
     },
     "execution_count": 162,
     "metadata": {},
     "output_type": "execute_result"
    }
   ],
   "source": [
    "df.columns"
   ]
  },
  {
   "cell_type": "markdown",
   "metadata": {},
   "source": [
    "#### Count missing values as a variable"
   ]
  },
  {
   "cell_type": "code",
   "execution_count": 163,
   "metadata": {
    "collapsed": false
   },
   "outputs": [],
   "source": [
    "df['missing_values'] = df.apply(lambda x: len(x[x.isnull()]),axis=1)"
   ]
  },
  {
   "cell_type": "code",
   "execution_count": 164,
   "metadata": {
    "collapsed": false,
    "scrolled": true
   },
   "outputs": [
    {
     "data": {
      "text/html": [
       "<div>\n",
       "<table border=\"1\" class=\"dataframe\">\n",
       "  <thead>\n",
       "    <tr>\n",
       "      <th></th>\n",
       "      <th colspan=\"2\" halign=\"left\">vacant</th>\n",
       "    </tr>\n",
       "    <tr>\n",
       "      <th></th>\n",
       "      <th>sum</th>\n",
       "      <th>len</th>\n",
       "    </tr>\n",
       "    <tr>\n",
       "      <th>missing_values</th>\n",
       "      <th></th>\n",
       "      <th></th>\n",
       "    </tr>\n",
       "  </thead>\n",
       "  <tbody>\n",
       "    <tr>\n",
       "      <th>0</th>\n",
       "      <td>4</td>\n",
       "      <td>6</td>\n",
       "    </tr>\n",
       "    <tr>\n",
       "      <th>1</th>\n",
       "      <td>30</td>\n",
       "      <td>80</td>\n",
       "    </tr>\n",
       "    <tr>\n",
       "      <th>2</th>\n",
       "      <td>110</td>\n",
       "      <td>430</td>\n",
       "    </tr>\n",
       "    <tr>\n",
       "      <th>3</th>\n",
       "      <td>1969</td>\n",
       "      <td>2501</td>\n",
       "    </tr>\n",
       "    <tr>\n",
       "      <th>4</th>\n",
       "      <td>110</td>\n",
       "      <td>734</td>\n",
       "    </tr>\n",
       "    <tr>\n",
       "      <th>5</th>\n",
       "      <td>181</td>\n",
       "      <td>2712</td>\n",
       "    </tr>\n",
       "    <tr>\n",
       "      <th>6</th>\n",
       "      <td>690</td>\n",
       "      <td>6958</td>\n",
       "    </tr>\n",
       "    <tr>\n",
       "      <th>7</th>\n",
       "      <td>1985</td>\n",
       "      <td>27619</td>\n",
       "    </tr>\n",
       "    <tr>\n",
       "      <th>8</th>\n",
       "      <td>1510</td>\n",
       "      <td>33104</td>\n",
       "    </tr>\n",
       "    <tr>\n",
       "      <th>9</th>\n",
       "      <td>536</td>\n",
       "      <td>29233</td>\n",
       "    </tr>\n",
       "    <tr>\n",
       "      <th>10</th>\n",
       "      <td>-1232</td>\n",
       "      <td>1350</td>\n",
       "    </tr>\n",
       "    <tr>\n",
       "      <th>11</th>\n",
       "      <td>-2454</td>\n",
       "      <td>2589</td>\n",
       "    </tr>\n",
       "    <tr>\n",
       "      <th>12</th>\n",
       "      <td>-2195</td>\n",
       "      <td>2294</td>\n",
       "    </tr>\n",
       "    <tr>\n",
       "      <th>13</th>\n",
       "      <td>-395</td>\n",
       "      <td>409</td>\n",
       "    </tr>\n",
       "    <tr>\n",
       "      <th>14</th>\n",
       "      <td>-46</td>\n",
       "      <td>52</td>\n",
       "    </tr>\n",
       "    <tr>\n",
       "      <th>20</th>\n",
       "      <td>-1</td>\n",
       "      <td>1</td>\n",
       "    </tr>\n",
       "    <tr>\n",
       "      <th>23</th>\n",
       "      <td>0</td>\n",
       "      <td>1</td>\n",
       "    </tr>\n",
       "    <tr>\n",
       "      <th>26</th>\n",
       "      <td>-1</td>\n",
       "      <td>1</td>\n",
       "    </tr>\n",
       "    <tr>\n",
       "      <th>29</th>\n",
       "      <td>-2</td>\n",
       "      <td>3</td>\n",
       "    </tr>\n",
       "    <tr>\n",
       "      <th>30</th>\n",
       "      <td>-3</td>\n",
       "      <td>14</td>\n",
       "    </tr>\n",
       "    <tr>\n",
       "      <th>31</th>\n",
       "      <td>-5</td>\n",
       "      <td>19</td>\n",
       "    </tr>\n",
       "    <tr>\n",
       "      <th>32</th>\n",
       "      <td>-4</td>\n",
       "      <td>7</td>\n",
       "    </tr>\n",
       "    <tr>\n",
       "      <th>34</th>\n",
       "      <td>-2</td>\n",
       "      <td>7</td>\n",
       "    </tr>\n",
       "    <tr>\n",
       "      <th>35</th>\n",
       "      <td>-1</td>\n",
       "      <td>3</td>\n",
       "    </tr>\n",
       "    <tr>\n",
       "      <th>36</th>\n",
       "      <td>-14</td>\n",
       "      <td>25</td>\n",
       "    </tr>\n",
       "    <tr>\n",
       "      <th>37</th>\n",
       "      <td>-1</td>\n",
       "      <td>1</td>\n",
       "    </tr>\n",
       "    <tr>\n",
       "      <th>71</th>\n",
       "      <td>0</td>\n",
       "      <td>1</td>\n",
       "    </tr>\n",
       "  </tbody>\n",
       "</table>\n",
       "</div>"
      ],
      "text/plain": [
       "               vacant       \n",
       "                  sum    len\n",
       "missing_values              \n",
       "0                   4      6\n",
       "1                  30     80\n",
       "2                 110    430\n",
       "3                1969   2501\n",
       "4                 110    734\n",
       "5                 181   2712\n",
       "6                 690   6958\n",
       "7                1985  27619\n",
       "8                1510  33104\n",
       "9                 536  29233\n",
       "10              -1232   1350\n",
       "11              -2454   2589\n",
       "12              -2195   2294\n",
       "13               -395    409\n",
       "14                -46     52\n",
       "20                 -1      1\n",
       "23                  0      1\n",
       "26                 -1      1\n",
       "29                 -2      3\n",
       "30                 -3     14\n",
       "31                 -5     19\n",
       "32                 -4      7\n",
       "34                 -2      7\n",
       "35                 -1      3\n",
       "36                -14     25\n",
       "37                 -1      1\n",
       "71                  0      1"
      ]
     },
     "execution_count": 164,
     "metadata": {},
     "output_type": "execute_result"
    }
   ],
   "source": [
    "df[['missing_values','vacant']].groupby('missing_values').agg([sum,len])"
   ]
  },
  {
   "cell_type": "markdown",
   "metadata": {},
   "source": [
    "#### Change 'pclass' into residential/non-residential\n",
    "\n",
    "Only use data from residential parcels in the model."
   ]
  },
  {
   "cell_type": "code",
   "execution_count": 165,
   "metadata": {
    "collapsed": true
   },
   "outputs": [],
   "source": [
    "def fun(x):\n",
    "    if x == 'Residential':\n",
    "        return 1\n",
    "    else:\n",
    "        return 0\n",
    "df['pclass_filtered'] = df['pclass'].apply(fun)"
   ]
  },
  {
   "cell_type": "code",
   "execution_count": 166,
   "metadata": {
    "collapsed": false
   },
   "outputs": [
    {
     "data": {
      "text/html": [
       "<div>\n",
       "<table border=\"1\" class=\"dataframe\">\n",
       "  <thead>\n",
       "    <tr>\n",
       "      <th></th>\n",
       "      <th colspan=\"2\" halign=\"left\">vacant</th>\n",
       "    </tr>\n",
       "    <tr>\n",
       "      <th></th>\n",
       "      <th>sum</th>\n",
       "      <th>len</th>\n",
       "    </tr>\n",
       "    <tr>\n",
       "      <th>pclass_filtered</th>\n",
       "      <th></th>\n",
       "      <th></th>\n",
       "    </tr>\n",
       "  </thead>\n",
       "  <tbody>\n",
       "    <tr>\n",
       "      <th>0</th>\n",
       "      <td>1828</td>\n",
       "      <td>1828</td>\n",
       "    </tr>\n",
       "    <tr>\n",
       "      <th>1</th>\n",
       "      <td>-1059</td>\n",
       "      <td>108326</td>\n",
       "    </tr>\n",
       "  </tbody>\n",
       "</table>\n",
       "</div>"
      ],
      "text/plain": [
       "                vacant        \n",
       "                   sum     len\n",
       "pclass_filtered               \n",
       "0                 1828    1828\n",
       "1                -1059  108326"
      ]
     },
     "execution_count": 166,
     "metadata": {},
     "output_type": "execute_result"
    }
   ],
   "source": [
    "df[['pclass_filtered','vacant']].groupby('pclass_filtered').agg([sum,len])"
   ]
  },
  {
   "cell_type": "code",
   "execution_count": 167,
   "metadata": {
    "collapsed": false
   },
   "outputs": [
    {
     "data": {
      "text/plain": [
       "(108326, 111)"
      ]
     },
     "execution_count": 167,
     "metadata": {},
     "output_type": "execute_result"
    }
   ],
   "source": [
    "df = df[df['pclass_filtered']==1]\n",
    "df.shape"
   ]
  },
  {
   "cell_type": "markdown",
   "metadata": {},
   "source": [
    "#### Let's look at total market value, property size, etc."
   ]
  },
  {
   "cell_type": "code",
   "execution_count": 168,
   "metadata": {
    "collapsed": true
   },
   "outputs": [],
   "source": [
    "def is_outlier(points, thresh=3.5):\n",
    "    \"\"\"\n",
    "    Returns a boolean array with True if points are outliers and False \n",
    "    otherwise.\n",
    "\n",
    "    Parameters:\n",
    "    -----------\n",
    "        points : An numobservations by numdimensions array of observations\n",
    "        thresh : The modified z-score to use as a threshold. Observations with\n",
    "            a modified z-score (based on the median absolute deviation) greater\n",
    "            than this value will be classified as outliers.\n",
    "\n",
    "    Returns:\n",
    "    --------\n",
    "        mask : A numobservations-length boolean array.\n",
    "\n",
    "    References:\n",
    "    ----------\n",
    "        Boris Iglewicz and David Hoaglin (1993), \"Volume 16: How to Detect and\n",
    "        Handle Outliers\", The ASQC Basic References in Quality Control:\n",
    "        Statistical Techniques, Edward F. Mykytka, Ph.D., Editor. \n",
    "    \"\"\"\n",
    "    if len(points.shape) == 1:\n",
    "        points = points[:,None]\n",
    "    median = np.median(points, axis=0)\n",
    "    diff = np.sum((points - median)**2, axis=-1)\n",
    "    diff = np.sqrt(diff)\n",
    "    med_abs_deviation = np.median(diff)\n",
    "\n",
    "    modified_z_score = 0.6745 * diff / med_abs_deviation\n",
    "\n",
    "    return modified_z_score > thresh"
   ]
  },
  {
   "cell_type": "code",
   "execution_count": 169,
   "metadata": {
    "collapsed": false
   },
   "outputs": [
    {
     "data": {
      "text/html": [
       "<div>\n",
       "<table border=\"1\" class=\"dataframe\">\n",
       "  <thead>\n",
       "    <tr style=\"text-align: right;\">\n",
       "      <th></th>\n",
       "      <th>Parcel ID</th>\n",
       "      <th>ppn</th>\n",
       "      <th>vacant</th>\n",
       "      <th>Date</th>\n",
       "      <th>Survey Category</th>\n",
       "      <th>Survey Result</th>\n",
       "      <th>zip</th>\n",
       "      <th>pclass</th>\n",
       "      <th>totusabl</th>\n",
       "      <th>tmktval</th>\n",
       "      <th>...</th>\n",
       "      <th>fc_dis_w/o_prej</th>\n",
       "      <th>fc_newly_filed</th>\n",
       "      <th>fc_default</th>\n",
       "      <th>fc_dispother</th>\n",
       "      <th>auction</th>\n",
       "      <th>PROPERTY_NUMBER</th>\n",
       "      <th>LENDER_PROCESS_TYPE</th>\n",
       "      <th>GRAND_TOTAL_BALANCE</th>\n",
       "      <th>missing_values</th>\n",
       "      <th>pclass_filtered</th>\n",
       "    </tr>\n",
       "  </thead>\n",
       "  <tbody>\n",
       "    <tr>\n",
       "      <th>0</th>\n",
       "      <td>00421136A</td>\n",
       "      <td>004-21-136A</td>\n",
       "      <td>-1</td>\n",
       "      <td>7/31/15</td>\n",
       "      <td>Vacant Lot</td>\n",
       "      <td>No Grade</td>\n",
       "      <td>44113</td>\n",
       "      <td>Residential</td>\n",
       "      <td>0</td>\n",
       "      <td>4500</td>\n",
       "      <td>...</td>\n",
       "      <td>NaN</td>\n",
       "      <td>NaN</td>\n",
       "      <td>0</td>\n",
       "      <td>0</td>\n",
       "      <td>0</td>\n",
       "      <td>004-21-136A</td>\n",
       "      <td>None</td>\n",
       "      <td>133.06</td>\n",
       "      <td>12</td>\n",
       "      <td>1</td>\n",
       "    </tr>\n",
       "  </tbody>\n",
       "</table>\n",
       "<p>1 rows × 111 columns</p>\n",
       "</div>"
      ],
      "text/plain": [
       "   Parcel ID          ppn  vacant     Date Survey Category Survey Result  \\\n",
       "0  00421136A  004-21-136A      -1  7/31/15      Vacant Lot      No Grade   \n",
       "\n",
       "     zip       pclass  totusabl  tmktval       ...       fc_dis_w/o_prej  \\\n",
       "0  44113  Residential         0     4500       ...                   NaN   \n",
       "\n",
       "  fc_newly_filed  fc_default fc_dispother auction PROPERTY_NUMBER  \\\n",
       "0            NaN           0            0       0     004-21-136A   \n",
       "\n",
       "   LENDER_PROCESS_TYPE GRAND_TOTAL_BALANCE  missing_values pclass_filtered  \n",
       "0                 None              133.06              12               1  \n",
       "\n",
       "[1 rows x 111 columns]"
      ]
     },
     "execution_count": 169,
     "metadata": {},
     "output_type": "execute_result"
    }
   ],
   "source": [
    "df.head(1)"
   ]
  },
  {
   "cell_type": "code",
   "execution_count": 170,
   "metadata": {
    "collapsed": false,
    "scrolled": true
   },
   "outputs": [
    {
     "data": {
      "image/png": "[encoded data removed]",
      "text/plain": [
       "<matplotlib.figure.Figure at 0x10a701890>"
      ]
     },
     "metadata": {},
     "output_type": "display_data"
    }
   ],
   "source": [
    "b = np.linspace(0, 120000, 40)\n",
    "plt.hist(df.loc[(~is_outlier(df.tmktval)) & (df.vacant==1),'tmktval'].values,bins=b,alpha=0.5,normed=True,label='Vacant');\n",
    "plt.hist(df.loc[(~is_outlier(df.tmktval)) & (df.vacant==0),'tmktval'].values,bins=b,color='r',alpha=0.5,normed=True,label='Occupied');\n",
    "plt.legend();\n",
    "plt.title('Normed histogram of total market value');"
   ]
  },
  {
   "cell_type": "code",
   "execution_count": 111,
   "metadata": {
    "collapsed": false
   },
   "outputs": [],
   "source": [
    "# b = np.linspace(0, 10000, 40)\n",
    "# plt.hist(df.loc[(~is_outlier(df.propsize)) & (df.vacant==1),'propsize'].values,bins=b,alpha=0.5,normed=True,label='Vacant');\n",
    "# plt.hist(df.loc[(~is_outlier(df.propsize)) & (df.vacant==0),'propsize'].values,bins=b,color='r',alpha=0.5,normed=True,label='Occupied');\n",
    "# plt.legend();\n",
    "# plt.title('Normed histogram of property size');"
   ]
  },
  {
   "cell_type": "code",
   "execution_count": 172,
   "metadata": {
    "collapsed": false
   },
   "outputs": [
    {
     "data": {
      "image/png": "[encoded data removed]",
      "text/plain": [
       "<matplotlib.figure.Figure at 0x109f16150>"
      ]
     },
     "metadata": {},
     "output_type": "display_data"
    }
   ],
   "source": [
    "b = np.linspace(0, 8, 9)\n",
    "plt.hist(df.loc[((df.condition_value.notnull())) & (df.vacant==1),'condition_value'].values,bins=b,alpha=0.5,normed=True,label='Vacant');\n",
    "plt.hist(df.loc[((df.condition_value.notnull())) & (df.vacant==0),'condition_value'].values,bins=b,color='r',alpha=0.5,normed=True,label='Occupied');\n",
    "plt.legend();\n",
    "plt.title('Normed histogram of condition value');"
   ]
  },
  {
   "cell_type": "code",
   "execution_count": 174,
   "metadata": {
    "collapsed": false
   },
   "outputs": [
    {
     "data": {
      "image/png": "[encoded data removed]",
      "text/plain": [
       "<matplotlib.figure.Figure at 0x111465fd0>"
      ]
     },
     "metadata": {},
     "output_type": "display_data"
    }
   ],
   "source": [
    "b = np.linspace(1900, 1950, 10)\n",
    "plt.hist(df.loc[(~is_outlier(df.yrbuilt_filtered)) & (df.vacant==1),'yrbuilt_filtered'].values,bins=b,alpha=0.5,normed=True,label='Vacant');\n",
    "plt.hist(df.loc[(~is_outlier(df.yrbuilt_filtered)) & (df.vacant==0),'yrbuilt_filtered'].values,bins=b,color='r',alpha=0.5,normed=True,label='Occupied');\n",
    "plt.legend();\n",
    "plt.title('Normed histogram of year built');"
   ]
  },
  {
   "cell_type": "code",
   "execution_count": 175,
   "metadata": {
    "collapsed": true
   },
   "outputs": [],
   "source": [
    "to_remove = ['Parcel ID','ppn','Date','Survey Category','Survey Result','pclass','parcel_x','parcel_y','parcel_x.1', \\\n",
    "             'parcel_x.1','parcel_y.1','parcel_y.1','parcel_x.2','parcel_y.2','PROPERTY_NUMBER','condition','missing_values', \\\n",
    "             'zip']"
   ]
  },
  {
   "cell_type": "code",
   "execution_count": 176,
   "metadata": {
    "collapsed": false
   },
   "outputs": [
    {
     "data": {
      "text/plain": [
       "array(['Parcel ID', 'ppn', 'vacant', 'Date', 'Survey Category',\n",
       "       'Survey Result', 'zip', 'pclass', 'totusabl', 'tmktval',\n",
       "       'condition', 'parcel_x', 'condition_value', 'parcel_y',\n",
       "       'style_filtered', 'parcel_x.1', 'ownerocc_value', 'parcel_y.1',\n",
       "       'totbldgs', 'parcel_x.2', 'yrbuilt_filtered', 'parcel_y.2',\n",
       "       'rextwall', 'parcel_x.1', 'vacant_block', 'owner', 'renter',\n",
       "       'median_rent', 'property_crimes', 'burglaries', 'other_drug',\n",
       "       'part_one_crimes', 'part_two_crimes', 'bachelors+', 'poverty_rate',\n",
       "       'median_hh_income', 'median_fam_income', 'white', 'black', 'asian',\n",
       "       'other', 'hispanic', 'young', 'middle', 'old', 'num_of_sales',\n",
       "       'quit_claim_deed', 'warranty_deed', 'limited_warranty',\n",
       "       'survivorship_deed', 'fiduciary_deed', 'AMOUNT_PAID', 'SALE_VALID',\n",
       "       'num_of_transfers', 'DEED_TYPE', 'county_land_bank', 'vindall_Y',\n",
       "       'vindall_P', 'closure count', 'application acceptance count',\n",
       "       'condemnation count', 'demolition approval count',\n",
       "       'prosecution count', 'search warrant count', 'inspection count',\n",
       "       'non-condemnation count', 'violations_number',\n",
       "       'violations_number_1_yr', 'v_30 day condemnation_count',\n",
       "       'v_30 day condemnation garage_count',\n",
       "       'v_30 day condemnation ms_count',\n",
       "       'v_30 day fire damage repair ms_count',\n",
       "       'v_condemnation - garage_count',\n",
       "       'v_condemnation - main structure_count',\n",
       "       'v_condemnation - shed_count', 'v_exterior maintenance_count',\n",
       "       'v_fire damage_count', 'v_general maintenance_count',\n",
       "       'v_hvac_count', 'v_interior maintenance_count',\n",
       "       'v_interior/exterior maintenance_count', 'v_no permit_count',\n",
       "       'v_survey_count', 'v_unauthorized/illegal use_count',\n",
       "       'v_vacate_count', 'c_Black Mold', 'c_Collapsing Structure',\n",
       "       'c_Complete interior/exterior', 'c_Debris/Garbage/Junk (Occupied)',\n",
       "       'c_Electrical', 'c_Fire Damage', 'c_General Exterior Maintenance',\n",
       "       'c_No Permit', 'c_O.V.V.', 'c_Plumbing', 'complaint_count',\n",
       "       'complaint_count_6_mon', 'complaint_count_3_mon', 'parcel_y.1',\n",
       "       'active_fc', 'foreclosure_flag', 'fc_dis_w/o_prej',\n",
       "       'fc_newly_filed', 'fc_default', 'fc_dispother', 'auction',\n",
       "       'PROPERTY_NUMBER', 'LENDER_PROCESS_TYPE', 'GRAND_TOTAL_BALANCE',\n",
       "       'missing_values', 'pclass_filtered'], dtype=object)"
      ]
     },
     "execution_count": 176,
     "metadata": {},
     "output_type": "execute_result"
    }
   ],
   "source": [
    "df.columns.values"
   ]
  },
  {
   "cell_type": "code",
   "execution_count": 177,
   "metadata": {
    "collapsed": false
   },
   "outputs": [
    {
     "name": "stdout",
     "output_type": "stream",
     "text": [
      "Parcel ID\n",
      "ppn\n",
      "Date\n",
      "Survey Category\n",
      "Survey Result\n",
      "pclass\n",
      "parcel_x\n",
      "parcel_y\n",
      "parcel_x.1\n",
      "parcel_x.1\n",
      "parcel_y.1\n",
      "parcel_y.1\n",
      "parcel_x.2\n",
      "parcel_y.2\n",
      "PROPERTY_NUMBER\n",
      "condition\n",
      "missing_values\n",
      "zip\n"
     ]
    }
   ],
   "source": [
    "features = list(df.columns.values)\n",
    "for i in to_remove:\n",
    "    print i\n",
    "    features.remove(i)"
   ]
  },
  {
   "cell_type": "code",
   "execution_count": 178,
   "metadata": {
    "collapsed": false,
    "scrolled": true
   },
   "outputs": [
    {
     "name": "stdout",
     "output_type": "stream",
     "text": [
      "0 vacant\n",
      "1 totusabl\n",
      "2 tmktval\n",
      "3 condition_value\n",
      "4 style_filtered\n",
      "5 ownerocc_value\n",
      "6 totbldgs\n",
      "7 yrbuilt_filtered\n",
      "8 rextwall\n",
      "9 vacant_block\n",
      "10 owner\n",
      "11 renter\n",
      "12 median_rent\n",
      "13 property_crimes\n",
      "14 burglaries\n",
      "15 other_drug\n",
      "16 part_one_crimes\n",
      "17 part_two_crimes\n",
      "18 bachelors+\n",
      "19 poverty_rate\n",
      "20 median_hh_income\n",
      "21 median_fam_income\n",
      "22 white\n",
      "23 black\n",
      "24 asian\n",
      "25 other\n",
      "26 hispanic\n",
      "27 young\n",
      "28 middle\n",
      "29 old\n",
      "30 num_of_sales\n",
      "31 quit_claim_deed\n",
      "32 warranty_deed\n",
      "33 limited_warranty\n",
      "34 survivorship_deed\n",
      "35 fiduciary_deed\n",
      "36 AMOUNT_PAID\n",
      "37 SALE_VALID\n",
      "38 num_of_transfers\n",
      "39 DEED_TYPE\n",
      "40 county_land_bank\n",
      "41 vindall_Y\n",
      "42 vindall_P\n",
      "43 closure count\n",
      "44 application acceptance count\n",
      "45 condemnation count\n",
      "46 demolition approval count\n",
      "47 prosecution count\n",
      "48 search warrant count\n",
      "49 inspection count\n",
      "50 non-condemnation count\n",
      "51 violations_number\n",
      "52 violations_number_1_yr\n",
      "53 v_30 day condemnation_count\n",
      "54 v_30 day condemnation garage_count\n",
      "55 v_30 day condemnation ms_count\n",
      "56 v_30 day fire damage repair ms_count\n",
      "57 v_condemnation - garage_count\n",
      "58 v_condemnation - main structure_count\n",
      "59 v_condemnation - shed_count\n",
      "60 v_exterior maintenance_count\n",
      "61 v_fire damage_count\n",
      "62 v_general maintenance_count\n",
      "63 v_hvac_count\n",
      "64 v_interior maintenance_count\n",
      "65 v_interior/exterior maintenance_count\n",
      "66 v_no permit_count\n",
      "67 v_survey_count\n",
      "68 v_unauthorized/illegal use_count\n",
      "69 v_vacate_count\n",
      "70 c_Black Mold\n",
      "71 c_Collapsing Structure\n",
      "72 c_Complete interior/exterior\n",
      "73 c_Debris/Garbage/Junk (Occupied)\n",
      "74 c_Electrical\n",
      "75 c_Fire Damage\n",
      "76 c_General Exterior Maintenance\n",
      "77 c_No Permit\n",
      "78 c_O.V.V.\n",
      "79 c_Plumbing\n",
      "80 complaint_count\n",
      "81 complaint_count_6_mon\n",
      "82 complaint_count_3_mon\n",
      "83 active_fc\n",
      "84 foreclosure_flag\n",
      "85 fc_dis_w/o_prej\n",
      "86 fc_newly_filed\n",
      "87 fc_default\n",
      "88 fc_dispother\n",
      "89 auction\n",
      "90 LENDER_PROCESS_TYPE\n",
      "91 GRAND_TOTAL_BALANCE\n",
      "92 pclass_filtered\n"
     ]
    }
   ],
   "source": [
    "for i,j in enumerate(features):\n",
    "    print i,j"
   ]
  },
  {
   "cell_type": "code",
   "execution_count": 179,
   "metadata": {
    "collapsed": false
   },
   "outputs": [],
   "source": [
    "# 'propsize','totusabl','tmktval',\n",
    "\n",
    "# cols = ['propsize','tmktval','condition_value','totbldgs','yrbuilt_filtered','vacant', \\\n",
    "#         'num_of_sales','quit_claim_deed','warranty_deed',\n",
    "#         'violations_number', 'missing_values', 'ownerocc_value',\\\n",
    "#         'vindall_Y', 'complaint_count','complaint_count_6_mon', 'complaint_count_3_mon']"
   ]
  },
  {
   "cell_type": "markdown",
   "metadata": {},
   "source": [
    "### Impute with median values"
   ]
  },
  {
   "cell_type": "code",
   "execution_count": 180,
   "metadata": {
    "collapsed": true
   },
   "outputs": [],
   "source": [
    "for i in features[9:30]:\n",
    "    df.loc[df[i].isnull(),i] = np.median(df.loc[df[i].notnull(),i])"
   ]
  },
  {
   "cell_type": "code",
   "execution_count": 181,
   "metadata": {
    "collapsed": false
   },
   "outputs": [],
   "source": [
    "# df.loc[df.propsize.isnull(),'propsize'] = np.median(df[df.propsize.notnull()].propsize)\n",
    "df.loc[df.totusabl.isnull(),'totusabl'] = np.median(df[df.totusabl.notnull()].totusabl)\n",
    "df.loc[df.tmktval.isnull(),'tmktval'] = np.median(df[df.tmktval.notnull()].tmktval)\n",
    "df.loc[df.condition_value.isnull(),'condition_value'] = np.median(df[df.condition_value.notnull()].condition_value)\n",
    "df.loc[df.totbldgs.isnull(),'totbldgs'] = np.median(df[df.totbldgs.notnull()].totbldgs)\n",
    "df.loc[df.yrbuilt_filtered.isnull(),'yrbuilt_filtered'] = np.median(df[df.yrbuilt_filtered.notnull()].yrbuilt_filtered)\n",
    "df.loc[df.ownerocc_value.isnull(),'ownerocc_value'] = np.median(df[df.ownerocc_value.notnull()].ownerocc_value)"
   ]
  },
  {
   "cell_type": "code",
   "execution_count": 182,
   "metadata": {
    "collapsed": false
   },
   "outputs": [
    {
     "name": "stdout",
     "output_type": "stream",
     "text": [
      "Index([u'Parcel ID', u'ppn', u'Date', u'Survey Category', u'Survey Result',\n",
      "       u'pclass', u'condition', u'parcel_x', u'parcel_y', u'style_filtered',\n",
      "       u'parcel_x.1', u'parcel_y.1', u'parcel_x.2', u'parcel_y.2', u'rextwall',\n",
      "       u'parcel_x.1', u'DEED_TYPE', u'parcel_y.1', u'PROPERTY_NUMBER',\n",
      "       u'LENDER_PROCESS_TYPE'],\n",
      "      dtype='object')\n"
     ]
    }
   ],
   "source": [
    "print df.columns[df.dtypes == 'object']"
   ]
  },
  {
   "cell_type": "code",
   "execution_count": 183,
   "metadata": {
    "collapsed": true
   },
   "outputs": [],
   "source": [
    "objs = ['DEED_TYPE','LENDER_PROCESS_TYPE','rextwall','style_filtered']\n",
    "prefixes = ['deed_','lender_','ext_','style_']"
   ]
  },
  {
   "cell_type": "code",
   "execution_count": 184,
   "metadata": {
    "collapsed": false
   },
   "outputs": [
    {
     "data": {
      "text/html": [
       "<div>\n",
       "<table border=\"1\" class=\"dataframe\">\n",
       "  <thead>\n",
       "    <tr>\n",
       "      <th></th>\n",
       "      <th colspan=\"2\" halign=\"left\">vacant</th>\n",
       "    </tr>\n",
       "    <tr>\n",
       "      <th></th>\n",
       "      <th>sum</th>\n",
       "      <th>len</th>\n",
       "    </tr>\n",
       "    <tr>\n",
       "      <th>rextwall</th>\n",
       "      <th></th>\n",
       "      <th></th>\n",
       "    </tr>\n",
       "  </thead>\n",
       "  <tbody>\n",
       "    <tr>\n",
       "      <th>Aluminum/Vinyl (r)</th>\n",
       "      <td>3362</td>\n",
       "      <td>62761</td>\n",
       "    </tr>\n",
       "    <tr>\n",
       "      <th>Asbestos Shingle (r)</th>\n",
       "      <td>170</td>\n",
       "      <td>1817</td>\n",
       "    </tr>\n",
       "    <tr>\n",
       "      <th>Brick</th>\n",
       "      <td>369</td>\n",
       "      <td>10001</td>\n",
       "    </tr>\n",
       "    <tr>\n",
       "      <th>Frame (r)</th>\n",
       "      <td>2343</td>\n",
       "      <td>24012</td>\n",
       "    </tr>\n",
       "    <tr>\n",
       "      <th>Other</th>\n",
       "      <td>-7303</td>\n",
       "      <td>9735</td>\n",
       "    </tr>\n",
       "  </tbody>\n",
       "</table>\n",
       "</div>"
      ],
      "text/plain": [
       "                     vacant       \n",
       "                        sum    len\n",
       "rextwall                          \n",
       "Aluminum/Vinyl (r)     3362  62761\n",
       "Asbestos Shingle (r)    170   1817\n",
       "Brick                   369  10001\n",
       "Frame (r)              2343  24012\n",
       "Other                 -7303   9735"
      ]
     },
     "execution_count": 184,
     "metadata": {},
     "output_type": "execute_result"
    }
   ],
   "source": [
    "df.loc[df.rextwall.notnull(),['rextwall','vacant']].groupby('rextwall').agg([sum,len])"
   ]
  },
  {
   "cell_type": "code",
   "execution_count": 185,
   "metadata": {
    "collapsed": false
   },
   "outputs": [
    {
     "data": {
      "text/plain": [
       "['DEED_TYPE', 'LENDER_PROCESS_TYPE', 'rextwall', 'style_filtered']"
      ]
     },
     "execution_count": 185,
     "metadata": {},
     "output_type": "execute_result"
    }
   ],
   "source": [
    "objs"
   ]
  },
  {
   "cell_type": "code",
   "execution_count": 186,
   "metadata": {
    "collapsed": false
   },
   "outputs": [],
   "source": [
    "# transform categorical variables (including NaN's)\n",
    "df2 = df[objs]#,'mult_name_flag','SALE_VALID']]\n",
    "# prefixes = ['style','extwall']#,'mult_name','sale_valid']#,'LUC']\n",
    "df3 = pd.concat([pd.get_dummies(df2[col], prefix=prefixes[index]) for index, col in enumerate(df2)], axis=1)"
   ]
  },
  {
   "cell_type": "code",
   "execution_count": 187,
   "metadata": {
    "collapsed": true
   },
   "outputs": [],
   "source": [
    "for i in objs:\n",
    "    features.remove(i)"
   ]
  },
  {
   "cell_type": "code",
   "execution_count": 188,
   "metadata": {
    "collapsed": false
   },
   "outputs": [],
   "source": [
    "df3[features] = df[features]"
   ]
  },
  {
   "cell_type": "code",
   "execution_count": 189,
   "metadata": {
    "collapsed": false
   },
   "outputs": [],
   "source": [
    "df3 = df3[df3.vacant > -1]\n",
    "df3 = df3.fillna(0)"
   ]
  },
  {
   "cell_type": "code",
   "execution_count": 190,
   "metadata": {
    "collapsed": false
   },
   "outputs": [
    {
     "data": {
      "text/plain": [
       "(98711, 114)"
      ]
     },
     "execution_count": 190,
     "metadata": {},
     "output_type": "execute_result"
    }
   ],
   "source": [
    "df3.shape"
   ]
  },
  {
   "cell_type": "code",
   "execution_count": 34,
   "metadata": {
    "collapsed": false,
    "scrolled": true
   },
   "outputs": [],
   "source": [
    "# for c in df3.columns:\n",
    "#     print c, len(df3[df3[c].isnull()])"
   ]
  },
  {
   "cell_type": "code",
   "execution_count": 191,
   "metadata": {
    "collapsed": false
   },
   "outputs": [
    {
     "data": {
      "text/plain": [
       "(108326, 111)"
      ]
     },
     "execution_count": 191,
     "metadata": {},
     "output_type": "execute_result"
    }
   ],
   "source": [
    "df.shape"
   ]
  },
  {
   "cell_type": "markdown",
   "metadata": {},
   "source": [
    "## Build the classifiers"
   ]
  },
  {
   "cell_type": "code",
   "execution_count": 192,
   "metadata": {
    "collapsed": true
   },
   "outputs": [],
   "source": [
    "from sklearn.cross_validation import cross_val_score"
   ]
  },
  {
   "cell_type": "code",
   "execution_count": 275,
   "metadata": {
    "collapsed": false
   },
   "outputs": [],
   "source": [
    "# train and test the classifier, look at results in a cross tabulation\n",
    "# NOTE: we can get probabilities instead of a prediction!\n",
    "\n",
    "# take out half the data for the test set\n",
    "df3['is_train'] = np.random.uniform(0, 1, len(df3)) <= .7\n",
    "train, test = df3[df3['is_train']==True], df3[df3['is_train']==False]\n",
    " \n",
    "features = list(df3.columns)\n",
    "features.remove('vacant')\n",
    "\n",
    "y, _ = pd.factorize(train['vacant'])"
   ]
  },
  {
   "cell_type": "code",
   "execution_count": 276,
   "metadata": {
    "collapsed": true
   },
   "outputs": [],
   "source": [
    "test_label = test.vacant"
   ]
  },
  {
   "cell_type": "markdown",
   "metadata": {},
   "source": [
    "### Random Forest Classifier"
   ]
  },
  {
   "cell_type": "markdown",
   "metadata": {},
   "source": [
    "#### Parameter search"
   ]
  },
  {
   "cell_type": "code",
   "execution_count": 57,
   "metadata": {
    "collapsed": true
   },
   "outputs": [
    {
     "data": {
      "image/png": "[encoded data removed]",
      "text/plain": [
       "<matplotlib.figure.Figure at 0x10c6dc790>"
      ]
     },
     "metadata": {},
     "output_type": "display_data"
    }
   ],
   "source": [
    "depth_range = range(10,40,2)\n",
    "scores = []\n",
    "for depth in depth_range:\n",
    "    rfc = RandomForestClassifier(n_estimators=50, min_samples_leaf=1, min_samples_split=2, \\\n",
    "                                 class_weight='auto', \\\n",
    "                                 max_features=None, random_state=0, max_depth=depth)\n",
    "    scores.append(cross_val_score(rfc, df3[features], df3.vacant, cv=10, scoring='accuracy').mean())\n",
    "plt.plot(depth_range, scores, '--');\n",
    "# plt.ylim(0,1);\n",
    "plt.title('Accuracy by max depth range');"
   ]
  },
  {
   "cell_type": "code",
   "execution_count": 58,
   "metadata": {
    "collapsed": true
   },
   "outputs": [
    {
     "data": {
      "image/png": "[encoded data removed]",
      "text/plain": [
       "<matplotlib.figure.Figure at 0x10c893090>"
      ]
     },
     "metadata": {},
     "output_type": "display_data"
    }
   ],
   "source": [
    "leafs = range(1,10,1)\n",
    "scores = []\n",
    "for leaf in leafs:\n",
    "    rfc = RandomForestClassifier(n_estimators=50, min_samples_leaf=leaf, min_samples_split=2, \\\n",
    "                                 class_weight='auto', \\\n",
    "                                 max_features=None, random_state=0, max_depth=20)\n",
    "    scores.append(cross_val_score(rfc, df3[features], df3.vacant, cv=10, scoring='accuracy').mean())\n",
    "plt.plot(leafs, scores, '--');\n",
    "# plt.ylim(0,1);\n",
    "plt.title('Accuracy by min leaf size');"
   ]
  },
  {
   "cell_type": "code",
   "execution_count": 59,
   "metadata": {
    "collapsed": true
   },
   "outputs": [
    {
     "data": {
      "image/png": "[encoded data removed]",
      "text/plain": [
       "<matplotlib.figure.Figure at 0x10d93de90>"
      ]
     },
     "metadata": {},
     "output_type": "display_data"
    }
   ],
   "source": [
    "ests = range(5,60,3)\n",
    "scores = []\n",
    "for e in ests:\n",
    "    rfc = RandomForestClassifier(n_estimators=e, min_samples_leaf=1, min_samples_split=2, \\\n",
    "                                 class_weight='auto', \\\n",
    "                                 max_features=None, random_state=0, max_depth=22)\n",
    "    scores.append(cross_val_score(rfc, df3[features], df3.vacant, cv=10, scoring='accuracy').mean())\n",
    "plt.plot(ests, scores, '--');\n",
    "# plt.ylim(0,1);\n",
    "plt.title('Accuracy by number of estimators');"
   ]
  },
  {
   "cell_type": "code",
   "execution_count": 142,
   "metadata": {
    "collapsed": false
   },
   "outputs": [],
   "source": [
    "# param_grid = { \n",
    "# #     'n_estimators': [100, 700],\n",
    "# #     'class_weight': ['auto',None],\n",
    "#     'min_samples_leaf': [2,4,6],\n",
    "#     'max_depth': [9,12,16]\n",
    "# }\n",
    "# CV_rfc = GridSearchCV(estimator=rfc, param_grid=param_grid, cv=5)\n",
    "# CV_rfc.fit(train[features], y)\n",
    "# print CV_rfc.best_params_"
   ]
  },
  {
   "cell_type": "markdown",
   "metadata": {},
   "source": [
    "#### Evaluation of model"
   ]
  },
  {
   "cell_type": "code",
   "execution_count": 393,
   "metadata": {
    "collapsed": false
   },
   "outputs": [],
   "source": [
    "rfc = RandomForestClassifier(n_estimators=50, min_samples_leaf=2, min_samples_split=2, \\\n",
    "                                 class_weight={0:1, 1:4}, \\\n",
    "                                 max_features=None, random_state=0, max_depth=30)\n",
    "rfc = rfc.fit(train[features], y)\n",
    "sound()"
   ]
  },
  {
   "cell_type": "code",
   "execution_count": 394,
   "metadata": {
    "collapsed": false
   },
   "outputs": [
    {
     "data": {
      "text/html": [
       "<div>\n",
       "<table border=\"1\" class=\"dataframe\">\n",
       "  <thead>\n",
       "    <tr style=\"text-align: right;\">\n",
       "      <th>col_0</th>\n",
       "      <th>0</th>\n",
       "      <th>1</th>\n",
       "    </tr>\n",
       "    <tr>\n",
       "      <th>vacant</th>\n",
       "      <th></th>\n",
       "      <th></th>\n",
       "    </tr>\n",
       "  </thead>\n",
       "  <tbody>\n",
       "    <tr>\n",
       "      <th>0</th>\n",
       "      <td>26556</td>\n",
       "      <td>444</td>\n",
       "    </tr>\n",
       "    <tr>\n",
       "      <th>1</th>\n",
       "      <td>1451</td>\n",
       "      <td>1127</td>\n",
       "    </tr>\n",
       "  </tbody>\n",
       "</table>\n",
       "</div>"
      ],
      "text/plain": [
       "col_0       0     1\n",
       "vacant             \n",
       "0       26556   444\n",
       "1        1451  1127"
      ]
     },
     "execution_count": 394,
     "metadata": {},
     "output_type": "execute_result"
    }
   ],
   "source": [
    "pd.crosstab(test.vacant, rfc.predict(test[features]))"
   ]
  },
  {
   "cell_type": "code",
   "execution_count": 395,
   "metadata": {
    "collapsed": false
   },
   "outputs": [],
   "source": [
    "rfc_prob = rfc.predict_proba(test[features])"
   ]
  },
  {
   "cell_type": "code",
   "execution_count": 392,
   "metadata": {
    "collapsed": false
   },
   "outputs": [
    {
     "name": "stdout",
     "output_type": "stream",
     "text": [
      "0.717610550815\n"
     ]
    },
    {
     "data": {
      "text/html": [
       "<div>\n",
       "<table border=\"1\" class=\"dataframe\">\n",
       "  <thead>\n",
       "    <tr style=\"text-align: right;\">\n",
       "      <th>pred</th>\n",
       "      <th>0.0</th>\n",
       "      <th>1.0</th>\n",
       "    </tr>\n",
       "    <tr>\n",
       "      <th>vacant</th>\n",
       "      <th></th>\n",
       "      <th></th>\n",
       "    </tr>\n",
       "  </thead>\n",
       "  <tbody>\n",
       "    <tr>\n",
       "      <th>0</th>\n",
       "      <td>2710</td>\n",
       "      <td>440</td>\n",
       "    </tr>\n",
       "    <tr>\n",
       "      <th>1</th>\n",
       "      <td>714</td>\n",
       "      <td>1136</td>\n",
       "    </tr>\n",
       "  </tbody>\n",
       "</table>\n",
       "</div>"
      ],
      "text/plain": [
       "pred       0     1\n",
       "vacant            \n",
       "0       2710   440\n",
       "1        714  1136"
      ]
     },
     "execution_count": 392,
     "metadata": {},
     "output_type": "execute_result"
    },
    {
     "data": {
      "image/png": "[encoded data removed]",
      "text/plain": [
       "<matplotlib.figure.Figure at 0x1161e26d0>"
      ]
     },
     "metadata": {},
     "output_type": "display_data"
    }
   ],
   "source": [
    "tem = test.copy()\n",
    "tem['prob'] = rfc_prob[:,1]\n",
    "tem['pred'] = tem.prob.apply(round)\n",
    "plt.hist(tem[tem.vacant==1].prob.values,alpha=0.5,normed=True, bins=20);\n",
    "plt.hist(tem[tem.vacant==0].prob.values,alpha=0.5,normed=True, bins=20);\n",
    "print sum(tem.sort('prob', ascending=False).iloc[0:5000].vacant)*1.0/sum(tem.vacant)\n",
    "pd.crosstab(tem.sort('prob', ascending=False).iloc[0:5000].vacant,tem.sort('prob', ascending=False).iloc[0:5000].pred)"
   ]
  },
  {
   "cell_type": "code",
   "execution_count": 386,
   "metadata": {
    "collapsed": false
   },
   "outputs": [
    {
     "data": {
      "text/html": [
       "<div>\n",
       "<table border=\"1\" class=\"dataframe\">\n",
       "  <thead>\n",
       "    <tr style=\"text-align: right;\">\n",
       "      <th>prob</th>\n",
       "      <th>0.0</th>\n",
       "      <th>1.0</th>\n",
       "    </tr>\n",
       "    <tr>\n",
       "      <th>vacant</th>\n",
       "      <th></th>\n",
       "      <th></th>\n",
       "    </tr>\n",
       "  </thead>\n",
       "  <tbody>\n",
       "    <tr>\n",
       "      <th>0</th>\n",
       "      <td>26627</td>\n",
       "      <td>373</td>\n",
       "    </tr>\n",
       "    <tr>\n",
       "      <th>1</th>\n",
       "      <td>1415</td>\n",
       "      <td>1163</td>\n",
       "    </tr>\n",
       "  </tbody>\n",
       "</table>\n",
       "</div>"
      ],
      "text/plain": [
       "prob        0     1\n",
       "vacant             \n",
       "0       26627   373\n",
       "1        1415  1163"
      ]
     },
     "execution_count": 386,
     "metadata": {},
     "output_type": "execute_result"
    }
   ],
   "source": [
    "pd.crosstab(tem.vacant, (tem.prob+0.0).apply(round))"
   ]
  },
  {
   "cell_type": "code",
   "execution_count": 307,
   "metadata": {
    "collapsed": false
   },
   "outputs": [
    {
     "data": {
      "text/html": [
       "<div>\n",
       "<table border=\"1\" class=\"dataframe\">\n",
       "  <thead>\n",
       "    <tr style=\"text-align: right;\">\n",
       "      <th>vindall_Y</th>\n",
       "      <th>0.0</th>\n",
       "      <th>1.0</th>\n",
       "    </tr>\n",
       "    <tr>\n",
       "      <th>vacant</th>\n",
       "      <th></th>\n",
       "      <th></th>\n",
       "    </tr>\n",
       "  </thead>\n",
       "  <tbody>\n",
       "    <tr>\n",
       "      <th>0</th>\n",
       "      <td>25285</td>\n",
       "      <td>1715</td>\n",
       "    </tr>\n",
       "    <tr>\n",
       "      <th>1</th>\n",
       "      <td>1514</td>\n",
       "      <td>1064</td>\n",
       "    </tr>\n",
       "  </tbody>\n",
       "</table>\n",
       "</div>"
      ],
      "text/plain": [
       "vindall_Y      0     1\n",
       "vacant                \n",
       "0          25285  1715\n",
       "1           1514  1064"
      ]
     },
     "execution_count": 307,
     "metadata": {},
     "output_type": "execute_result"
    }
   ],
   "source": [
    "pd.crosstab(test.vacant,test.vindall_Y)"
   ]
  },
  {
   "cell_type": "code",
   "execution_count": 299,
   "metadata": {
    "collapsed": false
   },
   "outputs": [
    {
     "data": {
      "text/html": [
       "<div>\n",
       "<table border=\"1\" class=\"dataframe\">\n",
       "  <thead>\n",
       "    <tr style=\"text-align: right;\">\n",
       "      <th>prob</th>\n",
       "      <th>0.0</th>\n",
       "      <th>1.0</th>\n",
       "    </tr>\n",
       "    <tr>\n",
       "      <th>vacant</th>\n",
       "      <th></th>\n",
       "      <th></th>\n",
       "    </tr>\n",
       "  </thead>\n",
       "  <tbody>\n",
       "    <tr>\n",
       "      <th>0</th>\n",
       "      <td>26247</td>\n",
       "      <td>753</td>\n",
       "    </tr>\n",
       "    <tr>\n",
       "      <th>1</th>\n",
       "      <td>1298</td>\n",
       "      <td>1280</td>\n",
       "    </tr>\n",
       "  </tbody>\n",
       "</table>\n",
       "</div>"
      ],
      "text/plain": [
       "prob        0     1\n",
       "vacant             \n",
       "0       26247   753\n",
       "1        1298  1280"
      ]
     },
     "execution_count": 299,
     "metadata": {},
     "output_type": "execute_result"
    }
   ],
   "source": [
    "pd.crosstab(tem.vacant, (tem.prob+0.1).apply(round))"
   ]
  },
  {
   "cell_type": "code",
   "execution_count": 286,
   "metadata": {
    "collapsed": false
   },
   "outputs": [
    {
     "data": {
      "text/plain": [
       "(2578, 29578)"
      ]
     },
     "execution_count": 286,
     "metadata": {},
     "output_type": "execute_result"
    }
   ],
   "source": [
    "sum(tem.vacant), len(tem)"
   ]
  },
  {
   "cell_type": "code",
   "execution_count": 322,
   "metadata": {
    "collapsed": false
   },
   "outputs": [
    {
     "data": {
      "text/plain": [
       "0.0023567439"
      ]
     },
     "execution_count": 322,
     "metadata": {},
     "output_type": "execute_result"
    }
   ],
   "source": [
    "tem.iloc[5000].prob"
   ]
  },
  {
   "cell_type": "code",
   "execution_count": 142,
   "metadata": {
    "collapsed": false
   },
   "outputs": [
    {
     "data": {
      "text/plain": [
       "1636.0"
      ]
     },
     "execution_count": 142,
     "metadata": {},
     "output_type": "execute_result"
    }
   ],
   "source": [
    "round(len(tem)*0.05)"
   ]
  },
  {
   "cell_type": "code",
   "execution_count": 143,
   "metadata": {
    "collapsed": false
   },
   "outputs": [
    {
     "data": {
      "text/plain": [
       "(1572, 134)"
      ]
     },
     "execution_count": 143,
     "metadata": {},
     "output_type": "execute_result"
    }
   ],
   "source": [
    "tem[(tem.vacant==1)&(tem.pred==0)].shape"
   ]
  },
  {
   "cell_type": "code",
   "execution_count": 323,
   "metadata": {
    "collapsed": false
   },
   "outputs": [
    {
     "data": {
      "image/png": "[encoded data removed]",
      "text/plain": [
       "<matplotlib.figure.Figure at 0x10c79a410>"
      ]
     },
     "metadata": {},
     "output_type": "display_data"
    }
   ],
   "source": [
    "plt.hist(tem[(tem.vacant==1)&(tem.pred==0)].prob.values);"
   ]
  },
  {
   "cell_type": "code",
   "execution_count": 324,
   "metadata": {
    "collapsed": false
   },
   "outputs": [
    {
     "data": {
      "image/png": "[encoded data removed]",
      "text/plain": [
       "<matplotlib.figure.Figure at 0x122fb53d0>"
      ]
     },
     "metadata": {},
     "output_type": "display_data"
    }
   ],
   "source": [
    "plt.hist(tem[(tem.vacant==0)&(tem.pred==1)].prob.values);"
   ]
  },
  {
   "cell_type": "code",
   "execution_count": 325,
   "metadata": {
    "collapsed": false
   },
   "outputs": [
    {
     "data": {
      "text/html": [
       "<div>\n",
       "<table border=\"1\" class=\"dataframe\">\n",
       "  <thead>\n",
       "    <tr style=\"text-align: right;\">\n",
       "      <th>pred</th>\n",
       "      <th>0.0</th>\n",
       "      <th>1.0</th>\n",
       "    </tr>\n",
       "    <tr>\n",
       "      <th>vacant</th>\n",
       "      <th></th>\n",
       "      <th></th>\n",
       "    </tr>\n",
       "  </thead>\n",
       "  <tbody>\n",
       "    <tr>\n",
       "      <th>0</th>\n",
       "      <td>1000</td>\n",
       "      <td>380</td>\n",
       "    </tr>\n",
       "    <tr>\n",
       "      <th>1</th>\n",
       "      <td>410</td>\n",
       "      <td>1168</td>\n",
       "    </tr>\n",
       "  </tbody>\n",
       "</table>\n",
       "</div>"
      ],
      "text/plain": [
       "pred       0     1\n",
       "vacant            \n",
       "0       1000   380\n",
       "1        410  1168"
      ]
     },
     "execution_count": 325,
     "metadata": {},
     "output_type": "execute_result"
    }
   ],
   "source": [
    "fil = tem.sort('prob',ascending=False)\n",
    "fil['pred'] = fil['prob'].apply(round)\n",
    "fil = fil.iloc[0:int(round(len(tem)*0.1))]\n",
    "pd.crosstab(fil['vacant'], fil['pred'])"
   ]
  },
  {
   "cell_type": "code",
   "execution_count": 326,
   "metadata": {
    "collapsed": false
   },
   "outputs": [
    {
     "name": "stdout",
     "output_type": "stream",
     "text": [
      "Feature ranking:\n",
      "1. feature 99, c_O.V.V. (0.235349)\n",
      "2. feature 111, GRAND_TOTAL_BALANCE (0.090598)\n",
      "3. feature 62, vindall_Y (0.064386)\n",
      "4. feature 26, tmktval (0.054455)\n",
      "5. feature 25, totusabl (0.047670)\n",
      "6. feature 27, condition_value (0.035992)\n",
      "7. feature 65, application acceptance count (0.030734)\n",
      "8. feature 30, yrbuilt_filtered (0.029517)\n",
      "9. feature 105, foreclosure_flag (0.022567)\n",
      "10. feature 31, vacant_block (0.018514)\n",
      "11. feature 60, num_of_transfers (0.016814)\n",
      "12. feature 39, part_two_crimes (0.013196)\n",
      "13. feature 108, fc_default (0.012671)\n",
      "14. feature 58, AMOUNT_PAID (0.012017)\n",
      "15. feature 45, black (0.011976)\n",
      "16. feature 40, bachelors+ (0.011596)\n",
      "17. feature 79, v_condemnation - main structure_count (0.010649)\n",
      "18. feature 33, renter (0.010636)\n",
      "19. feature 36, burglaries (0.010120)\n",
      "20. feature 51, old (0.009772)\n"
     ]
    },
    {
     "data": {
      "image/png": "[encoded data removed]",
      "text/plain": [
       "<matplotlib.figure.Figure at 0x110f19c90>"
      ]
     },
     "metadata": {},
     "output_type": "display_data"
    }
   ],
   "source": [
    "# plot the top ten features\n",
    "\n",
    "importances = rfc.feature_importances_\n",
    "std = np.std([tree.feature_importances_ for tree in rfc.estimators_],\n",
    "             axis=0)\n",
    "indices = np.argsort(importances)[::-1]\n",
    "\n",
    "# Print the feature ranking\n",
    "print(\"Feature ranking:\")\n",
    "\n",
    "for f in range(20):\n",
    "    print(\"%d. feature %d, %s (%f)\" % (f + 1, indices[f], features[indices[f]], importances[indices[f]]))\n",
    "# Plot the feature importances of the forest\n",
    "plt.figure()\n",
    "plt.title(\"Feature importances\")\n",
    "plt.bar(range(10), importances[indices[0:10]], yerr=std[indices[0:10]], align=\"center\")\n",
    "plt.xticks(range(10), indices[0:10])\n",
    "plt.xlim([-1, 10])\n",
    "plt.show()"
   ]
  },
  {
   "cell_type": "code",
   "execution_count": 311,
   "metadata": {
    "collapsed": false
   },
   "outputs": [
    {
     "name": "stdout",
     "output_type": "stream",
     "text": [
      "Feature ranking:\n",
      "1. feature 113, is_train (0.000000)\n",
      "2. feature 110, auction (0.000000)\n",
      "3. feature 112, pclass_filtered (0.000000)\n",
      "4. feature 67, demolition approval count (0.000006)\n",
      "5. feature 24, style__Townhouse (0.000018)\n",
      "6. feature 91, c_Black Mold (0.000025)\n",
      "7. feature 90, v_vacate_count (0.000026)\n",
      "8. feature 85, v_interior maintenance_count (0.000035)\n",
      "9. feature 107, fc_newly_filed (0.000037)\n",
      "10. feature 84, v_hvac_count (0.000051)\n",
      "11. feature 89, v_unauthorized/illegal use_count (0.000055)\n",
      "12. feature 77, v_30 day fire damage repair ms_count (0.000059)\n",
      "13. feature 74, v_30 day condemnation_count (0.000066)\n",
      "14. feature 80, v_condemnation - shed_count (0.000068)\n",
      "15. feature 75, v_30 day condemnation garage_count (0.000072)\n",
      "16. feature 61, county_land_bank (0.000098)\n",
      "17. feature 76, v_30 day condemnation ms_count (0.000105)\n",
      "18. feature 68, prosecution count (0.000136)\n",
      "19. feature 92, c_Collapsing Structure (0.000236)\n",
      "20. feature 94, c_Debris/Garbage/Junk (Occupied) (0.000236)\n"
     ]
    },
    {
     "data": {
      "image/png": "[encoded data removed]",
      "text/plain": [
       "<matplotlib.figure.Figure at 0x1161e25d0>"
      ]
     },
     "metadata": {},
     "output_type": "display_data"
    }
   ],
   "source": [
    "# Print the feature ranking\n",
    "print(\"Feature ranking:\")\n",
    "\n",
    "for f in range(20):\n",
    "    print(\"%d. feature %d, %s (%f)\" % (f + 1, indices[-f-1], features[indices[-f-1]], importances[indices[-f-1]]))\n",
    "# Plot the feature importances of the forest\n",
    "plt.figure()\n",
    "plt.title(\"Feature importances\")\n",
    "plt.bar(range(10), importances[indices[-10:]], yerr=std[indices[-10:]], align=\"center\")\n",
    "plt.xticks(range(10), indices[-10:])\n",
    "plt.xlim([-1, 10])\n",
    "plt.show()"
   ]
  },
  {
   "cell_type": "markdown",
   "metadata": {},
   "source": [
    "### Logistic Regressor"
   ]
  },
  {
   "cell_type": "code",
   "execution_count": 334,
   "metadata": {
    "collapsed": false
   },
   "outputs": [],
   "source": [
    "train_lr = preprocessing.scale(train[features])\n",
    "test_lr = preprocessing.scale(test[features])"
   ]
  },
  {
   "cell_type": "code",
   "execution_count": 382,
   "metadata": {
    "collapsed": false
   },
   "outputs": [
    {
     "data": {
      "text/plain": [
       "LogisticRegression(C=1.0, class_weight={0: 1, 1: 2}, dual=False,\n",
       "          fit_intercept=True, intercept_scaling=1, max_iter=100,\n",
       "          multi_class='ovr', penalty='l2', random_state=None,\n",
       "          solver='liblinear', tol=0.0001, verbose=0)"
      ]
     },
     "execution_count": 382,
     "metadata": {},
     "output_type": "execute_result"
    }
   ],
   "source": [
    "lr = LogisticRegression(class_weight={0:1, 1:2})\n",
    "lr.fit(pd.DataFrame(train_lr, columns = features), y)"
   ]
  },
  {
   "cell_type": "code",
   "execution_count": 381,
   "metadata": {
    "collapsed": false
   },
   "outputs": [
    {
     "data": {
      "text/html": [
       "<div>\n",
       "<table border=\"1\" class=\"dataframe\">\n",
       "  <thead>\n",
       "    <tr style=\"text-align: right;\">\n",
       "      <th>preds</th>\n",
       "      <th>0</th>\n",
       "      <th>1</th>\n",
       "    </tr>\n",
       "    <tr>\n",
       "      <th>actual</th>\n",
       "      <th></th>\n",
       "      <th></th>\n",
       "    </tr>\n",
       "  </thead>\n",
       "  <tbody>\n",
       "    <tr>\n",
       "      <th>0</th>\n",
       "      <td>26689</td>\n",
       "      <td>311</td>\n",
       "    </tr>\n",
       "    <tr>\n",
       "      <th>1</th>\n",
       "      <td>1550</td>\n",
       "      <td>1028</td>\n",
       "    </tr>\n",
       "  </tbody>\n",
       "</table>\n",
       "</div>"
      ],
      "text/plain": [
       "preds       0     1\n",
       "actual             \n",
       "0       26689   311\n",
       "1        1550  1028"
      ]
     },
     "execution_count": 381,
     "metadata": {},
     "output_type": "execute_result"
    }
   ],
   "source": [
    "pd.crosstab(test['vacant'], lr.predict(pd.DataFrame(test_lr, columns = features)), rownames=['actual'], colnames=['preds'])"
   ]
  },
  {
   "cell_type": "code",
   "execution_count": 343,
   "metadata": {
    "collapsed": false
   },
   "outputs": [
    {
     "data": {
      "text/html": [
       "<div>\n",
       "<table border=\"1\" class=\"dataframe\">\n",
       "  <thead>\n",
       "    <tr style=\"text-align: right;\">\n",
       "      <th>preds</th>\n",
       "      <th>0</th>\n",
       "      <th>1</th>\n",
       "    </tr>\n",
       "    <tr>\n",
       "      <th>actual</th>\n",
       "      <th></th>\n",
       "      <th></th>\n",
       "    </tr>\n",
       "  </thead>\n",
       "  <tbody>\n",
       "    <tr>\n",
       "      <th>0</th>\n",
       "      <td>26689</td>\n",
       "      <td>311</td>\n",
       "    </tr>\n",
       "    <tr>\n",
       "      <th>1</th>\n",
       "      <td>1550</td>\n",
       "      <td>1028</td>\n",
       "    </tr>\n",
       "  </tbody>\n",
       "</table>\n",
       "</div>"
      ],
      "text/plain": [
       "preds       0     1\n",
       "actual             \n",
       "0       26689   311\n",
       "1        1550  1028"
      ]
     },
     "execution_count": 343,
     "metadata": {},
     "output_type": "execute_result"
    }
   ],
   "source": [
    "pd.crosstab(test['vacant'], lr.predict(pd.DataFrame(test_lr, columns = features)), rownames=['actual'], colnames=['preds'])"
   ]
  },
  {
   "cell_type": "code",
   "execution_count": 346,
   "metadata": {
    "collapsed": false
   },
   "outputs": [
    {
     "data": {
      "text/plain": [
       "array([[  1.57375639e-02,   4.37676849e-02,   1.00628089e-02,\n",
       "          1.13201435e-02,   2.09715741e-02,   1.16242473e-02,\n",
       "          1.23275749e-01,   2.20340565e-02,   2.08475174e-02,\n",
       "          8.66040975e-03,   4.68127860e-02,   4.50823906e-02,\n",
       "          4.45265557e-02,   1.28707941e-02,   3.66715958e-02,\n",
       "          9.48174585e-03,   5.04114534e-02,   2.87617108e-03,\n",
       "          3.52261501e-02,   1.52302445e-02,   3.95509299e-03,\n",
       "          7.94405119e-03,   2.38944448e-02,   1.23326079e-02,\n",
       "          5.50237643e-02,   2.33603937e-02,   3.24453308e-01,\n",
       "          3.14600191e-01,   1.45127972e-01,   6.75484639e-05,\n",
       "          1.20134504e-01,   1.08188638e-01,   6.09684198e-02,\n",
       "          4.83039116e-02,   2.66717793e-02,   9.87187809e-02,\n",
       "          6.43297738e-02,   1.08532744e-02,   4.80049365e-02,\n",
       "          4.76435356e-02,   4.57238319e-02,   7.57005820e-02,\n",
       "          4.21688320e-02,   8.42267080e-02,   2.13027519e-02,\n",
       "          4.48471573e-02,   5.60638491e-02,   2.65106657e-02,\n",
       "          1.57887168e-01,   3.72945708e-02,   5.89722546e-02,\n",
       "          4.91079488e-02,   7.62385681e-02,   6.90941767e-03,\n",
       "          8.01651821e-04,   2.37894926e-03,   9.57721288e-04,\n",
       "          1.43218489e-02,   1.22504935e-01,   5.90109298e-02,\n",
       "          1.29114938e-01,   7.09048502e-02,   3.41890698e-01,\n",
       "          2.65944983e-02,   2.91209516e-01,   3.60882376e-01,\n",
       "          8.43497988e-02,   1.97969919e-02,   1.13877203e-02,\n",
       "          5.68606821e-02,   3.79022163e-02,   5.25007837e-02,\n",
       "          5.54043952e-02,   9.13204084e-02,   6.91484275e-03,\n",
       "          1.31177651e-02,   1.98104159e-02,   3.06183304e-03,\n",
       "          9.49702396e-02,   1.16467123e-01,   3.47597379e-03,\n",
       "          4.63873323e-02,   1.08375847e-02,   4.54863546e-04,\n",
       "          3.82969268e-03,   1.45441178e-02,   5.38455537e-02,\n",
       "          3.54170948e-02,   3.11580327e-02,   1.48636351e-02,\n",
       "          4.08529150e-03,   1.88751315e-02,   3.16475549e-03,\n",
       "          1.01587945e-02,   2.07859506e-02,   2.48512650e-02,\n",
       "          9.07780537e-03,   5.94798486e-03,   3.52515990e-02,\n",
       "          2.49976893e-01,   3.54764956e-02,   5.25885708e-02,\n",
       "          7.46573076e-02,   9.57591191e-03,   1.75521828e-01,\n",
       "          2.40686654e-02,   1.00024393e-01,   9.76059146e-03,\n",
       "          1.21149620e-01,   6.04295569e-02,   0.00000000e+00,\n",
       "          3.54598293e-01,   0.00000000e+00,   0.00000000e+00]])"
      ]
     },
     "execution_count": 346,
     "metadata": {},
     "output_type": "execute_result"
    }
   ],
   "source": [
    "abs(lr.coef_)"
   ]
  },
  {
   "cell_type": "code",
   "execution_count": 360,
   "metadata": {
    "collapsed": false
   },
   "outputs": [
    {
     "name": "stdout",
     "output_type": "stream",
     "text": [
      "Feature ranking:\n",
      "1. feature 65, application acceptance count (0.360882)\n",
      "2. feature 111, GRAND_TOTAL_BALANCE (0.354598)\n",
      "3. feature 62, vindall_Y (0.341891)\n",
      "4. feature 26, tmktval (-0.324453)\n",
      "5. feature 27, condition_value (-0.314600)\n",
      "6. feature 64, closure count (-0.291210)\n",
      "7. feature 99, c_O.V.V. (0.249977)\n",
      "8. feature 104, active_fc (0.175522)\n",
      "9. feature 48, hispanic (-0.157887)\n",
      "10. feature 28, ownerocc_value (-0.145128)\n",
      "11. feature 60, num_of_transfers (-0.129115)\n",
      "12. feature 6, deed__Sheriffs Deed (0.123276)\n",
      "13. feature 58, AMOUNT_PAID (0.122505)\n",
      "14. feature 108, fc_default (0.121150)\n",
      "15. feature 30, yrbuilt_filtered (-0.120135)\n",
      "16. feature 79, v_condemnation - main structure_count (0.116467)\n",
      "17. feature 31, vacant_block (0.108189)\n",
      "18. feature 106, fc_dis_w/o_prej (0.100024)\n",
      "19. feature 35, property_crimes (0.098719)\n",
      "20. feature 78, v_condemnation - garage_count (-0.094970)\n",
      "\n",
      "Feature ranking (least important):\n",
      "1. feature 113, is_train (0.000000)\n",
      "2. feature 110, auction (0.000000)\n",
      "3. feature 112, pclass_filtered (0.000000)\n",
      "4. feature 29, totbldgs (0.000068)\n",
      "5. feature 83, v_general maintenance_count (0.000455)\n",
      "6. feature 54, warranty_deed (0.000802)\n",
      "7. feature 56, survivorship_deed (0.000958)\n",
      "8. feature 55, limited_warranty (-0.002379)\n",
      "9. feature 17, ext__Frame (r) (-0.002876)\n",
      "10. feature 77, v_30 day fire damage repair ms_count (-0.003062)\n",
      "11. feature 92, c_Collapsing Structure (-0.003165)\n",
      "12. feature 80, v_condemnation - shed_count (0.003476)\n",
      "13. feature 84, v_hvac_count (0.003830)\n",
      "14. feature 20, style__Cape Cod (-0.003955)\n",
      "15. feature 90, v_vacate_count (-0.004085)\n",
      "16. feature 97, c_General Exterior Maintenance (0.005948)\n",
      "17. feature 53, quit_claim_deed (0.006909)\n",
      "18. feature 74, v_30 day condemnation_count (0.006915)\n",
      "19. feature 21, style__Colonial (0.007944)\n",
      "20. feature 9, deed__Warranty Deed Ex (0.008660)\n"
     ]
    }
   ],
   "source": [
    "importances = lr.coef_[0]\n",
    "# std = np.std([tree.feature_importances_ for tree in lr.estimators_],\n",
    "#              axis=0)\n",
    "indices = np.argsort(abs(importances))[::-1]\n",
    "\n",
    "# Print the feature ranking\n",
    "print(\"Feature ranking:\")\n",
    "\n",
    "for f in range(20):\n",
    "    print(\"%d. feature %d, %s (%f)\" % (f + 1, indices[f], features[indices[f]], importances[indices[f]]))\n",
    "print(\"\\nFeature ranking (least important):\")\n",
    "for f in range(20):\n",
    "    print(\"%d. feature %d, %s (%f)\" % (f + 1, indices[-f-1], features[indices[-f-1]], importances[indices[-f-1]]))"
   ]
  },
  {
   "cell_type": "markdown",
   "metadata": {},
   "source": [
    "### Adaboost Classifier"
   ]
  },
  {
   "cell_type": "code",
   "execution_count": 188,
   "metadata": {
    "collapsed": true
   },
   "outputs": [],
   "source": [
    "from sklearn.ensemble import AdaBoostClassifier"
   ]
  },
  {
   "cell_type": "code",
   "execution_count": 189,
   "metadata": {
    "collapsed": false
   },
   "outputs": [
    {
     "data": {
      "text/plain": [
       "AdaBoostClassifier(algorithm='SAMME.R', base_estimator=None,\n",
       "          learning_rate=1.0, n_estimators=50, random_state=0)"
      ]
     },
     "execution_count": 189,
     "metadata": {},
     "output_type": "execute_result"
    }
   ],
   "source": [
    "abc = AdaBoostClassifier(n_estimators=50, random_state=0)\n",
    "abc.fit(train[features], y)"
   ]
  },
  {
   "cell_type": "code",
   "execution_count": 190,
   "metadata": {
    "collapsed": false
   },
   "outputs": [
    {
     "data": {
      "text/plain": [
       "0.85570079795738163"
      ]
     },
     "execution_count": 190,
     "metadata": {},
     "output_type": "execute_result"
    }
   ],
   "source": [
    "cross_val_score(abc, df3[features], df3.vacant, cv=10, scoring='accuracy').mean()"
   ]
  },
  {
   "cell_type": "code",
   "execution_count": 192,
   "metadata": {
    "collapsed": true
   },
   "outputs": [],
   "source": [
    "sound()"
   ]
  },
  {
   "cell_type": "code",
   "execution_count": 74,
   "metadata": {
    "collapsed": false
   },
   "outputs": [],
   "source": [
    "abc_prob = abc.predict_proba(test[features])"
   ]
  },
  {
   "cell_type": "code",
   "execution_count": 193,
   "metadata": {
    "collapsed": false
   },
   "outputs": [
    {
     "data": {
      "text/html": [
       "<div>\n",
       "<table border=\"1\" class=\"dataframe\">\n",
       "  <thead>\n",
       "    <tr style=\"text-align: right;\">\n",
       "      <th>preds</th>\n",
       "      <th>0</th>\n",
       "      <th>1</th>\n",
       "    </tr>\n",
       "    <tr>\n",
       "      <th>actual</th>\n",
       "      <th></th>\n",
       "      <th></th>\n",
       "    </tr>\n",
       "  </thead>\n",
       "  <tbody>\n",
       "    <tr>\n",
       "      <th>0</th>\n",
       "      <td>32801</td>\n",
       "      <td>556</td>\n",
       "    </tr>\n",
       "    <tr>\n",
       "      <th>1</th>\n",
       "      <td>2078</td>\n",
       "      <td>1614</td>\n",
       "    </tr>\n",
       "  </tbody>\n",
       "</table>\n",
       "</div>"
      ],
      "text/plain": [
       "preds       0     1\n",
       "actual             \n",
       "0       32801   556\n",
       "1        2078  1614"
      ]
     },
     "execution_count": 193,
     "metadata": {},
     "output_type": "execute_result"
    }
   ],
   "source": [
    "pd.crosstab(test['vacant'], abc.predict(test[features]), rownames=['actual'], colnames=['preds'])"
   ]
  },
  {
   "cell_type": "markdown",
   "metadata": {},
   "source": [
    "### Single decision tree"
   ]
  },
  {
   "cell_type": "code",
   "execution_count": 194,
   "metadata": {
    "collapsed": false
   },
   "outputs": [],
   "source": [
    "from sklearn import tree"
   ]
  },
  {
   "cell_type": "code",
   "execution_count": 77,
   "metadata": {
    "collapsed": false
   },
   "outputs": [
    {
     "data": {
      "image/png": "[encoded data removed]",
      "text/plain": [
       "<matplotlib.figure.Figure at 0x10d9270d0>"
      ]
     },
     "metadata": {},
     "output_type": "display_data"
    }
   ],
   "source": [
    "leafs = range(1,20,1)\n",
    "scores = []\n",
    "for leaf in leafs:\n",
    "    clf = tree.DecisionTreeClassifier(class_weight='auto', min_samples_leaf=leaf)\n",
    "    scores.append(cross_val_score(clf, df3[features], df3.vacant, cv=10, scoring='accuracy').mean())\n",
    "plt.plot(leafs, scores, '--');"
   ]
  },
  {
   "cell_type": "code",
   "execution_count": 195,
   "metadata": {
    "collapsed": false
   },
   "outputs": [],
   "source": [
    "clf = tree.DecisionTreeClassifier(class_weight='auto', min_samples_leaf=2)\n",
    "clf = clf.fit(train[features], y)"
   ]
  },
  {
   "cell_type": "code",
   "execution_count": 196,
   "metadata": {
    "collapsed": false
   },
   "outputs": [
    {
     "data": {
      "text/plain": [
       "0.76765186629132975"
      ]
     },
     "execution_count": 196,
     "metadata": {},
     "output_type": "execute_result"
    }
   ],
   "source": [
    "cross_val_score(clf, df3[features], df3.vacant, cv=10, scoring='accuracy').mean()"
   ]
  },
  {
   "cell_type": "code",
   "execution_count": 197,
   "metadata": {
    "collapsed": false
   },
   "outputs": [
    {
     "data": {
      "text/html": [
       "<div>\n",
       "<table border=\"1\" class=\"dataframe\">\n",
       "  <thead>\n",
       "    <tr style=\"text-align: right;\">\n",
       "      <th>preds</th>\n",
       "      <th>0</th>\n",
       "      <th>1</th>\n",
       "    </tr>\n",
       "    <tr>\n",
       "      <th>actual</th>\n",
       "      <th></th>\n",
       "      <th></th>\n",
       "    </tr>\n",
       "  </thead>\n",
       "  <tbody>\n",
       "    <tr>\n",
       "      <th>0</th>\n",
       "      <td>31251</td>\n",
       "      <td>2106</td>\n",
       "    </tr>\n",
       "    <tr>\n",
       "      <th>1</th>\n",
       "      <td>1478</td>\n",
       "      <td>2214</td>\n",
       "    </tr>\n",
       "  </tbody>\n",
       "</table>\n",
       "</div>"
      ],
      "text/plain": [
       "preds       0     1\n",
       "actual             \n",
       "0       31251  2106\n",
       "1        1478  2214"
      ]
     },
     "execution_count": 197,
     "metadata": {},
     "output_type": "execute_result"
    }
   ],
   "source": [
    "pd.crosstab(test['vacant'], clf.predict(test[features]), rownames=['actual'], colnames=['preds'])"
   ]
  },
  {
   "cell_type": "markdown",
   "metadata": {},
   "source": [
    "## xgboost"
   ]
  },
  {
   "cell_type": "code",
   "execution_count": 227,
   "metadata": {
    "collapsed": false
   },
   "outputs": [
    {
     "data": {
      "text/plain": [
       "array([[0.0, 0.0, 1.0, ..., 2503.22, 1, True],\n",
       "       [0.0, 0.0, 0.0, ..., 2367.62, 1, True],\n",
       "       [0.0, 0.0, 0.0, ..., 2486.62, 1, True],\n",
       "       ..., \n",
       "       [0.0, 0.0, 0.0, ..., 3185.46, 1, True],\n",
       "       [1.0, 0.0, 0.0, ..., 2158.96, 1, True],\n",
       "       [0.0, 0.0, 0.0, ..., 2825.78, 1, True]], dtype=object)"
      ]
     },
     "execution_count": 227,
     "metadata": {},
     "output_type": "execute_result"
    }
   ],
   "source": [
    "train.as_matrix()"
   ]
  },
  {
   "cell_type": "code",
   "execution_count": 312,
   "metadata": {
    "collapsed": false
   },
   "outputs": [],
   "source": [
    "xgtest = test[features].as_matrix()\n",
    "#create train and validation dmatrices \n",
    "xgtrain = train[features].as_matrix()"
   ]
  },
  {
   "cell_type": "code",
   "execution_count": 363,
   "metadata": {
    "collapsed": false
   },
   "outputs": [],
   "source": [
    "gbm = xgb.XGBClassifier(max_depth=50, n_estimators=100, learning_rate=0.1).fit(xgtrain, y)\n",
    "predictions = gbm.predict(xgtest)\n",
    "probs = gbm.predict_proba(xgtest)"
   ]
  },
  {
   "cell_type": "code",
   "execution_count": 364,
   "metadata": {
    "collapsed": false
   },
   "outputs": [
    {
     "data": {
      "text/html": [
       "<div>\n",
       "<table border=\"1\" class=\"dataframe\">\n",
       "  <thead>\n",
       "    <tr style=\"text-align: right;\">\n",
       "      <th>col_0</th>\n",
       "      <th>0</th>\n",
       "      <th>1</th>\n",
       "    </tr>\n",
       "    <tr>\n",
       "      <th>vacant</th>\n",
       "      <th></th>\n",
       "      <th></th>\n",
       "    </tr>\n",
       "  </thead>\n",
       "  <tbody>\n",
       "    <tr>\n",
       "      <th>0</th>\n",
       "      <td>26627</td>\n",
       "      <td>373</td>\n",
       "    </tr>\n",
       "    <tr>\n",
       "      <th>1</th>\n",
       "      <td>1415</td>\n",
       "      <td>1163</td>\n",
       "    </tr>\n",
       "  </tbody>\n",
       "</table>\n",
       "</div>"
      ],
      "text/plain": [
       "col_0       0     1\n",
       "vacant             \n",
       "0       26627   373\n",
       "1        1415  1163"
      ]
     },
     "execution_count": 364,
     "metadata": {},
     "output_type": "execute_result"
    }
   ],
   "source": [
    "pd.crosstab(test['vacant'],predictions)"
   ]
  },
  {
   "cell_type": "code",
   "execution_count": 365,
   "metadata": {
    "collapsed": true
   },
   "outputs": [],
   "source": [
    "sound()"
   ]
  },
  {
   "cell_type": "code",
   "execution_count": 366,
   "metadata": {
    "collapsed": false
   },
   "outputs": [
    {
     "name": "stdout",
     "output_type": "stream",
     "text": [
      "0.723041117145\n"
     ]
    },
    {
     "data": {
      "text/html": [
       "<div>\n",
       "<table border=\"1\" class=\"dataframe\">\n",
       "  <thead>\n",
       "    <tr style=\"text-align: right;\">\n",
       "      <th>pred</th>\n",
       "      <th>0.0</th>\n",
       "      <th>1.0</th>\n",
       "    </tr>\n",
       "    <tr>\n",
       "      <th>vacant</th>\n",
       "      <th></th>\n",
       "      <th></th>\n",
       "    </tr>\n",
       "  </thead>\n",
       "  <tbody>\n",
       "    <tr>\n",
       "      <th>0</th>\n",
       "      <td>2763</td>\n",
       "      <td>373</td>\n",
       "    </tr>\n",
       "    <tr>\n",
       "      <th>1</th>\n",
       "      <td>701</td>\n",
       "      <td>1163</td>\n",
       "    </tr>\n",
       "  </tbody>\n",
       "</table>\n",
       "</div>"
      ],
      "text/plain": [
       "pred       0     1\n",
       "vacant            \n",
       "0       2763   373\n",
       "1        701  1163"
      ]
     },
     "execution_count": 366,
     "metadata": {},
     "output_type": "execute_result"
    },
    {
     "data": {
      "image/png": "[encoded data removed]",
      "text/plain": [
       "<matplotlib.figure.Figure at 0x10f980110>"
      ]
     },
     "metadata": {},
     "output_type": "display_data"
    }
   ],
   "source": [
    "tem = test.copy()\n",
    "tem['prob'] = probs[:,1]\n",
    "tem['pred'] = tem.prob.apply(round)\n",
    "plt.hist(tem[tem.vacant==1].prob.values,alpha=0.5,normed=True, bins=20);\n",
    "plt.hist(tem[tem.vacant==0].prob.values,alpha=0.5,normed=True, bins=20);\n",
    "print sum(tem.sort('prob', ascending=False).iloc[0:5000].vacant)*1.0/sum(tem.vacant)\n",
    "pd.crosstab(tem.sort('prob', ascending=False).iloc[0:5000].vacant,tem.sort('prob', ascending=False).iloc[0:5000].pred)"
   ]
  },
  {
   "cell_type": "code",
   "execution_count": 262,
   "metadata": {
    "collapsed": false
   },
   "outputs": [
    {
     "data": {
      "text/html": [
       "<div>\n",
       "<table border=\"1\" class=\"dataframe\">\n",
       "  <thead>\n",
       "    <tr style=\"text-align: right;\">\n",
       "      <th>pred</th>\n",
       "      <th>0.0</th>\n",
       "      <th>1.0</th>\n",
       "    </tr>\n",
       "    <tr>\n",
       "      <th>vacant</th>\n",
       "      <th></th>\n",
       "      <th></th>\n",
       "    </tr>\n",
       "  </thead>\n",
       "  <tbody>\n",
       "    <tr>\n",
       "      <th>0</th>\n",
       "      <td>1748</td>\n",
       "      <td>303</td>\n",
       "    </tr>\n",
       "    <tr>\n",
       "      <th>1</th>\n",
       "      <td>342</td>\n",
       "      <td>2607</td>\n",
       "    </tr>\n",
       "  </tbody>\n",
       "</table>\n",
       "</div>"
      ],
      "text/plain": [
       "pred       0     1\n",
       "vacant            \n",
       "0       1748   303\n",
       "1        342  2607"
      ]
     },
     "execution_count": 262,
     "metadata": {},
     "output_type": "execute_result"
    }
   ],
   "source": [
    "pd.crosstab(tem.sort('prob', ascending=False).iloc[0:5000].vacant,tem.sort('prob', ascending=False).iloc[0:5000].pred)"
   ]
  },
  {
   "cell_type": "code",
   "execution_count": 253,
   "metadata": {
    "collapsed": false
   },
   "outputs": [
    {
     "data": {
      "text/html": [
       "<div>\n",
       "<table border=\"1\" class=\"dataframe\">\n",
       "  <thead>\n",
       "    <tr style=\"text-align: right;\">\n",
       "      <th>pred</th>\n",
       "      <th>0.0</th>\n",
       "      <th>1.0</th>\n",
       "    </tr>\n",
       "    <tr>\n",
       "      <th>vacant</th>\n",
       "      <th></th>\n",
       "      <th></th>\n",
       "    </tr>\n",
       "  </thead>\n",
       "  <tbody>\n",
       "    <tr>\n",
       "      <th>0</th>\n",
       "      <td>2247</td>\n",
       "      <td>479</td>\n",
       "    </tr>\n",
       "    <tr>\n",
       "      <th>1</th>\n",
       "      <td>751</td>\n",
       "      <td>1523</td>\n",
       "    </tr>\n",
       "  </tbody>\n",
       "</table>\n",
       "</div>"
      ],
      "text/plain": [
       "pred       0     1\n",
       "vacant            \n",
       "0       2247   479\n",
       "1        751  1523"
      ]
     },
     "execution_count": 253,
     "metadata": {},
     "output_type": "execute_result"
    }
   ],
   "source": [
    "pd.crosstab(tem.sort('prob', ascending=False).iloc[0:5000].vacant,tem.sort('prob', ascending=False).iloc[0:5000].pred)"
   ]
  }
 ],
 "metadata": {
  "kernelspec": {
   "display_name": "Python 2",
   "language": "python",
   "name": "python2"
  },
  "language_info": {
   "codemirror_mode": {
    "name": "ipython",
    "version": 2
   },
   "file_extension": ".py",
   "mimetype": "text/x-python",
   "name": "python",
   "nbconvert_exporter": "python",
   "pygments_lexer": "ipython2",
   "version": "2.7.10"
  }
 },
 "nbformat": 4,
 "nbformat_minor": 0
}
