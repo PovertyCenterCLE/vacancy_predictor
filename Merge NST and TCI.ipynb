{
 "cells": [
  {
   "cell_type": "code",
   "execution_count": 1,
   "metadata": {
    "collapsed": true
   },
   "outputs": [],
   "source": [
    "import pandas as pd"
   ]
  },
  {
   "cell_type": "code",
   "execution_count": 2,
   "metadata": {
    "collapsed": true
   },
   "outputs": [],
   "source": [
    "tci_add = pd.read_csv('tci_add.csv')"
   ]
  },
  {
   "cell_type": "code",
   "execution_count": 6,
   "metadata": {
    "collapsed": false
   },
   "outputs": [
    {
     "name": "stderr",
     "output_type": "stream",
     "text": [
      "//anaconda/lib/python2.7/site-packages/pandas/io/parsers.py:1170: DtypeWarning: Columns (3) have mixed types. Specify dtype option on import or set low_memory=False.\n",
      "  data = self._reader.read(nrows)\n"
     ]
    }
   ],
   "source": [
    "df = pd.read_csv('Cleveland_Full_Preliminary_Results_20151007.csv',dtype={'Parcel ID': str})"
   ]
  },
  {
   "cell_type": "code",
   "execution_count": 7,
   "metadata": {
    "collapsed": false
   },
   "outputs": [
    {
     "name": "stdout",
     "output_type": "stream",
     "text": [
      "<class 'pandas.core.frame.DataFrame'>\n",
      "Int64Index: 158854 entries, 0 to 158853\n",
      "Data columns (total 27 columns):\n",
      "Parcel ID                           158854 non-null object\n",
      "Date                                158854 non-null object\n",
      "USE_CLASS                           158854 non-null object\n",
      "Ward                                158854 non-null object\n",
      "Label                               158854 non-null object\n",
      "SPA_NAME                            158854 non-null object\n",
      "Address                             158800 non-null object\n",
      "Survey Category                     158854 non-null object\n",
      "Survey Result                       158854 non-null object\n",
      "Open Vacant                         65687 non-null object\n",
      "For Sale or Rent                    65060 non-null object\n",
      "Apparent Property Use               108151 non-null object\n",
      "Apparent Property Capacity          112756 non-null object\n",
      "House Number Visible/Premises ID    123058 non-null object\n",
      "Boarded Windows or Doors            63711 non-null object\n",
      "Broken Windows                      61466 non-null object\n",
      "Roof Damage                         67840 non-null object\n",
      "Chimney Damage                      59732 non-null object\n",
      "Paint or Siding Damage              83136 non-null object\n",
      "Gutters or Downspout Damage         68550 non-null object\n",
      "Porch Damage                        71730 non-null object\n",
      "Garage Damage                       60940 non-null object\n",
      "Dumping (Trash/Debris)              73725 non-null object\n",
      "Sidewalk Condition                  117149 non-null object\n",
      "Street Tree                         142794 non-null object\n",
      "Notes                               72894 non-null object\n",
      "Image                               70022 non-null object\n",
      "dtypes: object(27)\n",
      "memory usage: 33.9+ MB\n"
     ]
    }
   ],
   "source": [
    "df.info()"
   ]
  },
  {
   "cell_type": "code",
   "execution_count": 8,
   "metadata": {
    "collapsed": true
   },
   "outputs": [],
   "source": [
    "def fix_parcel(x):\n",
    "    if len(x) < 8:\n",
    "        x = '0'*(8-len(x))+x\n",
    "    \n",
    "    return x[0:3]+'-'+x[3:5]+'-'+x[5:]"
   ]
  },
  {
   "cell_type": "code",
   "execution_count": 13,
   "metadata": {
    "collapsed": false
   },
   "outputs": [],
   "source": [
    "df['ppn'] = df['Parcel ID'].apply(fix_parcel)"
   ]
  },
  {
   "cell_type": "code",
   "execution_count": 10,
   "metadata": {
    "collapsed": false
   },
   "outputs": [
    {
     "data": {
      "text/plain": [
       "177247"
      ]
     },
     "execution_count": 10,
     "metadata": {},
     "output_type": "execute_result"
    }
   ],
   "source": [
    "len(tci_add)"
   ]
  },
  {
   "cell_type": "code",
   "execution_count": 11,
   "metadata": {
    "collapsed": false
   },
   "outputs": [
    {
     "data": {
      "text/plain": [
       "0.9955116018482381"
      ]
     },
     "execution_count": 11,
     "metadata": {},
     "output_type": "execute_result"
    }
   ],
   "source": [
    "158141.0/158854"
   ]
  },
  {
   "cell_type": "code",
   "execution_count": 81,
   "metadata": {
    "collapsed": false
   },
   "outputs": [
    {
     "data": {
      "text/plain": [
       "158141"
      ]
     },
     "execution_count": 81,
     "metadata": {},
     "output_type": "execute_result"
    }
   ],
   "source": [
    "len(set(tci_add.parcel).intersection(set(ppns2)))"
   ]
  },
  {
   "cell_type": "code",
   "execution_count": 70,
   "metadata": {
    "collapsed": false
   },
   "outputs": [],
   "source": [
    "inters = set(ppns2).intersection(set(ppns))"
   ]
  },
  {
   "cell_type": "code",
   "execution_count": 72,
   "metadata": {
    "collapsed": false
   },
   "outputs": [
    {
     "data": {
      "text/plain": [
       "(187324, 158854)"
      ]
     },
     "execution_count": 72,
     "metadata": {},
     "output_type": "execute_result"
    }
   ],
   "source": [
    "len(ppns), len(ppns2)"
   ]
  },
  {
   "cell_type": "code",
   "execution_count": 71,
   "metadata": {
    "collapsed": false
   },
   "outputs": [
    {
     "data": {
      "text/plain": [
       "158379"
      ]
     },
     "execution_count": 71,
     "metadata": {},
     "output_type": "execute_result"
    }
   ],
   "source": [
    "len(inters)"
   ]
  },
  {
   "cell_type": "code",
   "execution_count": 18,
   "metadata": {
    "collapsed": false
   },
   "outputs": [],
   "source": [
    "pd.merge(df, tci_add, how='left', left_on='ppn',right_on='parcel').to_csv('merged_tci_prelim.csv',index=False)"
   ]
  },
  {
   "cell_type": "code",
   "execution_count": 17,
   "metadata": {
    "collapsed": false
   },
   "outputs": [
    {
     "data": {
      "text/plain": [
       "(158854, 28)"
      ]
     },
     "execution_count": 17,
     "metadata": {},
     "output_type": "execute_result"
    }
   ],
   "source": [
    "df.shape"
   ]
  },
  {
   "cell_type": "code",
   "execution_count": null,
   "metadata": {
    "collapsed": true
   },
   "outputs": [],
   "source": []
  }
 ],
 "metadata": {
  "kernelspec": {
   "display_name": "Python 2",
   "language": "python",
   "name": "python2"
  },
  "language_info": {
   "codemirror_mode": {
    "name": "ipython",
    "version": 2
   },
   "file_extension": ".py",
   "mimetype": "text/x-python",
   "name": "python",
   "nbconvert_exporter": "python",
   "pygments_lexer": "ipython2",
   "version": "2.7.10"
  }
 },
 "nbformat": 4,
 "nbformat_minor": 0
}
