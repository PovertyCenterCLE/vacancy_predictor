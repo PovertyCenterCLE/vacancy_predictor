{
 "cells": [
  {
   "cell_type": "markdown",
   "metadata": {},
   "source": [
    "# Analysis of vacancy and foreclosures, transactions, sheriff's auctions, and armslength sales"
   ]
  },
  {
   "cell_type": "code",
   "execution_count": 1,
   "metadata": {
    "collapsed": false
   },
   "outputs": [
    {
     "name": "stdout",
     "output_type": "stream",
     "text": [
      "/Volumes/Dropbox/largetransfer/luc/carter\n"
     ]
    },
    {
     "name": "stderr",
     "output_type": "stream",
     "text": [
      "//anaconda/envs/data_sci/lib/python3.4/site-packages/matplotlib/__init__.py:872: UserWarning: axes.color_cycle is deprecated and replaced with axes.prop_cycle; please use the latter.\n",
      "  warnings.warn(self.msg_depr % (key, alt_key))\n"
     ]
    }
   ],
   "source": [
    "import matplotlib.pyplot as plt\n",
    "import datetime as dt\n",
    "import seaborn as sns\n",
    "import pandas as pd\n",
    "import numpy as np\n",
    "import os\n",
    "import re\n",
    "\n",
    "%matplotlib inline\n",
    "\n",
    "path = '/'.join(os.getcwd().split('/')[:-2])\n",
    "print(path)"
   ]
  },
  {
   "cell_type": "code",
   "execution_count": 2,
   "metadata": {
    "collapsed": false
   },
   "outputs": [
    {
     "name": "stdout",
     "output_type": "stream",
     "text": [
      "(113132, 4)\n"
     ]
    },
    {
     "name": "stderr",
     "output_type": "stream",
     "text": [
      "//anaconda/envs/data_sci/lib/python3.4/site-packages/IPython/core/interactiveshell.py:2902: DtypeWarning: Columns (0) have mixed types. Specify dtype option on import or set low_memory=False.\n",
      "  interactivity=interactivity, compiler=compiler, result=result)\n"
     ]
    }
   ],
   "source": [
    "# import data\n",
    "\n",
    "tci = pd.read_csv(path+'/data/model_data/tci_1_0.csv', parse_dates=['Date'])\n",
    "tci = tci[['parcel','vacant','SPA_NAME','Date']]\n",
    "\n",
    "dates = dict(zip(tci.parcel, tci.Date))\n",
    "print(tci.shape)"
   ]
  },
  {
   "cell_type": "markdown",
   "metadata": {},
   "source": [
    "## Foreclosures"
   ]
  },
  {
   "cell_type": "code",
   "execution_count": 4,
   "metadata": {
    "collapsed": false
   },
   "outputs": [
    {
     "name": "stdout",
     "output_type": "stream",
     "text": [
      "Index(['parcel', 'status', 'date', 'defendant', 'caseno', 'parcel_address',\n",
      "       'dateid', 'case_title', 'plaintiff', 'FORE', 'LATITUDE', 'LONGITUDE',\n",
      "       'zip_fore'],\n",
      "      dtype='object')\n"
     ]
    }
   ],
   "source": [
    "# import all foreclosures\n",
    "\n",
    "fc = pd.read_csv(path+'/data/clean_data/foreclosure_filings2.csv', parse_dates=[2])\n",
    "# fc = fc.sort_values('filedate').groupby('caseno').last()\n",
    "fc = fc.rename(columns={'filedate':'date'})#.reset_index()\n",
    "\n",
    "print(fc.columns)"
   ]
  },
  {
   "cell_type": "markdown",
   "metadata": {},
   "source": [
    "## Sheriff's Auctions\n",
    "\n",
    "Merging sheriff's auctions, transfers, and foreclosures to see order of events for each parcel."
   ]
  },
  {
   "cell_type": "code",
   "execution_count": 2,
   "metadata": {
    "collapsed": false
   },
   "outputs": [],
   "source": [
    "# sa = pd.read_csv(path+'/data/clean_data/sheriff_auction.csv', parse_dates=[2])#, encoding=\"ISO-8859-1\")\n",
    "# sa = sa.rename(columns={'salesdt':'date'})"
   ]
  },
  {
   "cell_type": "code",
   "execution_count": 6,
   "metadata": {
    "collapsed": true
   },
   "outputs": [],
   "source": [
    "# sa = sa.loc[:,['date','parcel','sold_amt','purchaser']]\n",
    "# sa['REO'] = 0\n",
    "# sa['type'] = 'sa'"
   ]
  },
  {
   "cell_type": "code",
   "execution_count": 59,
   "metadata": {
    "collapsed": true
   },
   "outputs": [],
   "source": [
    "t = pd.read_csv(path+'/data/clean_data/transfers.csv', parse_dates=['mdate'], dtype=str)\n",
    "t = t.rename(columns={'PROPERTY_NUMBER':'parcel','mdate':'date'})\n",
    "t['type'] = 't'\n",
    "t['REO'] = 0\n",
    "\n",
    "t = t[(t.DEED_TYPE.isin(['Sheriffs Deed',\n",
    " 'Sheriffs Deed Ex']))]\n"
   ]
  },
  {
   "cell_type": "code",
   "execution_count": 60,
   "metadata": {
    "collapsed": true
   },
   "outputs": [],
   "source": [
    "df3 = pd.read_excel(path+'/data/extra_data/STANDARDIZED.xls')\n",
    "df3 = df3[['z_ngrantee','z_final']].rename(columns={'z_ngrantee':'grantee','z_final':'cat'})\\\n",
    "    .append(df3[['z_std','z_final']].rename(columns={'z_std':'grantee','z_final':'cat'}))"
   ]
  },
  {
   "cell_type": "code",
   "execution_count": 61,
   "metadata": {
    "collapsed": true
   },
   "outputs": [],
   "source": [
    "t3 = pd.merge(t, df3, how='left',left_on='GRANTEE1',right_on='grantee')"
   ]
  },
  {
   "cell_type": "code",
   "execution_count": 65,
   "metadata": {
    "collapsed": false
   },
   "outputs": [
    {
     "data": {
      "text/plain": [
       "(1682, 64)"
      ]
     },
     "execution_count": 65,
     "metadata": {},
     "output_type": "execute_result"
    }
   ],
   "source": [
    "t3[(t3.cat.notnull()) & ~(t3.cat=='INDIVIDUAL')].shape"
   ]
  },
  {
   "cell_type": "code",
   "execution_count": 70,
   "metadata": {
    "collapsed": false
   },
   "outputs": [
    {
     "data": {
      "text/plain": [
       "Index(['FEDERAL NATIONAL MORTGAGE ASSOCIATION', 'FANNIE MAE',\n",
       "       'FEDERAL HOME LOAN MORTGAGE CORPORATION',\n",
       "       'FEDERAL NATIONAL MORTGAGE ASSOC.',\n",
       "       'DEUTSCHE BANK NATIONAL TRUST COMPANY',\n",
       "       'SECRETARY OF HOUSING AND URBAN DEVELOPMENT',\n",
       "       'DEUTSCHE BANK NATIONAL TRUST CO., TRUSTEE',\n",
       "       'DEUTSCHE BANK NATIONAL TRUST COMPANY, AS TRUSTEE', 'SECRETARY OF HUD',\n",
       "       'DEUTSCHE BANK NATIONAL TRUST COMPANY AS TRUSTEE',\n",
       "       ...\n",
       "       'GMAC MORTGAGE , LLC', 'GILBERT, FLOYD H. JR', 'GMAC MORT CORP',\n",
       "       'GMAC MORGAGE CORPORATION', 'GMAC BANK', 'GMAC  MORTGAGE CORP.',\n",
       "       'GLOBAL HORSEMEN CORP', 'GLAVIN, BERARD JR. & SUSAN', 'GILMORE, ROBERT',\n",
       "       'wm Specialty Mortgage llc'],\n",
       "      dtype='object', name='GRANTEE1', length=6386)"
      ]
     },
     "execution_count": 70,
     "metadata": {},
     "output_type": "execute_result"
    }
   ],
   "source": [
    "t3[(t3.cat.isnull())].groupby('GRANTEE1').count().sort_values(by='WHS_ID', ascending=False).index"
   ]
  },
  {
   "cell_type": "code",
   "execution_count": 67,
   "metadata": {
    "collapsed": true
   },
   "outputs": [
    {
     "data": {
      "text/plain": [
       "0                                          RUSSELL, ROBERT\n",
       "1                                       BANK OF AMERICA NA\n",
       "2                 JPMORGAN CHASE BANK NATIONAL ASSOCIATION\n",
       "3                                       GMAC MORTGAGE, LLC\n",
       "4                              THE BANK OF NEW YORK MELLON\n",
       "5                DEUTSCHE BANK TRUST CO. AMERICAS, TRUSTEE\n",
       "6                        WELLS FARGO BANK, N.A. AS TRUSTEE\n",
       "7                                     US BANK N.A. TRUSTEE\n",
       "8                             KEYBANK NATIONAL ASSOCIATION\n",
       "9                                    US BANK NA AS TRUSTEE\n",
       "10                                     GMAC MORTGAGE CORP.\n",
       "12             LASALL BANK NATIONAL ASSOCIATION AS TRUSTEE\n",
       "13        DEUTSCHE BANK NATIONAL TRUST COMPANY, AS TRUSTEE\n",
       "14                               JPMORGAN CHASE BANK, N.A.\n",
       "15                               LAKESIDE REO VENTURES LLC\n",
       "17                                   BANK OF AMERICA, N.A.\n",
       "18                                    BENEFICIAL OHIO INC.\n",
       "19                                              FANNIE MAE\n",
       "20                                       OHIO SAVINGS BANK\n",
       "21                                        SECRETARY OF HUD\n",
       "22                            KEYBANK NATIONAL ASSOCIATION\n",
       "23                   FEDERAL NATIONAL MORTGAGE ASSOCIATION\n",
       "24                                      The Provident Bank\n",
       "25                         Certified Housing Solutions LLC\n",
       "26                                      CITIMORTGAGE, INC.\n",
       "27                                     DIOUISOPOULOS, NICK\n",
       "28                                       EMC Mortgage Corp\n",
       "29                  FEDERAL HOME LOAN MORTGAGE CORPORATION\n",
       "30                           WELLS FARGO BANK N.A. TRUSTEE\n",
       "31                                            AMTRUST BANK\n",
       "                               ...                        \n",
       "29344            Manufacturers and Trade Trust Company-Tr.\n",
       "29345           THIRD FEDERAL SAVINGS AND LOAN ASSOCIATION\n",
       "29346                                 THE BANK OF NEW YORK\n",
       "29348                       JPMORGAN CHASE BANK NA TRUSTEE\n",
       "29349    LAKEVIEW PROPERTIES (OH), LLC (LAKEVIEW PROPER...\n",
       "29350    THIRD FEDERAL SAVINGS AND LOAN ASSOCIATION OF ...\n",
       "29351    THIRD FEDERAL SAVINGS & LOAN ASSOCIATION of CL...\n",
       "29352               FEDERAL HOME LOAN MORTGAGE CORPORATION\n",
       "29353                              NEW YORK COMMUNITY BANK\n",
       "29354     DEUTSCHE BANK TRUST COMPANY AMERICAS, AS TRUSTEE\n",
       "29355                                             SKY BANK\n",
       "29356                         JP MORGAN CHASE BANK TRUSTEE\n",
       "29357                          GENERATION MORTGAGE COMPANY\n",
       "29358     DEUTSCHE BANK NATIONAL TRUST COMPANY, AS TRUSTEE\n",
       "29359                      FEDERAL HOME LOAN MORTGAGE CORP\n",
       "29360           SECRETARY OF HOUSING AND URBAN DEVELOPMENT\n",
       "29361                                 CHRISTOPHER, JACK E.\n",
       "29362      DEUTSCHE BANK NATIONAL TRUST COMPANY AS TRUSTEE\n",
       "29364                    WELLS FARGO BANK, N.A. AS TRUSTEE\n",
       "29366                                         EMC Mortgage\n",
       "29367                         KEYBANK NATIONAL ASSOCIATION\n",
       "29368                        PLYMOUTH PARK TAX SERVICE LLC\n",
       "29369                             EMC MORTGAGE CORPORATION\n",
       "29370                                         AMTRUST BANK\n",
       "29371                FEDERAL NATIONAL MORTGAGE ASSOCIATION\n",
       "29372                               HOUSEHOLD REALTY CORP.\n",
       "29373                                     Secretary Of Hud\n",
       "29374    THIRD FEDERAL SAVINGS AND LOAN ASSOCIATION OF ...\n",
       "29375                                   CITIMORTGAGE, INC.\n",
       "29376                        Wells fargo bank Minn trustee\n",
       "Name: GRANTEE1, dtype: object"
      ]
     },
     "execution_count": 67,
     "metadata": {},
     "output_type": "execute_result"
    }
   ],
   "source": [
    "t3[(t3.cat.isnull())].GRANTEE1"
   ]
  },
  {
   "cell_type": "code",
   "execution_count": 14,
   "metadata": {
    "collapsed": false
   },
   "outputs": [
    {
     "name": "stderr",
     "output_type": "stream",
     "text": [
      "//anaconda/envs/data_sci/lib/python3.4/site-packages/IPython/core/interactiveshell.py:2902: DtypeWarning: Columns (17,18,20,23,25,27,39,45,46,48,55,68,69,70,86,87,92) have mixed types. Specify dtype option on import or set low_memory=False.\n",
      "  interactivity=interactivity, compiler=compiler, result=result)\n"
     ]
    }
   ],
   "source": [
    "df = pd.read_csv(path+'/data/extra_data/20130901_final_dataset_restruct_1.csv')\n",
    "reo = df[['z_ngrantee.1','z_final2.1']]\n",
    "for num in range(2,11):\n",
    "    reo = reo.append(df[['z_ngrantee.'+str(num),'z_final2.'+str(num)]]\\\n",
    "                     .rename(columns={'z_ngrantee.'+str(num):'z_ngrantee.1', 'z_final2.'+str(num):'z_final2.1'})\\\n",
    "                     ,ignore_index=True)"
   ]
  },
  {
   "cell_type": "code",
   "execution_count": 16,
   "metadata": {
    "collapsed": true
   },
   "outputs": [],
   "source": [
    "reo = reo.rename(columns={'z_ngrantee.1':'grantee','z_final2.1':'cat'})\n",
    "reo = reo[reo.grantee.notnull()]\n",
    "reo = reo.drop_duplicates()"
   ]
  },
  {
   "cell_type": "code",
   "execution_count": 24,
   "metadata": {
    "collapsed": false
   },
   "outputs": [
    {
     "data": {
      "text/plain": [
       "(425450, 2)"
      ]
     },
     "execution_count": 24,
     "metadata": {},
     "output_type": "execute_result"
    }
   ],
   "source": [
    "reo.shape"
   ]
  },
  {
   "cell_type": "code",
   "execution_count": 43,
   "metadata": {
    "collapsed": false
   },
   "outputs": [
    {
     "data": {
      "text/plain": [
       "{' ',\n",
       " 'CDC',\n",
       " 'INDIVIDUAL',\n",
       " 'INVESTOR COMPANY',\n",
       " 'LOCAL GOVERNMENT',\n",
       " 'NONPROFITS'}"
      ]
     },
     "execution_count": 43,
     "metadata": {},
     "output_type": "execute_result"
    }
   ],
   "source": [
    "set(reo.cat)"
   ]
  },
  {
   "cell_type": "code",
   "execution_count": 29,
   "metadata": {
    "collapsed": false
   },
   "outputs": [],
   "source": [
    "t2 = pd.merge(t, reo, how='left',left_on='GRANTEE1',right_on='grantee')"
   ]
  },
  {
   "cell_type": "code",
   "execution_count": 15,
   "metadata": {
    "collapsed": true
   },
   "outputs": [],
   "source": [
    "# fc = fc.loc[:,['date','parcel']]\n",
    "# fc['type'] = 'fc'\n",
    "# fc['REO'] = 0"
   ]
  },
  {
   "cell_type": "code",
   "execution_count": 3,
   "metadata": {
    "collapsed": true
   },
   "outputs": [],
   "source": [
    "# assume real estate owned (by companies or banks) are organizations that have these series of letters in their name.\n",
    "def find_REO(s):\n",
    "    if isinstance(s,str):\n",
    "        s = s.lower()\n",
    "        if re.search(\"llc\", s):\n",
    "            return True\n",
    "        if re.search(\"bank\", s):\n",
    "            return True\n",
    "        if re.search(\"mortg\", s):\n",
    "            return True\n",
    "        if re.search(\"mort.\", s):\n",
    "            return True\n",
    "        if re.search(\"comp\", s):\n",
    "            return True\n",
    "        if re.search(\"corp\", s):\n",
    "            return True\n",
    "        if re.search(\"fannie\", s):\n",
    "            return True\n",
    "        if re.search(\"housing\", s):\n",
    "            return True\n",
    "        if re.search(\"sec.\", s):\n",
    "            return True\n",
    "        if re.search(\"loan\", s):\n",
    "            return True\n",
    "        if re.search(\"inc\", s):\n",
    "            return True\n",
    "        if re.search(\"ohio\", s):\n",
    "            return True\n",
    "        if re.search(\"cleveland\", s):\n",
    "            return True\n",
    "        if re.search(\"estate\", s):\n",
    "            return True\n",
    "        if re.search(\"organization\", s):\n",
    "            return True\n",
    "        if re.search(\"develop\", s):\n",
    "            return True\n",
    "        if re.search(\"ltd\", s):\n",
    "            return True\n",
    "        if re.search(\"hsg\", s):\n",
    "            return True\n",
    "        if re.search(\"limited\", s):\n",
    "            return True\n",
    "        if re.search(\"cuyahoga\", s):\n",
    "            return True\n",
    "        if re.search(\"propert\", s):\n",
    "            return True\n",
    "        if re.search(\"invest\", s):\n",
    "            return True\n",
    "        if re.search(\"realt\", s):\n",
    "            return True\n",
    "        if re.search(\"homes\", s):\n",
    "            return True\n",
    "        if re.search(\"neighbor\", s):\n",
    "            return True\n",
    "        return False\n",
    "    else:\n",
    "        return False"
   ]
  },
  {
   "cell_type": "code",
   "execution_count": 8,
   "metadata": {
    "collapsed": false
   },
   "outputs": [],
   "source": [
    "#\n",
    "# METHODOLOGY:\n",
    "\n",
    "# Data included:\n",
    "# Foreclosures\n",
    "# Transfers: filtered for sheriff's deeds (assumed to be sheriff's sales)\n",
    "# Armslength sales\n",
    "\n",
    "# All three datasets are combined such that the dates, parcels, and types are included in the final dataset \n",
    "# Should be encoded as follows: \n",
    "# 0: parcels with no history\n",
    "# 1: foreclosure\n",
    "# 2: sold at sheriff's auction (to a REO entity) – considered to be vacant\n",
    "# 3: sold at armslength (or sold at sheriff's auction to non-REO)\n",
    "\n",
    "# At each date, assign each parcel a number based on the above rubric. The numbers may depend on previous date's \n",
    "# numbers and continue to increment, such that a parcel with the number 4 is in its second foreclosure process\n",
    "\n",
    "\n",
    "fc = pd.read_csv(path+'/data/clean_data/foreclosure_filings2.csv', parse_dates=[2])\n",
    "# fc = fc.sort_values('filedate').groupby('caseno').last()\n",
    "fc = fc.rename(columns={'filedate':'date'})\n",
    "fc['type'] = 'fc'\n",
    "fc = fc[['date','type','parcel']]\n",
    "\n",
    "\n",
    "t = pd.read_csv(path+'/data/clean_data/transfers.csv', parse_dates=['mdate'], dtype=str)\n",
    "t['REO'] = t.GRANTEE1.apply(find_REO)\n",
    "t = t[(t.DEED_TYPE.isin(['Sheriffs Deed',\n",
    " 'Sheriffs Deed Ex']))]\n",
    "t = t[['PROPERTY_NUMBER','mdate','REO']].rename(columns={'PROPERTY_NUMBER':'parcel','mdate':'date'})\n",
    "t['type'] = 't'\n",
    "\n",
    "t.loc[t.REO==False,'type'] = 'al'\n",
    "\n",
    "al = pd.read_csv(path+'/data/clean_data/armslength.csv', dtype=str)\n",
    "al = al.drop_duplicates()\n",
    "\n",
    "# parse armslength dates\n",
    "months = dict(zip(['JAN','FEB','MAR','APR','MAY','JUN','JUL','AUG','SEP','OCT','NOV','DEC'],range(1,13)))\n",
    "def parse_date(x):\n",
    "    day = int(x[0:2])\n",
    "    month = months[x[2:5]]\n",
    "    year = int(x[5:])\n",
    "    return dt.datetime(year,month,day)\n",
    "\n",
    "al['date'] = al.mdate.apply(parse_date)\n",
    "al = al.sort_values('date').rename(columns={'PROPERTY_NUMBER':'parcel'})\n",
    "\n",
    "def parse_amount(x):\n",
    "    return float(str(x)[1:].replace(',',''))\n",
    "\n",
    "al['type'] = 'al'\n",
    "al['REO'] = al.GRANTEE1.apply(find_REO)\n",
    "\n",
    "# copies of datasets for finding the vacancy status according to the TCI survey\n",
    "\n",
    "t_copy = pd.merge(t, tci[['parcel','Date','vacant']].set_index('parcel'), how='left',left_on='parcel',right_index=True)\n",
    "t_copy = t_copy.loc[(t_copy.date < t_copy.Date)]\n",
    "\n",
    "fc_copy = pd.merge(fc, tci[['parcel','Date','vacant']].set_index('parcel'), how='left',left_on='parcel',right_index=True)\n",
    "fc_copy = fc_copy.loc[(fc_copy.date < fc_copy.Date)]\n",
    "\n",
    "al_copy = pd.merge(al, tci[['parcel','Date','vacant']].set_index('parcel'), how='left',left_on='parcel',right_index=True)\n",
    "al_copy = al_copy.loc[(al_copy.date < al_copy.Date)]"
   ]
  },
  {
   "cell_type": "code",
   "execution_count": 10,
   "metadata": {
    "collapsed": false
   },
   "outputs": [],
   "source": [
    "df = fc[['parcel','date','type']].append(t[['parcel','date','type','REO']]).append(al[['parcel','date','type']])\n",
    "df2 = fc_copy[['parcel','date','type','vacant']]\\\n",
    "        .append(t_copy[['parcel','date','type','REO','vacant']])\\\n",
    "        .append(al_copy[['parcel','date','type','vacant']])\n",
    "# df = df.fillna(False)\n",
    "df = df.sort_values(by='date')\n",
    "df2 = df2.sort_values(by='date')"
   ]
  },
  {
   "cell_type": "code",
   "execution_count": 15,
   "metadata": {
    "collapsed": false
   },
   "outputs": [],
   "source": [
    "df3 = df2.groupby('parcel').nth(-1)"
   ]
  },
  {
   "cell_type": "code",
   "execution_count": 22,
   "metadata": {
    "collapsed": false
   },
   "outputs": [
    {
     "data": {
      "text/plain": [
       "(1191, 4691)"
      ]
     },
     "execution_count": 22,
     "metadata": {},
     "output_type": "execute_result"
    }
   ],
   "source": [
    "sum(df3[df3['REO']==True].vacant),len(df3[df3['REO']==True].vacant)"
   ]
  },
  {
   "cell_type": "code",
   "execution_count": 215,
   "metadata": {
    "collapsed": false
   },
   "outputs": [
    {
     "name": "stdout",
     "output_type": "stream",
     "text": [
      "2009-10-01 00:00:00 2738\n",
      "2010-01-01 00:00:00 2697\n",
      "2010-04-01 00:00:00 2764\n",
      "2010-07-01 00:00:00 2751\n",
      "2010-10-01 00:00:00 2799\n",
      "2011-01-01 00:00:00 3024\n",
      "2011-04-01 00:00:00 3099\n",
      "2011-07-01 00:00:00 3049\n",
      "2011-10-01 00:00:00 3117\n",
      "2012-01-01 00:00:00 3217\n",
      "2012-04-01 00:00:00 3200\n",
      "2012-07-01 00:00:00 3308\n",
      "2012-10-01 00:00:00 3434\n",
      "2013-01-01 00:00:00 3523\n",
      "2013-04-01 00:00:00 3611\n",
      "2013-07-01 00:00:00 3556\n",
      "2013-10-01 00:00:00 3554\n",
      "2014-01-01 00:00:00 3605\n",
      "2014-04-01 00:00:00 3770\n",
      "2014-07-01 00:00:00 3903\n",
      "2014-10-01 00:00:00 4024\n",
      "2015-01-01 00:00:00 4153\n",
      "2015-04-01 00:00:00 4433\n"
     ]
    }
   ],
   "source": [
    "rng = pd.date_range('10/1/2009', periods=23, freq='3MS')\n",
    "status = tci[['parcel']].copy()\n",
    "\n",
    "for date in rng:\n",
    "    tem = df[df.date < date].groupby('parcel').nth(-1)\n",
    "    status = pd.merge(status, tem[['type']], how='left',left_on='parcel', right_index=True)\n",
    "    status = status.rename(columns={'type':date})\n",
    "    print(date, len(tem[tem.REO==True]))"
   ]
  },
  {
   "cell_type": "code",
   "execution_count": 20,
   "metadata": {
    "collapsed": false
   },
   "outputs": [
    {
     "ename": "NameError",
     "evalue": "name 'status' is not defined",
     "output_type": "error",
     "traceback": [
      "\u001b[0;31m---------------------------------------------------------------------------\u001b[0m",
      "\u001b[0;31mNameError\u001b[0m                                 Traceback (most recent call last)",
      "\u001b[0;32m<ipython-input-20-0cba061c25c8>\u001b[0m in \u001b[0;36m<module>\u001b[0;34m()\u001b[0m\n\u001b[0;32m----> 1\u001b[0;31m \u001b[0mstatus\u001b[0m\u001b[0;34m\u001b[0m\u001b[0m\n\u001b[0m",
      "\u001b[0;31mNameError\u001b[0m: name 'status' is not defined"
     ]
    }
   ],
   "source": [
    "status"
   ]
  },
  {
   "cell_type": "code",
   "execution_count": 216,
   "metadata": {
    "collapsed": true
   },
   "outputs": [],
   "source": [
    "status = status.set_index('parcel')\n",
    "status_copy = status.copy()\n",
    "status.loc[status.iloc[:,0]=='fc', status.columns[0]]  = 1\n",
    "status.loc[status.iloc[:,0]=='t', status.columns[0]] = 2\n",
    "status.loc[status.iloc[:,0]=='al', status.columns[0]] = 0\n",
    "status.loc[status.iloc[:,0].isnull(), status.columns[0]]  = 0"
   ]
  },
  {
   "cell_type": "code",
   "execution_count": 217,
   "metadata": {
    "collapsed": true
   },
   "outputs": [],
   "source": [
    "def get_number(x):\n",
    "    for col in range(1,23):\n",
    "        if x.iloc[col] == s[x.iloc[col-1]%3]:\n",
    "            x.iloc[col] = x.iloc[col-1]\n",
    "        elif (s[x.iloc[col-1]%3] == 'fc') & (x.iloc[col] == 't'):\n",
    "            x.iloc[col] =  x.iloc[col-1]+1\n",
    "        elif (s[x.iloc[col-1]%3] == 'fc') & (x.iloc[col] == 'al'):\n",
    "            x.iloc[col] =  x.iloc[col-1]+2\n",
    "        elif (s[x.iloc[col-1]%3] == 't') & (x.iloc[col] == 'al'):\n",
    "            x.iloc[col] =  x.iloc[col-1]+1\n",
    "        elif (s[x.iloc[col-1]%3] == 't') & (x.iloc[col] == 'fc'):\n",
    "            x.iloc[col] =  x.iloc[col-1]+2\n",
    "        elif (s[x.iloc[col-1]%3] == 'al') & (x.iloc[col] == 'fc'):\n",
    "            x.iloc[col] =  x.iloc[col-1]+1\n",
    "        elif (s[x.iloc[col-1]%3] == 'al') & (x.iloc[col] == 't'):\n",
    "            x.iloc[col] =  x.iloc[col-1]+2\n",
    "        else:\n",
    "            x.iloc[col] =  0\n",
    "    return x"
   ]
  },
  {
   "cell_type": "code",
   "execution_count": 218,
   "metadata": {
    "collapsed": true
   },
   "outputs": [],
   "source": [
    "status2 = status.apply(get_number, axis=1).copy()"
   ]
  },
  {
   "cell_type": "code",
   "execution_count": 222,
   "metadata": {
    "collapsed": true
   },
   "outputs": [],
   "source": [
    "status2.to_csv(path+'/data/clean_data/parcel_status.csv')"
   ]
  },
  {
   "cell_type": "code",
   "execution_count": 208,
   "metadata": {
    "collapsed": false
   },
   "outputs": [
    {
     "data": {
      "text/plain": [
       "Timestamp('2015-04-01 00:00:00', offset='3MS')"
      ]
     },
     "execution_count": 208,
     "metadata": {},
     "output_type": "execute_result"
    }
   ],
   "source": [
    "status.columns[-1]"
   ]
  },
  {
   "cell_type": "code",
   "execution_count": 112,
   "metadata": {
    "collapsed": false
   },
   "outputs": [],
   "source": [
    "dd.loc[dd.iloc[:,0]=='al', dd.columns[0]] = 1"
   ]
  },
  {
   "cell_type": "code",
   "execution_count": 160,
   "metadata": {
    "collapsed": false
   },
   "outputs": [],
   "source": [
    "dd = status.sample(10).copy()\n",
    "# dd = dd.set_index('parcel')\n",
    "dd.loc[dd.iloc[:,0]=='fc', dd.columns[0]]  = 1\n",
    "dd.loc[dd.iloc[:,0]=='t', dd.columns[0]] = 2\n",
    "dd.loc[dd.iloc[:,0]=='al', dd.columns[0]] = 0\n",
    "dd.loc[dd.iloc[:,0].isnull(), dd.columns[0]]  = 0"
   ]
  },
  {
   "cell_type": "code",
   "execution_count": 97,
   "metadata": {
    "collapsed": true
   },
   "outputs": [],
   "source": [
    "s = {0:'al', 1:'fc', 2:'t'}"
   ]
  },
  {
   "cell_type": "code",
   "execution_count": 220,
   "metadata": {
    "collapsed": false
   },
   "outputs": [
    {
     "data": {
      "text/plain": [
       "(4433, 23)"
      ]
     },
     "execution_count": 220,
     "metadata": {},
     "output_type": "execute_result"
    }
   ],
   "source": [
    "status_copy[status_copy.iloc[:,-1]=='t'].shape"
   ]
  },
  {
   "cell_type": "code",
   "execution_count": 221,
   "metadata": {
    "collapsed": false
   },
   "outputs": [
    {
     "data": {
      "text/plain": [
       "(4433, 23)"
      ]
     },
     "execution_count": 221,
     "metadata": {},
     "output_type": "execute_result"
    }
   ],
   "source": [
    "status2[(status2.iloc[:,-1]%3)==2].shape"
   ]
  },
  {
   "cell_type": "code",
   "execution_count": 161,
   "metadata": {
    "collapsed": false
   },
   "outputs": [],
   "source": [
    "dd= dd.iloc[:,[0,1,2]]"
   ]
  },
  {
   "cell_type": "code",
   "execution_count": 162,
   "metadata": {
    "collapsed": false
   },
   "outputs": [
    {
     "data": {
      "text/html": [
       "<div>\n",
       "<table border=\"1\" class=\"dataframe\">\n",
       "  <thead>\n",
       "    <tr style=\"text-align: right;\">\n",
       "      <th></th>\n",
       "      <th>2009-10-01 00:00:00</th>\n",
       "      <th>2010-01-01 00:00:00</th>\n",
       "      <th>2010-04-01 00:00:00</th>\n",
       "    </tr>\n",
       "    <tr>\n",
       "      <th>parcel</th>\n",
       "      <th></th>\n",
       "      <th></th>\n",
       "      <th></th>\n",
       "    </tr>\n",
       "  </thead>\n",
       "  <tbody>\n",
       "    <tr>\n",
       "      <th>135-10-043</th>\n",
       "      <td>0</td>\n",
       "      <td>NaN</td>\n",
       "      <td>NaN</td>\n",
       "    </tr>\n",
       "    <tr>\n",
       "      <th>022-13-112</th>\n",
       "      <td>0</td>\n",
       "      <td>al</td>\n",
       "      <td>al</td>\n",
       "    </tr>\n",
       "    <tr>\n",
       "      <th>018-23-137</th>\n",
       "      <td>0</td>\n",
       "      <td>al</td>\n",
       "      <td>al</td>\n",
       "    </tr>\n",
       "    <tr>\n",
       "      <th>115-27-063</th>\n",
       "      <td>0</td>\n",
       "      <td>al</td>\n",
       "      <td>al</td>\n",
       "    </tr>\n",
       "    <tr>\n",
       "      <th>138-06-020</th>\n",
       "      <td>0</td>\n",
       "      <td>al</td>\n",
       "      <td>al</td>\n",
       "    </tr>\n",
       "    <tr>\n",
       "      <th>017-29-077</th>\n",
       "      <td>1</td>\n",
       "      <td>fc</td>\n",
       "      <td>t</td>\n",
       "    </tr>\n",
       "    <tr>\n",
       "      <th>018-19-077</th>\n",
       "      <td>1</td>\n",
       "      <td>fc</td>\n",
       "      <td>fc</td>\n",
       "    </tr>\n",
       "    <tr>\n",
       "      <th>106-04-040</th>\n",
       "      <td>0</td>\n",
       "      <td>NaN</td>\n",
       "      <td>NaN</td>\n",
       "    </tr>\n",
       "    <tr>\n",
       "      <th>109-05-065</th>\n",
       "      <td>2</td>\n",
       "      <td>t</td>\n",
       "      <td>t</td>\n",
       "    </tr>\n",
       "    <tr>\n",
       "      <th>120-05-066</th>\n",
       "      <td>1</td>\n",
       "      <td>fc</td>\n",
       "      <td>fc</td>\n",
       "    </tr>\n",
       "  </tbody>\n",
       "</table>\n",
       "</div>"
      ],
      "text/plain": [
       "           2009-10-01 00:00:00 2010-01-01 00:00:00 2010-04-01 00:00:00\n",
       "parcel                                                                \n",
       "135-10-043                   0                 NaN                 NaN\n",
       "022-13-112                   0                  al                  al\n",
       "018-23-137                   0                  al                  al\n",
       "115-27-063                   0                  al                  al\n",
       "138-06-020                   0                  al                  al\n",
       "017-29-077                   1                  fc                   t\n",
       "018-19-077                   1                  fc                  fc\n",
       "106-04-040                   0                 NaN                 NaN\n",
       "109-05-065                   2                   t                   t\n",
       "120-05-066                   1                  fc                  fc"
      ]
     },
     "execution_count": 162,
     "metadata": {},
     "output_type": "execute_result"
    }
   ],
   "source": [
    "dd"
   ]
  },
  {
   "cell_type": "code",
   "execution_count": 165,
   "metadata": {
    "collapsed": false
   },
   "outputs": [
    {
     "data": {
      "text/html": [
       "<div>\n",
       "<table border=\"1\" class=\"dataframe\">\n",
       "  <thead>\n",
       "    <tr style=\"text-align: right;\">\n",
       "      <th></th>\n",
       "      <th>2009-10-01 00:00:00</th>\n",
       "      <th>2010-01-01 00:00:00</th>\n",
       "      <th>2010-04-01 00:00:00</th>\n",
       "    </tr>\n",
       "    <tr>\n",
       "      <th>parcel</th>\n",
       "      <th></th>\n",
       "      <th></th>\n",
       "      <th></th>\n",
       "    </tr>\n",
       "  </thead>\n",
       "  <tbody>\n",
       "    <tr>\n",
       "      <th>135-10-043</th>\n",
       "      <td>0</td>\n",
       "      <td>0</td>\n",
       "      <td>0</td>\n",
       "    </tr>\n",
       "    <tr>\n",
       "      <th>022-13-112</th>\n",
       "      <td>0</td>\n",
       "      <td>0</td>\n",
       "      <td>0</td>\n",
       "    </tr>\n",
       "    <tr>\n",
       "      <th>018-23-137</th>\n",
       "      <td>0</td>\n",
       "      <td>0</td>\n",
       "      <td>0</td>\n",
       "    </tr>\n",
       "    <tr>\n",
       "      <th>115-27-063</th>\n",
       "      <td>0</td>\n",
       "      <td>0</td>\n",
       "      <td>0</td>\n",
       "    </tr>\n",
       "    <tr>\n",
       "      <th>138-06-020</th>\n",
       "      <td>0</td>\n",
       "      <td>0</td>\n",
       "      <td>0</td>\n",
       "    </tr>\n",
       "    <tr>\n",
       "      <th>017-29-077</th>\n",
       "      <td>1</td>\n",
       "      <td>1</td>\n",
       "      <td>2</td>\n",
       "    </tr>\n",
       "    <tr>\n",
       "      <th>018-19-077</th>\n",
       "      <td>1</td>\n",
       "      <td>1</td>\n",
       "      <td>1</td>\n",
       "    </tr>\n",
       "    <tr>\n",
       "      <th>106-04-040</th>\n",
       "      <td>0</td>\n",
       "      <td>0</td>\n",
       "      <td>0</td>\n",
       "    </tr>\n",
       "    <tr>\n",
       "      <th>109-05-065</th>\n",
       "      <td>2</td>\n",
       "      <td>2</td>\n",
       "      <td>2</td>\n",
       "    </tr>\n",
       "    <tr>\n",
       "      <th>120-05-066</th>\n",
       "      <td>1</td>\n",
       "      <td>1</td>\n",
       "      <td>1</td>\n",
       "    </tr>\n",
       "  </tbody>\n",
       "</table>\n",
       "</div>"
      ],
      "text/plain": [
       "            2009-10-01  2010-01-01  2010-04-01\n",
       "parcel                                        \n",
       "135-10-043           0           0           0\n",
       "022-13-112           0           0           0\n",
       "018-23-137           0           0           0\n",
       "115-27-063           0           0           0\n",
       "138-06-020           0           0           0\n",
       "017-29-077           1           1           2\n",
       "018-19-077           1           1           1\n",
       "106-04-040           0           0           0\n",
       "109-05-065           2           2           2\n",
       "120-05-066           1           1           1"
      ]
     },
     "execution_count": 165,
     "metadata": {},
     "output_type": "execute_result"
    }
   ],
   "source": [
    "dd.apply(get_number, axis=1)"
   ]
  },
  {
   "cell_type": "code",
   "execution_count": 193,
   "metadata": {
    "collapsed": false
   },
   "outputs": [
    {
     "data": {
      "text/plain": [
       "2009-10-01    2\n",
       "2010-01-01    4\n",
       "2010-04-01    6\n",
       "2010-07-01    6\n",
       "2010-10-01    6\n",
       "2011-01-01    6\n",
       "2011-04-01    6\n",
       "2011-07-01    8\n",
       "2011-10-01    8\n",
       "2012-01-01    8\n",
       "2012-04-01    8\n",
       "2012-07-01    8\n",
       "2012-10-01    9\n",
       "2013-01-01    9\n",
       "2013-04-01    9\n",
       "2013-07-01    9\n",
       "2013-10-01    9\n",
       "2014-01-01    9\n",
       "2014-04-01    9\n",
       "2014-07-01    9\n",
       "2014-10-01    9\n",
       "2015-01-01    9\n",
       "2015-04-01    9\n",
       "dtype: int64"
      ]
     },
     "execution_count": 193,
     "metadata": {},
     "output_type": "execute_result"
    }
   ],
   "source": [
    "status.apply(max,axis=0)"
   ]
  },
  {
   "cell_type": "code",
   "execution_count": 197,
   "metadata": {
    "collapsed": false
   },
   "outputs": [
    {
     "data": {
      "text/html": [
       "<div>\n",
       "<table border=\"1\" class=\"dataframe\">\n",
       "  <thead>\n",
       "    <tr style=\"text-align: right;\">\n",
       "      <th></th>\n",
       "      <th>REO</th>\n",
       "      <th>date</th>\n",
       "      <th>parcel</th>\n",
       "      <th>type</th>\n",
       "    </tr>\n",
       "  </thead>\n",
       "  <tbody>\n",
       "    <tr>\n",
       "      <th>37688</th>\n",
       "      <td>NaN</td>\n",
       "      <td>2000-03-20</td>\n",
       "      <td>005-24-063</td>\n",
       "      <td>al</td>\n",
       "    </tr>\n",
       "    <tr>\n",
       "      <th>63619</th>\n",
       "      <td>NaN</td>\n",
       "      <td>2001-04-18</td>\n",
       "      <td>005-24-063</td>\n",
       "      <td>al</td>\n",
       "    </tr>\n",
       "    <tr>\n",
       "      <th>328</th>\n",
       "      <td>NaN</td>\n",
       "      <td>2005-09-26</td>\n",
       "      <td>005-24-063</td>\n",
       "      <td>al</td>\n",
       "    </tr>\n",
       "    <tr>\n",
       "      <th>15115</th>\n",
       "      <td>True</td>\n",
       "      <td>2005-09-26</td>\n",
       "      <td>005-24-063</td>\n",
       "      <td>t</td>\n",
       "    </tr>\n",
       "    <tr>\n",
       "      <th>1891</th>\n",
       "      <td>NaN</td>\n",
       "      <td>2009-11-10</td>\n",
       "      <td>005-24-063</td>\n",
       "      <td>fc</td>\n",
       "    </tr>\n",
       "    <tr>\n",
       "      <th>15117</th>\n",
       "      <td>False</td>\n",
       "      <td>2010-09-01</td>\n",
       "      <td>005-24-063</td>\n",
       "      <td>t</td>\n",
       "    </tr>\n",
       "    <tr>\n",
       "      <th>77372</th>\n",
       "      <td>NaN</td>\n",
       "      <td>2013-01-31</td>\n",
       "      <td>005-24-063</td>\n",
       "      <td>al</td>\n",
       "    </tr>\n",
       "  </tbody>\n",
       "</table>\n",
       "</div>"
      ],
      "text/plain": [
       "         REO       date      parcel type\n",
       "37688    NaN 2000-03-20  005-24-063   al\n",
       "63619    NaN 2001-04-18  005-24-063   al\n",
       "328      NaN 2005-09-26  005-24-063   al\n",
       "15115   True 2005-09-26  005-24-063    t\n",
       "1891     NaN 2009-11-10  005-24-063   fc\n",
       "15117  False 2010-09-01  005-24-063    t\n",
       "77372    NaN 2013-01-31  005-24-063   al"
      ]
     },
     "execution_count": 197,
     "metadata": {},
     "output_type": "execute_result"
    }
   ],
   "source": [
    "df[df.parcel=='005-24-063']"
   ]
  },
  {
   "cell_type": "code",
   "execution_count": 195,
   "metadata": {
    "collapsed": false
   },
   "outputs": [
    {
     "data": {
      "text/html": [
       "<div>\n",
       "<table border=\"1\" class=\"dataframe\">\n",
       "  <thead>\n",
       "    <tr style=\"text-align: right;\">\n",
       "      <th></th>\n",
       "      <th>2009-10-01 00:00:00</th>\n",
       "      <th>2010-01-01 00:00:00</th>\n",
       "      <th>2010-04-01 00:00:00</th>\n",
       "      <th>2010-07-01 00:00:00</th>\n",
       "      <th>2010-10-01 00:00:00</th>\n",
       "      <th>2011-01-01 00:00:00</th>\n",
       "      <th>2011-04-01 00:00:00</th>\n",
       "      <th>2011-07-01 00:00:00</th>\n",
       "      <th>2011-10-01 00:00:00</th>\n",
       "      <th>2012-01-01 00:00:00</th>\n",
       "      <th>...</th>\n",
       "      <th>2013-01-01 00:00:00</th>\n",
       "      <th>2013-04-01 00:00:00</th>\n",
       "      <th>2013-07-01 00:00:00</th>\n",
       "      <th>2013-10-01 00:00:00</th>\n",
       "      <th>2014-01-01 00:00:00</th>\n",
       "      <th>2014-04-01 00:00:00</th>\n",
       "      <th>2014-07-01 00:00:00</th>\n",
       "      <th>2014-10-01 00:00:00</th>\n",
       "      <th>2015-01-01 00:00:00</th>\n",
       "      <th>2015-04-01 00:00:00</th>\n",
       "    </tr>\n",
       "    <tr>\n",
       "      <th>parcel</th>\n",
       "      <th></th>\n",
       "      <th></th>\n",
       "      <th></th>\n",
       "      <th></th>\n",
       "      <th></th>\n",
       "      <th></th>\n",
       "      <th></th>\n",
       "      <th></th>\n",
       "      <th></th>\n",
       "      <th></th>\n",
       "      <th></th>\n",
       "      <th></th>\n",
       "      <th></th>\n",
       "      <th></th>\n",
       "      <th></th>\n",
       "      <th></th>\n",
       "      <th></th>\n",
       "      <th></th>\n",
       "      <th></th>\n",
       "      <th></th>\n",
       "      <th></th>\n",
       "    </tr>\n",
       "  </thead>\n",
       "  <tbody>\n",
       "    <tr>\n",
       "      <th>005-24-063</th>\n",
       "      <td>2</td>\n",
       "      <td>4</td>\n",
       "      <td>4</td>\n",
       "      <td>4</td>\n",
       "      <td>5</td>\n",
       "      <td>5</td>\n",
       "      <td>5</td>\n",
       "      <td>5</td>\n",
       "      <td>5</td>\n",
       "      <td>5</td>\n",
       "      <td>...</td>\n",
       "      <td>5</td>\n",
       "      <td>6</td>\n",
       "      <td>6</td>\n",
       "      <td>6</td>\n",
       "      <td>6</td>\n",
       "      <td>6</td>\n",
       "      <td>6</td>\n",
       "      <td>6</td>\n",
       "      <td>6</td>\n",
       "      <td>6</td>\n",
       "    </tr>\n",
       "    <tr>\n",
       "      <th>015-08-015</th>\n",
       "      <td>2</td>\n",
       "      <td>4</td>\n",
       "      <td>4</td>\n",
       "      <td>4</td>\n",
       "      <td>4</td>\n",
       "      <td>4</td>\n",
       "      <td>4</td>\n",
       "      <td>4</td>\n",
       "      <td>4</td>\n",
       "      <td>4</td>\n",
       "      <td>...</td>\n",
       "      <td>4</td>\n",
       "      <td>4</td>\n",
       "      <td>4</td>\n",
       "      <td>4</td>\n",
       "      <td>4</td>\n",
       "      <td>4</td>\n",
       "      <td>4</td>\n",
       "      <td>4</td>\n",
       "      <td>4</td>\n",
       "      <td>4</td>\n",
       "    </tr>\n",
       "    <tr>\n",
       "      <th>015-13-101</th>\n",
       "      <td>2</td>\n",
       "      <td>4</td>\n",
       "      <td>4</td>\n",
       "      <td>4</td>\n",
       "      <td>4</td>\n",
       "      <td>4</td>\n",
       "      <td>4</td>\n",
       "      <td>6</td>\n",
       "      <td>6</td>\n",
       "      <td>6</td>\n",
       "      <td>...</td>\n",
       "      <td>6</td>\n",
       "      <td>6</td>\n",
       "      <td>6</td>\n",
       "      <td>6</td>\n",
       "      <td>6</td>\n",
       "      <td>6</td>\n",
       "      <td>6</td>\n",
       "      <td>6</td>\n",
       "      <td>6</td>\n",
       "      <td>6</td>\n",
       "    </tr>\n",
       "    <tr>\n",
       "      <th>016-11-163</th>\n",
       "      <td>2</td>\n",
       "      <td>4</td>\n",
       "      <td>4</td>\n",
       "      <td>4</td>\n",
       "      <td>4</td>\n",
       "      <td>5</td>\n",
       "      <td>5</td>\n",
       "      <td>5</td>\n",
       "      <td>5</td>\n",
       "      <td>5</td>\n",
       "      <td>...</td>\n",
       "      <td>5</td>\n",
       "      <td>5</td>\n",
       "      <td>5</td>\n",
       "      <td>5</td>\n",
       "      <td>5</td>\n",
       "      <td>5</td>\n",
       "      <td>5</td>\n",
       "      <td>5</td>\n",
       "      <td>5</td>\n",
       "      <td>5</td>\n",
       "    </tr>\n",
       "    <tr>\n",
       "      <th>016-12-148</th>\n",
       "      <td>2</td>\n",
       "      <td>4</td>\n",
       "      <td>4</td>\n",
       "      <td>4</td>\n",
       "      <td>6</td>\n",
       "      <td>6</td>\n",
       "      <td>6</td>\n",
       "      <td>6</td>\n",
       "      <td>6</td>\n",
       "      <td>6</td>\n",
       "      <td>...</td>\n",
       "      <td>6</td>\n",
       "      <td>6</td>\n",
       "      <td>6</td>\n",
       "      <td>6</td>\n",
       "      <td>6</td>\n",
       "      <td>6</td>\n",
       "      <td>6</td>\n",
       "      <td>6</td>\n",
       "      <td>6</td>\n",
       "      <td>7</td>\n",
       "    </tr>\n",
       "    <tr>\n",
       "      <th>016-14-059</th>\n",
       "      <td>2</td>\n",
       "      <td>4</td>\n",
       "      <td>4</td>\n",
       "      <td>4</td>\n",
       "      <td>4</td>\n",
       "      <td>4</td>\n",
       "      <td>4</td>\n",
       "      <td>4</td>\n",
       "      <td>4</td>\n",
       "      <td>4</td>\n",
       "      <td>...</td>\n",
       "      <td>4</td>\n",
       "      <td>4</td>\n",
       "      <td>4</td>\n",
       "      <td>4</td>\n",
       "      <td>4</td>\n",
       "      <td>4</td>\n",
       "      <td>4</td>\n",
       "      <td>4</td>\n",
       "      <td>4</td>\n",
       "      <td>4</td>\n",
       "    </tr>\n",
       "    <tr>\n",
       "      <th>016-23-053</th>\n",
       "      <td>2</td>\n",
       "      <td>4</td>\n",
       "      <td>4</td>\n",
       "      <td>4</td>\n",
       "      <td>4</td>\n",
       "      <td>6</td>\n",
       "      <td>6</td>\n",
       "      <td>6</td>\n",
       "      <td>6</td>\n",
       "      <td>6</td>\n",
       "      <td>...</td>\n",
       "      <td>6</td>\n",
       "      <td>6</td>\n",
       "      <td>6</td>\n",
       "      <td>6</td>\n",
       "      <td>6</td>\n",
       "      <td>6</td>\n",
       "      <td>6</td>\n",
       "      <td>6</td>\n",
       "      <td>6</td>\n",
       "      <td>6</td>\n",
       "    </tr>\n",
       "    <tr>\n",
       "      <th>017-18-004</th>\n",
       "      <td>2</td>\n",
       "      <td>4</td>\n",
       "      <td>4</td>\n",
       "      <td>4</td>\n",
       "      <td>4</td>\n",
       "      <td>4</td>\n",
       "      <td>6</td>\n",
       "      <td>6</td>\n",
       "      <td>6</td>\n",
       "      <td>6</td>\n",
       "      <td>...</td>\n",
       "      <td>6</td>\n",
       "      <td>6</td>\n",
       "      <td>6</td>\n",
       "      <td>6</td>\n",
       "      <td>6</td>\n",
       "      <td>6</td>\n",
       "      <td>6</td>\n",
       "      <td>6</td>\n",
       "      <td>6</td>\n",
       "      <td>6</td>\n",
       "    </tr>\n",
       "    <tr>\n",
       "      <th>018-02-121</th>\n",
       "      <td>2</td>\n",
       "      <td>4</td>\n",
       "      <td>4</td>\n",
       "      <td>4</td>\n",
       "      <td>4</td>\n",
       "      <td>4</td>\n",
       "      <td>4</td>\n",
       "      <td>4</td>\n",
       "      <td>4</td>\n",
       "      <td>4</td>\n",
       "      <td>...</td>\n",
       "      <td>4</td>\n",
       "      <td>4</td>\n",
       "      <td>4</td>\n",
       "      <td>4</td>\n",
       "      <td>4</td>\n",
       "      <td>4</td>\n",
       "      <td>4</td>\n",
       "      <td>4</td>\n",
       "      <td>4</td>\n",
       "      <td>4</td>\n",
       "    </tr>\n",
       "    <tr>\n",
       "      <th>018-28-001</th>\n",
       "      <td>2</td>\n",
       "      <td>4</td>\n",
       "      <td>4</td>\n",
       "      <td>6</td>\n",
       "      <td>6</td>\n",
       "      <td>6</td>\n",
       "      <td>6</td>\n",
       "      <td>6</td>\n",
       "      <td>6</td>\n",
       "      <td>6</td>\n",
       "      <td>...</td>\n",
       "      <td>6</td>\n",
       "      <td>6</td>\n",
       "      <td>6</td>\n",
       "      <td>6</td>\n",
       "      <td>6</td>\n",
       "      <td>6</td>\n",
       "      <td>6</td>\n",
       "      <td>6</td>\n",
       "      <td>6</td>\n",
       "      <td>6</td>\n",
       "    </tr>\n",
       "    <tr>\n",
       "      <th>020-03-106</th>\n",
       "      <td>2</td>\n",
       "      <td>4</td>\n",
       "      <td>4</td>\n",
       "      <td>4</td>\n",
       "      <td>4</td>\n",
       "      <td>4</td>\n",
       "      <td>4</td>\n",
       "      <td>4</td>\n",
       "      <td>4</td>\n",
       "      <td>4</td>\n",
       "      <td>...</td>\n",
       "      <td>4</td>\n",
       "      <td>4</td>\n",
       "      <td>4</td>\n",
       "      <td>4</td>\n",
       "      <td>4</td>\n",
       "      <td>4</td>\n",
       "      <td>4</td>\n",
       "      <td>4</td>\n",
       "      <td>4</td>\n",
       "      <td>4</td>\n",
       "    </tr>\n",
       "    <tr>\n",
       "      <th>021-22-071</th>\n",
       "      <td>2</td>\n",
       "      <td>4</td>\n",
       "      <td>4</td>\n",
       "      <td>4</td>\n",
       "      <td>4</td>\n",
       "      <td>4</td>\n",
       "      <td>5</td>\n",
       "      <td>5</td>\n",
       "      <td>5</td>\n",
       "      <td>5</td>\n",
       "      <td>...</td>\n",
       "      <td>5</td>\n",
       "      <td>5</td>\n",
       "      <td>5</td>\n",
       "      <td>5</td>\n",
       "      <td>5</td>\n",
       "      <td>5</td>\n",
       "      <td>5</td>\n",
       "      <td>5</td>\n",
       "      <td>7</td>\n",
       "      <td>7</td>\n",
       "    </tr>\n",
       "    <tr>\n",
       "      <th>022-21-027</th>\n",
       "      <td>2</td>\n",
       "      <td>4</td>\n",
       "      <td>4</td>\n",
       "      <td>4</td>\n",
       "      <td>6</td>\n",
       "      <td>6</td>\n",
       "      <td>6</td>\n",
       "      <td>6</td>\n",
       "      <td>6</td>\n",
       "      <td>6</td>\n",
       "      <td>...</td>\n",
       "      <td>6</td>\n",
       "      <td>6</td>\n",
       "      <td>6</td>\n",
       "      <td>6</td>\n",
       "      <td>6</td>\n",
       "      <td>6</td>\n",
       "      <td>6</td>\n",
       "      <td>6</td>\n",
       "      <td>6</td>\n",
       "      <td>6</td>\n",
       "    </tr>\n",
       "    <tr>\n",
       "      <th>103-23-042</th>\n",
       "      <td>2</td>\n",
       "      <td>4</td>\n",
       "      <td>4</td>\n",
       "      <td>4</td>\n",
       "      <td>4</td>\n",
       "      <td>4</td>\n",
       "      <td>4</td>\n",
       "      <td>5</td>\n",
       "      <td>5</td>\n",
       "      <td>5</td>\n",
       "      <td>...</td>\n",
       "      <td>5</td>\n",
       "      <td>5</td>\n",
       "      <td>5</td>\n",
       "      <td>5</td>\n",
       "      <td>5</td>\n",
       "      <td>5</td>\n",
       "      <td>5</td>\n",
       "      <td>5</td>\n",
       "      <td>5</td>\n",
       "      <td>5</td>\n",
       "    </tr>\n",
       "    <tr>\n",
       "      <th>106-22-080</th>\n",
       "      <td>2</td>\n",
       "      <td>4</td>\n",
       "      <td>4</td>\n",
       "      <td>4</td>\n",
       "      <td>4</td>\n",
       "      <td>4</td>\n",
       "      <td>4</td>\n",
       "      <td>4</td>\n",
       "      <td>4</td>\n",
       "      <td>6</td>\n",
       "      <td>...</td>\n",
       "      <td>6</td>\n",
       "      <td>6</td>\n",
       "      <td>6</td>\n",
       "      <td>6</td>\n",
       "      <td>6</td>\n",
       "      <td>6</td>\n",
       "      <td>6</td>\n",
       "      <td>6</td>\n",
       "      <td>6</td>\n",
       "      <td>6</td>\n",
       "    </tr>\n",
       "    <tr>\n",
       "      <th>107-05-067</th>\n",
       "      <td>2</td>\n",
       "      <td>4</td>\n",
       "      <td>4</td>\n",
       "      <td>4</td>\n",
       "      <td>4</td>\n",
       "      <td>4</td>\n",
       "      <td>4</td>\n",
       "      <td>4</td>\n",
       "      <td>4</td>\n",
       "      <td>4</td>\n",
       "      <td>...</td>\n",
       "      <td>4</td>\n",
       "      <td>4</td>\n",
       "      <td>4</td>\n",
       "      <td>4</td>\n",
       "      <td>4</td>\n",
       "      <td>4</td>\n",
       "      <td>4</td>\n",
       "      <td>4</td>\n",
       "      <td>4</td>\n",
       "      <td>4</td>\n",
       "    </tr>\n",
       "    <tr>\n",
       "      <th>108-06-008</th>\n",
       "      <td>2</td>\n",
       "      <td>4</td>\n",
       "      <td>4</td>\n",
       "      <td>4</td>\n",
       "      <td>4</td>\n",
       "      <td>4</td>\n",
       "      <td>4</td>\n",
       "      <td>4</td>\n",
       "      <td>6</td>\n",
       "      <td>6</td>\n",
       "      <td>...</td>\n",
       "      <td>6</td>\n",
       "      <td>6</td>\n",
       "      <td>6</td>\n",
       "      <td>6</td>\n",
       "      <td>6</td>\n",
       "      <td>6</td>\n",
       "      <td>6</td>\n",
       "      <td>6</td>\n",
       "      <td>6</td>\n",
       "      <td>6</td>\n",
       "    </tr>\n",
       "    <tr>\n",
       "      <th>108-27-010</th>\n",
       "      <td>2</td>\n",
       "      <td>4</td>\n",
       "      <td>4</td>\n",
       "      <td>4</td>\n",
       "      <td>6</td>\n",
       "      <td>6</td>\n",
       "      <td>6</td>\n",
       "      <td>6</td>\n",
       "      <td>6</td>\n",
       "      <td>6</td>\n",
       "      <td>...</td>\n",
       "      <td>6</td>\n",
       "      <td>6</td>\n",
       "      <td>6</td>\n",
       "      <td>6</td>\n",
       "      <td>6</td>\n",
       "      <td>6</td>\n",
       "      <td>6</td>\n",
       "      <td>6</td>\n",
       "      <td>6</td>\n",
       "      <td>6</td>\n",
       "    </tr>\n",
       "    <tr>\n",
       "      <th>108-28-093</th>\n",
       "      <td>2</td>\n",
       "      <td>4</td>\n",
       "      <td>4</td>\n",
       "      <td>4</td>\n",
       "      <td>4</td>\n",
       "      <td>4</td>\n",
       "      <td>4</td>\n",
       "      <td>4</td>\n",
       "      <td>6</td>\n",
       "      <td>6</td>\n",
       "      <td>...</td>\n",
       "      <td>6</td>\n",
       "      <td>6</td>\n",
       "      <td>6</td>\n",
       "      <td>6</td>\n",
       "      <td>6</td>\n",
       "      <td>6</td>\n",
       "      <td>6</td>\n",
       "      <td>6</td>\n",
       "      <td>6</td>\n",
       "      <td>6</td>\n",
       "    </tr>\n",
       "    <tr>\n",
       "      <th>110-14-065</th>\n",
       "      <td>2</td>\n",
       "      <td>4</td>\n",
       "      <td>4</td>\n",
       "      <td>4</td>\n",
       "      <td>4</td>\n",
       "      <td>4</td>\n",
       "      <td>4</td>\n",
       "      <td>4</td>\n",
       "      <td>4</td>\n",
       "      <td>4</td>\n",
       "      <td>...</td>\n",
       "      <td>4</td>\n",
       "      <td>4</td>\n",
       "      <td>4</td>\n",
       "      <td>4</td>\n",
       "      <td>4</td>\n",
       "      <td>4</td>\n",
       "      <td>4</td>\n",
       "      <td>4</td>\n",
       "      <td>4</td>\n",
       "      <td>4</td>\n",
       "    </tr>\n",
       "    <tr>\n",
       "      <th>111-05-118</th>\n",
       "      <td>2</td>\n",
       "      <td>4</td>\n",
       "      <td>4</td>\n",
       "      <td>4</td>\n",
       "      <td>4</td>\n",
       "      <td>4</td>\n",
       "      <td>4</td>\n",
       "      <td>4</td>\n",
       "      <td>4</td>\n",
       "      <td>4</td>\n",
       "      <td>...</td>\n",
       "      <td>4</td>\n",
       "      <td>4</td>\n",
       "      <td>4</td>\n",
       "      <td>4</td>\n",
       "      <td>4</td>\n",
       "      <td>4</td>\n",
       "      <td>4</td>\n",
       "      <td>4</td>\n",
       "      <td>4</td>\n",
       "      <td>4</td>\n",
       "    </tr>\n",
       "    <tr>\n",
       "      <th>112-25-038</th>\n",
       "      <td>2</td>\n",
       "      <td>4</td>\n",
       "      <td>4</td>\n",
       "      <td>4</td>\n",
       "      <td>4</td>\n",
       "      <td>6</td>\n",
       "      <td>6</td>\n",
       "      <td>6</td>\n",
       "      <td>6</td>\n",
       "      <td>6</td>\n",
       "      <td>...</td>\n",
       "      <td>6</td>\n",
       "      <td>6</td>\n",
       "      <td>6</td>\n",
       "      <td>6</td>\n",
       "      <td>6</td>\n",
       "      <td>6</td>\n",
       "      <td>6</td>\n",
       "      <td>6</td>\n",
       "      <td>6</td>\n",
       "      <td>6</td>\n",
       "    </tr>\n",
       "    <tr>\n",
       "      <th>116-29-154</th>\n",
       "      <td>2</td>\n",
       "      <td>4</td>\n",
       "      <td>4</td>\n",
       "      <td>4</td>\n",
       "      <td>4</td>\n",
       "      <td>4</td>\n",
       "      <td>4</td>\n",
       "      <td>4</td>\n",
       "      <td>4</td>\n",
       "      <td>4</td>\n",
       "      <td>...</td>\n",
       "      <td>6</td>\n",
       "      <td>6</td>\n",
       "      <td>6</td>\n",
       "      <td>6</td>\n",
       "      <td>6</td>\n",
       "      <td>6</td>\n",
       "      <td>6</td>\n",
       "      <td>6</td>\n",
       "      <td>6</td>\n",
       "      <td>6</td>\n",
       "    </tr>\n",
       "    <tr>\n",
       "      <th>117-11-042</th>\n",
       "      <td>2</td>\n",
       "      <td>4</td>\n",
       "      <td>6</td>\n",
       "      <td>6</td>\n",
       "      <td>6</td>\n",
       "      <td>6</td>\n",
       "      <td>6</td>\n",
       "      <td>6</td>\n",
       "      <td>6</td>\n",
       "      <td>6</td>\n",
       "      <td>...</td>\n",
       "      <td>6</td>\n",
       "      <td>6</td>\n",
       "      <td>6</td>\n",
       "      <td>6</td>\n",
       "      <td>6</td>\n",
       "      <td>6</td>\n",
       "      <td>6</td>\n",
       "      <td>6</td>\n",
       "      <td>6</td>\n",
       "      <td>6</td>\n",
       "    </tr>\n",
       "    <tr>\n",
       "      <th>119-30-095</th>\n",
       "      <td>2</td>\n",
       "      <td>4</td>\n",
       "      <td>4</td>\n",
       "      <td>6</td>\n",
       "      <td>6</td>\n",
       "      <td>6</td>\n",
       "      <td>6</td>\n",
       "      <td>6</td>\n",
       "      <td>6</td>\n",
       "      <td>6</td>\n",
       "      <td>...</td>\n",
       "      <td>6</td>\n",
       "      <td>6</td>\n",
       "      <td>6</td>\n",
       "      <td>6</td>\n",
       "      <td>6</td>\n",
       "      <td>6</td>\n",
       "      <td>6</td>\n",
       "      <td>6</td>\n",
       "      <td>7</td>\n",
       "      <td>7</td>\n",
       "    </tr>\n",
       "    <tr>\n",
       "      <th>120-14-056</th>\n",
       "      <td>2</td>\n",
       "      <td>4</td>\n",
       "      <td>4</td>\n",
       "      <td>4</td>\n",
       "      <td>4</td>\n",
       "      <td>4</td>\n",
       "      <td>4</td>\n",
       "      <td>4</td>\n",
       "      <td>4</td>\n",
       "      <td>4</td>\n",
       "      <td>...</td>\n",
       "      <td>4</td>\n",
       "      <td>4</td>\n",
       "      <td>4</td>\n",
       "      <td>4</td>\n",
       "      <td>4</td>\n",
       "      <td>4</td>\n",
       "      <td>4</td>\n",
       "      <td>4</td>\n",
       "      <td>4</td>\n",
       "      <td>4</td>\n",
       "    </tr>\n",
       "    <tr>\n",
       "      <th>121-33-059</th>\n",
       "      <td>2</td>\n",
       "      <td>4</td>\n",
       "      <td>4</td>\n",
       "      <td>4</td>\n",
       "      <td>4</td>\n",
       "      <td>4</td>\n",
       "      <td>4</td>\n",
       "      <td>4</td>\n",
       "      <td>4</td>\n",
       "      <td>4</td>\n",
       "      <td>...</td>\n",
       "      <td>4</td>\n",
       "      <td>4</td>\n",
       "      <td>4</td>\n",
       "      <td>4</td>\n",
       "      <td>4</td>\n",
       "      <td>4</td>\n",
       "      <td>4</td>\n",
       "      <td>4</td>\n",
       "      <td>4</td>\n",
       "      <td>4</td>\n",
       "    </tr>\n",
       "    <tr>\n",
       "      <th>123-31-064</th>\n",
       "      <td>2</td>\n",
       "      <td>4</td>\n",
       "      <td>4</td>\n",
       "      <td>4</td>\n",
       "      <td>4</td>\n",
       "      <td>4</td>\n",
       "      <td>4</td>\n",
       "      <td>4</td>\n",
       "      <td>4</td>\n",
       "      <td>4</td>\n",
       "      <td>...</td>\n",
       "      <td>4</td>\n",
       "      <td>4</td>\n",
       "      <td>4</td>\n",
       "      <td>4</td>\n",
       "      <td>4</td>\n",
       "      <td>4</td>\n",
       "      <td>4</td>\n",
       "      <td>4</td>\n",
       "      <td>4</td>\n",
       "      <td>4</td>\n",
       "    </tr>\n",
       "    <tr>\n",
       "      <th>125-01-007</th>\n",
       "      <td>2</td>\n",
       "      <td>4</td>\n",
       "      <td>4</td>\n",
       "      <td>4</td>\n",
       "      <td>4</td>\n",
       "      <td>4</td>\n",
       "      <td>4</td>\n",
       "      <td>4</td>\n",
       "      <td>4</td>\n",
       "      <td>4</td>\n",
       "      <td>...</td>\n",
       "      <td>4</td>\n",
       "      <td>4</td>\n",
       "      <td>4</td>\n",
       "      <td>4</td>\n",
       "      <td>4</td>\n",
       "      <td>4</td>\n",
       "      <td>4</td>\n",
       "      <td>4</td>\n",
       "      <td>4</td>\n",
       "      <td>4</td>\n",
       "    </tr>\n",
       "    <tr>\n",
       "      <th>128-13-040</th>\n",
       "      <td>2</td>\n",
       "      <td>4</td>\n",
       "      <td>4</td>\n",
       "      <td>4</td>\n",
       "      <td>4</td>\n",
       "      <td>4</td>\n",
       "      <td>4</td>\n",
       "      <td>4</td>\n",
       "      <td>4</td>\n",
       "      <td>5</td>\n",
       "      <td>...</td>\n",
       "      <td>5</td>\n",
       "      <td>5</td>\n",
       "      <td>5</td>\n",
       "      <td>6</td>\n",
       "      <td>6</td>\n",
       "      <td>6</td>\n",
       "      <td>6</td>\n",
       "      <td>6</td>\n",
       "      <td>6</td>\n",
       "      <td>6</td>\n",
       "    </tr>\n",
       "    <tr>\n",
       "      <th>129-16-064</th>\n",
       "      <td>2</td>\n",
       "      <td>4</td>\n",
       "      <td>4</td>\n",
       "      <td>4</td>\n",
       "      <td>4</td>\n",
       "      <td>4</td>\n",
       "      <td>4</td>\n",
       "      <td>4</td>\n",
       "      <td>4</td>\n",
       "      <td>4</td>\n",
       "      <td>...</td>\n",
       "      <td>4</td>\n",
       "      <td>4</td>\n",
       "      <td>4</td>\n",
       "      <td>4</td>\n",
       "      <td>4</td>\n",
       "      <td>4</td>\n",
       "      <td>4</td>\n",
       "      <td>4</td>\n",
       "      <td>4</td>\n",
       "      <td>6</td>\n",
       "    </tr>\n",
       "    <tr>\n",
       "      <th>129-22-099</th>\n",
       "      <td>2</td>\n",
       "      <td>4</td>\n",
       "      <td>4</td>\n",
       "      <td>4</td>\n",
       "      <td>4</td>\n",
       "      <td>4</td>\n",
       "      <td>4</td>\n",
       "      <td>4</td>\n",
       "      <td>4</td>\n",
       "      <td>4</td>\n",
       "      <td>...</td>\n",
       "      <td>6</td>\n",
       "      <td>6</td>\n",
       "      <td>6</td>\n",
       "      <td>6</td>\n",
       "      <td>6</td>\n",
       "      <td>6</td>\n",
       "      <td>6</td>\n",
       "      <td>6</td>\n",
       "      <td>6</td>\n",
       "      <td>6</td>\n",
       "    </tr>\n",
       "    <tr>\n",
       "      <th>129-23-053</th>\n",
       "      <td>2</td>\n",
       "      <td>4</td>\n",
       "      <td>4</td>\n",
       "      <td>4</td>\n",
       "      <td>4</td>\n",
       "      <td>4</td>\n",
       "      <td>4</td>\n",
       "      <td>4</td>\n",
       "      <td>4</td>\n",
       "      <td>4</td>\n",
       "      <td>...</td>\n",
       "      <td>4</td>\n",
       "      <td>6</td>\n",
       "      <td>6</td>\n",
       "      <td>6</td>\n",
       "      <td>6</td>\n",
       "      <td>6</td>\n",
       "      <td>6</td>\n",
       "      <td>6</td>\n",
       "      <td>6</td>\n",
       "      <td>6</td>\n",
       "    </tr>\n",
       "    <tr>\n",
       "      <th>129-30-077</th>\n",
       "      <td>2</td>\n",
       "      <td>4</td>\n",
       "      <td>4</td>\n",
       "      <td>4</td>\n",
       "      <td>4</td>\n",
       "      <td>4</td>\n",
       "      <td>4</td>\n",
       "      <td>4</td>\n",
       "      <td>4</td>\n",
       "      <td>4</td>\n",
       "      <td>...</td>\n",
       "      <td>4</td>\n",
       "      <td>4</td>\n",
       "      <td>4</td>\n",
       "      <td>4</td>\n",
       "      <td>4</td>\n",
       "      <td>4</td>\n",
       "      <td>4</td>\n",
       "      <td>4</td>\n",
       "      <td>4</td>\n",
       "      <td>4</td>\n",
       "    </tr>\n",
       "    <tr>\n",
       "      <th>131-20-126</th>\n",
       "      <td>2</td>\n",
       "      <td>4</td>\n",
       "      <td>4</td>\n",
       "      <td>4</td>\n",
       "      <td>4</td>\n",
       "      <td>4</td>\n",
       "      <td>4</td>\n",
       "      <td>4</td>\n",
       "      <td>4</td>\n",
       "      <td>4</td>\n",
       "      <td>...</td>\n",
       "      <td>4</td>\n",
       "      <td>4</td>\n",
       "      <td>4</td>\n",
       "      <td>4</td>\n",
       "      <td>4</td>\n",
       "      <td>4</td>\n",
       "      <td>4</td>\n",
       "      <td>4</td>\n",
       "      <td>4</td>\n",
       "      <td>4</td>\n",
       "    </tr>\n",
       "    <tr>\n",
       "      <th>131-23-080</th>\n",
       "      <td>2</td>\n",
       "      <td>4</td>\n",
       "      <td>4</td>\n",
       "      <td>4</td>\n",
       "      <td>4</td>\n",
       "      <td>4</td>\n",
       "      <td>4</td>\n",
       "      <td>4</td>\n",
       "      <td>4</td>\n",
       "      <td>4</td>\n",
       "      <td>...</td>\n",
       "      <td>4</td>\n",
       "      <td>4</td>\n",
       "      <td>4</td>\n",
       "      <td>4</td>\n",
       "      <td>4</td>\n",
       "      <td>4</td>\n",
       "      <td>4</td>\n",
       "      <td>4</td>\n",
       "      <td>4</td>\n",
       "      <td>4</td>\n",
       "    </tr>\n",
       "    <tr>\n",
       "      <th>131-35-112</th>\n",
       "      <td>2</td>\n",
       "      <td>4</td>\n",
       "      <td>4</td>\n",
       "      <td>4</td>\n",
       "      <td>4</td>\n",
       "      <td>4</td>\n",
       "      <td>5</td>\n",
       "      <td>5</td>\n",
       "      <td>5</td>\n",
       "      <td>5</td>\n",
       "      <td>...</td>\n",
       "      <td>5</td>\n",
       "      <td>5</td>\n",
       "      <td>5</td>\n",
       "      <td>5</td>\n",
       "      <td>5</td>\n",
       "      <td>5</td>\n",
       "      <td>5</td>\n",
       "      <td>5</td>\n",
       "      <td>5</td>\n",
       "      <td>5</td>\n",
       "    </tr>\n",
       "    <tr>\n",
       "      <th>132-01-043</th>\n",
       "      <td>2</td>\n",
       "      <td>4</td>\n",
       "      <td>4</td>\n",
       "      <td>4</td>\n",
       "      <td>4</td>\n",
       "      <td>4</td>\n",
       "      <td>4</td>\n",
       "      <td>4</td>\n",
       "      <td>4</td>\n",
       "      <td>4</td>\n",
       "      <td>...</td>\n",
       "      <td>4</td>\n",
       "      <td>4</td>\n",
       "      <td>4</td>\n",
       "      <td>4</td>\n",
       "      <td>4</td>\n",
       "      <td>4</td>\n",
       "      <td>4</td>\n",
       "      <td>4</td>\n",
       "      <td>4</td>\n",
       "      <td>4</td>\n",
       "    </tr>\n",
       "    <tr>\n",
       "      <th>134-22-130</th>\n",
       "      <td>2</td>\n",
       "      <td>4</td>\n",
       "      <td>4</td>\n",
       "      <td>4</td>\n",
       "      <td>4</td>\n",
       "      <td>4</td>\n",
       "      <td>5</td>\n",
       "      <td>5</td>\n",
       "      <td>5</td>\n",
       "      <td>5</td>\n",
       "      <td>...</td>\n",
       "      <td>6</td>\n",
       "      <td>6</td>\n",
       "      <td>6</td>\n",
       "      <td>6</td>\n",
       "      <td>6</td>\n",
       "      <td>6</td>\n",
       "      <td>6</td>\n",
       "      <td>6</td>\n",
       "      <td>6</td>\n",
       "      <td>6</td>\n",
       "    </tr>\n",
       "    <tr>\n",
       "      <th>135-13-021</th>\n",
       "      <td>2</td>\n",
       "      <td>4</td>\n",
       "      <td>4</td>\n",
       "      <td>4</td>\n",
       "      <td>4</td>\n",
       "      <td>4</td>\n",
       "      <td>4</td>\n",
       "      <td>4</td>\n",
       "      <td>4</td>\n",
       "      <td>4</td>\n",
       "      <td>...</td>\n",
       "      <td>4</td>\n",
       "      <td>4</td>\n",
       "      <td>4</td>\n",
       "      <td>4</td>\n",
       "      <td>4</td>\n",
       "      <td>4</td>\n",
       "      <td>4</td>\n",
       "      <td>4</td>\n",
       "      <td>4</td>\n",
       "      <td>4</td>\n",
       "    </tr>\n",
       "    <tr>\n",
       "      <th>137-22-065</th>\n",
       "      <td>2</td>\n",
       "      <td>4</td>\n",
       "      <td>4</td>\n",
       "      <td>4</td>\n",
       "      <td>4</td>\n",
       "      <td>4</td>\n",
       "      <td>4</td>\n",
       "      <td>4</td>\n",
       "      <td>4</td>\n",
       "      <td>4</td>\n",
       "      <td>...</td>\n",
       "      <td>6</td>\n",
       "      <td>6</td>\n",
       "      <td>6</td>\n",
       "      <td>6</td>\n",
       "      <td>6</td>\n",
       "      <td>6</td>\n",
       "      <td>6</td>\n",
       "      <td>6</td>\n",
       "      <td>6</td>\n",
       "      <td>6</td>\n",
       "    </tr>\n",
       "    <tr>\n",
       "      <th>138-15-049</th>\n",
       "      <td>2</td>\n",
       "      <td>4</td>\n",
       "      <td>4</td>\n",
       "      <td>4</td>\n",
       "      <td>6</td>\n",
       "      <td>6</td>\n",
       "      <td>6</td>\n",
       "      <td>6</td>\n",
       "      <td>6</td>\n",
       "      <td>6</td>\n",
       "      <td>...</td>\n",
       "      <td>6</td>\n",
       "      <td>6</td>\n",
       "      <td>6</td>\n",
       "      <td>6</td>\n",
       "      <td>6</td>\n",
       "      <td>6</td>\n",
       "      <td>6</td>\n",
       "      <td>6</td>\n",
       "      <td>6</td>\n",
       "      <td>6</td>\n",
       "    </tr>\n",
       "    <tr>\n",
       "      <th>138-17-063</th>\n",
       "      <td>2</td>\n",
       "      <td>4</td>\n",
       "      <td>4</td>\n",
       "      <td>4</td>\n",
       "      <td>4</td>\n",
       "      <td>6</td>\n",
       "      <td>6</td>\n",
       "      <td>6</td>\n",
       "      <td>6</td>\n",
       "      <td>6</td>\n",
       "      <td>...</td>\n",
       "      <td>6</td>\n",
       "      <td>6</td>\n",
       "      <td>6</td>\n",
       "      <td>6</td>\n",
       "      <td>6</td>\n",
       "      <td>6</td>\n",
       "      <td>6</td>\n",
       "      <td>6</td>\n",
       "      <td>6</td>\n",
       "      <td>6</td>\n",
       "    </tr>\n",
       "    <tr>\n",
       "      <th>139-13-052</th>\n",
       "      <td>2</td>\n",
       "      <td>4</td>\n",
       "      <td>4</td>\n",
       "      <td>4</td>\n",
       "      <td>4</td>\n",
       "      <td>4</td>\n",
       "      <td>4</td>\n",
       "      <td>4</td>\n",
       "      <td>4</td>\n",
       "      <td>4</td>\n",
       "      <td>...</td>\n",
       "      <td>4</td>\n",
       "      <td>4</td>\n",
       "      <td>4</td>\n",
       "      <td>4</td>\n",
       "      <td>4</td>\n",
       "      <td>4</td>\n",
       "      <td>4</td>\n",
       "      <td>4</td>\n",
       "      <td>4</td>\n",
       "      <td>4</td>\n",
       "    </tr>\n",
       "    <tr>\n",
       "      <th>139-18-056</th>\n",
       "      <td>2</td>\n",
       "      <td>4</td>\n",
       "      <td>4</td>\n",
       "      <td>4</td>\n",
       "      <td>4</td>\n",
       "      <td>4</td>\n",
       "      <td>4</td>\n",
       "      <td>4</td>\n",
       "      <td>4</td>\n",
       "      <td>4</td>\n",
       "      <td>...</td>\n",
       "      <td>6</td>\n",
       "      <td>6</td>\n",
       "      <td>6</td>\n",
       "      <td>6</td>\n",
       "      <td>6</td>\n",
       "      <td>6</td>\n",
       "      <td>6</td>\n",
       "      <td>6</td>\n",
       "      <td>6</td>\n",
       "      <td>6</td>\n",
       "    </tr>\n",
       "    <tr>\n",
       "      <th>142-24-014</th>\n",
       "      <td>2</td>\n",
       "      <td>4</td>\n",
       "      <td>6</td>\n",
       "      <td>6</td>\n",
       "      <td>6</td>\n",
       "      <td>6</td>\n",
       "      <td>6</td>\n",
       "      <td>6</td>\n",
       "      <td>6</td>\n",
       "      <td>6</td>\n",
       "      <td>...</td>\n",
       "      <td>6</td>\n",
       "      <td>6</td>\n",
       "      <td>6</td>\n",
       "      <td>6</td>\n",
       "      <td>6</td>\n",
       "      <td>6</td>\n",
       "      <td>6</td>\n",
       "      <td>7</td>\n",
       "      <td>7</td>\n",
       "      <td>7</td>\n",
       "    </tr>\n",
       "  </tbody>\n",
       "</table>\n",
       "<p>46 rows × 23 columns</p>\n",
       "</div>"
      ],
      "text/plain": [
       "           2009-10-01 2010-01-01 2010-04-01 2010-07-01 2010-10-01 2011-01-01  \\\n",
       "parcel                                                                         \n",
       "005-24-063          2          4          4          4          5          5   \n",
       "015-08-015          2          4          4          4          4          4   \n",
       "015-13-101          2          4          4          4          4          4   \n",
       "016-11-163          2          4          4          4          4          5   \n",
       "016-12-148          2          4          4          4          6          6   \n",
       "016-14-059          2          4          4          4          4          4   \n",
       "016-23-053          2          4          4          4          4          6   \n",
       "017-18-004          2          4          4          4          4          4   \n",
       "018-02-121          2          4          4          4          4          4   \n",
       "018-28-001          2          4          4          6          6          6   \n",
       "020-03-106          2          4          4          4          4          4   \n",
       "021-22-071          2          4          4          4          4          4   \n",
       "022-21-027          2          4          4          4          6          6   \n",
       "103-23-042          2          4          4          4          4          4   \n",
       "106-22-080          2          4          4          4          4          4   \n",
       "107-05-067          2          4          4          4          4          4   \n",
       "108-06-008          2          4          4          4          4          4   \n",
       "108-27-010          2          4          4          4          6          6   \n",
       "108-28-093          2          4          4          4          4          4   \n",
       "110-14-065          2          4          4          4          4          4   \n",
       "111-05-118          2          4          4          4          4          4   \n",
       "112-25-038          2          4          4          4          4          6   \n",
       "116-29-154          2          4          4          4          4          4   \n",
       "117-11-042          2          4          6          6          6          6   \n",
       "119-30-095          2          4          4          6          6          6   \n",
       "120-14-056          2          4          4          4          4          4   \n",
       "121-33-059          2          4          4          4          4          4   \n",
       "123-31-064          2          4          4          4          4          4   \n",
       "125-01-007          2          4          4          4          4          4   \n",
       "128-13-040          2          4          4          4          4          4   \n",
       "129-16-064          2          4          4          4          4          4   \n",
       "129-22-099          2          4          4          4          4          4   \n",
       "129-23-053          2          4          4          4          4          4   \n",
       "129-30-077          2          4          4          4          4          4   \n",
       "131-20-126          2          4          4          4          4          4   \n",
       "131-23-080          2          4          4          4          4          4   \n",
       "131-35-112          2          4          4          4          4          4   \n",
       "132-01-043          2          4          4          4          4          4   \n",
       "134-22-130          2          4          4          4          4          4   \n",
       "135-13-021          2          4          4          4          4          4   \n",
       "137-22-065          2          4          4          4          4          4   \n",
       "138-15-049          2          4          4          4          6          6   \n",
       "138-17-063          2          4          4          4          4          6   \n",
       "139-13-052          2          4          4          4          4          4   \n",
       "139-18-056          2          4          4          4          4          4   \n",
       "142-24-014          2          4          6          6          6          6   \n",
       "\n",
       "           2011-04-01 2011-07-01 2011-10-01 2012-01-01    ...     2013-01-01  \\\n",
       "parcel                                                    ...                  \n",
       "005-24-063          5          5          5          5    ...              5   \n",
       "015-08-015          4          4          4          4    ...              4   \n",
       "015-13-101          4          6          6          6    ...              6   \n",
       "016-11-163          5          5          5          5    ...              5   \n",
       "016-12-148          6          6          6          6    ...              6   \n",
       "016-14-059          4          4          4          4    ...              4   \n",
       "016-23-053          6          6          6          6    ...              6   \n",
       "017-18-004          6          6          6          6    ...              6   \n",
       "018-02-121          4          4          4          4    ...              4   \n",
       "018-28-001          6          6          6          6    ...              6   \n",
       "020-03-106          4          4          4          4    ...              4   \n",
       "021-22-071          5          5          5          5    ...              5   \n",
       "022-21-027          6          6          6          6    ...              6   \n",
       "103-23-042          4          5          5          5    ...              5   \n",
       "106-22-080          4          4          4          6    ...              6   \n",
       "107-05-067          4          4          4          4    ...              4   \n",
       "108-06-008          4          4          6          6    ...              6   \n",
       "108-27-010          6          6          6          6    ...              6   \n",
       "108-28-093          4          4          6          6    ...              6   \n",
       "110-14-065          4          4          4          4    ...              4   \n",
       "111-05-118          4          4          4          4    ...              4   \n",
       "112-25-038          6          6          6          6    ...              6   \n",
       "116-29-154          4          4          4          4    ...              6   \n",
       "117-11-042          6          6          6          6    ...              6   \n",
       "119-30-095          6          6          6          6    ...              6   \n",
       "120-14-056          4          4          4          4    ...              4   \n",
       "121-33-059          4          4          4          4    ...              4   \n",
       "123-31-064          4          4          4          4    ...              4   \n",
       "125-01-007          4          4          4          4    ...              4   \n",
       "128-13-040          4          4          4          5    ...              5   \n",
       "129-16-064          4          4          4          4    ...              4   \n",
       "129-22-099          4          4          4          4    ...              6   \n",
       "129-23-053          4          4          4          4    ...              4   \n",
       "129-30-077          4          4          4          4    ...              4   \n",
       "131-20-126          4          4          4          4    ...              4   \n",
       "131-23-080          4          4          4          4    ...              4   \n",
       "131-35-112          5          5          5          5    ...              5   \n",
       "132-01-043          4          4          4          4    ...              4   \n",
       "134-22-130          5          5          5          5    ...              6   \n",
       "135-13-021          4          4          4          4    ...              4   \n",
       "137-22-065          4          4          4          4    ...              6   \n",
       "138-15-049          6          6          6          6    ...              6   \n",
       "138-17-063          6          6          6          6    ...              6   \n",
       "139-13-052          4          4          4          4    ...              4   \n",
       "139-18-056          4          4          4          4    ...              6   \n",
       "142-24-014          6          6          6          6    ...              6   \n",
       "\n",
       "           2013-04-01 2013-07-01 2013-10-01 2014-01-01 2014-04-01 2014-07-01  \\\n",
       "parcel                                                                         \n",
       "005-24-063          6          6          6          6          6          6   \n",
       "015-08-015          4          4          4          4          4          4   \n",
       "015-13-101          6          6          6          6          6          6   \n",
       "016-11-163          5          5          5          5          5          5   \n",
       "016-12-148          6          6          6          6          6          6   \n",
       "016-14-059          4          4          4          4          4          4   \n",
       "016-23-053          6          6          6          6          6          6   \n",
       "017-18-004          6          6          6          6          6          6   \n",
       "018-02-121          4          4          4          4          4          4   \n",
       "018-28-001          6          6          6          6          6          6   \n",
       "020-03-106          4          4          4          4          4          4   \n",
       "021-22-071          5          5          5          5          5          5   \n",
       "022-21-027          6          6          6          6          6          6   \n",
       "103-23-042          5          5          5          5          5          5   \n",
       "106-22-080          6          6          6          6          6          6   \n",
       "107-05-067          4          4          4          4          4          4   \n",
       "108-06-008          6          6          6          6          6          6   \n",
       "108-27-010          6          6          6          6          6          6   \n",
       "108-28-093          6          6          6          6          6          6   \n",
       "110-14-065          4          4          4          4          4          4   \n",
       "111-05-118          4          4          4          4          4          4   \n",
       "112-25-038          6          6          6          6          6          6   \n",
       "116-29-154          6          6          6          6          6          6   \n",
       "117-11-042          6          6          6          6          6          6   \n",
       "119-30-095          6          6          6          6          6          6   \n",
       "120-14-056          4          4          4          4          4          4   \n",
       "121-33-059          4          4          4          4          4          4   \n",
       "123-31-064          4          4          4          4          4          4   \n",
       "125-01-007          4          4          4          4          4          4   \n",
       "128-13-040          5          5          6          6          6          6   \n",
       "129-16-064          4          4          4          4          4          4   \n",
       "129-22-099          6          6          6          6          6          6   \n",
       "129-23-053          6          6          6          6          6          6   \n",
       "129-30-077          4          4          4          4          4          4   \n",
       "131-20-126          4          4          4          4          4          4   \n",
       "131-23-080          4          4          4          4          4          4   \n",
       "131-35-112          5          5          5          5          5          5   \n",
       "132-01-043          4          4          4          4          4          4   \n",
       "134-22-130          6          6          6          6          6          6   \n",
       "135-13-021          4          4          4          4          4          4   \n",
       "137-22-065          6          6          6          6          6          6   \n",
       "138-15-049          6          6          6          6          6          6   \n",
       "138-17-063          6          6          6          6          6          6   \n",
       "139-13-052          4          4          4          4          4          4   \n",
       "139-18-056          6          6          6          6          6          6   \n",
       "142-24-014          6          6          6          6          6          6   \n",
       "\n",
       "           2014-10-01 2015-01-01 2015-04-01  \n",
       "parcel                                       \n",
       "005-24-063          6          6          6  \n",
       "015-08-015          4          4          4  \n",
       "015-13-101          6          6          6  \n",
       "016-11-163          5          5          5  \n",
       "016-12-148          6          6          7  \n",
       "016-14-059          4          4          4  \n",
       "016-23-053          6          6          6  \n",
       "017-18-004          6          6          6  \n",
       "018-02-121          4          4          4  \n",
       "018-28-001          6          6          6  \n",
       "020-03-106          4          4          4  \n",
       "021-22-071          5          7          7  \n",
       "022-21-027          6          6          6  \n",
       "103-23-042          5          5          5  \n",
       "106-22-080          6          6          6  \n",
       "107-05-067          4          4          4  \n",
       "108-06-008          6          6          6  \n",
       "108-27-010          6          6          6  \n",
       "108-28-093          6          6          6  \n",
       "110-14-065          4          4          4  \n",
       "111-05-118          4          4          4  \n",
       "112-25-038          6          6          6  \n",
       "116-29-154          6          6          6  \n",
       "117-11-042          6          6          6  \n",
       "119-30-095          6          7          7  \n",
       "120-14-056          4          4          4  \n",
       "121-33-059          4          4          4  \n",
       "123-31-064          4          4          4  \n",
       "125-01-007          4          4          4  \n",
       "128-13-040          6          6          6  \n",
       "129-16-064          4          4          6  \n",
       "129-22-099          6          6          6  \n",
       "129-23-053          6          6          6  \n",
       "129-30-077          4          4          4  \n",
       "131-20-126          4          4          4  \n",
       "131-23-080          4          4          4  \n",
       "131-35-112          5          5          5  \n",
       "132-01-043          4          4          4  \n",
       "134-22-130          6          6          6  \n",
       "135-13-021          4          4          4  \n",
       "137-22-065          6          6          6  \n",
       "138-15-049          6          6          6  \n",
       "138-17-063          6          6          6  \n",
       "139-13-052          4          4          4  \n",
       "139-18-056          6          6          6  \n",
       "142-24-014          7          7          7  \n",
       "\n",
       "[46 rows x 23 columns]"
      ]
     },
     "execution_count": 195,
     "metadata": {},
     "output_type": "execute_result"
    }
   ],
   "source": [
    "status[((status2.iloc[:,0]%3)==2) & ((status2.iloc[:,1]%3)==1)]"
   ]
  },
  {
   "cell_type": "code",
   "execution_count": 192,
   "metadata": {
    "collapsed": false
   },
   "outputs": [
    {
     "data": {
      "text/plain": [
       "(5325, 23)"
      ]
     },
     "execution_count": 192,
     "metadata": {},
     "output_type": "execute_result"
    }
   ],
   "source": [
    "status[(status2.iloc[:,-1]%3)==2].shape"
   ]
  },
  {
   "cell_type": "code",
   "execution_count": 175,
   "metadata": {
    "collapsed": false
   },
   "outputs": [
    {
     "data": {
      "text/plain": [
       "(5250, 23)"
      ]
     },
     "execution_count": 175,
     "metadata": {},
     "output_type": "execute_result"
    }
   ],
   "source": []
  },
  {
   "cell_type": "code",
   "execution_count": 191,
   "metadata": {
    "collapsed": false
   },
   "outputs": [
    {
     "name": "stdout",
     "output_type": "stream",
     "text": [
      "2015-04-01 00:00:00 1191 4691\n"
     ]
    }
   ],
   "source": [
    "tem = df2.groupby('parcel').nth(-1)\n",
    "print(date, sum(tci[tci.parcel.isin(tem[tem.REO==True].index)].vacant), len(tci[tci.parcel.isin(tem[tem.REO==True].index)].vacant))"
   ]
  },
  {
   "cell_type": "code",
   "execution_count": 25,
   "metadata": {
    "collapsed": true
   },
   "outputs": [
    {
     "ename": "KeyError",
     "evalue": "\"['GRANTEE1'] not in index\"",
     "output_type": "error",
     "traceback": [
      "\u001b[0;31m---------------------------------------------------------------------------\u001b[0m",
      "\u001b[0;31mKeyError\u001b[0m                                  Traceback (most recent call last)",
      "\u001b[0;32m<ipython-input-25-9d2357a008ab>\u001b[0m in \u001b[0;36m<module>\u001b[0;34m()\u001b[0m\n\u001b[0;32m----> 1\u001b[0;31m \u001b[0mtem\u001b[0m\u001b[0;34m[\u001b[0m\u001b[0;34m[\u001b[0m\u001b[0;34m'REO'\u001b[0m\u001b[0;34m,\u001b[0m\u001b[0;34m'GRANTEE1'\u001b[0m\u001b[0;34m]\u001b[0m\u001b[0;34m]\u001b[0m\u001b[0;34m.\u001b[0m\u001b[0msample\u001b[0m\u001b[0;34m(\u001b[0m\u001b[0;36m50\u001b[0m\u001b[0;34m)\u001b[0m\u001b[0;34m\u001b[0m\u001b[0m\n\u001b[0m",
      "\u001b[0;32m//anaconda/envs/data_sci/lib/python3.4/site-packages/pandas/core/frame.py\u001b[0m in \u001b[0;36m__getitem__\u001b[0;34m(self, key)\u001b[0m\n\u001b[1;32m   1961\u001b[0m         \u001b[0;32mif\u001b[0m \u001b[0misinstance\u001b[0m\u001b[0;34m(\u001b[0m\u001b[0mkey\u001b[0m\u001b[0;34m,\u001b[0m \u001b[0;34m(\u001b[0m\u001b[0mSeries\u001b[0m\u001b[0;34m,\u001b[0m \u001b[0mnp\u001b[0m\u001b[0;34m.\u001b[0m\u001b[0mndarray\u001b[0m\u001b[0;34m,\u001b[0m \u001b[0mIndex\u001b[0m\u001b[0;34m,\u001b[0m \u001b[0mlist\u001b[0m\u001b[0;34m)\u001b[0m\u001b[0;34m)\u001b[0m\u001b[0;34m:\u001b[0m\u001b[0;34m\u001b[0m\u001b[0m\n\u001b[1;32m   1962\u001b[0m             \u001b[0;31m# either boolean or fancy integer index\u001b[0m\u001b[0;34m\u001b[0m\u001b[0;34m\u001b[0m\u001b[0m\n\u001b[0;32m-> 1963\u001b[0;31m             \u001b[0;32mreturn\u001b[0m \u001b[0mself\u001b[0m\u001b[0;34m.\u001b[0m\u001b[0m_getitem_array\u001b[0m\u001b[0;34m(\u001b[0m\u001b[0mkey\u001b[0m\u001b[0;34m)\u001b[0m\u001b[0;34m\u001b[0m\u001b[0m\n\u001b[0m\u001b[1;32m   1964\u001b[0m         \u001b[0;32melif\u001b[0m \u001b[0misinstance\u001b[0m\u001b[0;34m(\u001b[0m\u001b[0mkey\u001b[0m\u001b[0;34m,\u001b[0m \u001b[0mDataFrame\u001b[0m\u001b[0;34m)\u001b[0m\u001b[0;34m:\u001b[0m\u001b[0;34m\u001b[0m\u001b[0m\n\u001b[1;32m   1965\u001b[0m             \u001b[0;32mreturn\u001b[0m \u001b[0mself\u001b[0m\u001b[0;34m.\u001b[0m\u001b[0m_getitem_frame\u001b[0m\u001b[0;34m(\u001b[0m\u001b[0mkey\u001b[0m\u001b[0;34m)\u001b[0m\u001b[0;34m\u001b[0m\u001b[0m\n",
      "\u001b[0;32m//anaconda/envs/data_sci/lib/python3.4/site-packages/pandas/core/frame.py\u001b[0m in \u001b[0;36m_getitem_array\u001b[0;34m(self, key)\u001b[0m\n\u001b[1;32m   2005\u001b[0m             \u001b[0;32mreturn\u001b[0m \u001b[0mself\u001b[0m\u001b[0;34m.\u001b[0m\u001b[0mtake\u001b[0m\u001b[0;34m(\u001b[0m\u001b[0mindexer\u001b[0m\u001b[0;34m,\u001b[0m \u001b[0maxis\u001b[0m\u001b[0;34m=\u001b[0m\u001b[0;36m0\u001b[0m\u001b[0;34m,\u001b[0m \u001b[0mconvert\u001b[0m\u001b[0;34m=\u001b[0m\u001b[0;32mFalse\u001b[0m\u001b[0;34m)\u001b[0m\u001b[0;34m\u001b[0m\u001b[0m\n\u001b[1;32m   2006\u001b[0m         \u001b[0;32melse\u001b[0m\u001b[0;34m:\u001b[0m\u001b[0;34m\u001b[0m\u001b[0m\n\u001b[0;32m-> 2007\u001b[0;31m             \u001b[0mindexer\u001b[0m \u001b[0;34m=\u001b[0m \u001b[0mself\u001b[0m\u001b[0;34m.\u001b[0m\u001b[0mix\u001b[0m\u001b[0;34m.\u001b[0m\u001b[0m_convert_to_indexer\u001b[0m\u001b[0;34m(\u001b[0m\u001b[0mkey\u001b[0m\u001b[0;34m,\u001b[0m \u001b[0maxis\u001b[0m\u001b[0;34m=\u001b[0m\u001b[0;36m1\u001b[0m\u001b[0;34m)\u001b[0m\u001b[0;34m\u001b[0m\u001b[0m\n\u001b[0m\u001b[1;32m   2008\u001b[0m             \u001b[0;32mreturn\u001b[0m \u001b[0mself\u001b[0m\u001b[0;34m.\u001b[0m\u001b[0mtake\u001b[0m\u001b[0;34m(\u001b[0m\u001b[0mindexer\u001b[0m\u001b[0;34m,\u001b[0m \u001b[0maxis\u001b[0m\u001b[0;34m=\u001b[0m\u001b[0;36m1\u001b[0m\u001b[0;34m,\u001b[0m \u001b[0mconvert\u001b[0m\u001b[0;34m=\u001b[0m\u001b[0;32mTrue\u001b[0m\u001b[0;34m)\u001b[0m\u001b[0;34m\u001b[0m\u001b[0m\n\u001b[1;32m   2009\u001b[0m \u001b[0;34m\u001b[0m\u001b[0m\n",
      "\u001b[0;32m//anaconda/envs/data_sci/lib/python3.4/site-packages/pandas/core/indexing.py\u001b[0m in \u001b[0;36m_convert_to_indexer\u001b[0;34m(self, obj, axis, is_setter)\u001b[0m\n\u001b[1;32m   1148\u001b[0m                 \u001b[0mmask\u001b[0m \u001b[0;34m=\u001b[0m \u001b[0mcheck\u001b[0m \u001b[0;34m==\u001b[0m \u001b[0;34m-\u001b[0m\u001b[0;36m1\u001b[0m\u001b[0;34m\u001b[0m\u001b[0m\n\u001b[1;32m   1149\u001b[0m                 \u001b[0;32mif\u001b[0m \u001b[0mmask\u001b[0m\u001b[0;34m.\u001b[0m\u001b[0many\u001b[0m\u001b[0;34m(\u001b[0m\u001b[0;34m)\u001b[0m\u001b[0;34m:\u001b[0m\u001b[0;34m\u001b[0m\u001b[0m\n\u001b[0;32m-> 1150\u001b[0;31m                     \u001b[0;32mraise\u001b[0m \u001b[0mKeyError\u001b[0m\u001b[0;34m(\u001b[0m\u001b[0;34m'%s not in index'\u001b[0m \u001b[0;34m%\u001b[0m \u001b[0mobjarr\u001b[0m\u001b[0;34m[\u001b[0m\u001b[0mmask\u001b[0m\u001b[0;34m]\u001b[0m\u001b[0;34m)\u001b[0m\u001b[0;34m\u001b[0m\u001b[0m\n\u001b[0m\u001b[1;32m   1151\u001b[0m \u001b[0;34m\u001b[0m\u001b[0m\n\u001b[1;32m   1152\u001b[0m                 \u001b[0;32mreturn\u001b[0m \u001b[0m_values_from_object\u001b[0m\u001b[0;34m(\u001b[0m\u001b[0mindexer\u001b[0m\u001b[0;34m)\u001b[0m\u001b[0;34m\u001b[0m\u001b[0m\n",
      "\u001b[0;31mKeyError\u001b[0m: \"['GRANTEE1'] not in index\""
     ]
    }
   ],
   "source": [
    "tem[['REO','GRANTEE1']].sample(50)"
   ]
  },
  {
   "cell_type": "code",
   "execution_count": 42,
   "metadata": {
    "collapsed": false
   },
   "outputs": [
    {
     "data": {
      "text/plain": [
       "948"
      ]
     },
     "execution_count": 42,
     "metadata": {},
     "output_type": "execute_result"
    }
   ],
   "source": [
    "sum(tci[tci.parcel.isin(tem[tem.REO==True].index)].vacant)"
   ]
  },
  {
   "cell_type": "code",
   "execution_count": 36,
   "metadata": {
    "collapsed": false
   },
   "outputs": [
    {
     "data": {
      "text/plain": [
       "(4691, 3)"
      ]
     },
     "execution_count": 36,
     "metadata": {},
     "output_type": "execute_result"
    }
   ],
   "source": [
    "tem[tem.REO==True].shape"
   ]
  },
  {
   "cell_type": "code",
   "execution_count": 24,
   "metadata": {
    "collapsed": false
   },
   "outputs": [
    {
     "data": {
      "text/plain": [
       "715"
      ]
     },
     "execution_count": 24,
     "metadata": {},
     "output_type": "execute_result"
    }
   ],
   "source": [
    "sum(tci[tci.parcel.isin(tem[(tem.shf==1)&(tem.REO==True)].index)].vacant)"
   ]
  },
  {
   "cell_type": "code",
   "execution_count": 10,
   "metadata": {
    "collapsed": false
   },
   "outputs": [],
   "source": [
    "sa['REO'] = sa.purchaser.apply(find_REO)\n",
    "sa['GRANTEE1'] = sa.purchaser\n",
    "t['REO'] = t.GRANTEE1.apply(find_REO)"
   ]
  },
  {
   "cell_type": "code",
   "execution_count": 11,
   "metadata": {
    "collapsed": true
   },
   "outputs": [],
   "source": [
    "# # append the datasets and eliminate dates from before they were searched, then sort by date\n",
    "# df = fc.append(sa.loc[sa.sold_amt.notnull(),['date','REO','parcel','type','GRANTEE1']]).append(t[['date','parcel','type','REO','DEED_TYPE','GRANTEE1']])\n",
    "# df = df.loc[df.apply(lambda x: x.date < dates[x.parcel], axis=1)]\n",
    "# df = df.sort_values('date')"
   ]
  },
  {
   "cell_type": "code",
   "execution_count": 45,
   "metadata": {
    "collapsed": false
   },
   "outputs": [],
   "source": [
    "# talked to April, assume that things are in the transfers dataset\n",
    "df = t[['date','parcel','type','REO','DEED_TYPE','GRANTEE1']]\n",
    "df = df.loc[df.apply(lambda x: x.date < dates[x.parcel], axis=1)]\n",
    "df = df.sort_values('date')"
   ]
  },
  {
   "cell_type": "code",
   "execution_count": 46,
   "metadata": {
    "collapsed": false
   },
   "outputs": [],
   "source": [
    "# get the last transaction\n",
    "last = df.groupby('parcel').nth(-1)\n",
    "second_last = df.groupby('parcel').nth(-2)\n",
    "\n",
    "last.loc[(last.DEED_TYPE.isin(['Sheriffs Deed',\n",
    " 'Sheriffs Deed Ex'])),'shf'] = 1"
   ]
  },
  {
   "cell_type": "code",
   "execution_count": 47,
   "metadata": {
    "collapsed": true
   },
   "outputs": [],
   "source": [
    "# merge with the vacancy status\n",
    "tem = pd.merge(last, tci[['parcel','vacant']], how='left', left_index=True, right_on='parcel')"
   ]
  },
  {
   "cell_type": "code",
   "execution_count": 69,
   "metadata": {
    "collapsed": false
   },
   "outputs": [
    {
     "data": {
      "image/png": "[encoded data removed]",
      "text/plain": [
       "<matplotlib.figure.Figure at 0x1172f6410>"
      ]
     },
     "metadata": {},
     "output_type": "display_data"
    }
   ],
   "source": [
    "tem[tem.shf==1].groupby([tem.date.dt.year, tem.date.dt.month]).count()['REO'].plot(kind=\"line\")\n",
    "tem.groupby([tem.date.dt.year, tem.date.dt.month]).count()['REO'].plot(kind=\"line\");"
   ]
  },
  {
   "cell_type": "code",
   "execution_count": 66,
   "metadata": {
    "collapsed": false
   },
   "outputs": [
    {
     "data": {
      "image/png": "[encoded data removed]",
      "text/plain": [
       "<matplotlib.figure.Figure at 0x10a03e910>"
      ]
     },
     "metadata": {},
     "output_type": "display_data"
    }
   ],
   "source": [
    "tem[tem.vacant==1].groupby([tem.date.dt.year, tem.date.dt.month]).count()['REO'].plot(kind=\"line\")\n",
    "tem.groupby([tem.date.dt.year, tem.date.dt.month]).count()['REO'].plot(kind=\"line\");"
   ]
  },
  {
   "cell_type": "code",
   "execution_count": 55,
   "metadata": {
    "collapsed": false
   },
   "outputs": [
    {
     "data": {
      "text/plain": [
       "REO    0\n",
       "shf    1\n",
       "dtype: float64"
      ]
     },
     "execution_count": 55,
     "metadata": {},
     "output_type": "execute_result"
    }
   ],
   "source": [
    "last.median()"
   ]
  },
  {
   "cell_type": "code",
   "execution_count": 51,
   "metadata": {
    "collapsed": false
   },
   "outputs": [
    {
     "data": {
      "text/plain": [
       "Timestamp('2000-01-03 00:00:00')"
      ]
     },
     "execution_count": 51,
     "metadata": {},
     "output_type": "execute_result"
    }
   ],
   "source": [
    "min(t.date)"
   ]
  },
  {
   "cell_type": "code",
   "execution_count": 48,
   "metadata": {
    "collapsed": false,
    "scrolled": true
   },
   "outputs": [
    {
     "data": {
      "text/plain": [
       "(678, 2062)"
      ]
     },
     "execution_count": 48,
     "metadata": {},
     "output_type": "execute_result"
    }
   ],
   "source": [
    "sum(tem[tem.shf==1].vacant), len(tem[tem.shf==1].vacant)"
   ]
  },
  {
   "cell_type": "code",
   "execution_count": 49,
   "metadata": {
    "collapsed": false
   },
   "outputs": [
    {
     "data": {
      "text/plain": [
       "(591, 1313)"
      ]
     },
     "execution_count": 49,
     "metadata": {},
     "output_type": "execute_result"
    }
   ],
   "source": [
    "sum(tem[(tem.shf==1) & (tem.REO)].vacant), len(tem[(tem.shf==1) & (tem.REO)].vacant)"
   ]
  },
  {
   "cell_type": "code",
   "execution_count": 75,
   "metadata": {
    "collapsed": false
   },
   "outputs": [],
   "source": [
    "pitts = set(last[(last['type']=='sa')].index).intersection(set(second_last[second_last['type']=='fc'].index))"
   ]
  },
  {
   "cell_type": "code",
   "execution_count": 76,
   "metadata": {
    "collapsed": false
   },
   "outputs": [
    {
     "data": {
      "text/plain": [
       "(375, 957)"
      ]
     },
     "execution_count": 76,
     "metadata": {},
     "output_type": "execute_result"
    }
   ],
   "source": [
    "sum(tci[tci.parcel.isin(pitts)].vacant), len(tci[tci.parcel.isin(pitts)].vacant)"
   ]
  },
  {
   "cell_type": "code",
   "execution_count": 36,
   "metadata": {
    "collapsed": false
   },
   "outputs": [],
   "source": []
  },
  {
   "cell_type": "code",
   "execution_count": 37,
   "metadata": {
    "collapsed": true
   },
   "outputs": [],
   "source": [
    "tem.loc[(tem.DEED_TYPE.isin(['Sheriffs Deed',\n",
    " 'Sheriffs Deed Ex'])),'shf'] = 1"
   ]
  },
  {
   "cell_type": "code",
   "execution_count": 31,
   "metadata": {
    "collapsed": false
   },
   "outputs": [
    {
     "data": {
      "text/plain": [
       "(3077, 8)"
      ]
     },
     "execution_count": 31,
     "metadata": {},
     "output_type": "execute_result"
    }
   ],
   "source": [
    "tem[(tem.shf==1) | (tem['type']=='sa')].shape"
   ]
  },
  {
   "cell_type": "code",
   "execution_count": 27,
   "metadata": {
    "collapsed": false,
    "scrolled": true
   },
   "outputs": [
    {
     "data": {
      "text/html": [
       "<div>\n",
       "<table border=\"1\" class=\"dataframe\">\n",
       "  <thead>\n",
       "    <tr style=\"text-align: right;\">\n",
       "      <th></th>\n",
       "      <th>DEED_TYPE</th>\n",
       "      <th>GRANTEE1</th>\n",
       "      <th>REO</th>\n",
       "      <th>date</th>\n",
       "      <th>type</th>\n",
       "      <th>parcel</th>\n",
       "      <th>vacant</th>\n",
       "      <th>shf</th>\n",
       "    </tr>\n",
       "  </thead>\n",
       "  <tbody>\n",
       "    <tr>\n",
       "      <th>90865</th>\n",
       "      <td>Sheriffs Deed</td>\n",
       "      <td>THE HUNTINGTON NATIONAL BANK</td>\n",
       "      <td>1</td>\n",
       "      <td>2014-04-07</td>\n",
       "      <td>t</td>\n",
       "      <td>131-34-009</td>\n",
       "      <td>1</td>\n",
       "      <td>1</td>\n",
       "    </tr>\n",
       "    <tr>\n",
       "      <th>47216</th>\n",
       "      <td>NaN</td>\n",
       "      <td>THIRD FEDERAL SAVINGS AND LOAN ASSOCIATION OF ...</td>\n",
       "      <td>1</td>\n",
       "      <td>2015-08-17</td>\n",
       "      <td>sa</td>\n",
       "      <td>025-17-039</td>\n",
       "      <td>0</td>\n",
       "      <td>NaN</td>\n",
       "    </tr>\n",
       "    <tr>\n",
       "      <th>56137</th>\n",
       "      <td>Sheriffs Deed</td>\n",
       "      <td>130 PROPERTIES LLC</td>\n",
       "      <td>1</td>\n",
       "      <td>2008-11-04</td>\n",
       "      <td>t</td>\n",
       "      <td>105-25-010</td>\n",
       "      <td>1</td>\n",
       "      <td>1</td>\n",
       "    </tr>\n",
       "    <tr>\n",
       "      <th>24496</th>\n",
       "      <td>NaN</td>\n",
       "      <td>LUIS ALFREDO CAMACHO CAMACHO</td>\n",
       "      <td>0</td>\n",
       "      <td>2015-06-29</td>\n",
       "      <td>sa</td>\n",
       "      <td>015-04-021</td>\n",
       "      <td>0</td>\n",
       "      <td>NaN</td>\n",
       "    </tr>\n",
       "    <tr>\n",
       "      <th>59675</th>\n",
       "      <td>Sheriffs Deed Ex</td>\n",
       "      <td>FEDERAL NATIONAL MORTGAGE ASSOCIATION</td>\n",
       "      <td>1</td>\n",
       "      <td>2015-01-16</td>\n",
       "      <td>t</td>\n",
       "      <td>108-10-035</td>\n",
       "      <td>1</td>\n",
       "      <td>1</td>\n",
       "    </tr>\n",
       "    <tr>\n",
       "      <th>89125</th>\n",
       "      <td>NaN</td>\n",
       "      <td>THE BANK OF NEW YORK MELLON F K A THE BANK OF ...</td>\n",
       "      <td>1</td>\n",
       "      <td>2015-04-20</td>\n",
       "      <td>sa</td>\n",
       "      <td>130-11-063</td>\n",
       "      <td>0</td>\n",
       "      <td>NaN</td>\n",
       "    </tr>\n",
       "    <tr>\n",
       "      <th>23080</th>\n",
       "      <td>Sheriffs Deed</td>\n",
       "      <td>UNITED TELEPHONE CREDIT UNION INC.</td>\n",
       "      <td>1</td>\n",
       "      <td>2009-09-09</td>\n",
       "      <td>t</td>\n",
       "      <td>014-08-039</td>\n",
       "      <td>0</td>\n",
       "      <td>1</td>\n",
       "    </tr>\n",
       "    <tr>\n",
       "      <th>34601</th>\n",
       "      <td>Sheriffs Deed</td>\n",
       "      <td>TRIMMER, ROBERT W.</td>\n",
       "      <td>0</td>\n",
       "      <td>2003-11-07</td>\n",
       "      <td>t</td>\n",
       "      <td>018-29-105</td>\n",
       "      <td>0</td>\n",
       "      <td>1</td>\n",
       "    </tr>\n",
       "    <tr>\n",
       "      <th>64724</th>\n",
       "      <td>Sheriffs Deed</td>\n",
       "      <td>COLONIAL SAVINGS, FA</td>\n",
       "      <td>0</td>\n",
       "      <td>2013-04-01</td>\n",
       "      <td>t</td>\n",
       "      <td>110-19-086</td>\n",
       "      <td>1</td>\n",
       "      <td>1</td>\n",
       "    </tr>\n",
       "    <tr>\n",
       "      <th>98131</th>\n",
       "      <td>Sheriffs Deed</td>\n",
       "      <td>FEDERAL NATIONAL MORTGAGE ASSOCIATION</td>\n",
       "      <td>1</td>\n",
       "      <td>2013-03-13</td>\n",
       "      <td>t</td>\n",
       "      <td>136-04-083</td>\n",
       "      <td>1</td>\n",
       "      <td>1</td>\n",
       "    </tr>\n",
       "    <tr>\n",
       "      <th>91762</th>\n",
       "      <td>Sheriffs Deed Ex</td>\n",
       "      <td>CUYAHOGA COUNTY LAND REUTILIZATION CORPORATION</td>\n",
       "      <td>1</td>\n",
       "      <td>2015-01-15</td>\n",
       "      <td>t</td>\n",
       "      <td>132-10-120</td>\n",
       "      <td>1</td>\n",
       "      <td>1</td>\n",
       "    </tr>\n",
       "    <tr>\n",
       "      <th>104228</th>\n",
       "      <td>Sheriffs Deed</td>\n",
       "      <td>U.S. BANK, NA</td>\n",
       "      <td>1</td>\n",
       "      <td>2015-01-09</td>\n",
       "      <td>t</td>\n",
       "      <td>139-04-143</td>\n",
       "      <td>0</td>\n",
       "      <td>1</td>\n",
       "    </tr>\n",
       "    <tr>\n",
       "      <th>93518</th>\n",
       "      <td>NaN</td>\n",
       "      <td>HSBC BANK USA, AS TRUSTEE FOR THE POOLING AND ...</td>\n",
       "      <td>1</td>\n",
       "      <td>2015-04-27</td>\n",
       "      <td>sa</td>\n",
       "      <td>133-16-088</td>\n",
       "      <td>1</td>\n",
       "      <td>NaN</td>\n",
       "    </tr>\n",
       "    <tr>\n",
       "      <th>88578</th>\n",
       "      <td>Sheriffs Deed</td>\n",
       "      <td>HOIMESALES, INC.</td>\n",
       "      <td>1</td>\n",
       "      <td>2007-01-23</td>\n",
       "      <td>t</td>\n",
       "      <td>130-04-117</td>\n",
       "      <td>1</td>\n",
       "      <td>1</td>\n",
       "    </tr>\n",
       "    <tr>\n",
       "      <th>31658</th>\n",
       "      <td>Sheriffs Deed Ex</td>\n",
       "      <td>FEDERAL NATIONAL MORTGAGE ASSOCIATION</td>\n",
       "      <td>1</td>\n",
       "      <td>2015-03-03</td>\n",
       "      <td>t</td>\n",
       "      <td>018-01-033</td>\n",
       "      <td>0</td>\n",
       "      <td>1</td>\n",
       "    </tr>\n",
       "    <tr>\n",
       "      <th>103277</th>\n",
       "      <td>NaN</td>\n",
       "      <td>LAKESIDE REO VENTURES, LLC</td>\n",
       "      <td>1</td>\n",
       "      <td>2015-08-31</td>\n",
       "      <td>sa</td>\n",
       "      <td>138-18-029</td>\n",
       "      <td>0</td>\n",
       "      <td>NaN</td>\n",
       "    </tr>\n",
       "    <tr>\n",
       "      <th>32698</th>\n",
       "      <td>Sheriffs Deed</td>\n",
       "      <td>DEUTSCHE BANK NATIONAL TRUST COMPANY AS TRUSTEE</td>\n",
       "      <td>1</td>\n",
       "      <td>2013-10-16</td>\n",
       "      <td>t</td>\n",
       "      <td>018-12-046</td>\n",
       "      <td>0</td>\n",
       "      <td>1</td>\n",
       "    </tr>\n",
       "    <tr>\n",
       "      <th>21029</th>\n",
       "      <td>NaN</td>\n",
       "      <td>FEDERAL HOME LOAN MORTGAGE CORPORATION</td>\n",
       "      <td>1</td>\n",
       "      <td>2015-07-13</td>\n",
       "      <td>sa</td>\n",
       "      <td>013-14-100</td>\n",
       "      <td>0</td>\n",
       "      <td>NaN</td>\n",
       "    </tr>\n",
       "    <tr>\n",
       "      <th>54211</th>\n",
       "      <td>Sheriffs Deed</td>\n",
       "      <td>SUMAC REAL ESTATE HOLDINGS LLC</td>\n",
       "      <td>1</td>\n",
       "      <td>2014-12-23</td>\n",
       "      <td>t</td>\n",
       "      <td>102-37-042</td>\n",
       "      <td>1</td>\n",
       "      <td>1</td>\n",
       "    </tr>\n",
       "    <tr>\n",
       "      <th>54556</th>\n",
       "      <td>NaN</td>\n",
       "      <td>FANNIE MAE, AKA, FEDERAL NATIONAL MORTGAGE ASS...</td>\n",
       "      <td>1</td>\n",
       "      <td>2013-07-29</td>\n",
       "      <td>sa</td>\n",
       "      <td>103-30-040</td>\n",
       "      <td>0</td>\n",
       "      <td>NaN</td>\n",
       "    </tr>\n",
       "    <tr>\n",
       "      <th>68470</th>\n",
       "      <td>NaN</td>\n",
       "      <td>LAKESIDE REO VENTURES LLC</td>\n",
       "      <td>1</td>\n",
       "      <td>2015-03-16</td>\n",
       "      <td>sa</td>\n",
       "      <td>112-21-024</td>\n",
       "      <td>0</td>\n",
       "      <td>NaN</td>\n",
       "    </tr>\n",
       "    <tr>\n",
       "      <th>26591</th>\n",
       "      <td>Sheriffs Deed</td>\n",
       "      <td>US BANK NATIONAL ASSOCIATION (TRUSTEE)</td>\n",
       "      <td>1</td>\n",
       "      <td>2014-12-12</td>\n",
       "      <td>t</td>\n",
       "      <td>015-23-160</td>\n",
       "      <td>0</td>\n",
       "      <td>1</td>\n",
       "    </tr>\n",
       "    <tr>\n",
       "      <th>89610</th>\n",
       "      <td>Sheriffs Deed</td>\n",
       "      <td>MIDFIRST BANK</td>\n",
       "      <td>1</td>\n",
       "      <td>2013-04-19</td>\n",
       "      <td>t</td>\n",
       "      <td>130-17-065</td>\n",
       "      <td>1</td>\n",
       "      <td>1</td>\n",
       "    </tr>\n",
       "    <tr>\n",
       "      <th>1873</th>\n",
       "      <td>Sheriffs Deed</td>\n",
       "      <td>SUMAC REAL ESTATE HOLDINGS LLC</td>\n",
       "      <td>1</td>\n",
       "      <td>2014-12-31</td>\n",
       "      <td>t</td>\n",
       "      <td>002-09-062</td>\n",
       "      <td>0</td>\n",
       "      <td>1</td>\n",
       "    </tr>\n",
       "    <tr>\n",
       "      <th>91257</th>\n",
       "      <td>NaN</td>\n",
       "      <td>CUYAHOGA COUNTY LAND REUTILIZATION CORPORATION</td>\n",
       "      <td>1</td>\n",
       "      <td>2015-02-23</td>\n",
       "      <td>sa</td>\n",
       "      <td>132-01-069</td>\n",
       "      <td>1</td>\n",
       "      <td>NaN</td>\n",
       "    </tr>\n",
       "    <tr>\n",
       "      <th>104018</th>\n",
       "      <td>NaN</td>\n",
       "      <td>THIRD FEDERAL SAVINGS AND LOAN ASSOCIATION OF ...</td>\n",
       "      <td>1</td>\n",
       "      <td>2014-06-16</td>\n",
       "      <td>sa</td>\n",
       "      <td>139-03-014</td>\n",
       "      <td>0</td>\n",
       "      <td>NaN</td>\n",
       "    </tr>\n",
       "    <tr>\n",
       "      <th>77951</th>\n",
       "      <td>Sheriffs Deed Ex</td>\n",
       "      <td>FEDERAL HOME LOAN MORTGAGE CORPORATION</td>\n",
       "      <td>1</td>\n",
       "      <td>2015-01-08</td>\n",
       "      <td>t</td>\n",
       "      <td>119-30-093</td>\n",
       "      <td>1</td>\n",
       "      <td>1</td>\n",
       "    </tr>\n",
       "    <tr>\n",
       "      <th>90583</th>\n",
       "      <td>Sheriffs Deed</td>\n",
       "      <td>FIRST NATIONAL BANK OF NEVADA</td>\n",
       "      <td>1</td>\n",
       "      <td>2003-04-29</td>\n",
       "      <td>t</td>\n",
       "      <td>131-29-027</td>\n",
       "      <td>0</td>\n",
       "      <td>1</td>\n",
       "    </tr>\n",
       "    <tr>\n",
       "      <th>84208</th>\n",
       "      <td>NaN</td>\n",
       "      <td>KEYBANK NATIONAL ASSOCIATION</td>\n",
       "      <td>1</td>\n",
       "      <td>2015-01-26</td>\n",
       "      <td>sa</td>\n",
       "      <td>128-04-076</td>\n",
       "      <td>1</td>\n",
       "      <td>NaN</td>\n",
       "    </tr>\n",
       "    <tr>\n",
       "      <th>111643</th>\n",
       "      <td>Sheriffs Deed Ex</td>\n",
       "      <td>CAPITALSOURCE BANK FBO AEON FINANCIAL LLC</td>\n",
       "      <td>1</td>\n",
       "      <td>2015-02-19</td>\n",
       "      <td>t</td>\n",
       "      <td>143-09-044</td>\n",
       "      <td>1</td>\n",
       "      <td>1</td>\n",
       "    </tr>\n",
       "  </tbody>\n",
       "</table>\n",
       "</div>"
      ],
      "text/plain": [
       "               DEED_TYPE                                           GRANTEE1  \\\n",
       "90865      Sheriffs Deed                       THE HUNTINGTON NATIONAL BANK   \n",
       "47216                NaN  THIRD FEDERAL SAVINGS AND LOAN ASSOCIATION OF ...   \n",
       "56137      Sheriffs Deed                                 130 PROPERTIES LLC   \n",
       "24496                NaN                       LUIS ALFREDO CAMACHO CAMACHO   \n",
       "59675   Sheriffs Deed Ex              FEDERAL NATIONAL MORTGAGE ASSOCIATION   \n",
       "89125                NaN  THE BANK OF NEW YORK MELLON F K A THE BANK OF ...   \n",
       "23080      Sheriffs Deed                 UNITED TELEPHONE CREDIT UNION INC.   \n",
       "34601      Sheriffs Deed                                 TRIMMER, ROBERT W.   \n",
       "64724      Sheriffs Deed                               COLONIAL SAVINGS, FA   \n",
       "98131      Sheriffs Deed              FEDERAL NATIONAL MORTGAGE ASSOCIATION   \n",
       "91762   Sheriffs Deed Ex     CUYAHOGA COUNTY LAND REUTILIZATION CORPORATION   \n",
       "104228     Sheriffs Deed                                      U.S. BANK, NA   \n",
       "93518                NaN  HSBC BANK USA, AS TRUSTEE FOR THE POOLING AND ...   \n",
       "88578      Sheriffs Deed                                   HOIMESALES, INC.   \n",
       "31658   Sheriffs Deed Ex              FEDERAL NATIONAL MORTGAGE ASSOCIATION   \n",
       "103277               NaN                         LAKESIDE REO VENTURES, LLC   \n",
       "32698      Sheriffs Deed    DEUTSCHE BANK NATIONAL TRUST COMPANY AS TRUSTEE   \n",
       "21029                NaN             FEDERAL HOME LOAN MORTGAGE CORPORATION   \n",
       "54211      Sheriffs Deed                     SUMAC REAL ESTATE HOLDINGS LLC   \n",
       "54556                NaN  FANNIE MAE, AKA, FEDERAL NATIONAL MORTGAGE ASS...   \n",
       "68470                NaN                          LAKESIDE REO VENTURES LLC   \n",
       "26591      Sheriffs Deed             US BANK NATIONAL ASSOCIATION (TRUSTEE)   \n",
       "89610      Sheriffs Deed                                      MIDFIRST BANK   \n",
       "1873       Sheriffs Deed                     SUMAC REAL ESTATE HOLDINGS LLC   \n",
       "91257                NaN     CUYAHOGA COUNTY LAND REUTILIZATION CORPORATION   \n",
       "104018               NaN  THIRD FEDERAL SAVINGS AND LOAN ASSOCIATION OF ...   \n",
       "77951   Sheriffs Deed Ex             FEDERAL HOME LOAN MORTGAGE CORPORATION   \n",
       "90583      Sheriffs Deed                      FIRST NATIONAL BANK OF NEVADA   \n",
       "84208                NaN                       KEYBANK NATIONAL ASSOCIATION   \n",
       "111643  Sheriffs Deed Ex          CAPITALSOURCE BANK FBO AEON FINANCIAL LLC   \n",
       "\n",
       "        REO       date type      parcel  vacant  shf  \n",
       "90865     1 2014-04-07    t  131-34-009       1    1  \n",
       "47216     1 2015-08-17   sa  025-17-039       0  NaN  \n",
       "56137     1 2008-11-04    t  105-25-010       1    1  \n",
       "24496     0 2015-06-29   sa  015-04-021       0  NaN  \n",
       "59675     1 2015-01-16    t  108-10-035       1    1  \n",
       "89125     1 2015-04-20   sa  130-11-063       0  NaN  \n",
       "23080     1 2009-09-09    t  014-08-039       0    1  \n",
       "34601     0 2003-11-07    t  018-29-105       0    1  \n",
       "64724     0 2013-04-01    t  110-19-086       1    1  \n",
       "98131     1 2013-03-13    t  136-04-083       1    1  \n",
       "91762     1 2015-01-15    t  132-10-120       1    1  \n",
       "104228    1 2015-01-09    t  139-04-143       0    1  \n",
       "93518     1 2015-04-27   sa  133-16-088       1  NaN  \n",
       "88578     1 2007-01-23    t  130-04-117       1    1  \n",
       "31658     1 2015-03-03    t  018-01-033       0    1  \n",
       "103277    1 2015-08-31   sa  138-18-029       0  NaN  \n",
       "32698     1 2013-10-16    t  018-12-046       0    1  \n",
       "21029     1 2015-07-13   sa  013-14-100       0  NaN  \n",
       "54211     1 2014-12-23    t  102-37-042       1    1  \n",
       "54556     1 2013-07-29   sa  103-30-040       0  NaN  \n",
       "68470     1 2015-03-16   sa  112-21-024       0  NaN  \n",
       "26591     1 2014-12-12    t  015-23-160       0    1  \n",
       "89610     1 2013-04-19    t  130-17-065       1    1  \n",
       "1873      1 2014-12-31    t  002-09-062       0    1  \n",
       "91257     1 2015-02-23   sa  132-01-069       1  NaN  \n",
       "104018    1 2014-06-16   sa  139-03-014       0  NaN  \n",
       "77951     1 2015-01-08    t  119-30-093       1    1  \n",
       "90583     1 2003-04-29    t  131-29-027       0    1  \n",
       "84208     1 2015-01-26   sa  128-04-076       1  NaN  \n",
       "111643    1 2015-02-19    t  143-09-044       1    1  "
      ]
     },
     "execution_count": 27,
     "metadata": {},
     "output_type": "execute_result"
    }
   ],
   "source": [
    "tem[(tem.shf==1) | (tem['type']=='sa')].sample(30)"
   ]
  },
  {
   "cell_type": "code",
   "execution_count": 42,
   "metadata": {
    "collapsed": false
   },
   "outputs": [
    {
     "data": {
      "text/plain": [
       "(904, 2151)"
      ]
     },
     "execution_count": 42,
     "metadata": {},
     "output_type": "execute_result"
    }
   ],
   "source": [
    "# look at the number of vacant, 'real estate owned' parcels vs the total REO\n",
    "sum(tci[(tci.parcel.isin(tem[(tem.REO==1) & ((tem.shf==1) | (tem['type']=='sa'))].parcel))].vacant), \\\n",
    "    len(tci[(tci.parcel.isin(tem[(tem.REO==1) & ((tem.shf==1) | (tem['type']=='sa'))].parcel))].vacant)"
   ]
  },
  {
   "cell_type": "code",
   "execution_count": 47,
   "metadata": {
    "collapsed": false
   },
   "outputs": [
    {
     "data": {
      "text/plain": [
       "(2665, 11337)"
      ]
     },
     "execution_count": 47,
     "metadata": {},
     "output_type": "execute_result"
    }
   ],
   "source": [
    "# look at the number of vacant, 'real estate owned' parcels vs the total REO\n",
    "sum(tci[(tci.parcel.isin(last[(last['type']=='fc')].index))].vacant), len(tci[(tci.parcel.isin(last[(last['type']=='fc')].index))].vacant)"
   ]
  },
  {
   "cell_type": "code",
   "execution_count": 46,
   "metadata": {
    "collapsed": false
   },
   "outputs": [
    {
     "data": {
      "text/plain": [
       "(2665, 11337)"
      ]
     },
     "execution_count": 46,
     "metadata": {},
     "output_type": "execute_result"
    }
   ],
   "source": [
    "# look at the number of vacant, 'real estate owned' parcels vs the total REO\n",
    "sum(tci[(tci.parcel.isin(last[(last['type']=='fc')].index))].vacant), len(tci[(tci.parcel.isin(last[(last['type']=='fc')].index))].vacant)"
   ]
  },
  {
   "cell_type": "code",
   "execution_count": 41,
   "metadata": {
    "collapsed": false
   },
   "outputs": [
    {
     "data": {
      "text/plain": [
       "(2037, 9336)"
      ]
     },
     "execution_count": 41,
     "metadata": {},
     "output_type": "execute_result"
    }
   ],
   "source": [
    "# look at the number of vacant, 'real estate owned' parcels vs the total REO\n",
    "sum(tci[(tci.parcel.isin(last[(last.REO==1)].index))].vacant), len(tci[(tci.parcel.isin(last[(last.REO==1)].index))].vacant)"
   ]
  },
  {
   "cell_type": "markdown",
   "metadata": {},
   "source": [
    "Compare with Pittsburgh's measure, which is a house that has been foreclosed and not yet sold in sheriff's auction or transferred."
   ]
  },
  {
   "cell_type": "code",
   "execution_count": 226,
   "metadata": {
    "collapsed": false
   },
   "outputs": [
    {
     "data": {
      "text/plain": [
       "(2665, 11337)"
      ]
     },
     "execution_count": 226,
     "metadata": {},
     "output_type": "execute_result"
    }
   ],
   "source": [
    "sub = set(last[last['type'] == 'fc'].index)\n",
    "sum(tci[tci.parcel.isin(sub)].vacant), len(tci[tci.parcel.isin(sub)].vacant)\n",
    "# second_last = df.groupby('parcel').nth(-2)\n",
    "# sub2 = set(second_last[second_last['type']=='fc'].index)"
   ]
  },
  {
   "cell_type": "markdown",
   "metadata": {},
   "source": [
    "So only 2665 out of 11337 parcels that meet this criteria are actually vacant, which is not a very good percentage."
   ]
  },
  {
   "cell_type": "markdown",
   "metadata": {},
   "source": [
    "## Postal vacancies"
   ]
  },
  {
   "cell_type": "code",
   "execution_count": 227,
   "metadata": {
    "collapsed": false
   },
   "outputs": [],
   "source": [
    "pv = pd.read_csv(path+'/data/clean_data/postal_vacancy.csv', parse_dates=3, index_col=0)\n",
    "pv.date = pv.date.apply(lambda x: dt.datetime(int(x[0:4]),int(x[5:7]),int(x[8:10])))\n",
    "pv = pv.sort_values('date',ascending=False)\n",
    "pv = pv.loc[pv.apply(lambda x: x.date < dates[x.PARCEL], axis=1)]"
   ]
  },
  {
   "cell_type": "code",
   "execution_count": 228,
   "metadata": {
    "collapsed": true
   },
   "outputs": [],
   "source": [
    "# count the number of consecutive times a parcel is postal vacant, working backwards\n",
    "def fun(x):\n",
    "    total = 0\n",
    "    recent = pv_dates[pv_dates<dates[x.parcel]]\n",
    "\n",
    "    for i,j in enumerate(x[recent]):\n",
    "        if x[recent][-i-1] == 'Y':\n",
    "            total += 1\n",
    "        else:\n",
    "            return total\n",
    "    return total\n",
    "\n",
    "pv_dates = pv.groupby('date').last().index\n",
    "pv2 = pv.pivot(index='PARCEL',columns='date').fillna('N').reset_index()\n",
    "pv2.columns = pv2.columns.droplevel()\n",
    "pv2.columns.values[0] = 'parcel'\n",
    "pv2['pv_count'] = pv2.apply(fun, axis=1)\n",
    "pv2 = pv2.set_index('parcel')"
   ]
  },
  {
   "cell_type": "markdown",
   "metadata": {},
   "source": [
    "Compare the number of postal vacant homes (at least 1 term in a row) to the actually vacant homes."
   ]
  },
  {
   "cell_type": "code",
   "execution_count": 70,
   "metadata": {
    "collapsed": false
   },
   "outputs": [
    {
     "data": {
      "text/plain": [
       "(10038, 113132)"
      ]
     },
     "execution_count": 70,
     "metadata": {},
     "output_type": "execute_result"
    }
   ],
   "source": [
    "sum(tci.vacant), len(tci.vacant)"
   ]
  },
  {
   "cell_type": "code",
   "execution_count": 230,
   "metadata": {
    "collapsed": false
   },
   "outputs": [
    {
     "data": {
      "text/plain": [
       "(4426, 8904)"
      ]
     },
     "execution_count": 230,
     "metadata": {},
     "output_type": "execute_result"
    }
   ],
   "source": [
    "sum(tci[tci.parcel.isin(pv2[pv2.pv_count>0].index)].vacant),len(tci[tci.parcel.isin(pv2[pv2.pv_count>0].index)].vacant)"
   ]
  },
  {
   "cell_type": "markdown",
   "metadata": {},
   "source": [
    "About half of the postal vacant homes are actually vacant right now. That's a lot better than the other measures, but still far away from being as accurate as we'd like."
   ]
  }
 ],
 "metadata": {
  "kernelspec": {
   "display_name": "Python 3",
   "language": "python",
   "name": "python3"
  },
  "language_info": {
   "codemirror_mode": {
    "name": "ipython",
    "version": 3
   },
   "file_extension": ".py",
   "mimetype": "text/x-python",
   "name": "python",
   "nbconvert_exporter": "python",
   "pygments_lexer": "ipython3",
   "version": "3.4.4"
  }
 },
 "nbformat": 4,
 "nbformat_minor": 0
}
