{
 "cells": [
  {
   "cell_type": "markdown",
   "metadata": {},
   "source": [
    "# 3.1 Build models"
   ]
  },
  {
   "cell_type": "code",
   "execution_count": 35,
   "metadata": {
    "collapsed": false
   },
   "outputs": [
    {
     "name": "stdout",
     "output_type": "stream",
     "text": [
      "/Volumes/Dropbox/largetransfer/luc/carter\n"
     ]
    }
   ],
   "source": [
    "import pandas as pd\n",
    "from sklearn.ensemble import RandomForestClassifier\n",
    "import matplotlib.pyplot as plt\n",
    "import numpy as np\n",
    "import seaborn as sns\n",
    "import math\n",
    "from sklearn.preprocessing import Imputer\n",
    "from sklearn.base import TransformerMixin\n",
    "from sklearn import cross_validation\n",
    "from sklearn.grid_search import GridSearchCV\n",
    "from sklearn.linear_model import LogisticRegression\n",
    "from sklearn import preprocessing\n",
    "from sklearn.cross_validation import cross_val_score\n",
    "from sklearn.externals import joblib\n",
    "import xgboost as xgb\n",
    "import os\n",
    "\n",
    "def sound():\n",
    "    os.system('afplay /System/Library/Sounds/Sosumi.aiff')\n",
    "\n",
    "%matplotlib inline\n",
    "# sns.set_context('notebook')\n",
    "\n",
    "path = '/'.join(os.getcwd().split('/')[:-2])\n",
    "print(path)"
   ]
  },
  {
   "cell_type": "code",
   "execution_count": 36,
   "metadata": {
    "collapsed": false
   },
   "outputs": [],
   "source": [
    "rfc = joblib.load(path+'/data/models/rfc2.pkl') \n",
    "lr = joblib.load(path+'/data/models/lr2.pkl') \n",
    "gbm = xgb.Booster() #init model\n",
    "gbm.load_model(path+'/data/models/gbm2.pkl')"
   ]
  },
  {
   "cell_type": "code",
   "execution_count": 41,
   "metadata": {
    "collapsed": false
   },
   "outputs": [
    {
     "name": "stdout",
     "output_type": "stream",
     "text": [
      "2009-10-01 00:00:00 6328 8385 19563\n",
      "2010-01-01 00:00:00 6969 8541 17026\n",
      "2010-04-01 00:00:00 7184 9152 20865\n",
      "2010-07-01 00:00:00 7879 8464 16246\n",
      "2010-10-01 00:00:00 6497 8744 14126\n",
      "2011-01-01 00:00:00 6255 8904 14071\n",
      "2011-04-01 00:00:00 6445 9812 14548\n",
      "2011-07-01 00:00:00 6342 9495 12893\n",
      "2011-10-01 00:00:00 6026 8837 11043\n",
      "2012-01-01 00:00:00 6347 8711 10474\n",
      "2012-04-01 00:00:00 7900 9132 11987\n",
      "2012-07-01 00:00:00 7278 9794 10682\n",
      "2012-10-01 00:00:00 7598 9432 9871\n",
      "2013-01-01 00:00:00 8566 9727 9499\n",
      "2013-04-01 00:00:00 9076 11533 12448\n",
      "2013-07-01 00:00:00 9040 11593 12017\n",
      "2013-10-01 00:00:00 8375 11014 11286\n",
      "2014-01-01 00:00:00 8473 11038 10919\n",
      "2014-04-01 00:00:00 8808 12012 11324\n",
      "2014-07-01 00:00:00 8986 11979 10945\n",
      "2014-10-01 00:00:00 8572 11556 10504\n",
      "2015-01-01 00:00:00 9266 13028 11366\n",
      "2015-04-01 00:00:00 8937 12738 10919\n"
     ]
    }
   ],
   "source": [
    "rng = pd.date_range('10/1/2009', periods=23, freq='3MS')\n",
    "all_preds = pd.DataFrame()\n",
    "for date in rng:\n",
    "\n",
    "    df = pd.read_csv(path+'/data/model_data/tci_3_0_'+str(date.year)+'_'+str(date.month)+'.csv', index_col=0)\n",
    "    features = list(df.columns)\n",
    "    features.remove('vacant')\n",
    "#     features.remove('Date')\n",
    "#     features.remove('Survey Category')\n",
    "#     features.remove('Survey Grade')\n",
    "#     features.remove('SPA_NAME')\n",
    "#     features.remove('style_filtered')\n",
    "#     features.remove('LENDER_PROCESS_TYPE')\n",
    "\n",
    "#     from sklearn.cross_validation import train_test_split\n",
    "#     X_train, X_test, y_train, y_test = train_test_split(df[features], df['vacant'], test_size=0.2, random_state=42)\n",
    "    dmat = xgb.DMatrix(df[features])\n",
    "#     preds\n",
    "    pred_r = rfc.predict_proba(df[features])\n",
    "    pred_g = gbm.predict(dmat)\n",
    "    pred_l = lr.predict_proba(df[features])\n",
    "    preds = pd.concat([pd.DataFrame(pred_r[:,1], index=df.index).rename(columns={0:'rf'}),\\\n",
    "           pd.DataFrame(pred_l[:,1], index=df.index).rename(columns={0:'lr'}),\\\n",
    "           pd.DataFrame(pred_g, index=df.index).rename(columns={0:'gbm'}),\\\n",
    "           df[['pv_count']]], axis=1).reset_index()\n",
    "    preds['date'] = date\n",
    "    all_preds = pd.concat([all_preds, preds], axis=0)\n",
    "#     preds[preds.index==date]\n",
    "    print(date, sum(pd.Series(gbm.predict(dmat)).apply(lambda x: 0 if x < 0.3 else 1)), \\\n",
    "          sum(pd.Series(pred_r[:,1]).apply(lambda x: 0 if x < 0.4 else 1)),\\\n",
    "          sum(pd.Series(pred_l[:,1]).apply(lambda x: 0 if x < 0.5 else 1)))\n",
    "all_preds.to_csv(path+'/outputs/all_predictions2.csv')"
   ]
  },
  {
   "cell_type": "code",
   "execution_count": 39,
   "metadata": {
    "collapsed": false
   },
   "outputs": [],
   "source": [
    "all_preds = pd.read_csv(path+'/outputs/all_predictions2.csv', index_col=0, parse_dates=['date'])"
   ]
  },
  {
   "cell_type": "code",
   "execution_count": 42,
   "metadata": {
    "collapsed": false
   },
   "outputs": [
    {
     "data": {
      "text/plain": [
       "(2602036, 6)"
      ]
     },
     "execution_count": 42,
     "metadata": {},
     "output_type": "execute_result"
    }
   ],
   "source": [
    "all_preds.shape"
   ]
  },
  {
   "cell_type": "code",
   "execution_count": 43,
   "metadata": {
    "collapsed": false
   },
   "outputs": [
    {
     "data": {
      "text/plain": [
       "<matplotlib.legend.Legend at 0x12aaab390>"
      ]
     },
     "execution_count": 43,
     "metadata": {},
     "output_type": "execute_result"
    },
    {
     "data": {
      "image/png": "[encoded data removed]",
      "text/plain": [
       "<matplotlib.figure.Figure at 0x12aaab5c0>"
      ]
     },
     "metadata": {},
     "output_type": "display_data"
    }
   ],
   "source": [
    "plt.plot(all_preds[all_preds.pv_count>0].groupby('date').count().gbm)\n",
    "plt.title('Number of postal vacant homes')\n",
    "\n",
    "plt.ylim([0,14000])\n",
    "plt.legend(['Postal vacancy'], loc='lower right')\n",
    "# plt.savefig(path+'/outputs/thresholds/pv.png')"
   ]
  },
  {
   "cell_type": "code",
   "execution_count": 44,
   "metadata": {
    "collapsed": false
   },
   "outputs": [
    {
     "data": {
      "text/plain": [
       "<matplotlib.legend.Legend at 0x152995940>"
      ]
     },
     "execution_count": 44,
     "metadata": {},
     "output_type": "execute_result"
    },
    {
     "data": {
      "image/png": "[encoded data removed]",
      "text/plain": [
       "<matplotlib.figure.Figure at 0x166410c50>"
      ]
     },
     "metadata": {},
     "output_type": "display_data"
    }
   ],
   "source": [
    "plt.plot(all_preds[all_preds.pv_count>0].groupby('date').count().gbm,)\n",
    "plt.plot(all_preds[all_preds.rf>0.55].groupby('date').count().gbm)\n",
    "plt.plot(all_preds[all_preds.lr>0.6].groupby('date').count().gbm)\n",
    "plt.plot(all_preds[all_preds.gbm>0.3].groupby('date').count().gbm)\n",
    "\n",
    "plt.title('Number of postal vacant homes')\n",
    "# plt.savefig(path+'/outputs/thresholds/pv.png')\n",
    "plt.ylim([0,14000])\n",
    "plt.legend(['Postal vacancy','Random forest','Logistic regression','Gradient boosted'], loc='lower right')"
   ]
  },
  {
   "cell_type": "code",
   "execution_count": null,
   "metadata": {
    "collapsed": false
   },
   "outputs": [],
   "source": [
    "plt.title('Random forest model at different thresholds')\n",
    "plt.plot(all_preds[all_preds.rf>0.4].groupby('date').count().gbm,'--')\n",
    "plt.plot(all_preds[all_preds.rf>0.45].groupby('date').count().gbm,'--')\n",
    "plt.plot(all_preds[all_preds.rf>0.5].groupby('date').count().gbm,'--')\n",
    "plt.plot(all_preds[all_preds.rf>0.55].groupby('date').count().gbm, linewidth=3)\n",
    "plt.plot(all_preds[all_preds.rf>0.6].groupby('date').count().gbm,'--')\n",
    "plt.legend(['0.4','0.45','0.5','0.55','0.6'], loc='lower right')\n",
    "plt.ylim([0,14000])\n",
    "# plt.savefig(path+'/outputs/thresholds/rf.png')"
   ]
  },
  {
   "cell_type": "code",
   "execution_count": null,
   "metadata": {
    "collapsed": false
   },
   "outputs": [],
   "source": [
    "# plt.plot(all_preds[all_preds.lr>0.4].groupby('date').count().gbm,'--')\n",
    "plt.plot(all_preds[all_preds.lr>0.55].groupby('date').count().gbm,'--')\n",
    "plt.plot(all_preds[all_preds.lr>0.6].groupby('date').count().gbm,linewidth=3)\n",
    "plt.plot(all_preds[all_preds.lr>0.65].groupby('date').count().gbm,'--')\n",
    "plt.plot(all_preds[all_preds.lr>0.7].groupby('date').count().gbm,'--')\n",
    "plt.title('Logistic regression model at different thresholds')\n",
    "plt.legend(['0.55','0.6','0.65','.7'], loc='upper right')\n",
    "plt.ylim([0,14000])\n",
    "# plt.savefig(path+'/outputs/thresholds/lr.png')"
   ]
  },
  {
   "cell_type": "code",
   "execution_count": null,
   "metadata": {
    "collapsed": false
   },
   "outputs": [],
   "source": [
    "plt.plot(all_preds[all_preds.gbm>0.2].groupby('date').count().gbm,'--')\n",
    "plt.plot(all_preds[all_preds.gbm>0.25].groupby('date').count().gbm,'--')\n",
    "plt.plot(all_preds[all_preds.gbm>0.3].groupby('date').count().gbm,linewidth=3)\n",
    "plt.plot(all_preds[all_preds.gbm>0.4].groupby('date').count().gbm,'--')\n",
    "plt.plot(all_preds[all_preds.gbm>0.5].groupby('date').count().gbm,'--')\n",
    "plt.title('Gradient boosted model at different thresholds')\n",
    "plt.legend(['0.2','0.25','0.3','0.4','0.5'], loc='lower right')\n",
    "plt.ylim([0,14000])\n",
    "\n",
    "# plt.savefig(path+'/outputs/thresholds/gb.png')\n"
   ]
  },
  {
   "cell_type": "markdown",
   "metadata": {},
   "source": [
    "## Importances"
   ]
  },
  {
   "cell_type": "code",
   "execution_count": null,
   "metadata": {
    "collapsed": false
   },
   "outputs": [],
   "source": [
    "# plot the top ten features\n",
    "\n",
    "importances = rfc.feature_importances_\n",
    "std = np.std([tree.feature_importances_ for tree in rfc.estimators_],\n",
    "             axis=0)\n",
    "indices = np.argsort(importances)[::-1]\n",
    "\n",
    "# Print the feature ranking\n",
    "print(\"Feature ranking:\")\n",
    "\n",
    "for f in range(10):\n",
    "    print(\"%d. feature %d, %s (%f)\" % (f + 1, indices[f], features[indices[f]], importances[indices[f]]))\n",
    "    \n",
    "# Plot the feature importances of the forest\n",
    "plt.figure()\n",
    "plt.title(\"Feature importances\")\n",
    "plt.bar(range(10), importances[indices[0:10]], yerr=std[indices[0:10]], align=\"center\")\n",
    "plt.xticks(range(10), indices[0:10])\n",
    "plt.xlim([-1, 10])\n",
    "plt.show()"
   ]
  },
  {
   "cell_type": "code",
   "execution_count": null,
   "metadata": {
    "collapsed": false
   },
   "outputs": [],
   "source": [
    "# Print the feature ranking\n",
    "features2 = pd.DataFrame(features).iloc[indices[0:10]][0].values\n",
    "\n",
    "print(\"Feature ranking (least important):\")\n",
    "\n",
    "for f in range(10):\n",
    "    print(\"%d. feature %d, %s (%f)\" % (f + 1, indices[-f-1], features[indices[-f-1]], importances[indices[-f-1]]))\n",
    "# Plot the feature importances of the forest\n",
    "plt.figure()\n",
    "plt.title(\"Feature importances\")\n",
    "plt.bar(range(10), importances[indices[-10:]], yerr=std[indices[-10:]], align=\"center\")\n",
    "plt.xticks(range(10), indices[-10:])\n",
    "plt.xlim([-1, 10])\n",
    "plt.show()"
   ]
  },
  {
   "cell_type": "code",
   "execution_count": null,
   "metadata": {
    "collapsed": false
   },
   "outputs": [],
   "source": [
    "tem = pd.concat([res[['correct']].iloc[range(0,22,2)], \\\n",
    "           log_res[['correct']].iloc[range(0,22,2)],\\\n",
    "           xgb_res[['correct']].iloc[range(0,22,2)] ], axis=1)\n",
    "\n",
    "tem.columns = ['Random forest','Logistic regression','Gradient boosted']\n",
    "\n",
    "tem"
   ]
  },
  {
   "cell_type": "code",
   "execution_count": null,
   "metadata": {
    "collapsed": true
   },
   "outputs": [],
   "source": []
  }
 ],
 "metadata": {
  "kernelspec": {
   "display_name": "Python 3",
   "language": "python",
   "name": "python3"
  },
  "language_info": {
   "codemirror_mode": {
    "name": "ipython",
    "version": 3
   },
   "file_extension": ".py",
   "mimetype": "text/x-python",
   "name": "python",
   "nbconvert_exporter": "python",
   "pygments_lexer": "ipython3",
   "version": "3.4.4"
  }
 },
 "nbformat": 4,
 "nbformat_minor": 0
}
