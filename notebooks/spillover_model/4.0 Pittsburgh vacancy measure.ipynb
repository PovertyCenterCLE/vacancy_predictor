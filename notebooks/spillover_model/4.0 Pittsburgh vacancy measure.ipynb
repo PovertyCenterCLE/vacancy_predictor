{
 "cells": [
  {
   "cell_type": "code",
   "execution_count": 1,
   "metadata": {
    "collapsed": false
   },
   "outputs": [
    {
     "name": "stdout",
     "output_type": "stream",
     "text": [
      "/Volumes/Dropbox/largetransfer/luc/carter\n"
     ]
    },
    {
     "name": "stderr",
     "output_type": "stream",
     "text": [
      "//anaconda/envs/data_sci/lib/python3.4/site-packages/matplotlib/__init__.py:872: UserWarning: axes.color_cycle is deprecated and replaced with axes.prop_cycle; please use the latter.\n",
      "  warnings.warn(self.msg_depr % (key, alt_key))\n"
     ]
    }
   ],
   "source": [
    "import matplotlib.pyplot as plt\n",
    "import datetime as dt\n",
    "import seaborn as sns\n",
    "import pandas as pd\n",
    "import numpy as np\n",
    "import os\n",
    "\n",
    "%matplotlib inline\n",
    "\n",
    "path = '/'.join(os.getcwd().split('/')[:-2])\n",
    "print(path)"
   ]
  },
  {
   "cell_type": "code",
   "execution_count": 2,
   "metadata": {
    "collapsed": false
   },
   "outputs": [
    {
     "name": "stdout",
     "output_type": "stream",
     "text": [
      "(113132, 9)\n"
     ]
    }
   ],
   "source": [
    "tci = pd.read_csv(path+'/data/model_data/tci_2_2.csv', parse_dates=['Date'], dtype={'Parcel ID':str})\n",
    "ppns = set(tci['parcel'])\n",
    "ppns_num = set(tci['parcel'].apply(lambda x: x.replace('-','')))\n",
    "\n",
    "dates = dict(zip(tci.parcel, tci.Date))\n",
    "\n",
    "print(tci.shape)"
   ]
  },
  {
   "cell_type": "code",
   "execution_count": 3,
   "metadata": {
    "collapsed": false
   },
   "outputs": [],
   "source": [
    "fc = pd.read_csv(path+'/data/clean_data/foreclosure_filings2.csv', parse_dates=[2])\n",
    "\n",
    "fc = fc.sort_values('filedate').groupby('caseno').last()\n",
    "fc = fc.rename(columns={'filedate':'date'}).reset_index()\n",
    "fc['type'] = 'fc'\n",
    "fc = fc[['date','type','parcel']]\n"
   ]
  },
  {
   "cell_type": "code",
   "execution_count": 4,
   "metadata": {
    "collapsed": false
   },
   "outputs": [
    {
     "data": {
      "text/html": [
       "<div>\n",
       "<table border=\"1\" class=\"dataframe\">\n",
       "  <thead>\n",
       "    <tr style=\"text-align: right;\">\n",
       "      <th></th>\n",
       "      <th>date</th>\n",
       "      <th>type</th>\n",
       "      <th>parcel</th>\n",
       "    </tr>\n",
       "  </thead>\n",
       "  <tbody>\n",
       "    <tr>\n",
       "      <th>0</th>\n",
       "      <td>2006-10-03</td>\n",
       "      <td>fc</td>\n",
       "      <td>107-16-046</td>\n",
       "    </tr>\n",
       "    <tr>\n",
       "      <th>1</th>\n",
       "      <td>2006-10-03</td>\n",
       "      <td>fc</td>\n",
       "      <td>119-01-007</td>\n",
       "    </tr>\n",
       "  </tbody>\n",
       "</table>\n",
       "</div>"
      ],
      "text/plain": [
       "        date type      parcel\n",
       "0 2006-10-03   fc  107-16-046\n",
       "1 2006-10-03   fc  119-01-007"
      ]
     },
     "execution_count": 4,
     "metadata": {},
     "output_type": "execute_result"
    }
   ],
   "source": [
    "fc.head(2)"
   ]
  },
  {
   "cell_type": "code",
   "execution_count": 32,
   "metadata": {
    "collapsed": true
   },
   "outputs": [],
   "source": [
    "sa = pd.read_csv(path+'/data/clean_data/sheriff_auction.csv', parse_dates=[2], encoding=\"ISO-8859-1\")\n",
    "\n",
    "sa = sa.sort_values('salesdt').groupby('parcel').last()\n",
    "sa = sa.rename(columns={'salesdt':'date'})\n",
    "sa = sa[['date']]\n",
    "sa['type'] = 'sa'\n",
    "sa = sa.reset_index()"
   ]
  },
  {
   "cell_type": "code",
   "execution_count": 36,
   "metadata": {
    "collapsed": false
   },
   "outputs": [],
   "source": [
    "al = pd.read_csv(path+'/data/clean_data/armslength.csv',dtype=str)\n",
    "al = al.drop_duplicates()\n",
    "\n",
    "months = dict(zip(['JAN','FEB','MAR','APR','MAY','JUN','JUL','AUG','SEP','OCT','NOV','DEC'],range(1,13)))\n",
    "\n",
    "def parse_date(x):\n",
    "    day = int(x[0:2])\n",
    "    month = months[x[2:5]]\n",
    "    year = int(x[5:])\n",
    "    return dt.datetime(year,month,day)\n",
    "\n",
    "al['date'] = al.mdate.apply(parse_date)\n",
    "# al = al[al.date < dt.datetime(2015,6,1)]\n",
    "\n",
    "al = al.rename(columns={'PROPERTY_NUMBER':'parcel'})\n",
    "al = al[['date','parcel']]\n",
    "al['type'] = 'al'"
   ]
  },
  {
   "cell_type": "code",
   "execution_count": 65,
   "metadata": {
    "collapsed": false
   },
   "outputs": [],
   "source": [
    "t = pd.read_csv(path+'/data/clean_data/transfers.csv', parse_dates=['mdate'], dtype=str)\n",
    "t = t[(t.DEED_TYPE.isin(['Sheriffs Deed Ex','Sheriffs Deed']))]\n",
    "t = t[['PROPERTY_NUMBER','mdate']].rename(columns={'PROPERTY_NUMBER':'parcel','mdate':'date'})\n",
    "t['type'] = 't'"
   ]
  },
  {
   "cell_type": "code",
   "execution_count": 28,
   "metadata": {
    "collapsed": false
   },
   "outputs": [
    {
     "data": {
      "text/plain": [
       "<matplotlib.axes._subplots.AxesSubplot at 0x113ca3ef0>"
      ]
     },
     "execution_count": 28,
     "metadata": {},
     "output_type": "execute_result"
    },
    {
     "data": {
      "image/png": "[encoded data removed]",
      "text/plain": [
       "<matplotlib.figure.Figure at 0x113ca0630>"
      ]
     },
     "metadata": {},
     "output_type": "display_data"
    }
   ],
   "source": [
    "tci.groupby([tci.Date.dt.year, tci.Date.dt.month]).count().plot(kind=\"bar\")"
   ]
  },
  {
   "cell_type": "code",
   "execution_count": 60,
   "metadata": {
    "collapsed": false
   },
   "outputs": [
    {
     "data": {
      "text/plain": [
       "(Timestamp('2016-01-08 00:00:00'),\n",
       " Timestamp('2015-12-31 00:00:00'),\n",
       " Timestamp('2015-12-07 00:00:00'))"
      ]
     },
     "execution_count": 60,
     "metadata": {},
     "output_type": "execute_result"
    }
   ],
   "source": [
    "max(t.date), max(al.date), max(sa.date)"
   ]
  },
  {
   "cell_type": "code",
   "execution_count": 66,
   "metadata": {
    "collapsed": false
   },
   "outputs": [],
   "source": [
    "# df = fc.append(sa).append(al).append(t)\n",
    "df = t.append(al)\n",
    "df = df.sort_values('date')\n",
    "# df = pd.merge(df, tci[['NAME10','SPA_NAME']], how='left', right_index=True, left_index=True)"
   ]
  },
  {
   "cell_type": "code",
   "execution_count": 67,
   "metadata": {
    "collapsed": false
   },
   "outputs": [],
   "source": [
    "df = pd.merge(df, tci[['parcel','Date']].set_index('parcel'), how='left',left_on='parcel',right_index=True)\n",
    "df = df[df.date < df.Date]"
   ]
  },
  {
   "cell_type": "code",
   "execution_count": 68,
   "metadata": {
    "collapsed": false
   },
   "outputs": [],
   "source": [
    "last = df.groupby('parcel').last()"
   ]
  },
  {
   "cell_type": "code",
   "execution_count": 69,
   "metadata": {
    "collapsed": false
   },
   "outputs": [
    {
     "data": {
      "text/plain": [
       "(1378, 5909)"
      ]
     },
     "execution_count": 69,
     "metadata": {},
     "output_type": "execute_result"
    }
   ],
   "source": [
    "sub = set(last[last['type'] == 't'].index)\n",
    "sum(tci[tci.parcel.isin(sub)].vacant), len(tci[tci.parcel.isin(sub)].vacant)"
   ]
  },
  {
   "cell_type": "code",
   "execution_count": 71,
   "metadata": {
    "collapsed": false
   },
   "outputs": [
    {
     "data": {
      "text/plain": [
       "(4983, 48770)"
      ]
     },
     "execution_count": 71,
     "metadata": {},
     "output_type": "execute_result"
    }
   ],
   "source": [
    "sub = set(last[last['type'] == 'al'].index)\n",
    "sum(tci[tci.parcel.isin(sub)].vacant), len(tci[tci.parcel.isin(sub)].vacant)"
   ]
  },
  {
   "cell_type": "code",
   "execution_count": 54,
   "metadata": {
    "collapsed": false
   },
   "outputs": [
    {
     "data": {
      "text/plain": [
       "(3272, 42345)"
      ]
     },
     "execution_count": 54,
     "metadata": {},
     "output_type": "execute_result"
    }
   ],
   "source": [
    "sub = set(last[last['type'] == 'al'].index)\n",
    "sum(tci[tci.parcel.isin(sub)].vacant), len(tci[tci.parcel.isin(sub)].vacant)"
   ]
  },
  {
   "cell_type": "code",
   "execution_count": 53,
   "metadata": {
    "collapsed": false
   },
   "outputs": [],
   "source": [
    "second_last = df.groupby('parcel').nth(-2)"
   ]
  },
  {
   "cell_type": "code",
   "execution_count": 54,
   "metadata": {
    "collapsed": false
   },
   "outputs": [],
   "source": [
    "pitt_vacant = set(second_last[second_last.index.isin(sub)].index)"
   ]
  },
  {
   "cell_type": "code",
   "execution_count": 55,
   "metadata": {
    "collapsed": false
   },
   "outputs": [
    {
     "data": {
      "text/plain": [
       "(1836, 5220)"
      ]
     },
     "execution_count": 55,
     "metadata": {},
     "output_type": "execute_result"
    }
   ],
   "source": [
    "sum(tci[tci.parcel.isin(pitt_vacant)].vacant), len(tci[tci.parcel.isin(pitt_vacant)].vacant)"
   ]
  },
  {
   "cell_type": "code",
   "execution_count": 17,
   "metadata": {
    "collapsed": false
   },
   "outputs": [
    {
     "data": {
      "text/plain": [
       "(1334, 3892)"
      ]
     },
     "execution_count": 17,
     "metadata": {},
     "output_type": "execute_result"
    }
   ],
   "source": [
    "sum(tci[tci.parcel.isin(pitt_vacant)].vacant), len(tci[tci.parcel.isin(pitt_vacant)].vacant)"
   ]
  },
  {
   "cell_type": "code",
   "execution_count": 18,
   "metadata": {
    "collapsed": false
   },
   "outputs": [
    {
     "data": {
      "text/plain": [
       "10038"
      ]
     },
     "execution_count": 18,
     "metadata": {},
     "output_type": "execute_result"
    }
   ],
   "source": [
    "sum(tci.vacant)"
   ]
  },
  {
   "cell_type": "code",
   "execution_count": 19,
   "metadata": {
    "collapsed": false
   },
   "outputs": [
    {
     "data": {
      "text/plain": [
       "0.34275436793422404"
      ]
     },
     "execution_count": 19,
     "metadata": {},
     "output_type": "execute_result"
    }
   ],
   "source": [
    "1334.0/ 3892"
   ]
  },
  {
   "cell_type": "code",
   "execution_count": 56,
   "metadata": {
    "collapsed": false
   },
   "outputs": [],
   "source": [
    "temp = df[df.parcel.isin(pitt_vacant)].groupby('parcel').agg(lambda x: (x.date.iloc[-1]-x.date.iloc[-2]).days)"
   ]
  },
  {
   "cell_type": "code",
   "execution_count": 57,
   "metadata": {
    "collapsed": false
   },
   "outputs": [
    {
     "data": {
      "text/plain": [
       "378.0"
      ]
     },
     "execution_count": 57,
     "metadata": {},
     "output_type": "execute_result"
    }
   ],
   "source": [
    "np.median(temp.date)"
   ]
  },
  {
   "cell_type": "code",
   "execution_count": 58,
   "metadata": {
    "collapsed": false
   },
   "outputs": [
    {
     "data": {
      "image/png": "[encoded data removed]",
      "text/plain": [
       "<matplotlib.figure.Figure at 0x1040f95f8>"
      ]
     },
     "metadata": {},
     "output_type": "display_data"
    }
   ],
   "source": [
    "sns.distplot(temp.date);"
   ]
  },
  {
   "cell_type": "code",
   "execution_count": 29,
   "metadata": {
    "collapsed": false
   },
   "outputs": [],
   "source": [
    "pv = pd.read_csv(path+'/data/clean_data/postal_vacancy.csv', parse_dates=3, index_col=0)\n",
    "pv.date = pv.date.apply(lambda x: dt.datetime(int(x[0:4]),int(x[5:7]),int(x[8:10])))\n",
    "pv = pv.sort_values('date',ascending=False)\n",
    "pv = pv.loc[pv.apply(lambda x: x.date < dates[x.PARCEL], axis=1)]"
   ]
  },
  {
   "cell_type": "code",
   "execution_count": 30,
   "metadata": {
    "collapsed": false
   },
   "outputs": [
    {
     "data": {
      "text/plain": [
       "Timestamp('2015-10-01 00:00:00')"
      ]
     },
     "execution_count": 30,
     "metadata": {},
     "output_type": "execute_result"
    }
   ],
   "source": [
    "max(pv.date)"
   ]
  },
  {
   "cell_type": "code",
   "execution_count": 49,
   "metadata": {
    "collapsed": false
   },
   "outputs": [
    {
     "data": {
      "text/html": [
       "<div>\n",
       "<table border=\"1\" class=\"dataframe\">\n",
       "  <thead>\n",
       "    <tr style=\"text-align: right;\">\n",
       "      <th></th>\n",
       "      <th>PARCEL</th>\n",
       "      <th>vindall</th>\n",
       "    </tr>\n",
       "    <tr>\n",
       "      <th>date</th>\n",
       "      <th></th>\n",
       "      <th></th>\n",
       "    </tr>\n",
       "  </thead>\n",
       "  <tbody>\n",
       "    <tr>\n",
       "      <th>2008-07-01</th>\n",
       "      <td>7551</td>\n",
       "      <td>7551</td>\n",
       "    </tr>\n",
       "    <tr>\n",
       "      <th>2009-08-01</th>\n",
       "      <td>6996</td>\n",
       "      <td>6996</td>\n",
       "    </tr>\n",
       "    <tr>\n",
       "      <th>2009-09-01</th>\n",
       "      <td>6780</td>\n",
       "      <td>6780</td>\n",
       "    </tr>\n",
       "    <tr>\n",
       "      <th>2010-01-01</th>\n",
       "      <td>6570</td>\n",
       "      <td>6570</td>\n",
       "    </tr>\n",
       "    <tr>\n",
       "      <th>2010-03-01</th>\n",
       "      <td>6667</td>\n",
       "      <td>6667</td>\n",
       "    </tr>\n",
       "    <tr>\n",
       "      <th>2010-05-01</th>\n",
       "      <td>6780</td>\n",
       "      <td>6780</td>\n",
       "    </tr>\n",
       "    <tr>\n",
       "      <th>2010-07-01</th>\n",
       "      <td>7170</td>\n",
       "      <td>7170</td>\n",
       "    </tr>\n",
       "    <tr>\n",
       "      <th>2010-09-01</th>\n",
       "      <td>9261</td>\n",
       "      <td>9261</td>\n",
       "    </tr>\n",
       "    <tr>\n",
       "      <th>2011-01-01</th>\n",
       "      <td>8613</td>\n",
       "      <td>8613</td>\n",
       "    </tr>\n",
       "    <tr>\n",
       "      <th>2011-03-01</th>\n",
       "      <td>8677</td>\n",
       "      <td>8677</td>\n",
       "    </tr>\n",
       "    <tr>\n",
       "      <th>2011-06-01</th>\n",
       "      <td>8686</td>\n",
       "      <td>8686</td>\n",
       "    </tr>\n",
       "    <tr>\n",
       "      <th>2011-10-01</th>\n",
       "      <td>8444</td>\n",
       "      <td>8444</td>\n",
       "    </tr>\n",
       "    <tr>\n",
       "      <th>2011-12-01</th>\n",
       "      <td>8367</td>\n",
       "      <td>8367</td>\n",
       "    </tr>\n",
       "    <tr>\n",
       "      <th>2012-02-01</th>\n",
       "      <td>8327</td>\n",
       "      <td>8327</td>\n",
       "    </tr>\n",
       "    <tr>\n",
       "      <th>2012-04-01</th>\n",
       "      <td>8387</td>\n",
       "      <td>8387</td>\n",
       "    </tr>\n",
       "    <tr>\n",
       "      <th>2012-06-01</th>\n",
       "      <td>8463</td>\n",
       "      <td>8463</td>\n",
       "    </tr>\n",
       "    <tr>\n",
       "      <th>2012-10-01</th>\n",
       "      <td>8503</td>\n",
       "      <td>8503</td>\n",
       "    </tr>\n",
       "    <tr>\n",
       "      <th>2012-12-01</th>\n",
       "      <td>8575</td>\n",
       "      <td>8575</td>\n",
       "    </tr>\n",
       "    <tr>\n",
       "      <th>2013-02-01</th>\n",
       "      <td>8511</td>\n",
       "      <td>8511</td>\n",
       "    </tr>\n",
       "    <tr>\n",
       "      <th>2013-04-01</th>\n",
       "      <td>8783</td>\n",
       "      <td>8783</td>\n",
       "    </tr>\n",
       "    <tr>\n",
       "      <th>2013-08-01</th>\n",
       "      <td>8675</td>\n",
       "      <td>8675</td>\n",
       "    </tr>\n",
       "    <tr>\n",
       "      <th>2013-12-01</th>\n",
       "      <td>8578</td>\n",
       "      <td>8578</td>\n",
       "    </tr>\n",
       "    <tr>\n",
       "      <th>2014-02-01</th>\n",
       "      <td>8682</td>\n",
       "      <td>8682</td>\n",
       "    </tr>\n",
       "    <tr>\n",
       "      <th>2014-06-01</th>\n",
       "      <td>8733</td>\n",
       "      <td>8733</td>\n",
       "    </tr>\n",
       "    <tr>\n",
       "      <th>2014-10-01</th>\n",
       "      <td>8911</td>\n",
       "      <td>8911</td>\n",
       "    </tr>\n",
       "    <tr>\n",
       "      <th>2015-01-01</th>\n",
       "      <td>8854</td>\n",
       "      <td>8854</td>\n",
       "    </tr>\n",
       "    <tr>\n",
       "      <th>2015-02-01</th>\n",
       "      <td>9076</td>\n",
       "      <td>9076</td>\n",
       "    </tr>\n",
       "    <tr>\n",
       "      <th>2015-04-01</th>\n",
       "      <td>8894</td>\n",
       "      <td>8894</td>\n",
       "    </tr>\n",
       "    <tr>\n",
       "      <th>2015-09-01</th>\n",
       "      <td>2180</td>\n",
       "      <td>2180</td>\n",
       "    </tr>\n",
       "    <tr>\n",
       "      <th>2015-10-01</th>\n",
       "      <td>74</td>\n",
       "      <td>74</td>\n",
       "    </tr>\n",
       "  </tbody>\n",
       "</table>\n",
       "</div>"
      ],
      "text/plain": [
       "            PARCEL  vindall\n",
       "date                       \n",
       "2008-07-01    7551     7551\n",
       "2009-08-01    6996     6996\n",
       "2009-09-01    6780     6780\n",
       "2010-01-01    6570     6570\n",
       "2010-03-01    6667     6667\n",
       "2010-05-01    6780     6780\n",
       "2010-07-01    7170     7170\n",
       "2010-09-01    9261     9261\n",
       "2011-01-01    8613     8613\n",
       "2011-03-01    8677     8677\n",
       "2011-06-01    8686     8686\n",
       "2011-10-01    8444     8444\n",
       "2011-12-01    8367     8367\n",
       "2012-02-01    8327     8327\n",
       "2012-04-01    8387     8387\n",
       "2012-06-01    8463     8463\n",
       "2012-10-01    8503     8503\n",
       "2012-12-01    8575     8575\n",
       "2013-02-01    8511     8511\n",
       "2013-04-01    8783     8783\n",
       "2013-08-01    8675     8675\n",
       "2013-12-01    8578     8578\n",
       "2014-02-01    8682     8682\n",
       "2014-06-01    8733     8733\n",
       "2014-10-01    8911     8911\n",
       "2015-01-01    8854     8854\n",
       "2015-02-01    9076     9076\n",
       "2015-04-01    8894     8894\n",
       "2015-09-01    2180     2180\n",
       "2015-10-01      74       74"
      ]
     },
     "execution_count": 49,
     "metadata": {},
     "output_type": "execute_result"
    }
   ],
   "source": [
    "pv.groupby('date').count()"
   ]
  },
  {
   "cell_type": "code",
   "execution_count": 48,
   "metadata": {
    "collapsed": false
   },
   "outputs": [
    {
     "data": {
      "text/plain": [
       "[<matplotlib.lines.Line2D at 0x11ed1ccf8>]"
      ]
     },
     "execution_count": 48,
     "metadata": {},
     "output_type": "execute_result"
    },
    {
     "data": {
      "image/png": "[encoded data removed]",
      "text/plain": [
       "<matplotlib.figure.Figure at 0x11ed22668>"
      ]
     },
     "metadata": {},
     "output_type": "display_data"
    }
   ],
   "source": [
    "plt.plot(pv.groupby('date').count().index,pv.groupby('date').count().PARCEL)"
   ]
  },
  {
   "cell_type": "code",
   "execution_count": 43,
   "metadata": {
    "collapsed": true
   },
   "outputs": [],
   "source": [
    "pv = pv[pv.vindall=='Y']\n",
    "pv_copy = pv.copy().groupby('PARCEL').count().reset_index()"
   ]
  },
  {
   "cell_type": "code",
   "execution_count": 59,
   "metadata": {
    "collapsed": false
   },
   "outputs": [],
   "source": [
    "pv = pv[pv.vindall=='Y']\n",
    "pv_copy = pv.copy().groupby('PARCEL').count().reset_index()\n",
    "\n",
    "pv_copy['pv_count'] = pv_copy.apply(lambda x: \\\n",
    "        len(pv[(pv.PARCEL == x.PARCEL) & (pv.date > dates[x.PARCEL]-pd.DateOffset(years=2))]), axis=1)"
   ]
  },
  {
   "cell_type": "code",
   "execution_count": 74,
   "metadata": {
    "collapsed": false
   },
   "outputs": [],
   "source": [
    "pv2 = pv.groupby('PARCEL').last()"
   ]
  },
  {
   "cell_type": "code",
   "execution_count": 77,
   "metadata": {
    "collapsed": false
   },
   "outputs": [
    {
     "data": {
      "text/html": [
       "<div>\n",
       "<table border=\"1\" class=\"dataframe\">\n",
       "  <thead>\n",
       "    <tr style=\"text-align: right;\">\n",
       "      <th></th>\n",
       "      <th>parcel</th>\n",
       "      <th>Date</th>\n",
       "      <th>Survey Category</th>\n",
       "      <th>Survey Grade</th>\n",
       "      <th>propsize</th>\n",
       "      <th>totusabl</th>\n",
       "      <th>tmktval</th>\n",
       "      <th>condition13</th>\n",
       "      <th>condition14</th>\n",
       "      <th>condition_value13</th>\n",
       "      <th>...</th>\n",
       "      <th>t_days</th>\n",
       "      <th>t_shf_deed</th>\n",
       "      <th>t_num</th>\n",
       "      <th>lb_acquired</th>\n",
       "      <th>lb_tax_fc</th>\n",
       "      <th>pv_total</th>\n",
       "      <th>v_total_1yr</th>\n",
       "      <th>v_total_2yr</th>\n",
       "      <th>c_ovv_2yr</th>\n",
       "      <th>c_ovv_1yr</th>\n",
       "    </tr>\n",
       "    <tr>\n",
       "      <th>vacant</th>\n",
       "      <th></th>\n",
       "      <th></th>\n",
       "      <th></th>\n",
       "      <th></th>\n",
       "      <th></th>\n",
       "      <th></th>\n",
       "      <th></th>\n",
       "      <th></th>\n",
       "      <th></th>\n",
       "      <th></th>\n",
       "      <th></th>\n",
       "      <th></th>\n",
       "      <th></th>\n",
       "      <th></th>\n",
       "      <th></th>\n",
       "      <th></th>\n",
       "      <th></th>\n",
       "      <th></th>\n",
       "      <th></th>\n",
       "      <th></th>\n",
       "      <th></th>\n",
       "    </tr>\n",
       "  </thead>\n",
       "  <tbody>\n",
       "    <tr>\n",
       "      <th>0</th>\n",
       "      <td>8238</td>\n",
       "      <td>8238</td>\n",
       "      <td>8238</td>\n",
       "      <td>8238</td>\n",
       "      <td>8238</td>\n",
       "      <td>8238</td>\n",
       "      <td>8238</td>\n",
       "      <td>8196</td>\n",
       "      <td>8198</td>\n",
       "      <td>8238</td>\n",
       "      <td>...</td>\n",
       "      <td>8238</td>\n",
       "      <td>8238</td>\n",
       "      <td>8238</td>\n",
       "      <td>8238</td>\n",
       "      <td>8238</td>\n",
       "      <td>8238</td>\n",
       "      <td>8238</td>\n",
       "      <td>8238</td>\n",
       "      <td>8238</td>\n",
       "      <td>8238</td>\n",
       "    </tr>\n",
       "    <tr>\n",
       "      <th>1</th>\n",
       "      <td>4668</td>\n",
       "      <td>4668</td>\n",
       "      <td>4668</td>\n",
       "      <td>4668</td>\n",
       "      <td>4668</td>\n",
       "      <td>4668</td>\n",
       "      <td>4668</td>\n",
       "      <td>4638</td>\n",
       "      <td>4618</td>\n",
       "      <td>4668</td>\n",
       "      <td>...</td>\n",
       "      <td>4668</td>\n",
       "      <td>4668</td>\n",
       "      <td>4668</td>\n",
       "      <td>4668</td>\n",
       "      <td>4668</td>\n",
       "      <td>4668</td>\n",
       "      <td>4668</td>\n",
       "      <td>4668</td>\n",
       "      <td>4668</td>\n",
       "      <td>4668</td>\n",
       "    </tr>\n",
       "  </tbody>\n",
       "</table>\n",
       "<p>2 rows × 46 columns</p>\n",
       "</div>"
      ],
      "text/plain": [
       "        parcel  Date  Survey Category  Survey Grade  propsize  totusabl  \\\n",
       "vacant                                                                    \n",
       "0         8238  8238             8238          8238      8238      8238   \n",
       "1         4668  4668             4668          4668      4668      4668   \n",
       "\n",
       "        tmktval  condition13  condition14  condition_value13    ...      \\\n",
       "vacant                                                          ...       \n",
       "0          8238         8196         8198               8238    ...       \n",
       "1          4668         4638         4618               4668    ...       \n",
       "\n",
       "        t_days  t_shf_deed  t_num  lb_acquired  lb_tax_fc  pv_total  \\\n",
       "vacant                                                                \n",
       "0         8238        8238   8238         8238       8238      8238   \n",
       "1         4668        4668   4668         4668       4668      4668   \n",
       "\n",
       "        v_total_1yr  v_total_2yr  c_ovv_2yr  c_ovv_1yr  \n",
       "vacant                                                  \n",
       "0              8238         8238       8238       8238  \n",
       "1              4668         4668       4668       4668  \n",
       "\n",
       "[2 rows x 46 columns]"
      ]
     },
     "execution_count": 77,
     "metadata": {},
     "output_type": "execute_result"
    }
   ],
   "source": [
    "tci[tci.parcel.isin(pv2[pv2.vindall=='Y'].index)].groupby('vacant').count()"
   ]
  },
  {
   "cell_type": "code",
   "execution_count": 94,
   "metadata": {
    "collapsed": false
   },
   "outputs": [
    {
     "data": {
      "image/png": "[encoded data removed]",
      "text/plain": [
       "<matplotlib.figure.Figure at 0x14a7aa048>"
      ]
     },
     "metadata": {},
     "output_type": "display_data"
    }
   ],
   "source": [
    "sns.distplot(df2[df2.vacant==1].date,bins=np.linspace(0,30,30));\n",
    "sns.distplot(df2[df2.vacant==0].date,bins=np.linspace(0,30,30));"
   ]
  },
  {
   "cell_type": "code",
   "execution_count": 98,
   "metadata": {
    "collapsed": false
   },
   "outputs": [],
   "source": [
    "df2 = pd.merge(df.groupby('parcel').last(), tci[['vacant','ppn']], how='left',left_index=True, right_on='ppn')"
   ]
  },
  {
   "cell_type": "code",
   "execution_count": 87,
   "metadata": {
    "collapsed": false
   },
   "outputs": [
    {
     "data": {
      "text/html": [
       "<div>\n",
       "<table border=\"1\" class=\"dataframe\">\n",
       "  <thead>\n",
       "    <tr>\n",
       "      <th></th>\n",
       "      <th colspan=\"2\" halign=\"left\">vacant</th>\n",
       "    </tr>\n",
       "    <tr>\n",
       "      <th></th>\n",
       "      <th>sum</th>\n",
       "      <th>len</th>\n",
       "    </tr>\n",
       "    <tr>\n",
       "      <th>type</th>\n",
       "      <th></th>\n",
       "      <th></th>\n",
       "    </tr>\n",
       "  </thead>\n",
       "  <tbody>\n",
       "    <tr>\n",
       "      <th>al</th>\n",
       "      <td>1456</td>\n",
       "      <td>19320</td>\n",
       "    </tr>\n",
       "    <tr>\n",
       "      <th>fc</th>\n",
       "      <td>1928</td>\n",
       "      <td>15953</td>\n",
       "    </tr>\n",
       "    <tr>\n",
       "      <th>sa</th>\n",
       "      <td>1134</td>\n",
       "      <td>5482</td>\n",
       "    </tr>\n",
       "    <tr>\n",
       "      <th>t</th>\n",
       "      <td>4151</td>\n",
       "      <td>51346</td>\n",
       "    </tr>\n",
       "  </tbody>\n",
       "</table>\n",
       "</div>"
      ],
      "text/plain": [
       "     vacant       \n",
       "        sum    len\n",
       "type              \n",
       "al     1456  19320\n",
       "fc     1928  15953\n",
       "sa     1134   5482\n",
       "t      4151  51346"
      ]
     },
     "execution_count": 87,
     "metadata": {},
     "output_type": "execute_result"
    }
   ],
   "source": [
    "df2[['type','vacant']].groupby('type').agg([sum,len])"
   ]
  },
  {
   "cell_type": "code",
   "execution_count": 106,
   "metadata": {
    "collapsed": false
   },
   "outputs": [
    {
     "name": "stderr",
     "output_type": "stream",
     "text": [
      "//anaconda/envs/vacancy/lib/python3.4/site-packages/ipykernel/__main__.py:2: SettingWithCopyWarning: \n",
      "A value is trying to be set on a copy of a slice from a DataFrame.\n",
      "Try using .loc[row_indexer,col_indexer] = value instead\n",
      "\n",
      "See the caveats in the documentation: http://pandas.pydata.org/pandas-docs/stable/indexing.html#indexing-view-versus-copy\n",
      "  from ipykernel import kernelapp as app\n"
     ]
    }
   ],
   "source": [
    "d = df2[df2['type']=='fc']\n",
    "d['year'] = d.date.apply(lambda x: x.year)"
   ]
  },
  {
   "cell_type": "code",
   "execution_count": 107,
   "metadata": {
    "collapsed": false
   },
   "outputs": [
    {
     "data": {
      "text/html": [
       "<div>\n",
       "<table border=\"1\" class=\"dataframe\">\n",
       "  <thead>\n",
       "    <tr>\n",
       "      <th></th>\n",
       "      <th colspan=\"2\" halign=\"left\">vacant</th>\n",
       "    </tr>\n",
       "    <tr>\n",
       "      <th></th>\n",
       "      <th>sum</th>\n",
       "      <th>len</th>\n",
       "    </tr>\n",
       "    <tr>\n",
       "      <th>year</th>\n",
       "      <th></th>\n",
       "      <th></th>\n",
       "    </tr>\n",
       "  </thead>\n",
       "  <tbody>\n",
       "    <tr>\n",
       "      <th>2006</th>\n",
       "      <td>59</td>\n",
       "      <td>903</td>\n",
       "    </tr>\n",
       "    <tr>\n",
       "      <th>2007</th>\n",
       "      <td>103</td>\n",
       "      <td>1133</td>\n",
       "    </tr>\n",
       "    <tr>\n",
       "      <th>2008</th>\n",
       "      <td>191</td>\n",
       "      <td>1378</td>\n",
       "    </tr>\n",
       "    <tr>\n",
       "      <th>2009</th>\n",
       "      <td>159</td>\n",
       "      <td>1565</td>\n",
       "    </tr>\n",
       "    <tr>\n",
       "      <th>2010</th>\n",
       "      <td>90</td>\n",
       "      <td>1554</td>\n",
       "    </tr>\n",
       "    <tr>\n",
       "      <th>2011</th>\n",
       "      <td>144</td>\n",
       "      <td>1890</td>\n",
       "    </tr>\n",
       "    <tr>\n",
       "      <th>2012</th>\n",
       "      <td>169</td>\n",
       "      <td>1500</td>\n",
       "    </tr>\n",
       "    <tr>\n",
       "      <th>2013</th>\n",
       "      <td>187</td>\n",
       "      <td>1898</td>\n",
       "    </tr>\n",
       "    <tr>\n",
       "      <th>2014</th>\n",
       "      <td>600</td>\n",
       "      <td>2813</td>\n",
       "    </tr>\n",
       "    <tr>\n",
       "      <th>2015</th>\n",
       "      <td>226</td>\n",
       "      <td>1319</td>\n",
       "    </tr>\n",
       "  </tbody>\n",
       "</table>\n",
       "</div>"
      ],
      "text/plain": [
       "     vacant      \n",
       "        sum   len\n",
       "year             \n",
       "2006     59   903\n",
       "2007    103  1133\n",
       "2008    191  1378\n",
       "2009    159  1565\n",
       "2010     90  1554\n",
       "2011    144  1890\n",
       "2012    169  1500\n",
       "2013    187  1898\n",
       "2014    600  2813\n",
       "2015    226  1319"
      ]
     },
     "execution_count": 107,
     "metadata": {},
     "output_type": "execute_result"
    }
   ],
   "source": [
    "d[['year','vacant']].groupby('year').agg([sum,len])"
   ]
  },
  {
   "cell_type": "code",
   "execution_count": 119,
   "metadata": {
    "collapsed": false
   },
   "outputs": [
    {
     "data": {
      "text/plain": [
       "[<matplotlib.lines.Line2D at 0x147f9c7f0>]"
      ]
     },
     "execution_count": 119,
     "metadata": {},
     "output_type": "execute_result"
    },
    {
     "data": {
      "image/png": "[encoded data removed]",
      "text/plain": [
       "<matplotlib.figure.Figure at 0x146f1cd68>"
      ]
     },
     "metadata": {},
     "output_type": "display_data"
    }
   ],
   "source": [
    "plt.plot(fc.set_index('date').groupby(['type']).resample('m', 'count'))"
   ]
  },
  {
   "cell_type": "code",
   "execution_count": 127,
   "metadata": {
    "collapsed": false
   },
   "outputs": [],
   "source": [
    "t = tci[tci.ppn.isin(fc[fc.date > dt.datetime(2015,3,1)].parcel)].vacant"
   ]
  },
  {
   "cell_type": "code",
   "execution_count": 128,
   "metadata": {
    "collapsed": false
   },
   "outputs": [
    {
     "data": {
      "text/plain": [
       "(153, 828)"
      ]
     },
     "execution_count": 128,
     "metadata": {},
     "output_type": "execute_result"
    }
   ],
   "source": [
    "sum(t),len(t)"
   ]
  },
  {
   "cell_type": "code",
   "execution_count": 108,
   "metadata": {
    "collapsed": false
   },
   "outputs": [
    {
     "data": {
      "text/html": [
       "<div>\n",
       "<table border=\"1\" class=\"dataframe\">\n",
       "  <thead>\n",
       "    <tr style=\"text-align: right;\">\n",
       "      <th></th>\n",
       "      <th>date</th>\n",
       "      <th>type</th>\n",
       "      <th>parcel</th>\n",
       "    </tr>\n",
       "  </thead>\n",
       "  <tbody>\n",
       "    <tr>\n",
       "      <th>0</th>\n",
       "      <td>2006-10-03</td>\n",
       "      <td>fc</td>\n",
       "      <td>120-20-030</td>\n",
       "    </tr>\n",
       "    <tr>\n",
       "      <th>1</th>\n",
       "      <td>2006-10-03</td>\n",
       "      <td>fc</td>\n",
       "      <td>107-16-046</td>\n",
       "    </tr>\n",
       "    <tr>\n",
       "      <th>2</th>\n",
       "      <td>2006-10-03</td>\n",
       "      <td>fc</td>\n",
       "      <td>123-23-077</td>\n",
       "    </tr>\n",
       "    <tr>\n",
       "      <th>3</th>\n",
       "      <td>2006-10-03</td>\n",
       "      <td>fc</td>\n",
       "      <td>001-09-098</td>\n",
       "    </tr>\n",
       "    <tr>\n",
       "      <th>4</th>\n",
       "      <td>2006-10-03</td>\n",
       "      <td>fc</td>\n",
       "      <td>121-19-100</td>\n",
       "    </tr>\n",
       "    <tr>\n",
       "      <th>5</th>\n",
       "      <td>2006-10-03</td>\n",
       "      <td>fc</td>\n",
       "      <td>005-29-032</td>\n",
       "    </tr>\n",
       "    <tr>\n",
       "      <th>6</th>\n",
       "      <td>2006-10-03</td>\n",
       "      <td>fc</td>\n",
       "      <td>108-15-083</td>\n",
       "    </tr>\n",
       "    <tr>\n",
       "      <th>7</th>\n",
       "      <td>2006-10-03</td>\n",
       "      <td>fc</td>\n",
       "      <td>115-10-049</td>\n",
       "    </tr>\n",
       "    <tr>\n",
       "      <th>8</th>\n",
       "      <td>2006-10-03</td>\n",
       "      <td>fc</td>\n",
       "      <td>119-01-007</td>\n",
       "    </tr>\n",
       "    <tr>\n",
       "      <th>9</th>\n",
       "      <td>2006-10-03</td>\n",
       "      <td>fc</td>\n",
       "      <td>006-07-038</td>\n",
       "    </tr>\n",
       "    <tr>\n",
       "      <th>10</th>\n",
       "      <td>2006-10-03</td>\n",
       "      <td>fc</td>\n",
       "      <td>006-26-142</td>\n",
       "    </tr>\n",
       "    <tr>\n",
       "      <th>11</th>\n",
       "      <td>2006-10-03</td>\n",
       "      <td>fc</td>\n",
       "      <td>121-33-110</td>\n",
       "    </tr>\n",
       "    <tr>\n",
       "      <th>12</th>\n",
       "      <td>2006-10-03</td>\n",
       "      <td>fc</td>\n",
       "      <td>130-11-109</td>\n",
       "    </tr>\n",
       "    <tr>\n",
       "      <th>13</th>\n",
       "      <td>2006-10-03</td>\n",
       "      <td>fc</td>\n",
       "      <td>010-18-001</td>\n",
       "    </tr>\n",
       "    <tr>\n",
       "      <th>14</th>\n",
       "      <td>2006-10-03</td>\n",
       "      <td>fc</td>\n",
       "      <td>125-33-046</td>\n",
       "    </tr>\n",
       "    <tr>\n",
       "      <th>15</th>\n",
       "      <td>2006-10-03</td>\n",
       "      <td>fc</td>\n",
       "      <td>006-04-138</td>\n",
       "    </tr>\n",
       "    <tr>\n",
       "      <th>16</th>\n",
       "      <td>2006-10-03</td>\n",
       "      <td>fc</td>\n",
       "      <td>133-07-044</td>\n",
       "    </tr>\n",
       "    <tr>\n",
       "      <th>17</th>\n",
       "      <td>2006-10-03</td>\n",
       "      <td>fc</td>\n",
       "      <td>115-22-007</td>\n",
       "    </tr>\n",
       "    <tr>\n",
       "      <th>18</th>\n",
       "      <td>2006-10-03</td>\n",
       "      <td>fc</td>\n",
       "      <td>104-21-066</td>\n",
       "    </tr>\n",
       "    <tr>\n",
       "      <th>19</th>\n",
       "      <td>2006-10-03</td>\n",
       "      <td>fc</td>\n",
       "      <td>118-07-094</td>\n",
       "    </tr>\n",
       "    <tr>\n",
       "      <th>20</th>\n",
       "      <td>2006-10-03</td>\n",
       "      <td>fc</td>\n",
       "      <td>125-33-066</td>\n",
       "    </tr>\n",
       "    <tr>\n",
       "      <th>21</th>\n",
       "      <td>2006-10-03</td>\n",
       "      <td>fc</td>\n",
       "      <td>134-22-111</td>\n",
       "    </tr>\n",
       "    <tr>\n",
       "      <th>22</th>\n",
       "      <td>2006-10-04</td>\n",
       "      <td>fc</td>\n",
       "      <td>136-02-041</td>\n",
       "    </tr>\n",
       "    <tr>\n",
       "      <th>23</th>\n",
       "      <td>2006-10-04</td>\n",
       "      <td>fc</td>\n",
       "      <td>129-19-116</td>\n",
       "    </tr>\n",
       "    <tr>\n",
       "      <th>24</th>\n",
       "      <td>2006-10-04</td>\n",
       "      <td>fc</td>\n",
       "      <td>104-18-050</td>\n",
       "    </tr>\n",
       "    <tr>\n",
       "      <th>25</th>\n",
       "      <td>2006-10-04</td>\n",
       "      <td>fc</td>\n",
       "      <td>006-29-050</td>\n",
       "    </tr>\n",
       "    <tr>\n",
       "      <th>26</th>\n",
       "      <td>2006-10-04</td>\n",
       "      <td>fc</td>\n",
       "      <td>021-21-119</td>\n",
       "    </tr>\n",
       "    <tr>\n",
       "      <th>27</th>\n",
       "      <td>2006-10-04</td>\n",
       "      <td>fc</td>\n",
       "      <td>102-37-055</td>\n",
       "    </tr>\n",
       "    <tr>\n",
       "      <th>28</th>\n",
       "      <td>2006-10-04</td>\n",
       "      <td>fc</td>\n",
       "      <td>109-16-093</td>\n",
       "    </tr>\n",
       "    <tr>\n",
       "      <th>29</th>\n",
       "      <td>2006-10-04</td>\n",
       "      <td>fc</td>\n",
       "      <td>107-09-068</td>\n",
       "    </tr>\n",
       "    <tr>\n",
       "      <th>...</th>\n",
       "      <td>...</td>\n",
       "      <td>...</td>\n",
       "      <td>...</td>\n",
       "    </tr>\n",
       "    <tr>\n",
       "      <th>51396</th>\n",
       "      <td>2015-05-22</td>\n",
       "      <td>fc</td>\n",
       "      <td>140-25-027</td>\n",
       "    </tr>\n",
       "    <tr>\n",
       "      <th>51397</th>\n",
       "      <td>2015-05-22</td>\n",
       "      <td>fc</td>\n",
       "      <td>116-30-006</td>\n",
       "    </tr>\n",
       "    <tr>\n",
       "      <th>51398</th>\n",
       "      <td>2015-05-22</td>\n",
       "      <td>fc</td>\n",
       "      <td>141-12-108</td>\n",
       "    </tr>\n",
       "    <tr>\n",
       "      <th>51399</th>\n",
       "      <td>2015-05-22</td>\n",
       "      <td>fc</td>\n",
       "      <td>111-16-128</td>\n",
       "    </tr>\n",
       "    <tr>\n",
       "      <th>51400</th>\n",
       "      <td>2015-05-22</td>\n",
       "      <td>fc</td>\n",
       "      <td>125-24-034</td>\n",
       "    </tr>\n",
       "    <tr>\n",
       "      <th>51401</th>\n",
       "      <td>2015-05-26</td>\n",
       "      <td>fc</td>\n",
       "      <td>018-12-032</td>\n",
       "    </tr>\n",
       "    <tr>\n",
       "      <th>51402</th>\n",
       "      <td>2015-05-26</td>\n",
       "      <td>fc</td>\n",
       "      <td>137-05-047</td>\n",
       "    </tr>\n",
       "    <tr>\n",
       "      <th>51403</th>\n",
       "      <td>2015-05-26</td>\n",
       "      <td>fc</td>\n",
       "      <td>127-27-049</td>\n",
       "    </tr>\n",
       "    <tr>\n",
       "      <th>51404</th>\n",
       "      <td>2015-05-26</td>\n",
       "      <td>fc</td>\n",
       "      <td>132-15-130</td>\n",
       "    </tr>\n",
       "    <tr>\n",
       "      <th>51405</th>\n",
       "      <td>2015-05-26</td>\n",
       "      <td>fc</td>\n",
       "      <td>105-24-042</td>\n",
       "    </tr>\n",
       "    <tr>\n",
       "      <th>51406</th>\n",
       "      <td>2015-05-26</td>\n",
       "      <td>fc</td>\n",
       "      <td>021-01-054</td>\n",
       "    </tr>\n",
       "    <tr>\n",
       "      <th>51407</th>\n",
       "      <td>2015-05-26</td>\n",
       "      <td>fc</td>\n",
       "      <td>011-02-091</td>\n",
       "    </tr>\n",
       "    <tr>\n",
       "      <th>51408</th>\n",
       "      <td>2015-05-26</td>\n",
       "      <td>fc</td>\n",
       "      <td>120-04-108</td>\n",
       "    </tr>\n",
       "    <tr>\n",
       "      <th>51409</th>\n",
       "      <td>2015-05-27</td>\n",
       "      <td>fc</td>\n",
       "      <td>020-04-014</td>\n",
       "    </tr>\n",
       "    <tr>\n",
       "      <th>51410</th>\n",
       "      <td>2015-05-28</td>\n",
       "      <td>fc</td>\n",
       "      <td>028-02-082</td>\n",
       "    </tr>\n",
       "    <tr>\n",
       "      <th>51411</th>\n",
       "      <td>2015-05-28</td>\n",
       "      <td>fc</td>\n",
       "      <td>130-16-116</td>\n",
       "    </tr>\n",
       "    <tr>\n",
       "      <th>51412</th>\n",
       "      <td>2015-05-28</td>\n",
       "      <td>fc</td>\n",
       "      <td>138-08-034</td>\n",
       "    </tr>\n",
       "    <tr>\n",
       "      <th>51413</th>\n",
       "      <td>2015-05-28</td>\n",
       "      <td>fc</td>\n",
       "      <td>142-16-027</td>\n",
       "    </tr>\n",
       "    <tr>\n",
       "      <th>51414</th>\n",
       "      <td>2015-05-28</td>\n",
       "      <td>fc</td>\n",
       "      <td>114-17-084</td>\n",
       "    </tr>\n",
       "    <tr>\n",
       "      <th>51415</th>\n",
       "      <td>2015-05-28</td>\n",
       "      <td>fc</td>\n",
       "      <td>129-30-042</td>\n",
       "    </tr>\n",
       "    <tr>\n",
       "      <th>51416</th>\n",
       "      <td>2015-05-29</td>\n",
       "      <td>fc</td>\n",
       "      <td>114-21-077</td>\n",
       "    </tr>\n",
       "    <tr>\n",
       "      <th>51417</th>\n",
       "      <td>2015-05-29</td>\n",
       "      <td>fc</td>\n",
       "      <td>134-10-082</td>\n",
       "    </tr>\n",
       "    <tr>\n",
       "      <th>51418</th>\n",
       "      <td>2015-05-29</td>\n",
       "      <td>fc</td>\n",
       "      <td>130-17-050</td>\n",
       "    </tr>\n",
       "    <tr>\n",
       "      <th>51419</th>\n",
       "      <td>2015-05-29</td>\n",
       "      <td>fc</td>\n",
       "      <td>009-28-066</td>\n",
       "    </tr>\n",
       "    <tr>\n",
       "      <th>51420</th>\n",
       "      <td>2015-05-29</td>\n",
       "      <td>fc</td>\n",
       "      <td>007-08-177</td>\n",
       "    </tr>\n",
       "    <tr>\n",
       "      <th>51421</th>\n",
       "      <td>2015-05-29</td>\n",
       "      <td>fc</td>\n",
       "      <td>026-08-035</td>\n",
       "    </tr>\n",
       "    <tr>\n",
       "      <th>51422</th>\n",
       "      <td>2015-05-29</td>\n",
       "      <td>fc</td>\n",
       "      <td>028-02-145</td>\n",
       "    </tr>\n",
       "    <tr>\n",
       "      <th>51423</th>\n",
       "      <td>2015-05-29</td>\n",
       "      <td>fc</td>\n",
       "      <td>108-08-031</td>\n",
       "    </tr>\n",
       "    <tr>\n",
       "      <th>51424</th>\n",
       "      <td>2015-05-29</td>\n",
       "      <td>fc</td>\n",
       "      <td>108-13-031</td>\n",
       "    </tr>\n",
       "    <tr>\n",
       "      <th>51425</th>\n",
       "      <td>2015-05-29</td>\n",
       "      <td>fc</td>\n",
       "      <td>134-21-075</td>\n",
       "    </tr>\n",
       "  </tbody>\n",
       "</table>\n",
       "<p>51426 rows × 3 columns</p>\n",
       "</div>"
      ],
      "text/plain": [
       "            date type      parcel\n",
       "0     2006-10-03   fc  120-20-030\n",
       "1     2006-10-03   fc  107-16-046\n",
       "2     2006-10-03   fc  123-23-077\n",
       "3     2006-10-03   fc  001-09-098\n",
       "4     2006-10-03   fc  121-19-100\n",
       "5     2006-10-03   fc  005-29-032\n",
       "6     2006-10-03   fc  108-15-083\n",
       "7     2006-10-03   fc  115-10-049\n",
       "8     2006-10-03   fc  119-01-007\n",
       "9     2006-10-03   fc  006-07-038\n",
       "10    2006-10-03   fc  006-26-142\n",
       "11    2006-10-03   fc  121-33-110\n",
       "12    2006-10-03   fc  130-11-109\n",
       "13    2006-10-03   fc  010-18-001\n",
       "14    2006-10-03   fc  125-33-046\n",
       "15    2006-10-03   fc  006-04-138\n",
       "16    2006-10-03   fc  133-07-044\n",
       "17    2006-10-03   fc  115-22-007\n",
       "18    2006-10-03   fc  104-21-066\n",
       "19    2006-10-03   fc  118-07-094\n",
       "20    2006-10-03   fc  125-33-066\n",
       "21    2006-10-03   fc  134-22-111\n",
       "22    2006-10-04   fc  136-02-041\n",
       "23    2006-10-04   fc  129-19-116\n",
       "24    2006-10-04   fc  104-18-050\n",
       "25    2006-10-04   fc  006-29-050\n",
       "26    2006-10-04   fc  021-21-119\n",
       "27    2006-10-04   fc  102-37-055\n",
       "28    2006-10-04   fc  109-16-093\n",
       "29    2006-10-04   fc  107-09-068\n",
       "...          ...  ...         ...\n",
       "51396 2015-05-22   fc  140-25-027\n",
       "51397 2015-05-22   fc  116-30-006\n",
       "51398 2015-05-22   fc  141-12-108\n",
       "51399 2015-05-22   fc  111-16-128\n",
       "51400 2015-05-22   fc  125-24-034\n",
       "51401 2015-05-26   fc  018-12-032\n",
       "51402 2015-05-26   fc  137-05-047\n",
       "51403 2015-05-26   fc  127-27-049\n",
       "51404 2015-05-26   fc  132-15-130\n",
       "51405 2015-05-26   fc  105-24-042\n",
       "51406 2015-05-26   fc  021-01-054\n",
       "51407 2015-05-26   fc  011-02-091\n",
       "51408 2015-05-26   fc  120-04-108\n",
       "51409 2015-05-27   fc  020-04-014\n",
       "51410 2015-05-28   fc  028-02-082\n",
       "51411 2015-05-28   fc  130-16-116\n",
       "51412 2015-05-28   fc  138-08-034\n",
       "51413 2015-05-28   fc  142-16-027\n",
       "51414 2015-05-28   fc  114-17-084\n",
       "51415 2015-05-28   fc  129-30-042\n",
       "51416 2015-05-29   fc  114-21-077\n",
       "51417 2015-05-29   fc  134-10-082\n",
       "51418 2015-05-29   fc  130-17-050\n",
       "51419 2015-05-29   fc  009-28-066\n",
       "51420 2015-05-29   fc  007-08-177\n",
       "51421 2015-05-29   fc  026-08-035\n",
       "51422 2015-05-29   fc  028-02-145\n",
       "51423 2015-05-29   fc  108-08-031\n",
       "51424 2015-05-29   fc  108-13-031\n",
       "51425 2015-05-29   fc  134-21-075\n",
       "\n",
       "[51426 rows x 3 columns]"
      ]
     },
     "execution_count": 108,
     "metadata": {},
     "output_type": "execute_result"
    }
   ],
   "source": [
    "fc['year'] = fc['date']"
   ]
  },
  {
   "cell_type": "code",
   "execution_count": null,
   "metadata": {
    "collapsed": true
   },
   "outputs": [],
   "source": []
  }
 ],
 "metadata": {
  "kernelspec": {
   "display_name": "Python 3",
   "language": "python",
   "name": "python3"
  },
  "language_info": {
   "codemirror_mode": {
    "name": "ipython",
    "version": 3
   },
   "file_extension": ".py",
   "mimetype": "text/x-python",
   "name": "python",
   "nbconvert_exporter": "python",
   "pygments_lexer": "ipython3",
   "version": "3.4.4"
  }
 },
 "nbformat": 4,
 "nbformat_minor": 0
}
