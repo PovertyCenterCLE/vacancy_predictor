{
 "cells": [
  {
   "cell_type": "markdown",
   "metadata": {},
   "source": [
    "# 3.0 Combine data"
   ]
  },
  {
   "cell_type": "code",
   "execution_count": 1,
   "metadata": {
    "collapsed": false
   },
   "outputs": [
    {
     "name": "stdout",
     "output_type": "stream",
     "text": [
      "/Volumes/Dropbox/largetransfer/luc/carter\n"
     ]
    },
    {
     "name": "stderr",
     "output_type": "stream",
     "text": [
      "//anaconda/envs/data_sci/lib/python3.4/site-packages/matplotlib/__init__.py:872: UserWarning: axes.color_cycle is deprecated and replaced with axes.prop_cycle; please use the latter.\n",
      "  warnings.warn(self.msg_depr % (key, alt_key))\n"
     ]
    }
   ],
   "source": [
    "import pandas as pd\n",
    "from sklearn.ensemble import RandomForestClassifier\n",
    "import matplotlib.pyplot as plt\n",
    "import numpy as np\n",
    "import seaborn as sns\n",
    "import math\n",
    "from sklearn.preprocessing import Imputer\n",
    "from sklearn.base import TransformerMixin\n",
    "from sklearn import cross_validation\n",
    "from sklearn.grid_search import GridSearchCV\n",
    "from sklearn.linear_model import LogisticRegression\n",
    "from sklearn import preprocessing\n",
    "from sklearn.cross_validation import cross_val_score\n",
    "import os\n",
    "\n",
    "def sound():\n",
    "    os.system('afplay /System/Library/Sounds/Sosumi.aiff')\n",
    "\n",
    "%matplotlib inline\n",
    "sns.set_context('notebook')\n",
    "\n",
    "path = '/'.join(os.getcwd().split('/')[:-2])\n",
    "print(path)"
   ]
  },
  {
   "cell_type": "code",
   "execution_count": 2,
   "metadata": {
    "collapsed": true
   },
   "outputs": [],
   "source": [
    "cols = ['Date','vacant','Survey Category','Survey Grade','SPA_NAME']"
   ]
  },
  {
   "cell_type": "code",
   "execution_count": 3,
   "metadata": {
    "collapsed": false
   },
   "outputs": [],
   "source": [
    "rng = pd.date_range('10/1/2009', periods=23, freq='3MS')\n",
    "\n",
    "for date in rng:\n",
    "    df0 = pd.read_csv(path+'/data/model_data/tci_2_0_'+str(date.year)+'_'+str(date.month)+'.csv', \\\n",
    "                      dtype={'Parcel ID':str}, index_col='parcel')\n",
    "    df1 = pd.read_csv(path+'/data/model_data/tci_2_1_'+str(date.year)+'_'+str(date.month)+'.csv', \\\n",
    "                      dtype={'Parcel ID':str}, index_col='parcel')\n",
    "    df2 = pd.read_csv(path+'/data/model_data/tci_2_2_'+str(date.year)+'_'+str(date.month)+'.csv', \\\n",
    "                      dtype={'Parcel ID':str}, index_col='parcel')\n",
    "    df3 = pd.read_csv(path+'/data/model_data/tci_2_3_'+str(date.year)+'_'+str(date.month)+'.csv', \\\n",
    "                      dtype={'Parcel ID':str}, index_col='parcel')\n",
    "    df = pd.merge(df0, df1[[col for col in df1.columns if col not in cols]], how='inner', left_index=True, right_index=True)\n",
    "    df = pd.merge(df,  df2[[col for col in df2.columns if col not in cols]], how='inner', left_index=True, right_index=True)\n",
    "    df = pd.merge(df,  df3[[col for col in df3.columns if col not in cols]], how='inner', left_index=True, right_index=True)\n",
    "    \n",
    "    df['price_per_sqft'] = df['tmktval']/df['totusabl']\n",
    "    \n",
    "    # df['missing_values'] = df.apply(lambda x: len(x[x.isnull()]),axis=1)\n",
    "    to_remove = ['Parcel ID','parcel','Date','Survey Category','Survey Grade','date'\\\n",
    "             'condition','SPA_NAME','NAME10','style_filtered','rextwall','LENDER_PROCESS_TYPE']\n",
    "    \n",
    "    features = list(df.columns.values)\n",
    "    for i in to_remove:\n",
    "        if i in features:\n",
    "            features.remove(i)\n",
    "\n",
    "    break"
   ]
  },
  {
   "cell_type": "code",
   "execution_count": 4,
   "metadata": {
    "collapsed": false
   },
   "outputs": [
    {
     "name": "stdout",
     "output_type": "stream",
     "text": [
      "<class 'pandas.core.frame.DataFrame'>\n",
      "Index: 114784 entries, 001-01-001 to 735-22-011\n",
      "Data columns (total 46 columns):\n",
      "vacant                    114784 non-null int64\n",
      "Date                      114784 non-null object\n",
      "Survey Category           114784 non-null object\n",
      "Survey Grade              114784 non-null object\n",
      "SPA_NAME                  114784 non-null object\n",
      "cqual_num                 114784 non-null float64\n",
      "occup                     114784 non-null float64\n",
      "rnumstor                  114784 non-null float64\n",
      "propsize                  114784 non-null float64\n",
      "totusabl                  114784 non-null float64\n",
      "tmktval                   114784 non-null float64\n",
      "mktbldg                   114784 non-null float64\n",
      "mktland                   114784 non-null float64\n",
      "cond_val                  114784 non-null float64\n",
      "style_filtered            114784 non-null object\n",
      "ownerocc_value            114784 non-null float64\n",
      "totbldgs                  114784 non-null float64\n",
      "yrbuilt_filtered          114784 non-null float64\n",
      "lb_acquired               114784 non-null float64\n",
      "lb_tax_fc                 114784 non-null float64\n",
      "TOTAL_NET_DELQ_BALANCE    114784 non-null float64\n",
      "TAX_ASSESSED_LAND         114784 non-null float64\n",
      "TAX_MARKET_LAND           114784 non-null float64\n",
      "LENDER_PROCESS_TYPE       114784 non-null object\n",
      "GRAND_TOTAL_BALANCE       114784 non-null float64\n",
      "GRAND_TOTAL_PAID          114784 non-null float64\n",
      "GRAND_TOTAL_OWED          114784 non-null float64\n",
      "delq_total_ratio          114784 non-null float64\n",
      "paid_percent              114784 non-null float64\n",
      "pv_count                  114784 non-null float64\n",
      "v_total_1yr               114784 non-null float64\n",
      "v_total_2yr               114784 non-null float64\n",
      "boarded                   114784 non-null float64\n",
      "days_since_ovv            114784 non-null int64\n",
      "c_ovv_num                 114784 non-null float64\n",
      "active_fc                 114784 non-null float64\n",
      "fc_1yr                    114784 non-null float64\n",
      "fc_2yr                    114784 non-null float64\n",
      "fc_days                   114784 non-null float64\n",
      "sa_days                   114784 non-null float64\n",
      "t_days                    114784 non-null int64\n",
      "t_shf_deed                114784 non-null int64\n",
      "t_num                     114784 non-null float64\n",
      "al_num                    114784 non-null float64\n",
      "al_days                   114784 non-null int64\n",
      "price_per_sqft            114784 non-null float64\n",
      "dtypes: float64(35), int64(5), object(6)\n",
      "memory usage: 41.2+ MB\n"
     ]
    }
   ],
   "source": [
    "df.info()"
   ]
  },
  {
   "cell_type": "code",
   "execution_count": 19,
   "metadata": {
    "collapsed": false
   },
   "outputs": [
    {
     "name": "stdout",
     "output_type": "stream",
     "text": [
      "Index(['date'], dtype='object')\n"
     ]
    }
   ],
   "source": [
    "print(df[features].columns[df[features].dtypes == 'object'])"
   ]
  },
  {
   "cell_type": "code",
   "execution_count": 44,
   "metadata": {
    "collapsed": false
   },
   "outputs": [
    {
     "name": "stdout",
     "output_type": "stream",
     "text": [
      "(113132, 59)\n"
     ]
    }
   ],
   "source": [
    "# transform categorical variables (including NaN's)\n",
    "# objs = df[features].columns[df[features].dtypes == 'object']\n",
    "# prefixes = ['style','ext','lender']\n",
    "\n",
    "# objs = ['LENDER_PROCESS_TYPE']\n",
    "# prefixes = ['lender']\n",
    "\n",
    "# df2 = df[objs]\n",
    "# df3 = pd.concat([pd.get_dummies(df2[col], prefix=prefixes[index]) for index, col in enumerate(df2)], axis=1)\n",
    "\n",
    "# for i in objs:\n",
    "#     if i in features:\n",
    "#         features.remove(i)\n",
    "df3 = pd.DataFrame()\n",
    "df3[features] = df[features]\n",
    "df3 = df3.fillna(0)\n",
    "\n",
    "print(df3.shape)"
   ]
  },
  {
   "cell_type": "code",
   "execution_count": 48,
   "metadata": {
    "collapsed": true
   },
   "outputs": [],
   "source": [
    "df3.to_csv(path+'/data/model_data/tci_final.csv')"
   ]
  }
 ],
 "metadata": {
  "kernelspec": {
   "display_name": "Python 3",
   "language": "python",
   "name": "python3"
  },
  "language_info": {
   "codemirror_mode": {
    "name": "ipython",
    "version": 3
   },
   "file_extension": ".py",
   "mimetype": "text/x-python",
   "name": "python",
   "nbconvert_exporter": "python",
   "pygments_lexer": "ipython3",
   "version": "3.4.4"
  }
 },
 "nbformat": 4,
 "nbformat_minor": 0
}
