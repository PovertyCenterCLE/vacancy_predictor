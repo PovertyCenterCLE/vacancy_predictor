{
 "cells": [
  {
   "cell_type": "code",
   "execution_count": 3,
   "metadata": {
    "collapsed": false
   },
   "outputs": [],
   "source": [
    "import pandas as pd\n",
    "\n",
    "df = pd.read_csv('TCI_surveyed.csv')\n",
    "def check(x):\n",
    "    if x in ['Vacant Structure Open' or 'Vacant Struction Secure']:\n",
    "        return 1\n",
    "    else: \n",
    "        return 0\n",
    "    \n",
    "df['Condition'] = df['Category'].apply(check)\n",
    "df = df[['Parcel Number','Survey Date','Condition']]\n",
    "# df.to_csv('TCI_surveyed2.csv', index=False)"
   ]
  },
  {
   "cell_type": "code",
   "execution_count": null,
   "metadata": {
    "collapsed": false
   },
   "outputs": [],
   "source": [
    "import csv\n",
    "import pdb\n",
    "\n",
    "infile = 'main_prop.csv'\n",
    "outfile = 'main_prop_filtered.csv'\n",
    "\n",
    "ppns = set(df['Parcel Number'])\n",
    "\n",
    "count = 1\n",
    "\n",
    "\n",
    "with open(infile, 'r') as fin:\n",
    "    for row in csv.reader(fin):\n",
    "        count+=1\n",
    "#         if row[0] in ppns:\n",
    "#             print row[0]\n",
    "print count\n",
    "# def write_data(path, row):\n",
    "#     with open(path, 'w') as fout:\n",
    "#         fout.write(row)\n",
    "        \n",
    "# count =  1\n",
    "# for row in get_data(infile, ppns):\n",
    "#     print row\n",
    "#     count += 1\n",
    "#     if count > 10:\n",
    "#         print row\n",
    "#         break\n",
    "#     write_data(outfile, row)\n",
    "#         if row[3] in (\"column header\", criterion):\n",
    "#             yield row\n",
    "#             count += 1\n",
    "#         elif count < 2:\n",
    "#             continue\n",
    "#         else:\n",
    "#             return"
   ]
  }
 ],
 "metadata": {
  "kernelspec": {
   "display_name": "Python 2",
   "language": "python",
   "name": "python2"
  },
  "language_info": {
   "codemirror_mode": {
    "name": "ipython",
    "version": 2
   },
   "file_extension": ".py",
   "mimetype": "text/x-python",
   "name": "python",
   "nbconvert_exporter": "python",
   "pygments_lexer": "ipython2",
   "version": "2.7.9"
  }
 },
 "nbformat": 4,
 "nbformat_minor": 0
}
