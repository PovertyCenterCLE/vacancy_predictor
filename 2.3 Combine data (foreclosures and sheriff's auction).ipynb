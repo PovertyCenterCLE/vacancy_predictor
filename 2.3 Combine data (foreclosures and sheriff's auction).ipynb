{
 "cells": [
  {
   "cell_type": "code",
   "execution_count": 28,
   "metadata": {
    "collapsed": true
   },
   "outputs": [],
   "source": [
    "import matplotlib.pyplot as plt\n",
    "import datetime as dt\n",
    "import seaborn as sns\n",
    "import pandas as pd\n",
    "import numpy as np\n",
    "%matplotlib inline"
   ]
  },
  {
   "cell_type": "code",
   "execution_count": 2,
   "metadata": {
    "collapsed": true
   },
   "outputs": [],
   "source": [
    "tci = pd.read_csv('model_data/tci_2_2.csv')\n",
    "ppns = set(tci['parcel'])\n",
    "ppns_num = set(tci['parcel'].apply(lambda x: x.replace('-','')))"
   ]
  },
  {
   "cell_type": "markdown",
   "metadata": {},
   "source": [
    "## Foreclosure data"
   ]
  },
  {
   "cell_type": "code",
   "execution_count": 46,
   "metadata": {
    "collapsed": false
   },
   "outputs": [],
   "source": [
    "fc = pd.read_csv('clean_data/foreclosure_filings_tci.csv', parse_dates=[2])"
   ]
  },
  {
   "cell_type": "code",
   "execution_count": 47,
   "metadata": {
    "collapsed": false,
    "scrolled": true
   },
   "outputs": [
    {
     "name": "stdout",
     "output_type": "stream",
     "text": [
      "<class 'pandas.core.frame.DataFrame'>\n",
      "Int64Index: 5843 entries, 0 to 5842\n",
      "Data columns (total 26 columns):\n",
      "parcel            5843 non-null object\n",
      "status            5843 non-null object\n",
      "filedate          5843 non-null datetime64[ns]\n",
      "defendant         5843 non-null object\n",
      "caseno            5843 non-null object\n",
      "parcel_address    5823 non-null object\n",
      "dateid            5843 non-null object\n",
      "FORE              5843 non-null int64\n",
      "LATITUDE          5821 non-null float64\n",
      "LONGITUDE         5821 non-null float64\n",
      "zip_fore          5676 non-null float64\n",
      "case_number       5843 non-null object\n",
      "ctitle            5843 non-null object\n",
      "cdesig            5843 non-null object\n",
      "judge             5843 non-null object\n",
      "magistrate        5143 non-null object\n",
      "room              17 non-null object\n",
      "n_action          17 non-null object\n",
      "f_location        5843 non-null object\n",
      "lstatus           5843 non-null object\n",
      "lstatusdt         5843 non-null object\n",
      "ldispos           5843 non-null object\n",
      "ldisposdt         5843 non-null object\n",
      "pamount           5843 non-null object\n",
      "detaildt          5843 non-null object\n",
      "plaintiff         5843 non-null object\n",
      "dtypes: datetime64[ns](1), float64(3), int64(1), object(21)\n",
      "memory usage: 1.2+ MB\n"
     ]
    }
   ],
   "source": [
    "fc.info()"
   ]
  },
  {
   "cell_type": "code",
   "execution_count": 48,
   "metadata": {
    "collapsed": false
   },
   "outputs": [
    {
     "data": {
      "text/html": [
       "<div style=\"max-height:1000px;max-width:1500px;overflow:auto;\">\n",
       "<table border=\"1\" class=\"dataframe\">\n",
       "  <thead>\n",
       "    <tr style=\"text-align: right;\">\n",
       "      <th></th>\n",
       "      <th>parcel</th>\n",
       "      <th>status</th>\n",
       "      <th>filedate</th>\n",
       "      <th>defendant</th>\n",
       "      <th>caseno</th>\n",
       "      <th>parcel_address</th>\n",
       "      <th>dateid</th>\n",
       "      <th>FORE</th>\n",
       "      <th>LATITUDE</th>\n",
       "      <th>LONGITUDE</th>\n",
       "      <th>...</th>\n",
       "      <th>room</th>\n",
       "      <th>n_action</th>\n",
       "      <th>f_location</th>\n",
       "      <th>lstatus</th>\n",
       "      <th>lstatusdt</th>\n",
       "      <th>ldispos</th>\n",
       "      <th>ldisposdt</th>\n",
       "      <th>pamount</th>\n",
       "      <th>detaildt</th>\n",
       "      <th>plaintiff</th>\n",
       "    </tr>\n",
       "  </thead>\n",
       "  <tbody>\n",
       "    <tr>\n",
       "      <th>0</th>\n",
       "      <td> 121-33-110</td>\n",
       "      <td> Inactive</td>\n",
       "      <td>2006-10-03</td>\n",
       "      <td>        TRACY M. THOMPSON</td>\n",
       "      <td> BR-06-000022</td>\n",
       "      <td>     11028 MT CARMEL RD</td>\n",
       "      <td> 03/21/2015</td>\n",
       "      <td> 1</td>\n",
       "      <td> 41.489396</td>\n",
       "      <td>-81.608232</td>\n",
       "      <td>...</td>\n",
       "      <td> NaN</td>\n",
       "      <td> NaN</td>\n",
       "      <td> DF-ROOM 45</td>\n",
       "      <td> INACTIVE</td>\n",
       "      <td> 01/23/2007</td>\n",
       "      <td> DEFAULT</td>\n",
       "      <td> 01/17/2007</td>\n",
       "      <td> $.00</td>\n",
       "      <td> 03/21/2015</td>\n",
       "      <td> JAMES ROKAKIS, AS TREASURER</td>\n",
       "    </tr>\n",
       "    <tr>\n",
       "      <th>1</th>\n",
       "      <td> 130-11-109</td>\n",
       "      <td> Inactive</td>\n",
       "      <td>2006-10-03</td>\n",
       "      <td> ALLEN ENTERPRISES IV LLC</td>\n",
       "      <td> BR-06-000028</td>\n",
       "      <td> 3294 EAST 140TH STREET</td>\n",
       "      <td> 03/21/2015</td>\n",
       "      <td> 1</td>\n",
       "      <td> 41.469930</td>\n",
       "      <td>-81.585067</td>\n",
       "      <td>...</td>\n",
       "      <td> NaN</td>\n",
       "      <td> NaN</td>\n",
       "      <td> DF-ROOM 45</td>\n",
       "      <td> INACTIVE</td>\n",
       "      <td> 03/16/2007</td>\n",
       "      <td> DEFAULT</td>\n",
       "      <td> 03/13/2007</td>\n",
       "      <td> $.00</td>\n",
       "      <td> 12/24/2014</td>\n",
       "      <td> JAMES ROKAKIS, AS TREASURER</td>\n",
       "    </tr>\n",
       "  </tbody>\n",
       "</table>\n",
       "<p>2 rows × 26 columns</p>\n",
       "</div>"
      ],
      "text/plain": [
       "       parcel    status   filedate                 defendant        caseno  \\\n",
       "0  121-33-110  Inactive 2006-10-03         TRACY M. THOMPSON  BR-06-000022   \n",
       "1  130-11-109  Inactive 2006-10-03  ALLEN ENTERPRISES IV LLC  BR-06-000028   \n",
       "\n",
       "           parcel_address      dateid  FORE   LATITUDE  LONGITUDE  \\\n",
       "0      11028 MT CARMEL RD  03/21/2015     1  41.489396 -81.608232   \n",
       "1  3294 EAST 140TH STREET  03/21/2015     1  41.469930 -81.585067   \n",
       "\n",
       "              ...               room n_action  f_location   lstatus  \\\n",
       "0             ...                NaN      NaN  DF-ROOM 45  INACTIVE   \n",
       "1             ...                NaN      NaN  DF-ROOM 45  INACTIVE   \n",
       "\n",
       "    lstatusdt  ldispos   ldisposdt pamount    detaildt  \\\n",
       "0  01/23/2007  DEFAULT  01/17/2007    $.00  03/21/2015   \n",
       "1  03/16/2007  DEFAULT  03/13/2007    $.00  12/24/2014   \n",
       "\n",
       "                     plaintiff  \n",
       "0  JAMES ROKAKIS, AS TREASURER  \n",
       "1  JAMES ROKAKIS, AS TREASURER  \n",
       "\n",
       "[2 rows x 26 columns]"
      ]
     },
     "execution_count": 48,
     "metadata": {},
     "output_type": "execute_result"
    }
   ],
   "source": [
    "fc.head(2)"
   ]
  },
  {
   "cell_type": "code",
   "execution_count": 49,
   "metadata": {
    "collapsed": false
   },
   "outputs": [
    {
     "data": {
      "text/plain": [
       "(91, 26)"
      ]
     },
     "execution_count": 49,
     "metadata": {},
     "output_type": "execute_result"
    }
   ],
   "source": [
    "fc[fc.lstatus=='ACTIVE'].shape"
   ]
  },
  {
   "cell_type": "code",
   "execution_count": 136,
   "metadata": {
    "collapsed": true
   },
   "outputs": [],
   "source": [
    "def parse_amount(x):\n",
    "    return float(x[1:].replace(',',''))"
   ]
  },
  {
   "cell_type": "code",
   "execution_count": 72,
   "metadata": {
    "collapsed": true
   },
   "outputs": [
    {
     "ename": "IndexError",
     "evalue": "invalid index to scalar variable.",
     "output_type": "error",
     "traceback": [
      "\u001b[0;31m---------------------------------------------------------------------------\u001b[0m",
      "\u001b[0;31mIndexError\u001b[0m                                Traceback (most recent call last)",
      "\u001b[0;32m<ipython-input-72-f78c425a5198>\u001b[0m in \u001b[0;36m<module>\u001b[0;34m()\u001b[0m\n\u001b[1;32m      2\u001b[0m     \u001b[0;32mreturn\u001b[0m \u001b[0mfloat\u001b[0m\u001b[0;34m(\u001b[0m\u001b[0mx\u001b[0m\u001b[0;34m[\u001b[0m\u001b[0;36m1\u001b[0m\u001b[0;34m:\u001b[0m\u001b[0;34m]\u001b[0m\u001b[0;34m.\u001b[0m\u001b[0mreplace\u001b[0m\u001b[0;34m(\u001b[0m\u001b[0;34m','\u001b[0m\u001b[0;34m,\u001b[0m\u001b[0;34m''\u001b[0m\u001b[0;34m)\u001b[0m\u001b[0;34m)\u001b[0m\u001b[0;34m\u001b[0m\u001b[0m\n\u001b[1;32m      3\u001b[0m \u001b[0;34m\u001b[0m\u001b[0m\n\u001b[0;32m----> 4\u001b[0;31m \u001b[0mfc\u001b[0m\u001b[0;34m[\u001b[0m\u001b[0;34m'pamount'\u001b[0m\u001b[0;34m]\u001b[0m \u001b[0;34m=\u001b[0m \u001b[0mfc\u001b[0m\u001b[0;34m[\u001b[0m\u001b[0;34m'pamount'\u001b[0m\u001b[0;34m]\u001b[0m\u001b[0;34m.\u001b[0m\u001b[0mapply\u001b[0m\u001b[0;34m(\u001b[0m\u001b[0mparse_amount\u001b[0m\u001b[0;34m)\u001b[0m\u001b[0;34m\u001b[0m\u001b[0m\n\u001b[0m",
      "\u001b[0;32m//anaconda/lib/python2.7/site-packages/pandas/core/series.pyc\u001b[0m in \u001b[0;36mapply\u001b[0;34m(self, func, convert_dtype, args, **kwds)\u001b[0m\n\u001b[1;32m   2055\u001b[0m             \u001b[0mvalues\u001b[0m \u001b[0;34m=\u001b[0m \u001b[0mlib\u001b[0m\u001b[0;34m.\u001b[0m\u001b[0mmap_infer\u001b[0m\u001b[0;34m(\u001b[0m\u001b[0mvalues\u001b[0m\u001b[0;34m,\u001b[0m \u001b[0mlib\u001b[0m\u001b[0;34m.\u001b[0m\u001b[0mTimestamp\u001b[0m\u001b[0;34m)\u001b[0m\u001b[0;34m\u001b[0m\u001b[0m\n\u001b[1;32m   2056\u001b[0m \u001b[0;34m\u001b[0m\u001b[0m\n\u001b[0;32m-> 2057\u001b[0;31m         \u001b[0mmapped\u001b[0m \u001b[0;34m=\u001b[0m \u001b[0mlib\u001b[0m\u001b[0;34m.\u001b[0m\u001b[0mmap_infer\u001b[0m\u001b[0;34m(\u001b[0m\u001b[0mvalues\u001b[0m\u001b[0;34m,\u001b[0m \u001b[0mf\u001b[0m\u001b[0;34m,\u001b[0m \u001b[0mconvert\u001b[0m\u001b[0;34m=\u001b[0m\u001b[0mconvert_dtype\u001b[0m\u001b[0;34m)\u001b[0m\u001b[0;34m\u001b[0m\u001b[0m\n\u001b[0m\u001b[1;32m   2058\u001b[0m         \u001b[0;32mif\u001b[0m \u001b[0mlen\u001b[0m\u001b[0;34m(\u001b[0m\u001b[0mmapped\u001b[0m\u001b[0;34m)\u001b[0m \u001b[0;32mand\u001b[0m \u001b[0misinstance\u001b[0m\u001b[0;34m(\u001b[0m\u001b[0mmapped\u001b[0m\u001b[0;34m[\u001b[0m\u001b[0;36m0\u001b[0m\u001b[0;34m]\u001b[0m\u001b[0;34m,\u001b[0m \u001b[0mSeries\u001b[0m\u001b[0;34m)\u001b[0m\u001b[0;34m:\u001b[0m\u001b[0;34m\u001b[0m\u001b[0m\n\u001b[1;32m   2059\u001b[0m             \u001b[0;32mfrom\u001b[0m \u001b[0mpandas\u001b[0m\u001b[0;34m.\u001b[0m\u001b[0mcore\u001b[0m\u001b[0;34m.\u001b[0m\u001b[0mframe\u001b[0m \u001b[0;32mimport\u001b[0m \u001b[0mDataFrame\u001b[0m\u001b[0;34m\u001b[0m\u001b[0m\n",
      "\u001b[0;32mpandas/src/inference.pyx\u001b[0m in \u001b[0;36mpandas.lib.map_infer (pandas/lib.c:56502)\u001b[0;34m()\u001b[0m\n",
      "\u001b[0;32m<ipython-input-72-f78c425a5198>\u001b[0m in \u001b[0;36mparse_amount\u001b[0;34m(x)\u001b[0m\n\u001b[1;32m      1\u001b[0m \u001b[0;32mdef\u001b[0m \u001b[0mparse_amount\u001b[0m\u001b[0;34m(\u001b[0m\u001b[0mx\u001b[0m\u001b[0;34m)\u001b[0m\u001b[0;34m:\u001b[0m\u001b[0;34m\u001b[0m\u001b[0m\n\u001b[0;32m----> 2\u001b[0;31m     \u001b[0;32mreturn\u001b[0m \u001b[0mfloat\u001b[0m\u001b[0;34m(\u001b[0m\u001b[0mx\u001b[0m\u001b[0;34m[\u001b[0m\u001b[0;36m1\u001b[0m\u001b[0;34m:\u001b[0m\u001b[0;34m]\u001b[0m\u001b[0;34m.\u001b[0m\u001b[0mreplace\u001b[0m\u001b[0;34m(\u001b[0m\u001b[0;34m','\u001b[0m\u001b[0;34m,\u001b[0m\u001b[0;34m''\u001b[0m\u001b[0;34m)\u001b[0m\u001b[0;34m)\u001b[0m\u001b[0;34m\u001b[0m\u001b[0m\n\u001b[0m\u001b[1;32m      3\u001b[0m \u001b[0;34m\u001b[0m\u001b[0m\n\u001b[1;32m      4\u001b[0m \u001b[0mfc\u001b[0m\u001b[0;34m[\u001b[0m\u001b[0;34m'pamount'\u001b[0m\u001b[0;34m]\u001b[0m \u001b[0;34m=\u001b[0m \u001b[0mfc\u001b[0m\u001b[0;34m[\u001b[0m\u001b[0;34m'pamount'\u001b[0m\u001b[0;34m]\u001b[0m\u001b[0;34m.\u001b[0m\u001b[0mapply\u001b[0m\u001b[0;34m(\u001b[0m\u001b[0mparse_amount\u001b[0m\u001b[0;34m)\u001b[0m\u001b[0;34m\u001b[0m\u001b[0m\n",
      "\u001b[0;31mIndexError\u001b[0m: invalid index to scalar variable."
     ]
    }
   ],
   "source": [
    "fc['pamount'] = fc['pamount'].apply(parse_amount)"
   ]
  },
  {
   "cell_type": "code",
   "execution_count": 105,
   "metadata": {
    "collapsed": true
   },
   "outputs": [],
   "source": [
    "tem = fc.loc[fc.filedate>dt.datetime(2011, 3, 1),['parcel','pamount']].groupby('parcel').first()\n",
    "tem.columns = ['foreclosure_flag']\n",
    "\n",
    "tci = pd.merge(tci, tem, \\\n",
    "             how='left', left_on='parcel', right_index=True)"
   ]
  },
  {
   "cell_type": "code",
   "execution_count": 108,
   "metadata": {
    "collapsed": false
   },
   "outputs": [
    {
     "name": "stdout",
     "output_type": "stream",
     "text": [
      "DIS. W/PREJ 54 0.240740740741\n",
      "ADR 5 0.0\n",
      "NEWLY FILED 46 0.195652173913\n",
      "DISP.OTHER 1111 0.239423942394\n",
      "DEFAULT 2202 0.217983651226\n",
      "DISPOSED 1 0.0\n",
      "BANKRPT/C.O.A. STAY 32 0.125\n",
      "DIS. W/O PREJ 1832 0.223253275109\n",
      "MAGISTRATE 38 0.210526315789\n",
      "DISP.COURT TRIAL 1 1.0\n"
     ]
    }
   ],
   "source": [
    "for dis in set(fc.ldispos):\n",
    "    a = tci[tci.parcel.isin(set(fc[fc.ldispos==dis].parcel))]\n",
    "    print dis, len(a), sum(a.vacant)*1.0/len(a.vacant)"
   ]
  },
  {
   "cell_type": "markdown",
   "metadata": {},
   "source": [
    "## Sheriff's auction"
   ]
  },
  {
   "cell_type": "code",
   "execution_count": 109,
   "metadata": {
    "collapsed": true
   },
   "outputs": [],
   "source": [
    "sa = pd.read_csv('clean_data/shr_auction_tci.csv', parse_dates=[2])"
   ]
  },
  {
   "cell_type": "code",
   "execution_count": 111,
   "metadata": {
    "collapsed": false,
    "scrolled": true
   },
   "outputs": [
    {
     "name": "stdout",
     "output_type": "stream",
     "text": [
      "<class 'pandas.core.frame.DataFrame'>\n",
      "Int64Index: 5994 entries, 0 to 5993\n",
      "Data columns (total 25 columns):\n",
      "parcel        5994 non-null object\n",
      "address       5977 non-null object\n",
      "salesdt       5994 non-null datetime64[ns]\n",
      "saleno        5994 non-null float64\n",
      "sold_amt      3624 non-null object\n",
      "appraisal     4601 non-null object\n",
      "minbid        4605 non-null object\n",
      "scaseno       5994 non-null object\n",
      "withdrawn     2470 non-null object\n",
      "plaintiff     5992 non-null object\n",
      "sdefend       5994 non-null object\n",
      "purchaser     3926 non-null object\n",
      "paddress      5810 non-null object\n",
      "rparty        5191 non-null object\n",
      "raddress      5191 non-null object\n",
      "attorney      5946 non-null object\n",
      "descript      5121 non-null object\n",
      "location      2845 non-null object\n",
      "defend_att    619 non-null object\n",
      "with          2470 non-null object\n",
      "status        184 non-null object\n",
      "ssold         5994 non-null int64\n",
      "SHF           5994 non-null int64\n",
      "LATITUDE      5981 non-null float64\n",
      "LONGITUDE     5981 non-null float64\n",
      "dtypes: datetime64[ns](1), float64(3), int64(2), object(19)\n",
      "memory usage: 1.2+ MB\n"
     ]
    }
   ],
   "source": [
    "sa.info()"
   ]
  },
  {
   "cell_type": "code",
   "execution_count": 127,
   "metadata": {
    "collapsed": false
   },
   "outputs": [
    {
     "data": {
      "text/html": [
       "<div style=\"max-height:1000px;max-width:1500px;overflow:auto;\">\n",
       "<table border=\"1\" class=\"dataframe\">\n",
       "  <thead>\n",
       "    <tr style=\"text-align: right;\">\n",
       "      <th></th>\n",
       "      <th>parcel</th>\n",
       "      <th>address</th>\n",
       "      <th>salesdt</th>\n",
       "      <th>saleno</th>\n",
       "      <th>sold_amt</th>\n",
       "      <th>appraisal</th>\n",
       "      <th>minbid</th>\n",
       "      <th>scaseno</th>\n",
       "      <th>withdrawn</th>\n",
       "      <th>plaintiff</th>\n",
       "      <th>...</th>\n",
       "      <th>attorney</th>\n",
       "      <th>descript</th>\n",
       "      <th>location</th>\n",
       "      <th>defend_att</th>\n",
       "      <th>with</th>\n",
       "      <th>status</th>\n",
       "      <th>ssold</th>\n",
       "      <th>SHF</th>\n",
       "      <th>LATITUDE</th>\n",
       "      <th>LONGITUDE</th>\n",
       "    </tr>\n",
       "  </thead>\n",
       "  <tbody>\n",
       "    <tr>\n",
       "      <th>0</th>\n",
       "      <td> 121-32-012</td>\n",
       "      <td> 10715 MT. CARMEL AVE A SINGLE FRAME DWELLING</td>\n",
       "      <td>2001-03-12</td>\n",
       "      <td> 12</td>\n",
       "      <td> NaN</td>\n",
       "      <td> $12,000</td>\n",
       "      <td>  $8,000</td>\n",
       "      <td>   392,847 ALIAS</td>\n",
       "      <td> BANKRUPTCY</td>\n",
       "      <td> COUNTRYWIDE HOME LOANS, INC., FKA, ETC.</td>\n",
       "      <td>...</td>\n",
       "      <td> KRISS FELTY</td>\n",
       "      <td> NaN</td>\n",
       "      <td> CLEVELAND East of River</td>\n",
       "      <td> NaN</td>\n",
       "      <td> BANKR</td>\n",
       "      <td> NaN</td>\n",
       "      <td> 0</td>\n",
       "      <td> 1</td>\n",
       "      <td> 41.491059</td>\n",
       "      <td>-81.610578</td>\n",
       "    </tr>\n",
       "    <tr>\n",
       "      <th>1</th>\n",
       "      <td> 121-32-012</td>\n",
       "      <td>                         10715 MT CARMEL AVE.</td>\n",
       "      <td>2002-05-06</td>\n",
       "      <td> 13</td>\n",
       "      <td> NaN</td>\n",
       "      <td> $25,000</td>\n",
       "      <td> $16,667</td>\n",
       "      <td> 392,847 PLURIES</td>\n",
       "      <td>        NaN</td>\n",
       "      <td>       COUNTRYWIDE HOME LOANS, INC., ETC</td>\n",
       "      <td>...</td>\n",
       "      <td> KRISS FELTY</td>\n",
       "      <td> NaN</td>\n",
       "      <td> CLEVELAND East of River</td>\n",
       "      <td> NaN</td>\n",
       "      <td>   NaN</td>\n",
       "      <td> NaN</td>\n",
       "      <td> 0</td>\n",
       "      <td> 1</td>\n",
       "      <td> 41.491059</td>\n",
       "      <td>-81.610578</td>\n",
       "    </tr>\n",
       "  </tbody>\n",
       "</table>\n",
       "<p>2 rows × 25 columns</p>\n",
       "</div>"
      ],
      "text/plain": [
       "       parcel                                       address    salesdt  \\\n",
       "0  121-32-012  10715 MT. CARMEL AVE A SINGLE FRAME DWELLING 2001-03-12   \n",
       "1  121-32-012                          10715 MT CARMEL AVE. 2002-05-06   \n",
       "\n",
       "   saleno sold_amt appraisal   minbid          scaseno   withdrawn  \\\n",
       "0      12      NaN   $12,000   $8,000    392,847 ALIAS  BANKRUPTCY   \n",
       "1      13      NaN   $25,000  $16,667  392,847 PLURIES         NaN   \n",
       "\n",
       "                                 plaintiff    ...         attorney descript  \\\n",
       "0  COUNTRYWIDE HOME LOANS, INC., FKA, ETC.    ...      KRISS FELTY      NaN   \n",
       "1        COUNTRYWIDE HOME LOANS, INC., ETC    ...      KRISS FELTY      NaN   \n",
       "\n",
       "                  location defend_att   with status ssold SHF   LATITUDE  \\\n",
       "0  CLEVELAND East of River        NaN  BANKR    NaN     0   1  41.491059   \n",
       "1  CLEVELAND East of River        NaN    NaN    NaN     0   1  41.491059   \n",
       "\n",
       "   LONGITUDE  \n",
       "0 -81.610578  \n",
       "1 -81.610578  \n",
       "\n",
       "[2 rows x 25 columns]"
      ]
     },
     "execution_count": 127,
     "metadata": {},
     "output_type": "execute_result"
    }
   ],
   "source": [
    "sa.head(2)"
   ]
  },
  {
   "cell_type": "code",
   "execution_count": 145,
   "metadata": {
    "collapsed": false
   },
   "outputs": [],
   "source": [
    "sa.loc[sa.appraisal.notnull(), 'appraisal']= sa.loc[sa.appraisal.notnull(), 'appraisal'].apply(parse_amount)"
   ]
  },
  {
   "cell_type": "code",
   "execution_count": 156,
   "metadata": {
    "collapsed": false
   },
   "outputs": [
    {
     "data": {
      "text/html": [
       "<div style=\"max-height:1000px;max-width:1500px;overflow:auto;\">\n",
       "<table border=\"1\" class=\"dataframe\">\n",
       "  <thead>\n",
       "    <tr style=\"text-align: right;\">\n",
       "      <th></th>\n",
       "      <th>parcel</th>\n",
       "      <th>address</th>\n",
       "      <th>salesdt</th>\n",
       "      <th>saleno</th>\n",
       "      <th>sold_amt</th>\n",
       "      <th>appraisal</th>\n",
       "      <th>minbid</th>\n",
       "      <th>scaseno</th>\n",
       "      <th>withdrawn</th>\n",
       "      <th>plaintiff</th>\n",
       "      <th>...</th>\n",
       "      <th>attorney</th>\n",
       "      <th>descript</th>\n",
       "      <th>location</th>\n",
       "      <th>defend_att</th>\n",
       "      <th>with</th>\n",
       "      <th>status</th>\n",
       "      <th>ssold</th>\n",
       "      <th>SHF</th>\n",
       "      <th>LATITUDE</th>\n",
       "      <th>LONGITUDE</th>\n",
       "    </tr>\n",
       "  </thead>\n",
       "  <tbody>\n",
       "    <tr>\n",
       "      <th>1</th>\n",
       "      <td> 121-32-012</td>\n",
       "      <td> 10715 MT CARMEL AVE.</td>\n",
       "      <td>2002-05-06</td>\n",
       "      <td> 13</td>\n",
       "      <td>     NaN</td>\n",
       "      <td> 25000</td>\n",
       "      <td> $16,667</td>\n",
       "      <td>     392,847 PLURIES</td>\n",
       "      <td> NaN</td>\n",
       "      <td> COUNTRYWIDE HOME LOANS, INC., ETC</td>\n",
       "      <td>...</td>\n",
       "      <td> KRISS FELTY</td>\n",
       "      <td> NaN</td>\n",
       "      <td> CLEVELAND East of River</td>\n",
       "      <td> NaN</td>\n",
       "      <td> NaN</td>\n",
       "      <td> NaN</td>\n",
       "      <td> 0</td>\n",
       "      <td> 1</td>\n",
       "      <td> 41.491059</td>\n",
       "      <td>-81.610578</td>\n",
       "    </tr>\n",
       "    <tr>\n",
       "      <th>2</th>\n",
       "      <td> 121-32-012</td>\n",
       "      <td>     10715 CARMEL AVE</td>\n",
       "      <td>2002-11-25</td>\n",
       "      <td> 16</td>\n",
       "      <td> $16,667</td>\n",
       "      <td> 25000</td>\n",
       "      <td> $16,500</td>\n",
       "      <td> 392,847 2ND PLURIES</td>\n",
       "      <td> NaN</td>\n",
       "      <td>       COUNTRYWIDE HOME LOANS ETC.</td>\n",
       "      <td>...</td>\n",
       "      <td> KRISS FELTY</td>\n",
       "      <td> NaN</td>\n",
       "      <td> CLEVELAND East of River</td>\n",
       "      <td> NaN</td>\n",
       "      <td> NaN</td>\n",
       "      <td> NaN</td>\n",
       "      <td> 1</td>\n",
       "      <td> 1</td>\n",
       "      <td> 41.491059</td>\n",
       "      <td>-81.610578</td>\n",
       "    </tr>\n",
       "    <tr>\n",
       "      <th>5</th>\n",
       "      <td> 121-32-014</td>\n",
       "      <td> 10715 MT CARMEL AVE.</td>\n",
       "      <td>2002-05-06</td>\n",
       "      <td> 13</td>\n",
       "      <td>     NaN</td>\n",
       "      <td> 25000</td>\n",
       "      <td> $16,667</td>\n",
       "      <td>     392,847 PLURIES</td>\n",
       "      <td> NaN</td>\n",
       "      <td> COUNTRYWIDE HOME LOANS, INC., ETC</td>\n",
       "      <td>...</td>\n",
       "      <td> KRISS FELTY</td>\n",
       "      <td> NaN</td>\n",
       "      <td> CLEVELAND East of River</td>\n",
       "      <td> NaN</td>\n",
       "      <td> NaN</td>\n",
       "      <td> NaN</td>\n",
       "      <td> 0</td>\n",
       "      <td> 1</td>\n",
       "      <td> 41.491219</td>\n",
       "      <td>-81.610437</td>\n",
       "    </tr>\n",
       "    <tr>\n",
       "      <th>6</th>\n",
       "      <td> 121-32-014</td>\n",
       "      <td>     10715 CARMEL AVE</td>\n",
       "      <td>2002-11-25</td>\n",
       "      <td> 16</td>\n",
       "      <td> $16,667</td>\n",
       "      <td> 25000</td>\n",
       "      <td> $16,500</td>\n",
       "      <td> 392,847 2ND PLURIES</td>\n",
       "      <td> NaN</td>\n",
       "      <td>       COUNTRYWIDE HOME LOANS ETC.</td>\n",
       "      <td>...</td>\n",
       "      <td> KRISS FELTY</td>\n",
       "      <td> NaN</td>\n",
       "      <td> CLEVELAND East of River</td>\n",
       "      <td> NaN</td>\n",
       "      <td> NaN</td>\n",
       "      <td> NaN</td>\n",
       "      <td> 1</td>\n",
       "      <td> 1</td>\n",
       "      <td> 41.491219</td>\n",
       "      <td>-81.610437</td>\n",
       "    </tr>\n",
       "  </tbody>\n",
       "</table>\n",
       "<p>4 rows × 25 columns</p>\n",
       "</div>"
      ],
      "text/plain": [
       "       parcel               address    salesdt  saleno sold_amt appraisal  \\\n",
       "1  121-32-012  10715 MT CARMEL AVE. 2002-05-06      13      NaN     25000   \n",
       "2  121-32-012      10715 CARMEL AVE 2002-11-25      16  $16,667     25000   \n",
       "5  121-32-014  10715 MT CARMEL AVE. 2002-05-06      13      NaN     25000   \n",
       "6  121-32-014      10715 CARMEL AVE 2002-11-25      16  $16,667     25000   \n",
       "\n",
       "    minbid              scaseno withdrawn                          plaintiff  \\\n",
       "1  $16,667      392,847 PLURIES       NaN  COUNTRYWIDE HOME LOANS, INC., ETC   \n",
       "2  $16,500  392,847 2ND PLURIES       NaN        COUNTRYWIDE HOME LOANS ETC.   \n",
       "5  $16,667      392,847 PLURIES       NaN  COUNTRYWIDE HOME LOANS, INC., ETC   \n",
       "6  $16,500  392,847 2ND PLURIES       NaN        COUNTRYWIDE HOME LOANS ETC.   \n",
       "\n",
       "     ...         attorney descript                 location defend_att with  \\\n",
       "1    ...      KRISS FELTY      NaN  CLEVELAND East of River        NaN  NaN   \n",
       "2    ...      KRISS FELTY      NaN  CLEVELAND East of River        NaN  NaN   \n",
       "5    ...      KRISS FELTY      NaN  CLEVELAND East of River        NaN  NaN   \n",
       "6    ...      KRISS FELTY      NaN  CLEVELAND East of River        NaN  NaN   \n",
       "\n",
       "  status ssold SHF   LATITUDE  LONGITUDE  \n",
       "1    NaN     0   1  41.491059 -81.610578  \n",
       "2    NaN     1   1  41.491059 -81.610578  \n",
       "5    NaN     0   1  41.491219 -81.610437  \n",
       "6    NaN     1   1  41.491219 -81.610437  \n",
       "\n",
       "[4 rows x 25 columns]"
      ]
     },
     "execution_count": 156,
     "metadata": {},
     "output_type": "execute_result"
    }
   ],
   "source": [
    "sa[sa['sdefend']=='MAURICE MELTON, ET AL']"
   ]
  },
  {
   "cell_type": "code",
   "execution_count": 169,
   "metadata": {
    "collapsed": false
   },
   "outputs": [],
   "source": [
    "tem = sa.loc[sa.salesdt>dt.datetime(2011, 3, 1),['parcel','ssold']].groupby('parcel').sum()\n",
    "tem.columns = ['auction']\n",
    "\n",
    "tci = pd.merge(tci, tem, \\\n",
    "             how='left', left_on='parcel', right_index=True)"
   ]
  },
  {
   "cell_type": "code",
   "execution_count": 170,
   "metadata": {
    "collapsed": false
   },
   "outputs": [],
   "source": [
    "tci[tci.auction.isnull()] = 0\n",
    "tci[tci.auction > 0] = 1"
   ]
  },
  {
   "cell_type": "markdown",
   "metadata": {},
   "source": [
    "## Tax bill"
   ]
  },
  {
   "cell_type": "code",
   "execution_count": 171,
   "metadata": {
    "collapsed": true
   },
   "outputs": [],
   "source": [
    "tb = pd.read_csv('clean_data/taxbill_tci.csv')"
   ]
  },
  {
   "cell_type": "code",
   "execution_count": 172,
   "metadata": {
    "collapsed": false
   },
   "outputs": [
    {
     "data": {
      "text/html": [
       "<div style=\"max-height:1000px;max-width:1500px;overflow:auto;\">\n",
       "<table border=\"1\" class=\"dataframe\">\n",
       "  <thead>\n",
       "    <tr style=\"text-align: right;\">\n",
       "      <th></th>\n",
       "      <th>PROPERTY_NUMBER</th>\n",
       "      <th>LENDER_PROCESS_TYPE</th>\n",
       "      <th>GRAND_TOTAL_BALANCE</th>\n",
       "      <th>TOTAL_NET_DELQ_BALANCE</th>\n",
       "      <th>TOTAL_NET_BALANCE_OWED_1ST</th>\n",
       "      <th>TOTAL_NET_BALANCE_OWED_2ND</th>\n",
       "      <th>GRAND_TOTAL_BALANCE.1</th>\n",
       "      <th>FORECLOSURE_FLAG</th>\n",
       "      <th>MAIL_STREET_NUMBER</th>\n",
       "      <th>MAIL_STREET_NAME</th>\n",
       "      <th>LOCATION_STREET_NO</th>\n",
       "      <th>LOCATION_STREET_NAME</th>\n",
       "      <th>HOMESTEAD_FLAG</th>\n",
       "    </tr>\n",
       "  </thead>\n",
       "  <tbody>\n",
       "    <tr>\n",
       "      <th>0</th>\n",
       "      <td> 129-23-013</td>\n",
       "      <td>    0</td>\n",
       "      <td>  113.04</td>\n",
       "      <td>    0.00</td>\n",
       "      <td>   0.00</td>\n",
       "      <td> 113.04</td>\n",
       "      <td>  113.04</td>\n",
       "      <td>NaN</td>\n",
       "      <td> 2999</td>\n",
       "      <td>     PAYNE</td>\n",
       "      <td> 12008</td>\n",
       "      <td>     Forest</td>\n",
       "      <td>NaN</td>\n",
       "    </tr>\n",
       "    <tr>\n",
       "      <th>1</th>\n",
       "      <td> 126-16-034</td>\n",
       "      <td> 2500</td>\n",
       "      <td>  655.43</td>\n",
       "      <td>    0.00</td>\n",
       "      <td>   0.00</td>\n",
       "      <td> 655.43</td>\n",
       "      <td>  655.43</td>\n",
       "      <td>NaN</td>\n",
       "      <td> 2999</td>\n",
       "      <td>     PAYNE</td>\n",
       "      <td> 10005</td>\n",
       "      <td> Cumberland</td>\n",
       "      <td>NaN</td>\n",
       "    </tr>\n",
       "    <tr>\n",
       "      <th>2</th>\n",
       "      <td> 121-31-003</td>\n",
       "      <td>  NaN</td>\n",
       "      <td>   28.99</td>\n",
       "      <td>    0.00</td>\n",
       "      <td>   0.00</td>\n",
       "      <td>  28.99</td>\n",
       "      <td>   28.99</td>\n",
       "      <td>NaN</td>\n",
       "      <td> 2417</td>\n",
       "      <td>  Woodhill</td>\n",
       "      <td>  2427</td>\n",
       "      <td>   Woodhill</td>\n",
       "      <td>NaN</td>\n",
       "    </tr>\n",
       "    <tr>\n",
       "      <th>3</th>\n",
       "      <td> 121-31-008</td>\n",
       "      <td>    0</td>\n",
       "      <td> 6298.02</td>\n",
       "      <td> 5169.85</td>\n",
       "      <td> 577.85</td>\n",
       "      <td> 550.32</td>\n",
       "      <td> 6298.02</td>\n",
       "      <td>  1</td>\n",
       "      <td>  NaN</td>\n",
       "      <td> Ingersoll</td>\n",
       "      <td>   NaN</td>\n",
       "      <td>  Ingersoll</td>\n",
       "      <td>NaN</td>\n",
       "    </tr>\n",
       "    <tr>\n",
       "      <th>4</th>\n",
       "      <td> 121-32-124</td>\n",
       "      <td> 1501</td>\n",
       "      <td>  308.39</td>\n",
       "      <td>    0.00</td>\n",
       "      <td>   0.00</td>\n",
       "      <td> 308.39</td>\n",
       "      <td>  308.39</td>\n",
       "      <td>NaN</td>\n",
       "      <td> 2399</td>\n",
       "      <td> Mapleside</td>\n",
       "      <td>  2399</td>\n",
       "      <td>  Mapleside</td>\n",
       "      <td>NaN</td>\n",
       "    </tr>\n",
       "  </tbody>\n",
       "</table>\n",
       "</div>"
      ],
      "text/plain": [
       "  PROPERTY_NUMBER  LENDER_PROCESS_TYPE  GRAND_TOTAL_BALANCE  \\\n",
       "0      129-23-013                    0               113.04   \n",
       "1      126-16-034                 2500               655.43   \n",
       "2      121-31-003                  NaN                28.99   \n",
       "3      121-31-008                    0              6298.02   \n",
       "4      121-32-124                 1501               308.39   \n",
       "\n",
       "   TOTAL_NET_DELQ_BALANCE  TOTAL_NET_BALANCE_OWED_1ST  \\\n",
       "0                    0.00                        0.00   \n",
       "1                    0.00                        0.00   \n",
       "2                    0.00                        0.00   \n",
       "3                 5169.85                      577.85   \n",
       "4                    0.00                        0.00   \n",
       "\n",
       "   TOTAL_NET_BALANCE_OWED_2ND  GRAND_TOTAL_BALANCE.1  FORECLOSURE_FLAG  \\\n",
       "0                      113.04                 113.04               NaN   \n",
       "1                      655.43                 655.43               NaN   \n",
       "2                       28.99                  28.99               NaN   \n",
       "3                      550.32                6298.02                 1   \n",
       "4                      308.39                 308.39               NaN   \n",
       "\n",
       "  MAIL_STREET_NUMBER MAIL_STREET_NAME LOCATION_STREET_NO LOCATION_STREET_NAME  \\\n",
       "0               2999            PAYNE              12008               Forest   \n",
       "1               2999            PAYNE              10005           Cumberland   \n",
       "2               2417         Woodhill               2427             Woodhill   \n",
       "3                NaN        Ingersoll                NaN            Ingersoll   \n",
       "4               2399        Mapleside               2399            Mapleside   \n",
       "\n",
       "   HOMESTEAD_FLAG  \n",
       "0             NaN  \n",
       "1             NaN  \n",
       "2             NaN  \n",
       "3             NaN  \n",
       "4             NaN  "
      ]
     },
     "execution_count": 172,
     "metadata": {},
     "output_type": "execute_result"
    }
   ],
   "source": [
    "tb.head()"
   ]
  },
  {
   "cell_type": "code",
   "execution_count": 174,
   "metadata": {
    "collapsed": false
   },
   "outputs": [
    {
     "data": {
      "text/plain": [
       "6075"
      ]
     },
     "execution_count": 174,
     "metadata": {},
     "output_type": "execute_result"
    }
   ],
   "source": [
    "len(set(tb.PROPERTY_NUMBER))"
   ]
  },
  {
   "cell_type": "code",
   "execution_count": null,
   "metadata": {
    "collapsed": true
   },
   "outputs": [],
   "source": []
  }
 ],
 "metadata": {
  "kernelspec": {
   "display_name": "Python 2",
   "language": "python",
   "name": "python2"
  },
  "language_info": {
   "codemirror_mode": {
    "name": "ipython",
    "version": 2
   },
   "file_extension": ".py",
   "mimetype": "text/x-python",
   "name": "python",
   "nbconvert_exporter": "python",
   "pygments_lexer": "ipython2",
   "version": "2.7.9"
  }
 },
 "nbformat": 4,
 "nbformat_minor": 0
}
