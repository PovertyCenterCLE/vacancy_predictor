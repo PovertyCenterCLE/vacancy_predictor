{
 "cells": [
  {
   "cell_type": "code",
   "execution_count": 1,
   "metadata": {
    "collapsed": false
   },
   "outputs": [
    {
     "name": "stdout",
     "output_type": "stream",
     "text": [
      "/Volumes/Dropbox/largetransfer/luc/carter\n",
      "(113132, 43)\n"
     ]
    }
   ],
   "source": [
    "import matplotlib.pyplot as plt\n",
    "import seaborn as sns\n",
    "import pandas as pd\n",
    "import numpy as np\n",
    "import datetime as dt\n",
    "import os\n",
    "\n",
    "%matplotlib inline\n",
    "\n",
    "path = '/'.join(os.getcwd().split('/')[:-1])\n",
    "print(path)\n",
    "\n",
    "tci = pd.read_csv(path+'/data/model_data/tci_2_1.csv', parse_dates=['Date'])\n",
    "\n",
    "ppns = set(tci['parcel'])\n",
    "dates = dict(zip(tci.parcel, tci.Date))\n",
    "\n",
    "print(tci.shape)"
   ]
  },
  {
   "cell_type": "markdown",
   "metadata": {},
   "source": [
    "## Violations"
   ]
  },
  {
   "cell_type": "code",
   "execution_count": 2,
   "metadata": {
    "collapsed": false
   },
   "outputs": [],
   "source": [
    "vs = pd.read_csv(path+'/data/clean_data/violations.csv', parse_dates = [1,4])\n",
    "vs = vs.loc[vs.apply(lambda x: x.v_file_date < dates[x.parcel], axis=1)]"
   ]
  },
  {
   "cell_type": "code",
   "execution_count": 3,
   "metadata": {
    "collapsed": false
   },
   "outputs": [
    {
     "name": "stdout",
     "output_type": "stream",
     "text": [
      "<class 'pandas.core.frame.DataFrame'>\n",
      "Int64Index: 166685 entries, 0 to 170837\n",
      "Data columns (total 18 columns):\n",
      "VIN                     166685 non-null object\n",
      "v_file_date             166685 non-null datetime64[ns]\n",
      "v_wf_task               166685 non-null object\n",
      "v_wf_task_status        164852 non-null object\n",
      "v_wf_task_date          166685 non-null datetime64[ns]\n",
      "v_type_of_violation     160269 non-null object\n",
      "parcel1                 122437 non-null object\n",
      "parcel                  166685 non-null object\n",
      "cond_gar                14894 non-null float64\n",
      "cond                    40680 non-null float64\n",
      "other                   26644 non-null float64\n",
      "maint                   71716 non-null float64\n",
      "fire                    4763 non-null float64\n",
      "int_ext                 1540 non-null float64\n",
      "vin_id                  123728 non-null object\n",
      "violation_issue_date    123728 non-null object\n",
      "vn_created              123728 non-null float64\n",
      "vn_source               123728 non-null float64\n",
      "dtypes: datetime64[ns](2), float64(8), object(8)\n",
      "memory usage: 24.2+ MB\n"
     ]
    }
   ],
   "source": [
    "vs.info()"
   ]
  },
  {
   "cell_type": "markdown",
   "metadata": {},
   "source": [
    "### Violation Task"
   ]
  },
  {
   "cell_type": "code",
   "execution_count": 4,
   "metadata": {
    "collapsed": false
   },
   "outputs": [],
   "source": [
    "# vs_task = pd.DataFrame(vs.groupby('v_wf_task').count()['VIN'])\n",
    "# vs_task.columns = ['violations_tasks']\n",
    "# vs_task[vs_task.violations_tasks > 1]"
   ]
  },
  {
   "cell_type": "code",
   "execution_count": 5,
   "metadata": {
    "collapsed": false
   },
   "outputs": [],
   "source": [
    "# for task in set(vs.v_wf_task):\n",
    "#     tci = pd.merge(tci, vs.loc[vs.v_wf_task==task,['parcel','v_wf_task']].groupby('parcel').count(), how='left', left_on = 'ppn', right_index=True)\n",
    "#     tci = tci.rename(columns={'v_wf_task': task.lower()+' count'})\n",
    "#     tci[task.lower()+' count'] = tci[task.lower()+' count'].fillna(0)\n",
    "# #     print task, len(a), sum(a.vacant)*1.0/len(a.vacant)"
   ]
  },
  {
   "cell_type": "code",
   "execution_count": 6,
   "metadata": {
    "collapsed": true
   },
   "outputs": [],
   "source": [
    "# def check_task(x):\n",
    "#     if x in parcel_set:\n",
    "#         return 1\n",
    "#     else:\n",
    "#         return 0\n",
    "    \n",
    "# for task in vs_task.index:\n",
    "#     parcel_set = set(vs.loc[vs.v_wf_task==task,'parcel'])\n",
    "#     tci['task_'+task[0:3].lower()] = tci['ppn'].apply(check_task)"
   ]
  },
  {
   "cell_type": "markdown",
   "metadata": {},
   "source": [
    "### Violations count "
   ]
  },
  {
   "cell_type": "code",
   "execution_count": 7,
   "metadata": {
    "collapsed": false
   },
   "outputs": [],
   "source": [
    "vs_copy = vs.groupby('VIN').last().reset_index()\n",
    "\n",
    "vs_copy = vs_copy[['parcel','v_file_date']].groupby('parcel').count().reset_index()\n",
    "\n",
    "vs_copy['vs_count'] = vs_copy.apply(lambda x: \\\n",
    "        len(vs[(vs.parcel == x.parcel) & (vs.v_file_date > dates[x.parcel]-pd.DateOffset(years=1))]), axis=1)\n",
    "\n",
    "vs_copy = vs_copy.rename(columns={'vs_count':'v_total_1yr'})\n",
    "vs_copy = vs_copy.set_index('parcel')"
   ]
  },
  {
   "cell_type": "code",
   "execution_count": 8,
   "metadata": {
    "collapsed": false
   },
   "outputs": [],
   "source": [
    "tci = pd.merge(tci, vs_copy[['v_total_1yr']], \\\n",
    "               how='left', left_on='parcel', right_index=True)\n",
    "tci.loc[tci.v_total_1yr.isnull(), 'v_total_1yr'] = 0"
   ]
  },
  {
   "cell_type": "code",
   "execution_count": 9,
   "metadata": {
    "collapsed": true
   },
   "outputs": [],
   "source": [
    "vs_copy = vs.groupby('VIN').last().reset_index()\n",
    "\n",
    "vs_copy = vs_copy[['parcel','v_file_date']].groupby('parcel').count().reset_index()\n",
    "\n",
    "vs_copy['vs_count'] = vs_copy.apply(lambda x: \\\n",
    "        len(vs[(vs.parcel == x.parcel) & (vs.v_file_date > dates[x.parcel]-pd.DateOffset(years=2))]), axis=1)\n",
    "\n",
    "vs_copy = vs_copy.rename(columns={'vs_count':'v_total_2yr'})\n",
    "vs_copy = vs_copy.set_index('parcel')"
   ]
  },
  {
   "cell_type": "code",
   "execution_count": 10,
   "metadata": {
    "collapsed": false
   },
   "outputs": [],
   "source": [
    "tci = pd.merge(tci, vs_copy[['v_total_2yr']], \\\n",
    "               how='left', left_on='parcel', right_index=True)\n",
    "tci.loc[tci.v_total_2yr.isnull(), 'v_total_2yr'] = 0"
   ]
  },
  {
   "cell_type": "code",
   "execution_count": 11,
   "metadata": {
    "collapsed": false
   },
   "outputs": [],
   "source": [
    "# vs_count = pd.DataFrame(vs[vs['v_file_date']>dt.datetime(2013,6,1)].groupby('VIN').last().groupby('parcel').count()['v_file_date'])\n",
    "# vs_count = vs_count.rename(columns={'v_file_date':'violations_number_2_yr'})\n",
    "# tci = pd.merge(tci, vs_count[['violations_number_2_yr']], \\\n",
    "#                how='left', left_on='ppn', right_index=True)\n",
    "# tci.loc[tci.violations_number_2_yr.isnull(), 'violations_number_2_yr'] = 0"
   ]
  },
  {
   "cell_type": "markdown",
   "metadata": {},
   "source": [
    "### Violation types"
   ]
  },
  {
   "cell_type": "code",
   "execution_count": 12,
   "metadata": {
    "collapsed": false
   },
   "outputs": [],
   "source": [
    "# vs_type = vs.loc[vs['v_file_date']>dt.datetime(2013,6,1),['v_type_of_violation','parcel','VIN']].groupby('VIN').last().groupby('v_type_of_violation').count()\n",
    "# vs_type = vs_type.rename(columns={'parcel':'violations_type'})"
   ]
  },
  {
   "cell_type": "code",
   "execution_count": 13,
   "metadata": {
    "collapsed": false
   },
   "outputs": [],
   "source": [
    "# violation_types = vs_type[vs_type['violations_type']>500]"
   ]
  },
  {
   "cell_type": "code",
   "execution_count": 14,
   "metadata": {
    "collapsed": true
   },
   "outputs": [],
   "source": [
    "# for vio in violation_types.index:\n",
    "#     tem = vs.loc[(vs['v_file_date']>dt.datetime(2013,6,1)) & (vs.v_type_of_violation==vio),['v_type_of_violation','parcel','VIN']].groupby('VIN').last().groupby('parcel').count()\n",
    "#     tci = pd.merge(tci, tem, left_on='ppn', right_index=True, how='left')\n",
    "#     tci = tci.rename(columns={'v_type_of_violation': 'v_'+vio.lower()[0:6]+'_count'})\n",
    "#     tci['v_'+vio.lower()[0:6]+'_count'] = tci['v_'+vio.lower()[0:6]+'_count'].fillna(0)"
   ]
  },
  {
   "cell_type": "code",
   "execution_count": 15,
   "metadata": {
    "collapsed": false
   },
   "outputs": [
    {
     "data": {
      "text/plain": [
       "Index(['parcel', 'vacant', 'Date', 'Survey Category', 'Survey Grade',\n",
       "       'propsize', 'totusabl', 'tmktval', 'condition13', 'condition14',\n",
       "       'condition_value13', 'condition_value14', 'style_filtered',\n",
       "       'ownerocc_value', 'totbldgs', 'yrbuilt_filtered', 'rextwall',\n",
       "       'vacant_block', 'median_rent', 'property_crimes', 'burglaries',\n",
       "       'part_one_crimes', 'part_two_crimes', 'bachelors+', 'poverty_rate',\n",
       "       'median_hh_income', 'white', 'black', 'asian', 'other', 'hispanic',\n",
       "       'young', 'middle', 'old', 'al_num', 'al_date', 'al_days', 't_days',\n",
       "       't_shf_deed', 't_num', 'lb_acquired', 'lb_tax_fc', 'pv_total',\n",
       "       'v_total_1yr', 'v_total_2yr'],\n",
       "      dtype='object')"
      ]
     },
     "execution_count": 15,
     "metadata": {},
     "output_type": "execute_result"
    }
   ],
   "source": [
    "tci.columns"
   ]
  },
  {
   "cell_type": "markdown",
   "metadata": {},
   "source": [
    "## Complaints"
   ]
  },
  {
   "cell_type": "code",
   "execution_count": 16,
   "metadata": {
    "collapsed": false
   },
   "outputs": [],
   "source": [
    "cp = pd.read_csv(path+'/data/clean_data/complaints.csv', parse_dates = [2],index_col=[0], dtype=str)\n",
    "cp = cp.loc[cp.apply(lambda x: x.c_file_date < dates[x.parcel], axis=1)]\n",
    "cp = cp.sort_values('c_file_date')"
   ]
  },
  {
   "cell_type": "code",
   "execution_count": 17,
   "metadata": {
    "collapsed": false
   },
   "outputs": [
    {
     "name": "stdout",
     "output_type": "stream",
     "text": [
      "<class 'pandas.core.frame.DataFrame'>\n",
      "Int64Index: 260807 entries, 29563 to 466314\n",
      "Data columns (total 20 columns):\n",
      "complaint_id           260807 non-null object\n",
      "c_file_date            260807 non-null datetime64[ns]\n",
      "c_wf_task              260807 non-null object\n",
      "c_wf_task_status       247683 non-null object\n",
      "c_wf_task_date         260807 non-null object\n",
      "c_type_of_complaint    256052 non-null object\n",
      "cdc_ri                 65 non-null object\n",
      "cdc_corrected          177 non-null object\n",
      "cdc_referred           486 non-null object\n",
      "othercomp              156810 non-null object\n",
      "parcel                 260807 non-null object\n",
      "parcel1                81757 non-null object\n",
      "cdc_comp               0 non-null object\n",
      "cdccia_comp            0 non-null object\n",
      "council_comp           0 non-null object\n",
      "mac_comp               0 non-null object\n",
      "public_comp            0 non-null object\n",
      "other_comp             0 non-null object\n",
      "complaint_id1          226633 non-null object\n",
      "comp_source            254713 non-null object\n",
      "dtypes: datetime64[ns](1), object(19)\n",
      "memory usage: 41.8+ MB\n"
     ]
    }
   ],
   "source": [
    "cp.info()"
   ]
  },
  {
   "cell_type": "code",
   "execution_count": 18,
   "metadata": {
    "collapsed": false
   },
   "outputs": [
    {
     "data": {
      "text/html": [
       "<div>\n",
       "<table border=\"1\" class=\"dataframe\">\n",
       "  <thead>\n",
       "    <tr style=\"text-align: right;\">\n",
       "      <th></th>\n",
       "      <th>complaint_id</th>\n",
       "      <th>c_file_date</th>\n",
       "      <th>c_wf_task</th>\n",
       "      <th>c_wf_task_status</th>\n",
       "      <th>c_wf_task_date</th>\n",
       "      <th>c_type_of_complaint</th>\n",
       "      <th>cdc_ri</th>\n",
       "      <th>cdc_corrected</th>\n",
       "      <th>cdc_referred</th>\n",
       "      <th>othercomp</th>\n",
       "      <th>parcel</th>\n",
       "      <th>parcel1</th>\n",
       "      <th>cdc_comp</th>\n",
       "      <th>cdccia_comp</th>\n",
       "      <th>council_comp</th>\n",
       "      <th>mac_comp</th>\n",
       "      <th>public_comp</th>\n",
       "      <th>other_comp</th>\n",
       "      <th>complaint_id1</th>\n",
       "      <th>comp_source</th>\n",
       "    </tr>\n",
       "  </thead>\n",
       "  <tbody>\n",
       "    <tr>\n",
       "      <th>29563</th>\n",
       "      <td>CMP05007059-M</td>\n",
       "      <td>2005-10-28</td>\n",
       "      <td>Inspection</td>\n",
       "      <td>Inspection Denied</td>\n",
       "      <td>05/28/2009</td>\n",
       "      <td>NaN</td>\n",
       "      <td>NaN</td>\n",
       "      <td>NaN</td>\n",
       "      <td>NaN</td>\n",
       "      <td>1</td>\n",
       "      <td>111-22-121</td>\n",
       "      <td>NaN</td>\n",
       "      <td>NaN</td>\n",
       "      <td>NaN</td>\n",
       "      <td>NaN</td>\n",
       "      <td>NaN</td>\n",
       "      <td>NaN</td>\n",
       "      <td>NaN</td>\n",
       "      <td>CMP05007059-M</td>\n",
       "      <td>NaN</td>\n",
       "    </tr>\n",
       "    <tr>\n",
       "      <th>29564</th>\n",
       "      <td>CMP05007059-M</td>\n",
       "      <td>2005-10-28</td>\n",
       "      <td>Closure</td>\n",
       "      <td>Closed-ADMIN</td>\n",
       "      <td>05/28/2009</td>\n",
       "      <td>NaN</td>\n",
       "      <td>NaN</td>\n",
       "      <td>NaN</td>\n",
       "      <td>NaN</td>\n",
       "      <td>1</td>\n",
       "      <td>111-22-121</td>\n",
       "      <td>NaN</td>\n",
       "      <td>NaN</td>\n",
       "      <td>NaN</td>\n",
       "      <td>NaN</td>\n",
       "      <td>NaN</td>\n",
       "      <td>NaN</td>\n",
       "      <td>NaN</td>\n",
       "      <td>CMP05007059-M</td>\n",
       "      <td>NaN</td>\n",
       "    </tr>\n",
       "  </tbody>\n",
       "</table>\n",
       "</div>"
      ],
      "text/plain": [
       "        complaint_id c_file_date   c_wf_task   c_wf_task_status  \\\n",
       "29563  CMP05007059-M  2005-10-28  Inspection  Inspection Denied   \n",
       "29564  CMP05007059-M  2005-10-28     Closure       Closed-ADMIN   \n",
       "\n",
       "      c_wf_task_date c_type_of_complaint cdc_ri cdc_corrected cdc_referred  \\\n",
       "29563     05/28/2009                 NaN    NaN           NaN          NaN   \n",
       "29564     05/28/2009                 NaN    NaN           NaN          NaN   \n",
       "\n",
       "      othercomp      parcel parcel1 cdc_comp cdccia_comp council_comp  \\\n",
       "29563         1  111-22-121     NaN      NaN         NaN          NaN   \n",
       "29564         1  111-22-121     NaN      NaN         NaN          NaN   \n",
       "\n",
       "      mac_comp public_comp other_comp  complaint_id1 comp_source  \n",
       "29563      NaN         NaN        NaN  CMP05007059-M         NaN  \n",
       "29564      NaN         NaN        NaN  CMP05007059-M         NaN  "
      ]
     },
     "execution_count": 18,
     "metadata": {},
     "output_type": "execute_result"
    }
   ],
   "source": [
    "cp.head(2)"
   ]
  },
  {
   "cell_type": "code",
   "execution_count": 19,
   "metadata": {
    "collapsed": false
   },
   "outputs": [],
   "source": [
    "# cp.groupby('complaint_id').last().groupby(.agg(lambda x: len(set(x.parcel)))"
   ]
  },
  {
   "cell_type": "code",
   "execution_count": 20,
   "metadata": {
    "collapsed": false
   },
   "outputs": [
    {
     "data": {
      "text/plain": [
       "c_type_of_complaint\n",
       "O.V.V.                          9164\n",
       "Complete interior/exterior      2892\n",
       "General Exterior Maintenance    2346\n",
       "Fire Damage                      976\n",
       "Vacant Distressed                695\n",
       "Name: c_file_date, dtype: int64"
      ]
     },
     "execution_count": 20,
     "metadata": {},
     "output_type": "execute_result"
    }
   ],
   "source": [
    "types = cp[cp.c_file_date > dt.datetime(2013,6,1)].groupby('complaint_id').last().groupby('c_type_of_complaint').count()['c_file_date'].sort_values(ascending=False).head()\n",
    "types"
   ]
  },
  {
   "cell_type": "code",
   "execution_count": 21,
   "metadata": {
    "collapsed": true
   },
   "outputs": [],
   "source": [
    "# types = ['Black Mold','Collapsing Structure','Complete interior/exterior', \\\n",
    "#          'Debris/Garbage/Junk (Occupied)','Electrical','Fire Damage', \\\n",
    "#          'General Exterior Maintenance','No Permit','O.V.V.', 'Plumbing']"
   ]
  },
  {
   "cell_type": "markdown",
   "metadata": {},
   "source": [
    "### Complaint type"
   ]
  },
  {
   "cell_type": "code",
   "execution_count": 22,
   "metadata": {
    "collapsed": false
   },
   "outputs": [],
   "source": [
    "cp_copy = cp[cp.c_type_of_complaint=='O.V.V.'].groupby('complaint_id').last().reset_index()\n",
    "\n",
    "cp_copy = cp_copy[['parcel','c_file_date']].groupby('parcel').count().reset_index()\n",
    "\n",
    "cp_copy['c_ovv_2yr'] = cp_copy.apply(lambda x: \\\n",
    "        len(cp[(cp.parcel == x.parcel) & (cp.c_file_date > dates[x.parcel]-pd.DateOffset(years=2))]), axis=1)\n",
    "\n",
    "cp_copy = cp_copy.set_index('parcel')\n",
    "\n",
    "tci = pd.merge(tci, cp_copy[['c_ovv_2yr']], \\\n",
    "               how='left', left_on='parcel', right_index=True)\n",
    "tci.loc[tci.c_ovv_2yr.isnull(), 'c_ovv_2yr'] = 0"
   ]
  },
  {
   "cell_type": "code",
   "execution_count": 23,
   "metadata": {
    "collapsed": false
   },
   "outputs": [
    {
     "name": "stdout",
     "output_type": "stream",
     "text": [
      "3.9696154612472605\n",
      "0.1616000931189012\n"
     ]
    }
   ],
   "source": [
    "print(np.mean(tci[tci.vacant==1].c_ovv_2yr))\n",
    "print(np.mean(tci[tci.vacant==0].c_ovv_2yr))"
   ]
  },
  {
   "cell_type": "code",
   "execution_count": 24,
   "metadata": {
    "collapsed": false
   },
   "outputs": [],
   "source": [
    "cp_copy = cp[cp.c_type_of_complaint=='O.V.V.'].groupby('complaint_id').last().reset_index()\n",
    "\n",
    "cp_copy = cp_copy[['parcel','c_file_date']].groupby('parcel').count().reset_index()\n",
    "\n",
    "cp_copy['c_ovv_1yr'] = cp_copy.apply(lambda x: \\\n",
    "        len(cp[(cp.parcel == x.parcel) & (cp.c_file_date > dates[x.parcel]-pd.DateOffset(years=1))]), axis=1)\n",
    "\n",
    "cp_copy = cp_copy.set_index('parcel')\n",
    "\n",
    "tci = pd.merge(tci, cp_copy[['c_ovv_1yr']], \\\n",
    "               how='left', left_on='parcel', right_index=True)\n",
    "tci.loc[tci.c_ovv_1yr.isnull(), 'c_ovv_1yr'] = 0"
   ]
  },
  {
   "cell_type": "code",
   "execution_count": 25,
   "metadata": {
    "collapsed": false
   },
   "outputs": [
    {
     "name": "stdout",
     "output_type": "stream",
     "text": [
      "1.9460051803148037\n",
      "0.07472791821056511\n"
     ]
    }
   ],
   "source": [
    "print(np.mean(tci[tci.vacant==1].c_ovv_1yr))\n",
    "print(np.mean(tci[tci.vacant==0].c_ovv_1yr))"
   ]
  },
  {
   "cell_type": "code",
   "execution_count": 26,
   "metadata": {
    "collapsed": false
   },
   "outputs": [],
   "source": [
    "# for complaint in ['O.V.V.']:\n",
    "#     t = cp.loc[(cp.c_file_date > dt.datetime(2015,1,1)) & (cp.c_type_of_complaint==complaint),['c_type_of_complaint','parcel','complaint_id']] \\\n",
    "#             .groupby('complaint_id').last().groupby('parcel').count()[['c_type_of_complaint']]\n",
    "#     t = t.rename(columns={'c_type_of_complaint': 'c_'+complaint+'_0yr'})\n",
    "#     tem = pd.merge(tci, t, left_on='ppn', right_index=True, how='left')\n",
    "#     tem['c_'+complaint+'_0yr'] = tem['c_'+complaint+'_0yr'].fillna(0)\n",
    "#     print pd.crosstab(tem['c_'+complaint+'_0yr'], tem.vacant)"
   ]
  },
  {
   "cell_type": "code",
   "execution_count": 27,
   "metadata": {
    "collapsed": false
   },
   "outputs": [],
   "source": [
    "# for complaint in types.index:\n",
    "#     t = cp.loc[(cp.c_file_date > dt.datetime(2014,6,1)) & (cp.c_type_of_complaint==complaint),['c_type_of_complaint','parcel','complaint_id']] \\\n",
    "#             .groupby('complaint_id').last().groupby('parcel').count()[['c_type_of_complaint']]\n",
    "#     t = t.rename(columns={'c_type_of_complaint': 'c_'+complaint+'_1yr'})\n",
    "#     tci = pd.merge(tci, t, left_on='ppn', right_index=True, how='left')\n",
    "#     tci['c_'+complaint+'_1yr'] = tci['c_'+complaint+'_1yr'].fillna(0)\n",
    "# #     print pd.crosstab(tem['c_'+complaint+'_1yr'], tem.vacant)"
   ]
  },
  {
   "cell_type": "code",
   "execution_count": 28,
   "metadata": {
    "collapsed": false
   },
   "outputs": [],
   "source": [
    "# for complaint in types.index:\n",
    "#     t = cp.loc[(cp.c_file_date > dt.datetime(2013,6,1)) & (cp.c_type_of_complaint==complaint),['c_type_of_complaint','parcel','complaint_id']] \\\n",
    "#             .groupby('complaint_id').last().groupby('parcel').count()[['c_type_of_complaint']]\n",
    "# #     t = cp.loc[cp.c_type_of_complaint==complaint,['c_type_of_complaint','parcel']].groupby('parcel').count()\n",
    "#     t = t.rename(columns={'c_type_of_complaint': 'c_'+complaint+'_2yr'})\n",
    "#     tci = pd.merge(tci, t, left_on='ppn', right_index=True, how='left')\n",
    "#     tci['c_'+complaint+'_2yr'] = tci['c_'+complaint+'_2yr'].fillna(0)\n",
    "# #     print pd.crosstab(tem['c_'+complaint+'_2yr'], tem.vacant)"
   ]
  },
  {
   "cell_type": "markdown",
   "metadata": {},
   "source": [
    "### Complaint count (2 yrs)"
   ]
  },
  {
   "cell_type": "code",
   "execution_count": 29,
   "metadata": {
    "collapsed": false,
    "scrolled": true
   },
   "outputs": [],
   "source": [
    "# cp_count = pd.DataFrame(cp[(cp.c_file_date > dt.datetime(2013,6,1))].groupby('parcel').count()['complaint_id'])\n",
    "# cp_count.columns = ['complaint_count_2yr']\n",
    "# tci = pd.merge(tci, cp_count, \\\n",
    "#                how='left', left_on='ppn', right_index=True)\n",
    "# tci.loc[tci.complaint_count_2yr.isnull(), 'complaint_count_2yr'] = 0"
   ]
  },
  {
   "cell_type": "code",
   "execution_count": 30,
   "metadata": {
    "collapsed": false
   },
   "outputs": [],
   "source": [
    "# sum(tci.loc[tci.complaint_count_2yr>5, 'vacant'])*1.0/len(tci.loc[tci.complaint_count_2yr>5, 'vacant'])"
   ]
  },
  {
   "cell_type": "markdown",
   "metadata": {},
   "source": [
    "### Complaint count (1 yr)"
   ]
  },
  {
   "cell_type": "code",
   "execution_count": 31,
   "metadata": {
    "collapsed": false
   },
   "outputs": [],
   "source": [
    "# cp_count = pd.DataFrame(cp[cp.c_file_date>dt.datetime(2014, 6, 1)].groupby('parcel').count()['complaint_id'])\n",
    "# cp_count.columns = ['complaint_count_1yr']\n",
    "# tci = pd.merge(tci, cp_count, \\\n",
    "#                how='left', left_on='ppn', right_index=True)\n",
    "# tci.loc[tci.complaint_count_1yr.isnull(), 'complaint_count_1yr'] = 0"
   ]
  },
  {
   "cell_type": "code",
   "execution_count": 32,
   "metadata": {
    "collapsed": false
   },
   "outputs": [],
   "source": [
    "# sum(tci.loc[tci.complaint_count_1yr>2, 'vacant'])*1.0/len(tci.loc[tci.complaint_count_1yr>2, 'vacant'])"
   ]
  },
  {
   "cell_type": "markdown",
   "metadata": {},
   "source": [
    "### Complain count (6 months)"
   ]
  },
  {
   "cell_type": "code",
   "execution_count": 33,
   "metadata": {
    "collapsed": false
   },
   "outputs": [],
   "source": [
    "# cp_count = pd.DataFrame(cp[cp.c_file_date>dt.datetime(2015, 1, 1)].groupby('parcel').count()['complaint_id'])\n",
    "# cp_count.columns = ['complaint_count_6_mon']\n",
    "# tci = pd.merge(tci, cp_count, \\\n",
    "#                how='left', left_on='ppn', right_index=True)\n",
    "# tci.loc[tci.complaint_count_6_mon.isnull(), 'complaint_count_6_mon'] = 0"
   ]
  },
  {
   "cell_type": "code",
   "execution_count": 34,
   "metadata": {
    "collapsed": false
   },
   "outputs": [],
   "source": [
    "# sum(tci.loc[tci.complaint_count_6_mon>0, 'vacant'])*1.0/len(tci.loc[tci.complaint_count_6_mon>0, 'vacant']) ,len(tci.loc[tci.complaint_count_6_mon>0, 'vacant'])"
   ]
  },
  {
   "cell_type": "code",
   "execution_count": 35,
   "metadata": {
    "collapsed": false
   },
   "outputs": [],
   "source": [
    "tci.to_csv(path+'/data/model_data/tci_2_2.csv', index=False)"
   ]
  },
  {
   "cell_type": "code",
   "execution_count": 36,
   "metadata": {
    "collapsed": false
   },
   "outputs": [
    {
     "data": {
      "text/plain": [
       "(113132, 47)"
      ]
     },
     "execution_count": 36,
     "metadata": {},
     "output_type": "execute_result"
    }
   ],
   "source": [
    "tci.shape"
   ]
  },
  {
   "cell_type": "code",
   "execution_count": 37,
   "metadata": {
    "collapsed": false
   },
   "outputs": [
    {
     "name": "stdout",
     "output_type": "stream",
     "text": [
      "<class 'pandas.core.frame.DataFrame'>\n",
      "Int64Index: 113132 entries, 0 to 113131\n",
      "Data columns (total 47 columns):\n",
      "parcel               113132 non-null object\n",
      "vacant               113132 non-null int64\n",
      "Date                 113132 non-null datetime64[ns]\n",
      "Survey Category      113132 non-null object\n",
      "Survey Grade         113132 non-null object\n",
      "propsize             113132 non-null float64\n",
      "totusabl             113132 non-null float64\n",
      "tmktval              113132 non-null float64\n",
      "condition13          112559 non-null object\n",
      "condition14          112595 non-null object\n",
      "condition_value13    113132 non-null float64\n",
      "condition_value14    113132 non-null float64\n",
      "style_filtered       113132 non-null object\n",
      "ownerocc_value       113132 non-null float64\n",
      "totbldgs             113132 non-null float64\n",
      "yrbuilt_filtered     113132 non-null float64\n",
      "rextwall             113132 non-null object\n",
      "vacant_block         113132 non-null float64\n",
      "median_rent          113132 non-null float64\n",
      "property_crimes      113132 non-null float64\n",
      "burglaries           113132 non-null float64\n",
      "part_one_crimes      113132 non-null float64\n",
      "part_two_crimes      113132 non-null float64\n",
      "bachelors+           113132 non-null float64\n",
      "poverty_rate         113132 non-null float64\n",
      "median_hh_income     113132 non-null float64\n",
      "white                113132 non-null float64\n",
      "black                113132 non-null float64\n",
      "asian                113132 non-null float64\n",
      "other                113132 non-null float64\n",
      "hispanic             113132 non-null float64\n",
      "young                113132 non-null float64\n",
      "middle               113132 non-null float64\n",
      "old                  113132 non-null float64\n",
      "al_num               113132 non-null float64\n",
      "al_date              113132 non-null object\n",
      "al_days              113132 non-null int64\n",
      "t_days               113132 non-null int64\n",
      "t_shf_deed           113132 non-null float64\n",
      "t_num                113132 non-null float64\n",
      "lb_acquired          113132 non-null int64\n",
      "lb_tax_fc            113132 non-null int64\n",
      "pv_total             113132 non-null float64\n",
      "v_total_1yr          113132 non-null float64\n",
      "v_total_2yr          113132 non-null float64\n",
      "c_ovv_2yr            113132 non-null float64\n",
      "c_ovv_1yr            113132 non-null float64\n",
      "dtypes: datetime64[ns](1), float64(33), int64(5), object(8)\n",
      "memory usage: 41.4+ MB\n"
     ]
    }
   ],
   "source": [
    "tci.info()"
   ]
  },
  {
   "cell_type": "code",
   "execution_count": null,
   "metadata": {
    "collapsed": true
   },
   "outputs": [],
   "source": []
  }
 ],
 "metadata": {
  "kernelspec": {
   "display_name": "Python 3",
   "language": "python",
   "name": "python3"
  },
  "language_info": {
   "codemirror_mode": {
    "name": "ipython",
    "version": 3
   },
   "file_extension": ".py",
   "mimetype": "text/x-python",
   "name": "python",
   "nbconvert_exporter": "python",
   "pygments_lexer": "ipython3",
   "version": "3.4.3"
  }
 },
 "nbformat": 4,
 "nbformat_minor": 0
}
