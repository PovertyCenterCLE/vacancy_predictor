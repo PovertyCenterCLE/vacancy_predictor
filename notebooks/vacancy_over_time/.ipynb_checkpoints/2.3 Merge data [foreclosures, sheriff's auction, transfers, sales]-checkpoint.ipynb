{
 "cells": [
  {
   "cell_type": "code",
   "execution_count": 1,
   "metadata": {
    "collapsed": false
   },
   "outputs": [
    {
     "name": "stderr",
     "output_type": "stream",
     "text": [
      "//anaconda/envs/data_sci/lib/python3.4/site-packages/matplotlib/__init__.py:872: UserWarning: axes.color_cycle is deprecated and replaced with axes.prop_cycle; please use the latter.\n",
      "  warnings.warn(self.msg_depr % (key, alt_key))\n",
      "//anaconda/envs/data_sci/lib/python3.4/site-packages/IPython/core/interactiveshell.py:2902: DtypeWarning: Columns (0) have mixed types. Specify dtype option on import or set low_memory=False.\n",
      "  interactivity=interactivity, compiler=compiler, result=result)\n"
     ]
    },
    {
     "name": "stdout",
     "output_type": "stream",
     "text": [
      "/Volumes/Dropbox/largetransfer/luc/carter\n",
      "(113132, 3)\n"
     ]
    }
   ],
   "source": [
    "import matplotlib.pyplot as plt\n",
    "import seaborn as sns\n",
    "import pandas as pd\n",
    "import numpy as np\n",
    "import os\n",
    "import datetime as dt\n",
    "%matplotlib inline\n",
    "sns.set_context('notebook')\n",
    "\n",
    "path = '/'.join(os.getcwd().split('/')[:-2])\n",
    "print(path)\n",
    "\n",
    "tci = pd.read_csv(path+'/data/model_data/tci_1_0.csv', parse_dates=['Date'], dtype={'PIN': str})\n",
    "cols = ['parcel','vacant','Date','Survey Category','Survey Grade','SPA_NAME']\n",
    "tci = tci[cols]\n",
    "tci.shape "
   ]
  },
  {
   "cell_type": "markdown",
   "metadata": {},
   "source": [
    "## Foreclosure data"
   ]
  },
  {
   "cell_type": "code",
   "execution_count": 53,
   "metadata": {
    "collapsed": false
   },
   "outputs": [],
   "source": [
    "fc = pd.read_csv(path+'/data/clean_data/foreclosure_filings2.csv', parse_dates=[2])\n"
   ]
  },
  {
   "cell_type": "code",
   "execution_count": 19,
   "metadata": {
    "collapsed": false
   },
   "outputs": [],
   "source": [
    "fc = fc.loc[fc.apply(lambda x: x.filedate < dates[x.parcel], axis=1)]\n",
    "fc = fc.sort_values('filedate')\n",
    "fc = fc.groupby('caseno').last()"
   ]
  },
  {
   "cell_type": "code",
   "execution_count": 20,
   "metadata": {
    "collapsed": false
   },
   "outputs": [],
   "source": [
    "# fc['pamount'] = fc['pamount'].apply(lambda x: float(x[1:].replace(',','')))"
   ]
  },
  {
   "cell_type": "markdown",
   "metadata": {},
   "source": [
    "#### Active foreclosure"
   ]
  },
  {
   "cell_type": "code",
   "execution_count": 21,
   "metadata": {
    "collapsed": false
   },
   "outputs": [
    {
     "name": "stdout",
     "output_type": "stream",
     "text": [
      "(113132, 4)\n"
     ]
    }
   ],
   "source": [
    "tem = fc.loc[fc.status=='Active',['parcel']]\n",
    "tem['active_fc'] = 1\n",
    "tem = tem.drop_duplicates()\n",
    "tem = tem.set_index('parcel')\n",
    "\n",
    "tci = pd.merge(tci, tem, \\\n",
    "             how='left', left_on='parcel', right_index=True)\n",
    "print(tci.shape)"
   ]
  },
  {
   "cell_type": "code",
   "execution_count": 22,
   "metadata": {
    "collapsed": false
   },
   "outputs": [],
   "source": [
    "# tem = fc[['parcel','pamount']].groupby('parcel').last()\n",
    "# tem.columns = ['foreclosure_flag']\n",
    "\n",
    "# # tci = pd.merge(tci, tem, \\\n",
    "# #              how='left', left_on='ppn', right_index=True)"
   ]
  },
  {
   "cell_type": "code",
   "execution_count": 23,
   "metadata": {
    "collapsed": false
   },
   "outputs": [],
   "source": [
    "fc_copy = fc.reset_index()\n",
    "\n",
    "fc_copy = fc_copy[['parcel','filedate']].groupby('parcel').count().reset_index()\n",
    "\n",
    "fc_copy['fc_1yr'] = fc_copy.apply(lambda x: \\\n",
    "        len(fc[(fc.parcel == x.parcel) & (fc.filedate > dates[x.parcel]-pd.DateOffset(years=1))]), axis=1)\n",
    "\n",
    "fc_copy = fc_copy.set_index('parcel')\n",
    "\n",
    "tci = pd.merge(tci, fc_copy[['fc_1yr']], \\\n",
    "               how='left', left_on='parcel', right_index=True)\n",
    "tci.loc[tci.fc_1yr.isnull(), 'fc_1yr'] = 0"
   ]
  },
  {
   "cell_type": "code",
   "execution_count": 24,
   "metadata": {
    "collapsed": true
   },
   "outputs": [],
   "source": [
    "fc_copy = fc.reset_index()\n",
    "\n",
    "fc_copy = fc_copy[['parcel','filedate']].groupby('parcel').count().reset_index()\n",
    "\n",
    "fc_copy['fc_2yr'] = fc_copy.apply(lambda x: \\\n",
    "        len(fc[(fc.parcel == x.parcel) & (fc.filedate > dates[x.parcel]-pd.DateOffset(years=2))]), axis=1)\n",
    "\n",
    "fc_copy = fc_copy.set_index('parcel')\n",
    "\n",
    "tci = pd.merge(tci, fc_copy[['fc_2yr']], \\\n",
    "               how='left', left_on='parcel', right_index=True)\n",
    "tci.loc[tci.fc_2yr.isnull(), 'fc_2yr'] = 0"
   ]
  },
  {
   "cell_type": "code",
   "execution_count": 25,
   "metadata": {
    "collapsed": false
   },
   "outputs": [],
   "source": [
    "# fc_count = fc[fc.filedate > dt.datetime(2013,6,1)].groupby('parcel').count()[['status']]\n",
    "# fc_count = fc_count.rename(columns={'status':'fc_2yr'})\n",
    "# tci = pd.merge(tci, fc_count, left_on='ppn',right_index=True, how='left')\n",
    "# tci.loc[tci.fc_2yr.isnull(),'fc_2yr'] = 0"
   ]
  },
  {
   "cell_type": "code",
   "execution_count": 26,
   "metadata": {
    "collapsed": false
   },
   "outputs": [],
   "source": [
    "recent_fc = fc.sort_values('filedate').groupby('parcel').last().reset_index()\n",
    "fc_days = pd.DataFrame(recent_fc[['parcel','filedate']])\n",
    "fc_days['fc_days'] = fc_days.apply(lambda x: (dates[x.parcel]-x.filedate).days,axis=1)\n",
    "fc_days = fc_days.set_index('parcel')\n",
    "tci = pd.merge(tci, fc_days[['fc_days']], left_on='parcel',right_index=True, how='left')\n",
    "tci.loc[tci.fc_days.isnull(),'fc_days'] = max(tci[tci.fc_days.notnull()].fc_days)+1"
   ]
  },
  {
   "cell_type": "code",
   "execution_count": 27,
   "metadata": {
    "collapsed": false
   },
   "outputs": [],
   "source": [
    "# tci.loc[(tci.ppn.isin(set(fc[(fc.filedate < dt.datetime(2007,6,1)) & ((fc.ldispos=='DIS. W/O PREJ'))].parcel))),'fc_dis_w/o_prej'] = 1\n",
    "# tci.loc[~(tci.ppn.isin(set(fc[(fc.filedate < dt.datetime(2007,6,1)) & ((fc.ldispos=='DIS. W/O PREJ'))].parcel))),'fc_dis_w/o_prej'] = 0\n",
    "# pd.crosstab(tci['fc_dis_w/o_prej'], tci.vacant)"
   ]
  },
  {
   "cell_type": "code",
   "execution_count": 28,
   "metadata": {
    "collapsed": false
   },
   "outputs": [],
   "source": [
    "# tci.loc[(tci.ppn.isin(set(fc[(fc.ldispos=='DIS. W/O PREJ')].parcel))),'fc_dis_w/o_prej'] = 1\n",
    "# tci.loc[(~tci.ppn.isin(set(fc[(fc.ldispos=='DIS. W/O PREJ')].parcel))),'fc_dis_w/o_prej'] = 0\n",
    "# pd.crosstab(tci['fc_dis_w/o_prej'], tci.vacant)"
   ]
  },
  {
   "cell_type": "code",
   "execution_count": 29,
   "metadata": {
    "collapsed": false
   },
   "outputs": [],
   "source": [
    "# tci.loc[(tci.ppn.isin(set(fc[(fc.filedate > dt.datetime(2014,6,1)) & (fc.ldispos=='NEWLY FILED')].parcel))),'fc_newly_filed'] = 1\n",
    "# tci.loc[~(tci.ppn.isin(set(fc[(fc.filedate > dt.datetime(2014,6,1)) & (fc.ldispos=='NEWLY FILED')].parcel))),'fc_newly_filed'] = 0\n",
    "# pd.crosstab(tci['fc_newly_filed'], tci.vacant)"
   ]
  },
  {
   "cell_type": "code",
   "execution_count": 30,
   "metadata": {
    "collapsed": false
   },
   "outputs": [],
   "source": [
    "# for dis1,dis2 in [['NEWLY FILED','fc_newly_filed'], ['DEFAULT','fc_default'], ['DISP.OTHER','fc_disp_other'], ['DIS. W/O PREJ','fc_dis_wo_prej']]:\n",
    "#     recent_fc = fc[(fc.ldispos==dis1)].sort_values('filedate').groupby('parcel').last()\n",
    "#     fc_days = pd.DataFrame(recent_fc.apply(lambda x: (dt.datetime(2015,6,1)-x.filedate).days,axis=1),columns=[dis2])\n",
    "#     tci = pd.merge(tci, fc_days, left_on='ppn',right_index=True, how='left')\n",
    "#     tci.loc[tci[dis2].isnull(),dis2] = max(tci[dis2])\n",
    "# print tci.shape"
   ]
  },
  {
   "cell_type": "markdown",
   "metadata": {},
   "source": [
    "## Sheriff's auction"
   ]
  },
  {
   "cell_type": "code",
   "execution_count": 3,
   "metadata": {
    "collapsed": false
   },
   "outputs": [],
   "source": [
    "sa = pd.read_csv(path+'/data/clean_data/sheriff_auction.csv', parse_dates=[2], encoding=\"ISO-8859-1\")\n",
    "sa = sa.loc[sa.apply(lambda x: x.salesdt < dates[x.parcel], axis=1)]"
   ]
  },
  {
   "cell_type": "code",
   "execution_count": 5,
   "metadata": {
    "collapsed": false
   },
   "outputs": [
    {
     "data": {
      "text/plain": [
       "Index(['parcel', 'address', 'salesdt', 'saleno', 'sold_amt', 'appraisal',\n",
       "       'minbid', 'scaseno', 'withdrawn', 'plaintiff', 'sdefend', 'purchaser',\n",
       "       'paddress', 'rparty', 'raddress', 'attorney', 'descript', 'location',\n",
       "       'defend_att', 'with', 'status', 'ssold', 'SHF', 'LATITUDE',\n",
       "       'LONGITUDE'],\n",
       "      dtype='object')"
      ]
     },
     "execution_count": 5,
     "metadata": {},
     "output_type": "execute_result"
    }
   ],
   "source": [
    "sa.columns"
   ]
  },
  {
   "cell_type": "code",
   "execution_count": 32,
   "metadata": {
    "collapsed": false
   },
   "outputs": [],
   "source": [
    "recent_sa = sa.sort_values('salesdt').groupby('parcel').last().reset_index()\n",
    "sa_days = pd.DataFrame(recent_sa[['parcel','salesdt']])\n",
    "sa_days['sa_days'] = sa_days.apply(lambda x: (dates[x.parcel]-x.salesdt).days,axis=1)\n",
    "sa_days = sa_days.set_index('parcel')\n",
    "tci = pd.merge(tci, sa_days[['sa_days']], left_on='parcel',right_index=True, how='left')\n",
    "tci.loc[tci.sa_days.isnull(),'sa_days'] = max(tci[tci.sa_days.notnull()].fc_days)+1"
   ]
  },
  {
   "cell_type": "code",
   "execution_count": 33,
   "metadata": {
    "collapsed": true
   },
   "outputs": [],
   "source": [
    "# sa = sa.set_index('parcel')"
   ]
  },
  {
   "cell_type": "code",
   "execution_count": 34,
   "metadata": {
    "collapsed": false
   },
   "outputs": [],
   "source": [
    "sa['days'] = pd.DataFrame(sa.apply(lambda x: (dt.datetime(2015,6,1)-x.salesdt).days,axis=1),columns=['sa_days'])"
   ]
  },
  {
   "cell_type": "code",
   "execution_count": 35,
   "metadata": {
    "collapsed": false
   },
   "outputs": [],
   "source": [
    "sa.loc[sa.minbid.notnull(),'minbid'] = sa[sa.minbid.notnull()].minbid.apply(lambda x: float(x[1:].replace(',','')))"
   ]
  },
  {
   "cell_type": "code",
   "execution_count": 36,
   "metadata": {
    "collapsed": false
   },
   "outputs": [],
   "source": [
    "# for status,name in [['NO BID SOLD TO LAND BANK','sa_no_bid_lb'],['NO BID FORFEIT TO STATE','sa_no_bid_state'] \\\n",
    "#                     ,['ACTIVE','sa_active'],['SOLD','sa_sold']]:\n",
    "#     tci = pd.merge(tci, sa.loc[sa.status == status,['days']], left_on='ppn', right_index=True, how='left')\n",
    "#     tci = tci.rename(columns={'days':name})\n",
    "# print(tci.shape)"
   ]
  },
  {
   "cell_type": "code",
   "execution_count": 37,
   "metadata": {
    "collapsed": false
   },
   "outputs": [],
   "source": [
    "sa['year'] = sa.salesdt.apply(lambda x: x.year)"
   ]
  },
  {
   "cell_type": "code",
   "execution_count": 38,
   "metadata": {
    "collapsed": true
   },
   "outputs": [],
   "source": [
    "def parse_amount(x):\n",
    "    return float(str(x)[1:].replace(',',''))"
   ]
  },
  {
   "cell_type": "code",
   "execution_count": 39,
   "metadata": {
    "collapsed": false
   },
   "outputs": [],
   "source": [
    "# sa.loc[sa.appraisal.notnull(), 'appraisal'] = sa.loc[sa.appraisal.notnull(), 'appraisal'].apply(parse_amount)"
   ]
  },
  {
   "cell_type": "code",
   "execution_count": 40,
   "metadata": {
    "collapsed": false
   },
   "outputs": [],
   "source": [
    "# sa['ssold'] = sa.ssold.apply(lambda x: 1 if x=='Yes' else 0)"
   ]
  },
  {
   "cell_type": "code",
   "execution_count": 41,
   "metadata": {
    "collapsed": false
   },
   "outputs": [],
   "source": [
    "# tem = sa.loc[sa.salesdt>dt.datetime(2013, 1, 1),['parcel','ssold']].groupby('parcel').sum()\n",
    "# tem.columns = ['auction_13']\n",
    "# tem.loc[tem['auction_13'].isnull(),'auction_13'] = 0\n",
    "# tci = pd.merge(tci, tem, \\\n",
    "#               how='left', left_on='ppn', right_index=True)\n",
    "# tci.loc[tci['auction_13'].isnull(),'auction_13'] = 0\n",
    "# tci.loc[(tci.vacant>-1),['auction_13','vacant']].groupby('auction_13').agg([sum,len])"
   ]
  },
  {
   "cell_type": "code",
   "execution_count": 42,
   "metadata": {
    "collapsed": false
   },
   "outputs": [],
   "source": [
    "# sum(tci.auction_13)"
   ]
  },
  {
   "cell_type": "code",
   "execution_count": 43,
   "metadata": {
    "collapsed": false
   },
   "outputs": [],
   "source": [
    "# tem = sa[['parcel','ssold']].groupby('parcel').sum()\n",
    "# tem.columns = ['auction_all']\n",
    "# tem.loc[tem['auction_all'].isnull(),'auction_all'] = 0\n",
    "# tci = pd.merge(tci, tem, \\\n",
    "#               how='left', left_on='ppn', right_index=True)\n",
    "# tci.loc[tci['auction_all'].isnull(),'auction_all'] = 0\n",
    "\n",
    "# tci.loc[(tci.vacant>-1),['auction_all','vacant']].groupby('auction_all').agg([sum,len])"
   ]
  },
  {
   "cell_type": "code",
   "execution_count": 44,
   "metadata": {
    "collapsed": false
   },
   "outputs": [],
   "source": [
    "# tci[tci.auction_13.isnull()] = 0\n",
    "# tci[tci.auction_13 > 0] = 1\n",
    "# tci[tci.auction_all.isnull()] = 0\n",
    "# tci[tci.auction_all > 0] = 1"
   ]
  },
  {
   "cell_type": "code",
   "execution_count": 45,
   "metadata": {
    "collapsed": true
   },
   "outputs": [],
   "source": [
    "del sa\n",
    "del fc"
   ]
  },
  {
   "cell_type": "markdown",
   "metadata": {},
   "source": [
    "## Transfers"
   ]
  },
  {
   "cell_type": "code",
   "execution_count": 7,
   "metadata": {
    "collapsed": false
   },
   "outputs": [
    {
     "data": {
      "text/plain": [
       "Index(['TRANSFER_TO_ID', 'WHS_ID', 'TRANSFER_HISTORY_ID', 'TRANSFER_ORDER',\n",
       "       'PARCEL_ID', 'PROPERTY_NUMBER', 'GRANTEE1', 'GRANTOR1', 'mdate',\n",
       "       'SALES_AMOUNT', 'DEED_TYPE', 'instrument_number', 'RECORDED_BOOK',\n",
       "       'RECORDED_PAGE', 'INSTRUMENT_TYPE', 'SALE_VALID', 'multiproperty_sale',\n",
       "       'NUMBER_OF_PROPERTIES_IN_SALE', 'conveyance_number', 'CONVEYANCE_FEE',\n",
       "       'USER_ID', 'RECEIPT_NUMBER', 'AUTO_FILE_NUMBER', 'CHANGE_TIMESTAMP',\n",
       "       'TRANSFER_NUMBER', 'TRANSFER_STATUS', 'MONTH_OF_SALE', 'YEAR_OF_SALE',\n",
       "       'CAMA_SALE_FILE', 'CAMA_INV_FILE', 'TRANSFER_TYPE', 'INSTRUMENT_DATE',\n",
       "       'RECORDED_DATE', 'TRANSFER_FEE', 'PERMISSIVE_FEE', 'AMOUNT_PAID',\n",
       "       'FEE_PAID_BY', 'FEE_CHECK_NUM', 'SALES_SOURCE', 'deed_number',\n",
       "       'EXEMPTCODE', 'ASSUMED_LOAN_AMOUNT', 'PERSONAL_PROPERTY_AMOUNT',\n",
       "       'BUILDINGS_ON_LAND', 'GIFT', 'LAND_CONTRACT', 'LEASE_HOLD',\n",
       "       'LEASED_FEE', 'LIFE_ESTATE', 'MINERAL_RIGHTS_RESERVED', 'MOTHER',\n",
       "       'PARTINTER_EST_TRANSFERRED', 'GRANTOR_IS_MORTGAGEE',\n",
       "       'GRANTOR_IS_RELATIVE', 'TRADE', 'TRANSFER_TYPE_DESCR',\n",
       "       'SALES_SOURCE_DESCR', 'EXEMPTCODE_DESCR', 'TRANSFER_FROM_PARCEL',\n",
       "       'UPDATE_DATE'],\n",
       "      dtype='object')"
      ]
     },
     "execution_count": 7,
     "metadata": {},
     "output_type": "execute_result"
    }
   ],
   "source": [
    "t.columns"
   ]
  },
  {
   "cell_type": "code",
   "execution_count": 6,
   "metadata": {
    "collapsed": true
   },
   "outputs": [],
   "source": [
    "t = pd.read_csv(path+'/data/clean_data/transfers.csv', parse_dates=['mdate'], dtype=str)\n",
    "t = t.sort_values('mdate', ascending=False)\n",
    "\n",
    "t = t.loc[t.apply(lambda x: x.mdate < dates[x.PROPERTY_NUMBER], axis=1)]\n",
    "# t.info()\n",
    "\n",
    "# days since transfer\n",
    "\n",
    "days_since_transfer = t.groupby('PROPERTY_NUMBER').first()\n",
    "days_since_transfer = pd.merge(days_since_transfer[['mdate']], tci[['parcel','Date']], how='left', left_index=True, right_on='parcel')\n",
    "\n",
    "tci = pd.merge(tci, days_since_transfer[['mdate']], left_on='parcel', right_index=True,how='left')\n",
    "tci.loc[tci.mdate.isnull(),'mdate'] = dt.datetime(2006,1,1)\n",
    "tci['mdate'] = tci.apply(lambda x: (x.Date - x.mdate).days, axis=1)\n",
    "# days_since_transfer = days_since_transfer.set_index('parcel')\n",
    "tci = tci.rename(columns={'mdate':'t_days'})\n",
    "# tci.loc[tci.t_days.isnull(),'t_days'] = max(tci.t_days)\n",
    "\n",
    "# days since sheriff's deed type\n",
    "\n",
    "recent_t = t[(t.mdate > dt.datetime(2006,1,1)) & (t.DEED_TYPE=='Sheriffs Deed')].groupby('PROPERTY_NUMBER').first()\n",
    "recent_t = pd.merge(recent_t, tci[['parcel','Date']], how='left', left_index=True, right_on='parcel')\n",
    "recent_t['t_shf_deed'] = recent_t.apply(lambda x: (x.Date-x.mdate).days, axis=1)\n",
    "recent_t = recent_t.set_index('parcel')\n",
    "\n",
    "tci = pd.merge(tci, recent_t[['t_shf_deed']], left_on='parcel',right_index=True, how='left')\n",
    "tci.loc[tci.t_shf_deed.isnull(),'t_shf_deed'] = max(tci[tci.t_shf_deed.notnull()].t_shf_deed)+1"
   ]
  },
  {
   "cell_type": "code",
   "execution_count": 47,
   "metadata": {
    "collapsed": true
   },
   "outputs": [],
   "source": [
    "# number of transfers per year since 2006\n",
    "\n",
    "tci = pd.merge(tci, t.loc[t.mdate > dt.datetime(2006,1,1), ['PROPERTY_NUMBER','mdate']] \\\n",
    "               .groupby('PROPERTY_NUMBER').count(), how='left', left_on='parcel', right_index=True)\n",
    "tci['mdate'] = tci['mdate'].fillna(0)\n",
    "tci = tci.rename(columns = {'mdate':'t_num'})\n",
    "tci['t_num'] = tci.apply(lambda x: x.t_num/((x.Date - dt.datetime(2006,1,1)).days/365.0), axis = 1)\n",
    "\n",
    "# tci = pd.merge(tci, t[t.mdate > dt.datetime(2013, 6, 1)].groupby('PROPERTY_NUMBER').count()[['mdate']], how='left', left_on='ppn',right_index=True)\n",
    "# tci = tci.rename(columns={'mdate':'num_of_transfers'})\n",
    "\n",
    "# deeds = list(t.groupby('DEED_TYPE').count().sort_values('mdate',ascending=False).index[0:5])\n",
    "# tci = pd.merge(tci, t[['DEED_TYPE', 'PROPERTY_NUMBER']].groupby('PROPERTY_NUMBER').first(), \\\n",
    "#          how='left', left_on='ppn',right_index=True)\n",
    "# tci.DEED_TYPE = tci.DEED_TYPE.apply(lambda x: x if x in deeds else 'Other')"
   ]
  },
  {
   "cell_type": "markdown",
   "metadata": {},
   "source": [
    "## Armslength sales"
   ]
  },
  {
   "cell_type": "code",
   "execution_count": 2,
   "metadata": {
    "collapsed": true
   },
   "outputs": [],
   "source": [
    "al = pd.read_csv(path+'/data/clean_data/armslength.csv', dtype=str)\n",
    "al = al.drop_duplicates()"
   ]
  },
  {
   "cell_type": "code",
   "execution_count": 3,
   "metadata": {
    "collapsed": false
   },
   "outputs": [
    {
     "data": {
      "text/plain": [
       "Index(['AMOUNT_PAID', 'ASSUMED_LOAN_AMOUNT', 'AUTO_FILE_NUMBER',\n",
       "       'BUILDINGS_ON_LAND', 'CAMA_INV_FILE', 'CAMA_SALE_FILE',\n",
       "       'CHANGE_TIMESTAMP', 'CONVEYANCE_FEE', 'DEED_TYPE', 'EXEMPTCODE',\n",
       "       'EXEMPTCODE_DESCR', 'FEE_CHECK_NUM', 'FEE_PAID_BY', 'GIFT', 'GRANTEE1',\n",
       "       'GRANTOR1', 'GRANTOR_IS_MORTGAGEE', 'GRANTOR_IS_RELATIVE',\n",
       "       'INSTRUMENT_DATE', 'INSTRUMENT_TYPE', 'LAND_CONTRACT', 'LEASED_FEE',\n",
       "       'LEASE_HOLD', 'LIFE_ESTATE', 'MINERAL_RIGHTS_RESERVED', 'MONTH_OF_SALE',\n",
       "       'MOTHER', 'NUMBER_OF_PROPERTIES_IN_SALE', 'PARTINTER_EST_TRANSFERRED',\n",
       "       'PERMISSIVE_FEE', 'PERSONAL_PROPERTY_AMOUNT', 'PROPERTY_NUMBER',\n",
       "       'RECEIPT_NUMBER', 'RECORDED_BOOK', 'RECORDED_DATE', 'RECORDED_PAGE',\n",
       "       'SALES_AMOUNT', 'SALES_SOURCE', 'SALES_SOURCE_DESCR', 'SALE_VALID',\n",
       "       'TRADE', 'mdate', 'TRANSFER_FEE', 'TRANSFER_FROM_PARCEL',\n",
       "       'TRANSFER_HISTORY_ID', 'TRANSFER_NUMBER', 'TRANSFER_ORDER',\n",
       "       'TRANSFER_STATUS', 'TRANSFER_TO_ID', 'TRANSFER_TYPE',\n",
       "       'TRANSFER_TYPE_DESCR', 'UPDATE_DATE', 'USER_ID', 'WHS_ID',\n",
       "       'YEAR_OF_SALE', 'DOWNLOAD_DATE', 'instrument_number', 'deed_number',\n",
       "       'multiproperty_sale', 'ppn', 'conveyance_number', 'td', 'ct', 'id',\n",
       "       'rd', 'par', 'yr', 'seqno', 'buyer', 'nbuy', 'ngrantee1', 'nsell',\n",
       "       'ngrantor1', 'bk56', 'trustee', 'shf_sales', 'final_cat', 'stdname',\n",
       "       'cons_name', 'armslength', 'std_ngrantee1', 'std_ngrantor1', 'count',\n",
       "       'self_sales', 'bulk_sales', 'parcel_id'],\n",
       "      dtype='object')"
      ]
     },
     "execution_count": 3,
     "metadata": {},
     "output_type": "execute_result"
    }
   ],
   "source": [
    "al.columns"
   ]
  },
  {
   "cell_type": "code",
   "execution_count": 48,
   "metadata": {
    "collapsed": true
   },
   "outputs": [],
   "source": [
    "# al = pd.read_csv(path+'/data/clean_data/armslength.csv', dtype=str)\n",
    "# al = al.drop_duplicates()\n",
    "\n",
    "months = dict(zip(['JAN','FEB','MAR','APR','MAY','JUN','JUL','AUG','SEP','OCT','NOV','DEC'],range(1,13)))\n",
    "\n",
    "def parse_date(x):\n",
    "    day = int(x[0:2])\n",
    "    month = months[x[2:5]]\n",
    "    year = int(x[5:])\n",
    "    return dt.datetime(year,month,day)\n",
    "\n",
    "al['date'] = al.mdate.apply(parse_date)\n",
    "al = al.sort_values('date')\n",
    "# al = al[al.date < dt.date(2015,6,1)]\n",
    "\n",
    "al = al.loc[al.apply(lambda x: x.date < dates[x.PROPERTY_NUMBER], axis=1)]\n",
    "\n",
    "# number of sales per year since 2006\n",
    "\n",
    "tci = pd.merge(tci, al.loc[al.date > dt.datetime(2006,1,1),['date','PROPERTY_NUMBER']]\\\n",
    "               .groupby('PROPERTY_NUMBER')\\\n",
    "               .agg(lambda x: len(x)\\\n",
    "                    /((dates[x.PROPERTY_NUMBER.iloc[0]] - dt.datetime(2006,1,1)).days/365.0))\\\n",
    "                    ,how='left', left_on='parcel', right_index=True)\n",
    "tci = tci.rename(columns = {'date':'al_num'})\n",
    "tci.loc[tci.al_num.isnull(),'al_num'] = 0\n",
    "\n",
    "# days since most recent sale since 2006\n",
    "\n",
    "tci = pd.merge(tci, al.loc[al.date > dt.datetime(2006,1,1),['date','PROPERTY_NUMBER']]\\\n",
    "               .groupby('PROPERTY_NUMBER')\\\n",
    "               .last()\\\n",
    "                    ,how='left', left_on='parcel', right_index=True)\n",
    "tci = tci.rename(columns = {'date':'al_date'})\n",
    "\n",
    "tci.loc[tci.al_date.isnull(),'al_date'] = dt.datetime(2006,1,1)\n",
    "tci['al_days'] = tci.apply(lambda x: (x.Date-x.al_date).days, axis=1)\n"
   ]
  },
  {
   "cell_type": "code",
   "execution_count": 49,
   "metadata": {
    "collapsed": false
   },
   "outputs": [
    {
     "data": {
      "text/plain": [
       "(113132, 14)"
      ]
     },
     "execution_count": 49,
     "metadata": {},
     "output_type": "execute_result"
    }
   ],
   "source": [
    "tci.shape"
   ]
  },
  {
   "cell_type": "code",
   "execution_count": 55,
   "metadata": {
    "collapsed": false
   },
   "outputs": [
    {
     "name": "stdout",
     "output_type": "stream",
     "text": [
      "['parcel', 'active_fc', 'fc_1yr', 'fc_2yr', 'fc_days', 'sa_days', 't_days', 't_shf_deed', 't_num', 'al_num', 'al_date', 'al_days']\n"
     ]
    }
   ],
   "source": [
    "cols = list(tci.columns)\n",
    "cols.remove('vacant')\n",
    "cols.remove('Date')\n",
    "print(cols)"
   ]
  },
  {
   "cell_type": "code",
   "execution_count": 50,
   "metadata": {
    "collapsed": true
   },
   "outputs": [],
   "source": [
    "tci = tci.fillna(0)"
   ]
  },
  {
   "cell_type": "code",
   "execution_count": 58,
   "metadata": {
    "collapsed": true
   },
   "outputs": [],
   "source": [
    "tci[cols].to_csv(path+'/data/model_data/tci_2_3.csv',index=False)"
   ]
  },
  {
   "cell_type": "code",
   "execution_count": 57,
   "metadata": {
    "collapsed": false
   },
   "outputs": [
    {
     "name": "stdout",
     "output_type": "stream",
     "text": [
      "<class 'pandas.core.frame.DataFrame'>\n",
      "Int64Index: 113132 entries, 0 to 113131\n",
      "Data columns (total 12 columns):\n",
      "parcel        113132 non-null object\n",
      "active_fc     113132 non-null float64\n",
      "fc_1yr        113132 non-null float64\n",
      "fc_2yr        113132 non-null float64\n",
      "fc_days       113132 non-null float64\n",
      "sa_days       113132 non-null float64\n",
      "t_days        113132 non-null int64\n",
      "t_shf_deed    113132 non-null float64\n",
      "t_num         113132 non-null float64\n",
      "al_num        113132 non-null float64\n",
      "al_date       113132 non-null datetime64[ns]\n",
      "al_days       113132 non-null int64\n",
      "dtypes: datetime64[ns](1), float64(8), int64(2), object(1)\n",
      "memory usage: 11.2+ MB\n"
     ]
    }
   ],
   "source": [
    "tci[cols].info()"
   ]
  },
  {
   "cell_type": "code",
   "execution_count": null,
   "metadata": {
    "collapsed": true
   },
   "outputs": [],
   "source": []
  }
 ],
 "metadata": {
  "kernelspec": {
   "display_name": "Python 3",
   "language": "python",
   "name": "python3"
  },
  "language_info": {
   "codemirror_mode": {
    "name": "ipython",
    "version": 3
   },
   "file_extension": ".py",
   "mimetype": "text/x-python",
   "name": "python",
   "nbconvert_exporter": "python",
   "pygments_lexer": "ipython3",
   "version": "3.4.4"
  }
 },
 "nbformat": 4,
 "nbformat_minor": 0
}
