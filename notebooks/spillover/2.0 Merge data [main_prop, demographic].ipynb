{
 "cells": [
  {
   "cell_type": "markdown",
   "metadata": {},
   "source": [
    "# 2.0 Combine Data from ```prop.csv```\n",
    "\n",
    "Data has now been filtered for the parcel numbers in the existing dataset. The end goal is to have a dataset with one row for each parcel in which to build the model. **Imputation will occur in a separate notebook!**\n",
    "\n",
    "However, we can't forget to explore the existing data for trends or insight along the way, as well as engineer features as we see fit."
   ]
  },
  {
   "cell_type": "code",
   "execution_count": 1,
   "metadata": {
    "collapsed": false
   },
   "outputs": [
    {
     "name": "stdout",
     "output_type": "stream",
     "text": [
      "/Volumes/Dropbox/largetransfer/luc/carter\n"
     ]
    },
    {
     "name": "stderr",
     "output_type": "stream",
     "text": [
      "//anaconda/envs/data_sci/lib/python3.4/site-packages/matplotlib/__init__.py:872: UserWarning: axes.color_cycle is deprecated and replaced with axes.prop_cycle; please use the latter.\n",
      "  warnings.warn(self.msg_depr % (key, alt_key))\n"
     ]
    },
    {
     "data": {
      "text/plain": [
       "(113132, 6)"
      ]
     },
     "execution_count": 1,
     "metadata": {},
     "output_type": "execute_result"
    }
   ],
   "source": [
    "import matplotlib.pyplot as plt\n",
    "import seaborn as sns\n",
    "import pandas as pd\n",
    "import numpy as np\n",
    "import os\n",
    "\n",
    "%matplotlib inline\n",
    "sns.set_context('notebook')\n",
    "\n",
    "path = '/'.join(os.getcwd().split('/')[:-2])\n",
    "print(path)\n",
    "\n",
    "tci = pd.read_csv(path+'/data/model_data/tci_1_0.csv', parse_dates=['Date'], dtype={'PIN': str})\n",
    "cols = ['parcel','vacant','Date','Survey Category','Survey Grade','SPA_NAME']\n",
    "tci = tci[cols]\n",
    "tci.shape "
   ]
  },
  {
   "cell_type": "markdown",
   "metadata": {},
   "source": [
    "## Residential characteristics"
   ]
  },
  {
   "cell_type": "code",
   "execution_count": 2,
   "metadata": {
    "collapsed": true
   },
   "outputs": [],
   "source": [
    "rng = pd.date_range('1/1/2009', periods=7, freq='3MS')"
   ]
  },
  {
   "cell_type": "code",
   "execution_count": 12,
   "metadata": {
    "collapsed": false
   },
   "outputs": [
    {
     "data": {
      "text/plain": [
       "'09'"
      ]
     },
     "execution_count": 12,
     "metadata": {},
     "output_type": "execute_result"
    }
   ],
   "source": [
    "str(rng[0].year)[-2:]"
   ]
  },
  {
   "cell_type": "code",
   "execution_count": 19,
   "metadata": {
    "collapsed": false
   },
   "outputs": [],
   "source": [
    "res = pd.read_csv(path+'/data/clean_data/res.csv')\n",
    "# res = res.set_index('parcel')"
   ]
  },
  {
   "cell_type": "code",
   "execution_count": 20,
   "metadata": {
    "collapsed": false
   },
   "outputs": [
    {
     "data": {
      "text/html": [
       "<div>\n",
       "<table border=\"1\" class=\"dataframe\">\n",
       "  <thead>\n",
       "    <tr style=\"text-align: right;\">\n",
       "      <th></th>\n",
       "      <th>parcel</th>\n",
       "      <th>cqual</th>\n",
       "      <th>occup</th>\n",
       "      <th>rnumstor</th>\n",
       "      <th>year</th>\n",
       "    </tr>\n",
       "  </thead>\n",
       "  <tbody>\n",
       "    <tr>\n",
       "      <th>0</th>\n",
       "      <td>001-01-001</td>\n",
       "      <td>Good</td>\n",
       "      <td>1 family</td>\n",
       "      <td>1.0</td>\n",
       "      <td>2014</td>\n",
       "    </tr>\n",
       "    <tr>\n",
       "      <th>1</th>\n",
       "      <td>001-01-003</td>\n",
       "      <td>Excellent</td>\n",
       "      <td>1 family</td>\n",
       "      <td>1.5</td>\n",
       "      <td>2014</td>\n",
       "    </tr>\n",
       "    <tr>\n",
       "      <th>2</th>\n",
       "      <td>001-01-004</td>\n",
       "      <td>Excellent</td>\n",
       "      <td>1 family</td>\n",
       "      <td>1.5</td>\n",
       "      <td>2014</td>\n",
       "    </tr>\n",
       "    <tr>\n",
       "      <th>3</th>\n",
       "      <td>001-01-005</td>\n",
       "      <td>Excellent</td>\n",
       "      <td>1 family</td>\n",
       "      <td>1.5</td>\n",
       "      <td>2014</td>\n",
       "    </tr>\n",
       "    <tr>\n",
       "      <th>4</th>\n",
       "      <td>001-01-006</td>\n",
       "      <td>Excellent+</td>\n",
       "      <td>1 family</td>\n",
       "      <td>2.0</td>\n",
       "      <td>2014</td>\n",
       "    </tr>\n",
       "    <tr>\n",
       "      <th>5</th>\n",
       "      <td>001-01-007</td>\n",
       "      <td>Excellent+</td>\n",
       "      <td>1 family</td>\n",
       "      <td>2.0</td>\n",
       "      <td>2014</td>\n",
       "    </tr>\n",
       "    <tr>\n",
       "      <th>6</th>\n",
       "      <td>001-01-008</td>\n",
       "      <td>Excellent+</td>\n",
       "      <td>1 family</td>\n",
       "      <td>1.5</td>\n",
       "      <td>2014</td>\n",
       "    </tr>\n",
       "    <tr>\n",
       "      <th>7</th>\n",
       "      <td>001-01-009</td>\n",
       "      <td>Excellent+</td>\n",
       "      <td>1 family</td>\n",
       "      <td>2.0</td>\n",
       "      <td>2014</td>\n",
       "    </tr>\n",
       "    <tr>\n",
       "      <th>8</th>\n",
       "      <td>001-01-010</td>\n",
       "      <td>Excellent</td>\n",
       "      <td>1 family</td>\n",
       "      <td>3.0</td>\n",
       "      <td>2014</td>\n",
       "    </tr>\n",
       "    <tr>\n",
       "      <th>9</th>\n",
       "      <td>001-01-011</td>\n",
       "      <td>Good+</td>\n",
       "      <td>1 family</td>\n",
       "      <td>1.5</td>\n",
       "      <td>2014</td>\n",
       "    </tr>\n",
       "    <tr>\n",
       "      <th>10</th>\n",
       "      <td>001-01-012</td>\n",
       "      <td>Excellent+</td>\n",
       "      <td>1 family</td>\n",
       "      <td>2.0</td>\n",
       "      <td>2014</td>\n",
       "    </tr>\n",
       "    <tr>\n",
       "      <th>11</th>\n",
       "      <td>001-01-013</td>\n",
       "      <td>Very good</td>\n",
       "      <td>1 family</td>\n",
       "      <td>1.5</td>\n",
       "      <td>2014</td>\n",
       "    </tr>\n",
       "    <tr>\n",
       "      <th>12</th>\n",
       "      <td>001-01-014</td>\n",
       "      <td>Very good</td>\n",
       "      <td>1 family</td>\n",
       "      <td>1.0</td>\n",
       "      <td>2014</td>\n",
       "    </tr>\n",
       "    <tr>\n",
       "      <th>13</th>\n",
       "      <td>001-01-015</td>\n",
       "      <td>Good+</td>\n",
       "      <td>2 family</td>\n",
       "      <td>2.0</td>\n",
       "      <td>2014</td>\n",
       "    </tr>\n",
       "    <tr>\n",
       "      <th>14</th>\n",
       "      <td>001-01-016</td>\n",
       "      <td>Very good</td>\n",
       "      <td>1 family</td>\n",
       "      <td>1.0</td>\n",
       "      <td>2014</td>\n",
       "    </tr>\n",
       "    <tr>\n",
       "      <th>15</th>\n",
       "      <td>001-01-017</td>\n",
       "      <td>Excellent</td>\n",
       "      <td>1 family</td>\n",
       "      <td>1.0</td>\n",
       "      <td>2014</td>\n",
       "    </tr>\n",
       "    <tr>\n",
       "      <th>16</th>\n",
       "      <td>001-01-018</td>\n",
       "      <td>Good+</td>\n",
       "      <td>1 family</td>\n",
       "      <td>1.0</td>\n",
       "      <td>2014</td>\n",
       "    </tr>\n",
       "    <tr>\n",
       "      <th>17</th>\n",
       "      <td>001-01-020</td>\n",
       "      <td>Good+</td>\n",
       "      <td>1 family</td>\n",
       "      <td>1.5</td>\n",
       "      <td>2014</td>\n",
       "    </tr>\n",
       "    <tr>\n",
       "      <th>18</th>\n",
       "      <td>001-01-021</td>\n",
       "      <td>Very good</td>\n",
       "      <td>1 family</td>\n",
       "      <td>1.0</td>\n",
       "      <td>2014</td>\n",
       "    </tr>\n",
       "    <tr>\n",
       "      <th>19</th>\n",
       "      <td>001-01-023</td>\n",
       "      <td>Very good</td>\n",
       "      <td>1 family</td>\n",
       "      <td>2.0</td>\n",
       "      <td>2014</td>\n",
       "    </tr>\n",
       "    <tr>\n",
       "      <th>20</th>\n",
       "      <td>001-01-024</td>\n",
       "      <td>Excellent+</td>\n",
       "      <td>1 family</td>\n",
       "      <td>2.0</td>\n",
       "      <td>2014</td>\n",
       "    </tr>\n",
       "    <tr>\n",
       "      <th>21</th>\n",
       "      <td>001-01-025</td>\n",
       "      <td>Good</td>\n",
       "      <td>1 family</td>\n",
       "      <td>2.0</td>\n",
       "      <td>2014</td>\n",
       "    </tr>\n",
       "    <tr>\n",
       "      <th>22</th>\n",
       "      <td>001-01-026</td>\n",
       "      <td>Good</td>\n",
       "      <td>1 family</td>\n",
       "      <td>2.0</td>\n",
       "      <td>2014</td>\n",
       "    </tr>\n",
       "    <tr>\n",
       "      <th>23</th>\n",
       "      <td>001-01-027</td>\n",
       "      <td>Good</td>\n",
       "      <td>1 family</td>\n",
       "      <td>1.0</td>\n",
       "      <td>2014</td>\n",
       "    </tr>\n",
       "    <tr>\n",
       "      <th>24</th>\n",
       "      <td>001-01-028</td>\n",
       "      <td>Good</td>\n",
       "      <td>1 family</td>\n",
       "      <td>1.0</td>\n",
       "      <td>2014</td>\n",
       "    </tr>\n",
       "    <tr>\n",
       "      <th>25</th>\n",
       "      <td>001-01-029</td>\n",
       "      <td>Good</td>\n",
       "      <td>1 family</td>\n",
       "      <td>1.0</td>\n",
       "      <td>2014</td>\n",
       "    </tr>\n",
       "    <tr>\n",
       "      <th>26</th>\n",
       "      <td>001-01-030</td>\n",
       "      <td>Good</td>\n",
       "      <td>1 family</td>\n",
       "      <td>1.0</td>\n",
       "      <td>2014</td>\n",
       "    </tr>\n",
       "    <tr>\n",
       "      <th>27</th>\n",
       "      <td>001-01-031</td>\n",
       "      <td>Very good</td>\n",
       "      <td>1 family</td>\n",
       "      <td>1.0</td>\n",
       "      <td>2014</td>\n",
       "    </tr>\n",
       "    <tr>\n",
       "      <th>28</th>\n",
       "      <td>001-01-032</td>\n",
       "      <td>Excellent</td>\n",
       "      <td>1 family</td>\n",
       "      <td>1.0</td>\n",
       "      <td>2014</td>\n",
       "    </tr>\n",
       "    <tr>\n",
       "      <th>29</th>\n",
       "      <td>001-01-033</td>\n",
       "      <td>Very good</td>\n",
       "      <td>1 family</td>\n",
       "      <td>1.0</td>\n",
       "      <td>2014</td>\n",
       "    </tr>\n",
       "    <tr>\n",
       "      <th>...</th>\n",
       "      <td>...</td>\n",
       "      <td>...</td>\n",
       "      <td>...</td>\n",
       "      <td>...</td>\n",
       "      <td>...</td>\n",
       "    </tr>\n",
       "    <tr>\n",
       "      <th>891502</th>\n",
       "      <td>682-04-106</td>\n",
       "      <td>Good</td>\n",
       "      <td>1 family</td>\n",
       "      <td>2.0</td>\n",
       "      <td>2007</td>\n",
       "    </tr>\n",
       "    <tr>\n",
       "      <th>891503</th>\n",
       "      <td>731-11-001</td>\n",
       "      <td>Good+</td>\n",
       "      <td>1 family</td>\n",
       "      <td>2.0</td>\n",
       "      <td>2007</td>\n",
       "    </tr>\n",
       "    <tr>\n",
       "      <th>891504</th>\n",
       "      <td>731-11-046</td>\n",
       "      <td>Good+</td>\n",
       "      <td>1 family</td>\n",
       "      <td>2.0</td>\n",
       "      <td>2007</td>\n",
       "    </tr>\n",
       "    <tr>\n",
       "      <th>891505</th>\n",
       "      <td>731-12-001</td>\n",
       "      <td>Good+</td>\n",
       "      <td>1 family</td>\n",
       "      <td>2.0</td>\n",
       "      <td>2007</td>\n",
       "    </tr>\n",
       "    <tr>\n",
       "      <th>891506</th>\n",
       "      <td>731-12-031</td>\n",
       "      <td>Average+</td>\n",
       "      <td>1 family</td>\n",
       "      <td>2.0</td>\n",
       "      <td>2007</td>\n",
       "    </tr>\n",
       "    <tr>\n",
       "      <th>891507</th>\n",
       "      <td>735-14-016</td>\n",
       "      <td>Good+</td>\n",
       "      <td>2 family</td>\n",
       "      <td>2.5</td>\n",
       "      <td>2007</td>\n",
       "    </tr>\n",
       "    <tr>\n",
       "      <th>891508</th>\n",
       "      <td>735-15-013</td>\n",
       "      <td>Average+</td>\n",
       "      <td>2 family</td>\n",
       "      <td>2.0</td>\n",
       "      <td>2007</td>\n",
       "    </tr>\n",
       "    <tr>\n",
       "      <th>891509</th>\n",
       "      <td>735-15-074</td>\n",
       "      <td>Good+</td>\n",
       "      <td>1 family</td>\n",
       "      <td>2.0</td>\n",
       "      <td>2007</td>\n",
       "    </tr>\n",
       "    <tr>\n",
       "      <th>891510</th>\n",
       "      <td>735-15-075</td>\n",
       "      <td>Good+</td>\n",
       "      <td>1 family</td>\n",
       "      <td>2.0</td>\n",
       "      <td>2007</td>\n",
       "    </tr>\n",
       "    <tr>\n",
       "      <th>891511</th>\n",
       "      <td>735-20-001</td>\n",
       "      <td>Average+</td>\n",
       "      <td>1 family</td>\n",
       "      <td>1.5</td>\n",
       "      <td>2007</td>\n",
       "    </tr>\n",
       "    <tr>\n",
       "      <th>891512</th>\n",
       "      <td>735-21-014</td>\n",
       "      <td>Average</td>\n",
       "      <td>2 family</td>\n",
       "      <td>2.0</td>\n",
       "      <td>2007</td>\n",
       "    </tr>\n",
       "    <tr>\n",
       "      <th>891513</th>\n",
       "      <td>735-21-015</td>\n",
       "      <td>Average</td>\n",
       "      <td>1 family</td>\n",
       "      <td>1.5</td>\n",
       "      <td>2007</td>\n",
       "    </tr>\n",
       "    <tr>\n",
       "      <th>891514</th>\n",
       "      <td>735-21-016</td>\n",
       "      <td>Average</td>\n",
       "      <td>1 family</td>\n",
       "      <td>1.5</td>\n",
       "      <td>2007</td>\n",
       "    </tr>\n",
       "    <tr>\n",
       "      <th>891515</th>\n",
       "      <td>735-21-017</td>\n",
       "      <td>Average</td>\n",
       "      <td>1 family</td>\n",
       "      <td>2.0</td>\n",
       "      <td>2007</td>\n",
       "    </tr>\n",
       "    <tr>\n",
       "      <th>891516</th>\n",
       "      <td>735-21-018</td>\n",
       "      <td>Average</td>\n",
       "      <td>1 family</td>\n",
       "      <td>1.5</td>\n",
       "      <td>2007</td>\n",
       "    </tr>\n",
       "    <tr>\n",
       "      <th>891517</th>\n",
       "      <td>735-21-019</td>\n",
       "      <td>Average</td>\n",
       "      <td>1 family</td>\n",
       "      <td>2.0</td>\n",
       "      <td>2007</td>\n",
       "    </tr>\n",
       "    <tr>\n",
       "      <th>891518</th>\n",
       "      <td>735-21-020</td>\n",
       "      <td>Average</td>\n",
       "      <td>1 family</td>\n",
       "      <td>1.5</td>\n",
       "      <td>2007</td>\n",
       "    </tr>\n",
       "    <tr>\n",
       "      <th>891519</th>\n",
       "      <td>735-21-021</td>\n",
       "      <td>Average</td>\n",
       "      <td>1 family</td>\n",
       "      <td>1.5</td>\n",
       "      <td>2007</td>\n",
       "    </tr>\n",
       "    <tr>\n",
       "      <th>891520</th>\n",
       "      <td>735-21-022</td>\n",
       "      <td>Average</td>\n",
       "      <td>1 family</td>\n",
       "      <td>1.5</td>\n",
       "      <td>2007</td>\n",
       "    </tr>\n",
       "    <tr>\n",
       "      <th>891521</th>\n",
       "      <td>735-22-001</td>\n",
       "      <td>Average+</td>\n",
       "      <td>1 family</td>\n",
       "      <td>2.0</td>\n",
       "      <td>2007</td>\n",
       "    </tr>\n",
       "    <tr>\n",
       "      <th>891522</th>\n",
       "      <td>735-22-002</td>\n",
       "      <td>Average</td>\n",
       "      <td>1 family</td>\n",
       "      <td>2.0</td>\n",
       "      <td>2007</td>\n",
       "    </tr>\n",
       "    <tr>\n",
       "      <th>891523</th>\n",
       "      <td>735-22-003</td>\n",
       "      <td>Average+</td>\n",
       "      <td>1 family</td>\n",
       "      <td>1.5</td>\n",
       "      <td>2007</td>\n",
       "    </tr>\n",
       "    <tr>\n",
       "      <th>891524</th>\n",
       "      <td>735-22-004</td>\n",
       "      <td>Average+</td>\n",
       "      <td>1 family</td>\n",
       "      <td>1.5</td>\n",
       "      <td>2007</td>\n",
       "    </tr>\n",
       "    <tr>\n",
       "      <th>891525</th>\n",
       "      <td>735-22-005</td>\n",
       "      <td>Average+</td>\n",
       "      <td>1 family</td>\n",
       "      <td>1.5</td>\n",
       "      <td>2007</td>\n",
       "    </tr>\n",
       "    <tr>\n",
       "      <th>891526</th>\n",
       "      <td>735-22-006</td>\n",
       "      <td>Average</td>\n",
       "      <td>1 family</td>\n",
       "      <td>2.0</td>\n",
       "      <td>2007</td>\n",
       "    </tr>\n",
       "    <tr>\n",
       "      <th>891527</th>\n",
       "      <td>735-22-007</td>\n",
       "      <td>Average+</td>\n",
       "      <td>1 family</td>\n",
       "      <td>1.5</td>\n",
       "      <td>2007</td>\n",
       "    </tr>\n",
       "    <tr>\n",
       "      <th>891528</th>\n",
       "      <td>735-22-008</td>\n",
       "      <td>Average+</td>\n",
       "      <td>1 family</td>\n",
       "      <td>2.0</td>\n",
       "      <td>2007</td>\n",
       "    </tr>\n",
       "    <tr>\n",
       "      <th>891529</th>\n",
       "      <td>735-22-009</td>\n",
       "      <td>Average+</td>\n",
       "      <td>1 family</td>\n",
       "      <td>2.0</td>\n",
       "      <td>2007</td>\n",
       "    </tr>\n",
       "    <tr>\n",
       "      <th>891530</th>\n",
       "      <td>735-22-010</td>\n",
       "      <td>Average+</td>\n",
       "      <td>1 family</td>\n",
       "      <td>2.0</td>\n",
       "      <td>2007</td>\n",
       "    </tr>\n",
       "    <tr>\n",
       "      <th>891531</th>\n",
       "      <td>735-22-011</td>\n",
       "      <td>Average+</td>\n",
       "      <td>1 family</td>\n",
       "      <td>2.0</td>\n",
       "      <td>2007</td>\n",
       "    </tr>\n",
       "  </tbody>\n",
       "</table>\n",
       "<p>891532 rows × 5 columns</p>\n",
       "</div>"
      ],
      "text/plain": [
       "            parcel       cqual     occup  rnumstor  year\n",
       "0       001-01-001        Good  1 family       1.0  2014\n",
       "1       001-01-003   Excellent  1 family       1.5  2014\n",
       "2       001-01-004   Excellent  1 family       1.5  2014\n",
       "3       001-01-005   Excellent  1 family       1.5  2014\n",
       "4       001-01-006  Excellent+  1 family       2.0  2014\n",
       "5       001-01-007  Excellent+  1 family       2.0  2014\n",
       "6       001-01-008  Excellent+  1 family       1.5  2014\n",
       "7       001-01-009  Excellent+  1 family       2.0  2014\n",
       "8       001-01-010   Excellent  1 family       3.0  2014\n",
       "9       001-01-011       Good+  1 family       1.5  2014\n",
       "10      001-01-012  Excellent+  1 family       2.0  2014\n",
       "11      001-01-013   Very good  1 family       1.5  2014\n",
       "12      001-01-014   Very good  1 family       1.0  2014\n",
       "13      001-01-015       Good+  2 family       2.0  2014\n",
       "14      001-01-016   Very good  1 family       1.0  2014\n",
       "15      001-01-017   Excellent  1 family       1.0  2014\n",
       "16      001-01-018       Good+  1 family       1.0  2014\n",
       "17      001-01-020       Good+  1 family       1.5  2014\n",
       "18      001-01-021   Very good  1 family       1.0  2014\n",
       "19      001-01-023   Very good  1 family       2.0  2014\n",
       "20      001-01-024  Excellent+  1 family       2.0  2014\n",
       "21      001-01-025        Good  1 family       2.0  2014\n",
       "22      001-01-026        Good  1 family       2.0  2014\n",
       "23      001-01-027        Good  1 family       1.0  2014\n",
       "24      001-01-028        Good  1 family       1.0  2014\n",
       "25      001-01-029        Good  1 family       1.0  2014\n",
       "26      001-01-030        Good  1 family       1.0  2014\n",
       "27      001-01-031   Very good  1 family       1.0  2014\n",
       "28      001-01-032   Excellent  1 family       1.0  2014\n",
       "29      001-01-033   Very good  1 family       1.0  2014\n",
       "...            ...         ...       ...       ...   ...\n",
       "891502  682-04-106        Good  1 family       2.0  2007\n",
       "891503  731-11-001       Good+  1 family       2.0  2007\n",
       "891504  731-11-046       Good+  1 family       2.0  2007\n",
       "891505  731-12-001       Good+  1 family       2.0  2007\n",
       "891506  731-12-031    Average+  1 family       2.0  2007\n",
       "891507  735-14-016       Good+  2 family       2.5  2007\n",
       "891508  735-15-013    Average+  2 family       2.0  2007\n",
       "891509  735-15-074       Good+  1 family       2.0  2007\n",
       "891510  735-15-075       Good+  1 family       2.0  2007\n",
       "891511  735-20-001    Average+  1 family       1.5  2007\n",
       "891512  735-21-014     Average  2 family       2.0  2007\n",
       "891513  735-21-015     Average  1 family       1.5  2007\n",
       "891514  735-21-016     Average  1 family       1.5  2007\n",
       "891515  735-21-017     Average  1 family       2.0  2007\n",
       "891516  735-21-018     Average  1 family       1.5  2007\n",
       "891517  735-21-019     Average  1 family       2.0  2007\n",
       "891518  735-21-020     Average  1 family       1.5  2007\n",
       "891519  735-21-021     Average  1 family       1.5  2007\n",
       "891520  735-21-022     Average  1 family       1.5  2007\n",
       "891521  735-22-001    Average+  1 family       2.0  2007\n",
       "891522  735-22-002     Average  1 family       2.0  2007\n",
       "891523  735-22-003    Average+  1 family       1.5  2007\n",
       "891524  735-22-004    Average+  1 family       1.5  2007\n",
       "891525  735-22-005    Average+  1 family       1.5  2007\n",
       "891526  735-22-006     Average  1 family       2.0  2007\n",
       "891527  735-22-007    Average+  1 family       1.5  2007\n",
       "891528  735-22-008    Average+  1 family       2.0  2007\n",
       "891529  735-22-009    Average+  1 family       2.0  2007\n",
       "891530  735-22-010    Average+  1 family       2.0  2007\n",
       "891531  735-22-011    Average+  1 family       2.0  2007\n",
       "\n",
       "[891532 rows x 5 columns]"
      ]
     },
     "execution_count": 20,
     "metadata": {},
     "output_type": "execute_result"
    }
   ],
   "source": [
    "res"
   ]
  },
  {
   "cell_type": "code",
   "execution_count": 14,
   "metadata": {
    "collapsed": false
   },
   "outputs": [
    {
     "data": {
      "text/plain": [
       "Index([u'cqual', u'occup', u'rnumstor'], dtype='object')"
      ]
     },
     "execution_count": 14,
     "metadata": {},
     "output_type": "execute_result"
    }
   ],
   "source": [
    "res.columns"
   ]
  },
  {
   "cell_type": "code",
   "execution_count": 91,
   "metadata": {
    "collapsed": true
   },
   "outputs": [],
   "source": [
    "cquals = {'Very poor': 1, 'Very poor+':2, 'Poor':3,'Poor+':4,'Average':5,'Average+':6,'Good':7,'Good+':8,'Very good':9,'Very good+':10,'Excellent':11, 'Excellent+':12}"
   ]
  },
  {
   "cell_type": "code",
   "execution_count": 92,
   "metadata": {
    "collapsed": false
   },
   "outputs": [],
   "source": [
    "res['cqual_num'] = res[res.cqual.notnull()].apply(lambda x: cquals[x.cqual], axis=1)"
   ]
  },
  {
   "cell_type": "code",
   "execution_count": 93,
   "metadata": {
    "collapsed": false
   },
   "outputs": [],
   "source": [
    "tci = pd.merge(tci, res[['cqual_num','occup','rnumstor']], how='left', left_on='parcel', right_index=True)"
   ]
  },
  {
   "cell_type": "markdown",
   "metadata": {},
   "source": [
    "## Clean and merge data from property characteristics"
   ]
  },
  {
   "cell_type": "code",
   "execution_count": 94,
   "metadata": {
    "collapsed": false
   },
   "outputs": [],
   "source": [
    "# prop13 = pd.read_csv(path+'/data/clean_data/main_prop_filtered14.csv')\n",
    "# prop13 = prop13.drop_duplicates()\n",
    "# prop13 = prop13.set_index('parcel')"
   ]
  },
  {
   "cell_type": "code",
   "execution_count": 7,
   "metadata": {
    "collapsed": false
   },
   "outputs": [],
   "source": [
    "prop = pd.read_csv(path+'/data/clean_data/main_prop_filtered.csv')\n",
    "prop = prop.drop_duplicates()\n",
    "prop = prop.groupby('parcel').last()"
   ]
  },
  {
   "cell_type": "markdown",
   "metadata": {},
   "source": [
    "### Property size"
   ]
  },
  {
   "cell_type": "code",
   "execution_count": 96,
   "metadata": {
    "collapsed": false
   },
   "outputs": [
    {
     "name": "stdout",
     "output_type": "stream",
     "text": [
      "(113132, 10)\n"
     ]
    }
   ],
   "source": [
    "def parse_comma(x):\n",
    "    if type(x) == str:\n",
    "        x = int(x.replace(',',''))\n",
    "    elif type(x) == float:\n",
    "        if not np.isnan(x):\n",
    "            x = int(x)\n",
    "        else:\n",
    "            pass\n",
    "    else:\n",
    "        pass\n",
    "    return x\n",
    "\n",
    "prop['propsize'] = prop['propsize'].apply(parse_comma)\n",
    "\n",
    "tci = pd.merge(tci, prop[['propsize']], how='left', left_on='parcel', right_index=True)\n",
    "tci.loc[tci.propsize.isnull(),'propsize'] = np.median(tci.loc[tci.propsize.notnull(),'propsize'])\n",
    "print(tci.shape)"
   ]
  },
  {
   "cell_type": "code",
   "execution_count": 97,
   "metadata": {
    "collapsed": true
   },
   "outputs": [],
   "source": [
    "def reject_outliers(data, m=1):\n",
    "    return data[abs(data - np.mean(data)) < m * np.std(data)]"
   ]
  },
  {
   "cell_type": "markdown",
   "metadata": {},
   "source": [
    "### Total usable area"
   ]
  },
  {
   "cell_type": "code",
   "execution_count": 98,
   "metadata": {
    "collapsed": false
   },
   "outputs": [
    {
     "name": "stdout",
     "output_type": "stream",
     "text": [
      "(113132, 11)\n"
     ]
    }
   ],
   "source": [
    "prop['totusabl'] = prop['totusabl'].apply(parse_comma)\n",
    "usable_area = prop[['totusabl']]\n",
    "\n",
    "tci = pd.merge(tci, usable_area, how='left', left_on='parcel', right_index=True)\n",
    "\n",
    "tci.loc[tci.totusabl.isnull(),'totusabl'] = np.median(tci.loc[tci.totusabl.notnull(),'totusabl'])\n",
    "print(tci.shape)"
   ]
  },
  {
   "cell_type": "code",
   "execution_count": 99,
   "metadata": {
    "collapsed": false
   },
   "outputs": [],
   "source": [
    "median_usable = dict(tci[tci.totusabl>0].groupby('SPA_NAME').agg(np.median)['totusabl'])\n",
    "tci.loc[tci.totusabl==0, 'totusabl'] = tci[tci.totusabl==0].apply(lambda x: median_usable[x.SPA_NAME], axis=1)"
   ]
  },
  {
   "cell_type": "markdown",
   "metadata": {},
   "source": [
    "### Total market value"
   ]
  },
  {
   "cell_type": "code",
   "execution_count": 100,
   "metadata": {
    "collapsed": false
   },
   "outputs": [
    {
     "name": "stdout",
     "output_type": "stream",
     "text": [
      "(113132, 12)\n"
     ]
    }
   ],
   "source": [
    "tci = pd.merge(tci, prop[['tmktval']], how='left', left_on='parcel', right_index=True)\n",
    "tci.loc[tci.tmktval.isnull(),'tmktval'] = np.median(tci.loc[tci.tmktval.notnull(),'tmktval'])\n",
    "\n",
    "median_val = dict(tci[tci.tmktval>0].groupby('SPA_NAME').agg(np.median)['tmktval'])\n",
    "tci.loc[tci.tmktval==0, 'tmktval'] = tci[tci.tmktval==0].apply(lambda x: median_val[x.SPA_NAME], axis=1)\n",
    "print(tci.shape)"
   ]
  },
  {
   "cell_type": "code",
   "execution_count": 101,
   "metadata": {
    "collapsed": false
   },
   "outputs": [],
   "source": [
    "tci = pd.merge(tci, prop[['tbval']], how='left', left_on='parcel', right_index=True)\n",
    "tci.loc[tci.tbval.isnull(),'tbval'] = np.median(tci.loc[tci.tbval.notnull(),'tbval'])\n",
    "\n",
    "median_val = dict(tci[tci.tbval>0].groupby('SPA_NAME').agg(np.median)['tbval'])\n",
    "tci.loc[tci.tbval==0, 'tbval'] = tci[tci.tbval==0].apply(lambda x: median_val[x.SPA_NAME], axis=1)\n",
    "print(tci.shape)"
   ]
  },
  {
   "cell_type": "code",
   "execution_count": null,
   "metadata": {
    "collapsed": true
   },
   "outputs": [],
   "source": [
    "tci = pd.merge(tci, prop[['tlval']], how='left', left_on='parcel', right_index=True)\n",
    "tci.loc[tci.tlval.isnull(),'tlval'] = np.median(tci.loc[tci.tlval.notnull(),'tlval'])\n",
    "\n",
    "median_val = dict(tci[tci.tlval>0].groupby('SPA_NAME').agg(np.median)['tlval'])\n",
    "tci.loc[tci.tlval==0, 'tbval'] = tci[tci.tlval==0].apply(lambda x: median_val[x.SPA_NAME], axis=1)\n",
    "print(tci.shape)"
   ]
  },
  {
   "cell_type": "markdown",
   "metadata": {},
   "source": [
    "### Condition"
   ]
  },
  {
   "cell_type": "code",
   "execution_count": 102,
   "metadata": {
    "collapsed": false
   },
   "outputs": [
    {
     "name": "stdout",
     "output_type": "stream",
     "text": [
      "(113132, 16)\n"
     ]
    }
   ],
   "source": [
    "# unsound\n",
    "# very poor\n",
    "# poor\n",
    "# fair\n",
    "# average\n",
    "# good\n",
    "# very good\n",
    "# excellent\n",
    "# sound\n",
    "\n",
    "tci = pd.merge(tci, prop[['condition13']], how='left', left_on='parcel', right_index=True)\n",
    "tci = pd.merge(tci, prop[['condition14']], how='left', left_on='parcel', right_index=True)\n",
    "\n",
    "condition_value = {'Unsound': 0, 'Sound value (c)': 1, 'Very poor': 2, 'Poor': 3, 'Fair': 4, 'Average': 5, \\\n",
    "                   'Good': 6, 'Very good': 7, 'Excellent': 8,}\n",
    "\n",
    "prop.loc[prop['condition13'].notnull(),'condition_value13'] = \\\n",
    "    prop.loc[prop['condition13'].notnull(),'condition13'].apply(lambda x: condition_value[x])\n",
    "    \n",
    "tci = pd.merge(tci, prop[['condition_value13']], how='left', left_on='parcel', right_index=True)\n",
    "# tci.loc[tci.condition_value13.isnull(),'condition_value13'] = \\\n",
    "#     np.median(tci.loc[tci.condition_value13.notnull(),'condition_value13'])\n",
    "\n",
    "\n",
    "prop.loc[prop['condition14'].notnull(),'condition_value14'] = \\\n",
    "    prop.loc[prop['condition14'].notnull(),'condition14'].apply(lambda x: condition_value[x])\n",
    "    \n",
    "tci = pd.merge(tci, prop[['condition_value14']], how='left', left_on='parcel', right_index=True)\n",
    "# tci.loc[tci.condition_value14.isnull(),'condition_value14'] = \\\n",
    "#     np.median(tci.loc[tci.condition_value14.notnull(),'condition_value14'])\n",
    "    \n",
    "print(tci.shape)"
   ]
  },
  {
   "cell_type": "code",
   "execution_count": 103,
   "metadata": {
    "collapsed": true
   },
   "outputs": [],
   "source": [
    "mean_cond = dict(tci[tci.condition_value13>0].groupby('SPA_NAME').agg(np.mean)['condition_value13'])\n",
    "tci.loc[tci.condition_value13.isnull(), 'condition_value13'] = tci[tci.condition_value13.isnull()].apply(lambda x: mean_cond[x.SPA_NAME], axis=1)"
   ]
  },
  {
   "cell_type": "code",
   "execution_count": 104,
   "metadata": {
    "collapsed": false
   },
   "outputs": [],
   "source": [
    "mean_cond = dict(tci[tci.condition_value14>0].groupby('SPA_NAME').agg(np.mean)['condition_value14'])\n",
    "tci.loc[tci.condition_value14.isnull(), 'condition_value14'] = tci[tci.condition_value14.isnull()].apply(lambda x: mean_cond[x.SPA_NAME], axis=1)"
   ]
  },
  {
   "cell_type": "code",
   "execution_count": 105,
   "metadata": {
    "collapsed": false
   },
   "outputs": [
    {
     "name": "stdout",
     "output_type": "stream",
     "text": [
      "<class 'pandas.core.frame.DataFrame'>\n",
      "Int64Index: 113132 entries, 0 to 113131\n",
      "Data columns (total 16 columns):\n",
      "parcel               113132 non-null object\n",
      "vacant               113132 non-null int64\n",
      "Date                 113132 non-null datetime64[ns]\n",
      "Survey Category      113132 non-null object\n",
      "Survey Grade         113132 non-null object\n",
      "SPA_NAME             113132 non-null object\n",
      "cqual_num            111765 non-null float64\n",
      "occup                111765 non-null object\n",
      "rnumstor             111765 non-null float64\n",
      "propsize             113132 non-null float64\n",
      "totusabl             113132 non-null float64\n",
      "tmktval              113132 non-null float64\n",
      "condition13          112559 non-null object\n",
      "condition14          112595 non-null object\n",
      "condition_value13    113132 non-null float64\n",
      "condition_value14    113132 non-null float64\n",
      "dtypes: datetime64[ns](1), float64(7), int64(1), object(7)\n",
      "memory usage: 14.7+ MB\n"
     ]
    }
   ],
   "source": [
    "tci.info()"
   ]
  },
  {
   "cell_type": "markdown",
   "metadata": {},
   "source": [
    "### Housing style"
   ]
  },
  {
   "cell_type": "code",
   "execution_count": 106,
   "metadata": {
    "collapsed": false
   },
   "outputs": [],
   "source": [
    "styles = ['Bungalow','CAP','Colonial','Ranch']\n",
    "\n",
    "def get_style(x):\n",
    "    if x in styles:\n",
    "        return x\n",
    "    else:\n",
    "        return np.nan\n",
    "\n",
    "prop['style_filtered'] = prop['style'].apply(get_style)"
   ]
  },
  {
   "cell_type": "code",
   "execution_count": 107,
   "metadata": {
    "collapsed": false
   },
   "outputs": [
    {
     "name": "stdout",
     "output_type": "stream",
     "text": [
      "(113132, 17)\n"
     ]
    }
   ],
   "source": [
    "tci = pd.merge(tci, prop[['style_filtered']] \\\n",
    "               , how='left', left_on='parcel', right_index=True)\n",
    "tci.loc[tci.style_filtered.isnull(),'style_filtered'] = 'Other'\n",
    "\n",
    "print(tci.shape)"
   ]
  },
  {
   "cell_type": "markdown",
   "metadata": {},
   "source": [
    "### Owner occupancy"
   ]
  },
  {
   "cell_type": "code",
   "execution_count": 108,
   "metadata": {
    "collapsed": false
   },
   "outputs": [],
   "source": [
    "def get_own(x):\n",
    "    if x == 'Yes':\n",
    "        return 1\n",
    "    elif x == 'No':\n",
    "        return 0\n",
    "    else:\n",
    "        return 1\n",
    "    \n",
    "prop['ownerocc_value'] = prop['ownerocc'].apply(get_own)"
   ]
  },
  {
   "cell_type": "code",
   "execution_count": 109,
   "metadata": {
    "collapsed": false
   },
   "outputs": [
    {
     "name": "stdout",
     "output_type": "stream",
     "text": [
      "(113132, 18)\n"
     ]
    }
   ],
   "source": [
    "tci = pd.merge(tci, prop[['ownerocc_value']], \\\n",
    "               how='left', left_on='parcel', right_index=True)\n",
    "tci.loc[tci['ownerocc_value'].isnull(),'ownerocc_value'] = 1\n",
    "print(tci.shape)"
   ]
  },
  {
   "cell_type": "markdown",
   "metadata": {},
   "source": [
    "### Latitude/Longitude"
   ]
  },
  {
   "cell_type": "code",
   "execution_count": 110,
   "metadata": {
    "collapsed": true
   },
   "outputs": [],
   "source": [
    "from math import radians, cos, sin, asin, sqrt\n",
    "\n",
    "def haversine(lon1, lat1, lon2, lat2):\n",
    "    \"\"\"\n",
    "    Calculate the great circle distance between two points \n",
    "    on the earth (specified in decimal degrees)\n",
    "    \"\"\"\n",
    "    # convert decimal degrees to radians \n",
    "    lon1, lat1, lon2, lat2 = map(radians, [lon1, lat1, lon2, lat2])\n",
    "\n",
    "    # haversine formula \n",
    "    dlon = lon2 - lon1 \n",
    "    dlat = lat2 - lat1 \n",
    "    a = sin(dlat/2)**2 + cos(lat1) * cos(lat2) * sin(dlon/2)**2\n",
    "    c = 2 * asin(sqrt(a)) \n",
    "    r = 6371 # Radius of earth in kilometers. Use 3956 for miles\n",
    "    return c * r"
   ]
  },
  {
   "cell_type": "code",
   "execution_count": 111,
   "metadata": {
    "collapsed": false
   },
   "outputs": [
    {
     "name": "stdout",
     "output_type": "stream",
     "text": [
      "(113132, 20)\n"
     ]
    }
   ],
   "source": [
    "tci = pd.merge(tci, prop[['LATITUDE','LONGITUDE']], \\\n",
    "               how='left', left_on='parcel', right_index=True)\n",
    "# tci.loc[tci.totbldgs.isnull(),'totbldgs'] = np.median(tci.loc[tci.totbldgs.notnull(),'totbldgs'])\n",
    "# tci.loc[tci.totbldgs.isnull(),'totbldgs'] = 1\n",
    "print(tci.shape)"
   ]
  },
  {
   "cell_type": "markdown",
   "metadata": {},
   "source": [
    "### Total buildings"
   ]
  },
  {
   "cell_type": "code",
   "execution_count": 112,
   "metadata": {
    "collapsed": false
   },
   "outputs": [
    {
     "name": "stdout",
     "output_type": "stream",
     "text": [
      "(113132, 21)\n"
     ]
    }
   ],
   "source": [
    "tci = pd.merge(tci, prop[['totbldgs']], \\\n",
    "               how='left', left_on='parcel', right_index=True)\n",
    "# tci.loc[tci.totbldgs.isnull(),'totbldgs'] = np.median(tci.loc[tci.totbldgs.notnull(),'totbldgs'])\n",
    "tci.loc[tci.totbldgs.isnull(),'totbldgs'] = 1\n",
    "print(tci.shape)"
   ]
  },
  {
   "cell_type": "markdown",
   "metadata": {},
   "source": [
    "### Year built"
   ]
  },
  {
   "cell_type": "code",
   "execution_count": 113,
   "metadata": {
    "collapsed": false
   },
   "outputs": [],
   "source": [
    "def get_year(x):\n",
    "    try:\n",
    "        x = int(x)\n",
    "    except ValueError:\n",
    "        x = np.nan\n",
    "    return x"
   ]
  },
  {
   "cell_type": "code",
   "execution_count": 114,
   "metadata": {
    "collapsed": false
   },
   "outputs": [
    {
     "name": "stdout",
     "output_type": "stream",
     "text": [
      "(113132, 22)\n"
     ]
    }
   ],
   "source": [
    "prop['yrbuilt_filtered'] = prop['yrbuilt'].apply(get_year)\n",
    "tci = pd.merge(tci, prop[['yrbuilt_filtered']], \\\n",
    "               how='left', left_on='parcel', right_index=True)\n",
    "# tci.loc[tci.yrbuilt_filtered.isnull(),'yrbuilt_filtered'] = np.median(tci.loc[tci.yrbuilt_filtered.notnull(),'yrbuilt_filtered'])\n",
    "print(tci.shape)"
   ]
  },
  {
   "cell_type": "code",
   "execution_count": 115,
   "metadata": {
    "collapsed": true
   },
   "outputs": [],
   "source": [
    "median_val = dict(tci[tci.yrbuilt_filtered.notnull()].groupby('SPA_NAME').agg(np.median)['yrbuilt_filtered'])\n",
    "tci.loc[tci.yrbuilt_filtered.isnull(), 'yrbuilt_filtered'] = tci[tci.yrbuilt_filtered.isnull()].apply(lambda x: median_val[x.SPA_NAME], axis=1)"
   ]
  },
  {
   "cell_type": "markdown",
   "metadata": {},
   "source": [
    "### Exterior Wall"
   ]
  },
  {
   "cell_type": "code",
   "execution_count": 116,
   "metadata": {
    "collapsed": false
   },
   "outputs": [
    {
     "name": "stdout",
     "output_type": "stream",
     "text": [
      "(113132, 23)\n"
     ]
    }
   ],
   "source": [
    "tci = pd.merge(tci, prop[['rextwall']], \\\n",
    "               how='left', left_on='parcel', right_index=True)\n",
    "tci.loc[tci.rextwall.isnull(),'rextwall'] = 'Aluminum/Vinyl (r)'\n",
    "tci['rextwall'] = tci.rextwall.apply(lambda x: x if x in ['Aluminum/Vinyl (r)','Brick','Frame (r)'] else 'Other')\n",
    "\n",
    "print(tci.shape)"
   ]
  },
  {
   "cell_type": "markdown",
   "metadata": {},
   "source": [
    "## Add demographic variables"
   ]
  },
  {
   "cell_type": "code",
   "execution_count": 117,
   "metadata": {
    "collapsed": false
   },
   "outputs": [],
   "source": [
    "dem = pd.read_csv(path+'/data/clean_data/demographic.csv', dtype=str)"
   ]
  },
  {
   "cell_type": "code",
   "execution_count": 118,
   "metadata": {
    "collapsed": false
   },
   "outputs": [],
   "source": [
    "new_cols = ['parcel','NAME10','vacant_block','owner','renter', 'median_rent','property_crimes','burglaries','other_drug', 'part_one_crimes','part_two_crimes', \\\n",
    "'bachelors+','poverty_rate','median_hh_income', 'median_fam_income','white','black','asian','other','hispanic','young','middle','old']\n",
    "\n",
    "use_cols = ['vacant_block', 'NAME10','median_rent','property_crimes','burglaries', 'part_one_crimes','part_two_crimes', \\\n",
    "'bachelors+','poverty_rate','median_hh_income','white','black','asian','other','hispanic','young','middle','old']\n",
    "\n",
    "dem.columns = new_cols"
   ]
  },
  {
   "cell_type": "code",
   "execution_count": 119,
   "metadata": {
    "collapsed": true
   },
   "outputs": [],
   "source": [
    "cols = dem.dtypes[dem.dtypes=='object'].index[1:]\n",
    "\n",
    "for col in cols:\n",
    "#     print(col, len(dem.loc[dem[col]=='null', col]))\n",
    "    dem.loc[dem[col]=='null', col] = np.nan\n",
    "    dem.loc[dem[col].notnull(), col] = dem.loc[dem[col].notnull(), col].apply(float)"
   ]
  },
  {
   "cell_type": "code",
   "execution_count": 120,
   "metadata": {
    "collapsed": false
   },
   "outputs": [],
   "source": [
    "dem = dem.set_index('parcel')\n",
    "tci = pd.merge(tci, dem[use_cols], left_on='parcel',right_index=True, how='left')"
   ]
  },
  {
   "cell_type": "code",
   "execution_count": 121,
   "metadata": {
    "collapsed": false
   },
   "outputs": [],
   "source": [
    "for col in use_cols:\n",
    "    tci[col] = tci[col].apply(float)\n",
    "    median_val = dict(tci[tci[col].notnull()].groupby('SPA_NAME').agg(np.median)[col])\n",
    "    tci.loc[tci[col].isnull(), col] = tci[tci[col].isnull()].apply(lambda x: median_val[x.SPA_NAME], axis=1)\n",
    "#     tci.loc[tci[col].isnull(),col] = np.median(tci.loc[tci[col].notnull(),col])"
   ]
  },
  {
   "cell_type": "markdown",
   "metadata": {},
   "source": [
    "# Output"
   ]
  },
  {
   "cell_type": "code",
   "execution_count": 122,
   "metadata": {
    "collapsed": false
   },
   "outputs": [
    {
     "name": "stdout",
     "output_type": "stream",
     "text": [
      "<class 'pandas.core.frame.DataFrame'>\n",
      "Int64Index: 113132 entries, 0 to 113131\n",
      "Data columns (total 41 columns):\n",
      "parcel               113132 non-null object\n",
      "vacant               113132 non-null int64\n",
      "Date                 113132 non-null datetime64[ns]\n",
      "Survey Category      113132 non-null object\n",
      "Survey Grade         113132 non-null object\n",
      "SPA_NAME             113132 non-null object\n",
      "cqual_num            111765 non-null float64\n",
      "occup                111765 non-null object\n",
      "rnumstor             111765 non-null float64\n",
      "propsize             113132 non-null float64\n",
      "totusabl             113132 non-null float64\n",
      "tmktval              113132 non-null float64\n",
      "condition13          112559 non-null object\n",
      "condition14          112595 non-null object\n",
      "condition_value13    113132 non-null float64\n",
      "condition_value14    113132 non-null float64\n",
      "style_filtered       113132 non-null object\n",
      "ownerocc_value       113132 non-null float64\n",
      "LATITUDE             112857 non-null float64\n",
      "LONGITUDE            112857 non-null float64\n",
      "totbldgs             113132 non-null float64\n",
      "yrbuilt_filtered     113132 non-null float64\n",
      "rextwall             113132 non-null object\n",
      "vacant_block         113132 non-null float64\n",
      "NAME10               113132 non-null float64\n",
      "median_rent          113132 non-null float64\n",
      "property_crimes      113132 non-null float64\n",
      "burglaries           113132 non-null float64\n",
      "part_one_crimes      113132 non-null float64\n",
      "part_two_crimes      113132 non-null float64\n",
      "bachelors+           113132 non-null float64\n",
      "poverty_rate         113132 non-null float64\n",
      "median_hh_income     113132 non-null float64\n",
      "white                113132 non-null float64\n",
      "black                113132 non-null float64\n",
      "asian                113132 non-null float64\n",
      "other                113132 non-null float64\n",
      "hispanic             113132 non-null float64\n",
      "young                113132 non-null float64\n",
      "middle               113132 non-null float64\n",
      "old                  113132 non-null float64\n",
      "dtypes: datetime64[ns](1), float64(30), int64(1), object(9)\n",
      "memory usage: 36.3+ MB\n"
     ]
    }
   ],
   "source": [
    "tci.info()"
   ]
  },
  {
   "cell_type": "code",
   "execution_count": 123,
   "metadata": {
    "collapsed": false
   },
   "outputs": [],
   "source": [
    "tci.to_csv(path+'/data/model_data/tci_2_0.csv', index=False)"
   ]
  },
  {
   "cell_type": "code",
   "execution_count": null,
   "metadata": {
    "collapsed": true
   },
   "outputs": [],
   "source": []
  }
 ],
 "metadata": {
  "kernelspec": {
   "display_name": "Python 3",
   "language": "python",
   "name": "python3"
  },
  "language_info": {
   "codemirror_mode": {
    "name": "ipython",
    "version": 3
   },
   "file_extension": ".py",
   "mimetype": "text/x-python",
   "name": "python",
   "nbconvert_exporter": "python",
   "pygments_lexer": "ipython3",
   "version": "3.4.4"
  }
 },
 "nbformat": 4,
 "nbformat_minor": 0
}
