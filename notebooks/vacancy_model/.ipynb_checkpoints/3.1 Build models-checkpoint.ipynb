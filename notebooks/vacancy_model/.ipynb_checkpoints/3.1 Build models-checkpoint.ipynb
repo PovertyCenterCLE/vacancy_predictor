{
 "cells": [
  {
   "cell_type": "markdown",
   "metadata": {},
   "source": [
    "# 3.1 Build models"
   ]
  },
  {
   "cell_type": "code",
   "execution_count": 1,
   "metadata": {
    "collapsed": false
   },
   "outputs": [
    {
     "name": "stdout",
     "output_type": "stream",
     "text": [
      "/Volumes/Dropbox/largetransfer/luc/carter\n"
     ]
    }
   ],
   "source": [
    "import pandas as pd\n",
    "from sklearn.ensemble import RandomForestClassifier\n",
    "import matplotlib.pyplot as plt\n",
    "import numpy as np\n",
    "# import seaborn as sns\n",
    "import math\n",
    "from sklearn.preprocessing import Imputer\n",
    "from sklearn.base import TransformerMixin\n",
    "from sklearn import cross_validation\n",
    "from sklearn.grid_search import GridSearchCV\n",
    "from sklearn.linear_model import LogisticRegression\n",
    "from sklearn import preprocessing\n",
    "from sklearn.cross_validation import cross_val_score\n",
    "from sklearn.externals import joblib\n",
    "import os\n",
    "\n",
    "def sound():\n",
    "    os.system('afplay /System/Library/Sounds/Sosumi.aiff')\n",
    "\n",
    "%matplotlib inline\n",
    "# sns.set_context('notebook')\n",
    "\n",
    "path = '/'.join(os.getcwd().split('/')[:-2])\n",
    "print(path)"
   ]
  },
  {
   "cell_type": "code",
   "execution_count": 2,
   "metadata": {
    "collapsed": false
   },
   "outputs": [
    {
     "name": "stderr",
     "output_type": "stream",
     "text": [
      "//anaconda/envs/data_sci/lib/python3.4/site-packages/IPython/core/interactiveshell.py:2902: DtypeWarning: Columns (24) have mixed types. Specify dtype option on import or set low_memory=False.\n",
      "  interactivity=interactivity, compiler=compiler, result=result)\n"
     ]
    }
   ],
   "source": [
    "df = pd.read_csv(path+'/data/model_data/tci_final_model.csv',index_col=0)"
   ]
  },
  {
   "cell_type": "code",
   "execution_count": 3,
   "metadata": {
    "collapsed": false
   },
   "outputs": [
    {
     "data": {
      "text/plain": [
       "Index(['vacant', 'Date', 'Survey Category', 'Survey Grade', 'SPA_NAME',\n",
       "       'cqual_num', 'occup', 'rnumstor', 'propsize', 'totusabl', 'tmktval',\n",
       "       'mktbldg', 'mktland', 'cond_val', 'style_filtered', 'ownerocc_value',\n",
       "       'totbldgs', 'yrbuilt_filtered', 'lb_acquired', 'lb_tax_fc',\n",
       "       'TOTAL_NET_DELQ_BALANCE', 'TAX_ASSESSED_LAND', 'TAX_MARKET_LAND',\n",
       "       'LENDER_PROCESS_TYPE', 'GRAND_TOTAL_BALANCE', 'GRAND_TOTAL_PAID',\n",
       "       'GRAND_TOTAL_OWED', 'delq_total_ratio', 'paid_percent', 'pv_count',\n",
       "       'v_total_1yr', 'v_total_2yr', 'boarded', 'days_since_ovv', 'c_ovv_num',\n",
       "       'active_fc', 'fc_1yr', 'fc_2yr', 'fc_days', 'sa_days', 't_days',\n",
       "       't_shf_deed', 't_num', 'al_num', 'al_days', 'price_per_sqft'],\n",
       "      dtype='object')"
      ]
     },
     "execution_count": 3,
     "metadata": {},
     "output_type": "execute_result"
    }
   ],
   "source": [
    "df.columns"
   ]
  },
  {
   "cell_type": "code",
   "execution_count": 4,
   "metadata": {
    "collapsed": false
   },
   "outputs": [
    {
     "name": "stdout",
     "output_type": "stream",
     "text": [
      "<class 'pandas.core.frame.DataFrame'>\n",
      "Index: 113132 entries, 001-01-001 to 735-22-011\n",
      "Data columns (total 46 columns):\n",
      "vacant                    113132 non-null int64\n",
      "Date                      113132 non-null object\n",
      "Survey Category           113132 non-null object\n",
      "Survey Grade              113132 non-null object\n",
      "SPA_NAME                  113132 non-null object\n",
      "cqual_num                 113132 non-null float64\n",
      "occup                     113132 non-null float64\n",
      "rnumstor                  113132 non-null float64\n",
      "propsize                  113132 non-null float64\n",
      "totusabl                  113132 non-null float64\n",
      "tmktval                   113132 non-null float64\n",
      "mktbldg                   113132 non-null float64\n",
      "mktland                   113132 non-null float64\n",
      "cond_val                  113132 non-null float64\n",
      "style_filtered            113132 non-null object\n",
      "ownerocc_value            113132 non-null float64\n",
      "totbldgs                  113132 non-null float64\n",
      "yrbuilt_filtered          113132 non-null float64\n",
      "lb_acquired               113132 non-null float64\n",
      "lb_tax_fc                 113132 non-null float64\n",
      "TOTAL_NET_DELQ_BALANCE    113132 non-null float64\n",
      "TAX_ASSESSED_LAND         113132 non-null float64\n",
      "TAX_MARKET_LAND           113132 non-null float64\n",
      "LENDER_PROCESS_TYPE       113132 non-null object\n",
      "GRAND_TOTAL_BALANCE       113132 non-null float64\n",
      "GRAND_TOTAL_PAID          113132 non-null float64\n",
      "GRAND_TOTAL_OWED          113132 non-null float64\n",
      "delq_total_ratio          113132 non-null float64\n",
      "paid_percent              113132 non-null float64\n",
      "pv_count                  113132 non-null float64\n",
      "v_total_1yr               113132 non-null float64\n",
      "v_total_2yr               113132 non-null float64\n",
      "boarded                   113132 non-null float64\n",
      "days_since_ovv            113132 non-null int64\n",
      "c_ovv_num                 113132 non-null float64\n",
      "active_fc                 113132 non-null float64\n",
      "fc_1yr                    113132 non-null float64\n",
      "fc_2yr                    113132 non-null float64\n",
      "fc_days                   113132 non-null float64\n",
      "sa_days                   113132 non-null float64\n",
      "t_days                    113132 non-null float64\n",
      "t_shf_deed                113132 non-null int64\n",
      "t_num                     113132 non-null float64\n",
      "al_num                    113132 non-null float64\n",
      "al_days                   113132 non-null int64\n",
      "price_per_sqft            113132 non-null float64\n",
      "dtypes: float64(36), int64(4), object(6)\n",
      "memory usage: 40.6+ MB\n"
     ]
    }
   ],
   "source": [
    "df.info()"
   ]
  },
  {
   "cell_type": "code",
   "execution_count": 5,
   "metadata": {
    "collapsed": false
   },
   "outputs": [],
   "source": [
    "features = list(df.columns)\n",
    "features.remove('vacant')\n",
    "features.remove('Date')\n",
    "features.remove('Survey Category')\n",
    "features.remove('Survey Grade')\n",
    "features.remove('SPA_NAME')\n",
    "features.remove('style_filtered')\n",
    "features.remove('LENDER_PROCESS_TYPE')\n",
    "\n",
    "from sklearn.cross_validation import train_test_split\n",
    "X_train, X_test, y_train, y_test = train_test_split(df[features], df['vacant'], test_size=0.2, random_state=42)"
   ]
  },
  {
   "cell_type": "markdown",
   "metadata": {},
   "source": [
    "## Build the classifiers"
   ]
  },
  {
   "cell_type": "markdown",
   "metadata": {},
   "source": [
    "### Random Forest Classifier"
   ]
  },
  {
   "cell_type": "code",
   "execution_count": 6,
   "metadata": {
    "collapsed": false,
    "scrolled": true
   },
   "outputs": [],
   "source": [
    "rfc = RandomForestClassifier(n_estimators=50, min_samples_leaf=8, min_samples_split=3, \\\n",
    "                                 class_weight={0:1, 1:8}, \\\n",
    "                                 max_features=20, random_state=0, max_depth=40)\n",
    "rfc = rfc.fit(X_train, y_train)\n",
    "sound()"
   ]
  },
  {
   "cell_type": "code",
   "execution_count": 7,
   "metadata": {
    "collapsed": false
   },
   "outputs": [
    {
     "data": {
      "text/html": [
       "<div>\n",
       "<table border=\"1\" class=\"dataframe\">\n",
       "  <thead>\n",
       "    <tr style=\"text-align: right;\">\n",
       "      <th>predicted by RF</th>\n",
       "      <th>0</th>\n",
       "      <th>1</th>\n",
       "    </tr>\n",
       "    <tr>\n",
       "      <th>vacant</th>\n",
       "      <th></th>\n",
       "      <th></th>\n",
       "    </tr>\n",
       "  </thead>\n",
       "  <tbody>\n",
       "    <tr>\n",
       "      <th>0</th>\n",
       "      <td>19802</td>\n",
       "      <td>792</td>\n",
       "    </tr>\n",
       "    <tr>\n",
       "      <th>1</th>\n",
       "      <td>733</td>\n",
       "      <td>1300</td>\n",
       "    </tr>\n",
       "  </tbody>\n",
       "</table>\n",
       "</div>"
      ],
      "text/plain": [
       "predicted by RF      0     1\n",
       "vacant                      \n",
       "0                19802   792\n",
       "1                  733  1300"
      ]
     },
     "execution_count": 7,
     "metadata": {},
     "output_type": "execute_result"
    }
   ],
   "source": [
    "# pd.crosstab(y_test, rfc.predict(X_test),rownames=['From survey'],colnames=['From model'],margins=True)\n",
    "pd.crosstab(y_test,rfc.predict(X_test),colnames=['predicted by RF'])"
   ]
  },
  {
   "cell_type": "code",
   "execution_count": 81,
   "metadata": {
    "collapsed": false
   },
   "outputs": [
    {
     "data": {
      "text/plain": [
       "['/Volumes/Dropbox/largetransfer/luc/carter/data/models/rfc2.pkl',\n",
       " '/Volumes/Dropbox/largetransfer/luc/carter/data/models/rfc2.pkl_01.npy',\n",
       " '/Volumes/Dropbox/largetransfer/luc/carter/data/models/rfc2.pkl_02.npy',\n",
       " '/Volumes/Dropbox/largetransfer/luc/carter/data/models/rfc2.pkl_03.npy',\n",
       " '/Volumes/Dropbox/largetransfer/luc/carter/data/models/rfc2.pkl_04.npy',\n",
       " '/Volumes/Dropbox/largetransfer/luc/carter/data/models/rfc2.pkl_05.npy',\n",
       " '/Volumes/Dropbox/largetransfer/luc/carter/data/models/rfc2.pkl_06.npy',\n",
       " '/Volumes/Dropbox/largetransfer/luc/carter/data/models/rfc2.pkl_07.npy',\n",
       " '/Volumes/Dropbox/largetransfer/luc/carter/data/models/rfc2.pkl_08.npy',\n",
       " '/Volumes/Dropbox/largetransfer/luc/carter/data/models/rfc2.pkl_09.npy',\n",
       " '/Volumes/Dropbox/largetransfer/luc/carter/data/models/rfc2.pkl_10.npy',\n",
       " '/Volumes/Dropbox/largetransfer/luc/carter/data/models/rfc2.pkl_11.npy',\n",
       " '/Volumes/Dropbox/largetransfer/luc/carter/data/models/rfc2.pkl_12.npy',\n",
       " '/Volumes/Dropbox/largetransfer/luc/carter/data/models/rfc2.pkl_13.npy',\n",
       " '/Volumes/Dropbox/largetransfer/luc/carter/data/models/rfc2.pkl_14.npy',\n",
       " '/Volumes/Dropbox/largetransfer/luc/carter/data/models/rfc2.pkl_15.npy',\n",
       " '/Volumes/Dropbox/largetransfer/luc/carter/data/models/rfc2.pkl_16.npy',\n",
       " '/Volumes/Dropbox/largetransfer/luc/carter/data/models/rfc2.pkl_17.npy',\n",
       " '/Volumes/Dropbox/largetransfer/luc/carter/data/models/rfc2.pkl_18.npy',\n",
       " '/Volumes/Dropbox/largetransfer/luc/carter/data/models/rfc2.pkl_19.npy',\n",
       " '/Volumes/Dropbox/largetransfer/luc/carter/data/models/rfc2.pkl_20.npy',\n",
       " '/Volumes/Dropbox/largetransfer/luc/carter/data/models/rfc2.pkl_21.npy',\n",
       " '/Volumes/Dropbox/largetransfer/luc/carter/data/models/rfc2.pkl_22.npy',\n",
       " '/Volumes/Dropbox/largetransfer/luc/carter/data/models/rfc2.pkl_23.npy',\n",
       " '/Volumes/Dropbox/largetransfer/luc/carter/data/models/rfc2.pkl_24.npy',\n",
       " '/Volumes/Dropbox/largetransfer/luc/carter/data/models/rfc2.pkl_25.npy',\n",
       " '/Volumes/Dropbox/largetransfer/luc/carter/data/models/rfc2.pkl_26.npy',\n",
       " '/Volumes/Dropbox/largetransfer/luc/carter/data/models/rfc2.pkl_27.npy',\n",
       " '/Volumes/Dropbox/largetransfer/luc/carter/data/models/rfc2.pkl_28.npy',\n",
       " '/Volumes/Dropbox/largetransfer/luc/carter/data/models/rfc2.pkl_29.npy',\n",
       " '/Volumes/Dropbox/largetransfer/luc/carter/data/models/rfc2.pkl_30.npy',\n",
       " '/Volumes/Dropbox/largetransfer/luc/carter/data/models/rfc2.pkl_31.npy',\n",
       " '/Volumes/Dropbox/largetransfer/luc/carter/data/models/rfc2.pkl_32.npy',\n",
       " '/Volumes/Dropbox/largetransfer/luc/carter/data/models/rfc2.pkl_33.npy',\n",
       " '/Volumes/Dropbox/largetransfer/luc/carter/data/models/rfc2.pkl_34.npy',\n",
       " '/Volumes/Dropbox/largetransfer/luc/carter/data/models/rfc2.pkl_35.npy',\n",
       " '/Volumes/Dropbox/largetransfer/luc/carter/data/models/rfc2.pkl_36.npy',\n",
       " '/Volumes/Dropbox/largetransfer/luc/carter/data/models/rfc2.pkl_37.npy',\n",
       " '/Volumes/Dropbox/largetransfer/luc/carter/data/models/rfc2.pkl_38.npy',\n",
       " '/Volumes/Dropbox/largetransfer/luc/carter/data/models/rfc2.pkl_39.npy',\n",
       " '/Volumes/Dropbox/largetransfer/luc/carter/data/models/rfc2.pkl_40.npy',\n",
       " '/Volumes/Dropbox/largetransfer/luc/carter/data/models/rfc2.pkl_41.npy',\n",
       " '/Volumes/Dropbox/largetransfer/luc/carter/data/models/rfc2.pkl_42.npy',\n",
       " '/Volumes/Dropbox/largetransfer/luc/carter/data/models/rfc2.pkl_43.npy',\n",
       " '/Volumes/Dropbox/largetransfer/luc/carter/data/models/rfc2.pkl_44.npy',\n",
       " '/Volumes/Dropbox/largetransfer/luc/carter/data/models/rfc2.pkl_45.npy',\n",
       " '/Volumes/Dropbox/largetransfer/luc/carter/data/models/rfc2.pkl_46.npy',\n",
       " '/Volumes/Dropbox/largetransfer/luc/carter/data/models/rfc2.pkl_47.npy',\n",
       " '/Volumes/Dropbox/largetransfer/luc/carter/data/models/rfc2.pkl_48.npy',\n",
       " '/Volumes/Dropbox/largetransfer/luc/carter/data/models/rfc2.pkl_49.npy',\n",
       " '/Volumes/Dropbox/largetransfer/luc/carter/data/models/rfc2.pkl_50.npy',\n",
       " '/Volumes/Dropbox/largetransfer/luc/carter/data/models/rfc2.pkl_51.npy',\n",
       " '/Volumes/Dropbox/largetransfer/luc/carter/data/models/rfc2.pkl_52.npy',\n",
       " '/Volumes/Dropbox/largetransfer/luc/carter/data/models/rfc2.pkl_53.npy',\n",
       " '/Volumes/Dropbox/largetransfer/luc/carter/data/models/rfc2.pkl_54.npy',\n",
       " '/Volumes/Dropbox/largetransfer/luc/carter/data/models/rfc2.pkl_55.npy',\n",
       " '/Volumes/Dropbox/largetransfer/luc/carter/data/models/rfc2.pkl_56.npy',\n",
       " '/Volumes/Dropbox/largetransfer/luc/carter/data/models/rfc2.pkl_57.npy',\n",
       " '/Volumes/Dropbox/largetransfer/luc/carter/data/models/rfc2.pkl_58.npy',\n",
       " '/Volumes/Dropbox/largetransfer/luc/carter/data/models/rfc2.pkl_59.npy',\n",
       " '/Volumes/Dropbox/largetransfer/luc/carter/data/models/rfc2.pkl_60.npy',\n",
       " '/Volumes/Dropbox/largetransfer/luc/carter/data/models/rfc2.pkl_61.npy',\n",
       " '/Volumes/Dropbox/largetransfer/luc/carter/data/models/rfc2.pkl_62.npy',\n",
       " '/Volumes/Dropbox/largetransfer/luc/carter/data/models/rfc2.pkl_63.npy',\n",
       " '/Volumes/Dropbox/largetransfer/luc/carter/data/models/rfc2.pkl_64.npy',\n",
       " '/Volumes/Dropbox/largetransfer/luc/carter/data/models/rfc2.pkl_65.npy',\n",
       " '/Volumes/Dropbox/largetransfer/luc/carter/data/models/rfc2.pkl_66.npy',\n",
       " '/Volumes/Dropbox/largetransfer/luc/carter/data/models/rfc2.pkl_67.npy',\n",
       " '/Volumes/Dropbox/largetransfer/luc/carter/data/models/rfc2.pkl_68.npy',\n",
       " '/Volumes/Dropbox/largetransfer/luc/carter/data/models/rfc2.pkl_69.npy',\n",
       " '/Volumes/Dropbox/largetransfer/luc/carter/data/models/rfc2.pkl_70.npy',\n",
       " '/Volumes/Dropbox/largetransfer/luc/carter/data/models/rfc2.pkl_71.npy',\n",
       " '/Volumes/Dropbox/largetransfer/luc/carter/data/models/rfc2.pkl_72.npy',\n",
       " '/Volumes/Dropbox/largetransfer/luc/carter/data/models/rfc2.pkl_73.npy',\n",
       " '/Volumes/Dropbox/largetransfer/luc/carter/data/models/rfc2.pkl_74.npy',\n",
       " '/Volumes/Dropbox/largetransfer/luc/carter/data/models/rfc2.pkl_75.npy',\n",
       " '/Volumes/Dropbox/largetransfer/luc/carter/data/models/rfc2.pkl_76.npy',\n",
       " '/Volumes/Dropbox/largetransfer/luc/carter/data/models/rfc2.pkl_77.npy',\n",
       " '/Volumes/Dropbox/largetransfer/luc/carter/data/models/rfc2.pkl_78.npy',\n",
       " '/Volumes/Dropbox/largetransfer/luc/carter/data/models/rfc2.pkl_79.npy',\n",
       " '/Volumes/Dropbox/largetransfer/luc/carter/data/models/rfc2.pkl_80.npy',\n",
       " '/Volumes/Dropbox/largetransfer/luc/carter/data/models/rfc2.pkl_81.npy',\n",
       " '/Volumes/Dropbox/largetransfer/luc/carter/data/models/rfc2.pkl_82.npy',\n",
       " '/Volumes/Dropbox/largetransfer/luc/carter/data/models/rfc2.pkl_83.npy',\n",
       " '/Volumes/Dropbox/largetransfer/luc/carter/data/models/rfc2.pkl_84.npy',\n",
       " '/Volumes/Dropbox/largetransfer/luc/carter/data/models/rfc2.pkl_85.npy',\n",
       " '/Volumes/Dropbox/largetransfer/luc/carter/data/models/rfc2.pkl_86.npy',\n",
       " '/Volumes/Dropbox/largetransfer/luc/carter/data/models/rfc2.pkl_87.npy',\n",
       " '/Volumes/Dropbox/largetransfer/luc/carter/data/models/rfc2.pkl_88.npy',\n",
       " '/Volumes/Dropbox/largetransfer/luc/carter/data/models/rfc2.pkl_89.npy',\n",
       " '/Volumes/Dropbox/largetransfer/luc/carter/data/models/rfc2.pkl_90.npy',\n",
       " '/Volumes/Dropbox/largetransfer/luc/carter/data/models/rfc2.pkl_91.npy',\n",
       " '/Volumes/Dropbox/largetransfer/luc/carter/data/models/rfc2.pkl_92.npy',\n",
       " '/Volumes/Dropbox/largetransfer/luc/carter/data/models/rfc2.pkl_93.npy',\n",
       " '/Volumes/Dropbox/largetransfer/luc/carter/data/models/rfc2.pkl_94.npy',\n",
       " '/Volumes/Dropbox/largetransfer/luc/carter/data/models/rfc2.pkl_95.npy',\n",
       " '/Volumes/Dropbox/largetransfer/luc/carter/data/models/rfc2.pkl_96.npy',\n",
       " '/Volumes/Dropbox/largetransfer/luc/carter/data/models/rfc2.pkl_97.npy',\n",
       " '/Volumes/Dropbox/largetransfer/luc/carter/data/models/rfc2.pkl_98.npy',\n",
       " '/Volumes/Dropbox/largetransfer/luc/carter/data/models/rfc2.pkl_99.npy',\n",
       " '/Volumes/Dropbox/largetransfer/luc/carter/data/models/rfc2.pkl_100.npy',\n",
       " '/Volumes/Dropbox/largetransfer/luc/carter/data/models/rfc2.pkl_101.npy',\n",
       " '/Volumes/Dropbox/largetransfer/luc/carter/data/models/rfc2.pkl_102.npy',\n",
       " '/Volumes/Dropbox/largetransfer/luc/carter/data/models/rfc2.pkl_103.npy',\n",
       " '/Volumes/Dropbox/largetransfer/luc/carter/data/models/rfc2.pkl_104.npy',\n",
       " '/Volumes/Dropbox/largetransfer/luc/carter/data/models/rfc2.pkl_105.npy',\n",
       " '/Volumes/Dropbox/largetransfer/luc/carter/data/models/rfc2.pkl_106.npy',\n",
       " '/Volumes/Dropbox/largetransfer/luc/carter/data/models/rfc2.pkl_107.npy',\n",
       " '/Volumes/Dropbox/largetransfer/luc/carter/data/models/rfc2.pkl_108.npy',\n",
       " '/Volumes/Dropbox/largetransfer/luc/carter/data/models/rfc2.pkl_109.npy',\n",
       " '/Volumes/Dropbox/largetransfer/luc/carter/data/models/rfc2.pkl_110.npy',\n",
       " '/Volumes/Dropbox/largetransfer/luc/carter/data/models/rfc2.pkl_111.npy',\n",
       " '/Volumes/Dropbox/largetransfer/luc/carter/data/models/rfc2.pkl_112.npy',\n",
       " '/Volumes/Dropbox/largetransfer/luc/carter/data/models/rfc2.pkl_113.npy',\n",
       " '/Volumes/Dropbox/largetransfer/luc/carter/data/models/rfc2.pkl_114.npy',\n",
       " '/Volumes/Dropbox/largetransfer/luc/carter/data/models/rfc2.pkl_115.npy',\n",
       " '/Volumes/Dropbox/largetransfer/luc/carter/data/models/rfc2.pkl_116.npy',\n",
       " '/Volumes/Dropbox/largetransfer/luc/carter/data/models/rfc2.pkl_117.npy',\n",
       " '/Volumes/Dropbox/largetransfer/luc/carter/data/models/rfc2.pkl_118.npy',\n",
       " '/Volumes/Dropbox/largetransfer/luc/carter/data/models/rfc2.pkl_119.npy',\n",
       " '/Volumes/Dropbox/largetransfer/luc/carter/data/models/rfc2.pkl_120.npy',\n",
       " '/Volumes/Dropbox/largetransfer/luc/carter/data/models/rfc2.pkl_121.npy',\n",
       " '/Volumes/Dropbox/largetransfer/luc/carter/data/models/rfc2.pkl_122.npy',\n",
       " '/Volumes/Dropbox/largetransfer/luc/carter/data/models/rfc2.pkl_123.npy',\n",
       " '/Volumes/Dropbox/largetransfer/luc/carter/data/models/rfc2.pkl_124.npy',\n",
       " '/Volumes/Dropbox/largetransfer/luc/carter/data/models/rfc2.pkl_125.npy',\n",
       " '/Volumes/Dropbox/largetransfer/luc/carter/data/models/rfc2.pkl_126.npy',\n",
       " '/Volumes/Dropbox/largetransfer/luc/carter/data/models/rfc2.pkl_127.npy',\n",
       " '/Volumes/Dropbox/largetransfer/luc/carter/data/models/rfc2.pkl_128.npy',\n",
       " '/Volumes/Dropbox/largetransfer/luc/carter/data/models/rfc2.pkl_129.npy',\n",
       " '/Volumes/Dropbox/largetransfer/luc/carter/data/models/rfc2.pkl_130.npy',\n",
       " '/Volumes/Dropbox/largetransfer/luc/carter/data/models/rfc2.pkl_131.npy',\n",
       " '/Volumes/Dropbox/largetransfer/luc/carter/data/models/rfc2.pkl_132.npy',\n",
       " '/Volumes/Dropbox/largetransfer/luc/carter/data/models/rfc2.pkl_133.npy',\n",
       " '/Volumes/Dropbox/largetransfer/luc/carter/data/models/rfc2.pkl_134.npy',\n",
       " '/Volumes/Dropbox/largetransfer/luc/carter/data/models/rfc2.pkl_135.npy',\n",
       " '/Volumes/Dropbox/largetransfer/luc/carter/data/models/rfc2.pkl_136.npy',\n",
       " '/Volumes/Dropbox/largetransfer/luc/carter/data/models/rfc2.pkl_137.npy',\n",
       " '/Volumes/Dropbox/largetransfer/luc/carter/data/models/rfc2.pkl_138.npy',\n",
       " '/Volumes/Dropbox/largetransfer/luc/carter/data/models/rfc2.pkl_139.npy',\n",
       " '/Volumes/Dropbox/largetransfer/luc/carter/data/models/rfc2.pkl_140.npy',\n",
       " '/Volumes/Dropbox/largetransfer/luc/carter/data/models/rfc2.pkl_141.npy',\n",
       " '/Volumes/Dropbox/largetransfer/luc/carter/data/models/rfc2.pkl_142.npy',\n",
       " '/Volumes/Dropbox/largetransfer/luc/carter/data/models/rfc2.pkl_143.npy',\n",
       " '/Volumes/Dropbox/largetransfer/luc/carter/data/models/rfc2.pkl_144.npy',\n",
       " '/Volumes/Dropbox/largetransfer/luc/carter/data/models/rfc2.pkl_145.npy',\n",
       " '/Volumes/Dropbox/largetransfer/luc/carter/data/models/rfc2.pkl_146.npy',\n",
       " '/Volumes/Dropbox/largetransfer/luc/carter/data/models/rfc2.pkl_147.npy',\n",
       " '/Volumes/Dropbox/largetransfer/luc/carter/data/models/rfc2.pkl_148.npy',\n",
       " '/Volumes/Dropbox/largetransfer/luc/carter/data/models/rfc2.pkl_149.npy',\n",
       " '/Volumes/Dropbox/largetransfer/luc/carter/data/models/rfc2.pkl_150.npy',\n",
       " '/Volumes/Dropbox/largetransfer/luc/carter/data/models/rfc2.pkl_151.npy',\n",
       " '/Volumes/Dropbox/largetransfer/luc/carter/data/models/rfc2.pkl_152.npy',\n",
       " '/Volumes/Dropbox/largetransfer/luc/carter/data/models/rfc2.pkl_153.npy',\n",
       " '/Volumes/Dropbox/largetransfer/luc/carter/data/models/rfc2.pkl_154.npy',\n",
       " '/Volumes/Dropbox/largetransfer/luc/carter/data/models/rfc2.pkl_155.npy',\n",
       " '/Volumes/Dropbox/largetransfer/luc/carter/data/models/rfc2.pkl_156.npy',\n",
       " '/Volumes/Dropbox/largetransfer/luc/carter/data/models/rfc2.pkl_157.npy',\n",
       " '/Volumes/Dropbox/largetransfer/luc/carter/data/models/rfc2.pkl_158.npy',\n",
       " '/Volumes/Dropbox/largetransfer/luc/carter/data/models/rfc2.pkl_159.npy',\n",
       " '/Volumes/Dropbox/largetransfer/luc/carter/data/models/rfc2.pkl_160.npy',\n",
       " '/Volumes/Dropbox/largetransfer/luc/carter/data/models/rfc2.pkl_161.npy',\n",
       " '/Volumes/Dropbox/largetransfer/luc/carter/data/models/rfc2.pkl_162.npy',\n",
       " '/Volumes/Dropbox/largetransfer/luc/carter/data/models/rfc2.pkl_163.npy',\n",
       " '/Volumes/Dropbox/largetransfer/luc/carter/data/models/rfc2.pkl_164.npy',\n",
       " '/Volumes/Dropbox/largetransfer/luc/carter/data/models/rfc2.pkl_165.npy',\n",
       " '/Volumes/Dropbox/largetransfer/luc/carter/data/models/rfc2.pkl_166.npy',\n",
       " '/Volumes/Dropbox/largetransfer/luc/carter/data/models/rfc2.pkl_167.npy',\n",
       " '/Volumes/Dropbox/largetransfer/luc/carter/data/models/rfc2.pkl_168.npy',\n",
       " '/Volumes/Dropbox/largetransfer/luc/carter/data/models/rfc2.pkl_169.npy',\n",
       " '/Volumes/Dropbox/largetransfer/luc/carter/data/models/rfc2.pkl_170.npy',\n",
       " '/Volumes/Dropbox/largetransfer/luc/carter/data/models/rfc2.pkl_171.npy',\n",
       " '/Volumes/Dropbox/largetransfer/luc/carter/data/models/rfc2.pkl_172.npy',\n",
       " '/Volumes/Dropbox/largetransfer/luc/carter/data/models/rfc2.pkl_173.npy',\n",
       " '/Volumes/Dropbox/largetransfer/luc/carter/data/models/rfc2.pkl_174.npy',\n",
       " '/Volumes/Dropbox/largetransfer/luc/carter/data/models/rfc2.pkl_175.npy',\n",
       " '/Volumes/Dropbox/largetransfer/luc/carter/data/models/rfc2.pkl_176.npy',\n",
       " '/Volumes/Dropbox/largetransfer/luc/carter/data/models/rfc2.pkl_177.npy',\n",
       " '/Volumes/Dropbox/largetransfer/luc/carter/data/models/rfc2.pkl_178.npy',\n",
       " '/Volumes/Dropbox/largetransfer/luc/carter/data/models/rfc2.pkl_179.npy',\n",
       " '/Volumes/Dropbox/largetransfer/luc/carter/data/models/rfc2.pkl_180.npy',\n",
       " '/Volumes/Dropbox/largetransfer/luc/carter/data/models/rfc2.pkl_181.npy',\n",
       " '/Volumes/Dropbox/largetransfer/luc/carter/data/models/rfc2.pkl_182.npy',\n",
       " '/Volumes/Dropbox/largetransfer/luc/carter/data/models/rfc2.pkl_183.npy',\n",
       " '/Volumes/Dropbox/largetransfer/luc/carter/data/models/rfc2.pkl_184.npy',\n",
       " '/Volumes/Dropbox/largetransfer/luc/carter/data/models/rfc2.pkl_185.npy',\n",
       " '/Volumes/Dropbox/largetransfer/luc/carter/data/models/rfc2.pkl_186.npy',\n",
       " '/Volumes/Dropbox/largetransfer/luc/carter/data/models/rfc2.pkl_187.npy',\n",
       " '/Volumes/Dropbox/largetransfer/luc/carter/data/models/rfc2.pkl_188.npy',\n",
       " '/Volumes/Dropbox/largetransfer/luc/carter/data/models/rfc2.pkl_189.npy',\n",
       " '/Volumes/Dropbox/largetransfer/luc/carter/data/models/rfc2.pkl_190.npy',\n",
       " '/Volumes/Dropbox/largetransfer/luc/carter/data/models/rfc2.pkl_191.npy',\n",
       " '/Volumes/Dropbox/largetransfer/luc/carter/data/models/rfc2.pkl_192.npy',\n",
       " '/Volumes/Dropbox/largetransfer/luc/carter/data/models/rfc2.pkl_193.npy',\n",
       " '/Volumes/Dropbox/largetransfer/luc/carter/data/models/rfc2.pkl_194.npy',\n",
       " '/Volumes/Dropbox/largetransfer/luc/carter/data/models/rfc2.pkl_195.npy',\n",
       " '/Volumes/Dropbox/largetransfer/luc/carter/data/models/rfc2.pkl_196.npy',\n",
       " '/Volumes/Dropbox/largetransfer/luc/carter/data/models/rfc2.pkl_197.npy',\n",
       " '/Volumes/Dropbox/largetransfer/luc/carter/data/models/rfc2.pkl_198.npy',\n",
       " '/Volumes/Dropbox/largetransfer/luc/carter/data/models/rfc2.pkl_199.npy',\n",
       " '/Volumes/Dropbox/largetransfer/luc/carter/data/models/rfc2.pkl_200.npy',\n",
       " '/Volumes/Dropbox/largetransfer/luc/carter/data/models/rfc2.pkl_201.npy',\n",
       " '/Volumes/Dropbox/largetransfer/luc/carter/data/models/rfc2.pkl_202.npy',\n",
       " '/Volumes/Dropbox/largetransfer/luc/carter/data/models/rfc2.pkl_203.npy',\n",
       " '/Volumes/Dropbox/largetransfer/luc/carter/data/models/rfc2.pkl_204.npy',\n",
       " '/Volumes/Dropbox/largetransfer/luc/carter/data/models/rfc2.pkl_205.npy',\n",
       " '/Volumes/Dropbox/largetransfer/luc/carter/data/models/rfc2.pkl_206.npy',\n",
       " '/Volumes/Dropbox/largetransfer/luc/carter/data/models/rfc2.pkl_207.npy',\n",
       " '/Volumes/Dropbox/largetransfer/luc/carter/data/models/rfc2.pkl_208.npy',\n",
       " '/Volumes/Dropbox/largetransfer/luc/carter/data/models/rfc2.pkl_209.npy',\n",
       " '/Volumes/Dropbox/largetransfer/luc/carter/data/models/rfc2.pkl_210.npy',\n",
       " '/Volumes/Dropbox/largetransfer/luc/carter/data/models/rfc2.pkl_211.npy',\n",
       " '/Volumes/Dropbox/largetransfer/luc/carter/data/models/rfc2.pkl_212.npy',\n",
       " '/Volumes/Dropbox/largetransfer/luc/carter/data/models/rfc2.pkl_213.npy',\n",
       " '/Volumes/Dropbox/largetransfer/luc/carter/data/models/rfc2.pkl_214.npy',\n",
       " '/Volumes/Dropbox/largetransfer/luc/carter/data/models/rfc2.pkl_215.npy',\n",
       " '/Volumes/Dropbox/largetransfer/luc/carter/data/models/rfc2.pkl_216.npy',\n",
       " '/Volumes/Dropbox/largetransfer/luc/carter/data/models/rfc2.pkl_217.npy',\n",
       " '/Volumes/Dropbox/largetransfer/luc/carter/data/models/rfc2.pkl_218.npy',\n",
       " '/Volumes/Dropbox/largetransfer/luc/carter/data/models/rfc2.pkl_219.npy',\n",
       " '/Volumes/Dropbox/largetransfer/luc/carter/data/models/rfc2.pkl_220.npy',\n",
       " '/Volumes/Dropbox/largetransfer/luc/carter/data/models/rfc2.pkl_221.npy',\n",
       " '/Volumes/Dropbox/largetransfer/luc/carter/data/models/rfc2.pkl_222.npy',\n",
       " '/Volumes/Dropbox/largetransfer/luc/carter/data/models/rfc2.pkl_223.npy',\n",
       " '/Volumes/Dropbox/largetransfer/luc/carter/data/models/rfc2.pkl_224.npy',\n",
       " '/Volumes/Dropbox/largetransfer/luc/carter/data/models/rfc2.pkl_225.npy',\n",
       " '/Volumes/Dropbox/largetransfer/luc/carter/data/models/rfc2.pkl_226.npy',\n",
       " '/Volumes/Dropbox/largetransfer/luc/carter/data/models/rfc2.pkl_227.npy',\n",
       " '/Volumes/Dropbox/largetransfer/luc/carter/data/models/rfc2.pkl_228.npy',\n",
       " '/Volumes/Dropbox/largetransfer/luc/carter/data/models/rfc2.pkl_229.npy',\n",
       " '/Volumes/Dropbox/largetransfer/luc/carter/data/models/rfc2.pkl_230.npy',\n",
       " '/Volumes/Dropbox/largetransfer/luc/carter/data/models/rfc2.pkl_231.npy',\n",
       " '/Volumes/Dropbox/largetransfer/luc/carter/data/models/rfc2.pkl_232.npy',\n",
       " '/Volumes/Dropbox/largetransfer/luc/carter/data/models/rfc2.pkl_233.npy',\n",
       " '/Volumes/Dropbox/largetransfer/luc/carter/data/models/rfc2.pkl_234.npy',\n",
       " '/Volumes/Dropbox/largetransfer/luc/carter/data/models/rfc2.pkl_235.npy',\n",
       " '/Volumes/Dropbox/largetransfer/luc/carter/data/models/rfc2.pkl_236.npy',\n",
       " '/Volumes/Dropbox/largetransfer/luc/carter/data/models/rfc2.pkl_237.npy',\n",
       " '/Volumes/Dropbox/largetransfer/luc/carter/data/models/rfc2.pkl_238.npy',\n",
       " '/Volumes/Dropbox/largetransfer/luc/carter/data/models/rfc2.pkl_239.npy',\n",
       " '/Volumes/Dropbox/largetransfer/luc/carter/data/models/rfc2.pkl_240.npy',\n",
       " '/Volumes/Dropbox/largetransfer/luc/carter/data/models/rfc2.pkl_241.npy',\n",
       " '/Volumes/Dropbox/largetransfer/luc/carter/data/models/rfc2.pkl_242.npy',\n",
       " '/Volumes/Dropbox/largetransfer/luc/carter/data/models/rfc2.pkl_243.npy',\n",
       " '/Volumes/Dropbox/largetransfer/luc/carter/data/models/rfc2.pkl_244.npy',\n",
       " '/Volumes/Dropbox/largetransfer/luc/carter/data/models/rfc2.pkl_245.npy',\n",
       " '/Volumes/Dropbox/largetransfer/luc/carter/data/models/rfc2.pkl_246.npy',\n",
       " '/Volumes/Dropbox/largetransfer/luc/carter/data/models/rfc2.pkl_247.npy',\n",
       " '/Volumes/Dropbox/largetransfer/luc/carter/data/models/rfc2.pkl_248.npy',\n",
       " '/Volumes/Dropbox/largetransfer/luc/carter/data/models/rfc2.pkl_249.npy',\n",
       " '/Volumes/Dropbox/largetransfer/luc/carter/data/models/rfc2.pkl_250.npy',\n",
       " '/Volumes/Dropbox/largetransfer/luc/carter/data/models/rfc2.pkl_251.npy']"
      ]
     },
     "execution_count": 81,
     "metadata": {},
     "output_type": "execute_result"
    }
   ],
   "source": [
    "joblib.dump(rfc, path+'/data/models/rfc2.pkl') "
   ]
  },
  {
   "cell_type": "code",
   "execution_count": 9,
   "metadata": {
    "collapsed": false
   },
   "outputs": [
    {
     "name": "stdout",
     "output_type": "stream",
     "text": [
      "{'res': 0.7841283585782556} {'res': 0.6303030303030304} 0.621414913957935 0.6394490900147565\n"
     ]
    }
   ],
   "source": [
    "dat = pd.DataFrame([rfc.predict_proba(X_test)[:,1], y_test, rfc.predict(X_test)]).T\n",
    "dat = dat.rename(columns={0:'prob',1:'act',2:'pred'})\n",
    "\n",
    "# sns.distplot(dat[(dat.act==1)&(dat.pred==1)].prob);\n",
    "# sns.distplot(dat[(dat.act==0)&(dat.pred==1)].prob);\n",
    "# sns.distplot(dat[(dat.act==1)&(dat.pred==0)].prob);\n",
    "# sns.distplot(dat[(dat.act==0)&(dat.pred==0)].prob);\n",
    "# plt.legend(['True vacant','False vacant','False Occupied','True Occupied'])\n",
    "\n",
    "acc_neg = len(dat[(dat.act==0) & (dat.pred==0)])/len(dat[dat.act==0])\n",
    "acc_pos = len(dat[(dat.act==1) & (dat.pred==1)])/len(dat[dat.act==1])\n",
    "G = {}\n",
    "F = {}\n",
    "G['res'] = (acc_neg*acc_pos)**0.5\n",
    "prec = len(dat[(dat.act==1) & (dat.pred==1)])/len(dat[dat.pred==1])\n",
    "F['res'] = 2*prec*acc_pos/(prec+acc_pos)\n",
    "print(G, F, prec, acc_pos)"
   ]
  },
  {
   "cell_type": "code",
   "execution_count": 8,
   "metadata": {
    "collapsed": false
   },
   "outputs": [],
   "source": [
    "# results = pd.DataFrame()\n",
    "# for j in range(2,6):\n",
    "#     rfc = RandomForestClassifier(n_estimators=50, min_samples_leaf=2*i, min_samples_split=3, \\\n",
    "#                                      class_weight={0:1, 1:8}, \\\n",
    "#                                      max_features=20, random_state=0, max_depth=40)\n",
    "#     rfc = rfc.fit(X_train, y_train)\n",
    "#     res = {}\n",
    "#     for i in range(0,21):\n",
    "#         # copy = y_test.copy()\n",
    "#         p = i/20\n",
    "#         copy = pd.Series(rfc.predict_proba(X_test)[:,1],index=y_test.index)\n",
    "#         res[p] = {('correct_'+str(2*j)): sum(y_test[copy.sort_values(ascending=False)[:int(len(X_test)*p)].index]), \\\n",
    "#                   ('searched_'+str(2*j)): len(y_test[copy.sort_values(ascending=False)[:int(len(X_test)*p)].index]), \\\n",
    "#                   ('percent_'+str(2*j)): sum(y_test[copy.sort_values(ascending=False)[:int(len(X_test)*p)].index])/sum(y_test) }\n",
    "#     #     sum(y_test[copy.sort_values(ascending=False)[:int(len(X_test)*p)].index]), len(y_test[copy.sort_values(ascending=False)[:int(len(X_test)*p)].index]), sum(y_test)\n",
    "#     res = pd.DataFrame(res).T\n",
    "#     results = pd.concat([results,res], axis=1)#, axis=1,keys=['a','b'])\n",
    "# #     plt.plot(res.index, res.percent)\n",
    "# sound()"
   ]
  },
  {
   "cell_type": "code",
   "execution_count": 10,
   "metadata": {
    "collapsed": false
   },
   "outputs": [
    {
     "data": {
      "text/plain": [
       "[<matplotlib.lines.Line2D at 0x1138b8860>]"
      ]
     },
     "execution_count": 10,
     "metadata": {},
     "output_type": "execute_result"
    },
    {
     "data": {
      "image/png": "[encoded data removed]",
      "text/plain": [
       "<matplotlib.figure.Figure at 0x112559cf8>"
      ]
     },
     "metadata": {},
     "output_type": "display_data"
    }
   ],
   "source": [
    "res = {}\n",
    "for i in range(0,21):\n",
    "    # copy = y_test.copy()\n",
    "    p = i/20\n",
    "    copy = pd.Series(rfc.predict_proba(X_test)[:,1],index=y_test.index)\n",
    "    res[p] = {'correct': sum(y_test[copy.sort_values(ascending=False)[:int(len(X_test)*p)].index]), \\\n",
    "              'searched': len(y_test[copy.sort_values(ascending=False)[:int(len(X_test)*p)].index]), \\\n",
    "              'percent': sum(y_test[copy.sort_values(ascending=False)[:int(len(X_test)*p)].index])/sum(y_test) }\n",
    "#     sum(y_test[copy.sort_values(ascending=False)[:int(len(X_test)*p)].index]), len(y_test[copy.sort_values(ascending=False)[:int(len(X_test)*p)].index]), sum(y_test)\n",
    "res = pd.DataFrame(res).T\n",
    "\n",
    "# plt.plot(res.index, res.percent)"
   ]
  },
  {
   "cell_type": "code",
   "execution_count": 10,
   "metadata": {
    "collapsed": false
   },
   "outputs": [],
   "source": [
    "# from sklearn.grid_search import GridSearchCV,RandomizedSearchCV\n",
    "# from time import time\n",
    "# from operator import itemgetter\n",
    "# from scipy.stats import randint as sp_randint\n",
    "\n",
    "# param_dist = {\"max_depth\": sp_randint(10, 50),\n",
    "#               \"max_features\": sp_randint(5, 15),\n",
    "#               \"min_samples_split\": sp_randint(1, 11),\n",
    "#               \"min_samples_leaf\": sp_randint(1, 11),\n",
    "#               \"bootstrap\": [True, False],\n",
    "#               \"criterion\": [\"gini\", \"entropy\"]}\n",
    "\n",
    "# n_iter_search = 20\n",
    "# random_search = RandomizedSearchCV(rfc, param_distributions=param_dist,\n",
    "#                                    n_iter=n_iter_search)\n",
    "\n",
    "# start = time()\n",
    "# random_search.fit(train[features], y)\n",
    "# print(\"RandomizedSearchCV took %.2f seconds for %d candidates\"\n",
    "#       \" parameter settings.\" % ((time() - start), n_iter_search))\n"
   ]
  },
  {
   "cell_type": "code",
   "execution_count": 11,
   "metadata": {
    "collapsed": false
   },
   "outputs": [],
   "source": [
    "# # Utility function to report best scores\n",
    "# def report(grid_scores, n_top=3):\n",
    "#     top_scores = sorted(grid_scores, key=itemgetter(1), reverse=True)[:n_top]\n",
    "#     for i, score in enumerate(top_scores):\n",
    "#         print(\"Model with rank: {0}\".format(i + 1))\n",
    "#         print(\"Mean validation score: {0:.3f} (std: {1:.3f})\".format(\n",
    "#               score.mean_validation_score,\n",
    "#               np.std(score.cv_validation_scores)))\n",
    "#         print(\"Parameters: {0}\".format(score.parameters))\n",
    "#         print(\"\")\n",
    "# report(random_search.grid_scores_)"
   ]
  },
  {
   "cell_type": "code",
   "execution_count": 12,
   "metadata": {
    "collapsed": false
   },
   "outputs": [],
   "source": [
    "# tem = pd.DataFrame(rfc.predict_proba(test[features]))\n",
    "# tem['vacant'] = test['vacant'].values\n",
    "# tem = tem.sort_values(1, ascending=False)\n",
    "# test.loc[:,'pred'] = rfc.predict(test[features])"
   ]
  },
  {
   "cell_type": "code",
   "execution_count": 13,
   "metadata": {
    "collapsed": false
   },
   "outputs": [],
   "source": [
    "# def fun(x):\n",
    "#     if (x.pred == 1) & (x.vacant == 1):\n",
    "#         return 'TP'\n",
    "#     elif (x.pred == 1):\n",
    "#         return 'FP'\n",
    "#     elif (x.vacant == 1):\n",
    "#         return 'FN'\n",
    "#     else:\n",
    "#         return 'TN'\n",
    "# test.loc[:,'cat'] = test.apply(fun, axis=1)"
   ]
  },
  {
   "cell_type": "code",
   "execution_count": 14,
   "metadata": {
    "collapsed": false
   },
   "outputs": [],
   "source": [
    "# y2,_= pd.factorize(train.loc[train.index.isin(df[df.SPA_NAME.isin(west)].index)].vacant)\n",
    "\n",
    "# rfc = RandomForestClassifier(n_estimators=50, min_samples_leaf=10, min_samples_split=2, \\\n",
    "#                                  class_weight={0:1, 1:1}, \\\n",
    "#                                  max_features=10, random_state=0, max_depth=20)\n",
    "# rfc = rfc.fit(train.loc[train.index.isin(df[df.SPA_NAME.isin(west)].index),features], y2)\n",
    "# sound()\n",
    "# print(pd.crosstab(test[test.index.isin(df[df.SPA_NAME.isin(west)].index)].vacant, \\\n",
    "#                   rfc.predict(test.loc[test.index.isin(df[df.SPA_NAME.isin(west)].index),features])))"
   ]
  },
  {
   "cell_type": "code",
   "execution_count": 15,
   "metadata": {
    "collapsed": true
   },
   "outputs": [],
   "source": [
    "# west = ['Bellaire-Puritas','Brooklyn Centre','Clark-Fulton','Cudell','Detroit Shoreway','Edgewater'\\\n",
    "#        ,'Jefferson',\"Kamm's\",'Ohio City','Old Brooklyn','Stockyards','Tremont','West Boulevard']\n",
    "# cols = ['GRAND_TOTAL_BALANCE','TAX_MARKET_LAND','sa_days','fc_days','c_ovv_2yr','pv_total',\\\n",
    "#         'tmktval','propsize','condition_value14','median_rent']"
   ]
  },
  {
   "cell_type": "markdown",
   "metadata": {},
   "source": [
    "## Importances"
   ]
  },
  {
   "cell_type": "code",
   "execution_count": 11,
   "metadata": {
    "collapsed": false
   },
   "outputs": [
    {
     "name": "stdout",
     "output_type": "stream",
     "text": [
      "Feature ranking:\n",
      "1. feature 26, days_since_ovv (0.191221)\n",
      "2. feature 22, pv_count (0.103524)\n",
      "3. feature 27, c_ovv_num (0.083146)\n",
      "4. feature 25, boarded (0.082586)\n",
      "5. feature 18, GRAND_TOTAL_PAID (0.067434)\n",
      "6. feature 21, paid_percent (0.047919)\n",
      "7. feature 31, fc_days (0.039934)\n",
      "8. feature 32, sa_days (0.039583)\n",
      "9. feature 37, al_days (0.025937)\n",
      "10. feature 38, price_per_sqft (0.025526)\n"
     ]
    },
    {
     "data": {
      "image/png": "[encoded data removed]",
      "text/plain": [
       "<matplotlib.figure.Figure at 0x1107120b8>"
      ]
     },
     "metadata": {},
     "output_type": "display_data"
    }
   ],
   "source": [
    "# plot the top ten features\n",
    "\n",
    "importances = rfc.feature_importances_\n",
    "std = np.std([tree.feature_importances_ for tree in rfc.estimators_],\n",
    "             axis=0)\n",
    "indices = np.argsort(importances)[::-1]\n",
    "\n",
    "# Print the feature ranking\n",
    "print(\"Feature ranking:\")\n",
    "\n",
    "for f in range(10):\n",
    "    print(\"%d. feature %d, %s (%f)\" % (f + 1, indices[f], features[indices[f]], importances[indices[f]]))\n",
    "    \n",
    "# Plot the feature importances of the forest\n",
    "plt.figure()\n",
    "plt.title(\"Feature importances\")\n",
    "plt.bar(range(10), importances[indices[0:10]], yerr=std[indices[0:10]], align=\"center\")\n",
    "plt.xticks(range(10), indices[0:10])\n",
    "plt.xlim([-1, 10])\n",
    "plt.show()"
   ]
  },
  {
   "cell_type": "code",
   "execution_count": 12,
   "metadata": {
    "collapsed": false
   },
   "outputs": [
    {
     "name": "stdout",
     "output_type": "stream",
     "text": [
      "Feature ranking (least important):\n",
      "1. feature 12, lb_acquired (0.000000)\n",
      "2. feature 13, lb_tax_fc (0.000027)\n",
      "3. feature 28, active_fc (0.000182)\n",
      "4. feature 29, fc_1yr (0.000691)\n",
      "5. feature 10, totbldgs (0.002188)\n",
      "6. feature 1, occup (0.002249)\n",
      "7. feature 30, fc_2yr (0.002320)\n",
      "8. feature 2, rnumstor (0.003253)\n",
      "9. feature 0, cqual_num (0.003761)\n",
      "10. feature 9, ownerocc_value (0.004147)\n"
     ]
    },
    {
     "data": {
      "image/png": "[encoded data removed]",
      "text/plain": [
       "<matplotlib.figure.Figure at 0x117dfde80>"
      ]
     },
     "metadata": {},
     "output_type": "display_data"
    }
   ],
   "source": [
    "# Print the feature ranking\n",
    "features2 = pd.DataFrame(features).iloc[indices[0:10]][0].values\n",
    "\n",
    "print(\"Feature ranking (least important):\")\n",
    "\n",
    "for f in range(10):\n",
    "    print(\"%d. feature %d, %s (%f)\" % (f + 1, indices[-f-1], features[indices[-f-1]], importances[indices[-f-1]]))\n",
    "# Plot the feature importances of the forest\n",
    "plt.figure()\n",
    "plt.title(\"Feature importances\")\n",
    "plt.bar(range(10), importances[indices[-10:]], yerr=std[indices[-10:]], align=\"center\")\n",
    "plt.xticks(range(10), indices[-10:])\n",
    "plt.xlim([-1, 10])\n",
    "plt.show()"
   ]
  },
  {
   "cell_type": "markdown",
   "metadata": {},
   "source": [
    "### Logistic Regressor"
   ]
  },
  {
   "cell_type": "code",
   "execution_count": 18,
   "metadata": {
    "collapsed": true
   },
   "outputs": [],
   "source": [
    "# features2 = ['c_O.V.V._2yr', 'pv_total','GRAND_TOTAL_BALANCE','condition_value','vacant',\\\n",
    "#              'totusabl', 'tmktval', 'fc_days', 'days_since_transfer', 'propsize', 'yrbuilt_filtered', 'al_days']\n",
    "\n",
    "# # features2 = ['c_O.V.V._2yr', 'pv_total','GRAND_TOTAL_BALANCE','condition_value','vacant']"
   ]
  },
  {
   "cell_type": "code",
   "execution_count": 19,
   "metadata": {
    "collapsed": false
   },
   "outputs": [],
   "source": [
    "# train_lr = preprocessing.scale(X_train)\n",
    "# test_lr = preprocessing.scale(X_test)\n",
    "\n",
    "# lr = LogisticRegression(class_weight={0:1, 1:2}, random_state=1001)\n",
    "# lr.fit(pd.DataFrame(train_lr, columns = features), y_train)\n",
    "# pd.crosstab(y_test,lr.predict(test_lr))"
   ]
  },
  {
   "cell_type": "code",
   "execution_count": 13,
   "metadata": {
    "collapsed": false
   },
   "outputs": [
    {
     "data": {
      "text/html": [
       "<div>\n",
       "<table border=\"1\" class=\"dataframe\">\n",
       "  <thead>\n",
       "    <tr style=\"text-align: right;\">\n",
       "      <th>predicted by LR</th>\n",
       "      <th>0</th>\n",
       "      <th>1</th>\n",
       "    </tr>\n",
       "    <tr>\n",
       "      <th>vacant</th>\n",
       "      <th></th>\n",
       "      <th></th>\n",
       "    </tr>\n",
       "  </thead>\n",
       "  <tbody>\n",
       "    <tr>\n",
       "      <th>0</th>\n",
       "      <td>19819</td>\n",
       "      <td>775</td>\n",
       "    </tr>\n",
       "    <tr>\n",
       "      <th>1</th>\n",
       "      <td>792</td>\n",
       "      <td>1241</td>\n",
       "    </tr>\n",
       "  </tbody>\n",
       "</table>\n",
       "</div>"
      ],
      "text/plain": [
       "predicted by LR      0     1\n",
       "vacant                      \n",
       "0                19819   775\n",
       "1                  792  1241"
      ]
     },
     "execution_count": 13,
     "metadata": {},
     "output_type": "execute_result"
    }
   ],
   "source": [
    "lr = LogisticRegression(class_weight={0:1, 1:3}, random_state=1001)\n",
    "lr.fit(pd.DataFrame(X_train, columns = features), y_train)\n",
    "# pd.crosstab(y_test,lr.predict(X_test))\n",
    "\n",
    "pd.crosstab(y_test,lr.predict(X_test),colnames=['predicted by LR'])"
   ]
  },
  {
   "cell_type": "code",
   "execution_count": 14,
   "metadata": {
    "collapsed": false
   },
   "outputs": [
    {
     "name": "stdout",
     "output_type": "stream",
     "text": [
      "{'log_res': 0.766456860763771, 'res': 0.7841283585782556} {'log_res': 0.6129908619412201, 'res': 0.6303030303030304} 0.6155753968253969 0.6104279390063945\n"
     ]
    }
   ],
   "source": [
    "dat = pd.DataFrame([lr.predict_proba(X_test)[:,1], y_test, lr.predict(X_test)]).T\n",
    "dat = dat.rename(columns={0:'prob',1:'act',2:'pred'})\n",
    "\n",
    "# sns.distplot(dat[(dat.act==1)&(dat.pred==1)].prob);\n",
    "# sns.distplot(dat[(dat.act==0)&(dat.pred==1)].prob);\n",
    "# sns.distplot(dat[(dat.act==1)&(dat.pred==0)].prob);\n",
    "# sns.distplot(dat[(dat.act==0)&(dat.pred==0)].prob);\n",
    "# plt.legend(['True vacant','False vacant','False Occupied','True Occupied'])\n",
    "\n",
    "acc_neg = len(dat[(dat.act==0) & (dat.pred==0)])/len(dat[dat.act==0])\n",
    "acc_pos = len(dat[(dat.act==1) & (dat.pred==1)])/len(dat[dat.act==1])\n",
    "G['log_res'] = (acc_neg*acc_pos)**0.5\n",
    "prec = len(dat[(dat.act==1) & (dat.pred==1)])/len(dat[dat.pred==1])\n",
    "F['log_res'] = 2*prec*acc_pos/(prec+acc_pos)\n",
    "print(G, F, prec, acc_pos)"
   ]
  },
  {
   "cell_type": "code",
   "execution_count": 15,
   "metadata": {
    "collapsed": false
   },
   "outputs": [
    {
     "data": {
      "text/plain": [
       "[<matplotlib.lines.Line2D at 0x117df7668>]"
      ]
     },
     "execution_count": 15,
     "metadata": {},
     "output_type": "execute_result"
    },
    {
     "data": {
      "image/png": "[encoded data removed]",
      "text/plain": [
       "<matplotlib.figure.Figure at 0x1146fdeb8>"
      ]
     },
     "metadata": {},
     "output_type": "display_data"
    }
   ],
   "source": [
    "log_res = {}\n",
    "for i in range(0,21):\n",
    "    # copy = y_test.copy()\n",
    "    p = i/20\n",
    "    copy = pd.Series(lr.predict_proba(X_test)[:,1],index=y_test.index)\n",
    "    log_res[p] = {'correct': sum(y_test[copy.sort_values(ascending=False)[:int(len(X_test)*p)].index]), \\\n",
    "              'searched': len(y_test[copy.sort_values(ascending=False)[:int(len(X_test)*p)].index]), \\\n",
    "              'percent': sum(y_test[copy.sort_values(ascending=False)[:int(len(X_test)*p)].index])/sum(y_test) }\n",
    "#     sum(y_test[copy.sort_values(ascending=False)[:int(len(X_test)*p)].index]), len(y_test[copy.sort_values(ascending=False)[:int(len(X_test)*p)].index]), sum(y_test)\n",
    "log_res = pd.DataFrame(log_res).T\n",
    "\n",
    "plt.plot(res.index, res.percent)\n",
    "plt.plot(log_res.index, log_res.percent)"
   ]
  },
  {
   "cell_type": "code",
   "execution_count": 16,
   "metadata": {
    "collapsed": false
   },
   "outputs": [
    {
     "name": "stdout",
     "output_type": "stream",
     "text": [
      "Feature ranking:\n",
      "1. feature 8, cond_val (-0.274380)\n",
      "2. feature 22, pv_count (0.201356)\n",
      "3. feature 24, v_total_2yr (0.122917)\n",
      "4. feature 23, v_total_1yr (0.092817)\n",
      "5. feature 20, delq_total_ratio (0.062587)\n",
      "6. feature 25, boarded (0.057779)\n",
      "7. feature 9, ownerocc_value (-0.051885)\n",
      "8. feature 21, paid_percent (-0.047829)\n",
      "9. feature 1, occup (0.043063)\n",
      "10. feature 30, fc_2yr (0.020713)\n",
      "11. feature 10, totbldgs (-0.016510)\n",
      "12. feature 0, cqual_num (-0.011174)\n",
      "13. feature 35, t_num (-0.009362)\n",
      "14. feature 38, price_per_sqft (-0.009214)\n",
      "15. feature 2, rnumstor (0.008393)\n",
      "\n",
      "Feature ranking (least important):\n",
      "1. feature 5, tmktval (0.000002)\n",
      "2. feature 6, mktbldg (-0.000016)\n",
      "3. feature 3, propsize (-0.000021)\n",
      "4. feature 19, GRAND_TOTAL_OWED (0.000051)\n",
      "5. feature 34, t_shf_deed (0.000053)\n",
      "6. feature 33, t_days (-0.000056)\n",
      "7. feature 7, mktland (0.000060)\n",
      "8. feature 18, GRAND_TOTAL_PAID (-0.000070)\n",
      "9. feature 4, totusabl (0.000098)\n",
      "10. feature 32, sa_days (-0.000129)\n"
     ]
    }
   ],
   "source": [
    "importances = lr.coef_[0]\n",
    "# std = np.std([tree.feature_importances_ for tree in lr.estimators_],\n",
    "#              axis=0)\n",
    "indices = np.argsort(abs(importances))[::-1]\n",
    "\n",
    "# Print the feature ranking\n",
    "print(\"Feature ranking:\")\n",
    "\n",
    "for f in range(15):\n",
    "    print(\"%d. feature %d, %s (%f)\" % (f + 1, indices[f], features[indices[f]], importances[indices[f]]))\n",
    "print(\"\\nFeature ranking (least important):\")\n",
    "for f in range(10):\n",
    "    print(\"%d. feature %d, %s (%f)\" % (f + 1, indices[-f-1], features[indices[-f-1]], importances[indices[-f-1]]))"
   ]
  },
  {
   "cell_type": "code",
   "execution_count": 80,
   "metadata": {
    "collapsed": false
   },
   "outputs": [
    {
     "data": {
      "text/plain": [
       "['/Volumes/Dropbox/largetransfer/luc/carter/data/models/lr2.pkl',\n",
       " '/Volumes/Dropbox/largetransfer/luc/carter/data/models/lr2.pkl_01.npy',\n",
       " '/Volumes/Dropbox/largetransfer/luc/carter/data/models/lr2.pkl_02.npy',\n",
       " '/Volumes/Dropbox/largetransfer/luc/carter/data/models/lr2.pkl_03.npy']"
      ]
     },
     "execution_count": 80,
     "metadata": {},
     "output_type": "execute_result"
    }
   ],
   "source": [
    "joblib.dump(lr, path+'/data/models/lr2.pkl') "
   ]
  },
  {
   "cell_type": "markdown",
   "metadata": {},
   "source": [
    "### Gradient boosted classifier"
   ]
  },
  {
   "cell_type": "code",
   "execution_count": 17,
   "metadata": {
    "collapsed": false
   },
   "outputs": [],
   "source": [
    "from sklearn.ensemble import AdaBoostClassifier\n",
    "from sklearn.ensemble import GradientBoostingClassifier\n",
    "\n",
    "# est = GradientBoostingClassifier(n_estimators=300, learning_rate=0.7,\n",
    "#     max_depth=1, random_state=0).fit(X_train, y_train)\n",
    "# clf.score(train[features], y)                 "
   ]
  },
  {
   "cell_type": "code",
   "execution_count": 25,
   "metadata": {
    "collapsed": false
   },
   "outputs": [],
   "source": [
    "# from sklearn.ensemble import GradientBoostingClassifier\n",
    "\n",
    "# est = GradientBoostingClassifier(n_estimators=500, learning_rate=0.7,\n",
    "#     max_depth=1, random_state=0).fit(X_train, y_train)\n",
    "# # clf.score(train[features], y)                 \n",
    "# pd.crosstab(y_test, est.predict(X_test))"
   ]
  },
  {
   "cell_type": "code",
   "execution_count": 26,
   "metadata": {
    "collapsed": false
   },
   "outputs": [],
   "source": [
    "# dat = pd.DataFrame([est.predict_proba(X_test)[:,1], y_test, est.predict(X_test)]).T\n",
    "# dat = dat.rename(columns={0:'prob',1:'act',2:'pred'})\n",
    "\n",
    "# sns.distplot(dat[(dat.act==1)&(dat.pred==1)].prob);\n",
    "# sns.distplot(dat[(dat.act==0)&(dat.pred==1)].prob);\n",
    "# sns.distplot(dat[(dat.act==1)&(dat.pred==0)].prob);\n",
    "# sns.distplot(dat[(dat.act==0)&(dat.pred==0)].prob);\n",
    "# plt.legend(['True vacant','False vacant','False Occupied','True Occupied'])"
   ]
  },
  {
   "cell_type": "code",
   "execution_count": 27,
   "metadata": {
    "collapsed": false
   },
   "outputs": [],
   "source": [
    "# gbm_res = {}\n",
    "# for i in range(0,21):\n",
    "#     # copy = y_test.copy()\n",
    "#     p = i/20\n",
    "#     copy = pd.Series(est.predict_proba(X_test)[:,1],index=y_test.index)\n",
    "#     gbm_res[p] = {'correct': sum(y_test[copy.sort_values(ascending=False)[:int(len(X_test)*p)].index]), \\\n",
    "#               'searched': len(y_test[copy.sort_values(ascending=False)[:int(len(X_test)*p)].index]), \\\n",
    "#               'percent': sum(y_test[copy.sort_values(ascending=False)[:int(len(X_test)*p)].index])/sum(y_test) }\n",
    "# #     sum(y_test[copy.sort_values(ascending=False)[:int(len(X_test)*p)].index]), len(y_test[copy.sort_values(ascending=False)[:int(len(X_test)*p)].index]), sum(y_test)\n",
    "# gbm_res = pd.DataFrame(gbm_res).T\n",
    "\n",
    "# plt.plot(res.index, res.percent)\n",
    "# plt.plot(log_res.index, log_res.percent)\n",
    "# plt.plot(gbm_res.index, gbm_res.percent)\n",
    "# plt.legend(['Random forest','Logistic regression','Gradient boosted trees'],loc='lower right');"
   ]
  },
  {
   "cell_type": "code",
   "execution_count": 28,
   "metadata": {
    "collapsed": false
   },
   "outputs": [],
   "source": [
    "# n_estimators = len(est.estimators_)\n",
    "\n",
    "# def deviance_plot(est, X_test, y_test, ax=None, label='', train_color='#2c7bb6',\n",
    "#                   test_color='#d7191c', alpha=1.0):\n",
    "#     \"\"\"Deviance plot for ``est``, use ``X_test`` and ``y_test`` for test error. \"\"\"\n",
    "#     test_dev = np.empty(n_estimators)\n",
    "\n",
    "#     for i, pred in enumerate(est.staged_predict(X_test)):\n",
    "#        test_dev[i] = est.loss_(y_test, pred)\n",
    "\n",
    "#     if ax is None:\n",
    "#         fig = plt.figure(figsize=(7, 5))\n",
    "#         ax = plt.gca()\n",
    "\n",
    "#     ax.plot(np.arange(n_estimators) + 1, test_dev, color=test_color, label='Test %s' % label,\n",
    "#              linewidth=2, alpha=alpha)\n",
    "#     ax.plot(np.arange(n_estimators) + 1, est.train_score_, color=train_color,\n",
    "#              label='Train %s' % label, linewidth=2, alpha=alpha)\n",
    "#     ax.set_ylabel('Error')\n",
    "#     ax.set_xlabel('n_estimators')\n",
    "# #     ax.set_ylim((0, 2))\n",
    "#     return test_dev, ax\n",
    "\n",
    "# test_dev, ax = deviance_plot(est, X_test, y_test)\n",
    "# ax.legend(loc=[0.8,0.8])\n",
    "\n",
    "# # add some annotations\n",
    "# # ax.annotate('Lowest test error', xy=(test_dev.argmin() + 1, test_dev.min() + 0.02), xycoords='data',\\\n",
    "# #             xytext=(50, 1.0), textcoords='data',\\\n",
    "# #             arrowprops=dict(arrowstyle=\"->\", connectionstyle=\"arc\"),\\\n",
    "# #             )\n",
    "\n",
    "# ann = ax.annotate('', xy=(150, test_dev[149]),  xycoords='data',\\\n",
    "#                   xytext=(150, est.train_score_[149]), textcoords='data',\\\n",
    "#                   arrowprops=dict(arrowstyle=\"<->\"))\n",
    "# ax.text(160, 0.85, 'train-test gap')"
   ]
  },
  {
   "cell_type": "code",
   "execution_count": 29,
   "metadata": {
    "collapsed": false
   },
   "outputs": [],
   "source": [
    "# fig = plt.figure(figsize=(8, 5))\n",
    "# ax = plt.gca()\n",
    "# for params, (test_color, train_color) in [({}, ('#d7191c', '#2c7bb6')),\n",
    "#                                           ({'learning_rate': 0.1},\n",
    "#                                            ('#fdae61', '#abd9e9'))]:\n",
    "#     est = GradientBoostingClassifier(n_estimators=n_estimators, max_depth=1, learning_rate=1.0)\n",
    "#     est.set_params(**params)\n",
    "#     est.fit(X_train, y_train)\n",
    "\n",
    "#     test_dev, ax = deviance_plot(est, X_test, y_test, ax=ax, label=fmt_params(params),\n",
    "#                                  train_color=train_color, test_color=test_color)\n",
    "\n",
    "# ax.annotate('Requires more trees', xy=(200, est.train_score_[199]), xycoords='data',\n",
    "#             xytext=(300, 1.0), textcoords='data',\n",
    "#             arrowprops=dict(arrowstyle=\"->\", connectionstyle=\"arc\"),\n",
    "#             )\n",
    "# ax.annotate('Lower test error', xy=(900, test_dev[899]), xycoords='data',\n",
    "#             xytext=(600, 0.5), textcoords='data',\n",
    "#             arrowprops=dict(arrowstyle=\"->\", connectionstyle=\"arc\"),\n",
    "#             )\n",
    "# plt.legend(loc='upper right')"
   ]
  },
  {
   "cell_type": "code",
   "execution_count": 30,
   "metadata": {
    "collapsed": false
   },
   "outputs": [],
   "source": [
    "# abc = AdaBoostClassifier(random_state=0)\n",
    "# abc.fit(X_train, y_train)\n",
    "# pd.crosstab(y_test, abc.predict(X_test), rownames=['actual'], colnames=['preds'])"
   ]
  },
  {
   "cell_type": "code",
   "execution_count": 31,
   "metadata": {
    "collapsed": true
   },
   "outputs": [],
   "source": [
    "# abc_res = {}\n",
    "# for i in range(0,21):\n",
    "#     # copy = y_test.copy()\n",
    "#     p = i/20\n",
    "#     copy = pd.Series(abc.predict_proba(X_test)[:,1],index=y_test.index)\n",
    "#     abc_res[p] = {'correct': sum(y_test[copy.sort_values(ascending=False)[:int(len(X_test)*p)].index]), \\\n",
    "#               'searched': len(y_test[copy.sort_values(ascending=False)[:int(len(X_test)*p)].index]), \\\n",
    "#               'percent': sum(y_test[copy.sort_values(ascending=False)[:int(len(X_test)*p)].index])/sum(y_test) }\n",
    "# #     sum(y_test[copy.sort_values(ascending=False)[:int(len(X_test)*p)].index]), len(y_test[copy.sort_values(ascending=False)[:int(len(X_test)*p)].index]), sum(y_test)\n",
    "# abc_res = pd.DataFrame(abc_res).T"
   ]
  },
  {
   "cell_type": "code",
   "execution_count": 32,
   "metadata": {
    "collapsed": false
   },
   "outputs": [],
   "source": [
    "# sns.set_context('notebook')\n",
    "# plt.plot(res.index, res.percent)\n",
    "# plt.plot(log_res.index, log_res.percent)\n",
    "# plt.plot(xgb_res.index, xgb_res.percent)\n",
    "# plt.plot(abc_res.index, abc_res.percent)\n",
    "# plt.plot([0,sum(y_test)/len(y_test)],[0,1],'k--',linewidth=1)\n",
    "# plt.xlabel('Fraction of homes inspected')\n",
    "# plt.ylabel('Fraction of vacant identified')\n",
    "# # plt.set_xticklabels(fontsize='small')\n",
    "# # plt.axis([-0.05,1.05,-0.05,1.05])\n",
    "# plt.legend(['Random forest','Logistic regression','Gradient boosted trees','Perfect classifier'],loc='lower right');\n",
    "# plt.savefig(path+'/outputs/model_inspection_comparison.ps')"
   ]
  },
  {
   "cell_type": "markdown",
   "metadata": {},
   "source": [
    "### Single decision tree"
   ]
  },
  {
   "cell_type": "code",
   "execution_count": 33,
   "metadata": {
    "collapsed": false
   },
   "outputs": [],
   "source": [
    "# from sklearn import tree"
   ]
  },
  {
   "cell_type": "code",
   "execution_count": 34,
   "metadata": {
    "collapsed": false
   },
   "outputs": [],
   "source": [
    "# leafs = range(1,20,1)\n",
    "# scores = []\n",
    "# for leaf in leafs:\n",
    "#     clf = tree.DecisionTreeClassifier(class_weight='auto', min_samples_leaf=leaf)\n",
    "#     scores.append(cross_val_score(clf, df[features], df.vacant, cv=10, scoring='accuracy').mean())\n",
    "# plt.plot(leafs, scores, '--');"
   ]
  },
  {
   "cell_type": "code",
   "execution_count": 35,
   "metadata": {
    "collapsed": false
   },
   "outputs": [],
   "source": [
    "# clf = tree.DecisionTreeClassifier(class_weight={0:1,1:2}, min_samples_leaf=12)\n",
    "# clf = clf.fit(X_train, y_train)"
   ]
  },
  {
   "cell_type": "code",
   "execution_count": 36,
   "metadata": {
    "collapsed": false
   },
   "outputs": [],
   "source": [
    "# pd.crosstab(y_test, clf.predict(X_test), rownames=['actual'], colnames=['preds'])"
   ]
  },
  {
   "cell_type": "markdown",
   "metadata": {},
   "source": [
    "## xgboost"
   ]
  },
  {
   "cell_type": "code",
   "execution_count": 73,
   "metadata": {
    "collapsed": false
   },
   "outputs": [],
   "source": [
    "import xgboost as xgb\n",
    "\n",
    "# xgtest = X_test.as_matrix()\n",
    "# #create train and validation dmatrices \n",
    "# xgtrain = X_train.as_matrix()\n",
    "\n",
    "# gbm = xgb.XGBClassifier(seed=0).fit(xgtrain, y_train)\n",
    "# predictions = gbm.predict(xgtest)\n",
    "# probs = gbm.predict_proba(xgtest)\n",
    "# pd.crosstab(y_test,predictions)"
   ]
  },
  {
   "cell_type": "code",
   "execution_count": 67,
   "metadata": {
    "collapsed": false
   },
   "outputs": [],
   "source": [
    "dtrain = xgb.DMatrix(X_train, label=y_train)\n",
    "dtest = xgb.DMatrix(X_test, label=y_test)\n",
    "\n",
    "params = {\"objective\": \"binary:logistic\"}\n",
    "gbm = xgb.train(params, dtrain, 20)"
   ]
  },
  {
   "cell_type": "code",
   "execution_count": 75,
   "metadata": {
    "collapsed": false
   },
   "outputs": [],
   "source": [
    "gbm.save_model(path+'/data/models/gbm2.pkl')\n",
    "bst = xgb.Booster() #init model\n",
    "bst.load_model(path+'/data/models/gbm2.pkl')"
   ]
  },
  {
   "cell_type": "code",
   "execution_count": 56,
   "metadata": {
    "collapsed": false
   },
   "outputs": [],
   "source": [
    "t['preds'] = pd.Series(probs[:,1]+.23).apply(lambda x: int(round(x))).values"
   ]
  },
  {
   "cell_type": "code",
   "execution_count": 59,
   "metadata": {
    "collapsed": false
   },
   "outputs": [],
   "source": [
    "t[['preds']].to_csv(path+'/data/predictions/xgb.csv')"
   ]
  },
  {
   "cell_type": "code",
   "execution_count": 53,
   "metadata": {
    "collapsed": false
   },
   "outputs": [
    {
     "data": {
      "text/html": [
       "<div>\n",
       "<table border=\"1\" class=\"dataframe\">\n",
       "  <thead>\n",
       "    <tr style=\"text-align: right;\">\n",
       "      <th>predicted by GBM</th>\n",
       "      <th>0</th>\n",
       "      <th>1</th>\n",
       "    </tr>\n",
       "    <tr>\n",
       "      <th>actual</th>\n",
       "      <th></th>\n",
       "      <th></th>\n",
       "    </tr>\n",
       "  </thead>\n",
       "  <tbody>\n",
       "    <tr>\n",
       "      <th>0</th>\n",
       "      <td>79857</td>\n",
       "      <td>2643</td>\n",
       "    </tr>\n",
       "    <tr>\n",
       "      <th>1</th>\n",
       "      <td>2922</td>\n",
       "      <td>5083</td>\n",
       "    </tr>\n",
       "  </tbody>\n",
       "</table>\n",
       "</div>"
      ],
      "text/plain": [
       "predicted by GBM      0     1\n",
       "actual                       \n",
       "0                 79857  2643\n",
       "1                  2922  5083"
      ]
     },
     "execution_count": 53,
     "metadata": {},
     "output_type": "execute_result"
    }
   ],
   "source": [
    "probs_train = gbm.predict_proba(xgtrain)\n",
    "pd.crosstab(y_train,pd.Series(probs_train[:,1]+.23).apply(lambda x: int(round(x))).values,rownames=['actual'],colnames=['predicted by GBM'])"
   ]
  },
  {
   "cell_type": "code",
   "execution_count": 38,
   "metadata": {
    "collapsed": false
   },
   "outputs": [
    {
     "data": {
      "text/html": [
       "<div>\n",
       "<table border=\"1\" class=\"dataframe\">\n",
       "  <thead>\n",
       "    <tr style=\"text-align: right;\">\n",
       "      <th>predicted by GBM</th>\n",
       "      <th>0</th>\n",
       "      <th>1</th>\n",
       "    </tr>\n",
       "    <tr>\n",
       "      <th>actual</th>\n",
       "      <th></th>\n",
       "      <th></th>\n",
       "    </tr>\n",
       "  </thead>\n",
       "  <tbody>\n",
       "    <tr>\n",
       "      <th>0</th>\n",
       "      <td>19930</td>\n",
       "      <td>664</td>\n",
       "    </tr>\n",
       "    <tr>\n",
       "      <th>1</th>\n",
       "      <td>766</td>\n",
       "      <td>1267</td>\n",
       "    </tr>\n",
       "  </tbody>\n",
       "</table>\n",
       "</div>"
      ],
      "text/plain": [
       "predicted by GBM      0     1\n",
       "actual                       \n",
       "0                 19930   664\n",
       "1                   766  1267"
      ]
     },
     "execution_count": 38,
     "metadata": {},
     "output_type": "execute_result"
    }
   ],
   "source": [
    "pd.crosstab(y_test,pd.Series(probs[:,1]+.23).apply(lambda x: int(round(x))).values,rownames=['actual'],colnames=['predicted by GBM'])"
   ]
  },
  {
   "cell_type": "code",
   "execution_count": 19,
   "metadata": {
    "collapsed": false
   },
   "outputs": [],
   "source": [
    "xgb_res = {}\n",
    "for i in range(0,21):\n",
    "    # copy = y_test.copy()\n",
    "    p = i/20\n",
    "    copy = pd.Series(probs[:,1]+.22)\n",
    "#     copy = pd.Series(probs[:,1],index=y_test.index)\n",
    "    xgb_res[p] = {'correct': sum(y_test[copy.sort_values(ascending=False)[:int(len(X_test)*p)].index]), \\\n",
    "              'searched': len(y_test[copy.sort_values(ascending=False)[:int(len(X_test)*p)].index]), \\\n",
    "              'percent': sum(y_test[copy.sort_values(ascending=False)[:int(len(X_test)*p)].index])/sum(y_test) }\n",
    "#     sum(y_test[copy.sort_values(ascending=False)[:int(len(X_test)*p)].index]), len(y_test[copy.sort_values(ascending=False)[:int(len(X_test)*p)].index]), sum(y_test)\n",
    "xgb_res = pd.DataFrame(xgb_res).T"
   ]
  },
  {
   "cell_type": "code",
   "execution_count": 20,
   "metadata": {
    "collapsed": false
   },
   "outputs": [
    {
     "data": {
      "text/plain": [
       "<matplotlib.legend.Legend at 0x114740c18>"
      ]
     },
     "execution_count": 20,
     "metadata": {},
     "output_type": "execute_result"
    },
    {
     "data": {
      "image/png": "[encoded data removed]",
      "text/plain": [
       "<matplotlib.figure.Figure at 0x110210198>"
      ]
     },
     "metadata": {},
     "output_type": "display_data"
    }
   ],
   "source": [
    "# sns.set_context('notebook')\n",
    "# sns.set_style(\"whitegrid\")\n",
    "fig = plt.figure()\n",
    "# fig, ax = plt.subplots()\n",
    "# ax.plot(t, s)\n",
    "\n",
    "plot = fig.add_subplot(111)\n",
    "# ax.grid(True)\n",
    "ax = fig.gca()\n",
    "ax.grid(True)\n",
    "plot.tick_params(axis='both', labelsize=12)\n",
    "plt.plot(log_res.index, log_res.percent,linewidth=1.5)\n",
    "plt.plot(res.index, res.percent,linewidth=1.5)\n",
    "plt.plot(xgb_res.index, xgb_res.percent,linewidth=1.5)\n",
    "plt.plot([0,sum(y_test)/len(y_test)],[0,1],'k--',linewidth=1)\n",
    "plt.xlabel('Fraction of homes inspected',fontsize=12)\n",
    "plt.ylabel('Fraction of vacancies identified',fontsize=12)\n",
    "# plt.set_xticklabels(fontsize='small')\n",
    "# plt.axis([-0.05,1.05,-0.05,1.05])\n",
    "plt.legend(['Logistic regression','Random forest','Gradient boosted model','Perfect classifier'],loc='lower right',fontsize=12);\n",
    "# plt.savefig(path+'/outputs/model_inspection_comparison.pdf')"
   ]
  },
  {
   "cell_type": "code",
   "execution_count": 21,
   "metadata": {
    "collapsed": false
   },
   "outputs": [
    {
     "data": {
      "text/html": [
       "<div>\n",
       "<table border=\"1\" class=\"dataframe\">\n",
       "  <thead>\n",
       "    <tr style=\"text-align: right;\">\n",
       "      <th></th>\n",
       "      <th>Random forest</th>\n",
       "      <th>Logistic regression</th>\n",
       "      <th>Gradient boosted</th>\n",
       "    </tr>\n",
       "  </thead>\n",
       "  <tbody>\n",
       "    <tr>\n",
       "      <th>0.0</th>\n",
       "      <td>0</td>\n",
       "      <td>0</td>\n",
       "      <td>0</td>\n",
       "    </tr>\n",
       "    <tr>\n",
       "      <th>0.1</th>\n",
       "      <td>1328</td>\n",
       "      <td>1288</td>\n",
       "      <td>1349</td>\n",
       "    </tr>\n",
       "    <tr>\n",
       "      <th>0.2</th>\n",
       "      <td>1619</td>\n",
       "      <td>1598</td>\n",
       "      <td>1665</td>\n",
       "    </tr>\n",
       "    <tr>\n",
       "      <th>0.3</th>\n",
       "      <td>1755</td>\n",
       "      <td>1747</td>\n",
       "      <td>1792</td>\n",
       "    </tr>\n",
       "    <tr>\n",
       "      <th>0.4</th>\n",
       "      <td>1853</td>\n",
       "      <td>1834</td>\n",
       "      <td>1865</td>\n",
       "    </tr>\n",
       "    <tr>\n",
       "      <th>0.5</th>\n",
       "      <td>1908</td>\n",
       "      <td>1887</td>\n",
       "      <td>1921</td>\n",
       "    </tr>\n",
       "    <tr>\n",
       "      <th>0.6</th>\n",
       "      <td>1943</td>\n",
       "      <td>1944</td>\n",
       "      <td>1960</td>\n",
       "    </tr>\n",
       "    <tr>\n",
       "      <th>0.7</th>\n",
       "      <td>1975</td>\n",
       "      <td>1971</td>\n",
       "      <td>1988</td>\n",
       "    </tr>\n",
       "    <tr>\n",
       "      <th>0.8</th>\n",
       "      <td>1993</td>\n",
       "      <td>1994</td>\n",
       "      <td>2001</td>\n",
       "    </tr>\n",
       "    <tr>\n",
       "      <th>0.9</th>\n",
       "      <td>2011</td>\n",
       "      <td>2019</td>\n",
       "      <td>2022</td>\n",
       "    </tr>\n",
       "    <tr>\n",
       "      <th>1.0</th>\n",
       "      <td>2033</td>\n",
       "      <td>2033</td>\n",
       "      <td>2033</td>\n",
       "    </tr>\n",
       "  </tbody>\n",
       "</table>\n",
       "</div>"
      ],
      "text/plain": [
       "     Random forest  Logistic regression  Gradient boosted\n",
       "0.0              0                    0                 0\n",
       "0.1           1328                 1288              1349\n",
       "0.2           1619                 1598              1665\n",
       "0.3           1755                 1747              1792\n",
       "0.4           1853                 1834              1865\n",
       "0.5           1908                 1887              1921\n",
       "0.6           1943                 1944              1960\n",
       "0.7           1975                 1971              1988\n",
       "0.8           1993                 1994              2001\n",
       "0.9           2011                 2019              2022\n",
       "1.0           2033                 2033              2033"
      ]
     },
     "execution_count": 21,
     "metadata": {},
     "output_type": "execute_result"
    }
   ],
   "source": [
    "tem = pd.concat([res[['correct']].iloc[range(0,22,2)], \\\n",
    "           log_res[['correct']].iloc[range(0,22,2)],\\\n",
    "           xgb_res[['correct']].iloc[range(0,22,2)] ], axis=1)\n",
    "\n",
    "tem.columns = ['Random forest','Logistic regression','Gradient boosted']\n",
    "\n",
    "tem"
   ]
  },
  {
   "cell_type": "code",
   "execution_count": 42,
   "metadata": {
    "collapsed": false
   },
   "outputs": [
    {
     "name": "stdout",
     "output_type": "stream",
     "text": [
      "{'xgb_res': 0.7766098834830125, 'res': 0.77402133039418, 'log_res': 0.7659353480088515} {'xgb_res': 0.6392532795156407, 'res': 0.6205882352941177, 'log_res': 0.6109879280610989} 0.6561367167270844 0.6232169208066897\n"
     ]
    }
   ],
   "source": [
    "dat = pd.DataFrame([gbm.predict_proba(X_test)[:,1]+0.22, y_test, pd.Series(probs[:,1]+.23).apply(lambda x: int(round(x))).values]).T\n",
    "dat = dat.rename(columns={0:'prob',1:'act',2:'pred'})\n",
    "\n",
    "\n",
    "# sns.distplot(dat[(dat.act==1)&(dat.pred==1)].prob);\n",
    "# sns.distplot(dat[(dat.act==0)&(dat.pred==1)].prob);\n",
    "# sns.distplot(dat[(dat.act==1)&(dat.pred==0)].prob);\n",
    "# sns.distplot(dat[(dat.act==0)&(dat.pred==0)].prob);\n",
    "# plt.legend(['True vacant','False vacant','False Occupied','True Occupied'])\n",
    "\n",
    "acc_neg = len(dat[(dat.act==0) & (dat.pred==0)])/len(dat[dat.act==0])\n",
    "acc_pos = len(dat[(dat.act==1) & (dat.pred==1)])/len(dat[dat.act==1])\n",
    "G['xgb_res'] = (acc_neg*acc_pos)**0.5\n",
    "prec = len(dat[(dat.act==1) & (dat.pred==1)])/len(dat[dat.pred==1])\n",
    "F['xgb_res'] = 2*prec*acc_pos/(prec+acc_pos)\n",
    "print(G, F, prec, acc_pos)"
   ]
  },
  {
   "cell_type": "code",
   "execution_count": 22,
   "metadata": {
    "collapsed": false
   },
   "outputs": [
    {
     "data": {
      "text/plain": [
       "<matplotlib.text.Text at 0x11020dfd0>"
      ]
     },
     "execution_count": 22,
     "metadata": {},
     "output_type": "execute_result"
    },
    {
     "data": {
      "image/png": "[encoded data removed]",
      "text/plain": [
       "<matplotlib.figure.Figure at 0x113889160>"
      ]
     },
     "metadata": {},
     "output_type": "display_data"
    }
   ],
   "source": [
    "from sklearn.metrics import roc_curve\n",
    "\n",
    "fig = plt.figure(figsize=[5,5])\n",
    "plot = fig.add_subplot(111)\n",
    "\n",
    "ax = fig.gca()\n",
    "ax.grid(True)\n",
    "\n",
    "\n",
    "# The logistic regression\n",
    "y_pred_lr = lr.predict_proba(X_test)[:, 1]\n",
    "fpr_lr, tpr_lr, _ = roc_curve(y_test, y_pred_lr)\n",
    "\n",
    "# The random forest model by itself\n",
    "y_pred_rf = rfc.predict_proba(X_test)[:, 1]\n",
    "fpr_rf, tpr_rf, _ = roc_curve(y_test, y_pred_rf)\n",
    "\n",
    "# The random forest model by itself\n",
    "y_pred_gb = gbm.predict_proba(X_test)[:, 1]\n",
    "fpr_gb, tpr_gb, _ = roc_curve(y_test, y_pred_gb)\n",
    "\n",
    "plt.plot(fpr_lr, tpr_lr, label='Logistic regression')\n",
    "plt.plot(fpr_rf, tpr_rf, label='Random forest')\n",
    "plt.plot(fpr_gb, tpr_gb, label='Gradient boosted')\n",
    "plt.plot([0,1], [0,1],'k--')\n",
    "\n",
    "plt.legend(loc='lower right');\n",
    "plt.axis([0,1,0,1],'equal')\n",
    "plt.ylabel('True positive rate')\n",
    "plt.xlabel('False positive rate')\n",
    "\n",
    "# plt.savefig(path+'/outputs/model_ROC.pdf')."
   ]
  },
  {
   "cell_type": "code",
   "execution_count": null,
   "metadata": {
    "collapsed": true
   },
   "outputs": [],
   "source": []
  }
 ],
 "metadata": {
  "kernelspec": {
   "display_name": "Python 3",
   "language": "python",
   "name": "python3"
  },
  "language_info": {
   "codemirror_mode": {
    "name": "ipython",
    "version": 3
   },
   "file_extension": ".py",
   "mimetype": "text/x-python",
   "name": "python",
   "nbconvert_exporter": "python",
   "pygments_lexer": "ipython3",
   "version": "3.4.4"
  }
 },
 "nbformat": 4,
 "nbformat_minor": 0
}
