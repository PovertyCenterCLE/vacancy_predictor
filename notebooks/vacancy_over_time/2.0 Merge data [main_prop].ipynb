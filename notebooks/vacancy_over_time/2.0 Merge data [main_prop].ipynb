{
 "cells": [
  {
   "cell_type": "markdown",
   "metadata": {},
   "source": [
    "# 2.0 Combine Data from ```prop.csv```\n",
    "\n",
    "Data has now been filtered for the parcel numbers in the existing dataset. The end goal is to have a dataset with one row for each parcel in which to build the model. **Imputation will occur in a separate notebook!**\n",
    "\n",
    "However, we can't forget to explore the existing data for trends or insight along the way, as well as engineer features as we see fit."
   ]
  },
  {
   "cell_type": "code",
   "execution_count": 2,
   "metadata": {
    "collapsed": false
   },
   "outputs": [
    {
     "name": "stdout",
     "output_type": "stream",
     "text": [
      "/Volumes/Dropbox/largetransfer/luc/carter\n"
     ]
    }
   ],
   "source": [
    "import matplotlib.pyplot as plt\n",
    "import seaborn as sns\n",
    "import pandas as pd\n",
    "import numpy as np\n",
    "import os\n",
    "\n",
    "%matplotlib inline\n",
    "sns.set_context('notebook')\n",
    "\n",
    "path = '/'.join(os.getcwd().split('/')[:-2])\n",
    "print(path)\n",
    "\n",
    "# load the data\n",
    "tci = pd.read_csv(path+'/data/model_data/tci_1_0.csv', parse_dates=['Date'], dtype={'PIN': str})\n",
    "cols = ['parcel','vacant','Date','Survey Category','Survey Grade','SPA_NAME']\n",
    "tci = tci[cols]"
   ]
  },
  {
   "cell_type": "code",
   "execution_count": 3,
   "metadata": {
    "collapsed": false
   },
   "outputs": [
    {
     "data": {
      "text/plain": [
       "(113132, 6)"
      ]
     },
     "execution_count": 3,
     "metadata": {},
     "output_type": "execute_result"
    }
   ],
   "source": [
    "tci.shape"
   ]
  },
  {
   "cell_type": "code",
   "execution_count": 4,
   "metadata": {
    "collapsed": true
   },
   "outputs": [],
   "source": [
    "# date range\n",
    "rng = pd.date_range('10/1/2009', periods=23, freq='3MS')"
   ]
  },
  {
   "cell_type": "code",
   "execution_count": 5,
   "metadata": {
    "collapsed": false
   },
   "outputs": [],
   "source": [
    "# Residential characteristics\n",
    "res = pd.read_csv(path+'/data/clean_data/res.csv')\n",
    "\n",
    "cquals = {'Very poor': 1, 'Very poor+':2, 'Poor':3,'Poor+':4,'Average':5,'Average+':6,\\\n",
    "          'Good':7,'Good+':8,'Very good':9,'Very good+':10,'Excellent':11, 'Excellent+':12}\n",
    "# quality\n",
    "res['cqual_num'] = res[res.cqual.notnull()].apply(lambda x: cquals[x.cqual], axis=1)\n",
    "# occupied\n",
    "occup_dict = {'1 family':1, '2 family':2,'3 family':3,'4+family':4, '/':1}\n",
    "def occup_fun(x):\n",
    "    if x in occup_dict:\n",
    "        return occup_dict[x]\n",
    "    else: \n",
    "        return 1\n",
    "res['occup'] = res['occup'].apply(lambda x: occup_fun(x))\n",
    "\n",
    "res = res.set_index('parcel')"
   ]
  },
  {
   "cell_type": "code",
   "execution_count": 6,
   "metadata": {
    "collapsed": false
   },
   "outputs": [],
   "source": [
    "## THINGS THAT CAN BE DONE TO ENTIRE DATASETS\n",
    "# Property characteristics\n",
    "prop = pd.read_csv(path+'/data/clean_data/main_prop_all_years.csv')\n",
    "prop = prop.drop_duplicates()\n",
    "\n",
    "def parse_comma(x):\n",
    "    if type(x) == str:\n",
    "        x = int(x.replace(',',''))\n",
    "    elif type(x) == float:\n",
    "        if not np.isnan(x):\n",
    "            x = int(x)\n",
    "    return x\n",
    "# Property size, total usable area\n",
    "prop['propsize'] = prop['propsize'].apply(parse_comma)\n",
    "prop['totusabl'] = prop['totusabl'].apply(parse_comma)\n",
    "# Condition value\n",
    "condition_value = {'Unsound': 0, 'Sound value (c)': 1, 'Very poor': 2, 'Poor': 3, 'Fair': 4, 'Average': 5, \\\n",
    "                   'Good': 6, 'Very good': 7, 'Excellent': 8,}\n",
    "# no need to sort by neighborhood, all have median of average\n",
    "prop['cond_val'] = prop.loc[prop.condition.notnull(),'condition'].apply(lambda x: condition_value[x] if x else 5)\n",
    "\n",
    "# style\n",
    "styles = ['Bungalow','CAP','Colonial','Ranch']\n",
    "def get_style(x):\n",
    "    if x in styles:\n",
    "        return x\n",
    "    else:\n",
    "        return 'Other'\n",
    "prop['style_filtered'] = prop['style'].apply(get_style)\n",
    "\n",
    "# owner occupied value, median value for all neighborhoods is 1\n",
    "def get_own(x):\n",
    "    if x == 'Yes':\n",
    "        return 1\n",
    "    elif x == 'No':\n",
    "        return 0\n",
    "    else:\n",
    "        return 1 \n",
    "prop['ownerocc_value'] = prop['ownerocc'].apply(get_own)\n",
    "# year built\n",
    "def get_year(x):\n",
    "    try:\n",
    "        x = int(x)\n",
    "    except ValueError:\n",
    "        x = np.nan\n",
    "    return x\n",
    "prop['yrbuilt_filtered'] = prop['yrbuilt'].apply(get_year)\n",
    "\n",
    "prop = prop.set_index('parcel')\n",
    "prop = prop.sort_values('taxyr')"
   ]
  },
  {
   "cell_type": "code",
   "execution_count": 7,
   "metadata": {
    "collapsed": false
   },
   "outputs": [
    {
     "name": "stdout",
     "output_type": "stream",
     "text": [
      "2009-10-01 00:00:00\n",
      "2010-01-01 00:00:00\n",
      "2010-04-01 00:00:00\n",
      "2010-07-01 00:00:00\n",
      "2010-10-01 00:00:00\n",
      "2011-01-01 00:00:00\n",
      "2011-04-01 00:00:00\n",
      "2011-07-01 00:00:00\n",
      "2011-10-01 00:00:00\n",
      "2012-01-01 00:00:00\n",
      "2012-04-01 00:00:00\n",
      "2012-07-01 00:00:00\n",
      "2012-10-01 00:00:00\n",
      "2013-01-01 00:00:00\n",
      "2013-04-01 00:00:00\n",
      "2013-07-01 00:00:00\n",
      "2013-10-01 00:00:00\n",
      "2014-01-01 00:00:00\n",
      "2014-04-01 00:00:00\n",
      "2014-07-01 00:00:00\n",
      "2014-10-01 00:00:00\n",
      "2015-01-01 00:00:00\n",
      "2015-04-01 00:00:00\n"
     ]
    }
   ],
   "source": [
    "# for each date\n",
    "for date in rng: \n",
    "    print(date)\n",
    "    # merge residential characteristics\n",
    "    df = pd.merge(tci, res.loc[res.year==(date.year-1),['cqual_num','occup','rnumstor']],\\\n",
    "                  how='left', left_on='parcel', right_index=True)\n",
    "    # merge property characteristics\n",
    "    df = pd.merge(df, prop.loc[prop.taxyr==(date.year-1),['propsize','totusabl','tmktval','mktbldg',\\\n",
    "                  'mktland','cond_val','style_filtered','ownerocc_value',\\\n",
    "                  'totbldgs','yrbuilt_filtered']],\\\n",
    "                  how='left', left_on='parcel', right_index=True)\n",
    "    # fill null values with medians from neighborhood\n",
    "    for var in ['propsize','totusabl','tmktval','mktbldg','mktland','yrbuilt_filtered',\\\n",
    "                'cqual_num','occup','rnumstor','cond_val']:\n",
    "        # get the medians by neighborhood\n",
    "        median_val = dict(df.loc[df[var]>=0,[var,'SPA_NAME']].groupby('SPA_NAME').agg(np.median)[var])\n",
    "        # apply medians to null value\n",
    "        df.loc[df[var].isnull(), var] = df.loc[df[var].isnull()].apply(lambda x: median_val[x.SPA_NAME], axis=1)\n",
    "        if var in ['propsize','totusabl','tmktval','mktbldg','mktland']:\n",
    "            df.loc[df[var]==0, var] = df.loc[df[var]==0].apply(lambda x: median_val[x.SPA_NAME], axis=1) \n",
    "#         df.loc[df[var]==0, var] = df.loc[df[var]==0].apply(lambda x: median_val[x.SPA_NAME], axis=1) \n",
    "    # Owner occupancy\n",
    "    df.loc[df['ownerocc_value'].isnull(),'ownerocc_value'] = 1\n",
    "    # Style\n",
    "    df.loc[df['style_filtered'].isnull(),'style_filtered'] = 'Other'\n",
    "    # Total buildings\n",
    "    df.loc[df.totbldgs.isnull(),'totbldgs'] = 1\n",
    "    # Output\n",
    "    df.to_csv(path+'/data/model_data/tci_2_0_'+str(date.year)+'_'+str(date.month)+'.csv', index=False)"
   ]
  },
  {
   "cell_type": "code",
   "execution_count": 8,
   "metadata": {
    "collapsed": false
   },
   "outputs": [
    {
     "name": "stdout",
     "output_type": "stream",
     "text": [
      "<class 'pandas.core.frame.DataFrame'>\n",
      "Int64Index: 113132 entries, 0 to 113131\n",
      "Data columns (total 19 columns):\n",
      "parcel              113132 non-null object\n",
      "vacant              113132 non-null int64\n",
      "Date                113132 non-null datetime64[ns]\n",
      "Survey Category     113132 non-null object\n",
      "Survey Grade        113132 non-null object\n",
      "SPA_NAME            113132 non-null object\n",
      "cqual_num           113132 non-null float64\n",
      "occup               113132 non-null float64\n",
      "rnumstor            113132 non-null float64\n",
      "propsize            113132 non-null float64\n",
      "totusabl            113132 non-null float64\n",
      "tmktval             113132 non-null float64\n",
      "mktbldg             113132 non-null float64\n",
      "mktland             113132 non-null float64\n",
      "cond_val            113132 non-null float64\n",
      "style_filtered      113132 non-null object\n",
      "ownerocc_value      113132 non-null float64\n",
      "totbldgs            113132 non-null float64\n",
      "yrbuilt_filtered    113132 non-null float64\n",
      "dtypes: datetime64[ns](1), float64(12), int64(1), object(5)\n",
      "memory usage: 17.3+ MB\n"
     ]
    }
   ],
   "source": [
    "df.info()"
   ]
  },
  {
   "cell_type": "code",
   "execution_count": null,
   "metadata": {
    "collapsed": true
   },
   "outputs": [],
   "source": []
  }
 ],
 "metadata": {
  "kernelspec": {
   "display_name": "Python 3",
   "language": "python",
   "name": "python3"
  },
  "language_info": {
   "codemirror_mode": {
    "name": "ipython",
    "version": 3
   },
   "file_extension": ".py",
   "mimetype": "text/x-python",
   "name": "python",
   "nbconvert_exporter": "python",
   "pygments_lexer": "ipython3",
   "version": "3.4.4"
  }
 },
 "nbformat": 4,
 "nbformat_minor": 0
}
