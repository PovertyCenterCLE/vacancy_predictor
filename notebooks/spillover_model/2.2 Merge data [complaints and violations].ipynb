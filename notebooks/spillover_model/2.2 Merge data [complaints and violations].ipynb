{
 "cells": [
  {
   "cell_type": "code",
   "execution_count": 28,
   "metadata": {
    "collapsed": false
   },
   "outputs": [
    {
     "name": "stdout",
     "output_type": "stream",
     "text": [
      "/Volumes/Dropbox/largetransfer/luc/carter\n",
      "(113132, 3)\n"
     ]
    },
    {
     "name": "stderr",
     "output_type": "stream",
     "text": [
      "//anaconda/envs/data_sci/lib/python3.4/site-packages/IPython/core/interactiveshell.py:2902: DtypeWarning: Columns (0) have mixed types. Specify dtype option on import or set low_memory=False.\n",
      "  interactivity=interactivity, compiler=compiler, result=result)\n"
     ]
    }
   ],
   "source": [
    "import matplotlib.pyplot as plt\n",
    "import seaborn as sns\n",
    "import pandas as pd\n",
    "import numpy as np\n",
    "import datetime as dt\n",
    "import os\n",
    "\n",
    "%matplotlib inline\n",
    "\n",
    "path = '/'.join(os.getcwd().split('/')[:-1])\n",
    "print(path)\n",
    "\n",
    "tci = pd.read_csv(path+'/data/model_data/tci_1_0.csv', parse_dates=['Date'])\n",
    "cols = ['parcel','Date','vacant']\n",
    "tci = tci[cols]\n",
    "ppns = set(tci['parcel'])\n",
    "dates = dict(zip(tci.parcel, tci.Date))\n",
    "\n",
    "print(tci.shape)"
   ]
  },
  {
   "cell_type": "markdown",
   "metadata": {},
   "source": [
    "## Violations"
   ]
  },
  {
   "cell_type": "code",
   "execution_count": 254,
   "metadata": {
    "collapsed": false
   },
   "outputs": [],
   "source": [
    "vs = pd.read_csv(path+'/data/clean_data/violations.csv', parse_dates = [1,4])\n",
    "vs = vs.loc[vs.apply(lambda x: x.v_file_date < dates[x.parcel], axis=1)]"
   ]
  },
  {
   "cell_type": "code",
   "execution_count": 255,
   "metadata": {
    "collapsed": false
   },
   "outputs": [
    {
     "name": "stdout",
     "output_type": "stream",
     "text": [
      "<class 'pandas.core.frame.DataFrame'>\n",
      "Int64Index: 166685 entries, 0 to 170837\n",
      "Data columns (total 18 columns):\n",
      "VIN                     166685 non-null object\n",
      "v_file_date             166685 non-null datetime64[ns]\n",
      "v_wf_task               166685 non-null object\n",
      "v_wf_task_status        164852 non-null object\n",
      "v_wf_task_date          166685 non-null datetime64[ns]\n",
      "v_type_of_violation     160269 non-null object\n",
      "parcel1                 122437 non-null object\n",
      "parcel                  166685 non-null object\n",
      "cond_gar                14894 non-null float64\n",
      "cond                    40680 non-null float64\n",
      "other                   26644 non-null float64\n",
      "maint                   71716 non-null float64\n",
      "fire                    4763 non-null float64\n",
      "int_ext                 1540 non-null float64\n",
      "vin_id                  123728 non-null object\n",
      "violation_issue_date    123728 non-null object\n",
      "vn_created              123728 non-null float64\n",
      "vn_source               123728 non-null float64\n",
      "dtypes: datetime64[ns](2), float64(8), object(8)\n",
      "memory usage: 24.2+ MB\n"
     ]
    }
   ],
   "source": [
    "vs.info()"
   ]
  },
  {
   "cell_type": "markdown",
   "metadata": {},
   "source": [
    "### Violation Task"
   ]
  },
  {
   "cell_type": "code",
   "execution_count": 256,
   "metadata": {
    "collapsed": false
   },
   "outputs": [
    {
     "data": {
      "text/plain": [
       "datetime.timedelta(730)"
      ]
     },
     "execution_count": 256,
     "metadata": {},
     "output_type": "execute_result"
    }
   ],
   "source": [
    "dt.timedelta(days=365*2)"
   ]
  },
  {
   "cell_type": "code",
   "execution_count": 257,
   "metadata": {
    "collapsed": false
   },
   "outputs": [
    {
     "data": {
      "text/plain": [
       "Timestamp('2013-08-12 10:04:00')"
      ]
     },
     "execution_count": 257,
     "metadata": {},
     "output_type": "execute_result"
    }
   ],
   "source": [
    "dates['005-19-056']-dt.timedelta(days=365*2)"
   ]
  },
  {
   "cell_type": "code",
   "execution_count": 258,
   "metadata": {
    "collapsed": false
   },
   "outputs": [],
   "source": [
    "# vs_task = pd.DataFrame(vs.groupby('v_wf_task').count()['VIN'])\n",
    "# vs_task.columns = ['violations_tasks']\n",
    "# vs_task[vs_task.violations_tasks > 1]"
   ]
  },
  {
   "cell_type": "code",
   "execution_count": 259,
   "metadata": {
    "collapsed": false
   },
   "outputs": [],
   "source": [
    "# for task in set(vs.v_wf_task):\n",
    "#     tci = pd.merge(tci, vs.loc[vs.v_wf_task==task,['parcel','v_wf_task']].groupby('parcel').count(), how='left', left_on = 'ppn', right_index=True)\n",
    "#     tci = tci.rename(columns={'v_wf_task': task.lower()+' count'})\n",
    "#     tci[task.lower()+' count'] = tci[task.lower()+' count'].fillna(0)\n",
    "# #     print task, len(a), sum(a.vacant)*1.0/len(a.vacant)"
   ]
  },
  {
   "cell_type": "code",
   "execution_count": 260,
   "metadata": {
    "collapsed": true
   },
   "outputs": [],
   "source": [
    "# def check_task(x):\n",
    "#     if x in parcel_set:\n",
    "#         return 1\n",
    "#     else:\n",
    "#         return 0\n",
    "    \n",
    "# for task in vs_task.index:\n",
    "#     parcel_set = set(vs.loc[vs.v_wf_task==task,'parcel'])\n",
    "#     tci['task_'+task[0:3].lower()] = tci['ppn'].apply(check_task)"
   ]
  },
  {
   "cell_type": "markdown",
   "metadata": {},
   "source": [
    "### Violations count "
   ]
  },
  {
   "cell_type": "code",
   "execution_count": 261,
   "metadata": {
    "collapsed": false
   },
   "outputs": [],
   "source": [
    "vs_copy = vs.groupby('VIN').last().reset_index()\n",
    "\n",
    "vs_copy = vs_copy[['parcel','v_file_date']].groupby('parcel').count().reset_index()\n",
    "\n",
    "vs_copy['vs_count'] = vs_copy.apply(lambda x: \\\n",
    "        len(vs[(vs.parcel == x.parcel) & (vs.v_file_date > dates[x.parcel]-pd.DateOffset(years=1))]), axis=1)\n",
    "\n",
    "vs_copy = vs_copy.rename(columns={'vs_count':'v_total_1yr'})\n",
    "vs_copy = vs_copy.set_index('parcel')"
   ]
  },
  {
   "cell_type": "code",
   "execution_count": 262,
   "metadata": {
    "collapsed": false
   },
   "outputs": [],
   "source": [
    "tci = pd.merge(tci, vs_copy[['v_total_1yr']], \\\n",
    "               how='left', left_on='parcel', right_index=True)\n",
    "tci.loc[tci.v_total_1yr.isnull(), 'v_total_1yr'] = 0"
   ]
  },
  {
   "cell_type": "code",
   "execution_count": 263,
   "metadata": {
    "collapsed": true
   },
   "outputs": [],
   "source": [
    "vs_copy = vs.groupby('VIN').last().reset_index()\n",
    "\n",
    "vs_copy = vs_copy[['parcel','v_file_date']].groupby('parcel').count().reset_index()\n",
    "\n",
    "vs_copy['vs_count'] = vs_copy.apply(lambda x: \\\n",
    "        len(vs[(vs.parcel == x.parcel) & (vs.v_file_date > dates[x.parcel]-pd.DateOffset(years=2))]), axis=1)\n",
    "\n",
    "vs_copy = vs_copy.rename(columns={'vs_count':'v_total_2yr'})\n",
    "vs_copy = vs_copy.set_index('parcel')"
   ]
  },
  {
   "cell_type": "code",
   "execution_count": 264,
   "metadata": {
    "collapsed": false
   },
   "outputs": [],
   "source": [
    "tci = pd.merge(tci, vs_copy[['v_total_2yr']], \\\n",
    "               how='left', left_on='parcel', right_index=True)\n",
    "tci.loc[tci.v_total_2yr.isnull(), 'v_total_2yr'] = 0"
   ]
  },
  {
   "cell_type": "code",
   "execution_count": 265,
   "metadata": {
    "collapsed": false
   },
   "outputs": [],
   "source": [
    "# vs_count = pd.DataFrame(vs[vs['v_file_date']>dt.datetime(2013,6,1)].groupby('VIN').last().groupby('parcel').count()['v_file_date'])\n",
    "# vs_count = vs_count.rename(columns={'v_file_date':'violations_number_2_yr'})\n",
    "# tci = pd.merge(tci, vs_count[['violations_number_2_yr']], \\\n",
    "#                how='left', left_on='ppn', right_index=True)\n",
    "# tci.loc[tci.violations_number_2_yr.isnull(), 'violations_number_2_yr'] = 0"
   ]
  },
  {
   "cell_type": "markdown",
   "metadata": {},
   "source": [
    "### Violation types"
   ]
  },
  {
   "cell_type": "code",
   "execution_count": 266,
   "metadata": {
    "collapsed": true
   },
   "outputs": [],
   "source": [
    "# def fun(x):\n",
    "#     return (x.v_file_date < dates[x.parcel]) & (x.v_file_date > dates[x.parcel]-dt.timedelta(days=120))    "
   ]
  },
  {
   "cell_type": "code",
   "execution_count": 267,
   "metadata": {
    "collapsed": false
   },
   "outputs": [],
   "source": [
    "# vs_temp = vs.apply(fun, axis=1)"
   ]
  },
  {
   "cell_type": "code",
   "execution_count": 268,
   "metadata": {
    "collapsed": false
   },
   "outputs": [],
   "source": [
    "# violation_types = ['Condemnation - Main Structure','Fire Damage','Hazardous Conditions','Unauthorized/Illegal Use','Vacate']"
   ]
  },
  {
   "cell_type": "code",
   "execution_count": 269,
   "metadata": {
    "collapsed": false
   },
   "outputs": [],
   "source": [
    "# for vio in violation_types:\n",
    "#     tem = vs.loc[(vs_temp) & (vs.v_type_of_violation==vio),['v_type_of_violation','parcel','VIN']].groupby('VIN').last().groupby('parcel').count()\n",
    "#     tci = pd.merge(tci, tem, left_on='parcel', right_index=True, how='left')\n",
    "#     tci = tci.rename(columns={'v_type_of_violation': 'v_'+vio.lower()[0:6]})\n",
    "#     tci['v_'+vio.lower()[0:6]] = tci['v_'+vio.lower()[0:6]].fillna(0)"
   ]
  },
  {
   "cell_type": "code",
   "execution_count": 270,
   "metadata": {
    "collapsed": false
   },
   "outputs": [
    {
     "data": {
      "text/plain": [
       "Index([u'parcel', u'Date', u'vacant', u'v_total_1yr', u'v_total_2yr'], dtype='object')"
      ]
     },
     "execution_count": 270,
     "metadata": {},
     "output_type": "execute_result"
    }
   ],
   "source": [
    "tci.columns"
   ]
  },
  {
   "cell_type": "markdown",
   "metadata": {},
   "source": [
    "## Complaints"
   ]
  },
  {
   "cell_type": "code",
   "execution_count": 24,
   "metadata": {
    "collapsed": false
   },
   "outputs": [],
   "source": [
    "cp = pd.read_csv(path+'/data/clean_data/complaints.csv', parse_dates = [2],index_col=[0], dtype=str)\n",
    "# cp = cp.loc[cp.apply(lambda x: x.c_file_date < dates[x.parcel], axis=1)]\n",
    "cp = cp.sort_values('c_file_date')"
   ]
  },
  {
   "cell_type": "code",
   "execution_count": 272,
   "metadata": {
    "collapsed": false
   },
   "outputs": [],
   "source": [
    "# cp.info()"
   ]
  },
  {
   "cell_type": "code",
   "execution_count": 273,
   "metadata": {
    "collapsed": false
   },
   "outputs": [],
   "source": [
    "# cp.groupby('complaint_id').last().groupby(.agg(lambda x: len(set(x.parcel)))"
   ]
  },
  {
   "cell_type": "code",
   "execution_count": 274,
   "metadata": {
    "collapsed": false
   },
   "outputs": [],
   "source": [
    "# types = cp[cp.c_file_date > dt.datetime(2013,6,1)].groupby('complaint_id').last().groupby('c_type_of_complaint').count()['c_file_date'].sort_values(ascending=False).head(10)\n",
    "# types"
   ]
  },
  {
   "cell_type": "code",
   "execution_count": 275,
   "metadata": {
    "collapsed": true
   },
   "outputs": [],
   "source": [
    "# def fun(x):\n",
    "#     return (x.c_file_date < dates[x.parcel]) & (x.c_file_date > dates[x.parcel]-dt.timedelta(days=120))    \n",
    "# cp_temp = cp.apply(fun, axis=1)"
   ]
  },
  {
   "cell_type": "code",
   "execution_count": 276,
   "metadata": {
    "collapsed": true
   },
   "outputs": [],
   "source": [
    "# types = ['Collapsing Structure','Complete interior/exterior','Fire Damage', \\\n",
    "#          'General Exterior Maintenance','No Permit', 'Vacant Distressed']"
   ]
  },
  {
   "cell_type": "code",
   "execution_count": 277,
   "metadata": {
    "collapsed": false
   },
   "outputs": [],
   "source": [
    "# for complaint in types:\n",
    "#     tem = cp.loc[(cp_temp) & (cp.c_type_of_complaint==complaint),['c_type_of_complaint','parcel','complaint_id']].groupby('complaint_id').last().groupby('parcel').count()\n",
    "#     tci = pd.merge(tci, tem, left_on='parcel', right_index=True, how='left')\n",
    "#     tci = tci.rename(columns={'c_type_of_complaint': 'c_'+complaint.lower()[0:6]})\n",
    "#     tci['c_'+complaint.lower()[0:6]] = tci['c_'+complaint.lower()[0:6]].fillna(0)"
   ]
  },
  {
   "cell_type": "markdown",
   "metadata": {},
   "source": [
    "### Complaint type"
   ]
  },
  {
   "cell_type": "code",
   "execution_count": 5,
   "metadata": {
    "collapsed": false
   },
   "outputs": [],
   "source": [
    "cp = cp.loc[cp.apply(lambda x: x.c_file_date < dates[x.parcel], axis=1)]"
   ]
  },
  {
   "cell_type": "code",
   "execution_count": 6,
   "metadata": {
    "collapsed": true
   },
   "outputs": [],
   "source": [
    "cp_copy = cp[cp.c_type_of_complaint=='O.V.V.'].groupby('complaint_id').last().reset_index()\n",
    "# cp_copy2 = cp_copy[['parcel','c_file_date']].groupby('parcel').last().reset_index()"
   ]
  },
  {
   "cell_type": "code",
   "execution_count": 280,
   "metadata": {
    "collapsed": false
   },
   "outputs": [],
   "source": [
    "# cp_copy2 = cp_copy\n",
    "\n",
    "# cp_copy2['c_ovv_2yr'] = cp_copy2.apply(lambda x: \\\n",
    "#         len(cp[(cp.parcel == x.parcel) & (cp.c_file_date > dates[x.parcel]-pd.DateOffset(years=2))]), axis=1)\n",
    "\n",
    "# cp_copy2 = cp_copy2.set_index('parcel')\n",
    "\n",
    "# tci = pd.merge(tci, cp_copy2[['c_ovv_2yr']], \\\n",
    "#                how='left', left_on='parcel', right_index=True)\n",
    "# tci.loc[tci.c_ovv_2yr.isnull(), 'c_ovv_2yr'] = 0"
   ]
  },
  {
   "cell_type": "code",
   "execution_count": 281,
   "metadata": {
    "collapsed": false
   },
   "outputs": [],
   "source": [
    "# cp_copy2 = cp_copy\n",
    "\n",
    "# cp_copy2['c_ovv_1yr'] = cp_copy2.apply(lambda x: \\\n",
    "#         len(cp[(cp.parcel == x.parcel) & (cp.c_file_date > dates[x.parcel]-pd.DateOffset(years=1))]), axis=1)\n",
    "\n",
    "# cp_copy2 = cp_copy2.set_index('parcel')\n",
    "\n",
    "# tci = pd.merge(tci, cp_copy2[['c_ovv_1yr']], \\\n",
    "#                how='left', left_on='parcel', right_index=True)\n",
    "# tci.loc[tci.c_ovv_1yr.isnull(), 'c_ovv_1yr'] = 0"
   ]
  },
  {
   "cell_type": "code",
   "execution_count": 282,
   "metadata": {
    "collapsed": true
   },
   "outputs": [],
   "source": [
    "# cp_copy2 = cp_copy\n",
    "\n",
    "# cp_copy2['c_ovv_3mo'] = cp_copy2.apply(lambda x: \\\n",
    "#         len(cp[(cp.parcel == x.parcel) & (cp.c_file_date > dates[x.parcel]-pd.DateOffset(months=3))]), axis=1)\n",
    "\n",
    "# cp_copy2 = cp_copy2.set_index('parcel')\n",
    "\n",
    "# tci = pd.merge(tci, cp_copy2[['c_ovv_3mo']], \\\n",
    "#                how='left', left_on='parcel', right_index=True)\n",
    "# tci.loc[tci.c_ovv_3mo.isnull(), 'c_ovv_3mo'] = 0"
   ]
  },
  {
   "cell_type": "code",
   "execution_count": 12,
   "metadata": {
    "collapsed": false
   },
   "outputs": [
    {
     "data": {
      "text/plain": [
       "3440"
      ]
     },
     "execution_count": 12,
     "metadata": {},
     "output_type": "execute_result"
    }
   ],
   "source": [
    "min(tci.days_since_ovv_board_up)"
   ]
  },
  {
   "cell_type": "code",
   "execution_count": 31,
   "metadata": {
    "collapsed": false
   },
   "outputs": [
    {
     "data": {
      "text/plain": [
       "(array([  3.06000000e+02,   2.96000000e+02,   3.41000000e+02,\n",
       "          3.23000000e+02,   1.56000000e+02,   4.30000000e+01,\n",
       "          0.00000000e+00,   1.00000000e+00,   1.00000000e+00,\n",
       "          1.11665000e+05]),\n",
       " array([    0. ,   359.3,   718.6,  1077.9,  1437.2,  1796.5,  2155.8,\n",
       "         2515.1,  2874.4,  3233.7,  3593. ]),\n",
       " <a list of 10 Patch objects>)"
      ]
     },
     "execution_count": 31,
     "metadata": {},
     "output_type": "execute_result"
    },
    {
     "data": {
      "image/png": "[encoded data removed]",
      "text/plain": [
       "<matplotlib.figure.Figure at 0x1194d9470>"
      ]
     },
     "metadata": {},
     "output_type": "display_data"
    }
   ],
   "source": [
    "plt.hist(tci.days_since_ovv_board_up)"
   ]
  },
  {
   "cell_type": "code",
   "execution_count": 41,
   "metadata": {
    "collapsed": false
   },
   "outputs": [
    {
     "data": {
      "text/plain": [
       "Timestamp('2005-10-28 00:00:00')"
      ]
     },
     "execution_count": 41,
     "metadata": {},
     "output_type": "execute_result"
    }
   ],
   "source": [
    "tci.loc[tci.parcel.isin(cp.loc[(cp.c_wf_task_status=='Closed-Board Up Requested')['parcel'])],\n",
    "               .groupby('parcel')\\\n",
    "               .last()\\\n",
    "                    ,how='left', left_on='parcel', right_index=True)\n",
    "tci = tci.rename(columns = {'c_file_date':'days_since_ovv_board_up'})\n",
    "tci.loc[tci.days_since_ovv_board_up.isnull(),'days_since_ovv_board_up'] = dt.datetime(2006,1,1)\n",
    "tci['days_since_ovv_board_up'] = tci.apply(lambda x: (x.Date-x.days_since_ovv_board_up).days, axis=1)"
   ]
  },
  {
   "cell_type": "code",
   "execution_count": 29,
   "metadata": {
    "collapsed": false
   },
   "outputs": [],
   "source": [
    "tci = pd.merge(tci, cp_copy.loc[(cp_copy.c_wf_task_status=='Closed-Board Up Requested'),['c_file_date','parcel']]\\\n",
    "               .groupby('parcel')\\\n",
    "               .last()\\\n",
    "                    ,how='left', left_on='parcel', right_index=True)\n",
    "tci = tci.rename(columns = {'c_file_date':'days_since_ovv_board_up'})\n",
    "tci.loc[tci.days_since_ovv_board_up.isnull(),'days_since_ovv_board_up'] = dt.datetime(2006,1,1)\n",
    "tci['days_since_ovv_board_up'] = tci.apply(lambda x: (x.Date-x.days_since_ovv_board_up).days, axis=1)"
   ]
  },
  {
   "cell_type": "code",
   "execution_count": null,
   "metadata": {
    "collapsed": false
   },
   "outputs": [],
   "source": [
    "tci = pd.merge(tci, cp_copy.loc[(cp_copy.c_file_date > dt.datetime(2006,1,1))\\\n",
    "                                &(cp_copy.c_wf_task_status=='Closed-Board Up Requested'),['c_file_date','parcel']]\\\n",
    "               .groupby('parcel')\\\n",
    "               .last()\\\n",
    "                    ,how='left', left_on='parcel', right_index=True)\n",
    "tci = tci.rename(columns = {'c_file_date':'days_since_ovv_board_up'})\n",
    "tci.loc[tci.days_since_ovv_board_up.isnull(),'days_since_ovv_board_up'] = dt.datetime(2006,1,1)\n",
    "tci['days_since_ovv_board_up'] = tci.apply(lambda x: (x.Date-x.days_since_ovv_board_up).days, axis=1)\n",
    "\n",
    "tci = pd.merge(tci, cp_copy.loc[(cp_copy.c_file_date > dt.datetime(2006,1,1))\\\n",
    "                                &(cp_copy.c_wf_task_status=='Closed-Board Up Requested'),['c_file_date','parcel']]\\\n",
    "               .groupby('parcel')\\\n",
    "               .agg(lambda x: len(x)\\\n",
    "                    /((dates[x.parcel.iloc[0]] - dt.datetime(2006,1,1)).days/365.0))\\\n",
    "                    ,how='left', left_on='parcel', right_index=True)\n",
    "tci = tci.rename(columns = {'c_file_date':'c_ovv_board_num'})\n",
    "tci.loc[tci.c_ovv_board_num.isnull(),'c_ovv_board_num'] = 0\n",
    "\n"
   ]
  },
  {
   "cell_type": "code",
   "execution_count": 9,
   "metadata": {
    "collapsed": false
   },
   "outputs": [
    {
     "data": {
      "text/plain": [
       "0.0"
      ]
     },
     "execution_count": 9,
     "metadata": {},
     "output_type": "execute_result"
    }
   ],
   "source": [
    "sum(tci.c_ovv_board_num)"
   ]
  },
  {
   "cell_type": "code",
   "execution_count": 285,
   "metadata": {
    "collapsed": false
   },
   "outputs": [],
   "source": [
    "tci = pd.merge(tci, cp_copy.loc[cp_copy.c_file_date > dt.datetime(2006,1,1),['c_file_date','parcel']]\\\n",
    "               .groupby('parcel')\\\n",
    "               .last()\\\n",
    "                    ,how='left', left_on='parcel', right_index=True)\n",
    "tci = tci.rename(columns = {'c_file_date':'days_since_ovv'})\n",
    "tci.loc[tci.days_since_ovv.isnull(),'days_since_ovv'] = dt.datetime(2006,1,1)\n",
    "tci['days_since_ovv'] = tci.apply(lambda x: (x.Date-x.days_since_ovv).days, axis=1)\n",
    "\n",
    "tci = pd.merge(tci, cp_copy.loc[cp_copy.c_file_date > dt.datetime(2006,1,1),['c_file_date','parcel']]\\\n",
    "               .groupby('parcel')\\\n",
    "               .agg(lambda x: len(x)\\\n",
    "                    /((dates[x.parcel.iloc[0]] - dt.datetime(2006,1,1)).days/365.0))\\\n",
    "                    ,how='left', left_on='parcel', right_index=True)\n",
    "tci = tci.rename(columns = {'c_file_date':'c_ovv_num'})\n",
    "tci.loc[tci.c_ovv_num.isnull(),'c_ovv_num'] = 0\n",
    "\n"
   ]
  },
  {
   "cell_type": "code",
   "execution_count": 286,
   "metadata": {
    "collapsed": false
   },
   "outputs": [],
   "source": [
    "# for complaint in ['O.V.V.']:\n",
    "#     t = cp.loc[(cp.c_file_date > dt.datetime(2015,1,1)) & (cp.c_type_of_complaint==complaint),['c_type_of_complaint','parcel','complaint_id']] \\\n",
    "#             .groupby('complaint_id').last().groupby('parcel').count()[['c_type_of_complaint']]\n",
    "#     t = t.rename(columns={'c_type_of_complaint': 'c_'+complaint+'_0yr'})\n",
    "#     tem = pd.merge(tci, t, left_on='ppn', right_index=True, how='left')\n",
    "#     tem['c_'+complaint+'_0yr'] = tem['c_'+complaint+'_0yr'].fillna(0)\n",
    "#     print pd.crosstab(tem['c_'+complaint+'_0yr'], tem.vacant)"
   ]
  },
  {
   "cell_type": "code",
   "execution_count": 287,
   "metadata": {
    "collapsed": false
   },
   "outputs": [],
   "source": [
    "# for complaint in types.index:\n",
    "#     t = cp.loc[(cp.c_file_date > dt.datetime(2014,6,1)) & (cp.c_type_of_complaint==complaint),['c_type_of_complaint','parcel','complaint_id']] \\\n",
    "#             .groupby('complaint_id').last().groupby('parcel').count()[['c_type_of_complaint']]\n",
    "#     t = t.rename(columns={'c_type_of_complaint': 'c_'+complaint+'_1yr'})\n",
    "#     tci = pd.merge(tci, t, left_on='ppn', right_index=True, how='left')\n",
    "#     tci['c_'+complaint+'_1yr'] = tci['c_'+complaint+'_1yr'].fillna(0)\n",
    "# #     print pd.crosstab(tem['c_'+complaint+'_1yr'], tem.vacant)"
   ]
  },
  {
   "cell_type": "code",
   "execution_count": 288,
   "metadata": {
    "collapsed": false
   },
   "outputs": [],
   "source": [
    "# for complaint in types.index:\n",
    "#     t = cp.loc[(cp.c_file_date > dt.datetime(2013,6,1)) & (cp.c_type_of_complaint==complaint),['c_type_of_complaint','parcel','complaint_id']] \\\n",
    "#             .groupby('complaint_id').last().groupby('parcel').count()[['c_type_of_complaint']]\n",
    "# #     t = cp.loc[cp.c_type_of_complaint==complaint,['c_type_of_complaint','parcel']].groupby('parcel').count()\n",
    "#     t = t.rename(columns={'c_type_of_complaint': 'c_'+complaint+'_2yr'})\n",
    "#     tci = pd.merge(tci, t, left_on='ppn', right_index=True, how='left')\n",
    "#     tci['c_'+complaint+'_2yr'] = tci['c_'+complaint+'_2yr'].fillna(0)\n",
    "# #     print pd.crosstab(tem['c_'+complaint+'_2yr'], tem.vacant)"
   ]
  },
  {
   "cell_type": "markdown",
   "metadata": {},
   "source": [
    "### Complaint count (2 yrs)"
   ]
  },
  {
   "cell_type": "code",
   "execution_count": 289,
   "metadata": {
    "collapsed": false,
    "scrolled": true
   },
   "outputs": [],
   "source": [
    "# cp_count = pd.DataFrame(cp[(cp.c_file_date > dt.datetime(2013,6,1))].groupby('parcel').count()['complaint_id'])\n",
    "# cp_count.columns = ['complaint_count_2yr']\n",
    "# tci = pd.merge(tci, cp_count, \\\n",
    "#                how='left', left_on='ppn', right_index=True)\n",
    "# tci.loc[tci.complaint_count_2yr.isnull(), 'complaint_count_2yr'] = 0"
   ]
  },
  {
   "cell_type": "code",
   "execution_count": 290,
   "metadata": {
    "collapsed": false
   },
   "outputs": [],
   "source": [
    "# sum(tci.loc[tci.complaint_count_2yr>5, 'vacant'])*1.0/len(tci.loc[tci.complaint_count_2yr>5, 'vacant'])"
   ]
  },
  {
   "cell_type": "markdown",
   "metadata": {},
   "source": [
    "### Complaint count (1 yr)"
   ]
  },
  {
   "cell_type": "code",
   "execution_count": 291,
   "metadata": {
    "collapsed": false
   },
   "outputs": [],
   "source": [
    "# cp_count = pd.DataFrame(cp[cp.c_file_date>dt.datetime(2014, 6, 1)].groupby('parcel').count()['complaint_id'])\n",
    "# cp_count.columns = ['complaint_count_1yr']\n",
    "# tci = pd.merge(tci, cp_count, \\\n",
    "#                how='left', left_on='ppn', right_index=True)\n",
    "# tci.loc[tci.complaint_count_1yr.isnull(), 'complaint_count_1yr'] = 0"
   ]
  },
  {
   "cell_type": "code",
   "execution_count": 292,
   "metadata": {
    "collapsed": false
   },
   "outputs": [],
   "source": [
    "# sum(tci.loc[tci.complaint_count_1yr>2, 'vacant'])*1.0/len(tci.loc[tci.complaint_count_1yr>2, 'vacant'])"
   ]
  },
  {
   "cell_type": "markdown",
   "metadata": {},
   "source": [
    "### Complain count (6 months)"
   ]
  },
  {
   "cell_type": "code",
   "execution_count": 293,
   "metadata": {
    "collapsed": false
   },
   "outputs": [],
   "source": [
    "# cp_count = pd.DataFrame(cp[cp.c_file_date>dt.datetime(2015, 1, 1)].groupby('parcel').count()['complaint_id'])\n",
    "# cp_count.columns = ['complaint_count_6_mon']\n",
    "# tci = pd.merge(tci, cp_count, \\\n",
    "#                how='left', left_on='ppn', right_index=True)\n",
    "# tci.loc[tci.complaint_count_6_mon.isnull(), 'complaint_count_6_mon'] = 0"
   ]
  },
  {
   "cell_type": "code",
   "execution_count": 294,
   "metadata": {
    "collapsed": false
   },
   "outputs": [],
   "source": [
    "# sum(tci.loc[tci.complaint_count_6_mon>0, 'vacant'])*1.0/len(tci.loc[tci.complaint_count_6_mon>0, 'vacant']) ,len(tci.loc[tci.complaint_count_6_mon>0, 'vacant'])"
   ]
  },
  {
   "cell_type": "code",
   "execution_count": 317,
   "metadata": {
    "collapsed": false
   },
   "outputs": [],
   "source": [
    "tci.to_csv(path+'/data/model_data/tci_2_2.csv', index=False)"
   ]
  },
  {
   "cell_type": "code",
   "execution_count": 315,
   "metadata": {
    "collapsed": false
   },
   "outputs": [
    {
     "data": {
      "text/plain": [
       "(113132, 9)"
      ]
     },
     "execution_count": 315,
     "metadata": {},
     "output_type": "execute_result"
    }
   ],
   "source": [
    "tci.shape"
   ]
  },
  {
   "cell_type": "code",
   "execution_count": 316,
   "metadata": {
    "collapsed": false
   },
   "outputs": [
    {
     "name": "stdout",
     "output_type": "stream",
     "text": [
      "<class 'pandas.core.frame.DataFrame'>\n",
      "Int64Index: 113132 entries, 0 to 113131\n",
      "Data columns (total 9 columns):\n",
      "parcel                     113132 non-null object\n",
      "Date                       113132 non-null datetime64[ns]\n",
      "vacant                     113132 non-null int64\n",
      "v_total_1yr                113132 non-null float64\n",
      "v_total_2yr                113132 non-null float64\n",
      "days_since_ovv             113132 non-null int64\n",
      "c_ovv_num                  113132 non-null float64\n",
      "days_since_ovv_board_up    113132 non-null int64\n",
      "c_ovv_board_num            113132 non-null float64\n",
      "dtypes: datetime64[ns](1), float64(4), int64(3), object(1)\n",
      "memory usage: 8.6+ MB\n"
     ]
    }
   ],
   "source": [
    "tci.info()"
   ]
  },
  {
   "cell_type": "code",
   "execution_count": 298,
   "metadata": {
    "collapsed": false
   },
   "outputs": [
    {
     "data": {
      "text/plain": [
       "Timestamp('2005-10-28 00:00:00')"
      ]
     },
     "execution_count": 298,
     "metadata": {},
     "output_type": "execute_result"
    }
   ],
   "source": [
    "min(cp.c_file_date)"
   ]
  },
  {
   "cell_type": "code",
   "execution_count": 299,
   "metadata": {
    "collapsed": false
   },
   "outputs": [
    {
     "data": {
      "text/plain": [
       "{'Closure',\n",
       " 'Complaint Acceptance',\n",
       " 'Complaint Chief Inspec',\n",
       " 'Complaint Chief Inspector',\n",
       " 'Complaint Inspector',\n",
       " 'Inspection'}"
      ]
     },
     "execution_count": 299,
     "metadata": {},
     "output_type": "execute_result"
    }
   ],
   "source": [
    "set(cp.c_wf_task)"
   ]
  },
  {
   "cell_type": "code",
   "execution_count": 318,
   "metadata": {
    "collapsed": false
   },
   "outputs": [
    {
     "data": {
      "text/plain": [
       "6107"
      ]
     },
     "execution_count": 318,
     "metadata": {},
     "output_type": "execute_result"
    }
   ],
   "source": [
    "len(tci[tci.parcel.isin(cp[(cp.c_wf_task_status=='Closed-Board Up Requested')].parcel)].vacant)"
   ]
  },
  {
   "cell_type": "code",
   "execution_count": 319,
   "metadata": {
    "collapsed": false
   },
   "outputs": [
    {
     "data": {
      "text/plain": [
       "6087"
      ]
     },
     "execution_count": 319,
     "metadata": {},
     "output_type": "execute_result"
    }
   ],
   "source": [
    "len(tci[tci.parcel.isin(cp[(cp.c_type_of_complaint=='O.V.V.')&(cp.c_wf_task_status=='Closed-Board Up Requested')].parcel)].vacant)"
   ]
  },
  {
   "cell_type": "code",
   "execution_count": 301,
   "metadata": {
    "collapsed": false
   },
   "outputs": [
    {
     "data": {
      "text/plain": [
       "4146"
      ]
     },
     "execution_count": 301,
     "metadata": {},
     "output_type": "execute_result"
    }
   ],
   "source": [
    "len(tci[tci.parcel.isin(cp[(cp.c_type_of_complaint=='O.V.V.') & (cp.c_file_date>dt.datetime(2014,1,1))].parcel)].vacant)"
   ]
  },
  {
   "cell_type": "code",
   "execution_count": 302,
   "metadata": {
    "collapsed": false
   },
   "outputs": [
    {
     "data": {
      "text/plain": [
       "2459"
      ]
     },
     "execution_count": 302,
     "metadata": {},
     "output_type": "execute_result"
    }
   ],
   "source": [
    "sum(tci[tci.parcel.isin(cp[(cp.c_type_of_complaint=='O.V.V.')&(cp.c_wf_task_status=='Closed-Board Up Requested') & (cp.c_file_date>dt.datetime(2014,1,1))].parcel)].vacant)"
   ]
  }
 ],
 "metadata": {
  "kernelspec": {
   "display_name": "Python 3",
   "language": "python",
   "name": "python3"
  },
  "language_info": {
   "codemirror_mode": {
    "name": "ipython",
    "version": 3
   },
   "file_extension": ".py",
   "mimetype": "text/x-python",
   "name": "python",
   "nbconvert_exporter": "python",
   "pygments_lexer": "ipython3",
   "version": "3.4.4"
  }
 },
 "nbformat": 4,
 "nbformat_minor": 0
}
