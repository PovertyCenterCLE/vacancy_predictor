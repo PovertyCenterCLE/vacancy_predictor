{
 "cells": [
  {
   "cell_type": "markdown",
   "metadata": {},
   "source": [
    "# 2.0 Combine Data from ```prop.csv```\n",
    "\n",
    "Data has now been filtered for the parcel numbers in the existing dataset. The end goal is to have a dataset with one row for each parcel in which to build the model. **Imputation will occur in a separate notebook!**\n",
    "\n",
    "However, we can't forget to explore the existing data for trends or insight along the way, as well as engineer features as we see fit."
   ]
  },
  {
   "cell_type": "code",
   "execution_count": 46,
   "metadata": {
    "collapsed": false
   },
   "outputs": [],
   "source": [
    "import matplotlib.pyplot as plt\n",
    "import seaborn as sns\n",
    "%matplotlib inline\n",
    "import pandas as pd\n",
    "import numpy as np\n",
    "\n",
    "tci = pd.read_csv('original_data/tci.csv')\n",
    "ppns = set(tci['Parcel Number'])\n",
    "def vacant(x):\n",
    "    if x in ['Vacant Structure Open', 'Vacant Structure Secure']:\n",
    "        return 1\n",
    "    else:\n",
    "        return 0\n",
    "tci['vacant'] = tci.Category.apply(vacant)\n",
    "\n",
    "t"
   ]
  },
  {
   "cell_type": "code",
   "execution_count": 54,
   "metadata": {
    "collapsed": false
   },
   "outputs": [],
   "source": [
    "tci.columns = [u'parcel', u'House Number', u'Street Name', u'Category', u'Survey Date', u'vacant']"
   ]
  },
  {
   "cell_type": "markdown",
   "metadata": {},
   "source": [
    "## Add data from property characteristics"
   ]
  },
  {
   "cell_type": "code",
   "execution_count": 55,
   "metadata": {
    "collapsed": false
   },
   "outputs": [],
   "source": [
    "prop = pd.read_csv('clean_data/main_prop_tci.csv')\n",
    "prop = prop.drop_duplicates()"
   ]
  },
  {
   "cell_type": "code",
   "execution_count": 56,
   "metadata": {
    "collapsed": false
   },
   "outputs": [
    {
     "data": {
      "text/plain": [
       "Index([u'zip', u'glsflag', u'gtxyr'], dtype='object')"
      ]
     },
     "execution_count": 56,
     "metadata": {},
     "output_type": "execute_result"
    }
   ],
   "source": [
    "prop.columns[[5,34,36]]"
   ]
  },
  {
   "cell_type": "code",
   "execution_count": 57,
   "metadata": {
    "collapsed": false,
    "scrolled": true
   },
   "outputs": [
    {
     "name": "stdout",
     "output_type": "stream",
     "text": [
      "<class 'pandas.core.frame.DataFrame'>\n",
      "Int64Index: 186908 entries, 0 to 186946\n",
      "Data columns (total 65 columns):\n",
      "parcel       186908 non-null object\n",
      "taxyr        186856 non-null float64\n",
      "pclass       186906 non-null object\n",
      "nluc         184008 non-null float64\n",
      "luc          186908 non-null object\n",
      "zip          146654 non-null object\n",
      "owner        186849 non-null object\n",
      "propsize     182302 non-null object\n",
      "front        186562 non-null float64\n",
      "depth        184954 non-null float64\n",
      "lotshape     152178 non-null object\n",
      "totbldgs     186468 non-null float64\n",
      "condition    164074 non-null object\n",
      "units        163390 non-null float64\n",
      "area         163992 non-null object\n",
      "totusabl     181862 non-null object\n",
      "yrbuilt      164060 non-null float64\n",
      "style        160978 non-null object\n",
      "rextwall     160959 non-null object\n",
      "rooms        160930 non-null float64\n",
      "bedrooms     160952 non-null float64\n",
      "baths        160959 non-null float64\n",
      "halfbath     160955 non-null float64\n",
      "bval         185536 non-null object\n",
      "lval         185536 non-null object\n",
      "tval         186906 non-null object\n",
      "ebval        175185 non-null object\n",
      "elval        175185 non-null object\n",
      "etval        186906 non-null object\n",
      "tbval        186854 non-null object\n",
      "tlval        186854 non-null object\n",
      "mktval       186854 non-null object\n",
      "delyr        7086 non-null float64\n",
      "deltax       186890 non-null object\n",
      "glsflag      186908 non-null object\n",
      "gtxdel       186906 non-null object\n",
      "gtxyr        923 non-null object\n",
      "tmktval      186906 non-null float64\n",
      "mktland      186890 non-null float64\n",
      "mktbldg      186890 non-null float64\n",
      "ownerocc     186890 non-null object\n",
      "red25        186890 non-null object\n",
      "homestd      186890 non-null object\n",
      "intax        186890 non-null float64\n",
      "incom        3160 non-null float64\n",
      "inres        161022 non-null float64\n",
      "taxabate     186908 non-null object\n",
      "inpar        186908 non-null int64\n",
      "aluc         19574 non-null object\n",
      "atval        107758 non-null float64\n",
      "abval        107758 non-null float64\n",
      "alval        107758 non-null float64\n",
      "tifluc       14250 non-null object\n",
      "tiftval      107271 non-null float64\n",
      "tifbval      107271 non-null float64\n",
      "tiflval      107271 non-null float64\n",
      "inhis        186854 non-null float64\n",
      "diffval      19499 non-null float64\n",
      "_TYPE_       921 non-null float64\n",
      "_FREQ_       921 non-null float64\n",
      "chg_tval     186906 non-null float64\n",
      "PROP         186908 non-null int64\n",
      "LATITUDE     186903 non-null float64\n",
      "LONGITUDE    186903 non-null float64\n",
      "yearkey      186908 non-null object\n",
      "dtypes: float64(31), int64(2), object(32)\n",
      "memory usage: 94.1+ MB\n"
     ]
    }
   ],
   "source": [
    "prop.info()"
   ]
  },
  {
   "cell_type": "markdown",
   "metadata": {},
   "source": [
    "### Zip code"
   ]
  },
  {
   "cell_type": "code",
   "execution_count": 58,
   "metadata": {
    "collapsed": true
   },
   "outputs": [],
   "source": [
    "def filter_zip(x):\n",
    "    try:\n",
    "        x = str(int(x))\n",
    "    except ValueError:\n",
    "        pass\n",
    "    return x"
   ]
  },
  {
   "cell_type": "code",
   "execution_count": 59,
   "metadata": {
    "collapsed": false
   },
   "outputs": [],
   "source": [
    "prop['zip'] = prop['zip'].dropna().apply(filter_zip)\n",
    "zips = set(prop['zip'].dropna())\n",
    "zips.difference_update(['.','0','4','441041'])\n",
    "prop_zips = prop[['parcel','zip']][prop['zip'].isin(zips)].groupby('parcel').first()"
   ]
  },
  {
   "cell_type": "code",
   "execution_count": 60,
   "metadata": {
    "collapsed": false
   },
   "outputs": [
    {
     "name": "stdout",
     "output_type": "stream",
     "text": [
      "(13500, 7)\n"
     ]
    }
   ],
   "source": [
    "tci = pd.merge(tci, prop_zips, how='left', left_on='parcel', right_index=True)\n",
    "print tci.shape"
   ]
  },
  {
   "cell_type": "code",
   "execution_count": 61,
   "metadata": {
    "collapsed": false
   },
   "outputs": [
    {
     "data": {
      "text/html": [
       "<div style=\"max-height:1000px;max-width:1500px;overflow:auto;\">\n",
       "<table border=\"1\" class=\"dataframe\">\n",
       "  <thead>\n",
       "    <tr>\n",
       "      <th></th>\n",
       "      <th colspan=\"2\" halign=\"left\">vacant</th>\n",
       "    </tr>\n",
       "    <tr>\n",
       "      <th></th>\n",
       "      <th>sum</th>\n",
       "      <th>len</th>\n",
       "    </tr>\n",
       "    <tr>\n",
       "      <th>zip</th>\n",
       "      <th></th>\n",
       "      <th></th>\n",
       "    </tr>\n",
       "  </thead>\n",
       "  <tbody>\n",
       "    <tr>\n",
       "      <th>44104</th>\n",
       "      <td> 475</td>\n",
       "      <td> 3935</td>\n",
       "    </tr>\n",
       "    <tr>\n",
       "      <th>44105</th>\n",
       "      <td> 237</td>\n",
       "      <td> 1622</td>\n",
       "    </tr>\n",
       "    <tr>\n",
       "      <th>44106</th>\n",
       "      <td>   3</td>\n",
       "      <td>   20</td>\n",
       "    </tr>\n",
       "    <tr>\n",
       "      <th>44112</th>\n",
       "      <td>   0</td>\n",
       "      <td>    1</td>\n",
       "    </tr>\n",
       "    <tr>\n",
       "      <th>44114</th>\n",
       "      <td>   0</td>\n",
       "      <td>    1</td>\n",
       "    </tr>\n",
       "    <tr>\n",
       "      <th>44120</th>\n",
       "      <td> 737</td>\n",
       "      <td> 6637</td>\n",
       "    </tr>\n",
       "    <tr>\n",
       "      <th>44121</th>\n",
       "      <td>   0</td>\n",
       "      <td>    1</td>\n",
       "    </tr>\n",
       "    <tr>\n",
       "      <th>44126</th>\n",
       "      <td>   1</td>\n",
       "      <td>   11</td>\n",
       "    </tr>\n",
       "    <tr>\n",
       "      <th>44128</th>\n",
       "      <td>  89</td>\n",
       "      <td>  974</td>\n",
       "    </tr>\n",
       "    <tr>\n",
       "      <th>44129</th>\n",
       "      <td>   1</td>\n",
       "      <td>    1</td>\n",
       "    </tr>\n",
       "    <tr>\n",
       "      <th>44145</th>\n",
       "      <td>   0</td>\n",
       "      <td>    1</td>\n",
       "    </tr>\n",
       "  </tbody>\n",
       "</table>\n",
       "</div>"
      ],
      "text/plain": [
       "      vacant      \n",
       "         sum   len\n",
       "zip               \n",
       "44104    475  3935\n",
       "44105    237  1622\n",
       "44106      3    20\n",
       "44112      0     1\n",
       "44114      0     1\n",
       "44120    737  6637\n",
       "44121      0     1\n",
       "44126      1    11\n",
       "44128     89   974\n",
       "44129      1     1\n",
       "44145      0     1"
      ]
     },
     "execution_count": 61,
     "metadata": {},
     "output_type": "execute_result"
    }
   ],
   "source": [
    "tci[['vacant','zip']].groupby('zip').agg([sum,len])"
   ]
  },
  {
   "cell_type": "markdown",
   "metadata": {},
   "source": [
    "### Property size"
   ]
  },
  {
   "cell_type": "code",
   "execution_count": 62,
   "metadata": {
    "collapsed": false
   },
   "outputs": [
    {
     "data": {
      "text/plain": [
       "{float, str}"
      ]
     },
     "execution_count": 62,
     "metadata": {},
     "output_type": "execute_result"
    }
   ],
   "source": [
    "set(prop['propsize'].apply(type))"
   ]
  },
  {
   "cell_type": "code",
   "execution_count": 63,
   "metadata": {
    "collapsed": true
   },
   "outputs": [],
   "source": [
    "def parse_comma(x):\n",
    "    if type(x) == str:\n",
    "        x = int(x.replace(',',''))\n",
    "    elif type(x) == float:\n",
    "        if not np.isnan(x):\n",
    "            x = int(x)\n",
    "        else:\n",
    "            pass\n",
    "    else:\n",
    "        pass\n",
    "    return x"
   ]
  },
  {
   "cell_type": "code",
   "execution_count": 64,
   "metadata": {
    "collapsed": false
   },
   "outputs": [],
   "source": [
    "prop['propsize'] = prop['propsize'].apply(parse_comma)\n",
    "parcel_size = prop[prop['propsize'].notnull()][['parcel','propsize']].sort('propsize', ascending=False).groupby('parcel').first()"
   ]
  },
  {
   "cell_type": "code",
   "execution_count": 65,
   "metadata": {
    "collapsed": false
   },
   "outputs": [
    {
     "name": "stdout",
     "output_type": "stream",
     "text": [
      "       parcel House Number  Street Name            Category Survey Date  \\\n",
      "0  121-31-003         2427  WOODHILL RD  Occupied Structure  2014-03-18   \n",
      "1  121-31-005          NaN          NaN          Vacant Lot  2014-03-18   \n",
      "2  121-31-008          NaN          NaN          Vacant Lot  2014-03-18   \n",
      "3  121-31-012         2458   BALDWIN RD          Vacant Lot  2014-03-18   \n",
      "4  121-31-013         8685   BALDWIN RD          Vacant Lot  2014-03-18   \n",
      "\n",
      "   vacant    zip  propsize  \n",
      "0       0  44104      8155  \n",
      "1       0    NaN       NaN  \n",
      "2       0  44104      3605  \n",
      "3       0  44104      5544  \n",
      "4       0  44104         0  \n"
     ]
    }
   ],
   "source": [
    "tci = pd.merge(tci, parcel_size, how='left', left_on='parcel', right_index=True)\n",
    "print tci.head()"
   ]
  },
  {
   "cell_type": "code",
   "execution_count": 66,
   "metadata": {
    "collapsed": false
   },
   "outputs": [
    {
     "name": "stdout",
     "output_type": "stream",
     "text": [
      "253\n"
     ]
    }
   ],
   "source": [
    "print len(tci[tci['propsize'].isnull() & tci['zip'].isnull()])"
   ]
  },
  {
   "cell_type": "markdown",
   "metadata": {},
   "source": [
    "So every parcel that is missing a property size is also missing a zip code! And a pclass!"
   ]
  },
  {
   "cell_type": "markdown",
   "metadata": {
    "collapsed": true
   },
   "source": [
    "### pclass"
   ]
  },
  {
   "cell_type": "code",
   "execution_count": 67,
   "metadata": {
    "collapsed": false
   },
   "outputs": [
    {
     "data": {
      "text/plain": [
       "{nan,\n",
       " 'Commerc. Exempt',\n",
       " 'Commercial',\n",
       " 'Exempt',\n",
       " 'Highway',\n",
       " 'Industrial',\n",
       " 'Land bank',\n",
       " 'Residential',\n",
       " 'Residential Exempt'}"
      ]
     },
     "execution_count": 67,
     "metadata": {},
     "output_type": "execute_result"
    }
   ],
   "source": [
    "set(prop['pclass'])"
   ]
  },
  {
   "cell_type": "code",
   "execution_count": 68,
   "metadata": {
    "collapsed": false
   },
   "outputs": [
    {
     "name": "stdout",
     "output_type": "stream",
     "text": [
      "(13500, 9)\n"
     ]
    }
   ],
   "source": [
    "pclass = prop[prop['pclass'].notnull()][['parcel','pclass']].groupby('parcel').first()\n",
    "tci = pd.merge(tci, pclass, how='left', left_on='parcel', right_index=True)\n",
    "print tci.shape"
   ]
  },
  {
   "cell_type": "code",
   "execution_count": 69,
   "metadata": {
    "collapsed": false
   },
   "outputs": [
    {
     "data": {
      "text/html": [
       "<div style=\"max-height:1000px;max-width:1500px;overflow:auto;\">\n",
       "<table border=\"1\" class=\"dataframe\">\n",
       "  <thead>\n",
       "    <tr>\n",
       "      <th></th>\n",
       "      <th colspan=\"2\" halign=\"left\">vacant</th>\n",
       "    </tr>\n",
       "    <tr>\n",
       "      <th></th>\n",
       "      <th>sum</th>\n",
       "      <th>len</th>\n",
       "    </tr>\n",
       "    <tr>\n",
       "      <th>pclass</th>\n",
       "      <th></th>\n",
       "      <th></th>\n",
       "    </tr>\n",
       "  </thead>\n",
       "  <tbody>\n",
       "    <tr>\n",
       "      <th>Commerc. Exempt</th>\n",
       "      <td>    0</td>\n",
       "      <td>     5</td>\n",
       "    </tr>\n",
       "    <tr>\n",
       "      <th>Commercial</th>\n",
       "      <td>    9</td>\n",
       "      <td>   172</td>\n",
       "    </tr>\n",
       "    <tr>\n",
       "      <th>Exempt</th>\n",
       "      <td>    8</td>\n",
       "      <td>   318</td>\n",
       "    </tr>\n",
       "    <tr>\n",
       "      <th>Industrial</th>\n",
       "      <td>    0</td>\n",
       "      <td>     4</td>\n",
       "    </tr>\n",
       "    <tr>\n",
       "      <th>Land bank</th>\n",
       "      <td>    3</td>\n",
       "      <td>   501</td>\n",
       "    </tr>\n",
       "    <tr>\n",
       "      <th>Residential</th>\n",
       "      <td> 1511</td>\n",
       "      <td> 12122</td>\n",
       "    </tr>\n",
       "    <tr>\n",
       "      <th>Residential Exempt</th>\n",
       "      <td>   12</td>\n",
       "      <td>   123</td>\n",
       "    </tr>\n",
       "  </tbody>\n",
       "</table>\n",
       "</div>"
      ],
      "text/plain": [
       "                   vacant       \n",
       "                      sum    len\n",
       "pclass                          \n",
       "Commerc. Exempt         0      5\n",
       "Commercial              9    172\n",
       "Exempt                  8    318\n",
       "Industrial              0      4\n",
       "Land bank               3    501\n",
       "Residential          1511  12122\n",
       "Residential Exempt     12    123"
      ]
     },
     "execution_count": 69,
     "metadata": {},
     "output_type": "execute_result"
    }
   ],
   "source": [
    "tci[['vacant','pclass']].groupby('pclass').agg([sum,len])"
   ]
  },
  {
   "cell_type": "markdown",
   "metadata": {},
   "source": [
    "### Total usable area"
   ]
  },
  {
   "cell_type": "code",
   "execution_count": 70,
   "metadata": {
    "collapsed": false
   },
   "outputs": [
    {
     "name": "stdout",
     "output_type": "stream",
     "text": [
      "(13500, 10)\n"
     ]
    }
   ],
   "source": [
    "prop['totusabl'] = prop['totusabl'].apply(parse_comma)\n",
    "usable_area = prop[prop['totusabl'].notnull()][['parcel','totusabl']].sort('totusabl', ascending=False).groupby('parcel').first()\n",
    "tci = pd.merge(tci, usable_area, how='left', left_on='parcel', right_index=True)\n",
    "print tci.shape"
   ]
  },
  {
   "cell_type": "markdown",
   "metadata": {},
   "source": [
    "### Total Market Value"
   ]
  },
  {
   "cell_type": "code",
   "execution_count": 71,
   "metadata": {
    "collapsed": false
   },
   "outputs": [
    {
     "name": "stdout",
     "output_type": "stream",
     "text": [
      "(13500, 11)\n"
     ]
    }
   ],
   "source": [
    "tmktval = prop[['tmktval','parcel']].groupby('parcel').median()\n",
    "tci = pd.merge(tci, tmktval, how='left', left_on='parcel', right_index=True)\n",
    "print tci.shape"
   ]
  },
  {
   "cell_type": "code",
   "execution_count": 72,
   "metadata": {
    "collapsed": false
   },
   "outputs": [
    {
     "data": {
      "text/html": [
       "<div style=\"max-height:1000px;max-width:1500px;overflow:auto;\">\n",
       "<table border=\"1\" class=\"dataframe\">\n",
       "  <thead>\n",
       "    <tr style=\"text-align: right;\">\n",
       "      <th></th>\n",
       "      <th>parcel</th>\n",
       "      <th>House Number</th>\n",
       "      <th>Street Name</th>\n",
       "      <th>Category</th>\n",
       "      <th>Survey Date</th>\n",
       "      <th>vacant</th>\n",
       "      <th>zip</th>\n",
       "      <th>propsize</th>\n",
       "      <th>pclass</th>\n",
       "      <th>totusabl</th>\n",
       "      <th>tmktval</th>\n",
       "    </tr>\n",
       "  </thead>\n",
       "  <tbody>\n",
       "    <tr>\n",
       "      <th>0</th>\n",
       "      <td> 121-31-003</td>\n",
       "      <td> 2427</td>\n",
       "      <td> WOODHILL RD</td>\n",
       "      <td> Occupied Structure</td>\n",
       "      <td> 2014-03-18</td>\n",
       "      <td> 0</td>\n",
       "      <td> 44104</td>\n",
       "      <td> 8155</td>\n",
       "      <td> Residential</td>\n",
       "      <td>    0</td>\n",
       "      <td> 2600</td>\n",
       "    </tr>\n",
       "    <tr>\n",
       "      <th>1</th>\n",
       "      <td> 121-31-005</td>\n",
       "      <td>  NaN</td>\n",
       "      <td>         NaN</td>\n",
       "      <td>         Vacant Lot</td>\n",
       "      <td> 2014-03-18</td>\n",
       "      <td> 0</td>\n",
       "      <td>   NaN</td>\n",
       "      <td>  NaN</td>\n",
       "      <td>         NaN</td>\n",
       "      <td>  NaN</td>\n",
       "      <td>  NaN</td>\n",
       "    </tr>\n",
       "    <tr>\n",
       "      <th>2</th>\n",
       "      <td> 121-31-008</td>\n",
       "      <td>  NaN</td>\n",
       "      <td>         NaN</td>\n",
       "      <td>         Vacant Lot</td>\n",
       "      <td> 2014-03-18</td>\n",
       "      <td> 0</td>\n",
       "      <td> 44104</td>\n",
       "      <td> 3605</td>\n",
       "      <td> Residential</td>\n",
       "      <td>    0</td>\n",
       "      <td> 2800</td>\n",
       "    </tr>\n",
       "    <tr>\n",
       "      <th>3</th>\n",
       "      <td> 121-31-012</td>\n",
       "      <td> 2458</td>\n",
       "      <td>  BALDWIN RD</td>\n",
       "      <td>         Vacant Lot</td>\n",
       "      <td> 2014-03-18</td>\n",
       "      <td> 0</td>\n",
       "      <td> 44104</td>\n",
       "      <td> 5544</td>\n",
       "      <td> Residential</td>\n",
       "      <td> 1584</td>\n",
       "      <td> 2550</td>\n",
       "    </tr>\n",
       "    <tr>\n",
       "      <th>4</th>\n",
       "      <td> 121-31-013</td>\n",
       "      <td> 8685</td>\n",
       "      <td>  BALDWIN RD</td>\n",
       "      <td>         Vacant Lot</td>\n",
       "      <td> 2014-03-18</td>\n",
       "      <td> 0</td>\n",
       "      <td> 44104</td>\n",
       "      <td>    0</td>\n",
       "      <td> Residential</td>\n",
       "      <td>    0</td>\n",
       "      <td> 3400</td>\n",
       "    </tr>\n",
       "  </tbody>\n",
       "</table>\n",
       "</div>"
      ],
      "text/plain": [
       "       parcel House Number  Street Name            Category Survey Date  \\\n",
       "0  121-31-003         2427  WOODHILL RD  Occupied Structure  2014-03-18   \n",
       "1  121-31-005          NaN          NaN          Vacant Lot  2014-03-18   \n",
       "2  121-31-008          NaN          NaN          Vacant Lot  2014-03-18   \n",
       "3  121-31-012         2458   BALDWIN RD          Vacant Lot  2014-03-18   \n",
       "4  121-31-013         8685   BALDWIN RD          Vacant Lot  2014-03-18   \n",
       "\n",
       "   vacant    zip  propsize       pclass  totusabl  tmktval  \n",
       "0       0  44104      8155  Residential         0     2600  \n",
       "1       0    NaN       NaN          NaN       NaN      NaN  \n",
       "2       0  44104      3605  Residential         0     2800  \n",
       "3       0  44104      5544  Residential      1584     2550  \n",
       "4       0  44104         0  Residential         0     3400  "
      ]
     },
     "execution_count": 72,
     "metadata": {},
     "output_type": "execute_result"
    }
   ],
   "source": [
    "tci.head()"
   ]
  },
  {
   "cell_type": "markdown",
   "metadata": {},
   "source": [
    "### Condition"
   ]
  },
  {
   "cell_type": "code",
   "execution_count": 73,
   "metadata": {
    "collapsed": false
   },
   "outputs": [
    {
     "data": {
      "text/plain": [
       "{nan,\n",
       " 'Average',\n",
       " 'Fair',\n",
       " 'Good',\n",
       " 'Poor',\n",
       " 'Sound value (c)',\n",
       " 'Unsound',\n",
       " 'Very good',\n",
       " 'Very poor'}"
      ]
     },
     "execution_count": 73,
     "metadata": {},
     "output_type": "execute_result"
    }
   ],
   "source": [
    "set(prop['condition'])"
   ]
  },
  {
   "cell_type": "code",
   "execution_count": 74,
   "metadata": {
    "collapsed": false
   },
   "outputs": [
    {
     "data": {
      "text/html": [
       "<div style=\"max-height:1000px;max-width:1500px;overflow:auto;\">\n",
       "<table border=\"1\" class=\"dataframe\">\n",
       "  <thead>\n",
       "    <tr style=\"text-align: right;\">\n",
       "      <th></th>\n",
       "      <th>condition</th>\n",
       "    </tr>\n",
       "    <tr>\n",
       "      <th>parcel</th>\n",
       "      <th></th>\n",
       "    </tr>\n",
       "  </thead>\n",
       "  <tbody>\n",
       "    <tr>\n",
       "      <th>121-31-003</th>\n",
       "      <td>     NaN</td>\n",
       "    </tr>\n",
       "    <tr>\n",
       "      <th>121-31-008</th>\n",
       "      <td>     NaN</td>\n",
       "    </tr>\n",
       "    <tr>\n",
       "      <th>121-31-012</th>\n",
       "      <td>     NaN</td>\n",
       "    </tr>\n",
       "    <tr>\n",
       "      <th>121-31-013</th>\n",
       "      <td>     NaN</td>\n",
       "    </tr>\n",
       "    <tr>\n",
       "      <th>121-31-015</th>\n",
       "      <td> Average</td>\n",
       "    </tr>\n",
       "  </tbody>\n",
       "</table>\n",
       "</div>"
      ],
      "text/plain": [
       "           condition\n",
       "parcel              \n",
       "121-31-003       NaN\n",
       "121-31-008       NaN\n",
       "121-31-012       NaN\n",
       "121-31-013       NaN\n",
       "121-31-015   Average"
      ]
     },
     "execution_count": 74,
     "metadata": {},
     "output_type": "execute_result"
    }
   ],
   "source": [
    "prop[prop.taxyr==2013][['parcel','condition']].groupby('parcel').first().head()"
   ]
  },
  {
   "cell_type": "code",
   "execution_count": 75,
   "metadata": {
    "collapsed": false
   },
   "outputs": [],
   "source": [
    "tci = pd.merge(tci, prop[prop.taxyr==2013][['parcel','condition']].groupby('parcel').first(), how='left', left_on='parcel', right_index=True)"
   ]
  },
  {
   "cell_type": "code",
   "execution_count": 76,
   "metadata": {
    "collapsed": false
   },
   "outputs": [
    {
     "data": {
      "text/plain": [
       "(13500, 12)"
      ]
     },
     "execution_count": 76,
     "metadata": {},
     "output_type": "execute_result"
    }
   ],
   "source": [
    "tci.shape"
   ]
  },
  {
   "cell_type": "code",
   "execution_count": 77,
   "metadata": {
    "collapsed": false
   },
   "outputs": [
    {
     "name": "stdout",
     "output_type": "stream",
     "text": [
      "(13500, 13)\n"
     ]
    }
   ],
   "source": [
    "# unsound\n",
    "# very poor\n",
    "# poor\n",
    "# fair\n",
    "# average\n",
    "# good\n",
    "# very good\n",
    "# sound\n",
    "\n",
    "condition_value = {'Unsound': 0, 'Very poor': 1, 'Poor': 2, 'Fair': 3, 'Average': 4, \\\n",
    "                   'Good': 5, 'Very good': 6, 'Sound value (c)': 7}\n",
    "prop.loc[prop['condition'].notnull(),'condition_value'] = prop.loc[prop['condition'].notnull(),'condition'].apply(lambda x: condition_value[x])\n",
    "tci = pd.merge(tci, prop[prop.taxyr==2013][['parcel','condition_value']].groupby('parcel').first() \\\n",
    "               , how='left', left_on='parcel', right_index=True)\n",
    "print tci.shape"
   ]
  },
  {
   "cell_type": "code",
   "execution_count": 78,
   "metadata": {
    "collapsed": false
   },
   "outputs": [
    {
     "data": {
      "text/html": [
       "<div style=\"max-height:1000px;max-width:1500px;overflow:auto;\">\n",
       "<table border=\"1\" class=\"dataframe\">\n",
       "  <thead>\n",
       "    <tr>\n",
       "      <th></th>\n",
       "      <th colspan=\"2\" halign=\"left\">vacant</th>\n",
       "    </tr>\n",
       "    <tr>\n",
       "      <th></th>\n",
       "      <th>sum</th>\n",
       "      <th>len</th>\n",
       "    </tr>\n",
       "    <tr>\n",
       "      <th>condition_value</th>\n",
       "      <th></th>\n",
       "      <th></th>\n",
       "    </tr>\n",
       "  </thead>\n",
       "  <tbody>\n",
       "    <tr>\n",
       "      <th>0</th>\n",
       "      <td>  81</td>\n",
       "      <td>  123</td>\n",
       "    </tr>\n",
       "    <tr>\n",
       "      <th>1</th>\n",
       "      <td> 126</td>\n",
       "      <td>  219</td>\n",
       "    </tr>\n",
       "    <tr>\n",
       "      <th>2</th>\n",
       "      <td> 330</td>\n",
       "      <td>  909</td>\n",
       "    </tr>\n",
       "    <tr>\n",
       "      <th>3</th>\n",
       "      <td> 586</td>\n",
       "      <td> 3982</td>\n",
       "    </tr>\n",
       "    <tr>\n",
       "      <th>4</th>\n",
       "      <td> 333</td>\n",
       "      <td> 4531</td>\n",
       "    </tr>\n",
       "    <tr>\n",
       "      <th>5</th>\n",
       "      <td>  36</td>\n",
       "      <td>  857</td>\n",
       "    </tr>\n",
       "    <tr>\n",
       "      <th>6</th>\n",
       "      <td>   2</td>\n",
       "      <td>   25</td>\n",
       "    </tr>\n",
       "  </tbody>\n",
       "</table>\n",
       "</div>"
      ],
      "text/plain": [
       "                vacant      \n",
       "                   sum   len\n",
       "condition_value             \n",
       "0                   81   123\n",
       "1                  126   219\n",
       "2                  330   909\n",
       "3                  586  3982\n",
       "4                  333  4531\n",
       "5                   36   857\n",
       "6                    2    25"
      ]
     },
     "execution_count": 78,
     "metadata": {},
     "output_type": "execute_result"
    }
   ],
   "source": [
    "tci.loc[tci.pclass=='Residential'][['vacant','condition_value']].groupby('condition_value').agg([sum,len])"
   ]
  },
  {
   "cell_type": "code",
   "execution_count": 79,
   "metadata": {
    "collapsed": false
   },
   "outputs": [
    {
     "data": {
      "text/plain": [
       "condition_value\n",
       "0                  0.648000\n",
       "1                  0.549784\n",
       "2                  0.360814\n",
       "3                  0.145607\n",
       "4                  0.074114\n",
       "5                  0.041712\n",
       "6                  0.074074\n",
       "7                  0.000000\n",
       "dtype: float64"
      ]
     },
     "execution_count": 79,
     "metadata": {},
     "output_type": "execute_result"
    }
   ],
   "source": [
    "t = tci[['condition_value','vacant']].groupby('condition_value').agg([len, sum])\n",
    "t.vacant['sum']/t.vacant['len']"
   ]
  },
  {
   "cell_type": "markdown",
   "metadata": {},
   "source": [
    "### Housing style"
   ]
  },
  {
   "cell_type": "code",
   "execution_count": 80,
   "metadata": {
    "collapsed": false
   },
   "outputs": [],
   "source": [
    "styles = ['Bungalow','Cape Cod','Colonial','Ranch']\n",
    "\n",
    "def get_style(x):\n",
    "    if x in styles:\n",
    "        return x\n",
    "    else:\n",
    "        return np.nan\n",
    "\n",
    "prop['style_filtered'] = prop['style'].apply(get_style)"
   ]
  },
  {
   "cell_type": "code",
   "execution_count": 81,
   "metadata": {
    "collapsed": false
   },
   "outputs": [
    {
     "name": "stdout",
     "output_type": "stream",
     "text": [
      "(13500, 14)\n"
     ]
    }
   ],
   "source": [
    "tci = pd.merge(tci, prop[prop.taxyr==2013][['parcel','style_filtered']].groupby('parcel').first() \\\n",
    "               , how='left', left_on='parcel', right_index=True)\n",
    "print tci.shape"
   ]
  },
  {
   "cell_type": "code",
   "execution_count": 82,
   "metadata": {
    "collapsed": false
   },
   "outputs": [
    {
     "data": {
      "text/html": [
       "<div style=\"max-height:1000px;max-width:1500px;overflow:auto;\">\n",
       "<table border=\"1\" class=\"dataframe\">\n",
       "  <thead>\n",
       "    <tr>\n",
       "      <th></th>\n",
       "      <th colspan=\"2\" halign=\"left\">vacant</th>\n",
       "    </tr>\n",
       "    <tr>\n",
       "      <th></th>\n",
       "      <th>sum</th>\n",
       "      <th>len</th>\n",
       "    </tr>\n",
       "    <tr>\n",
       "      <th>style_filtered</th>\n",
       "      <th></th>\n",
       "      <th></th>\n",
       "    </tr>\n",
       "  </thead>\n",
       "  <tbody>\n",
       "    <tr>\n",
       "      <th>Bungalow</th>\n",
       "      <td>   35</td>\n",
       "      <td>  218</td>\n",
       "    </tr>\n",
       "    <tr>\n",
       "      <th>Cape Cod</th>\n",
       "      <td>  197</td>\n",
       "      <td> 1526</td>\n",
       "    </tr>\n",
       "    <tr>\n",
       "      <th>Colonial</th>\n",
       "      <td> 1216</td>\n",
       "      <td> 8513</td>\n",
       "    </tr>\n",
       "    <tr>\n",
       "      <th>Ranch</th>\n",
       "      <td>   45</td>\n",
       "      <td>  354</td>\n",
       "    </tr>\n",
       "  </tbody>\n",
       "</table>\n",
       "</div>"
      ],
      "text/plain": [
       "               vacant      \n",
       "                  sum   len\n",
       "style_filtered             \n",
       "Bungalow           35   218\n",
       "Cape Cod          197  1526\n",
       "Colonial         1216  8513\n",
       "Ranch              45   354"
      ]
     },
     "execution_count": 82,
     "metadata": {},
     "output_type": "execute_result"
    }
   ],
   "source": [
    "tci.loc[tci.pclass=='Residential'][['vacant','style_filtered']].groupby('style_filtered').agg([sum,len])"
   ]
  },
  {
   "cell_type": "code",
   "execution_count": 83,
   "metadata": {
    "collapsed": false
   },
   "outputs": [
    {
     "data": {
      "text/plain": [
       "0.11518518518518518"
      ]
     },
     "execution_count": 83,
     "metadata": {},
     "output_type": "execute_result"
    }
   ],
   "source": [
    "sum(tci.vacant)/float(len(tci))"
   ]
  },
  {
   "cell_type": "markdown",
   "metadata": {},
   "source": [
    "### Owner occupancy"
   ]
  },
  {
   "cell_type": "code",
   "execution_count": 84,
   "metadata": {
    "collapsed": false
   },
   "outputs": [],
   "source": [
    "def get_own(x):\n",
    "    if x == 'Yes':\n",
    "        return 1\n",
    "    elif x == 'No':\n",
    "        return 0\n",
    "    else:\n",
    "        return np.nan\n",
    "    \n",
    "prop['ownerocc_value'] = prop['ownerocc'].apply(get_own)"
   ]
  },
  {
   "cell_type": "code",
   "execution_count": 85,
   "metadata": {
    "collapsed": false
   },
   "outputs": [],
   "source": [
    "tci = pd.merge(tci, prop[prop.taxyr==2013][['parcel','ownerocc_value']].groupby('parcel').first(), \\\n",
    "               how='left', left_on='parcel', right_index=True)"
   ]
  },
  {
   "cell_type": "code",
   "execution_count": 86,
   "metadata": {
    "collapsed": false
   },
   "outputs": [
    {
     "data": {
      "text/plain": [
       "(13500, 15)"
      ]
     },
     "execution_count": 86,
     "metadata": {},
     "output_type": "execute_result"
    }
   ],
   "source": [
    "tci.shape"
   ]
  },
  {
   "cell_type": "code",
   "execution_count": 87,
   "metadata": {
    "collapsed": false
   },
   "outputs": [
    {
     "data": {
      "text/plain": [
       "ownerocc_value\n",
       "0                 0.148204\n",
       "1                 0.084161\n",
       "dtype: float64"
      ]
     },
     "execution_count": 87,
     "metadata": {},
     "output_type": "execute_result"
    }
   ],
   "source": [
    "t = tci[['ownerocc_value','vacant']].groupby('ownerocc_value').agg([len, sum])\n",
    "t.vacant['sum']/t.vacant['len']"
   ]
  },
  {
   "cell_type": "markdown",
   "metadata": {},
   "source": [
    "### Total buildings"
   ]
  },
  {
   "cell_type": "code",
   "execution_count": 88,
   "metadata": {
    "collapsed": false
   },
   "outputs": [
    {
     "name": "stdout",
     "output_type": "stream",
     "text": [
      "(13500, 16)\n"
     ]
    }
   ],
   "source": [
    "tci = pd.merge(tci, prop[prop.taxyr==2013][['parcel','totbldgs']].groupby('parcel').first(), \\\n",
    "               how='left', left_on='parcel', right_index=True)\n",
    "print tci.shape"
   ]
  },
  {
   "cell_type": "code",
   "execution_count": 89,
   "metadata": {
    "collapsed": false
   },
   "outputs": [
    {
     "data": {
      "text/html": [
       "<div style=\"max-height:1000px;max-width:1500px;overflow:auto;\">\n",
       "<table border=\"1\" class=\"dataframe\">\n",
       "  <thead>\n",
       "    <tr style=\"text-align: right;\">\n",
       "      <th></th>\n",
       "      <th>parcel</th>\n",
       "      <th>House Number</th>\n",
       "      <th>Street Name</th>\n",
       "      <th>Category</th>\n",
       "      <th>Survey Date</th>\n",
       "      <th>vacant</th>\n",
       "      <th>zip</th>\n",
       "      <th>propsize</th>\n",
       "      <th>pclass</th>\n",
       "      <th>totusabl</th>\n",
       "      <th>tmktval</th>\n",
       "      <th>condition</th>\n",
       "      <th>condition_value</th>\n",
       "      <th>style_filtered</th>\n",
       "      <th>ownerocc_value</th>\n",
       "      <th>totbldgs</th>\n",
       "    </tr>\n",
       "  </thead>\n",
       "  <tbody>\n",
       "    <tr>\n",
       "      <th>0</th>\n",
       "      <td> 121-31-003</td>\n",
       "      <td> 2427</td>\n",
       "      <td> WOODHILL RD</td>\n",
       "      <td> Occupied Structure</td>\n",
       "      <td> 2014-03-18</td>\n",
       "      <td> 0</td>\n",
       "      <td> 44104</td>\n",
       "      <td> 8155</td>\n",
       "      <td> Residential</td>\n",
       "      <td>    0</td>\n",
       "      <td> 2600</td>\n",
       "      <td> NaN</td>\n",
       "      <td>NaN</td>\n",
       "      <td> NaN</td>\n",
       "      <td>  0</td>\n",
       "      <td>NaN</td>\n",
       "    </tr>\n",
       "    <tr>\n",
       "      <th>1</th>\n",
       "      <td> 121-31-005</td>\n",
       "      <td>  NaN</td>\n",
       "      <td>         NaN</td>\n",
       "      <td>         Vacant Lot</td>\n",
       "      <td> 2014-03-18</td>\n",
       "      <td> 0</td>\n",
       "      <td>   NaN</td>\n",
       "      <td>  NaN</td>\n",
       "      <td>         NaN</td>\n",
       "      <td>  NaN</td>\n",
       "      <td>  NaN</td>\n",
       "      <td> NaN</td>\n",
       "      <td>NaN</td>\n",
       "      <td> NaN</td>\n",
       "      <td>NaN</td>\n",
       "      <td>NaN</td>\n",
       "    </tr>\n",
       "    <tr>\n",
       "      <th>2</th>\n",
       "      <td> 121-31-008</td>\n",
       "      <td>  NaN</td>\n",
       "      <td>         NaN</td>\n",
       "      <td>         Vacant Lot</td>\n",
       "      <td> 2014-03-18</td>\n",
       "      <td> 0</td>\n",
       "      <td> 44104</td>\n",
       "      <td> 3605</td>\n",
       "      <td> Residential</td>\n",
       "      <td>    0</td>\n",
       "      <td> 2800</td>\n",
       "      <td> NaN</td>\n",
       "      <td>NaN</td>\n",
       "      <td> NaN</td>\n",
       "      <td>  0</td>\n",
       "      <td>  0</td>\n",
       "    </tr>\n",
       "    <tr>\n",
       "      <th>3</th>\n",
       "      <td> 121-31-012</td>\n",
       "      <td> 2458</td>\n",
       "      <td>  BALDWIN RD</td>\n",
       "      <td>         Vacant Lot</td>\n",
       "      <td> 2014-03-18</td>\n",
       "      <td> 0</td>\n",
       "      <td> 44104</td>\n",
       "      <td> 5544</td>\n",
       "      <td> Residential</td>\n",
       "      <td> 1584</td>\n",
       "      <td> 2550</td>\n",
       "      <td> NaN</td>\n",
       "      <td>NaN</td>\n",
       "      <td> NaN</td>\n",
       "      <td>  0</td>\n",
       "      <td>  0</td>\n",
       "    </tr>\n",
       "    <tr>\n",
       "      <th>4</th>\n",
       "      <td> 121-31-013</td>\n",
       "      <td> 8685</td>\n",
       "      <td>  BALDWIN RD</td>\n",
       "      <td>         Vacant Lot</td>\n",
       "      <td> 2014-03-18</td>\n",
       "      <td> 0</td>\n",
       "      <td> 44104</td>\n",
       "      <td>    0</td>\n",
       "      <td> Residential</td>\n",
       "      <td>    0</td>\n",
       "      <td> 3400</td>\n",
       "      <td> NaN</td>\n",
       "      <td>NaN</td>\n",
       "      <td> NaN</td>\n",
       "      <td>  0</td>\n",
       "      <td>NaN</td>\n",
       "    </tr>\n",
       "  </tbody>\n",
       "</table>\n",
       "</div>"
      ],
      "text/plain": [
       "       parcel House Number  Street Name            Category Survey Date  \\\n",
       "0  121-31-003         2427  WOODHILL RD  Occupied Structure  2014-03-18   \n",
       "1  121-31-005          NaN          NaN          Vacant Lot  2014-03-18   \n",
       "2  121-31-008          NaN          NaN          Vacant Lot  2014-03-18   \n",
       "3  121-31-012         2458   BALDWIN RD          Vacant Lot  2014-03-18   \n",
       "4  121-31-013         8685   BALDWIN RD          Vacant Lot  2014-03-18   \n",
       "\n",
       "   vacant    zip  propsize       pclass  totusabl  tmktval condition  \\\n",
       "0       0  44104      8155  Residential         0     2600       NaN   \n",
       "1       0    NaN       NaN          NaN       NaN      NaN       NaN   \n",
       "2       0  44104      3605  Residential         0     2800       NaN   \n",
       "3       0  44104      5544  Residential      1584     2550       NaN   \n",
       "4       0  44104         0  Residential         0     3400       NaN   \n",
       "\n",
       "   condition_value style_filtered  ownerocc_value  totbldgs  \n",
       "0              NaN            NaN               0       NaN  \n",
       "1              NaN            NaN             NaN       NaN  \n",
       "2              NaN            NaN               0         0  \n",
       "3              NaN            NaN               0         0  \n",
       "4              NaN            NaN               0       NaN  "
      ]
     },
     "execution_count": 89,
     "metadata": {},
     "output_type": "execute_result"
    }
   ],
   "source": [
    "tci.head()"
   ]
  },
  {
   "cell_type": "markdown",
   "metadata": {},
   "source": [
    "### Year built"
   ]
  },
  {
   "cell_type": "code",
   "execution_count": 90,
   "metadata": {
    "collapsed": false
   },
   "outputs": [],
   "source": [
    "def get_year(x):\n",
    "    try:\n",
    "        x = int(x)\n",
    "    except ValueError:\n",
    "        x = np.nan\n",
    "    return x"
   ]
  },
  {
   "cell_type": "code",
   "execution_count": 91,
   "metadata": {
    "collapsed": false
   },
   "outputs": [],
   "source": [
    "prop['yrbuilt_filtered'] = prop['yrbuilt'].apply(get_year)"
   ]
  },
  {
   "cell_type": "code",
   "execution_count": 92,
   "metadata": {
    "collapsed": false
   },
   "outputs": [
    {
     "data": {
      "text/plain": [
       "(13500, 17)"
      ]
     },
     "execution_count": 92,
     "metadata": {},
     "output_type": "execute_result"
    }
   ],
   "source": [
    "tci = pd.merge(tci, prop[prop.taxyr==2013][['parcel','yrbuilt_filtered']].groupby('parcel').first(), \\\n",
    "               how='left', left_on='parcel', right_index=True)\n",
    "tci.shape"
   ]
  },
  {
   "cell_type": "markdown",
   "metadata": {},
   "source": [
    "### Exterior Wall"
   ]
  },
  {
   "cell_type": "code",
   "execution_count": 93,
   "metadata": {
    "collapsed": false
   },
   "outputs": [
    {
     "name": "stdout",
     "output_type": "stream",
     "text": [
      "(13500, 18)\n"
     ]
    }
   ],
   "source": [
    "tci = pd.merge(tci, prop[prop.taxyr==2013][['parcel','rextwall']].groupby('parcel').first(), \\\n",
    "               how='left', left_on='parcel', right_index=True)\n",
    "print tci.shape"
   ]
  },
  {
   "cell_type": "code",
   "execution_count": 94,
   "metadata": {
    "collapsed": false
   },
   "outputs": [
    {
     "data": {
      "text/html": [
       "<div style=\"max-height:1000px;max-width:1500px;overflow:auto;\">\n",
       "<table border=\"1\" class=\"dataframe\">\n",
       "  <thead>\n",
       "    <tr style=\"text-align: right;\">\n",
       "      <th></th>\n",
       "      <th>parcel</th>\n",
       "      <th>House Number</th>\n",
       "      <th>Street Name</th>\n",
       "      <th>Category</th>\n",
       "      <th>Survey Date</th>\n",
       "      <th>vacant</th>\n",
       "      <th>zip</th>\n",
       "      <th>propsize</th>\n",
       "      <th>pclass</th>\n",
       "      <th>totusabl</th>\n",
       "      <th>tmktval</th>\n",
       "      <th>condition</th>\n",
       "      <th>condition_value</th>\n",
       "      <th>style_filtered</th>\n",
       "      <th>ownerocc_value</th>\n",
       "      <th>totbldgs</th>\n",
       "      <th>yrbuilt_filtered</th>\n",
       "      <th>rextwall</th>\n",
       "    </tr>\n",
       "  </thead>\n",
       "  <tbody>\n",
       "    <tr>\n",
       "      <th>0</th>\n",
       "      <td> 121-31-003</td>\n",
       "      <td> 2427</td>\n",
       "      <td> WOODHILL RD</td>\n",
       "      <td> Occupied Structure</td>\n",
       "      <td> 2014-03-18</td>\n",
       "      <td> 0</td>\n",
       "      <td> 44104</td>\n",
       "      <td> 8155</td>\n",
       "      <td> Residential</td>\n",
       "      <td>    0</td>\n",
       "      <td> 2600</td>\n",
       "      <td> NaN</td>\n",
       "      <td>NaN</td>\n",
       "      <td> NaN</td>\n",
       "      <td>  0</td>\n",
       "      <td>NaN</td>\n",
       "      <td>NaN</td>\n",
       "      <td> NaN</td>\n",
       "    </tr>\n",
       "    <tr>\n",
       "      <th>1</th>\n",
       "      <td> 121-31-005</td>\n",
       "      <td>  NaN</td>\n",
       "      <td>         NaN</td>\n",
       "      <td>         Vacant Lot</td>\n",
       "      <td> 2014-03-18</td>\n",
       "      <td> 0</td>\n",
       "      <td>   NaN</td>\n",
       "      <td>  NaN</td>\n",
       "      <td>         NaN</td>\n",
       "      <td>  NaN</td>\n",
       "      <td>  NaN</td>\n",
       "      <td> NaN</td>\n",
       "      <td>NaN</td>\n",
       "      <td> NaN</td>\n",
       "      <td>NaN</td>\n",
       "      <td>NaN</td>\n",
       "      <td>NaN</td>\n",
       "      <td> NaN</td>\n",
       "    </tr>\n",
       "    <tr>\n",
       "      <th>2</th>\n",
       "      <td> 121-31-008</td>\n",
       "      <td>  NaN</td>\n",
       "      <td>         NaN</td>\n",
       "      <td>         Vacant Lot</td>\n",
       "      <td> 2014-03-18</td>\n",
       "      <td> 0</td>\n",
       "      <td> 44104</td>\n",
       "      <td> 3605</td>\n",
       "      <td> Residential</td>\n",
       "      <td>    0</td>\n",
       "      <td> 2800</td>\n",
       "      <td> NaN</td>\n",
       "      <td>NaN</td>\n",
       "      <td> NaN</td>\n",
       "      <td>  0</td>\n",
       "      <td>  0</td>\n",
       "      <td>NaN</td>\n",
       "      <td> NaN</td>\n",
       "    </tr>\n",
       "    <tr>\n",
       "      <th>3</th>\n",
       "      <td> 121-31-012</td>\n",
       "      <td> 2458</td>\n",
       "      <td>  BALDWIN RD</td>\n",
       "      <td>         Vacant Lot</td>\n",
       "      <td> 2014-03-18</td>\n",
       "      <td> 0</td>\n",
       "      <td> 44104</td>\n",
       "      <td> 5544</td>\n",
       "      <td> Residential</td>\n",
       "      <td> 1584</td>\n",
       "      <td> 2550</td>\n",
       "      <td> NaN</td>\n",
       "      <td>NaN</td>\n",
       "      <td> NaN</td>\n",
       "      <td>  0</td>\n",
       "      <td>  0</td>\n",
       "      <td>NaN</td>\n",
       "      <td> NaN</td>\n",
       "    </tr>\n",
       "    <tr>\n",
       "      <th>4</th>\n",
       "      <td> 121-31-013</td>\n",
       "      <td> 8685</td>\n",
       "      <td>  BALDWIN RD</td>\n",
       "      <td>         Vacant Lot</td>\n",
       "      <td> 2014-03-18</td>\n",
       "      <td> 0</td>\n",
       "      <td> 44104</td>\n",
       "      <td>    0</td>\n",
       "      <td> Residential</td>\n",
       "      <td>    0</td>\n",
       "      <td> 3400</td>\n",
       "      <td> NaN</td>\n",
       "      <td>NaN</td>\n",
       "      <td> NaN</td>\n",
       "      <td>  0</td>\n",
       "      <td>NaN</td>\n",
       "      <td>NaN</td>\n",
       "      <td> NaN</td>\n",
       "    </tr>\n",
       "  </tbody>\n",
       "</table>\n",
       "</div>"
      ],
      "text/plain": [
       "       parcel House Number  Street Name            Category Survey Date  \\\n",
       "0  121-31-003         2427  WOODHILL RD  Occupied Structure  2014-03-18   \n",
       "1  121-31-005          NaN          NaN          Vacant Lot  2014-03-18   \n",
       "2  121-31-008          NaN          NaN          Vacant Lot  2014-03-18   \n",
       "3  121-31-012         2458   BALDWIN RD          Vacant Lot  2014-03-18   \n",
       "4  121-31-013         8685   BALDWIN RD          Vacant Lot  2014-03-18   \n",
       "\n",
       "   vacant    zip  propsize       pclass  totusabl  tmktval condition  \\\n",
       "0       0  44104      8155  Residential         0     2600       NaN   \n",
       "1       0    NaN       NaN          NaN       NaN      NaN       NaN   \n",
       "2       0  44104      3605  Residential         0     2800       NaN   \n",
       "3       0  44104      5544  Residential      1584     2550       NaN   \n",
       "4       0  44104         0  Residential         0     3400       NaN   \n",
       "\n",
       "   condition_value style_filtered  ownerocc_value  totbldgs  yrbuilt_filtered  \\\n",
       "0              NaN            NaN               0       NaN               NaN   \n",
       "1              NaN            NaN             NaN       NaN               NaN   \n",
       "2              NaN            NaN               0         0               NaN   \n",
       "3              NaN            NaN               0         0               NaN   \n",
       "4              NaN            NaN               0       NaN               NaN   \n",
       "\n",
       "  rextwall  \n",
       "0      NaN  \n",
       "1      NaN  \n",
       "2      NaN  \n",
       "3      NaN  \n",
       "4      NaN  "
      ]
     },
     "execution_count": 94,
     "metadata": {},
     "output_type": "execute_result"
    }
   ],
   "source": [
    "tci.head()"
   ]
  },
  {
   "cell_type": "code",
   "execution_count": 95,
   "metadata": {
    "collapsed": false
   },
   "outputs": [
    {
     "data": {
      "text/plain": [
       "(13344, 69)"
      ]
     },
     "execution_count": 95,
     "metadata": {},
     "output_type": "execute_result"
    }
   ],
   "source": [
    "prop[prop.taxyr==2013].shape"
   ]
  },
  {
   "cell_type": "code",
   "execution_count": 96,
   "metadata": {
    "collapsed": true
   },
   "outputs": [],
   "source": [
    "tci.to_csv('model_data/tci_with_prop.csv', index=False)"
   ]
  }
 ],
 "metadata": {
  "kernelspec": {
   "display_name": "Python 2",
   "language": "python",
   "name": "python2"
  },
  "language_info": {
   "codemirror_mode": {
    "name": "ipython",
    "version": 2
   },
   "file_extension": ".py",
   "mimetype": "text/x-python",
   "name": "python",
   "nbconvert_exporter": "python",
   "pygments_lexer": "ipython2",
   "version": "2.7.9"
  }
 },
 "nbformat": 4,
 "nbformat_minor": 0
}
