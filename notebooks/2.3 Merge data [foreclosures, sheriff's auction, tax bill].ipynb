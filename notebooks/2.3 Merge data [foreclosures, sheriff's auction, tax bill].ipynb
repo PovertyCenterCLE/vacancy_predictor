{
 "cells": [
  {
   "cell_type": "code",
   "execution_count": 1,
   "metadata": {
    "collapsed": false
   },
   "outputs": [
    {
     "name": "stdout",
     "output_type": "stream",
     "text": [
      "/Volumes/Dropbox/largetransfer/luc/carter\n",
      "(113132, 47)\n"
     ]
    }
   ],
   "source": [
    "import matplotlib.pyplot as plt\n",
    "import datetime as dt\n",
    "import seaborn as sns\n",
    "import pandas as pd\n",
    "import numpy as np\n",
    "import os\n",
    "\n",
    "%matplotlib inline\n",
    "\n",
    "path = '/'.join(os.getcwd().split('/')[:-1])\n",
    "print(path)\n",
    "\n",
    "tci = pd.read_csv(path+'/data/model_data/tci_2_2.csv', parse_dates=['Date'], dtype={'Parcel ID':str})\n",
    "\n",
    "ppns = set(tci['parcel'])\n",
    "dates = dict(zip(tci.parcel, tci.Date))\n",
    "\n",
    "print(tci.shape)"
   ]
  },
  {
   "cell_type": "markdown",
   "metadata": {},
   "source": [
    "## Foreclosure data"
   ]
  },
  {
   "cell_type": "code",
   "execution_count": 2,
   "metadata": {
    "collapsed": false
   },
   "outputs": [],
   "source": [
    "fc = pd.read_csv(path+'/data/clean_data/foreclosure_filings2.csv', parse_dates=[2])\n",
    "fc = fc.loc[fc.apply(lambda x: x.filedate < dates[x.parcel], axis=1)]"
   ]
  },
  {
   "cell_type": "code",
   "execution_count": 3,
   "metadata": {
    "collapsed": false
   },
   "outputs": [
    {
     "data": {
      "text/plain": [
       "Timestamp('2015-09-23 00:00:00')"
      ]
     },
     "execution_count": 3,
     "metadata": {},
     "output_type": "execute_result"
    }
   ],
   "source": [
    "max(fc.filedate)"
   ]
  },
  {
   "cell_type": "code",
   "execution_count": 4,
   "metadata": {
    "collapsed": false,
    "scrolled": true
   },
   "outputs": [
    {
     "name": "stdout",
     "output_type": "stream",
     "text": [
      "<class 'pandas.core.frame.DataFrame'>\n",
      "Int64Index: 40102 entries, 0 to 40879\n",
      "Data columns (total 13 columns):\n",
      "parcel            40102 non-null object\n",
      "status            40102 non-null object\n",
      "filedate          40102 non-null datetime64[ns]\n",
      "defendant         40102 non-null object\n",
      "caseno            40102 non-null object\n",
      "parcel_address    40065 non-null object\n",
      "dateid            40102 non-null object\n",
      "case_title        0 non-null float64\n",
      "plaintiff         40102 non-null object\n",
      "FORE              40102 non-null int64\n",
      "LATITUDE          40082 non-null float64\n",
      "LONGITUDE         40082 non-null float64\n",
      "zip_fore          39141 non-null float64\n",
      "dtypes: datetime64[ns](1), float64(4), int64(1), object(7)\n",
      "memory usage: 4.3+ MB\n"
     ]
    }
   ],
   "source": [
    "fc.info()"
   ]
  },
  {
   "cell_type": "code",
   "execution_count": 5,
   "metadata": {
    "collapsed": false
   },
   "outputs": [],
   "source": [
    "fc.head(1)\n",
    "fc = fc.sort_values('filedate')\n",
    "fc = fc.groupby('caseno').last()"
   ]
  },
  {
   "cell_type": "code",
   "execution_count": 6,
   "metadata": {
    "collapsed": false
   },
   "outputs": [],
   "source": [
    "# fc['pamount'] = fc['pamount'].apply(lambda x: float(x[1:].replace(',','')))"
   ]
  },
  {
   "cell_type": "markdown",
   "metadata": {},
   "source": [
    "#### Active foreclosure"
   ]
  },
  {
   "cell_type": "code",
   "execution_count": 7,
   "metadata": {
    "collapsed": false
   },
   "outputs": [
    {
     "name": "stdout",
     "output_type": "stream",
     "text": [
      "(113132, 48)\n"
     ]
    }
   ],
   "source": [
    "tem = fc.loc[fc.status=='Active',['parcel']]\n",
    "tem['active_fc'] = 1\n",
    "tem = tem.drop_duplicates()\n",
    "tem = tem.set_index('parcel')\n",
    "\n",
    "tci = pd.merge(tci, tem, \\\n",
    "             how='left', left_on='parcel', right_index=True)\n",
    "print(tci.shape)"
   ]
  },
  {
   "cell_type": "code",
   "execution_count": 8,
   "metadata": {
    "collapsed": false
   },
   "outputs": [],
   "source": [
    "# tem = fc[['parcel','pamount']].groupby('parcel').last()\n",
    "# tem.columns = ['foreclosure_flag']\n",
    "\n",
    "# # tci = pd.merge(tci, tem, \\\n",
    "# #              how='left', left_on='ppn', right_index=True)"
   ]
  },
  {
   "cell_type": "code",
   "execution_count": 9,
   "metadata": {
    "collapsed": false
   },
   "outputs": [],
   "source": [
    "fc_copy = fc.reset_index()\n",
    "\n",
    "fc_copy = fc_copy[['parcel','filedate']].groupby('parcel').count().reset_index()\n",
    "\n",
    "fc_copy['fc_1yr'] = fc_copy.apply(lambda x: \\\n",
    "        len(fc[(fc.parcel == x.parcel) & (fc.filedate > dates[x.parcel]-pd.DateOffset(years=1))]), axis=1)\n",
    "\n",
    "fc_copy = fc_copy.set_index('parcel')\n",
    "\n",
    "tci = pd.merge(tci, fc_copy[['fc_1yr']], \\\n",
    "               how='left', left_on='parcel', right_index=True)\n",
    "tci.loc[tci.fc_1yr.isnull(), 'fc_1yr'] = 0"
   ]
  },
  {
   "cell_type": "code",
   "execution_count": 10,
   "metadata": {
    "collapsed": true
   },
   "outputs": [],
   "source": [
    "fc_copy = fc.reset_index()\n",
    "\n",
    "fc_copy = fc_copy[['parcel','filedate']].groupby('parcel').count().reset_index()\n",
    "\n",
    "fc_copy['fc_2yr'] = fc_copy.apply(lambda x: \\\n",
    "        len(fc[(fc.parcel == x.parcel) & (fc.filedate > dates[x.parcel]-pd.DateOffset(years=2))]), axis=1)\n",
    "\n",
    "fc_copy = fc_copy.set_index('parcel')\n",
    "\n",
    "tci = pd.merge(tci, fc_copy[['fc_2yr']], \\\n",
    "               how='left', left_on='parcel', right_index=True)\n",
    "tci.loc[tci.fc_2yr.isnull(), 'fc_2yr'] = 0"
   ]
  },
  {
   "cell_type": "code",
   "execution_count": 11,
   "metadata": {
    "collapsed": false
   },
   "outputs": [],
   "source": [
    "# fc_count = fc[fc.filedate > dt.datetime(2013,6,1)].groupby('parcel').count()[['status']]\n",
    "# fc_count = fc_count.rename(columns={'status':'fc_2yr'})\n",
    "# tci = pd.merge(tci, fc_count, left_on='ppn',right_index=True, how='left')\n",
    "# tci.loc[tci.fc_2yr.isnull(),'fc_2yr'] = 0"
   ]
  },
  {
   "cell_type": "code",
   "execution_count": 12,
   "metadata": {
    "collapsed": false
   },
   "outputs": [
    {
     "data": {
      "text/html": [
       "<div>\n",
       "<table border=\"1\" class=\"dataframe\">\n",
       "  <thead>\n",
       "    <tr>\n",
       "      <th></th>\n",
       "      <th colspan=\"2\" halign=\"left\">vacant</th>\n",
       "    </tr>\n",
       "    <tr>\n",
       "      <th></th>\n",
       "      <th>sum</th>\n",
       "      <th>len</th>\n",
       "    </tr>\n",
       "    <tr>\n",
       "      <th>fc_2yr</th>\n",
       "      <th></th>\n",
       "      <th></th>\n",
       "    </tr>\n",
       "  </thead>\n",
       "  <tbody>\n",
       "    <tr>\n",
       "      <th>0</th>\n",
       "      <td>8416</td>\n",
       "      <td>107505</td>\n",
       "    </tr>\n",
       "    <tr>\n",
       "      <th>1</th>\n",
       "      <td>1560</td>\n",
       "      <td>5414</td>\n",
       "    </tr>\n",
       "    <tr>\n",
       "      <th>2</th>\n",
       "      <td>61</td>\n",
       "      <td>208</td>\n",
       "    </tr>\n",
       "    <tr>\n",
       "      <th>3</th>\n",
       "      <td>1</td>\n",
       "      <td>5</td>\n",
       "    </tr>\n",
       "  </tbody>\n",
       "</table>\n",
       "</div>"
      ],
      "text/plain": [
       "       vacant        \n",
       "          sum     len\n",
       "fc_2yr               \n",
       "0        8416  107505\n",
       "1        1560    5414\n",
       "2          61     208\n",
       "3           1       5"
      ]
     },
     "execution_count": 12,
     "metadata": {},
     "output_type": "execute_result"
    }
   ],
   "source": [
    "tci[['fc_2yr','vacant']].groupby('fc_2yr').agg([sum,len])"
   ]
  },
  {
   "cell_type": "code",
   "execution_count": 13,
   "metadata": {
    "collapsed": false
   },
   "outputs": [],
   "source": [
    "recent_fc = fc.sort_values('filedate').groupby('parcel').last().reset_index()\n",
    "fc_days = pd.DataFrame(recent_fc[['parcel','filedate']])\n",
    "fc_days['fc_days'] = fc_days.apply(lambda x: (dates[x.parcel]-x.filedate).days,axis=1)\n",
    "fc_days = fc_days.set_index('parcel')\n",
    "tci = pd.merge(tci, fc_days[['fc_days']], left_on='parcel',right_index=True, how='left')\n",
    "tci.loc[tci.fc_days.isnull(),'fc_days'] = max(tci[tci.fc_days.notnull()].fc_days)+1"
   ]
  },
  {
   "cell_type": "code",
   "execution_count": 14,
   "metadata": {
    "collapsed": false
   },
   "outputs": [
    {
     "data": {
      "image/png": "[encoded data removed]",
      "text/plain": [
       "<matplotlib.figure.Figure at 0x10413fbe0>"
      ]
     },
     "metadata": {},
     "output_type": "display_data"
    }
   ],
   "source": [
    "plt.hist(tci[tci.vacant==1].fc_days.values,normed=True,alpha=0.5)\n",
    "plt.hist(tci[tci.vacant==0].fc_days.values,normed=True,alpha=0.5);"
   ]
  },
  {
   "cell_type": "code",
   "execution_count": 14,
   "metadata": {
    "collapsed": false
   },
   "outputs": [],
   "source": [
    "# tci.loc[(tci.ppn.isin(set(fc[(fc.filedate < dt.datetime(2007,6,1)) & ((fc.ldispos=='DIS. W/O PREJ'))].parcel))),'fc_dis_w/o_prej'] = 1\n",
    "# tci.loc[~(tci.ppn.isin(set(fc[(fc.filedate < dt.datetime(2007,6,1)) & ((fc.ldispos=='DIS. W/O PREJ'))].parcel))),'fc_dis_w/o_prej'] = 0\n",
    "# pd.crosstab(tci['fc_dis_w/o_prej'], tci.vacant)"
   ]
  },
  {
   "cell_type": "code",
   "execution_count": 15,
   "metadata": {
    "collapsed": false
   },
   "outputs": [],
   "source": [
    "# tci.loc[(tci.ppn.isin(set(fc[(fc.ldispos=='DIS. W/O PREJ')].parcel))),'fc_dis_w/o_prej'] = 1\n",
    "# tci.loc[(~tci.ppn.isin(set(fc[(fc.ldispos=='DIS. W/O PREJ')].parcel))),'fc_dis_w/o_prej'] = 0\n",
    "# pd.crosstab(tci['fc_dis_w/o_prej'], tci.vacant)"
   ]
  },
  {
   "cell_type": "code",
   "execution_count": 16,
   "metadata": {
    "collapsed": false
   },
   "outputs": [],
   "source": [
    "# tci.loc[(tci.ppn.isin(set(fc[(fc.filedate > dt.datetime(2014,6,1)) & (fc.ldispos=='NEWLY FILED')].parcel))),'fc_newly_filed'] = 1\n",
    "# tci.loc[~(tci.ppn.isin(set(fc[(fc.filedate > dt.datetime(2014,6,1)) & (fc.ldispos=='NEWLY FILED')].parcel))),'fc_newly_filed'] = 0\n",
    "# pd.crosstab(tci['fc_newly_filed'], tci.vacant)"
   ]
  },
  {
   "cell_type": "code",
   "execution_count": 15,
   "metadata": {
    "collapsed": false
   },
   "outputs": [
    {
     "data": {
      "text/plain": [
       "Index(['parcel', 'status', 'filedate', 'defendant', 'parcel_address', 'dateid',\n",
       "       'case_title', 'plaintiff', 'FORE', 'LATITUDE', 'LONGITUDE', 'zip_fore'],\n",
       "      dtype='object')"
      ]
     },
     "execution_count": 15,
     "metadata": {},
     "output_type": "execute_result"
    }
   ],
   "source": [
    "fc.columns"
   ]
  },
  {
   "cell_type": "code",
   "execution_count": 16,
   "metadata": {
    "collapsed": false
   },
   "outputs": [],
   "source": [
    "# for dis1,dis2 in [['NEWLY FILED','fc_newly_filed'], ['DEFAULT','fc_default'], ['DISP.OTHER','fc_disp_other'], ['DIS. W/O PREJ','fc_dis_wo_prej']]:\n",
    "#     recent_fc = fc[(fc.ldispos==dis1)].sort_values('filedate').groupby('parcel').last()\n",
    "#     fc_days = pd.DataFrame(recent_fc.apply(lambda x: (dt.datetime(2015,6,1)-x.filedate).days,axis=1),columns=[dis2])\n",
    "#     tci = pd.merge(tci, fc_days, left_on='ppn',right_index=True, how='left')\n",
    "#     tci.loc[tci[dis2].isnull(),dis2] = max(tci[dis2])\n",
    "# print tci.shape"
   ]
  },
  {
   "cell_type": "markdown",
   "metadata": {},
   "source": [
    "## Sheriff's auction"
   ]
  },
  {
   "cell_type": "code",
   "execution_count": 17,
   "metadata": {
    "collapsed": false
   },
   "outputs": [],
   "source": [
    "sa = pd.read_csv(path+'/data/clean_data/sheriff_auction.csv', parse_dates=[2], encoding=\"ISO-8859-1\")\n",
    "sa = sa.loc[sa.apply(lambda x: x.salesdt < dates[x.parcel], axis=1)]"
   ]
  },
  {
   "cell_type": "code",
   "execution_count": 18,
   "metadata": {
    "collapsed": false
   },
   "outputs": [],
   "source": [
    "recent_sa = sa.sort_values('salesdt').groupby('parcel').last().reset_index()\n",
    "sa_days = pd.DataFrame(recent_sa[['parcel','salesdt']])\n",
    "sa_days['sa_days'] = sa_days.apply(lambda x: (dates[x.parcel]-x.salesdt).days,axis=1)\n",
    "sa_days = sa_days.set_index('parcel')\n",
    "tci = pd.merge(tci, sa_days[['sa_days']], left_on='parcel',right_index=True, how='left')\n",
    "tci.loc[tci.sa_days.isnull(),'sa_days'] = max(tci[tci.sa_days.notnull()].fc_days)+1"
   ]
  },
  {
   "cell_type": "code",
   "execution_count": 19,
   "metadata": {
    "collapsed": true
   },
   "outputs": [],
   "source": [
    "# sa = sa.set_index('parcel')"
   ]
  },
  {
   "cell_type": "code",
   "execution_count": 20,
   "metadata": {
    "collapsed": false
   },
   "outputs": [],
   "source": [
    "sa['days'] = pd.DataFrame(sa.apply(lambda x: (dt.datetime(2015,6,1)-x.salesdt).days,axis=1),columns=['sa_days'])"
   ]
  },
  {
   "cell_type": "code",
   "execution_count": 21,
   "metadata": {
    "collapsed": false
   },
   "outputs": [],
   "source": [
    "sa.loc[sa.minbid.notnull(),'minbid'] = sa[sa.minbid.notnull()].minbid.apply(lambda x: float(x[1:].replace(',','')))"
   ]
  },
  {
   "cell_type": "code",
   "execution_count": 22,
   "metadata": {
    "collapsed": false
   },
   "outputs": [],
   "source": [
    "# for status,name in [['NO BID SOLD TO LAND BANK','sa_no_bid_lb'],['NO BID FORFEIT TO STATE','sa_no_bid_state'] \\\n",
    "#                     ,['ACTIVE','sa_active'],['SOLD','sa_sold']]:\n",
    "#     tci = pd.merge(tci, sa.loc[sa.status == status,['days']], left_on='ppn', right_index=True, how='left')\n",
    "#     tci = tci.rename(columns={'days':name})\n",
    "# print(tci.shape)"
   ]
  },
  {
   "cell_type": "code",
   "execution_count": 23,
   "metadata": {
    "collapsed": false
   },
   "outputs": [],
   "source": [
    "sa['year'] = sa.salesdt.apply(lambda x: x.year)"
   ]
  },
  {
   "cell_type": "code",
   "execution_count": 24,
   "metadata": {
    "collapsed": true
   },
   "outputs": [],
   "source": [
    "def parse_amount(x):\n",
    "    return float(str(x)[1:].replace(',',''))"
   ]
  },
  {
   "cell_type": "code",
   "execution_count": 25,
   "metadata": {
    "collapsed": false
   },
   "outputs": [],
   "source": [
    "# sa.loc[sa.appraisal.notnull(), 'appraisal'] = sa.loc[sa.appraisal.notnull(), 'appraisal'].apply(parse_amount)"
   ]
  },
  {
   "cell_type": "code",
   "execution_count": 26,
   "metadata": {
    "collapsed": false
   },
   "outputs": [],
   "source": [
    "# sa['ssold'] = sa.ssold.apply(lambda x: 1 if x=='Yes' else 0)"
   ]
  },
  {
   "cell_type": "code",
   "execution_count": 27,
   "metadata": {
    "collapsed": false
   },
   "outputs": [],
   "source": [
    "# tem = sa.loc[sa.salesdt>dt.datetime(2013, 1, 1),['parcel','ssold']].groupby('parcel').sum()\n",
    "# tem.columns = ['auction_13']\n",
    "# tem.loc[tem['auction_13'].isnull(),'auction_13'] = 0\n",
    "# tci = pd.merge(tci, tem, \\\n",
    "#               how='left', left_on='ppn', right_index=True)\n",
    "# tci.loc[tci['auction_13'].isnull(),'auction_13'] = 0\n",
    "# tci.loc[(tci.vacant>-1),['auction_13','vacant']].groupby('auction_13').agg([sum,len])"
   ]
  },
  {
   "cell_type": "code",
   "execution_count": 28,
   "metadata": {
    "collapsed": false
   },
   "outputs": [],
   "source": [
    "# sum(tci.auction_13)"
   ]
  },
  {
   "cell_type": "code",
   "execution_count": 29,
   "metadata": {
    "collapsed": false
   },
   "outputs": [],
   "source": [
    "# tem = sa[['parcel','ssold']].groupby('parcel').sum()\n",
    "# tem.columns = ['auction_all']\n",
    "# tem.loc[tem['auction_all'].isnull(),'auction_all'] = 0\n",
    "# tci = pd.merge(tci, tem, \\\n",
    "#               how='left', left_on='ppn', right_index=True)\n",
    "# tci.loc[tci['auction_all'].isnull(),'auction_all'] = 0\n",
    "\n",
    "# tci.loc[(tci.vacant>-1),['auction_all','vacant']].groupby('auction_all').agg([sum,len])"
   ]
  },
  {
   "cell_type": "code",
   "execution_count": 30,
   "metadata": {
    "collapsed": false
   },
   "outputs": [],
   "source": [
    "# tci[tci.auction_13.isnull()] = 0\n",
    "# tci[tci.auction_13 > 0] = 1\n",
    "# tci[tci.auction_all.isnull()] = 0\n",
    "# tci[tci.auction_all > 0] = 1"
   ]
  },
  {
   "cell_type": "code",
   "execution_count": 31,
   "metadata": {
    "collapsed": true
   },
   "outputs": [],
   "source": [
    "del sa\n",
    "del fc"
   ]
  },
  {
   "cell_type": "markdown",
   "metadata": {},
   "source": [
    "## Tax bill"
   ]
  },
  {
   "cell_type": "code",
   "execution_count": 24,
   "metadata": {
    "collapsed": false
   },
   "outputs": [
    {
     "data": {
      "text/plain": [
       "PROPERTY_NUMBER\n",
       "007-05-021          0\n",
       "007-05-023          0\n",
       "007-24-114          0\n",
       "007-24-115     975.01\n",
       "007-09-045      98.02\n",
       "007-09-048          0\n",
       "007-09-050          0\n",
       "007-09-051          0\n",
       "007-09-052          0\n",
       "007-06-081    3450.54\n",
       "007-06-082          0\n",
       "007-06-086          0\n",
       "007-06-095          0\n",
       "007-06-098     284.31\n",
       "007-06-099     259.47\n",
       "007-07-002          0\n",
       "007-07-004          0\n",
       "007-07-005          0\n",
       "006-29-035     207.68\n",
       "006-29-037          0\n",
       "006-29-039          0\n",
       "006-29-041     296.37\n",
       "006-29-053          0\n",
       "006-29-058          0\n",
       "006-29-059          0\n",
       "006-29-060          0\n",
       "006-29-061          0\n",
       "006-29-063          0\n",
       "006-29-064     836.94\n",
       "007-05-031          0\n",
       "               ...   \n",
       "007-19-067     620.31\n",
       "114-04-068          0\n",
       "022-19-056          0\n",
       "112-03-011          0\n",
       "110-29-108    1200.17\n",
       "022-28-138          0\n",
       "117-38-034          0\n",
       "028-30-060    4593.98\n",
       "110-26-112    1992.83\n",
       "002-32-153          0\n",
       "020-07-062      312.7\n",
       "141-22-070          0\n",
       "015-09-084          0\n",
       "134-05-103     267.81\n",
       "132-12-033     1681.4\n",
       "140-17-085          0\n",
       "132-11-099          0\n",
       "010-17-043          0\n",
       "023-05-071          0\n",
       "135-18-129     528.22\n",
       "140-19-002    1365.35\n",
       "139-19-016          0\n",
       "006-10-071          0\n",
       "135-09-014     893.57\n",
       "024-29-085          0\n",
       "130-17-109          0\n",
       "013-22-012          0\n",
       "128-22-099          0\n",
       "115-27-095          0\n",
       "115-10-043     518.93\n",
       "Name: GRAND_TOTAL_BALANCE, dtype: object"
      ]
     },
     "execution_count": 24,
     "metadata": {},
     "output_type": "execute_result"
    }
   ],
   "source": [
    "tb2.GRAND_TOTAL_BALANCE"
   ]
  },
  {
   "cell_type": "code",
   "execution_count": 13,
   "metadata": {
    "collapsed": false
   },
   "outputs": [
    {
     "data": {
      "text/plain": [
       "0    125.04\n",
       "1    232.22\n",
       "2         0\n",
       "3    440.08\n",
       "4    637.62\n",
       "Name: GRAND_TOTAL_BALANCE, dtype: object"
      ]
     },
     "execution_count": 13,
     "metadata": {},
     "output_type": "execute_result"
    }
   ],
   "source": [
    "tb.GRAND_TOTAL_BALANCE.head()"
   ]
  },
  {
   "cell_type": "code",
   "execution_count": 32,
   "metadata": {
    "collapsed": false
   },
   "outputs": [],
   "source": [
    "tb2 = pd.read_csv(path+'/data/clean_data/taxbill_sep14.csv', dtype=object)"
   ]
  },
  {
   "cell_type": "code",
   "execution_count": 33,
   "metadata": {
    "collapsed": false
   },
   "outputs": [],
   "source": [
    "tb = pd.read_csv(path+'/data/clean_data/taxbill_may15.csv', dtype=object)"
   ]
  },
  {
   "cell_type": "code",
   "execution_count": 14,
   "metadata": {
    "collapsed": false
   },
   "outputs": [
    {
     "data": {
      "image/png": "[encoded data removed]",
      "text/plain": [
       "<matplotlib.figure.Figure at 0x1211cf9b0>"
      ]
     },
     "metadata": {},
     "output_type": "display_data"
    }
   ],
   "source": [
    "plt.hist(tb.TAX_MARKET_LAND.apply(float),np.linspace(0,50000));"
   ]
  },
  {
   "cell_type": "code",
   "execution_count": 37,
   "metadata": {
    "collapsed": false
   },
   "outputs": [
    {
     "data": {
      "image/png": "[encoded data removed]",
      "text/plain": [
       "<matplotlib.figure.Figure at 0x129ab9dd8>"
      ]
     },
     "metadata": {},
     "output_type": "display_data"
    }
   ],
   "source": [
    "plt.hist(tb.TAX_ASSESSED_LAND.apply(float),np.linspace(0,50000));"
   ]
  },
  {
   "cell_type": "code",
   "execution_count": 42,
   "metadata": {
    "collapsed": true
   },
   "outputs": [],
   "source": [
    "tb = tb.fillna(0)\n",
    "tb2 = tb2.fillna(0)"
   ]
  },
  {
   "cell_type": "code",
   "execution_count": null,
   "metadata": {
    "collapsed": true
   },
   "outputs": [],
   "source": [
    "del "
   ]
  },
  {
   "cell_type": "code",
   "execution_count": 35,
   "metadata": {
    "collapsed": false
   },
   "outputs": [],
   "source": [
    "tb = tb.set_index('PROPERTY_NUMBER')\n",
    "tb2 = tb2.set_index('PROPERTY_NUMBER')"
   ]
  },
  {
   "cell_type": "code",
   "execution_count": 36,
   "metadata": {
    "collapsed": false
   },
   "outputs": [],
   "source": [
    "tci = pd.merge(tci, tb[['TAX_ASSESSED_LAND','TAX_MARKET_LAND','LENDER_PROCESS_TYPE','GRAND_TOTAL_BALANCE']], left_on='parcel', right_index=True,how='left')\n"
   ]
  },
  {
   "cell_type": "code",
   "execution_count": 37,
   "metadata": {
    "collapsed": true
   },
   "outputs": [],
   "source": [
    "tci.loc[tci.LENDER_PROCESS_TYPE==0,'LENDER_PROCESS_TYPE'] = 'None'"
   ]
  },
  {
   "cell_type": "code",
   "execution_count": 39,
   "metadata": {
    "collapsed": false
   },
   "outputs": [],
   "source": [
    "tb2 = tb2.rename(columns={'GRAND_TOTAL_BALANCE':'GRAND_TOTAL_BALANCE_14'})\n",
    "tci = pd.merge(tci, tb2[['GRAND_TOTAL_BALANCE_14']], left_on='parcel', right_index=True,how='left')"
   ]
  },
  {
   "cell_type": "code",
   "execution_count": 40,
   "metadata": {
    "collapsed": false
   },
   "outputs": [
    {
     "data": {
      "text/plain": [
       "(113132, 57)"
      ]
     },
     "execution_count": 40,
     "metadata": {},
     "output_type": "execute_result"
    }
   ],
   "source": [
    "tci.shape"
   ]
  },
  {
   "cell_type": "code",
   "execution_count": 43,
   "metadata": {
    "collapsed": true
   },
   "outputs": [],
   "source": [
    "tci = tci.fillna(0)"
   ]
  },
  {
   "cell_type": "code",
   "execution_count": 44,
   "metadata": {
    "collapsed": true
   },
   "outputs": [],
   "source": [
    "tci.to_csv(path+'/data/model_data/tci_2_3.csv',index=False)"
   ]
  },
  {
   "cell_type": "code",
   "execution_count": 45,
   "metadata": {
    "collapsed": false
   },
   "outputs": [
    {
     "name": "stdout",
     "output_type": "stream",
     "text": [
      "<class 'pandas.core.frame.DataFrame'>\n",
      "Int64Index: 113132 entries, 0 to 113131\n",
      "Data columns (total 57 columns):\n",
      "parcel                    113132 non-null object\n",
      "vacant                    113132 non-null int64\n",
      "Date                      113132 non-null datetime64[ns]\n",
      "Survey Category           113132 non-null object\n",
      "Survey Grade              113132 non-null object\n",
      "propsize                  113132 non-null float64\n",
      "totusabl                  113132 non-null float64\n",
      "tmktval                   113132 non-null float64\n",
      "condition13               113132 non-null object\n",
      "condition14               113132 non-null object\n",
      "condition_value13         113132 non-null float64\n",
      "condition_value14         113132 non-null float64\n",
      "style_filtered            113132 non-null object\n",
      "ownerocc_value            113132 non-null float64\n",
      "totbldgs                  113132 non-null float64\n",
      "yrbuilt_filtered          113132 non-null float64\n",
      "rextwall                  113132 non-null object\n",
      "vacant_block              113132 non-null float64\n",
      "median_rent               113132 non-null float64\n",
      "property_crimes           113132 non-null float64\n",
      "burglaries                113132 non-null float64\n",
      "part_one_crimes           113132 non-null float64\n",
      "part_two_crimes           113132 non-null float64\n",
      "bachelors+                113132 non-null float64\n",
      "poverty_rate              113132 non-null float64\n",
      "median_hh_income          113132 non-null float64\n",
      "white                     113132 non-null float64\n",
      "black                     113132 non-null float64\n",
      "asian                     113132 non-null float64\n",
      "other                     113132 non-null float64\n",
      "hispanic                  113132 non-null float64\n",
      "young                     113132 non-null float64\n",
      "middle                    113132 non-null float64\n",
      "old                       113132 non-null float64\n",
      "al_num                    113132 non-null float64\n",
      "al_date                   113132 non-null object\n",
      "al_days                   113132 non-null int64\n",
      "t_days                    113132 non-null int64\n",
      "t_shf_deed                113132 non-null float64\n",
      "t_num                     113132 non-null float64\n",
      "lb_acquired               113132 non-null int64\n",
      "lb_tax_fc                 113132 non-null int64\n",
      "pv_total                  113132 non-null float64\n",
      "v_total_1yr               113132 non-null float64\n",
      "v_total_2yr               113132 non-null float64\n",
      "c_ovv_2yr                 113132 non-null float64\n",
      "c_ovv_1yr                 113132 non-null float64\n",
      "active_fc                 113132 non-null float64\n",
      "fc_1yr                    113132 non-null float64\n",
      "fc_2yr                    113132 non-null float64\n",
      "fc_days                   113132 non-null float64\n",
      "sa_days                   113132 non-null float64\n",
      "TAX_ASSESSED_LAND         113132 non-null object\n",
      "TAX_MARKET_LAND           113132 non-null object\n",
      "LENDER_PROCESS_TYPE       113132 non-null object\n",
      "GRAND_TOTAL_BALANCE       113132 non-null object\n",
      "GRAND_TOTAL_BALANCE_14    113132 non-null object\n",
      "dtypes: datetime64[ns](1), float64(38), int64(5), object(13)\n",
      "memory usage: 50.1+ MB\n"
     ]
    }
   ],
   "source": [
    "tci.info()"
   ]
  },
  {
   "cell_type": "code",
   "execution_count": null,
   "metadata": {
    "collapsed": true
   },
   "outputs": [],
   "source": []
  }
 ],
 "metadata": {
  "kernelspec": {
   "display_name": "Python 3",
   "language": "python",
   "name": "python3"
  },
  "language_info": {
   "codemirror_mode": {
    "name": "ipython",
    "version": 3
   },
   "file_extension": ".py",
   "mimetype": "text/x-python",
   "name": "python",
   "nbconvert_exporter": "python",
   "pygments_lexer": "ipython3",
   "version": "3.4.3"
  }
 },
 "nbformat": 4,
 "nbformat_minor": 0
}
