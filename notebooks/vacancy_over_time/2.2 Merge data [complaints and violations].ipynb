{
 "cells": [
  {
   "cell_type": "code",
   "execution_count": 1,
   "metadata": {
    "collapsed": false
   },
   "outputs": [
    {
     "name": "stdout",
     "output_type": "stream",
     "text": [
      "/Volumes/Dropbox/largetransfer/luc/carter\n"
     ]
    },
    {
     "data": {
      "text/plain": [
       "(113132, 6)"
      ]
     },
     "execution_count": 1,
     "metadata": {},
     "output_type": "execute_result"
    }
   ],
   "source": [
    "import matplotlib.pyplot as plt\n",
    "import seaborn as sns\n",
    "import pandas as pd\n",
    "import numpy as np\n",
    "import os\n",
    "import datetime as dt\n",
    "%matplotlib inline\n",
    "sns.set_context('notebook')\n",
    "\n",
    "path = '/'.join(os.getcwd().split('/')[:-2])\n",
    "print(path)\n",
    "\n",
    "tci = pd.read_csv(path+'/data/model_data/tci_1_0.csv', parse_dates=['Date'], dtype={'PIN': str})\n",
    "cols = ['parcel','vacant','Date','Survey Category','Survey Grade','SPA_NAME']\n",
    "tci = tci[cols]\n",
    "tci.shape "
   ]
  },
  {
   "cell_type": "code",
   "execution_count": 2,
   "metadata": {
    "collapsed": false
   },
   "outputs": [],
   "source": [
    "rng = pd.date_range('10/1/2009', periods=23, freq='3MS')"
   ]
  },
  {
   "cell_type": "code",
   "execution_count": 5,
   "metadata": {
    "collapsed": false
   },
   "outputs": [],
   "source": [
    "# violations\n",
    "vs = pd.read_csv(path+'/data/clean_data/violations.csv', parse_dates = [1,4])\n",
    "# complaints\n",
    "cp = pd.read_csv(path+'/data/clean_data/complaints.csv', parse_dates = [2], index_col=[0], dtype=str)\n",
    "cp = cp.sort_values('c_file_date', ascending=True)"
   ]
  },
  {
   "cell_type": "code",
   "execution_count": 8,
   "metadata": {
    "collapsed": false
   },
   "outputs": [],
   "source": [
    "for date in rng:\n",
    "\n",
    "    # get last entry for each ID number\n",
    "    vs_copy = vs[vs.v_file_date<=date].groupby('VIN').last().reset_index()\n",
    "    # get the total number of violations for the last year\n",
    "    vs_copy2 = vs_copy.loc[vs_copy.v_file_date > date-pd.DateOffset(years=1), ['parcel','v_file_date']]\\\n",
    "                    .groupby('parcel').count()\n",
    "    vs_copy2 = vs_copy2.rename(columns={'v_file_date':'v_total_1yr'})\n",
    "    # merge total into df\n",
    "    df = pd.merge(tci, vs_copy2[['v_total_1yr']], \\\n",
    "               how='left', left_on='parcel', right_index=True)\n",
    "    df.loc[df.v_total_1yr.isnull(), 'v_total_1yr'] = 0\n",
    "    #  get the total number of violations in last 2 years\n",
    "    vs_copy2 = vs_copy.loc[vs_copy.v_file_date > date-pd.DateOffset(years=2), ['parcel','v_file_date']]\\\n",
    "                .groupby('parcel').count()\n",
    "    vs_copy2 = vs_copy2.rename(columns={'v_file_date':'v_total_2yr'})\n",
    "    # merge into df\n",
    "    df = pd.merge(df, vs_copy2[['v_total_2yr']], \\\n",
    "               how='left', left_on='parcel', right_index=True)\n",
    "    df.loc[df.v_total_2yr.isnull(), 'v_total_2yr'] = 0\n",
    "    \n",
    "    # get complaints in time period\n",
    "    cp_copy = cp[(cp.c_file_date<=date) & (cp.c_file_date > dt.datetime(2006,1,1))]\n",
    "#     &(cp.c_type_of_complaint=='O.V.V.')]\\\n",
    "#                     .groupby('complaint_id').last().reset_index()\n",
    "    # cp_copy2 = cp_copy[['parcel','c_file_date']].groupby('parcel').last().reset_index()\n",
    "    # get parcels that have had a closed-board up request during the time period\n",
    "    df.loc[df.parcel.isin(cp_copy.loc[(cp_copy.c_wf_task_status=='Closed-Board Up Requested'),'parcel']),'boarded'] = 1\n",
    "    df.loc[df.boarded.isnull(),'boarded'] = 0\n",
    "    \n",
    "    #     df = pd.merge(df, cp_copy.loc[(cp_copy.c_wf_task_status=='Closed-Board Up Requested'),\\\n",
    "#                                   ['c_file_date','parcel']]\\\n",
    "#                    .groupby('parcel')\\\n",
    "#                    .last()\\\n",
    "#                         ,how='left', left_on='parcel', right_index=True)\n",
    "#     df = df.rename(columns = {'c_file_date':'days_since_ovv_board_up'})\n",
    "    \n",
    "#     df.loc[df.days_since_ovv_board_up.isnull(),'days_since_ovv_board_up'] = dt.datetime(2006,1,1)\n",
    "#     df['days_since_ovv_board_up'] = tci.apply(lambda x: (x.Date-x.days_since_ovv_board_up).days, axis=1)\n",
    "\n",
    "#     df = pd.merge(df, cp_copy.loc[(cp_copy.c_file_date > dt.datetime(2006,1,1))\\\n",
    "#                                     &(cp.c_wf_task_status=='Closed-Board Up Requested'),['c_file_date','parcel']]\\\n",
    "#                    .groupby('parcel')\\\n",
    "#                    .agg(lambda x: len(x)\\\n",
    "#                         /((dates[x.parcel.iloc[0]] - dt.datetime(2006,1,1)).days/365.0))\\\n",
    "#                         ,how='left', left_on='parcel', right_index=True)\n",
    "#     tci = tci.rename(columns = {'c_file_date':'c_ovv_board_num'})\n",
    "#     tci.loc[tci.c_ovv_board_num.isnull(),'c_ovv_board_num'] = 0\n",
    "    cp_copy = cp_copy.groupby('complaint_id').last().reset_index()\n",
    "    # days since most recent OVV complaint\n",
    "    df = pd.merge(df, cp_copy.loc[(cp_copy.c_type_of_complaint=='O.V.V.')\\\n",
    "                                  ,['c_file_date','parcel']]\\\n",
    "                   .groupby('parcel')\\\n",
    "                   .last(), how='left', left_on='parcel', right_index=True)\n",
    "    df = df.rename(columns = {'c_file_date':'days_since_ovv'})\n",
    "    df.loc[df.days_since_ovv.isnull(),'days_since_ovv'] = dt.datetime(2006,1,1)\n",
    "    df['days_since_ovv'] = df.apply(lambda x: (date-x.days_since_ovv).days, axis=1)\n",
    "    \n",
    "    # average number of OVV complaints per year since 2006\n",
    "    df = pd.merge(df, cp_copy.loc[(cp_copy.c_file_date > dt.datetime(2006,1,1)) & (cp_copy.c_type_of_complaint=='O.V.V.'),\\\n",
    "                                  ['c_file_date','parcel']]\\\n",
    "                   .groupby('parcel')\\\n",
    "                   .agg(lambda x: len(x)\\\n",
    "                        /((date - dt.datetime(2006,1,1)).days/365.0))\\\n",
    "                        ,how='left', left_on='parcel', right_index=True)\n",
    "    df = df.rename(columns = {'c_file_date':'c_ovv_num'})\n",
    "    df.loc[df.c_ovv_num.isnull(),'c_ovv_num'] = 0\n",
    "#     break\n",
    "    df.to_csv(path+'/data/model_data/tci_2_2_'+str(date.year)+'_'+str(date.month)+'.csv', index=False)"
   ]
  },
  {
   "cell_type": "code",
   "execution_count": 7,
   "metadata": {
    "collapsed": false
   },
   "outputs": [
    {
     "name": "stdout",
     "output_type": "stream",
     "text": [
      "<class 'pandas.core.frame.DataFrame'>\n",
      "Int64Index: 113132 entries, 0 to 113131\n",
      "Data columns (total 11 columns):\n",
      "parcel             113132 non-null object\n",
      "vacant             113132 non-null int64\n",
      "Date               113132 non-null datetime64[ns]\n",
      "Survey Category    113132 non-null object\n",
      "Survey Grade       113132 non-null object\n",
      "SPA_NAME           113132 non-null object\n",
      "v_total_1yr        113132 non-null float64\n",
      "v_total_2yr        113132 non-null float64\n",
      "boarded            113132 non-null float64\n",
      "days_since_ovv     113132 non-null int64\n",
      "c_ovv_num          113132 non-null float64\n",
      "dtypes: datetime64[ns](1), float64(4), int64(2), object(4)\n",
      "memory usage: 10.4+ MB\n"
     ]
    }
   ],
   "source": [
    "df.info()"
   ]
  },
  {
   "cell_type": "code",
   "execution_count": null,
   "metadata": {
    "collapsed": true
   },
   "outputs": [],
   "source": []
  }
 ],
 "metadata": {
  "kernelspec": {
   "display_name": "Python 3",
   "language": "python",
   "name": "python3"
  },
  "language_info": {
   "codemirror_mode": {
    "name": "ipython",
    "version": 3
   },
   "file_extension": ".py",
   "mimetype": "text/x-python",
   "name": "python",
   "nbconvert_exporter": "python",
   "pygments_lexer": "ipython3",
   "version": "3.4.4"
  }
 },
 "nbformat": 4,
 "nbformat_minor": 0
}
