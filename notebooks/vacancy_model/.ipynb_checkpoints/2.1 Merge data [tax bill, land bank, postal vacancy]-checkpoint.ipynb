{
 "cells": [
  {
   "cell_type": "markdown",
   "metadata": {},
   "source": [
    "# Combine Data (not from prop)\n",
    "\n",
    "Data has now been filtered for the parcel numbers in the existing dataset. The end goal is to have a dataset with one row for each parcel in which to build the model. **Imputation will occur in a separate notebook!**\n",
    "\n",
    "However, we can't forget to explore the existing data for trends or insight along the way, as well as engineer features as we see fit."
   ]
  },
  {
   "cell_type": "code",
   "execution_count": 1,
   "metadata": {
    "collapsed": false
   },
   "outputs": [
    {
     "name": "stdout",
     "output_type": "stream",
     "text": [
      "/Volumes/Dropbox/largetransfer/luc/carter\n"
     ]
    },
    {
     "name": "stderr",
     "output_type": "stream",
     "text": [
      "//anaconda/envs/data_sci/lib/python3.4/site-packages/matplotlib/__init__.py:872: UserWarning: axes.color_cycle is deprecated and replaced with axes.prop_cycle; please use the latter.\n",
      "  warnings.warn(self.msg_depr % (key, alt_key))\n"
     ]
    },
    {
     "data": {
      "text/plain": [
       "(113132, 6)"
      ]
     },
     "execution_count": 1,
     "metadata": {},
     "output_type": "execute_result"
    }
   ],
   "source": [
    "import matplotlib.pyplot as plt\n",
    "import seaborn as sns\n",
    "import pandas as pd\n",
    "import numpy as np\n",
    "import os\n",
    "import datetime as dt\n",
    "\n",
    "%matplotlib inline\n",
    "sns.set_context('notebook')\n",
    "\n",
    "\n",
    "path = '/'.join(os.getcwd().split('/')[:-2])\n",
    "print(path)\n",
    "\n",
    "tci = pd.read_csv(path+'/data/model_data/tci_1_0.csv', parse_dates=['Date'], dtype={'PIN': str})\n",
    "cols = ['parcel','vacant','Date','Survey Category','Survey Grade','SPA_NAME']\n",
    "tci = tci[cols]\n",
    "\n",
    "dates = dict(zip(tci.parcel, tci.Date))\n",
    "ppns = set(tci['parcel'])"
   ]
  },
  {
   "cell_type": "markdown",
   "metadata": {},
   "source": [
    "## County Land Bank"
   ]
  },
  {
   "cell_type": "code",
   "execution_count": 3,
   "metadata": {
    "collapsed": false
   },
   "outputs": [],
   "source": [
    "lb = pd.read_csv(path+'/data/clean_data/county_lb.csv')"
   ]
  },
  {
   "cell_type": "code",
   "execution_count": 4,
   "metadata": {
    "collapsed": false
   },
   "outputs": [
    {
     "name": "stdout",
     "output_type": "stream",
     "text": [
      "<class 'pandas.core.frame.DataFrame'>\n",
      "Int64Index: 1100 entries, 0 to 1099\n",
      "Data columns (total 16 columns):\n",
      "parcel            1100 non-null object\n",
      "disp_status       1100 non-null object\n",
      "p_source          1084 non-null object\n",
      "acq_dt            958 non-null object\n",
      "disp_dt           773 non-null object\n",
      "assessment        1043 non-null object\n",
      "demo_status       257 non-null object\n",
      "rehab_status      810 non-null object\n",
      "public_status     970 non-null object\n",
      "s_date            227 non-null object\n",
      "cclrc_dba_date    57 non-null object\n",
      "cclrc_dc_date     94 non-null object\n",
      "ab_proceed_dt     68 non-null object\n",
      "proceed_date      79 non-null object\n",
      "cclrc_dcp_date    53 non-null object\n",
      "out_type          835 non-null object\n",
      "dtypes: object(16)\n",
      "memory usage: 146.1+ KB\n"
     ]
    }
   ],
   "source": [
    "lb.info()"
   ]
  },
  {
   "cell_type": "code",
   "execution_count": 5,
   "metadata": {
    "collapsed": false
   },
   "outputs": [],
   "source": [
    "lb_ppns = set(lb[lb.disp_status=='Acquired'].parcel)\n",
    "\n",
    "def get_lb(x, lb_ppns):\n",
    "    if x in lb_ppns:\n",
    "        return 1\n",
    "    else:\n",
    "        return 0\n",
    "\n",
    "tci['lb_acquired'] = tci['parcel'].apply(lambda x: get_lb(x, lb_ppns))\n",
    "tci['lb_tax_fc'] = tci['parcel'].apply(lambda x: get_lb(x,set(lb[lb.p_source=='Tax Foreclosure'].parcel)))"
   ]
  },
  {
   "cell_type": "markdown",
   "metadata": {},
   "source": [
    "## Tax bill"
   ]
  },
  {
   "cell_type": "code",
   "execution_count": 9,
   "metadata": {
    "collapsed": true
   },
   "outputs": [],
   "source": [
    "# tb2 = pd.read_csv(path+'/data/clean_data/taxbill_sep14.csv', dtype=object)\n",
    "tb = pd.read_csv(path+'/data/clean_data/taxbill_may15.csv', dtype=object)"
   ]
  },
  {
   "cell_type": "code",
   "execution_count": 10,
   "metadata": {
    "collapsed": false
   },
   "outputs": [],
   "source": [
    "tb['TOTAL_NET_DELQ_BALANCE'] = tb['TOTAL_NET_DELQ_BALANCE'].apply(float)\n",
    "tb['GRAND_TOTAL_BALANCE'] = tb['GRAND_TOTAL_BALANCE'].apply(float)\n",
    "tb['GRAND_TOTAL_OWED'] = tb['GRAND_TOTAL_OWED'].apply(float)\n",
    "\n",
    "# create new variables, delinquent tax ratio and paid percent, fill with medians (0 and 1)\n",
    "tb['delq_total_ratio'] = tb['TOTAL_NET_DELQ_BALANCE']/tb['GRAND_TOTAL_OWED']\n",
    "tb['delq_total_ratio'] = tb['delq_total_ratio'].fillna(0)\n",
    "\n",
    "tb['paid_percent'] = tb.GRAND_TOTAL_PAID.apply(float)/tb.GRAND_TOTAL_OWED.apply(float)\n",
    "tb['paid_percent'] = tb['paid_percent'].fillna(1)\n",
    "\n",
    "tb = tb.fillna(0)\n",
    "# tb = tb.set_index('PROPERTY_NUMBER')\n",
    "cols = ['TOTAL_NET_DELQ_BALANCE','TAX_ASSESSED_LAND','TAX_MARKET_LAND',\\\n",
    "        'LENDER_PROCESS_TYPE','GRAND_TOTAL_BALANCE','GRAND_TOTAL_PAID',\\\n",
    "        'GRAND_TOTAL_OWED','delq_total_ratio','paid_percent','PROPERTY_NUMBER']\n",
    "\n",
    "cols2 = ['TOTAL_NET_DELQ_BALANCE','TAX_ASSESSED_LAND','TAX_MARKET_LAND',\\\n",
    "         'GRAND_TOTAL_BALANCE','GRAND_TOTAL_PAID',\\\n",
    "         'GRAND_TOTAL_OWED','delq_total_ratio','paid_percent']\n",
    "\n",
    "tb = tb.sort_values('date')\n",
    "\n",
    "df = pd.merge(df, tb.loc[tb.date<=date, cols].groupby('PROPERTY_NUMBER').last(),\\\n",
    "                  left_on='parcel', right_index=True,how='left')\n",
    "    # fill medians by neighborhood if possible, else by entire dataset\n",
    "    for var in cols2:\n",
    "        median_val = dict(df.loc[df[var].notnull(),[var,'SPA_NAME']].groupby('SPA_NAME').agg(np.median)[var])\n",
    "        df.loc[df[var].isnull(), var] = df.loc[df[var].isnull()]\\\n",
    "            .apply(lambda x: median_val[x.SPA_NAME] if x.SPA_NAME in median_val else np.median(df.loc[df[var].notnull()]), axis=1)\n",
    "    # fill lender process type\n",
    "    df.loc[df.LENDER_PROCESS_TYPE.isnull(),'LENDER_PROCESS_TYPE'] = 'None'\n"
   ]
  },
  {
   "cell_type": "code",
   "execution_count": 11,
   "metadata": {
    "collapsed": false
   },
   "outputs": [],
   "source": [
    "tci = pd.merge(tci, tb[cols], left_on='parcel', right_index=True,how='left')\n",
    "tci.loc[tci.LENDER_PROCESS_TYPE==0,'LENDER_PROCESS_TYPE'] = 'None'\n",
    "tb2 = tb2.rename(columns={'GRAND_TOTAL_BALANCE':'GRAND_TOTAL_BALANCE_14'})\n",
    "tci = pd.merge(tci, tb2[['GRAND_TOTAL_BALANCE_14']], left_on='parcel', right_index=True,how='left')\n",
    "\n",
    "del tb, tb2"
   ]
  },
  {
   "cell_type": "markdown",
   "metadata": {},
   "source": [
    "## Postal vacancy"
   ]
  },
  {
   "cell_type": "code",
   "execution_count": 12,
   "metadata": {
    "collapsed": false
   },
   "outputs": [],
   "source": [
    "pv = pd.read_csv(path+'/data/clean_data/postal_vacancy.csv', parse_dates=3, index_col=0)\n",
    "pv.date = pv.date.apply(lambda x: dt.datetime(int(x[0:4]),int(x[5:7]),int(x[8:10])))\n",
    "pv = pv.sort_values('date',ascending=False)"
   ]
  },
  {
   "cell_type": "code",
   "execution_count": 15,
   "metadata": {
    "collapsed": false
   },
   "outputs": [],
   "source": [
    "# dates = list()\n",
    "# tp = list()\n",
    "# tn = list()\n",
    "# fp = list()\n",
    "# fn = list()\n",
    "# for time in sorted(list(set(pv.date))):\n",
    "#     dates.append(time)\n",
    "#     pv2 = pd.merge(tci, pv[(pv.date==time)], how='left', left_on='parcel', right_on='PARCEL')\n",
    "#     pv2['vindall'] = pv2['vindall'].fillna('N')\n",
    "#     tem = pd.crosstab(pv2.vindall, pv2.vacant)\n",
    "#     tp.append(tem[1]['Y'])\n",
    "#     tn.append(tem[0]['N'])\n",
    "#     fp.append(tem[0]['Y'])\n",
    "#     fn.append(tem[1]['N'])\n",
    "    \n",
    "# # import matplotlib.dates as mdates\n",
    "# fig, ax = plt.subplots()\n",
    "\n",
    "# plt.plot(dates, tp)\n",
    "# # plt.plot(dates, tn)\n",
    "# plt.plot(dates, fp)\n",
    "# plt.plot(dates, fn);\n",
    "\n",
    "# x1,x2,y1,y2 = plt.axis()\n",
    "# plt.axis([x1,x2,0,y2]);\n",
    "# plt.legend(['Both predicted vacant','Vacant (only postal)','Vacant (only survey)'],'lower right');\n",
    "\n",
    "# fig.autofmt_xdate()\n",
    "\n",
    "# # fig.savefig(path+'/outputs/pv.png')"
   ]
  },
  {
   "cell_type": "code",
   "execution_count": 16,
   "metadata": {
    "collapsed": false
   },
   "outputs": [],
   "source": [
    "# pv2 = pd.merge(tci, pv[(pv.date==dt.datetime(2015,10,1))], how='left', left_on='parcel', right_on='PARCEL')\n",
    "# pv2['vindall'] = pv2['vindall'].fillna('N')\n",
    "# pd.crosstab(pv2.vindall, pv2.vacant)"
   ]
  },
  {
   "cell_type": "code",
   "execution_count": 17,
   "metadata": {
    "collapsed": false
   },
   "outputs": [],
   "source": [
    "# pv2 = pd.melt(pv.pivot(index='PARCEL',columns='date').fillna('N').reset_index(),id_vars='PARCEL',value_name='vindall')\n"
   ]
  },
  {
   "cell_type": "code",
   "execution_count": 20,
   "metadata": {
    "collapsed": false
   },
   "outputs": [],
   "source": [
    "def fun(x):\n",
    "    total = 0\n",
    "#     print(dates[x.parcel])\n",
    "    recent = pv_dates[pv_dates<dates[x.parcel]]\n",
    "\n",
    "    for i,j in enumerate(x[recent]):\n",
    "        if x[recent][-i-1] == 'Y':\n",
    "            total += 1\n",
    "        else:\n",
    "            return total\n",
    "    return total\n",
    "\n",
    "pv_dates = pv.groupby('date').last().index\n",
    "pv2 = pv.pivot(index='PARCEL',columns='date').fillna('N').reset_index()\n",
    "pv2.columns = pv2.columns.droplevel()\n",
    "pv2.columns.values[0] = 'parcel'\n",
    "pv2['pv_count'] = pv2.apply(fun, axis=1)\n",
    "pv2 = pv2.set_index('parcel')"
   ]
  },
  {
   "cell_type": "code",
   "execution_count": 25,
   "metadata": {
    "collapsed": false
   },
   "outputs": [],
   "source": [
    "tci = pd.merge(tci, pv2[['pv_count']], how='left', left_on='parcel',right_index=True)\n",
    "tci['pv_count'] = tci['pv_count'].fillna(0)"
   ]
  },
  {
   "cell_type": "code",
   "execution_count": 206,
   "metadata": {
    "collapsed": false
   },
   "outputs": [],
   "source": [
    "# tci.loc[tci.pv_count>0,'pv_count2'] = 1\n",
    "# tci.loc[tci.pv_count==0,'pv_count2'] = 0"
   ]
  },
  {
   "cell_type": "code",
   "execution_count": 207,
   "metadata": {
    "collapsed": false
   },
   "outputs": [],
   "source": [
    "# tci.loc[tci.delq_total_ratio>0.7,'del_ratio'] = 1\n",
    "# tci.loc[tci.delq_total_ratio<=0.7,'del_ratio'] = 0"
   ]
  },
  {
   "cell_type": "code",
   "execution_count": 208,
   "metadata": {
    "collapsed": false
   },
   "outputs": [],
   "source": [
    "# t = tci[(tci.pv_count2==1) & (tci.del_ratio==1)].vacant\n",
    "# print(sum(t),len(t))\n",
    "\n",
    "# t = tci[(tci.pv_count2==0) & (tci.del_ratio==1)].vacant\n",
    "# print(sum(t),len(t))\n",
    "\n",
    "# t = tci[(tci.pv_count2==1) & (tci.del_ratio==0)].vacant\n",
    "# print(sum(t),len(t))\n",
    "\n",
    "# t = tci[(tci.pv_count2==0) & (tci.del_ratio==0)].vacant\n",
    "# print(sum(t),len(t))\n"
   ]
  },
  {
   "cell_type": "code",
   "execution_count": 26,
   "metadata": {
    "collapsed": true
   },
   "outputs": [],
   "source": [
    "cols = list(tci.columns)\n",
    "cols.remove('vacant')\n",
    "cols.remove('Date')"
   ]
  },
  {
   "cell_type": "code",
   "execution_count": 27,
   "metadata": {
    "collapsed": false
   },
   "outputs": [],
   "source": [
    "tci[cols].to_csv(path+'/data/model_data/tci_2_1.csv', index=False)"
   ]
  },
  {
   "cell_type": "code",
   "execution_count": 28,
   "metadata": {
    "collapsed": false
   },
   "outputs": [
    {
     "data": {
      "text/plain": [
       "Index(['parcel', 'Date', 'vacant', 'lb_acquired', 'lb_tax_fc',\n",
       "       'TOTAL_NET_DELQ_BALANCE', 'TAX_ASSESSED_LAND', 'TAX_MARKET_LAND',\n",
       "       'LENDER_PROCESS_TYPE', 'GRAND_TOTAL_BALANCE', 'GRAND_TOTAL_PAID',\n",
       "       'delq_total_ratio', 'paid_percent', 'GRAND_TOTAL_BALANCE_14',\n",
       "       'pv_count'],\n",
       "      dtype='object')"
      ]
     },
     "execution_count": 28,
     "metadata": {},
     "output_type": "execute_result"
    }
   ],
   "source": [
    "tci.columns"
   ]
  },
  {
   "cell_type": "code",
   "execution_count": 29,
   "metadata": {
    "collapsed": false
   },
   "outputs": [
    {
     "name": "stdout",
     "output_type": "stream",
     "text": [
      "<class 'pandas.core.frame.DataFrame'>\n",
      "Int64Index: 113132 entries, 0 to 113131\n",
      "Data columns (total 15 columns):\n",
      "parcel                    113132 non-null object\n",
      "Date                      113132 non-null datetime64[ns]\n",
      "vacant                    113132 non-null int64\n",
      "lb_acquired               113132 non-null int64\n",
      "lb_tax_fc                 113132 non-null int64\n",
      "TOTAL_NET_DELQ_BALANCE    113129 non-null float64\n",
      "TAX_ASSESSED_LAND         113129 non-null object\n",
      "TAX_MARKET_LAND           113129 non-null object\n",
      "LENDER_PROCESS_TYPE       113129 non-null object\n",
      "GRAND_TOTAL_BALANCE       113129 non-null float64\n",
      "GRAND_TOTAL_PAID          113129 non-null object\n",
      "delq_total_ratio          113129 non-null float64\n",
      "paid_percent              113129 non-null float64\n",
      "GRAND_TOTAL_BALANCE_14    113107 non-null float64\n",
      "pv_count                  113132 non-null float64\n",
      "dtypes: datetime64[ns](1), float64(6), int64(3), object(5)\n",
      "memory usage: 13.8+ MB\n"
     ]
    }
   ],
   "source": [
    "tci.info()"
   ]
  },
  {
   "cell_type": "code",
   "execution_count": null,
   "metadata": {
    "collapsed": true
   },
   "outputs": [],
   "source": []
  }
 ],
 "metadata": {
  "kernelspec": {
   "display_name": "Python 3",
   "language": "python",
   "name": "python3"
  },
  "language_info": {
   "codemirror_mode": {
    "name": "ipython",
    "version": 3
   },
   "file_extension": ".py",
   "mimetype": "text/x-python",
   "name": "python",
   "nbconvert_exporter": "python",
   "pygments_lexer": "ipython3",
   "version": "3.4.4"
  }
 },
 "nbformat": 4,
 "nbformat_minor": 0
}
