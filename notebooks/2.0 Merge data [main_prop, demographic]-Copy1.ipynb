{
 "cells": [
  {
   "cell_type": "markdown",
   "metadata": {},
   "source": [
    "# 2.0 Combine Data from ```prop.csv```\n",
    "\n",
    "Data has now been filtered for the parcel numbers in the existing dataset. The end goal is to have a dataset with one row for each parcel in which to build the model. **Imputation will occur in a separate notebook!**\n",
    "\n",
    "However, we can't forget to explore the existing data for trends or insight along the way, as well as engineer features as we see fit."
   ]
  },
  {
   "cell_type": "code",
   "execution_count": 1,
   "metadata": {
    "collapsed": false
   },
   "outputs": [
    {
     "name": "stdout",
     "output_type": "stream",
     "text": [
      "/Volumes/Dropbox/largetransfer/luc/carter\n"
     ]
    }
   ],
   "source": [
    "import matplotlib.pyplot as plt\n",
    "import seaborn as sns\n",
    "import pandas as pd\n",
    "import numpy as np\n",
    "import os\n",
    "\n",
    "%matplotlib inline\n",
    "sns.set_context('notebook')\n",
    "\n",
    "path = '/'.join(os.getcwd().split('/')[:-1])\n",
    "print(path)"
   ]
  },
  {
   "cell_type": "code",
   "execution_count": 22,
   "metadata": {
    "collapsed": false
   },
   "outputs": [
    {
     "data": {
      "text/plain": [
       "(113132, 6)"
      ]
     },
     "execution_count": 22,
     "metadata": {},
     "output_type": "execute_result"
    }
   ],
   "source": [
    "tci = pd.read_csv(path+'/data/model_data/tci_1_0.csv', parse_dates=['Date'], dtype={'PIN': str})\n",
    "cols = ['parcel','vacant','Date','Survey Category','Survey Grade','SPA_NAME']\n",
    "tci = tci[cols]\n",
    "tci.shape "
   ]
  },
  {
   "cell_type": "markdown",
   "metadata": {},
   "source": [
    "## Clean and merge data from property characteristics"
   ]
  },
  {
   "cell_type": "code",
   "execution_count": 27,
   "metadata": {
    "collapsed": false
   },
   "outputs": [],
   "source": [
    "# prop13 = pd.read_csv(path+'/data/clean_data/main_prop_filtered14.csv')\n",
    "# prop13 = prop13.drop_duplicates()\n",
    "# prop13 = prop13.set_index('parcel')"
   ]
  },
  {
   "cell_type": "code",
   "execution_count": 3,
   "metadata": {
    "collapsed": false
   },
   "outputs": [],
   "source": [
    "prop = pd.read_csv(path+'/data/clean_data/main_prop_filtered.csv')\n",
    "prop = prop.drop_duplicates()\n",
    "prop = prop.groupby('parcel').last()"
   ]
  },
  {
   "cell_type": "markdown",
   "metadata": {},
   "source": [
    "### Property size"
   ]
  },
  {
   "cell_type": "markdown",
   "metadata": {},
   "source": [
    "### Condition"
   ]
  },
  {
   "cell_type": "code",
   "execution_count": 23,
   "metadata": {
    "collapsed": false
   },
   "outputs": [
    {
     "name": "stdout",
     "output_type": "stream",
     "text": [
      "(113132, 10)\n"
     ]
    }
   ],
   "source": [
    "# unsound\n",
    "# very poor\n",
    "# poor\n",
    "# fair\n",
    "# average\n",
    "# good\n",
    "# very good\n",
    "# excellent\n",
    "# sound\n",
    "\n",
    "tci = pd.merge(tci, prop[['condition13']], how='left', left_on='parcel', right_index=True)\n",
    "tci = pd.merge(tci, prop[['condition14']], how='left', left_on='parcel', right_index=True)\n",
    "\n",
    "condition_value = {'Unsound': 0, 'Sound value (c)': 1, 'Very poor': 2, 'Poor': 3, 'Fair': 4, 'Average': 5, \\\n",
    "                   'Good': 6, 'Very good': 7, 'Excellent': 8,}\n",
    "\n",
    "prop.loc[prop['condition13'].notnull(),'condition_value13'] = \\\n",
    "    prop.loc[prop['condition13'].notnull(),'condition13'].apply(lambda x: condition_value[x])\n",
    "    \n",
    "tci = pd.merge(tci, prop[['condition_value13']], how='left', left_on='parcel', right_index=True)\n",
    "# tci.loc[tci.condition_value13.isnull(),'condition_value13'] = \\\n",
    "#     np.median(tci.loc[tci.condition_value13.notnull(),'condition_value13'])\n",
    "\n",
    "\n",
    "prop.loc[prop['condition14'].notnull(),'condition_value14'] = \\\n",
    "    prop.loc[prop['condition14'].notnull(),'condition14'].apply(lambda x: condition_value[x])\n",
    "    \n",
    "tci = pd.merge(tci, prop[['condition_value14']], how='outer', left_on='parcel', right_index=True)\n",
    "# tci.loc[tci.condition_value14.isnull(),'condition_value14'] = \\\n",
    "#     np.median(tci.loc[tci.condition_value14.notnull(),'condition_value14'])\n",
    "    \n",
    "print(tci.shape)"
   ]
  },
  {
   "cell_type": "code",
   "execution_count": 30,
   "metadata": {
    "collapsed": false
   },
   "outputs": [],
   "source": [
    "tci['survey'] = tci['Survey Grade'].apply(lambda x: '0 A, B, C' if x in ['A','B','C'] else '1 D, F' if x in ['D','F'] else ' Missing')"
   ]
  },
  {
   "cell_type": "code",
   "execution_count": 25,
   "metadata": {
    "collapsed": false
   },
   "outputs": [
    {
     "data": {
      "text/plain": [
       "{'Average',\n",
       " 'Excellent',\n",
       " 'Fair',\n",
       " 'Good',\n",
       " 'Poor',\n",
       " 'Sound value (c)',\n",
       " 'Unsound',\n",
       " 'Very good',\n",
       " 'Very poor'}"
      ]
     },
     "execution_count": 25,
     "metadata": {},
     "output_type": "execute_result"
    }
   ],
   "source": [
    "set(tci[tci.condition14.notnull()].condition14)"
   ]
  },
  {
   "cell_type": "code",
   "execution_count": 33,
   "metadata": {
    "collapsed": false
   },
   "outputs": [
    {
     "data": {
      "text/plain": [
       "(5429, 12)"
      ]
     },
     "execution_count": 33,
     "metadata": {},
     "output_type": "execute_result"
    }
   ],
   "source": [
    "tci[tci['Survey Grade'].isin(['D','F'])].shape"
   ]
  },
  {
   "cell_type": "code",
   "execution_count": 31,
   "metadata": {
    "collapsed": true
   },
   "outputs": [],
   "source": [
    "tci['condition'] = tci['condition14'].apply(lambda x: '1 Bad' if x in ['Poor','Unsound','Sound value (c)','Very poor'] else '0 Not bad' if x in ['Good','Fair','Excellent','Average'] else ' Missing')"
   ]
  },
  {
   "cell_type": "code",
   "execution_count": 32,
   "metadata": {
    "collapsed": false
   },
   "outputs": [
    {
     "data": {
      "text/html": [
       "<div>\n",
       "<table border=\"1\" class=\"dataframe\">\n",
       "  <thead>\n",
       "    <tr style=\"text-align: right;\">\n",
       "      <th>condition</th>\n",
       "      <th>Missing</th>\n",
       "      <th>0 Not bad</th>\n",
       "      <th>1 Bad</th>\n",
       "    </tr>\n",
       "    <tr>\n",
       "      <th>survey</th>\n",
       "      <th></th>\n",
       "      <th></th>\n",
       "      <th></th>\n",
       "    </tr>\n",
       "  </thead>\n",
       "  <tbody>\n",
       "    <tr>\n",
       "      <th>Missing</th>\n",
       "      <td>14</td>\n",
       "      <td>92</td>\n",
       "      <td>17</td>\n",
       "    </tr>\n",
       "    <tr>\n",
       "      <th>0 A, B, C</th>\n",
       "      <td>888</td>\n",
       "      <td>100652</td>\n",
       "      <td>6040</td>\n",
       "    </tr>\n",
       "    <tr>\n",
       "      <th>1 D, F</th>\n",
       "      <td>71</td>\n",
       "      <td>2748</td>\n",
       "      <td>2610</td>\n",
       "    </tr>\n",
       "  </tbody>\n",
       "</table>\n",
       "</div>"
      ],
      "text/plain": [
       "condition   Missing  0 Not bad  1 Bad\n",
       "survey                               \n",
       " Missing         14         92     17\n",
       "0 A, B, C       888     100652   6040\n",
       "1 D, F           71       2748   2610"
      ]
     },
     "execution_count": 32,
     "metadata": {},
     "output_type": "execute_result"
    }
   ],
   "source": [
    "pd.crosstab(tci.survey, tci['condition'])"
   ]
  },
  {
   "cell_type": "code",
   "execution_count": null,
   "metadata": {
    "collapsed": true
   },
   "outputs": [],
   "source": []
  }
 ],
 "metadata": {
  "kernelspec": {
   "display_name": "Python 2",
   "language": "python",
   "name": "python2"
  },
  "language_info": {
   "codemirror_mode": {
    "name": "ipython",
    "version": 2
   },
   "file_extension": ".py",
   "mimetype": "text/x-python",
   "name": "python",
   "nbconvert_exporter": "python",
   "pygments_lexer": "ipython2",
   "version": "2.7.11"
  }
 },
 "nbformat": 4,
 "nbformat_minor": 0
}
